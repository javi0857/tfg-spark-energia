{
 "cells": [
  {
   "cell_type": "code",
   "execution_count": 1,
   "metadata": {},
   "outputs": [
    {
     "name": "stdout",
     "output_type": "stream",
     "text": [
      "Loading spark-stubs\n",
      "Getting spark JARs\n",
      "Creating SparkSession\n"
     ]
    },
    {
     "name": "stderr",
     "output_type": "stream",
     "text": [
      "Using Spark's default log4j profile: org/apache/spark/log4j-defaults.properties\n"
     ]
    },
    {
     "data": {
      "text/html": [
       "<a href=\"http://264ccb78965f:4041\">Spark UI</a>"
      ]
     },
     "metadata": {},
     "output_type": "display_data"
    },
    {
     "data": {
      "text/plain": [
       "\u001b[32mimport \u001b[39m\u001b[36m$ivy.$                                  \n",
       "\n",
       "\n",
       "\u001b[39m\n",
       "\u001b[32mimport \u001b[39m\u001b[36morg.apache.spark.sql._\n",
       "\u001b[39m\n",
       "\u001b[32mimport \u001b[39m\u001b[36morg.apache.spark.sql.functions._\n",
       "\u001b[39m\n",
       "\u001b[32mimport \u001b[39m\u001b[36morg.apache.spark.sql.expressions.Window\n",
       "\n",
       "\n",
       "\n",
       "//Reducir numero logs\n",
       "\u001b[39m\n",
       "\u001b[32mimport \u001b[39m\u001b[36morg.apache.log4j.{Level, Logger}\n",
       "\u001b[39m\n",
       "\u001b[32mimport \u001b[39m\u001b[36m$ivy.$                               \n",
       "\n",
       "//Plotly\n",
       "\u001b[39m\n",
       "\u001b[32mimport \u001b[39m\u001b[36m$ivy.$                                      \n",
       "\u001b[39m\n",
       "\u001b[32mimport \u001b[39m\u001b[36mplotly._, plotly.element._, plotly.layout._, plotly.Almond._\n",
       "\n",
       "\n",
       "//Iniciamos session de Spark\n",
       "\u001b[39m\n",
       "\u001b[36mspark\u001b[39m: \u001b[32mSparkSession\u001b[39m = org.apache.spark.sql.SparkSession@36cac8d\n",
       "\u001b[32mimport \u001b[39m\u001b[36mspark.implicits._\u001b[39m"
      ]
     },
     "execution_count": 1,
     "metadata": {},
     "output_type": "execute_result"
    }
   ],
   "source": [
    "import $ivy.`org.apache.spark::spark-sql:2.4.3`\n",
    "\n",
    "\n",
    "import org.apache.spark.sql._\n",
    "import org.apache.spark.sql.functions._\n",
    "import org.apache.spark.sql.expressions.Window\n",
    "\n",
    "\n",
    "\n",
    "//Reducir numero logs\n",
    "import org.apache.log4j.{Level, Logger}\n",
    "Logger.getLogger(\"org\").setLevel(Level.OFF)\n",
    "\n",
    "\n",
    "//For adding extra dependenies\n",
    "import $ivy.`org.typelevel::cats-core:1.6.0`\n",
    "\n",
    "//Plotly\n",
    "import $ivy.`org.plotly-scala::plotly-almond:0.8.3`\n",
    "import plotly._, plotly.element._, plotly.layout._, plotly.Almond._\n",
    "\n",
    "\n",
    "//Iniciamos session de Spark\n",
    "val spark = {\n",
    "  NotebookSparkSession.builder()\n",
    "     .master(\"local[*]\")\n",
    "    //.config(\"spark.executor.instances\", \"4\") // Número de ejecutores\n",
    "    //.config(\"spark.executor.memory\", \"4g\") // Memoria por ejecutor\n",
    "    //.config(\"spark.executor.cores\", \"2\") // Núcleos por ejecutor\n",
    "    //.config(\"spark.driver.memory\", \"4g\") // Memoria del driver\n",
    "    //.config(\"spark.sql.shuffle.partitions\", \"8\") // Número de particiones para operaciones de shuffle\n",
    "    .getOrCreate()\n",
    "}\n",
    "import spark.implicits._"
   ]
  },
  {
   "cell_type": "code",
   "execution_count": 2,
   "metadata": {},
   "outputs": [
    {
     "data": {
      "text/html": [
       "<script>\n",
       "var comm = Jupyter.notebook.kernel.comm_manager.new_comm('cancel-stage-a29e67f5-fd53-4c13-9dda-21beb074e1a3', {});\n",
       "\n",
       "function cancelStage(stageId) {\n",
       "  console.log('Cancelling stage ' + stageId);\n",
       "  comm.send({ 'stageId': stageId });\n",
       "}\n",
       "</script>\n",
       "          "
      ]
     },
     "metadata": {},
     "output_type": "display_data"
    },
    {
     "data": {
      "text/html": [
       "<div>\n",
       "  <span style=\"float: left;\">parquet at cmd1.sc:9</span>\n",
       "</div>\n"
      ]
     },
     "metadata": {},
     "output_type": "display_data"
    },
    {
     "data": {
      "text/html": [
       "<div class=\"progress\">\n",
       "  <div class=\"progress-bar\" role=\"progressbar\" style=\"background-color: blue; width: 100%; word-wrap: normal; white-space: nowrap; text-align: center; color: white\" aria-valuenow=\"100\" aria-valuemin=\"0\" aria-valuemax=\"100\">\n",
       "    1 / 1\n",
       "  </div>\n",
       "  <div class=\"progress-bar\" role=\"progressbar\" style=\"background-color: red; width: 0%\" aria-valuenow=\"0\" aria-valuemin=\"0\" aria-valuemax=\"100\"></div>\n",
       "</div>\n"
      ]
     },
     "metadata": {},
     "output_type": "display_data"
    },
    {
     "data": {
      "text/plain": [
       "\u001b[36mpathDatosConsulta1\u001b[39m: \u001b[32mString\u001b[39m = \u001b[32m\"../../data/parquet/dsDatosBalanceAnuales.parquet\"\u001b[39m\n",
       "\u001b[36mdatosConsulta1\u001b[39m: \u001b[32mDataFrame\u001b[39m = [Año: string, Familia: string ... 8 more fields]"
      ]
     },
     "execution_count": 2,
     "metadata": {},
     "output_type": "execute_result"
    }
   ],
   "source": [
    "val pathDatosConsulta1 = \"../../data/parquet/dsDatosBalanceAnuales.parquet\"\n",
    "\n",
    "\n",
    "val datosConsulta1: DataFrame = spark.read\n",
    "  //.option(\"header\", \"true\") // Si el archivo tiene un encabezado\n",
    "  //.option(\"inferSchema\", \"true\") // Para inferir automáticamente el esquema\n",
    "  //.csv(filePath)\n",
    "    .option(\"encoding\", \"UTF-8\")\n",
    "    .parquet(pathDatosConsulta1)"
   ]
  },
  {
   "cell_type": "code",
   "execution_count": 3,
   "metadata": {},
   "outputs": [
    {
     "data": {
      "text/html": [
       "<div>\n",
       "  <span style=\"float: left;\">show at cmd2.sc:1</span>\n",
       "</div>\n"
      ]
     },
     "metadata": {},
     "output_type": "display_data"
    },
    {
     "data": {
      "text/html": [
       "<div class=\"progress\">\n",
       "  <div class=\"progress-bar\" role=\"progressbar\" style=\"background-color: blue; width: 100%; word-wrap: normal; white-space: nowrap; text-align: center; color: white\" aria-valuenow=\"100\" aria-valuemin=\"0\" aria-valuemax=\"100\">\n",
       "    1 / 1\n",
       "  </div>\n",
       "  <div class=\"progress-bar\" role=\"progressbar\" style=\"background-color: red; width: 0%\" aria-valuenow=\"0\" aria-valuemin=\"0\" aria-valuemax=\"100\"></div>\n",
       "</div>\n"
      ]
     },
     "metadata": {},
     "output_type": "display_data"
    },
    {
     "name": "stdout",
     "output_type": "stream",
     "text": [
      "+----+------------+--------------------+---------+--------------+--------------------+---------------------------+-------------+--------------------+------------------------+\n",
      "| Año|     Familia|                Tipo|Compuesto|BajasEmisiones|          ValorAnual|PorcentajeAnualSobreFamilia|TotalGenerado|PorcentajeSobreTotal|PorcentajeBajasEmisiones|\n",
      "+----+------------+--------------------+---------+--------------+--------------------+---------------------------+-------------+--------------------+------------------------+\n",
      "|2011|   Renovable| Residuos renovables|    false|          true|   736055.7439999997|       0.009459560379872512|2.793538222E8|                0.26|                   50.71|\n",
      "|2011|No-Renovable|    Turbina de vapor|    false|         false|   2634295.117000001|       0.013977839024369875|2.793538222E8|                0.94|                   50.71|\n",
      "|2011|     Demanda|Saldo I. internac...|    false|         false|  -6090126.334000002|       0.023054055458754885|2.793538222E8|               -2.18|                   50.71|\n",
      "|2011|   Renovable|          Hidráulica|    false|          true|3.0437318139999997E7|          0.353651712693427|2.793538222E8|                10.9|                   50.71|\n",
      "|2011|No-Renovable|              Carbón|    false|         false| 4.317746437699999E7|          0.219277997213377|2.793538222E8|               15.46|                   50.71|\n",
      "|2011|No-Renovable|      Turbina de gas|    false|         false|   880242.2230000003|       0.004501197760453...|2.793538222E8|                0.32|                   50.71|\n",
      "|2011|No-Renovable|      Motores diésel|    false|         false|         3503397.878|       0.018612822588035986|2.793538222E8|                1.25|                   50.71|\n",
      "|2011|No-Renovable|  Turbinación bombeo|    false|         false|  2183536.2849999997|        0.01196169941128517|2.793538222E8|                0.78|                   50.71|\n",
      "|2011|   Renovable|              Eólica|    false|          true| 4.247725076900001E7|        0.46729178803185756|2.793538222E8|               15.21|                   50.71|\n",
      "|2011|No-Renovable|        Cogeneración|    false|         false| 3.059325172399998E7|        0.16220478545910286|2.793538222E8|               10.95|                   50.71|\n",
      "|2011|No-Renovable|Residuos no renov...|    false|         false|          1287770.48|       0.006858985122765094|2.793538222E8|                0.46|                   50.71|\n",
      "|2011|   Renovable|  Solar fotovoltaica|    false|          true|   7440752.380000002|        0.09726274943806447|2.793538222E8|                2.66|                   50.71|\n",
      "|2011|   Renovable|Generación renovable|     true|          true| 8.666705284999998E7|                        1.0|2.793538222E8|               31.02|                   50.71|\n",
      "|2011|   Renovable|       Solar térmica|    false|          true|  1861641.5490000006|       0.025228195392872164|2.793538222E8|                0.67|                   50.71|\n",
      "|2011|No-Renovable|     Ciclo combinado|    false|         false|5.3430948742000036E7|         0.2707201587685818|2.793538222E8|               19.13|                   50.71|\n",
      "|2011|     Demanda|     Demanda en b.c.|     true|         false|2.7002220096600026E8|                        1.0|2.793538222E8|               96.66|                   50.71|\n",
      "|2011|     Demanda|  Consumos en bombeo|    false|         false|  -3241494.899999998|       0.011438524787113028|2.793538222E8|               -1.16|                   50.71|\n",
      "|2011|   Renovable|    Otras renovables|    false|          true|         3714034.268|        0.04710599406390584|2.793538222E8|                1.33|                   50.71|\n",
      "|2011|No-Renovable|Generación no ren...|     true|         false| 1.926867693499999E8|                        1.0|2.793538222E8|               68.98|                   50.71|\n",
      "|2011|No-Renovable|             Nuclear|    false|          true| 5.500587486700001E7|        0.29182774181341176|2.793538222E8|               19.69|                   50.71|\n",
      "+----+------------+--------------------+---------+--------------+--------------------+---------------------------+-------------+--------------------+------------------------+\n",
      "only showing top 20 rows\n",
      "\n"
     ]
    }
   ],
   "source": [
    "datosConsulta1.show()"
   ]
  },
  {
   "cell_type": "markdown",
   "metadata": {},
   "source": [
    "### Datos anuales"
   ]
  },
  {
   "cell_type": "code",
   "execution_count": 4,
   "metadata": {},
   "outputs": [
    {
     "data": {
      "text/html": [
       "<div>\n",
       "  <span style=\"float: left;\">show at cmd3.sc:6</span>\n",
       "</div>\n"
      ]
     },
     "metadata": {},
     "output_type": "display_data"
    },
    {
     "data": {
      "text/html": [
       "<div class=\"progress\">\n",
       "  <div class=\"progress-bar\" role=\"progressbar\" style=\"background-color: blue; width: 100%; word-wrap: normal; white-space: nowrap; text-align: center; color: white\" aria-valuenow=\"100\" aria-valuemin=\"0\" aria-valuemax=\"100\">\n",
       "    1 / 1\n",
       "  </div>\n",
       "  <div class=\"progress-bar\" role=\"progressbar\" style=\"background-color: red; width: 0%\" aria-valuenow=\"0\" aria-valuemin=\"0\" aria-valuemax=\"100\"></div>\n",
       "</div>\n"
      ]
     },
     "metadata": {},
     "output_type": "display_data"
    },
    {
     "name": "stdout",
     "output_type": "stream",
     "text": [
      "+----+--------------------+--------------------+------------------------+--------------+\n",
      "| Año|                Tipo|PorcentajeSobreTotal|PorcentajeBajasEmisiones| TotalGenerado|\n",
      "+----+--------------------+--------------------+------------------------+--------------+\n",
      "|2011|Generación renovable|               31.02|                   50.71| 2.793538222E8|\n",
      "|2012|Generación renovable|               30.14|                   50.84|2.8311864375E8|\n",
      "|2013|Generación renovable|               40.16|                    60.0|2.7328624293E8|\n",
      "|2014|Generación renovable|               40.48|                   61.03|2.6651174852E8|\n",
      "|2015|Generación renovable|               35.18|                   55.62|2.6745384916E8|\n",
      "|2016|Generación renovable|               38.61|                    60.0| 2.618356915E8|\n",
      "|2017|Generación renovable|               32.26|                   53.43|2.6230575812E8|\n",
      "|2018|Generación renovable|               38.45|                   58.83|2.6098190204E8|\n",
      "|2019|Generación renovable|               37.54|                   58.94|2.6082883656E8|\n",
      "|2020|Generación renovable|                44.0|                   66.18|2.5139875006E8|\n",
      "|2021|Generación renovable|               46.71|                    67.5|2.6001118545E8|\n",
      "|2022|Generación renovable|               42.22|                   62.46|2.7636791677E8|\n",
      "|2023|Generación renovable|                50.4|                   70.71|2.6718413963E8|\n",
      "|2024|Generación renovable|               55.82|                   75.39|2.6598643173E8|\n",
      "|2011|Saldo I. internac...|               -2.18|                   50.71| 2.793538222E8|\n",
      "|2012|Saldo I. internac...|               -3.96|                   50.84|2.8311864375E8|\n",
      "|2013|Saldo I. internac...|               -2.46|                    60.0|2.7328624293E8|\n",
      "|2014|Saldo I. internac...|               -1.28|                   61.03|2.6651174852E8|\n",
      "|2015|Saldo I. internac...|               -0.05|                   55.62|2.6745384916E8|\n",
      "|2016|Saldo I. internac...|                2.92|                    60.0| 2.618356915E8|\n",
      "+----+--------------------+--------------------+------------------------+--------------+\n",
      "only showing top 20 rows\n",
      "\n"
     ]
    },
    {
     "data": {
      "text/plain": [
       "\u001b[36mevoluciónRenovablesAnual\u001b[39m: \u001b[32mDataset\u001b[39m[\u001b[32mRow\u001b[39m] = [Año: string, Tipo: string ... 3 more fields]"
      ]
     },
     "execution_count": 4,
     "metadata": {},
     "output_type": "execute_result"
    }
   ],
   "source": [
    "val evoluciónRenovablesAnual = datosConsulta1\n",
    "    .filter($\"Tipo\".isin(\"Generación renovable\", \"Saldo I. internacionales\"))\n",
    "    .select($\"Año\",$\"Tipo\", $\"PorcentajeSobreTotal\", $\"PorcentajeBajasEmisiones\", $\"TotalGenerado\")\n",
    "    .orderBy($\"Tipo\", $\"Año\")\n",
    "\n",
    "evoluciónRenovablesAnual.show()"
   ]
  },
  {
   "cell_type": "code",
   "execution_count": 6,
   "metadata": {},
   "outputs": [
    {
     "data": {
      "text/html": [
       "<div>\n",
       "  <span style=\"float: left;\">collect at cmd5.sc:3</span>\n",
       "</div>\n"
      ]
     },
     "metadata": {},
     "output_type": "display_data"
    },
    {
     "data": {
      "text/html": [
       "<div class=\"progress\">\n",
       "  <div class=\"progress-bar\" role=\"progressbar\" style=\"background-color: blue; width: 100%; word-wrap: normal; white-space: nowrap; text-align: center; color: white\" aria-valuenow=\"100\" aria-valuemin=\"0\" aria-valuemax=\"100\">\n",
       "    1 / 1\n",
       "  </div>\n",
       "  <div class=\"progress-bar\" role=\"progressbar\" style=\"background-color: red; width: 0%\" aria-valuenow=\"0\" aria-valuemin=\"0\" aria-valuemax=\"100\"></div>\n",
       "</div>\n"
      ]
     },
     "metadata": {},
     "output_type": "display_data"
    },
    {
     "data": {
      "text/html": [
       "<div>\n",
       "  <span style=\"float: left;\">collect at cmd5.sc:3</span>\n",
       "</div>\n"
      ]
     },
     "metadata": {},
     "output_type": "display_data"
    },
    {
     "data": {
      "text/html": [
       "<div class=\"progress\">\n",
       "  <div class=\"progress-bar\" role=\"progressbar\" style=\"background-color: blue; width: 100%; word-wrap: normal; white-space: nowrap; text-align: center; color: white\" aria-valuenow=\"100\" aria-valuemin=\"0\" aria-valuemax=\"100\">\n",
       "    200 / 200\n",
       "  </div>\n",
       "  <div class=\"progress-bar\" role=\"progressbar\" style=\"background-color: red; width: 0%\" aria-valuenow=\"0\" aria-valuemin=\"0\" aria-valuemax=\"100\"></div>\n",
       "</div>\n"
      ]
     },
     "metadata": {},
     "output_type": "display_data"
    },
    {
     "data": {
      "text/html": [
       "<div>\n",
       "  <span style=\"float: left;\">collect at cmd5.sc:3</span>\n",
       "</div>\n"
      ]
     },
     "metadata": {},
     "output_type": "display_data"
    },
    {
     "data": {
      "text/html": [
       "<div class=\"progress\">\n",
       "  <div class=\"progress-bar\" role=\"progressbar\" style=\"background-color: blue; width: 100%; word-wrap: normal; white-space: nowrap; text-align: center; color: white\" aria-valuenow=\"100\" aria-valuemin=\"0\" aria-valuemax=\"100\">\n",
       "    200 / 200\n",
       "  </div>\n",
       "  <div class=\"progress-bar\" role=\"progressbar\" style=\"background-color: red; width: 0%\" aria-valuenow=\"0\" aria-valuemin=\"0\" aria-valuemax=\"100\"></div>\n",
       "</div>\n"
      ]
     },
     "metadata": {},
     "output_type": "display_data"
    },
    {
     "data": {
      "text/html": [
       "<div>\n",
       "  <span style=\"float: left;\">collect at cmd5.sc:3</span>\n",
       "</div>\n"
      ]
     },
     "metadata": {},
     "output_type": "display_data"
    },
    {
     "data": {
      "text/html": [
       "<div class=\"progress\">\n",
       "  <div class=\"progress-bar\" role=\"progressbar\" style=\"background-color: blue; width: 100%; word-wrap: normal; white-space: nowrap; text-align: center; color: white\" aria-valuenow=\"100\" aria-valuemin=\"0\" aria-valuemax=\"100\">\n",
       "    14 / 14\n",
       "  </div>\n",
       "  <div class=\"progress-bar\" role=\"progressbar\" style=\"background-color: red; width: 0%\" aria-valuenow=\"0\" aria-valuemin=\"0\" aria-valuemax=\"100\"></div>\n",
       "</div>\n"
      ]
     },
     "metadata": {},
     "output_type": "display_data"
    },
    {
     "data": {
      "text/html": [
       "<div>\n",
       "  <span style=\"float: left;\">collect at cmd5.sc:9</span>\n",
       "</div>\n"
      ]
     },
     "metadata": {},
     "output_type": "display_data"
    },
    {
     "data": {
      "text/html": [
       "<div class=\"progress\">\n",
       "  <div class=\"progress-bar\" role=\"progressbar\" style=\"background-color: blue; width: 100%; word-wrap: normal; white-space: nowrap; text-align: center; color: white\" aria-valuenow=\"100\" aria-valuemin=\"0\" aria-valuemax=\"100\">\n",
       "    1 / 1\n",
       "  </div>\n",
       "  <div class=\"progress-bar\" role=\"progressbar\" style=\"background-color: red; width: 0%\" aria-valuenow=\"0\" aria-valuemin=\"0\" aria-valuemax=\"100\"></div>\n",
       "</div>\n"
      ]
     },
     "metadata": {},
     "output_type": "display_data"
    },
    {
     "data": {
      "text/html": [
       "<div>\n",
       "  <span style=\"float: left;\">collect at cmd5.sc:9</span>\n",
       "</div>\n"
      ]
     },
     "metadata": {},
     "output_type": "display_data"
    },
    {
     "data": {
      "text/html": [
       "<div class=\"progress\">\n",
       "  <div class=\"progress-bar\" role=\"progressbar\" style=\"background-color: blue; width: 100%; word-wrap: normal; white-space: nowrap; text-align: center; color: white\" aria-valuenow=\"100\" aria-valuemin=\"0\" aria-valuemax=\"100\">\n",
       "    1 / 1\n",
       "  </div>\n",
       "  <div class=\"progress-bar\" role=\"progressbar\" style=\"background-color: red; width: 0%\" aria-valuenow=\"0\" aria-valuemin=\"0\" aria-valuemax=\"100\"></div>\n",
       "</div>\n"
      ]
     },
     "metadata": {},
     "output_type": "display_data"
    },
    {
     "data": {
      "text/html": [
       "<div>\n",
       "  <span style=\"float: left;\">collect at cmd5.sc:9</span>\n",
       "</div>\n"
      ]
     },
     "metadata": {},
     "output_type": "display_data"
    },
    {
     "data": {
      "text/html": [
       "<div class=\"progress\">\n",
       "  <div class=\"progress-bar\" role=\"progressbar\" style=\"background-color: blue; width: 100%; word-wrap: normal; white-space: nowrap; text-align: center; color: white\" aria-valuenow=\"100\" aria-valuemin=\"0\" aria-valuemax=\"100\">\n",
       "    14 / 14\n",
       "  </div>\n",
       "  <div class=\"progress-bar\" role=\"progressbar\" style=\"background-color: red; width: 0%\" aria-valuenow=\"0\" aria-valuemin=\"0\" aria-valuemax=\"100\"></div>\n",
       "</div>\n"
      ]
     },
     "metadata": {},
     "output_type": "display_data"
    },
    {
     "data": {
      "text/html": [
       "<div>\n",
       "  <span style=\"float: left;\">collect at cmd5.sc:17</span>\n",
       "</div>\n"
      ]
     },
     "metadata": {},
     "output_type": "display_data"
    },
    {
     "data": {
      "text/html": [
       "<div class=\"progress\">\n",
       "  <div class=\"progress-bar\" role=\"progressbar\" style=\"background-color: blue; width: 100%; word-wrap: normal; white-space: nowrap; text-align: center; color: white\" aria-valuenow=\"100\" aria-valuemin=\"0\" aria-valuemax=\"100\">\n",
       "    1 / 1\n",
       "  </div>\n",
       "  <div class=\"progress-bar\" role=\"progressbar\" style=\"background-color: red; width: 0%\" aria-valuenow=\"0\" aria-valuemin=\"0\" aria-valuemax=\"100\"></div>\n",
       "</div>\n"
      ]
     },
     "metadata": {},
     "output_type": "display_data"
    },
    {
     "data": {
      "text/html": [
       "<div>\n",
       "  <span style=\"float: left;\">collect at cmd5.sc:17</span>\n",
       "</div>\n"
      ]
     },
     "metadata": {},
     "output_type": "display_data"
    },
    {
     "data": {
      "text/html": [
       "<div class=\"progress\">\n",
       "  <div class=\"progress-bar\" role=\"progressbar\" style=\"background-color: blue; width: 100%; word-wrap: normal; white-space: nowrap; text-align: center; color: white\" aria-valuenow=\"100\" aria-valuemin=\"0\" aria-valuemax=\"100\">\n",
       "    1 / 1\n",
       "  </div>\n",
       "  <div class=\"progress-bar\" role=\"progressbar\" style=\"background-color: red; width: 0%\" aria-valuenow=\"0\" aria-valuemin=\"0\" aria-valuemax=\"100\"></div>\n",
       "</div>\n"
      ]
     },
     "metadata": {},
     "output_type": "display_data"
    },
    {
     "data": {
      "text/html": [
       "<div>\n",
       "  <span style=\"float: left;\">collect at cmd5.sc:17</span>\n",
       "</div>\n"
      ]
     },
     "metadata": {},
     "output_type": "display_data"
    },
    {
     "data": {
      "text/html": [
       "<div class=\"progress\">\n",
       "  <div class=\"progress-bar\" role=\"progressbar\" style=\"background-color: blue; width: 100%; word-wrap: normal; white-space: nowrap; text-align: center; color: white\" aria-valuenow=\"100\" aria-valuemin=\"0\" aria-valuemax=\"100\">\n",
       "    14 / 14\n",
       "  </div>\n",
       "  <div class=\"progress-bar\" role=\"progressbar\" style=\"background-color: red; width: 0%\" aria-valuenow=\"0\" aria-valuemin=\"0\" aria-valuemax=\"100\"></div>\n",
       "</div>\n"
      ]
     },
     "metadata": {},
     "output_type": "display_data"
    },
    {
     "data": {
      "text/html": [
       "<div>\n",
       "  <span style=\"float: left;\">collect at cmd5.sc:25</span>\n",
       "</div>\n"
      ]
     },
     "metadata": {},
     "output_type": "display_data"
    },
    {
     "data": {
      "text/html": [
       "<div class=\"progress\">\n",
       "  <div class=\"progress-bar\" role=\"progressbar\" style=\"background-color: blue; width: 100%; word-wrap: normal; white-space: nowrap; text-align: center; color: white\" aria-valuenow=\"100\" aria-valuemin=\"0\" aria-valuemax=\"100\">\n",
       "    1 / 1\n",
       "  </div>\n",
       "  <div class=\"progress-bar\" role=\"progressbar\" style=\"background-color: red; width: 0%\" aria-valuenow=\"0\" aria-valuemin=\"0\" aria-valuemax=\"100\"></div>\n",
       "</div>\n"
      ]
     },
     "metadata": {},
     "output_type": "display_data"
    },
    {
     "data": {
      "text/html": [
       "<div>\n",
       "  <span style=\"float: left;\">collect at cmd5.sc:25</span>\n",
       "</div>\n"
      ]
     },
     "metadata": {},
     "output_type": "display_data"
    },
    {
     "data": {
      "text/html": [
       "<div class=\"progress\">\n",
       "  <div class=\"progress-bar\" role=\"progressbar\" style=\"background-color: blue; width: 100%; word-wrap: normal; white-space: nowrap; text-align: center; color: white\" aria-valuenow=\"100\" aria-valuemin=\"0\" aria-valuemax=\"100\">\n",
       "    1 / 1\n",
       "  </div>\n",
       "  <div class=\"progress-bar\" role=\"progressbar\" style=\"background-color: red; width: 0%\" aria-valuenow=\"0\" aria-valuemin=\"0\" aria-valuemax=\"100\"></div>\n",
       "</div>\n"
      ]
     },
     "metadata": {},
     "output_type": "display_data"
    },
    {
     "data": {
      "text/html": [
       "<div>\n",
       "  <span style=\"float: left;\">collect at cmd5.sc:25</span>\n",
       "</div>\n"
      ]
     },
     "metadata": {},
     "output_type": "display_data"
    },
    {
     "data": {
      "text/html": [
       "<div class=\"progress\">\n",
       "  <div class=\"progress-bar\" role=\"progressbar\" style=\"background-color: blue; width: 100%; word-wrap: normal; white-space: nowrap; text-align: center; color: white\" aria-valuenow=\"100\" aria-valuemin=\"0\" aria-valuemax=\"100\">\n",
       "    14 / 14\n",
       "  </div>\n",
       "  <div class=\"progress-bar\" role=\"progressbar\" style=\"background-color: red; width: 0%\" aria-valuenow=\"0\" aria-valuemin=\"0\" aria-valuemax=\"100\"></div>\n",
       "</div>\n"
      ]
     },
     "metadata": {},
     "output_type": "display_data"
    },
    {
     "data": {
      "text/html": [
       "<div>\n",
       "  <span style=\"float: left;\">collect at cmd5.sc:33</span>\n",
       "</div>\n"
      ]
     },
     "metadata": {},
     "output_type": "display_data"
    },
    {
     "data": {
      "text/html": [
       "<div class=\"progress\">\n",
       "  <div class=\"progress-bar\" role=\"progressbar\" style=\"background-color: blue; width: 100%; word-wrap: normal; white-space: nowrap; text-align: center; color: white\" aria-valuenow=\"100\" aria-valuemin=\"0\" aria-valuemax=\"100\">\n",
       "    1 / 1\n",
       "  </div>\n",
       "  <div class=\"progress-bar\" role=\"progressbar\" style=\"background-color: red; width: 0%\" aria-valuenow=\"0\" aria-valuemin=\"0\" aria-valuemax=\"100\"></div>\n",
       "</div>\n"
      ]
     },
     "metadata": {},
     "output_type": "display_data"
    },
    {
     "data": {
      "text/html": [
       "<div>\n",
       "  <span style=\"float: left;\">collect at cmd5.sc:33</span>\n",
       "</div>\n"
      ]
     },
     "metadata": {},
     "output_type": "display_data"
    },
    {
     "data": {
      "text/html": [
       "<div class=\"progress\">\n",
       "  <div class=\"progress-bar\" role=\"progressbar\" style=\"background-color: blue; width: 100%; word-wrap: normal; white-space: nowrap; text-align: center; color: white\" aria-valuenow=\"100\" aria-valuemin=\"0\" aria-valuemax=\"100\">\n",
       "    1 / 1\n",
       "  </div>\n",
       "  <div class=\"progress-bar\" role=\"progressbar\" style=\"background-color: red; width: 0%\" aria-valuenow=\"0\" aria-valuemin=\"0\" aria-valuemax=\"100\"></div>\n",
       "</div>\n"
      ]
     },
     "metadata": {},
     "output_type": "display_data"
    },
    {
     "data": {
      "text/html": [
       "<div>\n",
       "  <span style=\"float: left;\">collect at cmd5.sc:33</span>\n",
       "</div>\n"
      ]
     },
     "metadata": {},
     "output_type": "display_data"
    },
    {
     "data": {
      "text/html": [
       "<div class=\"progress\">\n",
       "  <div class=\"progress-bar\" role=\"progressbar\" style=\"background-color: blue; width: 100%; word-wrap: normal; white-space: nowrap; text-align: center; color: white\" aria-valuenow=\"100\" aria-valuemin=\"0\" aria-valuemax=\"100\">\n",
       "    14 / 14\n",
       "  </div>\n",
       "  <div class=\"progress-bar\" role=\"progressbar\" style=\"background-color: red; width: 0%\" aria-valuenow=\"0\" aria-valuemin=\"0\" aria-valuemax=\"100\"></div>\n",
       "</div>\n"
      ]
     },
     "metadata": {},
     "output_type": "display_data"
    },
    {
     "data": {
      "text/html": [
       "<div>\n",
       "  <span style=\"float: left;\">collect at cmd5.sc:42</span>\n",
       "</div>\n"
      ]
     },
     "metadata": {},
     "output_type": "display_data"
    },
    {
     "data": {
      "text/html": [
       "<div class=\"progress\">\n",
       "  <div class=\"progress-bar\" role=\"progressbar\" style=\"background-color: blue; width: 100%; word-wrap: normal; white-space: nowrap; text-align: center; color: white\" aria-valuenow=\"100\" aria-valuemin=\"0\" aria-valuemax=\"100\">\n",
       "    1 / 1\n",
       "  </div>\n",
       "  <div class=\"progress-bar\" role=\"progressbar\" style=\"background-color: red; width: 0%\" aria-valuenow=\"0\" aria-valuemin=\"0\" aria-valuemax=\"100\"></div>\n",
       "</div>\n"
      ]
     },
     "metadata": {},
     "output_type": "display_data"
    },
    {
     "data": {
      "text/html": [
       "<div>\n",
       "  <span style=\"float: left;\">collect at cmd5.sc:42</span>\n",
       "</div>\n"
      ]
     },
     "metadata": {},
     "output_type": "display_data"
    },
    {
     "data": {
      "text/html": [
       "<div class=\"progress\">\n",
       "  <div class=\"progress-bar\" role=\"progressbar\" style=\"background-color: blue; width: 100%; word-wrap: normal; white-space: nowrap; text-align: center; color: white\" aria-valuenow=\"100\" aria-valuemin=\"0\" aria-valuemax=\"100\">\n",
       "    1 / 1\n",
       "  </div>\n",
       "  <div class=\"progress-bar\" role=\"progressbar\" style=\"background-color: red; width: 0%\" aria-valuenow=\"0\" aria-valuemin=\"0\" aria-valuemax=\"100\"></div>\n",
       "</div>\n"
      ]
     },
     "metadata": {},
     "output_type": "display_data"
    },
    {
     "data": {
      "text/html": [
       "<div>\n",
       "  <span style=\"float: left;\">collect at cmd5.sc:42</span>\n",
       "</div>\n"
      ]
     },
     "metadata": {},
     "output_type": "display_data"
    },
    {
     "data": {
      "text/html": [
       "<div class=\"progress\">\n",
       "  <div class=\"progress-bar\" role=\"progressbar\" style=\"background-color: blue; width: 100%; word-wrap: normal; white-space: nowrap; text-align: center; color: white\" aria-valuenow=\"100\" aria-valuemin=\"0\" aria-valuemax=\"100\">\n",
       "    14 / 14\n",
       "  </div>\n",
       "  <div class=\"progress-bar\" role=\"progressbar\" style=\"background-color: red; width: 0%\" aria-valuenow=\"0\" aria-valuemin=\"0\" aria-valuemax=\"100\"></div>\n",
       "</div>\n"
      ]
     },
     "metadata": {},
     "output_type": "display_data"
    },
    {
     "data": {
      "application/vnd.plotly.v1+json": {
       "config": {},
       "data": [
        {
         "hoverinfo": "text",
         "marker": {
          "color": "rgba(50, 205, 50, 0.6)"
         },
         "name": "Generación Renovable",
         "text": [
          "31.02%",
          "30.14%",
          "40.16%",
          "40.48%",
          "35.18%",
          "38.61%",
          "32.26%",
          "38.45%",
          "37.54%",
          "44.00%",
          "46.71%",
          "42.22%",
          "50.40%",
          "55.82%"
         ],
         "type": "bar",
         "x": [
          "2011",
          "2012",
          "2013",
          "2014",
          "2015",
          "2016",
          "2017",
          "2018",
          "2019",
          "2020",
          "2021",
          "2022",
          "2023",
          "2024"
         ],
         "y": [
          86667052.84999998,
          85338722.75199999,
          109757657.64349996,
          107876133.6995,
          94088112.95749995,
          101089169.18450001,
          84610866.48700011,
          100344405.21300003,
          97913298.82000001,
          110605198.343,
          121459146.31000003,
          116695210.76699996,
          134648964.26399994,
          148478294.94799998
         ]
        },
        {
         "hoverinfo": "text",
         "marker": {
          "color": "rgba(118, 116, 115, 0.6)"
         },
         "name": "Generación No Renovable",
         "text": [
          "68.98%",
          "69.86%",
          "59.84%",
          "59.52%",
          "64.82%",
          "61.39%",
          "67.74%",
          "61.55%",
          "62.46%",
          "56.00%",
          "53.29%",
          "57.78%",
          "49.60%",
          "44.18%"
         ],
         "type": "bar",
         "x": [
          "2011",
          "2012",
          "2013",
          "2014",
          "2015",
          "2016",
          "2017",
          "2018",
          "2019",
          "2020",
          "2021",
          "2022",
          "2023",
          "2024"
         ],
         "y": [
          192686769.3499999,
          197779920.99999997,
          163528585.28650007,
          158635614.8234999,
          173365736.20050007,
          160746522.31649998,
          177694891.63200006,
          160637496.82499987,
          162915537.73900014,
          140793551.715,
          138552039.13699993,
          159672706.00099993,
          132535175.36899999,
          117508136.78600003
         ]
        },
        {
         "name": "Producción Total",
         "type": "scatter",
         "x": [
          "2011",
          "2012",
          "2013",
          "2014",
          "2015",
          "2016",
          "2017",
          "2018",
          "2019",
          "2020",
          "2021",
          "2022",
          "2023",
          "2024"
         ],
         "y": [
          279353822.2,
          283118643.75,
          273286242.93,
          266511748.52,
          267453849.16,
          261835691.5,
          262305758.12,
          260981902.04,
          260828836.56,
          251398750.06,
          260011185.45,
          276367916.77,
          267184139.63,
          265986431.73
         ]
        }
       ],
       "layout": {
        "autosize": true,
        "barmode": "stack",
        "title": {
         "text": "Generación de Energía por Año"
        },
        "xaxis": {
         "autorange": true,
         "range": [
          2010.2185209495678,
          2024.7814790504322
         ],
         "title": {
          "text": "Año"
         },
         "type": "linear"
        },
        "yaxis": {
         "autorange": true,
         "range": [
          0,
          302441281.15727
         ],
         "title": {
          "text": "Energía Generada (MWh)"
         },
         "type": "linear"
        }
       }
      },
      "image/png": "[encoded data removed]",
      "text/html": [
       "<div class=\"chart\" id=\"plot-3c172bf4-7bc4-4bbc-ae7b-52039235e8da\"></div>\n",
       "<script>require(['plotly'], function(Plotly) {\n",
       "  (function () {\n",
       "  var data0 = {\"x\":[\"2011\",\"2012\",\"2013\",\"2014\",\"2015\",\"2016\",\"2017\",\"2018\",\"2019\",\"2020\",\"2021\",\"2022\",\"2023\",\"2024\"],\"name\":\"Generación Renovable\",\"hoverinfo\":\"text\",\"y\":[8.666705284999998E7,8.533872275199999E7,1.0975765764349996E8,1.078761336995E8,9.408811295749995E7,1.0108916918450001E8,8.461086648700011E7,1.0034440521300003E8,9.791329882000001E7,1.10605198343E8,1.2145914631000003E8,1.1669521076699996E8,1.3464896426399994E8,1.4847829494799998E8],\"marker\":{\"color\":\"rgba(50, 205, 50, 0.6)\"},\"text\":[\"31.02%\",\"30.14%\",\"40.16%\",\"40.48%\",\"35.18%\",\"38.61%\",\"32.26%\",\"38.45%\",\"37.54%\",\"44.00%\",\"46.71%\",\"42.22%\",\"50.40%\",\"55.82%\"],\"type\":\"bar\"};\n",
       "  var data1 = {\"x\":[\"2011\",\"2012\",\"2013\",\"2014\",\"2015\",\"2016\",\"2017\",\"2018\",\"2019\",\"2020\",\"2021\",\"2022\",\"2023\",\"2024\"],\"name\":\"Generación No Renovable\",\"hoverinfo\":\"text\",\"y\":[1.926867693499999E8,1.9777992099999997E8,1.6352858528650007E8,1.586356148234999E8,1.7336573620050007E8,1.6074652231649998E8,1.7769489163200006E8,1.6063749682499987E8,1.6291553773900014E8,1.40793551715E8,1.3855203913699993E8,1.5967270600099993E8,1.3253517536899999E8,1.1750813678600003E8],\"marker\":{\"color\":\"rgba(118, 116, 115, 0.6)\"},\"text\":[\"68.98%\",\"69.86%\",\"59.84%\",\"59.52%\",\"64.82%\",\"61.39%\",\"67.74%\",\"61.55%\",\"62.46%\",\"56.00%\",\"53.29%\",\"57.78%\",\"49.60%\",\"44.18%\"],\"type\":\"bar\"};\n",
       "  var data2 = {\"x\":[\"2011\",\"2012\",\"2013\",\"2014\",\"2015\",\"2016\",\"2017\",\"2018\",\"2019\",\"2020\",\"2021\",\"2022\",\"2023\",\"2024\"],\"name\":\"Producción Total\",\"y\":[2.793538222E8,2.8311864375E8,2.7328624293E8,2.6651174852E8,2.6745384916E8,2.618356915E8,2.6230575812E8,2.6098190204E8,2.6082883656E8,2.5139875006E8,2.6001118545E8,2.7636791677E8,2.6718413963E8,2.6598643173E8],\"type\":\"scatter\"};\n",
       "\n",
       "  var data = [data0, data1, data2];\n",
       "  var layout = {\"barmode\":\"stack\",\"title\":\"Generación de Energía por Año\",\"yaxis\":{\"title\":\"Energía Generada (MWh)\"},\"xaxis\":{\"title\":\"Año\"}};\n",
       " var config = {};\n",
       "\n",
       "  Plotly.plot('plot-3c172bf4-7bc4-4bbc-ae7b-52039235e8da', data, layout, config);\n",
       "})();\n",
       "});\n",
       "      </script>\n",
       "           "
      ]
     },
     "metadata": {},
     "output_type": "display_data"
    },
    {
     "data": {
      "text/plain": [
       "defined \u001b[32mfunction\u001b[39m \u001b[36manalisisAnual\u001b[39m"
      ]
     },
     "execution_count": 6,
     "metadata": {},
     "output_type": "execute_result"
    }
   ],
   "source": [
    "def analisisAnual(df: DataFrame): Unit = {\n",
    "\n",
    "    val años = df.select(\"Año\").distinct().orderBy(\"Año\").as[String].collect.toSeq\n",
    "\n",
    "    val renovables = df\n",
    "        .filter($\"Tipo\" === \"Generación renovable\")\n",
    "        .orderBy(\"Año\")\n",
    "        .select(\"ValorAnual\")\n",
    "        .as[Double]\n",
    "        .collect\n",
    "        .toSeq\n",
    "\n",
    "    val noRenovables = df\n",
    "        .filter($\"Tipo\" === \"Generación no renovable\")\n",
    "        .orderBy(\"Año\")\n",
    "        .select(\"ValorAnual\")\n",
    "        .as[Double]\n",
    "        .collect\n",
    "        .toSeq\n",
    "\n",
    "    val totalGenerado = df\n",
    "        .filter($\"Tipo\" === \"Generación renovable\")\n",
    "        .orderBy(\"Año\")\n",
    "        .select(\"TotalGenerado\")\n",
    "        .as[Double]\n",
    "        .collect\n",
    "        .toSeq\n",
    "    \n",
    "    val porcentajeRenovables = df\n",
    "        .filter($\"Tipo\" === \"Generación renovable\")\n",
    "        .orderBy(\"Año\")\n",
    "        .select(\"PorcentajeSobreTotal\")\n",
    "        .as[Double]\n",
    "        .collect\n",
    "        .toSeq\n",
    "        .map(p => f\"$p%.2f%%\") \n",
    "\n",
    "    val porcentajeNoRenovables = df\n",
    "        .filter($\"Tipo\" === \"Generación no renovable\")\n",
    "        .orderBy(\"Año\")\n",
    "        .select(\"PorcentajeSobreTotal\")\n",
    "        .as[Double]\n",
    "        .collect\n",
    "        .toSeq\n",
    "        .map(p => f\"$p%.2f%%\") \n",
    "\n",
    "\n",
    "    val traceRenovables = Bar(\n",
    "        x = años,\n",
    "        y = renovables,\n",
    "        name = \"Generación Renovable\",\n",
    "        marker = Marker(color = Color.RGBA(50, 205, 50, 0.6)),\n",
    "        text = porcentajeRenovables,\n",
    "        hoverinfo = HoverInfo.Text\n",
    "    )\n",
    "\n",
    "    val traceNoRenovables = Bar(\n",
    "        x = años,\n",
    "        y = noRenovables,\n",
    "        name = \"Generación No Renovable\",\n",
    "        marker = Marker(color = Color.RGBA(118, 116, 115, 0.6)),\n",
    "        text = porcentajeNoRenovables,\n",
    "        hoverinfo = HoverInfo.Text\n",
    "    )\n",
    "\n",
    "    val traceGeneracionTotal = Scatter(\n",
    "            años, \n",
    "            totalGenerado, \n",
    "            name = \"Producción Total\"\n",
    "    )\n",
    "\n",
    "    val layout = Layout(\n",
    "      title = \"Generación de Energía por Año\",\n",
    "      barmode = BarMode.Stack,\n",
    "      xaxis = Axis(title = \"Año\"),\n",
    "      yaxis = Axis(title = \"Energía Generada (MWh)\")\n",
    "    )\n",
    "\n",
    "    val data = Seq(traceRenovables, traceNoRenovables, traceGeneracionTotal)\n",
    "    plot(data, layout)\n",
    "}\n",
    "analisisAnual(datosConsulta1)"
   ]
  },
  {
   "cell_type": "code",
   "execution_count": 13,
   "metadata": {},
   "outputs": [
    {
     "data": {
      "text/html": [
       "<div>\n",
       "  <span style=\"float: left;\">show at cmd12.sc:7</span>\n",
       "</div>\n"
      ]
     },
     "metadata": {},
     "output_type": "display_data"
    },
    {
     "data": {
      "text/html": [
       "<div class=\"progress\">\n",
       "  <div class=\"progress-bar\" role=\"progressbar\" style=\"background-color: blue; width: 100%; word-wrap: normal; white-space: nowrap; text-align: center; color: white\" aria-valuenow=\"100\" aria-valuemin=\"0\" aria-valuemax=\"100\">\n",
       "    15 / 15\n",
       "  </div>\n",
       "  <div class=\"progress-bar\" role=\"progressbar\" style=\"background-color: red; width: 0%\" aria-valuenow=\"0\" aria-valuemin=\"0\" aria-valuemax=\"100\"></div>\n",
       "</div>\n"
      ]
     },
     "metadata": {},
     "output_type": "display_data"
    },
    {
     "data": {
      "text/html": [
       "<div>\n",
       "  <span style=\"float: left;\">show at cmd12.sc:7</span>\n",
       "</div>\n"
      ]
     },
     "metadata": {},
     "output_type": "display_data"
    },
    {
     "data": {
      "text/html": [
       "<div class=\"progress\">\n",
       "  <div class=\"progress-bar\" role=\"progressbar\" style=\"background-color: blue; width: 100%; word-wrap: normal; white-space: nowrap; text-align: center; color: white\" aria-valuenow=\"100\" aria-valuemin=\"0\" aria-valuemax=\"100\">\n",
       "    200 / 200\n",
       "  </div>\n",
       "  <div class=\"progress-bar\" role=\"progressbar\" style=\"background-color: red; width: 0%\" aria-valuenow=\"0\" aria-valuemin=\"0\" aria-valuemax=\"100\"></div>\n",
       "</div>\n"
      ]
     },
     "metadata": {},
     "output_type": "display_data"
    },
    {
     "data": {
      "text/html": [
       "<div>\n",
       "  <span style=\"float: left;\">show at cmd12.sc:7</span>\n",
       "</div>\n"
      ]
     },
     "metadata": {},
     "output_type": "display_data"
    },
    {
     "data": {
      "text/html": [
       "<div class=\"progress\">\n",
       "  <div class=\"progress-bar\" role=\"progressbar\" style=\"background-color: blue; width: 100%; word-wrap: normal; white-space: nowrap; text-align: center; color: white\" aria-valuenow=\"100\" aria-valuemin=\"0\" aria-valuemax=\"100\">\n",
       "    200 / 200\n",
       "  </div>\n",
       "  <div class=\"progress-bar\" role=\"progressbar\" style=\"background-color: red; width: 0%\" aria-valuenow=\"0\" aria-valuemin=\"0\" aria-valuemax=\"100\"></div>\n",
       "</div>\n"
      ]
     },
     "metadata": {},
     "output_type": "display_data"
    },
    {
     "name": "stdout",
     "output_type": "stream",
     "text": [
      "+------+--------------------+--------------+--------------------+\n",
      "|AñoInt|                Tipo| TotalGenerado|Porcentajeredondeado|\n",
      "+------+--------------------+--------------+--------------------+\n",
      "|  2011|Generación renovable| 2.793538222E8|                  31|\n",
      "|  2012|Generación renovable|2.8311864375E8|                  30|\n",
      "|  2013|Generación renovable|2.7328624293E8|                  40|\n",
      "|  2014|Generación renovable|2.6651174852E8|                  40|\n",
      "|  2015|Generación renovable|2.6745384916E8|                  35|\n",
      "|  2016|Generación renovable| 2.618356915E8|                  38|\n",
      "|  2017|Generación renovable|2.6230575812E8|                  32|\n",
      "|  2018|Generación renovable|2.6098190204E8|                  38|\n",
      "|  2019|Generación renovable|2.6082883656E8|                  37|\n",
      "|  2020|Generación renovable|2.5139875006E8|                  44|\n",
      "|  2021|Generación renovable|2.6001118545E8|                  46|\n",
      "|  2022|Generación renovable|2.7636791677E8|                  42|\n",
      "|  2023|Generación renovable|2.6718413963E8|                  50|\n",
      "|  2024|Generación renovable|2.5319716827E8|                  56|\n",
      "+------+--------------------+--------------+--------------------+\n",
      "\n"
     ]
    },
    {
     "data": {
      "text/plain": [
       "\u001b[36mporcentajeLimpiasAnual\u001b[39m: \u001b[32mDataset\u001b[39m[\u001b[32mRow\u001b[39m] = [AñoInt: int, Tipo: string ... 2 more fields]"
      ]
     },
     "execution_count": 13,
     "metadata": {},
     "output_type": "execute_result"
    }
   ],
   "source": [
    "val porcentajeLimpiasAnual = datosBalanceAnuales\n",
    "    .filter($\"Tipo\" === \"Generación renovable\")\n",
    "    .withColumn(\"PorcentajeRedondeado\", round($\"PorcentajeSobreTotal\", 2).cast(\"Int\"))\n",
    "    .withColumn(\"AñoInt\", year($\"Año\")) // Extraer el año como entero\n",
    "    .select($\"AñoInt\",$\"Tipo\", $\"TotalGenerado\", $\"Porcentajeredondeado\")\n",
    "    .orderBy($\"AñoInt\")\n",
    "porcentajeLimpiasAnual.show()"
   ]
  },
  {
   "cell_type": "code",
   "execution_count": 14,
   "metadata": {},
   "outputs": [
    {
     "data": {
      "text/html": [
       "<div>\n",
       "  <span style=\"float: left;\">collect at cmd13.sc:4</span>\n",
       "</div>\n"
      ]
     },
     "metadata": {},
     "output_type": "display_data"
    },
    {
     "data": {
      "text/html": [
       "<div class=\"progress\">\n",
       "  <div class=\"progress-bar\" role=\"progressbar\" style=\"background-color: blue; width: 100%; word-wrap: normal; white-space: nowrap; text-align: center; color: white\" aria-valuenow=\"100\" aria-valuemin=\"0\" aria-valuemax=\"100\">\n",
       "    15 / 15\n",
       "  </div>\n",
       "  <div class=\"progress-bar\" role=\"progressbar\" style=\"background-color: red; width: 0%\" aria-valuenow=\"0\" aria-valuemin=\"0\" aria-valuemax=\"100\"></div>\n",
       "</div>\n"
      ]
     },
     "metadata": {},
     "output_type": "display_data"
    },
    {
     "data": {
      "text/html": [
       "<div>\n",
       "  <span style=\"float: left;\">collect at cmd13.sc:4</span>\n",
       "</div>\n"
      ]
     },
     "metadata": {},
     "output_type": "display_data"
    },
    {
     "data": {
      "text/html": [
       "<div class=\"progress\">\n",
       "  <div class=\"progress-bar\" role=\"progressbar\" style=\"background-color: blue; width: 100%; word-wrap: normal; white-space: nowrap; text-align: center; color: white\" aria-valuenow=\"100\" aria-valuemin=\"0\" aria-valuemax=\"100\">\n",
       "    200 / 200\n",
       "  </div>\n",
       "  <div class=\"progress-bar\" role=\"progressbar\" style=\"background-color: red; width: 0%\" aria-valuenow=\"0\" aria-valuemin=\"0\" aria-valuemax=\"100\"></div>\n",
       "</div>\n"
      ]
     },
     "metadata": {},
     "output_type": "display_data"
    },
    {
     "data": {
      "text/html": [
       "<div>\n",
       "  <span style=\"float: left;\">collect at cmd13.sc:4</span>\n",
       "</div>\n"
      ]
     },
     "metadata": {},
     "output_type": "display_data"
    },
    {
     "data": {
      "text/html": [
       "<div class=\"progress\">\n",
       "  <div class=\"progress-bar\" role=\"progressbar\" style=\"background-color: blue; width: 100%; word-wrap: normal; white-space: nowrap; text-align: center; color: white\" aria-valuenow=\"100\" aria-valuemin=\"0\" aria-valuemax=\"100\">\n",
       "    200 / 200\n",
       "  </div>\n",
       "  <div class=\"progress-bar\" role=\"progressbar\" style=\"background-color: red; width: 0%\" aria-valuenow=\"0\" aria-valuemin=\"0\" aria-valuemax=\"100\"></div>\n",
       "</div>\n"
      ]
     },
     "metadata": {},
     "output_type": "display_data"
    },
    {
     "data": {
      "text/html": [
       "<div>\n",
       "  <span style=\"float: left;\">collect at cmd13.sc:4</span>\n",
       "</div>\n"
      ]
     },
     "metadata": {},
     "output_type": "display_data"
    },
    {
     "data": {
      "text/html": [
       "<div class=\"progress\">\n",
       "  <div class=\"progress-bar\" role=\"progressbar\" style=\"background-color: blue; width: 100%; word-wrap: normal; white-space: nowrap; text-align: center; color: white\" aria-valuenow=\"100\" aria-valuemin=\"0\" aria-valuemax=\"100\">\n",
       "    14 / 14\n",
       "  </div>\n",
       "  <div class=\"progress-bar\" role=\"progressbar\" style=\"background-color: red; width: 0%\" aria-valuenow=\"0\" aria-valuemin=\"0\" aria-valuemax=\"100\"></div>\n",
       "</div>\n"
      ]
     },
     "metadata": {},
     "output_type": "display_data"
    },
    {
     "data": {
      "text/html": [
       "<div>\n",
       "  <span style=\"float: left;\">collect at cmd13.sc:11</span>\n",
       "</div>\n"
      ]
     },
     "metadata": {},
     "output_type": "display_data"
    },
    {
     "data": {
      "text/html": [
       "<div class=\"progress\">\n",
       "  <div class=\"progress-bar\" role=\"progressbar\" style=\"background-color: blue; width: 100%; word-wrap: normal; white-space: nowrap; text-align: center; color: white\" aria-valuenow=\"100\" aria-valuemin=\"0\" aria-valuemax=\"100\">\n",
       "    15 / 15\n",
       "  </div>\n",
       "  <div class=\"progress-bar\" role=\"progressbar\" style=\"background-color: red; width: 0%\" aria-valuenow=\"0\" aria-valuemin=\"0\" aria-valuemax=\"100\"></div>\n",
       "</div>\n"
      ]
     },
     "metadata": {},
     "output_type": "display_data"
    },
    {
     "data": {
      "text/html": [
       "<div>\n",
       "  <span style=\"float: left;\">collect at cmd13.sc:11</span>\n",
       "</div>\n"
      ]
     },
     "metadata": {},
     "output_type": "display_data"
    },
    {
     "data": {
      "text/html": [
       "<div class=\"progress\">\n",
       "  <div class=\"progress-bar\" role=\"progressbar\" style=\"background-color: blue; width: 100%; word-wrap: normal; white-space: nowrap; text-align: center; color: white\" aria-valuenow=\"100\" aria-valuemin=\"0\" aria-valuemax=\"100\">\n",
       "    200 / 200\n",
       "  </div>\n",
       "  <div class=\"progress-bar\" role=\"progressbar\" style=\"background-color: red; width: 0%\" aria-valuenow=\"0\" aria-valuemin=\"0\" aria-valuemax=\"100\"></div>\n",
       "</div>\n"
      ]
     },
     "metadata": {},
     "output_type": "display_data"
    },
    {
     "data": {
      "text/html": [
       "<div>\n",
       "  <span style=\"float: left;\">collect at cmd13.sc:11</span>\n",
       "</div>\n"
      ]
     },
     "metadata": {},
     "output_type": "display_data"
    },
    {
     "data": {
      "text/html": [
       "<div class=\"progress\">\n",
       "  <div class=\"progress-bar\" role=\"progressbar\" style=\"background-color: blue; width: 100%; word-wrap: normal; white-space: nowrap; text-align: center; color: white\" aria-valuenow=\"100\" aria-valuemin=\"0\" aria-valuemax=\"100\">\n",
       "    200 / 200\n",
       "  </div>\n",
       "  <div class=\"progress-bar\" role=\"progressbar\" style=\"background-color: red; width: 0%\" aria-valuenow=\"0\" aria-valuemin=\"0\" aria-valuemax=\"100\"></div>\n",
       "</div>\n"
      ]
     },
     "metadata": {},
     "output_type": "display_data"
    },
    {
     "data": {
      "text/html": [
       "<div>\n",
       "  <span style=\"float: left;\">collect at cmd13.sc:11</span>\n",
       "</div>\n"
      ]
     },
     "metadata": {},
     "output_type": "display_data"
    },
    {
     "data": {
      "text/html": [
       "<div class=\"progress\">\n",
       "  <div class=\"progress-bar\" role=\"progressbar\" style=\"background-color: blue; width: 100%; word-wrap: normal; white-space: nowrap; text-align: center; color: white\" aria-valuenow=\"100\" aria-valuemin=\"0\" aria-valuemax=\"100\">\n",
       "    200 / 200\n",
       "  </div>\n",
       "  <div class=\"progress-bar\" role=\"progressbar\" style=\"background-color: red; width: 0%\" aria-valuenow=\"0\" aria-valuemin=\"0\" aria-valuemax=\"100\"></div>\n",
       "</div>\n"
      ]
     },
     "metadata": {},
     "output_type": "display_data"
    },
    {
     "data": {
      "text/plain": [
       "\u001b[36maños\u001b[39m: \u001b[32mSeq\u001b[39m[\u001b[32mInt\u001b[39m] = \u001b[33mWrappedArray\u001b[39m(\n",
       "  \u001b[32m2011\u001b[39m,\n",
       "  \u001b[32m2012\u001b[39m,\n",
       "  \u001b[32m2013\u001b[39m,\n",
       "  \u001b[32m2014\u001b[39m,\n",
       "  \u001b[32m2015\u001b[39m,\n",
       "  \u001b[32m2016\u001b[39m,\n",
       "  \u001b[32m2017\u001b[39m,\n",
       "  \u001b[32m2018\u001b[39m,\n",
       "  \u001b[32m2019\u001b[39m,\n",
       "  \u001b[32m2020\u001b[39m,\n",
       "  \u001b[32m2021\u001b[39m,\n",
       "  \u001b[32m2022\u001b[39m,\n",
       "  \u001b[32m2023\u001b[39m,\n",
       "  \u001b[32m2024\u001b[39m\n",
       ")\n",
       "\u001b[36mrenovables\u001b[39m: \u001b[32mSeq\u001b[39m[\u001b[32mInt\u001b[39m] = \u001b[33mWrappedArray\u001b[39m(\n",
       "  \u001b[32m31\u001b[39m,\n",
       "  \u001b[32m30\u001b[39m,\n",
       "  \u001b[32m40\u001b[39m,\n",
       "  \u001b[32m40\u001b[39m,\n",
       "  \u001b[32m35\u001b[39m,\n",
       "  \u001b[32m38\u001b[39m,\n",
       "  \u001b[32m32\u001b[39m,\n",
       "  \u001b[32m38\u001b[39m,\n",
       "  \u001b[32m37\u001b[39m,\n",
       "  \u001b[32m44\u001b[39m,\n",
       "  \u001b[32m46\u001b[39m,\n",
       "  \u001b[32m42\u001b[39m,\n",
       "  \u001b[32m50\u001b[39m,\n",
       "  \u001b[32m56\u001b[39m\n",
       ")"
      ]
     },
     "execution_count": 14,
     "metadata": {},
     "output_type": "execute_result"
    }
   ],
   "source": [
    "// Extraer la variable años\n",
    "val años = porcentajeLimpiasAnual\n",
    "   // Filtrar solo \"Generación renovable\"\n",
    "  .select($\"AñoInt\") // Seleccionar la columna Año\n",
    "  .as[Int] // Convertir directamente a Int\n",
    "  .collect() // Recolectar los datos en el driver\n",
    "  .toSeq // Convertir a Seq\n",
    "\n",
    "// Extraer la variable renovables como Int\n",
    "val renovables = porcentajeLimpiasAnual // Filtrar solo \"Generación renovable\"\n",
    "  .select($\"Porcentajeredondeado\") // Seleccionar la columna Porcentajeredondeado\n",
    "  .as[Int] // Forzar la conversión a Int\n",
    "  .collect() // Recolectar los datos en el driver\n",
    "  .toSeq // Convertir a Seq"
   ]
  },
  {
   "cell_type": "code",
   "execution_count": 52,
   "metadata": {},
   "outputs": [
    {
     "data": {
      "application/vnd.plotly.v1+json": {
       "data": [
        {
         "name": "Porcentaje Renovable",
         "type": "scatter",
         "x": [
          2011,
          2012,
          2013,
          2014,
          2015,
          2016,
          2017,
          2018,
          2019,
          2020,
          2021,
          2022,
          2023,
          2024
         ],
         "y": [
          31,
          30,
          40,
          40,
          35,
          38,
          32,
          38,
          37,
          44,
          46,
          42,
          50,
          56
         ]
        }
       ],
       "layout": {
        "autosize": true,
        "title": {
         "text": "Porcentaje de Generación Renovable (2011-2024)"
        },
        "xaxis": {
         "autorange": true,
         "range": [
          2010.2262346560092,
          2024.7737653439908
         ],
         "title": {
          "text": "Año"
         },
         "type": "linear"
        },
        "yaxis": {
         "autorange": true,
         "range": [
          28.095541401273884,
          57.904458598726116
         ],
         "title": {
          "text": "Porcentaje Renovable (%)"
         },
         "type": "linear"
        }
       }
      },
      "image/png": "[encoded data removed]",
      "text/html": [
       "<div class=\"chart\" id=\"plot-1d27be1b-b85a-4608-940c-fb26232e93b0\"></div>\n",
       "<script>require(['plotly'], function(Plotly) {\n",
       "  (function () {\n",
       "  var data0 = {\"x\":[2011.0,2012.0,2013.0,2014.0,2015.0,2016.0,2017.0,2018.0,2019.0,2020.0,2021.0,2022.0,2023.0,2024.0],\"name\":\"Porcentaje Renovable\",\"y\":[31.0,30.0,40.0,40.0,35.0,38.0,32.0,38.0,37.0,44.0,46.0,42.0,50.0,56.0],\"type\":\"scatter\"};\n",
       "\n",
       "  var data = [data0];\n",
       "  var layout = {\"title\":\"Porcentaje de Generación Renovable (2011-2024)\",\"yaxis\":{\"title\":\"Porcentaje Renovable (%)\"},\"xaxis\":{\"title\":\"Año\"}};\n",
       "\n",
       "  Plotly.plot('plot-1d27be1b-b85a-4608-940c-fb26232e93b0', data, layout);\n",
       "})();\n",
       "});\n",
       "      </script>\n",
       "           "
      ]
     },
     "metadata": {},
     "output_type": "display_data"
    },
    {
     "data": {
      "text/plain": [
       "\u001b[36mtraceRenovables\u001b[39m: \u001b[32mScatter\u001b[39m = \u001b[33mScatter\u001b[39m(\n",
       "  \u001b[33mSome\u001b[39m(\n",
       "    \u001b[33mDoubles\u001b[39m(\n",
       "      \u001b[33mArrayBuffer\u001b[39m(\n",
       "        \u001b[32m2011.0\u001b[39m,\n",
       "        \u001b[32m2012.0\u001b[39m,\n",
       "        \u001b[32m2013.0\u001b[39m,\n",
       "        \u001b[32m2014.0\u001b[39m,\n",
       "        \u001b[32m2015.0\u001b[39m,\n",
       "        \u001b[32m2016.0\u001b[39m,\n",
       "        \u001b[32m2017.0\u001b[39m,\n",
       "        \u001b[32m2018.0\u001b[39m,\n",
       "        \u001b[32m2019.0\u001b[39m,\n",
       "        \u001b[32m2020.0\u001b[39m,\n",
       "        \u001b[32m2021.0\u001b[39m,\n",
       "        \u001b[32m2022.0\u001b[39m,\n",
       "        \u001b[32m2023.0\u001b[39m,\n",
       "        \u001b[32m2024.0\u001b[39m\n",
       "      )\n",
       "    )\n",
       "  ),\n",
       "  \u001b[33mSome\u001b[39m(\n",
       "    \u001b[33mDoubles\u001b[39m(\n",
       "      \u001b[33mArrayBuffer\u001b[39m(\n",
       "        \u001b[32m31.0\u001b[39m,\n",
       "        \u001b[32m30.0\u001b[39m,\n",
       "        \u001b[32m40.0\u001b[39m,\n",
       "        \u001b[32m40.0\u001b[39m,\n",
       "        \u001b[32m35.0\u001b[39m,\n",
       "        \u001b[32m38.0\u001b[39m,\n",
       "        \u001b[32m32.0\u001b[39m,\n",
       "        \u001b[32m38.0\u001b[39m,\n",
       "        \u001b[32m37.0\u001b[39m,\n",
       "        \u001b[32m44.0\u001b[39m,\n",
       "        \u001b[32m46.0\u001b[39m,\n",
       "        \u001b[32m42.0\u001b[39m,\n",
       "        \u001b[32m50.0\u001b[39m,\n",
       "        \u001b[32m56.0\u001b[39m\n",
       "      )\n",
       "...\n",
       "\u001b[36mlayout\u001b[39m: \u001b[32mLayout\u001b[39m = \u001b[33mLayout\u001b[39m(\n",
       "  \u001b[33mSome\u001b[39m(\u001b[32m\"Porcentaje de Generaci\\u00f3n Renovable (2011-2024)\"\u001b[39m),\n",
       "  \u001b[32mNone\u001b[39m,\n",
       "  \u001b[32mNone\u001b[39m,\n",
       "  \u001b[32mNone\u001b[39m,\n",
       "  \u001b[32mNone\u001b[39m,\n",
       "  \u001b[33mSome\u001b[39m(\n",
       "    \u001b[33mAxis\u001b[39m(\n",
       "      \u001b[33mSome\u001b[39m(\u001b[32m\"A\\u00f1o\"\u001b[39m),\n",
       "      \u001b[32mNone\u001b[39m,\n",
       "      \u001b[32mNone\u001b[39m,\n",
       "      \u001b[32mNone\u001b[39m,\n",
       "      \u001b[32mNone\u001b[39m,\n",
       "      \u001b[32mNone\u001b[39m,\n",
       "      \u001b[32mNone\u001b[39m,\n",
       "      \u001b[32mNone\u001b[39m,\n",
       "      \u001b[32mNone\u001b[39m,\n",
       "      \u001b[32mNone\u001b[39m,\n",
       "      \u001b[32mNone\u001b[39m,\n",
       "      \u001b[32mNone\u001b[39m,\n",
       "      \u001b[32mNone\u001b[39m,\n",
       "      \u001b[32mNone\u001b[39m,\n",
       "      \u001b[32mNone\u001b[39m,\n",
       "      \u001b[32mNone\u001b[39m,\n",
       "      \u001b[32mNone\u001b[39m,\n",
       "      \u001b[32mNone\u001b[39m,\n",
       "      \u001b[32mNone\u001b[39m,\n",
       "      \u001b[32mNone\u001b[39m,\n",
       "      \u001b[32mNone\u001b[39m,\n",
       "      \u001b[32mNone\u001b[39m,\n",
       "      \u001b[32mNone\u001b[39m,\n",
       "      \u001b[32mNone\u001b[39m,\n",
       "      \u001b[32mNone\u001b[39m,\n",
       "      \u001b[32mNone\u001b[39m,\n",
       "      \u001b[32mNone\u001b[39m,\n",
       "      \u001b[32mNone\u001b[39m,\n",
       "      \u001b[32mNone\u001b[39m,\n",
       "      \u001b[32mNone\u001b[39m,\n",
       "      \u001b[32mNone\u001b[39m,\n",
       "...\n",
       "\u001b[36mdata\u001b[39m: \u001b[32mSeq\u001b[39m[\u001b[32mScatter\u001b[39m] = \u001b[33mList\u001b[39m(\n",
       "  \u001b[33mScatter\u001b[39m(\n",
       "    \u001b[33mSome\u001b[39m(\n",
       "      \u001b[33mDoubles\u001b[39m(\n",
       "        \u001b[33mArrayBuffer\u001b[39m(\n",
       "          \u001b[32m2011.0\u001b[39m,\n",
       "          \u001b[32m2012.0\u001b[39m,\n",
       "          \u001b[32m2013.0\u001b[39m,\n",
       "          \u001b[32m2014.0\u001b[39m,\n",
       "          \u001b[32m2015.0\u001b[39m,\n",
       "          \u001b[32m2016.0\u001b[39m,\n",
       "          \u001b[32m2017.0\u001b[39m,\n",
       "          \u001b[32m2018.0\u001b[39m,\n",
       "          \u001b[32m2019.0\u001b[39m,\n",
       "          \u001b[32m2020.0\u001b[39m,\n",
       "          \u001b[32m2021.0\u001b[39m,\n",
       "          \u001b[32m2022.0\u001b[39m,\n",
       "          \u001b[32m2023.0\u001b[39m,\n",
       "          \u001b[32m2024.0\u001b[39m\n",
       "        )\n",
       "      )\n",
       "    ),\n",
       "    \u001b[33mSome\u001b[39m(\n",
       "      \u001b[33mDoubles\u001b[39m(\n",
       "        \u001b[33mArrayBuffer\u001b[39m(\n",
       "          \u001b[32m31.0\u001b[39m,\n",
       "          \u001b[32m30.0\u001b[39m,\n",
       "          \u001b[32m40.0\u001b[39m,\n",
       "          \u001b[32m40.0\u001b[39m,\n",
       "          \u001b[32m35.0\u001b[39m,\n",
       "          \u001b[32m38.0\u001b[39m,\n",
       "          \u001b[32m32.0\u001b[39m,\n",
       "          \u001b[32m38.0\u001b[39m,\n",
       "          \u001b[32m37.0\u001b[39m,\n",
       "          \u001b[32m44.0\u001b[39m,\n",
       "          \u001b[32m46.0\u001b[39m,\n",
       "          \u001b[32m42.0\u001b[39m,\n",
       "          \u001b[32m50.0\u001b[39m,\n",
       "          \u001b[32m56.0\u001b[39m\n",
       "...\n",
       "\u001b[36mres51_3\u001b[39m: \u001b[32mString\u001b[39m = \u001b[32m\"plot-1d27be1b-b85a-4608-940c-fb26232e93b0\"\u001b[39m"
      ]
     },
     "execution_count": 52,
     "metadata": {},
     "output_type": "execute_result"
    }
   ],
   "source": [
    "// Crear el Scatter para la gráfica lineal\n",
    "val traceRenovables = Scatter(\n",
    "  años, \n",
    "  renovables, \n",
    "  //mode = ScatterMode(ScatterMode.Lines + ScatterMode.Markers), // Gráfica con líneas y puntos\n",
    "  name = \"Porcentaje Renovable\"\n",
    ")\n",
    "\n",
    "// Configuración del Layout\n",
    "val layout = Layout(\n",
    "  title = \"Porcentaje de Generación Renovable (2011-2024)\",\n",
    "  xaxis = Axis(title = \"Año\"),\n",
    "  yaxis = Axis(\n",
    "      title = \"Porcentaje Renovable (%)\"\n",
    "  )\n",
    "    \n",
    "\n",
    ")\n",
    "\n",
    "// Graficar\n",
    "val data = Seq(traceRenovables)\n",
    "plot(data,layout)"
   ]
  },
  {
   "cell_type": "code",
   "execution_count": 48,
   "metadata": {},
   "outputs": [
    {
     "data": {
      "application/vnd.plotly.v1+json": {
       "data": [
        {
         "marker": {
          "color": "rgb(44, 160, 101)",
          "size": [
           51,
           50,
           60,
           60,
           55,
           58,
           52,
           58,
           57,
           64,
           66,
           62,
           70,
           76
          ]
         },
         "mode": "markers",
         "type": "scatter",
         "x": [
          2011,
          2012,
          2013,
          2014,
          2015,
          2016,
          2017,
          2018,
          2019,
          2020,
          2021,
          2022,
          2023,
          2024
         ],
         "y": [
          31,
          30,
          40,
          40,
          35,
          38,
          32,
          38,
          37,
          44,
          46,
          42,
          50,
          56
         ]
        }
       ],
       "layout": {
        "height": 400,
        "showlegend": false,
        "title": {
         "text": "Porcentaje de Generación Renovable (2011-2014)"
        },
        "width": 1500,
        "xaxis": {
         "autorange": true,
         "range": [
          2009.859092422057,
          2025.3212027072007
         ],
         "tickvals": [
          2011,
          2012,
          2013,
          2014,
          2015,
          2016,
          2017,
          2018,
          2019,
          2020,
          2021,
          2022,
          2023,
          2024
         ],
         "title": {
          "text": "Año"
         },
         "type": "linear"
        },
        "yaxis": {
         "range": [
          1,
          100
         ],
         "title": {
          "text": "Porcentaje Renovable (%)"
         },
         "type": "linear"
        }
       }
      },
      "image/png": "[encoded data removed]",
      "text/html": [
       "<div class=\"chart\" id=\"plot-5d18770b-d24e-4a90-9e8b-483dda9ba98e\"></div>\n",
       "<script>require(['plotly'], function(Plotly) {\n",
       "  (function () {\n",
       "  var data0 = {\"x\":[2011.0,2012.0,2013.0,2014.0,2015.0,2016.0,2017.0,2018.0,2019.0,2020.0,2021.0,2022.0,2023.0,2024.0],\"y\":[31.0,30.0,40.0,40.0,35.0,38.0,32.0,38.0,37.0,44.0,46.0,42.0,50.0,56.0],\"marker\":{\"size\":[51,50,60,60,55,58,52,58,57,64,66,62,70,76],\"color\":\"rgb(44, 160, 101)\"},\"mode\":\"markers\",\"type\":\"scatter\"};\n",
       "\n",
       "  var data = [data0];\n",
       "  var layout = {\"height\":400,\"title\":\"Porcentaje de Generación Renovable (2011-2014)\",\"yaxis\":{\"range\":[1.0,100.0],\"title\":\"Porcentaje Renovable (%)\"},\"xaxis\":{\"tickvals\":[2011.0,2012.0,2013.0,2014.0,2015.0,2016.0,2017.0,2018.0,2019.0,2020.0,2021.0,2022.0,2023.0,2024.0],\"title\":\"Año\"},\"width\":1500,\"showlegend\":false};\n",
       "\n",
       "  Plotly.plot('plot-5d18770b-d24e-4a90-9e8b-483dda9ba98e', data, layout);\n",
       "})();\n",
       "});\n",
       "      </script>\n",
       "           "
      ]
     },
     "metadata": {},
     "output_type": "display_data"
    },
    {
     "data": {
      "text/plain": [
       "\u001b[36mtrace1\u001b[39m: \u001b[32mScatter\u001b[39m = \u001b[33mScatter\u001b[39m(\n",
       "  \u001b[33mSome\u001b[39m(\n",
       "    \u001b[33mDoubles\u001b[39m(\n",
       "      \u001b[33mArrayBuffer\u001b[39m(\n",
       "        \u001b[32m2011.0\u001b[39m,\n",
       "        \u001b[32m2012.0\u001b[39m,\n",
       "        \u001b[32m2013.0\u001b[39m,\n",
       "        \u001b[32m2014.0\u001b[39m,\n",
       "        \u001b[32m2015.0\u001b[39m,\n",
       "        \u001b[32m2016.0\u001b[39m,\n",
       "        \u001b[32m2017.0\u001b[39m,\n",
       "        \u001b[32m2018.0\u001b[39m,\n",
       "        \u001b[32m2019.0\u001b[39m,\n",
       "        \u001b[32m2020.0\u001b[39m,\n",
       "        \u001b[32m2021.0\u001b[39m,\n",
       "        \u001b[32m2022.0\u001b[39m,\n",
       "        \u001b[32m2023.0\u001b[39m,\n",
       "        \u001b[32m2024.0\u001b[39m\n",
       "      )\n",
       "    )\n",
       "  ),\n",
       "  \u001b[33mSome\u001b[39m(\n",
       "    \u001b[33mDoubles\u001b[39m(\n",
       "      \u001b[33mArrayBuffer\u001b[39m(\n",
       "        \u001b[32m31.0\u001b[39m,\n",
       "        \u001b[32m30.0\u001b[39m,\n",
       "        \u001b[32m40.0\u001b[39m,\n",
       "        \u001b[32m40.0\u001b[39m,\n",
       "        \u001b[32m35.0\u001b[39m,\n",
       "        \u001b[32m38.0\u001b[39m,\n",
       "        \u001b[32m32.0\u001b[39m,\n",
       "        \u001b[32m38.0\u001b[39m,\n",
       "        \u001b[32m37.0\u001b[39m,\n",
       "        \u001b[32m44.0\u001b[39m,\n",
       "        \u001b[32m46.0\u001b[39m,\n",
       "        \u001b[32m42.0\u001b[39m,\n",
       "        \u001b[32m50.0\u001b[39m,\n",
       "        \u001b[32m56.0\u001b[39m\n",
       "      )\n",
       "...\n",
       "\u001b[36mdata\u001b[39m: \u001b[32mSeq\u001b[39m[\u001b[32mScatter\u001b[39m] = \u001b[33mList\u001b[39m(\n",
       "  \u001b[33mScatter\u001b[39m(\n",
       "    \u001b[33mSome\u001b[39m(\n",
       "      \u001b[33mDoubles\u001b[39m(\n",
       "        \u001b[33mArrayBuffer\u001b[39m(\n",
       "          \u001b[32m2011.0\u001b[39m,\n",
       "          \u001b[32m2012.0\u001b[39m,\n",
       "          \u001b[32m2013.0\u001b[39m,\n",
       "          \u001b[32m2014.0\u001b[39m,\n",
       "          \u001b[32m2015.0\u001b[39m,\n",
       "          \u001b[32m2016.0\u001b[39m,\n",
       "          \u001b[32m2017.0\u001b[39m,\n",
       "          \u001b[32m2018.0\u001b[39m,\n",
       "          \u001b[32m2019.0\u001b[39m,\n",
       "          \u001b[32m2020.0\u001b[39m,\n",
       "          \u001b[32m2021.0\u001b[39m,\n",
       "          \u001b[32m2022.0\u001b[39m,\n",
       "          \u001b[32m2023.0\u001b[39m,\n",
       "          \u001b[32m2024.0\u001b[39m\n",
       "        )\n",
       "      )\n",
       "    ),\n",
       "    \u001b[33mSome\u001b[39m(\n",
       "      \u001b[33mDoubles\u001b[39m(\n",
       "        \u001b[33mArrayBuffer\u001b[39m(\n",
       "          \u001b[32m31.0\u001b[39m,\n",
       "          \u001b[32m30.0\u001b[39m,\n",
       "          \u001b[32m40.0\u001b[39m,\n",
       "          \u001b[32m40.0\u001b[39m,\n",
       "          \u001b[32m35.0\u001b[39m,\n",
       "          \u001b[32m38.0\u001b[39m,\n",
       "          \u001b[32m32.0\u001b[39m,\n",
       "          \u001b[32m38.0\u001b[39m,\n",
       "          \u001b[32m37.0\u001b[39m,\n",
       "          \u001b[32m44.0\u001b[39m,\n",
       "          \u001b[32m46.0\u001b[39m,\n",
       "          \u001b[32m42.0\u001b[39m,\n",
       "          \u001b[32m50.0\u001b[39m,\n",
       "          \u001b[32m56.0\u001b[39m\n",
       "...\n",
       "\u001b[36mlayout\u001b[39m: \u001b[32mLayout\u001b[39m = \u001b[33mLayout\u001b[39m(\n",
       "  \u001b[33mSome\u001b[39m(\u001b[32m\"Porcentaje de Generaci\\u00f3n Renovable (2011-2014)\"\u001b[39m),\n",
       "  \u001b[32mNone\u001b[39m,\n",
       "  \u001b[33mSome\u001b[39m(\u001b[32m1500\u001b[39m),\n",
       "  \u001b[33mSome\u001b[39m(\u001b[32m400\u001b[39m),\n",
       "  \u001b[33mSome\u001b[39m(false),\n",
       "  \u001b[33mSome\u001b[39m(\n",
       "    \u001b[33mAxis\u001b[39m(\n",
       "      \u001b[33mSome\u001b[39m(\u001b[32m\"A\\u00f1o\"\u001b[39m),\n",
       "      \u001b[32mNone\u001b[39m,\n",
       "      \u001b[32mNone\u001b[39m,\n",
       "      \u001b[32mNone\u001b[39m,\n",
       "      \u001b[32mNone\u001b[39m,\n",
       "      \u001b[32mNone\u001b[39m,\n",
       "      \u001b[32mNone\u001b[39m,\n",
       "      \u001b[32mNone\u001b[39m,\n",
       "      \u001b[32mNone\u001b[39m,\n",
       "      \u001b[32mNone\u001b[39m,\n",
       "      \u001b[32mNone\u001b[39m,\n",
       "      \u001b[32mNone\u001b[39m,\n",
       "      \u001b[32mNone\u001b[39m,\n",
       "      \u001b[32mNone\u001b[39m,\n",
       "      \u001b[32mNone\u001b[39m,\n",
       "      \u001b[32mNone\u001b[39m,\n",
       "      \u001b[32mNone\u001b[39m,\n",
       "      \u001b[32mNone\u001b[39m,\n",
       "      \u001b[32mNone\u001b[39m,\n",
       "      \u001b[32mNone\u001b[39m,\n",
       "      \u001b[32mNone\u001b[39m,\n",
       "      \u001b[32mNone\u001b[39m,\n",
       "      \u001b[32mNone\u001b[39m,\n",
       "      \u001b[32mNone\u001b[39m,\n",
       "      \u001b[32mNone\u001b[39m,\n",
       "      \u001b[32mNone\u001b[39m,\n",
       "      \u001b[32mNone\u001b[39m,\n",
       "      \u001b[32mNone\u001b[39m,\n",
       "      \u001b[32mNone\u001b[39m,\n",
       "      \u001b[33mSome\u001b[39m(\n",
       "        \u001b[33mDoubles\u001b[39m(\n",
       "...\n",
       "\u001b[36mres47_3\u001b[39m: \u001b[32mString\u001b[39m = \u001b[32m\"plot-5d18770b-d24e-4a90-9e8b-483dda9ba98e\"\u001b[39m"
      ]
     },
     "execution_count": 48,
     "metadata": {},
     "output_type": "execute_result"
    }
   ],
   "source": [
    "val trace1 = Scatter(\n",
    "  años,\n",
    "  renovables,\n",
    "  mode = ScatterMode(ScatterMode.Markers),\n",
    "  marker = Marker(\n",
    "    color = Color.RGB(44, 160, 101),\n",
    "    size = renovables.map(_ + 20)\n",
    "  )\n",
    ")\n",
    "\n",
    "val data = Seq(trace1)\n",
    "\n",
    "val layout = Layout(\n",
    "  title = \"Porcentaje de Generación Renovable (2011-2014)\",\n",
    "  xaxis = Axis(\n",
    "    title = \"Año\",\n",
    "    tickvals = años\n",
    "  ), // Título del eje X\n",
    "  yaxis = Axis(\n",
    "    title = \"Porcentaje Renovable (%)\", // Título del eje Y\n",
    "    range = (1.0, 100.0) // Fijar el rango del eje Y de 1 a 100 como un par de Doubles\n",
    "  ),\n",
    "  showlegend = false, // Ocultar leyenda\n",
    "  height = 400, // Altura del gráfico\n",
    "  width = 1500 // Anchura del gráfico\n",
    ")\n",
    "\n",
    "\n",
    "plot(data, layout)\n"
   ]
  },
  {
   "cell_type": "code",
   "execution_count": null,
   "metadata": {},
   "outputs": [],
   "source": [
    "\n"
   ]
  },
  {
   "cell_type": "code",
   "execution_count": null,
   "metadata": {},
   "outputs": [],
   "source": []
  },
  {
   "cell_type": "code",
   "execution_count": null,
   "metadata": {},
   "outputs": [],
   "source": []
  },
  {
   "cell_type": "code",
   "execution_count": null,
   "metadata": {},
   "outputs": [],
   "source": []
  }
 ],
 "metadata": {
  "kernelspec": {
   "display_name": "Scala 2.12",
   "language": "scala",
   "name": "scala212"
  },
  "language_info": {
   "codemirror_mode": "text/x-scala",
   "file_extension": ".scala",
   "mimetype": "text/x-scala",
   "name": "scala",
   "nbconvert_exporter": "script",
   "version": "2.12.10"
  }
 },
 "nbformat": 4,
 "nbformat_minor": 4
}
