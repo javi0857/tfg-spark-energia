{
 "cells": [
  {
   "cell_type": "markdown",
   "metadata": {},
   "source": [
    "# Evolución de la generación segun la epoca del año"
   ]
  },
  {
   "cell_type": "code",
   "execution_count": 28,
   "metadata": {},
   "outputs": [
    {
     "data": {
      "text/html": [
       "Creating SparkSession\r\n"
      ]
     },
     "metadata": {},
     "output_type": "display_data"
    },
    {
     "data": {
      "text/html": [
       "<a target=\"_blank\" href=\"http://host.docker.internal:4042\">Spark UI</a>"
      ]
     },
     "metadata": {},
     "output_type": "display_data"
    },
    {
     "data": {
      "text/plain": [
       "\u001b[32mimport \u001b[39m\u001b[36m$ivy.$\u001b[39m\r\n",
       "\u001b[32mimport \u001b[39m\u001b[36morg.apache.spark.sql._\u001b[39m\r\n",
       "\u001b[32mimport \u001b[39m\u001b[36morg.apache.spark.sql.functions._\u001b[39m\r\n",
       "\u001b[32mimport \u001b[39m\u001b[36morg.apache.spark.sql.expressions.Window\u001b[39m\r\n",
       "\u001b[32mimport \u001b[39m\u001b[36morg.apache.log4j.{Level, Logger}\u001b[39m\r\n",
       "\u001b[32mimport \u001b[39m\u001b[36m$ivy.$\u001b[39m\r\n",
       "\u001b[32mimport \u001b[39m\u001b[36m$ivy.$\u001b[39m\r\n",
       "\u001b[32mimport \u001b[39m\u001b[36mplotly._, plotly.element._, plotly.layout._, plotly.Almond._\n",
       "\n",
       "\n",
       "//Iniciamos session de Spark\n",
       "\u001b[39m\r\n",
       "\u001b[36mspark\u001b[39m: \u001b[32mSparkSession\u001b[39m = org.apache.spark.sql.SparkSession@3574757a\r\n",
       "\u001b[32mimport \u001b[39m\u001b[36mspark.implicits._\u001b[39m"
      ]
     },
     "execution_count": 28,
     "metadata": {},
     "output_type": "execute_result"
    }
   ],
   "source": [
    "import $ivy.`org.apache.spark::spark-sql:2.4.3`\n",
    "\n",
    "\n",
    "import org.apache.spark.sql._\n",
    "import org.apache.spark.sql.functions._\n",
    "import org.apache.spark.sql.expressions.Window\n",
    "\n",
    "\n",
    "\n",
    "//Reducir numero logs\n",
    "import org.apache.log4j.{Level, Logger}\n",
    "Logger.getLogger(\"org\").setLevel(Level.OFF)\n",
    "\n",
    "\n",
    "//For adding extra dependenies\n",
    "import $ivy.`org.typelevel::cats-core:1.6.0`\n",
    "\n",
    "//Plotly\n",
    "import $ivy.`org.plotly-scala::plotly-almond:0.8.5`\n",
    "import plotly._, plotly.element._, plotly.layout._, plotly.Almond._\n",
    "\n",
    "\n",
    "//Iniciamos session de Spark\n",
    "val spark = {\n",
    "  NotebookSparkSession.builder()\n",
    "     .master(\"local[*]\")\n",
    "    //.config(\"spark.executor.instances\", \"4\") // Número de ejecutores\n",
    "    //.config(\"spark.executor.memory\", \"4g\") // Memoria por ejecutor\n",
    "    //.config(\"spark.executor.cores\", \"2\") // Núcleos por ejecutor\n",
    "    //.config(\"spark.driver.memory\", \"4g\") // Memoria del driver\n",
    "    //.config(\"spark.sql.shuffle.partitions\", \"8\") // Número de particiones para operaciones de shuffle\n",
    "    .getOrCreate()\n",
    "}\n",
    "import spark.implicits._"
   ]
  },
  {
   "cell_type": "code",
   "execution_count": 50,
   "metadata": {},
   "outputs": [
    {
     "data": {
      "text/html": []
     },
     "metadata": {},
     "output_type": "display_data"
    },
    {
     "data": {
      "text/html": []
     },
     "metadata": {},
     "output_type": "display_data"
    },
    {
     "data": {
      "text/html": []
     },
     "metadata": {},
     "output_type": "display_data"
    },
    {
     "data": {
      "text/html": []
     },
     "metadata": {},
     "output_type": "display_data"
    },
    {
     "data": {
      "text/plain": [
       "\u001b[36mdfBalance\u001b[39m: \u001b[32mDataFrame\u001b[39m = [Familia: string, Tipo: string ... 5 more fields]\r\n",
       "\u001b[36mdfDemanda\u001b[39m: \u001b[32mDataFrame\u001b[39m = [Fecha: timestamp, Valor_previsto: bigint ... 5 more fields]"
      ]
     },
     "execution_count": 50,
     "metadata": {},
     "output_type": "execute_result"
    }
   ],
   "source": [
    "val dfBalance: DataFrame = spark.read.parquet(\"../../data/parquet/dsBalanceNacional11-24.parquet\")\n",
    "\n",
    "val dfDemanda: DataFrame = spark.read.parquet(\"../../data/parquet/dsDemandaNacional14-24.parquet\")"
   ]
  },
  {
   "cell_type": "markdown",
   "metadata": {},
   "source": [
    "### Generación solar 2024"
   ]
  },
  {
   "cell_type": "code",
   "execution_count": 51,
   "metadata": {},
   "outputs": [
    {
     "data": {
      "text/html": []
     },
     "metadata": {},
     "output_type": "display_data"
    },
    {
     "data": {
      "text/html": []
     },
     "metadata": {},
     "output_type": "display_data"
    },
    {
     "name": "stdout",
     "output_type": "stream",
     "text": [
      "+---------+----------+---------+-------------------+----------+-------------------+--------------+\n",
      "|  Familia|      Tipo|Compuesto|         Porcentaje|     Valor|              Fecha|BajasEmisiones|\n",
      "+---------+----------+---------+-------------------+----------+-------------------+--------------+\n",
      "|Renovable|Hidráulica|    false| 0.2070493282098544| 73065.052|2014-01-01 01:00:00|          true|\n",
      "|Renovable|Hidráulica|    false|0.23631205453294465| 89171.545|2014-01-02 01:00:00|          true|\n",
      "|Renovable|Hidráulica|    false| 0.2735980903206654|102502.527|2014-01-03 01:00:00|          true|\n",
      "|Renovable|Hidráulica|    false|0.24018151631870316|106840.706|2014-01-04 01:00:00|          true|\n",
      "|Renovable|Hidráulica|    false|0.28984651129433686|117217.635|2014-01-05 01:00:00|          true|\n",
      "|Renovable|Hidráulica|    false| 0.3229806730258387|110841.694|2014-01-06 01:00:00|          true|\n",
      "|Renovable|Hidráulica|    false|0.40968176867979184| 137057.77|2014-01-07 01:00:00|          true|\n",
      "|Renovable|Hidráulica|    false| 0.4030920409555886|140921.275|2014-01-08 01:00:00|          true|\n",
      "|Renovable|Hidráulica|    false| 0.5488560654080734|145404.939|2014-01-09 01:00:00|          true|\n",
      "|Renovable|Hidráulica|    false| 0.5959363241216639|146323.349|2014-01-10 01:00:00|          true|\n",
      "|Renovable|Hidráulica|    false| 0.7178223002542007|148799.593|2014-01-11 01:00:00|          true|\n",
      "|Renovable|Hidráulica|    false| 0.4281795683708036|127057.432|2014-01-12 01:00:00|          true|\n",
      "|Renovable|Hidráulica|    false|0.37633334872672913|146286.975|2014-01-13 01:00:00|          true|\n",
      "|Renovable|Hidráulica|    false| 0.3015757985146716|134555.725|2014-01-14 01:00:00|          true|\n",
      "|Renovable|Hidráulica|    false| 0.3966742330031827| 142618.91|2014-01-15 01:00:00|          true|\n",
      "|Renovable|Hidráulica|    false| 0.3679510858563277|140457.456|2014-01-16 01:00:00|          true|\n",
      "|Renovable|Hidráulica|    false|0.37150001441121694|141433.915|2014-01-17 01:00:00|          true|\n",
      "|Renovable|Hidráulica|    false|  0.468368276902654|146938.396|2014-01-18 01:00:00|          true|\n",
      "|Renovable|Hidráulica|    false|0.38423803262476175|127720.689|2014-01-19 01:00:00|          true|\n",
      "|Renovable|Hidráulica|    false| 0.3368335938430425| 144555.38|2014-01-20 01:00:00|          true|\n",
      "+---------+----------+---------+-------------------+----------+-------------------+--------------+\n",
      "only showing top 20 rows\n",
      "\n"
     ]
    },
    {
     "data": {
      "text/html": []
     },
     "metadata": {},
     "output_type": "display_data"
    },
    {
     "data": {
      "text/html": []
     },
     "metadata": {},
     "output_type": "display_data"
    },
    {
     "name": "stdout",
     "output_type": "stream",
     "text": [
      "+-------------------+--------------+-------------------+----------------+---------------------+----------+-------------------+\n",
      "|              Fecha|Valor_previsto|Porcentaje_previsto|Valor_programado|Porcentaje_programado|Valor_real|    Porcentaje_real|\n",
      "+-------------------+--------------+-------------------+----------------+---------------------+----------+-------------------+\n",
      "|2023-01-31 14:55:00|         33015|0.33419712721051936|           33115|   0.3352093856603468|     32659|0.33059348712913383|\n",
      "|2023-01-03 12:40:00|         29249|0.33273420169501167|           29400|  0.33445196518969345|     29256|0.33281383311529494|\n",
      "|2023-01-21 05:30:00|         22130|0.33481095965021107|           21899|  0.33131609604066753|     22068|0.33387294430912146|\n",
      "|2023-01-29 15:05:00|         28091| 0.3345998999452081|           27890|   0.3322057317102223|     27973|0.33319436834456967|\n",
      "|2023-01-11 01:30:00|         25076| 0.3338747902963811|           24859|   0.3309855404361835|     25171| 0.3351396692674354|\n",
      "|2023-01-01 22:10:00|         24844|0.33381256298286865|           24809|  0.33334229089687606|     24772| 0.3328451461202553|\n",
      "|2023-01-28 14:50:00|         29728|0.33602730900089295|           29423|   0.3325797737060439|     29318| 0.3313929172930631|\n",
      "|2023-01-05 23:25:00|         26948|0.33535765842003085|           26452|  0.32918512618846135|     26956| 0.3354572153915078|\n",
      "|2023-01-23 02:25:00|         23286|0.33440560645661604|           23239|  0.33373064882097825|     23109| 0.3318637447224057|\n",
      "|2023-01-17 18:50:00|         32188|0.32834511532066385|           32910|  0.33571013250910425|     32933|0.33594475217023184|\n",
      "|2023-01-17 02:25:00|         24215| 0.3322813036020583|           24166|   0.3316089193825043|     24494|0.33610977701543737|\n",
      "|2023-01-01 22:50:00|         24334| 0.3332602919827988|           24309|  0.33291791065216797|     24375|0.33382179736503326|\n",
      "|2023-01-07 04:05:00|         19580|0.33472374179431075|           19293|  0.32981742341356673|     19623| 0.3354588347921225|\n",
      "|2023-01-18 15:45:00|         32831|0.33356362712725424|           32685|   0.3320802641605283|     32909|0.33435610871221744|\n",
      "|2023-01-08 02:30:00|         20985| 0.3298283666540928|           21112|  0.33182446875392935|     21527| 0.3383471645919779|\n",
      "|2023-01-31 02:55:00|         25018| 0.3343713663276353|           24999|  0.33411742692559576|     24804|  0.331511206746769|\n",
      "|2023-01-30 01:35:00|         25214|0.33466505621109355|           25031|   0.3322360998659428|     25096| 0.3330988439229636|\n",
      "|2023-01-12 14:40:00|         31253| 0.3350917259051969|           31094|  0.33338694286296333|     30920|0.33152133123183974|\n",
      "|2023-01-25 08:10:00|         31359| 0.3333156182904275|           31201|  0.33163623222295446|     31522|0.33504814948661804|\n",
      "|2023-01-17 19:35:00|         33661| 0.3312242929958869|           33785|   0.3324444531911125|     34180| 0.3363312538130006|\n",
      "+-------------------+--------------+-------------------+----------------+---------------------+----------+-------------------+\n",
      "only showing top 20 rows\n",
      "\n"
     ]
    }
   ],
   "source": [
    "dfBalance.show()\n",
    "dfDemanda.show()"
   ]
  },
  {
   "cell_type": "code",
   "execution_count": 60,
   "metadata": {},
   "outputs": [
    {
     "data": {
      "text/html": []
     },
     "metadata": {},
     "output_type": "display_data"
    },
    {
     "data": {
      "text/html": []
     },
     "metadata": {},
     "output_type": "display_data"
    },
    {
     "data": {
      "text/html": []
     },
     "metadata": {},
     "output_type": "display_data"
    },
    {
     "data": {
      "text/html": []
     },
     "metadata": {},
     "output_type": "display_data"
    },
    {
     "name": "stdout",
     "output_type": "stream",
     "text": [
      "+------+------------------+\n",
      "|Semana|  Producción Total|\n",
      "+------+------------------+\n",
      "|     1| 566606.7050000001|\n",
      "|     2|362314.96099999995|\n",
      "|     3|325335.36699999997|\n",
      "|     4|        618751.753|\n",
      "|     5|        655685.544|\n",
      "|     6|        427113.517|\n",
      "|     7|        626221.589|\n",
      "|     8|        681895.349|\n",
      "|     9| 719707.9729999999|\n",
      "|    10| 645588.9280000001|\n",
      "|    11|        922101.499|\n",
      "|    12|        715149.309|\n",
      "|    13|506176.90699999995|\n",
      "|    14| 775862.0610000001|\n",
      "|    15|        949792.507|\n",
      "|    16|1027905.1609999998|\n",
      "|    17|1012657.4879999999|\n",
      "|    18|1000724.1340000001|\n",
      "|    19|1143593.2619999999|\n",
      "|    20|       1100780.806|\n",
      "+------+------------------+\n",
      "only showing top 20 rows\n",
      "\n"
     ]
    },
    {
     "data": {
      "text/html": []
     },
     "metadata": {},
     "output_type": "display_data"
    },
    {
     "data": {
      "text/html": []
     },
     "metadata": {},
     "output_type": "display_data"
    },
    {
     "data": {
      "text/html": []
     },
     "metadata": {},
     "output_type": "display_data"
    },
    {
     "data": {
      "text/html": []
     },
     "metadata": {},
     "output_type": "display_data"
    },
    {
     "data": {
      "text/html": []
     },
     "metadata": {},
     "output_type": "display_data"
    },
    {
     "data": {
      "text/html": []
     },
     "metadata": {},
     "output_type": "display_data"
    },
    {
     "data": {
      "text/html": []
     },
     "metadata": {},
     "output_type": "display_data"
    },
    {
     "data": {
      "text/html": []
     },
     "metadata": {},
     "output_type": "display_data"
    },
    {
     "data": {
      "text/html": []
     },
     "metadata": {},
     "output_type": "display_data"
    },
    {
     "data": {
      "text/html": []
     },
     "metadata": {},
     "output_type": "display_data"
    },
    {
     "data": {
      "text/html": []
     },
     "metadata": {},
     "output_type": "display_data"
    },
    {
     "data": {
      "text/html": []
     },
     "metadata": {},
     "output_type": "display_data"
    },
    {
     "data": {
      "text/html": []
     },
     "metadata": {},
     "output_type": "display_data"
    },
    {
     "data": {
      "text/html": []
     },
     "metadata": {},
     "output_type": "display_data"
    },
    {
     "data": {
      "text/html": []
     },
     "metadata": {},
     "output_type": "display_data"
    },
    {
     "data": {
      "text/html": []
     },
     "metadata": {},
     "output_type": "display_data"
    },
    {
     "data": {
      "application/vnd.plotly.v1+json": {
       "config": {},
       "data": [
        {
         "name": "Producción Solar Fotovoltaica",
         "type": "scatter",
         "x": [
          1,
          2,
          3,
          4,
          5,
          6,
          7,
          8,
          9,
          10,
          11,
          12,
          13,
          14,
          15,
          16,
          17,
          18,
          19,
          20,
          21,
          22,
          23,
          24,
          25,
          26,
          27,
          28,
          29,
          30,
          31,
          32,
          33,
          34,
          35,
          36,
          37,
          38,
          39,
          40,
          41,
          42,
          43,
          44,
          45,
          46,
          47,
          48,
          49,
          50,
          51,
          52
         ],
         "y": [
          566606.7050000001,
          362314.96099999995,
          325335.36699999997,
          618751.753,
          655685.544,
          427113.517,
          626221.589,
          681895.349,
          719707.9729999999,
          645588.9280000001,
          922101.499,
          715149.309,
          506176.90699999995,
          775862.0610000001,
          949792.507,
          1027905.1609999998,
          1012657.4879999999,
          1000724.1340000001,
          1143593.2619999999,
          1100780.806,
          1225221.4079999998,
          1209569.218,
          1101820.733,
          1115752.999,
          1174712.072,
          1072366.477,
          1299574.3,
          1384083.6779999998,
          1306002.534,
          1337518.182,
          1265736.294,
          1303417.256,
          1214455.644,
          1173543.493,
          1058417.282,
          1098539.8490000002,
          1110345.364,
          855230.4040000001,
          822272.4330000001,
          870584.9929999999,
          545553.978,
          601838.337,
          681571.019,
          515298.1440000001,
          620791.742,
          482491.687,
          490027.23900000006,
          508013.58600000007,
          521087.79099999997,
          527640.9149999999,
          570168.4729999999,
          621811.324
         ]
        }
       ],
       "layout": {
        "autosize": true,
        "title": {
         "text": "Producción semanal de Energía Solar Fotovoltaica (2024)"
        },
        "xaxis": {
         "autorange": true,
         "range": [
          1,
          52
         ],
         "tickmode": "array",
         "title": {
          "text": "Semana"
         },
         "type": "linear"
        },
        "yaxis": {
         "autorange": true,
         "range": [
          266516.0163888889,
          1442903.028611111
         ],
         "title": {
          "text": "Producción Total (MWh)"
         },
         "type": "linear"
        }
       }
      },
      "image/png": "[encoded data removed]",
      "text/html": [
       "<div class=\"chart\" id=\"plot-ddf3da13-fb32-4b73-a8cc-faeff48853aa\"></div>\n",
       "<script>require(['plotly'], function(Plotly) {\n",
       "  (function () {\n",
       "  var data0 = {\"x\":[1.0,2.0,3.0,4.0,5.0,6.0,7.0,8.0,9.0,10.0,11.0,12.0,13.0,14.0,15.0,16.0,17.0,18.0,19.0,20.0,21.0,22.0,23.0,24.0,25.0,26.0,27.0,28.0,29.0,30.0,31.0,32.0,33.0,34.0,35.0,36.0,37.0,38.0,39.0,40.0,41.0,42.0,43.0,44.0,45.0,46.0,47.0,48.0,49.0,50.0,51.0,52.0],\"name\":\"Producción Solar Fotovoltaica\",\"y\":[566606.7050000001,362314.96099999995,325335.36699999997,618751.753,655685.544,427113.517,626221.589,681895.349,719707.9729999999,645588.9280000001,922101.499,715149.309,506176.90699999995,775862.0610000001,949792.507,1027905.1609999998,1012657.4879999999,1000724.1340000001,1143593.2619999999,1100780.806,1225221.4079999998,1209569.218,1101820.733,1115752.999,1174712.072,1072366.477,1299574.3,1384083.6779999998,1306002.534,1337518.182,1265736.294,1303417.256,1214455.644,1173543.493,1058417.282,1098539.8490000002,1110345.364,855230.4040000001,822272.4330000001,870584.9929999999,545553.978,601838.337,681571.019,515298.1440000001,620791.742,482491.687,490027.23900000006,508013.58600000007,521087.79099999997,527640.9149999999,570168.4729999999,621811.324],\"type\":\"scatter\"};\n",
       "\n",
       "  var data = [data0];\n",
       "  var layout = {\"title\":\"Producción semanal de Energía Solar Fotovoltaica (2024)\",\"yaxis\":{\"title\":\"Producción Total (MWh)\"},\"xaxis\":{\"tickmode\":\"array\",\"title\":\"Semana\"}};\n",
       " var config = {};\n",
       "\n",
       "  Plotly.plot('plot-ddf3da13-fb32-4b73-a8cc-faeff48853aa', data, layout, config);\n",
       "})();\n",
       "});\n",
       "      </script>\n",
       "           "
      ]
     },
     "metadata": {},
     "output_type": "display_data"
    },
    {
     "data": {
      "text/plain": [
       "defined \u001b[32mfunction\u001b[39m \u001b[36mproduccionSemanal2024\u001b[39m"
      ]
     },
     "execution_count": 60,
     "metadata": {},
     "output_type": "execute_result"
    }
   ],
   "source": [
    "def produccionSemanal2024(año: Int): Unit = {\n",
    "    \n",
    "// Filtrar los datos del año 2024 y del tipo \"Solar fotovoltaica\"\n",
    "  val dfFiltrado = dataFrameBalance\n",
    "    .filter(year($\"Fecha\") === año)\n",
    "    .withColumn(\"Semana\", weekofyear($\"Fecha\")) // Extraer el número de semana\n",
    "    .groupBy($\"Semana\")\n",
    "    .agg(sum(\"Valor\").as(\"Producción Total\")) // Sumar la producción por semana\n",
    "    .orderBy(\"Semana\")\n",
    "\n",
    "\n",
    "dfFiltrado.show()\n",
    "\n",
    "// Lista de meses en orden correcto\n",
    "val xSemanas = dfFiltrado.select(\"Semana\").as[Int].collect().toSeq\n",
    "val xMeses = Seq(\"Enero\", \"Abril\", \"Julio\", \"Octubre\")\n",
    "\n",
    "// Asegurar que todos los meses tengan valores (rellenar con 0 si faltan datos)\n",
    "val yDatos =  dfFiltrado.select(\"Producción Total\").as[Double].collect().toSeq\n",
    "\n",
    "val traceSolar = Scatter(xSemanas, yDatos)\n",
    "    .withName(\"Producción semanal 2024\")\n",
    "    .withXaxis(AxisReference.X)\n",
    "\n",
    "// Crear la traza para la gráfica\n",
    "val data = Seq(traceSolar)\n",
    "\n",
    "// Configuración del diseño del gráfico\n",
    "val lay = Layout()\n",
    "  .withTitle(\"Producción semanal en 2024\")\n",
    "  .withXaxis(Axis().withTitle(\"Semanas del año\").withTickmode(TickMode.Array))\n",
    "  .withYaxis(Axis().withTitle(\"Producción Total (MWh)\"))\n",
    "\n",
    "\n",
    "// Renderizar el gráfico\n",
    "plot(data, lay)\n",
    "\n",
    "    \n",
    "}\n",
    "mensual2024(2024)"
   ]
  },
  {
   "cell_type": "code",
   "execution_count": 57,
   "metadata": {},
   "outputs": [
    {
     "data": {
      "text/html": []
     },
     "metadata": {},
     "output_type": "display_data"
    },
    {
     "data": {
      "text/html": []
     },
     "metadata": {},
     "output_type": "display_data"
    },
    {
     "data": {
      "text/html": []
     },
     "metadata": {},
     "output_type": "display_data"
    },
    {
     "data": {
      "text/html": []
     },
     "metadata": {},
     "output_type": "display_data"
    },
    {
     "name": "stdout",
     "output_type": "stream",
     "text": [
      "+----+------+--------------------+\n",
      "| Año|Semana|    Producción Total|\n",
      "+----+------+--------------------+\n",
      "|2011|     1|1.6007861243999997E7|\n",
      "|2011|     2|      1.7035365374E7|\n",
      "|2011|     3|      1.7687760009E7|\n",
      "|2011|     4|      1.8435723092E7|\n",
      "|2011|     5|      1.7770039422E7|\n",
      "|2011|     6|      1.7089788469E7|\n",
      "|2011|     7|1.7276908582000002E7|\n",
      "|2011|     8|1.6245099095999999E7|\n",
      "|2011|     9|      1.7163860909E7|\n",
      "|2011|    10|1.6663656968000006E7|\n",
      "|2011|    11|1.6270422764999997E7|\n",
      "|2011|    12|1.5963303047999997E7|\n",
      "|2011|    13|      1.5425379672E7|\n",
      "|2011|    14|1.5034042221999995E7|\n",
      "|2011|    15|1.5058359628000002E7|\n",
      "|2011|    16|      1.3601141399E7|\n",
      "|2011|    17|1.4196374682999996E7|\n",
      "|2011|    18|      1.4337244078E7|\n",
      "|2011|    19|1.4752346723000003E7|\n",
      "|2011|    20|1.4517845976000005E7|\n",
      "|2011|    21|1.5105864447999999E7|\n",
      "|2011|    22|      1.4882972047E7|\n",
      "|2011|    23|1.4799798549999999E7|\n",
      "|2011|    24|      1.5421807788E7|\n",
      "|2011|    25|1.5833517382000003E7|\n",
      "|2011|    26|1.6683769355999999E7|\n",
      "|2011|    27|      1.6276933947E7|\n",
      "|2011|    28|1.6210392647000004E7|\n",
      "|2011|    29|1.5691385263999999E7|\n",
      "|2011|    30|1.5750265551000005E7|\n",
      "|2011|    31|1.5558223885999996E7|\n",
      "|2011|    32|1.5364783736000007E7|\n",
      "|2011|    33|1.5492466417999996E7|\n",
      "|2011|    34|1.5785792706999999E7|\n",
      "|2011|    35|      1.5729498086E7|\n",
      "|2011|    36|1.5844096859999998E7|\n",
      "|2011|    37| 1.634072520400001E7|\n",
      "|2011|    38|1.5355793327999994E7|\n",
      "|2011|    39|1.5355657730000002E7|\n",
      "|2011|    40|1.5160866060000004E7|\n",
      "|2011|    41|1.4445369545000002E7|\n",
      "|2011|    42|1.4913167178000003E7|\n",
      "|2011|    43|1.4971786186000004E7|\n",
      "|2011|    44|      1.4541620874E7|\n",
      "|2011|    45|1.5206494773000002E7|\n",
      "|2011|    46|      1.5484926174E7|\n",
      "|2011|    47|1.5632404270000003E7|\n",
      "|2011|    48|1.6168928695000002E7|\n",
      "|2011|    49|1.5130237985000001E7|\n",
      "|2011|    50|1.6655965235000001E7|\n",
      "|2011|    51|1.6063222952999998E7|\n",
      "|2011|    52|       1.700696591E7|\n",
      "|2012|     1|      1.7406087972E7|\n",
      "|2012|     2|1.7190011865000002E7|\n",
      "|2012|     3|      1.7233110536E7|\n",
      "|2012|     4|1.7068541623000003E7|\n",
      "|2012|     5|      1.8392239031E7|\n",
      "|2012|     6|1.8746874051999994E7|\n",
      "|2012|     7|      1.8274500818E7|\n",
      "|2012|     8|      1.7024979199E7|\n",
      "+----+------+--------------------+\n",
      "only showing top 60 rows\n",
      "\n"
     ]
    }
   ],
   "source": [
    "  val dfFiltrado = dataFrameBalance\n",
    "    //.filter($\"Tipo\" === \"Solar fotovoltaica\" && year($\"Fecha\") === año)\n",
    "    .withColumn(\"Semana\", weekofyear($\"Fecha\")) // Extraer el número de semana\n",
    "    .withColumn(\"Año\", year($\"Fecha\"))\n",
    "    .groupBy($\"Año\",$\"Semana\")\n",
    "    .agg(sum(\"Valor\").as(\"Producción Total\")) // Sumar la producción por semana\n",
    "    .orderBy(\"Año\",\"Semana\")\n",
    "    .show(60)"
   ]
  },
  {
   "cell_type": "code",
   "execution_count": null,
   "metadata": {},
   "outputs": [],
   "source": []
  }
 ],
 "metadata": {
  "kernelspec": {
   "display_name": "Scala (2.12)",
   "language": "scala",
   "name": "scala212"
  },
  "language_info": {
   "codemirror_mode": "text/x-scala",
   "file_extension": ".sc",
   "mimetype": "text/x-scala",
   "name": "scala",
   "nbconvert_exporter": "script",
   "version": "2.12.19"
  }
 },
 "nbformat": 4,
 "nbformat_minor": 4
}
