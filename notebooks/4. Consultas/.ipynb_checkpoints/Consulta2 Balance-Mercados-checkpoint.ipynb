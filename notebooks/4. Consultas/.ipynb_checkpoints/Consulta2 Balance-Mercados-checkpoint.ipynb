{
 "cells": [
  {
   "cell_type": "code",
   "execution_count": 9,
   "metadata": {},
   "outputs": [
    {
     "name": "stderr",
     "output_type": "stream",
     "text": [
      "cmd9.sc:19: object graph_objects is not a member of package plotly\n",
      "import plotly.graph_objects._\n",
      "              ^Compilation Failed"
     ]
    },
    {
     "ename": "",
     "evalue": "",
     "output_type": "error",
     "traceback": [
      "Compilation Failed"
     ]
    }
   ],
   "source": [
    "import $ivy.`org.apache.spark::spark-sql:2.4.3`\n",
    "\n",
    "\n",
    "import org.apache.spark.sql._\n",
    "import org.apache.spark.sql.functions._\n",
    "\n",
    "\n",
    "//Reducir numero logs\n",
    "import org.apache.log4j.{Level, Logger}\n",
    "Logger.getLogger(\"org\").setLevel(Level.OFF)\n",
    "\n",
    "\n",
    "//For adding extra dependenies\n",
    "import $ivy.`org.typelevel::cats-core:1.6.0`\n",
    "\n",
    "//Plotly\n",
    "import $ivy.`org.plotly-scala::plotly-almond:0.7.1`\n",
    "import plotly._, plotly.element._, plotly.layout._, plotly.Almond._\n",
    "\n",
    "\n",
    "\n",
    "//Iniciamos session de Spark\n",
    "val spark = {\n",
    "  NotebookSparkSession.builder()\n",
    "     .master(\"local[*]\")\n",
    "    //.config(\"spark.executor.instances\", \"4\") // Número de ejecutores\n",
    "    //.config(\"spark.executor.memory\", \"4g\") // Memoria por ejecutor\n",
    "    //.config(\"spark.executor.cores\", \"2\") // Núcleos por ejecutor\n",
    "    //.config(\"spark.driver.memory\", \"4g\") // Memoria del driver\n",
    "    //.config(\"spark.sql.shuffle.partitions\", \"8\") // Número de particiones para operaciones de shuffle\n",
    "    .getOrCreate()\n",
    "}\n",
    "import spark.implicits._\n",
    "\n",
    "\n",
    "val pathDatosConsulta2 = \"../../data/parquet/DatosConsulta2.parquet\"\n",
    "\n",
    "\n",
    "val datosConsulta2: DataFrame = spark.read\n",
    "  //.option(\"header\", \"true\") // Si el archivo tiene un encabezado\n",
    "  //.option(\"inferSchema\", \"true\") // Para inferir automáticamente el esquema\n",
    "  //.csv(filePath)\n",
    "    .option(\"encoding\", \"UTF-8\")\n",
    "    .parquet(pathDatosConsulta2)\n"
   ]
  },
  {
   "cell_type": "code",
   "execution_count": 2,
   "metadata": {},
   "outputs": [
    {
     "data": {
      "text/html": [
       "<div>\n",
       "  <span style=\"float: left;\">parquet at cmd1.sc:3</span>\n",
       "</div>\n"
      ]
     },
     "metadata": {},
     "output_type": "display_data"
    },
    {
     "data": {
      "text/html": [
       "<div class=\"progress\">\n",
       "  <div class=\"progress-bar\" role=\"progressbar\" style=\"background-color: blue; width: 100%; word-wrap: normal; white-space: nowrap; text-align: center; color: white\" aria-valuenow=\"100\" aria-valuemin=\"0\" aria-valuemax=\"100\">\n",
       "    1 / 1\n",
       "  </div>\n",
       "  <div class=\"progress-bar\" role=\"progressbar\" style=\"background-color: red; width: 0%\" aria-valuenow=\"0\" aria-valuemin=\"0\" aria-valuemax=\"100\"></div>\n",
       "</div>\n"
      ]
     },
     "metadata": {},
     "output_type": "display_data"
    },
    {
     "data": {
      "text/html": [
       "<div>\n",
       "  <span style=\"float: left;\">parquet at cmd1.sc:7</span>\n",
       "</div>\n"
      ]
     },
     "metadata": {},
     "output_type": "display_data"
    },
    {
     "data": {
      "text/html": [
       "<div class=\"progress\">\n",
       "  <div class=\"progress-bar\" role=\"progressbar\" style=\"background-color: blue; width: 100%; word-wrap: normal; white-space: nowrap; text-align: center; color: white\" aria-valuenow=\"100\" aria-valuemin=\"0\" aria-valuemax=\"100\">\n",
       "    1 / 1\n",
       "  </div>\n",
       "  <div class=\"progress-bar\" role=\"progressbar\" style=\"background-color: red; width: 0%\" aria-valuenow=\"0\" aria-valuemin=\"0\" aria-valuemax=\"100\"></div>\n",
       "</div>\n"
      ]
     },
     "metadata": {},
     "output_type": "display_data"
    },
    {
     "data": {
      "text/plain": [
       "\u001b[36mfilePath\u001b[39m: \u001b[32mString\u001b[39m = \u001b[32m\"../../data/parquet/dsMercadoNacionalTotalPrueba.parquet\"\u001b[39m\n",
       "\u001b[36mdataFrameMercados\u001b[39m: \u001b[32mDataFrame\u001b[39m = [Fecha: timestamp, Valor_Mercado_Spot: double ... 3 more fields]\n",
       "\u001b[36mfilePathBalance\u001b[39m: \u001b[32mString\u001b[39m = \u001b[32m\"../../data/parquet/dsBalanceNacional11-24.parquet\"\u001b[39m\n",
       "\u001b[36mdatosBalance\u001b[39m: \u001b[32mDataFrame\u001b[39m = [Familia: string, Tipo: string ... 5 more fields]"
      ]
     },
     "execution_count": 2,
     "metadata": {},
     "output_type": "execute_result"
    }
   ],
   "source": [
    "val filePath = \"../../data/parquet/dsMercadoNacionalTotalPrueba.parquet\"\n",
    "val dataFrameMercados: DataFrame = spark.read\n",
    "    .parquet(filePath)\n",
    "\n",
    "val filePathBalance = \"../../data/parquet/dsBalanceNacional11-24.parquet\"  \n",
    "val datosBalance: DataFrame = spark.read\n",
    "    .parquet(filePathBalance)"
   ]
  },
  {
   "cell_type": "code",
   "execution_count": 15,
   "metadata": {},
   "outputs": [
    {
     "data": {
      "text/html": [
       "<div>\n",
       "  <span style=\"float: left;\">collect at cmd14.sc:5</span>\n",
       "</div>\n"
      ]
     },
     "metadata": {},
     "output_type": "display_data"
    },
    {
     "data": {
      "text/html": [
       "<div class=\"progress\">\n",
       "  <div class=\"progress-bar\" role=\"progressbar\" style=\"background-color: blue; width: 100%; word-wrap: normal; white-space: nowrap; text-align: center; color: white\" aria-valuenow=\"100\" aria-valuemin=\"0\" aria-valuemax=\"100\">\n",
       "    15 / 15\n",
       "  </div>\n",
       "  <div class=\"progress-bar\" role=\"progressbar\" style=\"background-color: red; width: 0%\" aria-valuenow=\"0\" aria-valuemin=\"0\" aria-valuemax=\"100\"></div>\n",
       "</div>\n"
      ]
     },
     "metadata": {},
     "output_type": "display_data"
    },
    {
     "data": {
      "text/html": [
       "<div>\n",
       "  <span style=\"float: left;\">collect at cmd14.sc:5</span>\n",
       "</div>\n"
      ]
     },
     "metadata": {},
     "output_type": "display_data"
    },
    {
     "data": {
      "text/html": [
       "<div class=\"progress\">\n",
       "  <div class=\"progress-bar\" role=\"progressbar\" style=\"background-color: blue; width: 100%; word-wrap: normal; white-space: nowrap; text-align: center; color: white\" aria-valuenow=\"100\" aria-valuemin=\"0\" aria-valuemax=\"100\">\n",
       "    1 / 1\n",
       "  </div>\n",
       "  <div class=\"progress-bar\" role=\"progressbar\" style=\"background-color: red; width: 0%\" aria-valuenow=\"0\" aria-valuemin=\"0\" aria-valuemax=\"100\"></div>\n",
       "</div>\n"
      ]
     },
     "metadata": {},
     "output_type": "display_data"
    },
    {
     "data": {
      "text/html": [
       "<div>\n",
       "  <span style=\"float: left;\">show at cmd14.sc:24</span>\n",
       "</div>\n"
      ]
     },
     "metadata": {},
     "output_type": "display_data"
    },
    {
     "data": {
      "text/html": [
       "<div class=\"progress\">\n",
       "  <div class=\"progress-bar\" role=\"progressbar\" style=\"background-color: blue; width: 100%; word-wrap: normal; white-space: nowrap; text-align: center; color: white\" aria-valuenow=\"100\" aria-valuemin=\"0\" aria-valuemax=\"100\">\n",
       "    15 / 15\n",
       "  </div>\n",
       "  <div class=\"progress-bar\" role=\"progressbar\" style=\"background-color: red; width: 0%\" aria-valuenow=\"0\" aria-valuemin=\"0\" aria-valuemax=\"100\"></div>\n",
       "</div>\n"
      ]
     },
     "metadata": {},
     "output_type": "display_data"
    },
    {
     "data": {
      "text/html": [
       "<div>\n",
       "  <span style=\"float: left;\">show at cmd14.sc:24</span>\n",
       "</div>\n"
      ]
     },
     "metadata": {},
     "output_type": "display_data"
    },
    {
     "data": {
      "text/html": [
       "<div class=\"progress\">\n",
       "  <div class=\"progress-bar\" role=\"progressbar\" style=\"background-color: blue; width: 100%; word-wrap: normal; white-space: nowrap; text-align: center; color: white\" aria-valuenow=\"100\" aria-valuemin=\"0\" aria-valuemax=\"100\">\n",
       "    200 / 200\n",
       "  </div>\n",
       "  <div class=\"progress-bar\" role=\"progressbar\" style=\"background-color: red; width: 0%\" aria-valuenow=\"0\" aria-valuemin=\"0\" aria-valuemax=\"100\"></div>\n",
       "</div>\n"
      ]
     },
     "metadata": {},
     "output_type": "display_data"
    },
    {
     "data": {
      "text/html": [
       "<div>\n",
       "  <span style=\"float: left;\">show at cmd14.sc:24</span>\n",
       "</div>\n"
      ]
     },
     "metadata": {},
     "output_type": "display_data"
    },
    {
     "data": {
      "text/html": [
       "<div class=\"progress\">\n",
       "  <div class=\"progress-bar\" role=\"progressbar\" style=\"background-color: blue; width: 100%; word-wrap: normal; white-space: nowrap; text-align: center; color: white\" aria-valuenow=\"100\" aria-valuemin=\"0\" aria-valuemax=\"100\">\n",
       "    200 / 200\n",
       "  </div>\n",
       "  <div class=\"progress-bar\" role=\"progressbar\" style=\"background-color: red; width: 0%\" aria-valuenow=\"0\" aria-valuemin=\"0\" aria-valuemax=\"100\"></div>\n",
       "</div>\n"
      ]
     },
     "metadata": {},
     "output_type": "display_data"
    },
    {
     "data": {
      "text/html": [
       "<div>\n",
       "  <span style=\"float: left;\">show at cmd14.sc:24</span>\n",
       "</div>\n"
      ]
     },
     "metadata": {},
     "output_type": "display_data"
    },
    {
     "data": {
      "text/html": [
       "<div class=\"progress\">\n",
       "  <div class=\"progress-bar\" role=\"progressbar\" style=\"background-color: blue; width: 100%; word-wrap: normal; white-space: nowrap; text-align: center; color: white\" aria-valuenow=\"100\" aria-valuemin=\"0\" aria-valuemax=\"100\">\n",
       "    17 / 17\n",
       "  </div>\n",
       "  <div class=\"progress-bar\" role=\"progressbar\" style=\"background-color: red; width: 0%\" aria-valuenow=\"0\" aria-valuemin=\"0\" aria-valuemax=\"100\"></div>\n",
       "</div>\n"
      ]
     },
     "metadata": {},
     "output_type": "display_data"
    },
    {
     "data": {
      "text/html": [
       "<div>\n",
       "  <span style=\"float: left;\">show at cmd14.sc:24</span>\n",
       "</div>\n"
      ]
     },
     "metadata": {},
     "output_type": "display_data"
    },
    {
     "data": {
      "text/html": [
       "<div class=\"progress\">\n",
       "  <div class=\"progress-bar\" role=\"progressbar\" style=\"background-color: blue; width: 100%; word-wrap: normal; white-space: nowrap; text-align: center; color: white\" aria-valuenow=\"100\" aria-valuemin=\"0\" aria-valuemax=\"100\">\n",
       "    1 / 1\n",
       "  </div>\n",
       "  <div class=\"progress-bar\" role=\"progressbar\" style=\"background-color: red; width: 0%\" aria-valuenow=\"0\" aria-valuemin=\"0\" aria-valuemax=\"100\"></div>\n",
       "</div>\n"
      ]
     },
     "metadata": {},
     "output_type": "display_data"
    },
    {
     "name": "stdout",
     "output_type": "stream",
     "text": [
      "+--------------------+-----------+--------------+------------------------+\n",
      "|                Tipo|Valor total|Porcentaje (%)|Porcentaje acumulado (%)|\n",
      "+--------------------+-----------+--------------+------------------------+\n",
      "|             Nuclear|     767.26|          20.6|                    20.6|\n",
      "|              Eólica|     741.53|         19.91|                   40.51|\n",
      "|     Ciclo combinado|      562.6|         15.11|                   55.62|\n",
      "|          Hidráulica|     406.05|          10.9|                   66.52|\n",
      "|              Carbón|     388.97|         10.45|                   76.97|\n",
      "|        Cogeneración|     359.68|          9.66|                   86.63|\n",
      "|  Solar fotovoltaica|     218.44|          5.87|                    92.5|\n",
      "|       Solar térmica|      61.92|          1.66|                   94.16|\n",
      "|    Otras renovables|      54.25|          1.46|                   95.62|\n",
      "|  Turbinación bombeo|      43.58|          1.17|                   96.79|\n",
      "|      Motores diésel|      42.18|          1.13|                   97.92|\n",
      "|    Turbina de vapor|      27.96|          0.75|                   98.67|\n",
      "|Residuos no renov...|      27.57|          0.74|                   99.41|\n",
      "| Residuos renovables|      11.02|           0.3|                   99.71|\n",
      "|      Turbina de gas|      10.65|          0.29|                   100.0|\n",
      "|         Hidroeólica|        0.2|          0.01|                  100.01|\n",
      "|          Fuel + Gas|      -0.02|           0.0|                  100.01|\n",
      "+--------------------+-----------+--------------+------------------------+\n",
      "\n"
     ]
    },
    {
     "data": {
      "text/plain": [
       "\u001b[32mimport \u001b[39m\u001b[36morg.apache.spark.sql.expressions.Window\n",
       "\n",
       "\u001b[39m\n",
       "\u001b[36mtotalGlobal\u001b[39m: \u001b[32mDouble\u001b[39m = \u001b[32m3.723835654957E9\u001b[39m\n",
       "\u001b[36mventanaOrdenada\u001b[39m: \u001b[32mexpressions\u001b[39m.\u001b[32mWindowSpec\u001b[39m = org.apache.spark.sql.expressions.WindowSpec@56233e3b\n",
       "\u001b[36mtotalPorTipo\u001b[39m: \u001b[32mDataFrame\u001b[39m = [Tipo: string, Valor total: double ... 2 more fields]"
      ]
     },
     "execution_count": 15,
     "metadata": {},
     "output_type": "execute_result"
    }
   ],
   "source": [
    "import org.apache.spark.sql.expressions.Window\n",
    "\n",
    "val totalGlobal = datosBalance\n",
    "    .filter(!$\"Compuesto\" && $\"Familia\" =!= \"Demanda\")\n",
    "    .agg(sum($\"Valor\").as(\"TotalGlobal\"))\n",
    "    .collect()(0).getAs[Double](\"TotalGlobal\")\n",
    "\n",
    "val ventanaOrdenada = Window.orderBy(desc(\"ValorTotal\"))\n",
    "val totalPorTipo = datosBalance\n",
    "    .filter(!$\"Compuesto\" && $\"Familia\" =!= \"Demanda\")\n",
    "    .groupBy($\"Tipo\")\n",
    "    .agg(sum($\"Valor\").as(\"ValorTotal\"))\n",
    "    .orderBy(desc(\"ValorTotal\"))\n",
    "    .withColumn(\"Porcentaje (%)\", round($\"ValorTotal\" / totalGlobal * 100, 2))\n",
    "    .withColumn(\"Valor total\", round($\"ValorTotal\"/1e6, 2))\n",
    "    .withColumn(\n",
    "        \"Porcentaje acumulado (%)\",\n",
    "        round(sum($\"Porcentaje (%)\").over(ventanaOrdenada), 2))\n",
    "    .select($\"Tipo\", $\"Valor total\", $\"Porcentaje (%)\", $\"Porcentaje acumulado (%)\")\n",
    "    //.withColumn(\"Total\", sum(\"ValorTotal\"))\n",
    "   \n",
    "    //.withColumn(\"PorcentajeSobreTotal\", round($\"Valor\" / $\"TotalGenerado\" * 100,2))\n",
    "    \n",
    "totalPorTipo.show()"
   ]
  },
  {
   "cell_type": "code",
   "execution_count": 22,
   "metadata": {},
   "outputs": [
    {
     "data": {
      "text/html": [
       "<div>\n",
       "  <span style=\"float: left;\">show at cmd21.sc:6</span>\n",
       "</div>\n"
      ]
     },
     "metadata": {},
     "output_type": "display_data"
    },
    {
     "data": {
      "text/html": [
       "<div class=\"progress\">\n",
       "  <div class=\"progress-bar\" role=\"progressbar\" style=\"background-color: blue; width: 100%; word-wrap: normal; white-space: nowrap; text-align: center; color: white\" aria-valuenow=\"100\" aria-valuemin=\"0\" aria-valuemax=\"100\">\n",
       "    15 / 15\n",
       "  </div>\n",
       "  <div class=\"progress-bar\" role=\"progressbar\" style=\"background-color: red; width: 0%\" aria-valuenow=\"0\" aria-valuemin=\"0\" aria-valuemax=\"100\"></div>\n",
       "</div>\n"
      ]
     },
     "metadata": {},
     "output_type": "display_data"
    },
    {
     "data": {
      "text/html": [
       "<div>\n",
       "  <span style=\"float: left;\">show at cmd21.sc:6</span>\n",
       "</div>\n"
      ]
     },
     "metadata": {},
     "output_type": "display_data"
    },
    {
     "data": {
      "text/html": [
       "<div class=\"progress\">\n",
       "  <div class=\"progress-bar\" role=\"progressbar\" style=\"background-color: blue; width: 100%; word-wrap: normal; white-space: nowrap; text-align: center; color: white\" aria-valuenow=\"100\" aria-valuemin=\"0\" aria-valuemax=\"100\">\n",
       "    15 / 15\n",
       "  </div>\n",
       "  <div class=\"progress-bar\" role=\"progressbar\" style=\"background-color: red; width: 0%\" aria-valuenow=\"0\" aria-valuemin=\"0\" aria-valuemax=\"100\"></div>\n",
       "</div>\n"
      ]
     },
     "metadata": {},
     "output_type": "display_data"
    },
    {
     "data": {
      "text/html": [
       "<div>\n",
       "  <span style=\"float: left;\">show at cmd21.sc:6</span>\n",
       "</div>\n"
      ]
     },
     "metadata": {},
     "output_type": "display_data"
    },
    {
     "data": {
      "text/html": [
       "<div class=\"progress\">\n",
       "  <div class=\"progress-bar\" role=\"progressbar\" style=\"background-color: blue; width: 100%; word-wrap: normal; white-space: nowrap; text-align: center; color: white\" aria-valuenow=\"100\" aria-valuemin=\"0\" aria-valuemax=\"100\">\n",
       "    200 / 200\n",
       "  </div>\n",
       "  <div class=\"progress-bar\" role=\"progressbar\" style=\"background-color: red; width: 0%\" aria-valuenow=\"0\" aria-valuemin=\"0\" aria-valuemax=\"100\"></div>\n",
       "</div>\n"
      ]
     },
     "metadata": {},
     "output_type": "display_data"
    },
    {
     "data": {
      "text/html": [
       "<div>\n",
       "  <span style=\"float: left;\">show at cmd21.sc:6</span>\n",
       "</div>\n"
      ]
     },
     "metadata": {},
     "output_type": "display_data"
    },
    {
     "data": {
      "text/html": [
       "<div class=\"progress\">\n",
       "  <div class=\"progress-bar\" role=\"progressbar\" style=\"background-color: blue; width: 100%; word-wrap: normal; white-space: nowrap; text-align: center; color: white\" aria-valuenow=\"100\" aria-valuemin=\"0\" aria-valuemax=\"100\">\n",
       "    1 / 1\n",
       "  </div>\n",
       "  <div class=\"progress-bar\" role=\"progressbar\" style=\"background-color: red; width: 0%\" aria-valuenow=\"0\" aria-valuemin=\"0\" aria-valuemax=\"100\"></div>\n",
       "</div>\n"
      ]
     },
     "metadata": {},
     "output_type": "display_data"
    },
    {
     "name": "stdout",
     "output_type": "stream",
     "text": [
      "+----------+---------------+\n",
      "|  FechaDia|PrecioMercado_€|\n",
      "+----------+---------------+\n",
      "|2014-02-16|          23.01|\n",
      "|2014-02-22|          18.37|\n",
      "|2014-05-27|          49.16|\n",
      "|2014-12-13|          45.95|\n",
      "|2015-05-01|          39.12|\n",
      "|2016-08-17|          43.35|\n",
      "|2017-05-14|          44.21|\n",
      "|2017-12-05|          76.54|\n",
      "|2019-08-08|          47.56|\n",
      "|2019-08-22|          40.97|\n",
      "|2019-08-23|          41.53|\n",
      "|2020-02-26|          31.97|\n",
      "|2020-04-13|          22.52|\n",
      "|2021-11-03|         154.29|\n",
      "|2022-10-05|         162.89|\n",
      "|2023-01-21|          58.89|\n",
      "|2023-05-01|          61.41|\n",
      "|2023-05-18|           52.2|\n",
      "|2024-01-19|          70.87|\n",
      "|2024-07-14|          51.54|\n",
      "+----------+---------------+\n",
      "only showing top 20 rows\n",
      "\n"
     ]
    },
    {
     "data": {
      "text/plain": [
       "\u001b[36mmercadoDiario\u001b[39m: \u001b[32mDataFrame\u001b[39m = [FechaDia: string, PrecioMercado_€: double]"
      ]
     },
     "execution_count": 22,
     "metadata": {},
     "output_type": "execute_result"
    }
   ],
   "source": [
    "val mercadoDiario = dfMercados\n",
    "            .groupBy(date_format(col(\"Fecha\"),\"yyyy-MM-dd\").as(\"FechaDia\"))\n",
    "            .agg(avg(\"Valor_Mercado_Spot\").as(\"ValorMercadoSpot\"))\n",
    "            .withColumn(\"PrecioMercado_€\", round(col(\"ValorMercadoSpot\"), 2))\n",
    "            .drop(\"ValorMercadoSpot\")\n",
    "mercadoDiario.show()"
   ]
  },
  {
   "cell_type": "code",
   "execution_count": 23,
   "metadata": {},
   "outputs": [
    {
     "data": {
      "text/html": [
       "<div>\n",
       "  <span style=\"float: left;\">collect at cmd22.sc:10</span>\n",
       "</div>\n"
      ]
     },
     "metadata": {},
     "output_type": "display_data"
    },
    {
     "data": {
      "text/html": [
       "<div class=\"progress\">\n",
       "  <div class=\"progress-bar\" role=\"progressbar\" style=\"background-color: blue; width: 100%; word-wrap: normal; white-space: nowrap; text-align: center; color: white\" aria-valuenow=\"100\" aria-valuemin=\"0\" aria-valuemax=\"100\">\n",
       "    15 / 15\n",
       "  </div>\n",
       "  <div class=\"progress-bar\" role=\"progressbar\" style=\"background-color: red; width: 0%\" aria-valuenow=\"0\" aria-valuemin=\"0\" aria-valuemax=\"100\"></div>\n",
       "</div>\n"
      ]
     },
     "metadata": {},
     "output_type": "display_data"
    },
    {
     "data": {
      "text/html": [
       "<div>\n",
       "  <span style=\"float: left;\">collect at cmd22.sc:10</span>\n",
       "</div>\n"
      ]
     },
     "metadata": {},
     "output_type": "display_data"
    },
    {
     "data": {
      "text/html": [
       "<div class=\"progress\">\n",
       "  <div class=\"progress-bar\" role=\"progressbar\" style=\"background-color: blue; width: 100%; word-wrap: normal; white-space: nowrap; text-align: center; color: white\" aria-valuenow=\"100\" aria-valuemin=\"0\" aria-valuemax=\"100\">\n",
       "    200 / 200\n",
       "  </div>\n",
       "  <div class=\"progress-bar\" role=\"progressbar\" style=\"background-color: red; width: 0%\" aria-valuenow=\"0\" aria-valuemin=\"0\" aria-valuemax=\"100\"></div>\n",
       "</div>\n"
      ]
     },
     "metadata": {},
     "output_type": "display_data"
    },
    {
     "data": {
      "text/plain": [
       "\u001b[36mtop7Energias\u001b[39m: \u001b[32mSeq\u001b[39m[\u001b[32mString\u001b[39m] = \u001b[33mWrappedArray\u001b[39m(\n",
       "  \u001b[32m\"Nuclear\"\u001b[39m,\n",
       "  \u001b[32m\"E\\u00f3lica\"\u001b[39m,\n",
       "  \u001b[32m\"Ciclo combinado\"\u001b[39m,\n",
       "  \u001b[32m\"Hidr\\u00e1ulica\"\u001b[39m,\n",
       "  \u001b[32m\"Carb\\u00f3n\"\u001b[39m,\n",
       "  \u001b[32m\"Cogeneraci\\u00f3n\"\u001b[39m,\n",
       "  \u001b[32m\"Solar fotovoltaica\"\u001b[39m\n",
       ")"
      ]
     },
     "execution_count": 23,
     "metadata": {},
     "output_type": "execute_result"
    }
   ],
   "source": [
    "val top7Energias = datosBalance\n",
    "            .filter($\"Compuesto\" === false)\n",
    "            .filter($\"Familia\" =!= \"Demanda\")\n",
    "            .groupBy($\"Tipo\")\n",
    "            .agg(sum($\"Valor\").as(\"ValorTotal\"))\n",
    "            .withColumn(\"Valor total millones MWh\", round(col(\"ValorTotal\") / 1e6, 2))\n",
    "            .orderBy(desc(\"Valor total millones MWh\"))\n",
    "            .limit(7)\n",
    "            .select($\"Tipo\")\n",
    "            .as[String]\n",
    "            .collect\n",
    "            .toSeq "
   ]
  },
  {
   "cell_type": "code",
   "execution_count": 30,
   "metadata": {},
   "outputs": [
    {
     "data": {
      "text/html": [
       "<div>\n",
       "  <span style=\"float: left;\">show at cmd29.sc:13</span>\n",
       "</div>\n"
      ]
     },
     "metadata": {},
     "output_type": "display_data"
    },
    {
     "data": {
      "text/html": [
       "<div class=\"progress\">\n",
       "  <div class=\"progress-bar\" role=\"progressbar\" style=\"background-color: blue; width: 100%; word-wrap: normal; white-space: nowrap; text-align: center; color: white\" aria-valuenow=\"100\" aria-valuemin=\"0\" aria-valuemax=\"100\">\n",
       "    15 / 15\n",
       "  </div>\n",
       "  <div class=\"progress-bar\" role=\"progressbar\" style=\"background-color: red; width: 0%\" aria-valuenow=\"0\" aria-valuemin=\"0\" aria-valuemax=\"100\"></div>\n",
       "</div>\n"
      ]
     },
     "metadata": {},
     "output_type": "display_data"
    },
    {
     "data": {
      "text/html": [
       "<div>\n",
       "  <span style=\"float: left;\">show at cmd29.sc:13</span>\n",
       "</div>\n"
      ]
     },
     "metadata": {},
     "output_type": "display_data"
    },
    {
     "data": {
      "text/html": [
       "<div class=\"progress\">\n",
       "  <div class=\"progress-bar\" role=\"progressbar\" style=\"background-color: blue; width: 100%; word-wrap: normal; white-space: nowrap; text-align: center; color: white\" aria-valuenow=\"100\" aria-valuemin=\"0\" aria-valuemax=\"100\">\n",
       "    1 / 1\n",
       "  </div>\n",
       "  <div class=\"progress-bar\" role=\"progressbar\" style=\"background-color: red; width: 0%\" aria-valuenow=\"0\" aria-valuemin=\"0\" aria-valuemax=\"100\"></div>\n",
       "</div>\n"
      ]
     },
     "metadata": {},
     "output_type": "display_data"
    },
    {
     "name": "stdout",
     "output_type": "stream",
     "text": [
      "+----------+------------------+------------+----------+-----------------------+\n",
      "|  FechaDia|              Tipo|     Familia|     Valor|PorcentajeRespectoTotal|\n",
      "+----------+------------------+------------+----------+-----------------------+\n",
      "|2011-01-29|        Hidráulica|   Renovable|150659.269|                  19.88|\n",
      "|2011-01-29|            Eólica|   Renovable| 81389.835|                  10.74|\n",
      "|2011-01-29|Solar fotovoltaica|   Renovable|  9929.075|                   1.31|\n",
      "|2011-01-29|           Nuclear|No-Renovable|140675.006|                  18.56|\n",
      "|2011-01-29|   Ciclo combinado|No-Renovable| 228301.66|                  30.13|\n",
      "|2011-01-29|            Carbón|No-Renovable| 68850.485|                   9.09|\n",
      "|2011-01-29|      Cogeneración|No-Renovable| 77940.386|                  10.29|\n",
      "|2013-03-14|        Hidráulica|   Renovable|167466.941|                  20.76|\n",
      "|2013-03-14|            Eólica|   Renovable|237151.152|                   29.4|\n",
      "|2013-03-14|Solar fotovoltaica|   Renovable|  29023.18|                    3.6|\n",
      "|2013-03-14|           Nuclear|No-Renovable|170571.361|                  21.15|\n",
      "|2013-03-14|   Ciclo combinado|No-Renovable| 65291.804|                   8.09|\n",
      "|2013-03-14|            Carbón|No-Renovable|  37027.26|                   4.59|\n",
      "|2013-03-14|      Cogeneración|No-Renovable|100106.852|                  12.41|\n",
      "|2014-02-16|        Hidráulica|   Renovable|235188.511|                  37.55|\n",
      "|2014-02-16|            Eólica|   Renovable| 68173.549|                  10.88|\n",
      "|2014-02-16|Solar fotovoltaica|   Renovable| 16820.627|                   2.69|\n",
      "|2014-02-16|           Nuclear|No-Renovable|171152.861|                  27.32|\n",
      "|2014-02-16|   Ciclo combinado|No-Renovable| 55033.705|                   8.79|\n",
      "|2014-02-16|            Carbón|No-Renovable| 27920.502|                   4.46|\n",
      "+----------+------------------+------------+----------+-----------------------+\n",
      "only showing top 20 rows\n",
      "\n"
     ]
    },
    {
     "data": {
      "text/plain": [
       "\u001b[36mdfBalanceFiltrado\u001b[39m: \u001b[32mDataFrame\u001b[39m = [Familia: string, Tipo: string ... 6 more fields]\n",
       "\u001b[36mwindowTotal\u001b[39m: \u001b[32mexpressions\u001b[39m.\u001b[32mWindowSpec\u001b[39m = org.apache.spark.sql.expressions.WindowSpec@42751310\n",
       "\u001b[36mdfBalanceConPorcentajeTotal\u001b[39m: \u001b[32mDataFrame\u001b[39m = [FechaDia: string, Tipo: string ... 3 more fields]"
      ]
     },
     "execution_count": 30,
     "metadata": {},
     "output_type": "execute_result"
    }
   ],
   "source": [
    "val dfBalanceFiltrado = datosBalance \n",
    "            .filter($\"Tipo\".isin(top7Energias: _*))\n",
    "            .withColumn(\"FechaDia\", date_format(col(\"Fecha\"), \"yyyy-MM-dd\")) // Extraer solo la parte del día\n",
    "\n",
    "// // Calcular el porcentaje diario de cada tipo de energía\n",
    "val windowTotal = Window.partitionBy(\"FechaDia\") // Ventana para agrupar por día\n",
    "\n",
    "val dfBalanceConPorcentajeTotal = dfBalanceFiltrado\n",
    "    .withColumn(\"GeneracionTotalDiaria\", sum(\"Valor\").over(windowTotal)) // Total de generación por cada día\n",
    "    .withColumn(\"PorcentajeRespectoTotal\", round((col(\"Valor\") / col(\"GeneracionTotalDiaria\")) * 100, 2)) //Calcular porcentaje\n",
    "    .select(\"FechaDia\", \"Tipo\", \"Familia\", \"Valor\", \"PorcentajeRespectoTotal\") //Selectiono las columnas relevantes\n",
    "\n",
    "dfBalanceConPorcentajeTotal.show()"
   ]
  },
  {
   "cell_type": "code",
   "execution_count": 28,
   "metadata": {},
   "outputs": [
    {
     "data": {
      "text/html": [
       "<div>\n",
       "  <span style=\"float: left;\">pivot at cmd27.sc:3</span>\n",
       "</div>\n"
      ]
     },
     "metadata": {},
     "output_type": "display_data"
    },
    {
     "data": {
      "text/html": [
       "<div class=\"progress\">\n",
       "  <div class=\"progress-bar\" role=\"progressbar\" style=\"background-color: blue; width: 100%; word-wrap: normal; white-space: nowrap; text-align: center; color: white\" aria-valuenow=\"100\" aria-valuemin=\"0\" aria-valuemax=\"100\">\n",
       "    15 / 15\n",
       "  </div>\n",
       "  <div class=\"progress-bar\" role=\"progressbar\" style=\"background-color: red; width: 0%\" aria-valuenow=\"0\" aria-valuemin=\"0\" aria-valuemax=\"100\"></div>\n",
       "</div>\n"
      ]
     },
     "metadata": {},
     "output_type": "display_data"
    },
    {
     "data": {
      "text/html": [
       "<div>\n",
       "  <span style=\"float: left;\">pivot at cmd27.sc:3</span>\n",
       "</div>\n"
      ]
     },
     "metadata": {},
     "output_type": "display_data"
    },
    {
     "data": {
      "text/html": [
       "<div class=\"progress\">\n",
       "  <div class=\"progress-bar\" role=\"progressbar\" style=\"background-color: blue; width: 100%; word-wrap: normal; white-space: nowrap; text-align: center; color: white\" aria-valuenow=\"100\" aria-valuemin=\"0\" aria-valuemax=\"100\">\n",
       "    200 / 200\n",
       "  </div>\n",
       "  <div class=\"progress-bar\" role=\"progressbar\" style=\"background-color: red; width: 0%\" aria-valuenow=\"0\" aria-valuemin=\"0\" aria-valuemax=\"100\"></div>\n",
       "</div>\n"
      ]
     },
     "metadata": {},
     "output_type": "display_data"
    },
    {
     "data": {
      "text/html": [
       "<div>\n",
       "  <span style=\"float: left;\">pivot at cmd27.sc:3</span>\n",
       "</div>\n"
      ]
     },
     "metadata": {},
     "output_type": "display_data"
    },
    {
     "data": {
      "text/html": [
       "<div class=\"progress\">\n",
       "  <div class=\"progress-bar\" role=\"progressbar\" style=\"background-color: blue; width: 100%; word-wrap: normal; white-space: nowrap; text-align: center; color: white\" aria-valuenow=\"100\" aria-valuemin=\"0\" aria-valuemax=\"100\">\n",
       "    1 / 1\n",
       "  </div>\n",
       "  <div class=\"progress-bar\" role=\"progressbar\" style=\"background-color: red; width: 0%\" aria-valuenow=\"0\" aria-valuemin=\"0\" aria-valuemax=\"100\"></div>\n",
       "</div>\n"
      ]
     },
     "metadata": {},
     "output_type": "display_data"
    },
    {
     "data": {
      "text/html": [
       "<div>\n",
       "  <span style=\"float: left;\">show at cmd27.sc:5</span>\n",
       "</div>\n"
      ]
     },
     "metadata": {},
     "output_type": "display_data"
    },
    {
     "data": {
      "text/html": [
       "<div class=\"progress\">\n",
       "  <div class=\"progress-bar\" role=\"progressbar\" style=\"background-color: blue; width: 100%; word-wrap: normal; white-space: nowrap; text-align: center; color: white\" aria-valuenow=\"100\" aria-valuemin=\"0\" aria-valuemax=\"100\">\n",
       "    15 / 15\n",
       "  </div>\n",
       "  <div class=\"progress-bar\" role=\"progressbar\" style=\"background-color: red; width: 0%\" aria-valuenow=\"0\" aria-valuemin=\"0\" aria-valuemax=\"100\"></div>\n",
       "</div>\n"
      ]
     },
     "metadata": {},
     "output_type": "display_data"
    },
    {
     "data": {
      "text/html": [
       "<div>\n",
       "  <span style=\"float: left;\">show at cmd27.sc:5</span>\n",
       "</div>\n"
      ]
     },
     "metadata": {},
     "output_type": "display_data"
    },
    {
     "data": {
      "text/html": [
       "<div class=\"progress\">\n",
       "  <div class=\"progress-bar\" role=\"progressbar\" style=\"background-color: blue; width: 100%; word-wrap: normal; white-space: nowrap; text-align: center; color: white\" aria-valuenow=\"100\" aria-valuemin=\"0\" aria-valuemax=\"100\">\n",
       "    1 / 1\n",
       "  </div>\n",
       "  <div class=\"progress-bar\" role=\"progressbar\" style=\"background-color: red; width: 0%\" aria-valuenow=\"0\" aria-valuemin=\"0\" aria-valuemax=\"100\"></div>\n",
       "</div>\n"
      ]
     },
     "metadata": {},
     "output_type": "display_data"
    },
    {
     "name": "stdout",
     "output_type": "stream",
     "text": [
      "+----------+--------+----------+-----------------+-------------------+--------------+----------------+--------+----------+------------+--------------+---------+-----------+--------------------+----------------------+\n",
      "|  FechaDia|Carbón_%|Carbón_MWh|Ciclo combinado_%|Ciclo combinado_MWh|Cogeneración_%|Cogeneración_MWh|Eólica_%|Eólica_MWh|Hidráulica_%|Hidráulica_MWh|Nuclear_%|Nuclear_MWh|Solar fotovoltaica_%|Solar fotovoltaica_MWh|\n",
      "+----------+--------+----------+-----------------+-------------------+--------------+----------------+--------+----------+------------+--------------+---------+-----------+--------------------+----------------------+\n",
      "|2011-01-29|    9.09| 68850.485|            30.13|          228301.66|         10.29|       77940.386|   10.74| 81389.835|       19.88|    150659.269|    18.56| 140675.006|                1.31|              9929.075|\n",
      "|2013-03-14|    4.59|  37027.26|             8.09|          65291.804|         12.41|      100106.852|    29.4|237151.152|       20.76|    167466.941|    21.15| 170571.361|                 3.6|              29023.18|\n",
      "|2014-02-16|    4.46| 27920.502|             8.79|          55033.705|          8.32|       52104.606|   10.88| 68173.549|       37.55|    235188.511|    27.32| 171152.861|                2.69|             16820.627|\n",
      "|2014-02-22|    4.09| 27664.697|              6.1|          41286.869|          7.94|       53753.717|   21.74|147221.996|       31.28|     211822.81|    25.26| 171039.058|                 3.6|             24388.962|\n",
      "|2014-05-27|   28.85|192538.263|             7.41|          49441.543|          10.4|       69388.315|   18.37|122554.358|        13.6|     90728.549|    18.24|  121745.59|                3.13|             20903.096|\n",
      "|2014-12-13|   19.33|135139.316|             8.21|          57383.908|          9.25|        64627.95|   27.66|193319.156|       13.59|     94969.614|    20.85| 145704.097|                1.12|              7802.997|\n",
      "|2015-05-01|   11.77| 65636.001|            13.89|          77465.556|         10.59|        59092.16|   28.62|159639.843|       13.21|     73700.846|    16.85|  94012.106|                5.07|             28273.968|\n",
      "|2016-08-17|    22.7|146257.664|            14.76|          95065.188|         10.78|       69466.766|    10.0| 64415.619|       11.25|     72468.377|    25.83| 166430.527|                4.68|             30134.516|\n",
      "|2017-05-14|   23.49|131638.711|             12.2|          68372.223|         13.29|         74451.5|   12.58| 70521.667|        11.5|     64428.537|     21.7| 121616.623|                5.24|             29347.402|\n",
      "|2017-12-05|   22.25|187157.322|            35.78|         300943.264|         10.41|       87565.457|    7.07| 59498.154|        5.01|     42111.416|    17.14|  144179.66|                2.33|             19572.404|\n",
      "|2019-08-08|    3.66| 27240.255|            27.39|         203681.685|          10.5|        78068.29|   26.92|200148.942|        5.24|     38927.905|    21.96| 163280.073|                4.33|             32206.551|\n",
      "|2019-08-22|    2.17| 14613.418|            36.78|         247790.412|         11.48|       77370.242|   13.09| 88207.708|        6.35|      42800.86|    24.77| 166850.097|                5.36|             36088.935|\n",
      "|2019-08-23|    2.25| 14224.941|            37.47|         236924.766|         11.73|       74161.006|   11.09| 70130.836|        5.52|      34918.22|    26.37| 166725.828|                5.57|             35252.467|\n",
      "|2020-02-26|    3.61| 25668.771|              9.3|          66186.799|         10.63|        75631.69|   34.04|242230.001|       12.17|     86598.329|    23.97| 170592.256|                6.27|             44640.043|\n",
      "|2020-04-13|    1.35|  6908.854|            13.36|          68288.051|         13.16|       67275.258|   19.37| 99032.495|       15.54|     79429.507|    30.37| 155290.184|                6.85|             35043.993|\n",
      "|2021-11-03|    2.39| 17159.977|            22.91|         164803.866|         10.07|       72444.884|   33.39|240229.333|        4.75|     34179.654|    19.81| 142537.618|                6.69|             48105.043|\n",
      "|2022-10-05|    2.57| 18982.002|            36.06|         265886.212|          5.56|       40988.703|   23.13|170577.908|        2.36|     17394.309|    19.43| 143251.124|               10.89|             80312.204|\n",
      "|2023-01-21|    0.94|  6666.731|             8.01|          57126.089|          5.12|       36515.785|   38.45|274156.087|       15.13|     107838.09|    23.87| 170194.031|                8.48|             60460.119|\n",
      "|2023-05-01|    1.89| 11716.695|            22.97|         142110.962|          8.98|       55553.915|   15.74| 97424.079|        8.74|     54063.366|    19.62|  121420.83|               22.06|            136501.263|\n",
      "|2023-05-18|    1.02|  7113.187|            10.13|          70919.543|          7.58|       53057.114|   39.96|279714.487|        5.64|     39449.075|    17.13|  119930.95|               18.54|            129791.207|\n",
      "+----------+--------+----------+-----------------+-------------------+--------------+----------------+--------+----------+------------+--------------+---------+-----------+--------------------+----------------------+\n",
      "only showing top 20 rows\n",
      "\n"
     ]
    },
    {
     "data": {
      "text/plain": [
       "\u001b[36mdfBalancePivotadoTipo\u001b[39m: \u001b[32mDataFrame\u001b[39m = [FechaDia: string, Carbón_%: double ... 13 more fields]"
      ]
     },
     "execution_count": 28,
     "metadata": {},
     "output_type": "execute_result"
    }
   ],
   "source": [
    "val dfBalancePivotadoTipo = dfBalanceConPorcentajeTotal\n",
    "    .groupBy(\"FechaDia\")\n",
    "    .pivot(\"Tipo\")\n",
    "    .agg(first(\"PorcentajeRespectoTotal\").as(\"%\"), first(\"Valor\").as(\"MWh\"))\n",
    "\n",
    "dfBalancePivotadoTipo.show()"
   ]
  },
  {
   "cell_type": "code",
   "execution_count": 31,
   "metadata": {},
   "outputs": [
    {
     "data": {
      "text/plain": [
       "\u001b[36munionMercadosBalance\u001b[39m: \u001b[32mDataFrame\u001b[39m = [FechaDia: string, PrecioMercado_€: double ... 14 more fields]"
      ]
     },
     "execution_count": 31,
     "metadata": {},
     "output_type": "execute_result"
    }
   ],
   "source": [
    "val unionMercadosBalance = mercadoDiario.join(dfBalancePivotadoTipo, Seq(\"FechaDia\"), \"inner\")"
   ]
  },
  {
   "cell_type": "code",
   "execution_count": 32,
   "metadata": {},
   "outputs": [
    {
     "data": {
      "text/html": [
       "<div>\n",
       "  <span style=\"float: left;\">run at ThreadPoolExecutor.java:1149</span>\n",
       "</div>\n"
      ]
     },
     "metadata": {},
     "output_type": "display_data"
    },
    {
     "data": {
      "text/html": [
       "<div class=\"progress\">\n",
       "  <div class=\"progress-bar\" role=\"progressbar\" style=\"background-color: blue; width: 100%; word-wrap: normal; white-space: nowrap; text-align: center; color: white\" aria-valuenow=\"100\" aria-valuemin=\"0\" aria-valuemax=\"100\">\n",
       "    15 / 15\n",
       "  </div>\n",
       "  <div class=\"progress-bar\" role=\"progressbar\" style=\"background-color: red; width: 0%\" aria-valuenow=\"0\" aria-valuemin=\"0\" aria-valuemax=\"100\"></div>\n",
       "</div>\n"
      ]
     },
     "metadata": {},
     "output_type": "display_data"
    },
    {
     "data": {
      "text/html": [
       "<div>\n",
       "  <span style=\"float: left;\">run at ThreadPoolExecutor.java:1149</span>\n",
       "</div>\n"
      ]
     },
     "metadata": {},
     "output_type": "display_data"
    },
    {
     "data": {
      "text/html": [
       "<div class=\"progress\">\n",
       "  <div class=\"progress-bar\" role=\"progressbar\" style=\"background-color: blue; width: 100%; word-wrap: normal; white-space: nowrap; text-align: center; color: white\" aria-valuenow=\"100\" aria-valuemin=\"0\" aria-valuemax=\"100\">\n",
       "    15 / 15\n",
       "  </div>\n",
       "  <div class=\"progress-bar\" role=\"progressbar\" style=\"background-color: red; width: 0%\" aria-valuenow=\"0\" aria-valuemin=\"0\" aria-valuemax=\"100\"></div>\n",
       "</div>\n"
      ]
     },
     "metadata": {},
     "output_type": "display_data"
    },
    {
     "data": {
      "text/html": [
       "<div>\n",
       "  <span style=\"float: left;\">run at ThreadPoolExecutor.java:1149</span>\n",
       "</div>\n"
      ]
     },
     "metadata": {},
     "output_type": "display_data"
    },
    {
     "data": {
      "text/html": [
       "<div class=\"progress\">\n",
       "  <div class=\"progress-bar\" role=\"progressbar\" style=\"background-color: blue; width: 100%; word-wrap: normal; white-space: nowrap; text-align: center; color: white\" aria-valuenow=\"100\" aria-valuemin=\"0\" aria-valuemax=\"100\">\n",
       "    200 / 200\n",
       "  </div>\n",
       "  <div class=\"progress-bar\" role=\"progressbar\" style=\"background-color: red; width: 0%\" aria-valuenow=\"0\" aria-valuemin=\"0\" aria-valuemax=\"100\"></div>\n",
       "</div>\n"
      ]
     },
     "metadata": {},
     "output_type": "display_data"
    },
    {
     "data": {
      "text/html": [
       "<div>\n",
       "  <span style=\"float: left;\">run at ThreadPoolExecutor.java:1149</span>\n",
       "</div>\n"
      ]
     },
     "metadata": {},
     "output_type": "display_data"
    },
    {
     "data": {
      "text/html": [
       "<div class=\"progress\">\n",
       "  <div class=\"progress-bar\" role=\"progressbar\" style=\"background-color: blue; width: 100%; word-wrap: normal; white-space: nowrap; text-align: center; color: white\" aria-valuenow=\"100\" aria-valuemin=\"0\" aria-valuemax=\"100\">\n",
       "    200 / 200\n",
       "  </div>\n",
       "  <div class=\"progress-bar\" role=\"progressbar\" style=\"background-color: red; width: 0%\" aria-valuenow=\"0\" aria-valuemin=\"0\" aria-valuemax=\"100\"></div>\n",
       "</div>\n"
      ]
     },
     "metadata": {},
     "output_type": "display_data"
    },
    {
     "data": {
      "text/html": [
       "<div>\n",
       "  <span style=\"float: left;\">show at cmd31.sc:1</span>\n",
       "</div>\n"
      ]
     },
     "metadata": {},
     "output_type": "display_data"
    },
    {
     "data": {
      "text/html": [
       "<div class=\"progress\">\n",
       "  <div class=\"progress-bar\" role=\"progressbar\" style=\"background-color: blue; width: 100%; word-wrap: normal; white-space: nowrap; text-align: center; color: white\" aria-valuenow=\"100\" aria-valuemin=\"0\" aria-valuemax=\"100\">\n",
       "    15 / 15\n",
       "  </div>\n",
       "  <div class=\"progress-bar\" role=\"progressbar\" style=\"background-color: red; width: 0%\" aria-valuenow=\"0\" aria-valuemin=\"0\" aria-valuemax=\"100\"></div>\n",
       "</div>\n"
      ]
     },
     "metadata": {},
     "output_type": "display_data"
    },
    {
     "data": {
      "text/html": [
       "<div>\n",
       "  <span style=\"float: left;\">show at cmd31.sc:1</span>\n",
       "</div>\n"
      ]
     },
     "metadata": {},
     "output_type": "display_data"
    },
    {
     "data": {
      "text/html": [
       "<div class=\"progress\">\n",
       "  <div class=\"progress-bar\" role=\"progressbar\" style=\"background-color: blue; width: 100%; word-wrap: normal; white-space: nowrap; text-align: center; color: white\" aria-valuenow=\"100\" aria-valuemin=\"0\" aria-valuemax=\"100\">\n",
       "    1 / 1\n",
       "  </div>\n",
       "  <div class=\"progress-bar\" role=\"progressbar\" style=\"background-color: red; width: 0%\" aria-valuenow=\"0\" aria-valuemin=\"0\" aria-valuemax=\"100\"></div>\n",
       "</div>\n"
      ]
     },
     "metadata": {},
     "output_type": "display_data"
    },
    {
     "name": "stdout",
     "output_type": "stream",
     "text": [
      "+----------+---------------+--------+----------+-----------------+-------------------+--------------+----------------+--------+----------+------------+--------------+---------+-----------+--------------------+----------------------+\n",
      "|  FechaDia|PrecioMercado_€|Carbón_%|Carbón_MWh|Ciclo combinado_%|Ciclo combinado_MWh|Cogeneración_%|Cogeneración_MWh|Eólica_%|Eólica_MWh|Hidráulica_%|Hidráulica_MWh|Nuclear_%|Nuclear_MWh|Solar fotovoltaica_%|Solar fotovoltaica_MWh|\n",
      "+----------+---------------+--------+----------+-----------------+-------------------+--------------+----------------+--------+----------+------------+--------------+---------+-----------+--------------------+----------------------+\n",
      "|2014-02-16|          23.01|    4.46| 27920.502|             8.79|          55033.705|          8.32|       52104.606|   10.88| 68173.549|       37.55|    235188.511|    27.32| 171152.861|                2.69|             16820.627|\n",
      "|2014-02-22|          18.37|    4.09| 27664.697|              6.1|          41286.869|          7.94|       53753.717|   21.74|147221.996|       31.28|     211822.81|    25.26| 171039.058|                 3.6|             24388.962|\n",
      "|2014-05-27|          49.16|   28.85|192538.263|             7.41|          49441.543|          10.4|       69388.315|   18.37|122554.358|        13.6|     90728.549|    18.24|  121745.59|                3.13|             20903.096|\n",
      "|2014-12-13|          45.95|   19.33|135139.316|             8.21|          57383.908|          9.25|        64627.95|   27.66|193319.156|       13.59|     94969.614|    20.85| 145704.097|                1.12|              7802.997|\n",
      "|2015-05-01|          39.12|   11.77| 65636.001|            13.89|          77465.556|         10.59|        59092.16|   28.62|159639.843|       13.21|     73700.846|    16.85|  94012.106|                5.07|             28273.968|\n",
      "|2016-08-17|          43.35|    22.7|146257.664|            14.76|          95065.188|         10.78|       69466.766|    10.0| 64415.619|       11.25|     72468.377|    25.83| 166430.527|                4.68|             30134.516|\n",
      "|2017-05-14|          44.21|   23.49|131638.711|             12.2|          68372.223|         13.29|         74451.5|   12.58| 70521.667|        11.5|     64428.537|     21.7| 121616.623|                5.24|             29347.402|\n",
      "|2017-12-05|          76.54|   22.25|187157.322|            35.78|         300943.264|         10.41|       87565.457|    7.07| 59498.154|        5.01|     42111.416|    17.14|  144179.66|                2.33|             19572.404|\n",
      "|2019-08-08|          47.56|    3.66| 27240.255|            27.39|         203681.685|          10.5|        78068.29|   26.92|200148.942|        5.24|     38927.905|    21.96| 163280.073|                4.33|             32206.551|\n",
      "|2019-08-22|          40.97|    2.17| 14613.418|            36.78|         247790.412|         11.48|       77370.242|   13.09| 88207.708|        6.35|      42800.86|    24.77| 166850.097|                5.36|             36088.935|\n",
      "|2019-08-23|          41.53|    2.25| 14224.941|            37.47|         236924.766|         11.73|       74161.006|   11.09| 70130.836|        5.52|      34918.22|    26.37| 166725.828|                5.57|             35252.467|\n",
      "|2020-02-26|          31.97|    3.61| 25668.771|              9.3|          66186.799|         10.63|        75631.69|   34.04|242230.001|       12.17|     86598.329|    23.97| 170592.256|                6.27|             44640.043|\n",
      "|2020-04-13|          22.52|    1.35|  6908.854|            13.36|          68288.051|         13.16|       67275.258|   19.37| 99032.495|       15.54|     79429.507|    30.37| 155290.184|                6.85|             35043.993|\n",
      "|2021-11-03|         154.29|    2.39| 17159.977|            22.91|         164803.866|         10.07|       72444.884|   33.39|240229.333|        4.75|     34179.654|    19.81| 142537.618|                6.69|             48105.043|\n",
      "|2022-10-05|         162.89|    2.57| 18982.002|            36.06|         265886.212|          5.56|       40988.703|   23.13|170577.908|        2.36|     17394.309|    19.43| 143251.124|               10.89|             80312.204|\n",
      "|2023-01-21|          58.89|    0.94|  6666.731|             8.01|          57126.089|          5.12|       36515.785|   38.45|274156.087|       15.13|     107838.09|    23.87| 170194.031|                8.48|             60460.119|\n",
      "|2023-05-01|          61.41|    1.89| 11716.695|            22.97|         142110.962|          8.98|       55553.915|   15.74| 97424.079|        8.74|     54063.366|    19.62|  121420.83|               22.06|            136501.263|\n",
      "|2023-05-18|           52.2|    1.02|  7113.187|            10.13|          70919.543|          7.58|       53057.114|   39.96|279714.487|        5.64|     39449.075|    17.13|  119930.95|               18.54|            129791.207|\n",
      "|2024-01-19|          70.87|    1.04|  7713.877|             8.72|          65008.695|          7.99|       59551.121|   38.69|288302.159|       18.36|    136816.953|    22.24| 165723.946|                2.97|             22114.409|\n",
      "|2024-07-14|          51.54|    0.91|  6719.924|            11.84|          87250.215|          6.03|       44409.359|   26.78|197367.964|        7.66|     56442.578|    21.51| 158508.726|               25.29|            186375.208|\n",
      "+----------+---------------+--------+----------+-----------------+-------------------+--------------+----------------+--------+----------+------------+--------------+---------+-----------+--------------------+----------------------+\n",
      "only showing top 20 rows\n",
      "\n"
     ]
    }
   ],
   "source": [
    "unionMercadosBalance.show()"
   ]
  },
  {
   "cell_type": "code",
   "execution_count": 3,
   "metadata": {},
   "outputs": [
    {
     "data": {
      "text/html": [
       "<div>\n",
       "  <span style=\"float: left;\">parquet at cmd2.sc:9</span>\n",
       "</div>\n"
      ]
     },
     "metadata": {},
     "output_type": "display_data"
    },
    {
     "data": {
      "text/html": [
       "<div class=\"progress\">\n",
       "  <div class=\"progress-bar\" role=\"progressbar\" style=\"background-color: blue; width: 100%; word-wrap: normal; white-space: nowrap; text-align: center; color: white\" aria-valuenow=\"100\" aria-valuemin=\"0\" aria-valuemax=\"100\">\n",
       "    1 / 1\n",
       "  </div>\n",
       "  <div class=\"progress-bar\" role=\"progressbar\" style=\"background-color: red; width: 0%\" aria-valuenow=\"0\" aria-valuemin=\"0\" aria-valuemax=\"100\"></div>\n",
       "</div>\n"
      ]
     },
     "metadata": {},
     "output_type": "display_data"
    },
    {
     "data": {
      "text/plain": [
       "\u001b[36mpathDatosConsulta2\u001b[39m: \u001b[32mString\u001b[39m = \u001b[32m\"../../data/parquet/DatosConsulta2.parquet\"\u001b[39m\n",
       "\u001b[36mdatosConsulta2\u001b[39m: \u001b[32mDataFrame\u001b[39m = [FechaDia: string, PrecioMercado: double ... 14 more fields]"
      ]
     },
     "execution_count": 3,
     "metadata": {},
     "output_type": "execute_result"
    }
   ],
   "source": [
    "val pathDatosConsulta2 = \"../../data/parquet/DatosConsulta2.parquet\"\n",
    "\n",
    "\n",
    "val datosConsulta2: DataFrame = spark.read\n",
    "  //.option(\"header\", \"true\") // Si el archivo tiene un encabezado\n",
    "  //.option(\"inferSchema\", \"true\") // Para inferir automáticamente el esquema\n",
    "  //.csv(filePath)\n",
    "    .option(\"encoding\", \"UTF-8\")\n",
    "    .parquet(pathDatosConsulta2)"
   ]
  },
  {
   "cell_type": "code",
   "execution_count": 4,
   "metadata": {},
   "outputs": [
    {
     "data": {
      "text/html": [
       "<div>\n",
       "  <span style=\"float: left;\">show at cmd3.sc:1</span>\n",
       "</div>\n"
      ]
     },
     "metadata": {},
     "output_type": "display_data"
    },
    {
     "data": {
      "text/html": [
       "<div class=\"progress\">\n",
       "  <div class=\"progress-bar\" role=\"progressbar\" style=\"background-color: blue; width: 100%; word-wrap: normal; white-space: nowrap; text-align: center; color: white\" aria-valuenow=\"100\" aria-valuemin=\"0\" aria-valuemax=\"100\">\n",
       "    1 / 1\n",
       "  </div>\n",
       "  <div class=\"progress-bar\" role=\"progressbar\" style=\"background-color: red; width: 0%\" aria-valuenow=\"0\" aria-valuemin=\"0\" aria-valuemax=\"100\"></div>\n",
       "</div>\n"
      ]
     },
     "metadata": {},
     "output_type": "display_data"
    },
    {
     "name": "stdout",
     "output_type": "stream",
     "text": [
      "+----------+-------------+--------+----------+-----------------+-------------------+--------------+----------------+--------+----------+------------+--------------+---------+-----------+--------------------+----------------------+\n",
      "|  FechaDia|PrecioMercado|Carbón_%|Carbón_MWh|Ciclo_combinado_%|Ciclo_combinado_MWh|Cogeneración_%|Cogeneración_MWh|Eólica_%|Eólica_MWh|Hidráulica_%|Hidráulica_MWh|Nuclear_%|Nuclear_MWh|Solar_fotovoltaica_%|Solar_fotovoltaica_MWh|\n",
      "+----------+-------------+--------+----------+-----------------+-------------------+--------------+----------------+--------+----------+------------+--------------+---------+-----------+--------------------+----------------------+\n",
      "|2014-01-01|         5.69|    4.09| 25240.655|             8.67|            53534.6|          8.75|       54043.077|   41.77|257896.205|       11.83|     73065.052|    23.65| 146015.503|                1.24|              7631.801|\n",
      "|2014-01-02|        24.59|    5.53| 37546.113|             7.71|          52322.227|         11.64|       79006.632|   39.89|270764.404|       13.14|     89171.545|    21.53| 146147.546|                0.57|              3836.442|\n",
      "|2014-01-03|        38.93|    6.22| 42672.054|             7.47|          51254.562|         12.49|       85658.228|   36.28|248822.078|       14.95|    102502.527|    21.32| 146198.074|                1.26|              8673.179|\n",
      "|2014-01-04|         6.52|    4.36| 30782.043|             4.66|          32862.777|          9.25|       65312.961|   44.63|315077.619|       15.13|    106840.706|    20.72| 146270.916|                1.25|              8813.196|\n",
      "|2014-01-05|         4.27|    3.84| 24606.925|             6.46|          41422.898|         10.11|       64800.182|   40.66|260674.588|       18.28|    117217.635|    18.95| 121525.188|                 1.7|             10878.603|\n",
      "|2014-01-06|        12.47|    3.98| 24126.403|             7.26|          44002.059|         12.04|       72983.825|   33.12| 200748.21|       18.29|    110841.694|    22.91| 138871.873|                 2.4|             14575.066|\n",
      "|2014-01-07|        47.04|   12.63| 88419.072|             8.78|            61452.9|         12.45|       87134.418|   23.45|164116.648|       19.59|     137057.77|    20.95| 146590.231|                2.15|             15038.529|\n",
      "|2014-01-08|        41.85|    16.4|121447.736|             6.78|          50235.866|         12.44|       92107.381|   23.33|172744.174|       19.03|    140921.275|     19.8| 146607.037|                2.23|             16509.065|\n",
      "|2014-01-09|        48.61|   22.81|163968.872|             9.43|          67803.967|         13.03|        93641.83|   12.23| 87870.355|       20.23|    145404.939|     20.4| 146601.481|                1.88|              13483.75|\n",
      "|2014-01-10|        55.94|   24.71|180354.934|            10.76|          78567.867|         12.91|       94233.297|   10.16| 74146.856|       20.05|    146323.349|    20.09| 146618.268|                1.32|               9637.23|\n",
      "|2014-01-11|        50.53|   27.26|176164.609|             9.18|          59293.168|         11.61|       75044.951|    4.48| 28923.318|       23.03|    148799.593|    22.69| 146659.705|                1.76|             11343.641|\n",
      "|2014-01-12|        37.87|   14.39| 90047.088|             5.94|          37154.746|          11.4|       71351.372|   22.76|142409.789|       20.31|    127057.432|    23.43| 146617.966|                1.77|             11090.636|\n",
      "|2014-01-13|        39.86|   10.64| 79545.577|             7.95|          59456.535|         11.89|       88853.206|   29.24|218591.859|       19.57|    146286.975|     19.6| 146536.943|                 1.1|              8208.454|\n",
      "|2014-01-14|        32.47|    8.96|  70246.43|             5.89|          46121.797|         11.37|        89119.48|   36.99|289846.808|       17.17|    134555.725|    18.68| 146393.731|                0.93|              7283.451|\n",
      "|2014-01-15|        50.07|   12.25| 90809.471|             9.08|          67316.523|         12.42|       92040.111|   26.31|195016.398|       19.24|     142618.91|    19.76|  146442.99|                0.93|              6902.819|\n",
      "|2014-01-16|        41.57|   11.57| 87311.913|             8.27|          62433.983|         12.16|       91822.349|    29.0|218889.297|       18.61|    140457.456|    19.38| 146303.895|                1.01|              7648.331|\n",
      "|2014-01-17|        40.47|   11.59| 87312.967|             8.26|          62244.389|         12.28|       92542.349|   28.13|211964.124|       18.77|    141433.915|    19.39| 146092.925|                1.59|              11945.32|\n",
      "|2014-01-18|        43.34|   12.84| 83747.615|             7.66|          49935.804|         11.32|       73859.535|   21.88| 142684.56|       22.53|    146938.396|    22.38| 145939.539|                 1.4|              9120.161|\n",
      "|2014-01-19|        34.82|    6.88| 42537.851|             8.17|          50534.291|         11.62|       71862.903|   28.69|177407.217|       20.66|    127720.689|    22.19| 137185.067|                1.78|             11021.692|\n",
      "|2014-01-20|        37.39|    9.37| 73460.842|             8.44|          66195.412|         11.32|       88772.923|   31.86|249820.168|       18.44|     144555.38|    18.35| 143881.363|                2.21|              17317.75|\n",
      "+----------+-------------+--------+----------+-----------------+-------------------+--------------+----------------+--------+----------+------------+--------------+---------+-----------+--------------------+----------------------+\n",
      "only showing top 20 rows\n",
      "\n"
     ]
    }
   ],
   "source": [
    "datosConsulta2.show()"
   ]
  },
  {
   "cell_type": "code",
   "execution_count": 13,
   "metadata": {},
   "outputs": [
    {
     "data": {
      "text/html": [
       "<div>\n",
       "  <span style=\"float: left;\">collect at cmd12.sc:11</span>\n",
       "</div>\n"
      ]
     },
     "metadata": {},
     "output_type": "display_data"
    },
    {
     "data": {
      "text/html": [
       "<div class=\"progress\">\n",
       "  <div class=\"progress-bar\" role=\"progressbar\" style=\"background-color: blue; width: 100%; word-wrap: normal; white-space: nowrap; text-align: center; color: white\" aria-valuenow=\"100\" aria-valuemin=\"0\" aria-valuemax=\"100\">\n",
       "    1 / 1\n",
       "  </div>\n",
       "  <div class=\"progress-bar\" role=\"progressbar\" style=\"background-color: red; width: 0%\" aria-valuenow=\"0\" aria-valuemin=\"0\" aria-valuemax=\"100\"></div>\n",
       "</div>\n"
      ]
     },
     "metadata": {},
     "output_type": "display_data"
    },
    {
     "data": {
      "text/html": [
       "<div>\n",
       "  <span style=\"float: left;\">collect at cmd12.sc:11</span>\n",
       "</div>\n"
      ]
     },
     "metadata": {},
     "output_type": "display_data"
    },
    {
     "data": {
      "text/html": [
       "<div class=\"progress\">\n",
       "  <div class=\"progress-bar\" role=\"progressbar\" style=\"background-color: blue; width: 100%; word-wrap: normal; white-space: nowrap; text-align: center; color: white\" aria-valuenow=\"100\" aria-valuemin=\"0\" aria-valuemax=\"100\">\n",
       "    200 / 200\n",
       "  </div>\n",
       "  <div class=\"progress-bar\" role=\"progressbar\" style=\"background-color: red; width: 0%\" aria-valuenow=\"0\" aria-valuemin=\"0\" aria-valuemax=\"100\"></div>\n",
       "</div>\n"
      ]
     },
     "metadata": {},
     "output_type": "display_data"
    },
    {
     "data": {
      "text/html": [
       "<div>\n",
       "  <span style=\"float: left;\">collect at cmd12.sc:11</span>\n",
       "</div>\n"
      ]
     },
     "metadata": {},
     "output_type": "display_data"
    },
    {
     "data": {
      "text/html": [
       "<div class=\"progress\">\n",
       "  <div class=\"progress-bar\" role=\"progressbar\" style=\"background-color: blue; width: 100%; word-wrap: normal; white-space: nowrap; text-align: center; color: white\" aria-valuenow=\"100\" aria-valuemin=\"0\" aria-valuemax=\"100\">\n",
       "    200 / 200\n",
       "  </div>\n",
       "  <div class=\"progress-bar\" role=\"progressbar\" style=\"background-color: red; width: 0%\" aria-valuenow=\"0\" aria-valuemin=\"0\" aria-valuemax=\"100\"></div>\n",
       "</div>\n"
      ]
     },
     "metadata": {},
     "output_type": "display_data"
    },
    {
     "data": {
      "text/html": [
       "<div>\n",
       "  <span style=\"float: left;\">collect at cmd12.sc:11</span>\n",
       "</div>\n"
      ]
     },
     "metadata": {},
     "output_type": "display_data"
    },
    {
     "data": {
      "text/html": [
       "<div class=\"progress\">\n",
       "  <div class=\"progress-bar\" role=\"progressbar\" style=\"background-color: blue; width: 100%; word-wrap: normal; white-space: nowrap; text-align: center; color: white\" aria-valuenow=\"100\" aria-valuemin=\"0\" aria-valuemax=\"100\">\n",
       "    132 / 132\n",
       "  </div>\n",
       "  <div class=\"progress-bar\" role=\"progressbar\" style=\"background-color: red; width: 0%\" aria-valuenow=\"0\" aria-valuemin=\"0\" aria-valuemax=\"100\"></div>\n",
       "</div>\n"
      ]
     },
     "metadata": {},
     "output_type": "display_data"
    },
    {
     "data": {
      "text/html": [
       "<div>\n",
       "  <span style=\"float: left;\">collect at cmd12.sc:12</span>\n",
       "</div>\n"
      ]
     },
     "metadata": {},
     "output_type": "display_data"
    },
    {
     "data": {
      "text/html": [
       "<div class=\"progress\">\n",
       "  <div class=\"progress-bar\" role=\"progressbar\" style=\"background-color: blue; width: 100%; word-wrap: normal; white-space: nowrap; text-align: center; color: white\" aria-valuenow=\"100\" aria-valuemin=\"0\" aria-valuemax=\"100\">\n",
       "    1 / 1\n",
       "  </div>\n",
       "  <div class=\"progress-bar\" role=\"progressbar\" style=\"background-color: red; width: 0%\" aria-valuenow=\"0\" aria-valuemin=\"0\" aria-valuemax=\"100\"></div>\n",
       "</div>\n"
      ]
     },
     "metadata": {},
     "output_type": "display_data"
    },
    {
     "data": {
      "text/html": [
       "<div>\n",
       "  <span style=\"float: left;\">collect at cmd12.sc:12</span>\n",
       "</div>\n"
      ]
     },
     "metadata": {},
     "output_type": "display_data"
    },
    {
     "data": {
      "text/html": [
       "<div class=\"progress\">\n",
       "  <div class=\"progress-bar\" role=\"progressbar\" style=\"background-color: blue; width: 100%; word-wrap: normal; white-space: nowrap; text-align: center; color: white\" aria-valuenow=\"100\" aria-valuemin=\"0\" aria-valuemax=\"100\">\n",
       "    200 / 200\n",
       "  </div>\n",
       "  <div class=\"progress-bar\" role=\"progressbar\" style=\"background-color: red; width: 0%\" aria-valuenow=\"0\" aria-valuemin=\"0\" aria-valuemax=\"100\"></div>\n",
       "</div>\n"
      ]
     },
     "metadata": {},
     "output_type": "display_data"
    },
    {
     "data": {
      "text/html": [
       "<div>\n",
       "  <span style=\"float: left;\">collect at cmd12.sc:12</span>\n",
       "</div>\n"
      ]
     },
     "metadata": {},
     "output_type": "display_data"
    },
    {
     "data": {
      "text/html": [
       "<div class=\"progress\">\n",
       "  <div class=\"progress-bar\" role=\"progressbar\" style=\"background-color: blue; width: 100%; word-wrap: normal; white-space: nowrap; text-align: center; color: white\" aria-valuenow=\"100\" aria-valuemin=\"0\" aria-valuemax=\"100\">\n",
       "    200 / 200\n",
       "  </div>\n",
       "  <div class=\"progress-bar\" role=\"progressbar\" style=\"background-color: red; width: 0%\" aria-valuenow=\"0\" aria-valuemin=\"0\" aria-valuemax=\"100\"></div>\n",
       "</div>\n"
      ]
     },
     "metadata": {},
     "output_type": "display_data"
    },
    {
     "data": {
      "text/html": [
       "<div>\n",
       "  <span style=\"float: left;\">collect at cmd12.sc:12</span>\n",
       "</div>\n"
      ]
     },
     "metadata": {},
     "output_type": "display_data"
    },
    {
     "data": {
      "text/html": [
       "<div class=\"progress\">\n",
       "  <div class=\"progress-bar\" role=\"progressbar\" style=\"background-color: blue; width: 100%; word-wrap: normal; white-space: nowrap; text-align: center; color: white\" aria-valuenow=\"100\" aria-valuemin=\"0\" aria-valuemax=\"100\">\n",
       "    132 / 132\n",
       "  </div>\n",
       "  <div class=\"progress-bar\" role=\"progressbar\" style=\"background-color: red; width: 0%\" aria-valuenow=\"0\" aria-valuemin=\"0\" aria-valuemax=\"100\"></div>\n",
       "</div>\n"
      ]
     },
     "metadata": {},
     "output_type": "display_data"
    },
    {
     "data": {
      "application/vnd.plotly.v1+json": {
       "data": [
        {
         "name": "Precio Mercados en €",
         "type": "scatter",
         "x": [
          "2014-01",
          "2014-02",
          "2014-03",
          "2014-04",
          "2014-05",
          "2014-06",
          "2014-07",
          "2014-08",
          "2014-09",
          "2014-10",
          "2014-11",
          "2014-12",
          "2015-01",
          "2015-02",
          "2015-03",
          "2015-04",
          "2015-05",
          "2015-06",
          "2015-07",
          "2015-08",
          "2015-09",
          "2015-10",
          "2015-11",
          "2015-12",
          "2016-01",
          "2016-02",
          "2016-03",
          "2016-04",
          "2016-05",
          "2016-06",
          "2016-07",
          "2016-08",
          "2016-09",
          "2016-10",
          "2016-11",
          "2016-12",
          "2017-01",
          "2017-02",
          "2017-03",
          "2017-04",
          "2017-05",
          "2017-06",
          "2017-07",
          "2017-08",
          "2017-09",
          "2017-10",
          "2017-11",
          "2017-12",
          "2018-01",
          "2018-02",
          "2018-03",
          "2018-04",
          "2018-05",
          "2018-06",
          "2018-07",
          "2018-08",
          "2018-09",
          "2018-10",
          "2018-11",
          "2018-12",
          "2019-01",
          "2019-02",
          "2019-03",
          "2019-04",
          "2019-05",
          "2019-06",
          "2019-07",
          "2019-08",
          "2019-09",
          "2019-10",
          "2019-11",
          "2019-12",
          "2020-01",
          "2020-02",
          "2020-03",
          "2020-04",
          "2020-05",
          "2020-06",
          "2020-07",
          "2020-08",
          "2020-09",
          "2020-10",
          "2020-11",
          "2020-12",
          "2021-01",
          "2021-02",
          "2021-03",
          "2021-04",
          "2021-05",
          "2021-06",
          "2021-07",
          "2021-08",
          "2021-09",
          "2021-10",
          "2021-11",
          "2021-12",
          "2022-01",
          "2022-02",
          "2022-03",
          "2022-04",
          "2022-05",
          "2022-06",
          "2022-07",
          "2022-08",
          "2022-09",
          "2022-10",
          "2022-11",
          "2022-12",
          "2023-01",
          "2023-02",
          "2023-03",
          "2023-04",
          "2023-05",
          "2023-06",
          "2023-07",
          "2023-08",
          "2023-09",
          "2023-10",
          "2023-11",
          "2023-12",
          "2024-01",
          "2024-02",
          "2024-03",
          "2024-04",
          "2024-05",
          "2024-06",
          "2024-07",
          "2024-08",
          "2024-09",
          "2024-10",
          "2024-11",
          "2024-12"
         ],
         "y": [
          33.575483870967744,
          17.159285714285712,
          26.641612903225806,
          26.435000000000002,
          42.39645161290324,
          50.948,
          48.1967741935484,
          49.91161290322581,
          58.89233333333334,
          55.116129032258065,
          46.84166666666667,
          47.44193548387097,
          51.63354838709676,
          42.5492857142857,
          43.106451612903236,
          45.33166666666666,
          45.11193548387097,
          54.72500000000001,
          59.548709677419346,
          55.573870967741925,
          51.885,
          49.90645161290323,
          51.18833333333334,
          52.62677419354837,
          36.54193548387097,
          27.522068965517242,
          27.785161290322577,
          24.109333333333336,
          25.750645161290326,
          38.88733333333334,
          40.52741935483871,
          41.15967741935484,
          43.58100000000001,
          52.82967741935483,
          56.11500000000001,
          60.480967741935494,
          71.47161290322582,
          51.785357142857144,
          43.19258064516129,
          43.69299999999999,
          47.08709677419355,
          50.233,
          48.63032258064514,
          47.461290322580645,
          49.146333333333324,
          56.7841935483871,
          59.164,
          58.01548387096774,
          49.91645161290324,
          54.89571428571428,
          40.19806451612904,
          42.66,
          54.89129032258065,
          58.46266666666667,
          61.88516129032258,
          64.32225806451615,
          71.27900000000001,
          65.0851612903226,
          61.97633333333332,
          61.80774193548387,
          62.00709677419356,
          54.00035714285713,
          48.82064516129032,
          50.403666666666666,
          48.392580645161296,
          47.20099999999999,
          51.47193548387097,
          44.96129032258066,
          42.11199999999999,
          47.17741935483872,
          42.19133333333334,
          33.80870967741935,
          41.10935483870967,
          35.88586206896552,
          27.72387096774194,
          17.669999999999998,
          21.223225806451612,
          30.614666666666665,
          34.62967741935483,
          36.19451612903226,
          41.967999999999996,
          36.58548387096774,
          41.93066666666666,
          41.95387096774193,
          60.232903225806446,
          28.456428571428575,
          45.40354838709678,
          64.99933333333334,
          67.09677419354837,
          83.29466666666667,
          92.4416129032258,
          105.8641935483871,
          156.04233333333332,
          200.1806451612903,
          193.23266666666672,
          239.3361290322581,
          201.61741935483874,
          200.1032142857143,
          283.39032258064515,
          191.54866666666666,
          187.0816129032258,
          169.73399999999995,
          142.6396774193548,
          154.87612903225806,
          141.10033333333334,
          127.14225806451613,
          115.662,
          97.12967741935482,
          69.38387096774191,
          133.4325,
          89.77290322580647,
          73.62666666666668,
          74.22548387096775,
          92.99566666666665,
          90.49,
          96.01419354838713,
          103.33366666666664,
          90.21354838709678,
          63.388,
          72.22967741935484,
          74.09354838709679,
          40.105862068965514,
          20.281935483870967,
          13.582333333333334,
          30.48193548387097,
          55.945333333333345,
          72.29161290322581,
          91.03032258064518,
          72.63633333333333,
          68.57419354838707,
          104.38033333333334,
          115.45785714285716
         ]
        }
       ],
       "layout": {
        "autosize": true,
        "xaxis": {
         "autorange": true,
         "range": [
          "2014-01-01",
          "2024-12-01"
         ],
         "type": "date"
        },
        "yaxis": {
         "autorange": true,
         "range": [
          -1.4069994026284327,
          298.3796553166069
         ],
         "type": "linear"
        }
       }
      },
      "image/png": "[encoded data removed]",
      "text/html": [
       "<div class=\"chart\" id=\"plot-8f802cc1-4036-4f4e-be95-5beb1e11b18f\"></div>\n",
       "<script>require(['plotly'], function(Plotly) {\n",
       "  (function () {\n",
       "  var data0 = {\"x\":[\"2014-01\",\"2014-02\",\"2014-03\",\"2014-04\",\"2014-05\",\"2014-06\",\"2014-07\",\"2014-08\",\"2014-09\",\"2014-10\",\"2014-11\",\"2014-12\",\"2015-01\",\"2015-02\",\"2015-03\",\"2015-04\",\"2015-05\",\"2015-06\",\"2015-07\",\"2015-08\",\"2015-09\",\"2015-10\",\"2015-11\",\"2015-12\",\"2016-01\",\"2016-02\",\"2016-03\",\"2016-04\",\"2016-05\",\"2016-06\",\"2016-07\",\"2016-08\",\"2016-09\",\"2016-10\",\"2016-11\",\"2016-12\",\"2017-01\",\"2017-02\",\"2017-03\",\"2017-04\",\"2017-05\",\"2017-06\",\"2017-07\",\"2017-08\",\"2017-09\",\"2017-10\",\"2017-11\",\"2017-12\",\"2018-01\",\"2018-02\",\"2018-03\",\"2018-04\",\"2018-05\",\"2018-06\",\"2018-07\",\"2018-08\",\"2018-09\",\"2018-10\",\"2018-11\",\"2018-12\",\"2019-01\",\"2019-02\",\"2019-03\",\"2019-04\",\"2019-05\",\"2019-06\",\"2019-07\",\"2019-08\",\"2019-09\",\"2019-10\",\"2019-11\",\"2019-12\",\"2020-01\",\"2020-02\",\"2020-03\",\"2020-04\",\"2020-05\",\"2020-06\",\"2020-07\",\"2020-08\",\"2020-09\",\"2020-10\",\"2020-11\",\"2020-12\",\"2021-01\",\"2021-02\",\"2021-03\",\"2021-04\",\"2021-05\",\"2021-06\",\"2021-07\",\"2021-08\",\"2021-09\",\"2021-10\",\"2021-11\",\"2021-12\",\"2022-01\",\"2022-02\",\"2022-03\",\"2022-04\",\"2022-05\",\"2022-06\",\"2022-07\",\"2022-08\",\"2022-09\",\"2022-10\",\"2022-11\",\"2022-12\",\"2023-01\",\"2023-02\",\"2023-03\",\"2023-04\",\"2023-05\",\"2023-06\",\"2023-07\",\"2023-08\",\"2023-09\",\"2023-10\",\"2023-11\",\"2023-12\",\"2024-01\",\"2024-02\",\"2024-03\",\"2024-04\",\"2024-05\",\"2024-06\",\"2024-07\",\"2024-08\",\"2024-09\",\"2024-10\",\"2024-11\",\"2024-12\"],\"name\":\"Precio Mercados en €\",\"y\":[33.575483870967744,17.159285714285712,26.641612903225806,26.435000000000002,42.39645161290324,50.948,48.1967741935484,49.91161290322581,58.89233333333334,55.116129032258065,46.84166666666667,47.44193548387097,51.63354838709676,42.5492857142857,43.106451612903236,45.33166666666666,45.11193548387097,54.72500000000001,59.548709677419346,55.573870967741925,51.885,49.90645161290323,51.18833333333334,52.62677419354837,36.54193548387097,27.522068965517242,27.785161290322577,24.109333333333336,25.750645161290326,38.88733333333334,40.52741935483871,41.15967741935484,43.58100000000001,52.82967741935483,56.11500000000001,60.480967741935494,71.47161290322582,51.785357142857144,43.19258064516129,43.69299999999999,47.08709677419355,50.233,48.63032258064514,47.461290322580645,49.146333333333324,56.7841935483871,59.164,58.01548387096774,49.91645161290324,54.89571428571428,40.19806451612904,42.66,54.89129032258065,58.46266666666667,61.88516129032258,64.32225806451615,71.27900000000001,65.0851612903226,61.97633333333332,61.80774193548387,62.00709677419356,54.00035714285713,48.82064516129032,50.403666666666666,48.392580645161296,47.20099999999999,51.47193548387097,44.96129032258066,42.11199999999999,47.17741935483872,42.19133333333334,33.80870967741935,41.10935483870967,35.88586206896552,27.72387096774194,17.669999999999998,21.223225806451612,30.614666666666665,34.62967741935483,36.19451612903226,41.967999999999996,36.58548387096774,41.93066666666666,41.95387096774193,60.232903225806446,28.456428571428575,45.40354838709678,64.99933333333334,67.09677419354837,83.29466666666667,92.4416129032258,105.8641935483871,156.04233333333332,200.1806451612903,193.23266666666672,239.3361290322581,201.61741935483874,200.1032142857143,283.39032258064515,191.54866666666666,187.0816129032258,169.73399999999995,142.6396774193548,154.87612903225806,141.10033333333334,127.14225806451613,115.662,97.12967741935482,69.38387096774191,133.4325,89.77290322580647,73.62666666666668,74.22548387096775,92.99566666666665,90.49,96.01419354838713,103.33366666666664,90.21354838709678,63.388,72.22967741935484,74.09354838709679,40.105862068965514,20.281935483870967,13.582333333333334,30.48193548387097,55.945333333333345,72.29161290322581,91.03032258064518,72.63633333333333,68.57419354838707,104.38033333333334,115.45785714285716],\"type\":\"scatter\"};\n",
       "\n",
       "  var data = [data0];\n",
       "  var layout = {};\n",
       "\n",
       "  Plotly.plot('plot-8f802cc1-4036-4f4e-be95-5beb1e11b18f', data, layout);\n",
       "})();\n",
       "});\n",
       "      </script>\n",
       "           "
      ]
     },
     "metadata": {},
     "output_type": "display_data"
    },
    {
     "data": {
      "text/plain": [
       "defined \u001b[32mfunction\u001b[39m \u001b[36manalisisPrecioMensual\u001b[39m"
      ]
     },
     "execution_count": 13,
     "metadata": {},
     "output_type": "execute_result"
    }
   ],
   "source": [
    "def analisisPrecioMensual (df: DataFrame): Unit = {\n",
    "    //Calculamos la generacion total por año\n",
    "    val evolucionPrecio = df\n",
    "      .select($\"FechaDia\", $\"PrecioMercado\")\n",
    "      .groupBy(date_format(col(\"FechaDia\"), \"yyyy-MM\").as(\"FechaMes\"))\n",
    "      .agg(avg(\"PrecioMercado\").as(\"Media_mensual_€\"))\n",
    "      .orderBy($\"FechaMes\")\n",
    "    \n",
    "    \n",
    "    //Pintamos la gráfica\n",
    "    val fechas = evolucionPrecio.select(\"FechaMes\").as[String].collect.toSeq\n",
    "    val precioMensual = evolucionPrecio.select(\"Media_mensual_€\").as[Double].collect.toSeq\n",
    "    val evolucionMercadosMensualmente = Scatter(fechas, precioMensual, name = \"Precio Mercados en €\")\n",
    "\n",
    "    val data = Seq(evolucionMercadosMensualmente)\n",
    "    \n",
    "    plot(data)\n",
    "    \n",
    "}\n",
    "analisisPrecioMensual(datosConsulta2)"
   ]
  },
  {
   "cell_type": "code",
   "execution_count": 12,
   "metadata": {},
   "outputs": [
    {
     "data": {
      "text/html": [
       "<div>\n",
       "  <span style=\"float: left;\">corr at cmd11.sc:7</span>\n",
       "</div>\n"
      ]
     },
     "metadata": {},
     "output_type": "display_data"
    },
    {
     "data": {
      "text/html": [
       "<div class=\"progress\">\n",
       "  <div class=\"progress-bar\" role=\"progressbar\" style=\"background-color: blue; width: 100%; word-wrap: normal; white-space: nowrap; text-align: center; color: white\" aria-valuenow=\"100\" aria-valuemin=\"0\" aria-valuemax=\"100\">\n",
       "    1 / 1\n",
       "  </div>\n",
       "  <div class=\"progress-bar\" role=\"progressbar\" style=\"background-color: red; width: 0%\" aria-valuenow=\"0\" aria-valuemin=\"0\" aria-valuemax=\"100\"></div>\n",
       "</div>\n"
      ]
     },
     "metadata": {},
     "output_type": "display_data"
    },
    {
     "data": {
      "text/html": [
       "<div>\n",
       "  <span style=\"float: left;\">corr at cmd11.sc:7</span>\n",
       "</div>\n"
      ]
     },
     "metadata": {},
     "output_type": "display_data"
    },
    {
     "data": {
      "text/html": [
       "<div class=\"progress\">\n",
       "  <div class=\"progress-bar\" role=\"progressbar\" style=\"background-color: blue; width: 100%; word-wrap: normal; white-space: nowrap; text-align: center; color: white\" aria-valuenow=\"100\" aria-valuemin=\"0\" aria-valuemax=\"100\">\n",
       "    1 / 1\n",
       "  </div>\n",
       "  <div class=\"progress-bar\" role=\"progressbar\" style=\"background-color: red; width: 0%\" aria-valuenow=\"0\" aria-valuemin=\"0\" aria-valuemax=\"100\"></div>\n",
       "</div>\n"
      ]
     },
     "metadata": {},
     "output_type": "display_data"
    },
    {
     "data": {
      "text/html": [
       "<div>\n",
       "  <span style=\"float: left;\">corr at cmd11.sc:7</span>\n",
       "</div>\n"
      ]
     },
     "metadata": {},
     "output_type": "display_data"
    },
    {
     "data": {
      "text/html": [
       "<div class=\"progress\">\n",
       "  <div class=\"progress-bar\" role=\"progressbar\" style=\"background-color: blue; width: 100%; word-wrap: normal; white-space: nowrap; text-align: center; color: white\" aria-valuenow=\"100\" aria-valuemin=\"0\" aria-valuemax=\"100\">\n",
       "    1 / 1\n",
       "  </div>\n",
       "  <div class=\"progress-bar\" role=\"progressbar\" style=\"background-color: red; width: 0%\" aria-valuenow=\"0\" aria-valuemin=\"0\" aria-valuemax=\"100\"></div>\n",
       "</div>\n"
      ]
     },
     "metadata": {},
     "output_type": "display_data"
    },
    {
     "data": {
      "text/html": [
       "<div>\n",
       "  <span style=\"float: left;\">corr at cmd11.sc:7</span>\n",
       "</div>\n"
      ]
     },
     "metadata": {},
     "output_type": "display_data"
    },
    {
     "data": {
      "text/html": [
       "<div class=\"progress\">\n",
       "  <div class=\"progress-bar\" role=\"progressbar\" style=\"background-color: blue; width: 100%; word-wrap: normal; white-space: nowrap; text-align: center; color: white\" aria-valuenow=\"100\" aria-valuemin=\"0\" aria-valuemax=\"100\">\n",
       "    1 / 1\n",
       "  </div>\n",
       "  <div class=\"progress-bar\" role=\"progressbar\" style=\"background-color: red; width: 0%\" aria-valuenow=\"0\" aria-valuemin=\"0\" aria-valuemax=\"100\"></div>\n",
       "</div>\n"
      ]
     },
     "metadata": {},
     "output_type": "display_data"
    },
    {
     "data": {
      "text/html": [
       "<div>\n",
       "  <span style=\"float: left;\">corr at cmd11.sc:7</span>\n",
       "</div>\n"
      ]
     },
     "metadata": {},
     "output_type": "display_data"
    },
    {
     "data": {
      "text/html": [
       "<div class=\"progress\">\n",
       "  <div class=\"progress-bar\" role=\"progressbar\" style=\"background-color: blue; width: 100%; word-wrap: normal; white-space: nowrap; text-align: center; color: white\" aria-valuenow=\"100\" aria-valuemin=\"0\" aria-valuemax=\"100\">\n",
       "    1 / 1\n",
       "  </div>\n",
       "  <div class=\"progress-bar\" role=\"progressbar\" style=\"background-color: red; width: 0%\" aria-valuenow=\"0\" aria-valuemin=\"0\" aria-valuemax=\"100\"></div>\n",
       "</div>\n"
      ]
     },
     "metadata": {},
     "output_type": "display_data"
    },
    {
     "data": {
      "text/html": [
       "<div>\n",
       "  <span style=\"float: left;\">corr at cmd11.sc:7</span>\n",
       "</div>\n"
      ]
     },
     "metadata": {},
     "output_type": "display_data"
    },
    {
     "data": {
      "text/html": [
       "<div class=\"progress\">\n",
       "  <div class=\"progress-bar\" role=\"progressbar\" style=\"background-color: blue; width: 100%; word-wrap: normal; white-space: nowrap; text-align: center; color: white\" aria-valuenow=\"100\" aria-valuemin=\"0\" aria-valuemax=\"100\">\n",
       "    1 / 1\n",
       "  </div>\n",
       "  <div class=\"progress-bar\" role=\"progressbar\" style=\"background-color: red; width: 0%\" aria-valuenow=\"0\" aria-valuemin=\"0\" aria-valuemax=\"100\"></div>\n",
       "</div>\n"
      ]
     },
     "metadata": {},
     "output_type": "display_data"
    },
    {
     "data": {
      "text/html": [
       "<div>\n",
       "  <span style=\"float: left;\">corr at cmd11.sc:7</span>\n",
       "</div>\n"
      ]
     },
     "metadata": {},
     "output_type": "display_data"
    },
    {
     "data": {
      "text/html": [
       "<div class=\"progress\">\n",
       "  <div class=\"progress-bar\" role=\"progressbar\" style=\"background-color: blue; width: 100%; word-wrap: normal; white-space: nowrap; text-align: center; color: white\" aria-valuenow=\"100\" aria-valuemin=\"0\" aria-valuemax=\"100\">\n",
       "    1 / 1\n",
       "  </div>\n",
       "  <div class=\"progress-bar\" role=\"progressbar\" style=\"background-color: red; width: 0%\" aria-valuenow=\"0\" aria-valuemin=\"0\" aria-valuemax=\"100\"></div>\n",
       "</div>\n"
      ]
     },
     "metadata": {},
     "output_type": "display_data"
    },
    {
     "data": {
      "text/html": [
       "<div>\n",
       "  <span style=\"float: left;\">corr at cmd11.sc:7</span>\n",
       "</div>\n"
      ]
     },
     "metadata": {},
     "output_type": "display_data"
    },
    {
     "data": {
      "text/html": [
       "<div class=\"progress\">\n",
       "  <div class=\"progress-bar\" role=\"progressbar\" style=\"background-color: blue; width: 100%; word-wrap: normal; white-space: nowrap; text-align: center; color: white\" aria-valuenow=\"100\" aria-valuemin=\"0\" aria-valuemax=\"100\">\n",
       "    1 / 1\n",
       "  </div>\n",
       "  <div class=\"progress-bar\" role=\"progressbar\" style=\"background-color: red; width: 0%\" aria-valuenow=\"0\" aria-valuemin=\"0\" aria-valuemax=\"100\"></div>\n",
       "</div>\n"
      ]
     },
     "metadata": {},
     "output_type": "display_data"
    },
    {
     "data": {
      "text/html": [
       "<div>\n",
       "  <span style=\"float: left;\">corr at cmd11.sc:7</span>\n",
       "</div>\n"
      ]
     },
     "metadata": {},
     "output_type": "display_data"
    },
    {
     "data": {
      "text/html": [
       "<div class=\"progress\">\n",
       "  <div class=\"progress-bar\" role=\"progressbar\" style=\"background-color: blue; width: 100%; word-wrap: normal; white-space: nowrap; text-align: center; color: white\" aria-valuenow=\"100\" aria-valuemin=\"0\" aria-valuemax=\"100\">\n",
       "    1 / 1\n",
       "  </div>\n",
       "  <div class=\"progress-bar\" role=\"progressbar\" style=\"background-color: red; width: 0%\" aria-valuenow=\"0\" aria-valuemin=\"0\" aria-valuemax=\"100\"></div>\n",
       "</div>\n"
      ]
     },
     "metadata": {},
     "output_type": "display_data"
    },
    {
     "data": {
      "text/html": [
       "<div>\n",
       "  <span style=\"float: left;\">corr at cmd11.sc:7</span>\n",
       "</div>\n"
      ]
     },
     "metadata": {},
     "output_type": "display_data"
    },
    {
     "data": {
      "text/html": [
       "<div class=\"progress\">\n",
       "  <div class=\"progress-bar\" role=\"progressbar\" style=\"background-color: blue; width: 100%; word-wrap: normal; white-space: nowrap; text-align: center; color: white\" aria-valuenow=\"100\" aria-valuemin=\"0\" aria-valuemax=\"100\">\n",
       "    1 / 1\n",
       "  </div>\n",
       "  <div class=\"progress-bar\" role=\"progressbar\" style=\"background-color: red; width: 0%\" aria-valuenow=\"0\" aria-valuemin=\"0\" aria-valuemax=\"100\"></div>\n",
       "</div>\n"
      ]
     },
     "metadata": {},
     "output_type": "display_data"
    },
    {
     "data": {
      "text/html": [
       "<div>\n",
       "  <span style=\"float: left;\">corr at cmd11.sc:7</span>\n",
       "</div>\n"
      ]
     },
     "metadata": {},
     "output_type": "display_data"
    },
    {
     "data": {
      "text/html": [
       "<div class=\"progress\">\n",
       "  <div class=\"progress-bar\" role=\"progressbar\" style=\"background-color: blue; width: 100%; word-wrap: normal; white-space: nowrap; text-align: center; color: white\" aria-valuenow=\"100\" aria-valuemin=\"0\" aria-valuemax=\"100\">\n",
       "    1 / 1\n",
       "  </div>\n",
       "  <div class=\"progress-bar\" role=\"progressbar\" style=\"background-color: red; width: 0%\" aria-valuenow=\"0\" aria-valuemin=\"0\" aria-valuemax=\"100\"></div>\n",
       "</div>\n"
      ]
     },
     "metadata": {},
     "output_type": "display_data"
    },
    {
     "data": {
      "text/html": [
       "<div>\n",
       "  <span style=\"float: left;\">corr at cmd11.sc:7</span>\n",
       "</div>\n"
      ]
     },
     "metadata": {},
     "output_type": "display_data"
    },
    {
     "data": {
      "text/html": [
       "<div class=\"progress\">\n",
       "  <div class=\"progress-bar\" role=\"progressbar\" style=\"background-color: blue; width: 100%; word-wrap: normal; white-space: nowrap; text-align: center; color: white\" aria-valuenow=\"100\" aria-valuemin=\"0\" aria-valuemax=\"100\">\n",
       "    1 / 1\n",
       "  </div>\n",
       "  <div class=\"progress-bar\" role=\"progressbar\" style=\"background-color: red; width: 0%\" aria-valuenow=\"0\" aria-valuemin=\"0\" aria-valuemax=\"100\"></div>\n",
       "</div>\n"
      ]
     },
     "metadata": {},
     "output_type": "display_data"
    },
    {
     "data": {
      "text/html": [
       "<div>\n",
       "  <span style=\"float: left;\">corr at cmd11.sc:7</span>\n",
       "</div>\n"
      ]
     },
     "metadata": {},
     "output_type": "display_data"
    },
    {
     "data": {
      "text/html": [
       "<div class=\"progress\">\n",
       "  <div class=\"progress-bar\" role=\"progressbar\" style=\"background-color: blue; width: 100%; word-wrap: normal; white-space: nowrap; text-align: center; color: white\" aria-valuenow=\"100\" aria-valuemin=\"0\" aria-valuemax=\"100\">\n",
       "    1 / 1\n",
       "  </div>\n",
       "  <div class=\"progress-bar\" role=\"progressbar\" style=\"background-color: red; width: 0%\" aria-valuenow=\"0\" aria-valuemin=\"0\" aria-valuemax=\"100\"></div>\n",
       "</div>\n"
      ]
     },
     "metadata": {},
     "output_type": "display_data"
    },
    {
     "data": {
      "text/html": [
       "<div>\n",
       "  <span style=\"float: left;\">corr at cmd11.sc:7</span>\n",
       "</div>\n"
      ]
     },
     "metadata": {},
     "output_type": "display_data"
    },
    {
     "data": {
      "text/html": [
       "<div class=\"progress\">\n",
       "  <div class=\"progress-bar\" role=\"progressbar\" style=\"background-color: blue; width: 100%; word-wrap: normal; white-space: nowrap; text-align: center; color: white\" aria-valuenow=\"100\" aria-valuemin=\"0\" aria-valuemax=\"100\">\n",
       "    1 / 1\n",
       "  </div>\n",
       "  <div class=\"progress-bar\" role=\"progressbar\" style=\"background-color: red; width: 0%\" aria-valuenow=\"0\" aria-valuemin=\"0\" aria-valuemax=\"100\"></div>\n",
       "</div>\n"
      ]
     },
     "metadata": {},
     "output_type": "display_data"
    },
    {
     "data": {
      "text/html": [
       "<div>\n",
       "  <span style=\"float: left;\">show at cmd11.sc:18</span>\n",
       "</div>\n"
      ]
     },
     "metadata": {},
     "output_type": "display_data"
    },
    {
     "data": {
      "text/html": [
       "<div class=\"progress\">\n",
       "  <div class=\"progress-bar\" role=\"progressbar\" style=\"background-color: blue; width: 100%; word-wrap: normal; white-space: nowrap; text-align: center; color: white\" aria-valuenow=\"100\" aria-valuemin=\"0\" aria-valuemax=\"100\">\n",
       "    14 / 14\n",
       "  </div>\n",
       "  <div class=\"progress-bar\" role=\"progressbar\" style=\"background-color: red; width: 0%\" aria-valuenow=\"0\" aria-valuemin=\"0\" aria-valuemax=\"100\"></div>\n",
       "</div>\n"
      ]
     },
     "metadata": {},
     "output_type": "display_data"
    },
    {
     "name": "stdout",
     "output_type": "stream",
     "text": [
      "+--------------------+--------------------+\n",
      "|             Energía|         Correlación|\n",
      "+--------------------+--------------------+\n",
      "| Ciclo_combinado_MWh|  0.5112746442572531|\n",
      "|   Ciclo_combinado_%| 0.49218935745748954|\n",
      "|Solar_fotovoltaic...|  0.2924628212691979|\n",
      "|Solar_fotovoltaica_%|  0.2629925493953789|\n",
      "|         Nuclear_MWh|0.027181711226881945|\n",
      "|          Eólica_MWh|-0.08305614302342378|\n",
      "|           Nuclear_%|-0.09493220327086346|\n",
      "|    Cogeneración_MWh|-0.12271759590501925|\n",
      "|            Eólica_%|-0.12568609916427367|\n",
      "|          Carbón_MWh|-0.18132259474230716|\n",
      "|      Cogeneración_%|-0.18327962958232394|\n",
      "|            Carbón_%| -0.1946874392238486|\n",
      "|      Hidráulica_MWh| -0.2891542535476879|\n",
      "|        Hidráulica_%|-0.32012965511957897|\n",
      "+--------------------+--------------------+\n",
      "\n"
     ]
    },
    {
     "data": {
      "text/plain": [
       "defined \u001b[32mfunction\u001b[39m \u001b[36mcalcularCorrelaciones\u001b[39m\n",
       "\u001b[36mresultadoCorrelaciones\u001b[39m: \u001b[32mDataFrame\u001b[39m = [Energía: string, Correlación: double]"
      ]
     },
     "execution_count": 12,
     "metadata": {},
     "output_type": "execute_result"
    }
   ],
   "source": [
    "def calcularCorrelaciones(df: DataFrame, precioColumna: String): DataFrame = {\n",
    "    // Filtrar columnas relevantes (las que terminan con \"_%\" o \"_MWh\")\n",
    "    val columnasEnergia = df.columns.filter(col => col.endsWith(\"_%\") || col.endsWith(\"_MWh\"))\n",
    "\n",
    "    // Calcular correlación para cada columna de energía\n",
    "    val correlaciones = columnasEnergia.map { colEnergia =>\n",
    "        val correlacion = df.stat.corr(precioColumna, colEnergia) // Calcular correlación\n",
    "        (colEnergia, correlacion) // Devolver columna y correlación\n",
    "    }\n",
    "\n",
    "    // Convertir a DataFrame para ordenarlo y mostrarlo\n",
    "    import spark.implicits._\n",
    "    correlaciones.toSeq.toDF(\"Energía\", \"Correlación\").orderBy(desc(\"Correlación\"))\n",
    "}\n",
    "\n",
    "// Llamar a la función para calcular las correlaciones\n",
    "val resultadoCorrelaciones = calcularCorrelaciones(datosConsulta2, \"PrecioMercado_€\")\n",
    "resultadoCorrelaciones.show()\n"
   ]
  },
  {
   "cell_type": "code",
   "execution_count": 35,
   "metadata": {},
   "outputs": [
    {
     "data": {
      "text/plain": [
       "defined \u001b[32mfunction\u001b[39m \u001b[36mgraficoAreasApiladas\u001b[39m"
      ]
     },
     "execution_count": 35,
     "metadata": {},
     "output_type": "execute_result"
    }
   ],
   "source": [
    "def graficoAreasApiladas(datosConsulta2: DataFrame): Unit = {\n",
    "    \n",
    "    val df = datosConsulta2.filter(date_format($\"FechaDia\", \"yyyy-MM\").isin(\"2024-12\"))\n",
    "                          \n",
    "    // Extraer las fechas (eje X)\n",
    "    val fechas = df.select(\"FechaDia\").as[String].collect.toSeq\n",
    "\n",
    "    // Extraer valores para cada tipo de generación (eje Y)\n",
    "    val carbon = df.select(\"Carbón_MWh\").as[Double].collect.toSeq\n",
    "    val cicloCombinado = df.select(\"Ciclo_combinado_MWh\").as[Double].collect.toSeq\n",
    "    val cogeneracion = df.select(\"Cogeneración_MWh\").as[Double].collect.toSeq\n",
    "    val eolica = df.select(\"Eólica_MWh\").as[Double].collect.toSeq\n",
    "    val nuclear = df.select(\"Nuclear_MWh\").as[Double].collect.toSeq\n",
    "    val hidraulica = df.select(\"Hidráulica_MWh\").as[Double].collect.toSeq\n",
    "    val solar = df.select(\"Solar_fotovoltaica_MWh\").as[Double].collect.toSeq\n",
    "   \n",
    "    \n",
    "    //Extraer valores precio\n",
    "    val precioEnergia = df.select(\"PrecioMercado\").as[Double].collect.toSeq\n",
    "    \n",
    "    // Crear las trazas para cada fuente de energía\n",
    "    val traceCarbon = Scatter(fechas, carbon, name = \"Carbón\", stackgroup = \"1\", fill = Fill.ToNextY)\n",
    "    val traceCicloCombinado = Scatter(fechas, cicloCombinado, name = \"Ciclo Combinado\", stackgroup = \"1\", fill = Fill.ToNextY)\n",
    "    val traceEolica = Scatter(fechas, eolica, name = \"Eólica\", stackgroup = \"1\", fill = Fill.ToNextY)\n",
    "    val traceHidraulica = Scatter(fechas, hidraulica, name = \"Hidráulica\", stackgroup = \"1\", fill = Fill.ToNextY)\n",
    "    val traceNuclear = Scatter(fechas, nuclear, name = \"Nuclear\", stackgroup = \"1\", fill = Fill.ToNextY)\n",
    "    val traceSolar = Scatter(fechas, solar, name = \"Solar Fotovoltaica\", stackgroup = \"1\", fill = Fill.ToNextY)\n",
    "    val traceCogeneracion = Scatter(fechas, cogeneracion, name = \"Cogeneración\", stackgroup = \"1\", fill = Fill.ToNextY)\n",
    "    \n",
    "    //Crear la traza del precio de energia\n",
    "    val tracePrecioEnergia = Scatter(fechas, precioEnergia, name = \"Precio Mercados en €\",yaxis = AxisReference.Y2)\n",
    "    \n",
    "\n",
    "    // Configurar el diseño del gráfico\n",
    "    val layout = Layout(\n",
    "        title = \"Generación de Energía por Tipo (Áreas Apiladas)\",\n",
    "        xaxis = Axis(title = \"Fecha\"),\n",
    "        yaxis = Axis(title = \"Energía Generada (MWh)\"),\n",
    "        yaxis2 = Axis(\n",
    "          title = \"Precio Energía (€)\",\n",
    "          overlaying = AxisAnchor.Y, // Superponer sobre el eje Y principal\n",
    "          side = Side.Right // Posicionar en el lado derecho\n",
    "        ),\n",
    "        showlegend = true\n",
    "    )\n",
    "\n",
    "    // Agrupar todas las trazas\n",
    "    val data = Seq(traceHidraulica, traceSolar,traceNuclear,traceEolica, tracePrecioEnergia, traceCicloCombinado, traceCogeneracion, traceCarbon)\n",
    "    // Renderizar el gráfico\n",
    "    plot(data, layout)\n",
    "    \n",
    "}\n"
   ]
  },
  {
   "cell_type": "code",
   "execution_count": 36,
   "metadata": {},
   "outputs": [
    {
     "data": {
      "text/html": [
       "<div>\n",
       "  <span style=\"float: left;\">collect at cmd34.sc:6</span>\n",
       "</div>\n"
      ]
     },
     "metadata": {},
     "output_type": "display_data"
    },
    {
     "data": {
      "text/html": [
       "<div class=\"progress\">\n",
       "  <div class=\"progress-bar\" role=\"progressbar\" style=\"background-color: blue; width: 100%; word-wrap: normal; white-space: nowrap; text-align: center; color: white\" aria-valuenow=\"100\" aria-valuemin=\"0\" aria-valuemax=\"100\">\n",
       "    1 / 1\n",
       "  </div>\n",
       "  <div class=\"progress-bar\" role=\"progressbar\" style=\"background-color: red; width: 0%\" aria-valuenow=\"0\" aria-valuemin=\"0\" aria-valuemax=\"100\"></div>\n",
       "</div>\n"
      ]
     },
     "metadata": {},
     "output_type": "display_data"
    },
    {
     "data": {
      "text/html": [
       "<div>\n",
       "  <span style=\"float: left;\">collect at cmd34.sc:9</span>\n",
       "</div>\n"
      ]
     },
     "metadata": {},
     "output_type": "display_data"
    },
    {
     "data": {
      "text/html": [
       "<div class=\"progress\">\n",
       "  <div class=\"progress-bar\" role=\"progressbar\" style=\"background-color: blue; width: 100%; word-wrap: normal; white-space: nowrap; text-align: center; color: white\" aria-valuenow=\"100\" aria-valuemin=\"0\" aria-valuemax=\"100\">\n",
       "    1 / 1\n",
       "  </div>\n",
       "  <div class=\"progress-bar\" role=\"progressbar\" style=\"background-color: red; width: 0%\" aria-valuenow=\"0\" aria-valuemin=\"0\" aria-valuemax=\"100\"></div>\n",
       "</div>\n"
      ]
     },
     "metadata": {},
     "output_type": "display_data"
    },
    {
     "data": {
      "text/html": [
       "<div>\n",
       "  <span style=\"float: left;\">collect at cmd34.sc:10</span>\n",
       "</div>\n"
      ]
     },
     "metadata": {},
     "output_type": "display_data"
    },
    {
     "data": {
      "text/html": [
       "<div class=\"progress\">\n",
       "  <div class=\"progress-bar\" role=\"progressbar\" style=\"background-color: blue; width: 100%; word-wrap: normal; white-space: nowrap; text-align: center; color: white\" aria-valuenow=\"100\" aria-valuemin=\"0\" aria-valuemax=\"100\">\n",
       "    1 / 1\n",
       "  </div>\n",
       "  <div class=\"progress-bar\" role=\"progressbar\" style=\"background-color: red; width: 0%\" aria-valuenow=\"0\" aria-valuemin=\"0\" aria-valuemax=\"100\"></div>\n",
       "</div>\n"
      ]
     },
     "metadata": {},
     "output_type": "display_data"
    },
    {
     "data": {
      "text/html": [
       "<div>\n",
       "  <span style=\"float: left;\">collect at cmd34.sc:11</span>\n",
       "</div>\n"
      ]
     },
     "metadata": {},
     "output_type": "display_data"
    },
    {
     "data": {
      "text/html": [
       "<div class=\"progress\">\n",
       "  <div class=\"progress-bar\" role=\"progressbar\" style=\"background-color: blue; width: 100%; word-wrap: normal; white-space: nowrap; text-align: center; color: white\" aria-valuenow=\"100\" aria-valuemin=\"0\" aria-valuemax=\"100\">\n",
       "    1 / 1\n",
       "  </div>\n",
       "  <div class=\"progress-bar\" role=\"progressbar\" style=\"background-color: red; width: 0%\" aria-valuenow=\"0\" aria-valuemin=\"0\" aria-valuemax=\"100\"></div>\n",
       "</div>\n"
      ]
     },
     "metadata": {},
     "output_type": "display_data"
    },
    {
     "data": {
      "text/html": [
       "<div>\n",
       "  <span style=\"float: left;\">collect at cmd34.sc:12</span>\n",
       "</div>\n"
      ]
     },
     "metadata": {},
     "output_type": "display_data"
    },
    {
     "data": {
      "text/html": [
       "<div class=\"progress\">\n",
       "  <div class=\"progress-bar\" role=\"progressbar\" style=\"background-color: blue; width: 100%; word-wrap: normal; white-space: nowrap; text-align: center; color: white\" aria-valuenow=\"100\" aria-valuemin=\"0\" aria-valuemax=\"100\">\n",
       "    1 / 1\n",
       "  </div>\n",
       "  <div class=\"progress-bar\" role=\"progressbar\" style=\"background-color: red; width: 0%\" aria-valuenow=\"0\" aria-valuemin=\"0\" aria-valuemax=\"100\"></div>\n",
       "</div>\n"
      ]
     },
     "metadata": {},
     "output_type": "display_data"
    },
    {
     "data": {
      "text/html": [
       "<div>\n",
       "  <span style=\"float: left;\">collect at cmd34.sc:13</span>\n",
       "</div>\n"
      ]
     },
     "metadata": {},
     "output_type": "display_data"
    },
    {
     "data": {
      "text/html": [
       "<div class=\"progress\">\n",
       "  <div class=\"progress-bar\" role=\"progressbar\" style=\"background-color: blue; width: 100%; word-wrap: normal; white-space: nowrap; text-align: center; color: white\" aria-valuenow=\"100\" aria-valuemin=\"0\" aria-valuemax=\"100\">\n",
       "    1 / 1\n",
       "  </div>\n",
       "  <div class=\"progress-bar\" role=\"progressbar\" style=\"background-color: red; width: 0%\" aria-valuenow=\"0\" aria-valuemin=\"0\" aria-valuemax=\"100\"></div>\n",
       "</div>\n"
      ]
     },
     "metadata": {},
     "output_type": "display_data"
    },
    {
     "data": {
      "text/html": [
       "<div>\n",
       "  <span style=\"float: left;\">collect at cmd34.sc:14</span>\n",
       "</div>\n"
      ]
     },
     "metadata": {},
     "output_type": "display_data"
    },
    {
     "data": {
      "text/html": [
       "<div class=\"progress\">\n",
       "  <div class=\"progress-bar\" role=\"progressbar\" style=\"background-color: blue; width: 100%; word-wrap: normal; white-space: nowrap; text-align: center; color: white\" aria-valuenow=\"100\" aria-valuemin=\"0\" aria-valuemax=\"100\">\n",
       "    1 / 1\n",
       "  </div>\n",
       "  <div class=\"progress-bar\" role=\"progressbar\" style=\"background-color: red; width: 0%\" aria-valuenow=\"0\" aria-valuemin=\"0\" aria-valuemax=\"100\"></div>\n",
       "</div>\n"
      ]
     },
     "metadata": {},
     "output_type": "display_data"
    },
    {
     "data": {
      "text/html": [
       "<div>\n",
       "  <span style=\"float: left;\">collect at cmd34.sc:15</span>\n",
       "</div>\n"
      ]
     },
     "metadata": {},
     "output_type": "display_data"
    },
    {
     "data": {
      "text/html": [
       "<div class=\"progress\">\n",
       "  <div class=\"progress-bar\" role=\"progressbar\" style=\"background-color: blue; width: 100%; word-wrap: normal; white-space: nowrap; text-align: center; color: white\" aria-valuenow=\"100\" aria-valuemin=\"0\" aria-valuemax=\"100\">\n",
       "    1 / 1\n",
       "  </div>\n",
       "  <div class=\"progress-bar\" role=\"progressbar\" style=\"background-color: red; width: 0%\" aria-valuenow=\"0\" aria-valuemin=\"0\" aria-valuemax=\"100\"></div>\n",
       "</div>\n"
      ]
     },
     "metadata": {},
     "output_type": "display_data"
    },
    {
     "data": {
      "text/html": [
       "<div>\n",
       "  <span style=\"float: left;\">collect at cmd34.sc:19</span>\n",
       "</div>\n"
      ]
     },
     "metadata": {},
     "output_type": "display_data"
    },
    {
     "data": {
      "text/html": [
       "<div class=\"progress\">\n",
       "  <div class=\"progress-bar\" role=\"progressbar\" style=\"background-color: blue; width: 100%; word-wrap: normal; white-space: nowrap; text-align: center; color: white\" aria-valuenow=\"100\" aria-valuemin=\"0\" aria-valuemax=\"100\">\n",
       "    1 / 1\n",
       "  </div>\n",
       "  <div class=\"progress-bar\" role=\"progressbar\" style=\"background-color: red; width: 0%\" aria-valuenow=\"0\" aria-valuemin=\"0\" aria-valuemax=\"100\"></div>\n",
       "</div>\n"
      ]
     },
     "metadata": {},
     "output_type": "display_data"
    },
    {
     "data": {
      "application/vnd.plotly.v1+json": {
       "data": [
        {
         "fill": "tonexty",
         "name": "Hidráulica",
         "stackgroup": "1",
         "type": "scatter",
         "x": [
          "2024-12-01",
          "2024-12-02",
          "2024-12-03",
          "2024-12-04",
          "2024-12-05",
          "2024-12-06",
          "2024-12-07",
          "2024-12-08",
          "2024-12-09",
          "2024-12-10",
          "2024-12-11",
          "2024-12-12",
          "2024-12-13",
          "2024-12-14"
         ],
         "y": [
          80156,
          91647.1,
          87858.9,
          83470.9,
          78613.3,
          65506.8,
          51329,
          50174.4,
          69181.1,
          106570.7,
          124110.9,
          123309.6,
          128854.1,
          94980.2
         ]
        },
        {
         "fill": "tonexty",
         "name": "Solar Fotovoltaica",
         "stackgroup": "1",
         "type": "scatter",
         "x": [
          "2024-12-01",
          "2024-12-02",
          "2024-12-03",
          "2024-12-04",
          "2024-12-05",
          "2024-12-06",
          "2024-12-07",
          "2024-12-08",
          "2024-12-09",
          "2024-12-10",
          "2024-12-11",
          "2024-12-12",
          "2024-12-13",
          "2024-12-14"
         ],
         "y": [
          55299.424,
          57137.721,
          62638.002,
          76858.404,
          88160.484,
          82598.877,
          73714.745,
          79979.558,
          89523.795,
          91464.272,
          63925.087,
          49952.122,
          70181.636,
          79000.315
         ]
        },
        {
         "fill": "tonexty",
         "name": "Nuclear",
         "stackgroup": "1",
         "type": "scatter",
         "x": [
          "2024-12-01",
          "2024-12-02",
          "2024-12-03",
          "2024-12-04",
          "2024-12-05",
          "2024-12-06",
          "2024-12-07",
          "2024-12-08",
          "2024-12-09",
          "2024-12-10",
          "2024-12-11",
          "2024-12-12",
          "2024-12-13",
          "2024-12-14"
         ],
         "y": [
          122080,
          122035.2,
          122063.2,
          122065.4,
          122042,
          121975,
          122047.4,
          122075.4,
          122110.3,
          122203,
          122265.5,
          122280.4,
          122269,
          122279.6
         ]
        },
        {
         "fill": "tonexty",
         "name": "Eólica",
         "stackgroup": "1",
         "type": "scatter",
         "x": [
          "2024-12-01",
          "2024-12-02",
          "2024-12-03",
          "2024-12-04",
          "2024-12-05",
          "2024-12-06",
          "2024-12-07",
          "2024-12-08",
          "2024-12-09",
          "2024-12-10",
          "2024-12-11",
          "2024-12-12",
          "2024-12-13",
          "2024-12-14"
         ],
         "y": [
          87069.688,
          69926.448,
          134640.394,
          240328.626,
          194972.956,
          238200.526,
          326080.183,
          361026.698,
          357003.36,
          179988.334,
          47118.775,
          63615.035,
          32630.002,
          106299.268
         ]
        },
        {
         "name": "Precio Mercados en €",
         "type": "scatter",
         "x": [
          "2024-12-01",
          "2024-12-02",
          "2024-12-03",
          "2024-12-04",
          "2024-12-05",
          "2024-12-06",
          "2024-12-07",
          "2024-12-08",
          "2024-12-09",
          "2024-12-10",
          "2024-12-11",
          "2024-12-12",
          "2024-12-13",
          "2024-12-14"
         ],
         "y": [
          126.7,
          142.62,
          141.11,
          133.02,
          135.02,
          118.24,
          40.6,
          21.35,
          64.72,
          133.16,
          139.25,
          146.73,
          143.93,
          129.96
         ],
         "yaxis": "y2"
        },
        {
         "fill": "tonexty",
         "name": "Ciclo Combinado",
         "stackgroup": "1",
         "type": "scatter",
         "x": [
          "2024-12-01",
          "2024-12-02",
          "2024-12-03",
          "2024-12-04",
          "2024-12-05",
          "2024-12-06",
          "2024-12-07",
          "2024-12-08",
          "2024-12-09",
          "2024-12-10",
          "2024-12-11",
          "2024-12-12",
          "2024-12-13",
          "2024-12-14"
         ],
         "y": [
          147282.116,
          264352.156,
          259447.529,
          175363.258,
          172534.862,
          100071.329,
          76605.477,
          67977.225,
          109286.506,
          215763.338,
          346028.762,
          322512.026,
          332593.18,
          208782.147
         ]
        },
        {
         "fill": "tonexty",
         "name": "Cogeneración",
         "stackgroup": "1",
         "type": "scatter",
         "x": [
          "2024-12-01",
          "2024-12-02",
          "2024-12-03",
          "2024-12-04",
          "2024-12-05",
          "2024-12-06",
          "2024-12-07",
          "2024-12-08",
          "2024-12-09",
          "2024-12-10",
          "2024-12-11",
          "2024-12-12",
          "2024-12-13",
          "2024-12-14"
         ],
         "y": [
          55240.44,
          58232.66,
          58616.44,
          56652.46,
          58285.96,
          53583.68,
          29203.16,
          27134.88,
          36328.24,
          54396.3,
          58178.48,
          60373.72,
          61112.46,
          57746.84
         ]
        },
        {
         "fill": "tonexty",
         "name": "Carbón",
         "stackgroup": "1",
         "type": "scatter",
         "x": [
          "2024-12-01",
          "2024-12-02",
          "2024-12-03",
          "2024-12-04",
          "2024-12-05",
          "2024-12-06",
          "2024-12-07",
          "2024-12-08",
          "2024-12-09",
          "2024-12-10",
          "2024-12-11",
          "2024-12-12",
          "2024-12-13",
          "2024-12-14"
         ],
         "y": [
          10917.2,
          17159.2,
          10104,
          7736.8,
          7550,
          6143,
          6071,
          5957,
          6901.1,
          12170.3,
          21642.9,
          19056.3,
          10948.9,
          6065.2
         ]
        }
       ],
       "layout": {
        "autosize": true,
        "showlegend": true,
        "title": {
         "text": "Generación de Energía por Tipo (Áreas Apiladas)"
        },
        "xaxis": {
         "autorange": true,
         "range": [
          "2024-11-30 05:40:20.3763",
          "2024-12-14 18:19:39.6237"
         ],
         "title": {
          "text": "Fecha"
         },
         "type": "date"
        },
        "yaxis": {
         "autorange": true,
         "range": [
          0,
          831930.9484210525
         ],
         "title": {
          "text": "Energía Generada (MWh)"
         },
         "type": "linear"
        },
        "yaxis2": {
         "autorange": true,
         "overlaying": "y",
         "range": [
          12.16611464968153,
          155.91388535031845
         ],
         "side": "right",
         "title": {
          "text": "Eje Y2 Valores"
         },
         "type": "linear"
        }
       }
      },
      "image/png": "[encoded data removed]",
      "text/html": [
       "<div class=\"chart\" id=\"plot-91791cdc-4e66-4408-b6d4-a27e1f6a0b5d\"></div>\n",
       "<script>require(['plotly'], function(Plotly) {\n",
       "  (function () {\n",
       "  var data0 = {\"x\":[\"2024-12-01\",\"2024-12-02\",\"2024-12-03\",\"2024-12-04\",\"2024-12-05\",\"2024-12-06\",\"2024-12-07\",\"2024-12-08\",\"2024-12-09\",\"2024-12-10\",\"2024-12-11\",\"2024-12-12\",\"2024-12-13\",\"2024-12-14\"],\"name\":\"Hidráulica\",\"y\":[80156.0,91647.1,87858.9,83470.9,78613.3,65506.8,51329.0,50174.4,69181.1,106570.7,124110.9,123309.6,128854.1,94980.2],\"stackgroup\":\"1\",\"fill\":\"tonexty\",\"type\":\"scatter\"};\n",
       "  var data1 = {\"x\":[\"2024-12-01\",\"2024-12-02\",\"2024-12-03\",\"2024-12-04\",\"2024-12-05\",\"2024-12-06\",\"2024-12-07\",\"2024-12-08\",\"2024-12-09\",\"2024-12-10\",\"2024-12-11\",\"2024-12-12\",\"2024-12-13\",\"2024-12-14\"],\"name\":\"Solar Fotovoltaica\",\"y\":[55299.424,57137.721,62638.002,76858.404,88160.484,82598.877,73714.745,79979.558,89523.795,91464.272,63925.087,49952.122,70181.636,79000.315],\"stackgroup\":\"1\",\"fill\":\"tonexty\",\"type\":\"scatter\"};\n",
       "  var data2 = {\"x\":[\"2024-12-01\",\"2024-12-02\",\"2024-12-03\",\"2024-12-04\",\"2024-12-05\",\"2024-12-06\",\"2024-12-07\",\"2024-12-08\",\"2024-12-09\",\"2024-12-10\",\"2024-12-11\",\"2024-12-12\",\"2024-12-13\",\"2024-12-14\"],\"name\":\"Nuclear\",\"y\":[122080.0,122035.2,122063.2,122065.4,122042.0,121975.0,122047.4,122075.4,122110.3,122203.0,122265.5,122280.4,122269.0,122279.6],\"stackgroup\":\"1\",\"fill\":\"tonexty\",\"type\":\"scatter\"};\n",
       "  var data3 = {\"x\":[\"2024-12-01\",\"2024-12-02\",\"2024-12-03\",\"2024-12-04\",\"2024-12-05\",\"2024-12-06\",\"2024-12-07\",\"2024-12-08\",\"2024-12-09\",\"2024-12-10\",\"2024-12-11\",\"2024-12-12\",\"2024-12-13\",\"2024-12-14\"],\"name\":\"Eólica\",\"y\":[87069.688,69926.448,134640.394,240328.626,194972.956,238200.526,326080.183,361026.698,357003.36,179988.334,47118.775,63615.035,32630.002,106299.268],\"stackgroup\":\"1\",\"fill\":\"tonexty\",\"type\":\"scatter\"};\n",
       "  var data4 = {\"x\":[\"2024-12-01\",\"2024-12-02\",\"2024-12-03\",\"2024-12-04\",\"2024-12-05\",\"2024-12-06\",\"2024-12-07\",\"2024-12-08\",\"2024-12-09\",\"2024-12-10\",\"2024-12-11\",\"2024-12-12\",\"2024-12-13\",\"2024-12-14\"],\"name\":\"Precio Mercados en €\",\"y\":[126.7,142.62,141.11,133.02,135.02,118.24,40.6,21.35,64.72,133.16,139.25,146.73,143.93,129.96],\"type\":\"scatter\",\"yaxis\":\"y2\"};\n",
       "  var data5 = {\"x\":[\"2024-12-01\",\"2024-12-02\",\"2024-12-03\",\"2024-12-04\",\"2024-12-05\",\"2024-12-06\",\"2024-12-07\",\"2024-12-08\",\"2024-12-09\",\"2024-12-10\",\"2024-12-11\",\"2024-12-12\",\"2024-12-13\",\"2024-12-14\"],\"name\":\"Ciclo Combinado\",\"y\":[147282.116,264352.156,259447.529,175363.258,172534.862,100071.329,76605.477,67977.225,109286.506,215763.338,346028.762,322512.026,332593.18,208782.147],\"stackgroup\":\"1\",\"fill\":\"tonexty\",\"type\":\"scatter\"};\n",
       "  var data6 = {\"x\":[\"2024-12-01\",\"2024-12-02\",\"2024-12-03\",\"2024-12-04\",\"2024-12-05\",\"2024-12-06\",\"2024-12-07\",\"2024-12-08\",\"2024-12-09\",\"2024-12-10\",\"2024-12-11\",\"2024-12-12\",\"2024-12-13\",\"2024-12-14\"],\"name\":\"Cogeneración\",\"y\":[55240.44,58232.66,58616.44,56652.46,58285.96,53583.68,29203.16,27134.88,36328.24,54396.3,58178.48,60373.72,61112.46,57746.84],\"stackgroup\":\"1\",\"fill\":\"tonexty\",\"type\":\"scatter\"};\n",
       "  var data7 = {\"x\":[\"2024-12-01\",\"2024-12-02\",\"2024-12-03\",\"2024-12-04\",\"2024-12-05\",\"2024-12-06\",\"2024-12-07\",\"2024-12-08\",\"2024-12-09\",\"2024-12-10\",\"2024-12-11\",\"2024-12-12\",\"2024-12-13\",\"2024-12-14\"],\"name\":\"Carbón\",\"y\":[10917.2,17159.2,10104.0,7736.8,7550.0,6143.0,6071.0,5957.0,6901.1,12170.3,21642.9,19056.3,10948.9,6065.2],\"stackgroup\":\"1\",\"fill\":\"tonexty\",\"type\":\"scatter\"};\n",
       "\n",
       "  var data = [data0, data1, data2, data3, data4, data5, data6, data7];\n",
       "  var layout = {\"title\":\"Generación de Energía por Tipo (Áreas Apiladas)\",\"yaxis\":{\"title\":\"Energía Generada (MWh)\"},\"xaxis\":{\"title\":\"Fecha\"},\"yaxis2\":{\"side\":\"right\",\"title\":\"Eje Y2 Valores\",\"overlaying\":\"y\"},\"showlegend\":true};\n",
       "\n",
       "  Plotly.plot('plot-91791cdc-4e66-4408-b6d4-a27e1f6a0b5d', data, layout);\n",
       "})();\n",
       "});\n",
       "      </script>\n",
       "           "
      ]
     },
     "metadata": {},
     "output_type": "display_data"
    }
   ],
   "source": [
    "graficoAreasApiladas(datosConsulta2)"
   ]
  },
  {
   "cell_type": "code",
   "execution_count": 11,
   "metadata": {},
   "outputs": [
    {
     "data": {
      "text/plain": [
       "\u001b[36mres10\u001b[39m: \u001b[32mTwoAxesExample\u001b[39m.type = ammonite.$sess.cmd9$Helper$TwoAxesExample$@2a1c2f19"
      ]
     },
     "execution_count": 11,
     "metadata": {},
     "output_type": "execute_result"
    }
   ],
   "source": [
    "TwoAxesExample"
   ]
  },
  {
   "cell_type": "code",
   "execution_count": null,
   "metadata": {},
   "outputs": [],
   "source": []
  }
 ],
 "metadata": {
  "kernelspec": {
   "display_name": "Scala 2.12",
   "language": "scala",
   "name": "scala212"
  },
  "language_info": {
   "codemirror_mode": "text/x-scala",
   "file_extension": ".scala",
   "mimetype": "text/x-scala",
   "name": "scala",
   "nbconvert_exporter": "script",
   "version": "2.12.10"
  }
 },
 "nbformat": 4,
 "nbformat_minor": 4
}
