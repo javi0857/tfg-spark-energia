{
 "cells": [
  {
   "cell_type": "markdown",
   "metadata": {},
   "source": [
    "# Intercambios internacionales"
   ]
  },
  {
   "cell_type": "code",
   "execution_count": 1,
   "metadata": {},
   "outputs": [
    {
     "data": {
      "text/html": [
       "Loading <code>spark-stubs</code>"
      ]
     },
     "metadata": {},
     "output_type": "display_data"
    },
    {
     "data": {
      "text/html": [
       "Creating SparkSession\r\n"
      ]
     },
     "metadata": {},
     "output_type": "display_data"
    },
    {
     "name": "stderr",
     "output_type": "stream",
     "text": [
      "Using Spark's default log4j profile: org/apache/spark/log4j-defaults.properties\n"
     ]
    },
    {
     "data": {
      "text/html": [
       "<a target=\"_blank\" href=\"http://host.docker.internal:4041\">Spark UI</a>"
      ]
     },
     "metadata": {},
     "output_type": "display_data"
    },
    {
     "data": {
      "text/plain": [
       "\u001b[32mimport \u001b[39m\u001b[36m$ivy.$\u001b[39m\r\n",
       "\u001b[32mimport \u001b[39m\u001b[36morg.apache.spark.sql._\u001b[39m\r\n",
       "\u001b[32mimport \u001b[39m\u001b[36morg.apache.spark.sql.functions._\u001b[39m\r\n",
       "\u001b[32mimport \u001b[39m\u001b[36morg.apache.spark.sql.expressions.Window\u001b[39m\r\n",
       "\u001b[32mimport \u001b[39m\u001b[36morg.apache.log4j.{Level, Logger}\u001b[39m\r\n",
       "\u001b[32mimport \u001b[39m\u001b[36m$ivy.$\u001b[39m\r\n",
       "\u001b[32mimport \u001b[39m\u001b[36m$ivy.$\u001b[39m\r\n",
       "\u001b[32mimport \u001b[39m\u001b[36mplotly._, plotly.element._, plotly.layout._, plotly.Almond._\n",
       "\n",
       "\n",
       "//Iniciamos session de Spark\n",
       "\u001b[39m\r\n",
       "\u001b[36mspark\u001b[39m: \u001b[32mSparkSession\u001b[39m = org.apache.spark.sql.SparkSession@3b1a66b0\r\n",
       "\u001b[32mimport \u001b[39m\u001b[36mspark.implicits._\u001b[39m"
      ]
     },
     "execution_count": 1,
     "metadata": {},
     "output_type": "execute_result"
    }
   ],
   "source": [
    "import $ivy.`org.apache.spark::spark-sql:2.4.3`\n",
    "\n",
    "\n",
    "import org.apache.spark.sql._\n",
    "import org.apache.spark.sql.functions._\n",
    "import org.apache.spark.sql.expressions.Window\n",
    "\n",
    "\n",
    "\n",
    "//Reducir numero logs\n",
    "import org.apache.log4j.{Level, Logger}\n",
    "Logger.getLogger(\"org\").setLevel(Level.OFF)\n",
    "\n",
    "\n",
    "//For adding extra dependenies\n",
    "import $ivy.`org.typelevel::cats-core:1.6.0`\n",
    "\n",
    "//Plotly\n",
    "import $ivy.`org.plotly-scala::plotly-almond:0.8.3`\n",
    "import plotly._, plotly.element._, plotly.layout._, plotly.Almond._\n",
    "\n",
    "\n",
    "//Iniciamos session de Spark\n",
    "val spark = {\n",
    "  NotebookSparkSession.builder()\n",
    "     .master(\"local[*]\")\n",
    "    //.config(\"spark.executor.instances\", \"4\") // Número de ejecutores\n",
    "    //.config(\"spark.executor.memory\", \"4g\") // Memoria por ejecutor\n",
    "    //.config(\"spark.executor.cores\", \"2\") // Núcleos por ejecutor\n",
    "    //.config(\"spark.driver.memory\", \"4g\") // Memoria del driver\n",
    "    //.config(\"spark.sql.shuffle.partitions\", \"8\") // Número de particiones para operaciones de shuffle\n",
    "    .getOrCreate()\n",
    "}\n",
    "import spark.implicits._"
   ]
  },
  {
   "cell_type": "code",
   "execution_count": 2,
   "metadata": {},
   "outputs": [
    {
     "data": {
      "text/html": []
     },
     "metadata": {},
     "output_type": "display_data"
    },
    {
     "data": {
      "text/plain": [
       "\u001b[36mdfIntercambios\u001b[39m: \u001b[32mDataFrame\u001b[39m = [Pais: string, TipoIntercambio: string ... 3 more fields]"
      ]
     },
     "execution_count": 2,
     "metadata": {},
     "output_type": "execute_result"
    }
   ],
   "source": [
    "val dfIntercambios = spark.read\n",
    "        .parquet(\"../../data/parquet/dsItercambiosFronteras14-24.parquet\")"
   ]
  },
  {
   "cell_type": "code",
   "execution_count": 3,
   "metadata": {},
   "outputs": [
    {
     "data": {
      "text/html": []
     },
     "metadata": {},
     "output_type": "display_data"
    },
    {
     "name": "stdout",
     "output_type": "stream",
     "text": [
      "+-------+---------------+--------------------+--------+-------------------+\n",
      "|   Pais|TipoIntercambio|          Porcentaje|   Valor|              Fecha|\n",
      "+-------+---------------+--------------------+--------+-------------------+\n",
      "|francia|    Exportación|0.040690692391790774| -2873.3|2022-01-01 01:00:00|\n",
      "|francia|    Exportación| 0.03352963228112584| -2674.3|2022-01-02 01:00:00|\n",
      "|francia|    Exportación|  0.0789662326013408| -6444.3|2022-01-03 01:00:00|\n",
      "|francia|    Exportación|  0.7276761833404483|-41761.7|2022-01-04 01:00:00|\n",
      "|francia|    Exportación|  0.8014993776168383|-42497.1|2022-01-05 01:00:00|\n",
      "|francia|    Exportación|  0.7308582244652934|-40967.6|2022-01-06 01:00:00|\n",
      "|francia|    Exportación|  0.5497382537741282|-33982.4|2022-01-07 01:00:00|\n",
      "|francia|    Exportación|  0.1586140723335776|-10497.0|2022-01-08 01:00:00|\n",
      "|francia|    Exportación|  0.9295050738441702|-64164.2|2022-01-09 01:00:00|\n",
      "|francia|    Exportación|  0.8685587806707862|-58234.0|2022-01-10 01:00:00|\n",
      "|francia|    Exportación|    0.89086786061188|-47967.8|2022-01-11 01:00:00|\n",
      "|francia|    Exportación|  0.8655472957732309|-53338.4|2022-01-12 01:00:00|\n",
      "|francia|    Exportación|  0.8687396539972086|-50853.5|2022-01-13 01:00:00|\n",
      "|francia|    Exportación|   0.906460101811231|-54630.9|2022-01-14 01:00:00|\n",
      "|francia|    Exportación|   0.540377417165048|-28498.1|2022-01-15 01:00:00|\n",
      "|francia|    Exportación| 0.40432636039052433|-21833.3|2022-01-16 01:00:00|\n",
      "|francia|    Exportación|  0.6809015913519938|-31166.5|2022-01-17 01:00:00|\n",
      "|francia|    Exportación|  0.7110522328500185|-35102.8|2022-01-18 01:00:00|\n",
      "|francia|    Exportación|  0.6950591957719789|-39980.5|2022-01-19 01:00:00|\n",
      "|francia|    Exportación|  0.9233986409575385|-53540.5|2022-01-20 01:00:00|\n",
      "+-------+---------------+--------------------+--------+-------------------+\n",
      "only showing top 20 rows\n",
      "\n"
     ]
    }
   ],
   "source": [
    " dfIntercambios.show()"
   ]
  },
  {
   "cell_type": "markdown",
   "metadata": {},
   "source": [
    "### Valores totales importación/exportación"
   ]
  },
  {
   "cell_type": "code",
   "execution_count": 4,
   "metadata": {},
   "outputs": [
    {
     "data": {
      "text/html": []
     },
     "metadata": {},
     "output_type": "display_data"
    },
    {
     "data": {
      "text/html": []
     },
     "metadata": {},
     "output_type": "display_data"
    },
    {
     "data": {
      "text/html": []
     },
     "metadata": {},
     "output_type": "display_data"
    },
    {
     "data": {
      "text/html": []
     },
     "metadata": {},
     "output_type": "display_data"
    },
    {
     "data": {
      "text/html": []
     },
     "metadata": {},
     "output_type": "display_data"
    },
    {
     "data": {
      "text/html": []
     },
     "metadata": {},
     "output_type": "display_data"
    },
    {
     "name": "stdout",
     "output_type": "stream",
     "text": [
      "+---------------+--------------------+--------+\n",
      "|TipoIntercambio|          ValorTotal|   Valor|\n",
      "+---------------+--------------------+--------+\n",
      "|    Importación|1.9669334245000002E8| 196.693|\n",
      "|          saldo|  -9458417.244000006|  -9.458|\n",
      "|    Exportación|-2.06151759693999...|-206.152|\n",
      "+---------------+--------------------+--------+\n",
      "\n"
     ]
    }
   ],
   "source": [
    "dfIntercambios\n",
    "    .groupBy(\"TipoIntercambio\")\n",
    "    .agg(sum(\"Valor\").as(\"ValorTotal\"))\n",
    "    .withColumn(\"Valor\", round($\"ValorTotal\"/1e6,3))\n",
    "    //.select(\"TipoIntercambio\", \"Valor\")\n",
    "    .show()"
   ]
  },
  {
   "cell_type": "code",
   "execution_count": 5,
   "metadata": {},
   "outputs": [
    {
     "name": "stderr",
     "output_type": "stream",
     "text": [
      "cmd5.sc:4: method !== in class Column is deprecated (since 2.0.0): !== does not have the same precedence as ===, use =!= instead\n",
      "    .filter($\"Año\" !== \"2025\")\n",
      "                   ^\n"
     ]
    },
    {
     "data": {
      "text/html": []
     },
     "metadata": {},
     "output_type": "display_data"
    },
    {
     "data": {
      "text/html": []
     },
     "metadata": {},
     "output_type": "display_data"
    },
    {
     "name": "stdout",
     "output_type": "stream",
     "text": [
      "+----+--------------------+\n",
      "| Año|          ValorTotal|\n",
      "+----+--------------------+\n",
      "|2014|-1.315336839999999E7|\n",
      "|2015|-1.18093597999999...|\n",
      "|2016|-1.27704695999999...|\n",
      "|2017|-1.37444278999999...|\n",
      "|2018|-1.08897391000000...|\n",
      "|2019|-1.38818913999999...|\n",
      "|2020|-1.724798569999999E7|\n",
      "|2021|-2.015531770000001E7|\n",
      "|2022|-3.14567561670000...|\n",
      "|2023|-2.963316771200001E7|\n",
      "|2024|-2.958681193999999E7|\n",
      "+----+--------------------+\n",
      "\n"
     ]
    }
   ],
   "source": [
    "dfIntercambios\n",
    "    .withColumn(\"Año\",date_format(col(\"Fecha\"), \"yyyy\"))\n",
    "    .filter($\"TipoIntercambio\" === \"Exportación\")\n",
    "    .filter($\"Año\" !== \"2025\")\n",
    "    .groupBy($\"Año\")\n",
    "    .agg(sum(\"Valor\").as(\"ValorTotal\"))\n",
    "    .select($\"Año\", $\"ValorTotal\")\n",
    "    .orderBy(\"Año\")\n",
    "    .show()"
   ]
  },
  {
   "cell_type": "code",
   "execution_count": 6,
   "metadata": {},
   "outputs": [
    {
     "name": "stderr",
     "output_type": "stream",
     "text": [
      "cmd6.sc:5: method !== in class Column is deprecated (since 2.0.0): !== does not have the same precedence as ===, use =!= instead\n",
      "    .filter($\"Año\" !== \"2025\")\n",
      "                   ^\n",
      "cmd6.sc:39: method apply in object Marker is deprecated (since 0.8.0): Use Marker() and chain-call .with* methods on it instead\n",
      "        marker = Marker(color = Color.RGBA(0, 102, 255, 0.6))\n",
      "                 ^\n",
      "cmd6.sc:35: method apply in object Bar is deprecated (since 0.8.0): Use Bar() and chain-call .with* methods on it instead\n",
      "    val traceImportacion = Bar(\n",
      "                           ^\n",
      "cmd6.sc:46: method apply in object Marker is deprecated (since 0.8.0): Use Marker() and chain-call .with* methods on it instead\n",
      "        marker = Marker(color = Color.RGBA(255, 102, 0, 0.6))\n",
      "                 ^\n",
      "cmd6.sc:42: method apply in object Bar is deprecated (since 0.8.0): Use Bar() and chain-call .with* methods on it instead\n",
      "    val traceExportacion = Bar(\n",
      "                           ^\n",
      "cmd6.sc:53: method apply in object Line is deprecated (since 0.8.0): Use Line() and chain-call .with* methods on it instead\n",
      "            line = Line(dash = Dash.Dot, color = Color.RGBA(0, 0, 0, 0.8)) \n",
      "                   ^\n",
      "cmd6.sc:49: method apply in object Scatter is deprecated (since 0.8.0): Use Scatter() and chain-call .with* methods on it instead\n",
      "    val traceSaldo = Scatter(\n",
      "                     ^\n",
      "cmd6.sc:59: method apply in object Axis is deprecated (since 0.8.0): Use Axis() and chain-call .with* methods on it instead\n",
      "        xaxis = Axis(title = \"Año\"),\n",
      "                ^\n",
      "cmd6.sc:60: method apply in object Axis is deprecated (since 0.8.0): Use Axis() and chain-call .with* methods on it instead\n",
      "        yaxis = Axis(title = \"Energía (millones de MWh)\")\n",
      "                ^\n",
      "cmd6.sc:56: method apply in object Layout is deprecated (since 0.8.0): Use Layout() and chain-call .with* methods on it instead\n",
      "    val layout = Layout(\n",
      "                 ^\n"
     ]
    },
    {
     "data": {
      "text/html": []
     },
     "metadata": {},
     "output_type": "display_data"
    },
    {
     "data": {
      "text/html": []
     },
     "metadata": {},
     "output_type": "display_data"
    },
    {
     "data": {
      "text/html": []
     },
     "metadata": {},
     "output_type": "display_data"
    },
    {
     "data": {
      "text/html": []
     },
     "metadata": {},
     "output_type": "display_data"
    },
    {
     "data": {
      "text/html": []
     },
     "metadata": {},
     "output_type": "display_data"
    },
    {
     "data": {
      "text/html": []
     },
     "metadata": {},
     "output_type": "display_data"
    },
    {
     "data": {
      "text/html": []
     },
     "metadata": {},
     "output_type": "display_data"
    },
    {
     "data": {
      "text/html": []
     },
     "metadata": {},
     "output_type": "display_data"
    },
    {
     "data": {
      "text/html": []
     },
     "metadata": {},
     "output_type": "display_data"
    },
    {
     "data": {
      "text/html": []
     },
     "metadata": {},
     "output_type": "display_data"
    },
    {
     "data": {
      "text/html": []
     },
     "metadata": {},
     "output_type": "display_data"
    },
    {
     "data": {
      "text/html": []
     },
     "metadata": {},
     "output_type": "display_data"
    },
    {
     "data": {
      "text/html": []
     },
     "metadata": {},
     "output_type": "display_data"
    },
    {
     "data": {
      "text/html": []
     },
     "metadata": {},
     "output_type": "display_data"
    },
    {
     "data": {
      "text/html": []
     },
     "metadata": {},
     "output_type": "display_data"
    },
    {
     "data": {
      "text/html": []
     },
     "metadata": {},
     "output_type": "display_data"
    },
    {
     "data": {
      "text/html": [
       "\n",
       "      <script type=\"text/javascript\">\n",
       "        require.config({\n",
       "  paths: {\n",
       "    d3: 'https://cdnjs.cloudflare.com/ajax/libs/d3/3.5.17/d3.min',\n",
       "    plotly: 'https://cdn.plot.ly/plotly-1.54.1.min',\n",
       "    jquery: 'https://code.jquery.com/jquery-3.3.1.min'\n",
       "  },\n",
       "\n",
       "  shim: {\n",
       "    plotly: {\n",
       "      deps: ['d3', 'jquery'],\n",
       "      exports: 'plotly'\n",
       "    }\n",
       "  }\n",
       "});\n",
       "        \n",
       "\n",
       "        require(['plotly'], function(Plotly) {\n",
       "          window.Plotly = Plotly;\n",
       "        });\n",
       "      </script>\n",
       "    "
      ]
     },
     "metadata": {},
     "output_type": "display_data"
    },
    {
     "data": {
      "application/vnd.plotly.v1+json": {
       "config": {},
       "data": [
        {
         "marker": {
          "color": "rgba(0, 102, 255, 0.6)"
         },
         "name": "Importación anual",
         "type": "bar",
         "x": [
          "2014",
          "2015",
          "2016",
          "2017",
          "2018",
          "2019",
          "2020",
          "2021",
          "2022",
          "2023",
          "2024"
         ],
         "y": [
          9650577.599999998,
          11578078.200000018,
          20345568.999999996,
          22823903.800000012,
          21918402.80000002,
          20746477.000000007,
          20534127.999999985,
          21604100.999999993,
          11575242.700000005,
          15648057.632999988,
          19354621.966999978
         ]
        },
        {
         "marker": {
          "color": "rgba(255, 102, 0, 0.6)"
         },
         "name": "Exportación anual",
         "type": "bar",
         "x": [
          "2014",
          "2015",
          "2016",
          "2017",
          "2018",
          "2019",
          "2020",
          "2021",
          "2022",
          "2023",
          "2024"
         ],
         "y": [
          -13153368.39999999,
          -11809359.799999999,
          -12770469.599999994,
          -13744427.899999999,
          -10889739.100000001,
          -13881891.399999982,
          -17247985.69999999,
          -20155317.70000001,
          -31456756.167000007,
          -29633167.71200001,
          -29586811.93999999
         ]
        },
        {
         "line": {
          "color": "rgba(0, 0, 0, 0.8)",
          "dash": "dot"
         },
         "name": "Saldo",
         "type": "scatter",
         "x": [
          "2014",
          "2015",
          "2016",
          "2017",
          "2018",
          "2019",
          "2020",
          "2021",
          "2022",
          "2023",
          "2024"
         ],
         "y": [
          -3502790.800000002,
          -231281.6000000036,
          7575099.399999995,
          9079475.900000006,
          11028663.699999997,
          6864585.6,
          3286142.2999999896,
          1448783.2999999905,
          -19881513.466999974,
          -13985110.079000011,
          -10232189.972999992
         ]
        }
       ],
       "layout": {
        "autosize": true,
        "barmode": "relative",
        "title": {
         "text": "Saldo intercambio internacional anual"
        },
        "xaxis": {
         "autorange": true,
         "range": [
          2013.4026859089997,
          2024.5973140910003
         ],
         "title": {
          "text": "Año"
         },
         "type": "linear"
        },
        "yaxis": {
         "autorange": true,
         "range": [
          -34472348.3873889,
          25839496.0203889
         ],
         "title": {
          "text": "Energía (millones de MWh)"
         },
         "type": "linear"
        }
       }
      },
      "image/png": "[encoded data removed]",
      "text/html": [
       "<div class=\"chart\" id=\"plot-676b91b3-fd4c-4625-a881-3c59f0383c23\"></div>\n",
       "<script>require(['plotly'], function(Plotly) {\n",
       "  (function () {\n",
       "  var data0 = {\"x\":[\"2014\",\"2015\",\"2016\",\"2017\",\"2018\",\"2019\",\"2020\",\"2021\",\"2022\",\"2023\",\"2024\"],\"name\":\"Importación anual\",\"y\":[9650577.599999998,1.1578078200000018E7,2.0345568999999996E7,2.2823903800000012E7,2.191840280000002E7,2.0746477000000007E7,2.0534127999999985E7,2.1604100999999993E7,1.1575242700000005E7,1.5648057632999988E7,1.9354621966999978E7],\"marker\":{\"color\":\"rgba(0, 102, 255, 0.6)\"},\"type\":\"bar\"};\n",
       "  var data1 = {\"x\":[\"2014\",\"2015\",\"2016\",\"2017\",\"2018\",\"2019\",\"2020\",\"2021\",\"2022\",\"2023\",\"2024\"],\"name\":\"Exportación anual\",\"y\":[-1.315336839999999E7,-1.1809359799999999E7,-1.2770469599999994E7,-1.3744427899999999E7,-1.0889739100000001E7,-1.3881891399999982E7,-1.724798569999999E7,-2.015531770000001E7,-3.1456756167000007E7,-2.963316771200001E7,-2.958681193999999E7],\"marker\":{\"color\":\"rgba(255, 102, 0, 0.6)\"},\"type\":\"bar\"};\n",
       "  var data2 = {\"x\":[\"2014\",\"2015\",\"2016\",\"2017\",\"2018\",\"2019\",\"2020\",\"2021\",\"2022\",\"2023\",\"2024\"],\"name\":\"Saldo\",\"y\":[-3502790.800000002,-231281.6000000036,7575099.399999995,9079475.900000006,1.1028663699999997E7,6864585.6,3286142.2999999896,1448783.2999999905,-1.9881513466999974E7,-1.3985110079000011E7,-1.0232189972999992E7],\"line\":{\"color\":\"rgba(0, 0, 0, 0.8)\",\"dash\":\"dot\"},\"type\":\"scatter\"};\n",
       "\n",
       "  var data = [data0, data1, data2];\n",
       "  var layout = {\"barmode\":\"relative\",\"title\":\"Saldo intercambio internacional anual\",\"yaxis\":{\"title\":\"Energía (millones de MWh)\"},\"xaxis\":{\"title\":\"Año\"}};\n",
       " var config = {};\n",
       "\n",
       "  Plotly.plot('plot-676b91b3-fd4c-4625-a881-3c59f0383c23', data, layout, config);\n",
       "})();\n",
       "});\n",
       "      </script>\n",
       "           "
      ]
     },
     "metadata": {},
     "output_type": "display_data"
    },
    {
     "data": {
      "text/plain": [
       "defined \u001b[32mfunction\u001b[39m \u001b[36manalisisAnual\u001b[39m"
      ]
     },
     "execution_count": 6,
     "metadata": {},
     "output_type": "execute_result"
    }
   ],
   "source": [
    "def analisisAnual(dfInt: DataFrame): Unit = {\n",
    "    \n",
    "    val df = dfInt\n",
    "    .withColumn(\"Año\",date_format(col(\"Fecha\"), \"yyyy\"))\n",
    "    .filter($\"Año\" !== \"2025\")\n",
    "    .groupBy($\"TipoIntercambio\",$\"Año\")\n",
    "    .agg(sum(\"Valor\").as(\"ValorTotal\"))\n",
    "    .select($\"Año\",$\"TipoIntercambio\", $\"ValorTotal\")\n",
    "    .orderBy(\"Año\")\n",
    "    \n",
    "    val años = df.select(\"Año\").distinct().orderBy(\"Año\").as[String].collect.toSeq\n",
    "\n",
    "    \n",
    "    val seqImportacion = df\n",
    "        .filter($\"TipoIntercambio\" === \"Importación\")\n",
    "        .select(\"ValorTotal\")\n",
    "        .as[Double]\n",
    "        .collect\n",
    "        .toSeq\n",
    "    val seqExportacion = df\n",
    "        .filter($\"TipoIntercambio\" === \"Exportación\")\n",
    "        .select(\"ValorTotal\")\n",
    "        .as[Double]\n",
    "        .collect\n",
    "        .toSeq\n",
    "\n",
    "    val seqSaldo = df\n",
    "        .filter($\"TipoIntercambio\" === \"saldo\")\n",
    "        .select(\"ValorTotal\")\n",
    "        .as[Double]\n",
    "        .collect\n",
    "        .toSeq\n",
    "\n",
    "\n",
    "    val traceImportacion = Bar(\n",
    "        x = años,\n",
    "        y = seqImportacion,\n",
    "        name = \"Importación anual\",\n",
    "        marker = Marker(color = Color.RGBA(0, 102, 255, 0.6))\n",
    "    )\n",
    "\n",
    "    val traceExportacion = Bar(\n",
    "        x = años,\n",
    "        y = seqExportacion,\n",
    "        name = \"Exportación anual\",\n",
    "        marker = Marker(color = Color.RGBA(255, 102, 0, 0.6))\n",
    "    )\n",
    "\n",
    "    val traceSaldo = Scatter(\n",
    "            años, \n",
    "            seqSaldo, \n",
    "            name = \"Saldo\",\n",
    "            line = Line(dash = Dash.Dot, color = Color.RGBA(0, 0, 0, 0.8)) \n",
    "    )\n",
    "\n",
    "    val layout = Layout(\n",
    "        title = \"Saldo intercambio internacional anual\",\n",
    "        barmode = BarMode.Relative, // Ahora las barras se muestran correctamente en positivo y negativo\n",
    "        xaxis = Axis(title = \"Año\"),\n",
    "        yaxis = Axis(title = \"Energía (millones de MWh)\")\n",
    "    )\n",
    "    val data = Seq(traceImportacion, traceExportacion, traceSaldo)\n",
    "    plot(data, layout)\n",
    "}\n",
    "analisisAnual(dfIntercambios)"
   ]
  },
  {
   "cell_type": "code",
   "execution_count": 7,
   "metadata": {},
   "outputs": [
    {
     "name": "stderr",
     "output_type": "stream",
     "text": [
      "cmd7.sc:33: method apply in object Scatter is deprecated (since 0.8.0): Use Scatter() and chain-call .with* methods on it instead\n",
      "    val traceFrancia = Scatter(meses, saldoFrancia, name = \"Francia\")\n",
      "                       ^\n",
      "cmd7.sc:34: method apply in object Scatter is deprecated (since 0.8.0): Use Scatter() and chain-call .with* methods on it instead\n",
      "    val traceAndorra = Scatter(meses, saldoAndorra, name = \"Andorra\")\n",
      "                       ^\n",
      "cmd7.sc:35: method apply in object Scatter is deprecated (since 0.8.0): Use Scatter() and chain-call .with* methods on it instead\n",
      "    val tracePortugal = Scatter(meses, saldoPortugal, name = \"Portugal\")\n",
      "                        ^\n",
      "cmd7.sc:36: method apply in object Scatter is deprecated (since 0.8.0): Use Scatter() and chain-call .with* methods on it instead\n",
      "    val traceMarruecos = Scatter(meses, saldoMarruecos, name = \"Marruecos\")\n",
      "                         ^\n",
      "cmd7.sc:42: method apply in object Axis is deprecated (since 0.8.0): Use Axis() and chain-call .with* methods on it instead\n",
      "      xaxis = Axis(title = \"Mes\"),\n",
      "              ^\n",
      "cmd7.sc:43: method apply in object Axis is deprecated (since 0.8.0): Use Axis() and chain-call .with* methods on it instead\n",
      "      yaxis = Axis(title = \"Saldo de Intercambio Energético (MWh)\"),\n",
      "              ^\n",
      "cmd7.sc:40: method apply in object Layout is deprecated (since 0.8.0): Use Layout() and chain-call .with* methods on it instead\n",
      "    val layout = Layout(\n",
      "                 ^\n"
     ]
    },
    {
     "data": {
      "text/html": []
     },
     "metadata": {},
     "output_type": "display_data"
    },
    {
     "data": {
      "text/html": []
     },
     "metadata": {},
     "output_type": "display_data"
    },
    {
     "data": {
      "text/html": []
     },
     "metadata": {},
     "output_type": "display_data"
    },
    {
     "data": {
      "text/html": []
     },
     "metadata": {},
     "output_type": "display_data"
    },
    {
     "data": {
      "text/html": []
     },
     "metadata": {},
     "output_type": "display_data"
    },
    {
     "data": {
      "text/html": []
     },
     "metadata": {},
     "output_type": "display_data"
    },
    {
     "data": {
      "text/html": []
     },
     "metadata": {},
     "output_type": "display_data"
    },
    {
     "data": {
      "text/html": []
     },
     "metadata": {},
     "output_type": "display_data"
    },
    {
     "data": {
      "text/html": []
     },
     "metadata": {},
     "output_type": "display_data"
    },
    {
     "data": {
      "text/html": []
     },
     "metadata": {},
     "output_type": "display_data"
    },
    {
     "data": {
      "text/html": []
     },
     "metadata": {},
     "output_type": "display_data"
    },
    {
     "data": {
      "text/html": []
     },
     "metadata": {},
     "output_type": "display_data"
    },
    {
     "data": {
      "text/html": []
     },
     "metadata": {},
     "output_type": "display_data"
    },
    {
     "data": {
      "text/html": []
     },
     "metadata": {},
     "output_type": "display_data"
    },
    {
     "data": {
      "text/html": []
     },
     "metadata": {},
     "output_type": "display_data"
    },
    {
     "data": {
      "text/html": []
     },
     "metadata": {},
     "output_type": "display_data"
    },
    {
     "data": {
      "text/html": []
     },
     "metadata": {},
     "output_type": "display_data"
    },
    {
     "data": {
      "text/html": []
     },
     "metadata": {},
     "output_type": "display_data"
    },
    {
     "data": {
      "text/html": []
     },
     "metadata": {},
     "output_type": "display_data"
    },
    {
     "data": {
      "text/html": []
     },
     "metadata": {},
     "output_type": "display_data"
    },
    {
     "data": {
      "text/html": []
     },
     "metadata": {},
     "output_type": "display_data"
    },
    {
     "data": {
      "text/html": []
     },
     "metadata": {},
     "output_type": "display_data"
    },
    {
     "data": {
      "text/html": []
     },
     "metadata": {},
     "output_type": "display_data"
    },
    {
     "data": {
      "text/html": []
     },
     "metadata": {},
     "output_type": "display_data"
    },
    {
     "data": {
      "text/html": []
     },
     "metadata": {},
     "output_type": "display_data"
    },
    {
     "data": {
      "text/html": []
     },
     "metadata": {},
     "output_type": "display_data"
    },
    {
     "data": {
      "text/html": []
     },
     "metadata": {},
     "output_type": "display_data"
    },
    {
     "data": {
      "text/html": []
     },
     "metadata": {},
     "output_type": "display_data"
    },
    {
     "data": {
      "text/html": []
     },
     "metadata": {},
     "output_type": "display_data"
    },
    {
     "data": {
      "text/html": []
     },
     "metadata": {},
     "output_type": "display_data"
    },
    {
     "data": {
      "text/html": []
     },
     "metadata": {},
     "output_type": "display_data"
    },
    {
     "data": {
      "text/html": []
     },
     "metadata": {},
     "output_type": "display_data"
    },
    {
     "data": {
      "text/html": []
     },
     "metadata": {},
     "output_type": "display_data"
    },
    {
     "data": {
      "text/html": []
     },
     "metadata": {},
     "output_type": "display_data"
    },
    {
     "data": {
      "text/html": []
     },
     "metadata": {},
     "output_type": "display_data"
    },
    {
     "data": {
      "text/html": []
     },
     "metadata": {},
     "output_type": "display_data"
    },
    {
     "data": {
      "text/html": []
     },
     "metadata": {},
     "output_type": "display_data"
    },
    {
     "data": {
      "text/html": []
     },
     "metadata": {},
     "output_type": "display_data"
    },
    {
     "data": {
      "text/html": []
     },
     "metadata": {},
     "output_type": "display_data"
    },
    {
     "data": {
      "text/html": []
     },
     "metadata": {},
     "output_type": "display_data"
    },
    {
     "data": {
      "text/html": []
     },
     "metadata": {},
     "output_type": "display_data"
    },
    {
     "data": {
      "text/html": []
     },
     "metadata": {},
     "output_type": "display_data"
    },
    {
     "data": {
      "text/html": []
     },
     "metadata": {},
     "output_type": "display_data"
    },
    {
     "data": {
      "text/html": []
     },
     "metadata": {},
     "output_type": "display_data"
    },
    {
     "data": {
      "text/html": []
     },
     "metadata": {},
     "output_type": "display_data"
    },
    {
     "data": {
      "text/html": []
     },
     "metadata": {},
     "output_type": "display_data"
    },
    {
     "data": {
      "text/html": []
     },
     "metadata": {},
     "output_type": "display_data"
    },
    {
     "data": {
      "text/html": []
     },
     "metadata": {},
     "output_type": "display_data"
    },
    {
     "data": {
      "text/html": []
     },
     "metadata": {},
     "output_type": "display_data"
    },
    {
     "data": {
      "text/html": []
     },
     "metadata": {},
     "output_type": "display_data"
    },
    {
     "data": {
      "text/html": []
     },
     "metadata": {},
     "output_type": "display_data"
    },
    {
     "data": {
      "text/html": []
     },
     "metadata": {},
     "output_type": "display_data"
    },
    {
     "data": {
      "text/html": []
     },
     "metadata": {},
     "output_type": "display_data"
    },
    {
     "data": {
      "text/html": []
     },
     "metadata": {},
     "output_type": "display_data"
    },
    {
     "data": {
      "text/html": []
     },
     "metadata": {},
     "output_type": "display_data"
    },
    {
     "data": {
      "text/html": []
     },
     "metadata": {},
     "output_type": "display_data"
    },
    {
     "data": {
      "text/html": []
     },
     "metadata": {},
     "output_type": "display_data"
    },
    {
     "data": {
      "text/html": []
     },
     "metadata": {},
     "output_type": "display_data"
    },
    {
     "data": {
      "text/html": []
     },
     "metadata": {},
     "output_type": "display_data"
    },
    {
     "data": {
      "text/html": []
     },
     "metadata": {},
     "output_type": "display_data"
    },
    {
     "data": {
      "text/html": []
     },
     "metadata": {},
     "output_type": "display_data"
    },
    {
     "data": {
      "text/html": []
     },
     "metadata": {},
     "output_type": "display_data"
    },
    {
     "data": {
      "text/html": []
     },
     "metadata": {},
     "output_type": "display_data"
    },
    {
     "data": {
      "text/html": []
     },
     "metadata": {},
     "output_type": "display_data"
    },
    {
     "data": {
      "text/html": []
     },
     "metadata": {},
     "output_type": "display_data"
    },
    {
     "data": {
      "text/html": []
     },
     "metadata": {},
     "output_type": "display_data"
    },
    {
     "data": {
      "text/html": []
     },
     "metadata": {},
     "output_type": "display_data"
    },
    {
     "data": {
      "text/html": []
     },
     "metadata": {},
     "output_type": "display_data"
    },
    {
     "data": {
      "text/html": []
     },
     "metadata": {},
     "output_type": "display_data"
    },
    {
     "data": {
      "text/html": []
     },
     "metadata": {},
     "output_type": "display_data"
    },
    {
     "data": {
      "text/html": []
     },
     "metadata": {},
     "output_type": "display_data"
    },
    {
     "data": {
      "text/html": []
     },
     "metadata": {},
     "output_type": "display_data"
    },
    {
     "data": {
      "text/html": []
     },
     "metadata": {},
     "output_type": "display_data"
    },
    {
     "data": {
      "text/html": []
     },
     "metadata": {},
     "output_type": "display_data"
    },
    {
     "data": {
      "text/html": []
     },
     "metadata": {},
     "output_type": "display_data"
    },
    {
     "data": {
      "text/html": []
     },
     "metadata": {},
     "output_type": "display_data"
    },
    {
     "data": {
      "text/html": []
     },
     "metadata": {},
     "output_type": "display_data"
    },
    {
     "data": {
      "text/html": []
     },
     "metadata": {},
     "output_type": "display_data"
    },
    {
     "data": {
      "text/html": []
     },
     "metadata": {},
     "output_type": "display_data"
    },
    {
     "data": {
      "text/html": []
     },
     "metadata": {},
     "output_type": "display_data"
    },
    {
     "data": {
      "text/html": []
     },
     "metadata": {},
     "output_type": "display_data"
    },
    {
     "data": {
      "text/html": []
     },
     "metadata": {},
     "output_type": "display_data"
    },
    {
     "data": {
      "text/html": []
     },
     "metadata": {},
     "output_type": "display_data"
    },
    {
     "data": {
      "text/html": []
     },
     "metadata": {},
     "output_type": "display_data"
    },
    {
     "data": {
      "text/html": []
     },
     "metadata": {},
     "output_type": "display_data"
    },
    {
     "data": {
      "text/html": []
     },
     "metadata": {},
     "output_type": "display_data"
    },
    {
     "data": {
      "text/html": []
     },
     "metadata": {},
     "output_type": "display_data"
    },
    {
     "data": {
      "text/html": []
     },
     "metadata": {},
     "output_type": "display_data"
    },
    {
     "data": {
      "text/html": []
     },
     "metadata": {},
     "output_type": "display_data"
    },
    {
     "data": {
      "text/html": []
     },
     "metadata": {},
     "output_type": "display_data"
    },
    {
     "data": {
      "text/html": []
     },
     "metadata": {},
     "output_type": "display_data"
    },
    {
     "data": {
      "text/html": []
     },
     "metadata": {},
     "output_type": "display_data"
    },
    {
     "data": {
      "text/html": []
     },
     "metadata": {},
     "output_type": "display_data"
    },
    {
     "data": {
      "text/html": []
     },
     "metadata": {},
     "output_type": "display_data"
    },
    {
     "data": {
      "text/html": []
     },
     "metadata": {},
     "output_type": "display_data"
    },
    {
     "data": {
      "text/html": []
     },
     "metadata": {},
     "output_type": "display_data"
    },
    {
     "data": {
      "text/html": []
     },
     "metadata": {},
     "output_type": "display_data"
    },
    {
     "data": {
      "text/html": []
     },
     "metadata": {},
     "output_type": "display_data"
    },
    {
     "data": {
      "text/html": []
     },
     "metadata": {},
     "output_type": "display_data"
    },
    {
     "data": {
      "text/html": []
     },
     "metadata": {},
     "output_type": "display_data"
    },
    {
     "data": {
      "text/html": []
     },
     "metadata": {},
     "output_type": "display_data"
    },
    {
     "data": {
      "text/html": []
     },
     "metadata": {},
     "output_type": "display_data"
    },
    {
     "data": {
      "text/html": []
     },
     "metadata": {},
     "output_type": "display_data"
    },
    {
     "data": {
      "text/html": []
     },
     "metadata": {},
     "output_type": "display_data"
    },
    {
     "data": {
      "text/html": []
     },
     "metadata": {},
     "output_type": "display_data"
    },
    {
     "data": {
      "text/html": []
     },
     "metadata": {},
     "output_type": "display_data"
    },
    {
     "data": {
      "text/html": []
     },
     "metadata": {},
     "output_type": "display_data"
    },
    {
     "data": {
      "text/html": []
     },
     "metadata": {},
     "output_type": "display_data"
    },
    {
     "data": {
      "text/html": []
     },
     "metadata": {},
     "output_type": "display_data"
    },
    {
     "data": {
      "text/html": []
     },
     "metadata": {},
     "output_type": "display_data"
    },
    {
     "data": {
      "text/html": []
     },
     "metadata": {},
     "output_type": "display_data"
    },
    {
     "data": {
      "text/html": []
     },
     "metadata": {},
     "output_type": "display_data"
    },
    {
     "data": {
      "text/html": []
     },
     "metadata": {},
     "output_type": "display_data"
    },
    {
     "data": {
      "text/html": []
     },
     "metadata": {},
     "output_type": "display_data"
    },
    {
     "data": {
      "text/html": []
     },
     "metadata": {},
     "output_type": "display_data"
    },
    {
     "data": {
      "text/html": []
     },
     "metadata": {},
     "output_type": "display_data"
    },
    {
     "data": {
      "text/html": []
     },
     "metadata": {},
     "output_type": "display_data"
    },
    {
     "data": {
      "text/html": []
     },
     "metadata": {},
     "output_type": "display_data"
    },
    {
     "data": {
      "text/html": []
     },
     "metadata": {},
     "output_type": "display_data"
    },
    {
     "data": {
      "text/html": []
     },
     "metadata": {},
     "output_type": "display_data"
    },
    {
     "data": {
      "text/html": []
     },
     "metadata": {},
     "output_type": "display_data"
    },
    {
     "data": {
      "text/html": []
     },
     "metadata": {},
     "output_type": "display_data"
    },
    {
     "data": {
      "text/html": []
     },
     "metadata": {},
     "output_type": "display_data"
    },
    {
     "data": {
      "text/html": []
     },
     "metadata": {},
     "output_type": "display_data"
    },
    {
     "data": {
      "text/html": []
     },
     "metadata": {},
     "output_type": "display_data"
    },
    {
     "data": {
      "text/html": []
     },
     "metadata": {},
     "output_type": "display_data"
    },
    {
     "data": {
      "text/html": []
     },
     "metadata": {},
     "output_type": "display_data"
    },
    {
     "data": {
      "text/html": []
     },
     "metadata": {},
     "output_type": "display_data"
    },
    {
     "data": {
      "text/html": []
     },
     "metadata": {},
     "output_type": "display_data"
    },
    {
     "data": {
      "text/html": []
     },
     "metadata": {},
     "output_type": "display_data"
    },
    {
     "data": {
      "text/html": []
     },
     "metadata": {},
     "output_type": "display_data"
    },
    {
     "data": {
      "text/html": []
     },
     "metadata": {},
     "output_type": "display_data"
    },
    {
     "data": {
      "text/html": []
     },
     "metadata": {},
     "output_type": "display_data"
    },
    {
     "data": {
      "text/html": []
     },
     "metadata": {},
     "output_type": "display_data"
    },
    {
     "data": {
      "text/html": []
     },
     "metadata": {},
     "output_type": "display_data"
    },
    {
     "data": {
      "text/html": []
     },
     "metadata": {},
     "output_type": "display_data"
    },
    {
     "data": {
      "text/html": []
     },
     "metadata": {},
     "output_type": "display_data"
    },
    {
     "data": {
      "text/html": []
     },
     "metadata": {},
     "output_type": "display_data"
    },
    {
     "data": {
      "text/html": []
     },
     "metadata": {},
     "output_type": "display_data"
    },
    {
     "data": {
      "text/html": []
     },
     "metadata": {},
     "output_type": "display_data"
    },
    {
     "data": {
      "text/html": []
     },
     "metadata": {},
     "output_type": "display_data"
    },
    {
     "data": {
      "text/html": []
     },
     "metadata": {},
     "output_type": "display_data"
    },
    {
     "data": {
      "text/html": []
     },
     "metadata": {},
     "output_type": "display_data"
    },
    {
     "data": {
      "text/html": []
     },
     "metadata": {},
     "output_type": "display_data"
    },
    {
     "data": {
      "text/html": []
     },
     "metadata": {},
     "output_type": "display_data"
    },
    {
     "data": {
      "text/html": []
     },
     "metadata": {},
     "output_type": "display_data"
    },
    {
     "data": {
      "text/html": []
     },
     "metadata": {},
     "output_type": "display_data"
    },
    {
     "data": {
      "text/html": []
     },
     "metadata": {},
     "output_type": "display_data"
    },
    {
     "data": {
      "text/html": []
     },
     "metadata": {},
     "output_type": "display_data"
    },
    {
     "data": {
      "text/html": []
     },
     "metadata": {},
     "output_type": "display_data"
    },
    {
     "data": {
      "text/html": []
     },
     "metadata": {},
     "output_type": "display_data"
    },
    {
     "data": {
      "text/html": []
     },
     "metadata": {},
     "output_type": "display_data"
    },
    {
     "data": {
      "text/html": []
     },
     "metadata": {},
     "output_type": "display_data"
    },
    {
     "data": {
      "text/html": []
     },
     "metadata": {},
     "output_type": "display_data"
    },
    {
     "data": {
      "text/html": []
     },
     "metadata": {},
     "output_type": "display_data"
    },
    {
     "data": {
      "text/html": []
     },
     "metadata": {},
     "output_type": "display_data"
    },
    {
     "data": {
      "text/html": []
     },
     "metadata": {},
     "output_type": "display_data"
    },
    {
     "data": {
      "text/html": []
     },
     "metadata": {},
     "output_type": "display_data"
    },
    {
     "data": {
      "text/html": []
     },
     "metadata": {},
     "output_type": "display_data"
    },
    {
     "data": {
      "text/html": []
     },
     "metadata": {},
     "output_type": "display_data"
    },
    {
     "data": {
      "text/html": []
     },
     "metadata": {},
     "output_type": "display_data"
    },
    {
     "data": {
      "text/html": []
     },
     "metadata": {},
     "output_type": "display_data"
    },
    {
     "data": {
      "text/html": []
     },
     "metadata": {},
     "output_type": "display_data"
    },
    {
     "data": {
      "text/html": []
     },
     "metadata": {},
     "output_type": "display_data"
    },
    {
     "data": {
      "text/html": []
     },
     "metadata": {},
     "output_type": "display_data"
    },
    {
     "data": {
      "text/html": []
     },
     "metadata": {},
     "output_type": "display_data"
    },
    {
     "data": {
      "text/html": []
     },
     "metadata": {},
     "output_type": "display_data"
    },
    {
     "data": {
      "text/html": []
     },
     "metadata": {},
     "output_type": "display_data"
    },
    {
     "data": {
      "text/html": []
     },
     "metadata": {},
     "output_type": "display_data"
    },
    {
     "data": {
      "text/html": []
     },
     "metadata": {},
     "output_type": "display_data"
    },
    {
     "data": {
      "text/html": []
     },
     "metadata": {},
     "output_type": "display_data"
    },
    {
     "data": {
      "text/html": []
     },
     "metadata": {},
     "output_type": "display_data"
    },
    {
     "data": {
      "text/html": []
     },
     "metadata": {},
     "output_type": "display_data"
    },
    {
     "data": {
      "text/html": []
     },
     "metadata": {},
     "output_type": "display_data"
    },
    {
     "data": {
      "text/html": []
     },
     "metadata": {},
     "output_type": "display_data"
    },
    {
     "data": {
      "text/html": []
     },
     "metadata": {},
     "output_type": "display_data"
    },
    {
     "data": {
      "text/html": []
     },
     "metadata": {},
     "output_type": "display_data"
    },
    {
     "data": {
      "text/html": []
     },
     "metadata": {},
     "output_type": "display_data"
    },
    {
     "data": {
      "text/html": []
     },
     "metadata": {},
     "output_type": "display_data"
    },
    {
     "data": {
      "text/html": []
     },
     "metadata": {},
     "output_type": "display_data"
    },
    {
     "data": {
      "text/html": []
     },
     "metadata": {},
     "output_type": "display_data"
    },
    {
     "data": {
      "text/html": []
     },
     "metadata": {},
     "output_type": "display_data"
    },
    {
     "data": {
      "text/html": []
     },
     "metadata": {},
     "output_type": "display_data"
    },
    {
     "data": {
      "text/html": []
     },
     "metadata": {},
     "output_type": "display_data"
    },
    {
     "data": {
      "text/html": []
     },
     "metadata": {},
     "output_type": "display_data"
    },
    {
     "data": {
      "text/html": []
     },
     "metadata": {},
     "output_type": "display_data"
    },
    {
     "data": {
      "text/html": []
     },
     "metadata": {},
     "output_type": "display_data"
    },
    {
     "data": {
      "text/html": []
     },
     "metadata": {},
     "output_type": "display_data"
    },
    {
     "data": {
      "text/html": []
     },
     "metadata": {},
     "output_type": "display_data"
    },
    {
     "data": {
      "text/html": []
     },
     "metadata": {},
     "output_type": "display_data"
    },
    {
     "data": {
      "text/html": []
     },
     "metadata": {},
     "output_type": "display_data"
    },
    {
     "data": {
      "text/html": []
     },
     "metadata": {},
     "output_type": "display_data"
    },
    {
     "data": {
      "application/vnd.plotly.v1+json": {
       "config": {},
       "data": [
        {
         "name": "Portugal",
         "type": "scatter",
         "x": [
          "Enero",
          "Febrero",
          "Marzo",
          "Abril",
          "Mayo",
          "Junio",
          "Julio",
          "Agosto",
          "Septiembre",
          "Octubre",
          "Noviembre",
          "Diciembre"
         ],
         "y": [
          0,
          0,
          0,
          0,
          0,
          0,
          0,
          0,
          0,
          0,
          0,
          0
         ]
        },
        {
         "name": "Francia",
         "type": "scatter",
         "x": [
          "Enero",
          "Febrero",
          "Marzo",
          "Abril",
          "Mayo",
          "Junio",
          "Julio",
          "Agosto",
          "Septiembre",
          "Octubre",
          "Noviembre",
          "Diciembre"
         ],
         "y": [
          0,
          0,
          0,
          0,
          0,
          0,
          0,
          0,
          0,
          0,
          0,
          0
         ]
        },
        {
         "name": "Andorra",
         "type": "scatter",
         "x": [
          "Enero",
          "Febrero",
          "Marzo",
          "Abril",
          "Mayo",
          "Junio",
          "Julio",
          "Agosto",
          "Septiembre",
          "Octubre",
          "Noviembre",
          "Diciembre"
         ],
         "y": [
          0,
          0,
          0,
          0,
          0,
          0,
          0,
          0,
          0,
          0,
          0,
          0
         ]
        },
        {
         "name": "Marruecos",
         "type": "scatter",
         "x": [
          "Enero",
          "Febrero",
          "Marzo",
          "Abril",
          "Mayo",
          "Junio",
          "Julio",
          "Agosto",
          "Septiembre",
          "Octubre",
          "Noviembre",
          "Diciembre"
         ],
         "y": [
          0,
          0,
          0,
          0,
          0,
          0,
          0,
          0,
          0,
          0,
          0,
          0
         ]
        }
       ],
       "layout": {
        "showlegend": true,
        "title": {
         "text": "Saldo mensual de intercambio energético por país"
        },
        "xaxis": {
         "autorange": true,
         "range": [
          -0.6522578328395727,
          11.652257832839572
         ],
         "title": {
          "text": "Mes"
         },
         "type": "category"
        },
        "yaxis": {
         "autorange": true,
         "range": [
          -1,
          1
         ],
         "title": {
          "text": "Saldo de Intercambio Energético (MWh)"
         },
         "type": "linear"
        }
       }
      },
      "image/png": "[encoded data removed]",
      "text/html": [
       "<div class=\"chart\" id=\"plot-46a7a8c2-4af7-4e67-a79c-ac4c0dc8ecbb\"></div>\n",
       "<script>require(['plotly'], function(Plotly) {\n",
       "  (function () {\n",
       "  var data0 = {\"x\":[\"Enero\",\"Febrero\",\"Marzo\",\"Abril\",\"Mayo\",\"Junio\",\"Julio\",\"Agosto\",\"Septiembre\",\"Octubre\",\"Noviembre\",\"Diciembre\"],\"name\":\"Portugal\",\"y\":[0.0,0.0,0.0,0.0,0.0,0.0,0.0,0.0,0.0,0.0,0.0,0.0],\"type\":\"scatter\"};\n",
       "  var data1 = {\"x\":[\"Enero\",\"Febrero\",\"Marzo\",\"Abril\",\"Mayo\",\"Junio\",\"Julio\",\"Agosto\",\"Septiembre\",\"Octubre\",\"Noviembre\",\"Diciembre\"],\"name\":\"Francia\",\"y\":[0.0,0.0,0.0,0.0,0.0,0.0,0.0,0.0,0.0,0.0,0.0,0.0],\"type\":\"scatter\"};\n",
       "  var data2 = {\"x\":[\"Enero\",\"Febrero\",\"Marzo\",\"Abril\",\"Mayo\",\"Junio\",\"Julio\",\"Agosto\",\"Septiembre\",\"Octubre\",\"Noviembre\",\"Diciembre\"],\"name\":\"Andorra\",\"y\":[0.0,0.0,0.0,0.0,0.0,0.0,0.0,0.0,0.0,0.0,0.0,0.0],\"type\":\"scatter\"};\n",
       "  var data3 = {\"x\":[\"Enero\",\"Febrero\",\"Marzo\",\"Abril\",\"Mayo\",\"Junio\",\"Julio\",\"Agosto\",\"Septiembre\",\"Octubre\",\"Noviembre\",\"Diciembre\"],\"name\":\"Marruecos\",\"y\":[0.0,0.0,0.0,0.0,0.0,0.0,0.0,0.0,0.0,0.0,0.0,0.0],\"type\":\"scatter\"};\n",
       "\n",
       "  var data = [data0, data1, data2, data3];\n",
       "  var layout = {\"title\":\"Saldo mensual de intercambio energético por país\",\"yaxis\":{\"title\":\"Saldo de Intercambio Energético (MWh)\"},\"xaxis\":{\"title\":\"Mes\"},\"showlegend\":true};\n",
       " var config = {};\n",
       "\n",
       "  Plotly.plot('plot-46a7a8c2-4af7-4e67-a79c-ac4c0dc8ecbb', data, layout, config);\n",
       "})();\n",
       "});\n",
       "      </script>\n",
       "           "
      ]
     },
     "metadata": {},
     "output_type": "display_data"
    },
    {
     "data": {
      "text/plain": [
       "defined \u001b[32mfunction\u001b[39m \u001b[36mevolucionSaldoPorPais\u001b[39m"
      ]
     },
     "execution_count": 7,
     "metadata": {},
     "output_type": "execute_result"
    }
   ],
   "source": [
    "def evolucionSaldoPorPais(): Unit = {\n",
    "\n",
    "    val dfFiltrado = dfIntercambios\n",
    "        .filter($\"TipoIntercambio\" === \"saldo\")\n",
    "        .withColumn(\"Año\", date_format(col(\"Fecha\"), \"yyyy\"))\n",
    "        .filter($\"Año\" === \"2024\")\n",
    "        .withColumn(\"Mes\", date_format(col(\"Fecha\"), \"MMMM\")) // Convertir a nombre del mes\n",
    "        .groupBy($\"Pais\", $\"Mes\")\n",
    "        .agg(sum(\"Valor\").as(\"Valor saldo\"))\n",
    "        .withColumn(\"Saldo\", round($\"Valor saldo\", 2))\n",
    "        .select($\"Pais\", $\"Mes\", $\"Saldo\")\n",
    "        .orderBy(\"Mes\")\n",
    "\n",
    "    // Lista de meses en orden correcto\n",
    "    val meses = Seq(\"Enero\", \"Febrero\", \"Marzo\", \"Abril\", \"Mayo\", \"Junio\", \"Julio\", \"Agosto\", \"Septiembre\", \"Octubre\", \"Noviembre\", \"Diciembre\")\n",
    "\n",
    "    // Función para obtener los valores de saldo asegurando 12 valores\n",
    "    def getSaldoPorPais(pais: String): Seq[Double] = {\n",
    "        meses.map(mes =>\n",
    "            dfFiltrado.filter($\"Pais\" === pais && $\"Mes\" === mes)\n",
    "              .select(\"Saldo\").as[Double]\n",
    "              .collect().headOption.getOrElse(0.0) // Si no hay datos, usa 0.0\n",
    "        )\n",
    "    }\n",
    "\n",
    "    // Obtener saldos para cada país con la función corregida\n",
    "    val saldoFrancia = getSaldoPorPais(\"francia\")\n",
    "    val saldoAndorra = getSaldoPorPais(\"andorra\")\n",
    "    val saldoPortugal = getSaldoPorPais(\"portugal\")\n",
    "    val saldoMarruecos = getSaldoPorPais(\"marruecos\")\n",
    "\n",
    "    // Crear las trazas para cada país\n",
    "    val traceFrancia = Scatter(meses, saldoFrancia, name = \"Francia\")\n",
    "    val traceAndorra = Scatter(meses, saldoAndorra, name = \"Andorra\")\n",
    "    val tracePortugal = Scatter(meses, saldoPortugal, name = \"Portugal\")\n",
    "    val traceMarruecos = Scatter(meses, saldoMarruecos, name = \"Marruecos\")\n",
    "\n",
    "    // Configuración del diseño del gráfico\n",
    "    val data = Seq(tracePortugal, traceFrancia, traceAndorra, traceMarruecos) \n",
    "    val layout = Layout(\n",
    "      title = \"Saldo mensual de intercambio energético por país\",\n",
    "      xaxis = Axis(title = \"Mes\"),\n",
    "      yaxis = Axis(title = \"Saldo de Intercambio Energético (MWh)\"),\n",
    "      showlegend = true\n",
    "    )\n",
    "\n",
    "    plot(data, layout)\n",
    "}\n",
    "\n",
    "// Llamar a la función corregida\n",
    "evolucionSaldoPorPais()\n"
   ]
  },
  {
   "cell_type": "code",
   "execution_count": 11,
   "metadata": {},
   "outputs": [
    {
     "name": "stderr",
     "output_type": "stream",
     "text": [
      "cmd11.sc:6: method !== in class Column is deprecated (since 2.0.0): !== does not have the same precedence as ===, use =!= instead\n",
      "    .filter($\"Año\" !== \"2025\")\n",
      "                   ^\n",
      "cmd11.sc:23: method apply in object Scatter is deprecated (since 0.8.0): Use Scatter() and chain-call .with* methods on it instead\n",
      "    val traceFrancia = Scatter(años, saldoFrancia, name = \"Francia\")\n",
      "                       ^\n",
      "cmd11.sc:24: method apply in object Scatter is deprecated (since 0.8.0): Use Scatter() and chain-call .with* methods on it instead\n",
      "    val traceAndorra = Scatter(años, saldoAndorra, name = \"Andorra\")\n",
      "                       ^\n",
      "cmd11.sc:25: method apply in object Scatter is deprecated (since 0.8.0): Use Scatter() and chain-call .with* methods on it instead\n",
      "    val tracePortugal = Scatter(años, saldoPortugal, name = \"Portugal\")\n",
      "                        ^\n",
      "cmd11.sc:26: method apply in object Scatter is deprecated (since 0.8.0): Use Scatter() and chain-call .with* methods on it instead\n",
      "    val traceMarruecos = Scatter(años, saldoMarruecos, name = \"Marruecos\")\n",
      "                         ^\n",
      "cmd11.sc:33: method apply in object Axis is deprecated (since 0.8.0): Use Axis() and chain-call .with* methods on it instead\n",
      "      xaxis = Axis(title = \"Año\"),\n",
      "              ^\n",
      "cmd11.sc:34: method apply in object Axis is deprecated (since 0.8.0): Use Axis() and chain-call .with* methods on it instead\n",
      "      yaxis = Axis(title = \"Saldo de Intercambio Energético (MWh)\"),\n",
      "              ^\n",
      "cmd11.sc:31: method apply in object Layout is deprecated (since 0.8.0): Use Layout() and chain-call .with* methods on it instead\n",
      "    val layout = Layout(\n",
      "                 ^\n"
     ]
    },
    {
     "data": {
      "text/html": []
     },
     "metadata": {},
     "output_type": "display_data"
    },
    {
     "data": {
      "text/html": []
     },
     "metadata": {},
     "output_type": "display_data"
    },
    {
     "data": {
      "text/html": []
     },
     "metadata": {},
     "output_type": "display_data"
    },
    {
     "data": {
      "text/html": []
     },
     "metadata": {},
     "output_type": "display_data"
    },
    {
     "data": {
      "text/html": []
     },
     "metadata": {},
     "output_type": "display_data"
    },
    {
     "data": {
      "text/html": []
     },
     "metadata": {},
     "output_type": "display_data"
    },
    {
     "data": {
      "text/html": []
     },
     "metadata": {},
     "output_type": "display_data"
    },
    {
     "data": {
      "text/html": []
     },
     "metadata": {},
     "output_type": "display_data"
    },
    {
     "data": {
      "text/html": []
     },
     "metadata": {},
     "output_type": "display_data"
    },
    {
     "data": {
      "text/html": []
     },
     "metadata": {},
     "output_type": "display_data"
    },
    {
     "data": {
      "text/html": []
     },
     "metadata": {},
     "output_type": "display_data"
    },
    {
     "data": {
      "text/html": []
     },
     "metadata": {},
     "output_type": "display_data"
    },
    {
     "data": {
      "text/html": []
     },
     "metadata": {},
     "output_type": "display_data"
    },
    {
     "data": {
      "text/html": []
     },
     "metadata": {},
     "output_type": "display_data"
    },
    {
     "data": {
      "text/html": []
     },
     "metadata": {},
     "output_type": "display_data"
    },
    {
     "data": {
      "text/html": []
     },
     "metadata": {},
     "output_type": "display_data"
    },
    {
     "data": {
      "text/html": []
     },
     "metadata": {},
     "output_type": "display_data"
    },
    {
     "data": {
      "text/html": []
     },
     "metadata": {},
     "output_type": "display_data"
    },
    {
     "data": {
      "text/html": []
     },
     "metadata": {},
     "output_type": "display_data"
    },
    {
     "data": {
      "text/html": []
     },
     "metadata": {},
     "output_type": "display_data"
    },
    {
     "data": {
      "application/vnd.plotly.v1+json": {
       "config": {},
       "data": [
        {
         "name": "Portugal",
         "type": "scatter",
         "x": [
          "2014",
          "2015",
          "2016",
          "2017",
          "2018",
          "2019",
          "2020",
          "2021",
          "2022",
          "2023",
          "2024"
         ],
         "y": [
          -900568.8,
          -2266792.3,
          5083910.5,
          2684654.7,
          2653579.4,
          -3394771.8,
          -1454948.6,
          -4548222.6,
          -9022613.64,
          -9967478.93,
          -10199616.9
         ]
        },
        {
         "name": "Francia",
         "type": "scatter",
         "x": [
          "2014",
          "2015",
          "2016",
          "2017",
          "2018",
          "2019",
          "2020",
          "2021",
          "2022",
          "2023",
          "2024"
         ],
         "y": [
          3564078.7,
          7320453.1,
          7806175.9,
          12464466.4,
          12041762,
          9704669.1,
          5247867,
          6053677.8,
          -9094796.06,
          -1876702.15,
          2795989.89
         ]
        },
        {
         "name": "Andorra",
         "type": "scatter",
         "x": [
          "2014",
          "2015",
          "2016",
          "2017",
          "2018",
          "2019",
          "2020",
          "2021",
          "2022",
          "2023",
          "2024"
         ],
         "y": [
          -240833.1,
          -271787,
          -286418.5,
          -239630.7,
          -216746.5,
          -214775.2,
          -201347.1,
          -233564.8,
          -297778.8,
          -250662.8,
          -245228.07
         ]
        },
        {
         "name": "Marruecos",
         "type": "scatter",
         "x": [
          "2014",
          "2015",
          "2016",
          "2017",
          "2018",
          "2019",
          "2020",
          "2021",
          "2022",
          "2023",
          "2024"
         ],
         "y": [
          -5925467.6,
          -5013155.4,
          -5028568.5,
          -5830014.5,
          -3449931.2,
          769463.5,
          -305429,
          176892.9,
          -1466324.97,
          -1890266.2,
          -2583334.9
         ]
        }
       ],
       "layout": {
        "autosize": true,
        "showlegend": true,
        "title": {
         "text": "Saldo Anual del Intercambio Energético por País"
        },
        "xaxis": {
         "autorange": true,
         "range": [
          2013.4043841938276,
          2024.5956158061724
         ],
         "title": {
          "text": "Año"
         },
         "type": "linear"
        },
        "yaxis": {
         "autorange": true,
         "range": [
          -12069953.871359223,
          14334803.371359223
         ],
         "title": {
          "text": "Saldo de Intercambio Energético (MWh)"
         },
         "type": "linear"
        }
       }
      },
      "image/png": "[encoded data removed]",
      "text/html": [
       "<div class=\"chart\" id=\"plot-27323d92-cb5a-401b-a2d9-d3132e8d5dd4\"></div>\n",
       "<script>require(['plotly'], function(Plotly) {\n",
       "  (function () {\n",
       "  var data0 = {\"x\":[\"2014\",\"2015\",\"2016\",\"2017\",\"2018\",\"2019\",\"2020\",\"2021\",\"2022\",\"2023\",\"2024\"],\"name\":\"Portugal\",\"y\":[-900568.8,-2266792.3,5083910.5,2684654.7,2653579.4,-3394771.8,-1454948.6,-4548222.6,-9022613.64,-9967478.93,-1.01996169E7],\"type\":\"scatter\"};\n",
       "  var data1 = {\"x\":[\"2014\",\"2015\",\"2016\",\"2017\",\"2018\",\"2019\",\"2020\",\"2021\",\"2022\",\"2023\",\"2024\"],\"name\":\"Francia\",\"y\":[3564078.7,7320453.1,7806175.9,1.24644664E7,1.2041762E7,9704669.1,5247867.0,6053677.8,-9094796.06,-1876702.15,2795989.89],\"type\":\"scatter\"};\n",
       "  var data2 = {\"x\":[\"2014\",\"2015\",\"2016\",\"2017\",\"2018\",\"2019\",\"2020\",\"2021\",\"2022\",\"2023\",\"2024\"],\"name\":\"Andorra\",\"y\":[-240833.1,-271787.0,-286418.5,-239630.7,-216746.5,-214775.2,-201347.1,-233564.8,-297778.8,-250662.8,-245228.07],\"type\":\"scatter\"};\n",
       "  var data3 = {\"x\":[\"2014\",\"2015\",\"2016\",\"2017\",\"2018\",\"2019\",\"2020\",\"2021\",\"2022\",\"2023\",\"2024\"],\"name\":\"Marruecos\",\"y\":[-5925467.6,-5013155.4,-5028568.5,-5830014.5,-3449931.2,769463.5,-305429.0,176892.9,-1466324.97,-1890266.2,-2583334.9],\"type\":\"scatter\"};\n",
       "\n",
       "  var data = [data0, data1, data2, data3];\n",
       "  var layout = {\"title\":\"Saldo Anual del Intercambio Energético por País\",\"yaxis\":{\"title\":\"Saldo de Intercambio Energético (MWh)\"},\"xaxis\":{\"title\":\"Año\"},\"showlegend\":true};\n",
       " var config = {};\n",
       "\n",
       "  Plotly.plot('plot-27323d92-cb5a-401b-a2d9-d3132e8d5dd4', data, layout, config);\n",
       "})();\n",
       "});\n",
       "      </script>\n",
       "           "
      ]
     },
     "metadata": {},
     "output_type": "display_data"
    },
    {
     "data": {
      "text/plain": [
       "defined \u001b[32mfunction\u001b[39m \u001b[36mevolucionSaldoPorPais\u001b[39m\r\n",
       "\u001b[36mres11_1\u001b[39m: \u001b[32mString\u001b[39m = \u001b[32m\"plot-27323d92-cb5a-401b-a2d9-d3132e8d5dd4\"\u001b[39m"
      ]
     },
     "execution_count": 11,
     "metadata": {},
     "output_type": "execute_result"
    }
   ],
   "source": [
    "def evolucionSaldoPorPais = {\n",
    "\n",
    "    val dfFiltrado = dfIntercambios\n",
    "    .filter($\"TipoIntercambio\" === \"saldo\")\n",
    "    .withColumn(\"Año\",date_format(col(\"Fecha\"), \"yyyy\"))\n",
    "    .filter($\"Año\" !== \"2025\")\n",
    "    .groupBy($\"Pais\", $\"Año\")\n",
    "    .agg(sum(\"Valor\").as(\"Valor saldo\"))\n",
    "    .withColumn(\"Saldo\", round($\"Valor saldo\",2))\n",
    "    .select($\"Pais\", $\"Año\", $\"Saldo\")\n",
    "    .orderBy(\"Año\")\n",
    "    \n",
    "    // Extraer los datos del DataFrame\n",
    "    val años = dfFiltrado.select(\"Año\").distinct().orderBy(\"Año\").as[String].collect.toSeq\n",
    "\n",
    "    // Filtrar y extraer valores por país\n",
    "    val saldoFrancia = dfFiltrado.filter($\"Pais\" === \"francia\").select(\"Saldo\").as[Double].collect.toSeq\n",
    "    val saldoAndorra = dfFiltrado.filter($\"Pais\" === \"andorra\").select(\"Saldo\").as[Double].collect.toSeq\n",
    "    val saldoPortugal = dfFiltrado.filter($\"Pais\" === \"portugal\").select(\"Saldo\").as[Double].collect.toSeq\n",
    "    val saldoMarruecos = dfFiltrado.filter($\"Pais\" === \"marruecos\").select(\"Saldo\").as[Double].collect.toSeq\n",
    "\n",
    "    // Crear las trazas para cada país\n",
    "    val traceFrancia = Scatter(años, saldoFrancia, name = \"Francia\")\n",
    "    val traceAndorra = Scatter(años, saldoAndorra, name = \"Andorra\")\n",
    "    val tracePortugal = Scatter(años, saldoPortugal, name = \"Portugal\")\n",
    "    val traceMarruecos = Scatter(años, saldoMarruecos, name = \"Marruecos\")\n",
    "\n",
    "    // Configuración del diseño del gráfico\n",
    "    \n",
    "    val data = Seq(tracePortugal, traceFrancia, traceAndorra, traceMarruecos) \n",
    "    val layout = Layout(\n",
    "      title = \"Saldo Anual del Intercambio Energético por País\",\n",
    "      xaxis = Axis(title = \"Año\"),\n",
    "      yaxis = Axis(title = \"Saldo de Intercambio Energético (MWh)\"),\n",
    "      showlegend = true\n",
    "    )\n",
    "\n",
    "    // Renderizar el gráfico\n",
    "    plot(data, layout)\n",
    "\n",
    "}\n",
    "evolucionSaldoPorPais"
   ]
  },
  {
   "cell_type": "code",
   "execution_count": 10,
   "metadata": {},
   "outputs": [
    {
     "name": "stderr",
     "output_type": "stream",
     "text": [
      "cmd10.sc:17: method apply in object Bar is deprecated (since 0.8.0): Use Bar() and chain-call .with* methods on it instead\n",
      "    val barraImportacion = Bar(x = años, y = importaciones, name = s\"Importación $pais\")\n",
      "                           ^\n",
      "cmd10.sc:18: method apply in object Bar is deprecated (since 0.8.0): Use Bar() and chain-call .with* methods on it instead\n",
      "    val barraExportacion = Bar(x = años, y = exportacionesEnPositivo, name = s\"Exportación $pais\")\n",
      "                           ^\n",
      "cmd10.sc:24: method apply in object Axis is deprecated (since 0.8.0): Use Axis() and chain-call .with* methods on it instead\n",
      "      xaxis = Axis(title = \"Año\"),\n",
      "              ^\n",
      "cmd10.sc:25: method apply in object Axis is deprecated (since 0.8.0): Use Axis() and chain-call .with* methods on it instead\n",
      "      yaxis = Axis(title = \"Total Energía (MWh)\"),\n",
      "              ^\n",
      "cmd10.sc:22: method apply in object Layout is deprecated (since 0.8.0): Use Layout() and chain-call .with* methods on it instead\n",
      "    val layout = Layout(\n",
      "                 ^\n"
     ]
    },
    {
     "data": {
      "text/html": []
     },
     "metadata": {},
     "output_type": "display_data"
    },
    {
     "data": {
      "text/html": []
     },
     "metadata": {},
     "output_type": "display_data"
    },
    {
     "data": {
      "text/html": []
     },
     "metadata": {},
     "output_type": "display_data"
    },
    {
     "data": {
      "text/html": []
     },
     "metadata": {},
     "output_type": "display_data"
    },
    {
     "data": {
      "text/html": []
     },
     "metadata": {},
     "output_type": "display_data"
    },
    {
     "data": {
      "text/html": []
     },
     "metadata": {},
     "output_type": "display_data"
    },
    {
     "data": {
      "text/html": []
     },
     "metadata": {},
     "output_type": "display_data"
    },
    {
     "data": {
      "text/html": []
     },
     "metadata": {},
     "output_type": "display_data"
    },
    {
     "data": {
      "text/html": []
     },
     "metadata": {},
     "output_type": "display_data"
    },
    {
     "data": {
      "text/html": []
     },
     "metadata": {},
     "output_type": "display_data"
    },
    {
     "data": {
      "text/html": []
     },
     "metadata": {},
     "output_type": "display_data"
    },
    {
     "data": {
      "text/html": []
     },
     "metadata": {},
     "output_type": "display_data"
    },
    {
     "data": {
      "text/html": []
     },
     "metadata": {},
     "output_type": "display_data"
    },
    {
     "data": {
      "text/html": []
     },
     "metadata": {},
     "output_type": "display_data"
    },
    {
     "data": {
      "text/html": []
     },
     "metadata": {},
     "output_type": "display_data"
    },
    {
     "data": {
      "application/vnd.plotly.v1+json": {
       "config": {},
       "data": [
        {
         "name": "Importación portugal",
         "type": "bar",
         "x": [
          "2014",
          "2015",
          "2016",
          "2017",
          "2018",
          "2019",
          "2020",
          "2021",
          "2022",
          "2023",
          "2024",
          "2025"
         ],
         "y": [
          3183525.800000001,
          2282460.800000001,
          7056006.100000001,
          5755522.399999998,
          5869294.5,
          5822897.299999997,
          7284571.600000007,
          6381074.2,
          5039122.8999999985,
          5473787.075,
          6185537.850000005,
          286663.89999999997
         ]
        },
        {
         "name": "Exportación portugal",
         "type": "bar",
         "x": [
          "2014",
          "2015",
          "2016",
          "2017",
          "2018",
          "2019",
          "2020",
          "2021",
          "2022",
          "2023",
          "2024",
          "2025"
         ],
         "y": [
          4084094.5999999973,
          4549253.099999998,
          1972095.600000001,
          3070867.6999999997,
          3215715.099999999,
          9217669.099999994,
          8739520.199999994,
          10929296.79999999,
          14061736.542000003,
          15441266.000000006,
          16385154.75000001,
          928464.7999999999
         ]
        }
       ],
       "layout": {
        "autosize": true,
        "barmode": "group",
        "title": {
         "text": "Importación y Exportación de Energía deportugalpor Año"
        },
        "xaxis": {
         "autorange": true,
         "range": [
          2013.5,
          2025.5
         ],
         "title": {
          "text": "Año"
         },
         "type": "linear"
        },
        "yaxis": {
         "autorange": true,
         "range": [
          0,
          17247531.315789483
         ],
         "title": {
          "text": "Total Energía (MWh)"
         },
         "type": "linear"
        }
       }
      },
      "image/png": "[encoded data removed]",
      "text/html": [
       "<div class=\"chart\" id=\"plot-edca9b8f-3ff7-4f63-8101-23403497c680\"></div>\n",
       "<script>require(['plotly'], function(Plotly) {\n",
       "  (function () {\n",
       "  var data0 = {\"x\":[\"2014\",\"2015\",\"2016\",\"2017\",\"2018\",\"2019\",\"2020\",\"2021\",\"2022\",\"2023\",\"2024\",\"2025\"],\"name\":\"Importación portugal\",\"y\":[3183525.800000001,2282460.800000001,7056006.100000001,5755522.399999998,5869294.5,5822897.299999997,7284571.600000007,6381074.2,5039122.8999999985,5473787.075,6185537.850000005,286663.89999999997],\"type\":\"bar\"};\n",
       "  var data1 = {\"x\":[\"2014\",\"2015\",\"2016\",\"2017\",\"2018\",\"2019\",\"2020\",\"2021\",\"2022\",\"2023\",\"2024\",\"2025\"],\"name\":\"Exportación portugal\",\"y\":[4084094.5999999973,4549253.099999998,1972095.600000001,3070867.6999999997,3215715.099999999,9217669.099999994,8739520.199999994,1.092929679999999E7,1.4061736542000003E7,1.5441266000000006E7,1.638515475000001E7,928464.7999999999],\"type\":\"bar\"};\n",
       "\n",
       "  var data = [data0, data1];\n",
       "  var layout = {\"barmode\":\"group\",\"title\":\"Importación y Exportación de Energía deportugalpor Año\",\"yaxis\":{\"title\":\"Total Energía (MWh)\"},\"xaxis\":{\"title\":\"Año\"}};\n",
       " var config = {};\n",
       "\n",
       "  Plotly.plot('plot-edca9b8f-3ff7-4f63-8101-23403497c680', data, layout, config);\n",
       "})();\n",
       "});\n",
       "      </script>\n",
       "           "
      ]
     },
     "metadata": {},
     "output_type": "display_data"
    },
    {
     "data": {
      "text/plain": [
       "defined \u001b[32mfunction\u001b[39m \u001b[36mimportaciónVSexportacion\u001b[39m"
      ]
     },
     "execution_count": 10,
     "metadata": {},
     "output_type": "execute_result"
    }
   ],
   "source": [
    "def importaciónVSexportacion(pais: String, df: DataFrame): Unit = {\n",
    "\n",
    "    // Agrupar los datos por año y tipo de intercambio (Importación/Exportación)\n",
    "    val dfAgrupado = df\n",
    "      .filter($\"Pais\" === pais)\n",
    "      .groupBy(date_format(col(\"Fecha\"), \"yyyy\").as(\"Año\"), $\"TipoIntercambio\")\n",
    "      .agg(sum(\"Valor\").as(\"TotalValor\"))\n",
    "      .orderBy(\"Año\", \"TipoIntercambio\")\n",
    "\n",
    "    val años = dfAgrupado.select(\"Año\").distinct().orderBy(\"Año\").as[String].collect.toSeq\n",
    "    val importaciones = dfAgrupado.filter(col(\"TipoIntercambio\") === \"Importación\").select(\"TotalValor\").as[Double].collect.toSeq\n",
    "    val exportaciones = dfAgrupado.filter(col(\"TipoIntercambio\") === \"Exportación\").select(\"TotalValor\").as[Double].collect.toSeq\n",
    "\n",
    "    val exportacionesEnPositivo = exportaciones.map(valor => valor * -1)\n",
    "\n",
    "    // Crear las barras para importación y exportación con valores absolutos\n",
    "    val barraImportacion = Bar(x = años, y = importaciones, name = s\"Importación $pais\")\n",
    "    val barraExportacion = Bar(x = años, y = exportacionesEnPositivo, name = s\"Exportación $pais\")\n",
    "\n",
    "    // Definir los datos y el layout del gráfico\n",
    "    val data = Seq(barraImportacion, barraExportacion)\n",
    "    val layout = Layout(\n",
    "      title = \"Importación y Exportación de Energía de\" +  pais + \"por Año\",\n",
    "      xaxis = Axis(title = \"Año\"),\n",
    "      yaxis = Axis(title = \"Total Energía (MWh)\"),\n",
    "      barmode = BarMode.Group // Agrupar barras para compararlas lado a lado\n",
    "    )\n",
    "\n",
    "    // Generar el gráfico\n",
    "    plot(data, layout)\n",
    "}\n",
    "\n",
    "importaciónVSexportacion(\"portugal\", dfIntercambios )"
   ]
  },
  {
   "cell_type": "code",
   "execution_count": null,
   "metadata": {},
   "outputs": [],
   "source": []
  }
 ],
 "metadata": {
  "kernelspec": {
   "display_name": "Scala (2.12)",
   "language": "scala",
   "name": "scala212"
  },
  "language_info": {
   "codemirror_mode": "text/x-scala",
   "file_extension": ".sc",
   "mimetype": "text/x-scala",
   "name": "scala",
   "nbconvert_exporter": "script",
   "version": "2.12.19"
  }
 },
 "nbformat": 4,
 "nbformat_minor": 4
}
