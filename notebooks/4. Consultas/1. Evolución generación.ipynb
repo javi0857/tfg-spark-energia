{
 "cells": [
  {
   "cell_type": "markdown",
   "metadata": {},
   "source": [
    "# Evolución de la generación"
   ]
  },
  {
   "cell_type": "code",
   "execution_count": 1,
   "metadata": {
    "collapsed": true,
    "jupyter": {
     "outputs_hidden": true
    }
   },
   "outputs": [
    {
     "name": "stdout",
     "output_type": "stream",
     "text": [
      "Loading spark-stubs\n",
      "Getting spark JARs\n",
      "Creating SparkSession\n"
     ]
    },
    {
     "name": "stderr",
     "output_type": "stream",
     "text": [
      "Using Spark's default log4j profile: org/apache/spark/log4j-defaults.properties\n"
     ]
    },
    {
     "data": {
      "text/html": [
       "<a href=\"http://264ccb78965f:4040\">Spark UI</a>"
      ]
     },
     "metadata": {},
     "output_type": "display_data"
    },
    {
     "data": {
      "text/plain": [
       "\u001b[32mimport \u001b[39m\u001b[36m$ivy.$                                  \n",
       "\n",
       "\n",
       "\u001b[39m\n",
       "\u001b[32mimport \u001b[39m\u001b[36morg.apache.spark.sql._\n",
       "\u001b[39m\n",
       "\u001b[32mimport \u001b[39m\u001b[36morg.apache.spark.sql.functions._\n",
       "\u001b[39m\n",
       "\u001b[32mimport \u001b[39m\u001b[36morg.apache.spark.sql.expressions.Window\n",
       "\n",
       "\n",
       "\n",
       "//Reducir numero logs\n",
       "\u001b[39m\n",
       "\u001b[32mimport \u001b[39m\u001b[36morg.apache.log4j.{Level, Logger}\n",
       "\u001b[39m\n",
       "\u001b[32mimport \u001b[39m\u001b[36m$ivy.$                               \n",
       "\n",
       "//Plotly\n",
       "\u001b[39m\n",
       "\u001b[32mimport \u001b[39m\u001b[36m$ivy.$                                      \n",
       "\u001b[39m\n",
       "\u001b[32mimport \u001b[39m\u001b[36mplotly._, plotly.element._, plotly.layout._, plotly.Almond._\n",
       "\n",
       "\n",
       "//Iniciamos session de Spark\n",
       "\u001b[39m\n",
       "\u001b[36mspark\u001b[39m: \u001b[32mSparkSession\u001b[39m = org.apache.spark.sql.SparkSession@4a316470\n",
       "\u001b[32mimport \u001b[39m\u001b[36mspark.implicits._\u001b[39m"
      ]
     },
     "execution_count": 1,
     "metadata": {},
     "output_type": "execute_result"
    }
   ],
   "source": [
    "import $ivy.`org.apache.spark::spark-sql:2.4.3`\n",
    "\n",
    "\n",
    "import org.apache.spark.sql._\n",
    "import org.apache.spark.sql.functions._\n",
    "import org.apache.spark.sql.expressions.Window\n",
    "\n",
    "\n",
    "\n",
    "//Reducir numero logs\n",
    "import org.apache.log4j.{Level, Logger}\n",
    "Logger.getLogger(\"org\").setLevel(Level.OFF)\n",
    "\n",
    "\n",
    "//For adding extra dependenies\n",
    "import $ivy.`org.typelevel::cats-core:1.6.0`\n",
    "\n",
    "//Plotly\n",
    "import $ivy.`org.plotly-scala::plotly-almond:0.8.3`\n",
    "import plotly._, plotly.element._, plotly.layout._, plotly.Almond._\n",
    "\n",
    "\n",
    "//Iniciamos session de Spark\n",
    "val spark = {\n",
    "  NotebookSparkSession.builder()\n",
    "     .master(\"local[*]\")\n",
    "    //.config(\"spark.executor.instances\", \"4\") // Número de ejecutores\n",
    "    //.config(\"spark.executor.memory\", \"4g\") // Memoria por ejecutor\n",
    "    //.config(\"spark.executor.cores\", \"2\") // Núcleos por ejecutor\n",
    "    //.config(\"spark.driver.memory\", \"4g\") // Memoria del driver\n",
    "    //.config(\"spark.sql.shuffle.partitions\", \"8\") // Número de particiones para operaciones de shuffle\n",
    "    .getOrCreate()\n",
    "}\n",
    "import spark.implicits._"
   ]
  },
  {
   "cell_type": "code",
   "execution_count": 5,
   "metadata": {},
   "outputs": [
    {
     "data": {
      "text/html": [
       "<div>\n",
       "  <span style=\"float: left;\">parquet at cmd4.sc:6</span>\n",
       "</div>\n"
      ]
     },
     "metadata": {},
     "output_type": "display_data"
    },
    {
     "data": {
      "text/html": [
       "<div class=\"progress\">\n",
       "  <div class=\"progress-bar\" role=\"progressbar\" style=\"background-color: blue; width: 100%; word-wrap: normal; white-space: nowrap; text-align: center; color: white\" aria-valuenow=\"100\" aria-valuemin=\"0\" aria-valuemax=\"100\">\n",
       "    1 / 1\n",
       "  </div>\n",
       "  <div class=\"progress-bar\" role=\"progressbar\" style=\"background-color: red; width: 0%\" aria-valuenow=\"0\" aria-valuemin=\"0\" aria-valuemax=\"100\"></div>\n",
       "</div>\n"
      ]
     },
     "metadata": {},
     "output_type": "display_data"
    },
    {
     "data": {
      "text/html": [
       "<div>\n",
       "  <span style=\"float: left;\">parquet at cmd4.sc:15</span>\n",
       "</div>\n"
      ]
     },
     "metadata": {},
     "output_type": "display_data"
    },
    {
     "data": {
      "text/html": [
       "<div class=\"progress\">\n",
       "  <div class=\"progress-bar\" role=\"progressbar\" style=\"background-color: blue; width: 100%; word-wrap: normal; white-space: nowrap; text-align: center; color: white\" aria-valuenow=\"100\" aria-valuemin=\"0\" aria-valuemax=\"100\">\n",
       "    1 / 1\n",
       "  </div>\n",
       "  <div class=\"progress-bar\" role=\"progressbar\" style=\"background-color: red; width: 0%\" aria-valuenow=\"0\" aria-valuemin=\"0\" aria-valuemax=\"100\"></div>\n",
       "</div>\n"
      ]
     },
     "metadata": {},
     "output_type": "display_data"
    },
    {
     "data": {
      "text/plain": [
       "\u001b[36mfilePath\u001b[39m: \u001b[32mString\u001b[39m = \u001b[32m\"../../data/parquet/dsBalanceNacional11-24.parquet\"\u001b[39m\n",
       "\u001b[36mdataFrameBalance\u001b[39m: \u001b[32mDataFrame\u001b[39m = [Familia: string, Tipo: string ... 5 more fields]\n",
       "\u001b[36mpathDatosConsulta1\u001b[39m: \u001b[32mString\u001b[39m = \u001b[32m\"../../data/parquet/dsDatosBalanceAnuales.parquet\"\u001b[39m\n",
       "\u001b[36mdfGeneracionAnual\u001b[39m: \u001b[32mDataFrame\u001b[39m = [Año: string, Familia: string ... 8 more fields]"
      ]
     },
     "execution_count": 5,
     "metadata": {},
     "output_type": "execute_result"
    }
   ],
   "source": [
    "val filePath = \"../../data/parquet/dsBalanceNacional11-24.parquet\"         \n",
    "val dataFrameBalance: DataFrame = spark.read\n",
    "  //.option(\"header\", \"true\") // Si el archivo tiene un encabezado\n",
    "  //.option(\"inferSchema\", \"true\") // Para inferir automáticamente el esquema\n",
    "  //.csv(filePath)\n",
    "    .parquet(filePath)\n",
    "\n",
    "\n",
    "val pathDatosConsulta1 = \"../../data/parquet/dsDatosBalanceAnuales.parquet\"\n",
    "val dfGeneracionAnual: DataFrame = spark.read\n",
    "  //.option(\"header\", \"true\") // Si el archivo tiene un encabezado\n",
    "  //.option(\"inferSchema\", \"true\") // Para inferir automáticamente el esquema\n",
    "  //.csv(filePath)\n",
    "    .option(\"encoding\", \"UTF-8\")\n",
    "    .parquet(pathDatosConsulta1)"
   ]
  },
  {
   "cell_type": "markdown",
   "metadata": {},
   "source": [
    "### Creamos los datasets"
   ]
  },
  {
   "cell_type": "code",
   "execution_count": 6,
   "metadata": {},
   "outputs": [
    {
     "data": {
      "text/plain": [
       "defined \u001b[32mclass\u001b[39m \u001b[36mBalance\u001b[39m\n",
       "\u001b[36mdsBalance\u001b[39m: \u001b[32mDataset\u001b[39m[\u001b[32mBalance\u001b[39m] = [Familia: string, Tipo: string ... 5 more fields]\n",
       "defined \u001b[32mclass\u001b[39m \u001b[36mBalanceAnual\u001b[39m\n",
       "\u001b[36mdsGeneraciónAnual\u001b[39m: \u001b[32mDataset\u001b[39m[\u001b[32mBalanceAnual\u001b[39m] = [Año: string, Familia: string ... 8 more fields]"
      ]
     },
     "execution_count": 6,
     "metadata": {},
     "output_type": "execute_result"
    }
   ],
   "source": [
    "org.apache.spark.sql.catalyst.encoders.OuterScopes.addOuterScope(this);\n",
    "case class Balance(\n",
    "    Familia: String,\n",
    "    Tipo: String,\n",
    "    Compuesto: Boolean,\n",
    "    Fecha: java.sql.Timestamp,\n",
    "    Valor: Double,\n",
    "    Porcentaje: Double,\n",
    "    BajasEmisiones: Boolean\n",
    ")\n",
    "\n",
    "val dsBalance: Dataset[Balance] = dataFrameBalance.as[Balance]\n",
    "\n",
    "case class BalanceAnual(\n",
    "    Año: String,\n",
    "    Familia: String,\n",
    "    Tipo: String,\n",
    "    Compuesto: Boolean,\n",
    "    BajasEmisiones: Boolean, \n",
    "    ValorAnual: Double,\n",
    "    PorcentajeAnualSobreFamilia: Double, \n",
    "    TotalGenerado: Double, \n",
    "    PorcentajeSobreTotal: Double, \n",
    "    PorcentajeBajasEmisiones: Double\n",
    ")\n",
    "\n",
    "val dsGeneraciónAnual: Dataset[BalanceAnual] = dfGeneracionAnual.as[BalanceAnual]"
   ]
  },
  {
   "cell_type": "code",
   "execution_count": 4,
   "metadata": {},
   "outputs": [
    {
     "data": {
      "text/html": [
       "<div>\n",
       "  <span style=\"float: left;\">head at cmd3.sc:11</span>\n",
       "</div>\n"
      ]
     },
     "metadata": {},
     "output_type": "display_data"
    },
    {
     "data": {
      "text/html": [
       "<div class=\"progress\">\n",
       "  <div class=\"progress-bar\" role=\"progressbar\" style=\"background-color: blue; width: 100%; word-wrap: normal; white-space: nowrap; text-align: center; color: white\" aria-valuenow=\"100\" aria-valuemin=\"0\" aria-valuemax=\"100\">\n",
       "    15 / 15\n",
       "  </div>\n",
       "  <div class=\"progress-bar\" role=\"progressbar\" style=\"background-color: red; width: 0%\" aria-valuenow=\"0\" aria-valuemin=\"0\" aria-valuemax=\"100\"></div>\n",
       "</div>\n"
      ]
     },
     "metadata": {},
     "output_type": "display_data"
    },
    {
     "data": {
      "text/html": [
       "<div>\n",
       "  <span style=\"float: left;\">head at cmd3.sc:11</span>\n",
       "</div>\n"
      ]
     },
     "metadata": {},
     "output_type": "display_data"
    },
    {
     "data": {
      "text/html": [
       "<div class=\"progress\">\n",
       "  <div class=\"progress-bar\" role=\"progressbar\" style=\"background-color: blue; width: 100%; word-wrap: normal; white-space: nowrap; text-align: center; color: white\" aria-valuenow=\"100\" aria-valuemin=\"0\" aria-valuemax=\"100\">\n",
       "    200 / 200\n",
       "  </div>\n",
       "  <div class=\"progress-bar\" role=\"progressbar\" style=\"background-color: red; width: 0%\" aria-valuenow=\"0\" aria-valuemin=\"0\" aria-valuemax=\"100\"></div>\n",
       "</div>\n"
      ]
     },
     "metadata": {},
     "output_type": "display_data"
    },
    {
     "data": {
      "text/html": [
       "<div>\n",
       "  <span style=\"float: left;\">head at cmd3.sc:12</span>\n",
       "</div>\n"
      ]
     },
     "metadata": {},
     "output_type": "display_data"
    },
    {
     "data": {
      "text/html": [
       "<div class=\"progress\">\n",
       "  <div class=\"progress-bar\" role=\"progressbar\" style=\"background-color: blue; width: 100%; word-wrap: normal; white-space: nowrap; text-align: center; color: white\" aria-valuenow=\"100\" aria-valuemin=\"0\" aria-valuemax=\"100\">\n",
       "    15 / 15\n",
       "  </div>\n",
       "  <div class=\"progress-bar\" role=\"progressbar\" style=\"background-color: red; width: 0%\" aria-valuenow=\"0\" aria-valuemin=\"0\" aria-valuemax=\"100\"></div>\n",
       "</div>\n"
      ]
     },
     "metadata": {},
     "output_type": "display_data"
    },
    {
     "data": {
      "text/html": [
       "<div>\n",
       "  <span style=\"float: left;\">head at cmd3.sc:12</span>\n",
       "</div>\n"
      ]
     },
     "metadata": {},
     "output_type": "display_data"
    },
    {
     "data": {
      "text/html": [
       "<div class=\"progress\">\n",
       "  <div class=\"progress-bar\" role=\"progressbar\" style=\"background-color: blue; width: 100%; word-wrap: normal; white-space: nowrap; text-align: center; color: white\" aria-valuenow=\"100\" aria-valuemin=\"0\" aria-valuemax=\"100\">\n",
       "    200 / 200\n",
       "  </div>\n",
       "  <div class=\"progress-bar\" role=\"progressbar\" style=\"background-color: red; width: 0%\" aria-valuenow=\"0\" aria-valuemin=\"0\" aria-valuemax=\"100\"></div>\n",
       "</div>\n"
      ]
     },
     "metadata": {},
     "output_type": "display_data"
    },
    {
     "data": {
      "text/html": [
       "\n",
       "      <script type=\"text/javascript\">\n",
       "        require.config({\n",
       "  paths: {\n",
       "    d3: 'https://cdnjs.cloudflare.com/ajax/libs/d3/3.5.17/d3.min',\n",
       "    plotly: 'https://cdn.plot.ly/plotly-1.54.1.min',\n",
       "    jquery: 'https://code.jquery.com/jquery-3.3.1.min'\n",
       "  },\n",
       "\n",
       "  shim: {\n",
       "    plotly: {\n",
       "      deps: ['d3', 'jquery'],\n",
       "      exports: 'plotly'\n",
       "    }\n",
       "  }\n",
       "});\n",
       "        \n",
       "\n",
       "        require(['plotly'], function(Plotly) {\n",
       "          window.Plotly = Plotly;\n",
       "        });\n",
       "      </script>\n",
       "    "
      ]
     },
     "metadata": {},
     "output_type": "display_data"
    },
    {
     "data": {
      "application/vnd.plotly.v1+json": {
       "config": {},
       "data": [
        {
         "type": "bar",
         "x": [
          "Nuclear",
          "Ciclo combinado",
          "Carbón",
          "Eólica",
          "Cogeneración"
         ],
         "y": [
          55005874.86700001,
          53430948.742000036,
          43177464.37699999,
          42477250.76900001,
          30593251.72399998
         ]
        }
       ],
       "layout": {
        "autosize": true,
        "title": {
         "text": "Top 5 fuentes de producción en 2011"
        },
        "xaxis": {
         "autorange": true,
         "range": [
          -0.5,
          4.5
         ],
         "type": "category"
        },
        "yaxis": {
         "autorange": true,
         "range": [
          0,
          57900920.91263159
         ],
         "type": "linear"
        }
       }
      },
      "image/png": "[encoded data removed]",
      "text/html": [
       "<div class=\"chart\" id=\"plot-ab881b7c-4278-41e4-865f-bbe75cbf727d\"></div>\n",
       "<script>require(['plotly'], function(Plotly) {\n",
       "  (function () {\n",
       "  var data0 = {\"x\":[\"Nuclear\",\"Ciclo combinado\",\"Carbón\",\"Eólica\",\"Cogeneración\"],\"y\":[5.500587486700001E7,5.3430948742000036E7,4.317746437699999E7,4.247725076900001E7,3.059325172399998E7],\"type\":\"bar\"};\n",
       "\n",
       "  var data = [data0];\n",
       "  var layout = {\"title\":\"Top 5 fuentes de producción en 2011\"};\n",
       " var config = {};\n",
       "\n",
       "  Plotly.plot('plot-ab881b7c-4278-41e4-865f-bbe75cbf727d', data, layout, config);\n",
       "})();\n",
       "});\n",
       "      </script>\n",
       "           "
      ]
     },
     "metadata": {},
     "output_type": "display_data"
    },
    {
     "data": {
      "text/plain": [
       "defined \u001b[32mfunction\u001b[39m \u001b[36mtop5anual\u001b[39m\n",
       "\u001b[36mres3_1\u001b[39m: \u001b[32mString\u001b[39m = \u001b[32m\"plot-ab881b7c-4278-41e4-865f-bbe75cbf727d\"\u001b[39m"
      ]
     },
     "execution_count": 4,
     "metadata": {},
     "output_type": "execute_result"
    }
   ],
   "source": [
    "def top5anual (df: DataFrame, Año: Int) = {\n",
    "val energiasOrdenadas= df\n",
    "    .filter(date_format(col(\"Fecha\"),\"yyyy\") === Año) //Año\n",
    "    .filter(col(\"Familia\") =!= \"Demanda\")\n",
    "    .filter(!col(\"Tipo\").isin(\"Generación renovable\", \"Generación no renovable\"))\n",
    "    .groupBy($\"Tipo\")\n",
    "    //.groupBy(date_format(col(\"FechaCompleta\"), \"yyyy-MM\").as(\"Mes\"))\n",
    "    .agg(sum(\"Valor\").as[Double].as(\"ValorTotal\"))\n",
    "    .orderBy($\"ValorTotal\".desc)\n",
    "\n",
    "val seqValores = energiasOrdenadas.select($\"ValorTotal\").as[Double].head(5).toSeq\n",
    "val seqTipo = energiasOrdenadas.select($\"Tipo\").as[String].head(5).toSeq\n",
    "val layout = Layout(\"Top 5 fuentes de producción en 2011\")\n",
    "val data = Seq(Bar(\n",
    "    seqTipo,\n",
    "    seqValores,\n",
    "))\n",
    "\n",
    "plot(data, layout)\n",
    "}\n",
    "top5anual(dataFrameBalance, 2011)"
   ]
  },
  {
   "cell_type": "code",
   "execution_count": 11,
   "metadata": {},
   "outputs": [
    {
     "data": {
      "text/html": [
       "<div>\n",
       "  <span style=\"float: left;\">collect at cmd10.sc:4</span>\n",
       "</div>\n"
      ]
     },
     "metadata": {},
     "output_type": "display_data"
    },
    {
     "data": {
      "text/html": [
       "<div class=\"progress\">\n",
       "  <div class=\"progress-bar\" role=\"progressbar\" style=\"background-color: blue; width: 100%; word-wrap: normal; white-space: nowrap; text-align: center; color: white\" aria-valuenow=\"100\" aria-valuemin=\"0\" aria-valuemax=\"100\">\n",
       "    1 / 1\n",
       "  </div>\n",
       "  <div class=\"progress-bar\" role=\"progressbar\" style=\"background-color: red; width: 0%\" aria-valuenow=\"0\" aria-valuemin=\"0\" aria-valuemax=\"100\"></div>\n",
       "</div>\n"
      ]
     },
     "metadata": {},
     "output_type": "display_data"
    },
    {
     "data": {
      "text/html": [
       "<div>\n",
       "  <span style=\"float: left;\">collect at cmd10.sc:4</span>\n",
       "</div>\n"
      ]
     },
     "metadata": {},
     "output_type": "display_data"
    },
    {
     "data": {
      "text/html": [
       "<div class=\"progress\">\n",
       "  <div class=\"progress-bar\" role=\"progressbar\" style=\"background-color: blue; width: 100%; word-wrap: normal; white-space: nowrap; text-align: center; color: white\" aria-valuenow=\"100\" aria-valuemin=\"0\" aria-valuemax=\"100\">\n",
       "    1 / 1\n",
       "  </div>\n",
       "  <div class=\"progress-bar\" role=\"progressbar\" style=\"background-color: red; width: 0%\" aria-valuenow=\"0\" aria-valuemin=\"0\" aria-valuemax=\"100\"></div>\n",
       "</div>\n"
      ]
     },
     "metadata": {},
     "output_type": "display_data"
    },
    {
     "data": {
      "text/html": [
       "<div>\n",
       "  <span style=\"float: left;\">collect at cmd10.sc:4</span>\n",
       "</div>\n"
      ]
     },
     "metadata": {},
     "output_type": "display_data"
    },
    {
     "data": {
      "text/html": [
       "<div class=\"progress\">\n",
       "  <div class=\"progress-bar\" role=\"progressbar\" style=\"background-color: blue; width: 100%; word-wrap: normal; white-space: nowrap; text-align: center; color: white\" aria-valuenow=\"100\" aria-valuemin=\"0\" aria-valuemax=\"100\">\n",
       "    14 / 14\n",
       "  </div>\n",
       "  <div class=\"progress-bar\" role=\"progressbar\" style=\"background-color: red; width: 0%\" aria-valuenow=\"0\" aria-valuemin=\"0\" aria-valuemax=\"100\"></div>\n",
       "</div>\n"
      ]
     },
     "metadata": {},
     "output_type": "display_data"
    },
    {
     "data": {
      "text/html": [
       "<div>\n",
       "  <span style=\"float: left;\">collect at cmd10.sc:5</span>\n",
       "</div>\n"
      ]
     },
     "metadata": {},
     "output_type": "display_data"
    },
    {
     "data": {
      "text/html": [
       "<div class=\"progress\">\n",
       "  <div class=\"progress-bar\" role=\"progressbar\" style=\"background-color: blue; width: 100%; word-wrap: normal; white-space: nowrap; text-align: center; color: white\" aria-valuenow=\"100\" aria-valuemin=\"0\" aria-valuemax=\"100\">\n",
       "    1 / 1\n",
       "  </div>\n",
       "  <div class=\"progress-bar\" role=\"progressbar\" style=\"background-color: red; width: 0%\" aria-valuenow=\"0\" aria-valuemin=\"0\" aria-valuemax=\"100\"></div>\n",
       "</div>\n"
      ]
     },
     "metadata": {},
     "output_type": "display_data"
    },
    {
     "data": {
      "text/html": [
       "<div>\n",
       "  <span style=\"float: left;\">collect at cmd10.sc:5</span>\n",
       "</div>\n"
      ]
     },
     "metadata": {},
     "output_type": "display_data"
    },
    {
     "data": {
      "text/html": [
       "<div class=\"progress\">\n",
       "  <div class=\"progress-bar\" role=\"progressbar\" style=\"background-color: blue; width: 100%; word-wrap: normal; white-space: nowrap; text-align: center; color: white\" aria-valuenow=\"100\" aria-valuemin=\"0\" aria-valuemax=\"100\">\n",
       "    1 / 1\n",
       "  </div>\n",
       "  <div class=\"progress-bar\" role=\"progressbar\" style=\"background-color: red; width: 0%\" aria-valuenow=\"0\" aria-valuemin=\"0\" aria-valuemax=\"100\"></div>\n",
       "</div>\n"
      ]
     },
     "metadata": {},
     "output_type": "display_data"
    },
    {
     "data": {
      "text/html": [
       "<div>\n",
       "  <span style=\"float: left;\">collect at cmd10.sc:5</span>\n",
       "</div>\n"
      ]
     },
     "metadata": {},
     "output_type": "display_data"
    },
    {
     "data": {
      "text/html": [
       "<div class=\"progress\">\n",
       "  <div class=\"progress-bar\" role=\"progressbar\" style=\"background-color: blue; width: 100%; word-wrap: normal; white-space: nowrap; text-align: center; color: white\" aria-valuenow=\"100\" aria-valuemin=\"0\" aria-valuemax=\"100\">\n",
       "    14 / 14\n",
       "  </div>\n",
       "  <div class=\"progress-bar\" role=\"progressbar\" style=\"background-color: red; width: 0%\" aria-valuenow=\"0\" aria-valuemin=\"0\" aria-valuemax=\"100\"></div>\n",
       "</div>\n"
      ]
     },
     "metadata": {},
     "output_type": "display_data"
    },
    {
     "data": {
      "text/html": [
       "<div>\n",
       "  <span style=\"float: left;\">collect at cmd10.sc:5</span>\n",
       "</div>\n"
      ]
     },
     "metadata": {},
     "output_type": "display_data"
    },
    {
     "data": {
      "text/html": [
       "<div class=\"progress\">\n",
       "  <div class=\"progress-bar\" role=\"progressbar\" style=\"background-color: blue; width: 100%; word-wrap: normal; white-space: nowrap; text-align: center; color: white\" aria-valuenow=\"100\" aria-valuemin=\"0\" aria-valuemax=\"100\">\n",
       "    1 / 1\n",
       "  </div>\n",
       "  <div class=\"progress-bar\" role=\"progressbar\" style=\"background-color: red; width: 0%\" aria-valuenow=\"0\" aria-valuemin=\"0\" aria-valuemax=\"100\"></div>\n",
       "</div>\n"
      ]
     },
     "metadata": {},
     "output_type": "display_data"
    },
    {
     "data": {
      "text/html": [
       "<div>\n",
       "  <span style=\"float: left;\">collect at cmd10.sc:5</span>\n",
       "</div>\n"
      ]
     },
     "metadata": {},
     "output_type": "display_data"
    },
    {
     "data": {
      "text/html": [
       "<div class=\"progress\">\n",
       "  <div class=\"progress-bar\" role=\"progressbar\" style=\"background-color: blue; width: 100%; word-wrap: normal; white-space: nowrap; text-align: center; color: white\" aria-valuenow=\"100\" aria-valuemin=\"0\" aria-valuemax=\"100\">\n",
       "    1 / 1\n",
       "  </div>\n",
       "  <div class=\"progress-bar\" role=\"progressbar\" style=\"background-color: red; width: 0%\" aria-valuenow=\"0\" aria-valuemin=\"0\" aria-valuemax=\"100\"></div>\n",
       "</div>\n"
      ]
     },
     "metadata": {},
     "output_type": "display_data"
    },
    {
     "data": {
      "text/html": [
       "<div>\n",
       "  <span style=\"float: left;\">collect at cmd10.sc:5</span>\n",
       "</div>\n"
      ]
     },
     "metadata": {},
     "output_type": "display_data"
    },
    {
     "data": {
      "text/html": [
       "<div class=\"progress\">\n",
       "  <div class=\"progress-bar\" role=\"progressbar\" style=\"background-color: blue; width: 100%; word-wrap: normal; white-space: nowrap; text-align: center; color: white\" aria-valuenow=\"100\" aria-valuemin=\"0\" aria-valuemax=\"100\">\n",
       "    14 / 14\n",
       "  </div>\n",
       "  <div class=\"progress-bar\" role=\"progressbar\" style=\"background-color: red; width: 0%\" aria-valuenow=\"0\" aria-valuemin=\"0\" aria-valuemax=\"100\"></div>\n",
       "</div>\n"
      ]
     },
     "metadata": {},
     "output_type": "display_data"
    },
    {
     "data": {
      "text/html": [
       "<div>\n",
       "  <span style=\"float: left;\">collect at cmd10.sc:5</span>\n",
       "</div>\n"
      ]
     },
     "metadata": {},
     "output_type": "display_data"
    },
    {
     "data": {
      "text/html": [
       "<div class=\"progress\">\n",
       "  <div class=\"progress-bar\" role=\"progressbar\" style=\"background-color: blue; width: 100%; word-wrap: normal; white-space: nowrap; text-align: center; color: white\" aria-valuenow=\"100\" aria-valuemin=\"0\" aria-valuemax=\"100\">\n",
       "    1 / 1\n",
       "  </div>\n",
       "  <div class=\"progress-bar\" role=\"progressbar\" style=\"background-color: red; width: 0%\" aria-valuenow=\"0\" aria-valuemin=\"0\" aria-valuemax=\"100\"></div>\n",
       "</div>\n"
      ]
     },
     "metadata": {},
     "output_type": "display_data"
    },
    {
     "data": {
      "text/html": [
       "<div>\n",
       "  <span style=\"float: left;\">collect at cmd10.sc:5</span>\n",
       "</div>\n"
      ]
     },
     "metadata": {},
     "output_type": "display_data"
    },
    {
     "data": {
      "text/html": [
       "<div class=\"progress\">\n",
       "  <div class=\"progress-bar\" role=\"progressbar\" style=\"background-color: blue; width: 100%; word-wrap: normal; white-space: nowrap; text-align: center; color: white\" aria-valuenow=\"100\" aria-valuemin=\"0\" aria-valuemax=\"100\">\n",
       "    1 / 1\n",
       "  </div>\n",
       "  <div class=\"progress-bar\" role=\"progressbar\" style=\"background-color: red; width: 0%\" aria-valuenow=\"0\" aria-valuemin=\"0\" aria-valuemax=\"100\"></div>\n",
       "</div>\n"
      ]
     },
     "metadata": {},
     "output_type": "display_data"
    },
    {
     "data": {
      "text/html": [
       "<div>\n",
       "  <span style=\"float: left;\">collect at cmd10.sc:5</span>\n",
       "</div>\n"
      ]
     },
     "metadata": {},
     "output_type": "display_data"
    },
    {
     "data": {
      "text/html": [
       "<div class=\"progress\">\n",
       "  <div class=\"progress-bar\" role=\"progressbar\" style=\"background-color: blue; width: 100%; word-wrap: normal; white-space: nowrap; text-align: center; color: white\" aria-valuenow=\"100\" aria-valuemin=\"0\" aria-valuemax=\"100\">\n",
       "    14 / 14\n",
       "  </div>\n",
       "  <div class=\"progress-bar\" role=\"progressbar\" style=\"background-color: red; width: 0%\" aria-valuenow=\"0\" aria-valuemin=\"0\" aria-valuemax=\"100\"></div>\n",
       "</div>\n"
      ]
     },
     "metadata": {},
     "output_type": "display_data"
    },
    {
     "data": {
      "text/html": [
       "<div>\n",
       "  <span style=\"float: left;\">collect at cmd10.sc:5</span>\n",
       "</div>\n"
      ]
     },
     "metadata": {},
     "output_type": "display_data"
    },
    {
     "data": {
      "text/html": [
       "<div class=\"progress\">\n",
       "  <div class=\"progress-bar\" role=\"progressbar\" style=\"background-color: blue; width: 100%; word-wrap: normal; white-space: nowrap; text-align: center; color: white\" aria-valuenow=\"100\" aria-valuemin=\"0\" aria-valuemax=\"100\">\n",
       "    1 / 1\n",
       "  </div>\n",
       "  <div class=\"progress-bar\" role=\"progressbar\" style=\"background-color: red; width: 0%\" aria-valuenow=\"0\" aria-valuemin=\"0\" aria-valuemax=\"100\"></div>\n",
       "</div>\n"
      ]
     },
     "metadata": {},
     "output_type": "display_data"
    },
    {
     "data": {
      "text/html": [
       "<div>\n",
       "  <span style=\"float: left;\">collect at cmd10.sc:5</span>\n",
       "</div>\n"
      ]
     },
     "metadata": {},
     "output_type": "display_data"
    },
    {
     "data": {
      "text/html": [
       "<div class=\"progress\">\n",
       "  <div class=\"progress-bar\" role=\"progressbar\" style=\"background-color: blue; width: 100%; word-wrap: normal; white-space: nowrap; text-align: center; color: white\" aria-valuenow=\"100\" aria-valuemin=\"0\" aria-valuemax=\"100\">\n",
       "    1 / 1\n",
       "  </div>\n",
       "  <div class=\"progress-bar\" role=\"progressbar\" style=\"background-color: red; width: 0%\" aria-valuenow=\"0\" aria-valuemin=\"0\" aria-valuemax=\"100\"></div>\n",
       "</div>\n"
      ]
     },
     "metadata": {},
     "output_type": "display_data"
    },
    {
     "data": {
      "text/html": [
       "<div>\n",
       "  <span style=\"float: left;\">collect at cmd10.sc:5</span>\n",
       "</div>\n"
      ]
     },
     "metadata": {},
     "output_type": "display_data"
    },
    {
     "data": {
      "text/html": [
       "<div class=\"progress\">\n",
       "  <div class=\"progress-bar\" role=\"progressbar\" style=\"background-color: blue; width: 100%; word-wrap: normal; white-space: nowrap; text-align: center; color: white\" aria-valuenow=\"100\" aria-valuemin=\"0\" aria-valuemax=\"100\">\n",
       "    14 / 14\n",
       "  </div>\n",
       "  <div class=\"progress-bar\" role=\"progressbar\" style=\"background-color: red; width: 0%\" aria-valuenow=\"0\" aria-valuemin=\"0\" aria-valuemax=\"100\"></div>\n",
       "</div>\n"
      ]
     },
     "metadata": {},
     "output_type": "display_data"
    },
    {
     "data": {
      "text/html": [
       "<div>\n",
       "  <span style=\"float: left;\">collect at cmd10.sc:5</span>\n",
       "</div>\n"
      ]
     },
     "metadata": {},
     "output_type": "display_data"
    },
    {
     "data": {
      "text/html": [
       "<div class=\"progress\">\n",
       "  <div class=\"progress-bar\" role=\"progressbar\" style=\"background-color: blue; width: 100%; word-wrap: normal; white-space: nowrap; text-align: center; color: white\" aria-valuenow=\"100\" aria-valuemin=\"0\" aria-valuemax=\"100\">\n",
       "    1 / 1\n",
       "  </div>\n",
       "  <div class=\"progress-bar\" role=\"progressbar\" style=\"background-color: red; width: 0%\" aria-valuenow=\"0\" aria-valuemin=\"0\" aria-valuemax=\"100\"></div>\n",
       "</div>\n"
      ]
     },
     "metadata": {},
     "output_type": "display_data"
    },
    {
     "data": {
      "text/html": [
       "<div>\n",
       "  <span style=\"float: left;\">collect at cmd10.sc:5</span>\n",
       "</div>\n"
      ]
     },
     "metadata": {},
     "output_type": "display_data"
    },
    {
     "data": {
      "text/html": [
       "<div class=\"progress\">\n",
       "  <div class=\"progress-bar\" role=\"progressbar\" style=\"background-color: blue; width: 100%; word-wrap: normal; white-space: nowrap; text-align: center; color: white\" aria-valuenow=\"100\" aria-valuemin=\"0\" aria-valuemax=\"100\">\n",
       "    1 / 1\n",
       "  </div>\n",
       "  <div class=\"progress-bar\" role=\"progressbar\" style=\"background-color: red; width: 0%\" aria-valuenow=\"0\" aria-valuemin=\"0\" aria-valuemax=\"100\"></div>\n",
       "</div>\n"
      ]
     },
     "metadata": {},
     "output_type": "display_data"
    },
    {
     "data": {
      "text/html": [
       "<div>\n",
       "  <span style=\"float: left;\">collect at cmd10.sc:5</span>\n",
       "</div>\n"
      ]
     },
     "metadata": {},
     "output_type": "display_data"
    },
    {
     "data": {
      "text/html": [
       "<div class=\"progress\">\n",
       "  <div class=\"progress-bar\" role=\"progressbar\" style=\"background-color: blue; width: 100%; word-wrap: normal; white-space: nowrap; text-align: center; color: white\" aria-valuenow=\"100\" aria-valuemin=\"0\" aria-valuemax=\"100\">\n",
       "    14 / 14\n",
       "  </div>\n",
       "  <div class=\"progress-bar\" role=\"progressbar\" style=\"background-color: red; width: 0%\" aria-valuenow=\"0\" aria-valuemin=\"0\" aria-valuemax=\"100\"></div>\n",
       "</div>\n"
      ]
     },
     "metadata": {},
     "output_type": "display_data"
    },
    {
     "data": {
      "text/html": [
       "<div>\n",
       "  <span style=\"float: left;\">collect at cmd10.sc:5</span>\n",
       "</div>\n"
      ]
     },
     "metadata": {},
     "output_type": "display_data"
    },
    {
     "data": {
      "text/html": [
       "<div class=\"progress\">\n",
       "  <div class=\"progress-bar\" role=\"progressbar\" style=\"background-color: blue; width: 100%; word-wrap: normal; white-space: nowrap; text-align: center; color: white\" aria-valuenow=\"100\" aria-valuemin=\"0\" aria-valuemax=\"100\">\n",
       "    1 / 1\n",
       "  </div>\n",
       "  <div class=\"progress-bar\" role=\"progressbar\" style=\"background-color: red; width: 0%\" aria-valuenow=\"0\" aria-valuemin=\"0\" aria-valuemax=\"100\"></div>\n",
       "</div>\n"
      ]
     },
     "metadata": {},
     "output_type": "display_data"
    },
    {
     "data": {
      "text/html": [
       "<div>\n",
       "  <span style=\"float: left;\">collect at cmd10.sc:5</span>\n",
       "</div>\n"
      ]
     },
     "metadata": {},
     "output_type": "display_data"
    },
    {
     "data": {
      "text/html": [
       "<div class=\"progress\">\n",
       "  <div class=\"progress-bar\" role=\"progressbar\" style=\"background-color: blue; width: 100%; word-wrap: normal; white-space: nowrap; text-align: center; color: white\" aria-valuenow=\"100\" aria-valuemin=\"0\" aria-valuemax=\"100\">\n",
       "    1 / 1\n",
       "  </div>\n",
       "  <div class=\"progress-bar\" role=\"progressbar\" style=\"background-color: red; width: 0%\" aria-valuenow=\"0\" aria-valuemin=\"0\" aria-valuemax=\"100\"></div>\n",
       "</div>\n"
      ]
     },
     "metadata": {},
     "output_type": "display_data"
    },
    {
     "data": {
      "text/html": [
       "<div>\n",
       "  <span style=\"float: left;\">collect at cmd10.sc:5</span>\n",
       "</div>\n"
      ]
     },
     "metadata": {},
     "output_type": "display_data"
    },
    {
     "data": {
      "text/html": [
       "<div class=\"progress\">\n",
       "  <div class=\"progress-bar\" role=\"progressbar\" style=\"background-color: blue; width: 100%; word-wrap: normal; white-space: nowrap; text-align: center; color: white\" aria-valuenow=\"100\" aria-valuemin=\"0\" aria-valuemax=\"100\">\n",
       "    14 / 14\n",
       "  </div>\n",
       "  <div class=\"progress-bar\" role=\"progressbar\" style=\"background-color: red; width: 0%\" aria-valuenow=\"0\" aria-valuemin=\"0\" aria-valuemax=\"100\"></div>\n",
       "</div>\n"
      ]
     },
     "metadata": {},
     "output_type": "display_data"
    },
    {
     "data": {
      "application/vnd.plotly.v1+json": {
       "config": {},
       "data": [
        {
         "name": "Hidráulica",
         "type": "scatter",
         "x": [
          "2011",
          "2012",
          "2013",
          "2014",
          "2015",
          "2016",
          "2017",
          "2018",
          "2019",
          "2020",
          "2021",
          "2022",
          "2023",
          "2024"
         ],
         "y": [
          30437318.139999997,
          20653566.607999995,
          37385436.83600002,
          39181985.22800001,
          28382579.97499999,
          36114888.19499998,
          18450618.742000002,
          34117241.34900001,
          24719015.198000006,
          30631723.59600001,
          29626009.05900001,
          17911113.89000002,
          25339971.112999987,
          34495067.16699997
         ]
        },
        {
         "name": "Solar fotovoltaica",
         "type": "scatter",
         "x": [
          "2011",
          "2012",
          "2013",
          "2014",
          "2015",
          "2016",
          "2017",
          "2018",
          "2019",
          "2020",
          "2021",
          "2022",
          "2023",
          "2024"
         ],
         "y": [
          7440752.380000002,
          8202259.144999995,
          8327274.596000005,
          8207926.131000004,
          8243560.9049999975,
          7977467.185000004,
          8397752.693,
          7766178.425000004,
          9252018.880999994,
          15302144.731999997,
          20981043.298000015,
          27906020.275000013,
          37484786.717,
          44469423.66799997
         ]
        },
        {
         "name": "Nuclear",
         "type": "scatter",
         "x": [
          "2011",
          "2012",
          "2013",
          "2014",
          "2015",
          "2016",
          "2017",
          "2018",
          "2019",
          "2020",
          "2021",
          "2022",
          "2023",
          "2024"
         ],
         "y": [
          55005874.86700001,
          58595438.79899999,
          54210788.119,
          54781281.335,
          54661803.30500003,
          56021682.059,
          55539351.04600004,
          53197617.43000001,
          55824226.77499998,
          55758359.85700002,
          54041019.73100004,
          55934105.24499997,
          54276339.99099999,
          52055269.493000016
         ]
        },
        {
         "name": "Ciclo combinado",
         "type": "scatter",
         "x": [
          "2011",
          "2012",
          "2013",
          "2014",
          "2015",
          "2016",
          "2017",
          "2018",
          "2019",
          "2020",
          "2021",
          "2022",
          "2023",
          "2024"
         ],
         "y": [
          53430948.742000036,
          41074444.72099999,
          27569900.639,
          24828833.996999998,
          29027289.335000016,
          29006482.094000004,
          37065787.08300001,
          30044467.19499999,
          55241970.21800004,
          44022855.39000004,
          44500099.33199997,
          68137488.0769999,
          46050647.90700004,
          35163551.28100002
         ]
        },
        {
         "name": "Eólica",
         "type": "scatter",
         "x": [
          "2011",
          "2012",
          "2013",
          "2014",
          "2015",
          "2016",
          "2017",
          "2018",
          "2019",
          "2020",
          "2021",
          "2022",
          "2023",
          "2024"
         ],
         "y": [
          42477250.76900001,
          48524529.97099998,
          54713393.735000014,
          51032030.84800001,
          48117887.51599997,
          47696660.309000015,
          47906955.560999975,
          49581488.865999945,
          54245055.89899998,
          54906246.257999994,
          60525656.89199999,
          61194597.031999975,
          62669915.30900006,
          60846452.692
         ]
        },
        {
         "name": "Carbón",
         "type": "scatter",
         "x": [
          "2011",
          "2012",
          "2013",
          "2014",
          "2015",
          "2016",
          "2017",
          "2018",
          "2019",
          "2020",
          "2021",
          "2022",
          "2023",
          "2024"
         ],
         "y": [
          43177464.37699999,
          53779891.17299996,
          39441537.716,
          43246056.49699998,
          52616477.59800001,
          37313777.751,
          45019420.39300001,
          37276805.716000006,
          12670637.398000004,
          5020712.577999998,
          4983148.012999996,
          7762185.991,
          3868477.963000001,
          2955881.886000001
         ]
        }
       ],
       "layout": {
        "autosize": true,
        "title": {
         "text": "Crecimiento en la producción de las principales fuentes"
        },
        "xaxis": {
         "autorange": true,
         "range": [
          2010.221195027682,
          2024.778804972318
         ],
         "type": "linear"
        },
        "yaxis": {
         "autorange": true,
         "range": [
          -1818566.9751241952,
          72911936.9381241
         ],
         "type": "linear"
        }
       }
      },
      "image/png": "[encoded data removed]",
      "text/html": [
       "<div class=\"chart\" id=\"plot-507a067b-4ac3-4cba-864a-4669340daa9b\"></div>\n",
       "<script>require(['plotly'], function(Plotly) {\n",
       "  (function () {\n",
       "  var data0 = {\"x\":[\"2011\",\"2012\",\"2013\",\"2014\",\"2015\",\"2016\",\"2017\",\"2018\",\"2019\",\"2020\",\"2021\",\"2022\",\"2023\",\"2024\"],\"name\":\"Hidráulica\",\"y\":[3.0437318139999997E7,2.0653566607999995E7,3.738543683600002E7,3.918198522800001E7,2.838257997499999E7,3.611488819499998E7,1.8450618742000002E7,3.411724134900001E7,2.4719015198000006E7,3.063172359600001E7,2.962600905900001E7,1.791111389000002E7,2.5339971112999987E7,3.449506716699997E7],\"type\":\"scatter\"};\n",
       "  var data1 = {\"x\":[\"2011\",\"2012\",\"2013\",\"2014\",\"2015\",\"2016\",\"2017\",\"2018\",\"2019\",\"2020\",\"2021\",\"2022\",\"2023\",\"2024\"],\"name\":\"Solar fotovoltaica\",\"y\":[7440752.380000002,8202259.144999995,8327274.596000005,8207926.131000004,8243560.9049999975,7977467.185000004,8397752.693,7766178.425000004,9252018.880999994,1.5302144731999997E7,2.0981043298000015E7,2.7906020275000013E7,3.7484786717E7,4.446942366799997E7],\"type\":\"scatter\"};\n",
       "  var data2 = {\"x\":[\"2011\",\"2012\",\"2013\",\"2014\",\"2015\",\"2016\",\"2017\",\"2018\",\"2019\",\"2020\",\"2021\",\"2022\",\"2023\",\"2024\"],\"name\":\"Nuclear\",\"y\":[5.500587486700001E7,5.859543879899999E7,5.4210788119E7,5.4781281335E7,5.466180330500003E7,5.6021682059E7,5.553935104600004E7,5.319761743000001E7,5.582422677499998E7,5.575835985700002E7,5.404101973100004E7,5.593410524499997E7,5.427633999099999E7,5.2055269493000016E7],\"type\":\"scatter\"};\n",
       "  var data3 = {\"x\":[\"2011\",\"2012\",\"2013\",\"2014\",\"2015\",\"2016\",\"2017\",\"2018\",\"2019\",\"2020\",\"2021\",\"2022\",\"2023\",\"2024\"],\"name\":\"Ciclo combinado\",\"y\":[5.3430948742000036E7,4.107444472099999E7,2.7569900639E7,2.4828833996999998E7,2.9027289335000016E7,2.9006482094000004E7,3.706578708300001E7,3.004446719499999E7,5.524197021800004E7,4.402285539000004E7,4.450009933199997E7,6.81374880769999E7,4.605064790700004E7,3.516355128100002E7],\"type\":\"scatter\"};\n",
       "  var data4 = {\"x\":[\"2011\",\"2012\",\"2013\",\"2014\",\"2015\",\"2016\",\"2017\",\"2018\",\"2019\",\"2020\",\"2021\",\"2022\",\"2023\",\"2024\"],\"name\":\"Eólica\",\"y\":[4.247725076900001E7,4.852452997099998E7,5.4713393735000014E7,5.103203084800001E7,4.811788751599997E7,4.7696660309000015E7,4.7906955560999975E7,4.9581488865999945E7,5.424505589899998E7,5.4906246257999994E7,6.052565689199999E7,6.1194597031999975E7,6.266991530900006E7,6.0846452692E7],\"type\":\"scatter\"};\n",
       "  var data5 = {\"x\":[\"2011\",\"2012\",\"2013\",\"2014\",\"2015\",\"2016\",\"2017\",\"2018\",\"2019\",\"2020\",\"2021\",\"2022\",\"2023\",\"2024\"],\"name\":\"Carbón\",\"y\":[4.317746437699999E7,5.377989117299996E7,3.9441537716E7,4.324605649699998E7,5.261647759800001E7,3.7313777751E7,4.501942039300001E7,3.7276805716000006E7,1.2670637398000004E7,5020712.577999998,4983148.012999996,7762185.991,3868477.963000001,2955881.886000001],\"type\":\"scatter\"};\n",
       "\n",
       "  var data = [data0, data1, data2, data3, data4, data5];\n",
       "  var layout = {\"title\":\"Crecimiento en la producción de las principales fuentes\"};\n",
       " var config = {};\n",
       "\n",
       "  Plotly.plot('plot-507a067b-4ac3-4cba-864a-4669340daa9b', data, layout, config);\n",
       "})();\n",
       "});\n",
       "      </script>\n",
       "           "
      ]
     },
     "metadata": {},
     "output_type": "display_data"
    },
    {
     "data": {
      "text/plain": [
       "defined \u001b[32mfunction\u001b[39m \u001b[36mAnalisisEnergiasAnual\u001b[39m\n",
       "\u001b[36mEnergiasParaAnalizar\u001b[39m: \u001b[32mSeq\u001b[39m[\u001b[32mString\u001b[39m] = \u001b[33mList\u001b[39m(\n",
       "  \u001b[32m\"Hidr\\u00e1ulica\"\u001b[39m,\n",
       "  \u001b[32m\"Solar fotovoltaica\"\u001b[39m,\n",
       "  \u001b[32m\"Nuclear\"\u001b[39m,\n",
       "  \u001b[32m\"Ciclo combinado\"\u001b[39m,\n",
       "  \u001b[32m\"E\\u00f3lica\"\u001b[39m,\n",
       "  \u001b[32m\"Carb\\u00f3n\"\u001b[39m\n",
       ")"
      ]
     },
     "execution_count": 11,
     "metadata": {},
     "output_type": "execute_result"
    }
   ],
   "source": [
    "def AnalisisEnergiasAnual(listaEnergias: Seq[String], df: DataFrame): Unit = {\n",
    "\n",
    "  val valores = listaEnergias.map(tipoEnergia => df.filter(col(\"Tipo\") === tipoEnergia).orderBy(\"Año\"))                                 \n",
    "  val fechas = valores.head.select(\"Año\").as[String].collect.toSeq\n",
    "  val seqValores = valores.map(valor => valor.select(\"ValorAnual\").as[Double].collect.toSeq)\n",
    "\n",
    "  val traces = listaEnergias.zip(seqValores).map { case (nombre, seqValor) =>\n",
    "    Scatter(fechas, seqValor, name = nombre)\n",
    "  }\n",
    "  val layout = Layout(title = \"Crecimiento en la producción de las principales fuentes\")\n",
    "  val data = traces\n",
    "  plot(data, layout)\n",
    "}\n",
    "\n",
    "val EnergiasParaAnalizar = Seq(\"Hidráulica\", \"Solar fotovoltaica\", \"Nuclear\", \"Ciclo combinado\", \"Eólica\", \"Carbón\")\n",
    "AnalisisEnergiasAnual(EnergiasParaAnalizar, dfGeneracionAnual)"
   ]
  },
  {
   "cell_type": "code",
   "execution_count": 7,
   "metadata": {},
   "outputs": [
    {
     "data": {
      "text/html": [
       "<div>\n",
       "  <span style=\"float: left;\">show at cmd6.sc:1</span>\n",
       "</div>\n"
      ]
     },
     "metadata": {},
     "output_type": "display_data"
    },
    {
     "data": {
      "text/html": [
       "<div class=\"progress\">\n",
       "  <div class=\"progress-bar\" role=\"progressbar\" style=\"background-color: blue; width: 100%; word-wrap: normal; white-space: nowrap; text-align: center; color: white\" aria-valuenow=\"100\" aria-valuemin=\"0\" aria-valuemax=\"100\">\n",
       "    1 / 1\n",
       "  </div>\n",
       "  <div class=\"progress-bar\" role=\"progressbar\" style=\"background-color: red; width: 0%\" aria-valuenow=\"0\" aria-valuemin=\"0\" aria-valuemax=\"100\"></div>\n",
       "</div>\n"
      ]
     },
     "metadata": {},
     "output_type": "display_data"
    },
    {
     "name": "stdout",
     "output_type": "stream",
     "text": [
      "+----+------------+--------------------+---------+--------------+--------------------+---------------------------+-------------+--------------------+------------------------+\n",
      "| Año|     Familia|                Tipo|Compuesto|BajasEmisiones|          ValorAnual|PorcentajeAnualSobreFamilia|TotalGenerado|PorcentajeSobreTotal|PorcentajeBajasEmisiones|\n",
      "+----+------------+--------------------+---------+--------------+--------------------+---------------------------+-------------+--------------------+------------------------+\n",
      "|2011|   Renovable| Residuos renovables|    false|          true|   736055.7439999997|       0.009459560379872512|2.793538222E8|                0.26|                   50.71|\n",
      "|2011|No-Renovable|    Turbina de vapor|    false|         false|   2634295.117000001|       0.013977839024369875|2.793538222E8|                0.94|                   50.71|\n",
      "|2011|     Demanda|Saldo I. internac...|    false|         false|  -6090126.334000002|       0.023054055458754885|2.793538222E8|               -2.18|                   50.71|\n",
      "|2011|   Renovable|          Hidráulica|    false|          true|3.0437318139999997E7|          0.353651712693427|2.793538222E8|                10.9|                   50.71|\n",
      "|2011|No-Renovable|              Carbón|    false|         false| 4.317746437699999E7|          0.219277997213377|2.793538222E8|               15.46|                   50.71|\n",
      "|2011|No-Renovable|      Turbina de gas|    false|         false|   880242.2230000003|       0.004501197760453...|2.793538222E8|                0.32|                   50.71|\n",
      "|2011|No-Renovable|      Motores diésel|    false|         false|         3503397.878|       0.018612822588035986|2.793538222E8|                1.25|                   50.71|\n",
      "|2011|No-Renovable|  Turbinación bombeo|    false|         false|  2183536.2849999997|        0.01196169941128517|2.793538222E8|                0.78|                   50.71|\n",
      "|2011|   Renovable|              Eólica|    false|          true| 4.247725076900001E7|        0.46729178803185756|2.793538222E8|               15.21|                   50.71|\n",
      "|2011|No-Renovable|        Cogeneración|    false|         false| 3.059325172399998E7|        0.16220478545910286|2.793538222E8|               10.95|                   50.71|\n",
      "|2011|No-Renovable|Residuos no renov...|    false|         false|          1287770.48|       0.006858985122765094|2.793538222E8|                0.46|                   50.71|\n",
      "|2011|   Renovable|  Solar fotovoltaica|    false|          true|   7440752.380000002|        0.09726274943806447|2.793538222E8|                2.66|                   50.71|\n",
      "|2011|   Renovable|Generación renovable|     true|          true| 8.666705284999998E7|                        1.0|2.793538222E8|               31.02|                   50.71|\n",
      "|2011|   Renovable|       Solar térmica|    false|          true|  1861641.5490000006|       0.025228195392872164|2.793538222E8|                0.67|                   50.71|\n",
      "|2011|No-Renovable|     Ciclo combinado|    false|         false|5.3430948742000036E7|         0.2707201587685818|2.793538222E8|               19.13|                   50.71|\n",
      "|2011|     Demanda|     Demanda en b.c.|     true|         false|2.7002220096600026E8|                        1.0|2.793538222E8|               96.66|                   50.71|\n",
      "|2011|     Demanda|  Consumos en bombeo|    false|         false|  -3241494.899999998|       0.011438524787113028|2.793538222E8|               -1.16|                   50.71|\n",
      "|2011|   Renovable|    Otras renovables|    false|          true|         3714034.268|        0.04710599406390584|2.793538222E8|                1.33|                   50.71|\n",
      "|2011|No-Renovable|Generación no ren...|     true|         false| 1.926867693499999E8|                        1.0|2.793538222E8|               68.98|                   50.71|\n",
      "|2011|No-Renovable|             Nuclear|    false|          true| 5.500587486700001E7|        0.29182774181341176|2.793538222E8|               19.69|                   50.71|\n",
      "+----+------------+--------------------+---------+--------------+--------------------+---------------------------+-------------+--------------------+------------------------+\n",
      "only showing top 20 rows\n",
      "\n"
     ]
    }
   ],
   "source": [
    "dfGeneracionAnual.show()"
   ]
  },
  {
   "cell_type": "code",
   "execution_count": null,
   "metadata": {},
   "outputs": [],
   "source": []
  }
 ],
 "metadata": {
  "kernelspec": {
   "display_name": "Scala 2.12",
   "language": "scala",
   "name": "scala212"
  },
  "language_info": {
   "codemirror_mode": "text/x-scala",
   "file_extension": ".scala",
   "mimetype": "text/x-scala",
   "name": "scala",
   "nbconvert_exporter": "script",
   "version": "2.12.10"
  }
 },
 "nbformat": 4,
 "nbformat_minor": 4
}
