{
 "cells": [
  {
   "cell_type": "markdown",
   "metadata": {},
   "source": [
    "# Evolución de la generación segun la epoca del año"
   ]
  },
  {
   "cell_type": "code",
   "execution_count": 28,
   "metadata": {},
   "outputs": [
    {
     "data": {
      "text/html": [
       "Creating SparkSession\r\n"
      ]
     },
     "metadata": {},
     "output_type": "display_data"
    },
    {
     "data": {
      "text/html": [
       "<a target=\"_blank\" href=\"http://host.docker.internal:4042\">Spark UI</a>"
      ]
     },
     "metadata": {},
     "output_type": "display_data"
    },
    {
     "data": {
      "text/plain": [
       "\u001b[32mimport \u001b[39m\u001b[36m$ivy.$\u001b[39m\r\n",
       "\u001b[32mimport \u001b[39m\u001b[36morg.apache.spark.sql._\u001b[39m\r\n",
       "\u001b[32mimport \u001b[39m\u001b[36morg.apache.spark.sql.functions._\u001b[39m\r\n",
       "\u001b[32mimport \u001b[39m\u001b[36morg.apache.spark.sql.expressions.Window\u001b[39m\r\n",
       "\u001b[32mimport \u001b[39m\u001b[36morg.apache.log4j.{Level, Logger}\u001b[39m\r\n",
       "\u001b[32mimport \u001b[39m\u001b[36m$ivy.$\u001b[39m\r\n",
       "\u001b[32mimport \u001b[39m\u001b[36m$ivy.$\u001b[39m\r\n",
       "\u001b[32mimport \u001b[39m\u001b[36mplotly._, plotly.element._, plotly.layout._, plotly.Almond._\n",
       "\n",
       "\n",
       "//Iniciamos session de Spark\n",
       "\u001b[39m\r\n",
       "\u001b[36mspark\u001b[39m: \u001b[32mSparkSession\u001b[39m = org.apache.spark.sql.SparkSession@3574757a\r\n",
       "\u001b[32mimport \u001b[39m\u001b[36mspark.implicits._\u001b[39m"
      ]
     },
     "execution_count": 28,
     "metadata": {},
     "output_type": "execute_result"
    }
   ],
   "source": [
    "import $ivy.`org.apache.spark::spark-sql:2.4.3`\n",
    "\n",
    "\n",
    "import org.apache.spark.sql._\n",
    "import org.apache.spark.sql.functions._\n",
    "import org.apache.spark.sql.expressions.Window\n",
    "\n",
    "\n",
    "\n",
    "//Reducir numero logs\n",
    "import org.apache.log4j.{Level, Logger}\n",
    "Logger.getLogger(\"org\").setLevel(Level.OFF)\n",
    "\n",
    "\n",
    "//For adding extra dependenies\n",
    "import $ivy.`org.typelevel::cats-core:1.6.0`\n",
    "\n",
    "//Plotly\n",
    "import $ivy.`org.plotly-scala::plotly-almond:0.8.5`\n",
    "import plotly._, plotly.element._, plotly.layout._, plotly.Almond._\n",
    "\n",
    "\n",
    "//Iniciamos session de Spark\n",
    "val spark = {\n",
    "  NotebookSparkSession.builder()\n",
    "     .master(\"local[*]\")\n",
    "    //.config(\"spark.executor.instances\", \"4\") // Número de ejecutores\n",
    "    //.config(\"spark.executor.memory\", \"4g\") // Memoria por ejecutor\n",
    "    //.config(\"spark.executor.cores\", \"2\") // Núcleos por ejecutor\n",
    "    //.config(\"spark.driver.memory\", \"4g\") // Memoria del driver\n",
    "    //.config(\"spark.sql.shuffle.partitions\", \"8\") // Número de particiones para operaciones de shuffle\n",
    "    .getOrCreate()\n",
    "}\n",
    "import spark.implicits._"
   ]
  },
  {
   "cell_type": "code",
   "execution_count": 50,
   "metadata": {},
   "outputs": [
    {
     "data": {
      "text/html": []
     },
     "metadata": {},
     "output_type": "display_data"
    },
    {
     "data": {
      "text/html": []
     },
     "metadata": {},
     "output_type": "display_data"
    },
    {
     "data": {
      "text/html": []
     },
     "metadata": {},
     "output_type": "display_data"
    },
    {
     "data": {
      "text/html": []
     },
     "metadata": {},
     "output_type": "display_data"
    },
    {
     "data": {
      "text/plain": [
       "\u001b[36mdfBalance\u001b[39m: \u001b[32mDataFrame\u001b[39m = [Familia: string, Tipo: string ... 5 more fields]\r\n",
       "\u001b[36mdfDemanda\u001b[39m: \u001b[32mDataFrame\u001b[39m = [Fecha: timestamp, Valor_previsto: bigint ... 5 more fields]"
      ]
     },
     "execution_count": 50,
     "metadata": {},
     "output_type": "execute_result"
    }
   ],
   "source": [
    "val dfBalance: DataFrame = spark.read.parquet(\"../../data/parquet/dsBalanceNacional11-24.parquet\")\n",
    "\n",
    "val dfDemanda: DataFrame = spark.read.parquet(\"../../data/parquet/dsDemandaNacional14-24.parquet\")"
   ]
  },
  {
   "cell_type": "markdown",
   "metadata": {},
   "source": [
    "### Generación solar 2024"
   ]
  },
  {
   "cell_type": "code",
   "execution_count": 51,
   "metadata": {},
   "outputs": [
    {
     "data": {
      "text/html": []
     },
     "metadata": {},
     "output_type": "display_data"
    },
    {
     "data": {
      "text/html": []
     },
     "metadata": {},
     "output_type": "display_data"
    },
    {
     "name": "stdout",
     "output_type": "stream",
     "text": [
      "+---------+----------+---------+-------------------+----------+-------------------+--------------+\n",
      "|  Familia|      Tipo|Compuesto|         Porcentaje|     Valor|              Fecha|BajasEmisiones|\n",
      "+---------+----------+---------+-------------------+----------+-------------------+--------------+\n",
      "|Renovable|Hidráulica|    false| 0.2070493282098544| 73065.052|2014-01-01 01:00:00|          true|\n",
      "|Renovable|Hidráulica|    false|0.23631205453294465| 89171.545|2014-01-02 01:00:00|          true|\n",
      "|Renovable|Hidráulica|    false| 0.2735980903206654|102502.527|2014-01-03 01:00:00|          true|\n",
      "|Renovable|Hidráulica|    false|0.24018151631870316|106840.706|2014-01-04 01:00:00|          true|\n",
      "|Renovable|Hidráulica|    false|0.28984651129433686|117217.635|2014-01-05 01:00:00|          true|\n",
      "|Renovable|Hidráulica|    false| 0.3229806730258387|110841.694|2014-01-06 01:00:00|          true|\n",
      "|Renovable|Hidráulica|    false|0.40968176867979184| 137057.77|2014-01-07 01:00:00|          true|\n",
      "|Renovable|Hidráulica|    false| 0.4030920409555886|140921.275|2014-01-08 01:00:00|          true|\n",
      "|Renovable|Hidráulica|    false| 0.5488560654080734|145404.939|2014-01-09 01:00:00|          true|\n",
      "|Renovable|Hidráulica|    false| 0.5959363241216639|146323.349|2014-01-10 01:00:00|          true|\n",
      "|Renovable|Hidráulica|    false| 0.7178223002542007|148799.593|2014-01-11 01:00:00|          true|\n",
      "|Renovable|Hidráulica|    false| 0.4281795683708036|127057.432|2014-01-12 01:00:00|          true|\n",
      "|Renovable|Hidráulica|    false|0.37633334872672913|146286.975|2014-01-13 01:00:00|          true|\n",
      "|Renovable|Hidráulica|    false| 0.3015757985146716|134555.725|2014-01-14 01:00:00|          true|\n",
      "|Renovable|Hidráulica|    false| 0.3966742330031827| 142618.91|2014-01-15 01:00:00|          true|\n",
      "|Renovable|Hidráulica|    false| 0.3679510858563277|140457.456|2014-01-16 01:00:00|          true|\n",
      "|Renovable|Hidráulica|    false|0.37150001441121694|141433.915|2014-01-17 01:00:00|          true|\n",
      "|Renovable|Hidráulica|    false|  0.468368276902654|146938.396|2014-01-18 01:00:00|          true|\n",
      "|Renovable|Hidráulica|    false|0.38423803262476175|127720.689|2014-01-19 01:00:00|          true|\n",
      "|Renovable|Hidráulica|    false| 0.3368335938430425| 144555.38|2014-01-20 01:00:00|          true|\n",
      "+---------+----------+---------+-------------------+----------+-------------------+--------------+\n",
      "only showing top 20 rows\n",
      "\n"
     ]
    },
    {
     "data": {
      "text/html": []
     },
     "metadata": {},
     "output_type": "display_data"
    },
    {
     "data": {
      "text/html": []
     },
     "metadata": {},
     "output_type": "display_data"
    },
    {
     "name": "stdout",
     "output_type": "stream",
     "text": [
      "+-------------------+--------------+-------------------+----------------+---------------------+----------+-------------------+\n",
      "|              Fecha|Valor_previsto|Porcentaje_previsto|Valor_programado|Porcentaje_programado|Valor_real|    Porcentaje_real|\n",
      "+-------------------+--------------+-------------------+----------------+---------------------+----------+-------------------+\n",
      "|2023-01-31 14:55:00|         33015|0.33419712721051936|           33115|   0.3352093856603468|     32659|0.33059348712913383|\n",
      "|2023-01-03 12:40:00|         29249|0.33273420169501167|           29400|  0.33445196518969345|     29256|0.33281383311529494|\n",
      "|2023-01-21 05:30:00|         22130|0.33481095965021107|           21899|  0.33131609604066753|     22068|0.33387294430912146|\n",
      "|2023-01-29 15:05:00|         28091| 0.3345998999452081|           27890|   0.3322057317102223|     27973|0.33319436834456967|\n",
      "|2023-01-11 01:30:00|         25076| 0.3338747902963811|           24859|   0.3309855404361835|     25171| 0.3351396692674354|\n",
      "|2023-01-01 22:10:00|         24844|0.33381256298286865|           24809|  0.33334229089687606|     24772| 0.3328451461202553|\n",
      "|2023-01-28 14:50:00|         29728|0.33602730900089295|           29423|   0.3325797737060439|     29318| 0.3313929172930631|\n",
      "|2023-01-05 23:25:00|         26948|0.33535765842003085|           26452|  0.32918512618846135|     26956| 0.3354572153915078|\n",
      "|2023-01-23 02:25:00|         23286|0.33440560645661604|           23239|  0.33373064882097825|     23109| 0.3318637447224057|\n",
      "|2023-01-17 18:50:00|         32188|0.32834511532066385|           32910|  0.33571013250910425|     32933|0.33594475217023184|\n",
      "|2023-01-17 02:25:00|         24215| 0.3322813036020583|           24166|   0.3316089193825043|     24494|0.33610977701543737|\n",
      "|2023-01-01 22:50:00|         24334| 0.3332602919827988|           24309|  0.33291791065216797|     24375|0.33382179736503326|\n",
      "|2023-01-07 04:05:00|         19580|0.33472374179431075|           19293|  0.32981742341356673|     19623| 0.3354588347921225|\n",
      "|2023-01-18 15:45:00|         32831|0.33356362712725424|           32685|   0.3320802641605283|     32909|0.33435610871221744|\n",
      "|2023-01-08 02:30:00|         20985| 0.3298283666540928|           21112|  0.33182446875392935|     21527| 0.3383471645919779|\n",
      "|2023-01-31 02:55:00|         25018| 0.3343713663276353|           24999|  0.33411742692559576|     24804|  0.331511206746769|\n",
      "|2023-01-30 01:35:00|         25214|0.33466505621109355|           25031|   0.3322360998659428|     25096| 0.3330988439229636|\n",
      "|2023-01-12 14:40:00|         31253| 0.3350917259051969|           31094|  0.33338694286296333|     30920|0.33152133123183974|\n",
      "|2023-01-25 08:10:00|         31359| 0.3333156182904275|           31201|  0.33163623222295446|     31522|0.33504814948661804|\n",
      "|2023-01-17 19:35:00|         33661| 0.3312242929958869|           33785|   0.3324444531911125|     34180| 0.3363312538130006|\n",
      "+-------------------+--------------+-------------------+----------------+---------------------+----------+-------------------+\n",
      "only showing top 20 rows\n",
      "\n"
     ]
    }
   ],
   "source": [
    "dfBalance.show()\n",
    "dfDemanda.show()"
   ]
  },
  {
   "cell_type": "code",
   "execution_count": 70,
   "metadata": {},
   "outputs": [
    {
     "name": "stderr",
     "output_type": "stream",
     "text": [
      "cmd70.sc:29: method apply in object Font is deprecated (since 0.8.0): Use Font() and chain-call .with* methods on it instead\n",
      "    .withFont(Font(size = 12, color = Color.RGB(0, 0, 0)))\n",
      "              ^\n"
     ]
    },
    {
     "data": {
      "text/html": []
     },
     "metadata": {},
     "output_type": "display_data"
    },
    {
     "data": {
      "text/html": []
     },
     "metadata": {},
     "output_type": "display_data"
    },
    {
     "data": {
      "text/html": []
     },
     "metadata": {},
     "output_type": "display_data"
    },
    {
     "data": {
      "text/html": []
     },
     "metadata": {},
     "output_type": "display_data"
    },
    {
     "name": "stdout",
     "output_type": "stream",
     "text": [
      "+------+------------------+\n",
      "|Semana|  Producción Total|\n",
      "+------+------------------+\n",
      "|     1|100787.70710333335|\n",
      "|     2|111132.69199222547|\n",
      "|     3|113329.65220845482|\n",
      "|     4|112779.48270359573|\n",
      "|     5|110765.44068285575|\n",
      "|     6| 111896.5844509232|\n",
      "|     7|109264.26252623906|\n",
      "|     8|106920.51107479358|\n",
      "|     9|107917.81317687075|\n",
      "|    10|105550.01534839651|\n",
      "|    11|  103412.225838271|\n",
      "|    12|100718.88280300822|\n",
      "|    13| 98564.74592569208|\n",
      "|    14|  97518.4505621963|\n",
      "|    15| 96328.26435648375|\n",
      "|    16| 94846.58888586692|\n",
      "|    17| 95316.60509611649|\n",
      "|    18| 93134.66747013117|\n",
      "|    19| 95894.71588198154|\n",
      "|    20| 95512.05963737864|\n",
      "+------+------------------+\n",
      "only showing top 20 rows\n",
      "\n"
     ]
    },
    {
     "data": {
      "text/html": []
     },
     "metadata": {},
     "output_type": "display_data"
    },
    {
     "data": {
      "text/html": []
     },
     "metadata": {},
     "output_type": "display_data"
    },
    {
     "data": {
      "text/html": []
     },
     "metadata": {},
     "output_type": "display_data"
    },
    {
     "data": {
      "text/html": []
     },
     "metadata": {},
     "output_type": "display_data"
    },
    {
     "data": {
      "text/html": []
     },
     "metadata": {},
     "output_type": "display_data"
    },
    {
     "data": {
      "text/html": []
     },
     "metadata": {},
     "output_type": "display_data"
    },
    {
     "data": {
      "text/html": []
     },
     "metadata": {},
     "output_type": "display_data"
    },
    {
     "data": {
      "text/html": []
     },
     "metadata": {},
     "output_type": "display_data"
    },
    {
     "data": {
      "text/html": []
     },
     "metadata": {},
     "output_type": "display_data"
    },
    {
     "data": {
      "text/html": []
     },
     "metadata": {},
     "output_type": "display_data"
    },
    {
     "data": {
      "text/html": []
     },
     "metadata": {},
     "output_type": "display_data"
    },
    {
     "data": {
      "text/html": []
     },
     "metadata": {},
     "output_type": "display_data"
    },
    {
     "data": {
      "text/html": []
     },
     "metadata": {},
     "output_type": "display_data"
    },
    {
     "data": {
      "text/html": []
     },
     "metadata": {},
     "output_type": "display_data"
    },
    {
     "data": {
      "text/html": []
     },
     "metadata": {},
     "output_type": "display_data"
    },
    {
     "data": {
      "text/html": []
     },
     "metadata": {},
     "output_type": "display_data"
    },
    {
     "data": {
      "application/vnd.plotly.v1+json": {
       "config": {},
       "data": [
        {
         "name": "Producción semanal",
         "type": "scatter",
         "x": [
          1,
          2,
          3,
          4,
          5,
          6,
          7,
          8,
          9,
          10,
          11,
          12,
          13,
          14,
          15,
          16,
          17,
          18,
          19,
          20,
          21,
          22,
          23,
          24,
          25,
          26,
          27,
          28,
          29,
          30,
          31,
          32,
          33,
          34,
          35,
          36,
          37,
          38,
          39,
          40,
          41,
          42,
          43,
          44,
          45,
          46,
          47,
          48,
          49,
          50,
          51,
          52,
          53
         ],
         "y": [
          100787.70710333335,
          111132.69199222547,
          113329.65220845482,
          112779.48270359573,
          110765.44068285575,
          111896.5844509232,
          109264.26252623906,
          106920.51107479358,
          107917.81317687075,
          105550.01534839651,
          103412.225838271,
          100718.88280300822,
          98564.74592569208,
          97518.4505621963,
          96328.26435648375,
          94846.58888586692,
          95316.60509611649,
          93134.66747013117,
          95894.71588198154,
          95512.05963737864,
          95457.89701601943,
          95990.99656796115,
          98153.309893152,
          101041.60132054397,
          101306.27254536634,
          104030.35327135921,
          105795.23016698933,
          108745.41158131656,
          109114.5414876752,
          108353.23434786822,
          106980.2362173913,
          104337.35055905132,
          99273.00619178744,
          104054.80304741168,
          104098.60047167072,
          103862.3619656507,
          101066.36980116111,
          99638.31990917872,
          98167.03107640232,
          98019.51136332848,
          94834.2398287373,
          96704.54666812015,
          97430.08027780475,
          95522.26962585033,
          100159.77940233238,
          101223.59951677198,
          104321.88436284047,
          107287.50208799222,
          104478.42826433432,
          109054.75955733722,
          105854.32685034015,
          94296.56517285714,
          97583.04283673468
         ]
        }
       ],
       "layout": {
        "annotations": [
         {
          "font": {
           "color": "rgb(0, 0, 0)",
           "size": 12
          },
          "showarrow": false,
          "text": "Enero",
          "x": 1,
          "y": 118996.13481887756
         },
         {
          "font": {
           "color": "rgb(0, 0, 0)",
           "size": 12
          },
          "showarrow": false,
          "text": "Abril",
          "x": 14,
          "y": 118996.13481887756
         },
         {
          "font": {
           "color": "rgb(0, 0, 0)",
           "size": 12
          },
          "showarrow": false,
          "text": "Julio",
          "x": 27,
          "y": 118996.13481887756
         },
         {
          "font": {
           "color": "rgb(0, 0, 0)",
           "size": 12
          },
          "showarrow": false,
          "text": "Octubre",
          "x": 40,
          "y": 118996.13481887756
         }
        ],
        "autosize": true,
        "title": {
         "text": "Meida producción semanal"
        },
        "xaxis": {
         "autorange": true,
         "range": [
          0.1567567567567567,
          53
         ],
         "tickmode": "array",
         "title": {
          "text": "Semanas del año"
         },
         "type": "linear"
        },
        "yaxis": {
         "autorange": true,
         "range": [
          91693.47114729081,
          120517.39760409793
         ],
         "title": {
          "text": "Producción Total (MWh)"
         },
         "type": "linear"
        }
       }
      },
      "image/png": "[encoded data removed]",
      "text/html": [
       "<div class=\"chart\" id=\"plot-80d930b8-8a3c-43cf-ae5e-6da3a47c0652\"></div>\n",
       "<script>require(['plotly'], function(Plotly) {\n",
       "  (function () {\n",
       "  var data0 = {\"x\":[1.0,2.0,3.0,4.0,5.0,6.0,7.0,8.0,9.0,10.0,11.0,12.0,13.0,14.0,15.0,16.0,17.0,18.0,19.0,20.0,21.0,22.0,23.0,24.0,25.0,26.0,27.0,28.0,29.0,30.0,31.0,32.0,33.0,34.0,35.0,36.0,37.0,38.0,39.0,40.0,41.0,42.0,43.0,44.0,45.0,46.0,47.0,48.0,49.0,50.0,51.0,52.0,53.0],\"name\":\"Producción semanal\",\"y\":[100787.70710333335,111132.69199222547,113329.65220845482,112779.48270359573,110765.44068285575,111896.5844509232,109264.26252623906,106920.51107479358,107917.81317687075,105550.01534839651,103412.225838271,100718.88280300822,98564.74592569208,97518.4505621963,96328.26435648375,94846.58888586692,95316.60509611649,93134.66747013117,95894.71588198154,95512.05963737864,95457.89701601943,95990.99656796115,98153.309893152,101041.60132054397,101306.27254536634,104030.35327135921,105795.23016698933,108745.41158131656,109114.5414876752,108353.23434786822,106980.2362173913,104337.35055905132,99273.00619178744,104054.80304741168,104098.60047167072,103862.3619656507,101066.36980116111,99638.31990917872,98167.03107640232,98019.51136332848,94834.2398287373,96704.54666812015,97430.08027780475,95522.26962585033,100159.77940233238,101223.59951677198,104321.88436284047,107287.50208799222,104478.42826433432,109054.75955733722,105854.32685034015,94296.56517285714,97583.04283673468],\"type\":\"scatter\"};\n",
       "\n",
       "  var data = [data0];\n",
       "  var layout = {\"annotations\":[{\"x\":1.0,\"y\":118996.13481887756,\"text\":\"Enero\",\"font\":{\"color\":\"rgb(0, 0, 0)\",\"size\":12},\"showarrow\":false},{\"x\":14.0,\"y\":118996.13481887756,\"text\":\"Abril\",\"font\":{\"color\":\"rgb(0, 0, 0)\",\"size\":12},\"showarrow\":false},{\"x\":27.0,\"y\":118996.13481887756,\"text\":\"Julio\",\"font\":{\"color\":\"rgb(0, 0, 0)\",\"size\":12},\"showarrow\":false},{\"x\":40.0,\"y\":118996.13481887756,\"text\":\"Octubre\",\"font\":{\"color\":\"rgb(0, 0, 0)\",\"size\":12},\"showarrow\":false}],\"title\":\"Meida producción semanal\",\"yaxis\":{\"title\":\"Producción Total (MWh)\"},\"xaxis\":{\"tickmode\":\"array\",\"title\":\"Semanas del año\"}};\n",
       " var config = {};\n",
       "\n",
       "  Plotly.plot('plot-80d930b8-8a3c-43cf-ae5e-6da3a47c0652', data, layout, config);\n",
       "})();\n",
       "});\n",
       "      </script>\n",
       "           "
      ]
     },
     "metadata": {},
     "output_type": "display_data"
    },
    {
     "data": {
      "text/plain": [
       "defined \u001b[32mfunction\u001b[39m \u001b[36mproduccionSemanal\u001b[39m"
      ]
     },
     "execution_count": 70,
     "metadata": {},
     "output_type": "execute_result"
    }
   ],
   "source": [
    "def produccionSemanal(): Unit = {\n",
    "    \n",
    "// Filtrar los datos del año 2024 y del tipo \"Solar fotovoltaica\"\n",
    "  val dfFiltrado = dataFrameBalance\n",
    "    .withColumn(\"Semana\", weekofyear($\"Fecha\")) // Extraer el número de semana\n",
    "    .groupBy($\"Semana\")\n",
    "    .agg(avg(\"Valor\").as(\"Producción Total\")) // Sumar la producción por semana\n",
    "    .orderBy(\"Semana\")\n",
    "\n",
    "\n",
    "dfFiltrado.show()\n",
    "\n",
    "// Lista de meses en orden correcto\n",
    "val xSemanas = dfFiltrado.select(\"Semana\").as[Int].collect().toSeq\n",
    "val xMeses = Seq(\"Enero\", \"Abril\", \"Julio\", \"Octubre\")\n",
    "\n",
    "// Asegurar que todos los meses tengan valores (rellenar con 0 si faltan datos)\n",
    "val yDatos =  dfFiltrado.select(\"Producción Total\").as[Double].collect().toSeq\n",
    "\n",
    "val traceSolar = Scatter(xSemanas, yDatos)\n",
    "    .withName(\"Producción semanal\")\n",
    "\n",
    "val anotaciones = posicionesMeses.zip(nombresMeses).map { case (pos, mes) =>\n",
    "  Annotation()\n",
    "    .withX(pos)\n",
    "    .withY(yDatos.max * 1.05) // Ubicar arriba del gráfico\n",
    "    .withText(mes)\n",
    "    .withShowarrow(false)\n",
    "    .withFont(Font(size = 12, color = Color.RGB(0, 0, 0)))\n",
    "}\n",
    "// Crear la traza para la gráfica\n",
    "val data = Seq(traceSolar)\n",
    "\n",
    "// Configuración del diseño del gráfico\n",
    "val lay = Layout()\n",
    "    .withTitle(\"Meida producción semanal\")\n",
    "    .withXaxis(Axis().withTitle(\"Semanas del año\").withTickmode(TickMode.Array))\n",
    "    .withYaxis(Axis().withTitle(\"Producción Total (MWh)\"))\n",
    "    .withAnnotations(anotaciones)\n",
    "\n",
    "\n",
    "// Renderizar el gráfico\n",
    "plot(data, lay)\n",
    "\n",
    "    \n",
    "}\n",
    "produccionSemanal"
   ]
  },
  {
   "cell_type": "code",
   "execution_count": 71,
   "metadata": {},
   "outputs": [
    {
     "data": {
      "text/html": []
     },
     "metadata": {},
     "output_type": "display_data"
    },
    {
     "data": {
      "text/html": []
     },
     "metadata": {},
     "output_type": "display_data"
    },
    {
     "name": "stdout",
     "output_type": "stream",
     "text": [
      "+-------------------+--------------+-------------------+----------------+---------------------+----------+-------------------+\n",
      "|              Fecha|Valor_previsto|Porcentaje_previsto|Valor_programado|Porcentaje_programado|Valor_real|    Porcentaje_real|\n",
      "+-------------------+--------------+-------------------+----------------+---------------------+----------+-------------------+\n",
      "|2023-01-31 14:55:00|         33015|0.33419712721051936|           33115|   0.3352093856603468|     32659|0.33059348712913383|\n",
      "|2023-01-03 12:40:00|         29249|0.33273420169501167|           29400|  0.33445196518969345|     29256|0.33281383311529494|\n",
      "|2023-01-21 05:30:00|         22130|0.33481095965021107|           21899|  0.33131609604066753|     22068|0.33387294430912146|\n",
      "|2023-01-29 15:05:00|         28091| 0.3345998999452081|           27890|   0.3322057317102223|     27973|0.33319436834456967|\n",
      "|2023-01-11 01:30:00|         25076| 0.3338747902963811|           24859|   0.3309855404361835|     25171| 0.3351396692674354|\n",
      "|2023-01-01 22:10:00|         24844|0.33381256298286865|           24809|  0.33334229089687606|     24772| 0.3328451461202553|\n",
      "|2023-01-28 14:50:00|         29728|0.33602730900089295|           29423|   0.3325797737060439|     29318| 0.3313929172930631|\n",
      "|2023-01-05 23:25:00|         26948|0.33535765842003085|           26452|  0.32918512618846135|     26956| 0.3354572153915078|\n",
      "|2023-01-23 02:25:00|         23286|0.33440560645661604|           23239|  0.33373064882097825|     23109| 0.3318637447224057|\n",
      "|2023-01-17 18:50:00|         32188|0.32834511532066385|           32910|  0.33571013250910425|     32933|0.33594475217023184|\n",
      "|2023-01-17 02:25:00|         24215| 0.3322813036020583|           24166|   0.3316089193825043|     24494|0.33610977701543737|\n",
      "|2023-01-01 22:50:00|         24334| 0.3332602919827988|           24309|  0.33291791065216797|     24375|0.33382179736503326|\n",
      "|2023-01-07 04:05:00|         19580|0.33472374179431075|           19293|  0.32981742341356673|     19623| 0.3354588347921225|\n",
      "|2023-01-18 15:45:00|         32831|0.33356362712725424|           32685|   0.3320802641605283|     32909|0.33435610871221744|\n",
      "|2023-01-08 02:30:00|         20985| 0.3298283666540928|           21112|  0.33182446875392935|     21527| 0.3383471645919779|\n",
      "|2023-01-31 02:55:00|         25018| 0.3343713663276353|           24999|  0.33411742692559576|     24804|  0.331511206746769|\n",
      "|2023-01-30 01:35:00|         25214|0.33466505621109355|           25031|   0.3322360998659428|     25096| 0.3330988439229636|\n",
      "|2023-01-12 14:40:00|         31253| 0.3350917259051969|           31094|  0.33338694286296333|     30920|0.33152133123183974|\n",
      "|2023-01-25 08:10:00|         31359| 0.3333156182904275|           31201|  0.33163623222295446|     31522|0.33504814948661804|\n",
      "|2023-01-17 19:35:00|         33661| 0.3312242929958869|           33785|   0.3324444531911125|     34180| 0.3363312538130006|\n",
      "+-------------------+--------------+-------------------+----------------+---------------------+----------+-------------------+\n",
      "only showing top 20 rows\n",
      "\n"
     ]
    }
   ],
   "source": [
    "dfDemanda.show()"
   ]
  },
  {
   "cell_type": "code",
   "execution_count": 80,
   "metadata": {},
   "outputs": [
    {
     "name": "stderr",
     "output_type": "stream",
     "text": [
      "cmd80.sc:25: method apply in object Scatter is deprecated (since 0.8.0): Use Scatter() and chain-call .with* methods on it instead\n",
      "    val trace1 = Scatter(seqHoras, seqDemanda1, name = \"Demanda Junio\")\n",
      "                 ^\n",
      "cmd80.sc:26: method apply in object Scatter is deprecated (since 0.8.0): Use Scatter() and chain-call .with* methods on it instead\n",
      "    val trace2 = Scatter(seqHoras, seqDemanda2, name = \"Demanda Diciembre\")\n",
      "                 ^\n"
     ]
    },
    {
     "data": {
      "text/html": []
     },
     "metadata": {},
     "output_type": "display_data"
    },
    {
     "data": {
      "text/html": []
     },
     "metadata": {},
     "output_type": "display_data"
    },
    {
     "data": {
      "text/html": []
     },
     "metadata": {},
     "output_type": "display_data"
    },
    {
     "data": {
      "text/html": []
     },
     "metadata": {},
     "output_type": "display_data"
    },
    {
     "data": {
      "text/html": []
     },
     "metadata": {},
     "output_type": "display_data"
    },
    {
     "data": {
      "text/html": []
     },
     "metadata": {},
     "output_type": "display_data"
    },
    {
     "data": {
      "text/html": []
     },
     "metadata": {},
     "output_type": "display_data"
    },
    {
     "data": {
      "text/html": []
     },
     "metadata": {},
     "output_type": "display_data"
    },
    {
     "data": {
      "text/html": []
     },
     "metadata": {},
     "output_type": "display_data"
    },
    {
     "data": {
      "text/html": []
     },
     "metadata": {},
     "output_type": "display_data"
    },
    {
     "data": {
      "text/html": []
     },
     "metadata": {},
     "output_type": "display_data"
    },
    {
     "data": {
      "text/html": []
     },
     "metadata": {},
     "output_type": "display_data"
    },
    {
     "data": {
      "text/html": []
     },
     "metadata": {},
     "output_type": "display_data"
    },
    {
     "data": {
      "text/html": []
     },
     "metadata": {},
     "output_type": "display_data"
    },
    {
     "data": {
      "text/html": []
     },
     "metadata": {},
     "output_type": "display_data"
    },
    {
     "data": {
      "text/html": []
     },
     "metadata": {},
     "output_type": "display_data"
    },
    {
     "data": {
      "text/html": []
     },
     "metadata": {},
     "output_type": "display_data"
    },
    {
     "data": {
      "text/html": []
     },
     "metadata": {},
     "output_type": "display_data"
    },
    {
     "data": {
      "text/html": []
     },
     "metadata": {},
     "output_type": "display_data"
    },
    {
     "data": {
      "text/html": []
     },
     "metadata": {},
     "output_type": "display_data"
    },
    {
     "data": {
      "text/html": []
     },
     "metadata": {},
     "output_type": "display_data"
    },
    {
     "data": {
      "text/html": []
     },
     "metadata": {},
     "output_type": "display_data"
    },
    {
     "data": {
      "text/html": []
     },
     "metadata": {},
     "output_type": "display_data"
    },
    {
     "data": {
      "text/html": []
     },
     "metadata": {},
     "output_type": "display_data"
    },
    {
     "data": {
      "application/vnd.plotly.v1+json": {
       "config": {},
       "data": [
        {
         "name": "Demanda Junio",
         "type": "scatter",
         "x": [
          "00",
          "01",
          "02",
          "03",
          "04",
          "05",
          "06",
          "07",
          "08",
          "09",
          "10",
          "11",
          "12",
          "13",
          "14",
          "15",
          "16",
          "17",
          "18",
          "19",
          "20",
          "21",
          "22",
          "23"
         ],
         "y": [
          26871.217857142856,
          25439.678174603174,
          24057.915476190476,
          23009.71626984127,
          22476.481349206348,
          22236.7373015873,
          22408.95357142857,
          23521.196031746033,
          25106.267063492065,
          26822.120634920633,
          28214.768253968254,
          29173.268650793652,
          29701.56746031746,
          30212.944047619047,
          30587.775396825396,
          30184.597619047618,
          29392.638095238097,
          29091.23492063492,
          29116.711507936507,
          29020.325396825396,
          29028.310317460317,
          29135.946428571428,
          29303.41746031746,
          28939.951984126983
         ]
        },
        {
         "name": "Demanda Diciembre",
         "type": "scatter",
         "x": [
          "00",
          "01",
          "02",
          "03",
          "04",
          "05",
          "06",
          "07",
          "08",
          "09",
          "10",
          "11",
          "12",
          "13",
          "14",
          "15",
          "16",
          "17",
          "18",
          "19",
          "20",
          "21",
          "22",
          "23"
         ],
         "y": [
          27402.6729480737,
          25316.166666666668,
          23452.136934673366,
          22189.319095477385,
          21555.311976549412,
          21342.4581239531,
          21707.2324120603,
          23398.93592964824,
          26266.603852596316,
          28301.551088777218,
          29673.167922948072,
          30586.62227805695,
          30631.42378559464,
          30379.80150753769,
          30438.183835845895,
          29999.41164154104,
          29278.049832495813,
          29032.367252931323,
          29610.41164154104,
          31491.903685092126,
          32128.85510887772,
          32454.80067001675,
          31965.1310720268,
          29812.51823899371
         ]
        }
       ],
       "layout": {
        "autosize": true,
        "title": {
         "text": "Demanda Histórica Promedio por Hora (Junio vs Diciembre)"
        },
        "xaxis": {
         "autorange": true,
         "range": [
          0,
          23
         ],
         "tickmode": "array",
         "ticktext": [
          "00:00",
          "01:00",
          "02:00",
          "03:00",
          "04:00",
          "05:00",
          "06:00",
          "07:00",
          "08:00",
          "09:00",
          "10:00",
          "11:00",
          "12:00",
          "13:00",
          "14:00",
          "15:00",
          "16:00",
          "17:00",
          "18:00",
          "19:00",
          "20:00",
          "21:00",
          "22:00",
          "23:00"
         ],
         "tickvals": [
          0,
          1,
          2,
          3,
          4,
          5,
          6,
          7,
          8,
          9,
          10,
          11,
          12,
          13,
          14,
          15,
          16,
          17,
          18,
          19,
          20,
          21,
          22,
          23
         ],
         "title": {
          "text": "Horas"
         },
         "type": "linear"
        },
        "yaxis": {
         "autorange": true,
         "range": [
          20725.1057602829,
          33072.153033686955
         ],
         "title": {
          "text": "Demanda Promedio (MW)"
         },
         "type": "linear"
        }
       }
      },
      "image/png": "[encoded data removed]",
      "text/html": [
       "<div class=\"chart\" id=\"plot-415daa9c-9595-4328-a461-c2137c6d7792\"></div>\n",
       "<script>require(['plotly'], function(Plotly) {\n",
       "  (function () {\n",
       "  var data0 = {\"x\":[\"00\",\"01\",\"02\",\"03\",\"04\",\"05\",\"06\",\"07\",\"08\",\"09\",\"10\",\"11\",\"12\",\"13\",\"14\",\"15\",\"16\",\"17\",\"18\",\"19\",\"20\",\"21\",\"22\",\"23\"],\"name\":\"Demanda Junio\",\"y\":[26871.217857142856,25439.678174603174,24057.915476190476,23009.71626984127,22476.481349206348,22236.7373015873,22408.95357142857,23521.196031746033,25106.267063492065,26822.120634920633,28214.768253968254,29173.268650793652,29701.56746031746,30212.944047619047,30587.775396825396,30184.597619047618,29392.638095238097,29091.23492063492,29116.711507936507,29020.325396825396,29028.310317460317,29135.946428571428,29303.41746031746,28939.951984126983],\"type\":\"scatter\"};\n",
       "  var data1 = {\"x\":[\"00\",\"01\",\"02\",\"03\",\"04\",\"05\",\"06\",\"07\",\"08\",\"09\",\"10\",\"11\",\"12\",\"13\",\"14\",\"15\",\"16\",\"17\",\"18\",\"19\",\"20\",\"21\",\"22\",\"23\"],\"name\":\"Demanda Diciembre\",\"y\":[27402.6729480737,25316.166666666668,23452.136934673366,22189.319095477385,21555.311976549412,21342.4581239531,21707.2324120603,23398.93592964824,26266.603852596316,28301.551088777218,29673.167922948072,30586.62227805695,30631.42378559464,30379.80150753769,30438.183835845895,29999.41164154104,29278.049832495813,29032.367252931323,29610.41164154104,31491.903685092126,32128.85510887772,32454.80067001675,31965.1310720268,29812.51823899371],\"type\":\"scatter\"};\n",
       "\n",
       "  var data = [data0, data1];\n",
       "  var layout = {\"title\":\"Demanda Histórica Promedio por Hora (Junio vs Diciembre)\",\"yaxis\":{\"title\":\"Demanda Promedio (MW)\"},\"xaxis\":{\"tickvals\":[0.0,1.0,2.0,3.0,4.0,5.0,6.0,7.0,8.0,9.0,10.0,11.0,12.0,13.0,14.0,15.0,16.0,17.0,18.0,19.0,20.0,21.0,22.0,23.0],\"tickmode\":\"array\",\"ticktext\":[\"00:00\",\"01:00\",\"02:00\",\"03:00\",\"04:00\",\"05:00\",\"06:00\",\"07:00\",\"08:00\",\"09:00\",\"10:00\",\"11:00\",\"12:00\",\"13:00\",\"14:00\",\"15:00\",\"16:00\",\"17:00\",\"18:00\",\"19:00\",\"20:00\",\"21:00\",\"22:00\",\"23:00\"],\"title\":\"Horas\"}};\n",
       " var config = {};\n",
       "\n",
       "  Plotly.plot('plot-415daa9c-9595-4328-a461-c2137c6d7792', data, layout, config);\n",
       "})();\n",
       "});\n",
       "      </script>\n",
       "           "
      ]
     },
     "metadata": {},
     "output_type": "display_data"
    },
    {
     "data": {
      "text/plain": [
       "defined \u001b[32mfunction\u001b[39m \u001b[36mdemandaHistoricoPromedioPorHora\u001b[39m"
      ]
     },
     "execution_count": 80,
     "metadata": {},
     "output_type": "execute_result"
    }
   ],
   "source": [
    "def demandaHistoricoPromedioPorHora(dfDemanda: DataFrame): Unit = {\n",
    "    val junio = 6\n",
    "    val diciembre = 12\n",
    "    \n",
    "    val todasLasHoras = (0 to 23).map(h => f\"$h%02d:00\") // [\"00:00\", \"01:00\", ..., \"23:00\"]\n",
    "\n",
    "    val df1 = dfDemanda\n",
    "        .filter(month($\"Fecha\") === junio)\n",
    "        .select(\"Valor_real\", \"Fecha\")\n",
    "        .groupBy(date_format(col(\"Fecha\"), \"HH\").as(\"Hora\"))\n",
    "        .agg(avg(\"Valor_real\").as(\"PromedioPorHora\"))\n",
    "        .orderBy(col(\"Hora\"))\n",
    "    \n",
    "     val df2 = dfDemanda\n",
    "        .filter(month($\"Fecha\") === diciembre)\n",
    "        .select(\"Valor_real\", \"Fecha\")\n",
    "        .groupBy(date_format(col(\"Fecha\"), \"HH\").as(\"Hora\"))\n",
    "        .agg(avg(\"Valor_real\").as(\"PromedioPorHora\"))\n",
    "        .orderBy(col(\"Hora\"))\n",
    "\n",
    "    val seqDemanda1 = df1.select(\"PromedioPorHora\").as[Double].collect.toSeq\n",
    "    val seqDemanda2 = df2.select(\"PromedioPorHora\").as[Double].collect.toSeq\n",
    "    val seqHoras = df1.select(\"Hora\").as[String].collect.toSeq\n",
    "\n",
    "    val trace1 = Scatter(seqHoras, seqDemanda1, name = \"Demanda Junio\")\n",
    "    val trace2 = Scatter(seqHoras, seqDemanda2, name = \"Demanda Diciembre\")\n",
    "\n",
    "    val data = Seq(trace1, trace2)\n",
    "    \n",
    "    val layout = Layout()\n",
    "        .withTitle(\"Demanda Histórica Promedio por Hora (Junio vs Diciembre)\")\n",
    "        .withXaxis(\n",
    "                Axis()\n",
    "                .withTitle(\"Horas\")\n",
    "                .withTickmode(TickMode.Array)\n",
    "                .withTickvals((0 to 23))\n",
    "                .withTicktext(todasLasHoras)\n",
    "        )\n",
    "        .withYaxis(Axis().withTitle(\"Demanda Promedio (MW)\"))\n",
    "        \n",
    "    \n",
    "    plot(data, layout)\n",
    "}\n",
    "\n",
    "// Ejemplo de uso\n",
    "demandaHistoricoPromedioPorHora(dfDemanda)"
   ]
  },
  {
   "cell_type": "code",
   "execution_count": 78,
   "metadata": {},
   "outputs": [
    {
     "data": {
      "text/plain": [
       "\u001b[36mtodasLasHoras\u001b[39m: \u001b[32mcollection\u001b[39m.\u001b[32mimmutable\u001b[39m.\u001b[32mIndexedSeq\u001b[39m[\u001b[32mString\u001b[39m] = \u001b[33mVector\u001b[39m(\n",
       "  \u001b[32m\"00:00\"\u001b[39m,\n",
       "  \u001b[32m\"01:00\"\u001b[39m,\n",
       "  \u001b[32m\"02:00\"\u001b[39m,\n",
       "  \u001b[32m\"03:00\"\u001b[39m,\n",
       "  \u001b[32m\"04:00\"\u001b[39m,\n",
       "  \u001b[32m\"05:00\"\u001b[39m,\n",
       "  \u001b[32m\"06:00\"\u001b[39m,\n",
       "  \u001b[32m\"07:00\"\u001b[39m,\n",
       "  \u001b[32m\"08:00\"\u001b[39m,\n",
       "  \u001b[32m\"09:00\"\u001b[39m,\n",
       "  \u001b[32m\"10:00\"\u001b[39m,\n",
       "  \u001b[32m\"11:00\"\u001b[39m,\n",
       "  \u001b[32m\"12:00\"\u001b[39m,\n",
       "  \u001b[32m\"13:00\"\u001b[39m,\n",
       "  \u001b[32m\"14:00\"\u001b[39m,\n",
       "  \u001b[32m\"15:00\"\u001b[39m,\n",
       "  \u001b[32m\"16:00\"\u001b[39m,\n",
       "  \u001b[32m\"17:00\"\u001b[39m,\n",
       "  \u001b[32m\"18:00\"\u001b[39m,\n",
       "  \u001b[32m\"19:00\"\u001b[39m,\n",
       "  \u001b[32m\"20:00\"\u001b[39m,\n",
       "  \u001b[32m\"21:00\"\u001b[39m,\n",
       "  \u001b[32m\"22:00\"\u001b[39m,\n",
       "  \u001b[32m\"23:00\"\u001b[39m\n",
       ")"
      ]
     },
     "execution_count": 78,
     "metadata": {},
     "output_type": "execute_result"
    }
   ],
   "source": [
    " val todasLasHoras = (0 to 23).map(h => f\"$h%02d:00\") // [\"00:00\", \"01:00\", ..., \"23:00\"]"
   ]
  },
  {
   "cell_type": "code",
   "execution_count": 81,
   "metadata": {},
   "outputs": [
    {
     "data": {
      "text/html": []
     },
     "metadata": {},
     "output_type": "display_data"
    },
    {
     "data": {
      "text/html": []
     },
     "metadata": {},
     "output_type": "display_data"
    },
    {
     "name": "stdout",
     "output_type": "stream",
     "text": [
      "+---------+----------+---------+-------------------+----------+-------------------+--------------+\n",
      "|  Familia|      Tipo|Compuesto|         Porcentaje|     Valor|              Fecha|BajasEmisiones|\n",
      "+---------+----------+---------+-------------------+----------+-------------------+--------------+\n",
      "|Renovable|Hidráulica|    false| 0.2070493282098544| 73065.052|2014-01-01 01:00:00|          true|\n",
      "|Renovable|Hidráulica|    false|0.23631205453294465| 89171.545|2014-01-02 01:00:00|          true|\n",
      "|Renovable|Hidráulica|    false| 0.2735980903206654|102502.527|2014-01-03 01:00:00|          true|\n",
      "|Renovable|Hidráulica|    false|0.24018151631870316|106840.706|2014-01-04 01:00:00|          true|\n",
      "|Renovable|Hidráulica|    false|0.28984651129433686|117217.635|2014-01-05 01:00:00|          true|\n",
      "|Renovable|Hidráulica|    false| 0.3229806730258387|110841.694|2014-01-06 01:00:00|          true|\n",
      "|Renovable|Hidráulica|    false|0.40968176867979184| 137057.77|2014-01-07 01:00:00|          true|\n",
      "|Renovable|Hidráulica|    false| 0.4030920409555886|140921.275|2014-01-08 01:00:00|          true|\n",
      "|Renovable|Hidráulica|    false| 0.5488560654080734|145404.939|2014-01-09 01:00:00|          true|\n",
      "|Renovable|Hidráulica|    false| 0.5959363241216639|146323.349|2014-01-10 01:00:00|          true|\n",
      "|Renovable|Hidráulica|    false| 0.7178223002542007|148799.593|2014-01-11 01:00:00|          true|\n",
      "|Renovable|Hidráulica|    false| 0.4281795683708036|127057.432|2014-01-12 01:00:00|          true|\n",
      "|Renovable|Hidráulica|    false|0.37633334872672913|146286.975|2014-01-13 01:00:00|          true|\n",
      "|Renovable|Hidráulica|    false| 0.3015757985146716|134555.725|2014-01-14 01:00:00|          true|\n",
      "|Renovable|Hidráulica|    false| 0.3966742330031827| 142618.91|2014-01-15 01:00:00|          true|\n",
      "|Renovable|Hidráulica|    false| 0.3679510858563277|140457.456|2014-01-16 01:00:00|          true|\n",
      "|Renovable|Hidráulica|    false|0.37150001441121694|141433.915|2014-01-17 01:00:00|          true|\n",
      "|Renovable|Hidráulica|    false|  0.468368276902654|146938.396|2014-01-18 01:00:00|          true|\n",
      "|Renovable|Hidráulica|    false|0.38423803262476175|127720.689|2014-01-19 01:00:00|          true|\n",
      "|Renovable|Hidráulica|    false| 0.3368335938430425| 144555.38|2014-01-20 01:00:00|          true|\n",
      "+---------+----------+---------+-------------------+----------+-------------------+--------------+\n",
      "only showing top 20 rows\n",
      "\n"
     ]
    }
   ],
   "source": [
    "dfBalance.show()"
   ]
  },
  {
   "cell_type": "code",
   "execution_count": null,
   "metadata": {},
   "outputs": [],
   "source": []
  }
 ],
 "metadata": {
  "kernelspec": {
   "display_name": "Scala (2.12)",
   "language": "scala",
   "name": "scala212"
  },
  "language_info": {
   "codemirror_mode": "text/x-scala",
   "file_extension": ".sc",
   "mimetype": "text/x-scala",
   "name": "scala",
   "nbconvert_exporter": "script",
   "version": "2.12.19"
  }
 },
 "nbformat": 4,
 "nbformat_minor": 4
}
