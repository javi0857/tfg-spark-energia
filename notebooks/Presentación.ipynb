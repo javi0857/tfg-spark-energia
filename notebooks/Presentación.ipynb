{
 "cells": [
  {
   "cell_type": "markdown",
   "id": "7542e60c-f7ce-4e23-95b9-07ac9423c40f",
   "metadata": {},
   "source": [
    "# Presentación"
   ]
  },
  {
   "cell_type": "markdown",
   "id": "beefe1ae-3ee1-4646-a3de-4f3f7384495f",
   "metadata": {},
   "source": [
    "#### Algunos imports necesarios"
   ]
  },
  {
   "cell_type": "code",
   "execution_count": 1,
   "id": "33b9dc67-79a1-4588-b5b2-d783509e8b80",
   "metadata": {},
   "outputs": [
    {
     "data": {
      "text/html": [
       "Loading <code>spark-stubs</code>"
      ]
     },
     "metadata": {},
     "output_type": "display_data"
    },
    {
     "data": {
      "text/html": [
       "Creating SparkSession\r\n"
      ]
     },
     "metadata": {},
     "output_type": "display_data"
    },
    {
     "name": "stderr",
     "output_type": "stream",
     "text": [
      "Using Spark's default log4j profile: org/apache/spark/log4j-defaults.properties\n"
     ]
    },
    {
     "data": {
      "text/html": [
       "<a target=\"_blank\" href=\"http://JAVITOP.mshome.net:4040\">Spark UI</a>"
      ]
     },
     "metadata": {},
     "output_type": "display_data"
    },
    {
     "data": {
      "text/plain": [
       "\u001b[32mimport \u001b[39m\u001b[36m$ivy.$\u001b[39m\r\n",
       "\u001b[32mimport \u001b[39m\u001b[36morg.apache.spark.sql._\u001b[39m\r\n",
       "\u001b[32mimport \u001b[39m\u001b[36morg.apache.spark.sql.functions._\u001b[39m\r\n",
       "\u001b[32mimport \u001b[39m\u001b[36morg.apache.spark.sql.expressions.Window\u001b[39m\r\n",
       "\u001b[32mimport \u001b[39m\u001b[36morg.apache.log4j.{Level, Logger}\u001b[39m\r\n",
       "\u001b[32mimport \u001b[39m\u001b[36m$ivy.$\u001b[39m\r\n",
       "\u001b[32mimport \u001b[39m\u001b[36msttp.client.quick.{quickRequest, UriContext, backend}\u001b[39m\r\n",
       "\u001b[32mimport \u001b[39m\u001b[36msttp.client.asynchttpclient.monix._\u001b[39m\r\n",
       "\u001b[32mimport \u001b[39m\u001b[36msttp.client.basicRequest\u001b[39m\r\n",
       "\u001b[32mimport \u001b[39m\u001b[36m$ivy.$\u001b[39m\r\n",
       "\u001b[32mimport \u001b[39m\u001b[36m$ivy.$\u001b[39m\r\n",
       "\u001b[32mimport \u001b[39m\u001b[36mplotly._, plotly.element._, plotly.layout._, plotly.Almond._\n",
       "\n",
       "\n",
       "//Iniciamos session de Spark\n",
       "\u001b[39m\r\n",
       "\u001b[36mspark\u001b[39m: \u001b[32mSparkSession\u001b[39m = org.apache.spark.sql.SparkSession@498b63e0\r\n",
       "\u001b[32mimport \u001b[39m\u001b[36mspark.implicits._\u001b[39m"
      ]
     },
     "execution_count": 1,
     "metadata": {},
     "output_type": "execute_result"
    }
   ],
   "source": [
    "import $ivy.`org.apache.spark::spark-sql:2.4.3`\n",
    "\n",
    "\n",
    "import org.apache.spark.sql._\n",
    "import org.apache.spark.sql.functions._\n",
    "import org.apache.spark.sql.expressions.Window\n",
    "\n",
    "\n",
    "\n",
    "//Reducir numero logs\n",
    "import org.apache.log4j.{Level, Logger}\n",
    "Logger.getLogger(\"org\").setLevel(Level.OFF)\n",
    "\n",
    "\n",
    "//Sttp para realizar request\n",
    "import $ivy.`com.softwaremill.sttp.client::async-http-client-backend-monix:2.0.0-RC2`\n",
    "import sttp.client.quick.{quickRequest, UriContext, backend}\n",
    "import sttp.client.asynchttpclient.monix._\n",
    "import sttp.client.basicRequest\n",
    "\n",
    "\n",
    "//For adding extra dependenies\n",
    "import $ivy.`org.typelevel::cats-core:1.6.0`\n",
    "\n",
    "//Plotly\n",
    "import $ivy.`org.plotly-scala::plotly-almond:0.8.3`\n",
    "import plotly._, plotly.element._, plotly.layout._, plotly.Almond._\n",
    "\n",
    "\n",
    "//Iniciamos session de Spark\n",
    "val spark = {\n",
    "  NotebookSparkSession.builder()\n",
    "     .master(\"local[*]\")\n",
    "    //.config(\"spark.executor.instances\", \"4\") // Número de ejecutores\n",
    "    //.config(\"spark.executor.memory\", \"4g\") // Memoria por ejecutor\n",
    "    //.config(\"spark.executor.cores\", \"2\") // Núcleos por ejecutor\n",
    "    //.config(\"spark.driver.memory\", \"4g\") // Memoria del driver\n",
    "    //.config(\"spark.sql.shuffle.partitions\", \"8\") // Número de particiones para operaciones de shuffle\n",
    "    .getOrCreate()\n",
    "}\n",
    "import spark.implicits._"
   ]
  },
  {
   "cell_type": "markdown",
   "id": "cbed8084-1a5d-4941-a6f8-9dc0338ad927",
   "metadata": {
    "tags": []
   },
   "source": [
    "## Proceso ETL: Extracción, Transformación y Carga de los datos.\n",
    "\n",
    "Proceso aplicado a los datos obtenidos desde la API, preparandolos para su posterior analisis y visualización."
   ]
  },
  {
   "cell_type": "markdown",
   "id": "ac9ed3d2-a8cc-4046-ae8d-217b38e19e25",
   "metadata": {
    "tags": []
   },
   "source": [
    "### Extracción"
   ]
  },
  {
   "cell_type": "markdown",
   "id": "2efb45fb-c147-47f5-88a3-6e3c17ef527c",
   "metadata": {},
   "source": [
    "##### Creación URI\n",
    "El codigo que vemos en la siguiente celda construye una URL para hacer la llamada a la API de REE. La función tiene varios parámetros, algunos obligatorios y otros opcionales."
   ]
  },
  {
   "cell_type": "code",
   "execution_count": 2,
   "id": "85ac9a51-2481-4731-9cce-38b5abcfb99c",
   "metadata": {},
   "outputs": [
    {
     "data": {
      "text/plain": [
       "defined \u001b[32mfunction\u001b[39m \u001b[36mcreateUri\u001b[39m"
      ]
     },
     "execution_count": 2,
     "metadata": {},
     "output_type": "execute_result"
    }
   ],
   "source": [
    "def createUri(category: String, widget: String, start_date: String, end_date: String, time_trunc: String, lang: String, \n",
    "              geo_trunc: String = \"\", geo_limit: String = \"\", geo_ids: String = \"\"): String = {\n",
    "  val baseUrl = s\"https://apidatos.ree.es/$lang/datos/$category/$widget\"\n",
    "  \n",
    "// Crear un mapa con los parámetros obligatorios y opcionales\n",
    "  val params = Map(\n",
    "    \"start_date\" -> start_date,\n",
    "    \"end_date\" -> end_date,\n",
    "    \"time_trunc\" -> time_trunc,\n",
    "    \"geo_trunc\" -> geo_trunc,\n",
    "    \"geo_limit\" -> geo_limit,\n",
    "    \"geo_ids\" -> geo_ids\n",
    "  ).filter { case (_, v) => v.nonEmpty } // Filtrar los parámetros que no están vacíos\n",
    "\n",
    "//Especifico el orden concreto de los paramtros ya que, Scala map no te garantiza el orden\n",
    "  val orderedKeys = Seq(\"start_date\", \"end_date\", \"time_trunc\", \"geo_trunc\", \"geo_limit\", \"geo_ids\")\n",
    "\n",
    "// Unir los parámetros en una cadena\n",
    "  val queryString = orderedKeys.flatMap(key => params.get(key).map(value => s\"$key=$value\")).mkString(\"&\")\n",
    "  \n",
    "  s\"$baseUrl?$queryString\"\n",
    "}"
   ]
  },
  {
   "cell_type": "code",
   "execution_count": 3,
   "id": "9a6c1545-17ca-4479-a60a-933d0b51a15a",
   "metadata": {},
   "outputs": [
    {
     "data": {
      "text/plain": [
       "\u001b[36mcategory\u001b[39m: \u001b[32mString\u001b[39m = \u001b[32m\"balance\"\u001b[39m\r\n",
       "\u001b[36mwidget\u001b[39m: \u001b[32mString\u001b[39m = \u001b[32m\"balance-electrico\"\u001b[39m\r\n",
       "\u001b[36mtime_trunc\u001b[39m: \u001b[32mString\u001b[39m = \u001b[32m\"day\"\u001b[39m\r\n",
       "\u001b[36mlang\u001b[39m: \u001b[32mString\u001b[39m = \u001b[32m\"es\"\u001b[39m\r\n",
       "\u001b[36mstart\u001b[39m: \u001b[32mString\u001b[39m = \u001b[32m\"2024-01-01T00:00\"\u001b[39m\r\n",
       "\u001b[36mend\u001b[39m: \u001b[32mString\u001b[39m = \u001b[32m\"2024-12-31T00:00\"\u001b[39m\r\n",
       "\u001b[36muri\u001b[39m: \u001b[32mString\u001b[39m = \u001b[32m\"https://apidatos.ree.es/es/datos/balance/balance-electrico?start_date=2024-01-01T00:00&end_date=2024-12-31T00:00&time_trunc=day\"\u001b[39m"
      ]
     },
     "execution_count": 3,
     "metadata": {},
     "output_type": "execute_result"
    }
   ],
   "source": [
    "// Doy valor a los parámetros para llamar a la API\n",
    "\n",
    "val category = \"balance\"\n",
    "val widget = \"balance-electrico\"\n",
    "val time_trunc = \"day\"\n",
    "val lang = \"es\"\n",
    "\n",
    "val start = \"2024-01-01T00:00\"\n",
    "val end = \"2024-12-31T00:00\"\n",
    "\n",
    "val uri = createUri(category, widget, start, end, time_trunc, lang) //Solo le paso los valores obligatorios"
   ]
  },
  {
   "cell_type": "markdown",
   "id": "a65688fc-7338-4345-8230-2b01e73fb860",
   "metadata": {},
   "source": [
    "##### Hacer llamada y guardar datos\n",
    "Con la función getDataApi realizamos la solicitud GET a la API utilizando la URL que ya hemos creado. Usa basicRequest.get y devuelve un Either para detectar posibles errores."
   ]
  },
  {
   "cell_type": "code",
   "execution_count": 4,
   "id": "95c2dca5-354e-486f-84e2-caa81f69262b",
   "metadata": {},
   "outputs": [
    {
     "data": {
      "text/plain": [
       "defined \u001b[32mfunction\u001b[39m \u001b[36mgetDataApi\u001b[39m"
      ]
     },
     "execution_count": 4,
     "metadata": {},
     "output_type": "execute_result"
    }
   ],
   "source": [
    "def getDataApi(apiUrl: String): Either[String, String] = {\n",
    " \n",
    "    val newRequest = basicRequest.get(uri\"$apiUrl\")\n",
    "    val response = newRequest.send()\n",
    "  \n",
    "  response.body match {\n",
    "    case Right(body) => \n",
    "      Right(body)\n",
    "      \n",
    "    case Left(error) => \n",
    "      Left(s\"Error fetching data: $error\")\n",
    "  }\n",
    "}"
   ]
  },
  {
   "cell_type": "code",
   "execution_count": 5,
   "id": "42b8d181-79a2-4828-bb98-2993dbf27ee5",
   "metadata": {},
   "outputs": [
    {
     "data": {
      "text/plain": [
       "\u001b[36mresponse\u001b[39m: \u001b[32mEither\u001b[39m[\u001b[32mString\u001b[39m, \u001b[32mString\u001b[39m] = \u001b[33mRight\u001b[39m(\n",
       "  \u001b[32m\"{\\\"data\\\":{\\\"type\\\":\\\"Balance de energ\\\\u00eda el\\\\u00e9ctrica\\\",\\\"id\\\":\\\"bal1\\\",\\\"attributes\\\":{\\\"title\\\":\\\"Balance de energ\\\\u00eda el\\\\u00e9ctrica\\\",\\\"last-update\\\":\\\"2025-01-28T16:56:22.000+01:00\\\",\\\"description\\\":\\\"Balance el\\\\u00e9ctrico: asignaci\\\\u00f3n de unidades de producci\\\\u00f3n seg\\\\u00fan combustible principal.\\\"},\\\"meta\\\":{\\\"cache-control\\\":{\\\"cache\\\":\\\"HIT\\\",\\\"expireAt\\\":\\\"2025-03-14T12:31:44\\\"}}},\\\"included\\\":[{\\\"type\\\":\\\"Renovable\\\",\\\"id\\\":\\\"Renovable\\\",\\\"attributes\\\":{\\\"title\\\":\\\"Renovable\\\",\\\"last-update\\\":\\\"2025-01-28T16:56:17.000+01:00\\\",\\\"description\\\":null,\\\"magnitude\\\":null,\\\"content\\\":[{\\\"type\\\":\\\"Hidr\\\\u00e1ulica\\\",\\\"id\\\":\\\"10288\\\",\\\"groupId\\\":\\\"Renovable\\\",\\\"attributes\\\":{\\\"title\\\":\\\"Hidr\\\\u00e1ulica\\\",\\\"description\\\":\\\"10288\\\",\\\"color\\\":\\\"#0090d1\\\",\\\"type\\\":\\\"distinct\\\",\\\"magnitude\\\":null,\\\"composite\\\":false,\\\"last-update\\\":\\\"2025-01-28T16:56:17.000+01:00\\\",\\\"values\\\":[{\\\"value\\\":58381.148,\\\"percentage\\\":0.19718853720380722,\\\"datetime\\\":\\\"2024-01-01T00:00:00.000+01:00\\\"},{\\\"value\\\":68004.167,\\\"percentage\\\":0.15570440748011716,\\\"datetime\\\":\\\"2024-01-02T00:00:00.000+01:00\\\"},{\\\"value\\\":93862.43,\\\"percentage\\\":0.22015731350369466,\\\"datetime\\\":\\\"2024-01-03T00:00:00.000+01:00\\\"},{\\\"value\\\":139605.013,\\\"percentage\\\":0.44288074417231343,\\\"datetime\\\":\\\"2024-01-04T00:00:00.000+01:00\\\"},{\\\"value\\\":83467.494,\\\"percentage\\\":0.17956310101675974,\\\"datetime\\\":\\\"2024-01-05T00:00:00.000+01:00\\\"},{\\\"value\\\":77899.805,\\\"percentage\\\":0.16387300585655923,\\\"datetime\\\":\\\"2024-01-06T00:00:00.000+01:00\\\"},{\\\"value\\\":89119.71,\\\"percentage\\\":0.19597149614779358,\\\"datetime\\\":\\\"2024-01-07T00:00:00.000+01:00\\\"},{\\\"value\\\":145217.971,\\\"percentage\\\":0.3475981971805299,\\\"datetime\\\":\\\"2024-01-08T00:00:00.000+01:00\\\"},{\\\"value\\\":172224.091,\\\"percentage\\\":0.6952264677304265,\\\"datetime\\\":\\\"2024-01-09T00:00:00.000+01:00\\\"},{\\\"value\\\":162337.094,\\\"percentage\\\":0.5402144711139266,\\\"datetime\\\":\\\"2024-01-10T00:00:00.000+01:00\\\"},{\\\"value\\\":156155.254,\\\"percentage\\\":0.4113069943382737,\\\"datetime\\\":\\\"2024-01-11T00:00:00.000+01:00\\\"},{\\\"value\\\":124592.762,\\\"percentage\\\":0.36442053337681285,\\\"datetime\\\":\\\"2024-01-12T00:00:00.000+01:00\\\"},{\\\"value\\\":135262.175,\\\"percentage\\\":0.3840581005654673,\\\"datetime\\\":\\\"2024-01-13T00:00:00.000+01:00\\\"},{\\\"value\\\":106944.914,\\\"percentage\\\":0.24912553361523215,\\\"datetime\\\":\\\"2024-01-14T00:00:00.000+01:00\\\"},{\\\"value\\\":135473.005,\\\"percentage\\\":0.3111164872648082,\\\"datetime\\\":\\\"2024-01-15T00:00:00.000+01:00\\\"},{\\\"value\\\":110516.001,\\\"percentage\\\":0.23257894762627554,\\\"datetime\\\":\\\"2024-01-16T00:00:00.000+01:00\\\"},{\\\"value\\\":105663.619,\\\"percentage\\\":0.18280332250077355,\\\"datetime\\\":\\\"2024-01-17T00:00:00.000+01:00\\\"},{\\\"value\\\":120280.946,\\\"percentage\\\":0.24401405423475425,\\\"datetime\\\":\\\"2024-01-18T00:00:00.000+01:00\\\"},{\\\"value\\\":138411.03,\\\"percentage\\\":0.30049600685875244,\\\"datetime\\\":\\\"2024-01-19T00:00:00.000+01:00\\\"},{\\\"value\\\":139022.481,\\\"percentage\\\":0.38166504772140436,\\\"datetime\\\":\\\"2024-01-20T00:00:00.000+01:00\\\"},{\\\"value\\\":140140.502,\\\"percentage\\\":0.\u001b[39m..."
      ]
     },
     "execution_count": 5,
     "metadata": {},
     "output_type": "execute_result"
    }
   ],
   "source": [
    "val response = getDataApi(uri)"
   ]
  },
  {
   "cell_type": "markdown",
   "id": "51b26771-68d6-4071-bd6b-a742720b2e14",
   "metadata": {},
   "source": [
    "##### Guardamos el texto plano en un dataframe\n",
    "Con esta función transformamos la respuesta en texto plano que nos da la API en un DataFrame de Spark. "
   ]
  },
  {
   "cell_type": "code",
   "execution_count": 9,
   "id": "9053ce9a-314b-464b-902f-160890cbc62c",
   "metadata": {},
   "outputs": [
    {
     "data": {
      "text/plain": [
       "defined \u001b[32mfunction\u001b[39m \u001b[36mresponseToDF\u001b[39m"
      ]
     },
     "execution_count": 9,
     "metadata": {},
     "output_type": "execute_result"
    }
   ],
   "source": [
    "// Transformar response a DataFrame\n",
    "def responseToDF(response: Either[String, String]): DataFrame = {\n",
    "    response match {\n",
    "    case Right(body) => \n",
    "        val dataset: Dataset[String] = Seq(body).toDS() // Convertir a Dataset[String]\n",
    "        spark.read.json(dataset) // Leer JSON desde Dataset\n",
    "    case Left(error) => \n",
    "        println(error)\n",
    "        spark.emptyDataFrame\n",
    "    }\n",
    "}"
   ]
  },
  {
   "cell_type": "code",
   "execution_count": 10,
   "id": "00b301ea-a6af-412f-8a1d-f7001d12e452",
   "metadata": {},
   "outputs": [
    {
     "data": {
      "text/html": []
     },
     "metadata": {},
     "output_type": "display_data"
    },
    {
     "data": {
      "text/plain": [
       "\u001b[36mdatosSinLimpiar\u001b[39m: \u001b[32mDataFrame\u001b[39m = [data: struct<attributes: struct<description: string, last-update: string ... 1 more field>, id: string ... 2 more fields>, included: array<struct<attributes:struct<content:array<struct<attributes:struct<color:string,composite:boolean,description:string,last-update:string,magnitude:string,title:string,total:double,type:string,values:array<struct<datetime:string,percentage:double,value:double>>>,groupId:string,id:string,type:string>>,description:string,last-update:string,magnitude:string,title:string>,id:string,type:string>>]"
      ]
     },
     "execution_count": 10,
     "metadata": {},
     "output_type": "execute_result"
    }
   ],
   "source": [
    "val datosSinLimpiar = responseToDF(response)"
   ]
  },
  {
   "cell_type": "code",
   "execution_count": 11,
   "id": "08ce19d9-0091-4346-af4f-4da8b68122d3",
   "metadata": {},
   "outputs": [
    {
     "name": "stdout",
     "output_type": "stream",
     "text": [
      "root\n",
      " |-- data: struct (nullable = true)\n",
      " |    |-- attributes: struct (nullable = true)\n",
      " |    |    |-- description: string (nullable = true)\n",
      " |    |    |-- last-update: string (nullable = true)\n",
      " |    |    |-- title: string (nullable = true)\n",
      " |    |-- id: string (nullable = true)\n",
      " |    |-- meta: struct (nullable = true)\n",
      " |    |    |-- cache-control: struct (nullable = true)\n",
      " |    |    |    |-- cache: string (nullable = true)\n",
      " |    |    |    |-- expireAt: string (nullable = true)\n",
      " |    |-- type: string (nullable = true)\n",
      " |-- included: array (nullable = true)\n",
      " |    |-- element: struct (containsNull = true)\n",
      " |    |    |-- attributes: struct (nullable = true)\n",
      " |    |    |    |-- content: array (nullable = true)\n",
      " |    |    |    |    |-- element: struct (containsNull = true)\n",
      " |    |    |    |    |    |-- attributes: struct (nullable = true)\n",
      " |    |    |    |    |    |    |-- color: string (nullable = true)\n",
      " |    |    |    |    |    |    |-- composite: boolean (nullable = true)\n",
      " |    |    |    |    |    |    |-- description: string (nullable = true)\n",
      " |    |    |    |    |    |    |-- last-update: string (nullable = true)\n",
      " |    |    |    |    |    |    |-- magnitude: string (nullable = true)\n",
      " |    |    |    |    |    |    |-- title: string (nullable = true)\n",
      " |    |    |    |    |    |    |-- total: double (nullable = true)\n",
      " |    |    |    |    |    |    |-- type: string (nullable = true)\n",
      " |    |    |    |    |    |    |-- values: array (nullable = true)\n",
      " |    |    |    |    |    |    |    |-- element: struct (containsNull = true)\n",
      " |    |    |    |    |    |    |    |    |-- datetime: string (nullable = true)\n",
      " |    |    |    |    |    |    |    |    |-- percentage: double (nullable = true)\n",
      " |    |    |    |    |    |    |    |    |-- value: double (nullable = true)\n",
      " |    |    |    |    |    |-- groupId: string (nullable = true)\n",
      " |    |    |    |    |    |-- id: string (nullable = true)\n",
      " |    |    |    |    |    |-- type: string (nullable = true)\n",
      " |    |    |    |-- description: string (nullable = true)\n",
      " |    |    |    |-- last-update: string (nullable = true)\n",
      " |    |    |    |-- magnitude: string (nullable = true)\n",
      " |    |    |    |-- title: string (nullable = true)\n",
      " |    |    |-- id: string (nullable = true)\n",
      " |    |    |-- type: string (nullable = true)\n",
      "\n"
     ]
    }
   ],
   "source": [
    "datosSinLimpiar.printSchema()"
   ]
  },
  {
   "cell_type": "markdown",
   "id": "ffb85cf0-e951-4f50-99eb-8afdb331bb6e",
   "metadata": {
    "tags": []
   },
   "source": [
    "### Transformación"
   ]
  },
  {
   "cell_type": "code",
   "execution_count": 12,
   "id": "67905b17-0031-47bb-958b-facdf96f3324",
   "metadata": {},
   "outputs": [
    {
     "data": {
      "text/plain": [
       "\u001b[32mimport \u001b[39m\u001b[36mspark.implicits._\u001b[39m\r\n",
       "defined \u001b[32mfunction\u001b[39m \u001b[36mtransformToBalanceModel\u001b[39m"
      ]
     },
     "execution_count": 12,
     "metadata": {},
     "output_type": "execute_result"
    }
   ],
   "source": [
    "// Importar implicits para poder usar $\"columnName\"\n",
    "import spark.implicits._\n",
    "\n",
    "def transformToBalanceModel(df: DataFrame): DataFrame = {\n",
    "\n",
    "\n",
    "    // Definir los tipos de energía de bajas emisiones\n",
    "    val bajasEmisiones = Seq(\n",
    "        \"Solar fotovoltaica\", \n",
    "        \"Solar térmica\", \n",
    "        \"Nuclear\", \n",
    "        \"Hidroeólica\", \n",
    "        \"Eólica\", \n",
    "        \"Generación renovable\", \n",
    "        \"Otras renovables\",\n",
    "        \"Hidráulica\", \n",
    "        \"Residuos renovables\"\n",
    "\n",
    "    )\n",
    "\n",
    "    //Crear modelo desanidado\n",
    "    df.withColumn(\"FamilyGroup\", explode($\"included\"))\n",
    "        .withColumn(\"TypeGroup\", explode($\"FamilyGroup.attributes.content\"))\n",
    "        .withColumn(\"Values\", explode($\"TypeGroup.attributes.values\"))\n",
    "        .select(\n",
    "            $\"FamilyGroup.type\".as(\"Familia\"),\n",
    "            $\"TypeGroup.type\".as(\"Tipo\"),\n",
    "            $\"TypeGroup.attributes.composite\".as(\"Compuesto\"),\n",
    "            $\"Values.datetime\".cast(\"timestamp\").as(\"FechaAux\"), \n",
    "            $\"Values.percentage\".as(\"Porcentaje\"),\n",
    "            $\"Values.value\".as(\"Valor\")\n",
    "        )\n",
    "        .withColumn(\"Fecha\", expr(\"FechaAux + INTERVAL 1 HOUR\"))\n",
    "        .withColumn(\"BajasEmisiones\", $\"Tipo\".isin(bajasEmisiones: _*))\n",
    "        .withColumn(\"Año\", year($\"Fecha\"))\n",
    "        .withColumn(\"Mes\", month($\"Fecha\"))\n",
    "        .drop($\"FechaAux\")\n",
    "}"
   ]
  },
  {
   "cell_type": "code",
   "execution_count": 13,
   "id": "e1176a91-c5e3-442c-8790-3919a4df9d19",
   "metadata": {},
   "outputs": [
    {
     "data": {
      "text/plain": [
       "\u001b[36mmodelBalance\u001b[39m: \u001b[32mDataFrame\u001b[39m = [Familia: string, Tipo: string ... 7 more fields]"
      ]
     },
     "execution_count": 13,
     "metadata": {},
     "output_type": "execute_result"
    }
   ],
   "source": [
    "val modelBalance = transformToBalanceModel(datosSinLimpiar)"
   ]
  },
  {
   "cell_type": "code",
   "execution_count": 14,
   "id": "7e699774-526d-4342-b96e-74cb3a7b8b1d",
   "metadata": {},
   "outputs": [
    {
     "data": {
      "text/html": []
     },
     "metadata": {},
     "output_type": "display_data"
    },
    {
     "name": "stdout",
     "output_type": "stream",
     "text": [
      "+---------+----------+---------+-------------------+----------+-------------------+--------------+----+---+\n",
      "|  Familia|      Tipo|Compuesto|         Porcentaje|     Valor|              Fecha|BajasEmisiones| Año|Mes|\n",
      "+---------+----------+---------+-------------------+----------+-------------------+--------------+----+---+\n",
      "|Renovable|Hidráulica|    false|0.19718853720380722| 58381.148|2024-01-01 01:00:00|          true|2024|  1|\n",
      "|Renovable|Hidráulica|    false|0.15570440748011716| 68004.167|2024-01-02 01:00:00|          true|2024|  1|\n",
      "|Renovable|Hidráulica|    false|0.22015731350369466|  93862.43|2024-01-03 01:00:00|          true|2024|  1|\n",
      "|Renovable|Hidráulica|    false|0.44288074417231343|139605.013|2024-01-04 01:00:00|          true|2024|  1|\n",
      "|Renovable|Hidráulica|    false|0.17956310101675974| 83467.494|2024-01-05 01:00:00|          true|2024|  1|\n",
      "|Renovable|Hidráulica|    false|0.16387300585655923| 77899.805|2024-01-06 01:00:00|          true|2024|  1|\n",
      "|Renovable|Hidráulica|    false|0.19597149614779358|  89119.71|2024-01-07 01:00:00|          true|2024|  1|\n",
      "|Renovable|Hidráulica|    false| 0.3475981971805299|145217.971|2024-01-08 01:00:00|          true|2024|  1|\n",
      "|Renovable|Hidráulica|    false| 0.6952264677304265|172224.091|2024-01-09 01:00:00|          true|2024|  1|\n",
      "|Renovable|Hidráulica|    false| 0.5402144711139266|162337.094|2024-01-10 01:00:00|          true|2024|  1|\n",
      "|Renovable|Hidráulica|    false| 0.4113069943382737|156155.254|2024-01-11 01:00:00|          true|2024|  1|\n",
      "|Renovable|Hidráulica|    false|0.36442053337681285|124592.762|2024-01-12 01:00:00|          true|2024|  1|\n",
      "|Renovable|Hidráulica|    false| 0.3840581005654673|135262.175|2024-01-13 01:00:00|          true|2024|  1|\n",
      "|Renovable|Hidráulica|    false|0.24912553361523215|106944.914|2024-01-14 01:00:00|          true|2024|  1|\n",
      "|Renovable|Hidráulica|    false| 0.3111164872648082|135473.005|2024-01-15 01:00:00|          true|2024|  1|\n",
      "|Renovable|Hidráulica|    false|0.23257894762627554|110516.001|2024-01-16 01:00:00|          true|2024|  1|\n",
      "|Renovable|Hidráulica|    false|0.18280332250077355|105663.619|2024-01-17 01:00:00|          true|2024|  1|\n",
      "|Renovable|Hidráulica|    false|0.24401405423475425|120280.946|2024-01-18 01:00:00|          true|2024|  1|\n",
      "|Renovable|Hidráulica|    false|0.30049600685875244| 138411.03|2024-01-19 01:00:00|          true|2024|  1|\n",
      "|Renovable|Hidráulica|    false|0.38166504772140436|139022.481|2024-01-20 01:00:00|          true|2024|  1|\n",
      "+---------+----------+---------+-------------------+----------+-------------------+--------------+----+---+\n",
      "only showing top 20 rows\n",
      "\n"
     ]
    }
   ],
   "source": [
    "modelBalance.show()"
   ]
  },
  {
   "cell_type": "markdown",
   "id": "a772e2e6-7760-4251-a149-51e45091d2f2",
   "metadata": {
    "tags": []
   },
   "source": [
    "### Carga (Almacenamiento de datos)\n",
    "\n",
    "La ultima parte de esta ETL. Guardamos el modelo que hemos creado en un formato de almacenamiento optipo para el procesamiento de datos. El fichero Parquet aprovecha optimizaciones de Spark, por un lado tiene un formato columnar y por otro permite el particionamiento. Spark aprovecha todas estas optimizaciones en la posterior lectura."
   ]
  },
  {
   "cell_type": "code",
   "execution_count": 16,
   "id": "c2cebafb-5218-436f-9a3b-bcb44ca5641c",
   "metadata": {},
   "outputs": [
    {
     "data": {
      "text/html": []
     },
     "metadata": {},
     "output_type": "display_data"
    }
   ],
   "source": [
    "modelBalance.write\n",
    "            .mode(\"overwrite\")\n",
    "            .partitionBy(\"Año\", \"Mes\") \n",
    "            .parquet(\"data/parquet/dsBalance2024.parquet\")"
   ]
  },
  {
   "cell_type": "markdown",
   "id": "16b1e22b-2d51-43e4-998e-4cb60e3a1ebe",
   "metadata": {
    "tags": []
   },
   "source": [
    "##### Copmparación Parquet y CSV\n",
    "En esta sección, analizamos el impacto del formato de almacenamiento en el rendimiento de las consultas en **Apache Spark**."
   ]
  },
  {
   "cell_type": "code",
   "execution_count": 17,
   "id": "b7e67be5-6b6f-47c9-8153-a18ad3281fc5",
   "metadata": {},
   "outputs": [
    {
     "data": {
      "text/html": []
     },
     "metadata": {},
     "output_type": "display_data"
    },
    {
     "data": {
      "text/html": []
     },
     "metadata": {},
     "output_type": "display_data"
    },
    {
     "name": "stdout",
     "output_type": "stream",
     "text": [
      "Tiempo de lectura CSV: 1.5124937 segundos\n"
     ]
    },
    {
     "data": {
      "text/html": []
     },
     "metadata": {},
     "output_type": "display_data"
    },
    {
     "name": "stdout",
     "output_type": "stream",
     "text": [
      "Tiempo de lectura Parquet: 0.4915436 segundos\n",
      "== Physical Plan ==\n",
      "*(1) FileScan csv [Familia#158,Tipo#159,Compuesto#160,Porcentaje#161,Valor#162,Fecha#163,BajasEmisiones#164,Año#165,Mes#166] Batched: false, Format: CSV, Location: InMemoryFileIndex[file:/C:/Proyectos/spark-datos-energia/data/csv/dsBalanceNacionalAnalisis.csv], PartitionFilters: [], PushedFilters: [], ReadSchema: struct<Familia:string,Tipo:string,Compuesto:boolean,Porcentaje:double,Valor:double,Fecha:timestam...\n",
      "== Physical Plan ==\n",
      "*(1) FileScan parquet [Familia#176,Tipo#177,Compuesto#178,Porcentaje#179,Valor#180,Fecha#181,BajasEmisiones#182,Año#183,Mes#184] Batched: true, Format: Parquet, Location: InMemoryFileIndex[file:/C:/Proyectos/spark-datos-energia/data/parquet/dsBalanceNacionalParticiona..., PartitionCount: 169, PartitionFilters: [], PushedFilters: [], ReadSchema: struct<Familia:string,Tipo:string,Compuesto:boolean,Porcentaje:double,Valor:double,Fecha:timestam...\n"
     ]
    },
    {
     "data": {
      "text/plain": [
       "\u001b[36mpathCsv\u001b[39m: \u001b[32mString\u001b[39m = \u001b[32m\"../data/csv/dsBalanceNacionalAnalisis.csv\"\u001b[39m\r\n",
       "\u001b[36mpathParquet\u001b[39m: \u001b[32mString\u001b[39m = \u001b[32m\"../data/parquet/dsBalanceNacionalParticionado.parquet\"\u001b[39m\r\n",
       "\u001b[36mstartCsv\u001b[39m: \u001b[32mLong\u001b[39m = \u001b[32m1384894246005100L\u001b[39m\r\n",
       "\u001b[36mdfFromCsv\u001b[39m: \u001b[32mDataFrame\u001b[39m = [Familia: string, Tipo: string ... 7 more fields]\r\n",
       "\u001b[36mendCsv\u001b[39m: \u001b[32mLong\u001b[39m = \u001b[32m1384895758498800L\u001b[39m\r\n",
       "\u001b[36mstartParquet\u001b[39m: \u001b[32mLong\u001b[39m = \u001b[32m1384895758937800L\u001b[39m\r\n",
       "\u001b[36mdfFromParquet\u001b[39m: \u001b[32mDataFrame\u001b[39m = [Familia: string, Tipo: string ... 7 more fields]\r\n",
       "\u001b[36mendParquet\u001b[39m: \u001b[32mLong\u001b[39m = \u001b[32m1384896250481400L\u001b[39m"
      ]
     },
     "execution_count": 17,
     "metadata": {},
     "output_type": "execute_result"
    }
   ],
   "source": [
    "val pathCsv = \"../data/csv/dsBalanceNacionalAnalisis.csv\"      \n",
    "val pathParquet = \"../data/parquet/dsBalanceNacionalParticionado.parquet\"\n",
    "\n",
    "// Medir tiempo de lectura CSV\n",
    "val startCsv = System.nanoTime()\n",
    "val dfFromCsv: DataFrame = spark.read\n",
    "    .option(\"header\", \"true\") // Para que Spark lea la primera linea como encabezado\n",
    "    .option(\"inferSchema\", \"true\") // Para inferir automáticamente el esquema\n",
    "    .csv(pathCsv)\n",
    "val endCsv = System.nanoTime()\n",
    "println(s\"Tiempo de lectura CSV: ${(endCsv - startCsv) / 1e9} segundos\")\n",
    "\n",
    "\n",
    "// Medir tiempo de lectura Parquet\n",
    "val startParquet = System.nanoTime()\n",
    "val dfFromParquet: DataFrame = spark.read.parquet(pathParquet)\n",
    "val endParquet = System.nanoTime()\n",
    "println(s\"Tiempo de lectura Parquet: ${(endParquet - startParquet) / 1e9} segundos\")\n",
    "\n",
    "// Ver esquema\n",
    "dfFromCsv.explain()\n",
    "dfFromParquet.explain()"
   ]
  },
  {
   "cell_type": "markdown",
   "id": "3ee9bac4-0489-4e88-bc15-7f69213d5150",
   "metadata": {
    "tags": []
   },
   "source": [
    "## Visualización"
   ]
  },
  {
   "cell_type": "markdown",
   "id": "c6aa33f8-63c7-4775-a71c-0bb4fe8894cb",
   "metadata": {},
   "source": [
    "Esta función compara la evolución de la energía renovable y no renovable mes a mes en un gráfico de líneas.\n",
    "\n",
    "Agrupa y suma la producción de cada tipo de energía (Renovable y No-Renovable) por Año y Mes.\n",
    "Convierte los resultados en secuencias (Seq) para pasarlas a Plotly.\n",
    "Grafica ambas series en un gráfico de líneas, permitiendo visualizar tendencias y comparaciones a lo largo del año."
   ]
  },
  {
   "cell_type": "code",
   "execution_count": 18,
   "id": "0718b04a-f359-4946-bbaf-568722c0b3b9",
   "metadata": {},
   "outputs": [
    {
     "data": {
      "text/html": []
     },
     "metadata": {},
     "output_type": "display_data"
    },
    {
     "data": {
      "text/html": []
     },
     "metadata": {},
     "output_type": "display_data"
    },
    {
     "data": {
      "text/html": []
     },
     "metadata": {},
     "output_type": "display_data"
    },
    {
     "data": {
      "text/html": []
     },
     "metadata": {},
     "output_type": "display_data"
    },
    {
     "data": {
      "text/html": []
     },
     "metadata": {},
     "output_type": "display_data"
    },
    {
     "data": {
      "text/html": []
     },
     "metadata": {},
     "output_type": "display_data"
    },
    {
     "data": {
      "text/html": []
     },
     "metadata": {},
     "output_type": "display_data"
    },
    {
     "data": {
      "text/html": []
     },
     "metadata": {},
     "output_type": "display_data"
    },
    {
     "data": {
      "text/html": []
     },
     "metadata": {},
     "output_type": "display_data"
    },
    {
     "data": {
      "text/html": []
     },
     "metadata": {},
     "output_type": "display_data"
    },
    {
     "data": {
      "text/html": []
     },
     "metadata": {},
     "output_type": "display_data"
    },
    {
     "data": {
      "text/html": []
     },
     "metadata": {},
     "output_type": "display_data"
    },
    {
     "data": {
      "text/html": [
       "\n",
       "      <script type=\"text/javascript\">\n",
       "        require.config({\n",
       "  paths: {\n",
       "    d3: 'https://cdnjs.cloudflare.com/ajax/libs/d3/3.5.17/d3.min',\n",
       "    plotly: 'https://cdn.plot.ly/plotly-1.54.1.min',\n",
       "    jquery: 'https://code.jquery.com/jquery-3.3.1.min'\n",
       "  },\n",
       "\n",
       "  shim: {\n",
       "    plotly: {\n",
       "      deps: ['d3', 'jquery'],\n",
       "      exports: 'plotly'\n",
       "    }\n",
       "  }\n",
       "});\n",
       "        \n",
       "\n",
       "        require(['plotly'], function(Plotly) {\n",
       "          window.Plotly = Plotly;\n",
       "        });\n",
       "      </script>\n",
       "    "
      ]
     },
     "metadata": {},
     "output_type": "display_data"
    },
    {
     "data": {
      "application/vnd.plotly.v1+json": {
       "config": {},
       "data": [
        {
         "name": "Renovable",
         "type": "scatter",
         "x": [
          1,
          2,
          3,
          4,
          5,
          6,
          7,
          8,
          9,
          10,
          11,
          12
         ],
         "y": [
          24143975.1,
          26216742.465000004,
          28946037.111999992,
          27193411.659,
          26637727.48700002,
          25094085.040999997,
          26649725.059,
          24426684.930000003,
          22633737.698,
          23766734.25599999,
          20740226.102999996,
          21548046.237000003
         ]
        },
        {
         "name": "No Renovable",
         "type": "scatter",
         "x": [
          1,
          2,
          3,
          4,
          5,
          6,
          7,
          8,
          9,
          10,
          11,
          12
         ],
         "y": [
          22110333.948000003,
          17345742.813,
          15118381.761999996,
          14247694.187000003,
          15064975.07699999,
          17223658.276999995,
          21172430.733,
          21697892.432000015,
          20009388.729999993,
          19033225.699999996,
          20108709.486999992,
          23280227.742999986
         ]
        }
       ],
       "layout": {
        "autosize": true,
        "title": {
         "text": "Evolución de la energía renovable en 2024"
        },
        "xaxis": {
         "autorange": true,
         "range": [
          0.3457556935817804,
          12.654244306418219
         ],
         "type": "linear"
        },
        "yaxis": {
         "autorange": true,
         "range": [
          13034724.139791265,
          30159007.15920873
         ],
         "type": "linear"
        }
       }
      },
      "image/png": "[encoded data removed]",
      "text/html": [
       "<div class=\"chart\" id=\"plot-bced9b16-c2f0-4b07-a29e-9e7f5c839067\"></div>\n",
       "<script>require(['plotly'], function(Plotly) {\n",
       "  (function () {\n",
       "  var data0 = {\"x\":[1.0,2.0,3.0,4.0,5.0,6.0,7.0,8.0,9.0,10.0,11.0,12.0],\"name\":\"Renovable\",\"y\":[2.41439751E7,2.6216742465000004E7,2.8946037111999992E7,2.7193411659E7,2.663772748700002E7,2.5094085040999997E7,2.6649725059E7,2.4426684930000003E7,2.2633737698E7,2.376673425599999E7,2.0740226102999996E7,2.1548046237000003E7],\"type\":\"scatter\"};\n",
       "  var data1 = {\"x\":[1.0,2.0,3.0,4.0,5.0,6.0,7.0,8.0,9.0,10.0,11.0,12.0],\"name\":\"No Renovable\",\"y\":[2.2110333948000003E7,1.7345742813E7,1.5118381761999996E7,1.4247694187000003E7,1.506497507699999E7,1.7223658276999995E7,2.1172430733E7,2.1697892432000015E7,2.0009388729999993E7,1.9033225699999996E7,2.0108709486999992E7,2.3280227742999986E7],\"type\":\"scatter\"};\n",
       "\n",
       "  var data = [data0, data1];\n",
       "  var layout = {\"title\":\"Evolución de la energía renovable en 2024\"};\n",
       " var config = {};\n",
       "\n",
       "  Plotly.plot('plot-bced9b16-c2f0-4b07-a29e-9e7f5c839067', data, layout, config);\n",
       "})();\n",
       "});\n",
       "      </script>\n",
       "           "
      ]
     },
     "metadata": {},
     "output_type": "display_data"
    },
    {
     "data": {
      "text/plain": [
       "defined \u001b[32mfunction\u001b[39m \u001b[36mrenovableVSnoRenovable\u001b[39m"
      ]
     },
     "execution_count": 18,
     "metadata": {},
     "output_type": "execute_result"
    }
   ],
   "source": [
    "def renovableVSnoRenovable(df: DataFrame): Unit = {\n",
    "    \n",
    "  val renovable = df\n",
    "      .filter($\"Familia\" === \"Renovable\")\n",
    "      .groupBy(\"Año\", \"Mes\")\n",
    "      .agg(sum(\"Valor\").as(\"Valor\"))\n",
    "      .orderBy(\"Año\", \"Mes\")\n",
    "    \n",
    "  val noRenovable = df\n",
    "      .filter($\"Familia\" === \"No-Renovable\")\n",
    "      .groupBy(\"Año\", \"Mes\")\n",
    "      .agg(sum(\"Valor\").as(\"Valor\"))\n",
    "      .orderBy(\"Año\", \"Mes\") \n",
    "\n",
    "\n",
    "  val meses = renovable.select($\"Mes\").as[Int].collect.toSeq    \n",
    "  val seqRenovable = renovable.select($\"Valor\").as[Double].collect.toSeq\n",
    "  val seqNoRenovable = noRenovable.select($\"Valor\").as[Double].collect.toSeq\n",
    "  \n",
    "    val traces = Seq(\n",
    "        Scatter(meses, seqRenovable).withName(\"Renovable\"),\n",
    "        Scatter(meses, seqNoRenovable).withName(\"No Renovable\")\n",
    "    )\n",
    "\n",
    "  val layout = Layout().withTitle(\"Evolución de la energía renovable en 2024\")\n",
    "  val data = traces\n",
    "    \n",
    "  plot(data, layout)\n",
    "    \n",
    "}\n",
    "\n",
    "renovableVSnoRenovable(modelBalance)"
   ]
  },
  {
   "cell_type": "code",
   "execution_count": null,
   "id": "aaedc955-f1a7-4896-a57b-cae2db07c42f",
   "metadata": {},
   "outputs": [],
   "source": []
  }
 ],
 "metadata": {
  "kernelspec": {
   "display_name": "Scala (2.12)",
   "language": "scala",
   "name": "scala212"
  },
  "language_info": {
   "codemirror_mode": "text/x-scala",
   "file_extension": ".sc",
   "mimetype": "text/x-scala",
   "name": "scala",
   "nbconvert_exporter": "script",
   "version": "2.12.19"
  }
 },
 "nbformat": 4,
 "nbformat_minor": 5
}
