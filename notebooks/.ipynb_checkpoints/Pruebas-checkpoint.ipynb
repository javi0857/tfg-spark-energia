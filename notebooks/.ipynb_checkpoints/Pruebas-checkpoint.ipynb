{
 "cells": [
  {
   "cell_type": "code",
   "execution_count": 1,
   "metadata": {},
   "outputs": [
    {
     "data": {
      "text/plain": [
       "\u001b[32mimport \u001b[39m\u001b[36m$ivy.$                                  \n",
       "\n",
       "\n",
       "\u001b[39m\n",
       "\u001b[32mimport \u001b[39m\u001b[36morg.apache.spark.sql._\n",
       "\u001b[39m\n",
       "\u001b[32mimport \u001b[39m\u001b[36morg.apache.spark.sql.functions._\n",
       "\n",
       "\n",
       "//Reducir numero logs\n",
       "\u001b[39m\n",
       "\u001b[32mimport \u001b[39m\u001b[36morg.apache.log4j.{Level, Logger}\n",
       "\u001b[39m\n",
       "\u001b[32mimport \u001b[39m\u001b[36m$ivy.$                                                                        \n",
       "\u001b[39m\n",
       "\u001b[32mimport \u001b[39m\u001b[36msttp.client.quick.{quickRequest, UriContext, backend}\n",
       "\u001b[39m\n",
       "\u001b[32mimport \u001b[39m\u001b[36msttp.client.asynchttpclient.monix._\n",
       "\n",
       "\n",
       "//Sttp para realizar request\n",
       "\u001b[39m\n",
       "\u001b[32mimport \u001b[39m\u001b[36m$ivy.$                                                                        \n",
       "\u001b[39m\n",
       "\u001b[32mimport \u001b[39m\u001b[36msttp.client.quick.{quickRequest, UriContext, backend}\n",
       "\u001b[39m\n",
       "\u001b[32mimport \u001b[39m\u001b[36msttp.client.asynchttpclient.monix._\n",
       "\u001b[39m\n",
       "\u001b[32mimport \u001b[39m\u001b[36msttp.client.basicRequest\n",
       "\n",
       "//For adding extra dependenies\n",
       "\u001b[39m\n",
       "\u001b[32mimport \u001b[39m\u001b[36m$ivy.$                               \n",
       "\n",
       "//Plotly\n",
       "\u001b[39m\n",
       "\u001b[32mimport \u001b[39m\u001b[36m$ivy.$                                      \n",
       "\u001b[39m\n",
       "\u001b[32mimport \u001b[39m\u001b[36mplotly._, plotly.element._, plotly.layout._, plotly.Almond._\u001b[39m"
      ]
     },
     "execution_count": 1,
     "metadata": {},
     "output_type": "execute_result"
    }
   ],
   "source": [
    "import $ivy.`org.apache.spark::spark-sql:2.4.3`\n",
    "\n",
    "\n",
    "import org.apache.spark.sql._\n",
    "import org.apache.spark.sql.functions._\n",
    "\n",
    "\n",
    "//Reducir numero logs\n",
    "import org.apache.log4j.{Level, Logger}\n",
    "Logger.getLogger(\"org\").setLevel(Level.OFF)\n",
    "\n",
    "\n",
    "//Circe para trabajar con JSON\n",
    "import $ivy.`com.softwaremill.sttp.client::async-http-client-backend-monix:2.0.0-RC2`\n",
    "import sttp.client.quick.{quickRequest, UriContext, backend}\n",
    "import sttp.client.asynchttpclient.monix._\n",
    "\n",
    "\n",
    "//Sttp para realizar request\n",
    "import $ivy.`com.softwaremill.sttp.client::async-http-client-backend-monix:2.0.0-RC2`\n",
    "import sttp.client.quick.{quickRequest, UriContext, backend}\n",
    "import sttp.client.asynchttpclient.monix._\n",
    "import sttp.client.basicRequest\n",
    "\n",
    "//For adding extra dependenies\n",
    "import $ivy.`org.typelevel::cats-core:1.6.0`\n",
    "\n",
    "//Plotly\n",
    "import $ivy.`org.plotly-scala::plotly-almond:0.7.1`\n",
    "import plotly._, plotly.element._, plotly.layout._, plotly.Almond._"
   ]
  },
  {
   "cell_type": "code",
   "execution_count": 2,
   "metadata": {},
   "outputs": [
    {
     "name": "stdout",
     "output_type": "stream",
     "text": [
      "Loading spark-stubs\n",
      "Getting spark JARs\n",
      "Creating SparkSession\n"
     ]
    },
    {
     "name": "stderr",
     "output_type": "stream",
     "text": [
      "Using Spark's default log4j profile: org/apache/spark/log4j-defaults.properties\n"
     ]
    },
    {
     "data": {
      "text/html": [
       "<a href=\"http://a2403ead22aa:4040\">Spark UI</a>"
      ]
     },
     "metadata": {},
     "output_type": "display_data"
    },
    {
     "data": {
      "text/plain": [
       "\u001b[36mspark\u001b[39m: \u001b[32mSparkSession\u001b[39m = org.apache.spark.sql.SparkSession@19a09a1e\n",
       "\u001b[32mimport \u001b[39m\u001b[36mspark.implicits._\u001b[39m"
      ]
     },
     "execution_count": 2,
     "metadata": {},
     "output_type": "execute_result"
    }
   ],
   "source": [
    "//Iniciamos session de Spark\n",
    "val spark = {\n",
    "  NotebookSparkSession.builder()\n",
    "    .master(\"local[*]\")\n",
    "    .getOrCreate()\n",
    "}\n",
    "import spark.implicits._"
   ]
  },
  {
   "cell_type": "code",
   "execution_count": 3,
   "metadata": {},
   "outputs": [
    {
     "name": "stdout",
     "output_type": "stream",
     "text": [
      "+--------------------+----------+------+\n",
      "|              region| geo_limit|geo_id|\n",
      "+--------------------+----------+------+\n",
      "|          Peninsular|peninsular|  8741|\n",
      "|               Ceuta|     ceuta|  8744|\n",
      "|             Melilla|   melilla|  8745|\n",
      "|           Andalucía|      ccaa|     4|\n",
      "|              Aragón|      ccaa|     5|\n",
      "|           Cantabria|      ccaa|     6|\n",
      "|  Castilla la Mancha|      ccaa|     7|\n",
      "|     Castilla y Leon|      ccaa|     8|\n",
      "|            Cataluña|      ccaa|     9|\n",
      "|          Pais Vasco|      ccaa|    10|\n",
      "|            Asturias|      ccaa|    11|\n",
      "|              Madrid|      ccaa|    13|\n",
      "|             Navarra|      ccaa|    14|\n",
      "|Comunidad Valenciana|      ccaa|    15|\n",
      "|         Extremadura|      ccaa|    16|\n",
      "|             Galicia|      ccaa|    17|\n",
      "|      Islas Baleares|      ccaa|  8743|\n",
      "|      Islas Canarias|      ccaa|  8742|\n",
      "|            La Rioja|      ccaa|    20|\n",
      "|              Murcia|      ccaa|    21|\n",
      "+--------------------+----------+------+\n",
      "\n"
     ]
    },
    {
     "data": {
      "text/plain": [
       "\u001b[36mdataSeq\u001b[39m: \u001b[32mSeq\u001b[39m[(\u001b[32mString\u001b[39m, \u001b[32mString\u001b[39m, \u001b[32mInt\u001b[39m)] = \u001b[33mList\u001b[39m(\n",
       "  (\u001b[32m\"Peninsular\"\u001b[39m, \u001b[32m\"peninsular\"\u001b[39m, \u001b[32m8741\u001b[39m),\n",
       "  (\u001b[32m\"Ceuta\"\u001b[39m, \u001b[32m\"ceuta\"\u001b[39m, \u001b[32m8744\u001b[39m),\n",
       "  (\u001b[32m\"Melilla\"\u001b[39m, \u001b[32m\"melilla\"\u001b[39m, \u001b[32m8745\u001b[39m),\n",
       "  (\u001b[32m\"Andaluc\\u00eda\"\u001b[39m, \u001b[32m\"ccaa\"\u001b[39m, \u001b[32m4\u001b[39m),\n",
       "  (\u001b[32m\"Arag\\u00f3n\"\u001b[39m, \u001b[32m\"ccaa\"\u001b[39m, \u001b[32m5\u001b[39m),\n",
       "  (\u001b[32m\"Cantabria\"\u001b[39m, \u001b[32m\"ccaa\"\u001b[39m, \u001b[32m6\u001b[39m),\n",
       "  (\u001b[32m\"Castilla la Mancha\"\u001b[39m, \u001b[32m\"ccaa\"\u001b[39m, \u001b[32m7\u001b[39m),\n",
       "  (\u001b[32m\"Castilla y Leon\"\u001b[39m, \u001b[32m\"ccaa\"\u001b[39m, \u001b[32m8\u001b[39m),\n",
       "  (\u001b[32m\"Catalu\\u00f1a\"\u001b[39m, \u001b[32m\"ccaa\"\u001b[39m, \u001b[32m9\u001b[39m),\n",
       "  (\u001b[32m\"Pais Vasco\"\u001b[39m, \u001b[32m\"ccaa\"\u001b[39m, \u001b[32m10\u001b[39m),\n",
       "  (\u001b[32m\"Asturias\"\u001b[39m, \u001b[32m\"ccaa\"\u001b[39m, \u001b[32m11\u001b[39m),\n",
       "  (\u001b[32m\"Madrid\"\u001b[39m, \u001b[32m\"ccaa\"\u001b[39m, \u001b[32m13\u001b[39m),\n",
       "  (\u001b[32m\"Navarra\"\u001b[39m, \u001b[32m\"ccaa\"\u001b[39m, \u001b[32m14\u001b[39m),\n",
       "  (\u001b[32m\"Comunidad Valenciana\"\u001b[39m, \u001b[32m\"ccaa\"\u001b[39m, \u001b[32m15\u001b[39m),\n",
       "  (\u001b[32m\"Extremadura\"\u001b[39m, \u001b[32m\"ccaa\"\u001b[39m, \u001b[32m16\u001b[39m),\n",
       "  (\u001b[32m\"Galicia\"\u001b[39m, \u001b[32m\"ccaa\"\u001b[39m, \u001b[32m17\u001b[39m),\n",
       "  (\u001b[32m\"Islas Baleares\"\u001b[39m, \u001b[32m\"ccaa\"\u001b[39m, \u001b[32m8743\u001b[39m),\n",
       "  (\u001b[32m\"Islas Canarias\"\u001b[39m, \u001b[32m\"ccaa\"\u001b[39m, \u001b[32m8742\u001b[39m),\n",
       "  (\u001b[32m\"La Rioja\"\u001b[39m, \u001b[32m\"ccaa\"\u001b[39m, \u001b[32m20\u001b[39m),\n",
       "  (\u001b[32m\"Murcia\"\u001b[39m, \u001b[32m\"ccaa\"\u001b[39m, \u001b[32m21\u001b[39m)\n",
       ")\n",
       "\u001b[36mdfRegion\u001b[39m: \u001b[32mDataFrame\u001b[39m = [region: string, geo_limit: string ... 1 more field]"
      ]
     },
     "execution_count": 3,
     "metadata": {},
     "output_type": "execute_result"
    }
   ],
   "source": [
    "val dataSeq = Seq(\n",
    "  (\"Peninsular\", \"peninsular\", 8741),\n",
    "  (\"Ceuta\", \"ceuta\", 8744),\n",
    "  (\"Melilla\", \"melilla\", 8745),\n",
    "  (\"Andalucía\", \"ccaa\", 4),\n",
    "  (\"Aragón\", \"ccaa\", 5),\n",
    "  (\"Cantabria\", \"ccaa\", 6),\n",
    "  (\"Castilla la Mancha\", \"ccaa\", 7),\n",
    "  (\"Castilla y Leon\", \"ccaa\", 8),\n",
    "  (\"Cataluña\", \"ccaa\", 9),\n",
    "  (\"Pais Vasco\", \"ccaa\", 10),\n",
    "  (\"Asturias\", \"ccaa\", 11),\n",
    "  (\"Madrid\", \"ccaa\", 13),\n",
    "  (\"Navarra\", \"ccaa\", 14),\n",
    "  (\"Comunidad Valenciana\", \"ccaa\", 15),\n",
    "  (\"Extremadura\", \"ccaa\", 16),\n",
    "  (\"Galicia\", \"ccaa\", 17),\n",
    "  (\"Islas Baleares\", \"ccaa\", 8743),\n",
    "  (\"Islas Canarias\", \"ccaa\", 8742),\n",
    "  (\"La Rioja\", \"ccaa\", 20),\n",
    "  (\"Murcia\", \"ccaa\", 21)\n",
    ")\n",
    "\n",
    "// Convertir el Seq en un DataFrame\n",
    "val dfRegion: DataFrame = dataSeq.toDF(\"region\", \"geo_limit\", \"geo_id\")\n",
    "\n",
    "// Mostrar el DataFrame para verificar el contenido\n",
    "dfRegion.show()\n",
    "\n",
    "// Guardar el DataFrame como un archivo CSV\n",
    "//dfRegion.write\n",
    "  //.option(\"header\", \"true\") // Agregar encabezados al CSV\n",
    "  //.csv(\"../data/csv/csvRegionesParaDescargar.csv\") // Especificar la ruta donde se guardará el CSV"
   ]
  },
  {
   "cell_type": "code",
   "execution_count": 4,
   "metadata": {},
   "outputs": [
    {
     "data": {
      "text/html": [
       "<script>\n",
       "var comm = Jupyter.notebook.kernel.comm_manager.new_comm('cancel-stage-9fd93dd9-fd90-4822-af09-05c1b7c78124', {});\n",
       "\n",
       "function cancelStage(stageId) {\n",
       "  console.log('Cancelling stage ' + stageId);\n",
       "  comm.send({ 'stageId': stageId });\n",
       "}\n",
       "</script>\n",
       "          "
      ]
     },
     "metadata": {},
     "output_type": "display_data"
    },
    {
     "data": {
      "text/html": [
       "<div>\n",
       "  <span style=\"float: left;\">parquet at cmd3.sc:2</span>\n",
       "</div>\n"
      ]
     },
     "metadata": {},
     "output_type": "display_data"
    },
    {
     "data": {
      "text/html": [
       "<div class=\"progress\">\n",
       "  <div class=\"progress-bar\" role=\"progressbar\" style=\"background-color: blue; width: 100%; word-wrap: normal; white-space: nowrap; text-align: center; color: white\" aria-valuenow=\"100\" aria-valuemin=\"0\" aria-valuemax=\"100\">\n",
       "    1 / 1\n",
       "  </div>\n",
       "  <div class=\"progress-bar\" role=\"progressbar\" style=\"background-color: red; width: 0%\" aria-valuenow=\"0\" aria-valuemin=\"0\" aria-valuemax=\"100\"></div>\n",
       "</div>\n"
      ]
     },
     "metadata": {},
     "output_type": "display_data"
    },
    {
     "data": {
      "text/plain": [
       "\u001b[36mmensual\u001b[39m: \u001b[32mDataFrame\u001b[39m = [Familia: string, Tipo: string ... 6 more fields]"
      ]
     },
     "execution_count": 4,
     "metadata": {},
     "output_type": "execute_result"
    }
   ],
   "source": [
    "val mensual = spark.read\n",
    "            .parquet(\"../data/parquet/dsBalanceNacionalPorRegionesMensual11-24.parquet\")"
   ]
  },
  {
   "cell_type": "code",
   "execution_count": 5,
   "metadata": {},
   "outputs": [
    {
     "data": {
      "text/plain": [
       "\u001b[36mdataRegiones\u001b[39m: \u001b[32mDataset\u001b[39m[\u001b[32mRow\u001b[39m] = [Familia: string, Tipo: string ... 6 more fields]"
      ]
     },
     "execution_count": 5,
     "metadata": {},
     "output_type": "execute_result"
    }
   ],
   "source": [
    "//Quitar peninsular para quedarnos solo con comunidades\n",
    "//Quitar compuesto === true para quitar la suma de energias renovables y no renovables\n",
    "//Comprobar que los datos de las islas no estan duplicados\n",
    "\n",
    "val dataRegiones = mensual\n",
    "    .filter($\"Region\" !== \"Peninsular\")\n",
    "    //.filter($\"Compuesto\" === false) //Fuente unica, no suma de energias"
   ]
  },
  {
   "cell_type": "code",
   "execution_count": 6,
   "metadata": {},
   "outputs": [
    {
     "data": {
      "text/html": [
       "<div>\n",
       "  <span style=\"float: left;\">show at cmd5.sc:2</span>\n",
       "</div>\n"
      ]
     },
     "metadata": {},
     "output_type": "display_data"
    },
    {
     "data": {
      "text/html": [
       "<div class=\"progress\">\n",
       "  <div class=\"progress-bar\" role=\"progressbar\" style=\"background-color: blue; width: 100%; word-wrap: normal; white-space: nowrap; text-align: center; color: white\" aria-valuenow=\"100\" aria-valuemin=\"0\" aria-valuemax=\"100\">\n",
       "    1 / 1\n",
       "  </div>\n",
       "  <div class=\"progress-bar\" role=\"progressbar\" style=\"background-color: red; width: 0%\" aria-valuenow=\"0\" aria-valuemin=\"0\" aria-valuemax=\"100\"></div>\n",
       "</div>\n"
      ]
     },
     "metadata": {},
     "output_type": "display_data"
    },
    {
     "name": "stdout",
     "output_type": "stream",
     "text": [
      "+-------+--------------------+---------+-------------------+--------------------+-----------+--------------+--------+\n",
      "|Familia|                Tipo|Compuesto|      FechaCompleta|          Porcentaje|      Valor|BajasEmisiones|  Region|\n",
      "+-------+--------------------+---------+-------------------+--------------------+-----------+--------------+--------+\n",
      "|Demanda|  Consumos en bombeo|    false|2012-12-31 23:00:00|0.006405964782540211| -27707.604|         false|Cataluña|\n",
      "|Demanda|  Consumos en bombeo|    false|2013-01-31 23:00:00|0.007390410359594098| -28773.433|         false|Cataluña|\n",
      "|Demanda|  Consumos en bombeo|    false|2013-02-28 23:00:00|0.010804328260099359| -44065.963|         false|Cataluña|\n",
      "|Demanda|  Consumos en bombeo|    false|2013-03-31 22:00:00|0.011652633884843703| -43739.955|         false|Cataluña|\n",
      "|Demanda|  Consumos en bombeo|    false|2013-04-30 22:00:00| 0.00757518072815484| -28348.076|         false|Cataluña|\n",
      "|Demanda|  Consumos en bombeo|    false|2013-05-31 22:00:00|0.004643229882294...| -20473.785|         false|Cataluña|\n",
      "|Demanda|  Consumos en bombeo|    false|2013-06-30 22:00:00|0.004683092376266982| -19795.836|         false|Cataluña|\n",
      "|Demanda|  Consumos en bombeo|    false|2013-07-31 22:00:00|0.005213974114067189| -20172.747|         false|Cataluña|\n",
      "|Demanda|  Consumos en bombeo|    false|2013-08-31 22:00:00|0.004664445560786891| -17557.931|         false|Cataluña|\n",
      "|Demanda|  Consumos en bombeo|    false|2013-09-30 22:00:00|0.003571129297324...| -13558.459|         false|Cataluña|\n",
      "|Demanda|  Consumos en bombeo|    false|2013-10-31 23:00:00|0.008385137052912798| -32429.702|         false|Cataluña|\n",
      "|Demanda|  Consumos en bombeo|    false|2013-11-30 23:00:00|0.011136252103123403| -44957.716|         false|Cataluña|\n",
      "|Demanda|Saldo de intercam...|    false|2012-12-31 23:00:00|0.005770885262519997| -24960.706|         false|Cataluña|\n",
      "|Demanda|Saldo de intercam...|    false|2013-01-31 23:00:00|8.416323760455025E-4|  -3276.767|         false|Cataluña|\n",
      "|Demanda|Saldo de intercam...|    false|2013-02-28 23:00:00|0.008539122170923617| -34827.213|         false|Cataluña|\n",
      "|Demanda|Saldo de intercam...|    false|2013-03-31 22:00:00| 0.12428368636301872| 466517.948|         false|Cataluña|\n",
      "|Demanda|Saldo de intercam...|    false|2013-04-30 22:00:00|0.015713650043055333|  58804.108|         false|Cataluña|\n",
      "|Demanda|Saldo de intercam...|    false|2013-05-31 22:00:00| 0.08655558848915322|-381656.854|         false|Cataluña|\n",
      "|Demanda|Saldo de intercam...|    false|2013-06-30 22:00:00|0.001643536558152852|   6947.371|         false|Cataluña|\n",
      "|Demanda|Saldo de intercam...|    false|2013-07-31 22:00:00|0.005900046649176356|  22827.146|         false|Cataluña|\n",
      "+-------+--------------------+---------+-------------------+--------------------+-----------+--------------+--------+\n",
      "only showing top 20 rows\n",
      "\n"
     ]
    }
   ],
   "source": [
    "dataRegiones\n",
    "    .filter($\"Familia\" === \"Demanda\")\n",
    "    .show()"
   ]
  },
  {
   "cell_type": "code",
   "execution_count": 9,
   "metadata": {},
   "outputs": [
    {
     "data": {
      "text/html": [
       "<div>\n",
       "  <span style=\"float: left;\">show at cmd8.sc:10</span>\n",
       "</div>\n"
      ]
     },
     "metadata": {},
     "output_type": "display_data"
    },
    {
     "data": {
      "text/html": [
       "<div class=\"progress\">\n",
       "  <div class=\"progress-bar\" role=\"progressbar\" style=\"background-color: blue; width: 100%; word-wrap: normal; white-space: nowrap; text-align: center; color: white\" aria-valuenow=\"100\" aria-valuemin=\"0\" aria-valuemax=\"100\">\n",
       "    16 / 16\n",
       "  </div>\n",
       "  <div class=\"progress-bar\" role=\"progressbar\" style=\"background-color: red; width: 0%\" aria-valuenow=\"0\" aria-valuemin=\"0\" aria-valuemax=\"100\"></div>\n",
       "</div>\n"
      ]
     },
     "metadata": {},
     "output_type": "display_data"
    },
    {
     "data": {
      "text/html": [
       "<div>\n",
       "  <span style=\"float: left;\">show at cmd8.sc:10</span>\n",
       "</div>\n"
      ]
     },
     "metadata": {},
     "output_type": "display_data"
    },
    {
     "data": {
      "text/html": [
       "<div class=\"progress\">\n",
       "  <div class=\"progress-bar\" role=\"progressbar\" style=\"background-color: blue; width: 100%; word-wrap: normal; white-space: nowrap; text-align: center; color: white\" aria-valuenow=\"100\" aria-valuemin=\"0\" aria-valuemax=\"100\">\n",
       "    200 / 200\n",
       "  </div>\n",
       "  <div class=\"progress-bar\" role=\"progressbar\" style=\"background-color: red; width: 0%\" aria-valuenow=\"0\" aria-valuemin=\"0\" aria-valuemax=\"100\"></div>\n",
       "</div>\n"
      ]
     },
     "metadata": {},
     "output_type": "display_data"
    },
    {
     "name": "stdout",
     "output_type": "stream",
     "text": [
      "+--------------------+------------------------+\n",
      "|              Region|Valor total millones MWh|\n",
      "+--------------------+------------------------+\n",
      "|            Cataluña|                  391.47|\n",
      "|           Andalucía|                  315.54|\n",
      "|     Castilla y Leon|                  273.63|\n",
      "|             Galicia|                  261.19|\n",
      "|  Castilla la Mancha|                  202.78|\n",
      "|         Extremadura|                  186.94|\n",
      "|Comunidad Valenciana|                  172.84|\n",
      "|              Aragón|                  145.48|\n",
      "|            Asturias|                  119.44|\n",
      "|      Islas Canarias|                   78.93|\n",
      "|          Pais Vasco|                   59.02|\n",
      "|              Murcia|                   57.09|\n",
      "|             Navarra|                   50.05|\n",
      "|      Islas Baleares|                   42.61|\n",
      "|            La Rioja|                   20.54|\n",
      "|           Cantabria|                   18.63|\n",
      "|              Madrid|                   12.54|\n",
      "|             Melilla|                    1.91|\n",
      "|               Ceuta|                    1.86|\n",
      "+--------------------+------------------------+\n",
      "\n"
     ]
    },
    {
     "data": {
      "text/plain": [
       "\u001b[36mdataGeneracionRegiones\u001b[39m: \u001b[32mDataFrame\u001b[39m = [Region: string, ValorTotalPorRegion: double ... 1 more field]"
      ]
     },
     "execution_count": 9,
     "metadata": {},
     "output_type": "execute_result"
    }
   ],
   "source": [
    "val dataGeneracionRegiones = dataRegiones\n",
    "    .filter($\"Compuesto\" === false) \n",
    "    .filter($\"Familia\" =!= \"Demanda\")\n",
    "    .filter(date_format(col(\"FechaCompleta\"), \"yyyy\") =!= \"2010\")\n",
    "    .filter(date_format(col(\"FechaCompleta\"), \"yyyy\") < \"2020\")\n",
    "    .groupBy($\"Region\")\n",
    "    .agg(sum(\"Valor\").as(\"ValorTotalPorRegion\"))\n",
    "     .withColumn(\"Valor total millones MWh\", round(col(\"ValorTotalPorRegion\") / 1e6, 2))\n",
    "    \n",
    "dataGeneracionRegiones.orderBy(desc(\"ValorTotalPorRegion\")).select($\"Region\", $\"Valor total millones MWh\").show()"
   ]
  },
  {
   "cell_type": "code",
   "execution_count": 10,
   "metadata": {},
   "outputs": [
    {
     "data": {
      "text/html": [
       "<div>\n",
       "  <span style=\"float: left;\">show at cmd9.sc:9</span>\n",
       "</div>\n"
      ]
     },
     "metadata": {},
     "output_type": "display_data"
    },
    {
     "data": {
      "text/html": [
       "<div class=\"progress\">\n",
       "  <div class=\"progress-bar\" role=\"progressbar\" style=\"background-color: blue; width: 100%; word-wrap: normal; white-space: nowrap; text-align: center; color: white\" aria-valuenow=\"100\" aria-valuemin=\"0\" aria-valuemax=\"100\">\n",
       "    16 / 16\n",
       "  </div>\n",
       "  <div class=\"progress-bar\" role=\"progressbar\" style=\"background-color: red; width: 0%\" aria-valuenow=\"0\" aria-valuemin=\"0\" aria-valuemax=\"100\"></div>\n",
       "</div>\n"
      ]
     },
     "metadata": {},
     "output_type": "display_data"
    },
    {
     "data": {
      "text/html": [
       "<div>\n",
       "  <span style=\"float: left;\">show at cmd9.sc:9</span>\n",
       "</div>\n"
      ]
     },
     "metadata": {},
     "output_type": "display_data"
    },
    {
     "data": {
      "text/html": [
       "<div class=\"progress\">\n",
       "  <div class=\"progress-bar\" role=\"progressbar\" style=\"background-color: blue; width: 100%; word-wrap: normal; white-space: nowrap; text-align: center; color: white\" aria-valuenow=\"100\" aria-valuemin=\"0\" aria-valuemax=\"100\">\n",
       "    200 / 200\n",
       "  </div>\n",
       "  <div class=\"progress-bar\" role=\"progressbar\" style=\"background-color: red; width: 0%\" aria-valuenow=\"0\" aria-valuemin=\"0\" aria-valuemax=\"100\"></div>\n",
       "</div>\n"
      ]
     },
     "metadata": {},
     "output_type": "display_data"
    },
    {
     "name": "stdout",
     "output_type": "stream",
     "text": [
      "+--------------------+------------------------+\n",
      "|              Region|Valor total millones MWh|\n",
      "+--------------------+------------------------+\n",
      "|            Cataluña|                  180.96|\n",
      "|           Andalucía|                   141.4|\n",
      "|         Extremadura|                  119.09|\n",
      "|     Castilla y Leon|                  116.47|\n",
      "|  Castilla la Mancha|                  116.29|\n",
      "|             Galicia|                  106.76|\n",
      "|              Aragón|                   92.15|\n",
      "|Comunidad Valenciana|                   81.42|\n",
      "|            Asturias|                   44.83|\n",
      "|              Murcia|                   43.79|\n",
      "|      Islas Canarias|                   40.38|\n",
      "|             Navarra|                   34.51|\n",
      "|          Pais Vasco|                   29.62|\n",
      "|      Islas Baleares|                   21.83|\n",
      "|            La Rioja|                    9.28|\n",
      "|           Cantabria|                    6.98|\n",
      "|              Madrid|                    5.08|\n",
      "|             Melilla|                    0.98|\n",
      "|               Ceuta|                    0.93|\n",
      "+--------------------+------------------------+\n",
      "\n"
     ]
    },
    {
     "data": {
      "text/plain": [
       "\u001b[36mdataGeneracionRegiones\u001b[39m: \u001b[32mDataFrame\u001b[39m = [Region: string, ValorTotalPorRegion: double ... 1 more field]"
      ]
     },
     "execution_count": 10,
     "metadata": {},
     "output_type": "execute_result"
    }
   ],
   "source": [
    "val dataGeneracionRegiones = dataRegiones\n",
    "    .filter($\"Compuesto\" === false) \n",
    "    .filter($\"Familia\" =!= \"Demanda\")\n",
    "    .filter(date_format(col(\"FechaCompleta\"), \"yyyy\") > \"2019\") \n",
    "    .groupBy($\"Region\")\n",
    "    .agg(sum(\"Valor\").as(\"ValorTotalPorRegion\"))\n",
    "    .withColumn(\"Valor total millones MWh\", round(col(\"ValorTotalPorRegion\") / 1e6, 2))\n",
    "    \n",
    "dataGeneracionRegiones.orderBy(desc(\"ValorTotalPorRegion\")).select($\"Region\", $\"Valor total millones MWh\").show()"
   ]
  },
  {
   "cell_type": "code",
   "execution_count": 15,
   "metadata": {},
   "outputs": [
    {
     "data": {
      "text/html": [
       "<div>\n",
       "  <span style=\"float: left;\">collect at cmd14.sc:12</span>\n",
       "</div>\n"
      ]
     },
     "metadata": {},
     "output_type": "display_data"
    },
    {
     "data": {
      "text/html": [
       "<div class=\"progress\">\n",
       "  <div class=\"progress-bar\" role=\"progressbar\" style=\"background-color: blue; width: 100%; word-wrap: normal; white-space: nowrap; text-align: center; color: white\" aria-valuenow=\"100\" aria-valuemin=\"0\" aria-valuemax=\"100\">\n",
       "    16 / 16\n",
       "  </div>\n",
       "  <div class=\"progress-bar\" role=\"progressbar\" style=\"background-color: red; width: 0%\" aria-valuenow=\"0\" aria-valuemin=\"0\" aria-valuemax=\"100\"></div>\n",
       "</div>\n"
      ]
     },
     "metadata": {},
     "output_type": "display_data"
    },
    {
     "data": {
      "text/html": [
       "<div>\n",
       "  <span style=\"float: left;\">collect at cmd14.sc:12</span>\n",
       "</div>\n"
      ]
     },
     "metadata": {},
     "output_type": "display_data"
    },
    {
     "data": {
      "text/html": [
       "<div class=\"progress\">\n",
       "  <div class=\"progress-bar\" role=\"progressbar\" style=\"background-color: blue; width: 100%; word-wrap: normal; white-space: nowrap; text-align: center; color: white\" aria-valuenow=\"100\" aria-valuemin=\"0\" aria-valuemax=\"100\">\n",
       "    200 / 200\n",
       "  </div>\n",
       "  <div class=\"progress-bar\" role=\"progressbar\" style=\"background-color: red; width: 0%\" aria-valuenow=\"0\" aria-valuemin=\"0\" aria-valuemax=\"100\"></div>\n",
       "</div>\n"
      ]
     },
     "metadata": {},
     "output_type": "display_data"
    },
    {
     "data": {
      "text/html": [
       "<div>\n",
       "  <span style=\"float: left;\">collect at cmd14.sc:12</span>\n",
       "</div>\n"
      ]
     },
     "metadata": {},
     "output_type": "display_data"
    },
    {
     "data": {
      "text/html": [
       "<div class=\"progress\">\n",
       "  <div class=\"progress-bar\" role=\"progressbar\" style=\"background-color: blue; width: 100%; word-wrap: normal; white-space: nowrap; text-align: center; color: white\" aria-valuenow=\"100\" aria-valuemin=\"0\" aria-valuemax=\"100\">\n",
       "    200 / 200\n",
       "  </div>\n",
       "  <div class=\"progress-bar\" role=\"progressbar\" style=\"background-color: red; width: 0%\" aria-valuenow=\"0\" aria-valuemin=\"0\" aria-valuemax=\"100\"></div>\n",
       "</div>\n"
      ]
     },
     "metadata": {},
     "output_type": "display_data"
    },
    {
     "data": {
      "text/html": [
       "<div>\n",
       "  <span style=\"float: left;\">collect at cmd14.sc:12</span>\n",
       "</div>\n"
      ]
     },
     "metadata": {},
     "output_type": "display_data"
    },
    {
     "data": {
      "text/html": [
       "<div class=\"progress\">\n",
       "  <div class=\"progress-bar\" role=\"progressbar\" style=\"background-color: blue; width: 100%; word-wrap: normal; white-space: nowrap; text-align: center; color: white\" aria-valuenow=\"100\" aria-valuemin=\"0\" aria-valuemax=\"100\">\n",
       "    13 / 13\n",
       "  </div>\n",
       "  <div class=\"progress-bar\" role=\"progressbar\" style=\"background-color: red; width: 0%\" aria-valuenow=\"0\" aria-valuemin=\"0\" aria-valuemax=\"100\"></div>\n",
       "</div>\n"
      ]
     },
     "metadata": {},
     "output_type": "display_data"
    },
    {
     "data": {
      "text/html": [
       "<div>\n",
       "  <span style=\"float: left;\">collect at cmd14.sc:13</span>\n",
       "</div>\n"
      ]
     },
     "metadata": {},
     "output_type": "display_data"
    },
    {
     "data": {
      "text/html": [
       "<div class=\"progress\">\n",
       "  <div class=\"progress-bar\" role=\"progressbar\" style=\"background-color: blue; width: 100%; word-wrap: normal; white-space: nowrap; text-align: center; color: white\" aria-valuenow=\"100\" aria-valuemin=\"0\" aria-valuemax=\"100\">\n",
       "    16 / 16\n",
       "  </div>\n",
       "  <div class=\"progress-bar\" role=\"progressbar\" style=\"background-color: red; width: 0%\" aria-valuenow=\"0\" aria-valuemin=\"0\" aria-valuemax=\"100\"></div>\n",
       "</div>\n"
      ]
     },
     "metadata": {},
     "output_type": "display_data"
    },
    {
     "data": {
      "text/html": [
       "<div>\n",
       "  <span style=\"float: left;\">collect at cmd14.sc:13</span>\n",
       "</div>\n"
      ]
     },
     "metadata": {},
     "output_type": "display_data"
    },
    {
     "data": {
      "text/html": [
       "<div class=\"progress\">\n",
       "  <div class=\"progress-bar\" role=\"progressbar\" style=\"background-color: blue; width: 100%; word-wrap: normal; white-space: nowrap; text-align: center; color: white\" aria-valuenow=\"100\" aria-valuemin=\"0\" aria-valuemax=\"100\">\n",
       "    200 / 200\n",
       "  </div>\n",
       "  <div class=\"progress-bar\" role=\"progressbar\" style=\"background-color: red; width: 0%\" aria-valuenow=\"0\" aria-valuemin=\"0\" aria-valuemax=\"100\"></div>\n",
       "</div>\n"
      ]
     },
     "metadata": {},
     "output_type": "display_data"
    },
    {
     "data": {
      "text/html": [
       "<div>\n",
       "  <span style=\"float: left;\">collect at cmd14.sc:13</span>\n",
       "</div>\n"
      ]
     },
     "metadata": {},
     "output_type": "display_data"
    },
    {
     "data": {
      "text/html": [
       "<div class=\"progress\">\n",
       "  <div class=\"progress-bar\" role=\"progressbar\" style=\"background-color: blue; width: 100%; word-wrap: normal; white-space: nowrap; text-align: center; color: white\" aria-valuenow=\"100\" aria-valuemin=\"0\" aria-valuemax=\"100\">\n",
       "    200 / 200\n",
       "  </div>\n",
       "  <div class=\"progress-bar\" role=\"progressbar\" style=\"background-color: red; width: 0%\" aria-valuenow=\"0\" aria-valuemin=\"0\" aria-valuemax=\"100\"></div>\n",
       "</div>\n"
      ]
     },
     "metadata": {},
     "output_type": "display_data"
    },
    {
     "data": {
      "text/html": [
       "<div>\n",
       "  <span style=\"float: left;\">collect at cmd14.sc:13</span>\n",
       "</div>\n"
      ]
     },
     "metadata": {},
     "output_type": "display_data"
    },
    {
     "data": {
      "text/html": [
       "<div class=\"progress\">\n",
       "  <div class=\"progress-bar\" role=\"progressbar\" style=\"background-color: blue; width: 100%; word-wrap: normal; white-space: nowrap; text-align: center; color: white\" aria-valuenow=\"100\" aria-valuemin=\"0\" aria-valuemax=\"100\">\n",
       "    13 / 13\n",
       "  </div>\n",
       "  <div class=\"progress-bar\" role=\"progressbar\" style=\"background-color: red; width: 0%\" aria-valuenow=\"0\" aria-valuemin=\"0\" aria-valuemax=\"100\"></div>\n",
       "</div>\n"
      ]
     },
     "metadata": {},
     "output_type": "display_data"
    },
    {
     "data": {
      "text/html": [
       "<div>\n",
       "  <span style=\"float: left;\">collect at cmd14.sc:13</span>\n",
       "</div>\n"
      ]
     },
     "metadata": {},
     "output_type": "display_data"
    },
    {
     "data": {
      "text/html": [
       "<div class=\"progress\">\n",
       "  <div class=\"progress-bar\" role=\"progressbar\" style=\"background-color: blue; width: 100%; word-wrap: normal; white-space: nowrap; text-align: center; color: white\" aria-valuenow=\"100\" aria-valuemin=\"0\" aria-valuemax=\"100\">\n",
       "    16 / 16\n",
       "  </div>\n",
       "  <div class=\"progress-bar\" role=\"progressbar\" style=\"background-color: red; width: 0%\" aria-valuenow=\"0\" aria-valuemin=\"0\" aria-valuemax=\"100\"></div>\n",
       "</div>\n"
      ]
     },
     "metadata": {},
     "output_type": "display_data"
    },
    {
     "data": {
      "text/html": [
       "<div>\n",
       "  <span style=\"float: left;\">collect at cmd14.sc:13</span>\n",
       "</div>\n"
      ]
     },
     "metadata": {},
     "output_type": "display_data"
    },
    {
     "data": {
      "text/html": [
       "<div class=\"progress\">\n",
       "  <div class=\"progress-bar\" role=\"progressbar\" style=\"background-color: blue; width: 100%; word-wrap: normal; white-space: nowrap; text-align: center; color: white\" aria-valuenow=\"100\" aria-valuemin=\"0\" aria-valuemax=\"100\">\n",
       "    200 / 200\n",
       "  </div>\n",
       "  <div class=\"progress-bar\" role=\"progressbar\" style=\"background-color: red; width: 0%\" aria-valuenow=\"0\" aria-valuemin=\"0\" aria-valuemax=\"100\"></div>\n",
       "</div>\n"
      ]
     },
     "metadata": {},
     "output_type": "display_data"
    },
    {
     "data": {
      "text/html": [
       "<div>\n",
       "  <span style=\"float: left;\">collect at cmd14.sc:13</span>\n",
       "</div>\n"
      ]
     },
     "metadata": {},
     "output_type": "display_data"
    },
    {
     "data": {
      "text/html": [
       "<div class=\"progress\">\n",
       "  <div class=\"progress-bar\" role=\"progressbar\" style=\"background-color: blue; width: 100%; word-wrap: normal; white-space: nowrap; text-align: center; color: white\" aria-valuenow=\"100\" aria-valuemin=\"0\" aria-valuemax=\"100\">\n",
       "    200 / 200\n",
       "  </div>\n",
       "  <div class=\"progress-bar\" role=\"progressbar\" style=\"background-color: red; width: 0%\" aria-valuenow=\"0\" aria-valuemin=\"0\" aria-valuemax=\"100\"></div>\n",
       "</div>\n"
      ]
     },
     "metadata": {},
     "output_type": "display_data"
    },
    {
     "data": {
      "text/html": [
       "<div>\n",
       "  <span style=\"float: left;\">collect at cmd14.sc:13</span>\n",
       "</div>\n"
      ]
     },
     "metadata": {},
     "output_type": "display_data"
    },
    {
     "data": {
      "text/html": [
       "<div class=\"progress\">\n",
       "  <div class=\"progress-bar\" role=\"progressbar\" style=\"background-color: blue; width: 100%; word-wrap: normal; white-space: nowrap; text-align: center; color: white\" aria-valuenow=\"100\" aria-valuemin=\"0\" aria-valuemax=\"100\">\n",
       "    13 / 13\n",
       "  </div>\n",
       "  <div class=\"progress-bar\" role=\"progressbar\" style=\"background-color: red; width: 0%\" aria-valuenow=\"0\" aria-valuemin=\"0\" aria-valuemax=\"100\"></div>\n",
       "</div>\n"
      ]
     },
     "metadata": {},
     "output_type": "display_data"
    },
    {
     "data": {
      "text/html": [
       "<div>\n",
       "  <span style=\"float: left;\">collect at cmd14.sc:13</span>\n",
       "</div>\n"
      ]
     },
     "metadata": {},
     "output_type": "display_data"
    },
    {
     "data": {
      "text/html": [
       "<div class=\"progress\">\n",
       "  <div class=\"progress-bar\" role=\"progressbar\" style=\"background-color: blue; width: 100%; word-wrap: normal; white-space: nowrap; text-align: center; color: white\" aria-valuenow=\"100\" aria-valuemin=\"0\" aria-valuemax=\"100\">\n",
       "    16 / 16\n",
       "  </div>\n",
       "  <div class=\"progress-bar\" role=\"progressbar\" style=\"background-color: red; width: 0%\" aria-valuenow=\"0\" aria-valuemin=\"0\" aria-valuemax=\"100\"></div>\n",
       "</div>\n"
      ]
     },
     "metadata": {},
     "output_type": "display_data"
    },
    {
     "data": {
      "text/html": [
       "<div>\n",
       "  <span style=\"float: left;\">collect at cmd14.sc:13</span>\n",
       "</div>\n"
      ]
     },
     "metadata": {},
     "output_type": "display_data"
    },
    {
     "data": {
      "text/html": [
       "<div class=\"progress\">\n",
       "  <div class=\"progress-bar\" role=\"progressbar\" style=\"background-color: blue; width: 100%; word-wrap: normal; white-space: nowrap; text-align: center; color: white\" aria-valuenow=\"100\" aria-valuemin=\"0\" aria-valuemax=\"100\">\n",
       "    200 / 200\n",
       "  </div>\n",
       "  <div class=\"progress-bar\" role=\"progressbar\" style=\"background-color: red; width: 0%\" aria-valuenow=\"0\" aria-valuemin=\"0\" aria-valuemax=\"100\"></div>\n",
       "</div>\n"
      ]
     },
     "metadata": {},
     "output_type": "display_data"
    },
    {
     "data": {
      "text/html": [
       "<div>\n",
       "  <span style=\"float: left;\">collect at cmd14.sc:13</span>\n",
       "</div>\n"
      ]
     },
     "metadata": {},
     "output_type": "display_data"
    },
    {
     "data": {
      "text/html": [
       "<div class=\"progress\">\n",
       "  <div class=\"progress-bar\" role=\"progressbar\" style=\"background-color: blue; width: 100%; word-wrap: normal; white-space: nowrap; text-align: center; color: white\" aria-valuenow=\"100\" aria-valuemin=\"0\" aria-valuemax=\"100\">\n",
       "    200 / 200\n",
       "  </div>\n",
       "  <div class=\"progress-bar\" role=\"progressbar\" style=\"background-color: red; width: 0%\" aria-valuenow=\"0\" aria-valuemin=\"0\" aria-valuemax=\"100\"></div>\n",
       "</div>\n"
      ]
     },
     "metadata": {},
     "output_type": "display_data"
    },
    {
     "data": {
      "text/html": [
       "<div>\n",
       "  <span style=\"float: left;\">collect at cmd14.sc:13</span>\n",
       "</div>\n"
      ]
     },
     "metadata": {},
     "output_type": "display_data"
    },
    {
     "data": {
      "text/html": [
       "<div class=\"progress\">\n",
       "  <div class=\"progress-bar\" role=\"progressbar\" style=\"background-color: blue; width: 100%; word-wrap: normal; white-space: nowrap; text-align: center; color: white\" aria-valuenow=\"100\" aria-valuemin=\"0\" aria-valuemax=\"100\">\n",
       "    13 / 13\n",
       "  </div>\n",
       "  <div class=\"progress-bar\" role=\"progressbar\" style=\"background-color: red; width: 0%\" aria-valuenow=\"0\" aria-valuemin=\"0\" aria-valuemax=\"100\"></div>\n",
       "</div>\n"
      ]
     },
     "metadata": {},
     "output_type": "display_data"
    },
    {
     "data": {
      "text/html": [
       "<div>\n",
       "  <span style=\"float: left;\">collect at cmd14.sc:13</span>\n",
       "</div>\n"
      ]
     },
     "metadata": {},
     "output_type": "display_data"
    },
    {
     "data": {
      "text/html": [
       "<div class=\"progress\">\n",
       "  <div class=\"progress-bar\" role=\"progressbar\" style=\"background-color: blue; width: 100%; word-wrap: normal; white-space: nowrap; text-align: center; color: white\" aria-valuenow=\"100\" aria-valuemin=\"0\" aria-valuemax=\"100\">\n",
       "    16 / 16\n",
       "  </div>\n",
       "  <div class=\"progress-bar\" role=\"progressbar\" style=\"background-color: red; width: 0%\" aria-valuenow=\"0\" aria-valuemin=\"0\" aria-valuemax=\"100\"></div>\n",
       "</div>\n"
      ]
     },
     "metadata": {},
     "output_type": "display_data"
    },
    {
     "data": {
      "text/html": [
       "<div>\n",
       "  <span style=\"float: left;\">collect at cmd14.sc:13</span>\n",
       "</div>\n"
      ]
     },
     "metadata": {},
     "output_type": "display_data"
    },
    {
     "data": {
      "text/html": [
       "<div class=\"progress\">\n",
       "  <div class=\"progress-bar\" role=\"progressbar\" style=\"background-color: blue; width: 100%; word-wrap: normal; white-space: nowrap; text-align: center; color: white\" aria-valuenow=\"100\" aria-valuemin=\"0\" aria-valuemax=\"100\">\n",
       "    200 / 200\n",
       "  </div>\n",
       "  <div class=\"progress-bar\" role=\"progressbar\" style=\"background-color: red; width: 0%\" aria-valuenow=\"0\" aria-valuemin=\"0\" aria-valuemax=\"100\"></div>\n",
       "</div>\n"
      ]
     },
     "metadata": {},
     "output_type": "display_data"
    },
    {
     "data": {
      "text/html": [
       "<div>\n",
       "  <span style=\"float: left;\">collect at cmd14.sc:13</span>\n",
       "</div>\n"
      ]
     },
     "metadata": {},
     "output_type": "display_data"
    },
    {
     "data": {
      "text/html": [
       "<div class=\"progress\">\n",
       "  <div class=\"progress-bar\" role=\"progressbar\" style=\"background-color: blue; width: 100%; word-wrap: normal; white-space: nowrap; text-align: center; color: white\" aria-valuenow=\"100\" aria-valuemin=\"0\" aria-valuemax=\"100\">\n",
       "    200 / 200\n",
       "  </div>\n",
       "  <div class=\"progress-bar\" role=\"progressbar\" style=\"background-color: red; width: 0%\" aria-valuenow=\"0\" aria-valuemin=\"0\" aria-valuemax=\"100\"></div>\n",
       "</div>\n"
      ]
     },
     "metadata": {},
     "output_type": "display_data"
    },
    {
     "data": {
      "text/html": [
       "<div>\n",
       "  <span style=\"float: left;\">collect at cmd14.sc:13</span>\n",
       "</div>\n"
      ]
     },
     "metadata": {},
     "output_type": "display_data"
    },
    {
     "data": {
      "text/html": [
       "<div class=\"progress\">\n",
       "  <div class=\"progress-bar\" role=\"progressbar\" style=\"background-color: blue; width: 100%; word-wrap: normal; white-space: nowrap; text-align: center; color: white\" aria-valuenow=\"100\" aria-valuemin=\"0\" aria-valuemax=\"100\">\n",
       "    13 / 13\n",
       "  </div>\n",
       "  <div class=\"progress-bar\" role=\"progressbar\" style=\"background-color: red; width: 0%\" aria-valuenow=\"0\" aria-valuemin=\"0\" aria-valuemax=\"100\"></div>\n",
       "</div>\n"
      ]
     },
     "metadata": {},
     "output_type": "display_data"
    },
    {
     "data": {
      "text/html": [
       "<div>\n",
       "  <span style=\"float: left;\">collect at cmd14.sc:13</span>\n",
       "</div>\n"
      ]
     },
     "metadata": {},
     "output_type": "display_data"
    },
    {
     "data": {
      "text/html": [
       "<div class=\"progress\">\n",
       "  <div class=\"progress-bar\" role=\"progressbar\" style=\"background-color: blue; width: 100%; word-wrap: normal; white-space: nowrap; text-align: center; color: white\" aria-valuenow=\"100\" aria-valuemin=\"0\" aria-valuemax=\"100\">\n",
       "    16 / 16\n",
       "  </div>\n",
       "  <div class=\"progress-bar\" role=\"progressbar\" style=\"background-color: red; width: 0%\" aria-valuenow=\"0\" aria-valuemin=\"0\" aria-valuemax=\"100\"></div>\n",
       "</div>\n"
      ]
     },
     "metadata": {},
     "output_type": "display_data"
    },
    {
     "data": {
      "text/html": [
       "<div>\n",
       "  <span style=\"float: left;\">collect at cmd14.sc:13</span>\n",
       "</div>\n"
      ]
     },
     "metadata": {},
     "output_type": "display_data"
    },
    {
     "data": {
      "text/html": [
       "<div class=\"progress\">\n",
       "  <div class=\"progress-bar\" role=\"progressbar\" style=\"background-color: blue; width: 100%; word-wrap: normal; white-space: nowrap; text-align: center; color: white\" aria-valuenow=\"100\" aria-valuemin=\"0\" aria-valuemax=\"100\">\n",
       "    200 / 200\n",
       "  </div>\n",
       "  <div class=\"progress-bar\" role=\"progressbar\" style=\"background-color: red; width: 0%\" aria-valuenow=\"0\" aria-valuemin=\"0\" aria-valuemax=\"100\"></div>\n",
       "</div>\n"
      ]
     },
     "metadata": {},
     "output_type": "display_data"
    },
    {
     "data": {
      "text/html": [
       "<div>\n",
       "  <span style=\"float: left;\">collect at cmd14.sc:13</span>\n",
       "</div>\n"
      ]
     },
     "metadata": {},
     "output_type": "display_data"
    },
    {
     "data": {
      "text/html": [
       "<div class=\"progress\">\n",
       "  <div class=\"progress-bar\" role=\"progressbar\" style=\"background-color: blue; width: 100%; word-wrap: normal; white-space: nowrap; text-align: center; color: white\" aria-valuenow=\"100\" aria-valuemin=\"0\" aria-valuemax=\"100\">\n",
       "    200 / 200\n",
       "  </div>\n",
       "  <div class=\"progress-bar\" role=\"progressbar\" style=\"background-color: red; width: 0%\" aria-valuenow=\"0\" aria-valuemin=\"0\" aria-valuemax=\"100\"></div>\n",
       "</div>\n"
      ]
     },
     "metadata": {},
     "output_type": "display_data"
    },
    {
     "data": {
      "text/html": [
       "<div>\n",
       "  <span style=\"float: left;\">collect at cmd14.sc:13</span>\n",
       "</div>\n"
      ]
     },
     "metadata": {},
     "output_type": "display_data"
    },
    {
     "data": {
      "text/html": [
       "<div class=\"progress\">\n",
       "  <div class=\"progress-bar\" role=\"progressbar\" style=\"background-color: blue; width: 100%; word-wrap: normal; white-space: nowrap; text-align: center; color: white\" aria-valuenow=\"100\" aria-valuemin=\"0\" aria-valuemax=\"100\">\n",
       "    13 / 13\n",
       "  </div>\n",
       "  <div class=\"progress-bar\" role=\"progressbar\" style=\"background-color: red; width: 0%\" aria-valuenow=\"0\" aria-valuemin=\"0\" aria-valuemax=\"100\"></div>\n",
       "</div>\n"
      ]
     },
     "metadata": {},
     "output_type": "display_data"
    },
    {
     "data": {
      "text/html": [
       "<div>\n",
       "  <span style=\"float: left;\">collect at cmd14.sc:13</span>\n",
       "</div>\n"
      ]
     },
     "metadata": {},
     "output_type": "display_data"
    },
    {
     "data": {
      "text/html": [
       "<div class=\"progress\">\n",
       "  <div class=\"progress-bar\" role=\"progressbar\" style=\"background-color: blue; width: 100%; word-wrap: normal; white-space: nowrap; text-align: center; color: white\" aria-valuenow=\"100\" aria-valuemin=\"0\" aria-valuemax=\"100\">\n",
       "    16 / 16\n",
       "  </div>\n",
       "  <div class=\"progress-bar\" role=\"progressbar\" style=\"background-color: red; width: 0%\" aria-valuenow=\"0\" aria-valuemin=\"0\" aria-valuemax=\"100\"></div>\n",
       "</div>\n"
      ]
     },
     "metadata": {},
     "output_type": "display_data"
    },
    {
     "data": {
      "text/html": [
       "<div>\n",
       "  <span style=\"float: left;\">collect at cmd14.sc:13</span>\n",
       "</div>\n"
      ]
     },
     "metadata": {},
     "output_type": "display_data"
    },
    {
     "data": {
      "text/html": [
       "<div class=\"progress\">\n",
       "  <div class=\"progress-bar\" role=\"progressbar\" style=\"background-color: blue; width: 100%; word-wrap: normal; white-space: nowrap; text-align: center; color: white\" aria-valuenow=\"100\" aria-valuemin=\"0\" aria-valuemax=\"100\">\n",
       "    200 / 200\n",
       "  </div>\n",
       "  <div class=\"progress-bar\" role=\"progressbar\" style=\"background-color: red; width: 0%\" aria-valuenow=\"0\" aria-valuemin=\"0\" aria-valuemax=\"100\"></div>\n",
       "</div>\n"
      ]
     },
     "metadata": {},
     "output_type": "display_data"
    },
    {
     "data": {
      "text/html": [
       "<div>\n",
       "  <span style=\"float: left;\">collect at cmd14.sc:13</span>\n",
       "</div>\n"
      ]
     },
     "metadata": {},
     "output_type": "display_data"
    },
    {
     "data": {
      "text/html": [
       "<div class=\"progress\">\n",
       "  <div class=\"progress-bar\" role=\"progressbar\" style=\"background-color: blue; width: 100%; word-wrap: normal; white-space: nowrap; text-align: center; color: white\" aria-valuenow=\"100\" aria-valuemin=\"0\" aria-valuemax=\"100\">\n",
       "    200 / 200\n",
       "  </div>\n",
       "  <div class=\"progress-bar\" role=\"progressbar\" style=\"background-color: red; width: 0%\" aria-valuenow=\"0\" aria-valuemin=\"0\" aria-valuemax=\"100\"></div>\n",
       "</div>\n"
      ]
     },
     "metadata": {},
     "output_type": "display_data"
    },
    {
     "data": {
      "text/html": [
       "\n",
       "      <script type=\"text/javascript\">\n",
       "        require.config({\n",
       "  paths: {\n",
       "    d3: 'https://cdnjs.cloudflare.com/ajax/libs/d3/3.5.17/d3.min',\n",
       "    plotly: 'https://cdn.plot.ly/plotly-1.41.3.min',\n",
       "    jquery: 'https://code.jquery.com/jquery-3.3.1.min'\n",
       "  },\n",
       "\n",
       "  shim: {\n",
       "    plotly: {\n",
       "      deps: ['d3', 'jquery'],\n",
       "      exports: 'plotly'\n",
       "    }\n",
       "  }\n",
       "});\n",
       "        \n",
       "\n",
       "        require(['plotly'], function(Plotly) {\n",
       "          window.Plotly = Plotly;\n",
       "        });\n",
       "      </script>\n",
       "    "
      ]
     },
     "metadata": {},
     "output_type": "display_data"
    },
    {
     "data": {
      "text/html": [
       "<div>\n",
       "  <span style=\"float: left;\">collect at cmd14.sc:13</span>\n",
       "</div>\n"
      ]
     },
     "metadata": {},
     "output_type": "display_data"
    },
    {
     "data": {
      "text/html": [
       "<div class=\"progress\">\n",
       "  <div class=\"progress-bar\" role=\"progressbar\" style=\"background-color: blue; width: 100%; word-wrap: normal; white-space: nowrap; text-align: center; color: white\" aria-valuenow=\"100\" aria-valuemin=\"0\" aria-valuemax=\"100\">\n",
       "    13 / 13\n",
       "  </div>\n",
       "  <div class=\"progress-bar\" role=\"progressbar\" style=\"background-color: red; width: 0%\" aria-valuenow=\"0\" aria-valuemin=\"0\" aria-valuemax=\"100\"></div>\n",
       "</div>\n"
      ]
     },
     "metadata": {},
     "output_type": "display_data"
    },
    {
     "data": {
      "application/vnd.plotly.v1+json": {
       "data": [
        {
         "name": "Cataluña",
         "type": "scatter",
         "x": [
          "2011",
          "2012",
          "2013",
          "2014",
          "2015",
          "2016",
          "2017",
          "2018",
          "2019",
          "2020",
          "2021",
          "2022",
          "2023"
         ],
         "y": [
          42015211.81700001,
          44544380.00499997,
          44636773.717,
          41681109.98499999,
          42812316.39999998,
          43284806.65299998,
          44865955.50999999,
          42705726.35,
          44925074.60399999,
          42828767.656999975,
          39702160.671,
          41269657.92000001,
          38399157.410000004
         ]
        },
        {
         "name": "Andalucía",
         "type": "scatter",
         "x": [
          "2011",
          "2012",
          "2013",
          "2014",
          "2015",
          "2016",
          "2017",
          "2018",
          "2019",
          "2020",
          "2021",
          "2022",
          "2023"
         ],
         "y": [
          38673256.341,
          37789022.37600001,
          34036636.36299999,
          32384781.161000002,
          35140264.694000006,
          32998195.45600001,
          37141490.656,
          34282003.88599999,
          33094717.971,
          28157836.585000005,
          30252079.143000014,
          35312318.22,
          32317855.215000007
         ]
        },
        {
         "name": "Castilla y Leon",
         "type": "scatter",
         "x": [
          "2011",
          "2012",
          "2013",
          "2014",
          "2015",
          "2016",
          "2017",
          "2018",
          "2019",
          "2020",
          "2021",
          "2022",
          "2023"
         ],
         "y": [
          34704346.581,
          34867923.824999996,
          32022214.123999998,
          33650128.85699999,
          31847016.888,
          32435879.952000003,
          24260696.606000006,
          26899699.15199999,
          22944628.81199999,
          25636435.884,
          25913814.948,
          24208415.112999987,
          25903428.742
         ]
        },
        {
         "name": "Galicia",
         "type": "scatter",
         "x": [
          "2011",
          "2012",
          "2013",
          "2014",
          "2015",
          "2016",
          "2017",
          "2018",
          "2019",
          "2020",
          "2021",
          "2022",
          "2023"
         ],
         "y": [
          25670852.762,
          30128662.607000012,
          33039061.906000026,
          30266859.565999992,
          29985823.21,
          29371785.674000006,
          26403844.724,
          31438551.016999993,
          24879736.837,
          24640094.119000003,
          23236784.028,
          23564044.577000014,
          23485333.511000004
         ]
        },
        {
         "name": "Castilla la Mancha",
         "type": "scatter",
         "x": [
          "2011",
          "2012",
          "2013",
          "2014",
          "2015",
          "2016",
          "2017",
          "2018",
          "2019",
          "2020",
          "2021",
          "2022",
          "2023"
         ],
         "y": [
          24214956.008999992,
          25166299.64400001,
          22617523.826,
          22261513.448000003,
          21559308.619000006,
          21209585.584,
          21523066.65100001,
          21756813.09100001,
          22474369.234,
          23363070.025,
          23000001.327000007,
          25744472.306999996,
          28737701.819
         ]
        },
        {
         "name": "Extremadura",
         "type": "scatter",
         "x": [
          "2011",
          "2012",
          "2013",
          "2014",
          "2015",
          "2016",
          "2017",
          "2018",
          "2019",
          "2020",
          "2021",
          "2022",
          "2023"
         ],
         "y": [
          20825469.873999994,
          17748659.559,
          20944192.240000006,
          22151898.364,
          20325917.1,
          21941018.866000004,
          20928792.953000013,
          21149584.062000003,
          20929243.246999994,
          21621928.562,
          24562663.501,
          26688199.727999996,
          29927521.225000005
         ]
        }
       ],
       "layout": {
        "autosize": true,
        "xaxis": {
         "autorange": true,
         "range": [
          2010.2805573147562,
          2023.7194426852438
         ],
         "type": "linear"
        },
        "yaxis": {
         "autorange": true,
         "range": [
          15758030.4315,
          46915703.731499985
         ],
         "type": "linear"
        }
       }
      },
      "image/png": "[encoded data removed]",
      "text/html": [
       "<div class=\"chart\" id=\"plot-98803c07-e66b-47a2-91fd-bd7024b71b0d\"></div>\n",
       "<script>require(['plotly'], function(Plotly) {\n",
       "  (function () {\n",
       "  var data0 = {\"x\":[\"2011\",\"2012\",\"2013\",\"2014\",\"2015\",\"2016\",\"2017\",\"2018\",\"2019\",\"2020\",\"2021\",\"2022\",\"2023\"],\"name\":\"Cataluña\",\"y\":[4.201521181700001E7,4.454438000499997E7,4.4636773717E7,4.168110998499999E7,4.281231639999998E7,4.328480665299998E7,4.486595550999999E7,4.270572635E7,4.492507460399999E7,4.2828767656999975E7,3.9702160671E7,4.126965792000001E7,3.8399157410000004E7],\"type\":\"scatter\"};\n",
       "  var data1 = {\"x\":[\"2011\",\"2012\",\"2013\",\"2014\",\"2015\",\"2016\",\"2017\",\"2018\",\"2019\",\"2020\",\"2021\",\"2022\",\"2023\"],\"name\":\"Andalucía\",\"y\":[3.8673256341E7,3.778902237600001E7,3.403663636299999E7,3.2384781161000002E7,3.5140264694000006E7,3.299819545600001E7,3.7141490656E7,3.428200388599999E7,3.3094717971E7,2.8157836585000005E7,3.0252079143000014E7,3.531231822E7,3.2317855215000007E7],\"type\":\"scatter\"};\n",
       "  var data2 = {\"x\":[\"2011\",\"2012\",\"2013\",\"2014\",\"2015\",\"2016\",\"2017\",\"2018\",\"2019\",\"2020\",\"2021\",\"2022\",\"2023\"],\"name\":\"Castilla y Leon\",\"y\":[3.4704346581E7,3.4867923824999996E7,3.2022214123999998E7,3.365012885699999E7,3.1847016888E7,3.2435879952000003E7,2.4260696606000006E7,2.689969915199999E7,2.294462881199999E7,2.5636435884E7,2.5913814948E7,2.4208415112999987E7,2.5903428742E7],\"type\":\"scatter\"};\n",
       "  var data3 = {\"x\":[\"2011\",\"2012\",\"2013\",\"2014\",\"2015\",\"2016\",\"2017\",\"2018\",\"2019\",\"2020\",\"2021\",\"2022\",\"2023\"],\"name\":\"Galicia\",\"y\":[2.5670852762E7,3.0128662607000012E7,3.3039061906000026E7,3.0266859565999992E7,2.998582321E7,2.9371785674000006E7,2.6403844724E7,3.1438551016999993E7,2.4879736837E7,2.4640094119000003E7,2.3236784028E7,2.3564044577000014E7,2.3485333511000004E7],\"type\":\"scatter\"};\n",
       "  var data4 = {\"x\":[\"2011\",\"2012\",\"2013\",\"2014\",\"2015\",\"2016\",\"2017\",\"2018\",\"2019\",\"2020\",\"2021\",\"2022\",\"2023\"],\"name\":\"Castilla la Mancha\",\"y\":[2.4214956008999992E7,2.516629964400001E7,2.2617523826E7,2.2261513448000003E7,2.1559308619000006E7,2.1209585584E7,2.152306665100001E7,2.175681309100001E7,2.2474369234E7,2.3363070025E7,2.3000001327000007E7,2.5744472306999996E7,2.8737701819E7],\"type\":\"scatter\"};\n",
       "  var data5 = {\"x\":[\"2011\",\"2012\",\"2013\",\"2014\",\"2015\",\"2016\",\"2017\",\"2018\",\"2019\",\"2020\",\"2021\",\"2022\",\"2023\"],\"name\":\"Extremadura\",\"y\":[2.0825469873999994E7,1.7748659559E7,2.0944192240000006E7,2.2151898364E7,2.03259171E7,2.1941018866000004E7,2.0928792953000013E7,2.1149584062000003E7,2.0929243246999994E7,2.1621928562E7,2.4562663501E7,2.6688199727999996E7,2.9927521225000005E7],\"type\":\"scatter\"};\n",
       "\n",
       "  var data = [data0, data1, data2, data3, data4, data5];\n",
       "  var layout = {};\n",
       "\n",
       "  Plotly.plot('plot-98803c07-e66b-47a2-91fd-bd7024b71b0d', data, layout);\n",
       "})();\n",
       "});\n",
       "      </script>\n",
       "           "
      ]
     },
     "metadata": {},
     "output_type": "display_data"
    },
    {
     "data": {
      "text/plain": [
       "defined \u001b[32mfunction\u001b[39m \u001b[36mAnalisisEnergias\u001b[39m\n",
       "\u001b[36mdf\u001b[39m: \u001b[32mDataset\u001b[39m[\u001b[32mRow\u001b[39m] = [Familia: string, Tipo: string ... 6 more fields]\n",
       "\u001b[36mregiones\u001b[39m: \u001b[32mSeq\u001b[39m[\u001b[32mString\u001b[39m] = \u001b[33mList\u001b[39m(\n",
       "  \u001b[32m\"Catalu\\u00f1a\"\u001b[39m,\n",
       "  \u001b[32m\"Andaluc\\u00eda\"\u001b[39m,\n",
       "  \u001b[32m\"Castilla y Leon\"\u001b[39m,\n",
       "  \u001b[32m\"Galicia\"\u001b[39m,\n",
       "  \u001b[32m\"Castilla la Mancha\"\u001b[39m,\n",
       "  \u001b[32m\"Extremadura\"\u001b[39m\n",
       ")"
      ]
     },
     "execution_count": 15,
     "metadata": {},
     "output_type": "execute_result"
    }
   ],
   "source": [
    "def AnalisisEnergias(listaRegiones: Seq[String], df: DataFrame): Unit = {\n",
    "  // Agrupar y calcular la media para datos renovables\n",
    "  def calcularValorAnual(df: DataFrame, region: String): DataFrame = {\n",
    "    df.filter(col(\"Region\") === region)\n",
    "      .filter(date_format(col(\"FechaCompleta\"), \"yyyy\") =!= \"2010\")  \n",
    "      .groupBy(date_format(col(\"FechaCompleta\"), \"yyyy\").as(\"Año\"))\n",
    "      .agg(sum(\"Valor\").as(\"ValorTotal\"))\n",
    "      .orderBy(\"Año\")\n",
    "  }\n",
    "\n",
    "  val valores = listaRegiones.map(region => calcularValorAnual(df, region))\n",
    "  val fechas = valores.head.select(\"Año\").as[String].collect.toSeq\n",
    "  val seqValores = valores.map(valor => valor.select(\"Valortotal\").as[Double].collect.toSeq)\n",
    "\n",
    "  val traces = listaRegiones.zip(seqValores).map { case (nombre, seqValor) =>\n",
    "    Scatter(fechas, seqValor, name = nombre)\n",
    "  }\n",
    "\n",
    "  val data = traces\n",
    "  plot(data)\n",
    "}\n",
    "\n",
    "val df = dataRegiones\n",
    "    .filter($\"Compuesto\" === false) \n",
    "    .filter($\"Familia\" =!= \"Demanda\")\n",
    "    .filter(!date_format(col(\"FechaCompleta\"), \"yyyy\").isin(\"2010\",\"2024\"))\n",
    "\n",
    "val regiones = Seq(\"Cataluña\", \"Andalucía\", \"Castilla y Leon\", \"Galicia\", \"Castilla la Mancha\", \"Extremadura\")\n",
    "AnalisisEnergias(regiones, df)"
   ]
  },
  {
   "cell_type": "code",
   "execution_count": 12,
   "metadata": {},
   "outputs": [
    {
     "data": {
      "text/html": [
       "<div>\n",
       "  <span style=\"float: left;\">show at cmd11.sc:10</span>\n",
       "</div>\n"
      ]
     },
     "metadata": {},
     "output_type": "display_data"
    },
    {
     "data": {
      "text/html": [
       "<div class=\"progress\">\n",
       "  <div class=\"progress-bar\" role=\"progressbar\" style=\"background-color: blue; width: 100%; word-wrap: normal; white-space: nowrap; text-align: center; color: white\" aria-valuenow=\"100\" aria-valuemin=\"0\" aria-valuemax=\"100\">\n",
       "    16 / 16\n",
       "  </div>\n",
       "  <div class=\"progress-bar\" role=\"progressbar\" style=\"background-color: red; width: 0%\" aria-valuenow=\"0\" aria-valuemin=\"0\" aria-valuemax=\"100\"></div>\n",
       "</div>\n"
      ]
     },
     "metadata": {},
     "output_type": "display_data"
    },
    {
     "data": {
      "text/html": [
       "<div>\n",
       "  <span style=\"float: left;\">show at cmd11.sc:10</span>\n",
       "</div>\n"
      ]
     },
     "metadata": {},
     "output_type": "display_data"
    },
    {
     "data": {
      "text/html": [
       "<div class=\"progress\">\n",
       "  <div class=\"progress-bar\" role=\"progressbar\" style=\"background-color: blue; width: 100%; word-wrap: normal; white-space: nowrap; text-align: center; color: white\" aria-valuenow=\"100\" aria-valuemin=\"0\" aria-valuemax=\"100\">\n",
       "    200 / 200\n",
       "  </div>\n",
       "  <div class=\"progress-bar\" role=\"progressbar\" style=\"background-color: red; width: 0%\" aria-valuenow=\"0\" aria-valuemin=\"0\" aria-valuemax=\"100\"></div>\n",
       "</div>\n"
      ]
     },
     "metadata": {},
     "output_type": "display_data"
    },
    {
     "name": "stdout",
     "output_type": "stream",
     "text": [
      "+--------------------+------------------+------------------------+\n",
      "|              Region|              Tipo|Valor total millones MWh|\n",
      "+--------------------+------------------+------------------------+\n",
      "|            Cataluña|           Nuclear|                   11.07|\n",
      "|         Extremadura|           Nuclear|                    7.08|\n",
      "|     Castilla y Leon|            Eólica|                    6.32|\n",
      "|  Castilla la Mancha|Solar fotovoltaica|                    6.19|\n",
      "|              Aragón|            Eólica|                    6.02|\n",
      "|         Extremadura|Solar fotovoltaica|                    5.77|\n",
      "|           Andalucía|Solar fotovoltaica|                    5.77|\n",
      "|             Galicia|        Hidráulica|                    5.63|\n",
      "|     Castilla y Leon|        Hidráulica|                    4.62|\n",
      "|  Castilla la Mancha|            Eólica|                    4.55|\n",
      "|             Galicia|            Eólica|                    4.31|\n",
      "|Comunidad Valenciana|           Nuclear|                    3.45|\n",
      "|           Andalucía|            Eólica|                    3.38|\n",
      "|      Islas Canarias|   Ciclo combinado|                    2.89|\n",
      "|  Castilla la Mancha|           Nuclear|                    2.77|\n",
      "|              Aragón|Solar fotovoltaica|                     2.5|\n",
      "|      Islas Baleares|   Ciclo combinado|                     2.3|\n",
      "|         Extremadura|        Hidráulica|                    2.21|\n",
      "|           Andalucía|   Ciclo combinado|                    2.16|\n",
      "|            Cataluña|   Ciclo combinado|                    2.08|\n",
      "+--------------------+------------------+------------------------+\n",
      "only showing top 20 rows\n",
      "\n"
     ]
    }
   ],
   "source": [
    "//TOP ENERGIA POR REGION\n",
    "val df = dataRegiones\n",
    "    .filter($\"Compuesto\" === false) \n",
    "    .filter($\"Familia\" =!= \"Demanda\")\n",
    "    //.filter(!date_format(col(\"FechaCompleta\"), \"yyyy\").isin(\"2010\",\"2024\"))\n",
    "    .filter(date_format(col(\"FechaCompleta\"), \"yyyy\") === \"2024\")\n",
    "    .groupBy($\"Region\", $\"Tipo\")\n",
    "    .agg(sum(\"Valor\").as(\"ValorTotal\"))\n",
    "    .orderBy(desc(\"ValorTotal\"))\n",
    "    .withColumn(\"Valor total millones MWh\", round(col(\"ValorTotal\") / 1e6, 2))\n",
    "    .select(\"Region\", \"Tipo\", \"Valor total millones MWh\")\n",
    "    .show()"
   ]
  },
  {
   "cell_type": "code",
   "execution_count": 14,
   "metadata": {},
   "outputs": [
    {
     "data": {
      "text/html": [
       "<div>\n",
       "  <span style=\"float: left;\">show at cmd13.sc:23</span>\n",
       "</div>\n"
      ]
     },
     "metadata": {},
     "output_type": "display_data"
    },
    {
     "data": {
      "text/html": [
       "<div class=\"progress\">\n",
       "  <div class=\"progress-bar\" role=\"progressbar\" style=\"background-color: blue; width: 100%; word-wrap: normal; white-space: nowrap; text-align: center; color: white\" aria-valuenow=\"100\" aria-valuemin=\"0\" aria-valuemax=\"100\">\n",
       "    16 / 16\n",
       "  </div>\n",
       "  <div class=\"progress-bar\" role=\"progressbar\" style=\"background-color: red; width: 0%\" aria-valuenow=\"0\" aria-valuemin=\"0\" aria-valuemax=\"100\"></div>\n",
       "</div>\n"
      ]
     },
     "metadata": {},
     "output_type": "display_data"
    },
    {
     "data": {
      "text/html": [
       "<div>\n",
       "  <span style=\"float: left;\">show at cmd13.sc:23</span>\n",
       "</div>\n"
      ]
     },
     "metadata": {},
     "output_type": "display_data"
    },
    {
     "data": {
      "text/html": [
       "<div class=\"progress\">\n",
       "  <div class=\"progress-bar\" role=\"progressbar\" style=\"background-color: blue; width: 100%; word-wrap: normal; white-space: nowrap; text-align: center; color: white\" aria-valuenow=\"100\" aria-valuemin=\"0\" aria-valuemax=\"100\">\n",
       "    200 / 200\n",
       "  </div>\n",
       "  <div class=\"progress-bar\" role=\"progressbar\" style=\"background-color: red; width: 0%\" aria-valuenow=\"0\" aria-valuemin=\"0\" aria-valuemax=\"100\"></div>\n",
       "</div>\n"
      ]
     },
     "metadata": {},
     "output_type": "display_data"
    },
    {
     "data": {
      "text/html": [
       "<div>\n",
       "  <span style=\"float: left;\">show at cmd13.sc:23</span>\n",
       "</div>\n"
      ]
     },
     "metadata": {},
     "output_type": "display_data"
    },
    {
     "data": {
      "text/html": [
       "<div class=\"progress\">\n",
       "  <div class=\"progress-bar\" role=\"progressbar\" style=\"background-color: blue; width: 100%; word-wrap: normal; white-space: nowrap; text-align: center; color: white\" aria-valuenow=\"100\" aria-valuemin=\"0\" aria-valuemax=\"100\">\n",
       "    200 / 200\n",
       "  </div>\n",
       "  <div class=\"progress-bar\" role=\"progressbar\" style=\"background-color: red; width: 0%\" aria-valuenow=\"0\" aria-valuemin=\"0\" aria-valuemax=\"100\"></div>\n",
       "</div>\n"
      ]
     },
     "metadata": {},
     "output_type": "display_data"
    },
    {
     "name": "stdout",
     "output_type": "stream",
     "text": [
      "+--------------------+------------------+------------------------+\n",
      "|              Region|              Tipo|Valor total millones MWh|\n",
      "+--------------------+------------------+------------------------+\n",
      "|            Cataluña|           Nuclear|                   11.07|\n",
      "|         Extremadura|           Nuclear|                    7.08|\n",
      "|     Castilla y Leon|            Eólica|                    6.32|\n",
      "|  Castilla la Mancha|Solar fotovoltaica|                    6.19|\n",
      "|              Aragón|            Eólica|                    6.02|\n",
      "|           Andalucía|Solar fotovoltaica|                    5.77|\n",
      "|             Galicia|        Hidráulica|                    5.63|\n",
      "|Comunidad Valenciana|           Nuclear|                    3.45|\n",
      "|      Islas Canarias|   Ciclo combinado|                    2.89|\n",
      "|      Islas Baleares|   Ciclo combinado|                     2.3|\n",
      "|             Navarra|            Eólica|                    1.76|\n",
      "|              Murcia|   Ciclo combinado|                    1.55|\n",
      "|            Asturias|            Carbón|                    1.24|\n",
      "|          Pais Vasco|   Ciclo combinado|                    1.04|\n",
      "|           Cantabria|Turbinación bombeo|                    0.34|\n",
      "|            La Rioja|   Ciclo combinado|                    0.33|\n",
      "|              Madrid|      Cogeneración|                    0.24|\n",
      "|             Melilla|    Motores diésel|                    0.16|\n",
      "|               Ceuta|    Motores diésel|                    0.15|\n",
      "+--------------------+------------------+------------------------+\n",
      "\n"
     ]
    },
    {
     "data": {
      "text/plain": [
       "\u001b[32mimport \u001b[39m\u001b[36morg.apache.spark.sql.expressions.Window\n",
       "\u001b[39m\n",
       "\u001b[32mimport \u001b[39m\u001b[36morg.apache.spark.sql.functions._\n",
       "// Agrupar por \"Region\" y \"Tipo\", y calcular la suma de \"Valor\"\n",
       "\u001b[39m\n",
       "\u001b[36msumaEnergiaPorRegionYTipo\u001b[39m: \u001b[32mDataFrame\u001b[39m = [Region: string, Tipo: string ... 2 more fields]\n",
       "\u001b[36mwindowSpec\u001b[39m: \u001b[32mexpressions\u001b[39m.\u001b[32mWindowSpec\u001b[39m = org.apache.spark.sql.expressions.WindowSpec@c6420d1\n",
       "\u001b[36mdfWithRank\u001b[39m: \u001b[32mDataFrame\u001b[39m = [Region: string, Tipo: string ... 3 more fields]\n",
       "\u001b[36mtopEnergiaPorRegion\u001b[39m: \u001b[32mDataFrame\u001b[39m = [Region: string, Tipo: string ... 2 more fields]"
      ]
     },
     "execution_count": 14,
     "metadata": {},
     "output_type": "execute_result"
    }
   ],
   "source": [
    "\n",
    "import org.apache.spark.sql.expressions.Window\n",
    "import org.apache.spark.sql.functions._\n",
    "// Agrupar por \"Region\" y \"Tipo\", y calcular la suma de \"Valor\"\n",
    "val sumaEnergiaPorRegionYTipo = dataRegiones\n",
    "    .filter($\"Compuesto\" === false) \n",
    "    .filter($\"Familia\" =!= \"Demanda\")\n",
    "    .filter(date_format(col(\"FechaCompleta\"), \"yyyy\") === \"2024\")\n",
    "    .groupBy($\"Region\", $\"Tipo\")\n",
    "    .agg(sum(\"Valor\").as(\"ValorTotal\"))\n",
    "    .withColumn(\"Valor total millones MWh\", round(col(\"ValorTotal\") / 1e6, 2))\n",
    "\n",
    "// Definir una ventana para particionar por \"Region\" y ordenar \"ValorTotal\" descendente\n",
    "val windowSpec = Window.partitionBy(\"Region\").orderBy(desc(\"ValorTotal\"))\n",
    "\n",
    "// Añadir columna de ranking para cada tipo de energía en cada región\n",
    "val dfWithRank = sumaEnergiaPorRegionYTipo.withColumn(\"rank\", row_number().over(windowSpec))\n",
    "\n",
    "// Filtrar el top 1 de cada región\n",
    "val topEnergiaPorRegion = dfWithRank.filter($\"rank\" === 1).drop(\"rank\")\n",
    "\n",
    "topEnergiaPorRegion\n",
    "    .orderBy(desc(\"ValorTotal\"))\n",
    "    .select(\"Region\", \"Tipo\", \"Valor total millones MWh\")\n",
    "    .show()"
   ]
  },
  {
   "cell_type": "code",
   "execution_count": null,
   "metadata": {},
   "outputs": [],
   "source": []
  },
  {
   "cell_type": "code",
   "execution_count": null,
   "metadata": {},
   "outputs": [],
   "source": []
  },
  {
   "cell_type": "code",
   "execution_count": null,
   "metadata": {},
   "outputs": [],
   "source": []
  },
  {
   "cell_type": "code",
   "execution_count": null,
   "metadata": {},
   "outputs": [],
   "source": []
  },
  {
   "cell_type": "code",
   "execution_count": null,
   "metadata": {},
   "outputs": [],
   "source": []
  },
  {
   "cell_type": "code",
   "execution_count": null,
   "metadata": {},
   "outputs": [],
   "source": []
  },
  {
   "cell_type": "code",
   "execution_count": null,
   "metadata": {},
   "outputs": [],
   "source": []
  },
  {
   "cell_type": "code",
   "execution_count": null,
   "metadata": {},
   "outputs": [],
   "source": [
    "\n"
   ]
  },
  {
   "cell_type": "code",
   "execution_count": null,
   "metadata": {},
   "outputs": [],
   "source": []
  },
  {
   "cell_type": "code",
   "execution_count": null,
   "metadata": {},
   "outputs": [],
   "source": []
  },
  {
   "cell_type": "code",
   "execution_count": null,
   "metadata": {},
   "outputs": [],
   "source": []
  },
  {
   "cell_type": "code",
   "execution_count": null,
   "metadata": {},
   "outputs": [],
   "source": []
  },
  {
   "cell_type": "code",
   "execution_count": null,
   "metadata": {},
   "outputs": [
    {
     "data": {
      "text/html": [
       "<div>\n",
       "  <span style=\"float: left;\">show at cmd36.sc:1</span>\n",
       "</div>\n"
      ]
     },
     "metadata": {},
     "output_type": "display_data"
    },
    {
     "data": {
      "text/html": [
       "<div class=\"progress\">\n",
       "  <div class=\"progress-bar\" role=\"progressbar\" style=\"background-color: blue; width: 100%; word-wrap: normal; white-space: nowrap; text-align: center; color: white\" aria-valuenow=\"100\" aria-valuemin=\"0\" aria-valuemax=\"100\">\n",
       "    16 / 16\n",
       "  </div>\n",
       "  <div class=\"progress-bar\" role=\"progressbar\" style=\"background-color: red; width: 0%\" aria-valuenow=\"0\" aria-valuemin=\"0\" aria-valuemax=\"100\"></div>\n",
       "</div>\n"
      ]
     },
     "metadata": {},
     "output_type": "display_data"
    },
    {
     "data": {
      "text/html": [
       "<div>\n",
       "  <span style=\"float: left;\">show at cmd36.sc:1</span>\n",
       "</div>\n"
      ]
     },
     "metadata": {},
     "output_type": "display_data"
    },
    {
     "data": {
      "text/html": [
       "<div class=\"progress\">\n",
       "  <div class=\"progress-bar\" role=\"progressbar\" style=\"background-color: blue; width: 100%; word-wrap: normal; white-space: nowrap; text-align: center; color: white\" aria-valuenow=\"100\" aria-valuemin=\"0\" aria-valuemax=\"100\">\n",
       "    1 / 1\n",
       "  </div>\n",
       "  <div class=\"progress-bar\" role=\"progressbar\" style=\"background-color: red; width: 0%\" aria-valuenow=\"0\" aria-valuemin=\"0\" aria-valuemax=\"100\"></div>\n",
       "</div>\n"
      ]
     },
     "metadata": {},
     "output_type": "display_data"
    },
    {
     "data": {
      "text/html": [
       "<div>\n",
       "  <span style=\"float: left;\">show at cmd36.sc:1</span>\n",
       "</div>\n"
      ]
     },
     "metadata": {},
     "output_type": "display_data"
    },
    {
     "data": {
      "text/html": [
       "<div class=\"progress\">\n",
       "  <div class=\"progress-bar\" role=\"progressbar\" style=\"background-color: blue; width: 100%; word-wrap: normal; white-space: nowrap; text-align: center; color: white\" aria-valuenow=\"100\" aria-valuemin=\"0\" aria-valuemax=\"100\">\n",
       "    4 / 4\n",
       "  </div>\n",
       "  <div class=\"progress-bar\" role=\"progressbar\" style=\"background-color: red; width: 0%\" aria-valuenow=\"0\" aria-valuemin=\"0\" aria-valuemax=\"100\"></div>\n",
       "</div>\n"
      ]
     },
     "metadata": {},
     "output_type": "display_data"
    },
    {
     "data": {
      "text/html": [
       "<div>\n",
       "  <span style=\"float: left;\">show at cmd36.sc:1</span>\n",
       "</div>\n"
      ]
     },
     "metadata": {},
     "output_type": "display_data"
    },
    {
     "data": {
      "text/html": [
       "<div class=\"progress\">\n",
       "  <div class=\"progress-bar\" role=\"progressbar\" style=\"background-color: blue; width: 100%; word-wrap: normal; white-space: nowrap; text-align: center; color: white\" aria-valuenow=\"100\" aria-valuemin=\"0\" aria-valuemax=\"100\">\n",
       "    20 / 20\n",
       "  </div>\n",
       "  <div class=\"progress-bar\" role=\"progressbar\" style=\"background-color: red; width: 0%\" aria-valuenow=\"0\" aria-valuemin=\"0\" aria-valuemax=\"100\"></div>\n",
       "</div>\n"
      ]
     },
     "metadata": {},
     "output_type": "display_data"
    },
    {
     "data": {
      "text/html": [
       "<div>\n",
       "  <span style=\"float: left; word-wrap: normal; white-space: nowrap; text-align: center\">show at cmd36.sc:1</span>\n",
       "  <span style=\"float: right; word-wrap: normal; white-space: nowrap; text-align: center\"><a href=\"#\" onclick=\"cancelStage(72);\">(kill)</a></span>\n",
       "</div>\n",
       "<br>\n"
      ]
     },
     "metadata": {},
     "output_type": "display_data"
    },
    {
     "data": {
      "text/html": [
       "<div class=\"progress\">\n",
       "  <div class=\"progress-bar\" role=\"progressbar\" style=\"background-color: blue; width: 32%; word-wrap: normal; white-space: nowrap; text-align: center; color: white\" aria-valuenow=\"32\" aria-valuemin=\"0\" aria-valuemax=\"100\">\n",
       "    32 + 17 / 100\n",
       "  </div>\n",
       "  <div class=\"progress-bar\" role=\"progressbar\" style=\"background-color: red; width: 17%\" aria-valuenow=\"17\" aria-valuemin=\"0\" aria-valuemax=\"100\"></div>\n",
       "</div>\n"
      ]
     },
     "metadata": {},
     "output_type": "display_data"
    }
   ],
   "source": [
    "mensual.filter($\"Tipo\" === \"Hidráulica\").select($\"Region\").distinct().show()"
   ]
  },
  {
   "cell_type": "code",
   "execution_count": null,
   "metadata": {},
   "outputs": [],
   "source": []
  }
 ],
 "metadata": {
  "kernelspec": {
   "display_name": "Scala 2.12",
   "language": "scala",
   "name": "scala212"
  },
  "language_info": {
   "codemirror_mode": "text/x-scala",
   "file_extension": ".scala",
   "mimetype": "text/x-scala",
   "name": "scala",
   "nbconvert_exporter": "script",
   "version": "2.12.10"
  }
 },
 "nbformat": 4,
 "nbformat_minor": 4
}
