{
 "cells": [
  {
   "cell_type": "markdown",
   "id": "7d4010ac-eb7a-4f29-84de-f10ca9df214f",
   "metadata": {},
   "source": [
    "# Analisis optimizaciones fichero .Parquet"
   ]
  },
  {
   "cell_type": "code",
   "execution_count": 1,
   "id": "084e884b-7c36-4ae5-a662-c38f28c2fbd7",
   "metadata": {},
   "outputs": [
    {
     "data": {
      "text/html": [
       "Loading <code>spark-stubs</code>"
      ]
     },
     "metadata": {},
     "output_type": "display_data"
    },
    {
     "data": {
      "text/html": [
       "Creating SparkSession\r\n"
      ]
     },
     "metadata": {},
     "output_type": "display_data"
    },
    {
     "name": "stderr",
     "output_type": "stream",
     "text": [
      "Using Spark's default log4j profile: org/apache/spark/log4j-defaults.properties\n"
     ]
    },
    {
     "data": {
      "text/html": [
       "<a target=\"_blank\" href=\"http://JAVITOP.mshome.net:4040\">Spark UI</a>"
      ]
     },
     "metadata": {},
     "output_type": "display_data"
    },
    {
     "data": {
      "text/plain": [
       "\u001b[32mimport \u001b[39m\u001b[36m$ivy.$\u001b[39m\r\n",
       "\u001b[32mimport \u001b[39m\u001b[36morg.apache.spark.sql._\u001b[39m\r\n",
       "\u001b[32mimport \u001b[39m\u001b[36morg.apache.spark.sql.functions._\u001b[39m\r\n",
       "\u001b[32mimport \u001b[39m\u001b[36morg.apache.spark.sql.expressions.Window\u001b[39m\r\n",
       "\u001b[32mimport \u001b[39m\u001b[36morg.apache.log4j.{Level, Logger}\u001b[39m\r\n",
       "\u001b[32mimport \u001b[39m\u001b[36m$ivy.$\u001b[39m\r\n",
       "\u001b[32mimport \u001b[39m\u001b[36m$ivy.$\u001b[39m\r\n",
       "\u001b[32mimport \u001b[39m\u001b[36mplotly._, plotly.element._, plotly.layout._, plotly.Almond._\n",
       "\n",
       "\n",
       "//Iniciamos session de Spark\n",
       "\u001b[39m\r\n",
       "\u001b[36mspark\u001b[39m: \u001b[32mSparkSession\u001b[39m = org.apache.spark.sql.SparkSession@6c86539\r\n",
       "\u001b[32mimport \u001b[39m\u001b[36mspark.implicits._\u001b[39m"
      ]
     },
     "execution_count": 1,
     "metadata": {},
     "output_type": "execute_result"
    }
   ],
   "source": [
    "import $ivy.`org.apache.spark::spark-sql:2.4.3`\n",
    "\n",
    "\n",
    "import org.apache.spark.sql._\n",
    "import org.apache.spark.sql.functions._\n",
    "import org.apache.spark.sql.expressions.Window\n",
    "\n",
    "\n",
    "\n",
    "//Reducir numero logs\n",
    "import org.apache.log4j.{Level, Logger}\n",
    "Logger.getLogger(\"org\").setLevel(Level.OFF)\n",
    "\n",
    "\n",
    "//For adding extra dependenies\n",
    "import $ivy.`org.typelevel::cats-core:1.6.0`\n",
    "\n",
    "//Plotly\n",
    "import $ivy.`org.plotly-scala::plotly-almond:0.8.3`\n",
    "import plotly._, plotly.element._, plotly.layout._, plotly.Almond._\n",
    "\n",
    "\n",
    "//Iniciamos session de Spark\n",
    "val spark = {\n",
    "  NotebookSparkSession.builder()\n",
    "     .master(\"local[*]\")\n",
    "    //.config(\"spark.executor.instances\", \"4\") // Número de ejecutores\n",
    "    //.config(\"spark.executor.memory\", \"4g\") // Memoria por ejecutor\n",
    "    //.config(\"spark.executor.cores\", \"2\") // Núcleos por ejecutor\n",
    "    //.config(\"spark.driver.memory\", \"4g\") // Memoria del driver\n",
    "    //.config(\"spark.sql.shuffle.partitions\", \"8\") // Número de particiones para operaciones de shuffle\n",
    "    .getOrCreate()\n",
    "}\n",
    "import spark.implicits._"
   ]
  },
  {
   "cell_type": "markdown",
   "id": "828bb9c7-a31e-4025-936d-7b1b8d98edf3",
   "metadata": {},
   "source": [
    "#### Lectura simple de datos"
   ]
  },
  {
   "cell_type": "code",
   "execution_count": 2,
   "id": "df10d807-6137-4919-90fd-88749b116246",
   "metadata": {},
   "outputs": [
    {
     "data": {
      "text/html": []
     },
     "metadata": {},
     "output_type": "display_data"
    },
    {
     "data": {
      "text/html": []
     },
     "metadata": {},
     "output_type": "display_data"
    },
    {
     "name": "stdout",
     "output_type": "stream",
     "text": [
      "Tiempo de lectura CSV: 15.1648745 segundos\n"
     ]
    },
    {
     "data": {
      "text/html": []
     },
     "metadata": {},
     "output_type": "display_data"
    },
    {
     "name": "stdout",
     "output_type": "stream",
     "text": [
      "Tiempo de lectura Parquet: 0.592749 segundos\n",
      "root\n",
      " |-- Familia: string (nullable = true)\n",
      " |-- Tipo: string (nullable = true)\n",
      " |-- Compuesto: boolean (nullable = true)\n",
      " |-- Porcentaje: double (nullable = true)\n",
      " |-- Valor: double (nullable = true)\n",
      " |-- Fecha: timestamp (nullable = true)\n",
      " |-- BajasEmisiones: boolean (nullable = true)\n",
      "\n",
      "root\n",
      " |-- Familia: string (nullable = true)\n",
      " |-- Tipo: string (nullable = true)\n",
      " |-- Compuesto: boolean (nullable = true)\n",
      " |-- Porcentaje: double (nullable = true)\n",
      " |-- Valor: double (nullable = true)\n",
      " |-- Fecha: timestamp (nullable = true)\n",
      " |-- BajasEmisiones: boolean (nullable = true)\n",
      "\n"
     ]
    },
    {
     "data": {
      "text/plain": [
       "\u001b[36mpathCsv\u001b[39m: \u001b[32mString\u001b[39m = \u001b[32m\"../../data/csv/dsBalanceNacional11-25.csv\"\u001b[39m\r\n",
       "\u001b[36mpathParquet\u001b[39m: \u001b[32mString\u001b[39m = \u001b[32m\"../../data/parquet/dsBalanceNacional11-25.parquet\"\u001b[39m\r\n",
       "\u001b[36mstartCsv\u001b[39m: \u001b[32mLong\u001b[39m = \u001b[32m680844429951500L\u001b[39m\r\n",
       "\u001b[36mdfFromCsv\u001b[39m: \u001b[32mDataFrame\u001b[39m = [Familia: string, Tipo: string ... 5 more fields]\r\n",
       "\u001b[36mendCsv\u001b[39m: \u001b[32mLong\u001b[39m = \u001b[32m680859594826000L\u001b[39m\r\n",
       "\u001b[36mstartParquet\u001b[39m: \u001b[32mLong\u001b[39m = \u001b[32m680859595383000L\u001b[39m\r\n",
       "\u001b[36mdfFromParquet\u001b[39m: \u001b[32mDataFrame\u001b[39m = [Familia: string, Tipo: string ... 5 more fields]\r\n",
       "\u001b[36mendParquet\u001b[39m: \u001b[32mLong\u001b[39m = \u001b[32m680860188132000L\u001b[39m"
      ]
     },
     "execution_count": 2,
     "metadata": {},
     "output_type": "execute_result"
    }
   ],
   "source": [
    "val pathCsv = \"../../data/csv/dsBalanceNacional11-25.csv\"      \n",
    "val pathParquet = \"../../data/parquet/dsBalanceNacional11-25.parquet\"\n",
    "\n",
    "// Medir tiempo de lectura CSV\n",
    "val startCsv = System.nanoTime()\n",
    "val dfFromCsv: DataFrame = spark.read\n",
    "    .option(\"header\", \"true\") // Si el archivo tiene un encabezado\n",
    "    .option(\"inferSchema\", \"true\") // Para inferir automáticamente el esquema\n",
    "    .csv(pathCsv)\n",
    "val endCsv = System.nanoTime()\n",
    "println(s\"Tiempo de lectura CSV: ${(endCsv - startCsv) / 1e9} segundos\")\n",
    "\n",
    "\n",
    "// Medir tiempo de lectura Parquet\n",
    "val startParquet = System.nanoTime()\n",
    "val dfFromParquet: DataFrame = spark.read.parquet(pathParquet)\n",
    "val endParquet = System.nanoTime()\n",
    "println(s\"Tiempo de lectura Parquet: ${(endParquet - startParquet) / 1e9} segundos\")\n",
    "\n",
    "// Ver esquema\n",
    "dfFromCsv.printSchema()\n",
    "dfFromParquet.printSchema()"
   ]
  },
  {
   "cell_type": "code",
   "execution_count": 15,
   "id": "46f623dd-d93c-46be-95d9-2390aa7e25e3",
   "metadata": {},
   "outputs": [
    {
     "data": {
      "text/html": []
     },
     "metadata": {},
     "output_type": "display_data"
    },
    {
     "name": "stdout",
     "output_type": "stream",
     "text": [
      "+---------+----------+---------+-------------------+----------+-------------------+--------------+\n",
      "|  Familia|      Tipo|Compuesto|         Porcentaje|     Valor|              Fecha|BajasEmisiones|\n",
      "+---------+----------+---------+-------------------+----------+-------------------+--------------+\n",
      "|Renovable|Hidráulica|    false| 0.2762092127191694| 78179.148|2023-01-01 01:00:00|          true|\n",
      "|Renovable|Hidráulica|    false|0.49380029282016413|137773.105|2023-01-02 01:00:00|          true|\n",
      "|Renovable|Hidráulica|    false|  0.519116663652467|155141.995|2023-01-03 01:00:00|          true|\n",
      "|Renovable|Hidráulica|    false|0.48975731743046413|139503.134|2023-01-04 01:00:00|          true|\n",
      "|Renovable|Hidráulica|    false| 0.5407222375543369|144485.216|2023-01-05 01:00:00|          true|\n",
      "|Renovable|Hidráulica|    false|0.45452736660399673|132905.961|2023-01-06 01:00:00|          true|\n",
      "|Renovable|Hidráulica|    false| 0.1785149768691747| 76816.159|2023-01-07 01:00:00|          true|\n",
      "|Renovable|Hidráulica|    false|0.17116304730861318| 83287.381|2023-01-08 01:00:00|          true|\n",
      "|Renovable|Hidráulica|    false|0.22151291574391582|103921.528|2023-01-09 01:00:00|          true|\n",
      "|Renovable|Hidráulica|    false| 0.3551125054757619|150833.316|2023-01-10 01:00:00|          true|\n",
      "|Renovable|Hidráulica|    false| 0.3657339224404378|147320.516|2023-01-11 01:00:00|          true|\n",
      "|Renovable|Hidráulica|    false|0.40544331315946647|159624.344|2023-01-12 01:00:00|          true|\n",
      "|Renovable|Hidráulica|    false|0.41599598384099756|163310.077|2023-01-13 01:00:00|          true|\n",
      "|Renovable|Hidráulica|    false| 0.3526951373759474|140292.936|2023-01-14 01:00:00|          true|\n",
      "|Renovable|Hidráulica|    false|0.18628774306168905| 79957.342|2023-01-15 01:00:00|          true|\n",
      "|Renovable|Hidráulica|    false|0.18038588395715188| 98137.988|2023-01-16 01:00:00|          true|\n",
      "|Renovable|Hidráulica|    false|0.17685496173194246| 94498.548|2023-01-17 01:00:00|          true|\n",
      "|Renovable|Hidráulica|    false|0.19306682822237253|102566.989|2023-01-18 01:00:00|          true|\n",
      "|Renovable|Hidráulica|    false|0.18955678219158859|105427.539|2023-01-19 01:00:00|          true|\n",
      "|Renovable|Hidráulica|    false|0.26669461723450005| 125727.18|2023-01-20 01:00:00|          true|\n",
      "+---------+----------+---------+-------------------+----------+-------------------+--------------+\n",
      "only showing top 20 rows\n",
      "\n"
     ]
    }
   ],
   "source": [
    "dfFromParquet.show()"
   ]
  },
  {
   "cell_type": "code",
   "execution_count": 16,
   "id": "636837eb-0e1a-42b0-82a5-74f88f09054d",
   "metadata": {},
   "outputs": [
    {
     "data": {
      "text/html": []
     },
     "metadata": {},
     "output_type": "display_data"
    },
    {
     "name": "stdout",
     "output_type": "stream",
     "text": [
      "+---------+----------+---------+-------------------+----------+-------------------+--------------+\n",
      "|  Familia|      Tipo|Compuesto|         Porcentaje|     Valor|              Fecha|BajasEmisiones|\n",
      "+---------+----------+---------+-------------------+----------+-------------------+--------------+\n",
      "|Renovable|Hidráulica|    false|0.19718853720380722| 58381.148|2024-01-01 01:00:00|          true|\n",
      "|Renovable|Hidráulica|    false|0.15570440748011716| 68004.167|2024-01-02 01:00:00|          true|\n",
      "|Renovable|Hidráulica|    false|0.22015731350369466|  93862.43|2024-01-03 01:00:00|          true|\n",
      "|Renovable|Hidráulica|    false|0.44288074417231343|139605.013|2024-01-04 01:00:00|          true|\n",
      "|Renovable|Hidráulica|    false|0.17956310101675974| 83467.494|2024-01-05 01:00:00|          true|\n",
      "|Renovable|Hidráulica|    false|0.16387300585655923| 77899.805|2024-01-06 01:00:00|          true|\n",
      "|Renovable|Hidráulica|    false|0.19597149614779358|  89119.71|2024-01-07 01:00:00|          true|\n",
      "|Renovable|Hidráulica|    false| 0.3475981971805299|145217.971|2024-01-08 01:00:00|          true|\n",
      "|Renovable|Hidráulica|    false| 0.6952264677304265|172224.091|2024-01-09 01:00:00|          true|\n",
      "|Renovable|Hidráulica|    false| 0.5402144711139266|162337.094|2024-01-10 01:00:00|          true|\n",
      "|Renovable|Hidráulica|    false| 0.4113069943382737|156155.254|2024-01-11 01:00:00|          true|\n",
      "|Renovable|Hidráulica|    false|0.36442053337681285|124592.762|2024-01-12 01:00:00|          true|\n",
      "|Renovable|Hidráulica|    false| 0.3840581005654673|135262.175|2024-01-13 01:00:00|          true|\n",
      "|Renovable|Hidráulica|    false|0.24912553361523215|106944.914|2024-01-14 01:00:00|          true|\n",
      "|Renovable|Hidráulica|    false| 0.3111164872648082|135473.005|2024-01-15 01:00:00|          true|\n",
      "|Renovable|Hidráulica|    false|0.23257894762627554|110516.001|2024-01-16 01:00:00|          true|\n",
      "|Renovable|Hidráulica|    false|0.18280332250077355|105663.619|2024-01-17 01:00:00|          true|\n",
      "|Renovable|Hidráulica|    false|0.24401405423475425|120280.946|2024-01-18 01:00:00|          true|\n",
      "|Renovable|Hidráulica|    false|0.30049600685875244| 138411.03|2024-01-19 01:00:00|          true|\n",
      "|Renovable|Hidráulica|    false|0.38166504772140436|139022.481|2024-01-20 01:00:00|          true|\n",
      "+---------+----------+---------+-------------------+----------+-------------------+--------------+\n",
      "only showing top 20 rows\n",
      "\n"
     ]
    }
   ],
   "source": [
    "dfFromCsv.show()"
   ]
  },
  {
   "cell_type": "code",
   "execution_count": 17,
   "id": "60f62836-514e-4e43-b3fd-8900adf6584f",
   "metadata": {},
   "outputs": [
    {
     "data": {
      "text/html": []
     },
     "metadata": {},
     "output_type": "display_data"
    },
    {
     "data": {
      "text/html": []
     },
     "metadata": {},
     "output_type": "display_data"
    },
    {
     "data": {
      "text/html": []
     },
     "metadata": {},
     "output_type": "display_data"
    },
    {
     "data": {
      "text/html": []
     },
     "metadata": {},
     "output_type": "display_data"
    },
    {
     "data": {
      "text/html": []
     },
     "metadata": {},
     "output_type": "display_data"
    },
    {
     "data": {
      "text/html": []
     },
     "metadata": {},
     "output_type": "display_data"
    },
    {
     "name": "stdout",
     "output_type": "stream",
     "text": [
      "+--------------------+-----+\n",
      "|                Tipo|count|\n",
      "+--------------------+-----+\n",
      "| Residuos renovables| 5145|\n",
      "|     Demanda en b.c.| 5145|\n",
      "|  Turbinación bombeo| 5145|\n",
      "|Saldo almacenamiento| 5145|\n",
      "|     Consumos bombeo| 5145|\n",
      "|  Solar fotovoltaica| 5145|\n",
      "|       Solar térmica| 5141|\n",
      "|Generación no ren...| 5145|\n",
      "|    Otras renovables| 5145|\n",
      "|             Nuclear| 5145|\n",
      "|         Hidroeólica| 3838|\n",
      "|      Turbina de gas| 5145|\n",
      "|Generación renovable| 5145|\n",
      "|Residuos no renov...| 5145|\n",
      "|        Cogeneración| 5145|\n",
      "|Saldo I. internac...| 5145|\n",
      "|       Carga batería|  727|\n",
      "|     Entrega batería|  665|\n",
      "|      Motores diésel| 5145|\n",
      "|              Eólica| 5145|\n",
      "+--------------------+-----+\n",
      "only showing top 20 rows\n",
      "\n"
     ]
    }
   ],
   "source": [
    "dfFromCsv.groupBy(\"Tipo\").count().show()"
   ]
  },
  {
   "cell_type": "code",
   "execution_count": 18,
   "id": "e5e5866c-00d2-46b5-8cfc-d73f88178489",
   "metadata": {},
   "outputs": [
    {
     "data": {
      "text/html": []
     },
     "metadata": {},
     "output_type": "display_data"
    },
    {
     "data": {
      "text/html": []
     },
     "metadata": {},
     "output_type": "display_data"
    },
    {
     "data": {
      "text/html": []
     },
     "metadata": {},
     "output_type": "display_data"
    },
    {
     "data": {
      "text/html": []
     },
     "metadata": {},
     "output_type": "display_data"
    },
    {
     "data": {
      "text/html": []
     },
     "metadata": {},
     "output_type": "display_data"
    },
    {
     "data": {
      "text/html": []
     },
     "metadata": {},
     "output_type": "display_data"
    },
    {
     "name": "stdout",
     "output_type": "stream",
     "text": [
      "+--------------------+-----+\n",
      "|                Tipo|count|\n",
      "+--------------------+-----+\n",
      "| Residuos renovables| 5145|\n",
      "|     Demanda en b.c.| 5145|\n",
      "|  Turbinación bombeo| 5145|\n",
      "|Saldo almacenamiento| 5145|\n",
      "|     Consumos bombeo| 5145|\n",
      "|  Solar fotovoltaica| 5145|\n",
      "|       Solar térmica| 5141|\n",
      "|Generación no ren...| 5145|\n",
      "|    Otras renovables| 5145|\n",
      "|             Nuclear| 5145|\n",
      "|         Hidroeólica| 3838|\n",
      "|      Turbina de gas| 5145|\n",
      "|Generación renovable| 5145|\n",
      "|Residuos no renov...| 5145|\n",
      "|        Cogeneración| 5145|\n",
      "|Saldo I. internac...| 5145|\n",
      "|       Carga batería|  727|\n",
      "|     Entrega batería|  665|\n",
      "|      Motores diésel| 5145|\n",
      "|              Eólica| 5145|\n",
      "+--------------------+-----+\n",
      "only showing top 20 rows\n",
      "\n"
     ]
    }
   ],
   "source": [
    "dfFromParquet.groupBy(\"Tipo\").count().show()"
   ]
  },
  {
   "cell_type": "code",
   "execution_count": 7,
   "id": "4f48eee0-26b6-44ca-882a-16d604ef4af0",
   "metadata": {},
   "outputs": [
    {
     "data": {
      "text/html": []
     },
     "metadata": {},
     "output_type": "display_data"
    },
    {
     "data": {
      "text/html": []
     },
     "metadata": {},
     "output_type": "display_data"
    },
    {
     "data": {
      "text/html": []
     },
     "metadata": {},
     "output_type": "display_data"
    },
    {
     "name": "stdout",
     "output_type": "stream",
     "text": [
      "+----+--------------------+--------------------+--------------+------------------------+\n",
      "| Año|                Tipo|PorcentajeSobreTotal| TotalGenerado|PorcentajeBajasEmisiones|\n",
      "+----+--------------------+--------------------+--------------+------------------------+\n",
      "|2011|Generación renovable|               31.39| 2.761123273E8|                   51.31|\n",
      "|2012|Generación renovable|               30.69| 2.780595129E8|                   51.76|\n",
      "|2013|Generación renovable|               41.06|2.6733046642E8|                   61.34|\n",
      "|2014|Generación renovable|               41.31|2.6112597808E8|                   62.29|\n",
      "|2015|Generación renovable|               35.78|2.6294159767E8|                   56.57|\n",
      "|2016|Generación renovable|               39.33|2.5700810617E8|                   61.13|\n",
      "|2017|Generación renovable|               32.71|2.5869817676E8|                   54.18|\n",
      "|2018|Generación renovable|               38.93|2.5778346966E8|                   59.56|\n",
      "|2019|Generación renovable|               37.98|2.5780152595E8|                   59.63|\n",
      "|2020|Generación renovable|               44.82|2.4677103473E8|                   67.42|\n",
      "|2021|Generación renovable|                47.5|2.5569339887E8|                   68.64|\n",
      "|2022|Generación renovable|               43.18|2.7027258219E8|                   63.87|\n",
      "|2023|Generación renovable|               51.82|2.6062179386E8|                   72.78|\n",
      "|2024|Generación renovable|               57.52|2.5903768166E8|                   77.75|\n",
      "|2025|Generación renovable|               56.82| 2.380111623E7|                   78.68|\n",
      "|2011|Saldo I. internac...|               -2.21| 2.761123273E8|                   51.31|\n",
      "|2012|Saldo I. internac...|               -4.03| 2.780595129E8|                   51.76|\n",
      "|2013|Saldo I. internac...|               -2.52|2.6733046642E8|                   61.34|\n",
      "|2014|Saldo I. internac...|                -1.3|2.6112597808E8|                   62.29|\n",
      "|2015|Saldo I. internac...|               -0.05|2.6294159767E8|                   56.57|\n",
      "+----+--------------------+--------------------+--------------+------------------------+\n",
      "only showing top 20 rows\n",
      "\n"
     ]
    },
    {
     "data": {
      "text/plain": [
       "\u001b[36mventanaAnual\u001b[39m: \u001b[32mexpressions\u001b[39m.\u001b[32mWindowSpec\u001b[39m = org.apache.spark.sql.expressions.WindowSpec@3330e4d2\r\n",
       "\u001b[36mdatosBalanceAnuales\u001b[39m: \u001b[32mDataFrame\u001b[39m = [Año: string, Familia: string ... 8 more fields]\r\n",
       "\u001b[36mevolucionRenovablesAnual\u001b[39m: \u001b[32mDataset\u001b[39m[\u001b[32mRow\u001b[39m] = [Año: string, Tipo: string ... 3 more fields]"
      ]
     },
     "execution_count": 7,
     "metadata": {},
     "output_type": "execute_result"
    }
   ],
   "source": [
    "//Datos anuales\n",
    "val ventanaAnual = Window.partitionBy(\"Año\")\n",
    "\n",
    "val datosBalanceAnuales = dfFromParquet\n",
    "    .withColumn(\"Año\", date_format($\"Fecha\", \"yyyy\"))\n",
    "    .groupBy($\"Año\", $\"Familia\", $\"Tipo\", $\"Compuesto\", $\"BajasEmisiones\")\n",
    "    .agg(\n",
    "        sum(\"Valor\").as(\"ValorAnual\"),\n",
    "        avg(\"Porcentaje\").as(\"PorcentajeAnualSobreFamilia\")\n",
    "        )\n",
    "    .withColumn(\n",
    "            \"TotalGenerado\", \n",
    "            round(\n",
    "                sum(\n",
    "                    when(!$\"Compuesto\" && $\"Familia\" =!= \"Demanda\" ,$\"ValorAnual\")\n",
    "                        .otherwise(0)).over(ventanaAnual),2)\n",
    "    )\n",
    "    .withColumn(\n",
    "            \"PorcentajeSobreTotal\", \n",
    "            round($\"ValorAnual\" / $\"TotalGenerado\" * 100,2))\n",
    "    .withColumn(\n",
    "            \"PorcentajeBajasEmisiones\", \n",
    "            round(\n",
    "                sum(\n",
    "                    when($\"BajasEmisiones\" && !$\"Compuesto\" && $\"Familia\" =!= \"Demanda\", $\"ValorAnual\")\n",
    "                        .otherwise(0)).over(ventanaAnual) / $\"TotalGenerado\" * 100,2)\n",
    "\n",
    "    )\n",
    "\n",
    "\n",
    "\n",
    "val evolucionRenovablesAnual = datosBalanceAnuales\n",
    "    .filter($\"Tipo\".isin(\"Generación renovable\", \"Saldo I. internacionales\"))\n",
    "    .select($\"Año\",$\"Tipo\", $\"PorcentajeSobreTotal\", $\"TotalGenerado\", $\"PorcentajeBajasEmisiones\")\n",
    "    .orderBy($\"Tipo\", $\"Año\")\n",
    "\n",
    "\n",
    "evolucionRenovablesAnual.show()"
   ]
  },
  {
   "cell_type": "code",
   "execution_count": 8,
   "id": "f9ad4f9e-8f94-4b69-8667-0c494527a7f0",
   "metadata": {},
   "outputs": [
    {
     "ename": "org.apache.spark.sql.AnalysisException",
     "evalue": "cannot resolve '`Fecha`' given input columns: [_c1, _c5, _c6, _c3, _c2, _c0, _c4];;\n'Project [_c0#10, _c1#11, _c2#12, _c3#13, _c4#14, _c5#15, _c6#16, date_format('Fecha, yyyy, Some(Europe/Madrid)) AS Año#566]\n+- Relation[_c0#10,_c1#11,_c2#12,_c3#13,_c4#14,_c5#15,_c6#16] csv\n",
     "output_type": "error",
     "traceback": [
      "\u001b[31morg.apache.spark.sql.AnalysisException: cannot resolve '`Fecha`' given input columns: [_c1, _c5, _c6, _c3, _c2, _c0, _c4];;\n'Project [_c0#10, _c1#11, _c2#12, _c3#13, _c4#14, _c5#15, _c6#16, date_format('Fecha, yyyy, Some(Europe/Madrid)) AS Año#566]\n+- Relation[_c0#10,_c1#11,_c2#12,_c3#13,_c4#14,_c5#15,_c6#16] csv\n\u001b[39m",
      "  org.apache.spark.sql.catalyst.analysis.package$AnalysisErrorAt.failAnalysis(\u001b[32mpackage.scala\u001b[39m:\u001b[32m42\u001b[39m)",
      "  org.apache.spark.sql.catalyst.analysis.CheckAnalysis$$anonfun$$nestedInanonfun$checkAnalysis$1$2.applyOrElse(\u001b[32mCheckAnalysis.scala\u001b[39m:\u001b[32m110\u001b[39m)",
      "  org.apache.spark.sql.catalyst.analysis.CheckAnalysis$$anonfun$$nestedInanonfun$checkAnalysis$1$2.applyOrElse(\u001b[32mCheckAnalysis.scala\u001b[39m:\u001b[32m107\u001b[39m)",
      "  org.apache.spark.sql.catalyst.trees.TreeNode.$anonfun$transformUp$2(\u001b[32mTreeNode.scala\u001b[39m:\u001b[32m278\u001b[39m)",
      "  org.apache.spark.sql.catalyst.trees.CurrentOrigin$.withOrigin(\u001b[32mTreeNode.scala\u001b[39m:\u001b[32m70\u001b[39m)",
      "  org.apache.spark.sql.catalyst.trees.TreeNode.transformUp(\u001b[32mTreeNode.scala\u001b[39m:\u001b[32m278\u001b[39m)",
      "  org.apache.spark.sql.catalyst.trees.TreeNode.$anonfun$transformUp$1(\u001b[32mTreeNode.scala\u001b[39m:\u001b[32m275\u001b[39m)",
      "  org.apache.spark.sql.catalyst.trees.TreeNode.$anonfun$mapChildren$1(\u001b[32mTreeNode.scala\u001b[39m:\u001b[32m326\u001b[39m)",
      "  org.apache.spark.sql.catalyst.trees.TreeNode.mapProductIterator(\u001b[32mTreeNode.scala\u001b[39m:\u001b[32m187\u001b[39m)",
      "  org.apache.spark.sql.catalyst.trees.TreeNode.mapChildren(\u001b[32mTreeNode.scala\u001b[39m:\u001b[32m324\u001b[39m)",
      "  org.apache.spark.sql.catalyst.trees.TreeNode.transformUp(\u001b[32mTreeNode.scala\u001b[39m:\u001b[32m275\u001b[39m)",
      "  org.apache.spark.sql.catalyst.trees.TreeNode.$anonfun$transformUp$1(\u001b[32mTreeNode.scala\u001b[39m:\u001b[32m275\u001b[39m)",
      "  org.apache.spark.sql.catalyst.trees.TreeNode.$anonfun$mapChildren$1(\u001b[32mTreeNode.scala\u001b[39m:\u001b[32m326\u001b[39m)",
      "  org.apache.spark.sql.catalyst.trees.TreeNode.mapProductIterator(\u001b[32mTreeNode.scala\u001b[39m:\u001b[32m187\u001b[39m)",
      "  org.apache.spark.sql.catalyst.trees.TreeNode.mapChildren(\u001b[32mTreeNode.scala\u001b[39m:\u001b[32m324\u001b[39m)",
      "  org.apache.spark.sql.catalyst.trees.TreeNode.transformUp(\u001b[32mTreeNode.scala\u001b[39m:\u001b[32m275\u001b[39m)",
      "  org.apache.spark.sql.catalyst.plans.QueryPlan.$anonfun$transformExpressionsUp$1(\u001b[32mQueryPlan.scala\u001b[39m:\u001b[32m93\u001b[39m)",
      "  org.apache.spark.sql.catalyst.plans.QueryPlan.$anonfun$mapExpressions$1(\u001b[32mQueryPlan.scala\u001b[39m:\u001b[32m105\u001b[39m)",
      "  org.apache.spark.sql.catalyst.trees.CurrentOrigin$.withOrigin(\u001b[32mTreeNode.scala\u001b[39m:\u001b[32m70\u001b[39m)",
      "  org.apache.spark.sql.catalyst.plans.QueryPlan.transformExpression$1(\u001b[32mQueryPlan.scala\u001b[39m:\u001b[32m105\u001b[39m)",
      "  org.apache.spark.sql.catalyst.plans.QueryPlan.recursiveTransform$1(\u001b[32mQueryPlan.scala\u001b[39m:\u001b[32m116\u001b[39m)",
      "  org.apache.spark.sql.catalyst.plans.QueryPlan.$anonfun$mapExpressions$3(\u001b[32mQueryPlan.scala\u001b[39m:\u001b[32m121\u001b[39m)",
      "  scala.collection.TraversableLike.$anonfun$map$1(\u001b[32mTraversableLike.scala\u001b[39m:\u001b[32m286\u001b[39m)",
      "  scala.collection.immutable.List.foreach(\u001b[32mList.scala\u001b[39m:\u001b[32m431\u001b[39m)",
      "  scala.collection.TraversableLike.map(\u001b[32mTraversableLike.scala\u001b[39m:\u001b[32m286\u001b[39m)",
      "  scala.collection.TraversableLike.map$(\u001b[32mTraversableLike.scala\u001b[39m:\u001b[32m279\u001b[39m)",
      "  scala.collection.immutable.List.map(\u001b[32mList.scala\u001b[39m:\u001b[32m305\u001b[39m)",
      "  org.apache.spark.sql.catalyst.plans.QueryPlan.recursiveTransform$1(\u001b[32mQueryPlan.scala\u001b[39m:\u001b[32m121\u001b[39m)",
      "  org.apache.spark.sql.catalyst.plans.QueryPlan.$anonfun$mapExpressions$4(\u001b[32mQueryPlan.scala\u001b[39m:\u001b[32m126\u001b[39m)",
      "  org.apache.spark.sql.catalyst.trees.TreeNode.mapProductIterator(\u001b[32mTreeNode.scala\u001b[39m:\u001b[32m187\u001b[39m)",
      "  org.apache.spark.sql.catalyst.plans.QueryPlan.mapExpressions(\u001b[32mQueryPlan.scala\u001b[39m:\u001b[32m126\u001b[39m)",
      "  org.apache.spark.sql.catalyst.plans.QueryPlan.transformExpressionsUp(\u001b[32mQueryPlan.scala\u001b[39m:\u001b[32m93\u001b[39m)",
      "  org.apache.spark.sql.catalyst.analysis.CheckAnalysis.$anonfun$checkAnalysis$1(\u001b[32mCheckAnalysis.scala\u001b[39m:\u001b[32m107\u001b[39m)",
      "  org.apache.spark.sql.catalyst.analysis.CheckAnalysis.$anonfun$checkAnalysis$1$adapted(\u001b[32mCheckAnalysis.scala\u001b[39m:\u001b[32m85\u001b[39m)",
      "  org.apache.spark.sql.catalyst.trees.TreeNode.foreachUp(\u001b[32mTreeNode.scala\u001b[39m:\u001b[32m127\u001b[39m)",
      "  org.apache.spark.sql.catalyst.analysis.CheckAnalysis.checkAnalysis(\u001b[32mCheckAnalysis.scala\u001b[39m:\u001b[32m85\u001b[39m)",
      "  org.apache.spark.sql.catalyst.analysis.CheckAnalysis.checkAnalysis$(\u001b[32mCheckAnalysis.scala\u001b[39m:\u001b[32m82\u001b[39m)",
      "  org.apache.spark.sql.catalyst.analysis.Analyzer.checkAnalysis(\u001b[32mAnalyzer.scala\u001b[39m:\u001b[32m95\u001b[39m)",
      "  org.apache.spark.sql.catalyst.analysis.Analyzer.$anonfun$executeAndCheck$1(\u001b[32mAnalyzer.scala\u001b[39m:\u001b[32m108\u001b[39m)",
      "  org.apache.spark.sql.catalyst.plans.logical.AnalysisHelper$.markInAnalyzer(\u001b[32mAnalysisHelper.scala\u001b[39m:\u001b[32m201\u001b[39m)",
      "  org.apache.spark.sql.catalyst.analysis.Analyzer.executeAndCheck(\u001b[32mAnalyzer.scala\u001b[39m:\u001b[32m105\u001b[39m)",
      "  org.apache.spark.sql.execution.QueryExecution.analyzed$lzycompute(\u001b[32mQueryExecution.scala\u001b[39m:\u001b[32m57\u001b[39m)",
      "  org.apache.spark.sql.execution.QueryExecution.analyzed(\u001b[32mQueryExecution.scala\u001b[39m:\u001b[32m55\u001b[39m)",
      "  org.apache.spark.sql.execution.QueryExecution.assertAnalyzed(\u001b[32mQueryExecution.scala\u001b[39m:\u001b[32m47\u001b[39m)",
      "  org.apache.spark.sql.Dataset$.ofRows(\u001b[32mDataset.scala\u001b[39m:\u001b[32m78\u001b[39m)",
      "  org.apache.spark.sql.Dataset.org$apache$spark$sql$Dataset$$withPlan(\u001b[32mDataset.scala\u001b[39m:\u001b[32m3406\u001b[39m)",
      "  org.apache.spark.sql.Dataset.select(\u001b[32mDataset.scala\u001b[39m:\u001b[32m1335\u001b[39m)",
      "  org.apache.spark.sql.Dataset.withColumns(\u001b[32mDataset.scala\u001b[39m:\u001b[32m2252\u001b[39m)",
      "  org.apache.spark.sql.Dataset.withColumn(\u001b[32mDataset.scala\u001b[39m:\u001b[32m2219\u001b[39m)",
      "  ammonite.$sess.cmd8$Helper.<init>(\u001b[32mcmd8.sc\u001b[39m:\u001b[32m5\u001b[39m)",
      "  ammonite.$sess.cmd8$.<init>(\u001b[32mcmd8.sc\u001b[39m:\u001b[32m7\u001b[39m)",
      "  ammonite.$sess.cmd8$.<clinit>(\u001b[32mcmd8.sc\u001b[39m:\u001b[32m-1\u001b[39m)"
     ]
    }
   ],
   "source": [
    "//Datos anuales\n",
    "val ventanaAnual = Window.partitionBy(\"Año\")\n",
    "\n",
    "val datosBalanceAnuales = dfFromCsv\n",
    "    .withColumn(\"Año\", date_format($\"Fecha\", \"yyyy\"))\n",
    "    .groupBy($\"Año\", $\"Familia\", $\"Tipo\", $\"Compuesto\", $\"BajasEmisiones\")\n",
    "    .agg(\n",
    "        sum(\"Valor\").as(\"ValorAnual\"),\n",
    "        avg(\"Porcentaje\").as(\"PorcentajeAnualSobreFamilia\")\n",
    "        )\n",
    "    .withColumn(\n",
    "            \"TotalGenerado\", \n",
    "            round(\n",
    "                sum(\n",
    "                    when(!$\"Compuesto\" && $\"Familia\" =!= \"Demanda\" ,$\"ValorAnual\")\n",
    "                        .otherwise(0)).over(ventanaAnual),2)\n",
    "    )\n",
    "    .withColumn(\n",
    "            \"PorcentajeSobreTotal\", \n",
    "            round($\"ValorAnual\" / $\"TotalGenerado\" * 100,2))\n",
    "    .withColumn(\n",
    "            \"PorcentajeBajasEmisiones\", \n",
    "            round(\n",
    "                sum(\n",
    "                    when($\"BajasEmisiones\" && !$\"Compuesto\" && $\"Familia\" =!= \"Demanda\", $\"ValorAnual\")\n",
    "                        .otherwise(0)).over(ventanaAnual) / $\"TotalGenerado\" * 100,2)\n",
    "\n",
    "    )\n",
    "\n",
    "\n",
    "\n",
    "val evolucionRenovablesAnual = datosBalanceAnuales\n",
    "    .filter($\"Tipo\".isin(\"Generación renovable\", \"Saldo I. internacionales\"))\n",
    "    .select($\"Año\",$\"Tipo\", $\"PorcentajeSobreTotal\", $\"TotalGenerado\", $\"PorcentajeBajasEmisiones\")\n",
    "    .orderBy($\"Tipo\", $\"Año\")\n",
    "\n",
    "\n",
    "evolucionRenovablesAnual.show()"
   ]
  },
  {
   "cell_type": "code",
   "execution_count": null,
   "id": "7d6d9c23-e27b-47af-9086-8a8b34791d83",
   "metadata": {},
   "outputs": [],
   "source": []
  }
 ],
 "metadata": {
  "kernelspec": {
   "display_name": "Scala (2.12)",
   "language": "scala",
   "name": "scala212"
  },
  "language_info": {
   "codemirror_mode": "text/x-scala",
   "file_extension": ".sc",
   "mimetype": "text/x-scala",
   "name": "scala",
   "nbconvert_exporter": "script",
   "version": "2.12.19"
  }
 },
 "nbformat": 4,
 "nbformat_minor": 5
}
