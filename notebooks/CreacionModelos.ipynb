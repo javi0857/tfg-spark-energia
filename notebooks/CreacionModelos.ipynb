{
 "cells": [
  {
   "cell_type": "code",
   "execution_count": 2,
   "metadata": {},
   "outputs": [
    {
     "data": {
      "text/plain": [
       "\u001b[32mimport \u001b[39m\u001b[36m$ivy.$                                  \n",
       "\n",
       "\n",
       "\u001b[39m\n",
       "\u001b[32mimport \u001b[39m\u001b[36morg.apache.spark.sql._\n",
       "\u001b[39m\n",
       "\u001b[32mimport \u001b[39m\u001b[36morg.apache.spark.sql.functions._\n",
       "\n",
       "\n",
       "//Reducir numero logs\n",
       "\u001b[39m\n",
       "\u001b[32mimport \u001b[39m\u001b[36morg.apache.log4j.{Level, Logger}\n",
       "\u001b[39m\n",
       "\u001b[32mimport \u001b[39m\u001b[36m$ivy.$                                                                        \n",
       "\u001b[39m\n",
       "\u001b[32mimport \u001b[39m\u001b[36msttp.client.quick.{quickRequest, UriContext, backend}\n",
       "\u001b[39m\n",
       "\u001b[32mimport \u001b[39m\u001b[36msttp.client.asynchttpclient.monix._\n",
       "\n",
       "\n",
       "//Sttp para realizar request\n",
       "\u001b[39m\n",
       "\u001b[32mimport \u001b[39m\u001b[36m$ivy.$                                                                        \n",
       "\u001b[39m\n",
       "\u001b[32mimport \u001b[39m\u001b[36msttp.client.quick.{quickRequest, UriContext, backend}\n",
       "\u001b[39m\n",
       "\u001b[32mimport \u001b[39m\u001b[36msttp.client.asynchttpclient.monix._\n",
       "\u001b[39m\n",
       "\u001b[32mimport \u001b[39m\u001b[36msttp.client.basicRequest\n",
       "\n",
       "//For adding extra dependenies\n",
       "\u001b[39m\n",
       "\u001b[32mimport \u001b[39m\u001b[36m$ivy.$                               \n",
       "\n",
       "//Plotly\n",
       "\u001b[39m\n",
       "\u001b[32mimport \u001b[39m\u001b[36m$ivy.$                                      \n",
       "\u001b[39m\n",
       "\u001b[32mimport \u001b[39m\u001b[36mplotly._, plotly.element._, plotly.layout._, plotly.Almond._\u001b[39m"
      ]
     },
     "execution_count": 2,
     "metadata": {},
     "output_type": "execute_result"
    }
   ],
   "source": [
    "import $ivy.`org.apache.spark::spark-sql:2.4.3`\n",
    "\n",
    "\n",
    "import org.apache.spark.sql._\n",
    "import org.apache.spark.sql.functions._\n",
    "\n",
    "\n",
    "//Reducir numero logs\n",
    "import org.apache.log4j.{Level, Logger}\n",
    "Logger.getLogger(\"org\").setLevel(Level.OFF)\n",
    "\n",
    "\n",
    "//Circe para trabajar con JSON\n",
    "import $ivy.`com.softwaremill.sttp.client::async-http-client-backend-monix:2.0.0-RC2`\n",
    "import sttp.client.quick.{quickRequest, UriContext, backend}\n",
    "import sttp.client.asynchttpclient.monix._\n",
    "\n",
    "\n",
    "//Sttp para realizar request\n",
    "import $ivy.`com.softwaremill.sttp.client::async-http-client-backend-monix:2.0.0-RC2`\n",
    "import sttp.client.quick.{quickRequest, UriContext, backend}\n",
    "import sttp.client.asynchttpclient.monix._\n",
    "import sttp.client.basicRequest\n",
    "\n",
    "//For adding extra dependenies\n",
    "import $ivy.`org.typelevel::cats-core:1.6.0`\n",
    "\n",
    "//Plotly\n",
    "import $ivy.`org.plotly-scala::plotly-almond:0.7.1`\n",
    "import plotly._, plotly.element._, plotly.layout._, plotly.Almond._"
   ]
  },
  {
   "cell_type": "markdown",
   "metadata": {},
   "source": [
    "### Inicio Spark Session y Algunos métodos para descargar los datos"
   ]
  },
  {
   "cell_type": "code",
   "execution_count": 3,
   "metadata": {},
   "outputs": [
    {
     "name": "stdout",
     "output_type": "stream",
     "text": [
      "Loading spark-stubs\n",
      "Getting spark JARs\n",
      "Creating SparkSession\n"
     ]
    },
    {
     "name": "stderr",
     "output_type": "stream",
     "text": [
      "Using Spark's default log4j profile: org/apache/spark/log4j-defaults.properties\n"
     ]
    },
    {
     "data": {
      "text/html": [
       "<a href=\"http://613db4b2bb04:4041\">Spark UI</a>"
      ]
     },
     "metadata": {},
     "output_type": "display_data"
    },
    {
     "data": {
      "text/plain": [
       "\u001b[36mspark\u001b[39m: \u001b[32mSparkSession\u001b[39m = org.apache.spark.sql.SparkSession@6cae07e0\n",
       "\u001b[32mimport \u001b[39m\u001b[36mspark.implicits._\n",
       "\n",
       "//Crear URL\n",
       "\u001b[39m\n",
       "defined \u001b[32mfunction\u001b[39m \u001b[36mcreateUri\u001b[39m\n",
       "defined \u001b[32mfunction\u001b[39m \u001b[36mgetDataApi\u001b[39m\n",
       "defined \u001b[32mfunction\u001b[39m \u001b[36mresponseToDF\u001b[39m"
      ]
     },
     "execution_count": 3,
     "metadata": {},
     "output_type": "execute_result"
    }
   ],
   "source": [
    "//Iniciamos session de Spark\n",
    "val spark = {\n",
    "  NotebookSparkSession.builder()\n",
    "    .master(\"local[*]\")\n",
    "    .getOrCreate()\n",
    "}\n",
    "import spark.implicits._\n",
    "\n",
    "//Crear URL\n",
    "def createUri(category: String, widget: String, start_date: String, end_date: String, time_trunc: String, lang: String, \n",
    "              geo_trunc: String = \"\", geo_limit: String = \"\", geo_ids: String = \"\"): String = {\n",
    "  val baseUrl = s\"https://apidatos.ree.es/$lang/datos/$category/$widget\"\n",
    "  \n",
    "  // Crear un mapa con los parámetros obligatorios y opcionales\n",
    "  val params = Map(\n",
    "    \"start_date\" -> start_date,\n",
    "    \"end_date\" -> end_date,\n",
    "    \"time_trunc\" -> time_trunc,\n",
    "    \"geo_trunc\" -> geo_trunc,\n",
    "    \"geo_limit\" -> geo_limit,\n",
    "    \"geo_ids\" -> geo_ids\n",
    "  ).filter { case (_, v) => v.nonEmpty } // Filtrar los parámetros que no están vacíos\n",
    "\n",
    "  //Especifico el orden concreto de los paramtros ya que, Scala map no te garantiza el orden\n",
    "  val orderedKeys = Seq(\"start_date\", \"end_date\", \"time_trunc\", \"geo_trunc\", \"geo_limit\", \"geo_ids\")\n",
    "\n",
    "  // Unir los parámetros en una cadena\n",
    "  val queryString = orderedKeys.flatMap(key => params.get(key).map(value => s\"$key=$value\")).mkString(\"&\")\n",
    "  \n",
    "  s\"$baseUrl?$queryString\"\n",
    "}\n",
    "\n",
    "//Lanzar llamada y obtener guardar datos\n",
    "def getDataApi(apiUrl: String): Either[String, String] = {\n",
    " \n",
    "    val newRequest = basicRequest.get(uri\"$apiUrl\")\n",
    "    val response = newRequest.send()\n",
    "  \n",
    "  response.body match {\n",
    "    case Right(body) => \n",
    "      Right(body)\n",
    "      \n",
    "    case Left(error) => \n",
    "      Left(s\"Error fetching data: $error\")\n",
    "  }\n",
    "}\n",
    "\n",
    "// Transformar response a DataFrame\n",
    "def responseToDF(response: Either[String, String]): DataFrame = {\n",
    "    response match {\n",
    "    case Right(body) => \n",
    "        val rdd = spark.sparkContext.parallelize(Seq(body))\n",
    "        spark.read.json(rdd)\n",
    "    case Left(error) => \n",
    "        println(error)\n",
    "        spark.emptyDataFrame\n",
    "    }\n",
    "}\n",
    "\n"
   ]
  },
  {
   "cell_type": "markdown",
   "metadata": {},
   "source": [
    "# Modelo Balance-electrico\n",
    "Datos diarios del balance electrico a nivel nacional"
   ]
  },
  {
   "cell_type": "code",
   "execution_count": 4,
   "metadata": {},
   "outputs": [
    {
     "data": {
      "text/html": [
       "<script>\n",
       "var comm = Jupyter.notebook.kernel.comm_manager.new_comm('cancel-stage-3b0d0218-f07b-4b4b-ae45-75e92152ba22', {});\n",
       "\n",
       "function cancelStage(stageId) {\n",
       "  console.log('Cancelling stage ' + stageId);\n",
       "  comm.send({ 'stageId': stageId });\n",
       "}\n",
       "</script>\n",
       "          "
      ]
     },
     "metadata": {},
     "output_type": "display_data"
    },
    {
     "data": {
      "text/html": [
       "<div>\n",
       "  <span style=\"float: left;\">json at cmd2.sc:52</span>\n",
       "</div>\n"
      ]
     },
     "metadata": {},
     "output_type": "display_data"
    },
    {
     "data": {
      "text/html": [
       "<div class=\"progress\">\n",
       "  <div class=\"progress-bar\" role=\"progressbar\" style=\"background-color: blue; width: 100%; word-wrap: normal; white-space: nowrap; text-align: center; color: white\" aria-valuenow=\"100\" aria-valuemin=\"0\" aria-valuemax=\"100\">\n",
       "    16 / 16\n",
       "  </div>\n",
       "  <div class=\"progress-bar\" role=\"progressbar\" style=\"background-color: red; width: 0%\" aria-valuenow=\"0\" aria-valuemin=\"0\" aria-valuemax=\"100\"></div>\n",
       "</div>\n"
      ]
     },
     "metadata": {},
     "output_type": "display_data"
    },
    {
     "data": {
      "text/plain": [
       "\u001b[36mcategory\u001b[39m: \u001b[32mString\u001b[39m = \u001b[32m\"balance\"\u001b[39m\n",
       "\u001b[36mwidget\u001b[39m: \u001b[32mString\u001b[39m = \u001b[32m\"balance-electrico\"\u001b[39m\n",
       "\u001b[36mstart_date\u001b[39m: \u001b[32mString\u001b[39m = \u001b[32m\"2024-01-01T00:00\"\u001b[39m\n",
       "\u001b[36mend_date\u001b[39m: \u001b[32mString\u001b[39m = \u001b[32m\"2024-01-31T23:59\"\u001b[39m\n",
       "\u001b[36mtime_trunc\u001b[39m: \u001b[32mString\u001b[39m = \u001b[32m\"day\"\u001b[39m\n",
       "\u001b[36mlang\u001b[39m: \u001b[32mString\u001b[39m = \u001b[32m\"es\"\u001b[39m\n",
       "\u001b[36mgeo_trunc\u001b[39m: \u001b[32mString\u001b[39m = \u001b[32m\"electric_system\"\u001b[39m\n",
       "\u001b[36mgeo_limit\u001b[39m: \u001b[32mString\u001b[39m = \u001b[32m\"ccaa\"\u001b[39m\n",
       "\u001b[36mgeo_ids\u001b[39m: \u001b[32mString\u001b[39m = \u001b[32m\"13\"\u001b[39m\n",
       "\u001b[36muriBalance\u001b[39m: \u001b[32mString\u001b[39m = \u001b[32m\"https://apidatos.ree.es/es/datos/balance/balance-electrico?start_date=2024-01-01T00:00&end_date=2024-01-31T23:59&time_trunc=day\"\u001b[39m\n",
       "\u001b[36mdFrameBalance\u001b[39m: \u001b[32mDataFrame\u001b[39m = [data: struct<attributes: struct<description: string, last-update: string ... 1 more field>, id: string ... 2 more fields>, included: array<struct<attributes:struct<content:array<struct<attributes:struct<color:string,composite:boolean,description:string,last-update:string,magnitude:string,title:string,total:double,type:string,values:array<struct<datetime:string,percentage:double,value:double>>>,groupId:string,id:string,type:string>>,description:string,last-update:string,magnitude:string,title:string>,id:string,type:string>>]"
      ]
     },
     "execution_count": 4,
     "metadata": {},
     "output_type": "execute_result"
    }
   ],
   "source": [
    "val category = \"balance\"\n",
    "val widget = \"balance-electrico\"\n",
    "val start_date = \"2024-01-01T00:00\"\n",
    "val end_date = \"2024-01-31T23:59\"\n",
    "val time_trunc = \"day\"\n",
    "val lang = \"es\"\n",
    "val geo_trunc = \"electric_system\"\n",
    "val geo_limit = \"ccaa\"\n",
    "val geo_ids = \"13\"\n",
    "\n",
    "//Creación Uri\n",
    "val uriBalance = createUri(category, widget, start_date, end_date, time_trunc, lang) //Generacion Nacional\n",
    "\n",
    "//Hacemos la request a la api REData y transformamos en un dataframe\n",
    "val dFrameBalance = responseToDF(getDataApi(uriBalance))"
   ]
  },
  {
   "cell_type": "code",
   "execution_count": 6,
   "metadata": {},
   "outputs": [
    {
     "name": "stdout",
     "output_type": "stream",
     "text": [
      "root\n",
      " |-- data: struct (nullable = true)\n",
      " |    |-- attributes: struct (nullable = true)\n",
      " |    |    |-- description: string (nullable = true)\n",
      " |    |    |-- last-update: string (nullable = true)\n",
      " |    |    |-- title: string (nullable = true)\n",
      " |    |-- id: string (nullable = true)\n",
      " |    |-- meta: struct (nullable = true)\n",
      " |    |    |-- cache-control: struct (nullable = true)\n",
      " |    |    |    |-- cache: string (nullable = true)\n",
      " |    |-- type: string (nullable = true)\n",
      " |-- included: array (nullable = true)\n",
      " |    |-- element: struct (containsNull = true)\n",
      " |    |    |-- attributes: struct (nullable = true)\n",
      " |    |    |    |-- content: array (nullable = true)\n",
      " |    |    |    |    |-- element: struct (containsNull = true)\n",
      " |    |    |    |    |    |-- attributes: struct (nullable = true)\n",
      " |    |    |    |    |    |    |-- color: string (nullable = true)\n",
      " |    |    |    |    |    |    |-- composite: boolean (nullable = true)\n",
      " |    |    |    |    |    |    |-- description: string (nullable = true)\n",
      " |    |    |    |    |    |    |-- last-update: string (nullable = true)\n",
      " |    |    |    |    |    |    |-- magnitude: string (nullable = true)\n",
      " |    |    |    |    |    |    |-- title: string (nullable = true)\n",
      " |    |    |    |    |    |    |-- total: double (nullable = true)\n",
      " |    |    |    |    |    |    |-- type: string (nullable = true)\n",
      " |    |    |    |    |    |    |-- values: array (nullable = true)\n",
      " |    |    |    |    |    |    |    |-- element: struct (containsNull = true)\n",
      " |    |    |    |    |    |    |    |    |-- datetime: string (nullable = true)\n",
      " |    |    |    |    |    |    |    |    |-- percentage: double (nullable = true)\n",
      " |    |    |    |    |    |    |    |    |-- value: double (nullable = true)\n",
      " |    |    |    |    |    |-- groupId: string (nullable = true)\n",
      " |    |    |    |    |    |-- id: string (nullable = true)\n",
      " |    |    |    |    |    |-- type: string (nullable = true)\n",
      " |    |    |    |-- description: string (nullable = true)\n",
      " |    |    |    |-- last-update: string (nullable = true)\n",
      " |    |    |    |-- magnitude: string (nullable = true)\n",
      " |    |    |    |-- title: string (nullable = true)\n",
      " |    |    |-- id: string (nullable = true)\n",
      " |    |    |-- type: string (nullable = true)\n",
      "\n"
     ]
    }
   ],
   "source": [
    "dFrameBalance.printSchema()"
   ]
  },
  {
   "cell_type": "markdown",
   "metadata": {},
   "source": [
    "#### Transformaciones necesarias para desanidar respuesta y creación de un modelo manipulable"
   ]
  },
  {
   "cell_type": "code",
   "execution_count": 7,
   "metadata": {},
   "outputs": [
    {
     "data": {
      "text/plain": [
       "defined \u001b[32mfunction\u001b[39m \u001b[36mtransformBalanceModel\u001b[39m\n",
       "\u001b[36mmodelDataFrameBalance\u001b[39m: \u001b[32mDataFrame\u001b[39m = [Familia: string, Tipo: string ... 4 more fields]"
      ]
     },
     "execution_count": 7,
     "metadata": {},
     "output_type": "execute_result"
    }
   ],
   "source": [
    "//Crearemos una tabla con las columnas Familia, Tipo, Fecha, Porcentje y Valor, además agregamos una nueva columna llamada BajasEmisiones\n",
    "def transformBalanceModel(df: DataFrame): DataFrame = {\n",
    "\n",
    "        // Definir los tipos de energía de bajas emisiones\n",
    "        val bajasEmisiones = Seq(\n",
    "            \"Solar fotovoltaica\", \n",
    "            \"Solar térmica\", \n",
    "            \"Nuclear\", \n",
    "            \"Hidroeólica\", \n",
    "            \"Eólica\", \n",
    "            \"Generación renovable\", \n",
    "            \"Otras renovables\",\n",
    "            \"Hidráulica\", \n",
    "            \"Residuos renovables\"\n",
    "        )\n",
    "\n",
    "        //Crear modelo desanidado\n",
    "        df.withColumn(\"FamilyGroup\", explode($\"included\"))\n",
    "            .withColumn(\"TypeGroup\", explode($\"FamilyGroup.attributes.content\"))\n",
    "            .withColumn(\"Values\", explode($\"TypeGroup.attributes.values\"))\n",
    "            .select(\n",
    "                $\"FamilyGroup.type\".as(\"Familia\"),\n",
    "                $\"TypeGroup.type\".as(\"Tipo\"),\n",
    "                $\"Values.datetime\".as(\"FechaCompleta\"), \n",
    "                $\"Values.percentage\".as(\"Porcentaje\"),\n",
    "                $\"Values.value\".as(\"Valor\")\n",
    "            )\n",
    "            .withColumn(\"FechaCompleta\", $\"FechaCompleta\".cast(\"timestamp\"))\n",
    "            .withColumn(\"BajasEmisiones\", $\"Tipo\".isin(bajasEmisiones: _*))\n",
    "    }\n",
    "val modelDataFrameBalance = transformBalanceModel(dFrameBalance)"
   ]
  },
  {
   "cell_type": "markdown",
   "metadata": {},
   "source": [
    "#### Creamos datasetn Balance\n",
    "Para ello, lo primero es crear una case class con la estructura necesaria.\n",
    "\n",
    "Hay que añadir \"org.apache.spark.sql.catalyst.encoders.OuterScopes.addOuterScope(this)\" en la misma celda donde defines las clases case implicadas para evitar un error\n"
   ]
  },
  {
   "cell_type": "code",
   "execution_count": 8,
   "metadata": {},
   "outputs": [
    {
     "ename": "",
     "evalue": "",
     "output_type": "error",
     "traceback": [
      "\u001b[31morg.apache.spark.sql.AnalysisException: cannot resolve '`Dia`' given input columns: [FechaCompleta, Familia, BajasEmisiones, Valor, Porcentaje, Tipo];\u001b[39m\n  org.apache.spark.sql.catalyst.analysis.package$AnalysisErrorAt.failAnalysis(\u001b[32mpackage.scala\u001b[39m:\u001b[32m42\u001b[39m)\n  org.apache.spark.sql.catalyst.analysis.CheckAnalysis$$anonfun$$nestedInanonfun$checkAnalysis$1$2.applyOrElse(\u001b[32mCheckAnalysis.scala\u001b[39m:\u001b[32m110\u001b[39m)\n  org.apache.spark.sql.catalyst.analysis.CheckAnalysis$$anonfun$$nestedInanonfun$checkAnalysis$1$2.applyOrElse(\u001b[32mCheckAnalysis.scala\u001b[39m:\u001b[32m107\u001b[39m)\n  org.apache.spark.sql.catalyst.trees.TreeNode.$anonfun$transformUp$2(\u001b[32mTreeNode.scala\u001b[39m:\u001b[32m278\u001b[39m)\n  org.apache.spark.sql.catalyst.trees.CurrentOrigin$.withOrigin(\u001b[32mTreeNode.scala\u001b[39m:\u001b[32m70\u001b[39m)\n  org.apache.spark.sql.catalyst.trees.TreeNode.transformUp(\u001b[32mTreeNode.scala\u001b[39m:\u001b[32m278\u001b[39m)\n  org.apache.spark.sql.catalyst.trees.TreeNode.$anonfun$transformUp$1(\u001b[32mTreeNode.scala\u001b[39m:\u001b[32m275\u001b[39m)\n  org.apache.spark.sql.catalyst.trees.TreeNode.$anonfun$mapChildren$1(\u001b[32mTreeNode.scala\u001b[39m:\u001b[32m326\u001b[39m)\n  org.apache.spark.sql.catalyst.trees.TreeNode.mapProductIterator(\u001b[32mTreeNode.scala\u001b[39m:\u001b[32m187\u001b[39m)\n  org.apache.spark.sql.catalyst.trees.TreeNode.mapChildren(\u001b[32mTreeNode.scala\u001b[39m:\u001b[32m324\u001b[39m)\n  org.apache.spark.sql.catalyst.trees.TreeNode.transformUp(\u001b[32mTreeNode.scala\u001b[39m:\u001b[32m275\u001b[39m)\n  org.apache.spark.sql.catalyst.trees.TreeNode.$anonfun$transformUp$1(\u001b[32mTreeNode.scala\u001b[39m:\u001b[32m275\u001b[39m)\n  org.apache.spark.sql.catalyst.trees.TreeNode.$anonfun$mapChildren$1(\u001b[32mTreeNode.scala\u001b[39m:\u001b[32m326\u001b[39m)\n  org.apache.spark.sql.catalyst.trees.TreeNode.mapProductIterator(\u001b[32mTreeNode.scala\u001b[39m:\u001b[32m187\u001b[39m)\n  org.apache.spark.sql.catalyst.trees.TreeNode.mapChildren(\u001b[32mTreeNode.scala\u001b[39m:\u001b[32m324\u001b[39m)\n  org.apache.spark.sql.catalyst.trees.TreeNode.transformUp(\u001b[32mTreeNode.scala\u001b[39m:\u001b[32m275\u001b[39m)\n  org.apache.spark.sql.catalyst.trees.TreeNode.$anonfun$transformUp$1(\u001b[32mTreeNode.scala\u001b[39m:\u001b[32m275\u001b[39m)\n  org.apache.spark.sql.catalyst.trees.TreeNode.mapChild$2(\u001b[32mTreeNode.scala\u001b[39m:\u001b[32m295\u001b[39m)\n  org.apache.spark.sql.catalyst.trees.TreeNode.$anonfun$mapChildren$4(\u001b[32mTreeNode.scala\u001b[39m:\u001b[32m354\u001b[39m)\n  scala.collection.TraversableLike.$anonfun$map$1(\u001b[32mTraversableLike.scala\u001b[39m:\u001b[32m238\u001b[39m)\n  scala.collection.immutable.List.foreach(\u001b[32mList.scala\u001b[39m:\u001b[32m392\u001b[39m)\n  scala.collection.TraversableLike.map(\u001b[32mTraversableLike.scala\u001b[39m:\u001b[32m238\u001b[39m)\n  scala.collection.TraversableLike.map$(\u001b[32mTraversableLike.scala\u001b[39m:\u001b[32m231\u001b[39m)\n  scala.collection.immutable.List.map(\u001b[32mList.scala\u001b[39m:\u001b[32m298\u001b[39m)\n  org.apache.spark.sql.catalyst.trees.TreeNode.$anonfun$mapChildren$1(\u001b[32mTreeNode.scala\u001b[39m:\u001b[32m354\u001b[39m)\n  org.apache.spark.sql.catalyst.trees.TreeNode.mapProductIterator(\u001b[32mTreeNode.scala\u001b[39m:\u001b[32m187\u001b[39m)\n  org.apache.spark.sql.catalyst.trees.TreeNode.mapChildren(\u001b[32mTreeNode.scala\u001b[39m:\u001b[32m324\u001b[39m)\n  org.apache.spark.sql.catalyst.trees.TreeNode.transformUp(\u001b[32mTreeNode.scala\u001b[39m:\u001b[32m275\u001b[39m)\n  org.apache.spark.sql.catalyst.plans.QueryPlan.$anonfun$transformExpressionsUp$1(\u001b[32mQueryPlan.scala\u001b[39m:\u001b[32m93\u001b[39m)\n  org.apache.spark.sql.catalyst.plans.QueryPlan.$anonfun$mapExpressions$1(\u001b[32mQueryPlan.scala\u001b[39m:\u001b[32m105\u001b[39m)\n  org.apache.spark.sql.catalyst.trees.CurrentOrigin$.withOrigin(\u001b[32mTreeNode.scala\u001b[39m:\u001b[32m70\u001b[39m)\n  org.apache.spark.sql.catalyst.plans.QueryPlan.transformExpression$1(\u001b[32mQueryPlan.scala\u001b[39m:\u001b[32m105\u001b[39m)\n  org.apache.spark.sql.catalyst.plans.QueryPlan.recursiveTransform$1(\u001b[32mQueryPlan.scala\u001b[39m:\u001b[32m116\u001b[39m)\n  org.apache.spark.sql.catalyst.plans.QueryPlan.$anonfun$mapExpressions$4(\u001b[32mQueryPlan.scala\u001b[39m:\u001b[32m126\u001b[39m)\n  org.apache.spark.sql.catalyst.trees.TreeNode.mapProductIterator(\u001b[32mTreeNode.scala\u001b[39m:\u001b[32m187\u001b[39m)\n  org.apache.spark.sql.catalyst.plans.QueryPlan.mapExpressions(\u001b[32mQueryPlan.scala\u001b[39m:\u001b[32m126\u001b[39m)\n  org.apache.spark.sql.catalyst.plans.QueryPlan.transformExpressionsUp(\u001b[32mQueryPlan.scala\u001b[39m:\u001b[32m93\u001b[39m)\n  org.apache.spark.sql.catalyst.analysis.CheckAnalysis.$anonfun$checkAnalysis$1(\u001b[32mCheckAnalysis.scala\u001b[39m:\u001b[32m107\u001b[39m)\n  org.apache.spark.sql.catalyst.analysis.CheckAnalysis.$anonfun$checkAnalysis$1$adapted(\u001b[32mCheckAnalysis.scala\u001b[39m:\u001b[32m85\u001b[39m)\n  org.apache.spark.sql.catalyst.trees.TreeNode.foreachUp(\u001b[32mTreeNode.scala\u001b[39m:\u001b[32m127\u001b[39m)\n  org.apache.spark.sql.catalyst.analysis.CheckAnalysis.checkAnalysis(\u001b[32mCheckAnalysis.scala\u001b[39m:\u001b[32m85\u001b[39m)\n  org.apache.spark.sql.catalyst.analysis.CheckAnalysis.checkAnalysis$(\u001b[32mCheckAnalysis.scala\u001b[39m:\u001b[32m82\u001b[39m)\n  org.apache.spark.sql.catalyst.analysis.Analyzer.checkAnalysis(\u001b[32mAnalyzer.scala\u001b[39m:\u001b[32m95\u001b[39m)\n  org.apache.spark.sql.catalyst.encoders.ExpressionEncoder.resolveAndBind(\u001b[32mExpressionEncoder.scala\u001b[39m:\u001b[32m258\u001b[39m)\n  org.apache.spark.sql.Dataset.deserializer$lzycompute(\u001b[32mDataset.scala\u001b[39m:\u001b[32m213\u001b[39m)\n  org.apache.spark.sql.Dataset.org$apache$spark$sql$Dataset$$deserializer(\u001b[32mDataset.scala\u001b[39m:\u001b[32m212\u001b[39m)\n  org.apache.spark.sql.Dataset$.apply(\u001b[32mDataset.scala\u001b[39m:\u001b[32m71\u001b[39m)\n  org.apache.spark.sql.Dataset.as(\u001b[32mDataset.scala\u001b[39m:\u001b[32m430\u001b[39m)\n  ammonite.$sess.cmd7$Helper.<init>(\u001b[32mcmd7.sc\u001b[39m:\u001b[32m13\u001b[39m)\n  ammonite.$sess.cmd7$.<init>(\u001b[32mcmd7.sc\u001b[39m:\u001b[32m7\u001b[39m)\n  ammonite.$sess.cmd7$.<clinit>(\u001b[32mcmd7.sc\u001b[39m:\u001b[32m-1\u001b[39m)"
     ]
    }
   ],
   "source": [
    "org.apache.spark.sql.catalyst.encoders.OuterScopes.addOuterScope(this);\n",
    "case class Balance(\n",
    "    Familia: String,\n",
    "    Tipo: String,\n",
    "    FechaCompleta: java.sql.Timestamp,\n",
    "    Valor: Double,\n",
    "    Porcentaje: Double,\n",
    "    Dia: String,\n",
    "    Hora: String,\n",
    "    BajasEmisiones: Boolean\n",
    ")\n",
    "\n",
    "val modelDatasetBalance: Dataset[Balance] = modelDataFrameBalance.as[Balance]\n",
    "//val dSetBalance : Dataset[Balance] = modelDataFrame.collect.toSeq.toDs()\n"
   ]
  },
  {
   "cell_type": "markdown",
   "metadata": {},
   "source": [
    "#### Guardar dataset en un archivo formato .csv"
   ]
  },
  {
   "cell_type": "code",
   "execution_count": 7,
   "metadata": {},
   "outputs": [
    {
     "ename": "",
     "evalue": "",
     "output_type": "error",
     "traceback": [
      "\u001b[31morg.apache.spark.sql.AnalysisException: path file:/home/jovyan/work/notebooks/data/modelosCsv/datasetCoalesce_balance.csv already exists.;\u001b[39m\n  org.apache.spark.sql.execution.datasources.InsertIntoHadoopFsRelationCommand.run(\u001b[32mInsertIntoHadoopFsRelationCommand.scala\u001b[39m:\u001b[32m114\u001b[39m)\n  org.apache.spark.sql.execution.command.DataWritingCommandExec.sideEffectResult$lzycompute(\u001b[32mcommands.scala\u001b[39m:\u001b[32m104\u001b[39m)\n  org.apache.spark.sql.execution.command.DataWritingCommandExec.sideEffectResult(\u001b[32mcommands.scala\u001b[39m:\u001b[32m102\u001b[39m)\n  org.apache.spark.sql.execution.command.DataWritingCommandExec.doExecute(\u001b[32mcommands.scala\u001b[39m:\u001b[32m122\u001b[39m)\n  org.apache.spark.sql.execution.SparkPlan.$anonfun$execute$1(\u001b[32mSparkPlan.scala\u001b[39m:\u001b[32m131\u001b[39m)\n  org.apache.spark.sql.execution.SparkPlan.$anonfun$executeQuery$1(\u001b[32mSparkPlan.scala\u001b[39m:\u001b[32m155\u001b[39m)\n  org.apache.spark.rdd.RDDOperationScope$.withScope(\u001b[32mRDDOperationScope.scala\u001b[39m:\u001b[32m151\u001b[39m)\n  org.apache.spark.sql.execution.SparkPlan.executeQuery(\u001b[32mSparkPlan.scala\u001b[39m:\u001b[32m152\u001b[39m)\n  org.apache.spark.sql.execution.SparkPlan.execute(\u001b[32mSparkPlan.scala\u001b[39m:\u001b[32m127\u001b[39m)\n  org.apache.spark.sql.execution.QueryExecution.toRdd$lzycompute(\u001b[32mQueryExecution.scala\u001b[39m:\u001b[32m80\u001b[39m)\n  org.apache.spark.sql.execution.QueryExecution.toRdd(\u001b[32mQueryExecution.scala\u001b[39m:\u001b[32m80\u001b[39m)\n  org.apache.spark.sql.DataFrameWriter.$anonfun$runCommand$1(\u001b[32mDataFrameWriter.scala\u001b[39m:\u001b[32m676\u001b[39m)\n  org.apache.spark.sql.execution.SQLExecution$.$anonfun$withNewExecutionId$1(\u001b[32mSQLExecution.scala\u001b[39m:\u001b[32m78\u001b[39m)\n  org.apache.spark.sql.execution.SQLExecution$.withSQLConfPropagated(\u001b[32mSQLExecution.scala\u001b[39m:\u001b[32m125\u001b[39m)\n  org.apache.spark.sql.execution.SQLExecution$.withNewExecutionId(\u001b[32mSQLExecution.scala\u001b[39m:\u001b[32m73\u001b[39m)\n  org.apache.spark.sql.DataFrameWriter.runCommand(\u001b[32mDataFrameWriter.scala\u001b[39m:\u001b[32m676\u001b[39m)\n  org.apache.spark.sql.DataFrameWriter.saveToV1Source(\u001b[32mDataFrameWriter.scala\u001b[39m:\u001b[32m290\u001b[39m)\n  org.apache.spark.sql.DataFrameWriter.save(\u001b[32mDataFrameWriter.scala\u001b[39m:\u001b[32m271\u001b[39m)\n  org.apache.spark.sql.DataFrameWriter.save(\u001b[32mDataFrameWriter.scala\u001b[39m:\u001b[32m229\u001b[39m)\n  org.apache.spark.sql.DataFrameWriter.csv(\u001b[32mDataFrameWriter.scala\u001b[39m:\u001b[32m664\u001b[39m)\n  ammonite.$sess.cmd6$Helper.<init>(\u001b[32mcmd6.sc\u001b[39m:\u001b[32m3\u001b[39m)\n  ammonite.$sess.cmd6$.<init>(\u001b[32mcmd6.sc\u001b[39m:\u001b[32m7\u001b[39m)\n  ammonite.$sess.cmd6$.<clinit>(\u001b[32mcmd6.sc\u001b[39m:\u001b[32m-1\u001b[39m)"
     ]
    }
   ],
   "source": [
    "modelDatasetBalance.coalesce(1).write\n",
    "  .option(\"header\", \"true\")\n",
    "  .csv(\"data/modelosCsv/datasetCoalesce_balance.csv\")"
   ]
  },
  {
   "cell_type": "code",
   "execution_count": 8,
   "metadata": {},
   "outputs": [
    {
     "data": {
      "text/plain": [
       "defined \u001b[32mclass\u001b[39m \u001b[36mRichDF\u001b[39m"
      ]
     },
     "execution_count": 8,
     "metadata": {},
     "output_type": "execute_result"
    }
   ],
   "source": [
    "// based on a snippet by Ivan Zaitsev\n",
    "// https://github.com/almond-sh/almond/issues/180#issuecomment-364711999\n",
    "implicit class RichDF(val df: DataFrame) {\n",
    "  def showHTML(limit:Int = 20, truncate: Int = 20) = {\n",
    "    import xml.Utility.escape\n",
    "    val data = df.take(limit)\n",
    "    val header = df.schema.fieldNames.toSeq\n",
    "    val rows: Seq[Seq[String]] = data.map { row =>\n",
    "      row.toSeq.map { cell =>\n",
    "        val str = cell match {\n",
    "          case null => \"null\"\n",
    "          case binary: Array[Byte] => binary.map(\"%02X\".format(_)).mkString(\"[\", \" \", \"]\")\n",
    "          case array: Array[_] => array.mkString(\"[\", \", \", \"]\")\n",
    "          case seq: Seq[_] => seq.mkString(\"[\", \", \", \"]\")\n",
    "          case _ => cell.toString\n",
    "        }\n",
    "        if (truncate > 0 && str.length > truncate) {\n",
    "          // do not show ellipses for strings shorter than 4 characters.\n",
    "          if (truncate < 4) str.substring(0, truncate)\n",
    "          else str.substring(0, truncate - 3) + \"...\"\n",
    "        } else {\n",
    "          str\n",
    "        }\n",
    "      }: Seq[String]\n",
    "    }\n",
    "\n",
    "    publish.html(s\"\"\"\n",
    "      <table class=\"table\">\n",
    "        <tr>\n",
    "        ${header.map(h => s\"<th>${escape(h)}</th>\").mkString}\n",
    "        </tr>\n",
    "        ${rows.map { row =>\n",
    "          s\"<tr>${row.map { c => s\"<td>${escape(c)}</td>\" }.mkString}</tr>\"\n",
    "        }.mkString\n",
    "        }\n",
    "      </table>\"\"\")\n",
    "  }\n",
    "}"
   ]
  },
  {
   "cell_type": "code",
   "execution_count": 9,
   "metadata": {},
   "outputs": [
    {
     "data": {
      "text/html": [
       "<div>\n",
       "  <span style=\"float: left;\">take at cmd7.sc:4</span>\n",
       "</div>\n"
      ]
     },
     "metadata": {},
     "output_type": "display_data"
    },
    {
     "data": {
      "text/html": [
       "<div class=\"progress\">\n",
       "  <div class=\"progress-bar\" role=\"progressbar\" style=\"background-color: blue; width: 100%; word-wrap: normal; white-space: nowrap; text-align: center; color: white\" aria-valuenow=\"100\" aria-valuemin=\"0\" aria-valuemax=\"100\">\n",
       "    1 / 1\n",
       "  </div>\n",
       "  <div class=\"progress-bar\" role=\"progressbar\" style=\"background-color: red; width: 0%\" aria-valuenow=\"0\" aria-valuemin=\"0\" aria-valuemax=\"100\"></div>\n",
       "</div>\n"
      ]
     },
     "metadata": {},
     "output_type": "display_data"
    },
    {
     "data": {
      "text/html": [
       "<div>\n",
       "  <span style=\"float: left;\">take at cmd7.sc:4</span>\n",
       "</div>\n"
      ]
     },
     "metadata": {},
     "output_type": "display_data"
    },
    {
     "data": {
      "text/html": [
       "<div class=\"progress\">\n",
       "  <div class=\"progress-bar\" role=\"progressbar\" style=\"background-color: blue; width: 100%; word-wrap: normal; white-space: nowrap; text-align: center; color: white\" aria-valuenow=\"100\" aria-valuemin=\"0\" aria-valuemax=\"100\">\n",
       "    4 / 4\n",
       "  </div>\n",
       "  <div class=\"progress-bar\" role=\"progressbar\" style=\"background-color: red; width: 0%\" aria-valuenow=\"0\" aria-valuemin=\"0\" aria-valuemax=\"100\"></div>\n",
       "</div>\n"
      ]
     },
     "metadata": {},
     "output_type": "display_data"
    },
    {
     "data": {
      "text/html": [
       "<div>\n",
       "  <span style=\"float: left;\">take at cmd7.sc:4</span>\n",
       "</div>\n"
      ]
     },
     "metadata": {},
     "output_type": "display_data"
    },
    {
     "data": {
      "text/html": [
       "<div class=\"progress\">\n",
       "  <div class=\"progress-bar\" role=\"progressbar\" style=\"background-color: blue; width: 100%; word-wrap: normal; white-space: nowrap; text-align: center; color: white\" aria-valuenow=\"100\" aria-valuemin=\"0\" aria-valuemax=\"100\">\n",
       "    11 / 11\n",
       "  </div>\n",
       "  <div class=\"progress-bar\" role=\"progressbar\" style=\"background-color: red; width: 0%\" aria-valuenow=\"0\" aria-valuemin=\"0\" aria-valuemax=\"100\"></div>\n",
       "</div>\n"
      ]
     },
     "metadata": {},
     "output_type": "display_data"
    },
    {
     "data": {
      "text/html": [
       "\n",
       "      <table class=\"table\">\n",
       "        <tr>\n",
       "        <th>Familia</th><th>Tipo</th><th>FechaCompleta</th><th>Porcentaje</th><th>Valor</th><th>Dia</th><th>Hora</th><th>BajasEmisiones</th>\n",
       "        </tr>\n",
       "        <tr><td>Renovable</td><td>Hidráulica</td><td>2022-12-31 23:00:...</td><td>0.2721558942556826</td><td>76595.584</td><td>2022-12-31</td><td>23:00:00</td><td>true</td></tr><tr><td>Renovable</td><td>Hidráulica</td><td>2023-01-01 23:00:...</td><td>0.4915900251582455</td><td>136518.071</td><td>2023-01-01</td><td>23:00:00</td><td>true</td></tr><tr><td>Renovable</td><td>Hidráulica</td><td>2023-01-02 23:00:...</td><td>0.516836233628069</td><td>153711.167</td><td>2023-01-02</td><td>23:00:00</td><td>true</td></tr><tr><td>Renovable</td><td>Hidráulica</td><td>2023-01-03 23:00:...</td><td>0.48751377909460486</td><td>138220.83</td><td>2023-01-03</td><td>23:00:00</td><td>true</td></tr><tr><td>Renovable</td><td>Hidráulica</td><td>2023-01-04 23:00:...</td><td>0.5385302584610008</td><td>143184.392</td><td>2023-01-04</td><td>23:00:00</td><td>true</td></tr><tr><td>Renovable</td><td>Hidráulica</td><td>2023-01-05 23:00:...</td><td>0.45128187316793955</td><td>131153.006</td><td>2023-01-05</td><td>23:00:00</td><td>true</td></tr><tr><td>Renovable</td><td>Hidráulica</td><td>2023-01-06 23:00:...</td><td>0.17416824791827182</td><td>74548.891</td><td>2023-01-06</td><td>23:00:00</td><td>true</td></tr><tr><td>Renovable</td><td>Hidráulica</td><td>2023-01-07 23:00:...</td><td>0.16741886839924458</td><td>80976.023</td><td>2023-01-07</td><td>23:00:00</td><td>true</td></tr><tr><td>Renovable</td><td>Hidráulica</td><td>2023-01-08 23:00:...</td><td>0.2187615393081991</td><td>102267.435</td><td>2023-01-08</td><td>23:00:00</td><td>true</td></tr><tr><td>Renovable</td><td>Hidráulica</td><td>2023-01-09 23:00:...</td><td>0.3521618890281243</td><td>148895.976</td><td>2023-01-09</td><td>23:00:00</td><td>true</td></tr><tr><td>Renovable</td><td>Hidráulica</td><td>2023-01-10 23:00:...</td><td>0.36349118945522996</td><td>145905.573</td><td>2023-01-10</td><td>23:00:00</td><td>true</td></tr><tr><td>Renovable</td><td>Hidráulica</td><td>2023-01-11 23:00:...</td><td>0.40278609889959693</td><td>157833.431</td><td>2023-01-11</td><td>23:00:00</td><td>true</td></tr><tr><td>Renovable</td><td>Hidráulica</td><td>2023-01-12 23:00:...</td><td>0.4134991579396098</td><td>161628.396</td><td>2023-01-12</td><td>23:00:00</td><td>true</td></tr><tr><td>Renovable</td><td>Hidráulica</td><td>2023-01-13 23:00:...</td><td>0.3496399174539909</td><td>138420.982</td><td>2023-01-13</td><td>23:00:00</td><td>true</td></tr><tr><td>Renovable</td><td>Hidráulica</td><td>2023-01-14 23:00:...</td><td>0.18322364840989946</td><td>78347.479</td><td>2023-01-14</td><td>23:00:00</td><td>true</td></tr><tr><td>Renovable</td><td>Hidráulica</td><td>2023-01-15 23:00:...</td><td>0.177626844659204</td><td>96313.22</td><td>2023-01-15</td><td>23:00:00</td><td>true</td></tr><tr><td>Renovable</td><td>Hidráulica</td><td>2023-01-16 23:00:...</td><td>0.17444842700239974</td><td>92918.541</td><td>2023-01-16</td><td>23:00:00</td><td>true</td></tr><tr><td>Renovable</td><td>Hidráulica</td><td>2023-01-17 23:00:...</td><td>0.19132175570300658</td><td>101416.768</td><td>2023-01-17</td><td>23:00:00</td><td>true</td></tr><tr><td>Renovable</td><td>Hidráulica</td><td>2023-01-18 23:00:...</td><td>0.1874588153023289</td><td>103951.279</td><td>2023-01-18</td><td>23:00:00</td><td>true</td></tr><tr><td>Renovable</td><td>Hidráulica</td><td>2023-01-19 23:00:...</td><td>0.26526057289943267</td><td>124793.62</td><td>2023-01-19</td><td>23:00:00</td><td>true</td></tr>\n",
       "      </table>"
      ]
     },
     "metadata": {},
     "output_type": "display_data"
    }
   ],
   "source": [
    "modelDatasetBalance.toDF.showHTML()"
   ]
  },
  {
   "cell_type": "markdown",
   "metadata": {},
   "source": [
    "# Modelo Mercados\n",
    "\n",
    "Para este modelo vamos a utilizar los datos de la categoria Mercados y el widget \"precios-mercados-tiempo-real\" que nos da el precio de la energía cada hora, \n",
    "el response nos da dos tipos de precio, el PVPC y el Precio mercado spot, los dos en (€/MWh)"
   ]
  },
  {
   "cell_type": "code",
   "execution_count": 10,
   "metadata": {},
   "outputs": [
    {
     "data": {
      "text/html": [
       "<div>\n",
       "  <span style=\"float: left;\">json at cmd2.sc:52</span>\n",
       "</div>\n"
      ]
     },
     "metadata": {},
     "output_type": "display_data"
    },
    {
     "data": {
      "text/html": [
       "<div class=\"progress\">\n",
       "  <div class=\"progress-bar\" role=\"progressbar\" style=\"background-color: blue; width: 100%; word-wrap: normal; white-space: nowrap; text-align: center; color: white\" aria-valuenow=\"100\" aria-valuemin=\"0\" aria-valuemax=\"100\">\n",
       "    16 / 16\n",
       "  </div>\n",
       "  <div class=\"progress-bar\" role=\"progressbar\" style=\"background-color: red; width: 0%\" aria-valuenow=\"0\" aria-valuemin=\"0\" aria-valuemax=\"100\"></div>\n",
       "</div>\n"
      ]
     },
     "metadata": {},
     "output_type": "display_data"
    },
    {
     "data": {
      "text/plain": [
       "\u001b[36mcategory\u001b[39m: \u001b[32mString\u001b[39m = \u001b[32m\"mercados\"\u001b[39m\n",
       "\u001b[36mwidget\u001b[39m: \u001b[32mString\u001b[39m = \u001b[32m\"precios-mercados-tiempo-real\"\u001b[39m\n",
       "\u001b[36mstart_date\u001b[39m: \u001b[32mString\u001b[39m = \u001b[32m\"2024-01-01T00:00\"\u001b[39m\n",
       "\u001b[36mend_date\u001b[39m: \u001b[32mString\u001b[39m = \u001b[32m\"2024-01-31T23:59\"\u001b[39m\n",
       "\u001b[36mtime_trunc\u001b[39m: \u001b[32mString\u001b[39m = \u001b[32m\"hour\"\u001b[39m\n",
       "\u001b[36mlang\u001b[39m: \u001b[32mString\u001b[39m = \u001b[32m\"es\"\u001b[39m\n",
       "\u001b[36mgeo_limits\u001b[39m: \u001b[32mString\u001b[39m = \u001b[32m\"ccaa\"\u001b[39m\n",
       "\u001b[36mids\u001b[39m: \u001b[32mString\u001b[39m = \u001b[32m\"13\"\u001b[39m\n",
       "\u001b[36muriMercadosTR\u001b[39m: \u001b[32mString\u001b[39m = \u001b[32m\"https://apidatos.ree.es/es/datos/mercados/precios-mercados-tiempo-real?start_date=2024-01-01T00:00&end_date=2024-01-31T23:59&time_trunc=hour\"\u001b[39m\n",
       "\u001b[36mdFrameMercadosTR\u001b[39m: \u001b[32mDataFrame\u001b[39m = [data: struct<attributes: struct<description: string, last-update: string ... 1 more field>, id: string ... 2 more fields>, included: array<struct<attributes:struct<color:string,composite:boolean,description:string,last-update:string,magnitude:string,title:string,type:string,values:array<struct<datetime:string,percentage:double,value:double>>>,groupId:string,id:string,type:string>>]"
      ]
     },
     "execution_count": 10,
     "metadata": {},
     "output_type": "execute_result"
    }
   ],
   "source": [
    "val category = \"mercados\"\n",
    "val widget = \"precios-mercados-tiempo-real\"\n",
    "val start_date = \"2024-01-01T00:00\"\n",
    "val end_date = \"2024-01-31T23:59\"\n",
    "val time_trunc = \"hour\"\n",
    "val lang = \"es\"\n",
    "val geo_limits = \"ccaa\"\n",
    "val ids = \"13\"\n",
    "\n",
    "val uriMercadosTR= createUri(category, widget, start_date, end_date, time_trunc, lang)\n",
    "\n",
    "//Hacemos la request a la api REData y transformamos en un dataframe\n",
    "val dFrameMercadosTR = responseToDF(getDataApi(uriMercadosTR))"
   ]
  },
  {
   "cell_type": "markdown",
   "metadata": {},
   "source": [
    "#### Transformaciones para modelar los datos\n",
    "Después de desanidar el json también realizamos un pivot sobre la columna TipoMercado para que por cada Fecha tengamos 2 valores de mercado, el PVPC y el Spot"
   ]
  },
  {
   "cell_type": "code",
   "execution_count": 11,
   "metadata": {},
   "outputs": [
    {
     "data": {
      "text/html": [
       "<div>\n",
       "  <span style=\"float: left;\">pivot at cmd10.sc:14</span>\n",
       "</div>\n"
      ]
     },
     "metadata": {},
     "output_type": "display_data"
    },
    {
     "data": {
      "text/html": [
       "<div class=\"progress\">\n",
       "  <div class=\"progress-bar\" role=\"progressbar\" style=\"background-color: blue; width: 100%; word-wrap: normal; white-space: nowrap; text-align: center; color: white\" aria-valuenow=\"100\" aria-valuemin=\"0\" aria-valuemax=\"100\">\n",
       "    16 / 16\n",
       "  </div>\n",
       "  <div class=\"progress-bar\" role=\"progressbar\" style=\"background-color: red; width: 0%\" aria-valuenow=\"0\" aria-valuemin=\"0\" aria-valuemax=\"100\"></div>\n",
       "</div>\n"
      ]
     },
     "metadata": {},
     "output_type": "display_data"
    },
    {
     "data": {
      "text/html": [
       "<div>\n",
       "  <span style=\"float: left;\">pivot at cmd10.sc:14</span>\n",
       "</div>\n"
      ]
     },
     "metadata": {},
     "output_type": "display_data"
    },
    {
     "data": {
      "text/html": [
       "<div class=\"progress\">\n",
       "  <div class=\"progress-bar\" role=\"progressbar\" style=\"background-color: blue; width: 100%; word-wrap: normal; white-space: nowrap; text-align: center; color: white\" aria-valuenow=\"100\" aria-valuemin=\"0\" aria-valuemax=\"100\">\n",
       "    200 / 200\n",
       "  </div>\n",
       "  <div class=\"progress-bar\" role=\"progressbar\" style=\"background-color: red; width: 0%\" aria-valuenow=\"0\" aria-valuemin=\"0\" aria-valuemax=\"100\"></div>\n",
       "</div>\n"
      ]
     },
     "metadata": {},
     "output_type": "display_data"
    },
    {
     "data": {
      "text/html": [
       "<div>\n",
       "  <span style=\"float: left;\">pivot at cmd10.sc:14</span>\n",
       "</div>\n"
      ]
     },
     "metadata": {},
     "output_type": "display_data"
    },
    {
     "data": {
      "text/html": [
       "<div class=\"progress\">\n",
       "  <div class=\"progress-bar\" role=\"progressbar\" style=\"background-color: blue; width: 100%; word-wrap: normal; white-space: nowrap; text-align: center; color: white\" aria-valuenow=\"100\" aria-valuemin=\"0\" aria-valuemax=\"100\">\n",
       "    1 / 1\n",
       "  </div>\n",
       "  <div class=\"progress-bar\" role=\"progressbar\" style=\"background-color: red; width: 0%\" aria-valuenow=\"0\" aria-valuemin=\"0\" aria-valuemax=\"100\"></div>\n",
       "</div>\n"
      ]
     },
     "metadata": {},
     "output_type": "display_data"
    },
    {
     "data": {
      "text/plain": [
       "\u001b[36mtransformedDF\u001b[39m: \u001b[32mDataFrame\u001b[39m = [Fecha: timestamp, TipoMercado: string ... 2 more fields]\n",
       "\u001b[36mpivotedDF\u001b[39m: \u001b[32mDataFrame\u001b[39m = [Fecha: timestamp, Valor_PVPC: double ... 3 more fields]"
      ]
     },
     "execution_count": 11,
     "metadata": {},
     "output_type": "execute_result"
    }
   ],
   "source": [
    "// Desanidar y transformar el DataFrame\n",
    "val transformedDF = dFrameMercadosTR\n",
    "  .withColumn(\"included\", explode($\"included\"))\n",
    "  .withColumn(\"TipoMercado\", $\"included.type\")\n",
    "  .withColumn(\"Values\", explode($\"included.attributes.values\"))\n",
    "  .select(\n",
    "    $\"Values.datetime\".cast(\"timestamp\").as(\"Fecha\"),\n",
    "    $\"TipoMercado\",\n",
    "    $\"Values.value\".as(\"Valor\"),\n",
    "    $\"Values.percentage\".as(\"Porcentaje\")\n",
    "  )\n",
    "// Pivotar el DataFrame para obtener las columnas necesarias\n",
    "val pivotedDF = transformedDF\n",
    "    .groupBy(\"Fecha\")\n",
    "    .pivot(\"TipoMercado\")\n",
    "    .agg(\n",
    "    first(\"Valor\").as(\"Valor\"),\n",
    "    first(\"Porcentaje\").as(\"Porcentaje\")\n",
    "    )\n",
    "    .withColumnRenamed(\"PVPC (€/MWh)_Valor\", \"Valor_PVPC\")\n",
    "    .withColumnRenamed(\"PVPC (€/MWh)_Porcentaje\", \"Porcentaje_PVPC\")\n",
    "    .withColumnRenamed(\"Precio mercado spot (€/MWh)_Valor\", \"Valor_Mercado_Spot\")\n",
    "    .withColumnRenamed(\"Precio mercado spot (€/MWh)_Porcentaje\", \"Porcentaje_Mercado_Spot\")"
   ]
  },
  {
   "cell_type": "code",
   "execution_count": 12,
   "metadata": {},
   "outputs": [
    {
     "data": {
      "text/html": [
       "<div>\n",
       "  <span style=\"float: left;\">show at cmd11.sc:1</span>\n",
       "</div>\n"
      ]
     },
     "metadata": {},
     "output_type": "display_data"
    },
    {
     "data": {
      "text/html": [
       "<div class=\"progress\">\n",
       "  <div class=\"progress-bar\" role=\"progressbar\" style=\"background-color: blue; width: 100%; word-wrap: normal; white-space: nowrap; text-align: center; color: white\" aria-valuenow=\"100\" aria-valuemin=\"0\" aria-valuemax=\"100\">\n",
       "    16 / 16\n",
       "  </div>\n",
       "  <div class=\"progress-bar\" role=\"progressbar\" style=\"background-color: red; width: 0%\" aria-valuenow=\"0\" aria-valuemin=\"0\" aria-valuemax=\"100\"></div>\n",
       "</div>\n"
      ]
     },
     "metadata": {},
     "output_type": "display_data"
    },
    {
     "data": {
      "text/html": [
       "<div>\n",
       "  <span style=\"float: left;\">show at cmd11.sc:1</span>\n",
       "</div>\n"
      ]
     },
     "metadata": {},
     "output_type": "display_data"
    },
    {
     "data": {
      "text/html": [
       "<div class=\"progress\">\n",
       "  <div class=\"progress-bar\" role=\"progressbar\" style=\"background-color: blue; width: 100%; word-wrap: normal; white-space: nowrap; text-align: center; color: white\" aria-valuenow=\"100\" aria-valuemin=\"0\" aria-valuemax=\"100\">\n",
       "    200 / 200\n",
       "  </div>\n",
       "  <div class=\"progress-bar\" role=\"progressbar\" style=\"background-color: red; width: 0%\" aria-valuenow=\"0\" aria-valuemin=\"0\" aria-valuemax=\"100\"></div>\n",
       "</div>\n"
      ]
     },
     "metadata": {},
     "output_type": "display_data"
    },
    {
     "data": {
      "text/html": [
       "<div>\n",
       "  <span style=\"float: left;\">show at cmd11.sc:1</span>\n",
       "</div>\n"
      ]
     },
     "metadata": {},
     "output_type": "display_data"
    },
    {
     "data": {
      "text/html": [
       "<div class=\"progress\">\n",
       "  <div class=\"progress-bar\" role=\"progressbar\" style=\"background-color: blue; width: 100%; word-wrap: normal; white-space: nowrap; text-align: center; color: white\" aria-valuenow=\"100\" aria-valuemin=\"0\" aria-valuemax=\"100\">\n",
       "    1 / 1\n",
       "  </div>\n",
       "  <div class=\"progress-bar\" role=\"progressbar\" style=\"background-color: red; width: 0%\" aria-valuenow=\"0\" aria-valuemin=\"0\" aria-valuemax=\"100\"></div>\n",
       "</div>\n"
      ]
     },
     "metadata": {},
     "output_type": "display_data"
    },
    {
     "data": {
      "text/html": [
       "<div>\n",
       "  <span style=\"float: left;\">show at cmd11.sc:1</span>\n",
       "</div>\n"
      ]
     },
     "metadata": {},
     "output_type": "display_data"
    },
    {
     "data": {
      "text/html": [
       "<div class=\"progress\">\n",
       "  <div class=\"progress-bar\" role=\"progressbar\" style=\"background-color: blue; width: 100%; word-wrap: normal; white-space: nowrap; text-align: center; color: white\" aria-valuenow=\"100\" aria-valuemin=\"0\" aria-valuemax=\"100\">\n",
       "    4 / 4\n",
       "  </div>\n",
       "  <div class=\"progress-bar\" role=\"progressbar\" style=\"background-color: red; width: 0%\" aria-valuenow=\"0\" aria-valuemin=\"0\" aria-valuemax=\"100\"></div>\n",
       "</div>\n"
      ]
     },
     "metadata": {},
     "output_type": "display_data"
    },
    {
     "data": {
      "text/html": [
       "<div>\n",
       "  <span style=\"float: left;\">show at cmd11.sc:1</span>\n",
       "</div>\n"
      ]
     },
     "metadata": {},
     "output_type": "display_data"
    },
    {
     "data": {
      "text/html": [
       "<div class=\"progress\">\n",
       "  <div class=\"progress-bar\" role=\"progressbar\" style=\"background-color: blue; width: 100%; word-wrap: normal; white-space: nowrap; text-align: center; color: white\" aria-valuenow=\"100\" aria-valuemin=\"0\" aria-valuemax=\"100\">\n",
       "    2 / 2\n",
       "  </div>\n",
       "  <div class=\"progress-bar\" role=\"progressbar\" style=\"background-color: red; width: 0%\" aria-valuenow=\"0\" aria-valuemin=\"0\" aria-valuemax=\"100\"></div>\n",
       "</div>\n"
      ]
     },
     "metadata": {},
     "output_type": "display_data"
    },
    {
     "name": "stdout",
     "output_type": "stream",
     "text": [
      "+-------------------+----------+------------------+------------------+-----------------------+\n",
      "|              Fecha|Valor_PVPC|   Porcentaje_PVPC|Valor_Mercado_Spot|Porcentaje_Mercado_Spot|\n",
      "+-------------------+----------+------------------+------------------+-----------------------+\n",
      "|2024-01-29 03:00:00|    101.89|0.6639082556851502|             51.58|     0.3360917443148498|\n",
      "|2024-01-09 01:00:00|    137.24|0.5823397123095855|             98.43|     0.4176602876904146|\n",
      "|2024-01-01 18:00:00|    103.34|0.6527698818773293|             54.97|     0.3472301181226707|\n",
      "|2024-01-26 21:00:00|    140.75|0.6524359152644509|             74.98|    0.34756408473554906|\n",
      "|2024-01-19 11:00:00|    192.91|0.7101417264862876|             78.74|     0.2898582735137125|\n",
      "|2024-01-10 11:00:00|    206.88|0.6741616971355948|             99.99|     0.3258383028644051|\n",
      "|2024-01-15 14:00:00|    155.09|0.6325298747909784|              90.1|    0.36747012520902156|\n",
      "|2024-01-29 08:00:00|    151.57|0.6316469411568595|             88.39|    0.36835305884314057|\n",
      "|2024-01-30 16:00:00|    152.59|0.6320520255156987|             88.83|    0.36794797448430117|\n",
      "|2024-01-05 23:00:00|    101.88|0.6599300427516518|              52.5|    0.34006995724834826|\n",
      "|2024-01-10 01:00:00|    125.13| 0.589846327896672|             87.01|    0.41015367210332804|\n",
      "|2024-01-27 23:00:00|     113.1|0.6458059727059898|             62.03|    0.35419402729401017|\n",
      "|2024-01-07 19:00:00|    142.91|0.5871163879873464|             100.5|    0.41288361201265356|\n",
      "|2024-01-25 18:00:00|    233.44|0.6738251933956818|             113.0|     0.3261748066043182|\n",
      "|2024-01-31 05:00:00|     126.3|0.5993166935560406|             84.44|    0.40068330644395933|\n",
      "|2024-01-01 11:00:00|      46.4|0.9354838709677419|               3.2|    0.06451612903225806|\n",
      "|2024-01-12 05:00:00|    126.13|0.5862966578347976|              89.0|    0.41370334216520244|\n",
      "|2024-01-24 08:00:00|    149.46|0.6267192217376719|             89.02|    0.37328077826232803|\n",
      "|2024-01-06 07:00:00|      92.9|0.6697909156452777|              45.8|     0.3302090843547224|\n",
      "|2024-01-05 19:00:00|    196.88|0.7112202875514775|             79.94|     0.2887797124485225|\n",
      "+-------------------+----------+------------------+------------------+-----------------------+\n",
      "only showing top 20 rows\n",
      "\n"
     ]
    }
   ],
   "source": [
    "pivotedDF.show()"
   ]
  },
  {
   "cell_type": "markdown",
   "metadata": {},
   "source": [
    "#### Creamos dataset MercadosPorHora\n",
    "Recordar añadir \"org.apache.spark.sql.catalyst.encoders.OuterScopes.addOuterScope(this)\" en la misma celda donde defines las clases case implicadas para evitar un error\n"
   ]
  },
  {
   "cell_type": "code",
   "execution_count": 13,
   "metadata": {},
   "outputs": [
    {
     "data": {
      "text/plain": [
       "defined \u001b[32mclass\u001b[39m \u001b[36mMercadoPorHora\u001b[39m\n",
       "\u001b[36mdsetMercadoPorHora\u001b[39m: \u001b[32mDataset\u001b[39m[\u001b[32mMercadoPorHora\u001b[39m] = [Fecha: timestamp, Valor_PVPC: double ... 3 more fields]"
      ]
     },
     "execution_count": 13,
     "metadata": {},
     "output_type": "execute_result"
    }
   ],
   "source": [
    "org.apache.spark.sql.catalyst.encoders.OuterScopes.addOuterScope(this)\n",
    "case class MercadoPorHora(\n",
    "  Fecha: java.sql.Timestamp,\n",
    "  Valor_PVPC: Double,\n",
    "  Porcentaje_PVPC: Double,\n",
    "  Valor_Mercado_Spot: Double,\n",
    "  Porcentaje_Mercado_Spot: Double\n",
    ")\n",
    "\n",
    "val dsetMercadoPorHora: Dataset[MercadoPorHora] = pivotedDF.as[MercadoPorHora]"
   ]
  },
  {
   "cell_type": "code",
   "execution_count": 14,
   "metadata": {},
   "outputs": [
    {
     "data": {
      "text/html": [
       "<div>\n",
       "  <span style=\"float: left;\">show at cmd13.sc:1</span>\n",
       "</div>\n"
      ]
     },
     "metadata": {},
     "output_type": "display_data"
    },
    {
     "data": {
      "text/html": [
       "<div class=\"progress\">\n",
       "  <div class=\"progress-bar\" role=\"progressbar\" style=\"background-color: blue; width: 100%; word-wrap: normal; white-space: nowrap; text-align: center; color: white\" aria-valuenow=\"100\" aria-valuemin=\"0\" aria-valuemax=\"100\">\n",
       "    16 / 16\n",
       "  </div>\n",
       "  <div class=\"progress-bar\" role=\"progressbar\" style=\"background-color: red; width: 0%\" aria-valuenow=\"0\" aria-valuemin=\"0\" aria-valuemax=\"100\"></div>\n",
       "</div>\n"
      ]
     },
     "metadata": {},
     "output_type": "display_data"
    },
    {
     "data": {
      "text/html": [
       "<div>\n",
       "  <span style=\"float: left;\">show at cmd13.sc:1</span>\n",
       "</div>\n"
      ]
     },
     "metadata": {},
     "output_type": "display_data"
    },
    {
     "data": {
      "text/html": [
       "<div class=\"progress\">\n",
       "  <div class=\"progress-bar\" role=\"progressbar\" style=\"background-color: blue; width: 100%; word-wrap: normal; white-space: nowrap; text-align: center; color: white\" aria-valuenow=\"100\" aria-valuemin=\"0\" aria-valuemax=\"100\">\n",
       "    200 / 200\n",
       "  </div>\n",
       "  <div class=\"progress-bar\" role=\"progressbar\" style=\"background-color: red; width: 0%\" aria-valuenow=\"0\" aria-valuemin=\"0\" aria-valuemax=\"100\"></div>\n",
       "</div>\n"
      ]
     },
     "metadata": {},
     "output_type": "display_data"
    },
    {
     "data": {
      "text/html": [
       "<div>\n",
       "  <span style=\"float: left;\">show at cmd13.sc:1</span>\n",
       "</div>\n"
      ]
     },
     "metadata": {},
     "output_type": "display_data"
    },
    {
     "data": {
      "text/html": [
       "<div class=\"progress\">\n",
       "  <div class=\"progress-bar\" role=\"progressbar\" style=\"background-color: blue; width: 100%; word-wrap: normal; white-space: nowrap; text-align: center; color: white\" aria-valuenow=\"100\" aria-valuemin=\"0\" aria-valuemax=\"100\">\n",
       "    1 / 1\n",
       "  </div>\n",
       "  <div class=\"progress-bar\" role=\"progressbar\" style=\"background-color: red; width: 0%\" aria-valuenow=\"0\" aria-valuemin=\"0\" aria-valuemax=\"100\"></div>\n",
       "</div>\n"
      ]
     },
     "metadata": {},
     "output_type": "display_data"
    },
    {
     "data": {
      "text/html": [
       "<div>\n",
       "  <span style=\"float: left;\">show at cmd13.sc:1</span>\n",
       "</div>\n"
      ]
     },
     "metadata": {},
     "output_type": "display_data"
    },
    {
     "data": {
      "text/html": [
       "<div class=\"progress\">\n",
       "  <div class=\"progress-bar\" role=\"progressbar\" style=\"background-color: blue; width: 100%; word-wrap: normal; white-space: nowrap; text-align: center; color: white\" aria-valuenow=\"100\" aria-valuemin=\"0\" aria-valuemax=\"100\">\n",
       "    4 / 4\n",
       "  </div>\n",
       "  <div class=\"progress-bar\" role=\"progressbar\" style=\"background-color: red; width: 0%\" aria-valuenow=\"0\" aria-valuemin=\"0\" aria-valuemax=\"100\"></div>\n",
       "</div>\n"
      ]
     },
     "metadata": {},
     "output_type": "display_data"
    },
    {
     "data": {
      "text/html": [
       "<div>\n",
       "  <span style=\"float: left;\">show at cmd13.sc:1</span>\n",
       "</div>\n"
      ]
     },
     "metadata": {},
     "output_type": "display_data"
    },
    {
     "data": {
      "text/html": [
       "<div class=\"progress\">\n",
       "  <div class=\"progress-bar\" role=\"progressbar\" style=\"background-color: blue; width: 100%; word-wrap: normal; white-space: nowrap; text-align: center; color: white\" aria-valuenow=\"100\" aria-valuemin=\"0\" aria-valuemax=\"100\">\n",
       "    2 / 2\n",
       "  </div>\n",
       "  <div class=\"progress-bar\" role=\"progressbar\" style=\"background-color: red; width: 0%\" aria-valuenow=\"0\" aria-valuemin=\"0\" aria-valuemax=\"100\"></div>\n",
       "</div>\n"
      ]
     },
     "metadata": {},
     "output_type": "display_data"
    },
    {
     "name": "stdout",
     "output_type": "stream",
     "text": [
      "+-------------------+----------+------------------+------------------+-----------------------+\n",
      "|              Fecha|Valor_PVPC|   Porcentaje_PVPC|Valor_Mercado_Spot|Porcentaje_Mercado_Spot|\n",
      "+-------------------+----------+------------------+------------------+-----------------------+\n",
      "|2024-01-29 03:00:00|    101.89|0.6639082556851502|             51.58|     0.3360917443148498|\n",
      "|2024-01-09 01:00:00|    137.24|0.5823397123095855|             98.43|     0.4176602876904146|\n",
      "|2024-01-01 18:00:00|    103.34|0.6527698818773293|             54.97|     0.3472301181226707|\n",
      "|2024-01-26 21:00:00|    140.75|0.6524359152644509|             74.98|    0.34756408473554906|\n",
      "|2024-01-19 11:00:00|    192.91|0.7101417264862876|             78.74|     0.2898582735137125|\n",
      "|2024-01-10 11:00:00|    206.88|0.6741616971355948|             99.99|     0.3258383028644051|\n",
      "|2024-01-15 14:00:00|    155.09|0.6325298747909784|              90.1|    0.36747012520902156|\n",
      "|2024-01-29 08:00:00|    151.57|0.6316469411568595|             88.39|    0.36835305884314057|\n",
      "|2024-01-30 16:00:00|    152.59|0.6320520255156987|             88.83|    0.36794797448430117|\n",
      "|2024-01-05 23:00:00|    101.88|0.6599300427516518|              52.5|    0.34006995724834826|\n",
      "|2024-01-10 01:00:00|    125.13| 0.589846327896672|             87.01|    0.41015367210332804|\n",
      "|2024-01-27 23:00:00|     113.1|0.6458059727059898|             62.03|    0.35419402729401017|\n",
      "|2024-01-07 19:00:00|    142.91|0.5871163879873464|             100.5|    0.41288361201265356|\n",
      "|2024-01-25 18:00:00|    233.44|0.6738251933956818|             113.0|     0.3261748066043182|\n",
      "|2024-01-31 05:00:00|     126.3|0.5993166935560406|             84.44|    0.40068330644395933|\n",
      "|2024-01-01 11:00:00|      46.4|0.9354838709677419|               3.2|    0.06451612903225806|\n",
      "|2024-01-12 05:00:00|    126.13|0.5862966578347976|              89.0|    0.41370334216520244|\n",
      "|2024-01-24 08:00:00|    149.46|0.6267192217376719|             89.02|    0.37328077826232803|\n",
      "|2024-01-06 07:00:00|      92.9|0.6697909156452777|              45.8|     0.3302090843547224|\n",
      "|2024-01-05 19:00:00|    196.88|0.7112202875514775|             79.94|     0.2887797124485225|\n",
      "+-------------------+----------+------------------+------------------+-----------------------+\n",
      "only showing top 20 rows\n",
      "\n"
     ]
    }
   ],
   "source": [
    "dsetMercadoPorHora.show()"
   ]
  },
  {
   "cell_type": "markdown",
   "metadata": {},
   "source": [
    "# Modelo Demanda por hora\n",
    "\n",
    "Categoria: demanda, widget: demanda-tiempo-real\n",
    "Esta response nos da valor de la demanda real de energía cada 5 min."
   ]
  },
  {
   "cell_type": "code",
   "execution_count": 15,
   "metadata": {},
   "outputs": [
    {
     "data": {
      "text/html": [
       "<div>\n",
       "  <span style=\"float: left;\">json at cmd2.sc:52</span>\n",
       "</div>\n"
      ]
     },
     "metadata": {},
     "output_type": "display_data"
    },
    {
     "data": {
      "text/html": [
       "<div class=\"progress\">\n",
       "  <div class=\"progress-bar\" role=\"progressbar\" style=\"background-color: blue; width: 100%; word-wrap: normal; white-space: nowrap; text-align: center; color: white\" aria-valuenow=\"100\" aria-valuemin=\"0\" aria-valuemax=\"100\">\n",
       "    16 / 16\n",
       "  </div>\n",
       "  <div class=\"progress-bar\" role=\"progressbar\" style=\"background-color: red; width: 0%\" aria-valuenow=\"0\" aria-valuemin=\"0\" aria-valuemax=\"100\"></div>\n",
       "</div>\n"
      ]
     },
     "metadata": {},
     "output_type": "display_data"
    },
    {
     "data": {
      "text/plain": [
       "\u001b[36mcategory\u001b[39m: \u001b[32mString\u001b[39m = \u001b[32m\"demanda\"\u001b[39m\n",
       "\u001b[36mwidget\u001b[39m: \u001b[32mString\u001b[39m = \u001b[32m\"demanda-tiempo-real\"\u001b[39m\n",
       "\u001b[36mstart_date\u001b[39m: \u001b[32mString\u001b[39m = \u001b[32m\"2014-01-01T00:00\"\u001b[39m\n",
       "\u001b[36mend_date\u001b[39m: \u001b[32mString\u001b[39m = \u001b[32m\"2014-01-31T23:59\"\u001b[39m\n",
       "\u001b[36mtime_trunc\u001b[39m: \u001b[32mString\u001b[39m = \u001b[32m\"hour\"\u001b[39m\n",
       "\u001b[36mlang\u001b[39m: \u001b[32mString\u001b[39m = \u001b[32m\"es\"\u001b[39m\n",
       "\u001b[36muriDemanda\u001b[39m: \u001b[32mString\u001b[39m = \u001b[32m\"https://apidatos.ree.es/es/datos/demanda/demanda-tiempo-real?start_date=2014-01-01T00:00&end_date=2014-01-31T23:59&time_trunc=hour\"\u001b[39m\n",
       "\u001b[36mdFrameDemanda\u001b[39m: \u001b[32mDataFrame\u001b[39m = [data: struct<attributes: struct<description: string, last-update: string ... 1 more field>, id: string ... 2 more fields>, included: array<struct<attributes:struct<color:string,composite:boolean,description:string,last-update:string,magnitude:string,title:string,type:string,values:array<struct<datetime:string,percentage:double,value:bigint>>>,groupId:string,id:string,type:string>>]"
      ]
     },
     "execution_count": 15,
     "metadata": {},
     "output_type": "execute_result"
    }
   ],
   "source": [
    "val category = \"demanda\"\n",
    "val widget = \"demanda-tiempo-real\"\n",
    "val start_date = \"2014-01-01T00:00\"\n",
    "val end_date = \"2014-01-31T23:59\"\n",
    "val time_trunc = \"hour\"\n",
    "val lang = \"es\"\n",
    "//val geo_limits = \"ccaa\"\n",
    "//val ids = \"13\"\n",
    "\n",
    "val uriDemanda= createUri(category, widget, start_date, end_date, time_trunc, lang)\n",
    "\n",
    "//Hacemos la request a la api REData y transformamos en un dataframe\n",
    "val dFrameDemanda = responseToDF(getDataApi(uriDemanda))"
   ]
  },
  {
   "cell_type": "markdown",
   "metadata": {},
   "source": [
    "#### Transformaciones para modelar los datos de demanda\n",
    "Al igual que con el mercado aqui vamos a realizar otro pivot para desglosar la demanda en 3 columnas: Demanda real, Demanda programada y Demanda prevista"
   ]
  },
  {
   "cell_type": "code",
   "execution_count": 16,
   "metadata": {},
   "outputs": [
    {
     "data": {
      "text/html": [
       "<div>\n",
       "  <span style=\"float: left;\">pivot at cmd15.sc:14</span>\n",
       "</div>\n"
      ]
     },
     "metadata": {},
     "output_type": "display_data"
    },
    {
     "data": {
      "text/html": [
       "<div class=\"progress\">\n",
       "  <div class=\"progress-bar\" role=\"progressbar\" style=\"background-color: blue; width: 100%; word-wrap: normal; white-space: nowrap; text-align: center; color: white\" aria-valuenow=\"100\" aria-valuemin=\"0\" aria-valuemax=\"100\">\n",
       "    16 / 16\n",
       "  </div>\n",
       "  <div class=\"progress-bar\" role=\"progressbar\" style=\"background-color: red; width: 0%\" aria-valuenow=\"0\" aria-valuemin=\"0\" aria-valuemax=\"100\"></div>\n",
       "</div>\n"
      ]
     },
     "metadata": {},
     "output_type": "display_data"
    },
    {
     "data": {
      "text/html": [
       "<div>\n",
       "  <span style=\"float: left;\">pivot at cmd15.sc:14</span>\n",
       "</div>\n"
      ]
     },
     "metadata": {},
     "output_type": "display_data"
    },
    {
     "data": {
      "text/html": [
       "<div class=\"progress\">\n",
       "  <div class=\"progress-bar\" role=\"progressbar\" style=\"background-color: blue; width: 100%; word-wrap: normal; white-space: nowrap; text-align: center; color: white\" aria-valuenow=\"100\" aria-valuemin=\"0\" aria-valuemax=\"100\">\n",
       "    200 / 200\n",
       "  </div>\n",
       "  <div class=\"progress-bar\" role=\"progressbar\" style=\"background-color: red; width: 0%\" aria-valuenow=\"0\" aria-valuemin=\"0\" aria-valuemax=\"100\"></div>\n",
       "</div>\n"
      ]
     },
     "metadata": {},
     "output_type": "display_data"
    },
    {
     "data": {
      "text/plain": [
       "\u001b[36mtransformedDfDemanda\u001b[39m: \u001b[32mDataFrame\u001b[39m = [Fecha: timestamp, TipoDemanda: string ... 2 more fields]\n",
       "\u001b[36mpivotedDfDemanda\u001b[39m: \u001b[32mDataFrame\u001b[39m = [Fecha: timestamp, Valor_previsto: bigint ... 5 more fields]"
      ]
     },
     "execution_count": 16,
     "metadata": {},
     "output_type": "execute_result"
    }
   ],
   "source": [
    "// Desanidar y transformar el DataFrame\n",
    "val transformedDfDemanda = dFrameDemanda\n",
    "    .withColumn(\"included\", explode($\"included\"))\n",
    "    .withColumn(\"TipoDemanda\", $\"included.type\")\n",
    "    .withColumn(\"Values\", explode($\"included.attributes.values\"))\n",
    "    .select(\n",
    "    $\"Values.datetime\".cast(\"timestamp\").as(\"Fecha\"),\n",
    "    $\"TipoDemanda\",\n",
    "    $\"Values.value\".as(\"Valor\"),\n",
    "    $\"Values.percentage\".as(\"Porcentaje\")\n",
    "  )\n",
    "// Pivotar el DataFrame para obtener las columnas necesarias\n",
    "val pivotedDfDemanda = transformedDfDemanda\n",
    "    .groupBy(\"Fecha\")\n",
    "    .pivot(\"TipoDemanda\")\n",
    "    .agg(\n",
    "    first(\"Valor\").as(\"Valor\"),\n",
    "    first(\"Porcentaje\").as(\"Porcentaje\")\n",
    "    )\n",
    "    .withColumnRenamed(\"Demanda prevista_Valor\", \"Valor_previsto\")\n",
    "    .withColumnRenamed(\"Demanda prevista_Porcentaje\", \"Porcentaje_previsto\")\n",
    "    .withColumnRenamed(\"Demanda programada_Valor\", \"Valor_programado\")\n",
    "    .withColumnRenamed(\"Demanda programada_Porcentaje\", \"Porcentaje_programado\")\n",
    "    .withColumnRenamed(\"Demanda real_Valor\", \"Valor_real\")\n",
    "    .withColumnRenamed(\"Demanda real_Porcentaje\", \"Porcentaje_real\")\n"
   ]
  },
  {
   "cell_type": "code",
   "execution_count": 17,
   "metadata": {},
   "outputs": [
    {
     "data": {
      "text/html": [
       "<div>\n",
       "  <span style=\"float: left;\">show at cmd16.sc:1</span>\n",
       "</div>\n"
      ]
     },
     "metadata": {},
     "output_type": "display_data"
    },
    {
     "data": {
      "text/html": [
       "<div class=\"progress\">\n",
       "  <div class=\"progress-bar\" role=\"progressbar\" style=\"background-color: blue; width: 100%; word-wrap: normal; white-space: nowrap; text-align: center; color: white\" aria-valuenow=\"100\" aria-valuemin=\"0\" aria-valuemax=\"100\">\n",
       "    16 / 16\n",
       "  </div>\n",
       "  <div class=\"progress-bar\" role=\"progressbar\" style=\"background-color: red; width: 0%\" aria-valuenow=\"0\" aria-valuemin=\"0\" aria-valuemax=\"100\"></div>\n",
       "</div>\n"
      ]
     },
     "metadata": {},
     "output_type": "display_data"
    },
    {
     "data": {
      "text/html": [
       "<div>\n",
       "  <span style=\"float: left;\">show at cmd16.sc:1</span>\n",
       "</div>\n"
      ]
     },
     "metadata": {},
     "output_type": "display_data"
    },
    {
     "data": {
      "text/html": [
       "<div class=\"progress\">\n",
       "  <div class=\"progress-bar\" role=\"progressbar\" style=\"background-color: blue; width: 100%; word-wrap: normal; white-space: nowrap; text-align: center; color: white\" aria-valuenow=\"100\" aria-valuemin=\"0\" aria-valuemax=\"100\">\n",
       "    200 / 200\n",
       "  </div>\n",
       "  <div class=\"progress-bar\" role=\"progressbar\" style=\"background-color: red; width: 0%\" aria-valuenow=\"0\" aria-valuemin=\"0\" aria-valuemax=\"100\"></div>\n",
       "</div>\n"
      ]
     },
     "metadata": {},
     "output_type": "display_data"
    },
    {
     "data": {
      "text/html": [
       "<div>\n",
       "  <span style=\"float: left;\">show at cmd16.sc:1</span>\n",
       "</div>\n"
      ]
     },
     "metadata": {},
     "output_type": "display_data"
    },
    {
     "data": {
      "text/html": [
       "<div class=\"progress\">\n",
       "  <div class=\"progress-bar\" role=\"progressbar\" style=\"background-color: blue; width: 100%; word-wrap: normal; white-space: nowrap; text-align: center; color: white\" aria-valuenow=\"100\" aria-valuemin=\"0\" aria-valuemax=\"100\">\n",
       "    1 / 1\n",
       "  </div>\n",
       "  <div class=\"progress-bar\" role=\"progressbar\" style=\"background-color: red; width: 0%\" aria-valuenow=\"0\" aria-valuemin=\"0\" aria-valuemax=\"100\"></div>\n",
       "</div>\n"
      ]
     },
     "metadata": {},
     "output_type": "display_data"
    },
    {
     "data": {
      "text/html": [
       "<div>\n",
       "  <span style=\"float: left;\">show at cmd16.sc:1</span>\n",
       "</div>\n"
      ]
     },
     "metadata": {},
     "output_type": "display_data"
    },
    {
     "data": {
      "text/html": [
       "<div class=\"progress\">\n",
       "  <div class=\"progress-bar\" role=\"progressbar\" style=\"background-color: blue; width: 100%; word-wrap: normal; white-space: nowrap; text-align: center; color: white\" aria-valuenow=\"100\" aria-valuemin=\"0\" aria-valuemax=\"100\">\n",
       "    1 / 1\n",
       "  </div>\n",
       "  <div class=\"progress-bar\" role=\"progressbar\" style=\"background-color: red; width: 0%\" aria-valuenow=\"0\" aria-valuemin=\"0\" aria-valuemax=\"100\"></div>\n",
       "</div>\n"
      ]
     },
     "metadata": {},
     "output_type": "display_data"
    },
    {
     "name": "stdout",
     "output_type": "stream",
     "text": [
      "+-------------------+--------------+-------------------+----------------+---------------------+----------+-------------------+\n",
      "|              Fecha|Valor_previsto|Porcentaje_previsto|Valor_programado|Porcentaje_programado|Valor_real|    Porcentaje_real|\n",
      "+-------------------+--------------+-------------------+----------------+---------------------+----------+-------------------+\n",
      "|2014-01-07 15:10:00|         31859| 0.3346779700188039|           31609|   0.3320517264924942|     31725| 0.3332703034887019|\n",
      "|2014-01-29 09:40:00|         36354| 0.3343480700076335|           36310|   0.3339434016057978|     36067|0.33170852838656867|\n",
      "|2014-01-21 17:50:00|         37367|0.33383363261951343|           36671|   0.3276156272055605|     37895| 0.3385507401749261|\n",
      "|2014-01-09 20:40:00|         35264| 0.3328959416978977|           35732|  0.33731391188603904|     34935| 0.3297901464160633|\n",
      "|2014-01-02 22:20:00|         28422|0.33310674605034923|           27940|  0.32745769068491865|     28962|0.33943556326473207|\n",
      "|2014-01-11 14:40:00|         28873|  0.333957921278786|           28868|  0.33390008906161445|     28716|0.33214198965959957|\n",
      "|2014-01-08 03:10:00|         22102|0.33199645501930214|           22179|   0.3331530800775089|     22292|  0.334850464903189|\n",
      "|2014-01-19 05:50:00|         21521| 0.3352494002554756|           21245|  0.33094993301554665|     21428| 0.3338006667289778|\n",
      "|2014-01-17 00:10:00|         26082| 0.3370159320851262|           25345|  0.32749286092698116|     25964|0.33549120698789264|\n",
      "|2014-01-17 18:10:00|         35880|  0.333671220392259|           35831|  0.33321553784490054|     35820|0.33311324176284046|\n",
      "|2014-01-12 07:50:00|         22794| 0.3328903363369503|           22698|  0.33148832386488103|     22981| 0.3356213397981686|\n",
      "|2014-01-03 23:40:00|         25435| 0.3260479425714652|           26423|   0.3387129855146776|     26152| 0.3352390719138572|\n",
      "|2014-01-05 15:50:00|         25780| 0.3312092091063261|           25979|   0.3337658666940747|     26077| 0.3350249241995992|\n",
      "|2014-01-06 21:50:00|         28509| 0.3345969672785315|           28649|  0.33624008262522886|     28046|0.32916295009623964|\n",
      "|2014-01-10 11:20:00|         34821| 0.3344571230982019|           34692|  0.33321807284462884|     34599| 0.3323248040571692|\n",
      "|2014-01-17 16:20:00|         33151|0.33349429103163825|           33170|  0.33368542829837533|     33084| 0.3328202806699864|\n",
      "|2014-01-27 11:00:00|         34425|0.33120387919837596|           34731|   0.3341479136801393|     34783|0.33464820712148474|\n",
      "|2014-01-13 09:10:00|         35455| 0.3319010709203924|           35688|  0.33408222871264887|     35681|0.33401670036695874|\n",
      "|2014-01-31 01:40:00|         24799| 0.3341147622704552|           24719|  0.33303692925373535|     24705| 0.3328483084758094|\n",
      "|2014-01-06 23:10:00|         26220| 0.3452362142518565|           24508|  0.32269447516721966|     25220| 0.3320693105809238|\n",
      "+-------------------+--------------+-------------------+----------------+---------------------+----------+-------------------+\n",
      "only showing top 20 rows\n",
      "\n"
     ]
    }
   ],
   "source": [
    "pivotedDfDemanda.show()"
   ]
  },
  {
   "cell_type": "code",
   "execution_count": 18,
   "metadata": {},
   "outputs": [
    {
     "data": {
      "text/plain": [
       "defined \u001b[32mclass\u001b[39m \u001b[36mDemandaPorHora\u001b[39m\n",
       "\u001b[36mdsetDemanda\u001b[39m: \u001b[32mDataset\u001b[39m[\u001b[32mDemandaPorHora\u001b[39m] = [Fecha: timestamp, Valor_previsto: bigint ... 5 more fields]"
      ]
     },
     "execution_count": 18,
     "metadata": {},
     "output_type": "execute_result"
    }
   ],
   "source": [
    "org.apache.spark.sql.catalyst.encoders.OuterScopes.addOuterScope(this)\n",
    "\n",
    "case class DemandaPorHora(\n",
    "  Fecha: java.sql.Timestamp,\n",
    "  Valor_previsto: Double,\n",
    "  Porcentaje_previsto: Double,\n",
    "  Valor_programado: Double,\n",
    "  Porcentaje_programado: Double,\n",
    "  Valor_real: Double,\n",
    "  Porcentaje_real: Double\n",
    ")\n",
    "\n",
    "val dsetDemanda: Dataset[DemandaPorHora] = pivotedDfDemanda.as[DemandaPorHora]"
   ]
  },
  {
   "cell_type": "code",
   "execution_count": 19,
   "metadata": {},
   "outputs": [
    {
     "data": {
      "text/html": [
       "<div>\n",
       "  <span style=\"float: left;\">show at cmd18.sc:1</span>\n",
       "</div>\n"
      ]
     },
     "metadata": {},
     "output_type": "display_data"
    },
    {
     "data": {
      "text/html": [
       "<div class=\"progress\">\n",
       "  <div class=\"progress-bar\" role=\"progressbar\" style=\"background-color: blue; width: 100%; word-wrap: normal; white-space: nowrap; text-align: center; color: white\" aria-valuenow=\"100\" aria-valuemin=\"0\" aria-valuemax=\"100\">\n",
       "    16 / 16\n",
       "  </div>\n",
       "  <div class=\"progress-bar\" role=\"progressbar\" style=\"background-color: red; width: 0%\" aria-valuenow=\"0\" aria-valuemin=\"0\" aria-valuemax=\"100\"></div>\n",
       "</div>\n"
      ]
     },
     "metadata": {},
     "output_type": "display_data"
    },
    {
     "data": {
      "text/html": [
       "<div>\n",
       "  <span style=\"float: left;\">show at cmd18.sc:1</span>\n",
       "</div>\n"
      ]
     },
     "metadata": {},
     "output_type": "display_data"
    },
    {
     "data": {
      "text/html": [
       "<div class=\"progress\">\n",
       "  <div class=\"progress-bar\" role=\"progressbar\" style=\"background-color: blue; width: 100%; word-wrap: normal; white-space: nowrap; text-align: center; color: white\" aria-valuenow=\"100\" aria-valuemin=\"0\" aria-valuemax=\"100\">\n",
       "    200 / 200\n",
       "  </div>\n",
       "  <div class=\"progress-bar\" role=\"progressbar\" style=\"background-color: red; width: 0%\" aria-valuenow=\"0\" aria-valuemin=\"0\" aria-valuemax=\"100\"></div>\n",
       "</div>\n"
      ]
     },
     "metadata": {},
     "output_type": "display_data"
    },
    {
     "data": {
      "text/html": [
       "<div>\n",
       "  <span style=\"float: left;\">show at cmd18.sc:1</span>\n",
       "</div>\n"
      ]
     },
     "metadata": {},
     "output_type": "display_data"
    },
    {
     "data": {
      "text/html": [
       "<div class=\"progress\">\n",
       "  <div class=\"progress-bar\" role=\"progressbar\" style=\"background-color: blue; width: 100%; word-wrap: normal; white-space: nowrap; text-align: center; color: white\" aria-valuenow=\"100\" aria-valuemin=\"0\" aria-valuemax=\"100\">\n",
       "    1 / 1\n",
       "  </div>\n",
       "  <div class=\"progress-bar\" role=\"progressbar\" style=\"background-color: red; width: 0%\" aria-valuenow=\"0\" aria-valuemin=\"0\" aria-valuemax=\"100\"></div>\n",
       "</div>\n"
      ]
     },
     "metadata": {},
     "output_type": "display_data"
    },
    {
     "data": {
      "text/html": [
       "<div>\n",
       "  <span style=\"float: left;\">show at cmd18.sc:1</span>\n",
       "</div>\n"
      ]
     },
     "metadata": {},
     "output_type": "display_data"
    },
    {
     "data": {
      "text/html": [
       "<div class=\"progress\">\n",
       "  <div class=\"progress-bar\" role=\"progressbar\" style=\"background-color: blue; width: 100%; word-wrap: normal; white-space: nowrap; text-align: center; color: white\" aria-valuenow=\"100\" aria-valuemin=\"0\" aria-valuemax=\"100\">\n",
       "    1 / 1\n",
       "  </div>\n",
       "  <div class=\"progress-bar\" role=\"progressbar\" style=\"background-color: red; width: 0%\" aria-valuenow=\"0\" aria-valuemin=\"0\" aria-valuemax=\"100\"></div>\n",
       "</div>\n"
      ]
     },
     "metadata": {},
     "output_type": "display_data"
    },
    {
     "name": "stdout",
     "output_type": "stream",
     "text": [
      "+-------------------+--------------+-------------------+----------------+---------------------+----------+-------------------+\n",
      "|              Fecha|Valor_previsto|Porcentaje_previsto|Valor_programado|Porcentaje_programado|Valor_real|    Porcentaje_real|\n",
      "+-------------------+--------------+-------------------+----------------+---------------------+----------+-------------------+\n",
      "|2014-01-07 15:10:00|         31859| 0.3346779700188039|           31609|   0.3320517264924942|     31725| 0.3332703034887019|\n",
      "|2014-01-29 09:40:00|         36354| 0.3343480700076335|           36310|   0.3339434016057978|     36067|0.33170852838656867|\n",
      "|2014-01-21 17:50:00|         37367|0.33383363261951343|           36671|   0.3276156272055605|     37895| 0.3385507401749261|\n",
      "|2014-01-09 20:40:00|         35264| 0.3328959416978977|           35732|  0.33731391188603904|     34935| 0.3297901464160633|\n",
      "|2014-01-02 22:20:00|         28422|0.33310674605034923|           27940|  0.32745769068491865|     28962|0.33943556326473207|\n",
      "|2014-01-11 14:40:00|         28873|  0.333957921278786|           28868|  0.33390008906161445|     28716|0.33214198965959957|\n",
      "|2014-01-08 03:10:00|         22102|0.33199645501930214|           22179|   0.3331530800775089|     22292|  0.334850464903189|\n",
      "|2014-01-19 05:50:00|         21521| 0.3352494002554756|           21245|  0.33094993301554665|     21428| 0.3338006667289778|\n",
      "|2014-01-17 00:10:00|         26082| 0.3370159320851262|           25345|  0.32749286092698116|     25964|0.33549120698789264|\n",
      "|2014-01-17 18:10:00|         35880|  0.333671220392259|           35831|  0.33321553784490054|     35820|0.33311324176284046|\n",
      "|2014-01-12 07:50:00|         22794| 0.3328903363369503|           22698|  0.33148832386488103|     22981| 0.3356213397981686|\n",
      "|2014-01-03 23:40:00|         25435| 0.3260479425714652|           26423|   0.3387129855146776|     26152| 0.3352390719138572|\n",
      "|2014-01-05 15:50:00|         25780| 0.3312092091063261|           25979|   0.3337658666940747|     26077| 0.3350249241995992|\n",
      "|2014-01-06 21:50:00|         28509| 0.3345969672785315|           28649|  0.33624008262522886|     28046|0.32916295009623964|\n",
      "|2014-01-10 11:20:00|         34821| 0.3344571230982019|           34692|  0.33321807284462884|     34599| 0.3323248040571692|\n",
      "|2014-01-17 16:20:00|         33151|0.33349429103163825|           33170|  0.33368542829837533|     33084| 0.3328202806699864|\n",
      "|2014-01-27 11:00:00|         34425|0.33120387919837596|           34731|   0.3341479136801393|     34783|0.33464820712148474|\n",
      "|2014-01-13 09:10:00|         35455| 0.3319010709203924|           35688|  0.33408222871264887|     35681|0.33401670036695874|\n",
      "|2014-01-31 01:40:00|         24799| 0.3341147622704552|           24719|  0.33303692925373535|     24705| 0.3328483084758094|\n",
      "|2014-01-06 23:10:00|         26220| 0.3452362142518565|           24508|  0.32269447516721966|     25220| 0.3320693105809238|\n",
      "+-------------------+--------------+-------------------+----------------+---------------------+----------+-------------------+\n",
      "only showing top 20 rows\n",
      "\n"
     ]
    }
   ],
   "source": [
    "dsetDemanda.show()"
   ]
  },
  {
   "cell_type": "code",
   "execution_count": 19,
   "metadata": {},
   "outputs": [
    {
     "name": "stderr",
     "output_type": "stream",
     "text": [
      "cmd19.sc:1: value Valor_previsto is not a member of org.apache.spark.sql.Dataset[cmd19.this.cmd17.DemandaPorHora]\n",
      "val res19 = dsetDemanda.Valor_previsto\n",
      "                        ^Compilation Failed"
     ]
    },
    {
     "ename": "",
     "evalue": "",
     "output_type": "error",
     "traceback": [
      "Compilation Failed"
     ]
    }
   ],
   "source": [
    "dsetDemanda.Valor_previsto"
   ]
  },
  {
   "cell_type": "code",
   "execution_count": null,
   "metadata": {},
   "outputs": [],
   "source": []
  }
 ],
 "metadata": {
  "kernelspec": {
   "display_name": "Scala 2.12",
   "language": "scala",
   "name": "scala212"
  },
  "language_info": {
   "codemirror_mode": "text/x-scala",
   "file_extension": ".scala",
   "mimetype": "text/x-scala",
   "name": "scala",
   "nbconvert_exporter": "script",
   "version": "2.12.10"
  }
 },
 "nbformat": 4,
 "nbformat_minor": 4
}
