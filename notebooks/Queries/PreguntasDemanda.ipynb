{
 "cells": [
  {
   "cell_type": "code",
   "execution_count": 2,
   "metadata": {},
   "outputs": [
    {
     "data": {
      "text/plain": [
       "\u001b[32mimport \u001b[39m\u001b[36m$ivy.$                                  \n",
       "\n",
       "\n",
       "\u001b[39m\n",
       "\u001b[32mimport \u001b[39m\u001b[36morg.apache.spark.sql._\n",
       "\u001b[39m\n",
       "\u001b[32mimport \u001b[39m\u001b[36morg.apache.spark.sql.functions._\n",
       "\n",
       "\n",
       "//Reducir numero logs\n",
       "\u001b[39m\n",
       "\u001b[32mimport \u001b[39m\u001b[36morg.apache.log4j.{Level, Logger}\n",
       "\u001b[39m\n",
       "\u001b[32mimport \u001b[39m\u001b[36m$ivy.$                                                                        \n",
       "\u001b[39m\n",
       "\u001b[32mimport \u001b[39m\u001b[36msttp.client.quick.{quickRequest, UriContext, backend}\n",
       "\u001b[39m\n",
       "\u001b[32mimport \u001b[39m\u001b[36msttp.client.asynchttpclient.monix._\n",
       "\u001b[39m\n",
       "\u001b[32mimport \u001b[39m\u001b[36msttp.client.basicRequest\n",
       "\n",
       "//For adding extra dependenies\n",
       "\u001b[39m\n",
       "\u001b[32mimport \u001b[39m\u001b[36m$ivy.$                               \n",
       "\n",
       "//Plotly\n",
       "\u001b[39m\n",
       "\u001b[32mimport \u001b[39m\u001b[36m$ivy.$                                      \n",
       "\u001b[39m\n",
       "\u001b[32mimport \u001b[39m\u001b[36mplotly._, plotly.element._, plotly.layout._, plotly.Almond._\u001b[39m"
      ]
     },
     "execution_count": 2,
     "metadata": {},
     "output_type": "execute_result"
    }
   ],
   "source": [
    "import $ivy.`org.apache.spark::spark-sql:2.4.3`\n",
    "\n",
    "\n",
    "import org.apache.spark.sql._\n",
    "import org.apache.spark.sql.functions._\n",
    "\n",
    "\n",
    "//Reducir numero logs\n",
    "import org.apache.log4j.{Level, Logger}\n",
    "Logger.getLogger(\"org\").setLevel(Level.OFF)\n",
    "\n",
    "\n",
    "//Sttp para realizar request\n",
    "import $ivy.`com.softwaremill.sttp.client::async-http-client-backend-monix:2.0.0-RC2`\n",
    "import sttp.client.quick.{quickRequest, UriContext, backend}\n",
    "import sttp.client.asynchttpclient.monix._\n",
    "import sttp.client.basicRequest\n",
    "\n",
    "//For adding extra dependenies\n",
    "import $ivy.`org.typelevel::cats-core:1.6.0`\n",
    "\n",
    "//Plotly\n",
    "import $ivy.`org.plotly-scala::plotly-almond:0.7.1`\n",
    "import plotly._, plotly.element._, plotly.layout._, plotly.Almond._"
   ]
  },
  {
   "cell_type": "code",
   "execution_count": 3,
   "metadata": {},
   "outputs": [
    {
     "name": "stdout",
     "output_type": "stream",
     "text": [
      "Loading spark-stubs\n",
      "Getting spark JARs\n",
      "Creating SparkSession\n"
     ]
    },
    {
     "name": "stderr",
     "output_type": "stream",
     "text": [
      "Using Spark's default log4j profile: org/apache/spark/log4j-defaults.properties\n"
     ]
    },
    {
     "data": {
      "text/html": [
       "<a href=\"http://6865c33c2d2d:4042\">Spark UI</a>"
      ]
     },
     "metadata": {},
     "output_type": "display_data"
    },
    {
     "data": {
      "text/plain": [
       "\u001b[36mspark\u001b[39m: \u001b[32mSparkSession\u001b[39m = org.apache.spark.sql.SparkSession@292ea6c7\n",
       "\u001b[32mimport \u001b[39m\u001b[36mspark.implicits._\n",
       "\n",
       "//Crear URL\n",
       "\u001b[39m\n",
       "defined \u001b[32mfunction\u001b[39m \u001b[36mcreateUri\u001b[39m\n",
       "defined \u001b[32mfunction\u001b[39m \u001b[36mgetDataApi\u001b[39m\n",
       "defined \u001b[32mfunction\u001b[39m \u001b[36mresponseToDF\u001b[39m"
      ]
     },
     "execution_count": 3,
     "metadata": {},
     "output_type": "execute_result"
    }
   ],
   "source": [
    "//Iniciamos session de Spark\n",
    "val spark = {\n",
    "  NotebookSparkSession.builder()\n",
    "    .master(\"local[*]\")\n",
    "    .getOrCreate()\n",
    "}\n",
    "import spark.implicits._\n",
    "\n",
    "//Crear URL\n",
    "def createUri(category: String, widget: String, start_date: String, end_date: String, time_trunc: String, lang: String, \n",
    "              geo_trunc: String = \"\", geo_limit: String = \"\", geo_ids: String = \"\"): String = {\n",
    "  val baseUrl = s\"https://apidatos.ree.es/$lang/datos/$category/$widget\"\n",
    "  \n",
    "// Crear un mapa con los parámetros obligatorios y opcionales\n",
    "  val params = Map(\n",
    "    \"start_date\" -> start_date,\n",
    "    \"end_date\" -> end_date,\n",
    "    \"time_trunc\" -> time_trunc,\n",
    "    \"geo_trunc\" -> geo_trunc,\n",
    "    \"geo_limit\" -> geo_limit,\n",
    "    \"geo_ids\" -> geo_ids\n",
    "  ).filter { case (_, v) => v.nonEmpty } // Filtrar los parámetros que no están vacíos\n",
    "\n",
    "//Especifico el orden concreto de los paramtros ya que, Scala map no te garantiza el orden\n",
    "  val orderedKeys = Seq(\"start_date\", \"end_date\", \"time_trunc\", \"geo_trunc\", \"geo_limit\", \"geo_ids\")\n",
    "\n",
    "// Unir los parámetros en una cadena\n",
    "  val queryString = orderedKeys.flatMap(key => params.get(key).map(value => s\"$key=$value\")).mkString(\"&\")\n",
    "  \n",
    "  s\"$baseUrl?$queryString\"\n",
    "}\n",
    "\n",
    "//Lanzar llamada y obtener guardar datos\n",
    "def getDataApi(apiUrl: String): Either[String, String] = {\n",
    " \n",
    "    val newRequest = basicRequest.get(uri\"$apiUrl\")\n",
    "    val response = newRequest.send()\n",
    "  \n",
    "  response.body match {\n",
    "    case Right(body) => \n",
    "      Right(body)\n",
    "      \n",
    "    case Left(error) => \n",
    "      Left(s\"Error fetching data: $error\")\n",
    "  }\n",
    "}\n",
    "\n",
    "// Transformar response a DataFrame\n",
    "def responseToDF(response: Either[String, String]): DataFrame = {\n",
    "    response match {\n",
    "    case Right(body) => \n",
    "        val rdd = spark.sparkContext.parallelize(Seq(body))\n",
    "        spark.read.json(rdd)\n",
    "    case Left(error) => \n",
    "        println(error)\n",
    "        spark.emptyDataFrame\n",
    "    }\n",
    "}\n",
    "\n"
   ]
  },
  {
   "cell_type": "code",
   "execution_count": 5,
   "metadata": {},
   "outputs": [
    {
     "data": {
      "text/html": [
       "<div>\n",
       "  <span style=\"float: left;\">csv at cmd4.sc:5</span>\n",
       "</div>\n"
      ]
     },
     "metadata": {},
     "output_type": "display_data"
    },
    {
     "data": {
      "text/html": [
       "<div class=\"progress\">\n",
       "  <div class=\"progress-bar\" role=\"progressbar\" style=\"background-color: blue; width: 100%; word-wrap: normal; white-space: nowrap; text-align: center; color: white\" aria-valuenow=\"100\" aria-valuemin=\"0\" aria-valuemax=\"100\">\n",
       "    130 / 130\n",
       "  </div>\n",
       "  <div class=\"progress-bar\" role=\"progressbar\" style=\"background-color: red; width: 0%\" aria-valuenow=\"0\" aria-valuemin=\"0\" aria-valuemax=\"100\"></div>\n",
       "</div>\n"
      ]
     },
     "metadata": {},
     "output_type": "display_data"
    },
    {
     "data": {
      "text/html": [
       "<div>\n",
       "  <span style=\"float: left;\">csv at cmd4.sc:5</span>\n",
       "</div>\n"
      ]
     },
     "metadata": {},
     "output_type": "display_data"
    },
    {
     "data": {
      "text/html": [
       "<div class=\"progress\">\n",
       "  <div class=\"progress-bar\" role=\"progressbar\" style=\"background-color: blue; width: 100%; word-wrap: normal; white-space: nowrap; text-align: center; color: white\" aria-valuenow=\"100\" aria-valuemin=\"0\" aria-valuemax=\"100\">\n",
       "    1 / 1\n",
       "  </div>\n",
       "  <div class=\"progress-bar\" role=\"progressbar\" style=\"background-color: red; width: 0%\" aria-valuenow=\"0\" aria-valuemin=\"0\" aria-valuemax=\"100\"></div>\n",
       "</div>\n"
      ]
     },
     "metadata": {},
     "output_type": "display_data"
    },
    {
     "data": {
      "text/html": [
       "<div>\n",
       "  <span style=\"float: left;\">csv at cmd4.sc:5</span>\n",
       "</div>\n"
      ]
     },
     "metadata": {},
     "output_type": "display_data"
    },
    {
     "data": {
      "text/html": [
       "<div class=\"progress\">\n",
       "  <div class=\"progress-bar\" role=\"progressbar\" style=\"background-color: blue; width: 100%; word-wrap: normal; white-space: nowrap; text-align: center; color: white\" aria-valuenow=\"100\" aria-valuemin=\"0\" aria-valuemax=\"100\">\n",
       "    15 / 15\n",
       "  </div>\n",
       "  <div class=\"progress-bar\" role=\"progressbar\" style=\"background-color: red; width: 0%\" aria-valuenow=\"0\" aria-valuemin=\"0\" aria-valuemax=\"100\"></div>\n",
       "</div>\n"
      ]
     },
     "metadata": {},
     "output_type": "display_data"
    },
    {
     "data": {
      "text/plain": [
       "\u001b[36mfilePath\u001b[39m: \u001b[32mString\u001b[39m = \u001b[32m\"../data/dsDemandaNacionalTotal.csv\"\u001b[39m\n",
       "\u001b[36mdfDemandaTiempoReal\u001b[39m: \u001b[32mDataFrame\u001b[39m = [Fecha: timestamp, Valor_previsto: int ... 5 more fields]"
      ]
     },
     "execution_count": 5,
     "metadata": {},
     "output_type": "execute_result"
    }
   ],
   "source": [
    "val filePath = \"../data/dsDemandaNacionalTotal.csv\" \n",
    "val dfDemandaTiempoReal : DataFrame = spark.read\n",
    "  .option(\"header\", \"true\") // Si el archivo tiene un encabezado\n",
    "  .option(\"inferSchema\", \"true\") // Para inferir automáticamente el esquema\n",
    "  .csv(filePath)"
   ]
  },
  {
   "cell_type": "code",
   "execution_count": 7,
   "metadata": {},
   "outputs": [
    {
     "data": {
      "text/html": [
       "<div>\n",
       "  <span style=\"float: left;\">show at cmd6.sc:1</span>\n",
       "</div>\n"
      ]
     },
     "metadata": {},
     "output_type": "display_data"
    },
    {
     "data": {
      "text/html": [
       "<div class=\"progress\">\n",
       "  <div class=\"progress-bar\" role=\"progressbar\" style=\"background-color: blue; width: 100%; word-wrap: normal; white-space: nowrap; text-align: center; color: white\" aria-valuenow=\"100\" aria-valuemin=\"0\" aria-valuemax=\"100\">\n",
       "    15 / 15\n",
       "  </div>\n",
       "  <div class=\"progress-bar\" role=\"progressbar\" style=\"background-color: red; width: 0%\" aria-valuenow=\"0\" aria-valuemin=\"0\" aria-valuemax=\"100\"></div>\n",
       "</div>\n"
      ]
     },
     "metadata": {},
     "output_type": "display_data"
    },
    {
     "name": "stdout",
     "output_type": "stream",
     "text": [
      "+-------------------+--------------+-------------------+----------------+---------------------+----------+-------------------+\n",
      "|              Fecha|Valor_previsto|Porcentaje_previsto|Valor_programado|Porcentaje_programado|Valor_real|    Porcentaje_real|\n",
      "+-------------------+--------------+-------------------+----------------+---------------------+----------+-------------------+\n",
      "|2024-10-24 16:45:00|         28223|0.49753199591016467|           28503|   0.5024680040898354|      null|               null|\n",
      "|2024-10-24 16:40:00|         28117| 0.5010156806842481|           28003|  0.49898431931575193|      null|               null|\n",
      "|2024-10-24 16:35:00|         28013|  0.332893642305407|           28003|    0.332774806892454|     28134|0.33433155080213905|\n",
      "|2024-10-24 16:30:00|         27912|   0.33286823369468|           28003|  0.33395346618487115|     27938|0.33317830012044886|\n",
      "|2024-10-24 16:25:00|         27811| 0.3312884166388717|           28113|  0.33488588173631295|     28024|0.33382570162481534|\n",
      "|2024-10-24 16:20:00|         27709|0.33060109289617484|           28113|   0.3354212899992841|     27992|  0.333977617104541|\n",
      "|2024-10-24 16:15:00|         27606|0.33049203878845923|           28113|  0.33656171435412424|     27811| 0.3329462468574165|\n",
      "|2024-10-24 16:10:00|         27524|0.33198644264054905|           27672|  0.33377157537964225|     27711| 0.3342419819798087|\n",
      "|2024-10-24 16:05:00|         27484|0.33199652106687283|           27672|   0.3342674913026672|     27628|   0.33373598763046|\n",
      "|2024-10-24 16:00:00|         27487| 0.3315201659590892|           27672|  0.33375144731763795|     27753| 0.3347283867232729|\n",
      "|2024-10-24 15:55:00|         27496| 0.3332606113494776|           27346|   0.3314425617530846|     27664| 0.3352968268974378|\n",
      "|2024-10-24 15:50:00|         27470| 0.3333818782009272|           27346|   0.3318769873055171|     27582| 0.3347411344935557|\n",
      "|2024-10-24 15:45:00|         27411|0.33342253469730326|           27346|   0.3326318862439333|     27454|0.33394557905876343|\n",
      "|2024-10-24 15:40:00|         27342| 0.3347207599833509|           26865|   0.3288813260534241|     27479|0.33639791396322505|\n",
      "|2024-10-24 15:35:00|         27286|0.33508946444141524|           26865|   0.3299193162141252|     27278| 0.3349912193444596|\n",
      "|2024-10-24 15:30:00|         27243| 0.3335823088602635|           26865|   0.3289538129989714|     27560|0.33746387814076506|\n",
      "|2024-10-24 15:25:00|         27200|0.33341913972958725|           26932|  0.33013398055872223|     27447| 0.3364468797116905|\n",
      "|2024-10-24 15:20:00|         27145| 0.3334930463413436|           26932|   0.3308762101331761|     27319| 0.3356307435254804|\n",
      "|2024-10-24 15:15:00|         27077|0.33389234848017757|           26932|   0.3321043220913743|     27086| 0.3340033294284481|\n",
      "|2024-10-24 15:10:00|         27019|0.33328399264823794|           27067|  0.33387608086938286|     26983| 0.3328399264823792|\n",
      "+-------------------+--------------+-------------------+----------------+---------------------+----------+-------------------+\n",
      "only showing top 20 rows\n",
      "\n"
     ]
    }
   ],
   "source": [
    "dfDemandaTiempoReal.orderBy(desc(\"Fecha\")).show()"
   ]
  },
  {
   "cell_type": "code",
   "execution_count": null,
   "metadata": {},
   "outputs": [
    {
     "data": {
      "text/html": [
       "<div>\n",
       "  <span style=\"float: left;\">collect at cmd7.sc:12</span>\n",
       "</div>\n"
      ]
     },
     "metadata": {},
     "output_type": "display_data"
    },
    {
     "data": {
      "text/html": [
       "<div class=\"progress\">\n",
       "  <div class=\"progress-bar\" role=\"progressbar\" style=\"background-color: blue; width: 100%; word-wrap: normal; white-space: nowrap; text-align: center; color: white\" aria-valuenow=\"100\" aria-valuemin=\"0\" aria-valuemax=\"100\">\n",
       "    15 / 15\n",
       "  </div>\n",
       "  <div class=\"progress-bar\" role=\"progressbar\" style=\"background-color: red; width: 0%\" aria-valuenow=\"0\" aria-valuemin=\"0\" aria-valuemax=\"100\"></div>\n",
       "</div>\n"
      ]
     },
     "metadata": {},
     "output_type": "display_data"
    },
    {
     "data": {
      "text/html": [
       "<div>\n",
       "  <span style=\"float: left;\">collect at cmd7.sc:12</span>\n",
       "</div>\n"
      ]
     },
     "metadata": {},
     "output_type": "display_data"
    },
    {
     "data": {
      "text/html": [
       "<div class=\"progress\">\n",
       "  <div class=\"progress-bar\" role=\"progressbar\" style=\"background-color: blue; width: 100%; word-wrap: normal; white-space: nowrap; text-align: center; color: white\" aria-valuenow=\"100\" aria-valuemin=\"0\" aria-valuemax=\"100\">\n",
       "    200 / 200\n",
       "  </div>\n",
       "  <div class=\"progress-bar\" role=\"progressbar\" style=\"background-color: red; width: 0%\" aria-valuenow=\"0\" aria-valuemin=\"0\" aria-valuemax=\"100\"></div>\n",
       "</div>\n"
      ]
     },
     "metadata": {},
     "output_type": "display_data"
    },
    {
     "data": {
      "text/html": [
       "<div>\n",
       "  <span style=\"float: left;\">collect at cmd7.sc:12</span>\n",
       "</div>\n"
      ]
     },
     "metadata": {},
     "output_type": "display_data"
    },
    {
     "data": {
      "text/html": [
       "<div class=\"progress\">\n",
       "  <div class=\"progress-bar\" role=\"progressbar\" style=\"background-color: blue; width: 100%; word-wrap: normal; white-space: nowrap; text-align: center; color: white\" aria-valuenow=\"100\" aria-valuemin=\"0\" aria-valuemax=\"100\">\n",
       "    200 / 200\n",
       "  </div>\n",
       "  <div class=\"progress-bar\" role=\"progressbar\" style=\"background-color: red; width: 0%\" aria-valuenow=\"0\" aria-valuemin=\"0\" aria-valuemax=\"100\"></div>\n",
       "</div>\n"
      ]
     },
     "metadata": {},
     "output_type": "display_data"
    },
    {
     "data": {
      "text/html": [
       "<div>\n",
       "  <span style=\"float: left;\">collect at cmd7.sc:12</span>\n",
       "</div>\n"
      ]
     },
     "metadata": {},
     "output_type": "display_data"
    },
    {
     "data": {
      "text/html": [
       "<div class=\"progress\">\n",
       "  <div class=\"progress-bar\" role=\"progressbar\" style=\"background-color: blue; width: 100%; word-wrap: normal; white-space: nowrap; text-align: center; color: white\" aria-valuenow=\"100\" aria-valuemin=\"0\" aria-valuemax=\"100\">\n",
       "    11 / 11\n",
       "  </div>\n",
       "  <div class=\"progress-bar\" role=\"progressbar\" style=\"background-color: red; width: 0%\" aria-valuenow=\"0\" aria-valuemin=\"0\" aria-valuemax=\"100\"></div>\n",
       "</div>\n"
      ]
     },
     "metadata": {},
     "output_type": "display_data"
    },
    {
     "data": {
      "text/html": [
       "<div>\n",
       "  <span style=\"float: left;\">collect at cmd7.sc:13</span>\n",
       "</div>\n"
      ]
     },
     "metadata": {},
     "output_type": "display_data"
    },
    {
     "data": {
      "text/html": [
       "<div class=\"progress\">\n",
       "  <div class=\"progress-bar\" role=\"progressbar\" style=\"background-color: blue; width: 100%; word-wrap: normal; white-space: nowrap; text-align: center; color: white\" aria-valuenow=\"100\" aria-valuemin=\"0\" aria-valuemax=\"100\">\n",
       "    15 / 15\n",
       "  </div>\n",
       "  <div class=\"progress-bar\" role=\"progressbar\" style=\"background-color: red; width: 0%\" aria-valuenow=\"0\" aria-valuemin=\"0\" aria-valuemax=\"100\"></div>\n",
       "</div>\n"
      ]
     },
     "metadata": {},
     "output_type": "display_data"
    },
    {
     "data": {
      "text/html": [
       "<div>\n",
       "  <span style=\"float: left;\">collect at cmd7.sc:13</span>\n",
       "</div>\n"
      ]
     },
     "metadata": {},
     "output_type": "display_data"
    },
    {
     "data": {
      "text/html": [
       "<div class=\"progress\">\n",
       "  <div class=\"progress-bar\" role=\"progressbar\" style=\"background-color: blue; width: 100%; word-wrap: normal; white-space: nowrap; text-align: center; color: white\" aria-valuenow=\"100\" aria-valuemin=\"0\" aria-valuemax=\"100\">\n",
       "    200 / 200\n",
       "  </div>\n",
       "  <div class=\"progress-bar\" role=\"progressbar\" style=\"background-color: red; width: 0%\" aria-valuenow=\"0\" aria-valuemin=\"0\" aria-valuemax=\"100\"></div>\n",
       "</div>\n"
      ]
     },
     "metadata": {},
     "output_type": "display_data"
    },
    {
     "data": {
      "text/html": [
       "<div>\n",
       "  <span style=\"float: left;\">collect at cmd7.sc:13</span>\n",
       "</div>\n"
      ]
     },
     "metadata": {},
     "output_type": "display_data"
    },
    {
     "data": {
      "text/html": [
       "<div class=\"progress\">\n",
       "  <div class=\"progress-bar\" role=\"progressbar\" style=\"background-color: blue; width: 100%; word-wrap: normal; white-space: nowrap; text-align: center; color: white\" aria-valuenow=\"100\" aria-valuemin=\"0\" aria-valuemax=\"100\">\n",
       "    200 / 200\n",
       "  </div>\n",
       "  <div class=\"progress-bar\" role=\"progressbar\" style=\"background-color: red; width: 0%\" aria-valuenow=\"0\" aria-valuemin=\"0\" aria-valuemax=\"100\"></div>\n",
       "</div>\n"
      ]
     },
     "metadata": {},
     "output_type": "display_data"
    },
    {
     "data": {
      "text/html": [
       "<div>\n",
       "  <span style=\"float: left;\">collect at cmd7.sc:13</span>\n",
       "</div>\n"
      ]
     },
     "metadata": {},
     "output_type": "display_data"
    },
    {
     "data": {
      "text/html": [
       "<div class=\"progress\">\n",
       "  <div class=\"progress-bar\" role=\"progressbar\" style=\"background-color: blue; width: 100%; word-wrap: normal; white-space: nowrap; text-align: center; color: white\" aria-valuenow=\"100\" aria-valuemin=\"0\" aria-valuemax=\"100\">\n",
       "    11 / 11\n",
       "  </div>\n",
       "  <div class=\"progress-bar\" role=\"progressbar\" style=\"background-color: red; width: 0%\" aria-valuenow=\"0\" aria-valuemin=\"0\" aria-valuemax=\"100\"></div>\n",
       "</div>\n"
      ]
     },
     "metadata": {},
     "output_type": "display_data"
    },
    {
     "data": {
      "text/html": [
       "<div>\n",
       "  <span style=\"float: left;\">collect at cmd7.sc:14</span>\n",
       "</div>\n"
      ]
     },
     "metadata": {},
     "output_type": "display_data"
    },
    {
     "data": {
      "text/html": [
       "<div class=\"progress\">\n",
       "  <div class=\"progress-bar\" role=\"progressbar\" style=\"background-color: blue; width: 100%; word-wrap: normal; white-space: nowrap; text-align: center; color: white\" aria-valuenow=\"100\" aria-valuemin=\"0\" aria-valuemax=\"100\">\n",
       "    15 / 15\n",
       "  </div>\n",
       "  <div class=\"progress-bar\" role=\"progressbar\" style=\"background-color: red; width: 0%\" aria-valuenow=\"0\" aria-valuemin=\"0\" aria-valuemax=\"100\"></div>\n",
       "</div>\n"
      ]
     },
     "metadata": {},
     "output_type": "display_data"
    },
    {
     "data": {
      "text/html": [
       "<div>\n",
       "  <span style=\"float: left;\">collect at cmd7.sc:14</span>\n",
       "</div>\n"
      ]
     },
     "metadata": {},
     "output_type": "display_data"
    },
    {
     "data": {
      "text/html": [
       "<div class=\"progress\">\n",
       "  <div class=\"progress-bar\" role=\"progressbar\" style=\"background-color: blue; width: 100%; word-wrap: normal; white-space: nowrap; text-align: center; color: white\" aria-valuenow=\"100\" aria-valuemin=\"0\" aria-valuemax=\"100\">\n",
       "    200 / 200\n",
       "  </div>\n",
       "  <div class=\"progress-bar\" role=\"progressbar\" style=\"background-color: red; width: 0%\" aria-valuenow=\"0\" aria-valuemin=\"0\" aria-valuemax=\"100\"></div>\n",
       "</div>\n"
      ]
     },
     "metadata": {},
     "output_type": "display_data"
    },
    {
     "data": {
      "text/html": [
       "<div>\n",
       "  <span style=\"float: left; word-wrap: normal; white-space: nowrap; text-align: center\">collect at cmd7.sc:14</span>\n",
       "  <span style=\"float: right; word-wrap: normal; white-space: nowrap; text-align: center\"><a href=\"#\" onclick=\"cancelStage(22);\">(kill)</a></span>\n",
       "</div>\n",
       "<br>\n"
      ]
     },
     "metadata": {},
     "output_type": "display_data"
    },
    {
     "data": {
      "text/html": [
       "<div class=\"progress\">\n",
       "  <div class=\"progress-bar\" role=\"progressbar\" style=\"background-color: blue; width: 91%; word-wrap: normal; white-space: nowrap; text-align: center; color: white\" aria-valuenow=\"91\" aria-valuemin=\"0\" aria-valuemax=\"100\">\n",
       "    181 + 19 / 200\n",
       "  </div>\n",
       "  <div class=\"progress-bar\" role=\"progressbar\" style=\"background-color: red; width: 10%\" aria-valuenow=\"10\" aria-valuemin=\"0\" aria-valuemax=\"100\"></div>\n",
       "</div>\n"
      ]
     },
     "metadata": {},
     "output_type": "display_data"
    },
    {
     "data": {
      "text/html": [
       "<div>\n",
       "  <span style=\"float: left; word-wrap: normal; white-space: nowrap; text-align: center\">collect at cmd7.sc:14</span>\n",
       "  <span style=\"float: right; word-wrap: normal; white-space: nowrap; text-align: center\"><a href=\"#\" onclick=\"cancelStage(23);\">(kill)</a></span>\n",
       "</div>\n",
       "<br>\n"
      ]
     },
     "metadata": {},
     "output_type": "display_data"
    }
   ],
   "source": [
    "def demandaHistoricoAnual(): Unit = {\n",
    "  val dfPromedioAnual = dfDemandaTiempoReal\n",
    "    .filter(year(col(\"Fecha\")) =!= 2013)\n",
    "    .groupBy(date_format(col(\"Fecha\"), \"yyyy\").as(\"Año\"))\n",
    "    .agg(\n",
    "      avg(\"Valor_previsto\").as(\"Valor_previsto_avg_año\"),\n",
    "      avg(\"Valor_programado\").as(\"Valor_programado_avg_año\"),\n",
    "      avg(\"Valor_real\").as(\"Valor_real_avg_año\")\n",
    "    )\n",
    "    .orderBy(col(\"Año\"))\n",
    "\n",
    "  val seqValorPrevisto = dfPromedioAnual.select(\"Valor_previsto_avg_año\").as[Double].collect.toSeq\n",
    "  val seqValorProgramado = dfPromedioAnual.select(\"Valor_programado_avg_año\").as[Double].collect.toSeq\n",
    "  val seqValorReal = dfPromedioAnual.select(\"Valor_real_avg_año\").as[Double].collect.toSeq\n",
    "  val seqAños = dfPromedioAnual.select(\"Año\").as[String].collect.toSeq\n",
    "\n",
    "  val tracePrevisto = Scatter(seqAños, seqValorPrevisto, name = \"Previsto\")\n",
    "  val traceProgramado = Scatter(seqAños, seqValorProgramado, name = \"Programado\")\n",
    "  val traceReal = Scatter(seqAños, seqValorReal, name = \"Real\")\n",
    "     \n",
    "  val data = Seq(tracePrevisto, traceProgramado, traceReal)\n",
    "  plot(data)\n",
    "}\n",
    "\n",
    "demandaHistoricoAnual()"
   ]
  },
  {
   "cell_type": "code",
   "execution_count": 5,
   "metadata": {},
   "outputs": [
    {
     "data": {
      "text/plain": [
       "defined \u001b[32mfunction\u001b[39m \u001b[36mdemandaHistoricoMensual\u001b[39m"
      ]
     },
     "execution_count": 5,
     "metadata": {},
     "output_type": "execute_result"
    }
   ],
   "source": [
    "def demandaHistoricoMensual(df: DataFrame, año: Int): Unit = {\n",
    "  val dfPromedioMensual = df\n",
    "    .filter(year(col(\"Fecha\")) === año)\n",
    "    .groupBy(date_format(col(\"Fecha\"), \"yyyy-MM\").as(\"Mes\"))\n",
    "    .agg(\n",
    "      avg(\"Valor_previsto\").as(\"Valor_previsto_avg_mes\"),\n",
    "      avg(\"Valor_programado\").as(\"Valor_programado_avg_mes\"),\n",
    "      avg(\"Valor_real\").as(\"Valor_real_avg_mes\")\n",
    "    )\n",
    "    .orderBy(col(\"Mes\"))\n",
    "\n",
    "  val seqValorPrevisto = dfPromedioMensual.select(\"Valor_previsto_avg_mes\").as[Double].collect.toSeq\n",
    "  val seqValorProgramado = dfPromedioMensual.select(\"Valor_programado_avg_mes\").as[Double].collect.toSeq\n",
    "  val seqValorReal = dfPromedioMensual.select(\"Valor_real_avg_mes\").as[Double].collect.toSeq\n",
    "  val seqMeses = dfPromedioMensual.select(\"Mes\").as[String].collect.toSeq\n",
    "\n",
    "  val tracePrevisto = Scatter(seqMeses, seqValorPrevisto, name = \"Previsto\")\n",
    "  val traceProgramado = Scatter(seqMeses, seqValorProgramado, name = \"Programado\")\n",
    "  val traceReal = Scatter(seqMeses, seqValorReal, name = \"Real\")\n",
    "     \n",
    "  val data = Seq(tracePrevisto, traceProgramado, traceReal)\n",
    "  plot(data)\n",
    "}"
   ]
  },
  {
   "cell_type": "code",
   "execution_count": 6,
   "metadata": {},
   "outputs": [
    {
     "data": {
      "text/plain": [
       "defined \u001b[32mfunction\u001b[39m \u001b[36mdemandaHistoricoDiario\u001b[39m"
      ]
     },
     "execution_count": 6,
     "metadata": {},
     "output_type": "execute_result"
    }
   ],
   "source": [
    "def demandaHistoricoDiario(df: DataFrame, año: Int, mes: Int): Unit = {\n",
    "  val dfFiltrado = df.filter(year(col(\"Fecha\")) === año && month(col(\"Fecha\")) === mes)\n",
    "  \n",
    "  val dfPromedioDiario = dfFiltrado\n",
    "    .groupBy(date_format(col(\"Fecha\"), \"yyyy-MM-dd\").as(\"Día\"))\n",
    "    .agg(\n",
    "      avg(\"Valor_previsto\").as(\"Valor_previsto_avg_día\"),\n",
    "      avg(\"Valor_programado\").as(\"Valor_programado_avg_día\"),\n",
    "      avg(\"Valor_real\").as(\"Valor_real_avg_día\")\n",
    "    )\n",
    "    .orderBy(col(\"Día\"))\n",
    "\n",
    "  val seqValorPrevisto = dfPromedioDiario.select(\"Valor_previsto_avg_día\").as[Double].collect.toSeq\n",
    "  val seqValorProgramado = dfPromedioDiario.select(\"Valor_programado_avg_día\").as[Double].collect.toSeq\n",
    "  val seqValorReal = dfPromedioDiario.select(\"Valor_real_avg_día\").as[Double].collect.toSeq\n",
    "  val seqDías = dfPromedioDiario.select(\"Día\").as[String].collect.toSeq\n",
    "\n",
    "  val tracePrevisto = Scatter(seqDías, seqValorPrevisto, name = \"Previsto\")\n",
    "  val traceProgramado = Scatter(seqDías, seqValorProgramado, name = \"Programado\")\n",
    "  val traceReal = Scatter(seqDías, seqValorReal, name = \"Real\")\n",
    "     \n",
    "  val data = Seq(tracePrevisto, traceProgramado, traceReal)\n",
    "  plot(data)\n",
    "}\n",
    "\n",
    "// Ejemplo de uso para el mes de enero de 2015\n",
    "//demandaHistoricoDiario(dfDemandaTiempoReal, 2015, 4)\n"
   ]
  },
  {
   "cell_type": "code",
   "execution_count": 8,
   "metadata": {},
   "outputs": [
    {
     "data": {
      "text/html": [
       "<div>\n",
       "  <span style=\"float: left;\">collect at cmd7.sc:15</span>\n",
       "</div>\n"
      ]
     },
     "metadata": {},
     "output_type": "display_data"
    },
    {
     "data": {
      "text/html": [
       "<div class=\"progress\">\n",
       "  <div class=\"progress-bar\" role=\"progressbar\" style=\"background-color: blue; width: 100%; word-wrap: normal; white-space: nowrap; text-align: center; color: white\" aria-valuenow=\"100\" aria-valuemin=\"0\" aria-valuemax=\"100\">\n",
       "    8 / 8\n",
       "  </div>\n",
       "  <div class=\"progress-bar\" role=\"progressbar\" style=\"background-color: red; width: 0%\" aria-valuenow=\"0\" aria-valuemin=\"0\" aria-valuemax=\"100\"></div>\n",
       "</div>\n"
      ]
     },
     "metadata": {},
     "output_type": "display_data"
    },
    {
     "data": {
      "text/html": [
       "<div>\n",
       "  <span style=\"float: left;\">collect at cmd7.sc:15</span>\n",
       "</div>\n"
      ]
     },
     "metadata": {},
     "output_type": "display_data"
    },
    {
     "data": {
      "text/html": [
       "<div class=\"progress\">\n",
       "  <div class=\"progress-bar\" role=\"progressbar\" style=\"background-color: blue; width: 100%; word-wrap: normal; white-space: nowrap; text-align: center; color: white\" aria-valuenow=\"100\" aria-valuemin=\"0\" aria-valuemax=\"100\">\n",
       "    200 / 200\n",
       "  </div>\n",
       "  <div class=\"progress-bar\" role=\"progressbar\" style=\"background-color: red; width: 0%\" aria-valuenow=\"0\" aria-valuemin=\"0\" aria-valuemax=\"100\"></div>\n",
       "</div>\n"
      ]
     },
     "metadata": {},
     "output_type": "display_data"
    },
    {
     "data": {
      "text/html": [
       "<div>\n",
       "  <span style=\"float: left;\">collect at cmd7.sc:15</span>\n",
       "</div>\n"
      ]
     },
     "metadata": {},
     "output_type": "display_data"
    },
    {
     "data": {
      "text/html": [
       "<div class=\"progress\">\n",
       "  <div class=\"progress-bar\" role=\"progressbar\" style=\"background-color: blue; width: 100%; word-wrap: normal; white-space: nowrap; text-align: center; color: white\" aria-valuenow=\"100\" aria-valuemin=\"0\" aria-valuemax=\"100\">\n",
       "    200 / 200\n",
       "  </div>\n",
       "  <div class=\"progress-bar\" role=\"progressbar\" style=\"background-color: red; width: 0%\" aria-valuenow=\"0\" aria-valuemin=\"0\" aria-valuemax=\"100\"></div>\n",
       "</div>\n"
      ]
     },
     "metadata": {},
     "output_type": "display_data"
    },
    {
     "data": {
      "text/html": [
       "<div>\n",
       "  <span style=\"float: left;\">collect at cmd7.sc:15</span>\n",
       "</div>\n"
      ]
     },
     "metadata": {},
     "output_type": "display_data"
    },
    {
     "data": {
      "text/html": [
       "<div class=\"progress\">\n",
       "  <div class=\"progress-bar\" role=\"progressbar\" style=\"background-color: blue; width: 100%; word-wrap: normal; white-space: nowrap; text-align: center; color: white\" aria-valuenow=\"100\" aria-valuemin=\"0\" aria-valuemax=\"100\">\n",
       "    24 / 24\n",
       "  </div>\n",
       "  <div class=\"progress-bar\" role=\"progressbar\" style=\"background-color: red; width: 0%\" aria-valuenow=\"0\" aria-valuemin=\"0\" aria-valuemax=\"100\"></div>\n",
       "</div>\n"
      ]
     },
     "metadata": {},
     "output_type": "display_data"
    },
    {
     "data": {
      "text/html": [
       "<div>\n",
       "  <span style=\"float: left;\">collect at cmd7.sc:16</span>\n",
       "</div>\n"
      ]
     },
     "metadata": {},
     "output_type": "display_data"
    },
    {
     "data": {
      "text/html": [
       "<div class=\"progress\">\n",
       "  <div class=\"progress-bar\" role=\"progressbar\" style=\"background-color: blue; width: 100%; word-wrap: normal; white-space: nowrap; text-align: center; color: white\" aria-valuenow=\"100\" aria-valuemin=\"0\" aria-valuemax=\"100\">\n",
       "    8 / 8\n",
       "  </div>\n",
       "  <div class=\"progress-bar\" role=\"progressbar\" style=\"background-color: red; width: 0%\" aria-valuenow=\"0\" aria-valuemin=\"0\" aria-valuemax=\"100\"></div>\n",
       "</div>\n"
      ]
     },
     "metadata": {},
     "output_type": "display_data"
    },
    {
     "data": {
      "text/html": [
       "<div>\n",
       "  <span style=\"float: left;\">collect at cmd7.sc:16</span>\n",
       "</div>\n"
      ]
     },
     "metadata": {},
     "output_type": "display_data"
    },
    {
     "data": {
      "text/html": [
       "<div class=\"progress\">\n",
       "  <div class=\"progress-bar\" role=\"progressbar\" style=\"background-color: blue; width: 100%; word-wrap: normal; white-space: nowrap; text-align: center; color: white\" aria-valuenow=\"100\" aria-valuemin=\"0\" aria-valuemax=\"100\">\n",
       "    200 / 200\n",
       "  </div>\n",
       "  <div class=\"progress-bar\" role=\"progressbar\" style=\"background-color: red; width: 0%\" aria-valuenow=\"0\" aria-valuemin=\"0\" aria-valuemax=\"100\"></div>\n",
       "</div>\n"
      ]
     },
     "metadata": {},
     "output_type": "display_data"
    },
    {
     "data": {
      "text/html": [
       "<div>\n",
       "  <span style=\"float: left;\">collect at cmd7.sc:16</span>\n",
       "</div>\n"
      ]
     },
     "metadata": {},
     "output_type": "display_data"
    },
    {
     "data": {
      "text/html": [
       "<div class=\"progress\">\n",
       "  <div class=\"progress-bar\" role=\"progressbar\" style=\"background-color: blue; width: 100%; word-wrap: normal; white-space: nowrap; text-align: center; color: white\" aria-valuenow=\"100\" aria-valuemin=\"0\" aria-valuemax=\"100\">\n",
       "    200 / 200\n",
       "  </div>\n",
       "  <div class=\"progress-bar\" role=\"progressbar\" style=\"background-color: red; width: 0%\" aria-valuenow=\"0\" aria-valuemin=\"0\" aria-valuemax=\"100\"></div>\n",
       "</div>\n"
      ]
     },
     "metadata": {},
     "output_type": "display_data"
    },
    {
     "data": {
      "text/html": [
       "<div>\n",
       "  <span style=\"float: left;\">collect at cmd7.sc:16</span>\n",
       "</div>\n"
      ]
     },
     "metadata": {},
     "output_type": "display_data"
    },
    {
     "data": {
      "text/html": [
       "<div class=\"progress\">\n",
       "  <div class=\"progress-bar\" role=\"progressbar\" style=\"background-color: blue; width: 100%; word-wrap: normal; white-space: nowrap; text-align: center; color: white\" aria-valuenow=\"100\" aria-valuemin=\"0\" aria-valuemax=\"100\">\n",
       "    24 / 24\n",
       "  </div>\n",
       "  <div class=\"progress-bar\" role=\"progressbar\" style=\"background-color: red; width: 0%\" aria-valuenow=\"0\" aria-valuemin=\"0\" aria-valuemax=\"100\"></div>\n",
       "</div>\n"
      ]
     },
     "metadata": {},
     "output_type": "display_data"
    },
    {
     "data": {
      "text/html": [
       "<div>\n",
       "  <span style=\"float: left;\">collect at cmd7.sc:17</span>\n",
       "</div>\n"
      ]
     },
     "metadata": {},
     "output_type": "display_data"
    },
    {
     "data": {
      "text/html": [
       "<div class=\"progress\">\n",
       "  <div class=\"progress-bar\" role=\"progressbar\" style=\"background-color: blue; width: 100%; word-wrap: normal; white-space: nowrap; text-align: center; color: white\" aria-valuenow=\"100\" aria-valuemin=\"0\" aria-valuemax=\"100\">\n",
       "    8 / 8\n",
       "  </div>\n",
       "  <div class=\"progress-bar\" role=\"progressbar\" style=\"background-color: red; width: 0%\" aria-valuenow=\"0\" aria-valuemin=\"0\" aria-valuemax=\"100\"></div>\n",
       "</div>\n"
      ]
     },
     "metadata": {},
     "output_type": "display_data"
    },
    {
     "data": {
      "text/html": [
       "<div>\n",
       "  <span style=\"float: left;\">collect at cmd7.sc:17</span>\n",
       "</div>\n"
      ]
     },
     "metadata": {},
     "output_type": "display_data"
    },
    {
     "data": {
      "text/html": [
       "<div class=\"progress\">\n",
       "  <div class=\"progress-bar\" role=\"progressbar\" style=\"background-color: blue; width: 100%; word-wrap: normal; white-space: nowrap; text-align: center; color: white\" aria-valuenow=\"100\" aria-valuemin=\"0\" aria-valuemax=\"100\">\n",
       "    200 / 200\n",
       "  </div>\n",
       "  <div class=\"progress-bar\" role=\"progressbar\" style=\"background-color: red; width: 0%\" aria-valuenow=\"0\" aria-valuemin=\"0\" aria-valuemax=\"100\"></div>\n",
       "</div>\n"
      ]
     },
     "metadata": {},
     "output_type": "display_data"
    },
    {
     "data": {
      "text/html": [
       "<div>\n",
       "  <span style=\"float: left;\">collect at cmd7.sc:17</span>\n",
       "</div>\n"
      ]
     },
     "metadata": {},
     "output_type": "display_data"
    },
    {
     "data": {
      "text/html": [
       "<div class=\"progress\">\n",
       "  <div class=\"progress-bar\" role=\"progressbar\" style=\"background-color: blue; width: 100%; word-wrap: normal; white-space: nowrap; text-align: center; color: white\" aria-valuenow=\"100\" aria-valuemin=\"0\" aria-valuemax=\"100\">\n",
       "    200 / 200\n",
       "  </div>\n",
       "  <div class=\"progress-bar\" role=\"progressbar\" style=\"background-color: red; width: 0%\" aria-valuenow=\"0\" aria-valuemin=\"0\" aria-valuemax=\"100\"></div>\n",
       "</div>\n"
      ]
     },
     "metadata": {},
     "output_type": "display_data"
    },
    {
     "data": {
      "text/html": [
       "<div>\n",
       "  <span style=\"float: left;\">collect at cmd7.sc:17</span>\n",
       "</div>\n"
      ]
     },
     "metadata": {},
     "output_type": "display_data"
    },
    {
     "data": {
      "text/html": [
       "<div class=\"progress\">\n",
       "  <div class=\"progress-bar\" role=\"progressbar\" style=\"background-color: blue; width: 100%; word-wrap: normal; white-space: nowrap; text-align: center; color: white\" aria-valuenow=\"100\" aria-valuemin=\"0\" aria-valuemax=\"100\">\n",
       "    24 / 24\n",
       "  </div>\n",
       "  <div class=\"progress-bar\" role=\"progressbar\" style=\"background-color: red; width: 0%\" aria-valuenow=\"0\" aria-valuemin=\"0\" aria-valuemax=\"100\"></div>\n",
       "</div>\n"
      ]
     },
     "metadata": {},
     "output_type": "display_data"
    },
    {
     "data": {
      "application/vnd.plotly.v1+json": {
       "data": [
        {
         "name": "Demanda12",
         "type": "scatter",
         "x": [
          "00",
          "01",
          "02",
          "03",
          "04",
          "05",
          "06",
          "07",
          "08",
          "09",
          "10",
          "11",
          "12",
          "13",
          "14",
          "15",
          "16",
          "17",
          "18",
          "19",
          "20",
          "21",
          "22",
          "23"
         ],
         "y": [
          23479.836021505376,
          22201.742831541218,
          21556.755824372758,
          21338.027329749104,
          21693.00806451613,
          23354.008512544802,
          26189.67025089606,
          28232.070340501792,
          29656.463261648747,
          30630.439068100357,
          30705.813620071684,
          30452.619175627242,
          30498.9417562724,
          30024.969982078852,
          29266.036738351253,
          28993.56182795699,
          29549.375896057347,
          31452.58646953405,
          32095.709677419356,
          32404.347222222223,
          31923.73611111111,
          29808.975806451614,
          27306.08154121864,
          25245.151921358356
         ]
        },
        {
         "name": "Demanda6",
         "type": "scatter",
         "x": [
          "00",
          "01",
          "02",
          "03",
          "04",
          "05",
          "06",
          "07",
          "08",
          "09",
          "10",
          "11",
          "12",
          "13",
          "14",
          "15",
          "16",
          "17",
          "18",
          "19",
          "20",
          "21",
          "22",
          "23"
         ],
         "y": [
          23009.71626984127,
          22476.481349206348,
          22236.7373015873,
          22408.95357142857,
          23521.196031746033,
          25106.267063492065,
          26822.120634920633,
          28214.768253968254,
          29173.268650793652,
          29701.56746031746,
          30212.944047619047,
          30587.775396825396,
          30184.597619047618,
          29392.638095238097,
          29091.23492063492,
          29116.711507936507,
          29020.325396825396,
          29028.310317460317,
          29135.946428571428,
          29303.41746031746,
          28939.951984126983,
          26943.79126984127,
          25513.560317460317,
          24124.174603174604
         ]
        }
       ],
       "layout": {
        "autosize": true,
        "xaxis": {
         "autorange": true,
         "range": [
          0,
          23
         ],
         "type": "linear"
        },
        "yaxis": {
         "autorange": true,
         "range": [
          20723.231780167265,
          33019.142771804065
         ],
         "type": "linear"
        }
       }
      },
      "image/png": "[encoded data removed]",
      "text/html": [
       "<div class=\"chart\" id=\"plot-66f63b0f-8af6-473d-a12e-d22de204e4c6\"></div>\n",
       "<script>require(['plotly'], function(Plotly) {\n",
       "  (function () {\n",
       "  var data0 = {\"x\":[\"00\",\"01\",\"02\",\"03\",\"04\",\"05\",\"06\",\"07\",\"08\",\"09\",\"10\",\"11\",\"12\",\"13\",\"14\",\"15\",\"16\",\"17\",\"18\",\"19\",\"20\",\"21\",\"22\",\"23\"],\"name\":\"Demanda12\",\"y\":[23479.836021505376,22201.742831541218,21556.755824372758,21338.027329749104,21693.00806451613,23354.008512544802,26189.67025089606,28232.070340501792,29656.463261648747,30630.439068100357,30705.813620071684,30452.619175627242,30498.9417562724,30024.969982078852,29266.036738351253,28993.56182795699,29549.375896057347,31452.58646953405,32095.709677419356,32404.347222222223,31923.73611111111,29808.975806451614,27306.08154121864,25245.151921358356],\"type\":\"scatter\"};\n",
       "  var data1 = {\"x\":[\"00\",\"01\",\"02\",\"03\",\"04\",\"05\",\"06\",\"07\",\"08\",\"09\",\"10\",\"11\",\"12\",\"13\",\"14\",\"15\",\"16\",\"17\",\"18\",\"19\",\"20\",\"21\",\"22\",\"23\"],\"name\":\"Demanda6\",\"y\":[23009.71626984127,22476.481349206348,22236.7373015873,22408.95357142857,23521.196031746033,25106.267063492065,26822.120634920633,28214.768253968254,29173.268650793652,29701.56746031746,30212.944047619047,30587.775396825396,30184.597619047618,29392.638095238097,29091.23492063492,29116.711507936507,29020.325396825396,29028.310317460317,29135.946428571428,29303.41746031746,28939.951984126983,26943.79126984127,25513.560317460317,24124.174603174604],\"type\":\"scatter\"};\n",
       "\n",
       "  var data = [data0, data1];\n",
       "  var layout = {};\n",
       "\n",
       "  Plotly.plot('plot-66f63b0f-8af6-473d-a12e-d22de204e4c6', data, layout);\n",
       "})();\n",
       "});\n",
       "      </script>\n",
       "           "
      ]
     },
     "metadata": {},
     "output_type": "display_data"
    },
    {
     "data": {
      "text/plain": [
       "defined \u001b[32mfunction\u001b[39m \u001b[36mdemandaHistoricoPromedioPorHora\u001b[39m"
      ]
     },
     "execution_count": 8,
     "metadata": {},
     "output_type": "execute_result"
    }
   ],
   "source": [
    "def demandaHistoricoPromedioPorHora(dfDemanda: DataFrame, mes1: Int, mes2: Int): Unit = {\n",
    "    val df1 = dfDemanda\n",
    "        .filter(month($\"Fecha\") === mes1)\n",
    "        .select(\"Valor_real\", \"Fecha\")\n",
    "        .groupBy(date_format(col(\"Fecha\"), \"HH\").as(\"Hora\"))\n",
    "        .agg(avg(\"Valor_real\").as(\"PromedioPorHora\"))\n",
    "        .orderBy(col(\"Hora\"))\n",
    "     val df2 = dfDemanda\n",
    "        .filter(month($\"Fecha\") === mes2)\n",
    "        .select(\"Valor_real\", \"Fecha\")\n",
    "        .groupBy(date_format(col(\"Fecha\"), \"HH\").as(\"Hora\"))\n",
    "        .agg(avg(\"Valor_real\").as(\"PromedioPorHora\"))\n",
    "        .orderBy(col(\"Hora\"))\n",
    "\n",
    "    val seqDemanda1 = df1.select(\"PromedioPorHora\").as[Double].collect.toSeq\n",
    "    val seqDemanda2 = df2.select(\"PromedioPorHora\").as[Double].collect.toSeq\n",
    "    val seqHoras = df1.select(\"Hora\").as[String].collect.toSeq\n",
    "\n",
    "    val trace1 = Scatter(seqHoras, seqDemanda1, name = \"Demanda\" + mes1)\n",
    "    val trace2 = Scatter(seqHoras, seqDemanda2, name = \"Demanda\" + mes2)\n",
    "\n",
    "    val data = Seq(trace1, trace2)\n",
    "    plot(data)\n",
    "}\n",
    "\n",
    "// Ejemplo de uso\n",
    "demandaHistoricoPromedioPorHora(dfDemandaTiempoReal, 12, 6)"
   ]
  },
  {
   "cell_type": "code",
   "execution_count": 18,
   "metadata": {},
   "outputs": [
    {
     "data": {
      "text/html": [
       "<div>\n",
       "  <span style=\"float: left;\">csv at cmd17.sc:5</span>\n",
       "</div>\n"
      ]
     },
     "metadata": {},
     "output_type": "display_data"
    },
    {
     "data": {
      "text/html": [
       "<div class=\"progress\">\n",
       "  <div class=\"progress-bar\" role=\"progressbar\" style=\"background-color: blue; width: 100%; word-wrap: normal; white-space: nowrap; text-align: center; color: white\" aria-valuenow=\"100\" aria-valuemin=\"0\" aria-valuemax=\"100\">\n",
       "    200 / 200\n",
       "  </div>\n",
       "  <div class=\"progress-bar\" role=\"progressbar\" style=\"background-color: red; width: 0%\" aria-valuenow=\"0\" aria-valuemin=\"0\" aria-valuemax=\"100\"></div>\n",
       "</div>\n"
      ]
     },
     "metadata": {},
     "output_type": "display_data"
    },
    {
     "data": {
      "text/html": [
       "<div>\n",
       "  <span style=\"float: left;\">csv at cmd17.sc:5</span>\n",
       "</div>\n"
      ]
     },
     "metadata": {},
     "output_type": "display_data"
    },
    {
     "data": {
      "text/html": [
       "<div class=\"progress\">\n",
       "  <div class=\"progress-bar\" role=\"progressbar\" style=\"background-color: blue; width: 100%; word-wrap: normal; white-space: nowrap; text-align: center; color: white\" aria-valuenow=\"100\" aria-valuemin=\"0\" aria-valuemax=\"100\">\n",
       "    1 / 1\n",
       "  </div>\n",
       "  <div class=\"progress-bar\" role=\"progressbar\" style=\"background-color: red; width: 0%\" aria-valuenow=\"0\" aria-valuemin=\"0\" aria-valuemax=\"100\"></div>\n",
       "</div>\n"
      ]
     },
     "metadata": {},
     "output_type": "display_data"
    },
    {
     "data": {
      "text/html": [
       "<div>\n",
       "  <span style=\"float: left;\">csv at cmd17.sc:5</span>\n",
       "</div>\n"
      ]
     },
     "metadata": {},
     "output_type": "display_data"
    },
    {
     "data": {
      "text/html": [
       "<div class=\"progress\">\n",
       "  <div class=\"progress-bar\" role=\"progressbar\" style=\"background-color: blue; width: 100%; word-wrap: normal; white-space: nowrap; text-align: center; color: white\" aria-valuenow=\"100\" aria-valuemin=\"0\" aria-valuemax=\"100\">\n",
       "    8 / 8\n",
       "  </div>\n",
       "  <div class=\"progress-bar\" role=\"progressbar\" style=\"background-color: red; width: 0%\" aria-valuenow=\"0\" aria-valuemin=\"0\" aria-valuemax=\"100\"></div>\n",
       "</div>\n"
      ]
     },
     "metadata": {},
     "output_type": "display_data"
    },
    {
     "data": {
      "text/plain": [
       "\u001b[36mfilePath\u001b[39m: \u001b[32mString\u001b[39m = \u001b[32m\"data/ModelosCsv/datasetMercados14-24.csv\"\u001b[39m\n",
       "\u001b[36mdataFrameMercados\u001b[39m: \u001b[32mDataFrame\u001b[39m = [Fecha: timestamp, Valor_PVPC: double ... 3 more fields]\n",
       "\u001b[36mdfMercados\u001b[39m: \u001b[32mDataset\u001b[39m[\u001b[32mRow\u001b[39m] = [Fecha: timestamp, Valor_PVPC: double ... 3 more fields]"
      ]
     },
     "execution_count": 18,
     "metadata": {},
     "output_type": "execute_result"
    }
   ],
   "source": [
    "val filePath = \"data/ModelosCsv/datasetMercados14-24.csv\"\n",
    "val dataFrameMercados: DataFrame = spark.read\n",
    "  .option(\"header\", \"true\") // Si el archivo tiene un encabezado\n",
    "  .option(\"inferSchema\", \"true\") // Para inferir automáticamente el esquema\n",
    "  .csv(filePath)\n",
    "\n",
    "val dfMercados = dataFrameMercados.orderBy(\"Fecha\")"
   ]
  },
  {
   "cell_type": "code",
   "execution_count": 17,
   "metadata": {},
   "outputs": [
    {
     "data": {
      "text/html": [
       "<div>\n",
       "  <span style=\"float: left;\">first at cmd16.sc:8</span>\n",
       "</div>\n"
      ]
     },
     "metadata": {},
     "output_type": "display_data"
    },
    {
     "data": {
      "text/html": [
       "<div class=\"progress\">\n",
       "  <div class=\"progress-bar\" role=\"progressbar\" style=\"background-color: blue; width: 100%; word-wrap: normal; white-space: nowrap; text-align: center; color: white\" aria-valuenow=\"100\" aria-valuemin=\"0\" aria-valuemax=\"100\">\n",
       "    8 / 8\n",
       "  </div>\n",
       "  <div class=\"progress-bar\" role=\"progressbar\" style=\"background-color: red; width: 0%\" aria-valuenow=\"0\" aria-valuemin=\"0\" aria-valuemax=\"100\"></div>\n",
       "</div>\n"
      ]
     },
     "metadata": {},
     "output_type": "display_data"
    },
    {
     "data": {
      "text/html": [
       "<div>\n",
       "  <span style=\"float: left;\">first at cmd16.sc:8</span>\n",
       "</div>\n"
      ]
     },
     "metadata": {},
     "output_type": "display_data"
    },
    {
     "data": {
      "text/html": [
       "<div class=\"progress\">\n",
       "  <div class=\"progress-bar\" role=\"progressbar\" style=\"background-color: blue; width: 100%; word-wrap: normal; white-space: nowrap; text-align: center; color: white\" aria-valuenow=\"100\" aria-valuemin=\"0\" aria-valuemax=\"100\">\n",
       "    200 / 200\n",
       "  </div>\n",
       "  <div class=\"progress-bar\" role=\"progressbar\" style=\"background-color: red; width: 0%\" aria-valuenow=\"0\" aria-valuemin=\"0\" aria-valuemax=\"100\"></div>\n",
       "</div>\n"
      ]
     },
     "metadata": {},
     "output_type": "display_data"
    },
    {
     "name": "stdout",
     "output_type": "stream",
     "text": [
      "El día con mayor demanda es: 2017-01-19\n"
     ]
    },
    {
     "data": {
      "text/plain": [
       "defined \u001b[32mfunction\u001b[39m \u001b[36mdiaConMasDemanda\u001b[39m"
      ]
     },
     "execution_count": 17,
     "metadata": {},
     "output_type": "execute_result"
    }
   ],
   "source": [
    "def diaConMasDemanda(dfDemanda: DataFrame): Unit = {\n",
    "    val dfPicoDemanda = dfDemanda\n",
    "        .groupBy(date_format(col(\"Fecha\"), \"yyyy-MM-dd\").as(\"dia\"))\n",
    "        .agg(\n",
    "            avg(\"Valor_real\").as(\"DemandaMediaPorDia\"),\n",
    "        )\n",
    "        .orderBy(col(\"DemandaMediaPorDia\").desc)\n",
    "    val dia = dfPicoDemanda.select(\"dia\").as[String].first()\n",
    "    println(s\"El día con mayor demanda es: $dia\")\n",
    "}\n",
    "\n",
    "// Ejemplo de uso\n",
    "diaConMasDemanda(dfDemandaTiempoReal)\n"
   ]
  },
  {
   "cell_type": "code",
   "execution_count": 16,
   "metadata": {},
   "outputs": [
    {
     "data": {
      "text/html": [
       "<div>\n",
       "  <span style=\"float: left;\">first at cmd15.sc:1</span>\n",
       "</div>\n"
      ]
     },
     "metadata": {},
     "output_type": "display_data"
    },
    {
     "data": {
      "text/html": [
       "<div class=\"progress\">\n",
       "  <div class=\"progress-bar\" role=\"progressbar\" style=\"background-color: blue; width: 100%; word-wrap: normal; white-space: nowrap; text-align: center; color: white\" aria-valuenow=\"100\" aria-valuemin=\"0\" aria-valuemax=\"100\">\n",
       "    8 / 8\n",
       "  </div>\n",
       "  <div class=\"progress-bar\" role=\"progressbar\" style=\"background-color: red; width: 0%\" aria-valuenow=\"0\" aria-valuemin=\"0\" aria-valuemax=\"100\"></div>\n",
       "</div>\n"
      ]
     },
     "metadata": {},
     "output_type": "display_data"
    },
    {
     "data": {
      "text/plain": [
       "\u001b[36mres15\u001b[39m: \u001b[32mRow\u001b[39m = [2021-01-08 12:20:00.0,42052]"
      ]
     },
     "execution_count": 16,
     "metadata": {},
     "output_type": "execute_result"
    }
   ],
   "source": [
    "dfDemandaTiempoReal.orderBy($\"Valor_real\".desc).select(\"Fecha\", \"Valor_real\").first()"
   ]
  },
  {
   "cell_type": "code",
   "execution_count": null,
   "metadata": {},
   "outputs": [],
   "source": [
    "dfDemandaTiempoReal\n",
    "    .groupBy(date_format(col(\"Fecha\"), \"yyyy-MM\").as(\"Mes\"))\n",
    "        .agg(\n",
    "            avg(\"Valor_real\").as(\"DemandaMediaPorDia\"),\n",
    "        )\n",
    "    .orderBy($\"Valor_real\".desc)\n",
    "    .select(\"Mes\", \"Valor_real\").first()"
   ]
  }
 ],
 "metadata": {
  "kernelspec": {
   "display_name": "Scala 2.12",
   "language": "scala",
   "name": "scala212"
  },
  "language_info": {
   "codemirror_mode": "text/x-scala",
   "file_extension": ".scala",
   "mimetype": "text/x-scala",
   "name": "scala",
   "nbconvert_exporter": "script",
   "version": "2.12.10"
  }
 },
 "nbformat": 4,
 "nbformat_minor": 4
}
