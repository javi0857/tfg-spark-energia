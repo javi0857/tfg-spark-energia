{
 "cells": [
  {
   "cell_type": "code",
   "execution_count": 1,
   "metadata": {},
   "outputs": [
    {
     "name": "stdout",
     "output_type": "stream",
     "text": [
      "Loading spark-stubs\n",
      "Getting spark JARs\n",
      "Creating SparkSession\n"
     ]
    },
    {
     "name": "stderr",
     "output_type": "stream",
     "text": [
      "Using Spark's default log4j profile: org/apache/spark/log4j-defaults.properties\n"
     ]
    },
    {
     "data": {
      "text/html": [
       "<a href=\"http://adcfa2d51dcb:4040\">Spark UI</a>"
      ]
     },
     "metadata": {},
     "output_type": "display_data"
    },
    {
     "data": {
      "text/plain": [
       "\u001b[32mimport \u001b[39m\u001b[36m$ivy.$                                  \n",
       "\n",
       "\n",
       "\u001b[39m\n",
       "\u001b[32mimport \u001b[39m\u001b[36morg.apache.spark.sql._\n",
       "\u001b[39m\n",
       "\u001b[32mimport \u001b[39m\u001b[36morg.apache.spark.sql.functions._\n",
       "\n",
       "\n",
       "//Reducir numero logs\n",
       "\u001b[39m\n",
       "\u001b[32mimport \u001b[39m\u001b[36morg.apache.log4j.{Level, Logger}\n",
       "\u001b[39m\n",
       "\u001b[32mimport \u001b[39m\u001b[36m$ivy.$                               \n",
       "\n",
       "//Plotly\n",
       "\u001b[39m\n",
       "\u001b[32mimport \u001b[39m\u001b[36m$ivy.$                                      \n",
       "\u001b[39m\n",
       "\u001b[32mimport \u001b[39m\u001b[36mplotly._, plotly.element._, plotly.layout._, plotly.Almond._\n",
       "\n",
       "\n",
       "//Iniciamos session de Spark\n",
       "\u001b[39m\n",
       "\u001b[36mspark\u001b[39m: \u001b[32mSparkSession\u001b[39m = org.apache.spark.sql.SparkSession@cd7de0e\n",
       "\u001b[32mimport \u001b[39m\u001b[36mspark.implicits._\u001b[39m"
      ]
     },
     "execution_count": 1,
     "metadata": {},
     "output_type": "execute_result"
    }
   ],
   "source": [
    "import $ivy.`org.apache.spark::spark-sql:2.4.3`\n",
    "\n",
    "\n",
    "import org.apache.spark.sql._\n",
    "import org.apache.spark.sql.functions._\n",
    "\n",
    "\n",
    "//Reducir numero logs\n",
    "import org.apache.log4j.{Level, Logger}\n",
    "Logger.getLogger(\"org\").setLevel(Level.OFF)\n",
    "\n",
    "\n",
    "//For adding extra dependenies\n",
    "import $ivy.`org.typelevel::cats-core:1.6.0`\n",
    "\n",
    "//Plotly\n",
    "import $ivy.`org.plotly-scala::plotly-almond:0.7.1`\n",
    "import plotly._, plotly.element._, plotly.layout._, plotly.Almond._\n",
    "\n",
    "\n",
    "//Iniciamos session de Spark\n",
    "val spark = {\n",
    "  NotebookSparkSession.builder()\n",
    "     .master(\"local[*]\")\n",
    "    //.config(\"spark.executor.instances\", \"4\") // Número de ejecutores\n",
    "    //.config(\"spark.executor.memory\", \"4g\") // Memoria por ejecutor\n",
    "    //.config(\"spark.executor.cores\", \"2\") // Núcleos por ejecutor\n",
    "    //.config(\"spark.driver.memory\", \"4g\") // Memoria del driver\n",
    "    //.config(\"spark.sql.shuffle.partitions\", \"8\") // Número de particiones para operaciones de shuffle\n",
    "    .getOrCreate()\n",
    "}\n",
    "import spark.implicits._"
   ]
  },
  {
   "cell_type": "code",
   "execution_count": 2,
   "metadata": {},
   "outputs": [
    {
     "data": {
      "text/html": [
       "<script>\n",
       "var comm = Jupyter.notebook.kernel.comm_manager.new_comm('cancel-stage-08ebb1fd-739c-4420-96d3-bdcbca8751fb', {});\n",
       "\n",
       "function cancelStage(stageId) {\n",
       "  console.log('Cancelling stage ' + stageId);\n",
       "  comm.send({ 'stageId': stageId });\n",
       "}\n",
       "</script>\n",
       "          "
      ]
     },
     "metadata": {},
     "output_type": "display_data"
    },
    {
     "data": {
      "text/html": [
       "<div>\n",
       "  <span style=\"float: left;\">parquet at cmd1.sc:6</span>\n",
       "</div>\n"
      ]
     },
     "metadata": {},
     "output_type": "display_data"
    },
    {
     "data": {
      "text/html": [
       "<div class=\"progress\">\n",
       "  <div class=\"progress-bar\" role=\"progressbar\" style=\"background-color: blue; width: 100%; word-wrap: normal; white-space: nowrap; text-align: center; color: white\" aria-valuenow=\"100\" aria-valuemin=\"0\" aria-valuemax=\"100\">\n",
       "    1 / 1\n",
       "  </div>\n",
       "  <div class=\"progress-bar\" role=\"progressbar\" style=\"background-color: red; width: 0%\" aria-valuenow=\"0\" aria-valuemin=\"0\" aria-valuemax=\"100\"></div>\n",
       "</div>\n"
      ]
     },
     "metadata": {},
     "output_type": "display_data"
    },
    {
     "data": {
      "text/plain": [
       "\u001b[36mfilePath\u001b[39m: \u001b[32mString\u001b[39m = \u001b[32m\"../../data/parquet/dsBalanceNacional11-24.parquet\"\u001b[39m\n",
       "\u001b[36mdatosBalance\u001b[39m: \u001b[32mDataFrame\u001b[39m = [Familia: string, Tipo: string ... 5 more fields]"
      ]
     },
     "execution_count": 2,
     "metadata": {},
     "output_type": "execute_result"
    }
   ],
   "source": [
    "val filePath = \"../../data/parquet/dsBalanceNacional11-24.parquet\"         \n",
    "val datosBalance: DataFrame = spark.read\n",
    "  //.option(\"header\", \"true\") // Si el archivo tiene un encabezado\n",
    "  //.option(\"inferSchema\", \"true\") // Para inferir automáticamente el esquema\n",
    "  //.csv(filePath)\n",
    "    .parquet(filePath)"
   ]
  },
  {
   "cell_type": "code",
   "execution_count": 3,
   "metadata": {},
   "outputs": [
    {
     "data": {
      "text/html": [
       "<div>\n",
       "  <span style=\"float: left;\">show at cmd2.sc:1</span>\n",
       "</div>\n"
      ]
     },
     "metadata": {},
     "output_type": "display_data"
    },
    {
     "data": {
      "text/html": [
       "<div class=\"progress\">\n",
       "  <div class=\"progress-bar\" role=\"progressbar\" style=\"background-color: blue; width: 100%; word-wrap: normal; white-space: nowrap; text-align: center; color: white\" aria-valuenow=\"100\" aria-valuemin=\"0\" aria-valuemax=\"100\">\n",
       "    1 / 1\n",
       "  </div>\n",
       "  <div class=\"progress-bar\" role=\"progressbar\" style=\"background-color: red; width: 0%\" aria-valuenow=\"0\" aria-valuemin=\"0\" aria-valuemax=\"100\"></div>\n",
       "</div>\n"
      ]
     },
     "metadata": {},
     "output_type": "display_data"
    },
    {
     "name": "stdout",
     "output_type": "stream",
     "text": [
      "+---------+----------+---------+-------------------+----------+-------------------+--------------+\n",
      "|  Familia|      Tipo|Compuesto|         Porcentaje|     Valor|              Fecha|BajasEmisiones|\n",
      "+---------+----------+---------+-------------------+----------+-------------------+--------------+\n",
      "|Renovable|Hidráulica|    false| 0.2070493282098544| 73065.052|2014-01-01 00:00:00|          true|\n",
      "|Renovable|Hidráulica|    false|0.23631205453294465| 89171.545|2014-01-02 00:00:00|          true|\n",
      "|Renovable|Hidráulica|    false| 0.2735980903206654|102502.527|2014-01-03 00:00:00|          true|\n",
      "|Renovable|Hidráulica|    false|0.24018151631870316|106840.706|2014-01-04 00:00:00|          true|\n",
      "|Renovable|Hidráulica|    false|0.28984651129433686|117217.635|2014-01-05 00:00:00|          true|\n",
      "|Renovable|Hidráulica|    false| 0.3229806730258387|110841.694|2014-01-06 00:00:00|          true|\n",
      "|Renovable|Hidráulica|    false|0.40968176867979184| 137057.77|2014-01-07 00:00:00|          true|\n",
      "|Renovable|Hidráulica|    false| 0.4030920409555886|140921.275|2014-01-08 00:00:00|          true|\n",
      "|Renovable|Hidráulica|    false| 0.5488560654080734|145404.939|2014-01-09 00:00:00|          true|\n",
      "|Renovable|Hidráulica|    false| 0.5959363241216639|146323.349|2014-01-10 00:00:00|          true|\n",
      "|Renovable|Hidráulica|    false| 0.7178223002542007|148799.593|2014-01-11 00:00:00|          true|\n",
      "|Renovable|Hidráulica|    false| 0.4281795683708036|127057.432|2014-01-12 00:00:00|          true|\n",
      "|Renovable|Hidráulica|    false|0.37633334872672913|146286.975|2014-01-13 00:00:00|          true|\n",
      "|Renovable|Hidráulica|    false| 0.3015757985146716|134555.725|2014-01-14 00:00:00|          true|\n",
      "|Renovable|Hidráulica|    false| 0.3966742330031827| 142618.91|2014-01-15 00:00:00|          true|\n",
      "|Renovable|Hidráulica|    false| 0.3679510858563277|140457.456|2014-01-16 00:00:00|          true|\n",
      "|Renovable|Hidráulica|    false|0.37150001441121694|141433.915|2014-01-17 00:00:00|          true|\n",
      "|Renovable|Hidráulica|    false|  0.468368276902654|146938.396|2014-01-18 00:00:00|          true|\n",
      "|Renovable|Hidráulica|    false|0.38423803262476175|127720.689|2014-01-19 00:00:00|          true|\n",
      "|Renovable|Hidráulica|    false| 0.3368335938430425| 144555.38|2014-01-20 00:00:00|          true|\n",
      "+---------+----------+---------+-------------------+----------+-------------------+--------------+\n",
      "only showing top 20 rows\n",
      "\n"
     ]
    }
   ],
   "source": [
    "datosBalance.show()"
   ]
  },
  {
   "cell_type": "code",
   "execution_count": 4,
   "metadata": {},
   "outputs": [
    {
     "data": {
      "text/html": [
       "<div>\n",
       "  <span style=\"float: left;\">show at cmd3.sc:10</span>\n",
       "</div>\n"
      ]
     },
     "metadata": {},
     "output_type": "display_data"
    },
    {
     "data": {
      "text/html": [
       "<div class=\"progress\">\n",
       "  <div class=\"progress-bar\" role=\"progressbar\" style=\"background-color: blue; width: 100%; word-wrap: normal; white-space: nowrap; text-align: center; color: white\" aria-valuenow=\"100\" aria-valuemin=\"0\" aria-valuemax=\"100\">\n",
       "    15 / 15\n",
       "  </div>\n",
       "  <div class=\"progress-bar\" role=\"progressbar\" style=\"background-color: red; width: 0%\" aria-valuenow=\"0\" aria-valuemin=\"0\" aria-valuemax=\"100\"></div>\n",
       "</div>\n"
      ]
     },
     "metadata": {},
     "output_type": "display_data"
    },
    {
     "data": {
      "text/html": [
       "<div>\n",
       "  <span style=\"float: left;\">show at cmd3.sc:10</span>\n",
       "</div>\n"
      ]
     },
     "metadata": {},
     "output_type": "display_data"
    },
    {
     "data": {
      "text/html": [
       "<div class=\"progress\">\n",
       "  <div class=\"progress-bar\" role=\"progressbar\" style=\"background-color: blue; width: 100%; word-wrap: normal; white-space: nowrap; text-align: center; color: white\" aria-valuenow=\"100\" aria-valuemin=\"0\" aria-valuemax=\"100\">\n",
       "    200 / 200\n",
       "  </div>\n",
       "  <div class=\"progress-bar\" role=\"progressbar\" style=\"background-color: red; width: 0%\" aria-valuenow=\"0\" aria-valuemin=\"0\" aria-valuemax=\"100\"></div>\n",
       "</div>\n"
      ]
     },
     "metadata": {},
     "output_type": "display_data"
    },
    {
     "name": "stdout",
     "output_type": "stream",
     "text": [
      "+-------------------+--------------------+----------+------------------+------------+--------------+---------+\n",
      "|              Fecha|                Tipo|     Valor|PorcentajeDelTotal|     Familia|BajasEmisiones|Compuesto|\n",
      "+-------------------+--------------------+----------+------------------+------------+--------------+---------+\n",
      "|2024-12-01 00:00:00|     Ciclo combinado|147282.116|             24.93|No-Renovable|         false|    false|\n",
      "|2024-12-01 00:00:00|             Nuclear|  122080.0|             20.66|No-Renovable|          true|    false|\n",
      "|2024-12-01 00:00:00|              Eólica| 87069.688|             14.74|   Renovable|          true|    false|\n",
      "|2024-12-01 00:00:00|          Hidráulica|   80156.0|             13.57|   Renovable|          true|    false|\n",
      "|2024-12-01 00:00:00|  Solar fotovoltaica| 55299.424|              9.36|   Renovable|          true|    false|\n",
      "|2024-12-01 00:00:00|        Cogeneración|  55240.44|              9.35|No-Renovable|         false|    false|\n",
      "|2024-12-01 00:00:00|    Otras renovables| 11194.802|              1.89|   Renovable|          true|    false|\n",
      "|2024-12-01 00:00:00|              Carbón|   10917.2|              1.85|No-Renovable|         false|    false|\n",
      "|2024-12-01 00:00:00|      Motores diésel|  6114.986|              1.04|No-Renovable|         false|    false|\n",
      "|2024-12-01 00:00:00|  Turbinación bombeo|    4260.5|              0.72|No-Renovable|         false|    false|\n",
      "|2024-12-01 00:00:00|Residuos no renov...|    4030.6|              0.68|No-Renovable|         false|    false|\n",
      "|2024-12-01 00:00:00|    Turbina de vapor|  2768.905|              0.47|No-Renovable|         false|    false|\n",
      "|2024-12-01 00:00:00| Residuos renovables|    2662.6|              0.45|   Renovable|          true|    false|\n",
      "|2024-12-01 00:00:00|      Turbina de gas|  1114.873|              0.19|No-Renovable|         false|    false|\n",
      "|2024-12-01 00:00:00|       Solar térmica|   586.957|               0.1|   Renovable|          true|    false|\n",
      "|2024-12-01 00:00:00|         Hidroeólica|     9.953|               0.0|   Renovable|          true|    false|\n",
      "|2024-12-02 00:00:00|     Ciclo combinado|264352.156|             36.86|No-Renovable|         false|    false|\n",
      "|2024-12-02 00:00:00|             Nuclear|  122035.2|             17.01|No-Renovable|          true|    false|\n",
      "|2024-12-02 00:00:00|          Hidráulica|   91647.1|             12.78|   Renovable|          true|    false|\n",
      "|2024-12-02 00:00:00|              Eólica| 69926.448|              9.75|   Renovable|          true|    false|\n",
      "+-------------------+--------------------+----------+------------------+------------+--------------+---------+\n",
      "only showing top 20 rows\n",
      "\n"
     ]
    },
    {
     "data": {
      "text/plain": [
       "\u001b[32mimport \u001b[39m\u001b[36morg.apache.spark.sql.expressions.Window\n",
       "\u001b[39m\n",
       "\u001b[36mventanaParaPorcentaje\u001b[39m: \u001b[32mexpressions\u001b[39m.\u001b[32mWindowSpec\u001b[39m = org.apache.spark.sql.expressions.WindowSpec@ba61466"
      ]
     },
     "execution_count": 4,
     "metadata": {},
     "output_type": "execute_result"
    }
   ],
   "source": [
    "import org.apache.spark.sql.expressions.Window\n",
    "val ventanaParaPorcentaje = Window.partitionBy(\"Fecha\")\n",
    "//val ventanaParaTop3 = Window.partitionBy(\"Fecha\").orderBy(\"Valor\")\n",
    "datosBalance\n",
    "    .filter($\"Compuesto\" === false)\n",
    "    .filter($\"Familia\" =!= \"Demanda\")\n",
    "    .filter(date_format($\"Fecha\", \"yyyy-MM\") === \"2024-12\")\n",
    "    .withColumn(\"PorcentajeDelTotal\", round((($\"Valor\"/sum(\"Valor\").over(ventanaParaPorcentaje))) * 100, 2))\n",
    "    .orderBy($\"Fecha\", desc(\"PorcentajeDelTotal\"))\n",
    "    .select($\"Fecha\", $\"Tipo\", $\"Valor\", $\"PorcentajeDelTotal\", $\"Familia\", $\"BajasEmisiones\", $\"Compuesto\")\n",
    "    .show()"
   ]
  },
  {
   "cell_type": "code",
   "execution_count": 3,
   "metadata": {},
   "outputs": [
    {
     "data": {
      "text/html": [
       "<div>\n",
       "  <span style=\"float: left;\">show at cmd2.sc:1</span>\n",
       "</div>\n"
      ]
     },
     "metadata": {},
     "output_type": "display_data"
    },
    {
     "data": {
      "text/html": [
       "<div class=\"progress\">\n",
       "  <div class=\"progress-bar\" role=\"progressbar\" style=\"background-color: blue; width: 100%; word-wrap: normal; white-space: nowrap; text-align: center; color: white\" aria-valuenow=\"100\" aria-valuemin=\"0\" aria-valuemax=\"100\">\n",
       "    15 / 15\n",
       "  </div>\n",
       "  <div class=\"progress-bar\" role=\"progressbar\" style=\"background-color: red; width: 0%\" aria-valuenow=\"0\" aria-valuemin=\"0\" aria-valuemax=\"100\"></div>\n",
       "</div>\n"
      ]
     },
     "metadata": {},
     "output_type": "display_data"
    },
    {
     "data": {
      "text/html": [
       "<div>\n",
       "  <span style=\"float: left;\">show at cmd2.sc:1</span>\n",
       "</div>\n"
      ]
     },
     "metadata": {},
     "output_type": "display_data"
    },
    {
     "data": {
      "text/html": [
       "<div class=\"progress\">\n",
       "  <div class=\"progress-bar\" role=\"progressbar\" style=\"background-color: blue; width: 100%; word-wrap: normal; white-space: nowrap; text-align: center; color: white\" aria-valuenow=\"100\" aria-valuemin=\"0\" aria-valuemax=\"100\">\n",
       "    1 / 1\n",
       "  </div>\n",
       "  <div class=\"progress-bar\" role=\"progressbar\" style=\"background-color: red; width: 0%\" aria-valuenow=\"0\" aria-valuemin=\"0\" aria-valuemax=\"100\"></div>\n",
       "</div>\n"
      ]
     },
     "metadata": {},
     "output_type": "display_data"
    },
    {
     "data": {
      "text/html": [
       "<div>\n",
       "  <span style=\"float: left;\">show at cmd2.sc:1</span>\n",
       "</div>\n"
      ]
     },
     "metadata": {},
     "output_type": "display_data"
    },
    {
     "data": {
      "text/html": [
       "<div class=\"progress\">\n",
       "  <div class=\"progress-bar\" role=\"progressbar\" style=\"background-color: blue; width: 100%; word-wrap: normal; white-space: nowrap; text-align: center; color: white\" aria-valuenow=\"100\" aria-valuemin=\"0\" aria-valuemax=\"100\">\n",
       "    4 / 4\n",
       "  </div>\n",
       "  <div class=\"progress-bar\" role=\"progressbar\" style=\"background-color: red; width: 0%\" aria-valuenow=\"0\" aria-valuemin=\"0\" aria-valuemax=\"100\"></div>\n",
       "</div>\n"
      ]
     },
     "metadata": {},
     "output_type": "display_data"
    },
    {
     "data": {
      "text/html": [
       "<div>\n",
       "  <span style=\"float: left;\">show at cmd2.sc:1</span>\n",
       "</div>\n"
      ]
     },
     "metadata": {},
     "output_type": "display_data"
    },
    {
     "data": {
      "text/html": [
       "<div class=\"progress\">\n",
       "  <div class=\"progress-bar\" role=\"progressbar\" style=\"background-color: blue; width: 100%; word-wrap: normal; white-space: nowrap; text-align: center; color: white\" aria-valuenow=\"100\" aria-valuemin=\"0\" aria-valuemax=\"100\">\n",
       "    20 / 20\n",
       "  </div>\n",
       "  <div class=\"progress-bar\" role=\"progressbar\" style=\"background-color: red; width: 0%\" aria-valuenow=\"0\" aria-valuemin=\"0\" aria-valuemax=\"100\"></div>\n",
       "</div>\n"
      ]
     },
     "metadata": {},
     "output_type": "display_data"
    },
    {
     "data": {
      "text/html": [
       "<div>\n",
       "  <span style=\"float: left;\">show at cmd2.sc:1</span>\n",
       "</div>\n"
      ]
     },
     "metadata": {},
     "output_type": "display_data"
    },
    {
     "data": {
      "text/html": [
       "<div class=\"progress\">\n",
       "  <div class=\"progress-bar\" role=\"progressbar\" style=\"background-color: blue; width: 100%; word-wrap: normal; white-space: nowrap; text-align: center; color: white\" aria-valuenow=\"100\" aria-valuemin=\"0\" aria-valuemax=\"100\">\n",
       "    100 / 100\n",
       "  </div>\n",
       "  <div class=\"progress-bar\" role=\"progressbar\" style=\"background-color: red; width: 0%\" aria-valuenow=\"0\" aria-valuemin=\"0\" aria-valuemax=\"100\"></div>\n",
       "</div>\n"
      ]
     },
     "metadata": {},
     "output_type": "display_data"
    },
    {
     "data": {
      "text/html": [
       "<div>\n",
       "  <span style=\"float: left;\">show at cmd2.sc:1</span>\n",
       "</div>\n"
      ]
     },
     "metadata": {},
     "output_type": "display_data"
    },
    {
     "data": {
      "text/html": [
       "<div class=\"progress\">\n",
       "  <div class=\"progress-bar\" role=\"progressbar\" style=\"background-color: blue; width: 100%; word-wrap: normal; white-space: nowrap; text-align: center; color: white\" aria-valuenow=\"100\" aria-valuemin=\"0\" aria-valuemax=\"100\">\n",
       "    75 / 75\n",
       "  </div>\n",
       "  <div class=\"progress-bar\" role=\"progressbar\" style=\"background-color: red; width: 0%\" aria-valuenow=\"0\" aria-valuemin=\"0\" aria-valuemax=\"100\"></div>\n",
       "</div>\n"
      ]
     },
     "metadata": {},
     "output_type": "display_data"
    },
    {
     "name": "stdout",
     "output_type": "stream",
     "text": [
      "+--------------------+\n",
      "|                Tipo|\n",
      "+--------------------+\n",
      "| Residuos renovables|\n",
      "|     Demanda en b.c.|\n",
      "|  Turbinación bombeo|\n",
      "|  Solar fotovoltaica|\n",
      "|  Consumos en bombeo|\n",
      "|       Solar térmica|\n",
      "|Generación no ren...|\n",
      "|    Otras renovables|\n",
      "|             Nuclear|\n",
      "|         Hidroeólica|\n",
      "|      Turbina de gas|\n",
      "|Generación renovable|\n",
      "|Residuos no renov...|\n",
      "|        Cogeneración|\n",
      "|Saldo I. internac...|\n",
      "|      Motores diésel|\n",
      "|              Eólica|\n",
      "|              Carbón|\n",
      "|          Fuel + Gas|\n",
      "|     Ciclo combinado|\n",
      "+--------------------+\n",
      "only showing top 20 rows\n",
      "\n"
     ]
    }
   ],
   "source": [
    "datosBalance.select(\"Tipo\").distinct.show()"
   ]
  },
  {
   "cell_type": "code",
   "execution_count": 9,
   "metadata": {},
   "outputs": [
    {
     "data": {
      "text/html": [
       "<div>\n",
       "  <span style=\"float: left;\">collect at cmd8.sc:23</span>\n",
       "</div>\n"
      ]
     },
     "metadata": {},
     "output_type": "display_data"
    },
    {
     "data": {
      "text/html": [
       "<div class=\"progress\">\n",
       "  <div class=\"progress-bar\" role=\"progressbar\" style=\"background-color: blue; width: 100%; word-wrap: normal; white-space: nowrap; text-align: center; color: white\" aria-valuenow=\"100\" aria-valuemin=\"0\" aria-valuemax=\"100\">\n",
       "    15 / 15\n",
       "  </div>\n",
       "  <div class=\"progress-bar\" role=\"progressbar\" style=\"background-color: red; width: 0%\" aria-valuenow=\"0\" aria-valuemin=\"0\" aria-valuemax=\"100\"></div>\n",
       "</div>\n"
      ]
     },
     "metadata": {},
     "output_type": "display_data"
    },
    {
     "data": {
      "text/html": [
       "<div>\n",
       "  <span style=\"float: left;\">collect at cmd8.sc:23</span>\n",
       "</div>\n"
      ]
     },
     "metadata": {},
     "output_type": "display_data"
    },
    {
     "data": {
      "text/html": [
       "<div class=\"progress\">\n",
       "  <div class=\"progress-bar\" role=\"progressbar\" style=\"background-color: blue; width: 100%; word-wrap: normal; white-space: nowrap; text-align: center; color: white\" aria-valuenow=\"100\" aria-valuemin=\"0\" aria-valuemax=\"100\">\n",
       "    200 / 200\n",
       "  </div>\n",
       "  <div class=\"progress-bar\" role=\"progressbar\" style=\"background-color: red; width: 0%\" aria-valuenow=\"0\" aria-valuemin=\"0\" aria-valuemax=\"100\"></div>\n",
       "</div>\n"
      ]
     },
     "metadata": {},
     "output_type": "display_data"
    },
    {
     "data": {
      "text/html": [
       "<div>\n",
       "  <span style=\"float: left;\">collect at cmd8.sc:2</span>\n",
       "</div>\n"
      ]
     },
     "metadata": {},
     "output_type": "display_data"
    },
    {
     "data": {
      "text/html": [
       "<div class=\"progress\">\n",
       "  <div class=\"progress-bar\" role=\"progressbar\" style=\"background-color: blue; width: 100%; word-wrap: normal; white-space: nowrap; text-align: center; color: white\" aria-valuenow=\"100\" aria-valuemin=\"0\" aria-valuemax=\"100\">\n",
       "    15 / 15\n",
       "  </div>\n",
       "  <div class=\"progress-bar\" role=\"progressbar\" style=\"background-color: red; width: 0%\" aria-valuenow=\"0\" aria-valuemin=\"0\" aria-valuemax=\"100\"></div>\n",
       "</div>\n"
      ]
     },
     "metadata": {},
     "output_type": "display_data"
    },
    {
     "data": {
      "text/html": [
       "<div>\n",
       "  <span style=\"float: left;\">collect at cmd8.sc:2</span>\n",
       "</div>\n"
      ]
     },
     "metadata": {},
     "output_type": "display_data"
    },
    {
     "data": {
      "text/html": [
       "<div class=\"progress\">\n",
       "  <div class=\"progress-bar\" role=\"progressbar\" style=\"background-color: blue; width: 100%; word-wrap: normal; white-space: nowrap; text-align: center; color: white\" aria-valuenow=\"100\" aria-valuemin=\"0\" aria-valuemax=\"100\">\n",
       "    15 / 15\n",
       "  </div>\n",
       "  <div class=\"progress-bar\" role=\"progressbar\" style=\"background-color: red; width: 0%\" aria-valuenow=\"0\" aria-valuemin=\"0\" aria-valuemax=\"100\"></div>\n",
       "</div>\n"
      ]
     },
     "metadata": {},
     "output_type": "display_data"
    },
    {
     "data": {
      "text/html": [
       "<div>\n",
       "  <span style=\"float: left;\">collect at cmd8.sc:2</span>\n",
       "</div>\n"
      ]
     },
     "metadata": {},
     "output_type": "display_data"
    },
    {
     "data": {
      "text/html": [
       "<div class=\"progress\">\n",
       "  <div class=\"progress-bar\" role=\"progressbar\" style=\"background-color: blue; width: 100%; word-wrap: normal; white-space: nowrap; text-align: center; color: white\" aria-valuenow=\"100\" aria-valuemin=\"0\" aria-valuemax=\"100\">\n",
       "    14 / 14\n",
       "  </div>\n",
       "  <div class=\"progress-bar\" role=\"progressbar\" style=\"background-color: red; width: 0%\" aria-valuenow=\"0\" aria-valuemin=\"0\" aria-valuemax=\"100\"></div>\n",
       "</div>\n"
      ]
     },
     "metadata": {},
     "output_type": "display_data"
    },
    {
     "data": {
      "text/html": [
       "<div>\n",
       "  <span style=\"float: left;\">collect at cmd8.sc:3</span>\n",
       "</div>\n"
      ]
     },
     "metadata": {},
     "output_type": "display_data"
    },
    {
     "data": {
      "text/html": [
       "<div class=\"progress\">\n",
       "  <div class=\"progress-bar\" role=\"progressbar\" style=\"background-color: blue; width: 100%; word-wrap: normal; white-space: nowrap; text-align: center; color: white\" aria-valuenow=\"100\" aria-valuemin=\"0\" aria-valuemax=\"100\">\n",
       "    15 / 15\n",
       "  </div>\n",
       "  <div class=\"progress-bar\" role=\"progressbar\" style=\"background-color: red; width: 0%\" aria-valuenow=\"0\" aria-valuemin=\"0\" aria-valuemax=\"100\"></div>\n",
       "</div>\n"
      ]
     },
     "metadata": {},
     "output_type": "display_data"
    },
    {
     "data": {
      "text/html": [
       "<div>\n",
       "  <span style=\"float: left;\">collect at cmd8.sc:3</span>\n",
       "</div>\n"
      ]
     },
     "metadata": {},
     "output_type": "display_data"
    },
    {
     "data": {
      "text/html": [
       "<div class=\"progress\">\n",
       "  <div class=\"progress-bar\" role=\"progressbar\" style=\"background-color: blue; width: 100%; word-wrap: normal; white-space: nowrap; text-align: center; color: white\" aria-valuenow=\"100\" aria-valuemin=\"0\" aria-valuemax=\"100\">\n",
       "    15 / 15\n",
       "  </div>\n",
       "  <div class=\"progress-bar\" role=\"progressbar\" style=\"background-color: red; width: 0%\" aria-valuenow=\"0\" aria-valuemin=\"0\" aria-valuemax=\"100\"></div>\n",
       "</div>\n"
      ]
     },
     "metadata": {},
     "output_type": "display_data"
    },
    {
     "data": {
      "text/html": [
       "<div>\n",
       "  <span style=\"float: left;\">collect at cmd8.sc:3</span>\n",
       "</div>\n"
      ]
     },
     "metadata": {},
     "output_type": "display_data"
    },
    {
     "data": {
      "text/html": [
       "<div class=\"progress\">\n",
       "  <div class=\"progress-bar\" role=\"progressbar\" style=\"background-color: blue; width: 100%; word-wrap: normal; white-space: nowrap; text-align: center; color: white\" aria-valuenow=\"100\" aria-valuemin=\"0\" aria-valuemax=\"100\">\n",
       "    13 / 13\n",
       "  </div>\n",
       "  <div class=\"progress-bar\" role=\"progressbar\" style=\"background-color: red; width: 0%\" aria-valuenow=\"0\" aria-valuemin=\"0\" aria-valuemax=\"100\"></div>\n",
       "</div>\n"
      ]
     },
     "metadata": {},
     "output_type": "display_data"
    },
    {
     "data": {
      "text/html": [
       "<div>\n",
       "  <span style=\"float: left;\">collect at cmd8.sc:3</span>\n",
       "</div>\n"
      ]
     },
     "metadata": {},
     "output_type": "display_data"
    },
    {
     "data": {
      "text/html": [
       "<div class=\"progress\">\n",
       "  <div class=\"progress-bar\" role=\"progressbar\" style=\"background-color: blue; width: 100%; word-wrap: normal; white-space: nowrap; text-align: center; color: white\" aria-valuenow=\"100\" aria-valuemin=\"0\" aria-valuemax=\"100\">\n",
       "    15 / 15\n",
       "  </div>\n",
       "  <div class=\"progress-bar\" role=\"progressbar\" style=\"background-color: red; width: 0%\" aria-valuenow=\"0\" aria-valuemin=\"0\" aria-valuemax=\"100\"></div>\n",
       "</div>\n"
      ]
     },
     "metadata": {},
     "output_type": "display_data"
    },
    {
     "data": {
      "text/html": [
       "<div>\n",
       "  <span style=\"float: left;\">collect at cmd8.sc:3</span>\n",
       "</div>\n"
      ]
     },
     "metadata": {},
     "output_type": "display_data"
    },
    {
     "data": {
      "text/html": [
       "<div class=\"progress\">\n",
       "  <div class=\"progress-bar\" role=\"progressbar\" style=\"background-color: blue; width: 100%; word-wrap: normal; white-space: nowrap; text-align: center; color: white\" aria-valuenow=\"100\" aria-valuemin=\"0\" aria-valuemax=\"100\">\n",
       "    15 / 15\n",
       "  </div>\n",
       "  <div class=\"progress-bar\" role=\"progressbar\" style=\"background-color: red; width: 0%\" aria-valuenow=\"0\" aria-valuemin=\"0\" aria-valuemax=\"100\"></div>\n",
       "</div>\n"
      ]
     },
     "metadata": {},
     "output_type": "display_data"
    },
    {
     "data": {
      "text/html": [
       "<div>\n",
       "  <span style=\"float: left;\">collect at cmd8.sc:3</span>\n",
       "</div>\n"
      ]
     },
     "metadata": {},
     "output_type": "display_data"
    },
    {
     "data": {
      "text/html": [
       "<div class=\"progress\">\n",
       "  <div class=\"progress-bar\" role=\"progressbar\" style=\"background-color: blue; width: 100%; word-wrap: normal; white-space: nowrap; text-align: center; color: white\" aria-valuenow=\"100\" aria-valuemin=\"0\" aria-valuemax=\"100\">\n",
       "    13 / 13\n",
       "  </div>\n",
       "  <div class=\"progress-bar\" role=\"progressbar\" style=\"background-color: red; width: 0%\" aria-valuenow=\"0\" aria-valuemin=\"0\" aria-valuemax=\"100\"></div>\n",
       "</div>\n"
      ]
     },
     "metadata": {},
     "output_type": "display_data"
    },
    {
     "data": {
      "text/html": [
       "<div>\n",
       "  <span style=\"float: left;\">collect at cmd8.sc:3</span>\n",
       "</div>\n"
      ]
     },
     "metadata": {},
     "output_type": "display_data"
    },
    {
     "data": {
      "text/html": [
       "<div class=\"progress\">\n",
       "  <div class=\"progress-bar\" role=\"progressbar\" style=\"background-color: blue; width: 100%; word-wrap: normal; white-space: nowrap; text-align: center; color: white\" aria-valuenow=\"100\" aria-valuemin=\"0\" aria-valuemax=\"100\">\n",
       "    15 / 15\n",
       "  </div>\n",
       "  <div class=\"progress-bar\" role=\"progressbar\" style=\"background-color: red; width: 0%\" aria-valuenow=\"0\" aria-valuemin=\"0\" aria-valuemax=\"100\"></div>\n",
       "</div>\n"
      ]
     },
     "metadata": {},
     "output_type": "display_data"
    },
    {
     "data": {
      "text/html": [
       "<div>\n",
       "  <span style=\"float: left;\">collect at cmd8.sc:3</span>\n",
       "</div>\n"
      ]
     },
     "metadata": {},
     "output_type": "display_data"
    },
    {
     "data": {
      "text/html": [
       "<div class=\"progress\">\n",
       "  <div class=\"progress-bar\" role=\"progressbar\" style=\"background-color: blue; width: 100%; word-wrap: normal; white-space: nowrap; text-align: center; color: white\" aria-valuenow=\"100\" aria-valuemin=\"0\" aria-valuemax=\"100\">\n",
       "    15 / 15\n",
       "  </div>\n",
       "  <div class=\"progress-bar\" role=\"progressbar\" style=\"background-color: red; width: 0%\" aria-valuenow=\"0\" aria-valuemin=\"0\" aria-valuemax=\"100\"></div>\n",
       "</div>\n"
      ]
     },
     "metadata": {},
     "output_type": "display_data"
    },
    {
     "data": {
      "text/html": [
       "<div>\n",
       "  <span style=\"float: left;\">collect at cmd8.sc:3</span>\n",
       "</div>\n"
      ]
     },
     "metadata": {},
     "output_type": "display_data"
    },
    {
     "data": {
      "text/html": [
       "<div class=\"progress\">\n",
       "  <div class=\"progress-bar\" role=\"progressbar\" style=\"background-color: blue; width: 100%; word-wrap: normal; white-space: nowrap; text-align: center; color: white\" aria-valuenow=\"100\" aria-valuemin=\"0\" aria-valuemax=\"100\">\n",
       "    13 / 13\n",
       "  </div>\n",
       "  <div class=\"progress-bar\" role=\"progressbar\" style=\"background-color: red; width: 0%\" aria-valuenow=\"0\" aria-valuemin=\"0\" aria-valuemax=\"100\"></div>\n",
       "</div>\n"
      ]
     },
     "metadata": {},
     "output_type": "display_data"
    },
    {
     "data": {
      "text/html": [
       "<div>\n",
       "  <span style=\"float: left;\">collect at cmd8.sc:3</span>\n",
       "</div>\n"
      ]
     },
     "metadata": {},
     "output_type": "display_data"
    },
    {
     "data": {
      "text/html": [
       "<div class=\"progress\">\n",
       "  <div class=\"progress-bar\" role=\"progressbar\" style=\"background-color: blue; width: 100%; word-wrap: normal; white-space: nowrap; text-align: center; color: white\" aria-valuenow=\"100\" aria-valuemin=\"0\" aria-valuemax=\"100\">\n",
       "    15 / 15\n",
       "  </div>\n",
       "  <div class=\"progress-bar\" role=\"progressbar\" style=\"background-color: red; width: 0%\" aria-valuenow=\"0\" aria-valuemin=\"0\" aria-valuemax=\"100\"></div>\n",
       "</div>\n"
      ]
     },
     "metadata": {},
     "output_type": "display_data"
    },
    {
     "data": {
      "text/html": [
       "<div>\n",
       "  <span style=\"float: left;\">collect at cmd8.sc:3</span>\n",
       "</div>\n"
      ]
     },
     "metadata": {},
     "output_type": "display_data"
    },
    {
     "data": {
      "text/html": [
       "<div class=\"progress\">\n",
       "  <div class=\"progress-bar\" role=\"progressbar\" style=\"background-color: blue; width: 100%; word-wrap: normal; white-space: nowrap; text-align: center; color: white\" aria-valuenow=\"100\" aria-valuemin=\"0\" aria-valuemax=\"100\">\n",
       "    15 / 15\n",
       "  </div>\n",
       "  <div class=\"progress-bar\" role=\"progressbar\" style=\"background-color: red; width: 0%\" aria-valuenow=\"0\" aria-valuemin=\"0\" aria-valuemax=\"100\"></div>\n",
       "</div>\n"
      ]
     },
     "metadata": {},
     "output_type": "display_data"
    },
    {
     "data": {
      "text/html": [
       "<div>\n",
       "  <span style=\"float: left;\">collect at cmd8.sc:3</span>\n",
       "</div>\n"
      ]
     },
     "metadata": {},
     "output_type": "display_data"
    },
    {
     "data": {
      "text/html": [
       "<div class=\"progress\">\n",
       "  <div class=\"progress-bar\" role=\"progressbar\" style=\"background-color: blue; width: 100%; word-wrap: normal; white-space: nowrap; text-align: center; color: white\" aria-valuenow=\"100\" aria-valuemin=\"0\" aria-valuemax=\"100\">\n",
       "    13 / 13\n",
       "  </div>\n",
       "  <div class=\"progress-bar\" role=\"progressbar\" style=\"background-color: red; width: 0%\" aria-valuenow=\"0\" aria-valuemin=\"0\" aria-valuemax=\"100\"></div>\n",
       "</div>\n"
      ]
     },
     "metadata": {},
     "output_type": "display_data"
    },
    {
     "data": {
      "text/html": [
       "<div>\n",
       "  <span style=\"float: left;\">collect at cmd8.sc:3</span>\n",
       "</div>\n"
      ]
     },
     "metadata": {},
     "output_type": "display_data"
    },
    {
     "data": {
      "text/html": [
       "<div class=\"progress\">\n",
       "  <div class=\"progress-bar\" role=\"progressbar\" style=\"background-color: blue; width: 100%; word-wrap: normal; white-space: nowrap; text-align: center; color: white\" aria-valuenow=\"100\" aria-valuemin=\"0\" aria-valuemax=\"100\">\n",
       "    15 / 15\n",
       "  </div>\n",
       "  <div class=\"progress-bar\" role=\"progressbar\" style=\"background-color: red; width: 0%\" aria-valuenow=\"0\" aria-valuemin=\"0\" aria-valuemax=\"100\"></div>\n",
       "</div>\n"
      ]
     },
     "metadata": {},
     "output_type": "display_data"
    },
    {
     "data": {
      "text/html": [
       "<div>\n",
       "  <span style=\"float: left;\">collect at cmd8.sc:3</span>\n",
       "</div>\n"
      ]
     },
     "metadata": {},
     "output_type": "display_data"
    },
    {
     "data": {
      "text/html": [
       "<div class=\"progress\">\n",
       "  <div class=\"progress-bar\" role=\"progressbar\" style=\"background-color: blue; width: 100%; word-wrap: normal; white-space: nowrap; text-align: center; color: white\" aria-valuenow=\"100\" aria-valuemin=\"0\" aria-valuemax=\"100\">\n",
       "    15 / 15\n",
       "  </div>\n",
       "  <div class=\"progress-bar\" role=\"progressbar\" style=\"background-color: red; width: 0%\" aria-valuenow=\"0\" aria-valuemin=\"0\" aria-valuemax=\"100\"></div>\n",
       "</div>\n"
      ]
     },
     "metadata": {},
     "output_type": "display_data"
    },
    {
     "data": {
      "text/html": [
       "<div>\n",
       "  <span style=\"float: left;\">collect at cmd8.sc:3</span>\n",
       "</div>\n"
      ]
     },
     "metadata": {},
     "output_type": "display_data"
    },
    {
     "data": {
      "text/html": [
       "<div class=\"progress\">\n",
       "  <div class=\"progress-bar\" role=\"progressbar\" style=\"background-color: blue; width: 100%; word-wrap: normal; white-space: nowrap; text-align: center; color: white\" aria-valuenow=\"100\" aria-valuemin=\"0\" aria-valuemax=\"100\">\n",
       "    13 / 13\n",
       "  </div>\n",
       "  <div class=\"progress-bar\" role=\"progressbar\" style=\"background-color: red; width: 0%\" aria-valuenow=\"0\" aria-valuemin=\"0\" aria-valuemax=\"100\"></div>\n",
       "</div>\n"
      ]
     },
     "metadata": {},
     "output_type": "display_data"
    },
    {
     "data": {
      "text/html": [
       "\n",
       "      <script type=\"text/javascript\">\n",
       "        require.config({\n",
       "  paths: {\n",
       "    d3: 'https://cdnjs.cloudflare.com/ajax/libs/d3/3.5.17/d3.min',\n",
       "    plotly: 'https://cdn.plot.ly/plotly-1.41.3.min',\n",
       "    jquery: 'https://code.jquery.com/jquery-3.3.1.min'\n",
       "  },\n",
       "\n",
       "  shim: {\n",
       "    plotly: {\n",
       "      deps: ['d3', 'jquery'],\n",
       "      exports: 'plotly'\n",
       "    }\n",
       "  }\n",
       "});\n",
       "        \n",
       "\n",
       "        require(['plotly'], function(Plotly) {\n",
       "          window.Plotly = Plotly;\n",
       "        });\n",
       "      </script>\n",
       "    "
      ]
     },
     "metadata": {},
     "output_type": "display_data"
    },
    {
     "data": {
      "application/vnd.plotly.v1+json": {
       "data": [
        {
         "name": "Ciclo combinado",
         "type": "scatter",
         "x": [
          "2024-12-01 00:00:00",
          "2024-12-02 00:00:00",
          "2024-12-03 00:00:00",
          "2024-12-04 00:00:00",
          "2024-12-05 00:00:00",
          "2024-12-06 00:00:00",
          "2024-12-07 00:00:00",
          "2024-12-08 00:00:00",
          "2024-12-09 00:00:00",
          "2024-12-10 00:00:00",
          "2024-12-11 00:00:00",
          "2024-12-12 00:00:00",
          "2024-12-13 00:00:00"
         ],
         "y": [
          147282.116,
          264352.156,
          259447.529,
          175363.258,
          172534.862,
          100071.329,
          76605.477,
          67977.225,
          109286.506,
          215763.338,
          346028.762,
          322512.026,
          306927.079
         ]
        },
        {
         "name": "Eólica",
         "type": "scatter",
         "x": [
          "2024-12-01 00:00:00",
          "2024-12-02 00:00:00",
          "2024-12-03 00:00:00",
          "2024-12-04 00:00:00",
          "2024-12-05 00:00:00",
          "2024-12-06 00:00:00",
          "2024-12-07 00:00:00",
          "2024-12-08 00:00:00",
          "2024-12-09 00:00:00",
          "2024-12-10 00:00:00",
          "2024-12-11 00:00:00",
          "2024-12-12 00:00:00",
          "2024-12-13 00:00:00"
         ],
         "y": [
          87069.688,
          69926.448,
          134640.394,
          240328.626,
          194972.956,
          238200.526,
          326080.183,
          361026.698,
          357003.36,
          179988.334,
          47118.775,
          63615.035,
          38545.423
         ]
        },
        {
         "name": "Nuclear",
         "type": "scatter",
         "x": [
          "2024-12-01 00:00:00",
          "2024-12-02 00:00:00",
          "2024-12-03 00:00:00",
          "2024-12-04 00:00:00",
          "2024-12-05 00:00:00",
          "2024-12-06 00:00:00",
          "2024-12-07 00:00:00",
          "2024-12-08 00:00:00",
          "2024-12-09 00:00:00",
          "2024-12-10 00:00:00",
          "2024-12-11 00:00:00",
          "2024-12-12 00:00:00",
          "2024-12-13 00:00:00"
         ],
         "y": [
          122080,
          122035.2,
          122063.2,
          122065.4,
          122042,
          121975,
          122047.4,
          122075.4,
          122110.3,
          122203,
          122265.5,
          122280.4,
          122269
         ]
        },
        {
         "name": "Hidráulica",
         "type": "scatter",
         "x": [
          "2024-12-01 00:00:00",
          "2024-12-02 00:00:00",
          "2024-12-03 00:00:00",
          "2024-12-04 00:00:00",
          "2024-12-05 00:00:00",
          "2024-12-06 00:00:00",
          "2024-12-07 00:00:00",
          "2024-12-08 00:00:00",
          "2024-12-09 00:00:00",
          "2024-12-10 00:00:00",
          "2024-12-11 00:00:00",
          "2024-12-12 00:00:00",
          "2024-12-13 00:00:00"
         ],
         "y": [
          80156,
          91647.1,
          87858.9,
          83470.9,
          78613.3,
          65506.8,
          51329,
          50174.4,
          69181.1,
          106570.7,
          124110.9,
          123309.6,
          131484.1
         ]
        },
        {
         "name": "Solar fotovoltaica",
         "type": "scatter",
         "x": [
          "2024-12-01 00:00:00",
          "2024-12-02 00:00:00",
          "2024-12-03 00:00:00",
          "2024-12-04 00:00:00",
          "2024-12-05 00:00:00",
          "2024-12-06 00:00:00",
          "2024-12-07 00:00:00",
          "2024-12-08 00:00:00",
          "2024-12-09 00:00:00",
          "2024-12-10 00:00:00",
          "2024-12-11 00:00:00",
          "2024-12-12 00:00:00",
          "2024-12-13 00:00:00"
         ],
         "y": [
          55299.424,
          57137.721,
          62638.002,
          76858.404,
          88160.484,
          82598.877,
          73714.745,
          79979.558,
          89523.795,
          91464.272,
          63925.087,
          49952.122,
          69238.142
         ]
        }
       ],
       "layout": {
        "autosize": true,
        "xaxis": {
         "autorange": true,
         "range": [
          "2024-11-30 06:44:47.3081",
          "2024-12-13 17:15:12.6919"
         ],
         "type": "date"
        },
        "yaxis": {
         "autorange": true,
         "range": [
          14924.183111464972,
          384647.93788853503
         ],
         "type": "linear"
        }
       }
      },
      "image/png": "[encoded data removed]",
      "text/html": [
       "<div class=\"chart\" id=\"plot-7a8ff8c2-05bf-4783-b43f-ad621f5ed526\"></div>\n",
       "<script>require(['plotly'], function(Plotly) {\n",
       "  (function () {\n",
       "  var data0 = {\"x\":[\"2024-12-01 00:00:00\",\"2024-12-02 00:00:00\",\"2024-12-03 00:00:00\",\"2024-12-04 00:00:00\",\"2024-12-05 00:00:00\",\"2024-12-06 00:00:00\",\"2024-12-07 00:00:00\",\"2024-12-08 00:00:00\",\"2024-12-09 00:00:00\",\"2024-12-10 00:00:00\",\"2024-12-11 00:00:00\",\"2024-12-12 00:00:00\",\"2024-12-13 00:00:00\"],\"name\":\"Ciclo combinado\",\"y\":[147282.116,264352.156,259447.529,175363.258,172534.862,100071.329,76605.477,67977.225,109286.506,215763.338,346028.762,322512.026,306927.079],\"type\":\"scatter\"};\n",
       "  var data1 = {\"x\":[\"2024-12-01 00:00:00\",\"2024-12-02 00:00:00\",\"2024-12-03 00:00:00\",\"2024-12-04 00:00:00\",\"2024-12-05 00:00:00\",\"2024-12-06 00:00:00\",\"2024-12-07 00:00:00\",\"2024-12-08 00:00:00\",\"2024-12-09 00:00:00\",\"2024-12-10 00:00:00\",\"2024-12-11 00:00:00\",\"2024-12-12 00:00:00\",\"2024-12-13 00:00:00\"],\"name\":\"Eólica\",\"y\":[87069.688,69926.448,134640.394,240328.626,194972.956,238200.526,326080.183,361026.698,357003.36,179988.334,47118.775,63615.035,38545.423],\"type\":\"scatter\"};\n",
       "  var data2 = {\"x\":[\"2024-12-01 00:00:00\",\"2024-12-02 00:00:00\",\"2024-12-03 00:00:00\",\"2024-12-04 00:00:00\",\"2024-12-05 00:00:00\",\"2024-12-06 00:00:00\",\"2024-12-07 00:00:00\",\"2024-12-08 00:00:00\",\"2024-12-09 00:00:00\",\"2024-12-10 00:00:00\",\"2024-12-11 00:00:00\",\"2024-12-12 00:00:00\",\"2024-12-13 00:00:00\"],\"name\":\"Nuclear\",\"y\":[122080.0,122035.2,122063.2,122065.4,122042.0,121975.0,122047.4,122075.4,122110.3,122203.0,122265.5,122280.4,122269.0],\"type\":\"scatter\"};\n",
       "  var data3 = {\"x\":[\"2024-12-01 00:00:00\",\"2024-12-02 00:00:00\",\"2024-12-03 00:00:00\",\"2024-12-04 00:00:00\",\"2024-12-05 00:00:00\",\"2024-12-06 00:00:00\",\"2024-12-07 00:00:00\",\"2024-12-08 00:00:00\",\"2024-12-09 00:00:00\",\"2024-12-10 00:00:00\",\"2024-12-11 00:00:00\",\"2024-12-12 00:00:00\",\"2024-12-13 00:00:00\"],\"name\":\"Hidráulica\",\"y\":[80156.0,91647.1,87858.9,83470.9,78613.3,65506.8,51329.0,50174.4,69181.1,106570.7,124110.9,123309.6,131484.1],\"type\":\"scatter\"};\n",
       "  var data4 = {\"x\":[\"2024-12-01 00:00:00\",\"2024-12-02 00:00:00\",\"2024-12-03 00:00:00\",\"2024-12-04 00:00:00\",\"2024-12-05 00:00:00\",\"2024-12-06 00:00:00\",\"2024-12-07 00:00:00\",\"2024-12-08 00:00:00\",\"2024-12-09 00:00:00\",\"2024-12-10 00:00:00\",\"2024-12-11 00:00:00\",\"2024-12-12 00:00:00\",\"2024-12-13 00:00:00\"],\"name\":\"Solar fotovoltaica\",\"y\":[55299.424,57137.721,62638.002,76858.404,88160.484,82598.877,73714.745,79979.558,89523.795,91464.272,63925.087,49952.122,69238.142],\"type\":\"scatter\"};\n",
       "\n",
       "  var data = [data0, data1, data2, data3, data4];\n",
       "  var layout = {};\n",
       "\n",
       "  Plotly.plot('plot-7a8ff8c2-05bf-4783-b43f-ad621f5ed526', data, layout);\n",
       "})();\n",
       "});\n",
       "      </script>\n",
       "           "
      ]
     },
     "metadata": {},
     "output_type": "display_data"
    },
    {
     "data": {
      "text/plain": [
       "defined \u001b[32mfunction\u001b[39m \u001b[36mAnalisisEnergiasMensual\u001b[39m\n",
       "\u001b[36mdataFrameBalance2024\u001b[39m: \u001b[32mDataset\u001b[39m[\u001b[32mRow\u001b[39m] = [Familia: string, Tipo: string ... 5 more fields]\n",
       "\u001b[36mEnergiasParaAnalizar\u001b[39m: \u001b[32mSeq\u001b[39m[\u001b[32mString\u001b[39m] = \u001b[33mWrappedArray\u001b[39m(\n",
       "  \u001b[32m\"Ciclo combinado\"\u001b[39m,\n",
       "  \u001b[32m\"E\\u00f3lica\"\u001b[39m,\n",
       "  \u001b[32m\"Nuclear\"\u001b[39m,\n",
       "  \u001b[32m\"Hidr\\u00e1ulica\"\u001b[39m,\n",
       "  \u001b[32m\"Solar fotovoltaica\"\u001b[39m\n",
       ")"
      ]
     },
     "execution_count": 9,
     "metadata": {},
     "output_type": "execute_result"
    }
   ],
   "source": [
    "def AnalisisEnergiasMensual(listaEnergias: Seq[String], df: DataFrame): Unit = {\n",
    "  val seqFechas = df.orderBy(\"Fecha\").select(\"Fecha\").distinct.as[String].collect.toSeq\n",
    "  val seqValores = listaEnergias.map(energia => df.filter($\"Tipo\" === energia).orderBy(\"Fecha\").select(\"Valor\").as[Double].collect.toSeq)\n",
    "\n",
    "  val traces = listaEnergias.zip(seqValores).map { case (nombre, seqValor) =>\n",
    "    Scatter(seqFechas, seqValor, name = nombre)\n",
    "  }\n",
    "\n",
    "  val data = traces\n",
    "  plot(data)\n",
    "}\n",
    "\n",
    "val dataFrameBalance2024 = datosBalance.filter(date_format(col(\"Fecha\"),\"yyyy-MM\").isin(\"2024-12\")) //Elegimos año\n",
    "val EnergiasParaAnalizar = datosBalance\n",
    "    .filter($\"Compuesto\" === false)\n",
    "    .filter($\"Familia\" =!= \"Demanda\")\n",
    "    .filter(date_format($\"Fecha\", \"yyyy-MM\") === \"2024-12\")\n",
    "    .groupBy($\"Tipo\")\n",
    "    .agg(sum($\"Valor\"))\n",
    "    .orderBy(desc(\"sum(Valor)\"))\n",
    "    .select(\"Tipo\")\n",
    "    .limit(5)\n",
    "    .as[String]\n",
    "    .collect()\n",
    "    .toSeq\n",
    "\n",
    "AnalisisEnergiasMensual(EnergiasParaAnalizar, dataFrameBalance2024)"
   ]
  },
  {
   "cell_type": "code",
   "execution_count": 3,
   "metadata": {},
   "outputs": [
    {
     "data": {
      "text/html": [
       "<div>\n",
       "  <span style=\"float: left;\">parquet at cmd2.sc:7</span>\n",
       "</div>\n"
      ]
     },
     "metadata": {},
     "output_type": "display_data"
    },
    {
     "data": {
      "text/html": [
       "<div class=\"progress\">\n",
       "  <div class=\"progress-bar\" role=\"progressbar\" style=\"background-color: blue; width: 100%; word-wrap: normal; white-space: nowrap; text-align: center; color: white\" aria-valuenow=\"100\" aria-valuemin=\"0\" aria-valuemax=\"100\">\n",
       "    1 / 1\n",
       "  </div>\n",
       "  <div class=\"progress-bar\" role=\"progressbar\" style=\"background-color: red; width: 0%\" aria-valuenow=\"0\" aria-valuemin=\"0\" aria-valuemax=\"100\"></div>\n",
       "</div>\n"
      ]
     },
     "metadata": {},
     "output_type": "display_data"
    },
    {
     "data": {
      "text/plain": [
       "\u001b[36mfilePath\u001b[39m: \u001b[32mString\u001b[39m = \u001b[32m\"../../data/parquet/dsDemandaNacional14-24.parquet\"\u001b[39m\n",
       "\u001b[36mdatosDemanda\u001b[39m: \u001b[32mDataFrame\u001b[39m = [Fecha: timestamp, Valor_previsto: bigint ... 5 more fields]"
      ]
     },
     "execution_count": 3,
     "metadata": {},
     "output_type": "execute_result"
    }
   ],
   "source": [
    "val filePath = \"../../data/parquet/dsDemandaNacional14-24.parquet\"   \n",
    "\n",
    "val datosDemanda: DataFrame = spark.read\n",
    "  //.option(\"header\", \"true\") // Si el archivo tiene un encabezado\n",
    "  //.option(\"inferSchema\", \"true\") // Para inferir automáticamente el esquema\n",
    "  //.csv(filePath)\n",
    "    .parquet(filePath)"
   ]
  },
  {
   "cell_type": "code",
   "execution_count": 4,
   "metadata": {},
   "outputs": [
    {
     "data": {
      "text/html": [
       "<div>\n",
       "  <span style=\"float: left;\">show at cmd3.sc:1</span>\n",
       "</div>\n"
      ]
     },
     "metadata": {},
     "output_type": "display_data"
    },
    {
     "data": {
      "text/html": [
       "<div class=\"progress\">\n",
       "  <div class=\"progress-bar\" role=\"progressbar\" style=\"background-color: blue; width: 100%; word-wrap: normal; white-space: nowrap; text-align: center; color: white\" aria-valuenow=\"100\" aria-valuemin=\"0\" aria-valuemax=\"100\">\n",
       "    15 / 15\n",
       "  </div>\n",
       "  <div class=\"progress-bar\" role=\"progressbar\" style=\"background-color: red; width: 0%\" aria-valuenow=\"0\" aria-valuemin=\"0\" aria-valuemax=\"100\"></div>\n",
       "</div>\n"
      ]
     },
     "metadata": {},
     "output_type": "display_data"
    },
    {
     "name": "stdout",
     "output_type": "stream",
     "text": [
      "+-------------------+--------------+-------------------+----------------+---------------------+----------+-------------------+\n",
      "|              Fecha|Valor_previsto|Porcentaje_previsto|Valor_programado|Porcentaje_programado|Valor_real|    Porcentaje_real|\n",
      "+-------------------+--------------+-------------------+----------------+---------------------+----------+-------------------+\n",
      "|2024-10-30 20:35:00|         30260| 0.5039385814445351|           29787|   0.4960614185554649|      null|               null|\n",
      "|2024-10-30 20:30:00|         30491| 0.5058396098078901|           29787|   0.4941603901921099|      null|               null|\n",
      "|2024-10-30 20:25:00|         30716| 0.3335070575461455|           30701|   0.3333441910966341|     30683| 0.3331487513572204|\n",
      "|2024-10-30 20:20:00|         30912| 0.3343428225317989|           30701|   0.3320606558795535|     30843|0.33359652158864755|\n",
      "|2024-10-30 20:15:00|         31079|0.33568797727444566|           30701|  0.33160515429398485|     30803| 0.3327068684315695|\n",
      "|2024-10-30 20:10:00|         31236|0.33563277673908837|           30995|    0.333043216641953|     30835| 0.3313240066189586|\n",
      "|2024-10-30 20:05:00|         31398| 0.3357069540672312|           30995|  0.33139808399623644|     31135| 0.3328949619365324|\n",
      "|2024-10-30 20:00:00|         31566| 0.3371355334828581|           30995|   0.3310370607711204|     31069| 0.3318274057460216|\n",
      "|2024-10-30 19:55:00|         31720|0.33665888346423267|           31310|    0.332307365739758|     31190|0.33103375079600933|\n",
      "|2024-10-30 19:50:00|         31840|0.33741681149590946|           31310|  0.33180026281208935|     31214| 0.3307829256920012|\n",
      "|2024-10-30 19:45:00|         31927|0.33818108634861455|           31310|  0.33164562325226676|     31171|0.33017329039911875|\n",
      "|2024-10-30 19:40:00|         31989| 0.3386441108593932|           31240|  0.33071499650653174|     31233| 0.3306408926340751|\n",
      "|2024-10-30 19:35:00|         32034|   0.33933243646918|           31240|  0.33092168681080053|     31129| 0.3297458767200195|\n",
      "|2024-10-30 19:30:00|         32064|0.33929440646758796|           31240|  0.33057501428541197|     31198|0.33013057924700007|\n",
      "|2024-10-30 19:25:00|         32088| 0.3402901501654365|           31077|  0.32956859251717996|     31131| 0.3301412573173836|\n",
      "|2024-10-30 19:20:00|         32119|0.34077791452701267|           31077|  0.32972244620803803|     31056| 0.3294996392649493|\n",
      "|2024-10-30 19:15:00|         32158|0.34102887684655925|           31077|   0.3295650975110555|     31062|0.32940602564238525|\n",
      "|2024-10-30 19:10:00|         32151|0.34060066740823136|           31106|   0.3295301657926797|     31138|0.32986916679908895|\n",
      "|2024-10-30 19:05:00|         32048| 0.3398227085719133|           31106|   0.3298341604105696|     31154|0.33034313101751706|\n",
      "|2024-10-30 19:00:00|         31849|0.33822545531779324|           31106|  0.33033505017787923|     31210| 0.3314394945043275|\n",
      "+-------------------+--------------+-------------------+----------------+---------------------+----------+-------------------+\n",
      "only showing top 20 rows\n",
      "\n"
     ]
    }
   ],
   "source": [
    "datosDemanda\n",
    "    .c\n",
    "    .show()"
   ]
  },
  {
   "cell_type": "code",
   "execution_count": null,
   "metadata": {},
   "outputs": [
    {
     "data": {
      "text/html": [
       "<div>\n",
       "  <span style=\"float: left;\">show at cmd4.sc:9</span>\n",
       "</div>\n"
      ]
     },
     "metadata": {},
     "output_type": "display_data"
    },
    {
     "data": {
      "text/html": [
       "<div class=\"progress\">\n",
       "  <div class=\"progress-bar\" role=\"progressbar\" style=\"background-color: blue; width: 100%; word-wrap: normal; white-space: nowrap; text-align: center; color: white\" aria-valuenow=\"100\" aria-valuemin=\"0\" aria-valuemax=\"100\">\n",
       "    15 / 15\n",
       "  </div>\n",
       "  <div class=\"progress-bar\" role=\"progressbar\" style=\"background-color: red; width: 0%\" aria-valuenow=\"0\" aria-valuemin=\"0\" aria-valuemax=\"100\"></div>\n",
       "</div>\n"
      ]
     },
     "metadata": {},
     "output_type": "display_data"
    },
    {
     "data": {
      "text/html": [
       "<div>\n",
       "  <span style=\"float: left;\">show at cmd4.sc:9</span>\n",
       "</div>\n"
      ]
     },
     "metadata": {},
     "output_type": "display_data"
    },
    {
     "data": {
      "text/html": [
       "<div class=\"progress\">\n",
       "  <div class=\"progress-bar\" role=\"progressbar\" style=\"background-color: blue; width: 100%; word-wrap: normal; white-space: nowrap; text-align: center; color: white\" aria-valuenow=\"100\" aria-valuemin=\"0\" aria-valuemax=\"100\">\n",
       "    200 / 200\n",
       "  </div>\n",
       "  <div class=\"progress-bar\" role=\"progressbar\" style=\"background-color: red; width: 0%\" aria-valuenow=\"0\" aria-valuemin=\"0\" aria-valuemax=\"100\"></div>\n",
       "</div>\n"
      ]
     },
     "metadata": {},
     "output_type": "display_data"
    },
    {
     "name": "stdout",
     "output_type": "stream",
     "text": [
      "+----+--------------------+------------------------+\n",
      "| Año|Valor total previsto|Valor total millones MWh|\n",
      "+----+--------------------+------------------------+\n",
      "|2014|          1460459836|                 1460.46|\n",
      "|2015|          1469292858|                 1469.29|\n",
      "|2016|          1502105618|                 1502.11|\n",
      "|2017|          1516500506|                  1516.5|\n",
      "|2018|          1527687242|                 1527.69|\n",
      "|2019|          1499992614|                 1499.99|\n",
      "|2020|          1427351433|                 1427.35|\n",
      "|2021|          1463735053|                 1463.74|\n",
      "|2022|          2272548260|                 2272.55|\n",
      "|2023|          2751631627|                 2751.63|\n",
      "|2024|          2647781021|                 2647.78|\n",
      "+----+--------------------+------------------------+\n",
      "\n"
     ]
    },
    {
     "data": {
      "text/html": [
       "<div>\n",
       "  <span style=\"float: left; word-wrap: normal; white-space: nowrap; text-align: center\">collect at cmd4.sc:12</span>\n",
       "  <span style=\"float: right; word-wrap: normal; white-space: nowrap; text-align: center\"><a href=\"#\" onclick=\"cancelStage(4);\">(kill)</a></span>\n",
       "</div>\n",
       "<br>\n"
      ]
     },
     "metadata": {},
     "output_type": "display_data"
    },
    {
     "data": {
      "text/html": [
       "<div class=\"progress\">\n",
       "  <div class=\"progress-bar\" role=\"progressbar\" style=\"background-color: blue; width: 0%; word-wrap: normal; white-space: nowrap; text-align: center; color: white\" aria-valuenow=\"0\" aria-valuemin=\"0\" aria-valuemax=\"100\">\n",
       "    0 + 11 / 15\n",
       "  </div>\n",
       "  <div class=\"progress-bar\" role=\"progressbar\" style=\"background-color: red; width: 73%\" aria-valuenow=\"73\" aria-valuemin=\"0\" aria-valuemax=\"100\"></div>\n",
       "</div>\n"
      ]
     },
     "metadata": {},
     "output_type": "display_data"
    }
   ],
   "source": [
    "def analisisProduccionGeneral (df: DataFrame): Unit = {\n",
    "    //Calculamos la generacion total por año\n",
    "    val sumaDemanda = df\n",
    "      .groupBy(date_format(col(\"Fecha\"), \"yyyy\").as(\"Año\"))\n",
    "      .agg(sum(\"Valor_previsto\").as(\"Valor total previsto\"))\n",
    "      .orderBy($\"Año\")\n",
    "      .withColumn(\"Valor total millones MWh\", round(col(\"Valor total previsto\") / 1e6, 2))\n",
    "    \n",
    "    sumaDemanda.show()\n",
    "    \n",
    "    //Pintamos la gráfica\n",
    "    val fechas = sumaDemanda.select(\"Año\").as[String].collect.toSeq\n",
    "    val valorDemandaReal = sumaDemanda.select(\"Valor total previsto\").as[Double].collect.toSeq\n",
    "    val demandaPorAño = Scatter(fechas, valorDemandaReal, name = \"Demanda Total\")\n",
    "\n",
    "    val data = Seq(demandaPorAño)\n",
    "    plot(data)\n",
    "    \n",
    "}\n",
    "analisisProduccionGeneral(datosDemanda)"
   ]
  },
  {
   "cell_type": "code",
   "execution_count": null,
   "metadata": {},
   "outputs": [],
   "source": [
    "datosDemanda.show()"
   ]
  },
  {
   "cell_type": "code",
   "execution_count": 6,
   "metadata": {},
   "outputs": [
    {
     "data": {
      "text/plain": [
       "\u001b[36mdatosFilomena\u001b[39m: \u001b[32mDataset\u001b[39m[\u001b[32mRow\u001b[39m] = [Fecha: timestamp, Valor_previsto: bigint ... 5 more fields]"
      ]
     },
     "execution_count": 6,
     "metadata": {},
     "output_type": "execute_result"
    }
   ],
   "source": [
    "val datosFilomena = datosDemanda.filter(date_format($\"Fecha\", \"yyyy-MM-dd\").isin(\"2021-01-08\", \"2021-01-09\")).orderBy(desc(\"Fecha\"))"
   ]
  },
  {
   "cell_type": "code",
   "execution_count": null,
   "metadata": {},
   "outputs": [
    {
     "data": {
      "text/html": [
       "<div>\n",
       "  <span style=\"float: left;\">collect at cmd6.sc:3</span>\n",
       "</div>\n"
      ]
     },
     "metadata": {},
     "output_type": "display_data"
    },
    {
     "data": {
      "text/html": [
       "<div class=\"progress\">\n",
       "  <div class=\"progress-bar\" role=\"progressbar\" style=\"background-color: blue; width: 100%; word-wrap: normal; white-space: nowrap; text-align: center; color: white\" aria-valuenow=\"100\" aria-valuemin=\"0\" aria-valuemax=\"100\">\n",
       "    15 / 15\n",
       "  </div>\n",
       "  <div class=\"progress-bar\" role=\"progressbar\" style=\"background-color: red; width: 0%\" aria-valuenow=\"0\" aria-valuemin=\"0\" aria-valuemax=\"100\"></div>\n",
       "</div>\n"
      ]
     },
     "metadata": {},
     "output_type": "display_data"
    },
    {
     "data": {
      "text/html": [
       "<div>\n",
       "  <span style=\"float: left;\">collect at cmd6.sc:3</span>\n",
       "</div>\n"
      ]
     },
     "metadata": {},
     "output_type": "display_data"
    },
    {
     "data": {
      "text/html": [
       "<div class=\"progress\">\n",
       "  <div class=\"progress-bar\" role=\"progressbar\" style=\"background-color: blue; width: 100%; word-wrap: normal; white-space: nowrap; text-align: center; color: white\" aria-valuenow=\"100\" aria-valuemin=\"0\" aria-valuemax=\"100\">\n",
       "    15 / 15\n",
       "  </div>\n",
       "  <div class=\"progress-bar\" role=\"progressbar\" style=\"background-color: red; width: 0%\" aria-valuenow=\"0\" aria-valuemin=\"0\" aria-valuemax=\"100\"></div>\n",
       "</div>\n"
      ]
     },
     "metadata": {},
     "output_type": "display_data"
    },
    {
     "data": {
      "text/html": [
       "<div>\n",
       "  <span style=\"float: left;\">collect at cmd6.sc:3</span>\n",
       "</div>\n"
      ]
     },
     "metadata": {},
     "output_type": "display_data"
    },
    {
     "data": {
      "text/html": [
       "<div class=\"progress\">\n",
       "  <div class=\"progress-bar\" role=\"progressbar\" style=\"background-color: blue; width: 100%; word-wrap: normal; white-space: nowrap; text-align: center; color: white\" aria-valuenow=\"100\" aria-valuemin=\"0\" aria-valuemax=\"100\">\n",
       "    15 / 15\n",
       "  </div>\n",
       "  <div class=\"progress-bar\" role=\"progressbar\" style=\"background-color: red; width: 0%\" aria-valuenow=\"0\" aria-valuemin=\"0\" aria-valuemax=\"100\"></div>\n",
       "</div>\n"
      ]
     },
     "metadata": {},
     "output_type": "display_data"
    },
    {
     "data": {
      "text/html": [
       "<div>\n",
       "  <span style=\"float: left;\">collect at cmd6.sc:3</span>\n",
       "</div>\n"
      ]
     },
     "metadata": {},
     "output_type": "display_data"
    },
    {
     "data": {
      "text/html": [
       "<div class=\"progress\">\n",
       "  <div class=\"progress-bar\" role=\"progressbar\" style=\"background-color: blue; width: 100%; word-wrap: normal; white-space: nowrap; text-align: center; color: white\" aria-valuenow=\"100\" aria-valuemin=\"0\" aria-valuemax=\"100\">\n",
       "    15 / 15\n",
       "  </div>\n",
       "  <div class=\"progress-bar\" role=\"progressbar\" style=\"background-color: red; width: 0%\" aria-valuenow=\"0\" aria-valuemin=\"0\" aria-valuemax=\"100\"></div>\n",
       "</div>\n"
      ]
     },
     "metadata": {},
     "output_type": "display_data"
    },
    {
     "data": {
      "text/html": [
       "<div>\n",
       "  <span style=\"float: left;\">collect at cmd6.sc:3</span>\n",
       "</div>\n"
      ]
     },
     "metadata": {},
     "output_type": "display_data"
    },
    {
     "data": {
      "text/html": [
       "<div class=\"progress\">\n",
       "  <div class=\"progress-bar\" role=\"progressbar\" style=\"background-color: blue; width: 100%; word-wrap: normal; white-space: nowrap; text-align: center; color: white\" aria-valuenow=\"100\" aria-valuemin=\"0\" aria-valuemax=\"100\">\n",
       "    200 / 200\n",
       "  </div>\n",
       "  <div class=\"progress-bar\" role=\"progressbar\" style=\"background-color: red; width: 0%\" aria-valuenow=\"0\" aria-valuemin=\"0\" aria-valuemax=\"100\"></div>\n",
       "</div>\n"
      ]
     },
     "metadata": {},
     "output_type": "display_data"
    },
    {
     "data": {
      "text/html": [
       "<div>\n",
       "  <span style=\"float: left;\">collect at cmd6.sc:3</span>\n",
       "</div>\n"
      ]
     },
     "metadata": {},
     "output_type": "display_data"
    },
    {
     "data": {
      "text/html": [
       "<div class=\"progress\">\n",
       "  <div class=\"progress-bar\" role=\"progressbar\" style=\"background-color: blue; width: 100%; word-wrap: normal; white-space: nowrap; text-align: center; color: white\" aria-valuenow=\"100\" aria-valuemin=\"0\" aria-valuemax=\"100\">\n",
       "    200 / 200\n",
       "  </div>\n",
       "  <div class=\"progress-bar\" role=\"progressbar\" style=\"background-color: red; width: 0%\" aria-valuenow=\"0\" aria-valuemin=\"0\" aria-valuemax=\"100\"></div>\n",
       "</div>\n"
      ]
     },
     "metadata": {},
     "output_type": "display_data"
    },
    {
     "data": {
      "text/html": [
       "<div>\n",
       "  <span style=\"float: left;\">collect at cmd6.sc:4</span>\n",
       "</div>\n"
      ]
     },
     "metadata": {},
     "output_type": "display_data"
    },
    {
     "data": {
      "text/html": [
       "<div class=\"progress\">\n",
       "  <div class=\"progress-bar\" role=\"progressbar\" style=\"background-color: blue; width: 100%; word-wrap: normal; white-space: nowrap; text-align: center; color: white\" aria-valuenow=\"100\" aria-valuemin=\"0\" aria-valuemax=\"100\">\n",
       "    15 / 15\n",
       "  </div>\n",
       "  <div class=\"progress-bar\" role=\"progressbar\" style=\"background-color: red; width: 0%\" aria-valuenow=\"0\" aria-valuemin=\"0\" aria-valuemax=\"100\"></div>\n",
       "</div>\n"
      ]
     },
     "metadata": {},
     "output_type": "display_data"
    },
    {
     "data": {
      "text/html": [
       "<div>\n",
       "  <span style=\"float: left;\">collect at cmd6.sc:4</span>\n",
       "</div>\n"
      ]
     },
     "metadata": {},
     "output_type": "display_data"
    },
    {
     "data": {
      "text/html": [
       "<div class=\"progress\">\n",
       "  <div class=\"progress-bar\" role=\"progressbar\" style=\"background-color: blue; width: 100%; word-wrap: normal; white-space: nowrap; text-align: center; color: white\" aria-valuenow=\"100\" aria-valuemin=\"0\" aria-valuemax=\"100\">\n",
       "    15 / 15\n",
       "  </div>\n",
       "  <div class=\"progress-bar\" role=\"progressbar\" style=\"background-color: red; width: 0%\" aria-valuenow=\"0\" aria-valuemin=\"0\" aria-valuemax=\"100\"></div>\n",
       "</div>\n"
      ]
     },
     "metadata": {},
     "output_type": "display_data"
    },
    {
     "data": {
      "text/html": [
       "<div>\n",
       "  <span style=\"float: left;\">collect at cmd6.sc:4</span>\n",
       "</div>\n"
      ]
     },
     "metadata": {},
     "output_type": "display_data"
    },
    {
     "data": {
      "text/html": [
       "<div class=\"progress\">\n",
       "  <div class=\"progress-bar\" role=\"progressbar\" style=\"background-color: blue; width: 100%; word-wrap: normal; white-space: nowrap; text-align: center; color: white\" aria-valuenow=\"100\" aria-valuemin=\"0\" aria-valuemax=\"100\">\n",
       "    15 / 15\n",
       "  </div>\n",
       "  <div class=\"progress-bar\" role=\"progressbar\" style=\"background-color: red; width: 0%\" aria-valuenow=\"0\" aria-valuemin=\"0\" aria-valuemax=\"100\"></div>\n",
       "</div>\n"
      ]
     },
     "metadata": {},
     "output_type": "display_data"
    },
    {
     "data": {
      "text/html": [
       "<div>\n",
       "  <span style=\"float: left;\">collect at cmd6.sc:4</span>\n",
       "</div>\n"
      ]
     },
     "metadata": {},
     "output_type": "display_data"
    },
    {
     "data": {
      "text/html": [
       "<div class=\"progress\">\n",
       "  <div class=\"progress-bar\" role=\"progressbar\" style=\"background-color: blue; width: 100%; word-wrap: normal; white-space: nowrap; text-align: center; color: white\" aria-valuenow=\"100\" aria-valuemin=\"0\" aria-valuemax=\"100\">\n",
       "    15 / 15\n",
       "  </div>\n",
       "  <div class=\"progress-bar\" role=\"progressbar\" style=\"background-color: red; width: 0%\" aria-valuenow=\"0\" aria-valuemin=\"0\" aria-valuemax=\"100\"></div>\n",
       "</div>\n"
      ]
     },
     "metadata": {},
     "output_type": "display_data"
    },
    {
     "data": {
      "text/html": [
       "<div>\n",
       "  <span style=\"float: left;\">collect at cmd6.sc:4</span>\n",
       "</div>\n"
      ]
     },
     "metadata": {},
     "output_type": "display_data"
    },
    {
     "data": {
      "text/html": [
       "<div class=\"progress\">\n",
       "  <div class=\"progress-bar\" role=\"progressbar\" style=\"background-color: blue; width: 100%; word-wrap: normal; white-space: nowrap; text-align: center; color: white\" aria-valuenow=\"100\" aria-valuemin=\"0\" aria-valuemax=\"100\">\n",
       "    200 / 200\n",
       "  </div>\n",
       "  <div class=\"progress-bar\" role=\"progressbar\" style=\"background-color: red; width: 0%\" aria-valuenow=\"0\" aria-valuemin=\"0\" aria-valuemax=\"100\"></div>\n",
       "</div>\n"
      ]
     },
     "metadata": {},
     "output_type": "display_data"
    },
    {
     "data": {
      "text/html": [
       "<div>\n",
       "  <span style=\"float: left;\">collect at cmd6.sc:4</span>\n",
       "</div>\n"
      ]
     },
     "metadata": {},
     "output_type": "display_data"
    },
    {
     "data": {
      "text/html": [
       "<div class=\"progress\">\n",
       "  <div class=\"progress-bar\" role=\"progressbar\" style=\"background-color: blue; width: 100%; word-wrap: normal; white-space: nowrap; text-align: center; color: white\" aria-valuenow=\"100\" aria-valuemin=\"0\" aria-valuemax=\"100\">\n",
       "    200 / 200\n",
       "  </div>\n",
       "  <div class=\"progress-bar\" role=\"progressbar\" style=\"background-color: red; width: 0%\" aria-valuenow=\"0\" aria-valuemin=\"0\" aria-valuemax=\"100\"></div>\n",
       "</div>\n"
      ]
     },
     "metadata": {},
     "output_type": "display_data"
    },
    {
     "data": {
      "text/html": [
       "<div>\n",
       "  <span style=\"float: left;\">collect at cmd6.sc:5</span>\n",
       "</div>\n"
      ]
     },
     "metadata": {},
     "output_type": "display_data"
    },
    {
     "data": {
      "text/html": [
       "<div class=\"progress\">\n",
       "  <div class=\"progress-bar\" role=\"progressbar\" style=\"background-color: blue; width: 100%; word-wrap: normal; white-space: nowrap; text-align: center; color: white\" aria-valuenow=\"100\" aria-valuemin=\"0\" aria-valuemax=\"100\">\n",
       "    15 / 15\n",
       "  </div>\n",
       "  <div class=\"progress-bar\" role=\"progressbar\" style=\"background-color: red; width: 0%\" aria-valuenow=\"0\" aria-valuemin=\"0\" aria-valuemax=\"100\"></div>\n",
       "</div>\n"
      ]
     },
     "metadata": {},
     "output_type": "display_data"
    },
    {
     "data": {
      "text/html": [
       "<div>\n",
       "  <span style=\"float: left;\">collect at cmd6.sc:5</span>\n",
       "</div>\n"
      ]
     },
     "metadata": {},
     "output_type": "display_data"
    },
    {
     "data": {
      "text/html": [
       "<div class=\"progress\">\n",
       "  <div class=\"progress-bar\" role=\"progressbar\" style=\"background-color: blue; width: 100%; word-wrap: normal; white-space: nowrap; text-align: center; color: white\" aria-valuenow=\"100\" aria-valuemin=\"0\" aria-valuemax=\"100\">\n",
       "    15 / 15\n",
       "  </div>\n",
       "  <div class=\"progress-bar\" role=\"progressbar\" style=\"background-color: red; width: 0%\" aria-valuenow=\"0\" aria-valuemin=\"0\" aria-valuemax=\"100\"></div>\n",
       "</div>\n"
      ]
     },
     "metadata": {},
     "output_type": "display_data"
    },
    {
     "data": {
      "text/html": [
       "<div>\n",
       "  <span style=\"float: left;\">collect at cmd6.sc:5</span>\n",
       "</div>\n"
      ]
     },
     "metadata": {},
     "output_type": "display_data"
    },
    {
     "data": {
      "text/html": [
       "<div class=\"progress\">\n",
       "  <div class=\"progress-bar\" role=\"progressbar\" style=\"background-color: blue; width: 100%; word-wrap: normal; white-space: nowrap; text-align: center; color: white\" aria-valuenow=\"100\" aria-valuemin=\"0\" aria-valuemax=\"100\">\n",
       "    15 / 15\n",
       "  </div>\n",
       "  <div class=\"progress-bar\" role=\"progressbar\" style=\"background-color: red; width: 0%\" aria-valuenow=\"0\" aria-valuemin=\"0\" aria-valuemax=\"100\"></div>\n",
       "</div>\n"
      ]
     },
     "metadata": {},
     "output_type": "display_data"
    },
    {
     "data": {
      "text/html": [
       "<div>\n",
       "  <span style=\"float: left;\">collect at cmd6.sc:5</span>\n",
       "</div>\n"
      ]
     },
     "metadata": {},
     "output_type": "display_data"
    },
    {
     "data": {
      "text/html": [
       "<div class=\"progress\">\n",
       "  <div class=\"progress-bar\" role=\"progressbar\" style=\"background-color: blue; width: 100%; word-wrap: normal; white-space: nowrap; text-align: center; color: white\" aria-valuenow=\"100\" aria-valuemin=\"0\" aria-valuemax=\"100\">\n",
       "    15 / 15\n",
       "  </div>\n",
       "  <div class=\"progress-bar\" role=\"progressbar\" style=\"background-color: red; width: 0%\" aria-valuenow=\"0\" aria-valuemin=\"0\" aria-valuemax=\"100\"></div>\n",
       "</div>\n"
      ]
     },
     "metadata": {},
     "output_type": "display_data"
    },
    {
     "data": {
      "text/html": [
       "<div>\n",
       "  <span style=\"float: left; word-wrap: normal; white-space: nowrap; text-align: center\">collect at cmd6.sc:5</span>\n",
       "  <span style=\"float: right; word-wrap: normal; white-space: nowrap; text-align: center\"><a href=\"#\" onclick=\"cancelStage(10);\">(kill)</a></span>\n",
       "</div>\n",
       "<br>\n"
      ]
     },
     "metadata": {},
     "output_type": "display_data"
    },
    {
     "data": {
      "text/html": [
       "<div class=\"progress\">\n",
       "  <div class=\"progress-bar\" role=\"progressbar\" style=\"background-color: blue; width: 23%; word-wrap: normal; white-space: nowrap; text-align: center; color: white\" aria-valuenow=\"23\" aria-valuemin=\"0\" aria-valuemax=\"100\">\n",
       "    45 + 19 / 200\n",
       "  </div>\n",
       "  <div class=\"progress-bar\" role=\"progressbar\" style=\"background-color: red; width: 10%\" aria-valuenow=\"10\" aria-valuemin=\"0\" aria-valuemax=\"100\"></div>\n",
       "</div>\n"
      ]
     },
     "metadata": {},
     "output_type": "display_data"
    },
    {
     "data": {
      "text/html": [
       "<div>\n",
       "  <span style=\"float: left; word-wrap: normal; white-space: nowrap; text-align: center\">collect at cmd6.sc:5</span>\n",
       "  <span style=\"float: right; word-wrap: normal; white-space: nowrap; text-align: center\"><a href=\"#\" onclick=\"cancelStage(10);\">(kill)</a></span>\n",
       "</div>\n",
       "<br>\n"
      ]
     },
     "metadata": {},
     "output_type": "display_data"
    },
    {
     "data": {
      "text/html": [
       "<div class=\"progress\">\n",
       "  <div class=\"progress-bar\" role=\"progressbar\" style=\"background-color: blue; width: 23%; word-wrap: normal; white-space: nowrap; text-align: center; color: white\" aria-valuenow=\"23\" aria-valuemin=\"0\" aria-valuemax=\"100\">\n",
       "    45 + 19 / 200\n",
       "  </div>\n",
       "  <div class=\"progress-bar\" role=\"progressbar\" style=\"background-color: red; width: 10%\" aria-valuenow=\"10\" aria-valuemin=\"0\" aria-valuemax=\"100\"></div>\n",
       "</div>\n"
      ]
     },
     "metadata": {},
     "output_type": "display_data"
    }
   ],
   "source": [
    "def demandaHistoricoPromedioPorHora(dfDemanda: DataFrame): Unit = {\n",
    "    val df = dfDemanda.filter($\"Porcentaje_real\".isNotNull)\n",
    "    val seqFechas = df.select(\"Fecha\").distinct.as[String].collect.toSeq\n",
    "    val seqPrevisto = df.select(\"Valor_previsto\").as[Double].collect.toSeq\n",
    "    val seqProgramado = df.select(\"Valor_programado\").as[Double].collect.toSeq\n",
    "    val seqReal = df.select(\"Valor_real\").as[Double].collect.toSeq\n",
    "\n",
    "    val trace1 =  Scatter(seqFechas, seqPrevisto, name = \"Valor_previsto\")\n",
    "    val trace2 =  Scatter(seqFechas, seqProgramado, name = \"Valor_programado\")\n",
    "    val trace3 =  Scatter(seqFechas, seqReal, name = \"Valor_real\")\n",
    "\n",
    "\n",
    "    val data = Seq(trace1, trace2, trace3)\n",
    "    plot(data)\n",
    "}\n",
    "demandaHistoricoPromedioPorHora(datosFilomena)"
   ]
  },
  {
   "cell_type": "code",
   "execution_count": 4,
   "metadata": {},
   "outputs": [
    {
     "data": {
      "text/plain": [
       "\u001b[36mdatosEnriquecidos\u001b[39m: \u001b[32mDataFrame\u001b[39m = [Fecha: timestamp, Valor_previsto: bigint ... 11 more fields]"
      ]
     },
     "execution_count": 4,
     "metadata": {},
     "output_type": "execute_result"
    }
   ],
   "source": [
    "val datosEnriquecidos = datosDemanda\n",
    "    .withColumn(\"Error_Previsto_Real\", abs(col(\"Valor_previsto\") - col(\"Valor_real\")))\n",
    "    .withColumn(\"Error_Programado_Real\", abs(col(\"Valor_programado\") - col(\"Valor_real\")))\n",
    "    .withColumn(\"ErrorRelativo_Previsto_Real\", round((abs(col(\"Valor_previsto\") - col(\"Valor_real\")) / col(\"Valor_real\")) * 100, 2))\n",
    "    .withColumn(\"ErrorRelativo_Programado_Real\", round((abs(col(\"Valor_programado\") - col(\"Valor_real\")) / col(\"Valor_real\")) * 100, 2))\n",
    "    .withColumn(\"Critico\", col(\"Valor_real\") > col(\"Valor_previsto\") * 1.1)\n",
    "    .withColumn(\"DemandaNoCubierta\", when(col(\"Valor_real\") > col(\"Valor_programado\"), col(\"Valor_real\") - col(\"Valor_programado\")).otherwise(0))\n"
   ]
  },
  {
   "cell_type": "code",
   "execution_count": 5,
   "metadata": {},
   "outputs": [
    {
     "data": {
      "text/html": [
       "<div>\n",
       "  <span style=\"float: left;\">show at cmd4.sc:1</span>\n",
       "</div>\n"
      ]
     },
     "metadata": {},
     "output_type": "display_data"
    },
    {
     "data": {
      "text/html": [
       "<div class=\"progress\">\n",
       "  <div class=\"progress-bar\" role=\"progressbar\" style=\"background-color: blue; width: 100%; word-wrap: normal; white-space: nowrap; text-align: center; color: white\" aria-valuenow=\"100\" aria-valuemin=\"0\" aria-valuemax=\"100\">\n",
       "    1 / 1\n",
       "  </div>\n",
       "  <div class=\"progress-bar\" role=\"progressbar\" style=\"background-color: red; width: 0%\" aria-valuenow=\"0\" aria-valuemin=\"0\" aria-valuemax=\"100\"></div>\n",
       "</div>\n"
      ]
     },
     "metadata": {},
     "output_type": "display_data"
    },
    {
     "data": {
      "text/html": [
       "<div>\n",
       "  <span style=\"float: left;\">show at cmd4.sc:1</span>\n",
       "</div>\n"
      ]
     },
     "metadata": {},
     "output_type": "display_data"
    },
    {
     "data": {
      "text/html": [
       "<div class=\"progress\">\n",
       "  <div class=\"progress-bar\" role=\"progressbar\" style=\"background-color: blue; width: 100%; word-wrap: normal; white-space: nowrap; text-align: center; color: white\" aria-valuenow=\"100\" aria-valuemin=\"0\" aria-valuemax=\"100\">\n",
       "    1 / 1\n",
       "  </div>\n",
       "  <div class=\"progress-bar\" role=\"progressbar\" style=\"background-color: red; width: 0%\" aria-valuenow=\"0\" aria-valuemin=\"0\" aria-valuemax=\"100\"></div>\n",
       "</div>\n"
      ]
     },
     "metadata": {},
     "output_type": "display_data"
    },
    {
     "name": "stdout",
     "output_type": "stream",
     "text": [
      "+-------------------+--------------+-------------------+----------------+---------------------+----------+-------------------+-------------------+---------------------+---------------------------+-----------------------------+-------+-----------------+\n",
      "|              Fecha|Valor_previsto|Porcentaje_previsto|Valor_programado|Porcentaje_programado|Valor_real|    Porcentaje_real|Error_Previsto_Real|Error_Programado_Real|ErrorRelativo_Previsto_Real|ErrorRelativo_Programado_Real|Critico|DemandaNoCubierta|\n",
      "+-------------------+--------------+-------------------+----------------+---------------------+----------+-------------------+-------------------+---------------------+---------------------------+-----------------------------+-------+-----------------+\n",
      "|2023-01-31 13:55:00|         32335| 0.3353418236123787|           31997|  0.33183647224757323|     32092|0.33282170414004814|                243|                   95|                       0.76|                          0.3|  false|               95|\n",
      "|2023-01-03 11:40:00|         29065| 0.3351282169541555|           28988|  0.33424038372843834|     28675|0.33063139931740615|                390|                  313|                       1.36|                         1.09|  false|                0|\n",
      "|2023-01-21 04:30:00|         22105|0.33458965277147096|           21893|  0.33138074047164956|     22068| 0.3340296067568795|                 37|                  175|                       0.17|                         0.79|  false|              175|\n",
      "|2023-01-29 14:05:00|         27295|0.33279280158014096|           27329|  0.33320734472920577|     27394|0.33399985369065327|                 99|                   65|                       0.36|                         0.24|  false|               65|\n",
      "|2023-01-11 00:30:00|         23383|0.33418607974846365|           23077|   0.3298127769043876|     23510|0.33600114334714876|                127|                  433|                       0.54|                         1.84|  false|              433|\n",
      "|2023-01-01 21:10:00|         24289| 0.3360589960706182|           24055|   0.3328214068293763|     23932|0.33111959710000555|                357|                  123|                       1.49|                         0.51|  false|                0|\n",
      "|2023-01-28 13:50:00|         29113|0.33514067320532304|           28860|  0.33222820831606575|     28895| 0.3326311184786112|                218|                   35|                       0.75|                         0.12|  false|               35|\n",
      "|2023-01-05 22:25:00|         25736| 0.3386895126798005|           25112|   0.3304775816916051|     25139|0.33083290562859435|                597|                   27|                       2.37|                         0.11|  false|               27|\n",
      "|2023-01-23 01:25:00|         22242| 0.3337484807106523|           22116|   0.3318578095223804|     22285|0.33439370976696725|                 43|                  169|                       0.19|                         0.76|  false|              169|\n",
      "|2023-01-17 17:50:00|         33936| 0.3301584830766537|           34280|   0.3335052098027961|     34571|0.33633630712055024|                635|                  291|                       1.84|                         0.84|  false|              291|\n",
      "|2023-01-17 01:25:00|         23221|0.33299394843261537|           23264|  0.33361057733673677|     23249| 0.3333954742306479|                 28|                   15|                       0.12|                         0.06|  false|                0|\n",
      "|2023-01-01 21:50:00|         22887|0.33434619373876967|           22695|   0.3315413495390998|     22871| 0.3341124567221305|                 16|                  176|                       0.07|                         0.77|  false|              176|\n",
      "|2023-01-07 03:05:00|         19199| 0.3342211545157022|           18987|  0.33053060371840404|     19258|0.33524824176589374|                 59|                  271|                       0.31|                         1.41|  false|              271|\n",
      "|2023-01-18 14:45:00|         32479|0.33501119145117536|           32419|   0.3343923093585287|     32051|0.33059649919029593|                428|                  368|                       1.34|                         1.15|  false|                0|\n",
      "|2023-01-08 01:30:00|         19824|0.33038898703376557|           19850|   0.3308223059231359|     20328|0.33878870704309855|                504|                  478|                       2.48|                         2.35|  false|              478|\n",
      "|2023-01-31 01:55:00|         24142| 0.3333701565909028|           24184|  0.33395012289762216|     24092|0.33267972051147504|                 50|                   92|                       0.21|                         0.38|  false|                0|\n",
      "|2023-01-30 00:35:00|         23490| 0.3355378747839502|           23058|  0.32936706329367066|     23459| 0.3350950619223792|                 31|                  401|                       0.13|                         1.71|  false|              401|\n",
      "|2023-01-12 13:40:00|         30429| 0.3342964492880998|           30292|   0.3327913517314115|     30303| 0.3329121989804887|                126|                   11|                       0.42|                         0.04|  false|               11|\n",
      "|2023-01-25 07:10:00|         35264| 0.3337087051564733|           35173|   0.3328475580327993|     35236| 0.3334437368107274|                 28|                   63|                       0.08|                         0.18|  false|               63|\n",
      "|2023-01-17 18:35:00|         34966|0.32937386373270283|           35607|  0.33541197637506004|     35586|0.33521415989223713|                620|                   21|                       1.74|                         0.06|  false|                0|\n",
      "+-------------------+--------------+-------------------+----------------+---------------------+----------+-------------------+-------------------+---------------------+---------------------------+-----------------------------+-------+-----------------+\n",
      "only showing top 20 rows\n",
      "\n"
     ]
    }
   ],
   "source": [
    "datosEnriquecidos.show()"
   ]
  },
  {
   "cell_type": "code",
   "execution_count": 16,
   "metadata": {},
   "outputs": [
    {
     "data": {
      "text/html": [
       "<div>\n",
       "  <span style=\"float: left;\">show at cmd15.sc:1</span>\n",
       "</div>\n"
      ]
     },
     "metadata": {},
     "output_type": "display_data"
    },
    {
     "data": {
      "text/html": [
       "<div class=\"progress\">\n",
       "  <div class=\"progress-bar\" role=\"progressbar\" style=\"background-color: blue; width: 100%; word-wrap: normal; white-space: nowrap; text-align: center; color: white\" aria-valuenow=\"100\" aria-valuemin=\"0\" aria-valuemax=\"100\">\n",
       "    15 / 15\n",
       "  </div>\n",
       "  <div class=\"progress-bar\" role=\"progressbar\" style=\"background-color: red; width: 0%\" aria-valuenow=\"0\" aria-valuemin=\"0\" aria-valuemax=\"100\"></div>\n",
       "</div>\n"
      ]
     },
     "metadata": {},
     "output_type": "display_data"
    },
    {
     "name": "stdout",
     "output_type": "stream",
     "text": [
      "+-------------------+-----------------------------+-------+-----------------+\n",
      "|              Fecha|ErrorRelativo_Programado_Real|Critico|DemandaNoCubierta|\n",
      "+-------------------+-----------------------------+-------+-----------------+\n",
      "|2016-01-25 06:00:00|                        14.52|  false|                0|\n",
      "|2015-12-09 06:00:00|                        14.17|  false|                0|\n",
      "|2019-12-16 05:00:00|                        13.76|  false|                0|\n",
      "|2019-02-11 06:00:00|                        13.58|  false|                0|\n",
      "|2017-12-04 06:00:00|                        13.35|  false|                0|\n",
      "|2015-07-01 22:10:00|                        13.21|   true|             3894|\n",
      "|2020-02-03 05:00:00|                        13.13|  false|                0|\n",
      "|2016-12-16 06:00:00|                        13.12|  false|                0|\n",
      "|2014-02-03 06:00:00|                        13.08|  false|                0|\n",
      "|2020-01-27 06:00:00|                        12.95|  false|                0|\n",
      "|2017-01-23 06:00:00|                        12.87|  false|                0|\n",
      "|2019-11-25 05:00:00|                        12.86|  false|                0|\n",
      "|2014-02-11 06:00:00|                        12.82|  false|                0|\n",
      "|2015-03-23 05:00:00|                        12.82|  false|                0|\n",
      "|2017-02-14 06:00:00|                        12.81|  false|                0|\n",
      "|2015-01-21 06:00:00|                        12.76|  false|                0|\n",
      "|2015-12-16 06:00:00|                         12.7|  false|                0|\n",
      "|2014-11-27 06:00:00|                        12.69|  false|                0|\n",
      "|2015-07-01 06:00:00|                        12.65|  false|                0|\n",
      "|2016-12-13 06:00:00|                        12.65|  false|                0|\n",
      "+-------------------+-----------------------------+-------+-----------------+\n",
      "only showing top 20 rows\n",
      "\n"
     ]
    }
   ],
   "source": [
    "datosEnriquecidos.orderBy(desc(\"ErrorRelativo_Programado_Real\")).select($\"Fecha\", $\"ErrorRelativo_Programado_Real\", $\"Critico\", $\"DemandaNoCubierta\").show()"
   ]
  },
  {
   "cell_type": "code",
   "execution_count": null,
   "metadata": {},
   "outputs": [],
   "source": []
  }
 ],
 "metadata": {
  "kernelspec": {
   "display_name": "Scala 2.12",
   "language": "scala",
   "name": "scala212"
  },
  "language_info": {
   "codemirror_mode": "text/x-scala",
   "file_extension": ".scala",
   "mimetype": "text/x-scala",
   "name": "scala",
   "nbconvert_exporter": "script",
   "version": "2.12.10"
  }
 },
 "nbformat": 4,
 "nbformat_minor": 4
}
