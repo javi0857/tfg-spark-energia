{
 "cells": [
  {
   "cell_type": "code",
   "execution_count": 1,
   "metadata": {},
   "outputs": [
    {
     "name": "stdout",
     "output_type": "stream",
     "text": [
      "Loading spark-stubs\n",
      "Getting spark JARs\n",
      "Creating SparkSession\n"
     ]
    },
    {
     "name": "stderr",
     "output_type": "stream",
     "text": [
      "Using Spark's default log4j profile: org/apache/spark/log4j-defaults.properties\n"
     ]
    },
    {
     "data": {
      "text/html": [
       "<a href=\"http://e194855403c3:4041\">Spark UI</a>"
      ]
     },
     "metadata": {},
     "output_type": "display_data"
    },
    {
     "data": {
      "text/html": [
       "<script>\n",
       "var comm = Jupyter.notebook.kernel.comm_manager.new_comm('cancel-stage-d233d54d-aadd-44e5-8f78-db2b8c0a1f2f', {});\n",
       "\n",
       "function cancelStage(stageId) {\n",
       "  console.log('Cancelling stage ' + stageId);\n",
       "  comm.send({ 'stageId': stageId });\n",
       "}\n",
       "</script>\n",
       "          "
      ]
     },
     "metadata": {},
     "output_type": "display_data"
    },
    {
     "data": {
      "text/html": [
       "<div>\n",
       "  <span style=\"float: left;\">parquet at cmd0.sc:44</span>\n",
       "</div>\n"
      ]
     },
     "metadata": {},
     "output_type": "display_data"
    },
    {
     "data": {
      "text/html": [
       "<div class=\"progress\">\n",
       "  <div class=\"progress-bar\" role=\"progressbar\" style=\"background-color: blue; width: 100%; word-wrap: normal; white-space: nowrap; text-align: center; color: white\" aria-valuenow=\"100\" aria-valuemin=\"0\" aria-valuemax=\"100\">\n",
       "    1 / 1\n",
       "  </div>\n",
       "  <div class=\"progress-bar\" role=\"progressbar\" style=\"background-color: red; width: 0%\" aria-valuenow=\"0\" aria-valuemin=\"0\" aria-valuemax=\"100\"></div>\n",
       "</div>\n"
      ]
     },
     "metadata": {},
     "output_type": "display_data"
    },
    {
     "data": {
      "text/plain": [
       "\u001b[32mimport \u001b[39m\u001b[36m$ivy.$                                  \n",
       "\n",
       "\n",
       "\u001b[39m\n",
       "\u001b[32mimport \u001b[39m\u001b[36morg.apache.spark.sql._\n",
       "\u001b[39m\n",
       "\u001b[32mimport \u001b[39m\u001b[36morg.apache.spark.sql.functions._\n",
       "\n",
       "\n",
       "//Reducir numero logs\n",
       "\u001b[39m\n",
       "\u001b[32mimport \u001b[39m\u001b[36morg.apache.log4j.{Level, Logger}\n",
       "\u001b[39m\n",
       "\u001b[32mimport \u001b[39m\u001b[36m$ivy.$                               \n",
       "\n",
       "//Plotly\n",
       "\u001b[39m\n",
       "\u001b[32mimport \u001b[39m\u001b[36m$ivy.$                                      \n",
       "\u001b[39m\n",
       "\u001b[32mimport \u001b[39m\u001b[36mplotly._, plotly.element._, plotly.layout._, plotly.Almond._\n",
       "\n",
       "\n",
       "\n",
       "//Iniciamos session de Spark\n",
       "\u001b[39m\n",
       "\u001b[36mspark\u001b[39m: \u001b[32mSparkSession\u001b[39m = org.apache.spark.sql.SparkSession@ce260ca\n",
       "\u001b[32mimport \u001b[39m\u001b[36mspark.implicits._\n",
       "\n",
       "\n",
       "\u001b[39m\n",
       "\u001b[36mpathDatosConsulta2\u001b[39m: \u001b[32mString\u001b[39m = \u001b[32m\"../../data/parquet/DatosConsulta2.parquet\"\u001b[39m\n",
       "\u001b[36mdatosConsulta2\u001b[39m: \u001b[32mDataFrame\u001b[39m = [FechaDia: string, PrecioMercado_€: double ... 14 more fields]"
      ]
     },
     "execution_count": 1,
     "metadata": {},
     "output_type": "execute_result"
    }
   ],
   "source": [
    "import $ivy.`org.apache.spark::spark-sql:2.4.3`\n",
    "\n",
    "\n",
    "import org.apache.spark.sql._\n",
    "import org.apache.spark.sql.functions._\n",
    "\n",
    "\n",
    "//Reducir numero logs\n",
    "import org.apache.log4j.{Level, Logger}\n",
    "Logger.getLogger(\"org\").setLevel(Level.OFF)\n",
    "\n",
    "\n",
    "//For adding extra dependenies\n",
    "import $ivy.`org.typelevel::cats-core:1.6.0`\n",
    "\n",
    "//Plotly\n",
    "import $ivy.`org.plotly-scala::plotly-almond:0.7.1`\n",
    "import plotly._, plotly.element._, plotly.layout._, plotly.Almond._\n",
    "\n",
    "\n",
    "\n",
    "//Iniciamos session de Spark\n",
    "val spark = {\n",
    "  NotebookSparkSession.builder()\n",
    "     .master(\"local[*]\")\n",
    "    //.config(\"spark.executor.instances\", \"4\") // Número de ejecutores\n",
    "    //.config(\"spark.executor.memory\", \"4g\") // Memoria por ejecutor\n",
    "    //.config(\"spark.executor.cores\", \"2\") // Núcleos por ejecutor\n",
    "    //.config(\"spark.driver.memory\", \"4g\") // Memoria del driver\n",
    "    //.config(\"spark.sql.shuffle.partitions\", \"8\") // Número de particiones para operaciones de shuffle\n",
    "    .getOrCreate()\n",
    "}\n",
    "import spark.implicits._\n",
    "\n",
    "\n",
    "val pathDatosConsulta2 = \"../../data/parquet/DatosConsulta2.parquet\"\n",
    "\n",
    "\n",
    "val datosConsulta2: DataFrame = spark.read\n",
    "  //.option(\"header\", \"true\") // Si el archivo tiene un encabezado\n",
    "  //.option(\"inferSchema\", \"true\") // Para inferir automáticamente el esquema\n",
    "  //.csv(filePath)\n",
    "    .option(\"encoding\", \"UTF-8\")\n",
    "    .parquet(pathDatosConsulta2)\n"
   ]
  },
  {
   "cell_type": "code",
   "execution_count": 20,
   "metadata": {},
   "outputs": [
    {
     "data": {
      "text/html": [
       "<div>\n",
       "  <span style=\"float: left;\">parquet at cmd19.sc:3</span>\n",
       "</div>\n"
      ]
     },
     "metadata": {},
     "output_type": "display_data"
    },
    {
     "data": {
      "text/html": [
       "<div class=\"progress\">\n",
       "  <div class=\"progress-bar\" role=\"progressbar\" style=\"background-color: blue; width: 100%; word-wrap: normal; white-space: nowrap; text-align: center; color: white\" aria-valuenow=\"100\" aria-valuemin=\"0\" aria-valuemax=\"100\">\n",
       "    1 / 1\n",
       "  </div>\n",
       "  <div class=\"progress-bar\" role=\"progressbar\" style=\"background-color: red; width: 0%\" aria-valuenow=\"0\" aria-valuemin=\"0\" aria-valuemax=\"100\"></div>\n",
       "</div>\n"
      ]
     },
     "metadata": {},
     "output_type": "display_data"
    },
    {
     "data": {
      "text/html": [
       "<div>\n",
       "  <span style=\"float: left;\">parquet at cmd19.sc:7</span>\n",
       "</div>\n"
      ]
     },
     "metadata": {},
     "output_type": "display_data"
    },
    {
     "data": {
      "text/html": [
       "<div class=\"progress\">\n",
       "  <div class=\"progress-bar\" role=\"progressbar\" style=\"background-color: blue; width: 100%; word-wrap: normal; white-space: nowrap; text-align: center; color: white\" aria-valuenow=\"100\" aria-valuemin=\"0\" aria-valuemax=\"100\">\n",
       "    1 / 1\n",
       "  </div>\n",
       "  <div class=\"progress-bar\" role=\"progressbar\" style=\"background-color: red; width: 0%\" aria-valuenow=\"0\" aria-valuemin=\"0\" aria-valuemax=\"100\"></div>\n",
       "</div>\n"
      ]
     },
     "metadata": {},
     "output_type": "display_data"
    },
    {
     "data": {
      "text/plain": [
       "\u001b[36mfilePath\u001b[39m: \u001b[32mString\u001b[39m = \u001b[32m\"../../data/parquet/dsMercadoNacionalTotalPrueba.parquet\"\u001b[39m\n",
       "\u001b[36mdataFrameMercados\u001b[39m: \u001b[32mDataFrame\u001b[39m = [Fecha: timestamp, Valor_Mercado_Spot: double ... 3 more fields]\n",
       "\u001b[36mfilePathBalance\u001b[39m: \u001b[32mString\u001b[39m = \u001b[32m\"../../data/parquet/dsBalanceNacional11-24.parquet\"\u001b[39m\n",
       "\u001b[36mdatosBalance\u001b[39m: \u001b[32mDataFrame\u001b[39m = [Familia: string, Tipo: string ... 5 more fields]"
      ]
     },
     "execution_count": 20,
     "metadata": {},
     "output_type": "execute_result"
    }
   ],
   "source": [
    "val filePath = \"../../data/parquet/dsMercadoNacionalTotalPrueba.parquet\"\n",
    "val dataFrameMercados: DataFrame = spark.read\n",
    "    .parquet(filePath)\n",
    "\n",
    "val filePathBalance = \"../../data/parquet/dsBalanceNacional11-24.parquet\"  \n",
    "val datosBalance: DataFrame = spark.read\n",
    "    .parquet(filePathBalance)"
   ]
  },
  {
   "cell_type": "code",
   "execution_count": 15,
   "metadata": {},
   "outputs": [
    {
     "data": {
      "text/html": [
       "<div>\n",
       "  <span style=\"float: left;\">collect at cmd14.sc:5</span>\n",
       "</div>\n"
      ]
     },
     "metadata": {},
     "output_type": "display_data"
    },
    {
     "data": {
      "text/html": [
       "<div class=\"progress\">\n",
       "  <div class=\"progress-bar\" role=\"progressbar\" style=\"background-color: blue; width: 100%; word-wrap: normal; white-space: nowrap; text-align: center; color: white\" aria-valuenow=\"100\" aria-valuemin=\"0\" aria-valuemax=\"100\">\n",
       "    15 / 15\n",
       "  </div>\n",
       "  <div class=\"progress-bar\" role=\"progressbar\" style=\"background-color: red; width: 0%\" aria-valuenow=\"0\" aria-valuemin=\"0\" aria-valuemax=\"100\"></div>\n",
       "</div>\n"
      ]
     },
     "metadata": {},
     "output_type": "display_data"
    },
    {
     "data": {
      "text/html": [
       "<div>\n",
       "  <span style=\"float: left;\">collect at cmd14.sc:5</span>\n",
       "</div>\n"
      ]
     },
     "metadata": {},
     "output_type": "display_data"
    },
    {
     "data": {
      "text/html": [
       "<div class=\"progress\">\n",
       "  <div class=\"progress-bar\" role=\"progressbar\" style=\"background-color: blue; width: 100%; word-wrap: normal; white-space: nowrap; text-align: center; color: white\" aria-valuenow=\"100\" aria-valuemin=\"0\" aria-valuemax=\"100\">\n",
       "    1 / 1\n",
       "  </div>\n",
       "  <div class=\"progress-bar\" role=\"progressbar\" style=\"background-color: red; width: 0%\" aria-valuenow=\"0\" aria-valuemin=\"0\" aria-valuemax=\"100\"></div>\n",
       "</div>\n"
      ]
     },
     "metadata": {},
     "output_type": "display_data"
    },
    {
     "data": {
      "text/html": [
       "<div>\n",
       "  <span style=\"float: left;\">show at cmd14.sc:24</span>\n",
       "</div>\n"
      ]
     },
     "metadata": {},
     "output_type": "display_data"
    },
    {
     "data": {
      "text/html": [
       "<div class=\"progress\">\n",
       "  <div class=\"progress-bar\" role=\"progressbar\" style=\"background-color: blue; width: 100%; word-wrap: normal; white-space: nowrap; text-align: center; color: white\" aria-valuenow=\"100\" aria-valuemin=\"0\" aria-valuemax=\"100\">\n",
       "    15 / 15\n",
       "  </div>\n",
       "  <div class=\"progress-bar\" role=\"progressbar\" style=\"background-color: red; width: 0%\" aria-valuenow=\"0\" aria-valuemin=\"0\" aria-valuemax=\"100\"></div>\n",
       "</div>\n"
      ]
     },
     "metadata": {},
     "output_type": "display_data"
    },
    {
     "data": {
      "text/html": [
       "<div>\n",
       "  <span style=\"float: left;\">show at cmd14.sc:24</span>\n",
       "</div>\n"
      ]
     },
     "metadata": {},
     "output_type": "display_data"
    },
    {
     "data": {
      "text/html": [
       "<div class=\"progress\">\n",
       "  <div class=\"progress-bar\" role=\"progressbar\" style=\"background-color: blue; width: 100%; word-wrap: normal; white-space: nowrap; text-align: center; color: white\" aria-valuenow=\"100\" aria-valuemin=\"0\" aria-valuemax=\"100\">\n",
       "    200 / 200\n",
       "  </div>\n",
       "  <div class=\"progress-bar\" role=\"progressbar\" style=\"background-color: red; width: 0%\" aria-valuenow=\"0\" aria-valuemin=\"0\" aria-valuemax=\"100\"></div>\n",
       "</div>\n"
      ]
     },
     "metadata": {},
     "output_type": "display_data"
    },
    {
     "data": {
      "text/html": [
       "<div>\n",
       "  <span style=\"float: left;\">show at cmd14.sc:24</span>\n",
       "</div>\n"
      ]
     },
     "metadata": {},
     "output_type": "display_data"
    },
    {
     "data": {
      "text/html": [
       "<div class=\"progress\">\n",
       "  <div class=\"progress-bar\" role=\"progressbar\" style=\"background-color: blue; width: 100%; word-wrap: normal; white-space: nowrap; text-align: center; color: white\" aria-valuenow=\"100\" aria-valuemin=\"0\" aria-valuemax=\"100\">\n",
       "    200 / 200\n",
       "  </div>\n",
       "  <div class=\"progress-bar\" role=\"progressbar\" style=\"background-color: red; width: 0%\" aria-valuenow=\"0\" aria-valuemin=\"0\" aria-valuemax=\"100\"></div>\n",
       "</div>\n"
      ]
     },
     "metadata": {},
     "output_type": "display_data"
    },
    {
     "data": {
      "text/html": [
       "<div>\n",
       "  <span style=\"float: left;\">show at cmd14.sc:24</span>\n",
       "</div>\n"
      ]
     },
     "metadata": {},
     "output_type": "display_data"
    },
    {
     "data": {
      "text/html": [
       "<div class=\"progress\">\n",
       "  <div class=\"progress-bar\" role=\"progressbar\" style=\"background-color: blue; width: 100%; word-wrap: normal; white-space: nowrap; text-align: center; color: white\" aria-valuenow=\"100\" aria-valuemin=\"0\" aria-valuemax=\"100\">\n",
       "    17 / 17\n",
       "  </div>\n",
       "  <div class=\"progress-bar\" role=\"progressbar\" style=\"background-color: red; width: 0%\" aria-valuenow=\"0\" aria-valuemin=\"0\" aria-valuemax=\"100\"></div>\n",
       "</div>\n"
      ]
     },
     "metadata": {},
     "output_type": "display_data"
    },
    {
     "data": {
      "text/html": [
       "<div>\n",
       "  <span style=\"float: left;\">show at cmd14.sc:24</span>\n",
       "</div>\n"
      ]
     },
     "metadata": {},
     "output_type": "display_data"
    },
    {
     "data": {
      "text/html": [
       "<div class=\"progress\">\n",
       "  <div class=\"progress-bar\" role=\"progressbar\" style=\"background-color: blue; width: 100%; word-wrap: normal; white-space: nowrap; text-align: center; color: white\" aria-valuenow=\"100\" aria-valuemin=\"0\" aria-valuemax=\"100\">\n",
       "    1 / 1\n",
       "  </div>\n",
       "  <div class=\"progress-bar\" role=\"progressbar\" style=\"background-color: red; width: 0%\" aria-valuenow=\"0\" aria-valuemin=\"0\" aria-valuemax=\"100\"></div>\n",
       "</div>\n"
      ]
     },
     "metadata": {},
     "output_type": "display_data"
    },
    {
     "name": "stdout",
     "output_type": "stream",
     "text": [
      "+--------------------+-----------+--------------+------------------------+\n",
      "|                Tipo|Valor total|Porcentaje (%)|Porcentaje acumulado (%)|\n",
      "+--------------------+-----------+--------------+------------------------+\n",
      "|             Nuclear|     767.26|          20.6|                    20.6|\n",
      "|              Eólica|     741.53|         19.91|                   40.51|\n",
      "|     Ciclo combinado|      562.6|         15.11|                   55.62|\n",
      "|          Hidráulica|     406.05|          10.9|                   66.52|\n",
      "|              Carbón|     388.97|         10.45|                   76.97|\n",
      "|        Cogeneración|     359.68|          9.66|                   86.63|\n",
      "|  Solar fotovoltaica|     218.44|          5.87|                    92.5|\n",
      "|       Solar térmica|      61.92|          1.66|                   94.16|\n",
      "|    Otras renovables|      54.25|          1.46|                   95.62|\n",
      "|  Turbinación bombeo|      43.58|          1.17|                   96.79|\n",
      "|      Motores diésel|      42.18|          1.13|                   97.92|\n",
      "|    Turbina de vapor|      27.96|          0.75|                   98.67|\n",
      "|Residuos no renov...|      27.57|          0.74|                   99.41|\n",
      "| Residuos renovables|      11.02|           0.3|                   99.71|\n",
      "|      Turbina de gas|      10.65|          0.29|                   100.0|\n",
      "|         Hidroeólica|        0.2|          0.01|                  100.01|\n",
      "|          Fuel + Gas|      -0.02|           0.0|                  100.01|\n",
      "+--------------------+-----------+--------------+------------------------+\n",
      "\n"
     ]
    },
    {
     "data": {
      "text/plain": [
       "\u001b[32mimport \u001b[39m\u001b[36morg.apache.spark.sql.expressions.Window\n",
       "\n",
       "\u001b[39m\n",
       "\u001b[36mtotalGlobal\u001b[39m: \u001b[32mDouble\u001b[39m = \u001b[32m3.723835654957E9\u001b[39m\n",
       "\u001b[36mventanaOrdenada\u001b[39m: \u001b[32mexpressions\u001b[39m.\u001b[32mWindowSpec\u001b[39m = org.apache.spark.sql.expressions.WindowSpec@56233e3b\n",
       "\u001b[36mtotalPorTipo\u001b[39m: \u001b[32mDataFrame\u001b[39m = [Tipo: string, Valor total: double ... 2 more fields]"
      ]
     },
     "execution_count": 15,
     "metadata": {},
     "output_type": "execute_result"
    }
   ],
   "source": [
    "import org.apache.spark.sql.expressions.Window\n",
    "\n",
    "val totalGlobal = datosBalance\n",
    "    .filter(!$\"Compuesto\" && $\"Familia\" =!= \"Demanda\")\n",
    "    .agg(sum($\"Valor\").as(\"TotalGlobal\"))\n",
    "    .collect()(0).getAs[Double](\"TotalGlobal\")\n",
    "\n",
    "val ventanaOrdenada = Window.orderBy(desc(\"ValorTotal\"))\n",
    "val totalPorTipo = datosBalance\n",
    "    .filter(!$\"Compuesto\" && $\"Familia\" =!= \"Demanda\")\n",
    "    .groupBy($\"Tipo\")\n",
    "    .agg(sum($\"Valor\").as(\"ValorTotal\"))\n",
    "    .orderBy(desc(\"ValorTotal\"))\n",
    "    .withColumn(\"Porcentaje (%)\", round($\"ValorTotal\" / totalGlobal * 100, 2))\n",
    "    .withColumn(\"Valor total\", round($\"ValorTotal\"/1e6, 2))\n",
    "    .withColumn(\n",
    "        \"Porcentaje acumulado (%)\",\n",
    "        round(sum($\"Porcentaje (%)\").over(ventanaOrdenada), 2))\n",
    "    .select($\"Tipo\", $\"Valor total\", $\"Porcentaje (%)\", $\"Porcentaje acumulado (%)\")\n",
    "    //.withColumn(\"Total\", sum(\"ValorTotal\"))\n",
    "   \n",
    "    //.withColumn(\"PorcentajeSobreTotal\", round($\"Valor\" / $\"TotalGenerado\" * 100,2))\n",
    "    \n",
    "totalPorTipo.show()"
   ]
  },
  {
   "cell_type": "code",
   "execution_count": 22,
   "metadata": {},
   "outputs": [
    {
     "data": {
      "text/html": [
       "<div>\n",
       "  <span style=\"float: left;\">show at cmd21.sc:6</span>\n",
       "</div>\n"
      ]
     },
     "metadata": {},
     "output_type": "display_data"
    },
    {
     "data": {
      "text/html": [
       "<div class=\"progress\">\n",
       "  <div class=\"progress-bar\" role=\"progressbar\" style=\"background-color: blue; width: 100%; word-wrap: normal; white-space: nowrap; text-align: center; color: white\" aria-valuenow=\"100\" aria-valuemin=\"0\" aria-valuemax=\"100\">\n",
       "    15 / 15\n",
       "  </div>\n",
       "  <div class=\"progress-bar\" role=\"progressbar\" style=\"background-color: red; width: 0%\" aria-valuenow=\"0\" aria-valuemin=\"0\" aria-valuemax=\"100\"></div>\n",
       "</div>\n"
      ]
     },
     "metadata": {},
     "output_type": "display_data"
    },
    {
     "data": {
      "text/html": [
       "<div>\n",
       "  <span style=\"float: left;\">show at cmd21.sc:6</span>\n",
       "</div>\n"
      ]
     },
     "metadata": {},
     "output_type": "display_data"
    },
    {
     "data": {
      "text/html": [
       "<div class=\"progress\">\n",
       "  <div class=\"progress-bar\" role=\"progressbar\" style=\"background-color: blue; width: 100%; word-wrap: normal; white-space: nowrap; text-align: center; color: white\" aria-valuenow=\"100\" aria-valuemin=\"0\" aria-valuemax=\"100\">\n",
       "    15 / 15\n",
       "  </div>\n",
       "  <div class=\"progress-bar\" role=\"progressbar\" style=\"background-color: red; width: 0%\" aria-valuenow=\"0\" aria-valuemin=\"0\" aria-valuemax=\"100\"></div>\n",
       "</div>\n"
      ]
     },
     "metadata": {},
     "output_type": "display_data"
    },
    {
     "data": {
      "text/html": [
       "<div>\n",
       "  <span style=\"float: left;\">show at cmd21.sc:6</span>\n",
       "</div>\n"
      ]
     },
     "metadata": {},
     "output_type": "display_data"
    },
    {
     "data": {
      "text/html": [
       "<div class=\"progress\">\n",
       "  <div class=\"progress-bar\" role=\"progressbar\" style=\"background-color: blue; width: 100%; word-wrap: normal; white-space: nowrap; text-align: center; color: white\" aria-valuenow=\"100\" aria-valuemin=\"0\" aria-valuemax=\"100\">\n",
       "    200 / 200\n",
       "  </div>\n",
       "  <div class=\"progress-bar\" role=\"progressbar\" style=\"background-color: red; width: 0%\" aria-valuenow=\"0\" aria-valuemin=\"0\" aria-valuemax=\"100\"></div>\n",
       "</div>\n"
      ]
     },
     "metadata": {},
     "output_type": "display_data"
    },
    {
     "data": {
      "text/html": [
       "<div>\n",
       "  <span style=\"float: left;\">show at cmd21.sc:6</span>\n",
       "</div>\n"
      ]
     },
     "metadata": {},
     "output_type": "display_data"
    },
    {
     "data": {
      "text/html": [
       "<div class=\"progress\">\n",
       "  <div class=\"progress-bar\" role=\"progressbar\" style=\"background-color: blue; width: 100%; word-wrap: normal; white-space: nowrap; text-align: center; color: white\" aria-valuenow=\"100\" aria-valuemin=\"0\" aria-valuemax=\"100\">\n",
       "    1 / 1\n",
       "  </div>\n",
       "  <div class=\"progress-bar\" role=\"progressbar\" style=\"background-color: red; width: 0%\" aria-valuenow=\"0\" aria-valuemin=\"0\" aria-valuemax=\"100\"></div>\n",
       "</div>\n"
      ]
     },
     "metadata": {},
     "output_type": "display_data"
    },
    {
     "name": "stdout",
     "output_type": "stream",
     "text": [
      "+----------+---------------+\n",
      "|  FechaDia|PrecioMercado_€|\n",
      "+----------+---------------+\n",
      "|2014-02-16|          23.01|\n",
      "|2014-02-22|          18.37|\n",
      "|2014-05-27|          49.16|\n",
      "|2014-12-13|          45.95|\n",
      "|2015-05-01|          39.12|\n",
      "|2016-08-17|          43.35|\n",
      "|2017-05-14|          44.21|\n",
      "|2017-12-05|          76.54|\n",
      "|2019-08-08|          47.56|\n",
      "|2019-08-22|          40.97|\n",
      "|2019-08-23|          41.53|\n",
      "|2020-02-26|          31.97|\n",
      "|2020-04-13|          22.52|\n",
      "|2021-11-03|         154.29|\n",
      "|2022-10-05|         162.89|\n",
      "|2023-01-21|          58.89|\n",
      "|2023-05-01|          61.41|\n",
      "|2023-05-18|           52.2|\n",
      "|2024-01-19|          70.87|\n",
      "|2024-07-14|          51.54|\n",
      "+----------+---------------+\n",
      "only showing top 20 rows\n",
      "\n"
     ]
    },
    {
     "data": {
      "text/plain": [
       "\u001b[36mmercadoDiario\u001b[39m: \u001b[32mDataFrame\u001b[39m = [FechaDia: string, PrecioMercado_€: double]"
      ]
     },
     "execution_count": 22,
     "metadata": {},
     "output_type": "execute_result"
    }
   ],
   "source": [
    "val mercadoDiario = dfMercados\n",
    "            .groupBy(date_format(col(\"Fecha\"),\"yyyy-MM-dd\").as(\"FechaDia\"))\n",
    "            .agg(avg(\"Valor_Mercado_Spot\").as(\"ValorMercadoSpot\"))\n",
    "            .withColumn(\"PrecioMercado_€\", round(col(\"ValorMercadoSpot\"), 2))\n",
    "            .drop(\"ValorMercadoSpot\")\n",
    "mercadoDiario.show()"
   ]
  },
  {
   "cell_type": "code",
   "execution_count": 23,
   "metadata": {},
   "outputs": [
    {
     "data": {
      "text/html": [
       "<div>\n",
       "  <span style=\"float: left;\">collect at cmd22.sc:10</span>\n",
       "</div>\n"
      ]
     },
     "metadata": {},
     "output_type": "display_data"
    },
    {
     "data": {
      "text/html": [
       "<div class=\"progress\">\n",
       "  <div class=\"progress-bar\" role=\"progressbar\" style=\"background-color: blue; width: 100%; word-wrap: normal; white-space: nowrap; text-align: center; color: white\" aria-valuenow=\"100\" aria-valuemin=\"0\" aria-valuemax=\"100\">\n",
       "    15 / 15\n",
       "  </div>\n",
       "  <div class=\"progress-bar\" role=\"progressbar\" style=\"background-color: red; width: 0%\" aria-valuenow=\"0\" aria-valuemin=\"0\" aria-valuemax=\"100\"></div>\n",
       "</div>\n"
      ]
     },
     "metadata": {},
     "output_type": "display_data"
    },
    {
     "data": {
      "text/html": [
       "<div>\n",
       "  <span style=\"float: left;\">collect at cmd22.sc:10</span>\n",
       "</div>\n"
      ]
     },
     "metadata": {},
     "output_type": "display_data"
    },
    {
     "data": {
      "text/html": [
       "<div class=\"progress\">\n",
       "  <div class=\"progress-bar\" role=\"progressbar\" style=\"background-color: blue; width: 100%; word-wrap: normal; white-space: nowrap; text-align: center; color: white\" aria-valuenow=\"100\" aria-valuemin=\"0\" aria-valuemax=\"100\">\n",
       "    200 / 200\n",
       "  </div>\n",
       "  <div class=\"progress-bar\" role=\"progressbar\" style=\"background-color: red; width: 0%\" aria-valuenow=\"0\" aria-valuemin=\"0\" aria-valuemax=\"100\"></div>\n",
       "</div>\n"
      ]
     },
     "metadata": {},
     "output_type": "display_data"
    },
    {
     "data": {
      "text/plain": [
       "\u001b[36mtop7Energias\u001b[39m: \u001b[32mSeq\u001b[39m[\u001b[32mString\u001b[39m] = \u001b[33mWrappedArray\u001b[39m(\n",
       "  \u001b[32m\"Nuclear\"\u001b[39m,\n",
       "  \u001b[32m\"E\\u00f3lica\"\u001b[39m,\n",
       "  \u001b[32m\"Ciclo combinado\"\u001b[39m,\n",
       "  \u001b[32m\"Hidr\\u00e1ulica\"\u001b[39m,\n",
       "  \u001b[32m\"Carb\\u00f3n\"\u001b[39m,\n",
       "  \u001b[32m\"Cogeneraci\\u00f3n\"\u001b[39m,\n",
       "  \u001b[32m\"Solar fotovoltaica\"\u001b[39m\n",
       ")"
      ]
     },
     "execution_count": 23,
     "metadata": {},
     "output_type": "execute_result"
    }
   ],
   "source": [
    "val top7Energias = datosBalance\n",
    "            .filter($\"Compuesto\" === false)\n",
    "            .filter($\"Familia\" =!= \"Demanda\")\n",
    "            .groupBy($\"Tipo\")\n",
    "            .agg(sum($\"Valor\").as(\"ValorTotal\"))\n",
    "            .withColumn(\"Valor total millones MWh\", round(col(\"ValorTotal\") / 1e6, 2))\n",
    "            .orderBy(desc(\"Valor total millones MWh\"))\n",
    "            .limit(7)\n",
    "            .select($\"Tipo\")\n",
    "            .as[String]\n",
    "            .collect\n",
    "            .toSeq "
   ]
  },
  {
   "cell_type": "code",
   "execution_count": 30,
   "metadata": {},
   "outputs": [
    {
     "data": {
      "text/html": [
       "<div>\n",
       "  <span style=\"float: left;\">show at cmd29.sc:13</span>\n",
       "</div>\n"
      ]
     },
     "metadata": {},
     "output_type": "display_data"
    },
    {
     "data": {
      "text/html": [
       "<div class=\"progress\">\n",
       "  <div class=\"progress-bar\" role=\"progressbar\" style=\"background-color: blue; width: 100%; word-wrap: normal; white-space: nowrap; text-align: center; color: white\" aria-valuenow=\"100\" aria-valuemin=\"0\" aria-valuemax=\"100\">\n",
       "    15 / 15\n",
       "  </div>\n",
       "  <div class=\"progress-bar\" role=\"progressbar\" style=\"background-color: red; width: 0%\" aria-valuenow=\"0\" aria-valuemin=\"0\" aria-valuemax=\"100\"></div>\n",
       "</div>\n"
      ]
     },
     "metadata": {},
     "output_type": "display_data"
    },
    {
     "data": {
      "text/html": [
       "<div>\n",
       "  <span style=\"float: left;\">show at cmd29.sc:13</span>\n",
       "</div>\n"
      ]
     },
     "metadata": {},
     "output_type": "display_data"
    },
    {
     "data": {
      "text/html": [
       "<div class=\"progress\">\n",
       "  <div class=\"progress-bar\" role=\"progressbar\" style=\"background-color: blue; width: 100%; word-wrap: normal; white-space: nowrap; text-align: center; color: white\" aria-valuenow=\"100\" aria-valuemin=\"0\" aria-valuemax=\"100\">\n",
       "    1 / 1\n",
       "  </div>\n",
       "  <div class=\"progress-bar\" role=\"progressbar\" style=\"background-color: red; width: 0%\" aria-valuenow=\"0\" aria-valuemin=\"0\" aria-valuemax=\"100\"></div>\n",
       "</div>\n"
      ]
     },
     "metadata": {},
     "output_type": "display_data"
    },
    {
     "name": "stdout",
     "output_type": "stream",
     "text": [
      "+----------+------------------+------------+----------+-----------------------+\n",
      "|  FechaDia|              Tipo|     Familia|     Valor|PorcentajeRespectoTotal|\n",
      "+----------+------------------+------------+----------+-----------------------+\n",
      "|2011-01-29|        Hidráulica|   Renovable|150659.269|                  19.88|\n",
      "|2011-01-29|            Eólica|   Renovable| 81389.835|                  10.74|\n",
      "|2011-01-29|Solar fotovoltaica|   Renovable|  9929.075|                   1.31|\n",
      "|2011-01-29|           Nuclear|No-Renovable|140675.006|                  18.56|\n",
      "|2011-01-29|   Ciclo combinado|No-Renovable| 228301.66|                  30.13|\n",
      "|2011-01-29|            Carbón|No-Renovable| 68850.485|                   9.09|\n",
      "|2011-01-29|      Cogeneración|No-Renovable| 77940.386|                  10.29|\n",
      "|2013-03-14|        Hidráulica|   Renovable|167466.941|                  20.76|\n",
      "|2013-03-14|            Eólica|   Renovable|237151.152|                   29.4|\n",
      "|2013-03-14|Solar fotovoltaica|   Renovable|  29023.18|                    3.6|\n",
      "|2013-03-14|           Nuclear|No-Renovable|170571.361|                  21.15|\n",
      "|2013-03-14|   Ciclo combinado|No-Renovable| 65291.804|                   8.09|\n",
      "|2013-03-14|            Carbón|No-Renovable|  37027.26|                   4.59|\n",
      "|2013-03-14|      Cogeneración|No-Renovable|100106.852|                  12.41|\n",
      "|2014-02-16|        Hidráulica|   Renovable|235188.511|                  37.55|\n",
      "|2014-02-16|            Eólica|   Renovable| 68173.549|                  10.88|\n",
      "|2014-02-16|Solar fotovoltaica|   Renovable| 16820.627|                   2.69|\n",
      "|2014-02-16|           Nuclear|No-Renovable|171152.861|                  27.32|\n",
      "|2014-02-16|   Ciclo combinado|No-Renovable| 55033.705|                   8.79|\n",
      "|2014-02-16|            Carbón|No-Renovable| 27920.502|                   4.46|\n",
      "+----------+------------------+------------+----------+-----------------------+\n",
      "only showing top 20 rows\n",
      "\n"
     ]
    },
    {
     "data": {
      "text/plain": [
       "\u001b[36mdfBalanceFiltrado\u001b[39m: \u001b[32mDataFrame\u001b[39m = [Familia: string, Tipo: string ... 6 more fields]\n",
       "\u001b[36mwindowTotal\u001b[39m: \u001b[32mexpressions\u001b[39m.\u001b[32mWindowSpec\u001b[39m = org.apache.spark.sql.expressions.WindowSpec@42751310\n",
       "\u001b[36mdfBalanceConPorcentajeTotal\u001b[39m: \u001b[32mDataFrame\u001b[39m = [FechaDia: string, Tipo: string ... 3 more fields]"
      ]
     },
     "execution_count": 30,
     "metadata": {},
     "output_type": "execute_result"
    }
   ],
   "source": [
    "val dfBalanceFiltrado = datosBalance \n",
    "            .filter($\"Tipo\".isin(top7Energias: _*))\n",
    "            .withColumn(\"FechaDia\", date_format(col(\"Fecha\"), \"yyyy-MM-dd\")) // Extraer solo la parte del día\n",
    "\n",
    "// // Calcular el porcentaje diario de cada tipo de energía\n",
    "val windowTotal = Window.partitionBy(\"FechaDia\") // Ventana para agrupar por día\n",
    "\n",
    "val dfBalanceConPorcentajeTotal = dfBalanceFiltrado\n",
    "    .withColumn(\"GeneracionTotalDiaria\", sum(\"Valor\").over(windowTotal)) // Total de generación por cada día\n",
    "    .withColumn(\"PorcentajeRespectoTotal\", round((col(\"Valor\") / col(\"GeneracionTotalDiaria\")) * 100, 2)) //Calcular porcentaje\n",
    "    .select(\"FechaDia\", \"Tipo\", \"Familia\", \"Valor\", \"PorcentajeRespectoTotal\") //Selectiono las columnas relevantes\n",
    "\n",
    "dfBalanceConPorcentajeTotal.show()"
   ]
  },
  {
   "cell_type": "code",
   "execution_count": 28,
   "metadata": {},
   "outputs": [
    {
     "data": {
      "text/html": [
       "<div>\n",
       "  <span style=\"float: left;\">pivot at cmd27.sc:3</span>\n",
       "</div>\n"
      ]
     },
     "metadata": {},
     "output_type": "display_data"
    },
    {
     "data": {
      "text/html": [
       "<div class=\"progress\">\n",
       "  <div class=\"progress-bar\" role=\"progressbar\" style=\"background-color: blue; width: 100%; word-wrap: normal; white-space: nowrap; text-align: center; color: white\" aria-valuenow=\"100\" aria-valuemin=\"0\" aria-valuemax=\"100\">\n",
       "    15 / 15\n",
       "  </div>\n",
       "  <div class=\"progress-bar\" role=\"progressbar\" style=\"background-color: red; width: 0%\" aria-valuenow=\"0\" aria-valuemin=\"0\" aria-valuemax=\"100\"></div>\n",
       "</div>\n"
      ]
     },
     "metadata": {},
     "output_type": "display_data"
    },
    {
     "data": {
      "text/html": [
       "<div>\n",
       "  <span style=\"float: left;\">pivot at cmd27.sc:3</span>\n",
       "</div>\n"
      ]
     },
     "metadata": {},
     "output_type": "display_data"
    },
    {
     "data": {
      "text/html": [
       "<div class=\"progress\">\n",
       "  <div class=\"progress-bar\" role=\"progressbar\" style=\"background-color: blue; width: 100%; word-wrap: normal; white-space: nowrap; text-align: center; color: white\" aria-valuenow=\"100\" aria-valuemin=\"0\" aria-valuemax=\"100\">\n",
       "    200 / 200\n",
       "  </div>\n",
       "  <div class=\"progress-bar\" role=\"progressbar\" style=\"background-color: red; width: 0%\" aria-valuenow=\"0\" aria-valuemin=\"0\" aria-valuemax=\"100\"></div>\n",
       "</div>\n"
      ]
     },
     "metadata": {},
     "output_type": "display_data"
    },
    {
     "data": {
      "text/html": [
       "<div>\n",
       "  <span style=\"float: left;\">pivot at cmd27.sc:3</span>\n",
       "</div>\n"
      ]
     },
     "metadata": {},
     "output_type": "display_data"
    },
    {
     "data": {
      "text/html": [
       "<div class=\"progress\">\n",
       "  <div class=\"progress-bar\" role=\"progressbar\" style=\"background-color: blue; width: 100%; word-wrap: normal; white-space: nowrap; text-align: center; color: white\" aria-valuenow=\"100\" aria-valuemin=\"0\" aria-valuemax=\"100\">\n",
       "    1 / 1\n",
       "  </div>\n",
       "  <div class=\"progress-bar\" role=\"progressbar\" style=\"background-color: red; width: 0%\" aria-valuenow=\"0\" aria-valuemin=\"0\" aria-valuemax=\"100\"></div>\n",
       "</div>\n"
      ]
     },
     "metadata": {},
     "output_type": "display_data"
    },
    {
     "data": {
      "text/html": [
       "<div>\n",
       "  <span style=\"float: left;\">show at cmd27.sc:5</span>\n",
       "</div>\n"
      ]
     },
     "metadata": {},
     "output_type": "display_data"
    },
    {
     "data": {
      "text/html": [
       "<div class=\"progress\">\n",
       "  <div class=\"progress-bar\" role=\"progressbar\" style=\"background-color: blue; width: 100%; word-wrap: normal; white-space: nowrap; text-align: center; color: white\" aria-valuenow=\"100\" aria-valuemin=\"0\" aria-valuemax=\"100\">\n",
       "    15 / 15\n",
       "  </div>\n",
       "  <div class=\"progress-bar\" role=\"progressbar\" style=\"background-color: red; width: 0%\" aria-valuenow=\"0\" aria-valuemin=\"0\" aria-valuemax=\"100\"></div>\n",
       "</div>\n"
      ]
     },
     "metadata": {},
     "output_type": "display_data"
    },
    {
     "data": {
      "text/html": [
       "<div>\n",
       "  <span style=\"float: left;\">show at cmd27.sc:5</span>\n",
       "</div>\n"
      ]
     },
     "metadata": {},
     "output_type": "display_data"
    },
    {
     "data": {
      "text/html": [
       "<div class=\"progress\">\n",
       "  <div class=\"progress-bar\" role=\"progressbar\" style=\"background-color: blue; width: 100%; word-wrap: normal; white-space: nowrap; text-align: center; color: white\" aria-valuenow=\"100\" aria-valuemin=\"0\" aria-valuemax=\"100\">\n",
       "    1 / 1\n",
       "  </div>\n",
       "  <div class=\"progress-bar\" role=\"progressbar\" style=\"background-color: red; width: 0%\" aria-valuenow=\"0\" aria-valuemin=\"0\" aria-valuemax=\"100\"></div>\n",
       "</div>\n"
      ]
     },
     "metadata": {},
     "output_type": "display_data"
    },
    {
     "name": "stdout",
     "output_type": "stream",
     "text": [
      "+----------+--------+----------+-----------------+-------------------+--------------+----------------+--------+----------+------------+--------------+---------+-----------+--------------------+----------------------+\n",
      "|  FechaDia|Carbón_%|Carbón_MWh|Ciclo combinado_%|Ciclo combinado_MWh|Cogeneración_%|Cogeneración_MWh|Eólica_%|Eólica_MWh|Hidráulica_%|Hidráulica_MWh|Nuclear_%|Nuclear_MWh|Solar fotovoltaica_%|Solar fotovoltaica_MWh|\n",
      "+----------+--------+----------+-----------------+-------------------+--------------+----------------+--------+----------+------------+--------------+---------+-----------+--------------------+----------------------+\n",
      "|2011-01-29|    9.09| 68850.485|            30.13|          228301.66|         10.29|       77940.386|   10.74| 81389.835|       19.88|    150659.269|    18.56| 140675.006|                1.31|              9929.075|\n",
      "|2013-03-14|    4.59|  37027.26|             8.09|          65291.804|         12.41|      100106.852|    29.4|237151.152|       20.76|    167466.941|    21.15| 170571.361|                 3.6|              29023.18|\n",
      "|2014-02-16|    4.46| 27920.502|             8.79|          55033.705|          8.32|       52104.606|   10.88| 68173.549|       37.55|    235188.511|    27.32| 171152.861|                2.69|             16820.627|\n",
      "|2014-02-22|    4.09| 27664.697|              6.1|          41286.869|          7.94|       53753.717|   21.74|147221.996|       31.28|     211822.81|    25.26| 171039.058|                 3.6|             24388.962|\n",
      "|2014-05-27|   28.85|192538.263|             7.41|          49441.543|          10.4|       69388.315|   18.37|122554.358|        13.6|     90728.549|    18.24|  121745.59|                3.13|             20903.096|\n",
      "|2014-12-13|   19.33|135139.316|             8.21|          57383.908|          9.25|        64627.95|   27.66|193319.156|       13.59|     94969.614|    20.85| 145704.097|                1.12|              7802.997|\n",
      "|2015-05-01|   11.77| 65636.001|            13.89|          77465.556|         10.59|        59092.16|   28.62|159639.843|       13.21|     73700.846|    16.85|  94012.106|                5.07|             28273.968|\n",
      "|2016-08-17|    22.7|146257.664|            14.76|          95065.188|         10.78|       69466.766|    10.0| 64415.619|       11.25|     72468.377|    25.83| 166430.527|                4.68|             30134.516|\n",
      "|2017-05-14|   23.49|131638.711|             12.2|          68372.223|         13.29|         74451.5|   12.58| 70521.667|        11.5|     64428.537|     21.7| 121616.623|                5.24|             29347.402|\n",
      "|2017-12-05|   22.25|187157.322|            35.78|         300943.264|         10.41|       87565.457|    7.07| 59498.154|        5.01|     42111.416|    17.14|  144179.66|                2.33|             19572.404|\n",
      "|2019-08-08|    3.66| 27240.255|            27.39|         203681.685|          10.5|        78068.29|   26.92|200148.942|        5.24|     38927.905|    21.96| 163280.073|                4.33|             32206.551|\n",
      "|2019-08-22|    2.17| 14613.418|            36.78|         247790.412|         11.48|       77370.242|   13.09| 88207.708|        6.35|      42800.86|    24.77| 166850.097|                5.36|             36088.935|\n",
      "|2019-08-23|    2.25| 14224.941|            37.47|         236924.766|         11.73|       74161.006|   11.09| 70130.836|        5.52|      34918.22|    26.37| 166725.828|                5.57|             35252.467|\n",
      "|2020-02-26|    3.61| 25668.771|              9.3|          66186.799|         10.63|        75631.69|   34.04|242230.001|       12.17|     86598.329|    23.97| 170592.256|                6.27|             44640.043|\n",
      "|2020-04-13|    1.35|  6908.854|            13.36|          68288.051|         13.16|       67275.258|   19.37| 99032.495|       15.54|     79429.507|    30.37| 155290.184|                6.85|             35043.993|\n",
      "|2021-11-03|    2.39| 17159.977|            22.91|         164803.866|         10.07|       72444.884|   33.39|240229.333|        4.75|     34179.654|    19.81| 142537.618|                6.69|             48105.043|\n",
      "|2022-10-05|    2.57| 18982.002|            36.06|         265886.212|          5.56|       40988.703|   23.13|170577.908|        2.36|     17394.309|    19.43| 143251.124|               10.89|             80312.204|\n",
      "|2023-01-21|    0.94|  6666.731|             8.01|          57126.089|          5.12|       36515.785|   38.45|274156.087|       15.13|     107838.09|    23.87| 170194.031|                8.48|             60460.119|\n",
      "|2023-05-01|    1.89| 11716.695|            22.97|         142110.962|          8.98|       55553.915|   15.74| 97424.079|        8.74|     54063.366|    19.62|  121420.83|               22.06|            136501.263|\n",
      "|2023-05-18|    1.02|  7113.187|            10.13|          70919.543|          7.58|       53057.114|   39.96|279714.487|        5.64|     39449.075|    17.13|  119930.95|               18.54|            129791.207|\n",
      "+----------+--------+----------+-----------------+-------------------+--------------+----------------+--------+----------+------------+--------------+---------+-----------+--------------------+----------------------+\n",
      "only showing top 20 rows\n",
      "\n"
     ]
    },
    {
     "data": {
      "text/plain": [
       "\u001b[36mdfBalancePivotadoTipo\u001b[39m: \u001b[32mDataFrame\u001b[39m = [FechaDia: string, Carbón_%: double ... 13 more fields]"
      ]
     },
     "execution_count": 28,
     "metadata": {},
     "output_type": "execute_result"
    }
   ],
   "source": [
    "val dfBalancePivotadoTipo = dfBalanceConPorcentajeTotal\n",
    "    .groupBy(\"FechaDia\")\n",
    "    .pivot(\"Tipo\")\n",
    "    .agg(first(\"PorcentajeRespectoTotal\").as(\"%\"), first(\"Valor\").as(\"MWh\"))\n",
    "\n",
    "dfBalancePivotadoTipo.show()"
   ]
  },
  {
   "cell_type": "code",
   "execution_count": 31,
   "metadata": {},
   "outputs": [
    {
     "data": {
      "text/plain": [
       "\u001b[36munionMercadosBalance\u001b[39m: \u001b[32mDataFrame\u001b[39m = [FechaDia: string, PrecioMercado_€: double ... 14 more fields]"
      ]
     },
     "execution_count": 31,
     "metadata": {},
     "output_type": "execute_result"
    }
   ],
   "source": [
    "val unionMercadosBalance = mercadoDiario.join(dfBalancePivotadoTipo, Seq(\"FechaDia\"), \"inner\")"
   ]
  },
  {
   "cell_type": "code",
   "execution_count": 32,
   "metadata": {},
   "outputs": [
    {
     "data": {
      "text/html": [
       "<div>\n",
       "  <span style=\"float: left;\">run at ThreadPoolExecutor.java:1149</span>\n",
       "</div>\n"
      ]
     },
     "metadata": {},
     "output_type": "display_data"
    },
    {
     "data": {
      "text/html": [
       "<div class=\"progress\">\n",
       "  <div class=\"progress-bar\" role=\"progressbar\" style=\"background-color: blue; width: 100%; word-wrap: normal; white-space: nowrap; text-align: center; color: white\" aria-valuenow=\"100\" aria-valuemin=\"0\" aria-valuemax=\"100\">\n",
       "    15 / 15\n",
       "  </div>\n",
       "  <div class=\"progress-bar\" role=\"progressbar\" style=\"background-color: red; width: 0%\" aria-valuenow=\"0\" aria-valuemin=\"0\" aria-valuemax=\"100\"></div>\n",
       "</div>\n"
      ]
     },
     "metadata": {},
     "output_type": "display_data"
    },
    {
     "data": {
      "text/html": [
       "<div>\n",
       "  <span style=\"float: left;\">run at ThreadPoolExecutor.java:1149</span>\n",
       "</div>\n"
      ]
     },
     "metadata": {},
     "output_type": "display_data"
    },
    {
     "data": {
      "text/html": [
       "<div class=\"progress\">\n",
       "  <div class=\"progress-bar\" role=\"progressbar\" style=\"background-color: blue; width: 100%; word-wrap: normal; white-space: nowrap; text-align: center; color: white\" aria-valuenow=\"100\" aria-valuemin=\"0\" aria-valuemax=\"100\">\n",
       "    15 / 15\n",
       "  </div>\n",
       "  <div class=\"progress-bar\" role=\"progressbar\" style=\"background-color: red; width: 0%\" aria-valuenow=\"0\" aria-valuemin=\"0\" aria-valuemax=\"100\"></div>\n",
       "</div>\n"
      ]
     },
     "metadata": {},
     "output_type": "display_data"
    },
    {
     "data": {
      "text/html": [
       "<div>\n",
       "  <span style=\"float: left;\">run at ThreadPoolExecutor.java:1149</span>\n",
       "</div>\n"
      ]
     },
     "metadata": {},
     "output_type": "display_data"
    },
    {
     "data": {
      "text/html": [
       "<div class=\"progress\">\n",
       "  <div class=\"progress-bar\" role=\"progressbar\" style=\"background-color: blue; width: 100%; word-wrap: normal; white-space: nowrap; text-align: center; color: white\" aria-valuenow=\"100\" aria-valuemin=\"0\" aria-valuemax=\"100\">\n",
       "    200 / 200\n",
       "  </div>\n",
       "  <div class=\"progress-bar\" role=\"progressbar\" style=\"background-color: red; width: 0%\" aria-valuenow=\"0\" aria-valuemin=\"0\" aria-valuemax=\"100\"></div>\n",
       "</div>\n"
      ]
     },
     "metadata": {},
     "output_type": "display_data"
    },
    {
     "data": {
      "text/html": [
       "<div>\n",
       "  <span style=\"float: left;\">run at ThreadPoolExecutor.java:1149</span>\n",
       "</div>\n"
      ]
     },
     "metadata": {},
     "output_type": "display_data"
    },
    {
     "data": {
      "text/html": [
       "<div class=\"progress\">\n",
       "  <div class=\"progress-bar\" role=\"progressbar\" style=\"background-color: blue; width: 100%; word-wrap: normal; white-space: nowrap; text-align: center; color: white\" aria-valuenow=\"100\" aria-valuemin=\"0\" aria-valuemax=\"100\">\n",
       "    200 / 200\n",
       "  </div>\n",
       "  <div class=\"progress-bar\" role=\"progressbar\" style=\"background-color: red; width: 0%\" aria-valuenow=\"0\" aria-valuemin=\"0\" aria-valuemax=\"100\"></div>\n",
       "</div>\n"
      ]
     },
     "metadata": {},
     "output_type": "display_data"
    },
    {
     "data": {
      "text/html": [
       "<div>\n",
       "  <span style=\"float: left;\">show at cmd31.sc:1</span>\n",
       "</div>\n"
      ]
     },
     "metadata": {},
     "output_type": "display_data"
    },
    {
     "data": {
      "text/html": [
       "<div class=\"progress\">\n",
       "  <div class=\"progress-bar\" role=\"progressbar\" style=\"background-color: blue; width: 100%; word-wrap: normal; white-space: nowrap; text-align: center; color: white\" aria-valuenow=\"100\" aria-valuemin=\"0\" aria-valuemax=\"100\">\n",
       "    15 / 15\n",
       "  </div>\n",
       "  <div class=\"progress-bar\" role=\"progressbar\" style=\"background-color: red; width: 0%\" aria-valuenow=\"0\" aria-valuemin=\"0\" aria-valuemax=\"100\"></div>\n",
       "</div>\n"
      ]
     },
     "metadata": {},
     "output_type": "display_data"
    },
    {
     "data": {
      "text/html": [
       "<div>\n",
       "  <span style=\"float: left;\">show at cmd31.sc:1</span>\n",
       "</div>\n"
      ]
     },
     "metadata": {},
     "output_type": "display_data"
    },
    {
     "data": {
      "text/html": [
       "<div class=\"progress\">\n",
       "  <div class=\"progress-bar\" role=\"progressbar\" style=\"background-color: blue; width: 100%; word-wrap: normal; white-space: nowrap; text-align: center; color: white\" aria-valuenow=\"100\" aria-valuemin=\"0\" aria-valuemax=\"100\">\n",
       "    1 / 1\n",
       "  </div>\n",
       "  <div class=\"progress-bar\" role=\"progressbar\" style=\"background-color: red; width: 0%\" aria-valuenow=\"0\" aria-valuemin=\"0\" aria-valuemax=\"100\"></div>\n",
       "</div>\n"
      ]
     },
     "metadata": {},
     "output_type": "display_data"
    },
    {
     "name": "stdout",
     "output_type": "stream",
     "text": [
      "+----------+---------------+--------+----------+-----------------+-------------------+--------------+----------------+--------+----------+------------+--------------+---------+-----------+--------------------+----------------------+\n",
      "|  FechaDia|PrecioMercado_€|Carbón_%|Carbón_MWh|Ciclo combinado_%|Ciclo combinado_MWh|Cogeneración_%|Cogeneración_MWh|Eólica_%|Eólica_MWh|Hidráulica_%|Hidráulica_MWh|Nuclear_%|Nuclear_MWh|Solar fotovoltaica_%|Solar fotovoltaica_MWh|\n",
      "+----------+---------------+--------+----------+-----------------+-------------------+--------------+----------------+--------+----------+------------+--------------+---------+-----------+--------------------+----------------------+\n",
      "|2014-02-16|          23.01|    4.46| 27920.502|             8.79|          55033.705|          8.32|       52104.606|   10.88| 68173.549|       37.55|    235188.511|    27.32| 171152.861|                2.69|             16820.627|\n",
      "|2014-02-22|          18.37|    4.09| 27664.697|              6.1|          41286.869|          7.94|       53753.717|   21.74|147221.996|       31.28|     211822.81|    25.26| 171039.058|                 3.6|             24388.962|\n",
      "|2014-05-27|          49.16|   28.85|192538.263|             7.41|          49441.543|          10.4|       69388.315|   18.37|122554.358|        13.6|     90728.549|    18.24|  121745.59|                3.13|             20903.096|\n",
      "|2014-12-13|          45.95|   19.33|135139.316|             8.21|          57383.908|          9.25|        64627.95|   27.66|193319.156|       13.59|     94969.614|    20.85| 145704.097|                1.12|              7802.997|\n",
      "|2015-05-01|          39.12|   11.77| 65636.001|            13.89|          77465.556|         10.59|        59092.16|   28.62|159639.843|       13.21|     73700.846|    16.85|  94012.106|                5.07|             28273.968|\n",
      "|2016-08-17|          43.35|    22.7|146257.664|            14.76|          95065.188|         10.78|       69466.766|    10.0| 64415.619|       11.25|     72468.377|    25.83| 166430.527|                4.68|             30134.516|\n",
      "|2017-05-14|          44.21|   23.49|131638.711|             12.2|          68372.223|         13.29|         74451.5|   12.58| 70521.667|        11.5|     64428.537|     21.7| 121616.623|                5.24|             29347.402|\n",
      "|2017-12-05|          76.54|   22.25|187157.322|            35.78|         300943.264|         10.41|       87565.457|    7.07| 59498.154|        5.01|     42111.416|    17.14|  144179.66|                2.33|             19572.404|\n",
      "|2019-08-08|          47.56|    3.66| 27240.255|            27.39|         203681.685|          10.5|        78068.29|   26.92|200148.942|        5.24|     38927.905|    21.96| 163280.073|                4.33|             32206.551|\n",
      "|2019-08-22|          40.97|    2.17| 14613.418|            36.78|         247790.412|         11.48|       77370.242|   13.09| 88207.708|        6.35|      42800.86|    24.77| 166850.097|                5.36|             36088.935|\n",
      "|2019-08-23|          41.53|    2.25| 14224.941|            37.47|         236924.766|         11.73|       74161.006|   11.09| 70130.836|        5.52|      34918.22|    26.37| 166725.828|                5.57|             35252.467|\n",
      "|2020-02-26|          31.97|    3.61| 25668.771|              9.3|          66186.799|         10.63|        75631.69|   34.04|242230.001|       12.17|     86598.329|    23.97| 170592.256|                6.27|             44640.043|\n",
      "|2020-04-13|          22.52|    1.35|  6908.854|            13.36|          68288.051|         13.16|       67275.258|   19.37| 99032.495|       15.54|     79429.507|    30.37| 155290.184|                6.85|             35043.993|\n",
      "|2021-11-03|         154.29|    2.39| 17159.977|            22.91|         164803.866|         10.07|       72444.884|   33.39|240229.333|        4.75|     34179.654|    19.81| 142537.618|                6.69|             48105.043|\n",
      "|2022-10-05|         162.89|    2.57| 18982.002|            36.06|         265886.212|          5.56|       40988.703|   23.13|170577.908|        2.36|     17394.309|    19.43| 143251.124|               10.89|             80312.204|\n",
      "|2023-01-21|          58.89|    0.94|  6666.731|             8.01|          57126.089|          5.12|       36515.785|   38.45|274156.087|       15.13|     107838.09|    23.87| 170194.031|                8.48|             60460.119|\n",
      "|2023-05-01|          61.41|    1.89| 11716.695|            22.97|         142110.962|          8.98|       55553.915|   15.74| 97424.079|        8.74|     54063.366|    19.62|  121420.83|               22.06|            136501.263|\n",
      "|2023-05-18|           52.2|    1.02|  7113.187|            10.13|          70919.543|          7.58|       53057.114|   39.96|279714.487|        5.64|     39449.075|    17.13|  119930.95|               18.54|            129791.207|\n",
      "|2024-01-19|          70.87|    1.04|  7713.877|             8.72|          65008.695|          7.99|       59551.121|   38.69|288302.159|       18.36|    136816.953|    22.24| 165723.946|                2.97|             22114.409|\n",
      "|2024-07-14|          51.54|    0.91|  6719.924|            11.84|          87250.215|          6.03|       44409.359|   26.78|197367.964|        7.66|     56442.578|    21.51| 158508.726|               25.29|            186375.208|\n",
      "+----------+---------------+--------+----------+-----------------+-------------------+--------------+----------------+--------+----------+------------+--------------+---------+-----------+--------------------+----------------------+\n",
      "only showing top 20 rows\n",
      "\n"
     ]
    }
   ],
   "source": [
    "unionMercadosBalance.show()"
   ]
  },
  {
   "cell_type": "code",
   "execution_count": 33,
   "metadata": {},
   "outputs": [
    {
     "data": {
      "text/html": [
       "<div>\n",
       "  <span style=\"float: left;\">parquet at cmd32.sc:9</span>\n",
       "</div>\n"
      ]
     },
     "metadata": {},
     "output_type": "display_data"
    },
    {
     "data": {
      "text/html": [
       "<div class=\"progress\">\n",
       "  <div class=\"progress-bar\" role=\"progressbar\" style=\"background-color: blue; width: 100%; word-wrap: normal; white-space: nowrap; text-align: center; color: white\" aria-valuenow=\"100\" aria-valuemin=\"0\" aria-valuemax=\"100\">\n",
       "    1 / 1\n",
       "  </div>\n",
       "  <div class=\"progress-bar\" role=\"progressbar\" style=\"background-color: red; width: 0%\" aria-valuenow=\"0\" aria-valuemin=\"0\" aria-valuemax=\"100\"></div>\n",
       "</div>\n"
      ]
     },
     "metadata": {},
     "output_type": "display_data"
    },
    {
     "data": {
      "text/plain": [
       "\u001b[36mpathDatosConsulta2\u001b[39m: \u001b[32mString\u001b[39m = \u001b[32m\"../../data/parquet/DatosConsulta2.parquet\"\u001b[39m\n",
       "\u001b[36mdatosConsulta2\u001b[39m: \u001b[32mDataFrame\u001b[39m = [FechaDia: string, PrecioMercado: double ... 14 more fields]"
      ]
     },
     "execution_count": 33,
     "metadata": {},
     "output_type": "execute_result"
    }
   ],
   "source": [
    "val pathDatosConsulta2 = \"../../data/parquet/DatosConsulta2.parquet\"\n",
    "\n",
    "\n",
    "val datosConsulta2: DataFrame = spark.read\n",
    "  //.option(\"header\", \"true\") // Si el archivo tiene un encabezado\n",
    "  //.option(\"inferSchema\", \"true\") // Para inferir automáticamente el esquema\n",
    "  //.csv(filePath)\n",
    "    .option(\"encoding\", \"UTF-8\")\n",
    "    .parquet(pathDatosConsulta2)"
   ]
  },
  {
   "cell_type": "code",
   "execution_count": 34,
   "metadata": {},
   "outputs": [
    {
     "data": {
      "text/html": [
       "<div>\n",
       "  <span style=\"float: left;\">show at cmd33.sc:1</span>\n",
       "</div>\n"
      ]
     },
     "metadata": {},
     "output_type": "display_data"
    },
    {
     "data": {
      "text/html": [
       "<div class=\"progress\">\n",
       "  <div class=\"progress-bar\" role=\"progressbar\" style=\"background-color: blue; width: 100%; word-wrap: normal; white-space: nowrap; text-align: center; color: white\" aria-valuenow=\"100\" aria-valuemin=\"0\" aria-valuemax=\"100\">\n",
       "    1 / 1\n",
       "  </div>\n",
       "  <div class=\"progress-bar\" role=\"progressbar\" style=\"background-color: red; width: 0%\" aria-valuenow=\"0\" aria-valuemin=\"0\" aria-valuemax=\"100\"></div>\n",
       "</div>\n"
      ]
     },
     "metadata": {},
     "output_type": "display_data"
    },
    {
     "name": "stdout",
     "output_type": "stream",
     "text": [
      "+----------+-------------+--------+----------+-----------------+-------------------+--------------+----------------+--------+----------+------------+--------------+---------+-----------+--------------------+----------------------+\n",
      "|  FechaDia|PrecioMercado|Carbón_%|Carbón_MWh|Ciclo_combinado_%|Ciclo_combinado_MWh|Cogeneración_%|Cogeneración_MWh|Eólica_%|Eólica_MWh|Hidráulica_%|Hidráulica_MWh|Nuclear_%|Nuclear_MWh|Solar_fotovoltaica_%|Solar_fotovoltaica_MWh|\n",
      "+----------+-------------+--------+----------+-----------------+-------------------+--------------+----------------+--------+----------+------------+--------------+---------+-----------+--------------------+----------------------+\n",
      "|2014-01-01|         5.69|    4.09| 25240.655|             8.67|            53534.6|          8.75|       54043.077|   41.77|257896.205|       11.83|     73065.052|    23.65| 146015.503|                1.24|              7631.801|\n",
      "|2014-01-02|        24.59|    5.53| 37546.113|             7.71|          52322.227|         11.64|       79006.632|   39.89|270764.404|       13.14|     89171.545|    21.53| 146147.546|                0.57|              3836.442|\n",
      "|2014-01-03|        38.93|    6.22| 42672.054|             7.47|          51254.562|         12.49|       85658.228|   36.28|248822.078|       14.95|    102502.527|    21.32| 146198.074|                1.26|              8673.179|\n",
      "|2014-01-04|         6.52|    4.36| 30782.043|             4.66|          32862.777|          9.25|       65312.961|   44.63|315077.619|       15.13|    106840.706|    20.72| 146270.916|                1.25|              8813.196|\n",
      "|2014-01-05|         4.27|    3.84| 24606.925|             6.46|          41422.898|         10.11|       64800.182|   40.66|260674.588|       18.28|    117217.635|    18.95| 121525.188|                 1.7|             10878.603|\n",
      "|2014-01-06|        12.47|    3.98| 24126.403|             7.26|          44002.059|         12.04|       72983.825|   33.12| 200748.21|       18.29|    110841.694|    22.91| 138871.873|                 2.4|             14575.066|\n",
      "|2014-01-07|        47.04|   12.63| 88419.072|             8.78|            61452.9|         12.45|       87134.418|   23.45|164116.648|       19.59|     137057.77|    20.95| 146590.231|                2.15|             15038.529|\n",
      "|2014-01-08|        41.85|    16.4|121447.736|             6.78|          50235.866|         12.44|       92107.381|   23.33|172744.174|       19.03|    140921.275|     19.8| 146607.037|                2.23|             16509.065|\n",
      "|2014-01-09|        48.61|   22.81|163968.872|             9.43|          67803.967|         13.03|        93641.83|   12.23| 87870.355|       20.23|    145404.939|     20.4| 146601.481|                1.88|              13483.75|\n",
      "|2014-01-10|        55.94|   24.71|180354.934|            10.76|          78567.867|         12.91|       94233.297|   10.16| 74146.856|       20.05|    146323.349|    20.09| 146618.268|                1.32|               9637.23|\n",
      "|2014-01-11|        50.53|   27.26|176164.609|             9.18|          59293.168|         11.61|       75044.951|    4.48| 28923.318|       23.03|    148799.593|    22.69| 146659.705|                1.76|             11343.641|\n",
      "|2014-01-12|        37.87|   14.39| 90047.088|             5.94|          37154.746|          11.4|       71351.372|   22.76|142409.789|       20.31|    127057.432|    23.43| 146617.966|                1.77|             11090.636|\n",
      "|2014-01-13|        39.86|   10.64| 79545.577|             7.95|          59456.535|         11.89|       88853.206|   29.24|218591.859|       19.57|    146286.975|     19.6| 146536.943|                 1.1|              8208.454|\n",
      "|2014-01-14|        32.47|    8.96|  70246.43|             5.89|          46121.797|         11.37|        89119.48|   36.99|289846.808|       17.17|    134555.725|    18.68| 146393.731|                0.93|              7283.451|\n",
      "|2014-01-15|        50.07|   12.25| 90809.471|             9.08|          67316.523|         12.42|       92040.111|   26.31|195016.398|       19.24|     142618.91|    19.76|  146442.99|                0.93|              6902.819|\n",
      "|2014-01-16|        41.57|   11.57| 87311.913|             8.27|          62433.983|         12.16|       91822.349|    29.0|218889.297|       18.61|    140457.456|    19.38| 146303.895|                1.01|              7648.331|\n",
      "|2014-01-17|        40.47|   11.59| 87312.967|             8.26|          62244.389|         12.28|       92542.349|   28.13|211964.124|       18.77|    141433.915|    19.39| 146092.925|                1.59|              11945.32|\n",
      "|2014-01-18|        43.34|   12.84| 83747.615|             7.66|          49935.804|         11.32|       73859.535|   21.88| 142684.56|       22.53|    146938.396|    22.38| 145939.539|                 1.4|              9120.161|\n",
      "|2014-01-19|        34.82|    6.88| 42537.851|             8.17|          50534.291|         11.62|       71862.903|   28.69|177407.217|       20.66|    127720.689|    22.19| 137185.067|                1.78|             11021.692|\n",
      "|2014-01-20|        37.39|    9.37| 73460.842|             8.44|          66195.412|         11.32|       88772.923|   31.86|249820.168|       18.44|     144555.38|    18.35| 143881.363|                2.21|              17317.75|\n",
      "+----------+-------------+--------+----------+-----------------+-------------------+--------------+----------------+--------+----------+------------+--------------+---------+-----------+--------------------+----------------------+\n",
      "only showing top 20 rows\n",
      "\n"
     ]
    }
   ],
   "source": [
    "datosConsulta2.show()"
   ]
  },
  {
   "cell_type": "code",
   "execution_count": 6,
   "metadata": {},
   "outputs": [
    {
     "data": {
      "text/html": [
       "<div>\n",
       "  <span style=\"float: left;\">collect at cmd5.sc:11</span>\n",
       "</div>\n"
      ]
     },
     "metadata": {},
     "output_type": "display_data"
    },
    {
     "data": {
      "text/html": [
       "<div class=\"progress\">\n",
       "  <div class=\"progress-bar\" role=\"progressbar\" style=\"background-color: blue; width: 100%; word-wrap: normal; white-space: nowrap; text-align: center; color: white\" aria-valuenow=\"100\" aria-valuemin=\"0\" aria-valuemax=\"100\">\n",
       "    1 / 1\n",
       "  </div>\n",
       "  <div class=\"progress-bar\" role=\"progressbar\" style=\"background-color: red; width: 0%\" aria-valuenow=\"0\" aria-valuemin=\"0\" aria-valuemax=\"100\"></div>\n",
       "</div>\n"
      ]
     },
     "metadata": {},
     "output_type": "display_data"
    },
    {
     "data": {
      "text/html": [
       "<div>\n",
       "  <span style=\"float: left;\">collect at cmd5.sc:11</span>\n",
       "</div>\n"
      ]
     },
     "metadata": {},
     "output_type": "display_data"
    },
    {
     "data": {
      "text/html": [
       "<div class=\"progress\">\n",
       "  <div class=\"progress-bar\" role=\"progressbar\" style=\"background-color: blue; width: 100%; word-wrap: normal; white-space: nowrap; text-align: center; color: white\" aria-valuenow=\"100\" aria-valuemin=\"0\" aria-valuemax=\"100\">\n",
       "    200 / 200\n",
       "  </div>\n",
       "  <div class=\"progress-bar\" role=\"progressbar\" style=\"background-color: red; width: 0%\" aria-valuenow=\"0\" aria-valuemin=\"0\" aria-valuemax=\"100\"></div>\n",
       "</div>\n"
      ]
     },
     "metadata": {},
     "output_type": "display_data"
    },
    {
     "data": {
      "text/html": [
       "<div>\n",
       "  <span style=\"float: left;\">collect at cmd5.sc:11</span>\n",
       "</div>\n"
      ]
     },
     "metadata": {},
     "output_type": "display_data"
    },
    {
     "data": {
      "text/html": [
       "<div class=\"progress\">\n",
       "  <div class=\"progress-bar\" role=\"progressbar\" style=\"background-color: blue; width: 100%; word-wrap: normal; white-space: nowrap; text-align: center; color: white\" aria-valuenow=\"100\" aria-valuemin=\"0\" aria-valuemax=\"100\">\n",
       "    200 / 200\n",
       "  </div>\n",
       "  <div class=\"progress-bar\" role=\"progressbar\" style=\"background-color: red; width: 0%\" aria-valuenow=\"0\" aria-valuemin=\"0\" aria-valuemax=\"100\"></div>\n",
       "</div>\n"
      ]
     },
     "metadata": {},
     "output_type": "display_data"
    },
    {
     "data": {
      "text/html": [
       "<div>\n",
       "  <span style=\"float: left;\">collect at cmd5.sc:11</span>\n",
       "</div>\n"
      ]
     },
     "metadata": {},
     "output_type": "display_data"
    },
    {
     "data": {
      "text/html": [
       "<div class=\"progress\">\n",
       "  <div class=\"progress-bar\" role=\"progressbar\" style=\"background-color: blue; width: 100%; word-wrap: normal; white-space: nowrap; text-align: center; color: white\" aria-valuenow=\"100\" aria-valuemin=\"0\" aria-valuemax=\"100\">\n",
       "    131 / 131\n",
       "  </div>\n",
       "  <div class=\"progress-bar\" role=\"progressbar\" style=\"background-color: red; width: 0%\" aria-valuenow=\"0\" aria-valuemin=\"0\" aria-valuemax=\"100\"></div>\n",
       "</div>\n"
      ]
     },
     "metadata": {},
     "output_type": "display_data"
    },
    {
     "data": {
      "text/html": [
       "<div>\n",
       "  <span style=\"float: left;\">collect at cmd5.sc:12</span>\n",
       "</div>\n"
      ]
     },
     "metadata": {},
     "output_type": "display_data"
    },
    {
     "data": {
      "text/html": [
       "<div class=\"progress\">\n",
       "  <div class=\"progress-bar\" role=\"progressbar\" style=\"background-color: blue; width: 100%; word-wrap: normal; white-space: nowrap; text-align: center; color: white\" aria-valuenow=\"100\" aria-valuemin=\"0\" aria-valuemax=\"100\">\n",
       "    1 / 1\n",
       "  </div>\n",
       "  <div class=\"progress-bar\" role=\"progressbar\" style=\"background-color: red; width: 0%\" aria-valuenow=\"0\" aria-valuemin=\"0\" aria-valuemax=\"100\"></div>\n",
       "</div>\n"
      ]
     },
     "metadata": {},
     "output_type": "display_data"
    },
    {
     "data": {
      "text/html": [
       "<div>\n",
       "  <span style=\"float: left;\">collect at cmd5.sc:12</span>\n",
       "</div>\n"
      ]
     },
     "metadata": {},
     "output_type": "display_data"
    },
    {
     "data": {
      "text/html": [
       "<div class=\"progress\">\n",
       "  <div class=\"progress-bar\" role=\"progressbar\" style=\"background-color: blue; width: 100%; word-wrap: normal; white-space: nowrap; text-align: center; color: white\" aria-valuenow=\"100\" aria-valuemin=\"0\" aria-valuemax=\"100\">\n",
       "    200 / 200\n",
       "  </div>\n",
       "  <div class=\"progress-bar\" role=\"progressbar\" style=\"background-color: red; width: 0%\" aria-valuenow=\"0\" aria-valuemin=\"0\" aria-valuemax=\"100\"></div>\n",
       "</div>\n"
      ]
     },
     "metadata": {},
     "output_type": "display_data"
    },
    {
     "data": {
      "text/html": [
       "<div>\n",
       "  <span style=\"float: left;\">collect at cmd5.sc:12</span>\n",
       "</div>\n"
      ]
     },
     "metadata": {},
     "output_type": "display_data"
    },
    {
     "data": {
      "text/html": [
       "<div class=\"progress\">\n",
       "  <div class=\"progress-bar\" role=\"progressbar\" style=\"background-color: blue; width: 100%; word-wrap: normal; white-space: nowrap; text-align: center; color: white\" aria-valuenow=\"100\" aria-valuemin=\"0\" aria-valuemax=\"100\">\n",
       "    200 / 200\n",
       "  </div>\n",
       "  <div class=\"progress-bar\" role=\"progressbar\" style=\"background-color: red; width: 0%\" aria-valuenow=\"0\" aria-valuemin=\"0\" aria-valuemax=\"100\"></div>\n",
       "</div>\n"
      ]
     },
     "metadata": {},
     "output_type": "display_data"
    },
    {
     "data": {
      "application/vnd.plotly.v1+json": {
       "data": [
        {
         "name": "Precio Mercados en €",
         "type": "scatter",
         "x": [
          "2014-01",
          "2014-02",
          "2014-03",
          "2014-04",
          "2014-05",
          "2014-06",
          "2014-07",
          "2014-08",
          "2014-09",
          "2014-10",
          "2014-11",
          "2014-12",
          "2015-01",
          "2015-02",
          "2015-03",
          "2015-04",
          "2015-05",
          "2015-06",
          "2015-07",
          "2015-08",
          "2015-09",
          "2015-10",
          "2015-11",
          "2015-12",
          "2016-01",
          "2016-02",
          "2016-03",
          "2016-04",
          "2016-05",
          "2016-06",
          "2016-07",
          "2016-08",
          "2016-09",
          "2016-10",
          "2016-11",
          "2016-12",
          "2017-01",
          "2017-02",
          "2017-03",
          "2017-04",
          "2017-05",
          "2017-06",
          "2017-07",
          "2017-08",
          "2017-09",
          "2017-10",
          "2017-11",
          "2017-12",
          "2018-01",
          "2018-02",
          "2018-03",
          "2018-04",
          "2018-05",
          "2018-06",
          "2018-07",
          "2018-08",
          "2018-09",
          "2018-10",
          "2018-11",
          "2018-12",
          "2019-01",
          "2019-02",
          "2019-03",
          "2019-04",
          "2019-05",
          "2019-06",
          "2019-07",
          "2019-08",
          "2019-09",
          "2019-10",
          "2019-11",
          "2019-12",
          "2020-01",
          "2020-02",
          "2020-03",
          "2020-04",
          "2020-05",
          "2020-06",
          "2020-07",
          "2020-08",
          "2020-09",
          "2020-10",
          "2020-11",
          "2020-12",
          "2021-01",
          "2021-02",
          "2021-03",
          "2021-04",
          "2021-05",
          "2021-06",
          "2021-07",
          "2021-08",
          "2021-09",
          "2021-10",
          "2021-11",
          "2021-12",
          "2022-01",
          "2022-02",
          "2022-03",
          "2022-04",
          "2022-05",
          "2022-06",
          "2022-07",
          "2022-08",
          "2022-09",
          "2022-10",
          "2022-11",
          "2022-12",
          "2023-01",
          "2023-02",
          "2023-03",
          "2023-04",
          "2023-05",
          "2023-06",
          "2023-07",
          "2023-08",
          "2023-09",
          "2023-10",
          "2023-11",
          "2023-12",
          "2024-01",
          "2024-02",
          "2024-03",
          "2024-04",
          "2024-05",
          "2024-06",
          "2024-07",
          "2024-08",
          "2024-09",
          "2024-10",
          "2024-11"
         ],
         "y": [
          33.619032258064514,
          17.115714285714287,
          26.667096774193542,
          26.443333333333328,
          42.407419354838716,
          50.95066666666666,
          48.21064516129032,
          49.91064516129033,
          58.89033333333334,
          55.12193548387098,
          46.79933333333334,
          47.47225806451614,
          51.597419354838706,
          42.56821428571429,
          43.114838709677414,
          45.33799999999999,
          45.121290322580634,
          54.728666666666655,
          59.54709677419355,
          55.585483870967735,
          51.87799999999999,
          49.90290322580646,
          51.19833333333333,
          52.61032258064514,
          36.528064516129035,
          27.49827586206897,
          27.78483870967742,
          24.10966666666667,
          25.764838709677417,
          38.897000000000006,
          40.52741935483872,
          41.15516129032258,
          43.587999999999994,
          52.83032258064516,
          56.13266666666667,
          60.485806451612916,
          71.49064516129032,
          51.74071428571428,
          43.183225806451624,
          43.688,
          47.11161290322581,
          50.21866666666667,
          48.63387096774194,
          47.45806451612903,
          49.15266666666666,
          56.78612903225805,
          59.18999999999999,
          57.939677419354844,
          49.97870967741936,
          54.88214285714285,
          40.184516129032254,
          42.67166666666666,
          54.91483870967742,
          58.46033333333333,
          61.883870967741935,
          64.32709677419356,
          71.27299999999998,
          65.09225806451614,
          61.971,
          61.807741935483854,
          61.986774193548385,
          54.00857142857143,
          48.82290322580645,
          50.406666666666666,
          48.38935483870968,
          47.193,
          51.46258064516128,
          44.960967741935484,
          42.11266666666666,
          47.16903225806452,
          42.19199999999999,
          33.80516129032258,
          41.10225806451613,
          35.868620689655174,
          27.727741935483873,
          17.652333333333335,
          21.255483870967744,
          30.616666666666664,
          34.63645161290323,
          36.19709677419355,
          41.95766666666667,
          36.59,
          41.93633333333334,
          41.965161290322584,
          60.166129032258084,
          28.492500000000003,
          45.4416129032258,
          65.01866666666666,
          67.12451612903226,
          83.299,
          92.41548387096775,
          105.94000000000003,
          156.14533333333333,
          200.05774193548385,
          193.43133333333338,
          239.16580645161295,
          201.71806451612906,
          200.21857142857147,
          283.3035483870968,
          191.51699999999994,
          187.12612903225806,
          169.62533333333334,
          142.65838709677416,
          154.8941935483871,
          141.06966666666668,
          127.21064516129033,
          115.55500000000002,
          96.95290322580647,
          69.55193548387099,
          133.47321428571428,
          89.61322580645162,
          73.73366666666666,
          74.2090322580645,
          93.02233333333335,
          90.46838709677418,
          96.0458064516129,
          103.34133333333335,
          90.13645161290322,
          63.44499999999998,
          72.17451612903224,
          74.1009677419355,
          40,
          20.278709677419354,
          13.669333333333332,
          30.39935483870968,
          56.08000000000001,
          72.31322580645161,
          91.05483870967743,
          72.624,
          68.54193548387097,
          103.79571428571428
         ]
        }
       ],
       "layout": {
        "autosize": true,
        "xaxis": {
         "autorange": true,
         "range": [
          "2014-01-01",
          "2024-11-01"
         ],
         "type": "date"
        },
        "yaxis": {
         "autorange": true,
         "range": [
          -1.3103452807646363,
          298.28322700119475
         ],
         "type": "linear"
        }
       }
      },
      "image/png": "[encoded data removed]",
      "text/html": [
       "<div class=\"chart\" id=\"plot-9b1f0e9a-528b-49e3-b2b2-7842bd9b768e\"></div>\n",
       "<script>require(['plotly'], function(Plotly) {\n",
       "  (function () {\n",
       "  var data0 = {\"x\":[\"2014-01\",\"2014-02\",\"2014-03\",\"2014-04\",\"2014-05\",\"2014-06\",\"2014-07\",\"2014-08\",\"2014-09\",\"2014-10\",\"2014-11\",\"2014-12\",\"2015-01\",\"2015-02\",\"2015-03\",\"2015-04\",\"2015-05\",\"2015-06\",\"2015-07\",\"2015-08\",\"2015-09\",\"2015-10\",\"2015-11\",\"2015-12\",\"2016-01\",\"2016-02\",\"2016-03\",\"2016-04\",\"2016-05\",\"2016-06\",\"2016-07\",\"2016-08\",\"2016-09\",\"2016-10\",\"2016-11\",\"2016-12\",\"2017-01\",\"2017-02\",\"2017-03\",\"2017-04\",\"2017-05\",\"2017-06\",\"2017-07\",\"2017-08\",\"2017-09\",\"2017-10\",\"2017-11\",\"2017-12\",\"2018-01\",\"2018-02\",\"2018-03\",\"2018-04\",\"2018-05\",\"2018-06\",\"2018-07\",\"2018-08\",\"2018-09\",\"2018-10\",\"2018-11\",\"2018-12\",\"2019-01\",\"2019-02\",\"2019-03\",\"2019-04\",\"2019-05\",\"2019-06\",\"2019-07\",\"2019-08\",\"2019-09\",\"2019-10\",\"2019-11\",\"2019-12\",\"2020-01\",\"2020-02\",\"2020-03\",\"2020-04\",\"2020-05\",\"2020-06\",\"2020-07\",\"2020-08\",\"2020-09\",\"2020-10\",\"2020-11\",\"2020-12\",\"2021-01\",\"2021-02\",\"2021-03\",\"2021-04\",\"2021-05\",\"2021-06\",\"2021-07\",\"2021-08\",\"2021-09\",\"2021-10\",\"2021-11\",\"2021-12\",\"2022-01\",\"2022-02\",\"2022-03\",\"2022-04\",\"2022-05\",\"2022-06\",\"2022-07\",\"2022-08\",\"2022-09\",\"2022-10\",\"2022-11\",\"2022-12\",\"2023-01\",\"2023-02\",\"2023-03\",\"2023-04\",\"2023-05\",\"2023-06\",\"2023-07\",\"2023-08\",\"2023-09\",\"2023-10\",\"2023-11\",\"2023-12\",\"2024-01\",\"2024-02\",\"2024-03\",\"2024-04\",\"2024-05\",\"2024-06\",\"2024-07\",\"2024-08\",\"2024-09\",\"2024-10\",\"2024-11\"],\"name\":\"Precio Mercados en €\",\"y\":[33.619032258064514,17.115714285714287,26.667096774193542,26.443333333333328,42.407419354838716,50.95066666666666,48.21064516129032,49.91064516129033,58.89033333333334,55.12193548387098,46.79933333333334,47.47225806451614,51.597419354838706,42.56821428571429,43.114838709677414,45.33799999999999,45.121290322580634,54.728666666666655,59.54709677419355,55.585483870967735,51.87799999999999,49.90290322580646,51.19833333333333,52.61032258064514,36.528064516129035,27.49827586206897,27.78483870967742,24.10966666666667,25.764838709677417,38.897000000000006,40.52741935483872,41.15516129032258,43.587999999999994,52.83032258064516,56.13266666666667,60.485806451612916,71.49064516129032,51.74071428571428,43.183225806451624,43.688,47.11161290322581,50.21866666666667,48.63387096774194,47.45806451612903,49.15266666666666,56.78612903225805,59.18999999999999,57.939677419354844,49.97870967741936,54.88214285714285,40.184516129032254,42.67166666666666,54.91483870967742,58.46033333333333,61.883870967741935,64.32709677419356,71.27299999999998,65.09225806451614,61.971,61.807741935483854,61.986774193548385,54.00857142857143,48.82290322580645,50.406666666666666,48.38935483870968,47.193,51.46258064516128,44.960967741935484,42.11266666666666,47.16903225806452,42.19199999999999,33.80516129032258,41.10225806451613,35.868620689655174,27.727741935483873,17.652333333333335,21.255483870967744,30.616666666666664,34.63645161290323,36.19709677419355,41.95766666666667,36.59,41.93633333333334,41.965161290322584,60.166129032258084,28.492500000000003,45.4416129032258,65.01866666666666,67.12451612903226,83.299,92.41548387096775,105.94000000000003,156.14533333333333,200.05774193548385,193.43133333333338,239.16580645161295,201.71806451612906,200.21857142857147,283.3035483870968,191.51699999999994,187.12612903225806,169.62533333333334,142.65838709677416,154.8941935483871,141.06966666666668,127.21064516129033,115.55500000000002,96.95290322580647,69.55193548387099,133.47321428571428,89.61322580645162,73.73366666666666,74.2090322580645,93.02233333333335,90.46838709677418,96.0458064516129,103.34133333333335,90.13645161290322,63.44499999999998,72.17451612903224,74.1009677419355,40.0,20.278709677419354,13.669333333333332,30.39935483870968,56.08000000000001,72.31322580645161,91.05483870967743,72.624,68.54193548387097,103.79571428571428],\"type\":\"scatter\"};\n",
       "\n",
       "  var data = [data0];\n",
       "  var layout = {};\n",
       "\n",
       "  Plotly.plot('plot-9b1f0e9a-528b-49e3-b2b2-7842bd9b768e', data, layout);\n",
       "})();\n",
       "});\n",
       "      </script>\n",
       "           "
      ]
     },
     "metadata": {},
     "output_type": "display_data"
    },
    {
     "data": {
      "text/html": [
       "<div>\n",
       "  <span style=\"float: left;\">collect at cmd5.sc:12</span>\n",
       "</div>\n"
      ]
     },
     "metadata": {},
     "output_type": "display_data"
    },
    {
     "data": {
      "text/plain": [
       "defined \u001b[32mfunction\u001b[39m \u001b[36manalisisPrecioMensual\u001b[39m"
      ]
     },
     "execution_count": 6,
     "metadata": {},
     "output_type": "execute_result"
    }
   ],
   "source": [
    "def analisisPrecioMensual (df: DataFrame): Unit = {\n",
    "    //Calculamos la generacion total por año\n",
    "    val evolucionPrecio = df\n",
    "      .select($\"FechaDia\", $\"PrecioMercado_€\")\n",
    "      .groupBy(date_format(col(\"FechaDia\"), \"yyyy-MM\").as(\"FechaMes\"))\n",
    "      .agg(avg(\"PrecioMercado_€\").as(\"Media_mensual_€\"))\n",
    "      .orderBy($\"FechaMes\")\n",
    "    \n",
    "    \n",
    "    //Pintamos la gráfica\n",
    "    val fechas = evolucionPrecio.select(\"FechaMes\").as[String].collect.toSeq\n",
    "    val precioMensual = evolucionPrecio.select(\"Media_mensual_€\").as[Double].collect.toSeq\n",
    "    val evolucionMercadosMensualmente = Scatter(fechas, precioMensual, name = \"Precio Mercados en €\")\n",
    "\n",
    "    val data = Seq(evolucionMercadosMensualmente)\n",
    "    \n",
    "    plot(data)\n",
    "    \n",
    "}\n",
    "analisisPrecioMensual(datosConsulta2)"
   ]
  },
  {
   "cell_type": "code",
   "execution_count": 4,
   "metadata": {},
   "outputs": [
    {
     "data": {
      "text/html": [
       "<div>\n",
       "  <span style=\"float: left;\">collect at cmd3.sc:17</span>\n",
       "</div>\n"
      ]
     },
     "metadata": {},
     "output_type": "display_data"
    },
    {
     "data": {
      "text/html": [
       "<div class=\"progress\">\n",
       "  <div class=\"progress-bar\" role=\"progressbar\" style=\"background-color: blue; width: 100%; word-wrap: normal; white-space: nowrap; text-align: center; color: white\" aria-valuenow=\"100\" aria-valuemin=\"0\" aria-valuemax=\"100\">\n",
       "    1 / 1\n",
       "  </div>\n",
       "  <div class=\"progress-bar\" role=\"progressbar\" style=\"background-color: red; width: 0%\" aria-valuenow=\"0\" aria-valuemin=\"0\" aria-valuemax=\"100\"></div>\n",
       "</div>\n"
      ]
     },
     "metadata": {},
     "output_type": "display_data"
    },
    {
     "data": {
      "text/html": [
       "<div>\n",
       "  <span style=\"float: left;\">collect at cmd3.sc:17</span>\n",
       "</div>\n"
      ]
     },
     "metadata": {},
     "output_type": "display_data"
    },
    {
     "data": {
      "text/html": [
       "<div class=\"progress\">\n",
       "  <div class=\"progress-bar\" role=\"progressbar\" style=\"background-color: blue; width: 100%; word-wrap: normal; white-space: nowrap; text-align: center; color: white\" aria-valuenow=\"100\" aria-valuemin=\"0\" aria-valuemax=\"100\">\n",
       "    200 / 200\n",
       "  </div>\n",
       "  <div class=\"progress-bar\" role=\"progressbar\" style=\"background-color: red; width: 0%\" aria-valuenow=\"0\" aria-valuemin=\"0\" aria-valuemax=\"100\"></div>\n",
       "</div>\n"
      ]
     },
     "metadata": {},
     "output_type": "display_data"
    },
    {
     "data": {
      "text/html": [
       "<div>\n",
       "  <span style=\"float: left;\">collect at cmd3.sc:17</span>\n",
       "</div>\n"
      ]
     },
     "metadata": {},
     "output_type": "display_data"
    },
    {
     "data": {
      "text/html": [
       "<div class=\"progress\">\n",
       "  <div class=\"progress-bar\" role=\"progressbar\" style=\"background-color: blue; width: 100%; word-wrap: normal; white-space: nowrap; text-align: center; color: white\" aria-valuenow=\"100\" aria-valuemin=\"0\" aria-valuemax=\"100\">\n",
       "    200 / 200\n",
       "  </div>\n",
       "  <div class=\"progress-bar\" role=\"progressbar\" style=\"background-color: red; width: 0%\" aria-valuenow=\"0\" aria-valuemin=\"0\" aria-valuemax=\"100\"></div>\n",
       "</div>\n"
      ]
     },
     "metadata": {},
     "output_type": "display_data"
    },
    {
     "data": {
      "text/html": [
       "<div>\n",
       "  <span style=\"float: left;\">collect at cmd3.sc:17</span>\n",
       "</div>\n"
      ]
     },
     "metadata": {},
     "output_type": "display_data"
    },
    {
     "data": {
      "text/html": [
       "<div class=\"progress\">\n",
       "  <div class=\"progress-bar\" role=\"progressbar\" style=\"background-color: blue; width: 100%; word-wrap: normal; white-space: nowrap; text-align: center; color: white\" aria-valuenow=\"100\" aria-valuemin=\"0\" aria-valuemax=\"100\">\n",
       "    11 / 11\n",
       "  </div>\n",
       "  <div class=\"progress-bar\" role=\"progressbar\" style=\"background-color: red; width: 0%\" aria-valuenow=\"0\" aria-valuemin=\"0\" aria-valuemax=\"100\"></div>\n",
       "</div>\n"
      ]
     },
     "metadata": {},
     "output_type": "display_data"
    },
    {
     "data": {
      "application/vnd.plotly.v1+json": {
       "data": [
        {
         "name": "Eólica",
         "type": "scatter",
         "x": [
          "2014",
          "2015",
          "2016",
          "2017",
          "2018",
          "2019",
          "2020",
          "2021",
          "2022",
          "2023",
          "2024"
         ],
         "y": [
          20.525232876712337,
          19.426109589041094,
          19.735081967213134,
          19.778493150684916,
          20.22832876712327,
          22.159808219178103,
          23.086885245901634,
          24.594575342465756,
          23.938164383561645,
          24.85002739726029,
          24.22128834355831
         ]
        },
        {
         "name": "Nuclear",
         "type": "scatter",
         "x": [
          "2014",
          "2015",
          "2016",
          "2017",
          "2018",
          "2019",
          "2020",
          "2021",
          "2022",
          "2023",
          "2024"
         ],
         "y": [
          22.477863013698634,
          22.33005479452054,
          23.555437158469914,
          23.42846575342465,
          22.239013698630142,
          23.346657534246592,
          24.051721311475397,
          22.687945205479455,
          21.95358904109589,
          22.10076712328768,
          21.455061349693267
         ]
        },
        {
         "name": "Hidráulica",
         "type": "scatter",
         "x": [
          "2014",
          "2015",
          "2016",
          "2017",
          "2018",
          "2019",
          "2020",
          "2021",
          "2022",
          "2023",
          "2024"
         ],
         "y": [
          15.817041095890422,
          11.467698630136987,
          15.01407103825136,
          7.755123287671231,
          14.279178082191777,
          10.234109589041097,
          13.39510928961748,
          12.242767123287683,
          7.081945205479451,
          10.215452054794525,
          14.412760736196324
         ]
        },
        {
         "name": "Ciclo_Combinado",
         "type": "scatter",
         "x": [
          "2014",
          "2015",
          "2016",
          "2017",
          "2018",
          "2019",
          "2020",
          "2021",
          "2022",
          "2023",
          "2024"
         ],
         "y": [
          10.138958904109597,
          11.768876712328764,
          11.946065573770495,
          15.110876712328775,
          12.40002739726026,
          22.879863013698635,
          18.826393442622933,
          18.501534246575357,
          26.050219178082187,
          18.785643835616444,
          13.070950920245387
         ]
        },
        {
         "name": "Carbón",
         "type": "scatter",
         "x": [
          "2014",
          "2015",
          "2016",
          "2017",
          "2018",
          "2019",
          "2020",
          "2021",
          "2022",
          "2023",
          "2024"
         ],
         "y": [
          17.781232876712327,
          21.307424657534256,
          15.49743169398908,
          18.468849315068486,
          15.407726027397267,
          5.112520547945205,
          2.149234972677597,
          2.0720273972602743,
          3.0101917808219185,
          1.5766027397260263,
          1.1605521472392635
         ]
        },
        {
         "name": "Solar_Fotovoltaica",
         "type": "scatter",
         "x": [
          "2014",
          "2015",
          "2016",
          "2017",
          "2018",
          "2019",
          "2020",
          "2021",
          "2022",
          "2023",
          "2024"
         ],
         "y": [
          3.412849315068494,
          3.390438356164386,
          3.3869672131147546,
          3.6029041095890415,
          3.2985205479452055,
          3.909123287671236,
          6.749344262295082,
          8.967260273972595,
          10.955205479452063,
          15.390054794520541,
          19.077914110429443
         ]
        },
        {
         "name": "Cogeneración",
         "type": "scatter",
         "x": [
          "2014",
          "2015",
          "2016",
          "2017",
          "2018",
          "2019",
          "2020",
          "2021",
          "2022",
          "2023",
          "2024"
         ],
         "y": [
          9.84630136986301,
          10.30934246575342,
          10.864836065573778,
          11.856000000000002,
          12.147178082191791,
          12.357534246575343,
          11.741530054644818,
          10.933698630136977,
          7.011068493150685,
          7.081013698630146,
          6.6013190184049
         ]
        }
       ],
       "layout": {
        "autosize": true,
        "xaxis": {
         "autorange": true,
         "range": [
          2013.4168323392976,
          2024.5831676607024
         ],
         "type": "linear"
        },
        "yaxis": {
         "autorange": true,
         "range": [
          -0.6625763295422245,
          27.873347654863675
         ],
         "type": "linear"
        }
       }
      },
      "image/png": "[encoded data removed]",
      "text/html": [
       "<div class=\"chart\" id=\"plot-c19f3a2e-f072-4773-b53a-0912c455b1a7\"></div>\n",
       "<script>require(['plotly'], function(Plotly) {\n",
       "  (function () {\n",
       "  var data0 = {\"x\":[\"2014\",\"2015\",\"2016\",\"2017\",\"2018\",\"2019\",\"2020\",\"2021\",\"2022\",\"2023\",\"2024\"],\"name\":\"Eólica\",\"y\":[20.525232876712337,19.426109589041094,19.735081967213134,19.778493150684916,20.22832876712327,22.159808219178103,23.086885245901634,24.594575342465756,23.938164383561645,24.85002739726029,24.22128834355831],\"type\":\"scatter\"};\n",
       "  var data1 = {\"x\":[\"2014\",\"2015\",\"2016\",\"2017\",\"2018\",\"2019\",\"2020\",\"2021\",\"2022\",\"2023\",\"2024\"],\"name\":\"Nuclear\",\"y\":[22.477863013698634,22.33005479452054,23.555437158469914,23.42846575342465,22.239013698630142,23.346657534246592,24.051721311475397,22.687945205479455,21.95358904109589,22.10076712328768,21.455061349693267],\"type\":\"scatter\"};\n",
       "  var data2 = {\"x\":[\"2014\",\"2015\",\"2016\",\"2017\",\"2018\",\"2019\",\"2020\",\"2021\",\"2022\",\"2023\",\"2024\"],\"name\":\"Hidráulica\",\"y\":[15.817041095890422,11.467698630136987,15.01407103825136,7.755123287671231,14.279178082191777,10.234109589041097,13.39510928961748,12.242767123287683,7.081945205479451,10.215452054794525,14.412760736196324],\"type\":\"scatter\"};\n",
       "  var data3 = {\"x\":[\"2014\",\"2015\",\"2016\",\"2017\",\"2018\",\"2019\",\"2020\",\"2021\",\"2022\",\"2023\",\"2024\"],\"name\":\"Ciclo_Combinado\",\"y\":[10.138958904109597,11.768876712328764,11.946065573770495,15.110876712328775,12.40002739726026,22.879863013698635,18.826393442622933,18.501534246575357,26.050219178082187,18.785643835616444,13.070950920245387],\"type\":\"scatter\"};\n",
       "  var data4 = {\"x\":[\"2014\",\"2015\",\"2016\",\"2017\",\"2018\",\"2019\",\"2020\",\"2021\",\"2022\",\"2023\",\"2024\"],\"name\":\"Carbón\",\"y\":[17.781232876712327,21.307424657534256,15.49743169398908,18.468849315068486,15.407726027397267,5.112520547945205,2.149234972677597,2.0720273972602743,3.0101917808219185,1.5766027397260263,1.1605521472392635],\"type\":\"scatter\"};\n",
       "  var data5 = {\"x\":[\"2014\",\"2015\",\"2016\",\"2017\",\"2018\",\"2019\",\"2020\",\"2021\",\"2022\",\"2023\",\"2024\"],\"name\":\"Solar_Fotovoltaica\",\"y\":[3.412849315068494,3.390438356164386,3.3869672131147546,3.6029041095890415,3.2985205479452055,3.909123287671236,6.749344262295082,8.967260273972595,10.955205479452063,15.390054794520541,19.077914110429443],\"type\":\"scatter\"};\n",
       "  var data6 = {\"x\":[\"2014\",\"2015\",\"2016\",\"2017\",\"2018\",\"2019\",\"2020\",\"2021\",\"2022\",\"2023\",\"2024\"],\"name\":\"Cogeneración\",\"y\":[9.84630136986301,10.30934246575342,10.864836065573778,11.856000000000002,12.147178082191791,12.357534246575343,11.741530054644818,10.933698630136977,7.011068493150685,7.081013698630146,6.6013190184049],\"type\":\"scatter\"};\n",
       "\n",
       "  var data = [data0, data1, data2, data3, data4, data5, data6];\n",
       "  var layout = {};\n",
       "\n",
       "  Plotly.plot('plot-c19f3a2e-f072-4773-b53a-0912c455b1a7', data, layout);\n",
       "})();\n",
       "});\n",
       "      </script>\n",
       "           "
      ]
     },
     "metadata": {},
     "output_type": "display_data"
    },
    {
     "data": {
      "text/plain": [
       "defined \u001b[32mfunction\u001b[39m \u001b[36mgraficarEvolucionPorcentajesAnuales\u001b[39m"
      ]
     },
     "execution_count": 4,
     "metadata": {},
     "output_type": "execute_result"
    }
   ],
   "source": [
    "def graficarEvolucionPorcentajesAnuales(df: DataFrame): Unit = {\n",
    "    // Calcular el promedio anual por tipo de energía\n",
    "    val dfAnual = df\n",
    "        .groupBy(date_format(col(\"FechaDia\"), \"yyyy\").as(\"FechaAnio\")) // Agrupar por año\n",
    "        .agg(\n",
    "            avg(\"Eólica_%\").as(\"Promedio_Eólica\"),\n",
    "            avg(\"Nuclear_%\").as(\"Promedio_Nuclear\"),\n",
    "            avg(\"Hidráulica_%\").as(\"Promedio_Hidráulica\"),\n",
    "            avg(\"Ciclo_combinado_%\").as(\"Promedio_Ciclo_Combinado\"),\n",
    "            avg(\"Carbón_%\").as(\"Promedio_Carbón\"),\n",
    "            avg(\"Solar_fotovoltaica_%\").as(\"Promedio_Solar_Fotovoltaica\"),\n",
    "            avg(\"Cogeneración_%\").as(\"Promedio_Cogeneración\")\n",
    "        )\n",
    "        .orderBy(\"FechaAnio\")\n",
    "\n",
    "    // Realizar un único `collect` para traer todos los datos al driver\n",
    "    val datosAnuales = dfAnual.collect()\n",
    "\n",
    "    // Extraer los años (FechaAnio)\n",
    "    val anios = datosAnuales.map(row => row.getAs[String](\"FechaAnio\")).toSeq // Convertir a Seq\n",
    "\n",
    "    // Filtrar dinámicamente las columnas de tipo de energía\n",
    "    val energiaColumnas = dfAnual.columns.filter(_.startsWith(\"Promedio_\")) // Filtrar columnas de energías\n",
    "\n",
    "    // Crear una serie para cada tipo de energía\n",
    "    val series = energiaColumnas.map { tipo =>\n",
    "        val valores = datosAnuales.map(row => row.getAs[Double](tipo)).toSeq // Convertir a Seq\n",
    "        Scatter(anios, valores, name = tipo.replace(\"Promedio_\", \"\")) // Crear serie eliminando el prefijo\n",
    "    }.toSeq // Asegurar que `series` sea un `Seq`\n",
    "\n",
    "    // Graficar todas las series juntas\n",
    "    plot(series)\n",
    "}\n",
    "\n",
    "// Llamar a la función con el DataFrame filtrado\n",
    "graficarEvolucionPorcentajesAnuales(datosConsulta2)\n"
   ]
  },
  {
   "cell_type": "code",
   "execution_count": 12,
   "metadata": {},
   "outputs": [
    {
     "data": {
      "text/html": [
       "<div>\n",
       "  <span style=\"float: left;\">corr at cmd11.sc:7</span>\n",
       "</div>\n"
      ]
     },
     "metadata": {},
     "output_type": "display_data"
    },
    {
     "data": {
      "text/html": [
       "<div class=\"progress\">\n",
       "  <div class=\"progress-bar\" role=\"progressbar\" style=\"background-color: blue; width: 100%; word-wrap: normal; white-space: nowrap; text-align: center; color: white\" aria-valuenow=\"100\" aria-valuemin=\"0\" aria-valuemax=\"100\">\n",
       "    1 / 1\n",
       "  </div>\n",
       "  <div class=\"progress-bar\" role=\"progressbar\" style=\"background-color: red; width: 0%\" aria-valuenow=\"0\" aria-valuemin=\"0\" aria-valuemax=\"100\"></div>\n",
       "</div>\n"
      ]
     },
     "metadata": {},
     "output_type": "display_data"
    },
    {
     "data": {
      "text/html": [
       "<div>\n",
       "  <span style=\"float: left;\">corr at cmd11.sc:7</span>\n",
       "</div>\n"
      ]
     },
     "metadata": {},
     "output_type": "display_data"
    },
    {
     "data": {
      "text/html": [
       "<div class=\"progress\">\n",
       "  <div class=\"progress-bar\" role=\"progressbar\" style=\"background-color: blue; width: 100%; word-wrap: normal; white-space: nowrap; text-align: center; color: white\" aria-valuenow=\"100\" aria-valuemin=\"0\" aria-valuemax=\"100\">\n",
       "    1 / 1\n",
       "  </div>\n",
       "  <div class=\"progress-bar\" role=\"progressbar\" style=\"background-color: red; width: 0%\" aria-valuenow=\"0\" aria-valuemin=\"0\" aria-valuemax=\"100\"></div>\n",
       "</div>\n"
      ]
     },
     "metadata": {},
     "output_type": "display_data"
    },
    {
     "data": {
      "text/html": [
       "<div>\n",
       "  <span style=\"float: left;\">corr at cmd11.sc:7</span>\n",
       "</div>\n"
      ]
     },
     "metadata": {},
     "output_type": "display_data"
    },
    {
     "data": {
      "text/html": [
       "<div class=\"progress\">\n",
       "  <div class=\"progress-bar\" role=\"progressbar\" style=\"background-color: blue; width: 100%; word-wrap: normal; white-space: nowrap; text-align: center; color: white\" aria-valuenow=\"100\" aria-valuemin=\"0\" aria-valuemax=\"100\">\n",
       "    1 / 1\n",
       "  </div>\n",
       "  <div class=\"progress-bar\" role=\"progressbar\" style=\"background-color: red; width: 0%\" aria-valuenow=\"0\" aria-valuemin=\"0\" aria-valuemax=\"100\"></div>\n",
       "</div>\n"
      ]
     },
     "metadata": {},
     "output_type": "display_data"
    },
    {
     "data": {
      "text/html": [
       "<div>\n",
       "  <span style=\"float: left;\">corr at cmd11.sc:7</span>\n",
       "</div>\n"
      ]
     },
     "metadata": {},
     "output_type": "display_data"
    },
    {
     "data": {
      "text/html": [
       "<div class=\"progress\">\n",
       "  <div class=\"progress-bar\" role=\"progressbar\" style=\"background-color: blue; width: 100%; word-wrap: normal; white-space: nowrap; text-align: center; color: white\" aria-valuenow=\"100\" aria-valuemin=\"0\" aria-valuemax=\"100\">\n",
       "    1 / 1\n",
       "  </div>\n",
       "  <div class=\"progress-bar\" role=\"progressbar\" style=\"background-color: red; width: 0%\" aria-valuenow=\"0\" aria-valuemin=\"0\" aria-valuemax=\"100\"></div>\n",
       "</div>\n"
      ]
     },
     "metadata": {},
     "output_type": "display_data"
    },
    {
     "data": {
      "text/html": [
       "<div>\n",
       "  <span style=\"float: left;\">corr at cmd11.sc:7</span>\n",
       "</div>\n"
      ]
     },
     "metadata": {},
     "output_type": "display_data"
    },
    {
     "data": {
      "text/html": [
       "<div class=\"progress\">\n",
       "  <div class=\"progress-bar\" role=\"progressbar\" style=\"background-color: blue; width: 100%; word-wrap: normal; white-space: nowrap; text-align: center; color: white\" aria-valuenow=\"100\" aria-valuemin=\"0\" aria-valuemax=\"100\">\n",
       "    1 / 1\n",
       "  </div>\n",
       "  <div class=\"progress-bar\" role=\"progressbar\" style=\"background-color: red; width: 0%\" aria-valuenow=\"0\" aria-valuemin=\"0\" aria-valuemax=\"100\"></div>\n",
       "</div>\n"
      ]
     },
     "metadata": {},
     "output_type": "display_data"
    },
    {
     "data": {
      "text/html": [
       "<div>\n",
       "  <span style=\"float: left;\">corr at cmd11.sc:7</span>\n",
       "</div>\n"
      ]
     },
     "metadata": {},
     "output_type": "display_data"
    },
    {
     "data": {
      "text/html": [
       "<div class=\"progress\">\n",
       "  <div class=\"progress-bar\" role=\"progressbar\" style=\"background-color: blue; width: 100%; word-wrap: normal; white-space: nowrap; text-align: center; color: white\" aria-valuenow=\"100\" aria-valuemin=\"0\" aria-valuemax=\"100\">\n",
       "    1 / 1\n",
       "  </div>\n",
       "  <div class=\"progress-bar\" role=\"progressbar\" style=\"background-color: red; width: 0%\" aria-valuenow=\"0\" aria-valuemin=\"0\" aria-valuemax=\"100\"></div>\n",
       "</div>\n"
      ]
     },
     "metadata": {},
     "output_type": "display_data"
    },
    {
     "data": {
      "text/html": [
       "<div>\n",
       "  <span style=\"float: left;\">corr at cmd11.sc:7</span>\n",
       "</div>\n"
      ]
     },
     "metadata": {},
     "output_type": "display_data"
    },
    {
     "data": {
      "text/html": [
       "<div class=\"progress\">\n",
       "  <div class=\"progress-bar\" role=\"progressbar\" style=\"background-color: blue; width: 100%; word-wrap: normal; white-space: nowrap; text-align: center; color: white\" aria-valuenow=\"100\" aria-valuemin=\"0\" aria-valuemax=\"100\">\n",
       "    1 / 1\n",
       "  </div>\n",
       "  <div class=\"progress-bar\" role=\"progressbar\" style=\"background-color: red; width: 0%\" aria-valuenow=\"0\" aria-valuemin=\"0\" aria-valuemax=\"100\"></div>\n",
       "</div>\n"
      ]
     },
     "metadata": {},
     "output_type": "display_data"
    },
    {
     "data": {
      "text/html": [
       "<div>\n",
       "  <span style=\"float: left;\">corr at cmd11.sc:7</span>\n",
       "</div>\n"
      ]
     },
     "metadata": {},
     "output_type": "display_data"
    },
    {
     "data": {
      "text/html": [
       "<div class=\"progress\">\n",
       "  <div class=\"progress-bar\" role=\"progressbar\" style=\"background-color: blue; width: 100%; word-wrap: normal; white-space: nowrap; text-align: center; color: white\" aria-valuenow=\"100\" aria-valuemin=\"0\" aria-valuemax=\"100\">\n",
       "    1 / 1\n",
       "  </div>\n",
       "  <div class=\"progress-bar\" role=\"progressbar\" style=\"background-color: red; width: 0%\" aria-valuenow=\"0\" aria-valuemin=\"0\" aria-valuemax=\"100\"></div>\n",
       "</div>\n"
      ]
     },
     "metadata": {},
     "output_type": "display_data"
    },
    {
     "data": {
      "text/html": [
       "<div>\n",
       "  <span style=\"float: left;\">corr at cmd11.sc:7</span>\n",
       "</div>\n"
      ]
     },
     "metadata": {},
     "output_type": "display_data"
    },
    {
     "data": {
      "text/html": [
       "<div class=\"progress\">\n",
       "  <div class=\"progress-bar\" role=\"progressbar\" style=\"background-color: blue; width: 100%; word-wrap: normal; white-space: nowrap; text-align: center; color: white\" aria-valuenow=\"100\" aria-valuemin=\"0\" aria-valuemax=\"100\">\n",
       "    1 / 1\n",
       "  </div>\n",
       "  <div class=\"progress-bar\" role=\"progressbar\" style=\"background-color: red; width: 0%\" aria-valuenow=\"0\" aria-valuemin=\"0\" aria-valuemax=\"100\"></div>\n",
       "</div>\n"
      ]
     },
     "metadata": {},
     "output_type": "display_data"
    },
    {
     "data": {
      "text/html": [
       "<div>\n",
       "  <span style=\"float: left;\">corr at cmd11.sc:7</span>\n",
       "</div>\n"
      ]
     },
     "metadata": {},
     "output_type": "display_data"
    },
    {
     "data": {
      "text/html": [
       "<div class=\"progress\">\n",
       "  <div class=\"progress-bar\" role=\"progressbar\" style=\"background-color: blue; width: 100%; word-wrap: normal; white-space: nowrap; text-align: center; color: white\" aria-valuenow=\"100\" aria-valuemin=\"0\" aria-valuemax=\"100\">\n",
       "    1 / 1\n",
       "  </div>\n",
       "  <div class=\"progress-bar\" role=\"progressbar\" style=\"background-color: red; width: 0%\" aria-valuenow=\"0\" aria-valuemin=\"0\" aria-valuemax=\"100\"></div>\n",
       "</div>\n"
      ]
     },
     "metadata": {},
     "output_type": "display_data"
    },
    {
     "data": {
      "text/html": [
       "<div>\n",
       "  <span style=\"float: left;\">corr at cmd11.sc:7</span>\n",
       "</div>\n"
      ]
     },
     "metadata": {},
     "output_type": "display_data"
    },
    {
     "data": {
      "text/html": [
       "<div class=\"progress\">\n",
       "  <div class=\"progress-bar\" role=\"progressbar\" style=\"background-color: blue; width: 100%; word-wrap: normal; white-space: nowrap; text-align: center; color: white\" aria-valuenow=\"100\" aria-valuemin=\"0\" aria-valuemax=\"100\">\n",
       "    1 / 1\n",
       "  </div>\n",
       "  <div class=\"progress-bar\" role=\"progressbar\" style=\"background-color: red; width: 0%\" aria-valuenow=\"0\" aria-valuemin=\"0\" aria-valuemax=\"100\"></div>\n",
       "</div>\n"
      ]
     },
     "metadata": {},
     "output_type": "display_data"
    },
    {
     "data": {
      "text/html": [
       "<div>\n",
       "  <span style=\"float: left;\">corr at cmd11.sc:7</span>\n",
       "</div>\n"
      ]
     },
     "metadata": {},
     "output_type": "display_data"
    },
    {
     "data": {
      "text/html": [
       "<div class=\"progress\">\n",
       "  <div class=\"progress-bar\" role=\"progressbar\" style=\"background-color: blue; width: 100%; word-wrap: normal; white-space: nowrap; text-align: center; color: white\" aria-valuenow=\"100\" aria-valuemin=\"0\" aria-valuemax=\"100\">\n",
       "    1 / 1\n",
       "  </div>\n",
       "  <div class=\"progress-bar\" role=\"progressbar\" style=\"background-color: red; width: 0%\" aria-valuenow=\"0\" aria-valuemin=\"0\" aria-valuemax=\"100\"></div>\n",
       "</div>\n"
      ]
     },
     "metadata": {},
     "output_type": "display_data"
    },
    {
     "data": {
      "text/html": [
       "<div>\n",
       "  <span style=\"float: left;\">corr at cmd11.sc:7</span>\n",
       "</div>\n"
      ]
     },
     "metadata": {},
     "output_type": "display_data"
    },
    {
     "data": {
      "text/html": [
       "<div class=\"progress\">\n",
       "  <div class=\"progress-bar\" role=\"progressbar\" style=\"background-color: blue; width: 100%; word-wrap: normal; white-space: nowrap; text-align: center; color: white\" aria-valuenow=\"100\" aria-valuemin=\"0\" aria-valuemax=\"100\">\n",
       "    1 / 1\n",
       "  </div>\n",
       "  <div class=\"progress-bar\" role=\"progressbar\" style=\"background-color: red; width: 0%\" aria-valuenow=\"0\" aria-valuemin=\"0\" aria-valuemax=\"100\"></div>\n",
       "</div>\n"
      ]
     },
     "metadata": {},
     "output_type": "display_data"
    },
    {
     "data": {
      "text/html": [
       "<div>\n",
       "  <span style=\"float: left;\">corr at cmd11.sc:7</span>\n",
       "</div>\n"
      ]
     },
     "metadata": {},
     "output_type": "display_data"
    },
    {
     "data": {
      "text/html": [
       "<div class=\"progress\">\n",
       "  <div class=\"progress-bar\" role=\"progressbar\" style=\"background-color: blue; width: 100%; word-wrap: normal; white-space: nowrap; text-align: center; color: white\" aria-valuenow=\"100\" aria-valuemin=\"0\" aria-valuemax=\"100\">\n",
       "    1 / 1\n",
       "  </div>\n",
       "  <div class=\"progress-bar\" role=\"progressbar\" style=\"background-color: red; width: 0%\" aria-valuenow=\"0\" aria-valuemin=\"0\" aria-valuemax=\"100\"></div>\n",
       "</div>\n"
      ]
     },
     "metadata": {},
     "output_type": "display_data"
    },
    {
     "data": {
      "text/html": [
       "<div>\n",
       "  <span style=\"float: left;\">show at cmd11.sc:18</span>\n",
       "</div>\n"
      ]
     },
     "metadata": {},
     "output_type": "display_data"
    },
    {
     "data": {
      "text/html": [
       "<div class=\"progress\">\n",
       "  <div class=\"progress-bar\" role=\"progressbar\" style=\"background-color: blue; width: 100%; word-wrap: normal; white-space: nowrap; text-align: center; color: white\" aria-valuenow=\"100\" aria-valuemin=\"0\" aria-valuemax=\"100\">\n",
       "    14 / 14\n",
       "  </div>\n",
       "  <div class=\"progress-bar\" role=\"progressbar\" style=\"background-color: red; width: 0%\" aria-valuenow=\"0\" aria-valuemin=\"0\" aria-valuemax=\"100\"></div>\n",
       "</div>\n"
      ]
     },
     "metadata": {},
     "output_type": "display_data"
    },
    {
     "name": "stdout",
     "output_type": "stream",
     "text": [
      "+--------------------+--------------------+\n",
      "|             Energía|         Correlación|\n",
      "+--------------------+--------------------+\n",
      "| Ciclo_combinado_MWh|  0.5112746442572531|\n",
      "|   Ciclo_combinado_%| 0.49218935745748954|\n",
      "|Solar_fotovoltaic...|  0.2924628212691979|\n",
      "|Solar_fotovoltaica_%|  0.2629925493953789|\n",
      "|         Nuclear_MWh|0.027181711226881945|\n",
      "|          Eólica_MWh|-0.08305614302342378|\n",
      "|           Nuclear_%|-0.09493220327086346|\n",
      "|    Cogeneración_MWh|-0.12271759590501925|\n",
      "|            Eólica_%|-0.12568609916427367|\n",
      "|          Carbón_MWh|-0.18132259474230716|\n",
      "|      Cogeneración_%|-0.18327962958232394|\n",
      "|            Carbón_%| -0.1946874392238486|\n",
      "|      Hidráulica_MWh| -0.2891542535476879|\n",
      "|        Hidráulica_%|-0.32012965511957897|\n",
      "+--------------------+--------------------+\n",
      "\n"
     ]
    },
    {
     "data": {
      "text/plain": [
       "defined \u001b[32mfunction\u001b[39m \u001b[36mcalcularCorrelaciones\u001b[39m\n",
       "\u001b[36mresultadoCorrelaciones\u001b[39m: \u001b[32mDataFrame\u001b[39m = [Energía: string, Correlación: double]"
      ]
     },
     "execution_count": 12,
     "metadata": {},
     "output_type": "execute_result"
    }
   ],
   "source": [
    "def calcularCorrelaciones(df: DataFrame, precioColumna: String): DataFrame = {\n",
    "    // Filtrar columnas relevantes (las que terminan con \"_%\" o \"_MWh\")\n",
    "    val columnasEnergia = df.columns.filter(col => col.endsWith(\"_%\") || col.endsWith(\"_MWh\"))\n",
    "\n",
    "    // Calcular correlación para cada columna de energía\n",
    "    val correlaciones = columnasEnergia.map { colEnergia =>\n",
    "        val correlacion = df.stat.corr(precioColumna, colEnergia) // Calcular correlación\n",
    "        (colEnergia, correlacion) // Devolver columna y correlación\n",
    "    }\n",
    "\n",
    "    // Convertir a DataFrame para ordenarlo y mostrarlo\n",
    "    import spark.implicits._\n",
    "    correlaciones.toSeq.toDF(\"Energía\", \"Correlación\").orderBy(desc(\"Correlación\"))\n",
    "}\n",
    "\n",
    "// Llamar a la función para calcular las correlaciones\n",
    "val resultadoCorrelaciones = calcularCorrelaciones(datosConsulta2, \"PrecioMercado_€\")\n",
    "resultadoCorrelaciones.show()\n"
   ]
  },
  {
   "cell_type": "code",
   "execution_count": 12,
   "metadata": {},
   "outputs": [
    {
     "name": "stderr",
     "output_type": "stream",
     "text": [
      "cmd12.sc:1: not found: value dfBalance\n",
      "val res12 = dfBalance.show()\n",
      "            ^Compilation Failed"
     ]
    },
    {
     "ename": "",
     "evalue": "",
     "output_type": "error",
     "traceback": [
      "Compilation Failed"
     ]
    }
   ],
   "source": []
  },
  {
   "cell_type": "code",
   "execution_count": null,
   "metadata": {},
   "outputs": [],
   "source": []
  }
 ],
 "metadata": {
  "kernelspec": {
   "display_name": "Scala 2.12",
   "language": "scala",
   "name": "scala212"
  },
  "language_info": {
   "codemirror_mode": "text/x-scala",
   "file_extension": ".scala",
   "mimetype": "text/x-scala",
   "name": "scala",
   "nbconvert_exporter": "script",
   "version": "2.12.10"
  }
 },
 "nbformat": 4,
 "nbformat_minor": 4
}
