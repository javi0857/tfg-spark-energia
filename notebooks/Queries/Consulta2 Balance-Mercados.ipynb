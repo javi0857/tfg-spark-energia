{
 "cells": [
  {
   "cell_type": "code",
   "execution_count": 1,
   "metadata": {},
   "outputs": [
    {
     "name": "stdout",
     "output_type": "stream",
     "text": [
      "Loading spark-stubs\n",
      "Getting spark JARs\n",
      "Creating SparkSession\n"
     ]
    },
    {
     "name": "stderr",
     "output_type": "stream",
     "text": [
      "Using Spark's default log4j profile: org/apache/spark/log4j-defaults.properties\n"
     ]
    },
    {
     "data": {
      "text/html": [
       "<a href=\"http://f8f4683a6aed:4040\">Spark UI</a>"
      ]
     },
     "metadata": {},
     "output_type": "display_data"
    },
    {
     "data": {
      "text/plain": [
       "\u001b[32mimport \u001b[39m\u001b[36m$ivy.$                                  \n",
       "\n",
       "\n",
       "\u001b[39m\n",
       "\u001b[32mimport \u001b[39m\u001b[36morg.apache.spark.sql._\n",
       "\u001b[39m\n",
       "\u001b[32mimport \u001b[39m\u001b[36morg.apache.spark.sql.functions._\n",
       "\n",
       "\n",
       "//Reducir numero logs\n",
       "\u001b[39m\n",
       "\u001b[32mimport \u001b[39m\u001b[36morg.apache.log4j.{Level, Logger}\n",
       "\u001b[39m\n",
       "\u001b[32mimport \u001b[39m\u001b[36m$ivy.$                               \n",
       "\n",
       "//Plotly\n",
       "\u001b[39m\n",
       "\u001b[32mimport \u001b[39m\u001b[36m$ivy.$                                      \n",
       "\u001b[39m\n",
       "\u001b[32mimport \u001b[39m\u001b[36mplotly._, plotly.element._, plotly.layout._, plotly.Almond._\n",
       "\n",
       "\n",
       "//Iniciamos session de Spark\n",
       "\u001b[39m\n",
       "\u001b[36mspark\u001b[39m: \u001b[32mSparkSession\u001b[39m = org.apache.spark.sql.SparkSession@38f8e53d\n",
       "\u001b[32mimport \u001b[39m\u001b[36mspark.implicits._\u001b[39m"
      ]
     },
     "execution_count": 1,
     "metadata": {},
     "output_type": "execute_result"
    }
   ],
   "source": [
    "import $ivy.`org.apache.spark::spark-sql:2.4.3`\n",
    "\n",
    "\n",
    "import org.apache.spark.sql._\n",
    "import org.apache.spark.sql.functions._\n",
    "\n",
    "\n",
    "//Reducir numero logs\n",
    "import org.apache.log4j.{Level, Logger}\n",
    "Logger.getLogger(\"org\").setLevel(Level.OFF)\n",
    "\n",
    "\n",
    "//For adding extra dependenies\n",
    "import $ivy.`org.typelevel::cats-core:1.6.0`\n",
    "\n",
    "//Plotly\n",
    "import $ivy.`org.plotly-scala::plotly-almond:0.7.1`\n",
    "import plotly._, plotly.element._, plotly.layout._, plotly.Almond._\n",
    "\n",
    "\n",
    "//Iniciamos session de Spark\n",
    "val spark = {\n",
    "  NotebookSparkSession.builder()\n",
    "     .master(\"local[*]\")\n",
    "    //.config(\"spark.executor.instances\", \"4\") // Número de ejecutores\n",
    "    //.config(\"spark.executor.memory\", \"4g\") // Memoria por ejecutor\n",
    "    //.config(\"spark.executor.cores\", \"2\") // Núcleos por ejecutor\n",
    "    //.config(\"spark.driver.memory\", \"4g\") // Memoria del driver\n",
    "    //.config(\"spark.sql.shuffle.partitions\", \"8\") // Número de particiones para operaciones de shuffle\n",
    "    .getOrCreate()\n",
    "}\n",
    "import spark.implicits._"
   ]
  },
  {
   "cell_type": "code",
   "execution_count": 2,
   "metadata": {},
   "outputs": [
    {
     "data": {
      "text/html": [
       "<script>\n",
       "var comm = Jupyter.notebook.kernel.comm_manager.new_comm('cancel-stage-7dacd18f-08e5-40a1-bee7-efadb9f114f2', {});\n",
       "\n",
       "function cancelStage(stageId) {\n",
       "  console.log('Cancelling stage ' + stageId);\n",
       "  comm.send({ 'stageId': stageId });\n",
       "}\n",
       "</script>\n",
       "          "
      ]
     },
     "metadata": {},
     "output_type": "display_data"
    },
    {
     "data": {
      "text/html": [
       "<div>\n",
       "  <span style=\"float: left;\">parquet at cmd1.sc:7</span>\n",
       "</div>\n"
      ]
     },
     "metadata": {},
     "output_type": "display_data"
    },
    {
     "data": {
      "text/html": [
       "<div class=\"progress\">\n",
       "  <div class=\"progress-bar\" role=\"progressbar\" style=\"background-color: blue; width: 100%; word-wrap: normal; white-space: nowrap; text-align: center; color: white\" aria-valuenow=\"100\" aria-valuemin=\"0\" aria-valuemax=\"100\">\n",
       "    1 / 1\n",
       "  </div>\n",
       "  <div class=\"progress-bar\" role=\"progressbar\" style=\"background-color: red; width: 0%\" aria-valuenow=\"0\" aria-valuemin=\"0\" aria-valuemax=\"100\"></div>\n",
       "</div>\n"
      ]
     },
     "metadata": {},
     "output_type": "display_data"
    },
    {
     "data": {
      "text/html": [
       "<div>\n",
       "  <span style=\"float: left;\">parquet at cmd1.sc:14</span>\n",
       "</div>\n"
      ]
     },
     "metadata": {},
     "output_type": "display_data"
    },
    {
     "data": {
      "text/html": [
       "<div class=\"progress\">\n",
       "  <div class=\"progress-bar\" role=\"progressbar\" style=\"background-color: blue; width: 100%; word-wrap: normal; white-space: nowrap; text-align: center; color: white\" aria-valuenow=\"100\" aria-valuemin=\"0\" aria-valuemax=\"100\">\n",
       "    1 / 1\n",
       "  </div>\n",
       "  <div class=\"progress-bar\" role=\"progressbar\" style=\"background-color: red; width: 0%\" aria-valuenow=\"0\" aria-valuemin=\"0\" aria-valuemax=\"100\"></div>\n",
       "</div>\n"
      ]
     },
     "metadata": {},
     "output_type": "display_data"
    },
    {
     "data": {
      "text/plain": [
       "\u001b[36mfilePathMercados\u001b[39m: \u001b[32mString\u001b[39m = \u001b[32m\"../../data/parquet/dsMercadoNacionalTotalPrueba.parquet\"\u001b[39m\n",
       "\u001b[36mdfMercados\u001b[39m: \u001b[32mDataFrame\u001b[39m = [Fecha: timestamp, Valor_Mercado_Spot: double ... 3 more fields]\n",
       "\u001b[36mfilePathBalance\u001b[39m: \u001b[32mString\u001b[39m = \u001b[32m\"../../data/parquet/dsBalanceNacional11-24.parquet\"\u001b[39m\n",
       "\u001b[36mdfBalance\u001b[39m: \u001b[32mDataFrame\u001b[39m = [Familia: string, Tipo: string ... 5 more fields]"
      ]
     },
     "execution_count": 2,
     "metadata": {},
     "output_type": "execute_result"
    }
   ],
   "source": [
    "val filePathMercados = \"../../data/parquet/dsMercadoNacionalTotalPrueba.parquet\"\n",
    "\n",
    "val dfMercados: DataFrame = spark.read\n",
    "  //.option(\"header\", \"true\") // Si el archivo tiene un encabezado\n",
    "  //.option(\"inferSchema\", \"true\") // Para inferir automáticamente el esquema\n",
    "  //.csv(filePath)\n",
    "    .parquet(filePathMercados)\n",
    "\n",
    "val filePathBalance = \"../../data/parquet/dsBalanceNacional11-24.parquet\"         \n",
    "val dfBalance: DataFrame = spark.read\n",
    "  //.option(\"header\", \"true\") // Si el archivo tiene un encabezado\n",
    "  //.option(\"inferSchema\", \"true\") // Para inferir automáticamente el esquema\n",
    "  //.csv(filePath)\n",
    "    .parquet(filePathBalance)\n"
   ]
  },
  {
   "cell_type": "code",
   "execution_count": 3,
   "metadata": {},
   "outputs": [
    {
     "data": {
      "text/html": [
       "<div>\n",
       "  <span style=\"float: left;\">pivot at cmd2.sc:8</span>\n",
       "</div>\n"
      ]
     },
     "metadata": {},
     "output_type": "display_data"
    },
    {
     "data": {
      "text/html": [
       "<div class=\"progress\">\n",
       "  <div class=\"progress-bar\" role=\"progressbar\" style=\"background-color: blue; width: 100%; word-wrap: normal; white-space: nowrap; text-align: center; color: white\" aria-valuenow=\"100\" aria-valuemin=\"0\" aria-valuemax=\"100\">\n",
       "    15 / 15\n",
       "  </div>\n",
       "  <div class=\"progress-bar\" role=\"progressbar\" style=\"background-color: red; width: 0%\" aria-valuenow=\"0\" aria-valuemin=\"0\" aria-valuemax=\"100\"></div>\n",
       "</div>\n"
      ]
     },
     "metadata": {},
     "output_type": "display_data"
    },
    {
     "data": {
      "text/html": [
       "<div>\n",
       "  <span style=\"float: left;\">pivot at cmd2.sc:8</span>\n",
       "</div>\n"
      ]
     },
     "metadata": {},
     "output_type": "display_data"
    },
    {
     "data": {
      "text/html": [
       "<div class=\"progress\">\n",
       "  <div class=\"progress-bar\" role=\"progressbar\" style=\"background-color: blue; width: 100%; word-wrap: normal; white-space: nowrap; text-align: center; color: white\" aria-valuenow=\"100\" aria-valuemin=\"0\" aria-valuemax=\"100\">\n",
       "    200 / 200\n",
       "  </div>\n",
       "  <div class=\"progress-bar\" role=\"progressbar\" style=\"background-color: red; width: 0%\" aria-valuenow=\"0\" aria-valuemin=\"0\" aria-valuemax=\"100\"></div>\n",
       "</div>\n"
      ]
     },
     "metadata": {},
     "output_type": "display_data"
    },
    {
     "data": {
      "text/html": [
       "<div>\n",
       "  <span style=\"float: left;\">pivot at cmd2.sc:8</span>\n",
       "</div>\n"
      ]
     },
     "metadata": {},
     "output_type": "display_data"
    },
    {
     "data": {
      "text/html": [
       "<div class=\"progress\">\n",
       "  <div class=\"progress-bar\" role=\"progressbar\" style=\"background-color: blue; width: 100%; word-wrap: normal; white-space: nowrap; text-align: center; color: white\" aria-valuenow=\"100\" aria-valuemin=\"0\" aria-valuemax=\"100\">\n",
       "    1 / 1\n",
       "  </div>\n",
       "  <div class=\"progress-bar\" role=\"progressbar\" style=\"background-color: red; width: 0%\" aria-valuenow=\"0\" aria-valuemin=\"0\" aria-valuemax=\"100\"></div>\n",
       "</div>\n"
      ]
     },
     "metadata": {},
     "output_type": "display_data"
    },
    {
     "data": {
      "text/plain": [
       "\u001b[32mimport \u001b[39m\u001b[36morg.apache.spark.sql.functions._\n",
       "\n",
       "\u001b[39m\n",
       "\u001b[36mdatosMensualesMercadosBalance\u001b[39m: \u001b[32mDataFrame\u001b[39m = [Mes: string, PrecioPromedioMensual: double ... 3 more fields]"
      ]
     },
     "execution_count": 3,
     "metadata": {},
     "output_type": "execute_result"
    }
   ],
   "source": [
    "import org.apache.spark.sql.functions._\n",
    "\n",
    "val datosMensualesMercadosBalance = {\n",
    "  val datosBalanceMensual = dfBalance\n",
    "    .filter($\"Tipo\".isin(\"Generación renovable\", \"Generación no renovable\", \"Saldo I. internacionales\"))\n",
    "    .withColumn(\"Mes\", date_format(col(\"FechaCompleta\"), \"yyyy-MM\")) // Extraer año y mes como \"yyyy-MM\"\n",
    "    .groupBy(\"Mes\")\n",
    "    .pivot($\"Tipo\")\n",
    "    .agg(sum(\"Valor\").as(\"MWh\"))\n",
    "    .orderBy(\"Mes\")\n",
    "\n",
    "  val datosMercadosMensual = dfMercados\n",
    "    .withColumn(\"Mes\", date_format(col(\"Fecha\"), \"yyyy-MM\")) // Extraer año y mes como \"yyyy-MM\"\n",
    "    .groupBy(\"Mes\")\n",
    "    .agg(avg(\"Valor_Mercado_Spot\").as(\"PrecioPromedioMensual\"))\n",
    "    .orderBy(\"Mes\")\n",
    "\n",
    "  datosMercadosMensual.join(datosBalanceMensual, Seq(\"Mes\"), \"left\")\n",
    "}\n",
    "\n"
   ]
  },
  {
   "cell_type": "code",
   "execution_count": 4,
   "metadata": {},
   "outputs": [
    {
     "data": {
      "text/html": [
       "<div>\n",
       "  <span style=\"float: left;\">run at ThreadPoolExecutor.java:1149</span>\n",
       "</div>\n"
      ]
     },
     "metadata": {},
     "output_type": "display_data"
    },
    {
     "data": {
      "text/html": [
       "<div class=\"progress\">\n",
       "  <div class=\"progress-bar\" role=\"progressbar\" style=\"background-color: blue; width: 100%; word-wrap: normal; white-space: nowrap; text-align: center; color: white\" aria-valuenow=\"100\" aria-valuemin=\"0\" aria-valuemax=\"100\">\n",
       "    15 / 15\n",
       "  </div>\n",
       "  <div class=\"progress-bar\" role=\"progressbar\" style=\"background-color: red; width: 0%\" aria-valuenow=\"0\" aria-valuemin=\"0\" aria-valuemax=\"100\"></div>\n",
       "</div>\n"
      ]
     },
     "metadata": {},
     "output_type": "display_data"
    },
    {
     "data": {
      "text/html": [
       "<div>\n",
       "  <span style=\"float: left;\">run at ThreadPoolExecutor.java:1149</span>\n",
       "</div>\n"
      ]
     },
     "metadata": {},
     "output_type": "display_data"
    },
    {
     "data": {
      "text/html": [
       "<div class=\"progress\">\n",
       "  <div class=\"progress-bar\" role=\"progressbar\" style=\"background-color: blue; width: 100%; word-wrap: normal; white-space: nowrap; text-align: center; color: white\" aria-valuenow=\"100\" aria-valuemin=\"0\" aria-valuemax=\"100\">\n",
       "    200 / 200\n",
       "  </div>\n",
       "  <div class=\"progress-bar\" role=\"progressbar\" style=\"background-color: red; width: 0%\" aria-valuenow=\"0\" aria-valuemin=\"0\" aria-valuemax=\"100\"></div>\n",
       "</div>\n"
      ]
     },
     "metadata": {},
     "output_type": "display_data"
    },
    {
     "data": {
      "text/html": [
       "<div>\n",
       "  <span style=\"float: left;\">run at ThreadPoolExecutor.java:1149</span>\n",
       "</div>\n"
      ]
     },
     "metadata": {},
     "output_type": "display_data"
    },
    {
     "data": {
      "text/html": [
       "<div class=\"progress\">\n",
       "  <div class=\"progress-bar\" role=\"progressbar\" style=\"background-color: blue; width: 100%; word-wrap: normal; white-space: nowrap; text-align: center; color: white\" aria-valuenow=\"100\" aria-valuemin=\"0\" aria-valuemax=\"100\">\n",
       "    200 / 200\n",
       "  </div>\n",
       "  <div class=\"progress-bar\" role=\"progressbar\" style=\"background-color: red; width: 0%\" aria-valuenow=\"0\" aria-valuemin=\"0\" aria-valuemax=\"100\"></div>\n",
       "</div>\n"
      ]
     },
     "metadata": {},
     "output_type": "display_data"
    },
    {
     "data": {
      "text/html": [
       "<div>\n",
       "  <span style=\"float: left;\">run at ThreadPoolExecutor.java:1149</span>\n",
       "</div>\n"
      ]
     },
     "metadata": {},
     "output_type": "display_data"
    },
    {
     "data": {
      "text/html": [
       "<div class=\"progress\">\n",
       "  <div class=\"progress-bar\" role=\"progressbar\" style=\"background-color: blue; width: 100%; word-wrap: normal; white-space: nowrap; text-align: center; color: white\" aria-valuenow=\"100\" aria-valuemin=\"0\" aria-valuemax=\"100\">\n",
       "    200 / 200\n",
       "  </div>\n",
       "  <div class=\"progress-bar\" role=\"progressbar\" style=\"background-color: red; width: 0%\" aria-valuenow=\"0\" aria-valuemin=\"0\" aria-valuemax=\"100\"></div>\n",
       "</div>\n"
      ]
     },
     "metadata": {},
     "output_type": "display_data"
    },
    {
     "data": {
      "text/html": [
       "<div>\n",
       "  <span style=\"float: left;\">run at ThreadPoolExecutor.java:1149</span>\n",
       "</div>\n"
      ]
     },
     "metadata": {},
     "output_type": "display_data"
    },
    {
     "data": {
      "text/html": [
       "<div class=\"progress\">\n",
       "  <div class=\"progress-bar\" role=\"progressbar\" style=\"background-color: blue; width: 100%; word-wrap: normal; white-space: nowrap; text-align: center; color: white\" aria-valuenow=\"100\" aria-valuemin=\"0\" aria-valuemax=\"100\">\n",
       "    168 / 168\n",
       "  </div>\n",
       "  <div class=\"progress-bar\" role=\"progressbar\" style=\"background-color: red; width: 0%\" aria-valuenow=\"0\" aria-valuemin=\"0\" aria-valuemax=\"100\"></div>\n",
       "</div>\n"
      ]
     },
     "metadata": {},
     "output_type": "display_data"
    },
    {
     "data": {
      "text/html": [
       "<div>\n",
       "  <span style=\"float: left;\">collect at cmd3.sc:1</span>\n",
       "</div>\n"
      ]
     },
     "metadata": {},
     "output_type": "display_data"
    },
    {
     "data": {
      "text/html": [
       "<div class=\"progress\">\n",
       "  <div class=\"progress-bar\" role=\"progressbar\" style=\"background-color: blue; width: 100%; word-wrap: normal; white-space: nowrap; text-align: center; color: white\" aria-valuenow=\"100\" aria-valuemin=\"0\" aria-valuemax=\"100\">\n",
       "    15 / 15\n",
       "  </div>\n",
       "  <div class=\"progress-bar\" role=\"progressbar\" style=\"background-color: red; width: 0%\" aria-valuenow=\"0\" aria-valuemin=\"0\" aria-valuemax=\"100\"></div>\n",
       "</div>\n"
      ]
     },
     "metadata": {},
     "output_type": "display_data"
    },
    {
     "data": {
      "text/html": [
       "<div>\n",
       "  <span style=\"float: left;\">collect at cmd3.sc:1</span>\n",
       "</div>\n"
      ]
     },
     "metadata": {},
     "output_type": "display_data"
    },
    {
     "data": {
      "text/html": [
       "<div class=\"progress\">\n",
       "  <div class=\"progress-bar\" role=\"progressbar\" style=\"background-color: blue; width: 100%; word-wrap: normal; white-space: nowrap; text-align: center; color: white\" aria-valuenow=\"100\" aria-valuemin=\"0\" aria-valuemax=\"100\">\n",
       "    200 / 200\n",
       "  </div>\n",
       "  <div class=\"progress-bar\" role=\"progressbar\" style=\"background-color: red; width: 0%\" aria-valuenow=\"0\" aria-valuemin=\"0\" aria-valuemax=\"100\"></div>\n",
       "</div>\n"
      ]
     },
     "metadata": {},
     "output_type": "display_data"
    },
    {
     "data": {
      "text/html": [
       "<div>\n",
       "  <span style=\"float: left;\">collect at cmd3.sc:1</span>\n",
       "</div>\n"
      ]
     },
     "metadata": {},
     "output_type": "display_data"
    },
    {
     "data": {
      "text/html": [
       "<div class=\"progress\">\n",
       "  <div class=\"progress-bar\" role=\"progressbar\" style=\"background-color: blue; width: 100%; word-wrap: normal; white-space: nowrap; text-align: center; color: white\" aria-valuenow=\"100\" aria-valuemin=\"0\" aria-valuemax=\"100\">\n",
       "    200 / 200\n",
       "  </div>\n",
       "  <div class=\"progress-bar\" role=\"progressbar\" style=\"background-color: red; width: 0%\" aria-valuenow=\"0\" aria-valuemin=\"0\" aria-valuemax=\"100\"></div>\n",
       "</div>\n"
      ]
     },
     "metadata": {},
     "output_type": "display_data"
    },
    {
     "data": {
      "text/html": [
       "<div>\n",
       "  <span style=\"float: left;\">collect at cmd3.sc:1</span>\n",
       "</div>\n"
      ]
     },
     "metadata": {},
     "output_type": "display_data"
    },
    {
     "data": {
      "text/html": [
       "<div class=\"progress\">\n",
       "  <div class=\"progress-bar\" role=\"progressbar\" style=\"background-color: blue; width: 100%; word-wrap: normal; white-space: nowrap; text-align: center; color: white\" aria-valuenow=\"100\" aria-valuemin=\"0\" aria-valuemax=\"100\">\n",
       "    132 / 132\n",
       "  </div>\n",
       "  <div class=\"progress-bar\" role=\"progressbar\" style=\"background-color: red; width: 0%\" aria-valuenow=\"0\" aria-valuemin=\"0\" aria-valuemax=\"100\"></div>\n",
       "</div>\n"
      ]
     },
     "metadata": {},
     "output_type": "display_data"
    },
    {
     "data": {
      "text/plain": [
       "\u001b[36mdatosParaGrafico\u001b[39m: \u001b[32mArray\u001b[39m[\u001b[32mRow\u001b[39m] = \u001b[33mArray\u001b[39m(\n",
       "  [2013-12,20.02,1.5366845417499999E7,8455898.010499999,-413695.157],\n",
       "  [2014-01,33.62260752688169,1.23053367865E7,1.1842675513499998E7,39079.202999999994],\n",
       "  [2014-02,17.08921130952381,9999119.282000003,1.2515829091000002E7,-488067.18600000005],\n",
       "  [2014-03,26.69189516129032,1.09664441905E7,1.1852725894499999E7,-243092.135],\n",
       "  [2014-04,26.47263888888891,1.0517044867999997E7,1.0316309912000002E7,-616989.6029999999],\n",
       "  [2014-05,42.40516129032255,1.22648578905E7,9061676.8965,-273634.7259999999],\n",
       "  [2014-06,50.97758333333327,1.3773314026999999E7,7779169.039999999,-287146.80500000005],\n",
       "  [2014-07,48.23134408602148,1.5034826443499997E7,8143710.001499998,-479648.7020000001],\n",
       "  [2014-08,49.88380376344092,1.49721713535E7,7090929.7715,-248766.64100000003],\n",
       "  [2014-09,58.903583333333266,1.6687641214999996E7,5390456.336,-333969.006],\n",
       "  [2014-10,55.138602150537636,1.5217319072499998E7,6265688.350499999,-283116.8050000001],\n",
       "  [2014-11,46.756819444444346,1.27097466235E7,8643407.3825,161103.012],\n",
       "  [2014-12,47.5039112903225,1.4312475606000006E7,8818605.583999999,-331774.6],\n",
       "  [2015-01,51.54303763440853,1.5925923004500005E7,8796973.8905,-298773.7520000001],\n",
       "  [2015-02,42.60608630952376,1.2644280147999998E7,1.0495466743E7,-571437.951],\n",
       "  [2015-03,43.08432795698914,1.2998540371E7,1.0221892128999999E7,-382316.14999999997],\n",
       "  [2015-04,45.38505555555549,1.2562074277999997E7,7931810.750999998,-264590.688],\n",
       "  [2015-05,45.14830645161278,1.16020705105E7,9688453.540499998,206888.755],\n",
       "  [2015-06,54.745541666666576,1.4434051964000002E7,7440119.005,-26720.641999999985],\n",
       "  [2015-07,59.52674731182782,1.7879953848E7,7312203.698,-208107.57700000002],\n",
       "  [2015-08,55.60958333333332,1.61766260675E7,6768024.152499998,-226604.05099999998],\n",
       "  [2015-09,51.873833333333216,1.50117939515E7,6172721.406499999,-160967.78800000006],\n",
       "  [2015-10,49.8858333333333,1.4020805327499999E7,6780506.000500001,435536.41199999995],\n",
       "  [2015-11,51.21619444444439,1.4481795618E7,6613870.047000001,483186.826],\n",
       "  [2015-12,52.58642473118269,1.5532135991499996E7,5921719.543500001,894239.37699..."
      ]
     },
     "execution_count": 4,
     "metadata": {},
     "output_type": "execute_result"
    }
   ],
   "source": [
    "// Recoger los datos con un collect\n",
    "val datosParaGrafico = datosMensualesMercadosBalance.collect()"
   ]
  },
  {
   "cell_type": "code",
   "execution_count": 7,
   "metadata": {},
   "outputs": [
    {
     "data": {
      "text/plain": [
       "\u001b[36mfechas\u001b[39m: \u001b[32mSeq\u001b[39m[\u001b[32mString\u001b[39m] = \u001b[33mWrappedArray\u001b[39m(\n",
       "  \u001b[32m\"2013-12\"\u001b[39m,\n",
       "  \u001b[32m\"2014-01\"\u001b[39m,\n",
       "  \u001b[32m\"2014-02\"\u001b[39m,\n",
       "  \u001b[32m\"2014-03\"\u001b[39m,\n",
       "  \u001b[32m\"2014-04\"\u001b[39m,\n",
       "  \u001b[32m\"2014-05\"\u001b[39m,\n",
       "  \u001b[32m\"2014-06\"\u001b[39m,\n",
       "  \u001b[32m\"2014-07\"\u001b[39m,\n",
       "  \u001b[32m\"2014-08\"\u001b[39m,\n",
       "  \u001b[32m\"2014-09\"\u001b[39m,\n",
       "  \u001b[32m\"2014-10\"\u001b[39m,\n",
       "  \u001b[32m\"2014-11\"\u001b[39m,\n",
       "  \u001b[32m\"2014-12\"\u001b[39m,\n",
       "  \u001b[32m\"2015-01\"\u001b[39m,\n",
       "  \u001b[32m\"2015-02\"\u001b[39m,\n",
       "  \u001b[32m\"2015-03\"\u001b[39m,\n",
       "  \u001b[32m\"2015-04\"\u001b[39m,\n",
       "  \u001b[32m\"2015-05\"\u001b[39m,\n",
       "  \u001b[32m\"2015-06\"\u001b[39m,\n",
       "  \u001b[32m\"2015-07\"\u001b[39m,\n",
       "  \u001b[32m\"2015-08\"\u001b[39m,\n",
       "  \u001b[32m\"2015-09\"\u001b[39m,\n",
       "  \u001b[32m\"2015-10\"\u001b[39m,\n",
       "  \u001b[32m\"2015-11\"\u001b[39m,\n",
       "  \u001b[32m\"2015-12\"\u001b[39m,\n",
       "  \u001b[32m\"2016-01\"\u001b[39m,\n",
       "  \u001b[32m\"2016-02\"\u001b[39m,\n",
       "  \u001b[32m\"2016-03\"\u001b[39m,\n",
       "  \u001b[32m\"2016-04\"\u001b[39m,\n",
       "  \u001b[32m\"2016-05\"\u001b[39m,\n",
       "  \u001b[32m\"2016-06\"\u001b[39m,\n",
       "  \u001b[32m\"2016-07\"\u001b[39m,\n",
       "  \u001b[32m\"2016-08\"\u001b[39m,\n",
       "  \u001b[32m\"2016-09\"\u001b[39m,\n",
       "  \u001b[32m\"2016-10\"\u001b[39m,\n",
       "  \u001b[32m\"2016-11\"\u001b[39m,\n",
       "  \u001b[32m\"2016-12\"\u001b[39m,\n",
       "  \u001b[32m\"2017-01\"\u001b[39m,\n",
       "...\n",
       "\u001b[36mpreciosDiarios\u001b[39m: \u001b[32mSeq\u001b[39m[\u001b[32mDouble\u001b[39m] = \u001b[33mWrappedArray\u001b[39m(\n",
       "  \u001b[32m20.02\u001b[39m,\n",
       "  \u001b[32m33.62260752688169\u001b[39m,\n",
       "  \u001b[32m17.08921130952381\u001b[39m,\n",
       "  \u001b[32m26.69189516129032\u001b[39m,\n",
       "  \u001b[32m26.47263888888891\u001b[39m,\n",
       "  \u001b[32m42.40516129032255\u001b[39m,\n",
       "  \u001b[32m50.97758333333327\u001b[39m,\n",
       "  \u001b[32m48.23134408602148\u001b[39m,\n",
       "  \u001b[32m49.88380376344092\u001b[39m,\n",
       "  \u001b[32m58.903583333333266\u001b[39m,\n",
       "  \u001b[32m55.138602150537636\u001b[39m,\n",
       "  \u001b[32m46.756819444444346\u001b[39m,\n",
       "  \u001b[32m47.5039112903225\u001b[39m,\n",
       "  \u001b[32m51.54303763440853\u001b[39m,\n",
       "  \u001b[32m42.60608630952376\u001b[39m,\n",
       "  \u001b[32m43.08432795698914\u001b[39m,\n",
       "  \u001b[32m45.38505555555549\u001b[39m,\n",
       "  \u001b[32m45.14830645161278\u001b[39m,\n",
       "  \u001b[32m54.745541666666576\u001b[39m,\n",
       "  \u001b[32m59.52674731182782\u001b[39m,\n",
       "  \u001b[32m55.60958333333332\u001b[39m,\n",
       "  \u001b[32m51.873833333333216\u001b[39m,\n",
       "  \u001b[32m49.8858333333333\u001b[39m,\n",
       "  \u001b[32m51.21619444444439\u001b[39m,\n",
       "  \u001b[32m52.58642473118269\u001b[39m,\n",
       "  \u001b[32m36.5149327956989\u001b[39m,\n",
       "  \u001b[32m27.479252873563205\u001b[39m,\n",
       "  \u001b[32m27.793239247311817\u001b[39m,\n",
       "  \u001b[32m24.09837500000002\u001b[39m,\n",
       "  \u001b[32m25.812056451612907\u001b[39m,\n",
       "  \u001b[32m38.92434722222211\u001b[39m,\n",
       "  \u001b[32m40.51584677419345\u001b[39m,\n",
       "  \u001b[32m41.14416666666654\u001b[39m,\n",
       "  \u001b[32m43.604749999999854\u001b[39m,\n",
       "  \u001b[32m52.84755376344089\u001b[39m,\n",
       "  \u001b[32m56.146375\u001b[39m,\n",
       "  \u001b[32m60.486357526881804\u001b[39m,\n",
       "  \u001b[32m71.5061155913979\u001b[39m,\n",
       "...\n",
       "\u001b[36mgeneracionNoRenovable\u001b[39m: \u001b[32mSeq\u001b[39m[\u001b[32mDouble\u001b[39m] = \u001b[33mWrappedArray\u001b[39m(\n",
       "  \u001b[32m1.5366845417499999E7\u001b[39m,\n",
       "  \u001b[32m1.23053367865E7\u001b[39m,\n",
       "  \u001b[32m9999119.282000003\u001b[39m,\n",
       "  \u001b[32m1.09664441905E7\u001b[39m,\n",
       "  \u001b[32m1.0517044867999997E7\u001b[39m,\n",
       "  \u001b[32m1.22648578905E7\u001b[39m,\n",
       "  \u001b[32m1.3773314026999999E7\u001b[39m,\n",
       "  \u001b[32m1.5034826443499997E7\u001b[39m,\n",
       "  \u001b[32m1.49721713535E7\u001b[39m,\n",
       "  \u001b[32m1.6687641214999996E7\u001b[39m,\n",
       "  \u001b[32m1.5217319072499998E7\u001b[39m,\n",
       "  \u001b[32m1.27097466235E7\u001b[39m,\n",
       "  \u001b[32m1.4312475606000006E7\u001b[39m,\n",
       "  \u001b[32m1.5925923004500005E7\u001b[39m,\n",
       "  \u001b[32m1.2644280147999998E7\u001b[39m,\n",
       "  \u001b[32m1.2998540371E7\u001b[39m,\n",
       "  \u001b[32m1.2562074277999997E7\u001b[39m,\n",
       "  \u001b[32m1.16020705105E7\u001b[39m,\n",
       "  \u001b[32m1.4434051964000002E7\u001b[39m,\n",
       "  \u001b[32m1.7879953848E7\u001b[39m,\n",
       "  \u001b[32m1.61766260675E7\u001b[39m,\n",
       "  \u001b[32m1.50117939515E7\u001b[39m,\n",
       "  \u001b[32m1.4020805327499999E7\u001b[39m,\n",
       "  \u001b[32m1.4481795618E7\u001b[39m,\n",
       "  \u001b[32m1.5532135991499996E7\u001b[39m,\n",
       "  \u001b[32m1.29957812955E7\u001b[39m,\n",
       "  \u001b[32m1.0490025772E7\u001b[39m,\n",
       "  \u001b[32m1.1808564418499999E7\u001b[39m,\n",
       "  \u001b[32m1.0542408875000004E7\u001b[39m,\n",
       "  \u001b[32m1.0030262261999998E7\u001b[39m,\n",
       "  \u001b[32m1.2455905429000001E7\u001b[39m,\n",
       "  \u001b[32m1.49209038585E7\u001b[39m,\n",
       "  \u001b[32m1.4279299292E7\u001b[39m,\n",
       "  \u001b[32m1.4974577699499998E7\u001b[39m,\n",
       "  \u001b[32m1.6480380775499998E7\u001b[39m,\n",
       "  \u001b[32m1.5573361272E7\u001b[39m,\n",
       "  \u001b[32m1.6344820705500003E7\u001b[39m,\n",
       "  \u001b[32m1.7484463645499997E7\u001b[39m,\n",
       "...\n",
       "\u001b[36mgeneracionRenovable\u001b[39m: \u001b[32mSeq\u001b[39m[\u001b[32mDouble\u001b[39m] = \u001b[33mWrappedArray\u001b[39m(\n",
       "  \u001b[32m8455898.010499999\u001b[39m,\n",
       "  \u001b[32m1.1842675513499998E7\u001b[39m,\n",
       "  \u001b[32m1.2515829091000002E7\u001b[39m,\n",
       "  \u001b[32m1.1852725894499999E7\u001b[39m,\n",
       "  \u001b[32m1.0316309912000002E7\u001b[39m,\n",
       "  \u001b[32m9061676.8965\u001b[39m,\n",
       "  \u001b[32m7779169.039999999\u001b[39m,\n",
       "  \u001b[32m8143710.001499998\u001b[39m,\n",
       "  \u001b[32m7090929.7715\u001b[39m,\n",
       "  \u001b[32m5390456.336\u001b[39m,\n",
       "  \u001b[32m6265688.350499999\u001b[39m,\n",
       "  \u001b[32m8643407.3825\u001b[39m,\n",
       "  \u001b[32m8818605.583999999\u001b[39m,\n",
       "  \u001b[32m8796973.8905\u001b[39m,\n",
       "  \u001b[32m1.0495466743E7\u001b[39m,\n",
       "  \u001b[32m1.0221892128999999E7\u001b[39m,\n",
       "  \u001b[32m7931810.750999998\u001b[39m,\n",
       "  \u001b[32m9688453.540499998\u001b[39m,\n",
       "  \u001b[32m7440119.005\u001b[39m,\n",
       "  \u001b[32m7312203.698\u001b[39m,\n",
       "  \u001b[32m6768024.152499998\u001b[39m,\n",
       "  \u001b[32m6172721.406499999\u001b[39m,\n",
       "  \u001b[32m6780506.000500001\u001b[39m,\n",
       "  \u001b[32m6613870.047000001\u001b[39m,\n",
       "  \u001b[32m5921719.543500001\u001b[39m,\n",
       "  \u001b[32m9818557.8205\u001b[39m,\n",
       "  \u001b[32m1.1269480215999998E7\u001b[39m,\n",
       "  \u001b[32m1.11878698045E7\u001b[39m,\n",
       "  \u001b[32m1.1106244012999998E7\u001b[39m,\n",
       "  \u001b[32m1.0571183105E7\u001b[39m,\n",
       "  \u001b[32m8219813.816999999\u001b[39m,\n",
       "  \u001b[32m7943800.571499998\u001b[39m,\n",
       "  \u001b[32m7784931.517999999\u001b[39m,\n",
       "  \u001b[32m6037552.6385\u001b[39m,\n",
       "  \u001b[32m5248033.2105\u001b[39m,\n",
       "  \u001b[32m6408629.272000002\u001b[39m,\n",
       "  \u001b[32m5360126.5125\u001b[39m,\n",
       "  \u001b[32m7994247.8155000005\u001b[39m,\n",
       "...\n",
       "\u001b[36msaldo\u001b[39m: \u001b[32mSeq\u001b[39m[\u001b[32mDouble\u001b[39m] = \u001b[33mWrappedArray\u001b[39m(\n",
       "  \u001b[32m-413695.157\u001b[39m,\n",
       "  \u001b[32m39079.202999999994\u001b[39m,\n",
       "  \u001b[32m-488067.18600000005\u001b[39m,\n",
       "  \u001b[32m-243092.135\u001b[39m,\n",
       "  \u001b[32m-616989.6029999999\u001b[39m,\n",
       "  \u001b[32m-273634.7259999999\u001b[39m,\n",
       "  \u001b[32m-287146.80500000005\u001b[39m,\n",
       "  \u001b[32m-479648.7020000001\u001b[39m,\n",
       "  \u001b[32m-248766.64100000003\u001b[39m,\n",
       "  \u001b[32m-333969.006\u001b[39m,\n",
       "  \u001b[32m-283116.8050000001\u001b[39m,\n",
       "  \u001b[32m161103.012\u001b[39m,\n",
       "  \u001b[32m-331774.6\u001b[39m,\n",
       "  \u001b[32m-298773.7520000001\u001b[39m,\n",
       "  \u001b[32m-571437.951\u001b[39m,\n",
       "  \u001b[32m-382316.14999999997\u001b[39m,\n",
       "  \u001b[32m-264590.688\u001b[39m,\n",
       "  \u001b[32m206888.755\u001b[39m,\n",
       "  \u001b[32m-26720.641999999985\u001b[39m,\n",
       "  \u001b[32m-208107.57700000002\u001b[39m,\n",
       "  \u001b[32m-226604.05099999998\u001b[39m,\n",
       "  \u001b[32m-160967.78800000006\u001b[39m,\n",
       "  \u001b[32m435536.41199999995\u001b[39m,\n",
       "  \u001b[32m483186.826\u001b[39m,\n",
       "  \u001b[32m894239.3769999999\u001b[39m,\n",
       "  \u001b[32m880332.0399999999\u001b[39m,\n",
       "  \u001b[32m891028.3840000002\u001b[39m,\n",
       "  \u001b[32m185951.35399999996\u001b[39m,\n",
       "  \u001b[32m-161960.35400000005\u001b[39m,\n",
       "  \u001b[32m863024.3910000002\u001b[39m,\n",
       "  \u001b[32m1093342.093\u001b[39m,\n",
       "  \u001b[32m918248.1420000001\u001b[39m,\n",
       "  \u001b[32m1027816.4310000002\u001b[39m,\n",
       "  \u001b[32m1122223.294\u001b[39m,\n",
       "  \u001b[32m-444902.395\u001b[39m,\n",
       "  \u001b[32m317689.68600000005\u001b[39m,\n",
       "  \u001b[32m969890.5450000002\u001b[39m,\n",
       "  \u001b[32m-517747.27999999985\u001b[39m,\n",
       "..."
      ]
     },
     "execution_count": 7,
     "metadata": {},
     "output_type": "execute_result"
    }
   ],
   "source": [
    "// Extraer las secuencias individuales de los datos\n",
    "val fechas = datosParaGrafico.map(row => row.getAs[String](\"Mes\")).toSeq\n",
    "val preciosDiarios = datosParaGrafico.map(row => row.getAs[Double](\"PrecioPromedioMensual\")).toSeq\n",
    "val generacionNoRenovable = datosParaGrafico.map(row => row.getAs[Double](\"Generación no renovable\")).toSeq\n",
    "val generacionRenovable = datosParaGrafico.map(row => row.getAs[Double](\"Generación renovable\")).toSeq\n",
    "val saldo = datosParaGrafico.map(row => row.getAs[Double](\"Saldo I. internacionales\")).toSeq "
   ]
  },
  {
   "cell_type": "code",
   "execution_count": 8,
   "metadata": {},
   "outputs": [
    {
     "data": {
      "text/html": [
       "\n",
       "      <script type=\"text/javascript\">\n",
       "        require.config({\n",
       "  paths: {\n",
       "    d3: 'https://cdnjs.cloudflare.com/ajax/libs/d3/3.5.17/d3.min',\n",
       "    plotly: 'https://cdn.plot.ly/plotly-1.41.3.min',\n",
       "    jquery: 'https://code.jquery.com/jquery-3.3.1.min'\n",
       "  },\n",
       "\n",
       "  shim: {\n",
       "    plotly: {\n",
       "      deps: ['d3', 'jquery'],\n",
       "      exports: 'plotly'\n",
       "    }\n",
       "  }\n",
       "});\n",
       "        \n",
       "\n",
       "        require(['plotly'], function(Plotly) {\n",
       "          window.Plotly = Plotly;\n",
       "        });\n",
       "      </script>\n",
       "    "
      ]
     },
     "metadata": {},
     "output_type": "display_data"
    },
    {
     "data": {
      "application/vnd.plotly.v1+json": {
       "data": [
        {
         "type": "scatter",
         "x": [
          "2013-12",
          "2014-01",
          "2014-02",
          "2014-03",
          "2014-04",
          "2014-05",
          "2014-06",
          "2014-07",
          "2014-08",
          "2014-09",
          "2014-10",
          "2014-11",
          "2014-12",
          "2015-01",
          "2015-02",
          "2015-03",
          "2015-04",
          "2015-05",
          "2015-06",
          "2015-07",
          "2015-08",
          "2015-09",
          "2015-10",
          "2015-11",
          "2015-12",
          "2016-01",
          "2016-02",
          "2016-03",
          "2016-04",
          "2016-05",
          "2016-06",
          "2016-07",
          "2016-08",
          "2016-09",
          "2016-10",
          "2016-11",
          "2016-12",
          "2017-01",
          "2017-02",
          "2017-03",
          "2017-04",
          "2017-05",
          "2017-06",
          "2017-07",
          "2017-08",
          "2017-09",
          "2017-10",
          "2017-11",
          "2017-12",
          "2018-01",
          "2018-02",
          "2018-03",
          "2018-04",
          "2018-05",
          "2018-06",
          "2018-07",
          "2018-08",
          "2018-09",
          "2018-10",
          "2018-11",
          "2018-12",
          "2019-01",
          "2019-02",
          "2019-03",
          "2019-04",
          "2019-05",
          "2019-06",
          "2019-07",
          "2019-08",
          "2019-09",
          "2019-10",
          "2019-11",
          "2019-12",
          "2020-01",
          "2020-02",
          "2020-03",
          "2020-04",
          "2020-05",
          "2020-06",
          "2020-07",
          "2020-08",
          "2020-09",
          "2020-10",
          "2020-11",
          "2020-12",
          "2021-01",
          "2021-02",
          "2021-03",
          "2021-04",
          "2021-05",
          "2021-06",
          "2021-07",
          "2021-08",
          "2021-09",
          "2021-10",
          "2021-11",
          "2021-12",
          "2022-01",
          "2022-02",
          "2022-03",
          "2022-04",
          "2022-05",
          "2022-06",
          "2022-07",
          "2022-08",
          "2022-09",
          "2022-10",
          "2022-11",
          "2022-12",
          "2023-01",
          "2023-02",
          "2023-03",
          "2023-04",
          "2023-05",
          "2023-06",
          "2023-07",
          "2023-08",
          "2023-09",
          "2023-10",
          "2023-11",
          "2023-12",
          "2024-01",
          "2024-02",
          "2024-03",
          "2024-04",
          "2024-05",
          "2024-06",
          "2024-07",
          "2024-08",
          "2024-09",
          "2024-10",
          "2024-11"
         ],
         "y": [
          20.02,
          33.62260752688169,
          17.08921130952381,
          26.69189516129032,
          26.47263888888891,
          42.40516129032255,
          50.97758333333327,
          48.23134408602148,
          49.88380376344092,
          58.903583333333266,
          55.138602150537636,
          46.756819444444346,
          47.5039112903225,
          51.54303763440853,
          42.60608630952376,
          43.08432795698914,
          45.38505555555549,
          45.14830645161278,
          54.745541666666576,
          59.52674731182782,
          55.60958333333332,
          51.873833333333216,
          49.8858333333333,
          51.21619444444439,
          52.58642473118269,
          36.5149327956989,
          27.479252873563205,
          27.793239247311817,
          24.09837500000002,
          25.812056451612907,
          38.92434722222211,
          40.51584677419345,
          41.14416666666654,
          43.604749999999854,
          52.84755376344089,
          56.146375,
          60.486357526881804,
          71.5061155913979,
          51.70363095238089,
          43.16017473118275,
          43.686736111111095,
          47.17415322580643,
          50.203333333333376,
          48.63221774193539,
          47.44994623655907,
          49.16091666666671,
          56.78440860215055,
          59.21825000000001,
          57.853629032258056,
          50.05098118279576,
          54.86732142857136,
          40.15615591397846,
          42.685291666666586,
          54.98024193548385,
          58.44956944444438,
          61.87819892473112,
          64.34020161290314,
          71.25444444444445,
          65.1064919354838,
          61.9644722222222,
          61.80711021505376,
          61.95985215053758,
          54.02049107142858,
          48.83611559139775,
          50.40361111111107,
          48.3939919354838,
          47.16123611111111,
          51.46430107526873,
          44.951814516129026,
          42.1301111111111,
          47.15232526881713,
          42.18718055555554,
          33.809368279569824,
          41.08009408602145,
          35.855704022988476,
          27.737002688172016,
          17.60902777777777,
          21.333696236559167,
          30.632111111111143,
          34.62330645161294,
          36.211935483871024,
          41.94605555555549,
          36.54693548387098,
          41.96422222222216,
          41.97151881720424,
          60.099556451612905,
          28.542514880952403,
          45.48087365591397,
          65.06147222222225,
          67.18366935483866,
          83.31108333333327,
          92.36961021505377,
          106.08122311827952,
          156.40465277777804,
          199.67299731182786,
          193.72338888888893,
          238.97243279569912,
          201.8016801075269,
          200.30928571428575,
          283.190228494624,
          191.51891666666677,
          187.1648387096774,
          169.43059722222205,
          142.68165322580637,
          154.99026881720428,
          140.91524999999987,
          127.21719086021518,
          115.57252777777778,
          96.74908602150545,
          69.73137096774201,
          133.4898958333335,
          89.57653225806457,
          73.82186111111118,
          74.16970430107526,
          93.05493055555554,
          90.46205645161275,
          96.09333333333338,
          103.35858333333333,
          89.84059139784948,
          63.57086111111116,
          72.11541666666662,
          74.10771505376341,
          39.90294540229883,
          20.275967741935517,
          13.76626388888888,
          30.315591397849442,
          56.26370833333327,
          72.43311827956997,
          91.09870967741922,
          72.53790277777777,
          68.49112903225803,
          102.7636976047903
         ]
        }
       ],
       "layout": {
        "autosize": true,
        "xaxis": {
         "autorange": true,
         "range": [
          "2013-12-01",
          "2024-11-01"
         ],
         "type": "date"
        },
        "yaxis": {
         "autorange": true,
         "range": [
          -1.2017341447630727,
          298.158226528276
         ],
         "type": "linear"
        }
       }
      },
      "image/png": "[encoded data removed]",
      "text/html": [
       "<div class=\"chart\" id=\"plot-cce13d01-d7b3-43aa-9381-c29a42cb9bf4\"></div>\n",
       "<script>require(['plotly'], function(Plotly) {\n",
       "  (function () {\n",
       "  var data0 = {\"x\":[\"2013-12\",\"2014-01\",\"2014-02\",\"2014-03\",\"2014-04\",\"2014-05\",\"2014-06\",\"2014-07\",\"2014-08\",\"2014-09\",\"2014-10\",\"2014-11\",\"2014-12\",\"2015-01\",\"2015-02\",\"2015-03\",\"2015-04\",\"2015-05\",\"2015-06\",\"2015-07\",\"2015-08\",\"2015-09\",\"2015-10\",\"2015-11\",\"2015-12\",\"2016-01\",\"2016-02\",\"2016-03\",\"2016-04\",\"2016-05\",\"2016-06\",\"2016-07\",\"2016-08\",\"2016-09\",\"2016-10\",\"2016-11\",\"2016-12\",\"2017-01\",\"2017-02\",\"2017-03\",\"2017-04\",\"2017-05\",\"2017-06\",\"2017-07\",\"2017-08\",\"2017-09\",\"2017-10\",\"2017-11\",\"2017-12\",\"2018-01\",\"2018-02\",\"2018-03\",\"2018-04\",\"2018-05\",\"2018-06\",\"2018-07\",\"2018-08\",\"2018-09\",\"2018-10\",\"2018-11\",\"2018-12\",\"2019-01\",\"2019-02\",\"2019-03\",\"2019-04\",\"2019-05\",\"2019-06\",\"2019-07\",\"2019-08\",\"2019-09\",\"2019-10\",\"2019-11\",\"2019-12\",\"2020-01\",\"2020-02\",\"2020-03\",\"2020-04\",\"2020-05\",\"2020-06\",\"2020-07\",\"2020-08\",\"2020-09\",\"2020-10\",\"2020-11\",\"2020-12\",\"2021-01\",\"2021-02\",\"2021-03\",\"2021-04\",\"2021-05\",\"2021-06\",\"2021-07\",\"2021-08\",\"2021-09\",\"2021-10\",\"2021-11\",\"2021-12\",\"2022-01\",\"2022-02\",\"2022-03\",\"2022-04\",\"2022-05\",\"2022-06\",\"2022-07\",\"2022-08\",\"2022-09\",\"2022-10\",\"2022-11\",\"2022-12\",\"2023-01\",\"2023-02\",\"2023-03\",\"2023-04\",\"2023-05\",\"2023-06\",\"2023-07\",\"2023-08\",\"2023-09\",\"2023-10\",\"2023-11\",\"2023-12\",\"2024-01\",\"2024-02\",\"2024-03\",\"2024-04\",\"2024-05\",\"2024-06\",\"2024-07\",\"2024-08\",\"2024-09\",\"2024-10\",\"2024-11\"],\"y\":[20.02,33.62260752688169,17.08921130952381,26.69189516129032,26.47263888888891,42.40516129032255,50.97758333333327,48.23134408602148,49.88380376344092,58.903583333333266,55.138602150537636,46.756819444444346,47.5039112903225,51.54303763440853,42.60608630952376,43.08432795698914,45.38505555555549,45.14830645161278,54.745541666666576,59.52674731182782,55.60958333333332,51.873833333333216,49.8858333333333,51.21619444444439,52.58642473118269,36.5149327956989,27.479252873563205,27.793239247311817,24.09837500000002,25.812056451612907,38.92434722222211,40.51584677419345,41.14416666666654,43.604749999999854,52.84755376344089,56.146375,60.486357526881804,71.5061155913979,51.70363095238089,43.16017473118275,43.686736111111095,47.17415322580643,50.203333333333376,48.63221774193539,47.44994623655907,49.16091666666671,56.78440860215055,59.21825000000001,57.853629032258056,50.05098118279576,54.86732142857136,40.15615591397846,42.685291666666586,54.98024193548385,58.44956944444438,61.87819892473112,64.34020161290314,71.25444444444445,65.1064919354838,61.9644722222222,61.80711021505376,61.95985215053758,54.02049107142858,48.83611559139775,50.40361111111107,48.3939919354838,47.16123611111111,51.46430107526873,44.951814516129026,42.1301111111111,47.15232526881713,42.18718055555554,33.809368279569824,41.08009408602145,35.855704022988476,27.737002688172016,17.60902777777777,21.333696236559167,30.632111111111143,34.62330645161294,36.211935483871024,41.94605555555549,36.54693548387098,41.96422222222216,41.97151881720424,60.099556451612905,28.542514880952403,45.48087365591397,65.06147222222225,67.18366935483866,83.31108333333327,92.36961021505377,106.08122311827952,156.40465277777804,199.67299731182786,193.72338888888893,238.97243279569912,201.8016801075269,200.30928571428575,283.190228494624,191.51891666666677,187.1648387096774,169.43059722222205,142.68165322580637,154.99026881720428,140.91524999999987,127.21719086021518,115.57252777777778,96.74908602150545,69.73137096774201,133.4898958333335,89.57653225806457,73.82186111111118,74.16970430107526,93.05493055555554,90.46205645161275,96.09333333333338,103.35858333333333,89.84059139784948,63.57086111111116,72.11541666666662,74.10771505376341,39.90294540229883,20.275967741935517,13.76626388888888,30.315591397849442,56.26370833333327,72.43311827956997,91.09870967741922,72.53790277777777,68.49112903225803,102.7636976047903],\"type\":\"scatter\"};\n",
       "\n",
       "  var data = [data0];\n",
       "  var layout = {};\n",
       "\n",
       "  Plotly.plot('plot-cce13d01-d7b3-43aa-9381-c29a42cb9bf4', data, layout);\n",
       "})();\n",
       "});\n",
       "      </script>\n",
       "           "
      ]
     },
     "metadata": {},
     "output_type": "display_data"
    },
    {
     "data": {
      "application/vnd.plotly.v1+json": {
       "data": [
        {
         "type": "scatter",
         "x": [
          "2013-12",
          "2014-01",
          "2014-02",
          "2014-03",
          "2014-04",
          "2014-05",
          "2014-06",
          "2014-07",
          "2014-08",
          "2014-09",
          "2014-10",
          "2014-11",
          "2014-12",
          "2015-01",
          "2015-02",
          "2015-03",
          "2015-04",
          "2015-05",
          "2015-06",
          "2015-07",
          "2015-08",
          "2015-09",
          "2015-10",
          "2015-11",
          "2015-12",
          "2016-01",
          "2016-02",
          "2016-03",
          "2016-04",
          "2016-05",
          "2016-06",
          "2016-07",
          "2016-08",
          "2016-09",
          "2016-10",
          "2016-11",
          "2016-12",
          "2017-01",
          "2017-02",
          "2017-03",
          "2017-04",
          "2017-05",
          "2017-06",
          "2017-07",
          "2017-08",
          "2017-09",
          "2017-10",
          "2017-11",
          "2017-12",
          "2018-01",
          "2018-02",
          "2018-03",
          "2018-04",
          "2018-05",
          "2018-06",
          "2018-07",
          "2018-08",
          "2018-09",
          "2018-10",
          "2018-11",
          "2018-12",
          "2019-01",
          "2019-02",
          "2019-03",
          "2019-04",
          "2019-05",
          "2019-06",
          "2019-07",
          "2019-08",
          "2019-09",
          "2019-10",
          "2019-11",
          "2019-12",
          "2020-01",
          "2020-02",
          "2020-03",
          "2020-04",
          "2020-05",
          "2020-06",
          "2020-07",
          "2020-08",
          "2020-09",
          "2020-10",
          "2020-11",
          "2020-12",
          "2021-01",
          "2021-02",
          "2021-03",
          "2021-04",
          "2021-05",
          "2021-06",
          "2021-07",
          "2021-08",
          "2021-09",
          "2021-10",
          "2021-11",
          "2021-12",
          "2022-01",
          "2022-02",
          "2022-03",
          "2022-04",
          "2022-05",
          "2022-06",
          "2022-07",
          "2022-08",
          "2022-09",
          "2022-10",
          "2022-11",
          "2022-12",
          "2023-01",
          "2023-02",
          "2023-03",
          "2023-04",
          "2023-05",
          "2023-06",
          "2023-07",
          "2023-08",
          "2023-09",
          "2023-10",
          "2023-11",
          "2023-12",
          "2024-01",
          "2024-02",
          "2024-03",
          "2024-04",
          "2024-05",
          "2024-06",
          "2024-07",
          "2024-08",
          "2024-09",
          "2024-10",
          "2024-11"
         ],
         "y": [
          15366845.417499999,
          12305336.7865,
          9999119.282000003,
          10966444.1905,
          10517044.867999997,
          12264857.8905,
          13773314.026999999,
          15034826.443499997,
          14972171.3535,
          16687641.214999996,
          15217319.072499998,
          12709746.6235,
          14312475.606000006,
          15925923.004500005,
          12644280.147999998,
          12998540.371,
          12562074.277999997,
          11602070.5105,
          14434051.964000002,
          17879953.848,
          16176626.0675,
          15011793.9515,
          14020805.327499999,
          14481795.618,
          15532135.991499996,
          12995781.2955,
          10490025.772,
          11808564.418499999,
          10542408.875000004,
          10030262.261999998,
          12455905.429000001,
          14920903.8585,
          14279299.292,
          14974577.699499998,
          16480380.775499998,
          15573361.272,
          16344820.705500003,
          17484463.645499997,
          13121928.009499997,
          12216953.486,
          11676553.457500003,
          13151856.570999999,
          15117185.9285,
          16256548.473999998,
          15191239.972999994,
          14477851.094,
          15906056.006499996,
          16902027.993,
          16023284.175999999,
          14568859.1665,
          13627927.668499999,
          10874090.9355,
          10236651.7365,
          11801067.143,
          11697022.902999999,
          14151477.35,
          15068906.521,
          15080512.162500005,
          15068989.922,
          14667558.472499998,
          13859350.213499997,
          15386922.844500002,
          13212846.365500001,
          12192306.5345,
          11618610.081999999,
          12062929.021999998,
          13889075.745,
          16557427.352499997,
          16020735.346500002,
          14619463.871500002,
          14460850.286499998,
          11564313.193499995,
          11330575.888,
          13240757.6715,
          11522750.455000002,
          10711402.058999998,
          9086652.570500003,
          8666484.087000001,
          10875197.817000002,
          14755887.792000001,
          14041687.6355,
          13120634.589000002,
          11053067.582999999,
          11959224.087499997,
          11690468.040000001,
          11689587.567,
          8867462.7445,
          10269995.050500002,
          10639539.630499998,
          10115902.563999997,
          10638829.74,
          11946152.168,
          12538185.052,
          13235835.554,
          12451285.432000002,
          13538808.080499997,
          12607637.169000002,
          14652660.967500003,
          12963415.86,
          12214275.9295,
          10822102.072999997,
          11105394.724499999,
          14023216.046500003,
          16370029.496999998,
          15797788.758999998,
          14602098.802500006,
          13425899.8085,
          11552742.0075,
          12117246.276000004,
          10427141.372500002,
          11914810.1115,
          11192803.384999998,
          10327894.2555,
          9990393.222,
          11441367.858499996,
          12807049.579499997,
          12698035.078499999,
          12081221.057,
          10341532.3585,
          8885603.580000002,
          10479736.9245,
          11454780.397,
          9024821.676500002,
          8006259.4305,
          7524501.095499999,
          8069934.004500001,
          9092266.015499998,
          11063353.013,
          11121638.690500002,
          10311851.032500003,
          9723083.318500001,
          6690822.686999999
         ]
        },
        {
         "type": "scatter",
         "x": [
          "2013-12",
          "2014-01",
          "2014-02",
          "2014-03",
          "2014-04",
          "2014-05",
          "2014-06",
          "2014-07",
          "2014-08",
          "2014-09",
          "2014-10",
          "2014-11",
          "2014-12",
          "2015-01",
          "2015-02",
          "2015-03",
          "2015-04",
          "2015-05",
          "2015-06",
          "2015-07",
          "2015-08",
          "2015-09",
          "2015-10",
          "2015-11",
          "2015-12",
          "2016-01",
          "2016-02",
          "2016-03",
          "2016-04",
          "2016-05",
          "2016-06",
          "2016-07",
          "2016-08",
          "2016-09",
          "2016-10",
          "2016-11",
          "2016-12",
          "2017-01",
          "2017-02",
          "2017-03",
          "2017-04",
          "2017-05",
          "2017-06",
          "2017-07",
          "2017-08",
          "2017-09",
          "2017-10",
          "2017-11",
          "2017-12",
          "2018-01",
          "2018-02",
          "2018-03",
          "2018-04",
          "2018-05",
          "2018-06",
          "2018-07",
          "2018-08",
          "2018-09",
          "2018-10",
          "2018-11",
          "2018-12",
          "2019-01",
          "2019-02",
          "2019-03",
          "2019-04",
          "2019-05",
          "2019-06",
          "2019-07",
          "2019-08",
          "2019-09",
          "2019-10",
          "2019-11",
          "2019-12",
          "2020-01",
          "2020-02",
          "2020-03",
          "2020-04",
          "2020-05",
          "2020-06",
          "2020-07",
          "2020-08",
          "2020-09",
          "2020-10",
          "2020-11",
          "2020-12",
          "2021-01",
          "2021-02",
          "2021-03",
          "2021-04",
          "2021-05",
          "2021-06",
          "2021-07",
          "2021-08",
          "2021-09",
          "2021-10",
          "2021-11",
          "2021-12",
          "2022-01",
          "2022-02",
          "2022-03",
          "2022-04",
          "2022-05",
          "2022-06",
          "2022-07",
          "2022-08",
          "2022-09",
          "2022-10",
          "2022-11",
          "2022-12",
          "2023-01",
          "2023-02",
          "2023-03",
          "2023-04",
          "2023-05",
          "2023-06",
          "2023-07",
          "2023-08",
          "2023-09",
          "2023-10",
          "2023-11",
          "2023-12",
          "2024-01",
          "2024-02",
          "2024-03",
          "2024-04",
          "2024-05",
          "2024-06",
          "2024-07",
          "2024-08",
          "2024-09",
          "2024-10",
          "2024-11"
         ],
         "y": [
          8455898.010499999,
          11842675.513499998,
          12515829.091000002,
          11852725.894499999,
          10316309.912000002,
          9061676.8965,
          7779169.039999999,
          8143710.001499998,
          7090929.7715,
          5390456.336,
          6265688.350499999,
          8643407.3825,
          8818605.583999999,
          8796973.8905,
          10495466.743,
          10221892.128999999,
          7931810.750999998,
          9688453.540499998,
          7440119.005,
          7312203.698,
          6768024.152499998,
          6172721.406499999,
          6780506.000500001,
          6613870.047000001,
          5921719.543500001,
          9818557.8205,
          11269480.215999998,
          11187869.8045,
          11106244.012999998,
          10571183.105,
          8219813.816999999,
          7943800.571499998,
          7784931.517999999,
          6037552.6385,
          5248033.2105,
          6408629.272000002,
          5360126.5125,
          7994247.8155000005,
          7813797.140500001,
          8914834.659,
          7626318.378499999,
          7207897.678999999,
          6897233.674500002,
          6638621.996000001,
          6423197.939,
          5689502.274000001,
          5515770.898500001,
          6079694.178000001,
          8009803.987000002,
          8424683.1665,
          8342637.525499998,
          13197732.031499999,
          10468285.744499996,
          8419408.674,
          8090380.274,
          7849151.167999999,
          7144489.665,
          6059191.3944999995,
          6900219.075,
          7646256.104499999,
          7650629.516500002,
          9522339.210500002,
          7155989.3505,
          8682131.8375,
          8119885.580999999,
          8590253.972000001,
          7054052.777,
          7096751.795499999,
          6323239.1865,
          6831931.640499998,
          6517631.4174999995,
          11048955.0855,
          11014606.621000001,
          9608085.0905,
          8822077.096,
          10201124.183000002,
          8486457.556499999,
          9243205.556,
          8608412.395,
          9174172.428,
          8479881.725500003,
          8248176.046999999,
          9745289.808999998,
          8136238.076499999,
          12037110.173999997,
          12705385.991999999,
          12233941.738499997,
          11717643.1015,
          9238234.426500002,
          10376365.662999999,
          9302560.662999999,
          10374583.367999997,
          9133790.347000003,
          7405548.830999999,
          8200738.080000001,
          9630908.6015,
          10999491.572999999,
          9941866.1055,
          8072390.572999999,
          10609050.761500003,
          10770570.156,
          11058088.126499996,
          9262995.2565,
          10149299.440999998,
          9445602.255000003,
          8912355.038499998,
          8412844.709500002,
          10185548.606499998,
          9897140.551,
          13721489.1585,
          9845865.5725,
          12664912.958,
          11069305.3975,
          11547974.052000003,
          9913069.4975,
          10960110.617500002,
          10821984.1125,
          8572886.474999998,
          10664639.834500002,
          12907069.513000004,
          11971763.4205,
          12139335.804,
          13182693.764500001,
          14321739.5305,
          13493404.7525,
          13335892.234500002,
          12462758.480500003,
          13233307.467,
          12024821.8785,
          11372100.982499998,
          11742371.306499999,
          7035837.231
         ]
        }
       ],
       "layout": {
        "autosize": true,
        "xaxis": {
         "autorange": true,
         "range": [
          "2013-12-01",
          "2024-11-01"
         ],
         "type": "date"
        },
        "yaxis": {
         "autorange": true,
         "range": [
          4546259.84175,
          18581727.21675
         ],
         "type": "linear"
        }
       }
      },
      "image/png": "[encoded data removed]",
      "text/html": [
       "<div class=\"chart\" id=\"plot-b00e80d6-c0ee-4da7-8e62-137abf4403ef\"></div>\n",
       "<script>require(['plotly'], function(Plotly) {\n",
       "  (function () {\n",
       "  var data0 = {\"x\":[\"2013-12\",\"2014-01\",\"2014-02\",\"2014-03\",\"2014-04\",\"2014-05\",\"2014-06\",\"2014-07\",\"2014-08\",\"2014-09\",\"2014-10\",\"2014-11\",\"2014-12\",\"2015-01\",\"2015-02\",\"2015-03\",\"2015-04\",\"2015-05\",\"2015-06\",\"2015-07\",\"2015-08\",\"2015-09\",\"2015-10\",\"2015-11\",\"2015-12\",\"2016-01\",\"2016-02\",\"2016-03\",\"2016-04\",\"2016-05\",\"2016-06\",\"2016-07\",\"2016-08\",\"2016-09\",\"2016-10\",\"2016-11\",\"2016-12\",\"2017-01\",\"2017-02\",\"2017-03\",\"2017-04\",\"2017-05\",\"2017-06\",\"2017-07\",\"2017-08\",\"2017-09\",\"2017-10\",\"2017-11\",\"2017-12\",\"2018-01\",\"2018-02\",\"2018-03\",\"2018-04\",\"2018-05\",\"2018-06\",\"2018-07\",\"2018-08\",\"2018-09\",\"2018-10\",\"2018-11\",\"2018-12\",\"2019-01\",\"2019-02\",\"2019-03\",\"2019-04\",\"2019-05\",\"2019-06\",\"2019-07\",\"2019-08\",\"2019-09\",\"2019-10\",\"2019-11\",\"2019-12\",\"2020-01\",\"2020-02\",\"2020-03\",\"2020-04\",\"2020-05\",\"2020-06\",\"2020-07\",\"2020-08\",\"2020-09\",\"2020-10\",\"2020-11\",\"2020-12\",\"2021-01\",\"2021-02\",\"2021-03\",\"2021-04\",\"2021-05\",\"2021-06\",\"2021-07\",\"2021-08\",\"2021-09\",\"2021-10\",\"2021-11\",\"2021-12\",\"2022-01\",\"2022-02\",\"2022-03\",\"2022-04\",\"2022-05\",\"2022-06\",\"2022-07\",\"2022-08\",\"2022-09\",\"2022-10\",\"2022-11\",\"2022-12\",\"2023-01\",\"2023-02\",\"2023-03\",\"2023-04\",\"2023-05\",\"2023-06\",\"2023-07\",\"2023-08\",\"2023-09\",\"2023-10\",\"2023-11\",\"2023-12\",\"2024-01\",\"2024-02\",\"2024-03\",\"2024-04\",\"2024-05\",\"2024-06\",\"2024-07\",\"2024-08\",\"2024-09\",\"2024-10\",\"2024-11\"],\"y\":[1.5366845417499999E7,1.23053367865E7,9999119.282000003,1.09664441905E7,1.0517044867999997E7,1.22648578905E7,1.3773314026999999E7,1.5034826443499997E7,1.49721713535E7,1.6687641214999996E7,1.5217319072499998E7,1.27097466235E7,1.4312475606000006E7,1.5925923004500005E7,1.2644280147999998E7,1.2998540371E7,1.2562074277999997E7,1.16020705105E7,1.4434051964000002E7,1.7879953848E7,1.61766260675E7,1.50117939515E7,1.4020805327499999E7,1.4481795618E7,1.5532135991499996E7,1.29957812955E7,1.0490025772E7,1.1808564418499999E7,1.0542408875000004E7,1.0030262261999998E7,1.2455905429000001E7,1.49209038585E7,1.4279299292E7,1.4974577699499998E7,1.6480380775499998E7,1.5573361272E7,1.6344820705500003E7,1.7484463645499997E7,1.3121928009499997E7,1.2216953486E7,1.1676553457500003E7,1.3151856570999999E7,1.51171859285E7,1.6256548473999998E7,1.5191239972999994E7,1.4477851094E7,1.5906056006499996E7,1.6902027993E7,1.6023284175999999E7,1.45688591665E7,1.3627927668499999E7,1.08740909355E7,1.02366517365E7,1.1801067143E7,1.1697022902999999E7,1.415147735E7,1.5068906521E7,1.5080512162500005E7,1.5068989922E7,1.4667558472499998E7,1.3859350213499997E7,1.5386922844500002E7,1.3212846365500001E7,1.21923065345E7,1.1618610081999999E7,1.2062929021999998E7,1.3889075745E7,1.6557427352499997E7,1.6020735346500002E7,1.4619463871500002E7,1.4460850286499998E7,1.1564313193499995E7,1.1330575888E7,1.32407576715E7,1.1522750455000002E7,1.0711402058999998E7,9086652.570500003,8666484.087000001,1.0875197817000002E7,1.4755887792000001E7,1.40416876355E7,1.3120634589000002E7,1.1053067582999999E7,1.1959224087499997E7,1.1690468040000001E7,1.1689587567E7,8867462.7445,1.0269995050500002E7,1.0639539630499998E7,1.0115902563999997E7,1.063882974E7,1.1946152168E7,1.2538185052E7,1.3235835554E7,1.2451285432000002E7,1.3538808080499997E7,1.2607637169000002E7,1.4652660967500003E7,1.296341586E7,1.22142759295E7,1.0822102072999997E7,1.1105394724499999E7,1.4023216046500003E7,1.6370029496999998E7,1.5797788758999998E7,1.4602098802500006E7,1.34258998085E7,1.15527420075E7,1.2117246276000004E7,1.0427141372500002E7,1.19148101115E7,1.1192803384999998E7,1.03278942555E7,9990393.222,1.1441367858499996E7,1.2807049579499997E7,1.2698035078499999E7,1.2081221057E7,1.03415323585E7,8885603.580000002,1.04797369245E7,1.1454780397E7,9024821.676500002,8006259.4305,7524501.095499999,8069934.004500001,9092266.015499998,1.1063353013E7,1.1121638690500002E7,1.0311851032500003E7,9723083.318500001,6690822.686999999],\"type\":\"scatter\"};\n",
       "  var data1 = {\"x\":[\"2013-12\",\"2014-01\",\"2014-02\",\"2014-03\",\"2014-04\",\"2014-05\",\"2014-06\",\"2014-07\",\"2014-08\",\"2014-09\",\"2014-10\",\"2014-11\",\"2014-12\",\"2015-01\",\"2015-02\",\"2015-03\",\"2015-04\",\"2015-05\",\"2015-06\",\"2015-07\",\"2015-08\",\"2015-09\",\"2015-10\",\"2015-11\",\"2015-12\",\"2016-01\",\"2016-02\",\"2016-03\",\"2016-04\",\"2016-05\",\"2016-06\",\"2016-07\",\"2016-08\",\"2016-09\",\"2016-10\",\"2016-11\",\"2016-12\",\"2017-01\",\"2017-02\",\"2017-03\",\"2017-04\",\"2017-05\",\"2017-06\",\"2017-07\",\"2017-08\",\"2017-09\",\"2017-10\",\"2017-11\",\"2017-12\",\"2018-01\",\"2018-02\",\"2018-03\",\"2018-04\",\"2018-05\",\"2018-06\",\"2018-07\",\"2018-08\",\"2018-09\",\"2018-10\",\"2018-11\",\"2018-12\",\"2019-01\",\"2019-02\",\"2019-03\",\"2019-04\",\"2019-05\",\"2019-06\",\"2019-07\",\"2019-08\",\"2019-09\",\"2019-10\",\"2019-11\",\"2019-12\",\"2020-01\",\"2020-02\",\"2020-03\",\"2020-04\",\"2020-05\",\"2020-06\",\"2020-07\",\"2020-08\",\"2020-09\",\"2020-10\",\"2020-11\",\"2020-12\",\"2021-01\",\"2021-02\",\"2021-03\",\"2021-04\",\"2021-05\",\"2021-06\",\"2021-07\",\"2021-08\",\"2021-09\",\"2021-10\",\"2021-11\",\"2021-12\",\"2022-01\",\"2022-02\",\"2022-03\",\"2022-04\",\"2022-05\",\"2022-06\",\"2022-07\",\"2022-08\",\"2022-09\",\"2022-10\",\"2022-11\",\"2022-12\",\"2023-01\",\"2023-02\",\"2023-03\",\"2023-04\",\"2023-05\",\"2023-06\",\"2023-07\",\"2023-08\",\"2023-09\",\"2023-10\",\"2023-11\",\"2023-12\",\"2024-01\",\"2024-02\",\"2024-03\",\"2024-04\",\"2024-05\",\"2024-06\",\"2024-07\",\"2024-08\",\"2024-09\",\"2024-10\",\"2024-11\"],\"y\":[8455898.010499999,1.1842675513499998E7,1.2515829091000002E7,1.1852725894499999E7,1.0316309912000002E7,9061676.8965,7779169.039999999,8143710.001499998,7090929.7715,5390456.336,6265688.350499999,8643407.3825,8818605.583999999,8796973.8905,1.0495466743E7,1.0221892128999999E7,7931810.750999998,9688453.540499998,7440119.005,7312203.698,6768024.152499998,6172721.406499999,6780506.000500001,6613870.047000001,5921719.543500001,9818557.8205,1.1269480215999998E7,1.11878698045E7,1.1106244012999998E7,1.0571183105E7,8219813.816999999,7943800.571499998,7784931.517999999,6037552.6385,5248033.2105,6408629.272000002,5360126.5125,7994247.8155000005,7813797.140500001,8914834.659,7626318.378499999,7207897.678999999,6897233.674500002,6638621.996000001,6423197.939,5689502.274000001,5515770.898500001,6079694.178000001,8009803.987000002,8424683.1665,8342637.525499998,1.3197732031499999E7,1.0468285744499996E7,8419408.674,8090380.274,7849151.167999999,7144489.665,6059191.3944999995,6900219.075,7646256.104499999,7650629.516500002,9522339.210500002,7155989.3505,8682131.8375,8119885.580999999,8590253.972000001,7054052.777,7096751.795499999,6323239.1865,6831931.640499998,6517631.4174999995,1.10489550855E7,1.1014606621000001E7,9608085.0905,8822077.096,1.0201124183000002E7,8486457.556499999,9243205.556,8608412.395,9174172.428,8479881.725500003,8248176.046999999,9745289.808999998,8136238.076499999,1.2037110173999997E7,1.2705385991999999E7,1.2233941738499997E7,1.17176431015E7,9238234.426500002,1.0376365662999999E7,9302560.662999999,1.0374583367999997E7,9133790.347000003,7405548.830999999,8200738.080000001,9630908.6015,1.0999491572999999E7,9941866.1055,8072390.572999999,1.0609050761500003E7,1.0770570156E7,1.1058088126499996E7,9262995.2565,1.0149299440999998E7,9445602.255000003,8912355.038499998,8412844.709500002,1.0185548606499998E7,9897140.551,1.37214891585E7,9845865.5725,1.2664912958E7,1.10693053975E7,1.1547974052000003E7,9913069.4975,1.0960110617500002E7,1.08219841125E7,8572886.474999998,1.0664639834500002E7,1.2907069513000004E7,1.19717634205E7,1.2139335804E7,1.3182693764500001E7,1.43217395305E7,1.34934047525E7,1.3335892234500002E7,1.2462758480500003E7,1.3233307467E7,1.20248218785E7,1.1372100982499998E7,1.1742371306499999E7,7035837.231],\"type\":\"scatter\"};\n",
       "\n",
       "  var data = [data0, data1];\n",
       "  var layout = {};\n",
       "\n",
       "  Plotly.plot('plot-b00e80d6-c0ee-4da7-8e62-137abf4403ef', data, layout);\n",
       "})();\n",
       "});\n",
       "      </script>\n",
       "           "
      ]
     },
     "metadata": {},
     "output_type": "display_data"
    },
    {
     "data": {
      "application/vnd.plotly.v1+json": {
       "data": [
        {
         "type": "scatter",
         "x": [
          "2013-12",
          "2014-01",
          "2014-02",
          "2014-03",
          "2014-04",
          "2014-05",
          "2014-06",
          "2014-07",
          "2014-08",
          "2014-09",
          "2014-10",
          "2014-11",
          "2014-12",
          "2015-01",
          "2015-02",
          "2015-03",
          "2015-04",
          "2015-05",
          "2015-06",
          "2015-07",
          "2015-08",
          "2015-09",
          "2015-10",
          "2015-11",
          "2015-12",
          "2016-01",
          "2016-02",
          "2016-03",
          "2016-04",
          "2016-05",
          "2016-06",
          "2016-07",
          "2016-08",
          "2016-09",
          "2016-10",
          "2016-11",
          "2016-12",
          "2017-01",
          "2017-02",
          "2017-03",
          "2017-04",
          "2017-05",
          "2017-06",
          "2017-07",
          "2017-08",
          "2017-09",
          "2017-10",
          "2017-11",
          "2017-12",
          "2018-01",
          "2018-02",
          "2018-03",
          "2018-04",
          "2018-05",
          "2018-06",
          "2018-07",
          "2018-08",
          "2018-09",
          "2018-10",
          "2018-11",
          "2018-12",
          "2019-01",
          "2019-02",
          "2019-03",
          "2019-04",
          "2019-05",
          "2019-06",
          "2019-07",
          "2019-08",
          "2019-09",
          "2019-10",
          "2019-11",
          "2019-12",
          "2020-01",
          "2020-02",
          "2020-03",
          "2020-04",
          "2020-05",
          "2020-06",
          "2020-07",
          "2020-08",
          "2020-09",
          "2020-10",
          "2020-11",
          "2020-12",
          "2021-01",
          "2021-02",
          "2021-03",
          "2021-04",
          "2021-05",
          "2021-06",
          "2021-07",
          "2021-08",
          "2021-09",
          "2021-10",
          "2021-11",
          "2021-12",
          "2022-01",
          "2022-02",
          "2022-03",
          "2022-04",
          "2022-05",
          "2022-06",
          "2022-07",
          "2022-08",
          "2022-09",
          "2022-10",
          "2022-11",
          "2022-12",
          "2023-01",
          "2023-02",
          "2023-03",
          "2023-04",
          "2023-05",
          "2023-06",
          "2023-07",
          "2023-08",
          "2023-09",
          "2023-10",
          "2023-11",
          "2023-12",
          "2024-01",
          "2024-02",
          "2024-03",
          "2024-04",
          "2024-05",
          "2024-06",
          "2024-07",
          "2024-08",
          "2024-09",
          "2024-10",
          "2024-11"
         ],
         "y": [
          -413695.157,
          39079.202999999994,
          -488067.18600000005,
          -243092.135,
          -616989.6029999999,
          -273634.7259999999,
          -287146.80500000005,
          -479648.7020000001,
          -248766.64100000003,
          -333969.006,
          -283116.8050000001,
          161103.012,
          -331774.6,
          -298773.7520000001,
          -571437.951,
          -382316.14999999997,
          -264590.688,
          206888.755,
          -26720.641999999985,
          -208107.57700000002,
          -226604.05099999998,
          -160967.78800000006,
          435536.41199999995,
          483186.826,
          894239.3769999999,
          880332.0399999999,
          891028.3840000002,
          185951.35399999996,
          -161960.35400000005,
          863024.3910000002,
          1093342.093,
          918248.1420000001,
          1027816.4310000002,
          1122223.294,
          -444902.395,
          317689.68600000005,
          969890.5450000002,
          -517747.27999999985,
          552147.78,
          1392799.866,
          1070498.038,
          1460330.6559999997,
          1129403.6349999998,
          1311029.051,
          1852423.245,
          1338257.6439999996,
          269906.7630000001,
          -427293.0319999999,
          -308981.701,
          1447843.0690000001,
          737526.8460000003,
          -240094.98200000002,
          923849.3820000001,
          1397335.5900000003,
          1848619.568,
          1896692.8579999995,
          1254193.1619999998,
          1059083.7289999998,
          -133520.853,
          16365.704999999965,
          963635.9930000001,
          159074.11499999987,
          1138534.7249999999,
          1375029.214,
          1041549.613,
          758809.7619999998,
          535515.713,
          632851.079,
          354352.354,
          113019.177,
          545687.8099999999,
          -231787.38100000002,
          399663.961,
          1503161.242,
          994588.3890000001,
          530543.941,
          128240.29600000003,
          827819.061,
          225552.381,
          -458489.704,
          -235024.81399999995,
          -635039.09,
          148682.53999999998,
          1057014.5720000002,
          -886762.361,
          245608.01600000018,
          -141101.80200000003,
          178148.50199999998,
          267073.144,
          335549.0929999999,
          986204.683,
          657764.253,
          700064.96,
          440761.28300000017,
          -166477.025,
          -1275962.353,
          -1272331.2949999997,
          -1256514.0829999996,
          -452257.482,
          -933188.043,
          -1579243.2950000002,
          -1257199.8719999997,
          -1486183.7700000005,
          -2452054.653999999,
          -2803528.849999999,
          -2863189.627,
          -1981818.842,
          -1672850.9159999997,
          -1076058.4579999999,
          -970265.675,
          -963549.174,
          -2618682.545,
          -2353234.2419999996,
          -1601413.4289999998,
          -1087124.0620000002,
          -512407.443,
          -1257484.471,
          -629157.7990000001,
          -374433.175,
          -890802.97,
          -729875.667,
          -513314.8649999999,
          -1146993.6520000002,
          -817670.7160000001,
          -1188936.84,
          -1034706.4030000002,
          -1215564.899,
          -914132.6130000001,
          -368044.8079999999,
          -1167376.948,
          -855796.5300000001,
          -424776.4
         ]
        }
       ],
       "layout": {
        "autosize": true,
        "xaxis": {
         "autorange": true,
         "range": [
          "2013-12-01",
          "2024-11-01"
         ],
         "type": "date"
        },
        "yaxis": {
         "autorange": true,
         "range": [
          -3127627.542833333,
          2161130.7738333326
         ],
         "type": "linear"
        }
       }
      },
      "image/png": "[encoded data removed]",
      "text/html": [
       "<div class=\"chart\" id=\"plot-8feb5cdb-8cfe-4192-a93e-277c5356a71e\"></div>\n",
       "<script>require(['plotly'], function(Plotly) {\n",
       "  (function () {\n",
       "  var data0 = {\"x\":[\"2013-12\",\"2014-01\",\"2014-02\",\"2014-03\",\"2014-04\",\"2014-05\",\"2014-06\",\"2014-07\",\"2014-08\",\"2014-09\",\"2014-10\",\"2014-11\",\"2014-12\",\"2015-01\",\"2015-02\",\"2015-03\",\"2015-04\",\"2015-05\",\"2015-06\",\"2015-07\",\"2015-08\",\"2015-09\",\"2015-10\",\"2015-11\",\"2015-12\",\"2016-01\",\"2016-02\",\"2016-03\",\"2016-04\",\"2016-05\",\"2016-06\",\"2016-07\",\"2016-08\",\"2016-09\",\"2016-10\",\"2016-11\",\"2016-12\",\"2017-01\",\"2017-02\",\"2017-03\",\"2017-04\",\"2017-05\",\"2017-06\",\"2017-07\",\"2017-08\",\"2017-09\",\"2017-10\",\"2017-11\",\"2017-12\",\"2018-01\",\"2018-02\",\"2018-03\",\"2018-04\",\"2018-05\",\"2018-06\",\"2018-07\",\"2018-08\",\"2018-09\",\"2018-10\",\"2018-11\",\"2018-12\",\"2019-01\",\"2019-02\",\"2019-03\",\"2019-04\",\"2019-05\",\"2019-06\",\"2019-07\",\"2019-08\",\"2019-09\",\"2019-10\",\"2019-11\",\"2019-12\",\"2020-01\",\"2020-02\",\"2020-03\",\"2020-04\",\"2020-05\",\"2020-06\",\"2020-07\",\"2020-08\",\"2020-09\",\"2020-10\",\"2020-11\",\"2020-12\",\"2021-01\",\"2021-02\",\"2021-03\",\"2021-04\",\"2021-05\",\"2021-06\",\"2021-07\",\"2021-08\",\"2021-09\",\"2021-10\",\"2021-11\",\"2021-12\",\"2022-01\",\"2022-02\",\"2022-03\",\"2022-04\",\"2022-05\",\"2022-06\",\"2022-07\",\"2022-08\",\"2022-09\",\"2022-10\",\"2022-11\",\"2022-12\",\"2023-01\",\"2023-02\",\"2023-03\",\"2023-04\",\"2023-05\",\"2023-06\",\"2023-07\",\"2023-08\",\"2023-09\",\"2023-10\",\"2023-11\",\"2023-12\",\"2024-01\",\"2024-02\",\"2024-03\",\"2024-04\",\"2024-05\",\"2024-06\",\"2024-07\",\"2024-08\",\"2024-09\",\"2024-10\",\"2024-11\"],\"y\":[-413695.157,39079.202999999994,-488067.18600000005,-243092.135,-616989.6029999999,-273634.7259999999,-287146.80500000005,-479648.7020000001,-248766.64100000003,-333969.006,-283116.8050000001,161103.012,-331774.6,-298773.7520000001,-571437.951,-382316.14999999997,-264590.688,206888.755,-26720.641999999985,-208107.57700000002,-226604.05099999998,-160967.78800000006,435536.41199999995,483186.826,894239.3769999999,880332.0399999999,891028.3840000002,185951.35399999996,-161960.35400000005,863024.3910000002,1093342.093,918248.1420000001,1027816.4310000002,1122223.294,-444902.395,317689.68600000005,969890.5450000002,-517747.27999999985,552147.78,1392799.866,1070498.038,1460330.6559999997,1129403.6349999998,1311029.051,1852423.245,1338257.6439999996,269906.7630000001,-427293.0319999999,-308981.701,1447843.0690000001,737526.8460000003,-240094.98200000002,923849.3820000001,1397335.5900000003,1848619.568,1896692.8579999995,1254193.1619999998,1059083.7289999998,-133520.853,16365.704999999965,963635.9930000001,159074.11499999987,1138534.7249999999,1375029.214,1041549.613,758809.7619999998,535515.713,632851.079,354352.354,113019.177,545687.8099999999,-231787.38100000002,399663.961,1503161.242,994588.3890000001,530543.941,128240.29600000003,827819.061,225552.381,-458489.704,-235024.81399999995,-635039.09,148682.53999999998,1057014.5720000002,-886762.361,245608.01600000018,-141101.80200000003,178148.50199999998,267073.144,335549.0929999999,986204.683,657764.253,700064.96,440761.28300000017,-166477.025,-1275962.353,-1272331.2949999997,-1256514.0829999996,-452257.482,-933188.043,-1579243.2950000002,-1257199.8719999997,-1486183.7700000005,-2452054.653999999,-2803528.849999999,-2863189.627,-1981818.842,-1672850.9159999997,-1076058.4579999999,-970265.675,-963549.174,-2618682.545,-2353234.2419999996,-1601413.4289999998,-1087124.0620000002,-512407.443,-1257484.471,-629157.7990000001,-374433.175,-890802.97,-729875.667,-513314.8649999999,-1146993.6520000002,-817670.7160000001,-1188936.84,-1034706.4030000002,-1215564.899,-914132.6130000001,-368044.8079999999,-1167376.948,-855796.5300000001,-424776.4],\"type\":\"scatter\"};\n",
       "\n",
       "  var data = [data0];\n",
       "  var layout = {};\n",
       "\n",
       "  Plotly.plot('plot-8feb5cdb-8cfe-4192-a93e-277c5356a71e', data, layout);\n",
       "})();\n",
       "});\n",
       "      </script>\n",
       "           "
      ]
     },
     "metadata": {},
     "output_type": "display_data"
    },
    {
     "data": {
      "text/plain": [
       "\u001b[36mtracePrecios\u001b[39m: \u001b[32mScatter\u001b[39m = \u001b[33mScatter\u001b[39m(\n",
       "  \u001b[33mSome\u001b[39m(\n",
       "    \u001b[33mStrings\u001b[39m(\n",
       "      \u001b[33mWrappedArray\u001b[39m(\n",
       "        \u001b[32m\"2013-12\"\u001b[39m,\n",
       "        \u001b[32m\"2014-01\"\u001b[39m,\n",
       "        \u001b[32m\"2014-02\"\u001b[39m,\n",
       "        \u001b[32m\"2014-03\"\u001b[39m,\n",
       "        \u001b[32m\"2014-04\"\u001b[39m,\n",
       "        \u001b[32m\"2014-05\"\u001b[39m,\n",
       "        \u001b[32m\"2014-06\"\u001b[39m,\n",
       "        \u001b[32m\"2014-07\"\u001b[39m,\n",
       "        \u001b[32m\"2014-08\"\u001b[39m,\n",
       "        \u001b[32m\"2014-09\"\u001b[39m,\n",
       "        \u001b[32m\"2014-10\"\u001b[39m,\n",
       "        \u001b[32m\"2014-11\"\u001b[39m,\n",
       "        \u001b[32m\"2014-12\"\u001b[39m,\n",
       "        \u001b[32m\"2015-01\"\u001b[39m,\n",
       "        \u001b[32m\"2015-02\"\u001b[39m,\n",
       "        \u001b[32m\"2015-03\"\u001b[39m,\n",
       "        \u001b[32m\"2015-04\"\u001b[39m,\n",
       "        \u001b[32m\"2015-05\"\u001b[39m,\n",
       "        \u001b[32m\"2015-06\"\u001b[39m,\n",
       "        \u001b[32m\"2015-07\"\u001b[39m,\n",
       "        \u001b[32m\"2015-08\"\u001b[39m,\n",
       "        \u001b[32m\"2015-09\"\u001b[39m,\n",
       "        \u001b[32m\"2015-10\"\u001b[39m,\n",
       "        \u001b[32m\"2015-11\"\u001b[39m,\n",
       "        \u001b[32m\"2015-12\"\u001b[39m,\n",
       "        \u001b[32m\"2016-01\"\u001b[39m,\n",
       "        \u001b[32m\"2016-02\"\u001b[39m,\n",
       "        \u001b[32m\"2016-03\"\u001b[39m,\n",
       "        \u001b[32m\"2016-04\"\u001b[39m,\n",
       "        \u001b[32m\"2016-05\"\u001b[39m,\n",
       "        \u001b[32m\"2016-06\"\u001b[39m,\n",
       "        \u001b[32m\"2016-07\"\u001b[39m,\n",
       "        \u001b[32m\"2016-08\"\u001b[39m,\n",
       "        \u001b[32m\"2016-09\"\u001b[39m,\n",
       "        \u001b[32m\"2016-10\"\u001b[39m,\n",
       "...\n",
       "\u001b[36mtraceNoRenovable\u001b[39m: \u001b[32mScatter\u001b[39m = \u001b[33mScatter\u001b[39m(\n",
       "  \u001b[33mSome\u001b[39m(\n",
       "    \u001b[33mStrings\u001b[39m(\n",
       "      \u001b[33mWrappedArray\u001b[39m(\n",
       "        \u001b[32m\"2013-12\"\u001b[39m,\n",
       "        \u001b[32m\"2014-01\"\u001b[39m,\n",
       "        \u001b[32m\"2014-02\"\u001b[39m,\n",
       "        \u001b[32m\"2014-03\"\u001b[39m,\n",
       "        \u001b[32m\"2014-04\"\u001b[39m,\n",
       "        \u001b[32m\"2014-05\"\u001b[39m,\n",
       "        \u001b[32m\"2014-06\"\u001b[39m,\n",
       "        \u001b[32m\"2014-07\"\u001b[39m,\n",
       "        \u001b[32m\"2014-08\"\u001b[39m,\n",
       "        \u001b[32m\"2014-09\"\u001b[39m,\n",
       "        \u001b[32m\"2014-10\"\u001b[39m,\n",
       "        \u001b[32m\"2014-11\"\u001b[39m,\n",
       "        \u001b[32m\"2014-12\"\u001b[39m,\n",
       "        \u001b[32m\"2015-01\"\u001b[39m,\n",
       "        \u001b[32m\"2015-02\"\u001b[39m,\n",
       "        \u001b[32m\"2015-03\"\u001b[39m,\n",
       "        \u001b[32m\"2015-04\"\u001b[39m,\n",
       "        \u001b[32m\"2015-05\"\u001b[39m,\n",
       "        \u001b[32m\"2015-06\"\u001b[39m,\n",
       "        \u001b[32m\"2015-07\"\u001b[39m,\n",
       "        \u001b[32m\"2015-08\"\u001b[39m,\n",
       "        \u001b[32m\"2015-09\"\u001b[39m,\n",
       "        \u001b[32m\"2015-10\"\u001b[39m,\n",
       "        \u001b[32m\"2015-11\"\u001b[39m,\n",
       "        \u001b[32m\"2015-12\"\u001b[39m,\n",
       "        \u001b[32m\"2016-01\"\u001b[39m,\n",
       "        \u001b[32m\"2016-02\"\u001b[39m,\n",
       "        \u001b[32m\"2016-03\"\u001b[39m,\n",
       "        \u001b[32m\"2016-04\"\u001b[39m,\n",
       "        \u001b[32m\"2016-05\"\u001b[39m,\n",
       "        \u001b[32m\"2016-06\"\u001b[39m,\n",
       "        \u001b[32m\"2016-07\"\u001b[39m,\n",
       "        \u001b[32m\"2016-08\"\u001b[39m,\n",
       "        \u001b[32m\"2016-09\"\u001b[39m,\n",
       "        \u001b[32m\"2016-10\"\u001b[39m,\n",
       "...\n",
       "\u001b[36mtraceRenovable\u001b[39m: \u001b[32mScatter\u001b[39m = \u001b[33mScatter\u001b[39m(\n",
       "  \u001b[33mSome\u001b[39m(\n",
       "    \u001b[33mStrings\u001b[39m(\n",
       "      \u001b[33mWrappedArray\u001b[39m(\n",
       "        \u001b[32m\"2013-12\"\u001b[39m,\n",
       "        \u001b[32m\"2014-01\"\u001b[39m,\n",
       "        \u001b[32m\"2014-02\"\u001b[39m,\n",
       "        \u001b[32m\"2014-03\"\u001b[39m,\n",
       "        \u001b[32m\"2014-04\"\u001b[39m,\n",
       "        \u001b[32m\"2014-05\"\u001b[39m,\n",
       "        \u001b[32m\"2014-06\"\u001b[39m,\n",
       "        \u001b[32m\"2014-07\"\u001b[39m,\n",
       "        \u001b[32m\"2014-08\"\u001b[39m,\n",
       "        \u001b[32m\"2014-09\"\u001b[39m,\n",
       "        \u001b[32m\"2014-10\"\u001b[39m,\n",
       "        \u001b[32m\"2014-11\"\u001b[39m,\n",
       "        \u001b[32m\"2014-12\"\u001b[39m,\n",
       "        \u001b[32m\"2015-01\"\u001b[39m,\n",
       "        \u001b[32m\"2015-02\"\u001b[39m,\n",
       "        \u001b[32m\"2015-03\"\u001b[39m,\n",
       "        \u001b[32m\"2015-04\"\u001b[39m,\n",
       "        \u001b[32m\"2015-05\"\u001b[39m,\n",
       "        \u001b[32m\"2015-06\"\u001b[39m,\n",
       "        \u001b[32m\"2015-07\"\u001b[39m,\n",
       "        \u001b[32m\"2015-08\"\u001b[39m,\n",
       "        \u001b[32m\"2015-09\"\u001b[39m,\n",
       "        \u001b[32m\"2015-10\"\u001b[39m,\n",
       "        \u001b[32m\"2015-11\"\u001b[39m,\n",
       "        \u001b[32m\"2015-12\"\u001b[39m,\n",
       "        \u001b[32m\"2016-01\"\u001b[39m,\n",
       "        \u001b[32m\"2016-02\"\u001b[39m,\n",
       "        \u001b[32m\"2016-03\"\u001b[39m,\n",
       "        \u001b[32m\"2016-04\"\u001b[39m,\n",
       "        \u001b[32m\"2016-05\"\u001b[39m,\n",
       "        \u001b[32m\"2016-06\"\u001b[39m,\n",
       "        \u001b[32m\"2016-07\"\u001b[39m,\n",
       "        \u001b[32m\"2016-08\"\u001b[39m,\n",
       "        \u001b[32m\"2016-09\"\u001b[39m,\n",
       "        \u001b[32m\"2016-10\"\u001b[39m,\n",
       "...\n",
       "\u001b[36mtraceSaldo\u001b[39m: \u001b[32mScatter\u001b[39m = \u001b[33mScatter\u001b[39m(\n",
       "  \u001b[33mSome\u001b[39m(\n",
       "    \u001b[33mStrings\u001b[39m(\n",
       "      \u001b[33mWrappedArray\u001b[39m(\n",
       "        \u001b[32m\"2013-12\"\u001b[39m,\n",
       "        \u001b[32m\"2014-01\"\u001b[39m,\n",
       "        \u001b[32m\"2014-02\"\u001b[39m,\n",
       "        \u001b[32m\"2014-03\"\u001b[39m,\n",
       "        \u001b[32m\"2014-04\"\u001b[39m,\n",
       "        \u001b[32m\"2014-05\"\u001b[39m,\n",
       "        \u001b[32m\"2014-06\"\u001b[39m,\n",
       "        \u001b[32m\"2014-07\"\u001b[39m,\n",
       "        \u001b[32m\"2014-08\"\u001b[39m,\n",
       "        \u001b[32m\"2014-09\"\u001b[39m,\n",
       "        \u001b[32m\"2014-10\"\u001b[39m,\n",
       "        \u001b[32m\"2014-11\"\u001b[39m,\n",
       "        \u001b[32m\"2014-12\"\u001b[39m,\n",
       "        \u001b[32m\"2015-01\"\u001b[39m,\n",
       "        \u001b[32m\"2015-02\"\u001b[39m,\n",
       "        \u001b[32m\"2015-03\"\u001b[39m,\n",
       "        \u001b[32m\"2015-04\"\u001b[39m,\n",
       "        \u001b[32m\"2015-05\"\u001b[39m,\n",
       "        \u001b[32m\"2015-06\"\u001b[39m,\n",
       "        \u001b[32m\"2015-07\"\u001b[39m,\n",
       "        \u001b[32m\"2015-08\"\u001b[39m,\n",
       "        \u001b[32m\"2015-09\"\u001b[39m,\n",
       "        \u001b[32m\"2015-10\"\u001b[39m,\n",
       "        \u001b[32m\"2015-11\"\u001b[39m,\n",
       "        \u001b[32m\"2015-12\"\u001b[39m,\n",
       "        \u001b[32m\"2016-01\"\u001b[39m,\n",
       "        \u001b[32m\"2016-02\"\u001b[39m,\n",
       "        \u001b[32m\"2016-03\"\u001b[39m,\n",
       "        \u001b[32m\"2016-04\"\u001b[39m,\n",
       "        \u001b[32m\"2016-05\"\u001b[39m,\n",
       "        \u001b[32m\"2016-06\"\u001b[39m,\n",
       "        \u001b[32m\"2016-07\"\u001b[39m,\n",
       "        \u001b[32m\"2016-08\"\u001b[39m,\n",
       "        \u001b[32m\"2016-09\"\u001b[39m,\n",
       "        \u001b[32m\"2016-10\"\u001b[39m,\n",
       "...\n",
       "\u001b[36mdataPrecios\u001b[39m: \u001b[32mSeq\u001b[39m[\u001b[32mScatter\u001b[39m] = \u001b[33mList\u001b[39m(\n",
       "  \u001b[33mScatter\u001b[39m(\n",
       "    \u001b[33mSome\u001b[39m(\n",
       "      \u001b[33mStrings\u001b[39m(\n",
       "        \u001b[33mWrappedArray\u001b[39m(\n",
       "          \u001b[32m\"2013-12\"\u001b[39m,\n",
       "          \u001b[32m\"2014-01\"\u001b[39m,\n",
       "          \u001b[32m\"2014-02\"\u001b[39m,\n",
       "          \u001b[32m\"2014-03\"\u001b[39m,\n",
       "          \u001b[32m\"2014-04\"\u001b[39m,\n",
       "          \u001b[32m\"2014-05\"\u001b[39m,\n",
       "          \u001b[32m\"2014-06\"\u001b[39m,\n",
       "          \u001b[32m\"2014-07\"\u001b[39m,\n",
       "          \u001b[32m\"2014-08\"\u001b[39m,\n",
       "          \u001b[32m\"2014-09\"\u001b[39m,\n",
       "          \u001b[32m\"2014-10\"\u001b[39m,\n",
       "          \u001b[32m\"2014-11\"\u001b[39m,\n",
       "          \u001b[32m\"2014-12\"\u001b[39m,\n",
       "          \u001b[32m\"2015-01\"\u001b[39m,\n",
       "          \u001b[32m\"2015-02\"\u001b[39m,\n",
       "          \u001b[32m\"2015-03\"\u001b[39m,\n",
       "          \u001b[32m\"2015-04\"\u001b[39m,\n",
       "          \u001b[32m\"2015-05\"\u001b[39m,\n",
       "          \u001b[32m\"2015-06\"\u001b[39m,\n",
       "          \u001b[32m\"2015-07\"\u001b[39m,\n",
       "          \u001b[32m\"2015-08\"\u001b[39m,\n",
       "          \u001b[32m\"2015-09\"\u001b[39m,\n",
       "          \u001b[32m\"2015-10\"\u001b[39m,\n",
       "          \u001b[32m\"2015-11\"\u001b[39m,\n",
       "          \u001b[32m\"2015-12\"\u001b[39m,\n",
       "          \u001b[32m\"2016-01\"\u001b[39m,\n",
       "          \u001b[32m\"2016-02\"\u001b[39m,\n",
       "          \u001b[32m\"2016-03\"\u001b[39m,\n",
       "          \u001b[32m\"2016-04\"\u001b[39m,\n",
       "          \u001b[32m\"2016-05\"\u001b[39m,\n",
       "          \u001b[32m\"2016-06\"\u001b[39m,\n",
       "          \u001b[32m\"2016-07\"\u001b[39m,\n",
       "          \u001b[32m\"2016-08\"\u001b[39m,\n",
       "          \u001b[32m\"2016-09\"\u001b[39m,\n",
       "...\n",
       "\u001b[36mdataRenovableNoRenovable\u001b[39m: \u001b[32mSeq\u001b[39m[\u001b[32mScatter\u001b[39m] = \u001b[33mList\u001b[39m(\n",
       "  \u001b[33mScatter\u001b[39m(\n",
       "    \u001b[33mSome\u001b[39m(\n",
       "      \u001b[33mStrings\u001b[39m(\n",
       "        \u001b[33mWrappedArray\u001b[39m(\n",
       "          \u001b[32m\"2013-12\"\u001b[39m,\n",
       "          \u001b[32m\"2014-01\"\u001b[39m,\n",
       "          \u001b[32m\"2014-02\"\u001b[39m,\n",
       "          \u001b[32m\"2014-03\"\u001b[39m,\n",
       "          \u001b[32m\"2014-04\"\u001b[39m,\n",
       "          \u001b[32m\"2014-05\"\u001b[39m,\n",
       "          \u001b[32m\"2014-06\"\u001b[39m,\n",
       "          \u001b[32m\"2014-07\"\u001b[39m,\n",
       "          \u001b[32m\"2014-08\"\u001b[39m,\n",
       "          \u001b[32m\"2014-09\"\u001b[39m,\n",
       "          \u001b[32m\"2014-10\"\u001b[39m,\n",
       "          \u001b[32m\"2014-11\"\u001b[39m,\n",
       "          \u001b[32m\"2014-12\"\u001b[39m,\n",
       "          \u001b[32m\"2015-01\"\u001b[39m,\n",
       "          \u001b[32m\"2015-02\"\u001b[39m,\n",
       "          \u001b[32m\"2015-03\"\u001b[39m,\n",
       "          \u001b[32m\"2015-04\"\u001b[39m,\n",
       "          \u001b[32m\"2015-05\"\u001b[39m,\n",
       "          \u001b[32m\"2015-06\"\u001b[39m,\n",
       "          \u001b[32m\"2015-07\"\u001b[39m,\n",
       "          \u001b[32m\"2015-08\"\u001b[39m,\n",
       "          \u001b[32m\"2015-09\"\u001b[39m,\n",
       "          \u001b[32m\"2015-10\"\u001b[39m,\n",
       "          \u001b[32m\"2015-11\"\u001b[39m,\n",
       "          \u001b[32m\"2015-12\"\u001b[39m,\n",
       "          \u001b[32m\"2016-01\"\u001b[39m,\n",
       "          \u001b[32m\"2016-02\"\u001b[39m,\n",
       "          \u001b[32m\"2016-03\"\u001b[39m,\n",
       "          \u001b[32m\"2016-04\"\u001b[39m,\n",
       "          \u001b[32m\"2016-05\"\u001b[39m,\n",
       "          \u001b[32m\"2016-06\"\u001b[39m,\n",
       "          \u001b[32m\"2016-07\"\u001b[39m,\n",
       "          \u001b[32m\"2016-08\"\u001b[39m,\n",
       "          \u001b[32m\"2016-09\"\u001b[39m,\n",
       "...\n",
       "\u001b[36mdataSaldo\u001b[39m: \u001b[32mSeq\u001b[39m[\u001b[32mScatter\u001b[39m] = \u001b[33mList\u001b[39m(\n",
       "  \u001b[33mScatter\u001b[39m(\n",
       "    \u001b[33mSome\u001b[39m(\n",
       "      \u001b[33mStrings\u001b[39m(\n",
       "        \u001b[33mWrappedArray\u001b[39m(\n",
       "          \u001b[32m\"2013-12\"\u001b[39m,\n",
       "          \u001b[32m\"2014-01\"\u001b[39m,\n",
       "          \u001b[32m\"2014-02\"\u001b[39m,\n",
       "          \u001b[32m\"2014-03\"\u001b[39m,\n",
       "          \u001b[32m\"2014-04\"\u001b[39m,\n",
       "          \u001b[32m\"2014-05\"\u001b[39m,\n",
       "          \u001b[32m\"2014-06\"\u001b[39m,\n",
       "          \u001b[32m\"2014-07\"\u001b[39m,\n",
       "          \u001b[32m\"2014-08\"\u001b[39m,\n",
       "          \u001b[32m\"2014-09\"\u001b[39m,\n",
       "          \u001b[32m\"2014-10\"\u001b[39m,\n",
       "          \u001b[32m\"2014-11\"\u001b[39m,\n",
       "          \u001b[32m\"2014-12\"\u001b[39m,\n",
       "          \u001b[32m\"2015-01\"\u001b[39m,\n",
       "          \u001b[32m\"2015-02\"\u001b[39m,\n",
       "          \u001b[32m\"2015-03\"\u001b[39m,\n",
       "          \u001b[32m\"2015-04\"\u001b[39m,\n",
       "          \u001b[32m\"2015-05\"\u001b[39m,\n",
       "          \u001b[32m\"2015-06\"\u001b[39m,\n",
       "          \u001b[32m\"2015-07\"\u001b[39m,\n",
       "          \u001b[32m\"2015-08\"\u001b[39m,\n",
       "          \u001b[32m\"2015-09\"\u001b[39m,\n",
       "          \u001b[32m\"2015-10\"\u001b[39m,\n",
       "          \u001b[32m\"2015-11\"\u001b[39m,\n",
       "          \u001b[32m\"2015-12\"\u001b[39m,\n",
       "          \u001b[32m\"2016-01\"\u001b[39m,\n",
       "          \u001b[32m\"2016-02\"\u001b[39m,\n",
       "          \u001b[32m\"2016-03\"\u001b[39m,\n",
       "          \u001b[32m\"2016-04\"\u001b[39m,\n",
       "          \u001b[32m\"2016-05\"\u001b[39m,\n",
       "          \u001b[32m\"2016-06\"\u001b[39m,\n",
       "          \u001b[32m\"2016-07\"\u001b[39m,\n",
       "          \u001b[32m\"2016-08\"\u001b[39m,\n",
       "          \u001b[32m\"2016-09\"\u001b[39m,\n",
       "...\n",
       "\u001b[36mres7_7\u001b[39m: \u001b[32mString\u001b[39m = \u001b[32m\"plot-cce13d01-d7b3-43aa-9381-c29a42cb9bf4\"\u001b[39m\n",
       "\u001b[36mres7_8\u001b[39m: \u001b[32mString\u001b[39m = \u001b[32m\"plot-b00e80d6-c0ee-4da7-8e62-137abf4403ef\"\u001b[39m\n",
       "\u001b[36mres7_9\u001b[39m: \u001b[32mString\u001b[39m = \u001b[32m\"plot-8feb5cdb-8cfe-4192-a93e-277c5356a71e\"\u001b[39m"
      ]
     },
     "execution_count": 8,
     "metadata": {},
     "output_type": "execute_result"
    }
   ],
   "source": [
    "val tracePrecios = Scatter(\n",
    "  fechas,\n",
    "  preciosDiarios\n",
    ")\n",
    "\n",
    "val traceNoRenovable = Scatter(\n",
    "  fechas,\n",
    "  generacionNoRenovable\n",
    ")\n",
    "\n",
    "val traceRenovable = Scatter(\n",
    "  fechas,\n",
    "  generacionRenovable\n",
    ")\n",
    "\n",
    "val traceSaldo = Scatter(\n",
    "  fechas, \n",
    "  saldo\n",
    ")\n",
    "val dataPrecios = Seq(tracePrecios)\n",
    "val dataRenovableNoRenovable = Seq(traceNoRenovable,traceRenovable)\n",
    "val dataSaldo = Seq(traceSaldo)\n",
    "// Dibujar el gráfico de líneas\n",
    "plot(dataPrecios)\n",
    "plot(dataRenovableNoRenovable)\n",
    "plot(dataSaldo)\n"
   ]
  },
  {
   "cell_type": "code",
   "execution_count": 3,
   "metadata": {},
   "outputs": [
    {
     "data": {
      "text/html": [
       "<div>\n",
       "  <span style=\"float: left;\">show at cmd2.sc:1</span>\n",
       "</div>\n"
      ]
     },
     "metadata": {},
     "output_type": "display_data"
    },
    {
     "data": {
      "text/html": [
       "<div class=\"progress\">\n",
       "  <div class=\"progress-bar\" role=\"progressbar\" style=\"background-color: blue; width: 100%; word-wrap: normal; white-space: nowrap; text-align: center; color: white\" aria-valuenow=\"100\" aria-valuemin=\"0\" aria-valuemax=\"100\">\n",
       "    1 / 1\n",
       "  </div>\n",
       "  <div class=\"progress-bar\" role=\"progressbar\" style=\"background-color: red; width: 0%\" aria-valuenow=\"0\" aria-valuemin=\"0\" aria-valuemax=\"100\"></div>\n",
       "</div>\n"
      ]
     },
     "metadata": {},
     "output_type": "display_data"
    },
    {
     "name": "stdout",
     "output_type": "stream",
     "text": [
      "+-------------------+------------------+-----------------------+----------+------------------+\n",
      "|              Fecha|Valor_Mercado_Spot|Porcentaje_Mercado_Spot|PVPC_Valor|   PVPC_Porcentaje|\n",
      "+-------------------+------------------+-----------------------+----------+------------------+\n",
      "|2024-01-29 03:00:00|             51.58|     0.3360917443148498|    101.89|0.6639082556851502|\n",
      "|2024-01-01 18:00:00|             54.97|     0.3472301181226707|    103.34|0.6527698818773293|\n",
      "|2024-01-09 01:00:00|             98.43|     0.4176602876904146|    137.24|0.5823397123095855|\n",
      "|2024-01-15 14:00:00|              90.1|    0.36747012520902156|    155.09|0.6325298747909784|\n",
      "|2024-01-26 21:00:00|             74.98|    0.34756408473554906|    140.75|0.6524359152644509|\n",
      "|2024-01-10 11:00:00|             99.99|     0.3258383028644051|    206.88|0.6741616971355948|\n",
      "|2024-01-19 11:00:00|             78.74|     0.2898582735137125|    192.91|0.7101417264862876|\n",
      "|2024-01-05 23:00:00|              52.5|    0.34006995724834826|    101.88|0.6599300427516518|\n",
      "|2024-01-10 01:00:00|             87.01|    0.41015367210332804|    125.13| 0.589846327896672|\n",
      "|2024-01-29 08:00:00|             88.39|    0.36835305884314057|    151.57|0.6316469411568595|\n",
      "|2024-01-30 16:00:00|             88.83|    0.36794797448430117|    152.59|0.6320520255156987|\n",
      "|2024-01-27 23:00:00|             62.03|    0.35419402729401017|     113.1|0.6458059727059898|\n",
      "|2024-01-01 11:00:00|               3.2|    0.06451612903225806|      46.4|0.9354838709677419|\n",
      "|2024-01-31 05:00:00|             84.44|    0.40068330644395933|     126.3|0.5993166935560406|\n",
      "|2024-01-07 19:00:00|             100.5|    0.41288361201265356|    142.91|0.5871163879873464|\n",
      "|2024-01-25 18:00:00|             113.0|     0.3261748066043182|    233.44|0.6738251933956818|\n",
      "|2024-01-12 05:00:00|              89.0|    0.41370334216520244|    126.13|0.5862966578347976|\n",
      "|2024-01-24 08:00:00|             89.02|    0.37328077826232803|    149.46|0.6267192217376719|\n",
      "|2024-01-05 19:00:00|             79.94|     0.2887797124485225|    196.88|0.7112202875514775|\n",
      "|2024-01-06 07:00:00|              45.8|     0.3302090843547224|      92.9|0.6697909156452777|\n",
      "+-------------------+------------------+-----------------------+----------+------------------+\n",
      "only showing top 20 rows\n",
      "\n"
     ]
    }
   ],
   "source": [
    "dfMercados.show()"
   ]
  },
  {
   "cell_type": "code",
   "execution_count": 3,
   "metadata": {},
   "outputs": [
    {
     "data": {
      "text/html": [
       "<div>\n",
       "  <span style=\"float: left;\">show at cmd2.sc:7</span>\n",
       "</div>\n"
      ]
     },
     "metadata": {},
     "output_type": "display_data"
    },
    {
     "data": {
      "text/html": [
       "<div class=\"progress\">\n",
       "  <div class=\"progress-bar\" role=\"progressbar\" style=\"background-color: blue; width: 100%; word-wrap: normal; white-space: nowrap; text-align: center; color: white\" aria-valuenow=\"100\" aria-valuemin=\"0\" aria-valuemax=\"100\">\n",
       "    15 / 15\n",
       "  </div>\n",
       "  <div class=\"progress-bar\" role=\"progressbar\" style=\"background-color: red; width: 0%\" aria-valuenow=\"0\" aria-valuemin=\"0\" aria-valuemax=\"100\"></div>\n",
       "</div>\n"
      ]
     },
     "metadata": {},
     "output_type": "display_data"
    },
    {
     "data": {
      "text/html": [
       "<div>\n",
       "  <span style=\"float: left;\">show at cmd2.sc:7</span>\n",
       "</div>\n"
      ]
     },
     "metadata": {},
     "output_type": "display_data"
    },
    {
     "data": {
      "text/html": [
       "<div class=\"progress\">\n",
       "  <div class=\"progress-bar\" role=\"progressbar\" style=\"background-color: blue; width: 100%; word-wrap: normal; white-space: nowrap; text-align: center; color: white\" aria-valuenow=\"100\" aria-valuemin=\"0\" aria-valuemax=\"100\">\n",
       "    200 / 200\n",
       "  </div>\n",
       "  <div class=\"progress-bar\" role=\"progressbar\" style=\"background-color: red; width: 0%\" aria-valuenow=\"0\" aria-valuemin=\"0\" aria-valuemax=\"100\"></div>\n",
       "</div>\n"
      ]
     },
     "metadata": {},
     "output_type": "display_data"
    },
    {
     "name": "stdout",
     "output_type": "stream",
     "text": [
      "+----------+------------------+\n",
      "|  FechaDia|Valor marcado spot|\n",
      "+----------+------------------+\n",
      "|2013-12-31|             20.02|\n",
      "|2014-01-01|              5.19|\n",
      "|2014-01-02|              25.7|\n",
      "|2014-01-03|             40.18|\n",
      "|2014-01-04|               4.3|\n",
      "|2014-01-05|              4.93|\n",
      "|2014-01-06|             13.58|\n",
      "|2014-01-07|             48.33|\n",
      "|2014-01-08|             40.83|\n",
      "|2014-01-09|             49.79|\n",
      "|2014-01-10|             56.65|\n",
      "|2014-01-11|              49.9|\n",
      "|2014-01-12|             37.28|\n",
      "|2014-01-13|             37.57|\n",
      "|2014-01-14|             34.91|\n",
      "|2014-01-15|              49.2|\n",
      "|2014-01-16|             41.73|\n",
      "|2014-01-17|             41.78|\n",
      "|2014-01-18|             43.69|\n",
      "|2014-01-19|             32.73|\n",
      "+----------+------------------+\n",
      "only showing top 20 rows\n",
      "\n"
     ]
    },
    {
     "data": {
      "text/plain": [
       "\u001b[36mmercadoDiario\u001b[39m: \u001b[32mDataset\u001b[39m[\u001b[32mRow\u001b[39m] = [FechaDia: string, Valor marcado spot: double]"
      ]
     },
     "execution_count": 3,
     "metadata": {},
     "output_type": "execute_result"
    }
   ],
   "source": [
    "val mercadoDiario = dfMercados\n",
    "    .groupBy(date_format(col(\"Fecha\"),\"yyyy-MM-dd\").as(\"FechaDia\"))\n",
    "    .agg(avg(\"Valor_Mercado_Spot\").as(\"ValorMercadoSpot\"))\n",
    "    .withColumn(\"Precio mercado spot €\", round(col(\"ValorMercadoSpot\"), 2))\n",
    "    .drop(\"ValorMercadoSpot\")\n",
    "    .orderBy(desc(\"FechaDia\"))\n",
    "mercadoDiario.orderBy(\"FechaDia\").show()"
   ]
  },
  {
   "cell_type": "code",
   "execution_count": null,
   "metadata": {},
   "outputs": [],
   "source": [
    "//CALCULAR EL PORCENTAJE SOBRE EL TOTAL DE CADA TIPO DE ENERGIA\n",
    "\n",
    "import org.apache.spark.sql.expressions.Window\n",
    "import org.apache.spark.sql.functions._\n",
    "\n",
    "// Filtrar los datos para excluir ciertos valores\n",
    "val dfBalanceFiltrado = dfBalance\n",
    "  .filter($\"Compuesto\" === false)\n",
    "  .filter($\"Familia\" =!= \"Demanda\")\n",
    "  .withColumn(\"FechaDia\", date_format(col(\"FechaCompleta\"), \"yyyy-MM-dd\")) // Extraer solo la parte del día\n",
    "\n",
    "// Calcular el porcentaje de cada tipo de energía respecto al total diario\n",
    "val windowTotal = Window.partitionBy(\"FechaDia\")\n",
    "\n",
    "val dfBalanceConPorcentajeTotal = dfBalanceFiltrado\n",
    "  .withColumn(\"GeneracionTotalDiaria\", sum(\"Valor\").over(windowTotal)) // Total de generación por cada día\n",
    "  .withColumn(\"PorcentajeRespectoTotal\", round((col(\"Valor\") / col(\"GeneracionTotalDiaria\")) * 100, 2))\n",
    "  .select(\"Familia\", \"Tipo\", \"FechaCompleta\", \"FechaDia\", \"Valor\", \"PorcentajeRespectoTotal\")"
   ]
  },
  {
   "cell_type": "code",
   "execution_count": null,
   "metadata": {},
   "outputs": [
    {
     "data": {
      "text/html": [
       "<div>\n",
       "  <span style=\"float: left;\">pivot at cmd2.sc:29</span>\n",
       "</div>\n"
      ]
     },
     "metadata": {},
     "output_type": "display_data"
    },
    {
     "data": {
      "text/html": [
       "<div class=\"progress\">\n",
       "  <div class=\"progress-bar\" role=\"progressbar\" style=\"background-color: blue; width: 100%; word-wrap: normal; white-space: nowrap; text-align: center; color: white\" aria-valuenow=\"100\" aria-valuemin=\"0\" aria-valuemax=\"100\">\n",
       "    15 / 15\n",
       "  </div>\n",
       "  <div class=\"progress-bar\" role=\"progressbar\" style=\"background-color: red; width: 0%\" aria-valuenow=\"0\" aria-valuemin=\"0\" aria-valuemax=\"100\"></div>\n",
       "</div>\n"
      ]
     },
     "metadata": {},
     "output_type": "display_data"
    },
    {
     "data": {
      "text/html": [
       "<div>\n",
       "  <span style=\"float: left;\">pivot at cmd2.sc:29</span>\n",
       "</div>\n"
      ]
     },
     "metadata": {},
     "output_type": "display_data"
    },
    {
     "data": {
      "text/html": [
       "<div class=\"progress\">\n",
       "  <div class=\"progress-bar\" role=\"progressbar\" style=\"background-color: blue; width: 100%; word-wrap: normal; white-space: nowrap; text-align: center; color: white\" aria-valuenow=\"100\" aria-valuemin=\"0\" aria-valuemax=\"100\">\n",
       "    200 / 200\n",
       "  </div>\n",
       "  <div class=\"progress-bar\" role=\"progressbar\" style=\"background-color: red; width: 0%\" aria-valuenow=\"0\" aria-valuemin=\"0\" aria-valuemax=\"100\"></div>\n",
       "</div>\n"
      ]
     },
     "metadata": {},
     "output_type": "display_data"
    },
    {
     "data": {
      "text/html": [
       "<div>\n",
       "  <span style=\"float: left;\">pivot at cmd2.sc:29</span>\n",
       "</div>\n"
      ]
     },
     "metadata": {},
     "output_type": "display_data"
    },
    {
     "data": {
      "text/html": [
       "<div class=\"progress\">\n",
       "  <div class=\"progress-bar\" role=\"progressbar\" style=\"background-color: blue; width: 100%; word-wrap: normal; white-space: nowrap; text-align: center; color: white\" aria-valuenow=\"100\" aria-valuemin=\"0\" aria-valuemax=\"100\">\n",
       "    200 / 200\n",
       "  </div>\n",
       "  <div class=\"progress-bar\" role=\"progressbar\" style=\"background-color: red; width: 0%\" aria-valuenow=\"0\" aria-valuemin=\"0\" aria-valuemax=\"100\"></div>\n",
       "</div>\n"
      ]
     },
     "metadata": {},
     "output_type": "display_data"
    },
    {
     "data": {
      "text/html": [
       "<div>\n",
       "  <span style=\"float: left; word-wrap: normal; white-space: nowrap; text-align: center\">pivot at cmd2.sc:29</span>\n",
       "  <span style=\"float: right; word-wrap: normal; white-space: nowrap; text-align: center\"><a href=\"#\" onclick=\"cancelStage(6);\">(kill)</a></span>\n",
       "</div>\n",
       "<br>\n"
      ]
     },
     "metadata": {},
     "output_type": "display_data"
    },
    {
     "data": {
      "text/html": [
       "<div class=\"progress\">\n",
       "  <div class=\"progress-bar\" role=\"progressbar\" style=\"background-color: blue; width: 25%; word-wrap: normal; white-space: nowrap; text-align: center; color: white\" aria-valuenow=\"25\" aria-valuemin=\"0\" aria-valuemax=\"100\">\n",
       "    49 + 19 / 200\n",
       "  </div>\n",
       "  <div class=\"progress-bar\" role=\"progressbar\" style=\"background-color: red; width: 10%\" aria-valuenow=\"10\" aria-valuemin=\"0\" aria-valuemax=\"100\"></div>\n",
       "</div>\n"
      ]
     },
     "metadata": {},
     "output_type": "display_data"
    }
   ],
   "source": [
    "\n",
    "\n",
    "// Calcular el ranking por porcentaje\n",
    "val windowRanking = Window.partitionBy(\"FechaDia\").orderBy(desc(\"PorcentajeRespectoTotal\"))\n",
    "\n",
    "val dfRankeado = dfBalanceConPorcentajeTotal\n",
    "  .withColumn(\"rank\", row_number().over(windowRanking))\n",
    "  .filter($\"rank\" <= 3) // Filtrar solo los primeros 3 valores\n",
    "  .orderBy(\"FechaCompleta\", \"rank\")\n",
    "\n",
    "// Pivotar para generar columnas separadas por rank\n",
    "val dfPivotadoTipo = dfRankeado\n",
    "    .groupBy(\"FechaCompleta\")\n",
    "    .pivot(\"rank\")\n",
    "    .agg(first(\"Tipo\").as(\"Tipo\"))\n",
    "\n",
    "val dfPivotadoPorcentaje = dfRankeado\n",
    "    .groupBy(\"FechaCompleta\")\n",
    "    .pivot(\"rank\")\n",
    "    .agg(first(\"PorcentajeRespectoTotal\").as(\"Porcentaje\"))\n",
    "\n",
    "val dfFinal = dfPivotadoTipo\n",
    "    .join(dfPivotadoPorcentaje, \"FechaCompleta\")"
   ]
  },
  {
   "cell_type": "code",
   "execution_count": 5,
   "metadata": {},
   "outputs": [
    {
     "data": {
      "text/plain": [
       "\u001b[36mdfPivotadoConFechaDia\u001b[39m: \u001b[32mDataFrame\u001b[39m = [1: string, 2: string ... 5 more fields]\n",
       "\u001b[36munion\u001b[39m: \u001b[32mDataFrame\u001b[39m = [FechaDia: string, Valor marcado spot: double ... 6 more fields]"
      ]
     },
     "execution_count": 5,
     "metadata": {},
     "output_type": "execute_result"
    }
   ],
   "source": [
    "// Asegurarte de que el dataset pivotado tiene la columna FechaDia\n",
    "val dfPivotadoConFechaDia = dfFinal.withColumn(\"FechaDia\", date_format(col(\"FechaCompleta\"), \"yyyy-MM-dd\")).drop(\"FechaCompleta\")\n",
    "val union = mercadoDiario.join(dfPivotadoConFechaDia, Seq(\"FechaDia\"), \"inner\") "
   ]
  },
  {
   "cell_type": "code",
   "execution_count": 6,
   "metadata": {},
   "outputs": [
    {
     "data": {
      "text/html": [
       "<div>\n",
       "  <span style=\"float: left;\">run at ThreadPoolExecutor.java:1149</span>\n",
       "</div>\n"
      ]
     },
     "metadata": {},
     "output_type": "display_data"
    },
    {
     "data": {
      "text/html": [
       "<div class=\"progress\">\n",
       "  <div class=\"progress-bar\" role=\"progressbar\" style=\"background-color: blue; width: 100%; word-wrap: normal; white-space: nowrap; text-align: center; color: white\" aria-valuenow=\"100\" aria-valuemin=\"0\" aria-valuemax=\"100\">\n",
       "    15 / 15\n",
       "  </div>\n",
       "  <div class=\"progress-bar\" role=\"progressbar\" style=\"background-color: red; width: 0%\" aria-valuenow=\"0\" aria-valuemin=\"0\" aria-valuemax=\"100\"></div>\n",
       "</div>\n"
      ]
     },
     "metadata": {},
     "output_type": "display_data"
    },
    {
     "data": {
      "text/html": [
       "<div>\n",
       "  <span style=\"float: left;\">run at ThreadPoolExecutor.java:1149</span>\n",
       "</div>\n"
      ]
     },
     "metadata": {},
     "output_type": "display_data"
    },
    {
     "data": {
      "text/html": [
       "<div class=\"progress\">\n",
       "  <div class=\"progress-bar\" role=\"progressbar\" style=\"background-color: blue; width: 100%; word-wrap: normal; white-space: nowrap; text-align: center; color: white\" aria-valuenow=\"100\" aria-valuemin=\"0\" aria-valuemax=\"100\">\n",
       "    15 / 15\n",
       "  </div>\n",
       "  <div class=\"progress-bar\" role=\"progressbar\" style=\"background-color: red; width: 0%\" aria-valuenow=\"0\" aria-valuemin=\"0\" aria-valuemax=\"100\"></div>\n",
       "</div>\n"
      ]
     },
     "metadata": {},
     "output_type": "display_data"
    },
    {
     "data": {
      "text/html": [
       "<div>\n",
       "  <span style=\"float: left;\">run at ThreadPoolExecutor.java:1149</span>\n",
       "</div>\n"
      ]
     },
     "metadata": {},
     "output_type": "display_data"
    },
    {
     "data": {
      "text/html": [
       "<div class=\"progress\">\n",
       "  <div class=\"progress-bar\" role=\"progressbar\" style=\"background-color: blue; width: 100%; word-wrap: normal; white-space: nowrap; text-align: center; color: white\" aria-valuenow=\"100\" aria-valuemin=\"0\" aria-valuemax=\"100\">\n",
       "    200 / 200\n",
       "  </div>\n",
       "  <div class=\"progress-bar\" role=\"progressbar\" style=\"background-color: red; width: 0%\" aria-valuenow=\"0\" aria-valuemin=\"0\" aria-valuemax=\"100\"></div>\n",
       "</div>\n"
      ]
     },
     "metadata": {},
     "output_type": "display_data"
    },
    {
     "data": {
      "text/html": [
       "<div>\n",
       "  <span style=\"float: left;\">run at ThreadPoolExecutor.java:1149</span>\n",
       "</div>\n"
      ]
     },
     "metadata": {},
     "output_type": "display_data"
    },
    {
     "data": {
      "text/html": [
       "<div class=\"progress\">\n",
       "  <div class=\"progress-bar\" role=\"progressbar\" style=\"background-color: blue; width: 100%; word-wrap: normal; white-space: nowrap; text-align: center; color: white\" aria-valuenow=\"100\" aria-valuemin=\"0\" aria-valuemax=\"100\">\n",
       "    200 / 200\n",
       "  </div>\n",
       "  <div class=\"progress-bar\" role=\"progressbar\" style=\"background-color: red; width: 0%\" aria-valuenow=\"0\" aria-valuemin=\"0\" aria-valuemax=\"100\"></div>\n",
       "</div>\n"
      ]
     },
     "metadata": {},
     "output_type": "display_data"
    },
    {
     "data": {
      "text/html": [
       "<div>\n",
       "  <span style=\"float: left;\">run at ThreadPoolExecutor.java:1149</span>\n",
       "</div>\n"
      ]
     },
     "metadata": {},
     "output_type": "display_data"
    },
    {
     "data": {
      "text/html": [
       "<div class=\"progress\">\n",
       "  <div class=\"progress-bar\" role=\"progressbar\" style=\"background-color: blue; width: 100%; word-wrap: normal; white-space: nowrap; text-align: center; color: white\" aria-valuenow=\"100\" aria-valuemin=\"0\" aria-valuemax=\"100\">\n",
       "    200 / 200\n",
       "  </div>\n",
       "  <div class=\"progress-bar\" role=\"progressbar\" style=\"background-color: red; width: 0%\" aria-valuenow=\"0\" aria-valuemin=\"0\" aria-valuemax=\"100\"></div>\n",
       "</div>\n"
      ]
     },
     "metadata": {},
     "output_type": "display_data"
    },
    {
     "data": {
      "text/html": [
       "<div>\n",
       "  <span style=\"float: left;\">run at ThreadPoolExecutor.java:1149</span>\n",
       "</div>\n"
      ]
     },
     "metadata": {},
     "output_type": "display_data"
    },
    {
     "data": {
      "text/html": [
       "<div class=\"progress\">\n",
       "  <div class=\"progress-bar\" role=\"progressbar\" style=\"background-color: blue; width: 100%; word-wrap: normal; white-space: nowrap; text-align: center; color: white\" aria-valuenow=\"100\" aria-valuemin=\"0\" aria-valuemax=\"100\">\n",
       "    200 / 200\n",
       "  </div>\n",
       "  <div class=\"progress-bar\" role=\"progressbar\" style=\"background-color: red; width: 0%\" aria-valuenow=\"0\" aria-valuemin=\"0\" aria-valuemax=\"100\"></div>\n",
       "</div>\n"
      ]
     },
     "metadata": {},
     "output_type": "display_data"
    },
    {
     "data": {
      "text/html": [
       "<div>\n",
       "  <span style=\"float: left;\">run at ThreadPoolExecutor.java:1149</span>\n",
       "</div>\n"
      ]
     },
     "metadata": {},
     "output_type": "display_data"
    },
    {
     "data": {
      "text/html": [
       "<div class=\"progress\">\n",
       "  <div class=\"progress-bar\" role=\"progressbar\" style=\"background-color: blue; width: 100%; word-wrap: normal; white-space: nowrap; text-align: center; color: white\" aria-valuenow=\"100\" aria-valuemin=\"0\" aria-valuemax=\"100\">\n",
       "    200 / 200\n",
       "  </div>\n",
       "  <div class=\"progress-bar\" role=\"progressbar\" style=\"background-color: red; width: 0%\" aria-valuenow=\"0\" aria-valuemin=\"0\" aria-valuemax=\"100\"></div>\n",
       "</div>\n"
      ]
     },
     "metadata": {},
     "output_type": "display_data"
    },
    {
     "data": {
      "text/html": [
       "<div>\n",
       "  <span style=\"float: left;\">run at ThreadPoolExecutor.java:1149</span>\n",
       "</div>\n"
      ]
     },
     "metadata": {},
     "output_type": "display_data"
    },
    {
     "data": {
      "text/html": [
       "<div class=\"progress\">\n",
       "  <div class=\"progress-bar\" role=\"progressbar\" style=\"background-color: blue; width: 100%; word-wrap: normal; white-space: nowrap; text-align: center; color: white\" aria-valuenow=\"100\" aria-valuemin=\"0\" aria-valuemax=\"100\">\n",
       "    200 / 200\n",
       "  </div>\n",
       "  <div class=\"progress-bar\" role=\"progressbar\" style=\"background-color: red; width: 0%\" aria-valuenow=\"0\" aria-valuemin=\"0\" aria-valuemax=\"100\"></div>\n",
       "</div>\n"
      ]
     },
     "metadata": {},
     "output_type": "display_data"
    },
    {
     "data": {
      "text/html": [
       "<div>\n",
       "  <span style=\"float: left;\">run at ThreadPoolExecutor.java:1149</span>\n",
       "</div>\n"
      ]
     },
     "metadata": {},
     "output_type": "display_data"
    },
    {
     "data": {
      "text/html": [
       "<div class=\"progress\">\n",
       "  <div class=\"progress-bar\" role=\"progressbar\" style=\"background-color: blue; width: 100%; word-wrap: normal; white-space: nowrap; text-align: center; color: white\" aria-valuenow=\"100\" aria-valuemin=\"0\" aria-valuemax=\"100\">\n",
       "    200 / 200\n",
       "  </div>\n",
       "  <div class=\"progress-bar\" role=\"progressbar\" style=\"background-color: red; width: 0%\" aria-valuenow=\"0\" aria-valuemin=\"0\" aria-valuemax=\"100\"></div>\n",
       "</div>\n"
      ]
     },
     "metadata": {},
     "output_type": "display_data"
    },
    {
     "data": {
      "text/html": [
       "<div>\n",
       "  <span style=\"float: left;\">show at cmd5.sc:1</span>\n",
       "</div>\n"
      ]
     },
     "metadata": {},
     "output_type": "display_data"
    },
    {
     "data": {
      "text/html": [
       "<div class=\"progress\">\n",
       "  <div class=\"progress-bar\" role=\"progressbar\" style=\"background-color: blue; width: 100%; word-wrap: normal; white-space: nowrap; text-align: center; color: white\" aria-valuenow=\"100\" aria-valuemin=\"0\" aria-valuemax=\"100\">\n",
       "    15 / 15\n",
       "  </div>\n",
       "  <div class=\"progress-bar\" role=\"progressbar\" style=\"background-color: red; width: 0%\" aria-valuenow=\"0\" aria-valuemin=\"0\" aria-valuemax=\"100\"></div>\n",
       "</div>\n"
      ]
     },
     "metadata": {},
     "output_type": "display_data"
    },
    {
     "data": {
      "text/html": [
       "<div>\n",
       "  <span style=\"float: left;\">show at cmd5.sc:1</span>\n",
       "</div>\n"
      ]
     },
     "metadata": {},
     "output_type": "display_data"
    },
    {
     "data": {
      "text/html": [
       "<div class=\"progress\">\n",
       "  <div class=\"progress-bar\" role=\"progressbar\" style=\"background-color: blue; width: 100%; word-wrap: normal; white-space: nowrap; text-align: center; color: white\" aria-valuenow=\"100\" aria-valuemin=\"0\" aria-valuemax=\"100\">\n",
       "    200 / 200\n",
       "  </div>\n",
       "  <div class=\"progress-bar\" role=\"progressbar\" style=\"background-color: red; width: 0%\" aria-valuenow=\"0\" aria-valuemin=\"0\" aria-valuemax=\"100\"></div>\n",
       "</div>\n"
      ]
     },
     "metadata": {},
     "output_type": "display_data"
    },
    {
     "data": {
      "text/html": [
       "<div>\n",
       "  <span style=\"float: left;\">show at cmd5.sc:1</span>\n",
       "</div>\n"
      ]
     },
     "metadata": {},
     "output_type": "display_data"
    },
    {
     "data": {
      "text/html": [
       "<div class=\"progress\">\n",
       "  <div class=\"progress-bar\" role=\"progressbar\" style=\"background-color: blue; width: 100%; word-wrap: normal; white-space: nowrap; text-align: center; color: white\" aria-valuenow=\"100\" aria-valuemin=\"0\" aria-valuemax=\"100\">\n",
       "    200 / 200\n",
       "  </div>\n",
       "  <div class=\"progress-bar\" role=\"progressbar\" style=\"background-color: red; width: 0%\" aria-valuenow=\"0\" aria-valuemin=\"0\" aria-valuemax=\"100\"></div>\n",
       "</div>\n"
      ]
     },
     "metadata": {},
     "output_type": "display_data"
    },
    {
     "data": {
      "text/html": [
       "<div>\n",
       "  <span style=\"float: left;\">show at cmd5.sc:1</span>\n",
       "</div>\n"
      ]
     },
     "metadata": {},
     "output_type": "display_data"
    },
    {
     "data": {
      "text/html": [
       "<div class=\"progress\">\n",
       "  <div class=\"progress-bar\" role=\"progressbar\" style=\"background-color: blue; width: 100%; word-wrap: normal; white-space: nowrap; text-align: center; color: white\" aria-valuenow=\"100\" aria-valuemin=\"0\" aria-valuemax=\"100\">\n",
       "    200 / 200\n",
       "  </div>\n",
       "  <div class=\"progress-bar\" role=\"progressbar\" style=\"background-color: red; width: 0%\" aria-valuenow=\"0\" aria-valuemin=\"0\" aria-valuemax=\"100\"></div>\n",
       "</div>\n"
      ]
     },
     "metadata": {},
     "output_type": "display_data"
    },
    {
     "data": {
      "text/html": [
       "<div>\n",
       "  <span style=\"float: left;\">show at cmd5.sc:1</span>\n",
       "</div>\n"
      ]
     },
     "metadata": {},
     "output_type": "display_data"
    },
    {
     "data": {
      "text/html": [
       "<div class=\"progress\">\n",
       "  <div class=\"progress-bar\" role=\"progressbar\" style=\"background-color: blue; width: 100%; word-wrap: normal; white-space: nowrap; text-align: center; color: white\" aria-valuenow=\"100\" aria-valuemin=\"0\" aria-valuemax=\"100\">\n",
       "    1 / 1\n",
       "  </div>\n",
       "  <div class=\"progress-bar\" role=\"progressbar\" style=\"background-color: red; width: 0%\" aria-valuenow=\"0\" aria-valuemin=\"0\" aria-valuemax=\"100\"></div>\n",
       "</div>\n"
      ]
     },
     "metadata": {},
     "output_type": "display_data"
    },
    {
     "name": "stdout",
     "output_type": "stream",
     "text": [
      "+----------+------------------+---------------+---------------+---------------+-----+-----+-----+\n",
      "|  FechaDia|Valor marcado spot|              1|              2|              3|    1|    2|    3|\n",
      "+----------+------------------+---------------+---------------+---------------+-----+-----+-----+\n",
      "|2015-05-10|             42.33|         Carbón|     Hidráulica|        Nuclear|18.51|17.86|17.08|\n",
      "|2017-06-20|             54.47|Ciclo combinado|         Carbón|        Nuclear|26.86|22.74|16.53|\n",
      "|2017-08-15|             42.99|        Nuclear|Ciclo combinado|         Carbón|25.27|20.96|13.26|\n",
      "|2018-04-07|             41.64|         Eólica|        Nuclear|     Hidráulica|24.65| 21.2|20.97|\n",
      "|2018-08-23|             67.49|        Nuclear|         Carbón|         Eólica|22.84|19.56|15.67|\n",
      "|2018-08-31|             68.68|        Nuclear|         Eólica|         Carbón|25.37|18.02|16.96|\n",
      "|2018-10-28|             53.89|         Eólica|        Nuclear|   Cogeneración|35.51|18.63|10.74|\n",
      "|2019-01-30|             57.96|         Eólica|        Nuclear|     Hidráulica|41.67|19.51|10.41|\n",
      "|2019-02-17|             47.27|        Nuclear|         Eólica|Ciclo combinado|23.26|16.24|15.24|\n",
      "|2019-09-02|             39.25|Ciclo combinado|        Nuclear|         Eólica|32.86|21.55|12.64|\n",
      "|2019-12-31|             38.46|        Nuclear|     Hidráulica|Ciclo combinado|28.64|25.44|20.13|\n",
      "|2020-02-07|             39.87|        Nuclear|     Hidráulica|Ciclo combinado|27.03| 17.4|16.72|\n",
      "|2020-03-14|             35.61|        Nuclear|         Eólica|     Hidráulica|26.37|23.59|12.47|\n",
      "|2020-07-30|             40.28|Ciclo combinado|        Nuclear|     Hidráulica|32.96|20.73|12.13|\n",
      "|2022-03-12|            242.91|         Eólica|        Nuclear|Ciclo combinado|24.16|21.25|15.45|\n",
      "|2022-05-02|            188.11|         Eólica|        Nuclear|     Hidráulica|26.37|20.43|12.93|\n",
      "|2022-05-21|            180.57|         Eólica|        Nuclear|Ciclo combinado|25.36|19.39|16.69|\n",
      "|2022-07-11|            157.41|Ciclo combinado|        Nuclear|         Eólica|39.38|18.83|12.67|\n",
      "|2022-12-14|             86.23|         Eólica|        Nuclear|Ciclo combinado|24.53|21.86|20.91|\n",
      "|2022-12-30|               5.9|         Eólica|        Nuclear|     Hidráulica|28.62|26.21|12.31|\n",
      "+----------+------------------+---------------+---------------+---------------+-----+-----+-----+\n",
      "only showing top 20 rows\n",
      "\n"
     ]
    }
   ],
   "source": [
    "union.show()"
   ]
  },
  {
   "cell_type": "code",
   "execution_count": null,
   "metadata": {},
   "outputs": [
    {
     "data": {
      "text/html": [
       "<div>\n",
       "  <span style=\"float: left;\">run at ThreadPoolExecutor.java:1149</span>\n",
       "</div>\n"
      ]
     },
     "metadata": {},
     "output_type": "display_data"
    },
    {
     "data": {
      "text/html": [
       "<div class=\"progress\">\n",
       "  <div class=\"progress-bar\" role=\"progressbar\" style=\"background-color: blue; width: 100%; word-wrap: normal; white-space: nowrap; text-align: center; color: white\" aria-valuenow=\"100\" aria-valuemin=\"0\" aria-valuemax=\"100\">\n",
       "    15 / 15\n",
       "  </div>\n",
       "  <div class=\"progress-bar\" role=\"progressbar\" style=\"background-color: red; width: 0%\" aria-valuenow=\"0\" aria-valuemin=\"0\" aria-valuemax=\"100\"></div>\n",
       "</div>\n"
      ]
     },
     "metadata": {},
     "output_type": "display_data"
    },
    {
     "data": {
      "text/html": [
       "<div>\n",
       "  <span style=\"float: left;\">run at ThreadPoolExecutor.java:1149</span>\n",
       "</div>\n"
      ]
     },
     "metadata": {},
     "output_type": "display_data"
    },
    {
     "data": {
      "text/html": [
       "<div class=\"progress\">\n",
       "  <div class=\"progress-bar\" role=\"progressbar\" style=\"background-color: blue; width: 100%; word-wrap: normal; white-space: nowrap; text-align: center; color: white\" aria-valuenow=\"100\" aria-valuemin=\"0\" aria-valuemax=\"100\">\n",
       "    15 / 15\n",
       "  </div>\n",
       "  <div class=\"progress-bar\" role=\"progressbar\" style=\"background-color: red; width: 0%\" aria-valuenow=\"0\" aria-valuemin=\"0\" aria-valuemax=\"100\"></div>\n",
       "</div>\n"
      ]
     },
     "metadata": {},
     "output_type": "display_data"
    },
    {
     "data": {
      "text/html": [
       "<div>\n",
       "  <span style=\"float: left;\">run at ThreadPoolExecutor.java:1149</span>\n",
       "</div>\n"
      ]
     },
     "metadata": {},
     "output_type": "display_data"
    },
    {
     "data": {
      "text/html": [
       "<div class=\"progress\">\n",
       "  <div class=\"progress-bar\" role=\"progressbar\" style=\"background-color: blue; width: 100%; word-wrap: normal; white-space: nowrap; text-align: center; color: white\" aria-valuenow=\"100\" aria-valuemin=\"0\" aria-valuemax=\"100\">\n",
       "    200 / 200\n",
       "  </div>\n",
       "  <div class=\"progress-bar\" role=\"progressbar\" style=\"background-color: red; width: 0%\" aria-valuenow=\"0\" aria-valuemin=\"0\" aria-valuemax=\"100\"></div>\n",
       "</div>\n"
      ]
     },
     "metadata": {},
     "output_type": "display_data"
    },
    {
     "data": {
      "text/html": [
       "<div>\n",
       "  <span style=\"float: left;\">run at ThreadPoolExecutor.java:1149</span>\n",
       "</div>\n"
      ]
     },
     "metadata": {},
     "output_type": "display_data"
    },
    {
     "data": {
      "text/html": [
       "<div class=\"progress\">\n",
       "  <div class=\"progress-bar\" role=\"progressbar\" style=\"background-color: blue; width: 100%; word-wrap: normal; white-space: nowrap; text-align: center; color: white\" aria-valuenow=\"100\" aria-valuemin=\"0\" aria-valuemax=\"100\">\n",
       "    200 / 200\n",
       "  </div>\n",
       "  <div class=\"progress-bar\" role=\"progressbar\" style=\"background-color: red; width: 0%\" aria-valuenow=\"0\" aria-valuemin=\"0\" aria-valuemax=\"100\"></div>\n",
       "</div>\n"
      ]
     },
     "metadata": {},
     "output_type": "display_data"
    },
    {
     "data": {
      "text/html": [
       "<div>\n",
       "  <span style=\"float: left;\">run at ThreadPoolExecutor.java:1149</span>\n",
       "</div>\n"
      ]
     },
     "metadata": {},
     "output_type": "display_data"
    },
    {
     "data": {
      "text/html": [
       "<div class=\"progress\">\n",
       "  <div class=\"progress-bar\" role=\"progressbar\" style=\"background-color: blue; width: 100%; word-wrap: normal; white-space: nowrap; text-align: center; color: white\" aria-valuenow=\"100\" aria-valuemin=\"0\" aria-valuemax=\"100\">\n",
       "    200 / 200\n",
       "  </div>\n",
       "  <div class=\"progress-bar\" role=\"progressbar\" style=\"background-color: red; width: 0%\" aria-valuenow=\"0\" aria-valuemin=\"0\" aria-valuemax=\"100\"></div>\n",
       "</div>\n"
      ]
     },
     "metadata": {},
     "output_type": "display_data"
    },
    {
     "data": {
      "text/html": [
       "<div>\n",
       "  <span style=\"float: left;\">run at ThreadPoolExecutor.java:1149</span>\n",
       "</div>\n"
      ]
     },
     "metadata": {},
     "output_type": "display_data"
    },
    {
     "data": {
      "text/html": [
       "<div class=\"progress\">\n",
       "  <div class=\"progress-bar\" role=\"progressbar\" style=\"background-color: blue; width: 100%; word-wrap: normal; white-space: nowrap; text-align: center; color: white\" aria-valuenow=\"100\" aria-valuemin=\"0\" aria-valuemax=\"100\">\n",
       "    200 / 200\n",
       "  </div>\n",
       "  <div class=\"progress-bar\" role=\"progressbar\" style=\"background-color: red; width: 0%\" aria-valuenow=\"0\" aria-valuemin=\"0\" aria-valuemax=\"100\"></div>\n",
       "</div>\n"
      ]
     },
     "metadata": {},
     "output_type": "display_data"
    },
    {
     "data": {
      "text/html": [
       "<div>\n",
       "  <span style=\"float: left;\">run at ThreadPoolExecutor.java:1149</span>\n",
       "</div>\n"
      ]
     },
     "metadata": {},
     "output_type": "display_data"
    },
    {
     "data": {
      "text/html": [
       "<div class=\"progress\">\n",
       "  <div class=\"progress-bar\" role=\"progressbar\" style=\"background-color: blue; width: 100%; word-wrap: normal; white-space: nowrap; text-align: center; color: white\" aria-valuenow=\"100\" aria-valuemin=\"0\" aria-valuemax=\"100\">\n",
       "    200 / 200\n",
       "  </div>\n",
       "  <div class=\"progress-bar\" role=\"progressbar\" style=\"background-color: red; width: 0%\" aria-valuenow=\"0\" aria-valuemin=\"0\" aria-valuemax=\"100\"></div>\n",
       "</div>\n"
      ]
     },
     "metadata": {},
     "output_type": "display_data"
    },
    {
     "data": {
      "text/html": [
       "<div>\n",
       "  <span style=\"float: left;\">run at ThreadPoolExecutor.java:1149</span>\n",
       "</div>\n"
      ]
     },
     "metadata": {},
     "output_type": "display_data"
    },
    {
     "data": {
      "text/html": [
       "<div class=\"progress\">\n",
       "  <div class=\"progress-bar\" role=\"progressbar\" style=\"background-color: blue; width: 100%; word-wrap: normal; white-space: nowrap; text-align: center; color: white\" aria-valuenow=\"100\" aria-valuemin=\"0\" aria-valuemax=\"100\">\n",
       "    200 / 200\n",
       "  </div>\n",
       "  <div class=\"progress-bar\" role=\"progressbar\" style=\"background-color: red; width: 0%\" aria-valuenow=\"0\" aria-valuemin=\"0\" aria-valuemax=\"100\"></div>\n",
       "</div>\n"
      ]
     },
     "metadata": {},
     "output_type": "display_data"
    },
    {
     "data": {
      "text/html": [
       "<div>\n",
       "  <span style=\"float: left;\">run at ThreadPoolExecutor.java:1149</span>\n",
       "</div>\n"
      ]
     },
     "metadata": {},
     "output_type": "display_data"
    },
    {
     "data": {
      "text/html": [
       "<div class=\"progress\">\n",
       "  <div class=\"progress-bar\" role=\"progressbar\" style=\"background-color: blue; width: 100%; word-wrap: normal; white-space: nowrap; text-align: center; color: white\" aria-valuenow=\"100\" aria-valuemin=\"0\" aria-valuemax=\"100\">\n",
       "    200 / 200\n",
       "  </div>\n",
       "  <div class=\"progress-bar\" role=\"progressbar\" style=\"background-color: red; width: 0%\" aria-valuenow=\"0\" aria-valuemin=\"0\" aria-valuemax=\"100\"></div>\n",
       "</div>\n"
      ]
     },
     "metadata": {},
     "output_type": "display_data"
    },
    {
     "data": {
      "text/html": [
       "<div>\n",
       "  <span style=\"float: left;\">show at cmd6.sc:1</span>\n",
       "</div>\n"
      ]
     },
     "metadata": {},
     "output_type": "display_data"
    },
    {
     "data": {
      "text/html": [
       "<div class=\"progress\">\n",
       "  <div class=\"progress-bar\" role=\"progressbar\" style=\"background-color: blue; width: 100%; word-wrap: normal; white-space: nowrap; text-align: center; color: white\" aria-valuenow=\"100\" aria-valuemin=\"0\" aria-valuemax=\"100\">\n",
       "    15 / 15\n",
       "  </div>\n",
       "  <div class=\"progress-bar\" role=\"progressbar\" style=\"background-color: red; width: 0%\" aria-valuenow=\"0\" aria-valuemin=\"0\" aria-valuemax=\"100\"></div>\n",
       "</div>\n"
      ]
     },
     "metadata": {},
     "output_type": "display_data"
    },
    {
     "data": {
      "text/html": [
       "<div>\n",
       "  <span style=\"float: left; word-wrap: normal; white-space: nowrap; text-align: center\">show at cmd6.sc:1</span>\n",
       "  <span style=\"float: right; word-wrap: normal; white-space: nowrap; text-align: center\"><a href=\"#\" onclick=\"cancelStage(47);\">(kill)</a></span>\n",
       "</div>\n",
       "<br>\n"
      ]
     },
     "metadata": {},
     "output_type": "display_data"
    },
    {
     "data": {
      "text/html": [
       "<div class=\"progress\">\n",
       "  <div class=\"progress-bar\" role=\"progressbar\" style=\"background-color: blue; width: 20%; word-wrap: normal; white-space: nowrap; text-align: center; color: white\" aria-valuenow=\"20\" aria-valuemin=\"0\" aria-valuemax=\"100\">\n",
       "    40 + 18 / 200\n",
       "  </div>\n",
       "  <div class=\"progress-bar\" role=\"progressbar\" style=\"background-color: red; width: 9%\" aria-valuenow=\"9\" aria-valuemin=\"0\" aria-valuemax=\"100\"></div>\n",
       "</div>\n"
      ]
     },
     "metadata": {},
     "output_type": "display_data"
    }
   ],
   "source": [
    "union.orderBy(\"FechaDia\").show()"
   ]
  },
  {
   "cell_type": "code",
   "execution_count": null,
   "metadata": {},
   "outputs": [],
   "source": []
  }
 ],
 "metadata": {
  "kernelspec": {
   "display_name": "Scala 2.12",
   "language": "scala",
   "name": "scala212"
  },
  "language_info": {
   "codemirror_mode": "text/x-scala",
   "file_extension": ".scala",
   "mimetype": "text/x-scala",
   "name": "scala",
   "nbconvert_exporter": "script",
   "version": "2.12.10"
  }
 },
 "nbformat": 4,
 "nbformat_minor": 4
}
