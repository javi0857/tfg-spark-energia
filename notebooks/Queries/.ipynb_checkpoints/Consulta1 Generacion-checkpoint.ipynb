{
 "cells": [
  {
   "cell_type": "code",
   "execution_count": 1,
   "metadata": {},
   "outputs": [
    {
     "name": "stdout",
     "output_type": "stream",
     "text": [
      "Loading spark-stubs\n",
      "Getting spark JARs\n",
      "Creating SparkSession\n"
     ]
    },
    {
     "name": "stderr",
     "output_type": "stream",
     "text": [
      "Using Spark's default log4j profile: org/apache/spark/log4j-defaults.properties\n"
     ]
    },
    {
     "data": {
      "text/html": [
       "<a href=\"http://5153d97d6334:4040\">Spark UI</a>"
      ]
     },
     "metadata": {},
     "output_type": "display_data"
    },
    {
     "data": {
      "text/plain": [
       "\u001b[32mimport \u001b[39m\u001b[36m$ivy.$                                  \n",
       "\n",
       "\n",
       "\u001b[39m\n",
       "\u001b[32mimport \u001b[39m\u001b[36morg.apache.spark.sql._\n",
       "\u001b[39m\n",
       "\u001b[32mimport \u001b[39m\u001b[36morg.apache.spark.sql.functions._\n",
       "\n",
       "\n",
       "//Reducir numero logs\n",
       "\u001b[39m\n",
       "\u001b[32mimport \u001b[39m\u001b[36morg.apache.log4j.{Level, Logger}\n",
       "\u001b[39m\n",
       "\u001b[32mimport \u001b[39m\u001b[36m$ivy.$                               \n",
       "\n",
       "//Plotly\n",
       "\u001b[39m\n",
       "\u001b[32mimport \u001b[39m\u001b[36m$ivy.$                                      \n",
       "\u001b[39m\n",
       "\u001b[32mimport \u001b[39m\u001b[36mplotly._, plotly.element._, plotly.layout._, plotly.Almond._\n",
       "\n",
       "\n",
       "//Iniciamos session de Spark\n",
       "\u001b[39m\n",
       "\u001b[36mspark\u001b[39m: \u001b[32mSparkSession\u001b[39m = org.apache.spark.sql.SparkSession@26f12c46\n",
       "\u001b[32mimport \u001b[39m\u001b[36mspark.implicits._\u001b[39m"
      ]
     },
     "execution_count": 1,
     "metadata": {},
     "output_type": "execute_result"
    }
   ],
   "source": [
    "import $ivy.`org.apache.spark::spark-sql:2.4.3`\n",
    "\n",
    "\n",
    "import org.apache.spark.sql._\n",
    "import org.apache.spark.sql.functions._\n",
    "\n",
    "\n",
    "//Reducir numero logs\n",
    "import org.apache.log4j.{Level, Logger}\n",
    "Logger.getLogger(\"org\").setLevel(Level.OFF)\n",
    "\n",
    "\n",
    "//For adding extra dependenies\n",
    "import $ivy.`org.typelevel::cats-core:1.6.0`\n",
    "\n",
    "//Plotly\n",
    "import $ivy.`org.plotly-scala::plotly-almond:0.7.1`\n",
    "import plotly._, plotly.element._, plotly.layout._, plotly.Almond._\n",
    "\n",
    "\n",
    "//Iniciamos session de Spark\n",
    "val spark = {\n",
    "  NotebookSparkSession.builder()\n",
    "     .master(\"local[*]\")\n",
    "    //.config(\"spark.executor.instances\", \"4\") // Número de ejecutores\n",
    "    //.config(\"spark.executor.memory\", \"4g\") // Memoria por ejecutor\n",
    "    //.config(\"spark.executor.cores\", \"2\") // Núcleos por ejecutor\n",
    "    //.config(\"spark.driver.memory\", \"4g\") // Memoria del driver\n",
    "    //.config(\"spark.sql.shuffle.partitions\", \"8\") // Número de particiones para operaciones de shuffle\n",
    "    .getOrCreate()\n",
    "}\n",
    "import spark.implicits._"
   ]
  },
  {
   "cell_type": "code",
   "execution_count": 2,
   "metadata": {},
   "outputs": [
    {
     "data": {
      "text/html": [
       "<script>\n",
       "var comm = Jupyter.notebook.kernel.comm_manager.new_comm('cancel-stage-66bb9f8e-37fc-47da-997a-dface92dbe8a', {});\n",
       "\n",
       "function cancelStage(stageId) {\n",
       "  console.log('Cancelling stage ' + stageId);\n",
       "  comm.send({ 'stageId': stageId });\n",
       "}\n",
       "</script>\n",
       "          "
      ]
     },
     "metadata": {},
     "output_type": "display_data"
    },
    {
     "data": {
      "text/html": [
       "<div>\n",
       "  <span style=\"float: left;\">parquet at cmd1.sc:6</span>\n",
       "</div>\n"
      ]
     },
     "metadata": {},
     "output_type": "display_data"
    },
    {
     "data": {
      "text/html": [
       "<div class=\"progress\">\n",
       "  <div class=\"progress-bar\" role=\"progressbar\" style=\"background-color: blue; width: 100%; word-wrap: normal; white-space: nowrap; text-align: center; color: white\" aria-valuenow=\"100\" aria-valuemin=\"0\" aria-valuemax=\"100\">\n",
       "    1 / 1\n",
       "  </div>\n",
       "  <div class=\"progress-bar\" role=\"progressbar\" style=\"background-color: red; width: 0%\" aria-valuenow=\"0\" aria-valuemin=\"0\" aria-valuemax=\"100\"></div>\n",
       "</div>\n"
      ]
     },
     "metadata": {},
     "output_type": "display_data"
    },
    {
     "data": {
      "text/plain": [
       "\u001b[36mfilePath\u001b[39m: \u001b[32mString\u001b[39m = \u001b[32m\"../../data/parquet/dsBalanceNacional11-24.parquet\"\u001b[39m\n",
       "\u001b[36mdatosBalance\u001b[39m: \u001b[32mDataFrame\u001b[39m = [Familia: string, Tipo: string ... 5 more fields]"
      ]
     },
     "execution_count": 2,
     "metadata": {},
     "output_type": "execute_result"
    }
   ],
   "source": [
    "val filePath = \"../../data/parquet/dsBalanceNacional11-24.parquet\"         \n",
    "val datosBalance: DataFrame = spark.read\n",
    "  //.option(\"header\", \"true\") // Si el archivo tiene un encabezado\n",
    "  //.option(\"inferSchema\", \"true\") // Para inferir automáticamente el esquema\n",
    "  //.csv(filePath)\n",
    "    .parquet(filePath)"
   ]
  },
  {
   "cell_type": "code",
   "execution_count": 3,
   "metadata": {},
   "outputs": [
    {
     "data": {
      "text/html": [
       "<div>\n",
       "  <span style=\"float: left;\">show at cmd2.sc:1</span>\n",
       "</div>\n"
      ]
     },
     "metadata": {},
     "output_type": "display_data"
    },
    {
     "data": {
      "text/html": [
       "<div class=\"progress\">\n",
       "  <div class=\"progress-bar\" role=\"progressbar\" style=\"background-color: blue; width: 100%; word-wrap: normal; white-space: nowrap; text-align: center; color: white\" aria-valuenow=\"100\" aria-valuemin=\"0\" aria-valuemax=\"100\">\n",
       "    1 / 1\n",
       "  </div>\n",
       "  <div class=\"progress-bar\" role=\"progressbar\" style=\"background-color: red; width: 0%\" aria-valuenow=\"0\" aria-valuemin=\"0\" aria-valuemax=\"100\"></div>\n",
       "</div>\n"
      ]
     },
     "metadata": {},
     "output_type": "display_data"
    },
    {
     "name": "stdout",
     "output_type": "stream",
     "text": [
      "+---------+----------+---------+-------------------+-------------------+----------+--------------+\n",
      "|  Familia|      Tipo|Compuesto|      FechaCompleta|         Porcentaje|     Valor|BajasEmisiones|\n",
      "+---------+----------+---------+-------------------+-------------------+----------+--------------+\n",
      "|Renovable|Hidráulica|    false|2013-12-31 23:00:00| 0.2070493282098544| 73065.052|          true|\n",
      "|Renovable|Hidráulica|    false|2014-01-01 23:00:00|0.23631205453294465| 89171.545|          true|\n",
      "|Renovable|Hidráulica|    false|2014-01-02 23:00:00| 0.2735980903206654|102502.527|          true|\n",
      "|Renovable|Hidráulica|    false|2014-01-03 23:00:00|0.24018151631870316|106840.706|          true|\n",
      "|Renovable|Hidráulica|    false|2014-01-04 23:00:00|0.28984651129433686|117217.635|          true|\n",
      "|Renovable|Hidráulica|    false|2014-01-05 23:00:00| 0.3229806730258387|110841.694|          true|\n",
      "|Renovable|Hidráulica|    false|2014-01-06 23:00:00|0.40968176867979184| 137057.77|          true|\n",
      "|Renovable|Hidráulica|    false|2014-01-07 23:00:00| 0.4030920409555886|140921.275|          true|\n",
      "|Renovable|Hidráulica|    false|2014-01-08 23:00:00| 0.5488560654080734|145404.939|          true|\n",
      "|Renovable|Hidráulica|    false|2014-01-09 23:00:00| 0.5959363241216639|146323.349|          true|\n",
      "|Renovable|Hidráulica|    false|2014-01-10 23:00:00| 0.7178223002542007|148799.593|          true|\n",
      "|Renovable|Hidráulica|    false|2014-01-11 23:00:00| 0.4281795683708036|127057.432|          true|\n",
      "|Renovable|Hidráulica|    false|2014-01-12 23:00:00|0.37633334872672913|146286.975|          true|\n",
      "|Renovable|Hidráulica|    false|2014-01-13 23:00:00| 0.3015757985146716|134555.725|          true|\n",
      "|Renovable|Hidráulica|    false|2014-01-14 23:00:00| 0.3966742330031827| 142618.91|          true|\n",
      "|Renovable|Hidráulica|    false|2014-01-15 23:00:00| 0.3679510858563277|140457.456|          true|\n",
      "|Renovable|Hidráulica|    false|2014-01-16 23:00:00|0.37150001441121694|141433.915|          true|\n",
      "|Renovable|Hidráulica|    false|2014-01-17 23:00:00|  0.468368276902654|146938.396|          true|\n",
      "|Renovable|Hidráulica|    false|2014-01-18 23:00:00|0.38423803262476175|127720.689|          true|\n",
      "|Renovable|Hidráulica|    false|2014-01-19 23:00:00| 0.3368335938430425| 144555.38|          true|\n",
      "+---------+----------+---------+-------------------+-------------------+----------+--------------+\n",
      "only showing top 20 rows\n",
      "\n"
     ]
    }
   ],
   "source": [
    "datosBalance.show()"
   ]
  },
  {
   "cell_type": "code",
   "execution_count": 7,
   "metadata": {},
   "outputs": [
    {
     "data": {
      "text/html": [
       "<div>\n",
       "  <span style=\"float: left;\">show at cmd6.sc:8</span>\n",
       "</div>\n"
      ]
     },
     "metadata": {},
     "output_type": "display_data"
    },
    {
     "data": {
      "text/html": [
       "<div class=\"progress\">\n",
       "  <div class=\"progress-bar\" role=\"progressbar\" style=\"background-color: blue; width: 100%; word-wrap: normal; white-space: nowrap; text-align: center; color: white\" aria-valuenow=\"100\" aria-valuemin=\"0\" aria-valuemax=\"100\">\n",
       "    15 / 15\n",
       "  </div>\n",
       "  <div class=\"progress-bar\" role=\"progressbar\" style=\"background-color: red; width: 0%\" aria-valuenow=\"0\" aria-valuemin=\"0\" aria-valuemax=\"100\"></div>\n",
       "</div>\n"
      ]
     },
     "metadata": {},
     "output_type": "display_data"
    },
    {
     "data": {
      "text/html": [
       "<div>\n",
       "  <span style=\"float: left;\">show at cmd6.sc:8</span>\n",
       "</div>\n"
      ]
     },
     "metadata": {},
     "output_type": "display_data"
    },
    {
     "data": {
      "text/html": [
       "<div class=\"progress\">\n",
       "  <div class=\"progress-bar\" role=\"progressbar\" style=\"background-color: blue; width: 100%; word-wrap: normal; white-space: nowrap; text-align: center; color: white\" aria-valuenow=\"100\" aria-valuemin=\"0\" aria-valuemax=\"100\">\n",
       "    1 / 1\n",
       "  </div>\n",
       "  <div class=\"progress-bar\" role=\"progressbar\" style=\"background-color: red; width: 0%\" aria-valuenow=\"0\" aria-valuemin=\"0\" aria-valuemax=\"100\"></div>\n",
       "</div>\n"
      ]
     },
     "metadata": {},
     "output_type": "display_data"
    },
    {
     "data": {
      "text/html": [
       "<div>\n",
       "  <span style=\"float: left;\">show at cmd6.sc:8</span>\n",
       "</div>\n"
      ]
     },
     "metadata": {},
     "output_type": "display_data"
    },
    {
     "data": {
      "text/html": [
       "<div class=\"progress\">\n",
       "  <div class=\"progress-bar\" role=\"progressbar\" style=\"background-color: blue; width: 100%; word-wrap: normal; white-space: nowrap; text-align: center; color: white\" aria-valuenow=\"100\" aria-valuemin=\"0\" aria-valuemax=\"100\">\n",
       "    4 / 4\n",
       "  </div>\n",
       "  <div class=\"progress-bar\" role=\"progressbar\" style=\"background-color: red; width: 0%\" aria-valuenow=\"0\" aria-valuemin=\"0\" aria-valuemax=\"100\"></div>\n",
       "</div>\n"
      ]
     },
     "metadata": {},
     "output_type": "display_data"
    },
    {
     "data": {
      "text/html": [
       "<div>\n",
       "  <span style=\"float: left;\">show at cmd6.sc:8</span>\n",
       "</div>\n"
      ]
     },
     "metadata": {},
     "output_type": "display_data"
    },
    {
     "data": {
      "text/html": [
       "<div class=\"progress\">\n",
       "  <div class=\"progress-bar\" role=\"progressbar\" style=\"background-color: blue; width: 100%; word-wrap: normal; white-space: nowrap; text-align: center; color: white\" aria-valuenow=\"100\" aria-valuemin=\"0\" aria-valuemax=\"100\">\n",
       "    20 / 20\n",
       "  </div>\n",
       "  <div class=\"progress-bar\" role=\"progressbar\" style=\"background-color: red; width: 0%\" aria-valuenow=\"0\" aria-valuemin=\"0\" aria-valuemax=\"100\"></div>\n",
       "</div>\n"
      ]
     },
     "metadata": {},
     "output_type": "display_data"
    },
    {
     "data": {
      "text/html": [
       "<div>\n",
       "  <span style=\"float: left;\">show at cmd6.sc:8</span>\n",
       "</div>\n"
      ]
     },
     "metadata": {},
     "output_type": "display_data"
    },
    {
     "data": {
      "text/html": [
       "<div class=\"progress\">\n",
       "  <div class=\"progress-bar\" role=\"progressbar\" style=\"background-color: blue; width: 100%; word-wrap: normal; white-space: nowrap; text-align: center; color: white\" aria-valuenow=\"100\" aria-valuemin=\"0\" aria-valuemax=\"100\">\n",
       "    12 / 12\n",
       "  </div>\n",
       "  <div class=\"progress-bar\" role=\"progressbar\" style=\"background-color: red; width: 0%\" aria-valuenow=\"0\" aria-valuemin=\"0\" aria-valuemax=\"100\"></div>\n",
       "</div>\n"
      ]
     },
     "metadata": {},
     "output_type": "display_data"
    },
    {
     "data": {
      "text/html": [
       "<div>\n",
       "  <span style=\"float: left;\">show at cmd6.sc:8</span>\n",
       "</div>\n"
      ]
     },
     "metadata": {},
     "output_type": "display_data"
    },
    {
     "data": {
      "text/html": [
       "<div class=\"progress\">\n",
       "  <div class=\"progress-bar\" role=\"progressbar\" style=\"background-color: blue; width: 100%; word-wrap: normal; white-space: nowrap; text-align: center; color: white\" aria-valuenow=\"100\" aria-valuemin=\"0\" aria-valuemax=\"100\">\n",
       "    18 / 18\n",
       "  </div>\n",
       "  <div class=\"progress-bar\" role=\"progressbar\" style=\"background-color: red; width: 0%\" aria-valuenow=\"0\" aria-valuemin=\"0\" aria-valuemax=\"100\"></div>\n",
       "</div>\n"
      ]
     },
     "metadata": {},
     "output_type": "display_data"
    },
    {
     "data": {
      "text/html": [
       "<div>\n",
       "  <span style=\"float: left;\">show at cmd6.sc:8</span>\n",
       "</div>\n"
      ]
     },
     "metadata": {},
     "output_type": "display_data"
    },
    {
     "data": {
      "text/html": [
       "<div class=\"progress\">\n",
       "  <div class=\"progress-bar\" role=\"progressbar\" style=\"background-color: blue; width: 100%; word-wrap: normal; white-space: nowrap; text-align: center; color: white\" aria-valuenow=\"100\" aria-valuemin=\"0\" aria-valuemax=\"100\">\n",
       "    26 / 26\n",
       "  </div>\n",
       "  <div class=\"progress-bar\" role=\"progressbar\" style=\"background-color: red; width: 0%\" aria-valuenow=\"0\" aria-valuemin=\"0\" aria-valuemax=\"100\"></div>\n",
       "</div>\n"
      ]
     },
     "metadata": {},
     "output_type": "display_data"
    },
    {
     "name": "stdout",
     "output_type": "stream",
     "text": [
      "+------------+--------------------+---------+-------------------+--------------------+----------+--------------+------------------+\n",
      "|     Familia|                Tipo|Compuesto|      FechaCompleta|          Porcentaje|     Valor|BajasEmisiones|PorcentajeDelTotal|\n",
      "+------------+--------------------+---------+-------------------+--------------------+----------+--------------+------------------+\n",
      "|   Renovable|          Hidráulica|    false|2024-12-05 23:00:00| 0.16179800404372996|   65506.8|          true|              9.25|\n",
      "|   Renovable|              Eólica|    false|2024-12-05 23:00:00|  0.5883415106365538|238200.526|          true|             33.63|\n",
      "|   Renovable|  Solar fotovoltaica|    false|2024-12-05 23:00:00| 0.20401444483402564| 82598.877|          true|             11.66|\n",
      "|   Renovable|       Solar térmica|    false|2024-12-05 23:00:00|0.009605318366300852|  3888.884|          true|              0.55|\n",
      "|   Renovable|         Hidroeólica|    false|2024-12-05 23:00:00| 1.06219860593108E-4|    43.005|          true|              0.01|\n",
      "|   Renovable|    Otras renovables|    false|2024-12-05 23:00:00|0.029556428924891402| 11966.446|          true|              1.69|\n",
      "|   Renovable| Residuos renovables|    false|2024-12-05 23:00:00|0.006578073333905...|   2663.25|          true|              0.38|\n",
      "|No-Renovable|  Turbinación bombeo|    false|2024-12-05 23:00:00| 0.02584590030258355|    7844.7|         false|              1.11|\n",
      "|No-Renovable|             Nuclear|    false|2024-12-05 23:00:00|  0.4018705226978251|  121975.0|          true|             17.22|\n",
      "|No-Renovable|     Ciclo combinado|    false|2024-12-05 23:00:00|   0.329704589401894|100071.329|         false|             14.13|\n",
      "|No-Renovable|              Carbón|    false|2024-12-05 23:00:00|  0.0202393164249456|    6143.0|         false|              0.87|\n",
      "|No-Renovable|      Motores diésel|    false|2024-12-05 23:00:00| 0.02125753887355589|  6452.049|         false|              0.91|\n",
      "|No-Renovable|      Turbina de gas|    false|2024-12-05 23:00:00|0.003576267114643...|  1085.462|         false|              0.15|\n",
      "|No-Renovable|    Turbina de vapor|    false|2024-12-05 23:00:00|0.007372494711650793|  2237.686|         false|              0.32|\n",
      "|No-Renovable|        Cogeneración|    false|2024-12-05 23:00:00| 0.17654192653964335|  53583.68|         false|              7.56|\n",
      "|No-Renovable|Residuos no renov...|    false|2024-12-05 23:00:00|0.013591443933258479|   4125.25|         false|              0.58|\n",
      "|   Renovable|          Hidráulica|    false|2024-12-04 23:00:00|   0.207184854374506|   78613.3|          true|             10.35|\n",
      "|   Renovable|              Eólica|    false|2024-12-04 23:00:00|  0.5138499909789688|194972.956|          true|             25.67|\n",
      "|   Renovable|  Solar fotovoltaica|    false|2024-12-04 23:00:00| 0.23234639735421317| 88160.484|          true|             11.61|\n",
      "|   Renovable|       Solar térmica|    false|2024-12-04 23:00:00|0.007934158958651514|  3010.502|          true|               0.4|\n",
      "+------------+--------------------+---------+-------------------+--------------------+----------+--------------+------------------+\n",
      "only showing top 20 rows\n",
      "\n"
     ]
    },
    {
     "data": {
      "text/plain": [
       "\u001b[32mimport \u001b[39m\u001b[36morg.apache.spark.sql.expressions.Window\n",
       "\u001b[39m\n",
       "\u001b[36mventanaParaPorcentaje\u001b[39m: \u001b[32mexpressions\u001b[39m.\u001b[32mWindowSpec\u001b[39m = org.apache.spark.sql.expressions.WindowSpec@423b3817\n",
       "\u001b[36mventanaParaTop3\u001b[39m: \u001b[32mexpressions\u001b[39m.\u001b[32mWindowSpec\u001b[39m = org.apache.spark.sql.expressions.WindowSpec@41c8cab3"
      ]
     },
     "execution_count": 7,
     "metadata": {},
     "output_type": "execute_result"
    }
   ],
   "source": [
    "import org.apache.spark.sql.expressions.Window\n",
    "val ventanaParaPorcentaje = Window.partitionBy(\"FechaCompleta\")\n",
    "val ventanaParaTop3 = Window.partitionBy(\"FechaCompleta\").orderBy(\"Valor\")\n",
    "datosBalance\n",
    "    .filter($\"Compuesto\" === false)\n",
    "    .filter($\"Familia\" =!= \"Demanda\")\n",
    "    .filter(date_format($\"FechaCompleta\", \"yyyy-MM\") === \"2024-12\")\n",
    "    .withColumn(\"PorcentajeDelTotal\", round(($\"Valor\"/sum(\"Valor\").over(ventanaParaPorcentaje)) * 100, 2))\n",
    "    //.withColumn(\"Rank\", rank.over(ventanaParaTop3))\n",
    "    //.filter($\"Rank\" < 4)\n",
    "    //.orderBy($\"FechaCompleta\", $\"Rank\")\n",
    "    .show()"
   ]
  },
  {
   "cell_type": "code",
   "execution_count": 3,
   "metadata": {},
   "outputs": [
    {
     "data": {
      "text/html": [
       "<div>\n",
       "  <span style=\"float: left;\">show at cmd2.sc:1</span>\n",
       "</div>\n"
      ]
     },
     "metadata": {},
     "output_type": "display_data"
    },
    {
     "data": {
      "text/html": [
       "<div class=\"progress\">\n",
       "  <div class=\"progress-bar\" role=\"progressbar\" style=\"background-color: blue; width: 100%; word-wrap: normal; white-space: nowrap; text-align: center; color: white\" aria-valuenow=\"100\" aria-valuemin=\"0\" aria-valuemax=\"100\">\n",
       "    15 / 15\n",
       "  </div>\n",
       "  <div class=\"progress-bar\" role=\"progressbar\" style=\"background-color: red; width: 0%\" aria-valuenow=\"0\" aria-valuemin=\"0\" aria-valuemax=\"100\"></div>\n",
       "</div>\n"
      ]
     },
     "metadata": {},
     "output_type": "display_data"
    },
    {
     "data": {
      "text/html": [
       "<div>\n",
       "  <span style=\"float: left;\">show at cmd2.sc:1</span>\n",
       "</div>\n"
      ]
     },
     "metadata": {},
     "output_type": "display_data"
    },
    {
     "data": {
      "text/html": [
       "<div class=\"progress\">\n",
       "  <div class=\"progress-bar\" role=\"progressbar\" style=\"background-color: blue; width: 100%; word-wrap: normal; white-space: nowrap; text-align: center; color: white\" aria-valuenow=\"100\" aria-valuemin=\"0\" aria-valuemax=\"100\">\n",
       "    1 / 1\n",
       "  </div>\n",
       "  <div class=\"progress-bar\" role=\"progressbar\" style=\"background-color: red; width: 0%\" aria-valuenow=\"0\" aria-valuemin=\"0\" aria-valuemax=\"100\"></div>\n",
       "</div>\n"
      ]
     },
     "metadata": {},
     "output_type": "display_data"
    },
    {
     "data": {
      "text/html": [
       "<div>\n",
       "  <span style=\"float: left;\">show at cmd2.sc:1</span>\n",
       "</div>\n"
      ]
     },
     "metadata": {},
     "output_type": "display_data"
    },
    {
     "data": {
      "text/html": [
       "<div class=\"progress\">\n",
       "  <div class=\"progress-bar\" role=\"progressbar\" style=\"background-color: blue; width: 100%; word-wrap: normal; white-space: nowrap; text-align: center; color: white\" aria-valuenow=\"100\" aria-valuemin=\"0\" aria-valuemax=\"100\">\n",
       "    4 / 4\n",
       "  </div>\n",
       "  <div class=\"progress-bar\" role=\"progressbar\" style=\"background-color: red; width: 0%\" aria-valuenow=\"0\" aria-valuemin=\"0\" aria-valuemax=\"100\"></div>\n",
       "</div>\n"
      ]
     },
     "metadata": {},
     "output_type": "display_data"
    },
    {
     "data": {
      "text/html": [
       "<div>\n",
       "  <span style=\"float: left;\">show at cmd2.sc:1</span>\n",
       "</div>\n"
      ]
     },
     "metadata": {},
     "output_type": "display_data"
    },
    {
     "data": {
      "text/html": [
       "<div class=\"progress\">\n",
       "  <div class=\"progress-bar\" role=\"progressbar\" style=\"background-color: blue; width: 100%; word-wrap: normal; white-space: nowrap; text-align: center; color: white\" aria-valuenow=\"100\" aria-valuemin=\"0\" aria-valuemax=\"100\">\n",
       "    20 / 20\n",
       "  </div>\n",
       "  <div class=\"progress-bar\" role=\"progressbar\" style=\"background-color: red; width: 0%\" aria-valuenow=\"0\" aria-valuemin=\"0\" aria-valuemax=\"100\"></div>\n",
       "</div>\n"
      ]
     },
     "metadata": {},
     "output_type": "display_data"
    },
    {
     "data": {
      "text/html": [
       "<div>\n",
       "  <span style=\"float: left;\">show at cmd2.sc:1</span>\n",
       "</div>\n"
      ]
     },
     "metadata": {},
     "output_type": "display_data"
    },
    {
     "data": {
      "text/html": [
       "<div class=\"progress\">\n",
       "  <div class=\"progress-bar\" role=\"progressbar\" style=\"background-color: blue; width: 100%; word-wrap: normal; white-space: nowrap; text-align: center; color: white\" aria-valuenow=\"100\" aria-valuemin=\"0\" aria-valuemax=\"100\">\n",
       "    100 / 100\n",
       "  </div>\n",
       "  <div class=\"progress-bar\" role=\"progressbar\" style=\"background-color: red; width: 0%\" aria-valuenow=\"0\" aria-valuemin=\"0\" aria-valuemax=\"100\"></div>\n",
       "</div>\n"
      ]
     },
     "metadata": {},
     "output_type": "display_data"
    },
    {
     "data": {
      "text/html": [
       "<div>\n",
       "  <span style=\"float: left;\">show at cmd2.sc:1</span>\n",
       "</div>\n"
      ]
     },
     "metadata": {},
     "output_type": "display_data"
    },
    {
     "data": {
      "text/html": [
       "<div class=\"progress\">\n",
       "  <div class=\"progress-bar\" role=\"progressbar\" style=\"background-color: blue; width: 100%; word-wrap: normal; white-space: nowrap; text-align: center; color: white\" aria-valuenow=\"100\" aria-valuemin=\"0\" aria-valuemax=\"100\">\n",
       "    75 / 75\n",
       "  </div>\n",
       "  <div class=\"progress-bar\" role=\"progressbar\" style=\"background-color: red; width: 0%\" aria-valuenow=\"0\" aria-valuemin=\"0\" aria-valuemax=\"100\"></div>\n",
       "</div>\n"
      ]
     },
     "metadata": {},
     "output_type": "display_data"
    },
    {
     "name": "stdout",
     "output_type": "stream",
     "text": [
      "+--------------------+\n",
      "|                Tipo|\n",
      "+--------------------+\n",
      "| Residuos renovables|\n",
      "|     Demanda en b.c.|\n",
      "|  Turbinación bombeo|\n",
      "|  Solar fotovoltaica|\n",
      "|  Consumos en bombeo|\n",
      "|       Solar térmica|\n",
      "|Generación no ren...|\n",
      "|    Otras renovables|\n",
      "|             Nuclear|\n",
      "|         Hidroeólica|\n",
      "|      Turbina de gas|\n",
      "|Generación renovable|\n",
      "|Residuos no renov...|\n",
      "|        Cogeneración|\n",
      "|Saldo I. internac...|\n",
      "|      Motores diésel|\n",
      "|              Eólica|\n",
      "|              Carbón|\n",
      "|          Fuel + Gas|\n",
      "|     Ciclo combinado|\n",
      "+--------------------+\n",
      "only showing top 20 rows\n",
      "\n"
     ]
    }
   ],
   "source": [
    "datosBalance.select(\"Tipo\").distinct.show()"
   ]
  },
  {
   "cell_type": "code",
   "execution_count": 5,
   "metadata": {},
   "outputs": [
    {
     "data": {
      "text/html": [
       "<div>\n",
       "  <span style=\"float: left;\">collect at cmd4.sc:23</span>\n",
       "</div>\n"
      ]
     },
     "metadata": {},
     "output_type": "display_data"
    },
    {
     "data": {
      "text/html": [
       "<div class=\"progress\">\n",
       "  <div class=\"progress-bar\" role=\"progressbar\" style=\"background-color: blue; width: 100%; word-wrap: normal; white-space: nowrap; text-align: center; color: white\" aria-valuenow=\"100\" aria-valuemin=\"0\" aria-valuemax=\"100\">\n",
       "    15 / 15\n",
       "  </div>\n",
       "  <div class=\"progress-bar\" role=\"progressbar\" style=\"background-color: red; width: 0%\" aria-valuenow=\"0\" aria-valuemin=\"0\" aria-valuemax=\"100\"></div>\n",
       "</div>\n"
      ]
     },
     "metadata": {},
     "output_type": "display_data"
    },
    {
     "data": {
      "text/html": [
       "<div>\n",
       "  <span style=\"float: left;\">collect at cmd4.sc:23</span>\n",
       "</div>\n"
      ]
     },
     "metadata": {},
     "output_type": "display_data"
    },
    {
     "data": {
      "text/html": [
       "<div class=\"progress\">\n",
       "  <div class=\"progress-bar\" role=\"progressbar\" style=\"background-color: blue; width: 100%; word-wrap: normal; white-space: nowrap; text-align: center; color: white\" aria-valuenow=\"100\" aria-valuemin=\"0\" aria-valuemax=\"100\">\n",
       "    200 / 200\n",
       "  </div>\n",
       "  <div class=\"progress-bar\" role=\"progressbar\" style=\"background-color: red; width: 0%\" aria-valuenow=\"0\" aria-valuemin=\"0\" aria-valuemax=\"100\"></div>\n",
       "</div>\n"
      ]
     },
     "metadata": {},
     "output_type": "display_data"
    },
    {
     "data": {
      "text/html": [
       "<div>\n",
       "  <span style=\"float: left;\">collect at cmd4.sc:2</span>\n",
       "</div>\n"
      ]
     },
     "metadata": {},
     "output_type": "display_data"
    },
    {
     "data": {
      "text/html": [
       "<div class=\"progress\">\n",
       "  <div class=\"progress-bar\" role=\"progressbar\" style=\"background-color: blue; width: 100%; word-wrap: normal; white-space: nowrap; text-align: center; color: white\" aria-valuenow=\"100\" aria-valuemin=\"0\" aria-valuemax=\"100\">\n",
       "    15 / 15\n",
       "  </div>\n",
       "  <div class=\"progress-bar\" role=\"progressbar\" style=\"background-color: red; width: 0%\" aria-valuenow=\"0\" aria-valuemin=\"0\" aria-valuemax=\"100\"></div>\n",
       "</div>\n"
      ]
     },
     "metadata": {},
     "output_type": "display_data"
    },
    {
     "data": {
      "text/html": [
       "<div>\n",
       "  <span style=\"float: left;\">collect at cmd4.sc:2</span>\n",
       "</div>\n"
      ]
     },
     "metadata": {},
     "output_type": "display_data"
    },
    {
     "data": {
      "text/html": [
       "<div class=\"progress\">\n",
       "  <div class=\"progress-bar\" role=\"progressbar\" style=\"background-color: blue; width: 100%; word-wrap: normal; white-space: nowrap; text-align: center; color: white\" aria-valuenow=\"100\" aria-valuemin=\"0\" aria-valuemax=\"100\">\n",
       "    15 / 15\n",
       "  </div>\n",
       "  <div class=\"progress-bar\" role=\"progressbar\" style=\"background-color: red; width: 0%\" aria-valuenow=\"0\" aria-valuemin=\"0\" aria-valuemax=\"100\"></div>\n",
       "</div>\n"
      ]
     },
     "metadata": {},
     "output_type": "display_data"
    },
    {
     "data": {
      "text/html": [
       "<div>\n",
       "  <span style=\"float: left;\">collect at cmd4.sc:2</span>\n",
       "</div>\n"
      ]
     },
     "metadata": {},
     "output_type": "display_data"
    },
    {
     "data": {
      "text/html": [
       "<div class=\"progress\">\n",
       "  <div class=\"progress-bar\" role=\"progressbar\" style=\"background-color: blue; width: 100%; word-wrap: normal; white-space: nowrap; text-align: center; color: white\" aria-valuenow=\"100\" aria-valuemin=\"0\" aria-valuemax=\"100\">\n",
       "    11 / 11\n",
       "  </div>\n",
       "  <div class=\"progress-bar\" role=\"progressbar\" style=\"background-color: red; width: 0%\" aria-valuenow=\"0\" aria-valuemin=\"0\" aria-valuemax=\"100\"></div>\n",
       "</div>\n"
      ]
     },
     "metadata": {},
     "output_type": "display_data"
    },
    {
     "data": {
      "text/html": [
       "<div>\n",
       "  <span style=\"float: left;\">collect at cmd4.sc:3</span>\n",
       "</div>\n"
      ]
     },
     "metadata": {},
     "output_type": "display_data"
    },
    {
     "data": {
      "text/html": [
       "<div class=\"progress\">\n",
       "  <div class=\"progress-bar\" role=\"progressbar\" style=\"background-color: blue; width: 100%; word-wrap: normal; white-space: nowrap; text-align: center; color: white\" aria-valuenow=\"100\" aria-valuemin=\"0\" aria-valuemax=\"100\">\n",
       "    15 / 15\n",
       "  </div>\n",
       "  <div class=\"progress-bar\" role=\"progressbar\" style=\"background-color: red; width: 0%\" aria-valuenow=\"0\" aria-valuemin=\"0\" aria-valuemax=\"100\"></div>\n",
       "</div>\n"
      ]
     },
     "metadata": {},
     "output_type": "display_data"
    },
    {
     "data": {
      "text/html": [
       "<div>\n",
       "  <span style=\"float: left;\">collect at cmd4.sc:3</span>\n",
       "</div>\n"
      ]
     },
     "metadata": {},
     "output_type": "display_data"
    },
    {
     "data": {
      "text/html": [
       "<div class=\"progress\">\n",
       "  <div class=\"progress-bar\" role=\"progressbar\" style=\"background-color: blue; width: 100%; word-wrap: normal; white-space: nowrap; text-align: center; color: white\" aria-valuenow=\"100\" aria-valuemin=\"0\" aria-valuemax=\"100\">\n",
       "    15 / 15\n",
       "  </div>\n",
       "  <div class=\"progress-bar\" role=\"progressbar\" style=\"background-color: red; width: 0%\" aria-valuenow=\"0\" aria-valuemin=\"0\" aria-valuemax=\"100\"></div>\n",
       "</div>\n"
      ]
     },
     "metadata": {},
     "output_type": "display_data"
    },
    {
     "data": {
      "text/html": [
       "<div>\n",
       "  <span style=\"float: left;\">collect at cmd4.sc:3</span>\n",
       "</div>\n"
      ]
     },
     "metadata": {},
     "output_type": "display_data"
    },
    {
     "data": {
      "text/html": [
       "<div class=\"progress\">\n",
       "  <div class=\"progress-bar\" role=\"progressbar\" style=\"background-color: blue; width: 100%; word-wrap: normal; white-space: nowrap; text-align: center; color: white\" aria-valuenow=\"100\" aria-valuemin=\"0\" aria-valuemax=\"100\">\n",
       "    10 / 10\n",
       "  </div>\n",
       "  <div class=\"progress-bar\" role=\"progressbar\" style=\"background-color: red; width: 0%\" aria-valuenow=\"0\" aria-valuemin=\"0\" aria-valuemax=\"100\"></div>\n",
       "</div>\n"
      ]
     },
     "metadata": {},
     "output_type": "display_data"
    },
    {
     "data": {
      "text/html": [
       "<div>\n",
       "  <span style=\"float: left;\">collect at cmd4.sc:3</span>\n",
       "</div>\n"
      ]
     },
     "metadata": {},
     "output_type": "display_data"
    },
    {
     "data": {
      "text/html": [
       "<div class=\"progress\">\n",
       "  <div class=\"progress-bar\" role=\"progressbar\" style=\"background-color: blue; width: 100%; word-wrap: normal; white-space: nowrap; text-align: center; color: white\" aria-valuenow=\"100\" aria-valuemin=\"0\" aria-valuemax=\"100\">\n",
       "    15 / 15\n",
       "  </div>\n",
       "  <div class=\"progress-bar\" role=\"progressbar\" style=\"background-color: red; width: 0%\" aria-valuenow=\"0\" aria-valuemin=\"0\" aria-valuemax=\"100\"></div>\n",
       "</div>\n"
      ]
     },
     "metadata": {},
     "output_type": "display_data"
    },
    {
     "data": {
      "text/html": [
       "<div>\n",
       "  <span style=\"float: left;\">collect at cmd4.sc:3</span>\n",
       "</div>\n"
      ]
     },
     "metadata": {},
     "output_type": "display_data"
    },
    {
     "data": {
      "text/html": [
       "<div class=\"progress\">\n",
       "  <div class=\"progress-bar\" role=\"progressbar\" style=\"background-color: blue; width: 100%; word-wrap: normal; white-space: nowrap; text-align: center; color: white\" aria-valuenow=\"100\" aria-valuemin=\"0\" aria-valuemax=\"100\">\n",
       "    15 / 15\n",
       "  </div>\n",
       "  <div class=\"progress-bar\" role=\"progressbar\" style=\"background-color: red; width: 0%\" aria-valuenow=\"0\" aria-valuemin=\"0\" aria-valuemax=\"100\"></div>\n",
       "</div>\n"
      ]
     },
     "metadata": {},
     "output_type": "display_data"
    },
    {
     "data": {
      "text/html": [
       "<div>\n",
       "  <span style=\"float: left;\">collect at cmd4.sc:3</span>\n",
       "</div>\n"
      ]
     },
     "metadata": {},
     "output_type": "display_data"
    },
    {
     "data": {
      "text/html": [
       "<div class=\"progress\">\n",
       "  <div class=\"progress-bar\" role=\"progressbar\" style=\"background-color: blue; width: 100%; word-wrap: normal; white-space: nowrap; text-align: center; color: white\" aria-valuenow=\"100\" aria-valuemin=\"0\" aria-valuemax=\"100\">\n",
       "    10 / 10\n",
       "  </div>\n",
       "  <div class=\"progress-bar\" role=\"progressbar\" style=\"background-color: red; width: 0%\" aria-valuenow=\"0\" aria-valuemin=\"0\" aria-valuemax=\"100\"></div>\n",
       "</div>\n"
      ]
     },
     "metadata": {},
     "output_type": "display_data"
    },
    {
     "data": {
      "text/html": [
       "<div>\n",
       "  <span style=\"float: left;\">collect at cmd4.sc:3</span>\n",
       "</div>\n"
      ]
     },
     "metadata": {},
     "output_type": "display_data"
    },
    {
     "data": {
      "text/html": [
       "<div class=\"progress\">\n",
       "  <div class=\"progress-bar\" role=\"progressbar\" style=\"background-color: blue; width: 100%; word-wrap: normal; white-space: nowrap; text-align: center; color: white\" aria-valuenow=\"100\" aria-valuemin=\"0\" aria-valuemax=\"100\">\n",
       "    15 / 15\n",
       "  </div>\n",
       "  <div class=\"progress-bar\" role=\"progressbar\" style=\"background-color: red; width: 0%\" aria-valuenow=\"0\" aria-valuemin=\"0\" aria-valuemax=\"100\"></div>\n",
       "</div>\n"
      ]
     },
     "metadata": {},
     "output_type": "display_data"
    },
    {
     "data": {
      "text/html": [
       "<div>\n",
       "  <span style=\"float: left;\">collect at cmd4.sc:3</span>\n",
       "</div>\n"
      ]
     },
     "metadata": {},
     "output_type": "display_data"
    },
    {
     "data": {
      "text/html": [
       "<div class=\"progress\">\n",
       "  <div class=\"progress-bar\" role=\"progressbar\" style=\"background-color: blue; width: 100%; word-wrap: normal; white-space: nowrap; text-align: center; color: white\" aria-valuenow=\"100\" aria-valuemin=\"0\" aria-valuemax=\"100\">\n",
       "    15 / 15\n",
       "  </div>\n",
       "  <div class=\"progress-bar\" role=\"progressbar\" style=\"background-color: red; width: 0%\" aria-valuenow=\"0\" aria-valuemin=\"0\" aria-valuemax=\"100\"></div>\n",
       "</div>\n"
      ]
     },
     "metadata": {},
     "output_type": "display_data"
    },
    {
     "data": {
      "text/html": [
       "<div>\n",
       "  <span style=\"float: left;\">collect at cmd4.sc:3</span>\n",
       "</div>\n"
      ]
     },
     "metadata": {},
     "output_type": "display_data"
    },
    {
     "data": {
      "text/html": [
       "<div class=\"progress\">\n",
       "  <div class=\"progress-bar\" role=\"progressbar\" style=\"background-color: blue; width: 100%; word-wrap: normal; white-space: nowrap; text-align: center; color: white\" aria-valuenow=\"100\" aria-valuemin=\"0\" aria-valuemax=\"100\">\n",
       "    10 / 10\n",
       "  </div>\n",
       "  <div class=\"progress-bar\" role=\"progressbar\" style=\"background-color: red; width: 0%\" aria-valuenow=\"0\" aria-valuemin=\"0\" aria-valuemax=\"100\"></div>\n",
       "</div>\n"
      ]
     },
     "metadata": {},
     "output_type": "display_data"
    },
    {
     "data": {
      "text/html": [
       "<div>\n",
       "  <span style=\"float: left;\">collect at cmd4.sc:3</span>\n",
       "</div>\n"
      ]
     },
     "metadata": {},
     "output_type": "display_data"
    },
    {
     "data": {
      "text/html": [
       "<div class=\"progress\">\n",
       "  <div class=\"progress-bar\" role=\"progressbar\" style=\"background-color: blue; width: 100%; word-wrap: normal; white-space: nowrap; text-align: center; color: white\" aria-valuenow=\"100\" aria-valuemin=\"0\" aria-valuemax=\"100\">\n",
       "    15 / 15\n",
       "  </div>\n",
       "  <div class=\"progress-bar\" role=\"progressbar\" style=\"background-color: red; width: 0%\" aria-valuenow=\"0\" aria-valuemin=\"0\" aria-valuemax=\"100\"></div>\n",
       "</div>\n"
      ]
     },
     "metadata": {},
     "output_type": "display_data"
    },
    {
     "data": {
      "text/html": [
       "<div>\n",
       "  <span style=\"float: left;\">collect at cmd4.sc:3</span>\n",
       "</div>\n"
      ]
     },
     "metadata": {},
     "output_type": "display_data"
    },
    {
     "data": {
      "text/html": [
       "<div class=\"progress\">\n",
       "  <div class=\"progress-bar\" role=\"progressbar\" style=\"background-color: blue; width: 100%; word-wrap: normal; white-space: nowrap; text-align: center; color: white\" aria-valuenow=\"100\" aria-valuemin=\"0\" aria-valuemax=\"100\">\n",
       "    15 / 15\n",
       "  </div>\n",
       "  <div class=\"progress-bar\" role=\"progressbar\" style=\"background-color: red; width: 0%\" aria-valuenow=\"0\" aria-valuemin=\"0\" aria-valuemax=\"100\"></div>\n",
       "</div>\n"
      ]
     },
     "metadata": {},
     "output_type": "display_data"
    },
    {
     "data": {
      "text/html": [
       "<div>\n",
       "  <span style=\"float: left;\">collect at cmd4.sc:3</span>\n",
       "</div>\n"
      ]
     },
     "metadata": {},
     "output_type": "display_data"
    },
    {
     "data": {
      "text/html": [
       "<div class=\"progress\">\n",
       "  <div class=\"progress-bar\" role=\"progressbar\" style=\"background-color: blue; width: 100%; word-wrap: normal; white-space: nowrap; text-align: center; color: white\" aria-valuenow=\"100\" aria-valuemin=\"0\" aria-valuemax=\"100\">\n",
       "    10 / 10\n",
       "  </div>\n",
       "  <div class=\"progress-bar\" role=\"progressbar\" style=\"background-color: red; width: 0%\" aria-valuenow=\"0\" aria-valuemin=\"0\" aria-valuemax=\"100\"></div>\n",
       "</div>\n"
      ]
     },
     "metadata": {},
     "output_type": "display_data"
    },
    {
     "data": {
      "text/html": [
       "<div>\n",
       "  <span style=\"float: left;\">collect at cmd4.sc:3</span>\n",
       "</div>\n"
      ]
     },
     "metadata": {},
     "output_type": "display_data"
    },
    {
     "data": {
      "text/html": [
       "<div class=\"progress\">\n",
       "  <div class=\"progress-bar\" role=\"progressbar\" style=\"background-color: blue; width: 100%; word-wrap: normal; white-space: nowrap; text-align: center; color: white\" aria-valuenow=\"100\" aria-valuemin=\"0\" aria-valuemax=\"100\">\n",
       "    15 / 15\n",
       "  </div>\n",
       "  <div class=\"progress-bar\" role=\"progressbar\" style=\"background-color: red; width: 0%\" aria-valuenow=\"0\" aria-valuemin=\"0\" aria-valuemax=\"100\"></div>\n",
       "</div>\n"
      ]
     },
     "metadata": {},
     "output_type": "display_data"
    },
    {
     "data": {
      "text/html": [
       "<div>\n",
       "  <span style=\"float: left;\">collect at cmd4.sc:3</span>\n",
       "</div>\n"
      ]
     },
     "metadata": {},
     "output_type": "display_data"
    },
    {
     "data": {
      "text/html": [
       "<div class=\"progress\">\n",
       "  <div class=\"progress-bar\" role=\"progressbar\" style=\"background-color: blue; width: 100%; word-wrap: normal; white-space: nowrap; text-align: center; color: white\" aria-valuenow=\"100\" aria-valuemin=\"0\" aria-valuemax=\"100\">\n",
       "    15 / 15\n",
       "  </div>\n",
       "  <div class=\"progress-bar\" role=\"progressbar\" style=\"background-color: red; width: 0%\" aria-valuenow=\"0\" aria-valuemin=\"0\" aria-valuemax=\"100\"></div>\n",
       "</div>\n"
      ]
     },
     "metadata": {},
     "output_type": "display_data"
    },
    {
     "data": {
      "text/html": [
       "<div>\n",
       "  <span style=\"float: left;\">collect at cmd4.sc:3</span>\n",
       "</div>\n"
      ]
     },
     "metadata": {},
     "output_type": "display_data"
    },
    {
     "data": {
      "text/html": [
       "<div class=\"progress\">\n",
       "  <div class=\"progress-bar\" role=\"progressbar\" style=\"background-color: blue; width: 100%; word-wrap: normal; white-space: nowrap; text-align: center; color: white\" aria-valuenow=\"100\" aria-valuemin=\"0\" aria-valuemax=\"100\">\n",
       "    10 / 10\n",
       "  </div>\n",
       "  <div class=\"progress-bar\" role=\"progressbar\" style=\"background-color: red; width: 0%\" aria-valuenow=\"0\" aria-valuemin=\"0\" aria-valuemax=\"100\"></div>\n",
       "</div>\n"
      ]
     },
     "metadata": {},
     "output_type": "display_data"
    },
    {
     "data": {
      "application/vnd.plotly.v1+json": {
       "data": [
        {
         "name": "Eólica",
         "type": "scatter",
         "x": [
          "2024-12-01 23:00:00",
          "2024-12-02 23:00:00",
          "2024-12-03 23:00:00",
          "2024-12-04 23:00:00",
          "2024-12-05 23:00:00",
          "2024-12-06 23:00:00",
          "2024-12-07 23:00:00",
          "2024-12-08 23:00:00",
          "2024-12-09 23:00:00",
          "2024-12-10 23:00:00"
         ],
         "y": [
          69926.448,
          134640.394,
          240328.626,
          194972.956,
          238200.526,
          326080.183,
          361026.698,
          357003.36,
          179988.334,
          61281.495
         ]
        },
        {
         "name": "Ciclo combinado",
         "type": "scatter",
         "x": [
          "2024-12-01 23:00:00",
          "2024-12-02 23:00:00",
          "2024-12-03 23:00:00",
          "2024-12-04 23:00:00",
          "2024-12-05 23:00:00",
          "2024-12-06 23:00:00",
          "2024-12-07 23:00:00",
          "2024-12-08 23:00:00",
          "2024-12-09 23:00:00",
          "2024-12-10 23:00:00"
         ],
         "y": [
          264352.156,
          259447.529,
          175363.258,
          172534.862,
          100071.329,
          76605.477,
          67977.225,
          109286.506,
          215763.338,
          315401.938
         ]
        },
        {
         "name": "Nuclear",
         "type": "scatter",
         "x": [
          "2024-12-01 23:00:00",
          "2024-12-02 23:00:00",
          "2024-12-03 23:00:00",
          "2024-12-04 23:00:00",
          "2024-12-05 23:00:00",
          "2024-12-06 23:00:00",
          "2024-12-07 23:00:00",
          "2024-12-08 23:00:00",
          "2024-12-09 23:00:00",
          "2024-12-10 23:00:00"
         ],
         "y": [
          122035.2,
          122063.2,
          122065.4,
          122042,
          121975,
          122047.4,
          122075.4,
          122110.3,
          122203,
          122265.6
         ]
        },
        {
         "name": "Hidráulica",
         "type": "scatter",
         "x": [
          "2024-12-01 23:00:00",
          "2024-12-02 23:00:00",
          "2024-12-03 23:00:00",
          "2024-12-04 23:00:00",
          "2024-12-05 23:00:00",
          "2024-12-06 23:00:00",
          "2024-12-07 23:00:00",
          "2024-12-08 23:00:00",
          "2024-12-09 23:00:00",
          "2024-12-10 23:00:00"
         ],
         "y": [
          91647.1,
          87858.9,
          83470.9,
          78613.3,
          65506.8,
          51329,
          50174.4,
          69181.1,
          106570.7,
          116662.7
         ]
        },
        {
         "name": "Solar fotovoltaica",
         "type": "scatter",
         "x": [
          "2024-12-01 23:00:00",
          "2024-12-02 23:00:00",
          "2024-12-03 23:00:00",
          "2024-12-04 23:00:00",
          "2024-12-05 23:00:00",
          "2024-12-06 23:00:00",
          "2024-12-07 23:00:00",
          "2024-12-08 23:00:00",
          "2024-12-09 23:00:00",
          "2024-12-10 23:00:00"
         ],
         "y": [
          57137.721,
          62638.002,
          76858.404,
          88160.484,
          82598.877,
          73714.745,
          79979.558,
          89523.795,
          91464.272,
          77477.662
         ]
        }
       ],
       "layout": {
        "autosize": true,
        "xaxis": {
         "autorange": true,
         "range": [
          "2024-12-01 10:03:35.481",
          "2024-12-11 11:56:24.519"
         ],
         "type": "date"
        },
        "yaxis": {
         "autorange": true,
         "range": [
          27404.96415923567,
          383796.1338407643
         ],
         "type": "linear"
        }
       }
      },
      "image/png": "[encoded data removed]",
      "text/html": [
       "<div class=\"chart\" id=\"plot-5d052e40-0975-4734-a78d-3b572f424c29\"></div>\n",
       "<script>require(['plotly'], function(Plotly) {\n",
       "  (function () {\n",
       "  var data0 = {\"x\":[\"2024-12-01 23:00:00\",\"2024-12-02 23:00:00\",\"2024-12-03 23:00:00\",\"2024-12-04 23:00:00\",\"2024-12-05 23:00:00\",\"2024-12-06 23:00:00\",\"2024-12-07 23:00:00\",\"2024-12-08 23:00:00\",\"2024-12-09 23:00:00\",\"2024-12-10 23:00:00\"],\"name\":\"Eólica\",\"y\":[69926.448,134640.394,240328.626,194972.956,238200.526,326080.183,361026.698,357003.36,179988.334,61281.495],\"type\":\"scatter\"};\n",
       "  var data1 = {\"x\":[\"2024-12-01 23:00:00\",\"2024-12-02 23:00:00\",\"2024-12-03 23:00:00\",\"2024-12-04 23:00:00\",\"2024-12-05 23:00:00\",\"2024-12-06 23:00:00\",\"2024-12-07 23:00:00\",\"2024-12-08 23:00:00\",\"2024-12-09 23:00:00\",\"2024-12-10 23:00:00\"],\"name\":\"Ciclo combinado\",\"y\":[264352.156,259447.529,175363.258,172534.862,100071.329,76605.477,67977.225,109286.506,215763.338,315401.938],\"type\":\"scatter\"};\n",
       "  var data2 = {\"x\":[\"2024-12-01 23:00:00\",\"2024-12-02 23:00:00\",\"2024-12-03 23:00:00\",\"2024-12-04 23:00:00\",\"2024-12-05 23:00:00\",\"2024-12-06 23:00:00\",\"2024-12-07 23:00:00\",\"2024-12-08 23:00:00\",\"2024-12-09 23:00:00\",\"2024-12-10 23:00:00\"],\"name\":\"Nuclear\",\"y\":[122035.2,122063.2,122065.4,122042.0,121975.0,122047.4,122075.4,122110.3,122203.0,122265.6],\"type\":\"scatter\"};\n",
       "  var data3 = {\"x\":[\"2024-12-01 23:00:00\",\"2024-12-02 23:00:00\",\"2024-12-03 23:00:00\",\"2024-12-04 23:00:00\",\"2024-12-05 23:00:00\",\"2024-12-06 23:00:00\",\"2024-12-07 23:00:00\",\"2024-12-08 23:00:00\",\"2024-12-09 23:00:00\",\"2024-12-10 23:00:00\"],\"name\":\"Hidráulica\",\"y\":[91647.1,87858.9,83470.9,78613.3,65506.8,51329.0,50174.4,69181.1,106570.7,116662.7],\"type\":\"scatter\"};\n",
       "  var data4 = {\"x\":[\"2024-12-01 23:00:00\",\"2024-12-02 23:00:00\",\"2024-12-03 23:00:00\",\"2024-12-04 23:00:00\",\"2024-12-05 23:00:00\",\"2024-12-06 23:00:00\",\"2024-12-07 23:00:00\",\"2024-12-08 23:00:00\",\"2024-12-09 23:00:00\",\"2024-12-10 23:00:00\"],\"name\":\"Solar fotovoltaica\",\"y\":[57137.721,62638.002,76858.404,88160.484,82598.877,73714.745,79979.558,89523.795,91464.272,77477.662],\"type\":\"scatter\"};\n",
       "\n",
       "  var data = [data0, data1, data2, data3, data4];\n",
       "  var layout = {};\n",
       "\n",
       "  Plotly.plot('plot-5d052e40-0975-4734-a78d-3b572f424c29', data, layout);\n",
       "})();\n",
       "});\n",
       "      </script>\n",
       "           "
      ]
     },
     "metadata": {},
     "output_type": "display_data"
    },
    {
     "data": {
      "text/plain": [
       "defined \u001b[32mfunction\u001b[39m \u001b[36mAnalisisEnergiasMensual\u001b[39m\n",
       "\u001b[36mdataFrameBalance2024\u001b[39m: \u001b[32mDataset\u001b[39m[\u001b[32mRow\u001b[39m] = [Familia: string, Tipo: string ... 5 more fields]\n",
       "\u001b[36mEnergiasParaAnalizar\u001b[39m: \u001b[32mSeq\u001b[39m[\u001b[32mString\u001b[39m] = \u001b[33mWrappedArray\u001b[39m(\n",
       "  \u001b[32m\"E\\u00f3lica\"\u001b[39m,\n",
       "  \u001b[32m\"Ciclo combinado\"\u001b[39m,\n",
       "  \u001b[32m\"Nuclear\"\u001b[39m,\n",
       "  \u001b[32m\"Hidr\\u00e1ulica\"\u001b[39m,\n",
       "  \u001b[32m\"Solar fotovoltaica\"\u001b[39m\n",
       ")"
      ]
     },
     "execution_count": 5,
     "metadata": {},
     "output_type": "execute_result"
    }
   ],
   "source": [
    "def AnalisisEnergiasMensual(listaEnergias: Seq[String], df: DataFrame): Unit = {\n",
    "  val seqFechas = df.orderBy(\"FechaCompleta\").select(\"FechaCompleta\").distinct.as[String].collect.toSeq\n",
    "  val seqValores = listaEnergias.map(energia => df.filter($\"Tipo\" === energia).orderBy(\"FechaCompleta\").select(\"Valor\").as[Double].collect.toSeq)\n",
    "\n",
    "  val traces = listaEnergias.zip(seqValores).map { case (nombre, seqValor) =>\n",
    "    Scatter(seqFechas, seqValor, name = nombre)\n",
    "  }\n",
    "\n",
    "  val data = traces\n",
    "  plot(data)\n",
    "}\n",
    "\n",
    "val dataFrameBalance2024 = datosBalance.filter(date_format(col(\"FechaCompleta\"),\"yyyy-MM\").isin(\"2024-12\")) //Elegimos año\n",
    "val EnergiasParaAnalizar = datosBalance\n",
    "    .filter($\"Compuesto\" === false)\n",
    "    .filter($\"Familia\" =!= \"Demanda\")\n",
    "    .filter(date_format($\"FechaCompleta\", \"yyyy-MM\") === \"2024-12\")\n",
    "    .groupBy($\"Tipo\")\n",
    "    .agg(sum($\"Valor\"))\n",
    "    .orderBy(desc(\"sum(Valor)\"))\n",
    "    .select(\"Tipo\")\n",
    "    .limit(5)\n",
    "    .as[String]\n",
    "    .collect()\n",
    "    .toSeq\n",
    "\n",
    "AnalisisEnergiasMensual(EnergiasParaAnalizar, dataFrameBalance2024)"
   ]
  },
  {
   "cell_type": "code",
   "execution_count": 3,
   "metadata": {},
   "outputs": [
    {
     "data": {
      "text/html": [
       "<div>\n",
       "  <span style=\"float: left;\">parquet at cmd2.sc:7</span>\n",
       "</div>\n"
      ]
     },
     "metadata": {},
     "output_type": "display_data"
    },
    {
     "data": {
      "text/html": [
       "<div class=\"progress\">\n",
       "  <div class=\"progress-bar\" role=\"progressbar\" style=\"background-color: blue; width: 100%; word-wrap: normal; white-space: nowrap; text-align: center; color: white\" aria-valuenow=\"100\" aria-valuemin=\"0\" aria-valuemax=\"100\">\n",
       "    1 / 1\n",
       "  </div>\n",
       "  <div class=\"progress-bar\" role=\"progressbar\" style=\"background-color: red; width: 0%\" aria-valuenow=\"0\" aria-valuemin=\"0\" aria-valuemax=\"100\"></div>\n",
       "</div>\n"
      ]
     },
     "metadata": {},
     "output_type": "display_data"
    },
    {
     "data": {
      "text/plain": [
       "\u001b[36mfilePath\u001b[39m: \u001b[32mString\u001b[39m = \u001b[32m\"../../data/parquet/dsDemandaNacional14-24.parquet\"\u001b[39m\n",
       "\u001b[36mdatosDemanda\u001b[39m: \u001b[32mDataFrame\u001b[39m = [Fecha: timestamp, Valor_previsto: bigint ... 5 more fields]"
      ]
     },
     "execution_count": 3,
     "metadata": {},
     "output_type": "execute_result"
    }
   ],
   "source": [
    "val filePath = \"../../data/parquet/dsDemandaNacional14-24.parquet\"   \n",
    "\n",
    "val datosDemanda: DataFrame = spark.read\n",
    "  //.option(\"header\", \"true\") // Si el archivo tiene un encabezado\n",
    "  //.option(\"inferSchema\", \"true\") // Para inferir automáticamente el esquema\n",
    "  //.csv(filePath)\n",
    "    .parquet(filePath)"
   ]
  },
  {
   "cell_type": "code",
   "execution_count": 4,
   "metadata": {},
   "outputs": [
    {
     "data": {
      "text/html": [
       "<div>\n",
       "  <span style=\"float: left;\">show at cmd3.sc:1</span>\n",
       "</div>\n"
      ]
     },
     "metadata": {},
     "output_type": "display_data"
    },
    {
     "data": {
      "text/html": [
       "<div class=\"progress\">\n",
       "  <div class=\"progress-bar\" role=\"progressbar\" style=\"background-color: blue; width: 100%; word-wrap: normal; white-space: nowrap; text-align: center; color: white\" aria-valuenow=\"100\" aria-valuemin=\"0\" aria-valuemax=\"100\">\n",
       "    15 / 15\n",
       "  </div>\n",
       "  <div class=\"progress-bar\" role=\"progressbar\" style=\"background-color: red; width: 0%\" aria-valuenow=\"0\" aria-valuemin=\"0\" aria-valuemax=\"100\"></div>\n",
       "</div>\n"
      ]
     },
     "metadata": {},
     "output_type": "display_data"
    },
    {
     "name": "stdout",
     "output_type": "stream",
     "text": [
      "+-------------------+--------------+-------------------+----------------+---------------------+----------+-------------------+\n",
      "|              Fecha|Valor_previsto|Porcentaje_previsto|Valor_programado|Porcentaje_programado|Valor_real|    Porcentaje_real|\n",
      "+-------------------+--------------+-------------------+----------------+---------------------+----------+-------------------+\n",
      "|2024-10-30 20:35:00|         30260| 0.5039385814445351|           29787|   0.4960614185554649|      null|               null|\n",
      "|2024-10-30 20:30:00|         30491| 0.5058396098078901|           29787|   0.4941603901921099|      null|               null|\n",
      "|2024-10-30 20:25:00|         30716| 0.3335070575461455|           30701|   0.3333441910966341|     30683| 0.3331487513572204|\n",
      "|2024-10-30 20:20:00|         30912| 0.3343428225317989|           30701|   0.3320606558795535|     30843|0.33359652158864755|\n",
      "|2024-10-30 20:15:00|         31079|0.33568797727444566|           30701|  0.33160515429398485|     30803| 0.3327068684315695|\n",
      "|2024-10-30 20:10:00|         31236|0.33563277673908837|           30995|    0.333043216641953|     30835| 0.3313240066189586|\n",
      "|2024-10-30 20:05:00|         31398| 0.3357069540672312|           30995|  0.33139808399623644|     31135| 0.3328949619365324|\n",
      "|2024-10-30 20:00:00|         31566| 0.3371355334828581|           30995|   0.3310370607711204|     31069| 0.3318274057460216|\n",
      "|2024-10-30 19:55:00|         31720|0.33665888346423267|           31310|    0.332307365739758|     31190|0.33103375079600933|\n",
      "|2024-10-30 19:50:00|         31840|0.33741681149590946|           31310|  0.33180026281208935|     31214| 0.3307829256920012|\n",
      "|2024-10-30 19:45:00|         31927|0.33818108634861455|           31310|  0.33164562325226676|     31171|0.33017329039911875|\n",
      "|2024-10-30 19:40:00|         31989| 0.3386441108593932|           31240|  0.33071499650653174|     31233| 0.3306408926340751|\n",
      "|2024-10-30 19:35:00|         32034|   0.33933243646918|           31240|  0.33092168681080053|     31129| 0.3297458767200195|\n",
      "|2024-10-30 19:30:00|         32064|0.33929440646758796|           31240|  0.33057501428541197|     31198|0.33013057924700007|\n",
      "|2024-10-30 19:25:00|         32088| 0.3402901501654365|           31077|  0.32956859251717996|     31131| 0.3301412573173836|\n",
      "|2024-10-30 19:20:00|         32119|0.34077791452701267|           31077|  0.32972244620803803|     31056| 0.3294996392649493|\n",
      "|2024-10-30 19:15:00|         32158|0.34102887684655925|           31077|   0.3295650975110555|     31062|0.32940602564238525|\n",
      "|2024-10-30 19:10:00|         32151|0.34060066740823136|           31106|   0.3295301657926797|     31138|0.32986916679908895|\n",
      "|2024-10-30 19:05:00|         32048| 0.3398227085719133|           31106|   0.3298341604105696|     31154|0.33034313101751706|\n",
      "|2024-10-30 19:00:00|         31849|0.33822545531779324|           31106|  0.33033505017787923|     31210| 0.3314394945043275|\n",
      "+-------------------+--------------+-------------------+----------------+---------------------+----------+-------------------+\n",
      "only showing top 20 rows\n",
      "\n"
     ]
    }
   ],
   "source": [
    "datosDemanda.orderBy(desc(\"Fecha\")).show()"
   ]
  },
  {
   "cell_type": "code",
   "execution_count": 5,
   "metadata": {},
   "outputs": [
    {
     "data": {
      "text/plain": [
       "\u001b[36mdatos30octubre\u001b[39m: \u001b[32mDataset\u001b[39m[\u001b[32mRow\u001b[39m] = [Fecha: timestamp, Valor_previsto: bigint ... 5 more fields]"
      ]
     },
     "execution_count": 5,
     "metadata": {},
     "output_type": "execute_result"
    }
   ],
   "source": [
    "val datos30octubre = datosDemanda.filter(date_format($\"Fecha\", \"yyyy-MM-dd\") === \"2021-01-08\").orderBy(desc(\"Fecha\"))"
   ]
  },
  {
   "cell_type": "code",
   "execution_count": 6,
   "metadata": {},
   "outputs": [
    {
     "data": {
      "text/html": [
       "<div>\n",
       "  <span style=\"float: left;\">collect at cmd5.sc:3</span>\n",
       "</div>\n"
      ]
     },
     "metadata": {},
     "output_type": "display_data"
    },
    {
     "data": {
      "text/html": [
       "<div class=\"progress\">\n",
       "  <div class=\"progress-bar\" role=\"progressbar\" style=\"background-color: blue; width: 100%; word-wrap: normal; white-space: nowrap; text-align: center; color: white\" aria-valuenow=\"100\" aria-valuemin=\"0\" aria-valuemax=\"100\">\n",
       "    15 / 15\n",
       "  </div>\n",
       "  <div class=\"progress-bar\" role=\"progressbar\" style=\"background-color: red; width: 0%\" aria-valuenow=\"0\" aria-valuemin=\"0\" aria-valuemax=\"100\"></div>\n",
       "</div>\n"
      ]
     },
     "metadata": {},
     "output_type": "display_data"
    },
    {
     "data": {
      "text/html": [
       "<div>\n",
       "  <span style=\"float: left;\">collect at cmd5.sc:3</span>\n",
       "</div>\n"
      ]
     },
     "metadata": {},
     "output_type": "display_data"
    },
    {
     "data": {
      "text/html": [
       "<div class=\"progress\">\n",
       "  <div class=\"progress-bar\" role=\"progressbar\" style=\"background-color: blue; width: 100%; word-wrap: normal; white-space: nowrap; text-align: center; color: white\" aria-valuenow=\"100\" aria-valuemin=\"0\" aria-valuemax=\"100\">\n",
       "    15 / 15\n",
       "  </div>\n",
       "  <div class=\"progress-bar\" role=\"progressbar\" style=\"background-color: red; width: 0%\" aria-valuenow=\"0\" aria-valuemin=\"0\" aria-valuemax=\"100\"></div>\n",
       "</div>\n"
      ]
     },
     "metadata": {},
     "output_type": "display_data"
    },
    {
     "data": {
      "text/html": [
       "<div>\n",
       "  <span style=\"float: left;\">collect at cmd5.sc:3</span>\n",
       "</div>\n"
      ]
     },
     "metadata": {},
     "output_type": "display_data"
    },
    {
     "data": {
      "text/html": [
       "<div class=\"progress\">\n",
       "  <div class=\"progress-bar\" role=\"progressbar\" style=\"background-color: blue; width: 100%; word-wrap: normal; white-space: nowrap; text-align: center; color: white\" aria-valuenow=\"100\" aria-valuemin=\"0\" aria-valuemax=\"100\">\n",
       "    200 / 200\n",
       "  </div>\n",
       "  <div class=\"progress-bar\" role=\"progressbar\" style=\"background-color: red; width: 0%\" aria-valuenow=\"0\" aria-valuemin=\"0\" aria-valuemax=\"100\"></div>\n",
       "</div>\n"
      ]
     },
     "metadata": {},
     "output_type": "display_data"
    },
    {
     "data": {
      "text/html": [
       "<div>\n",
       "  <span style=\"float: left;\">collect at cmd5.sc:4</span>\n",
       "</div>\n"
      ]
     },
     "metadata": {},
     "output_type": "display_data"
    },
    {
     "data": {
      "text/html": [
       "<div class=\"progress\">\n",
       "  <div class=\"progress-bar\" role=\"progressbar\" style=\"background-color: blue; width: 100%; word-wrap: normal; white-space: nowrap; text-align: center; color: white\" aria-valuenow=\"100\" aria-valuemin=\"0\" aria-valuemax=\"100\">\n",
       "    15 / 15\n",
       "  </div>\n",
       "  <div class=\"progress-bar\" role=\"progressbar\" style=\"background-color: red; width: 0%\" aria-valuenow=\"0\" aria-valuemin=\"0\" aria-valuemax=\"100\"></div>\n",
       "</div>\n"
      ]
     },
     "metadata": {},
     "output_type": "display_data"
    },
    {
     "data": {
      "text/html": [
       "<div>\n",
       "  <span style=\"float: left;\">collect at cmd5.sc:4</span>\n",
       "</div>\n"
      ]
     },
     "metadata": {},
     "output_type": "display_data"
    },
    {
     "data": {
      "text/html": [
       "<div class=\"progress\">\n",
       "  <div class=\"progress-bar\" role=\"progressbar\" style=\"background-color: blue; width: 100%; word-wrap: normal; white-space: nowrap; text-align: center; color: white\" aria-valuenow=\"100\" aria-valuemin=\"0\" aria-valuemax=\"100\">\n",
       "    15 / 15\n",
       "  </div>\n",
       "  <div class=\"progress-bar\" role=\"progressbar\" style=\"background-color: red; width: 0%\" aria-valuenow=\"0\" aria-valuemin=\"0\" aria-valuemax=\"100\"></div>\n",
       "</div>\n"
      ]
     },
     "metadata": {},
     "output_type": "display_data"
    },
    {
     "data": {
      "text/html": [
       "<div>\n",
       "  <span style=\"float: left;\">collect at cmd5.sc:4</span>\n",
       "</div>\n"
      ]
     },
     "metadata": {},
     "output_type": "display_data"
    },
    {
     "data": {
      "text/html": [
       "<div class=\"progress\">\n",
       "  <div class=\"progress-bar\" role=\"progressbar\" style=\"background-color: blue; width: 100%; word-wrap: normal; white-space: nowrap; text-align: center; color: white\" aria-valuenow=\"100\" aria-valuemin=\"0\" aria-valuemax=\"100\">\n",
       "    200 / 200\n",
       "  </div>\n",
       "  <div class=\"progress-bar\" role=\"progressbar\" style=\"background-color: red; width: 0%\" aria-valuenow=\"0\" aria-valuemin=\"0\" aria-valuemax=\"100\"></div>\n",
       "</div>\n"
      ]
     },
     "metadata": {},
     "output_type": "display_data"
    },
    {
     "data": {
      "text/html": [
       "<div>\n",
       "  <span style=\"float: left;\">collect at cmd5.sc:5</span>\n",
       "</div>\n"
      ]
     },
     "metadata": {},
     "output_type": "display_data"
    },
    {
     "data": {
      "text/html": [
       "<div class=\"progress\">\n",
       "  <div class=\"progress-bar\" role=\"progressbar\" style=\"background-color: blue; width: 100%; word-wrap: normal; white-space: nowrap; text-align: center; color: white\" aria-valuenow=\"100\" aria-valuemin=\"0\" aria-valuemax=\"100\">\n",
       "    15 / 15\n",
       "  </div>\n",
       "  <div class=\"progress-bar\" role=\"progressbar\" style=\"background-color: red; width: 0%\" aria-valuenow=\"0\" aria-valuemin=\"0\" aria-valuemax=\"100\"></div>\n",
       "</div>\n"
      ]
     },
     "metadata": {},
     "output_type": "display_data"
    },
    {
     "data": {
      "text/html": [
       "<div>\n",
       "  <span style=\"float: left;\">collect at cmd5.sc:5</span>\n",
       "</div>\n"
      ]
     },
     "metadata": {},
     "output_type": "display_data"
    },
    {
     "data": {
      "text/html": [
       "<div class=\"progress\">\n",
       "  <div class=\"progress-bar\" role=\"progressbar\" style=\"background-color: blue; width: 100%; word-wrap: normal; white-space: nowrap; text-align: center; color: white\" aria-valuenow=\"100\" aria-valuemin=\"0\" aria-valuemax=\"100\">\n",
       "    15 / 15\n",
       "  </div>\n",
       "  <div class=\"progress-bar\" role=\"progressbar\" style=\"background-color: red; width: 0%\" aria-valuenow=\"0\" aria-valuemin=\"0\" aria-valuemax=\"100\"></div>\n",
       "</div>\n"
      ]
     },
     "metadata": {},
     "output_type": "display_data"
    },
    {
     "data": {
      "text/html": [
       "<div>\n",
       "  <span style=\"float: left;\">collect at cmd5.sc:5</span>\n",
       "</div>\n"
      ]
     },
     "metadata": {},
     "output_type": "display_data"
    },
    {
     "data": {
      "text/html": [
       "<div class=\"progress\">\n",
       "  <div class=\"progress-bar\" role=\"progressbar\" style=\"background-color: blue; width: 100%; word-wrap: normal; white-space: nowrap; text-align: center; color: white\" aria-valuenow=\"100\" aria-valuemin=\"0\" aria-valuemax=\"100\">\n",
       "    200 / 200\n",
       "  </div>\n",
       "  <div class=\"progress-bar\" role=\"progressbar\" style=\"background-color: red; width: 0%\" aria-valuenow=\"0\" aria-valuemin=\"0\" aria-valuemax=\"100\"></div>\n",
       "</div>\n"
      ]
     },
     "metadata": {},
     "output_type": "display_data"
    },
    {
     "data": {
      "text/html": [
       "<div>\n",
       "  <span style=\"float: left;\">collect at cmd5.sc:6</span>\n",
       "</div>\n"
      ]
     },
     "metadata": {},
     "output_type": "display_data"
    },
    {
     "data": {
      "text/html": [
       "<div class=\"progress\">\n",
       "  <div class=\"progress-bar\" role=\"progressbar\" style=\"background-color: blue; width: 100%; word-wrap: normal; white-space: nowrap; text-align: center; color: white\" aria-valuenow=\"100\" aria-valuemin=\"0\" aria-valuemax=\"100\">\n",
       "    15 / 15\n",
       "  </div>\n",
       "  <div class=\"progress-bar\" role=\"progressbar\" style=\"background-color: red; width: 0%\" aria-valuenow=\"0\" aria-valuemin=\"0\" aria-valuemax=\"100\"></div>\n",
       "</div>\n"
      ]
     },
     "metadata": {},
     "output_type": "display_data"
    },
    {
     "data": {
      "text/html": [
       "<div>\n",
       "  <span style=\"float: left;\">collect at cmd5.sc:6</span>\n",
       "</div>\n"
      ]
     },
     "metadata": {},
     "output_type": "display_data"
    },
    {
     "data": {
      "text/html": [
       "<div class=\"progress\">\n",
       "  <div class=\"progress-bar\" role=\"progressbar\" style=\"background-color: blue; width: 100%; word-wrap: normal; white-space: nowrap; text-align: center; color: white\" aria-valuenow=\"100\" aria-valuemin=\"0\" aria-valuemax=\"100\">\n",
       "    15 / 15\n",
       "  </div>\n",
       "  <div class=\"progress-bar\" role=\"progressbar\" style=\"background-color: red; width: 0%\" aria-valuenow=\"0\" aria-valuemin=\"0\" aria-valuemax=\"100\"></div>\n",
       "</div>\n"
      ]
     },
     "metadata": {},
     "output_type": "display_data"
    },
    {
     "data": {
      "text/html": [
       "<div>\n",
       "  <span style=\"float: left;\">collect at cmd5.sc:6</span>\n",
       "</div>\n"
      ]
     },
     "metadata": {},
     "output_type": "display_data"
    },
    {
     "data": {
      "text/html": [
       "<div class=\"progress\">\n",
       "  <div class=\"progress-bar\" role=\"progressbar\" style=\"background-color: blue; width: 100%; word-wrap: normal; white-space: nowrap; text-align: center; color: white\" aria-valuenow=\"100\" aria-valuemin=\"0\" aria-valuemax=\"100\">\n",
       "    200 / 200\n",
       "  </div>\n",
       "  <div class=\"progress-bar\" role=\"progressbar\" style=\"background-color: red; width: 0%\" aria-valuenow=\"0\" aria-valuemin=\"0\" aria-valuemax=\"100\"></div>\n",
       "</div>\n"
      ]
     },
     "metadata": {},
     "output_type": "display_data"
    },
    {
     "data": {
      "text/html": [
       "\n",
       "      <script type=\"text/javascript\">\n",
       "        require.config({\n",
       "  paths: {\n",
       "    d3: 'https://cdnjs.cloudflare.com/ajax/libs/d3/3.5.17/d3.min',\n",
       "    plotly: 'https://cdn.plot.ly/plotly-1.41.3.min',\n",
       "    jquery: 'https://code.jquery.com/jquery-3.3.1.min'\n",
       "  },\n",
       "\n",
       "  shim: {\n",
       "    plotly: {\n",
       "      deps: ['d3', 'jquery'],\n",
       "      exports: 'plotly'\n",
       "    }\n",
       "  }\n",
       "});\n",
       "        \n",
       "\n",
       "        require(['plotly'], function(Plotly) {\n",
       "          window.Plotly = Plotly;\n",
       "        });\n",
       "      </script>\n",
       "    "
      ]
     },
     "metadata": {},
     "output_type": "display_data"
    },
    {
     "data": {
      "application/vnd.plotly.v1+json": {
       "data": [
        {
         "name": "Valor_previsto",
         "type": "scatter",
         "x": [
          "2024-10-30 20:25:00",
          "2024-10-30 20:20:00",
          "2024-10-30 20:15:00",
          "2024-10-30 20:10:00",
          "2024-10-30 20:05:00",
          "2024-10-30 20:00:00",
          "2024-10-30 19:55:00",
          "2024-10-30 19:50:00",
          "2024-10-30 19:45:00",
          "2024-10-30 19:40:00",
          "2024-10-30 19:35:00",
          "2024-10-30 19:30:00",
          "2024-10-30 19:25:00",
          "2024-10-30 19:20:00",
          "2024-10-30 19:15:00",
          "2024-10-30 19:10:00",
          "2024-10-30 19:05:00",
          "2024-10-30 19:00:00",
          "2024-10-30 18:55:00",
          "2024-10-30 18:50:00",
          "2024-10-30 18:45:00",
          "2024-10-30 18:40:00",
          "2024-10-30 18:35:00",
          "2024-10-30 18:30:00",
          "2024-10-30 18:25:00",
          "2024-10-30 18:20:00",
          "2024-10-30 18:15:00",
          "2024-10-30 18:10:00",
          "2024-10-30 18:05:00",
          "2024-10-30 18:00:00",
          "2024-10-30 17:55:00",
          "2024-10-30 17:50:00",
          "2024-10-30 17:45:00",
          "2024-10-30 17:40:00",
          "2024-10-30 17:35:00",
          "2024-10-30 17:30:00",
          "2024-10-30 17:25:00",
          "2024-10-30 17:20:00",
          "2024-10-30 17:15:00",
          "2024-10-30 17:10:00",
          "2024-10-30 17:05:00",
          "2024-10-30 17:00:00",
          "2024-10-30 16:55:00",
          "2024-10-30 16:50:00",
          "2024-10-30 16:45:00",
          "2024-10-30 16:40:00",
          "2024-10-30 16:35:00",
          "2024-10-30 16:30:00",
          "2024-10-30 16:25:00",
          "2024-10-30 16:20:00",
          "2024-10-30 16:15:00",
          "2024-10-30 16:10:00",
          "2024-10-30 16:05:00",
          "2024-10-30 16:00:00",
          "2024-10-30 15:55:00",
          "2024-10-30 15:50:00",
          "2024-10-30 15:45:00",
          "2024-10-30 15:40:00",
          "2024-10-30 15:35:00",
          "2024-10-30 15:30:00",
          "2024-10-30 15:25:00",
          "2024-10-30 15:20:00",
          "2024-10-30 15:15:00",
          "2024-10-30 15:10:00",
          "2024-10-30 15:05:00",
          "2024-10-30 15:00:00",
          "2024-10-30 14:55:00",
          "2024-10-30 14:50:00",
          "2024-10-30 14:45:00",
          "2024-10-30 14:40:00",
          "2024-10-30 14:35:00",
          "2024-10-30 14:30:00",
          "2024-10-30 14:25:00",
          "2024-10-30 14:20:00",
          "2024-10-30 14:15:00",
          "2024-10-30 14:10:00",
          "2024-10-30 14:05:00",
          "2024-10-30 14:00:00",
          "2024-10-30 13:55:00",
          "2024-10-30 13:50:00",
          "2024-10-30 13:45:00",
          "2024-10-30 13:40:00",
          "2024-10-30 13:35:00",
          "2024-10-30 13:30:00",
          "2024-10-30 13:25:00",
          "2024-10-30 13:20:00",
          "2024-10-30 13:15:00",
          "2024-10-30 13:10:00",
          "2024-10-30 13:05:00",
          "2024-10-30 13:00:00",
          "2024-10-30 12:55:00",
          "2024-10-30 12:50:00",
          "2024-10-30 12:45:00",
          "2024-10-30 12:40:00",
          "2024-10-30 12:35:00",
          "2024-10-30 12:30:00",
          "2024-10-30 12:25:00",
          "2024-10-30 12:20:00",
          "2024-10-30 12:15:00",
          "2024-10-30 12:10:00",
          "2024-10-30 12:05:00",
          "2024-10-30 12:00:00",
          "2024-10-30 11:55:00",
          "2024-10-30 11:50:00",
          "2024-10-30 11:45:00",
          "2024-10-30 11:40:00",
          "2024-10-30 11:35:00",
          "2024-10-30 11:30:00",
          "2024-10-30 11:25:00",
          "2024-10-30 11:20:00",
          "2024-10-30 11:15:00",
          "2024-10-30 11:10:00",
          "2024-10-30 11:05:00",
          "2024-10-30 11:00:00",
          "2024-10-30 10:55:00",
          "2024-10-30 10:50:00",
          "2024-10-30 10:45:00",
          "2024-10-30 10:40:00",
          "2024-10-30 10:35:00",
          "2024-10-30 10:30:00",
          "2024-10-30 10:25:00",
          "2024-10-30 10:20:00",
          "2024-10-30 10:15:00",
          "2024-10-30 10:10:00",
          "2024-10-30 10:05:00",
          "2024-10-30 10:00:00",
          "2024-10-30 09:55:00",
          "2024-10-30 09:50:00",
          "2024-10-30 09:45:00",
          "2024-10-30 09:40:00",
          "2024-10-30 09:35:00",
          "2024-10-30 09:30:00",
          "2024-10-30 09:25:00",
          "2024-10-30 09:20:00",
          "2024-10-30 09:15:00",
          "2024-10-30 09:10:00",
          "2024-10-30 09:05:00",
          "2024-10-30 09:00:00",
          "2024-10-30 08:55:00",
          "2024-10-30 08:50:00",
          "2024-10-30 08:45:00",
          "2024-10-30 08:40:00",
          "2024-10-30 08:35:00",
          "2024-10-30 08:30:00",
          "2024-10-30 08:25:00",
          "2024-10-30 08:20:00",
          "2024-10-30 08:15:00",
          "2024-10-30 08:10:00",
          "2024-10-30 08:05:00",
          "2024-10-30 08:00:00",
          "2024-10-30 07:55:00",
          "2024-10-30 07:50:00",
          "2024-10-30 07:45:00",
          "2024-10-30 07:40:00",
          "2024-10-30 07:35:00",
          "2024-10-30 07:30:00",
          "2024-10-30 07:25:00",
          "2024-10-30 07:20:00",
          "2024-10-30 07:15:00",
          "2024-10-30 07:10:00",
          "2024-10-30 07:05:00",
          "2024-10-30 07:00:00",
          "2024-10-30 06:55:00",
          "2024-10-30 06:50:00",
          "2024-10-30 06:45:00",
          "2024-10-30 06:40:00",
          "2024-10-30 06:35:00",
          "2024-10-30 06:30:00",
          "2024-10-30 06:25:00",
          "2024-10-30 06:20:00",
          "2024-10-30 06:15:00",
          "2024-10-30 06:10:00",
          "2024-10-30 06:05:00",
          "2024-10-30 06:00:00",
          "2024-10-30 05:55:00",
          "2024-10-30 05:50:00",
          "2024-10-30 05:45:00",
          "2024-10-30 05:40:00",
          "2024-10-30 05:35:00",
          "2024-10-30 05:30:00",
          "2024-10-30 05:25:00",
          "2024-10-30 05:20:00",
          "2024-10-30 05:15:00",
          "2024-10-30 05:10:00",
          "2024-10-30 05:05:00",
          "2024-10-30 05:00:00",
          "2024-10-30 04:55:00",
          "2024-10-30 04:50:00",
          "2024-10-30 04:45:00",
          "2024-10-30 04:40:00",
          "2024-10-30 04:35:00",
          "2024-10-30 04:30:00",
          "2024-10-30 04:25:00",
          "2024-10-30 04:20:00",
          "2024-10-30 04:15:00",
          "2024-10-30 04:10:00",
          "2024-10-30 04:05:00",
          "2024-10-30 04:00:00",
          "2024-10-30 03:55:00",
          "2024-10-30 03:50:00",
          "2024-10-30 03:45:00",
          "2024-10-30 03:40:00",
          "2024-10-30 03:35:00",
          "2024-10-30 03:30:00",
          "2024-10-30 03:25:00",
          "2024-10-30 03:20:00",
          "2024-10-30 03:15:00",
          "2024-10-30 03:10:00",
          "2024-10-30 03:05:00",
          "2024-10-30 03:00:00",
          "2024-10-30 02:55:00",
          "2024-10-30 02:50:00",
          "2024-10-30 02:45:00",
          "2024-10-30 02:40:00",
          "2024-10-30 02:35:00",
          "2024-10-30 02:30:00",
          "2024-10-30 02:25:00",
          "2024-10-30 02:20:00",
          "2024-10-30 02:15:00",
          "2024-10-30 02:10:00",
          "2024-10-30 02:05:00",
          "2024-10-30 02:00:00",
          "2024-10-30 01:55:00",
          "2024-10-30 01:50:00",
          "2024-10-30 01:45:00",
          "2024-10-30 01:40:00",
          "2024-10-30 01:35:00",
          "2024-10-30 01:30:00",
          "2024-10-30 01:25:00",
          "2024-10-30 01:20:00",
          "2024-10-30 01:15:00",
          "2024-10-30 01:10:00",
          "2024-10-30 01:05:00",
          "2024-10-30 01:00:00",
          "2024-10-30 00:55:00",
          "2024-10-30 00:50:00",
          "2024-10-30 00:45:00",
          "2024-10-30 00:40:00",
          "2024-10-30 00:35:00",
          "2024-10-30 00:30:00",
          "2024-10-30 00:25:00",
          "2024-10-30 00:20:00",
          "2024-10-30 00:15:00",
          "2024-10-30 00:10:00",
          "2024-10-30 00:05:00",
          "2024-10-30 00:00:00"
         ],
         "y": [
          30716,
          30912,
          31079,
          31236,
          31398,
          31566,
          31720,
          31840,
          31927,
          31989,
          32034,
          32064,
          32088,
          32119,
          32158,
          32151,
          32048,
          31849,
          31637,
          31496,
          31428,
          31380,
          31303,
          31197,
          31084,
          30987,
          30905,
          30812,
          30680,
          30510,
          30336,
          30192,
          30077,
          29979,
          29884,
          29792,
          29687,
          29553,
          29389,
          29277,
          29296,
          29448,
          29594,
          29598,
          29460,
          29274,
          29135,
          29044,
          28972,
          28890,
          28798,
          28724,
          28692,
          28703,
          28723,
          28720,
          28692,
          28658,
          28637,
          28629,
          28624,
          28615,
          28601,
          28593,
          28606,
          28638,
          28673,
          28695,
          28704,
          28710,
          28722,
          28741,
          28764,
          28792,
          28825,
          28856,
          28879,
          28895,
          28918,
          28962,
          29029,
          29101,
          29162,
          29212,
          29269,
          29351,
          29459,
          29530,
          29504,
          29379,
          29254,
          29224,
          29289,
          29382,
          29434,
          29443,
          29451,
          29494,
          29574,
          29599,
          29477,
          29208,
          28933,
          28795,
          28794,
          28847,
          28871,
          28865,
          28836,
          28790,
          28727,
          28712,
          28806,
          29011,
          29216,
          29310,
          29293,
          29239,
          29220,
          29237,
          29264,
          29275,
          29270,
          29278,
          29328,
          29420,
          29511,
          29561,
          29569,
          29560,
          29559,
          29567,
          29582,
          29605,
          29636,
          29649,
          29619,
          29548,
          29477,
          29447,
          29460,
          29486,
          29495,
          29489,
          29483,
          29492,
          29518,
          29523,
          29469,
          29357,
          29235,
          29154,
          29112,
          29079,
          29026,
          28952,
          28864,
          28767,
          28663,
          28550,
          28428,
          28295,
          28154,
          28009,
          27859,
          27696,
          27510,
          27303,
          27089,
          26884,
          26686,
          26442,
          26099,
          25655,
          25203,
          24836,
          24552,
          24302,
          24038,
          23759,
          23470,
          23176,
          22875,
          22617,
          22450,
          22374,
          22306,
          22161,
          21941,
          21704,
          21511,
          21362,
          21232,
          21095,
          20951,
          20846,
          20826,
          20893,
          20972,
          20991,
          20951,
          20893,
          20861,
          20854,
          20853,
          20840,
          20814,
          20798,
          20812,
          20856,
          20903,
          20923,
          20917,
          20901,
          20892,
          20891,
          20899,
          20918,
          20949,
          20968,
          20950,
          20895,
          20843,
          20833,
          20866,
          20917,
          20964,
          21007,
          21045,
          21078,
          21108,
          21157,
          21249,
          21384,
          21521,
          21621,
          21682,
          21734,
          21805,
          21896,
          21987,
          22059,
          22114,
          22195,
          22347,
          22570
         ]
        },
        {
         "name": "Valor_programado",
         "type": "scatter",
         "x": [
          "2024-10-30 20:25:00",
          "2024-10-30 20:20:00",
          "2024-10-30 20:15:00",
          "2024-10-30 20:10:00",
          "2024-10-30 20:05:00",
          "2024-10-30 20:00:00",
          "2024-10-30 19:55:00",
          "2024-10-30 19:50:00",
          "2024-10-30 19:45:00",
          "2024-10-30 19:40:00",
          "2024-10-30 19:35:00",
          "2024-10-30 19:30:00",
          "2024-10-30 19:25:00",
          "2024-10-30 19:20:00",
          "2024-10-30 19:15:00",
          "2024-10-30 19:10:00",
          "2024-10-30 19:05:00",
          "2024-10-30 19:00:00",
          "2024-10-30 18:55:00",
          "2024-10-30 18:50:00",
          "2024-10-30 18:45:00",
          "2024-10-30 18:40:00",
          "2024-10-30 18:35:00",
          "2024-10-30 18:30:00",
          "2024-10-30 18:25:00",
          "2024-10-30 18:20:00",
          "2024-10-30 18:15:00",
          "2024-10-30 18:10:00",
          "2024-10-30 18:05:00",
          "2024-10-30 18:00:00",
          "2024-10-30 17:55:00",
          "2024-10-30 17:50:00",
          "2024-10-30 17:45:00",
          "2024-10-30 17:40:00",
          "2024-10-30 17:35:00",
          "2024-10-30 17:30:00",
          "2024-10-30 17:25:00",
          "2024-10-30 17:20:00",
          "2024-10-30 17:15:00",
          "2024-10-30 17:10:00",
          "2024-10-30 17:05:00",
          "2024-10-30 17:00:00",
          "2024-10-30 16:55:00",
          "2024-10-30 16:50:00",
          "2024-10-30 16:45:00",
          "2024-10-30 16:40:00",
          "2024-10-30 16:35:00",
          "2024-10-30 16:30:00",
          "2024-10-30 16:25:00",
          "2024-10-30 16:20:00",
          "2024-10-30 16:15:00",
          "2024-10-30 16:10:00",
          "2024-10-30 16:05:00",
          "2024-10-30 16:00:00",
          "2024-10-30 15:55:00",
          "2024-10-30 15:50:00",
          "2024-10-30 15:45:00",
          "2024-10-30 15:40:00",
          "2024-10-30 15:35:00",
          "2024-10-30 15:30:00",
          "2024-10-30 15:25:00",
          "2024-10-30 15:20:00",
          "2024-10-30 15:15:00",
          "2024-10-30 15:10:00",
          "2024-10-30 15:05:00",
          "2024-10-30 15:00:00",
          "2024-10-30 14:55:00",
          "2024-10-30 14:50:00",
          "2024-10-30 14:45:00",
          "2024-10-30 14:40:00",
          "2024-10-30 14:35:00",
          "2024-10-30 14:30:00",
          "2024-10-30 14:25:00",
          "2024-10-30 14:20:00",
          "2024-10-30 14:15:00",
          "2024-10-30 14:10:00",
          "2024-10-30 14:05:00",
          "2024-10-30 14:00:00",
          "2024-10-30 13:55:00",
          "2024-10-30 13:50:00",
          "2024-10-30 13:45:00",
          "2024-10-30 13:40:00",
          "2024-10-30 13:35:00",
          "2024-10-30 13:30:00",
          "2024-10-30 13:25:00",
          "2024-10-30 13:20:00",
          "2024-10-30 13:15:00",
          "2024-10-30 13:10:00",
          "2024-10-30 13:05:00",
          "2024-10-30 13:00:00",
          "2024-10-30 12:55:00",
          "2024-10-30 12:50:00",
          "2024-10-30 12:45:00",
          "2024-10-30 12:40:00",
          "2024-10-30 12:35:00",
          "2024-10-30 12:30:00",
          "2024-10-30 12:25:00",
          "2024-10-30 12:20:00",
          "2024-10-30 12:15:00",
          "2024-10-30 12:10:00",
          "2024-10-30 12:05:00",
          "2024-10-30 12:00:00",
          "2024-10-30 11:55:00",
          "2024-10-30 11:50:00",
          "2024-10-30 11:45:00",
          "2024-10-30 11:40:00",
          "2024-10-30 11:35:00",
          "2024-10-30 11:30:00",
          "2024-10-30 11:25:00",
          "2024-10-30 11:20:00",
          "2024-10-30 11:15:00",
          "2024-10-30 11:10:00",
          "2024-10-30 11:05:00",
          "2024-10-30 11:00:00",
          "2024-10-30 10:55:00",
          "2024-10-30 10:50:00",
          "2024-10-30 10:45:00",
          "2024-10-30 10:40:00",
          "2024-10-30 10:35:00",
          "2024-10-30 10:30:00",
          "2024-10-30 10:25:00",
          "2024-10-30 10:20:00",
          "2024-10-30 10:15:00",
          "2024-10-30 10:10:00",
          "2024-10-30 10:05:00",
          "2024-10-30 10:00:00",
          "2024-10-30 09:55:00",
          "2024-10-30 09:50:00",
          "2024-10-30 09:45:00",
          "2024-10-30 09:40:00",
          "2024-10-30 09:35:00",
          "2024-10-30 09:30:00",
          "2024-10-30 09:25:00",
          "2024-10-30 09:20:00",
          "2024-10-30 09:15:00",
          "2024-10-30 09:10:00",
          "2024-10-30 09:05:00",
          "2024-10-30 09:00:00",
          "2024-10-30 08:55:00",
          "2024-10-30 08:50:00",
          "2024-10-30 08:45:00",
          "2024-10-30 08:40:00",
          "2024-10-30 08:35:00",
          "2024-10-30 08:30:00",
          "2024-10-30 08:25:00",
          "2024-10-30 08:20:00",
          "2024-10-30 08:15:00",
          "2024-10-30 08:10:00",
          "2024-10-30 08:05:00",
          "2024-10-30 08:00:00",
          "2024-10-30 07:55:00",
          "2024-10-30 07:50:00",
          "2024-10-30 07:45:00",
          "2024-10-30 07:40:00",
          "2024-10-30 07:35:00",
          "2024-10-30 07:30:00",
          "2024-10-30 07:25:00",
          "2024-10-30 07:20:00",
          "2024-10-30 07:15:00",
          "2024-10-30 07:10:00",
          "2024-10-30 07:05:00",
          "2024-10-30 07:00:00",
          "2024-10-30 06:55:00",
          "2024-10-30 06:50:00",
          "2024-10-30 06:45:00",
          "2024-10-30 06:40:00",
          "2024-10-30 06:35:00",
          "2024-10-30 06:30:00",
          "2024-10-30 06:25:00",
          "2024-10-30 06:20:00",
          "2024-10-30 06:15:00",
          "2024-10-30 06:10:00",
          "2024-10-30 06:05:00",
          "2024-10-30 06:00:00",
          "2024-10-30 05:55:00",
          "2024-10-30 05:50:00",
          "2024-10-30 05:45:00",
          "2024-10-30 05:40:00",
          "2024-10-30 05:35:00",
          "2024-10-30 05:30:00",
          "2024-10-30 05:25:00",
          "2024-10-30 05:20:00",
          "2024-10-30 05:15:00",
          "2024-10-30 05:10:00",
          "2024-10-30 05:05:00",
          "2024-10-30 05:00:00",
          "2024-10-30 04:55:00",
          "2024-10-30 04:50:00",
          "2024-10-30 04:45:00",
          "2024-10-30 04:40:00",
          "2024-10-30 04:35:00",
          "2024-10-30 04:30:00",
          "2024-10-30 04:25:00",
          "2024-10-30 04:20:00",
          "2024-10-30 04:15:00",
          "2024-10-30 04:10:00",
          "2024-10-30 04:05:00",
          "2024-10-30 04:00:00",
          "2024-10-30 03:55:00",
          "2024-10-30 03:50:00",
          "2024-10-30 03:45:00",
          "2024-10-30 03:40:00",
          "2024-10-30 03:35:00",
          "2024-10-30 03:30:00",
          "2024-10-30 03:25:00",
          "2024-10-30 03:20:00",
          "2024-10-30 03:15:00",
          "2024-10-30 03:10:00",
          "2024-10-30 03:05:00",
          "2024-10-30 03:00:00",
          "2024-10-30 02:55:00",
          "2024-10-30 02:50:00",
          "2024-10-30 02:45:00",
          "2024-10-30 02:40:00",
          "2024-10-30 02:35:00",
          "2024-10-30 02:30:00",
          "2024-10-30 02:25:00",
          "2024-10-30 02:20:00",
          "2024-10-30 02:15:00",
          "2024-10-30 02:10:00",
          "2024-10-30 02:05:00",
          "2024-10-30 02:00:00",
          "2024-10-30 01:55:00",
          "2024-10-30 01:50:00",
          "2024-10-30 01:45:00",
          "2024-10-30 01:40:00",
          "2024-10-30 01:35:00",
          "2024-10-30 01:30:00",
          "2024-10-30 01:25:00",
          "2024-10-30 01:20:00",
          "2024-10-30 01:15:00",
          "2024-10-30 01:10:00",
          "2024-10-30 01:05:00",
          "2024-10-30 01:00:00",
          "2024-10-30 00:55:00",
          "2024-10-30 00:50:00",
          "2024-10-30 00:45:00",
          "2024-10-30 00:40:00",
          "2024-10-30 00:35:00",
          "2024-10-30 00:30:00",
          "2024-10-30 00:25:00",
          "2024-10-30 00:20:00",
          "2024-10-30 00:15:00",
          "2024-10-30 00:10:00",
          "2024-10-30 00:05:00",
          "2024-10-30 00:00:00"
         ],
         "y": [
          30701,
          30701,
          30701,
          30995,
          30995,
          30995,
          31310,
          31310,
          31310,
          31240,
          31240,
          31240,
          31077,
          31077,
          31077,
          31106,
          31106,
          31106,
          31001,
          31001,
          31001,
          30800,
          30800,
          30800,
          30680,
          30680,
          30680,
          30696,
          30696,
          30696,
          30799,
          30799,
          30799,
          30368,
          30368,
          30368,
          29862,
          29862,
          29862,
          29308,
          29308,
          29308,
          29044,
          29044,
          29044,
          28809,
          28809,
          28809,
          28500,
          28500,
          28500,
          28501,
          28501,
          28501,
          28202,
          28202,
          28202,
          28407,
          28407,
          28407,
          28305,
          28305,
          28305,
          28812,
          28812,
          28812,
          28503,
          28503,
          28503,
          29011,
          29011,
          29011,
          28819,
          28819,
          28819,
          28990,
          28990,
          28990,
          29162,
          29162,
          29162,
          29425,
          29425,
          29425,
          29503,
          29503,
          29503,
          29502,
          29502,
          29502,
          29686,
          29686,
          29686,
          29791,
          29791,
          29791,
          29875,
          29875,
          29875,
          29796,
          29796,
          29796,
          29582,
          29582,
          29582,
          29704,
          29704,
          29704,
          29437,
          29437,
          29437,
          29677,
          29677,
          29677,
          29388,
          29388,
          29388,
          29269,
          29269,
          29269,
          29280,
          29280,
          29280,
          29056,
          29056,
          29056,
          29212,
          29212,
          29212,
          29008,
          29008,
          29008,
          29063,
          29063,
          29063,
          29206,
          29206,
          29206,
          29661,
          29661,
          29661,
          29351,
          29351,
          29351,
          29641,
          29641,
          29641,
          29499,
          29499,
          29499,
          29323,
          29323,
          29323,
          29163,
          29163,
          29163,
          29028,
          29028,
          29028,
          28427,
          28427,
          28427,
          28009,
          28009,
          28009,
          27519,
          27519,
          27519,
          27119,
          27119,
          27119,
          26336,
          26336,
          26336,
          25045,
          25045,
          25045,
          24175,
          24175,
          24175,
          23495,
          23495,
          23495,
          22795,
          22795,
          22795,
          22048,
          22048,
          22048,
          21646,
          21646,
          21646,
          21182,
          21182,
          21182,
          20873,
          20873,
          20873,
          20792,
          20792,
          20792,
          20822,
          20822,
          20822,
          20822,
          20822,
          20822,
          20822,
          20822,
          20822,
          20753,
          20753,
          20753,
          20593,
          20593,
          20593,
          20943,
          20943,
          20943,
          20943,
          20943,
          20943,
          20821,
          20821,
          20821,
          20996,
          20996,
          20996,
          21156,
          21156,
          21156,
          21096,
          21096,
          21096,
          21510,
          21510,
          21510,
          21575,
          21575,
          21575,
          21695,
          21695,
          21695,
          21961,
          21961,
          21961
         ]
        },
        {
         "name": "Valor_real",
         "type": "scatter",
         "x": [
          "2024-10-30 20:25:00",
          "2024-10-30 20:20:00",
          "2024-10-30 20:15:00",
          "2024-10-30 20:10:00",
          "2024-10-30 20:05:00",
          "2024-10-30 20:00:00",
          "2024-10-30 19:55:00",
          "2024-10-30 19:50:00",
          "2024-10-30 19:45:00",
          "2024-10-30 19:40:00",
          "2024-10-30 19:35:00",
          "2024-10-30 19:30:00",
          "2024-10-30 19:25:00",
          "2024-10-30 19:20:00",
          "2024-10-30 19:15:00",
          "2024-10-30 19:10:00",
          "2024-10-30 19:05:00",
          "2024-10-30 19:00:00",
          "2024-10-30 18:55:00",
          "2024-10-30 18:50:00",
          "2024-10-30 18:45:00",
          "2024-10-30 18:40:00",
          "2024-10-30 18:35:00",
          "2024-10-30 18:30:00",
          "2024-10-30 18:25:00",
          "2024-10-30 18:20:00",
          "2024-10-30 18:15:00",
          "2024-10-30 18:10:00",
          "2024-10-30 18:05:00",
          "2024-10-30 18:00:00",
          "2024-10-30 17:55:00",
          "2024-10-30 17:50:00",
          "2024-10-30 17:45:00",
          "2024-10-30 17:40:00",
          "2024-10-30 17:35:00",
          "2024-10-30 17:30:00",
          "2024-10-30 17:25:00",
          "2024-10-30 17:20:00",
          "2024-10-30 17:15:00",
          "2024-10-30 17:10:00",
          "2024-10-30 17:05:00",
          "2024-10-30 17:00:00",
          "2024-10-30 16:55:00",
          "2024-10-30 16:50:00",
          "2024-10-30 16:45:00",
          "2024-10-30 16:40:00",
          "2024-10-30 16:35:00",
          "2024-10-30 16:30:00",
          "2024-10-30 16:25:00",
          "2024-10-30 16:20:00",
          "2024-10-30 16:15:00",
          "2024-10-30 16:10:00",
          "2024-10-30 16:05:00",
          "2024-10-30 16:00:00",
          "2024-10-30 15:55:00",
          "2024-10-30 15:50:00",
          "2024-10-30 15:45:00",
          "2024-10-30 15:40:00",
          "2024-10-30 15:35:00",
          "2024-10-30 15:30:00",
          "2024-10-30 15:25:00",
          "2024-10-30 15:20:00",
          "2024-10-30 15:15:00",
          "2024-10-30 15:10:00",
          "2024-10-30 15:05:00",
          "2024-10-30 15:00:00",
          "2024-10-30 14:55:00",
          "2024-10-30 14:50:00",
          "2024-10-30 14:45:00",
          "2024-10-30 14:40:00",
          "2024-10-30 14:35:00",
          "2024-10-30 14:30:00",
          "2024-10-30 14:25:00",
          "2024-10-30 14:20:00",
          "2024-10-30 14:15:00",
          "2024-10-30 14:10:00",
          "2024-10-30 14:05:00",
          "2024-10-30 14:00:00",
          "2024-10-30 13:55:00",
          "2024-10-30 13:50:00",
          "2024-10-30 13:45:00",
          "2024-10-30 13:40:00",
          "2024-10-30 13:35:00",
          "2024-10-30 13:30:00",
          "2024-10-30 13:25:00",
          "2024-10-30 13:20:00",
          "2024-10-30 13:15:00",
          "2024-10-30 13:10:00",
          "2024-10-30 13:05:00",
          "2024-10-30 13:00:00",
          "2024-10-30 12:55:00",
          "2024-10-30 12:50:00",
          "2024-10-30 12:45:00",
          "2024-10-30 12:40:00",
          "2024-10-30 12:35:00",
          "2024-10-30 12:30:00",
          "2024-10-30 12:25:00",
          "2024-10-30 12:20:00",
          "2024-10-30 12:15:00",
          "2024-10-30 12:10:00",
          "2024-10-30 12:05:00",
          "2024-10-30 12:00:00",
          "2024-10-30 11:55:00",
          "2024-10-30 11:50:00",
          "2024-10-30 11:45:00",
          "2024-10-30 11:40:00",
          "2024-10-30 11:35:00",
          "2024-10-30 11:30:00",
          "2024-10-30 11:25:00",
          "2024-10-30 11:20:00",
          "2024-10-30 11:15:00",
          "2024-10-30 11:10:00",
          "2024-10-30 11:05:00",
          "2024-10-30 11:00:00",
          "2024-10-30 10:55:00",
          "2024-10-30 10:50:00",
          "2024-10-30 10:45:00",
          "2024-10-30 10:40:00",
          "2024-10-30 10:35:00",
          "2024-10-30 10:30:00",
          "2024-10-30 10:25:00",
          "2024-10-30 10:20:00",
          "2024-10-30 10:15:00",
          "2024-10-30 10:10:00",
          "2024-10-30 10:05:00",
          "2024-10-30 10:00:00",
          "2024-10-30 09:55:00",
          "2024-10-30 09:50:00",
          "2024-10-30 09:45:00",
          "2024-10-30 09:40:00",
          "2024-10-30 09:35:00",
          "2024-10-30 09:30:00",
          "2024-10-30 09:25:00",
          "2024-10-30 09:20:00",
          "2024-10-30 09:15:00",
          "2024-10-30 09:10:00",
          "2024-10-30 09:05:00",
          "2024-10-30 09:00:00",
          "2024-10-30 08:55:00",
          "2024-10-30 08:50:00",
          "2024-10-30 08:45:00",
          "2024-10-30 08:40:00",
          "2024-10-30 08:35:00",
          "2024-10-30 08:30:00",
          "2024-10-30 08:25:00",
          "2024-10-30 08:20:00",
          "2024-10-30 08:15:00",
          "2024-10-30 08:10:00",
          "2024-10-30 08:05:00",
          "2024-10-30 08:00:00",
          "2024-10-30 07:55:00",
          "2024-10-30 07:50:00",
          "2024-10-30 07:45:00",
          "2024-10-30 07:40:00",
          "2024-10-30 07:35:00",
          "2024-10-30 07:30:00",
          "2024-10-30 07:25:00",
          "2024-10-30 07:20:00",
          "2024-10-30 07:15:00",
          "2024-10-30 07:10:00",
          "2024-10-30 07:05:00",
          "2024-10-30 07:00:00",
          "2024-10-30 06:55:00",
          "2024-10-30 06:50:00",
          "2024-10-30 06:45:00",
          "2024-10-30 06:40:00",
          "2024-10-30 06:35:00",
          "2024-10-30 06:30:00",
          "2024-10-30 06:25:00",
          "2024-10-30 06:20:00",
          "2024-10-30 06:15:00",
          "2024-10-30 06:10:00",
          "2024-10-30 06:05:00",
          "2024-10-30 06:00:00",
          "2024-10-30 05:55:00",
          "2024-10-30 05:50:00",
          "2024-10-30 05:45:00",
          "2024-10-30 05:40:00",
          "2024-10-30 05:35:00",
          "2024-10-30 05:30:00",
          "2024-10-30 05:25:00",
          "2024-10-30 05:20:00",
          "2024-10-30 05:15:00",
          "2024-10-30 05:10:00",
          "2024-10-30 05:05:00",
          "2024-10-30 05:00:00",
          "2024-10-30 04:55:00",
          "2024-10-30 04:50:00",
          "2024-10-30 04:45:00",
          "2024-10-30 04:40:00",
          "2024-10-30 04:35:00",
          "2024-10-30 04:30:00",
          "2024-10-30 04:25:00",
          "2024-10-30 04:20:00",
          "2024-10-30 04:15:00",
          "2024-10-30 04:10:00",
          "2024-10-30 04:05:00",
          "2024-10-30 04:00:00",
          "2024-10-30 03:55:00",
          "2024-10-30 03:50:00",
          "2024-10-30 03:45:00",
          "2024-10-30 03:40:00",
          "2024-10-30 03:35:00",
          "2024-10-30 03:30:00",
          "2024-10-30 03:25:00",
          "2024-10-30 03:20:00",
          "2024-10-30 03:15:00",
          "2024-10-30 03:10:00",
          "2024-10-30 03:05:00",
          "2024-10-30 03:00:00",
          "2024-10-30 02:55:00",
          "2024-10-30 02:50:00",
          "2024-10-30 02:45:00",
          "2024-10-30 02:40:00",
          "2024-10-30 02:35:00",
          "2024-10-30 02:30:00",
          "2024-10-30 02:25:00",
          "2024-10-30 02:20:00",
          "2024-10-30 02:15:00",
          "2024-10-30 02:10:00",
          "2024-10-30 02:05:00",
          "2024-10-30 02:00:00",
          "2024-10-30 01:55:00",
          "2024-10-30 01:50:00",
          "2024-10-30 01:45:00",
          "2024-10-30 01:40:00",
          "2024-10-30 01:35:00",
          "2024-10-30 01:30:00",
          "2024-10-30 01:25:00",
          "2024-10-30 01:20:00",
          "2024-10-30 01:15:00",
          "2024-10-30 01:10:00",
          "2024-10-30 01:05:00",
          "2024-10-30 01:00:00",
          "2024-10-30 00:55:00",
          "2024-10-30 00:50:00",
          "2024-10-30 00:45:00",
          "2024-10-30 00:40:00",
          "2024-10-30 00:35:00",
          "2024-10-30 00:30:00",
          "2024-10-30 00:25:00",
          "2024-10-30 00:20:00",
          "2024-10-30 00:15:00",
          "2024-10-30 00:10:00",
          "2024-10-30 00:05:00",
          "2024-10-30 00:00:00"
         ],
         "y": [
          30683,
          30843,
          30803,
          30835,
          31135,
          31069,
          31190,
          31214,
          31171,
          31233,
          31129,
          31198,
          31131,
          31056,
          31062,
          31138,
          31154,
          31210,
          30979,
          30954,
          30819,
          30794,
          30855,
          30888,
          30729,
          30738,
          30735,
          30683,
          30727,
          30658,
          30776,
          30528,
          30406,
          30388,
          30240,
          30114,
          29757,
          29669,
          29622,
          29384,
          29183,
          29226,
          29148,
          28940,
          29001,
          28736,
          28768,
          28554,
          28521,
          28485,
          28487,
          28429,
          28404,
          28183,
          28169,
          28284,
          28330,
          28293,
          28276,
          28277,
          28187,
          28397,
          28517,
          28720,
          28911,
          28574,
          28315,
          28496,
          28621,
          28797,
          29007,
          28781,
          28890,
          28781,
          28816,
          29002,
          28892,
          29028,
          29023,
          29301,
          29220,
          29276,
          29392,
          29506,
          29556,
          29473,
          29386,
          29494,
          29462,
          29325,
          29478,
          29750,
          29627,
          29769,
          29623,
          29651,
          29950,
          29858,
          29837,
          29691,
          29771,
          29747,
          29707,
          29429,
          29839,
          29572,
          29620,
          29324,
          29436,
          29570,
          29563,
          29581,
          29552,
          29430,
          29450,
          29418,
          29284,
          29136,
          29138,
          28904,
          29353,
          29325,
          29224,
          29175,
          28892,
          28881,
          29145,
          28972,
          29253,
          29013,
          28887,
          28850,
          28999,
          29135,
          29157,
          29195,
          29252,
          29300,
          29383,
          29473,
          29396,
          29233,
          29242,
          29224,
          29441,
          29561,
          29627,
          29633,
          29484,
          29066,
          29083,
          29192,
          29083,
          28966,
          29004,
          29058,
          29196,
          29032,
          28822,
          28905,
          28647,
          28138,
          28091,
          27839,
          27872,
          27668,
          27564,
          27332,
          27063,
          26854,
          26779,
          26512,
          26119,
          25467,
          25163,
          24842,
          24361,
          24191,
          23891,
          23682,
          23511,
          23385,
          22931,
          22742,
          22530,
          22100,
          21783,
          21630,
          21354,
          21376,
          21472,
          21277,
          21198,
          21128,
          21261,
          21053,
          21041,
          20868,
          20691,
          20627,
          20625,
          20632,
          20677,
          20591,
          20646,
          20734,
          20476,
          20704,
          20714,
          20620,
          20742,
          20662,
          20698,
          20690,
          20844,
          20836,
          20819,
          20882,
          20748,
          20754,
          21054,
          20991,
          20927,
          20907,
          20838,
          20983,
          21052,
          21136,
          21190,
          21238,
          21298,
          21229,
          21404,
          21521,
          21552,
          21691,
          21553,
          21679,
          21752,
          22010,
          22024,
          22304,
          22265,
          22354,
          22408,
          22254
         ]
        }
       ],
       "layout": {
        "autosize": true,
        "xaxis": {
         "autorange": true,
         "range": [
          "2024-10-30",
          "2024-10-30 20:25"
         ],
         "type": "date"
        },
        "yaxis": {
         "autorange": true,
         "range": [
          19827,
          32807
         ],
         "type": "linear"
        }
       }
      },
      "image/png": "[encoded data removed]",
      "text/html": [
       "<div class=\"chart\" id=\"plot-7a2ecb5e-360c-4842-b44d-8036300b9cf2\"></div>\n",
       "<script>require(['plotly'], function(Plotly) {\n",
       "  (function () {\n",
       "  var data0 = {\"x\":[\"2024-10-30 20:25:00\",\"2024-10-30 20:20:00\",\"2024-10-30 20:15:00\",\"2024-10-30 20:10:00\",\"2024-10-30 20:05:00\",\"2024-10-30 20:00:00\",\"2024-10-30 19:55:00\",\"2024-10-30 19:50:00\",\"2024-10-30 19:45:00\",\"2024-10-30 19:40:00\",\"2024-10-30 19:35:00\",\"2024-10-30 19:30:00\",\"2024-10-30 19:25:00\",\"2024-10-30 19:20:00\",\"2024-10-30 19:15:00\",\"2024-10-30 19:10:00\",\"2024-10-30 19:05:00\",\"2024-10-30 19:00:00\",\"2024-10-30 18:55:00\",\"2024-10-30 18:50:00\",\"2024-10-30 18:45:00\",\"2024-10-30 18:40:00\",\"2024-10-30 18:35:00\",\"2024-10-30 18:30:00\",\"2024-10-30 18:25:00\",\"2024-10-30 18:20:00\",\"2024-10-30 18:15:00\",\"2024-10-30 18:10:00\",\"2024-10-30 18:05:00\",\"2024-10-30 18:00:00\",\"2024-10-30 17:55:00\",\"2024-10-30 17:50:00\",\"2024-10-30 17:45:00\",\"2024-10-30 17:40:00\",\"2024-10-30 17:35:00\",\"2024-10-30 17:30:00\",\"2024-10-30 17:25:00\",\"2024-10-30 17:20:00\",\"2024-10-30 17:15:00\",\"2024-10-30 17:10:00\",\"2024-10-30 17:05:00\",\"2024-10-30 17:00:00\",\"2024-10-30 16:55:00\",\"2024-10-30 16:50:00\",\"2024-10-30 16:45:00\",\"2024-10-30 16:40:00\",\"2024-10-30 16:35:00\",\"2024-10-30 16:30:00\",\"2024-10-30 16:25:00\",\"2024-10-30 16:20:00\",\"2024-10-30 16:15:00\",\"2024-10-30 16:10:00\",\"2024-10-30 16:05:00\",\"2024-10-30 16:00:00\",\"2024-10-30 15:55:00\",\"2024-10-30 15:50:00\",\"2024-10-30 15:45:00\",\"2024-10-30 15:40:00\",\"2024-10-30 15:35:00\",\"2024-10-30 15:30:00\",\"2024-10-30 15:25:00\",\"2024-10-30 15:20:00\",\"2024-10-30 15:15:00\",\"2024-10-30 15:10:00\",\"2024-10-30 15:05:00\",\"2024-10-30 15:00:00\",\"2024-10-30 14:55:00\",\"2024-10-30 14:50:00\",\"2024-10-30 14:45:00\",\"2024-10-30 14:40:00\",\"2024-10-30 14:35:00\",\"2024-10-30 14:30:00\",\"2024-10-30 14:25:00\",\"2024-10-30 14:20:00\",\"2024-10-30 14:15:00\",\"2024-10-30 14:10:00\",\"2024-10-30 14:05:00\",\"2024-10-30 14:00:00\",\"2024-10-30 13:55:00\",\"2024-10-30 13:50:00\",\"2024-10-30 13:45:00\",\"2024-10-30 13:40:00\",\"2024-10-30 13:35:00\",\"2024-10-30 13:30:00\",\"2024-10-30 13:25:00\",\"2024-10-30 13:20:00\",\"2024-10-30 13:15:00\",\"2024-10-30 13:10:00\",\"2024-10-30 13:05:00\",\"2024-10-30 13:00:00\",\"2024-10-30 12:55:00\",\"2024-10-30 12:50:00\",\"2024-10-30 12:45:00\",\"2024-10-30 12:40:00\",\"2024-10-30 12:35:00\",\"2024-10-30 12:30:00\",\"2024-10-30 12:25:00\",\"2024-10-30 12:20:00\",\"2024-10-30 12:15:00\",\"2024-10-30 12:10:00\",\"2024-10-30 12:05:00\",\"2024-10-30 12:00:00\",\"2024-10-30 11:55:00\",\"2024-10-30 11:50:00\",\"2024-10-30 11:45:00\",\"2024-10-30 11:40:00\",\"2024-10-30 11:35:00\",\"2024-10-30 11:30:00\",\"2024-10-30 11:25:00\",\"2024-10-30 11:20:00\",\"2024-10-30 11:15:00\",\"2024-10-30 11:10:00\",\"2024-10-30 11:05:00\",\"2024-10-30 11:00:00\",\"2024-10-30 10:55:00\",\"2024-10-30 10:50:00\",\"2024-10-30 10:45:00\",\"2024-10-30 10:40:00\",\"2024-10-30 10:35:00\",\"2024-10-30 10:30:00\",\"2024-10-30 10:25:00\",\"2024-10-30 10:20:00\",\"2024-10-30 10:15:00\",\"2024-10-30 10:10:00\",\"2024-10-30 10:05:00\",\"2024-10-30 10:00:00\",\"2024-10-30 09:55:00\",\"2024-10-30 09:50:00\",\"2024-10-30 09:45:00\",\"2024-10-30 09:40:00\",\"2024-10-30 09:35:00\",\"2024-10-30 09:30:00\",\"2024-10-30 09:25:00\",\"2024-10-30 09:20:00\",\"2024-10-30 09:15:00\",\"2024-10-30 09:10:00\",\"2024-10-30 09:05:00\",\"2024-10-30 09:00:00\",\"2024-10-30 08:55:00\",\"2024-10-30 08:50:00\",\"2024-10-30 08:45:00\",\"2024-10-30 08:40:00\",\"2024-10-30 08:35:00\",\"2024-10-30 08:30:00\",\"2024-10-30 08:25:00\",\"2024-10-30 08:20:00\",\"2024-10-30 08:15:00\",\"2024-10-30 08:10:00\",\"2024-10-30 08:05:00\",\"2024-10-30 08:00:00\",\"2024-10-30 07:55:00\",\"2024-10-30 07:50:00\",\"2024-10-30 07:45:00\",\"2024-10-30 07:40:00\",\"2024-10-30 07:35:00\",\"2024-10-30 07:30:00\",\"2024-10-30 07:25:00\",\"2024-10-30 07:20:00\",\"2024-10-30 07:15:00\",\"2024-10-30 07:10:00\",\"2024-10-30 07:05:00\",\"2024-10-30 07:00:00\",\"2024-10-30 06:55:00\",\"2024-10-30 06:50:00\",\"2024-10-30 06:45:00\",\"2024-10-30 06:40:00\",\"2024-10-30 06:35:00\",\"2024-10-30 06:30:00\",\"2024-10-30 06:25:00\",\"2024-10-30 06:20:00\",\"2024-10-30 06:15:00\",\"2024-10-30 06:10:00\",\"2024-10-30 06:05:00\",\"2024-10-30 06:00:00\",\"2024-10-30 05:55:00\",\"2024-10-30 05:50:00\",\"2024-10-30 05:45:00\",\"2024-10-30 05:40:00\",\"2024-10-30 05:35:00\",\"2024-10-30 05:30:00\",\"2024-10-30 05:25:00\",\"2024-10-30 05:20:00\",\"2024-10-30 05:15:00\",\"2024-10-30 05:10:00\",\"2024-10-30 05:05:00\",\"2024-10-30 05:00:00\",\"2024-10-30 04:55:00\",\"2024-10-30 04:50:00\",\"2024-10-30 04:45:00\",\"2024-10-30 04:40:00\",\"2024-10-30 04:35:00\",\"2024-10-30 04:30:00\",\"2024-10-30 04:25:00\",\"2024-10-30 04:20:00\",\"2024-10-30 04:15:00\",\"2024-10-30 04:10:00\",\"2024-10-30 04:05:00\",\"2024-10-30 04:00:00\",\"2024-10-30 03:55:00\",\"2024-10-30 03:50:00\",\"2024-10-30 03:45:00\",\"2024-10-30 03:40:00\",\"2024-10-30 03:35:00\",\"2024-10-30 03:30:00\",\"2024-10-30 03:25:00\",\"2024-10-30 03:20:00\",\"2024-10-30 03:15:00\",\"2024-10-30 03:10:00\",\"2024-10-30 03:05:00\",\"2024-10-30 03:00:00\",\"2024-10-30 02:55:00\",\"2024-10-30 02:50:00\",\"2024-10-30 02:45:00\",\"2024-10-30 02:40:00\",\"2024-10-30 02:35:00\",\"2024-10-30 02:30:00\",\"2024-10-30 02:25:00\",\"2024-10-30 02:20:00\",\"2024-10-30 02:15:00\",\"2024-10-30 02:10:00\",\"2024-10-30 02:05:00\",\"2024-10-30 02:00:00\",\"2024-10-30 01:55:00\",\"2024-10-30 01:50:00\",\"2024-10-30 01:45:00\",\"2024-10-30 01:40:00\",\"2024-10-30 01:35:00\",\"2024-10-30 01:30:00\",\"2024-10-30 01:25:00\",\"2024-10-30 01:20:00\",\"2024-10-30 01:15:00\",\"2024-10-30 01:10:00\",\"2024-10-30 01:05:00\",\"2024-10-30 01:00:00\",\"2024-10-30 00:55:00\",\"2024-10-30 00:50:00\",\"2024-10-30 00:45:00\",\"2024-10-30 00:40:00\",\"2024-10-30 00:35:00\",\"2024-10-30 00:30:00\",\"2024-10-30 00:25:00\",\"2024-10-30 00:20:00\",\"2024-10-30 00:15:00\",\"2024-10-30 00:10:00\",\"2024-10-30 00:05:00\",\"2024-10-30 00:00:00\"],\"name\":\"Valor_previsto\",\"y\":[30716.0,30912.0,31079.0,31236.0,31398.0,31566.0,31720.0,31840.0,31927.0,31989.0,32034.0,32064.0,32088.0,32119.0,32158.0,32151.0,32048.0,31849.0,31637.0,31496.0,31428.0,31380.0,31303.0,31197.0,31084.0,30987.0,30905.0,30812.0,30680.0,30510.0,30336.0,30192.0,30077.0,29979.0,29884.0,29792.0,29687.0,29553.0,29389.0,29277.0,29296.0,29448.0,29594.0,29598.0,29460.0,29274.0,29135.0,29044.0,28972.0,28890.0,28798.0,28724.0,28692.0,28703.0,28723.0,28720.0,28692.0,28658.0,28637.0,28629.0,28624.0,28615.0,28601.0,28593.0,28606.0,28638.0,28673.0,28695.0,28704.0,28710.0,28722.0,28741.0,28764.0,28792.0,28825.0,28856.0,28879.0,28895.0,28918.0,28962.0,29029.0,29101.0,29162.0,29212.0,29269.0,29351.0,29459.0,29530.0,29504.0,29379.0,29254.0,29224.0,29289.0,29382.0,29434.0,29443.0,29451.0,29494.0,29574.0,29599.0,29477.0,29208.0,28933.0,28795.0,28794.0,28847.0,28871.0,28865.0,28836.0,28790.0,28727.0,28712.0,28806.0,29011.0,29216.0,29310.0,29293.0,29239.0,29220.0,29237.0,29264.0,29275.0,29270.0,29278.0,29328.0,29420.0,29511.0,29561.0,29569.0,29560.0,29559.0,29567.0,29582.0,29605.0,29636.0,29649.0,29619.0,29548.0,29477.0,29447.0,29460.0,29486.0,29495.0,29489.0,29483.0,29492.0,29518.0,29523.0,29469.0,29357.0,29235.0,29154.0,29112.0,29079.0,29026.0,28952.0,28864.0,28767.0,28663.0,28550.0,28428.0,28295.0,28154.0,28009.0,27859.0,27696.0,27510.0,27303.0,27089.0,26884.0,26686.0,26442.0,26099.0,25655.0,25203.0,24836.0,24552.0,24302.0,24038.0,23759.0,23470.0,23176.0,22875.0,22617.0,22450.0,22374.0,22306.0,22161.0,21941.0,21704.0,21511.0,21362.0,21232.0,21095.0,20951.0,20846.0,20826.0,20893.0,20972.0,20991.0,20951.0,20893.0,20861.0,20854.0,20853.0,20840.0,20814.0,20798.0,20812.0,20856.0,20903.0,20923.0,20917.0,20901.0,20892.0,20891.0,20899.0,20918.0,20949.0,20968.0,20950.0,20895.0,20843.0,20833.0,20866.0,20917.0,20964.0,21007.0,21045.0,21078.0,21108.0,21157.0,21249.0,21384.0,21521.0,21621.0,21682.0,21734.0,21805.0,21896.0,21987.0,22059.0,22114.0,22195.0,22347.0,22570.0],\"type\":\"scatter\"};\n",
       "  var data1 = {\"x\":[\"2024-10-30 20:25:00\",\"2024-10-30 20:20:00\",\"2024-10-30 20:15:00\",\"2024-10-30 20:10:00\",\"2024-10-30 20:05:00\",\"2024-10-30 20:00:00\",\"2024-10-30 19:55:00\",\"2024-10-30 19:50:00\",\"2024-10-30 19:45:00\",\"2024-10-30 19:40:00\",\"2024-10-30 19:35:00\",\"2024-10-30 19:30:00\",\"2024-10-30 19:25:00\",\"2024-10-30 19:20:00\",\"2024-10-30 19:15:00\",\"2024-10-30 19:10:00\",\"2024-10-30 19:05:00\",\"2024-10-30 19:00:00\",\"2024-10-30 18:55:00\",\"2024-10-30 18:50:00\",\"2024-10-30 18:45:00\",\"2024-10-30 18:40:00\",\"2024-10-30 18:35:00\",\"2024-10-30 18:30:00\",\"2024-10-30 18:25:00\",\"2024-10-30 18:20:00\",\"2024-10-30 18:15:00\",\"2024-10-30 18:10:00\",\"2024-10-30 18:05:00\",\"2024-10-30 18:00:00\",\"2024-10-30 17:55:00\",\"2024-10-30 17:50:00\",\"2024-10-30 17:45:00\",\"2024-10-30 17:40:00\",\"2024-10-30 17:35:00\",\"2024-10-30 17:30:00\",\"2024-10-30 17:25:00\",\"2024-10-30 17:20:00\",\"2024-10-30 17:15:00\",\"2024-10-30 17:10:00\",\"2024-10-30 17:05:00\",\"2024-10-30 17:00:00\",\"2024-10-30 16:55:00\",\"2024-10-30 16:50:00\",\"2024-10-30 16:45:00\",\"2024-10-30 16:40:00\",\"2024-10-30 16:35:00\",\"2024-10-30 16:30:00\",\"2024-10-30 16:25:00\",\"2024-10-30 16:20:00\",\"2024-10-30 16:15:00\",\"2024-10-30 16:10:00\",\"2024-10-30 16:05:00\",\"2024-10-30 16:00:00\",\"2024-10-30 15:55:00\",\"2024-10-30 15:50:00\",\"2024-10-30 15:45:00\",\"2024-10-30 15:40:00\",\"2024-10-30 15:35:00\",\"2024-10-30 15:30:00\",\"2024-10-30 15:25:00\",\"2024-10-30 15:20:00\",\"2024-10-30 15:15:00\",\"2024-10-30 15:10:00\",\"2024-10-30 15:05:00\",\"2024-10-30 15:00:00\",\"2024-10-30 14:55:00\",\"2024-10-30 14:50:00\",\"2024-10-30 14:45:00\",\"2024-10-30 14:40:00\",\"2024-10-30 14:35:00\",\"2024-10-30 14:30:00\",\"2024-10-30 14:25:00\",\"2024-10-30 14:20:00\",\"2024-10-30 14:15:00\",\"2024-10-30 14:10:00\",\"2024-10-30 14:05:00\",\"2024-10-30 14:00:00\",\"2024-10-30 13:55:00\",\"2024-10-30 13:50:00\",\"2024-10-30 13:45:00\",\"2024-10-30 13:40:00\",\"2024-10-30 13:35:00\",\"2024-10-30 13:30:00\",\"2024-10-30 13:25:00\",\"2024-10-30 13:20:00\",\"2024-10-30 13:15:00\",\"2024-10-30 13:10:00\",\"2024-10-30 13:05:00\",\"2024-10-30 13:00:00\",\"2024-10-30 12:55:00\",\"2024-10-30 12:50:00\",\"2024-10-30 12:45:00\",\"2024-10-30 12:40:00\",\"2024-10-30 12:35:00\",\"2024-10-30 12:30:00\",\"2024-10-30 12:25:00\",\"2024-10-30 12:20:00\",\"2024-10-30 12:15:00\",\"2024-10-30 12:10:00\",\"2024-10-30 12:05:00\",\"2024-10-30 12:00:00\",\"2024-10-30 11:55:00\",\"2024-10-30 11:50:00\",\"2024-10-30 11:45:00\",\"2024-10-30 11:40:00\",\"2024-10-30 11:35:00\",\"2024-10-30 11:30:00\",\"2024-10-30 11:25:00\",\"2024-10-30 11:20:00\",\"2024-10-30 11:15:00\",\"2024-10-30 11:10:00\",\"2024-10-30 11:05:00\",\"2024-10-30 11:00:00\",\"2024-10-30 10:55:00\",\"2024-10-30 10:50:00\",\"2024-10-30 10:45:00\",\"2024-10-30 10:40:00\",\"2024-10-30 10:35:00\",\"2024-10-30 10:30:00\",\"2024-10-30 10:25:00\",\"2024-10-30 10:20:00\",\"2024-10-30 10:15:00\",\"2024-10-30 10:10:00\",\"2024-10-30 10:05:00\",\"2024-10-30 10:00:00\",\"2024-10-30 09:55:00\",\"2024-10-30 09:50:00\",\"2024-10-30 09:45:00\",\"2024-10-30 09:40:00\",\"2024-10-30 09:35:00\",\"2024-10-30 09:30:00\",\"2024-10-30 09:25:00\",\"2024-10-30 09:20:00\",\"2024-10-30 09:15:00\",\"2024-10-30 09:10:00\",\"2024-10-30 09:05:00\",\"2024-10-30 09:00:00\",\"2024-10-30 08:55:00\",\"2024-10-30 08:50:00\",\"2024-10-30 08:45:00\",\"2024-10-30 08:40:00\",\"2024-10-30 08:35:00\",\"2024-10-30 08:30:00\",\"2024-10-30 08:25:00\",\"2024-10-30 08:20:00\",\"2024-10-30 08:15:00\",\"2024-10-30 08:10:00\",\"2024-10-30 08:05:00\",\"2024-10-30 08:00:00\",\"2024-10-30 07:55:00\",\"2024-10-30 07:50:00\",\"2024-10-30 07:45:00\",\"2024-10-30 07:40:00\",\"2024-10-30 07:35:00\",\"2024-10-30 07:30:00\",\"2024-10-30 07:25:00\",\"2024-10-30 07:20:00\",\"2024-10-30 07:15:00\",\"2024-10-30 07:10:00\",\"2024-10-30 07:05:00\",\"2024-10-30 07:00:00\",\"2024-10-30 06:55:00\",\"2024-10-30 06:50:00\",\"2024-10-30 06:45:00\",\"2024-10-30 06:40:00\",\"2024-10-30 06:35:00\",\"2024-10-30 06:30:00\",\"2024-10-30 06:25:00\",\"2024-10-30 06:20:00\",\"2024-10-30 06:15:00\",\"2024-10-30 06:10:00\",\"2024-10-30 06:05:00\",\"2024-10-30 06:00:00\",\"2024-10-30 05:55:00\",\"2024-10-30 05:50:00\",\"2024-10-30 05:45:00\",\"2024-10-30 05:40:00\",\"2024-10-30 05:35:00\",\"2024-10-30 05:30:00\",\"2024-10-30 05:25:00\",\"2024-10-30 05:20:00\",\"2024-10-30 05:15:00\",\"2024-10-30 05:10:00\",\"2024-10-30 05:05:00\",\"2024-10-30 05:00:00\",\"2024-10-30 04:55:00\",\"2024-10-30 04:50:00\",\"2024-10-30 04:45:00\",\"2024-10-30 04:40:00\",\"2024-10-30 04:35:00\",\"2024-10-30 04:30:00\",\"2024-10-30 04:25:00\",\"2024-10-30 04:20:00\",\"2024-10-30 04:15:00\",\"2024-10-30 04:10:00\",\"2024-10-30 04:05:00\",\"2024-10-30 04:00:00\",\"2024-10-30 03:55:00\",\"2024-10-30 03:50:00\",\"2024-10-30 03:45:00\",\"2024-10-30 03:40:00\",\"2024-10-30 03:35:00\",\"2024-10-30 03:30:00\",\"2024-10-30 03:25:00\",\"2024-10-30 03:20:00\",\"2024-10-30 03:15:00\",\"2024-10-30 03:10:00\",\"2024-10-30 03:05:00\",\"2024-10-30 03:00:00\",\"2024-10-30 02:55:00\",\"2024-10-30 02:50:00\",\"2024-10-30 02:45:00\",\"2024-10-30 02:40:00\",\"2024-10-30 02:35:00\",\"2024-10-30 02:30:00\",\"2024-10-30 02:25:00\",\"2024-10-30 02:20:00\",\"2024-10-30 02:15:00\",\"2024-10-30 02:10:00\",\"2024-10-30 02:05:00\",\"2024-10-30 02:00:00\",\"2024-10-30 01:55:00\",\"2024-10-30 01:50:00\",\"2024-10-30 01:45:00\",\"2024-10-30 01:40:00\",\"2024-10-30 01:35:00\",\"2024-10-30 01:30:00\",\"2024-10-30 01:25:00\",\"2024-10-30 01:20:00\",\"2024-10-30 01:15:00\",\"2024-10-30 01:10:00\",\"2024-10-30 01:05:00\",\"2024-10-30 01:00:00\",\"2024-10-30 00:55:00\",\"2024-10-30 00:50:00\",\"2024-10-30 00:45:00\",\"2024-10-30 00:40:00\",\"2024-10-30 00:35:00\",\"2024-10-30 00:30:00\",\"2024-10-30 00:25:00\",\"2024-10-30 00:20:00\",\"2024-10-30 00:15:00\",\"2024-10-30 00:10:00\",\"2024-10-30 00:05:00\",\"2024-10-30 00:00:00\"],\"name\":\"Valor_programado\",\"y\":[30701.0,30701.0,30701.0,30995.0,30995.0,30995.0,31310.0,31310.0,31310.0,31240.0,31240.0,31240.0,31077.0,31077.0,31077.0,31106.0,31106.0,31106.0,31001.0,31001.0,31001.0,30800.0,30800.0,30800.0,30680.0,30680.0,30680.0,30696.0,30696.0,30696.0,30799.0,30799.0,30799.0,30368.0,30368.0,30368.0,29862.0,29862.0,29862.0,29308.0,29308.0,29308.0,29044.0,29044.0,29044.0,28809.0,28809.0,28809.0,28500.0,28500.0,28500.0,28501.0,28501.0,28501.0,28202.0,28202.0,28202.0,28407.0,28407.0,28407.0,28305.0,28305.0,28305.0,28812.0,28812.0,28812.0,28503.0,28503.0,28503.0,29011.0,29011.0,29011.0,28819.0,28819.0,28819.0,28990.0,28990.0,28990.0,29162.0,29162.0,29162.0,29425.0,29425.0,29425.0,29503.0,29503.0,29503.0,29502.0,29502.0,29502.0,29686.0,29686.0,29686.0,29791.0,29791.0,29791.0,29875.0,29875.0,29875.0,29796.0,29796.0,29796.0,29582.0,29582.0,29582.0,29704.0,29704.0,29704.0,29437.0,29437.0,29437.0,29677.0,29677.0,29677.0,29388.0,29388.0,29388.0,29269.0,29269.0,29269.0,29280.0,29280.0,29280.0,29056.0,29056.0,29056.0,29212.0,29212.0,29212.0,29008.0,29008.0,29008.0,29063.0,29063.0,29063.0,29206.0,29206.0,29206.0,29661.0,29661.0,29661.0,29351.0,29351.0,29351.0,29641.0,29641.0,29641.0,29499.0,29499.0,29499.0,29323.0,29323.0,29323.0,29163.0,29163.0,29163.0,29028.0,29028.0,29028.0,28427.0,28427.0,28427.0,28009.0,28009.0,28009.0,27519.0,27519.0,27519.0,27119.0,27119.0,27119.0,26336.0,26336.0,26336.0,25045.0,25045.0,25045.0,24175.0,24175.0,24175.0,23495.0,23495.0,23495.0,22795.0,22795.0,22795.0,22048.0,22048.0,22048.0,21646.0,21646.0,21646.0,21182.0,21182.0,21182.0,20873.0,20873.0,20873.0,20792.0,20792.0,20792.0,20822.0,20822.0,20822.0,20822.0,20822.0,20822.0,20822.0,20822.0,20822.0,20753.0,20753.0,20753.0,20593.0,20593.0,20593.0,20943.0,20943.0,20943.0,20943.0,20943.0,20943.0,20821.0,20821.0,20821.0,20996.0,20996.0,20996.0,21156.0,21156.0,21156.0,21096.0,21096.0,21096.0,21510.0,21510.0,21510.0,21575.0,21575.0,21575.0,21695.0,21695.0,21695.0,21961.0,21961.0,21961.0],\"type\":\"scatter\"};\n",
       "  var data2 = {\"x\":[\"2024-10-30 20:25:00\",\"2024-10-30 20:20:00\",\"2024-10-30 20:15:00\",\"2024-10-30 20:10:00\",\"2024-10-30 20:05:00\",\"2024-10-30 20:00:00\",\"2024-10-30 19:55:00\",\"2024-10-30 19:50:00\",\"2024-10-30 19:45:00\",\"2024-10-30 19:40:00\",\"2024-10-30 19:35:00\",\"2024-10-30 19:30:00\",\"2024-10-30 19:25:00\",\"2024-10-30 19:20:00\",\"2024-10-30 19:15:00\",\"2024-10-30 19:10:00\",\"2024-10-30 19:05:00\",\"2024-10-30 19:00:00\",\"2024-10-30 18:55:00\",\"2024-10-30 18:50:00\",\"2024-10-30 18:45:00\",\"2024-10-30 18:40:00\",\"2024-10-30 18:35:00\",\"2024-10-30 18:30:00\",\"2024-10-30 18:25:00\",\"2024-10-30 18:20:00\",\"2024-10-30 18:15:00\",\"2024-10-30 18:10:00\",\"2024-10-30 18:05:00\",\"2024-10-30 18:00:00\",\"2024-10-30 17:55:00\",\"2024-10-30 17:50:00\",\"2024-10-30 17:45:00\",\"2024-10-30 17:40:00\",\"2024-10-30 17:35:00\",\"2024-10-30 17:30:00\",\"2024-10-30 17:25:00\",\"2024-10-30 17:20:00\",\"2024-10-30 17:15:00\",\"2024-10-30 17:10:00\",\"2024-10-30 17:05:00\",\"2024-10-30 17:00:00\",\"2024-10-30 16:55:00\",\"2024-10-30 16:50:00\",\"2024-10-30 16:45:00\",\"2024-10-30 16:40:00\",\"2024-10-30 16:35:00\",\"2024-10-30 16:30:00\",\"2024-10-30 16:25:00\",\"2024-10-30 16:20:00\",\"2024-10-30 16:15:00\",\"2024-10-30 16:10:00\",\"2024-10-30 16:05:00\",\"2024-10-30 16:00:00\",\"2024-10-30 15:55:00\",\"2024-10-30 15:50:00\",\"2024-10-30 15:45:00\",\"2024-10-30 15:40:00\",\"2024-10-30 15:35:00\",\"2024-10-30 15:30:00\",\"2024-10-30 15:25:00\",\"2024-10-30 15:20:00\",\"2024-10-30 15:15:00\",\"2024-10-30 15:10:00\",\"2024-10-30 15:05:00\",\"2024-10-30 15:00:00\",\"2024-10-30 14:55:00\",\"2024-10-30 14:50:00\",\"2024-10-30 14:45:00\",\"2024-10-30 14:40:00\",\"2024-10-30 14:35:00\",\"2024-10-30 14:30:00\",\"2024-10-30 14:25:00\",\"2024-10-30 14:20:00\",\"2024-10-30 14:15:00\",\"2024-10-30 14:10:00\",\"2024-10-30 14:05:00\",\"2024-10-30 14:00:00\",\"2024-10-30 13:55:00\",\"2024-10-30 13:50:00\",\"2024-10-30 13:45:00\",\"2024-10-30 13:40:00\",\"2024-10-30 13:35:00\",\"2024-10-30 13:30:00\",\"2024-10-30 13:25:00\",\"2024-10-30 13:20:00\",\"2024-10-30 13:15:00\",\"2024-10-30 13:10:00\",\"2024-10-30 13:05:00\",\"2024-10-30 13:00:00\",\"2024-10-30 12:55:00\",\"2024-10-30 12:50:00\",\"2024-10-30 12:45:00\",\"2024-10-30 12:40:00\",\"2024-10-30 12:35:00\",\"2024-10-30 12:30:00\",\"2024-10-30 12:25:00\",\"2024-10-30 12:20:00\",\"2024-10-30 12:15:00\",\"2024-10-30 12:10:00\",\"2024-10-30 12:05:00\",\"2024-10-30 12:00:00\",\"2024-10-30 11:55:00\",\"2024-10-30 11:50:00\",\"2024-10-30 11:45:00\",\"2024-10-30 11:40:00\",\"2024-10-30 11:35:00\",\"2024-10-30 11:30:00\",\"2024-10-30 11:25:00\",\"2024-10-30 11:20:00\",\"2024-10-30 11:15:00\",\"2024-10-30 11:10:00\",\"2024-10-30 11:05:00\",\"2024-10-30 11:00:00\",\"2024-10-30 10:55:00\",\"2024-10-30 10:50:00\",\"2024-10-30 10:45:00\",\"2024-10-30 10:40:00\",\"2024-10-30 10:35:00\",\"2024-10-30 10:30:00\",\"2024-10-30 10:25:00\",\"2024-10-30 10:20:00\",\"2024-10-30 10:15:00\",\"2024-10-30 10:10:00\",\"2024-10-30 10:05:00\",\"2024-10-30 10:00:00\",\"2024-10-30 09:55:00\",\"2024-10-30 09:50:00\",\"2024-10-30 09:45:00\",\"2024-10-30 09:40:00\",\"2024-10-30 09:35:00\",\"2024-10-30 09:30:00\",\"2024-10-30 09:25:00\",\"2024-10-30 09:20:00\",\"2024-10-30 09:15:00\",\"2024-10-30 09:10:00\",\"2024-10-30 09:05:00\",\"2024-10-30 09:00:00\",\"2024-10-30 08:55:00\",\"2024-10-30 08:50:00\",\"2024-10-30 08:45:00\",\"2024-10-30 08:40:00\",\"2024-10-30 08:35:00\",\"2024-10-30 08:30:00\",\"2024-10-30 08:25:00\",\"2024-10-30 08:20:00\",\"2024-10-30 08:15:00\",\"2024-10-30 08:10:00\",\"2024-10-30 08:05:00\",\"2024-10-30 08:00:00\",\"2024-10-30 07:55:00\",\"2024-10-30 07:50:00\",\"2024-10-30 07:45:00\",\"2024-10-30 07:40:00\",\"2024-10-30 07:35:00\",\"2024-10-30 07:30:00\",\"2024-10-30 07:25:00\",\"2024-10-30 07:20:00\",\"2024-10-30 07:15:00\",\"2024-10-30 07:10:00\",\"2024-10-30 07:05:00\",\"2024-10-30 07:00:00\",\"2024-10-30 06:55:00\",\"2024-10-30 06:50:00\",\"2024-10-30 06:45:00\",\"2024-10-30 06:40:00\",\"2024-10-30 06:35:00\",\"2024-10-30 06:30:00\",\"2024-10-30 06:25:00\",\"2024-10-30 06:20:00\",\"2024-10-30 06:15:00\",\"2024-10-30 06:10:00\",\"2024-10-30 06:05:00\",\"2024-10-30 06:00:00\",\"2024-10-30 05:55:00\",\"2024-10-30 05:50:00\",\"2024-10-30 05:45:00\",\"2024-10-30 05:40:00\",\"2024-10-30 05:35:00\",\"2024-10-30 05:30:00\",\"2024-10-30 05:25:00\",\"2024-10-30 05:20:00\",\"2024-10-30 05:15:00\",\"2024-10-30 05:10:00\",\"2024-10-30 05:05:00\",\"2024-10-30 05:00:00\",\"2024-10-30 04:55:00\",\"2024-10-30 04:50:00\",\"2024-10-30 04:45:00\",\"2024-10-30 04:40:00\",\"2024-10-30 04:35:00\",\"2024-10-30 04:30:00\",\"2024-10-30 04:25:00\",\"2024-10-30 04:20:00\",\"2024-10-30 04:15:00\",\"2024-10-30 04:10:00\",\"2024-10-30 04:05:00\",\"2024-10-30 04:00:00\",\"2024-10-30 03:55:00\",\"2024-10-30 03:50:00\",\"2024-10-30 03:45:00\",\"2024-10-30 03:40:00\",\"2024-10-30 03:35:00\",\"2024-10-30 03:30:00\",\"2024-10-30 03:25:00\",\"2024-10-30 03:20:00\",\"2024-10-30 03:15:00\",\"2024-10-30 03:10:00\",\"2024-10-30 03:05:00\",\"2024-10-30 03:00:00\",\"2024-10-30 02:55:00\",\"2024-10-30 02:50:00\",\"2024-10-30 02:45:00\",\"2024-10-30 02:40:00\",\"2024-10-30 02:35:00\",\"2024-10-30 02:30:00\",\"2024-10-30 02:25:00\",\"2024-10-30 02:20:00\",\"2024-10-30 02:15:00\",\"2024-10-30 02:10:00\",\"2024-10-30 02:05:00\",\"2024-10-30 02:00:00\",\"2024-10-30 01:55:00\",\"2024-10-30 01:50:00\",\"2024-10-30 01:45:00\",\"2024-10-30 01:40:00\",\"2024-10-30 01:35:00\",\"2024-10-30 01:30:00\",\"2024-10-30 01:25:00\",\"2024-10-30 01:20:00\",\"2024-10-30 01:15:00\",\"2024-10-30 01:10:00\",\"2024-10-30 01:05:00\",\"2024-10-30 01:00:00\",\"2024-10-30 00:55:00\",\"2024-10-30 00:50:00\",\"2024-10-30 00:45:00\",\"2024-10-30 00:40:00\",\"2024-10-30 00:35:00\",\"2024-10-30 00:30:00\",\"2024-10-30 00:25:00\",\"2024-10-30 00:20:00\",\"2024-10-30 00:15:00\",\"2024-10-30 00:10:00\",\"2024-10-30 00:05:00\",\"2024-10-30 00:00:00\"],\"name\":\"Valor_real\",\"y\":[30683.0,30843.0,30803.0,30835.0,31135.0,31069.0,31190.0,31214.0,31171.0,31233.0,31129.0,31198.0,31131.0,31056.0,31062.0,31138.0,31154.0,31210.0,30979.0,30954.0,30819.0,30794.0,30855.0,30888.0,30729.0,30738.0,30735.0,30683.0,30727.0,30658.0,30776.0,30528.0,30406.0,30388.0,30240.0,30114.0,29757.0,29669.0,29622.0,29384.0,29183.0,29226.0,29148.0,28940.0,29001.0,28736.0,28768.0,28554.0,28521.0,28485.0,28487.0,28429.0,28404.0,28183.0,28169.0,28284.0,28330.0,28293.0,28276.0,28277.0,28187.0,28397.0,28517.0,28720.0,28911.0,28574.0,28315.0,28496.0,28621.0,28797.0,29007.0,28781.0,28890.0,28781.0,28816.0,29002.0,28892.0,29028.0,29023.0,29301.0,29220.0,29276.0,29392.0,29506.0,29556.0,29473.0,29386.0,29494.0,29462.0,29325.0,29478.0,29750.0,29627.0,29769.0,29623.0,29651.0,29950.0,29858.0,29837.0,29691.0,29771.0,29747.0,29707.0,29429.0,29839.0,29572.0,29620.0,29324.0,29436.0,29570.0,29563.0,29581.0,29552.0,29430.0,29450.0,29418.0,29284.0,29136.0,29138.0,28904.0,29353.0,29325.0,29224.0,29175.0,28892.0,28881.0,29145.0,28972.0,29253.0,29013.0,28887.0,28850.0,28999.0,29135.0,29157.0,29195.0,29252.0,29300.0,29383.0,29473.0,29396.0,29233.0,29242.0,29224.0,29441.0,29561.0,29627.0,29633.0,29484.0,29066.0,29083.0,29192.0,29083.0,28966.0,29004.0,29058.0,29196.0,29032.0,28822.0,28905.0,28647.0,28138.0,28091.0,27839.0,27872.0,27668.0,27564.0,27332.0,27063.0,26854.0,26779.0,26512.0,26119.0,25467.0,25163.0,24842.0,24361.0,24191.0,23891.0,23682.0,23511.0,23385.0,22931.0,22742.0,22530.0,22100.0,21783.0,21630.0,21354.0,21376.0,21472.0,21277.0,21198.0,21128.0,21261.0,21053.0,21041.0,20868.0,20691.0,20627.0,20625.0,20632.0,20677.0,20591.0,20646.0,20734.0,20476.0,20704.0,20714.0,20620.0,20742.0,20662.0,20698.0,20690.0,20844.0,20836.0,20819.0,20882.0,20748.0,20754.0,21054.0,20991.0,20927.0,20907.0,20838.0,20983.0,21052.0,21136.0,21190.0,21238.0,21298.0,21229.0,21404.0,21521.0,21552.0,21691.0,21553.0,21679.0,21752.0,22010.0,22024.0,22304.0,22265.0,22354.0,22408.0,22254.0],\"type\":\"scatter\"};\n",
       "\n",
       "  var data = [data0, data1, data2];\n",
       "  var layout = {};\n",
       "\n",
       "  Plotly.plot('plot-7a2ecb5e-360c-4842-b44d-8036300b9cf2', data, layout);\n",
       "})();\n",
       "});\n",
       "      </script>\n",
       "           "
      ]
     },
     "metadata": {},
     "output_type": "display_data"
    },
    {
     "data": {
      "text/plain": [
       "defined \u001b[32mfunction\u001b[39m \u001b[36mdemandaHistoricoPromedioPorHora\u001b[39m"
      ]
     },
     "execution_count": 6,
     "metadata": {},
     "output_type": "execute_result"
    }
   ],
   "source": [
    "def demandaHistoricoPromedioPorHora(dfDemanda: DataFrame): Unit = {\n",
    "    val df = dfDemanda.filter($\"Porcentaje_real\".isNotNull)\n",
    "    val seqFechas = df.select(\"Fecha\").distinct.as[String].collect.toSeq\n",
    "    val seqPrevisto = df.select(\"Valor_previsto\").as[Double].collect.toSeq\n",
    "    val seqProgramado = df.select(\"Valor_programado\").as[Double].collect.toSeq\n",
    "    val seqReal = df.select(\"Valor_real\").as[Double].collect.toSeq\n",
    "\n",
    "    val trace1 =  Scatter(seqFechas, seqPrevisto, name = \"Valor_previsto\")\n",
    "    val trace2 =  Scatter(seqFechas, seqProgramado, name = \"Valor_programado\")\n",
    "    val trace3 =  Scatter(seqFechas, seqReal, name = \"Valor_real\")\n",
    "\n",
    "\n",
    "    val data = Seq(trace1, trace2, trace3)\n",
    "    plot(data)\n",
    "}\n",
    "demandaHistoricoPromedioPorHora(datos30octubre)"
   ]
  },
  {
   "cell_type": "code",
   "execution_count": null,
   "metadata": {},
   "outputs": [],
   "source": []
  }
 ],
 "metadata": {
  "kernelspec": {
   "display_name": "Scala 2.12",
   "language": "scala",
   "name": "scala212"
  },
  "language_info": {
   "codemirror_mode": "text/x-scala",
   "file_extension": ".scala",
   "mimetype": "text/x-scala",
   "name": "scala",
   "nbconvert_exporter": "script",
   "version": "2.12.10"
  }
 },
 "nbformat": 4,
 "nbformat_minor": 4
}
