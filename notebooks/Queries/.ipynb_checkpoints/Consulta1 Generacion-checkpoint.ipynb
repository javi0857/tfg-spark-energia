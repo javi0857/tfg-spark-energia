{
 "cells": [
  {
   "cell_type": "code",
   "execution_count": 1,
   "metadata": {},
   "outputs": [
    {
     "name": "stdout",
     "output_type": "stream",
     "text": [
      "Loading spark-stubs\n",
      "Getting spark JARs\n",
      "Creating SparkSession\n"
     ]
    },
    {
     "name": "stderr",
     "output_type": "stream",
     "text": [
      "Using Spark's default log4j profile: org/apache/spark/log4j-defaults.properties\n"
     ]
    },
    {
     "data": {
      "text/html": [
       "<a href=\"http://3afc88dc9f45:4040\">Spark UI</a>"
      ]
     },
     "metadata": {},
     "output_type": "display_data"
    },
    {
     "data": {
      "text/plain": [
       "\u001b[32mimport \u001b[39m\u001b[36m$ivy.$                                  \n",
       "\n",
       "\n",
       "\u001b[39m\n",
       "\u001b[32mimport \u001b[39m\u001b[36morg.apache.spark.sql._\n",
       "\u001b[39m\n",
       "\u001b[32mimport \u001b[39m\u001b[36morg.apache.spark.sql.functions._\n",
       "\u001b[39m\n",
       "\u001b[32mimport \u001b[39m\u001b[36morg.apache.spark.sql.expressions.Window\n",
       "\n",
       "\n",
       "\n",
       "//Reducir numero logs\n",
       "\u001b[39m\n",
       "\u001b[32mimport \u001b[39m\u001b[36morg.apache.log4j.{Level, Logger}\n",
       "\u001b[39m\n",
       "\u001b[32mimport \u001b[39m\u001b[36m$ivy.$                               \n",
       "\n",
       "//Plotly\n",
       "\u001b[39m\n",
       "\u001b[32mimport \u001b[39m\u001b[36m$ivy.$                                      \n",
       "\u001b[39m\n",
       "\u001b[32mimport \u001b[39m\u001b[36mplotly._, plotly.element._, plotly.layout._, plotly.Almond._\n",
       "\n",
       "\n",
       "//Iniciamos session de Spark\n",
       "\u001b[39m\n",
       "\u001b[36mspark\u001b[39m: \u001b[32mSparkSession\u001b[39m = org.apache.spark.sql.SparkSession@243ca729\n",
       "\u001b[32mimport \u001b[39m\u001b[36mspark.implicits._\u001b[39m"
      ]
     },
     "execution_count": 1,
     "metadata": {},
     "output_type": "execute_result"
    }
   ],
   "source": [
    "import $ivy.`org.apache.spark::spark-sql:2.4.3`\n",
    "\n",
    "\n",
    "import org.apache.spark.sql._\n",
    "import org.apache.spark.sql.functions._\n",
    "import org.apache.spark.sql.expressions.Window\n",
    "\n",
    "\n",
    "\n",
    "//Reducir numero logs\n",
    "import org.apache.log4j.{Level, Logger}\n",
    "Logger.getLogger(\"org\").setLevel(Level.OFF)\n",
    "\n",
    "\n",
    "//For adding extra dependenies\n",
    "import $ivy.`org.typelevel::cats-core:1.6.0`\n",
    "\n",
    "//Plotly\n",
    "import $ivy.`org.plotly-scala::plotly-almond:0.7.1`\n",
    "import plotly._, plotly.element._, plotly.layout._, plotly.Almond._\n",
    "\n",
    "\n",
    "//Iniciamos session de Spark\n",
    "val spark = {\n",
    "  NotebookSparkSession.builder()\n",
    "     .master(\"local[*]\")\n",
    "    //.config(\"spark.executor.instances\", \"4\") // Número de ejecutores\n",
    "    //.config(\"spark.executor.memory\", \"4g\") // Memoria por ejecutor\n",
    "    //.config(\"spark.executor.cores\", \"2\") // Núcleos por ejecutor\n",
    "    //.config(\"spark.driver.memory\", \"4g\") // Memoria del driver\n",
    "    //.config(\"spark.sql.shuffle.partitions\", \"8\") // Número de particiones para operaciones de shuffle\n",
    "    .getOrCreate()\n",
    "}\n",
    "import spark.implicits._"
   ]
  },
  {
   "cell_type": "code",
   "execution_count": 2,
   "metadata": {},
   "outputs": [
    {
     "data": {
      "text/html": [
       "<script>\n",
       "var comm = Jupyter.notebook.kernel.comm_manager.new_comm('cancel-stage-b8205933-ede0-4975-ba61-6e1429c435ac', {});\n",
       "\n",
       "function cancelStage(stageId) {\n",
       "  console.log('Cancelling stage ' + stageId);\n",
       "  comm.send({ 'stageId': stageId });\n",
       "}\n",
       "</script>\n",
       "          "
      ]
     },
     "metadata": {},
     "output_type": "display_data"
    },
    {
     "data": {
      "text/html": [
       "<div>\n",
       "  <span style=\"float: left;\">parquet at cmd1.sc:6</span>\n",
       "</div>\n"
      ]
     },
     "metadata": {},
     "output_type": "display_data"
    },
    {
     "data": {
      "text/html": [
       "<div class=\"progress\">\n",
       "  <div class=\"progress-bar\" role=\"progressbar\" style=\"background-color: blue; width: 100%; word-wrap: normal; white-space: nowrap; text-align: center; color: white\" aria-valuenow=\"100\" aria-valuemin=\"0\" aria-valuemax=\"100\">\n",
       "    1 / 1\n",
       "  </div>\n",
       "  <div class=\"progress-bar\" role=\"progressbar\" style=\"background-color: red; width: 0%\" aria-valuenow=\"0\" aria-valuemin=\"0\" aria-valuemax=\"100\"></div>\n",
       "</div>\n"
      ]
     },
     "metadata": {},
     "output_type": "display_data"
    },
    {
     "data": {
      "text/plain": [
       "\u001b[36mfilePathBalance\u001b[39m: \u001b[32mString\u001b[39m = \u001b[32m\"../../data/parquet/dsBalanceNacional11-24.parquet\"\u001b[39m\n",
       "\u001b[36mdatosBalance\u001b[39m: \u001b[32mDataFrame\u001b[39m = [Familia: string, Tipo: string ... 5 more fields]"
      ]
     },
     "execution_count": 2,
     "metadata": {},
     "output_type": "execute_result"
    }
   ],
   "source": [
    "val filePathBalance = \"../../data/parquet/dsBalanceNacional11-24.parquet\"         \n",
    "val datosBalance: DataFrame = spark.read\n",
    "  //.option(\"header\", \"true\") // Si el archivo tiene un encabezado\n",
    "  //.option(\"inferSchema\", \"true\") // Para inferir automáticamente el esquema\n",
    "  //.csv(filePath)\n",
    "    .parquet(filePathBalance)"
   ]
  },
  {
   "cell_type": "code",
   "execution_count": 3,
   "metadata": {},
   "outputs": [
    {
     "data": {
      "text/html": [
       "<div>\n",
       "  <span style=\"float: left;\">show at cmd2.sc:1</span>\n",
       "</div>\n"
      ]
     },
     "metadata": {},
     "output_type": "display_data"
    },
    {
     "data": {
      "text/html": [
       "<div class=\"progress\">\n",
       "  <div class=\"progress-bar\" role=\"progressbar\" style=\"background-color: blue; width: 100%; word-wrap: normal; white-space: nowrap; text-align: center; color: white\" aria-valuenow=\"100\" aria-valuemin=\"0\" aria-valuemax=\"100\">\n",
       "    15 / 15\n",
       "  </div>\n",
       "  <div class=\"progress-bar\" role=\"progressbar\" style=\"background-color: red; width: 0%\" aria-valuenow=\"0\" aria-valuemin=\"0\" aria-valuemax=\"100\"></div>\n",
       "</div>\n"
      ]
     },
     "metadata": {},
     "output_type": "display_data"
    },
    {
     "name": "stdout",
     "output_type": "stream",
     "text": [
      "+------------+--------------------+---------+--------------------+------------------+-------------------+--------------+\n",
      "|     Familia|                Tipo|Compuesto|          Porcentaje|             Valor|              Fecha|BajasEmisiones|\n",
      "+------------+--------------------+---------+--------------------+------------------+-------------------+--------------+\n",
      "|     Demanda|Saldo I. internac...|    false| 0.02413899021995922|          -19547.5|2024-12-13 00:00:00|         false|\n",
      "|No-Renovable|              Carbón|    false|0.026878093340118633|           14157.4|2024-12-13 00:00:00|         false|\n",
      "|     Demanda|  Consumos en bombeo|    false|0.007044917524279...|           -5704.9|2024-12-13 00:00:00|         false|\n",
      "|   Renovable|    Otras renovables|    false| 0.04719216138587167|           12047.9|2024-12-13 00:00:00|          true|\n",
      "|No-Renovable|     Ciclo combinado|    false|  0.5827069008413951|        306927.079|2024-12-13 00:00:00|         false|\n",
      "|No-Renovable|    Turbina de vapor|    false|0.005579075358580409|          2938.646|2024-12-13 00:00:00|         false|\n",
      "|No-Renovable|Generación no ren...|     true|                 1.0| 526726.3500000001|2024-12-13 00:00:00|         false|\n",
      "|   Renovable|              Eólica|    false|  0.1509841402155305|         38545.423|2024-12-13 00:00:00|          true|\n",
      "|   Renovable|         Hidroeólica|    false|6.324851882051394E-5|            16.147|2024-12-13 00:00:00|          true|\n",
      "|No-Renovable|  Turbinación bombeo|    false|0.018272676124898628|            9624.7|2024-12-13 00:00:00|         false|\n",
      "|No-Renovable|             Nuclear|    false| 0.23213002349322373|          122269.0|2024-12-13 00:00:00|          true|\n",
      "|No-Renovable|      Motores diésel|    false|0.014149219988709504|          7452.767|2024-12-13 00:00:00|         false|\n",
      "|No-Renovable|      Turbina de gas|    false|0.001101061300616...|           579.958|2024-12-13 00:00:00|         false|\n",
      "|No-Renovable|        Cogeneración|    false| 0.11112031892841509|           58530.0|2024-12-13 00:00:00|         false|\n",
      "|No-Renovable|Residuos no renov...|    false|0.008062630624042255|            4246.8|2024-12-13 00:00:00|         false|\n",
      "|   Renovable|Generación renovable|     true|                 1.0|255294.51600000003|2024-12-13 00:00:00|          true|\n",
      "|   Renovable|          Hidráulica|    false|  0.5150290811573877|          131484.1|2024-12-13 00:00:00|          true|\n",
      "|   Renovable|  Solar fotovoltaica|    false|  0.2712088887957155|         69238.142|2024-12-13 00:00:00|          true|\n",
      "|   Renovable|       Solar térmica|    false|0.009046038419407331|          2309.404|2024-12-13 00:00:00|          true|\n",
      "|   Renovable| Residuos renovables|    false|0.006476441507266846|            1653.4|2024-12-13 00:00:00|          true|\n",
      "+------------+--------------------+---------+--------------------+------------------+-------------------+--------------+\n",
      "only showing top 20 rows\n",
      "\n"
     ]
    }
   ],
   "source": [
    "datosBalance.orderBy(desc(\"Fecha\")).show()"
   ]
  },
  {
   "cell_type": "markdown",
   "metadata": {},
   "source": [
    "### Calculo real del porcentaje que aporta cada fuente de energía al total de la generación diaria"
   ]
  },
  {
   "cell_type": "code",
   "execution_count": 5,
   "metadata": {},
   "outputs": [
    {
     "data": {
      "text/html": [
       "<div>\n",
       "  <span style=\"float: left;\">show at cmd4.sc:12</span>\n",
       "</div>\n"
      ]
     },
     "metadata": {},
     "output_type": "display_data"
    },
    {
     "data": {
      "text/html": [
       "<div class=\"progress\">\n",
       "  <div class=\"progress-bar\" role=\"progressbar\" style=\"background-color: blue; width: 100%; word-wrap: normal; white-space: nowrap; text-align: center; color: white\" aria-valuenow=\"100\" aria-valuemin=\"0\" aria-valuemax=\"100\">\n",
       "    15 / 15\n",
       "  </div>\n",
       "  <div class=\"progress-bar\" role=\"progressbar\" style=\"background-color: red; width: 0%\" aria-valuenow=\"0\" aria-valuemin=\"0\" aria-valuemax=\"100\"></div>\n",
       "</div>\n"
      ]
     },
     "metadata": {},
     "output_type": "display_data"
    },
    {
     "data": {
      "text/html": [
       "<div>\n",
       "  <span style=\"float: left;\">show at cmd4.sc:12</span>\n",
       "</div>\n"
      ]
     },
     "metadata": {},
     "output_type": "display_data"
    },
    {
     "data": {
      "text/html": [
       "<div class=\"progress\">\n",
       "  <div class=\"progress-bar\" role=\"progressbar\" style=\"background-color: blue; width: 100%; word-wrap: normal; white-space: nowrap; text-align: center; color: white\" aria-valuenow=\"100\" aria-valuemin=\"0\" aria-valuemax=\"100\">\n",
       "    15 / 15\n",
       "  </div>\n",
       "  <div class=\"progress-bar\" role=\"progressbar\" style=\"background-color: red; width: 0%\" aria-valuenow=\"0\" aria-valuemin=\"0\" aria-valuemax=\"100\"></div>\n",
       "</div>\n"
      ]
     },
     "metadata": {},
     "output_type": "display_data"
    },
    {
     "data": {
      "text/html": [
       "<div>\n",
       "  <span style=\"float: left;\">show at cmd4.sc:12</span>\n",
       "</div>\n"
      ]
     },
     "metadata": {},
     "output_type": "display_data"
    },
    {
     "data": {
      "text/html": [
       "<div class=\"progress\">\n",
       "  <div class=\"progress-bar\" role=\"progressbar\" style=\"background-color: blue; width: 100%; word-wrap: normal; white-space: nowrap; text-align: center; color: white\" aria-valuenow=\"100\" aria-valuemin=\"0\" aria-valuemax=\"100\">\n",
       "    200 / 200\n",
       "  </div>\n",
       "  <div class=\"progress-bar\" role=\"progressbar\" style=\"background-color: red; width: 0%\" aria-valuenow=\"0\" aria-valuemin=\"0\" aria-valuemax=\"100\"></div>\n",
       "</div>\n"
      ]
     },
     "metadata": {},
     "output_type": "display_data"
    },
    {
     "data": {
      "text/html": [
       "<div>\n",
       "  <span style=\"float: left;\">show at cmd4.sc:12</span>\n",
       "</div>\n"
      ]
     },
     "metadata": {},
     "output_type": "display_data"
    },
    {
     "data": {
      "text/html": [
       "<div class=\"progress\">\n",
       "  <div class=\"progress-bar\" role=\"progressbar\" style=\"background-color: blue; width: 100%; word-wrap: normal; white-space: nowrap; text-align: center; color: white\" aria-valuenow=\"100\" aria-valuemin=\"0\" aria-valuemax=\"100\">\n",
       "    200 / 200\n",
       "  </div>\n",
       "  <div class=\"progress-bar\" role=\"progressbar\" style=\"background-color: red; width: 0%\" aria-valuenow=\"0\" aria-valuemin=\"0\" aria-valuemax=\"100\"></div>\n",
       "</div>\n"
      ]
     },
     "metadata": {},
     "output_type": "display_data"
    },
    {
     "name": "stdout",
     "output_type": "stream",
     "text": [
      "+------------+--------------------+---------+------------------+-------------------+--------------+----------------------+-------------+--------------------+\n",
      "|     Familia|                Tipo|Compuesto|             Valor|              Fecha|BajasEmisiones|PorcentajeSobreFamilia|TotalGenerado|PorcentajeSobreTotal|\n",
      "+------------+--------------------+---------+------------------+-------------------+--------------+----------------------+-------------+--------------------+\n",
      "|     Demanda|  Consumos en bombeo|    false|           -5704.9|2024-12-13 00:00:00|         false|                   0.7|    782020.87|               -0.73|\n",
      "|No-Renovable|     Ciclo combinado|    false|        306927.079|2024-12-13 00:00:00|         false|                 58.27|    782020.87|               39.25|\n",
      "|No-Renovable|Generación no ren...|     true| 526726.3500000001|2024-12-13 00:00:00|         false|                 100.0|    782020.87|               67.35|\n",
      "|   Renovable|    Otras renovables|    false|           12047.9|2024-12-13 00:00:00|          true|                  4.72|    782020.87|                1.54|\n",
      "|No-Renovable|             Nuclear|    false|          122269.0|2024-12-13 00:00:00|          true|                 23.21|    782020.87|               15.64|\n",
      "|No-Renovable|      Turbina de gas|    false|           579.958|2024-12-13 00:00:00|         false|                  0.11|    782020.87|                0.07|\n",
      "|No-Renovable|Residuos no renov...|    false|            4246.8|2024-12-13 00:00:00|         false|                  0.81|    782020.87|                0.54|\n",
      "|   Renovable|              Eólica|    false|         38545.423|2024-12-13 00:00:00|          true|                  15.1|    782020.87|                4.93|\n",
      "|   Renovable|         Hidroeólica|    false|            16.147|2024-12-13 00:00:00|          true|                  0.01|    782020.87|                 0.0|\n",
      "|   Renovable|Generación renovable|     true|255294.51600000003|2024-12-13 00:00:00|          true|                 100.0|    782020.87|               32.65|\n",
      "|No-Renovable|  Turbinación bombeo|    false|            9624.7|2024-12-13 00:00:00|         false|                  1.83|    782020.87|                1.23|\n",
      "|No-Renovable|              Carbón|    false|           14157.4|2024-12-13 00:00:00|         false|                  2.69|    782020.87|                1.81|\n",
      "|No-Renovable|      Motores diésel|    false|          7452.767|2024-12-13 00:00:00|         false|                  1.41|    782020.87|                0.95|\n",
      "|No-Renovable|    Turbina de vapor|    false|          2938.646|2024-12-13 00:00:00|         false|                  0.56|    782020.87|                0.38|\n",
      "|No-Renovable|        Cogeneración|    false|           58530.0|2024-12-13 00:00:00|         false|                 11.11|    782020.87|                7.48|\n",
      "|   Renovable|          Hidráulica|    false|          131484.1|2024-12-13 00:00:00|          true|                  51.5|    782020.87|               16.81|\n",
      "|     Demanda|     Demanda en b.c.|     true|        759284.666|2024-12-13 00:00:00|         false|                 100.0|    782020.87|               97.09|\n",
      "|   Renovable|  Solar fotovoltaica|    false|         69238.142|2024-12-13 00:00:00|          true|                 27.12|    782020.87|                8.85|\n",
      "|   Renovable|       Solar térmica|    false|          2309.404|2024-12-13 00:00:00|          true|                   0.9|    782020.87|                 0.3|\n",
      "|   Renovable| Residuos renovables|    false|            1653.4|2024-12-13 00:00:00|          true|                  0.65|    782020.87|                0.21|\n",
      "+------------+--------------------+---------+------------------+-------------------+--------------+----------------------+-------------+--------------------+\n",
      "only showing top 20 rows\n",
      "\n"
     ]
    },
    {
     "data": {
      "text/plain": [
       "\u001b[36mventana\u001b[39m: \u001b[32mexpressions\u001b[39m.\u001b[32mWindowSpec\u001b[39m = org.apache.spark.sql.expressions.WindowSpec@6bf3a15f\n",
       "\u001b[36mdatosBalanceDiarios\u001b[39m: \u001b[32mDataFrame\u001b[39m = [Familia: string, Tipo: string ... 7 more fields]"
      ]
     },
     "execution_count": 5,
     "metadata": {},
     "output_type": "execute_result"
    }
   ],
   "source": [
    "val ventana = Window.partitionBy(\"Fecha\")\n",
    "val datosBalanceDiarios = datosBalance\n",
    "    .withColumn(\"PorcentajeSobreFamilia\", round($\"Porcentaje\" * 100,2) )\n",
    "    .drop(\"Porcentaje\")\n",
    "    .withColumn(\n",
    "            \"TotalGenerado\", \n",
    "            round(sum(when(!$\"Compuesto\" && $\"Familia\" =!= \"Demanda\" ,$\"Valor\").otherwise(0)).over(ventana),2)\n",
    "    )\n",
    "    .withColumn(\"PorcentajeSobreTotal\", round($\"Valor\" / $\"TotalGenerado\" * 100,2))\n",
    "    \n",
    "\n",
    "datosBalanceDiarios.orderBy(desc(\"Fecha\")).show()"
   ]
  },
  {
   "cell_type": "code",
   "execution_count": 5,
   "metadata": {},
   "outputs": [
    {
     "data": {
      "text/html": [
       "<div>\n",
       "  <span style=\"float: left;\">show at cmd4.sc:17</span>\n",
       "</div>\n"
      ]
     },
     "metadata": {},
     "output_type": "display_data"
    },
    {
     "data": {
      "text/html": [
       "<div class=\"progress\">\n",
       "  <div class=\"progress-bar\" role=\"progressbar\" style=\"background-color: blue; width: 100%; word-wrap: normal; white-space: nowrap; text-align: center; color: white\" aria-valuenow=\"100\" aria-valuemin=\"0\" aria-valuemax=\"100\">\n",
       "    15 / 15\n",
       "  </div>\n",
       "  <div class=\"progress-bar\" role=\"progressbar\" style=\"background-color: red; width: 0%\" aria-valuenow=\"0\" aria-valuemin=\"0\" aria-valuemax=\"100\"></div>\n",
       "</div>\n"
      ]
     },
     "metadata": {},
     "output_type": "display_data"
    },
    {
     "data": {
      "text/html": [
       "<div>\n",
       "  <span style=\"float: left;\">show at cmd4.sc:17</span>\n",
       "</div>\n"
      ]
     },
     "metadata": {},
     "output_type": "display_data"
    },
    {
     "data": {
      "text/html": [
       "<div class=\"progress\">\n",
       "  <div class=\"progress-bar\" role=\"progressbar\" style=\"background-color: blue; width: 100%; word-wrap: normal; white-space: nowrap; text-align: center; color: white\" aria-valuenow=\"100\" aria-valuemin=\"0\" aria-valuemax=\"100\">\n",
       "    200 / 200\n",
       "  </div>\n",
       "  <div class=\"progress-bar\" role=\"progressbar\" style=\"background-color: red; width: 0%\" aria-valuenow=\"0\" aria-valuemin=\"0\" aria-valuemax=\"100\"></div>\n",
       "</div>\n"
      ]
     },
     "metadata": {},
     "output_type": "display_data"
    },
    {
     "data": {
      "text/html": [
       "<div>\n",
       "  <span style=\"float: left;\">show at cmd4.sc:17</span>\n",
       "</div>\n"
      ]
     },
     "metadata": {},
     "output_type": "display_data"
    },
    {
     "data": {
      "text/html": [
       "<div class=\"progress\">\n",
       "  <div class=\"progress-bar\" role=\"progressbar\" style=\"background-color: blue; width: 100%; word-wrap: normal; white-space: nowrap; text-align: center; color: white\" aria-valuenow=\"100\" aria-valuemin=\"0\" aria-valuemax=\"100\">\n",
       "    1 / 1\n",
       "  </div>\n",
       "  <div class=\"progress-bar\" role=\"progressbar\" style=\"background-color: red; width: 0%\" aria-valuenow=\"0\" aria-valuemin=\"0\" aria-valuemax=\"100\"></div>\n",
       "</div>\n"
      ]
     },
     "metadata": {},
     "output_type": "display_data"
    },
    {
     "name": "stdout",
     "output_type": "stream",
     "text": [
      "+------------+------------+--------------------+---------+--------------------+-----------------------------+-------------+--------------------+\n",
      "|FechaMensual|     Familia|                Tipo|Compuesto|        ValorMensual|PorcentajeMensualSobreFamilia|TotalGenerado|PorcentajeSobreTotal|\n",
      "+------------+------------+--------------------+---------+--------------------+-----------------------------+-------------+--------------------+\n",
      "|     2020-06|     Demanda|Saldo I. internac...|    false|          225552.381|         0.031034375400368196|1.948361021E7|                1.16|\n",
      "|     2020-06|No-Renovable|        Cogeneración|    false|         2192051.047|           0.2038407854002272|1.948361021E7|               11.25|\n",
      "|     2020-06|No-Renovable|              Carbón|    false|   362521.4919999999|          0.03340684688230847|1.948361021E7|                1.86|\n",
      "|     2020-06|No-Renovable|  Turbinación bombeo|    false|          150783.259|          0.01401898895954215|1.948361021E7|                0.77|\n",
      "|     2020-06|   Renovable|       Solar térmica|    false|           728193.23|          0.08767510116761958|1.948361021E7|                3.74|\n",
      "|     2020-06|No-Renovable|             Nuclear|    false|  3694170.9210000006|           0.3417810372096539|1.948361021E7|               18.96|\n",
      "|     2020-06|   Renovable|    Otras renovables|    false|  383426.35799999995|          0.04533214003672624|1.948361021E7|                1.97|\n",
      "|     2020-06|   Renovable|  Solar fotovoltaica|    false|         1809444.444|          0.21542832745123588|1.948361021E7|                9.29|\n",
      "|     2020-06|     Demanda|  Consumos en bombeo|    false| -214556.20700000005|         0.010741861065108115|1.948361021E7|                -1.1|\n",
      "|     2020-06|No-Renovable|      Motores diésel|    false|  171976.86200000002|         0.015985270818726256|1.948361021E7|                0.88|\n",
      "|     2020-06|No-Renovable|Generación no ren...|     true|1.0875197817000002E7|                          1.0|1.948361021E7|               55.82|\n",
      "|     2020-06|No-Renovable|      Turbina de gas|    false|           25109.333|         0.002290171824799...|1.948361021E7|                0.13|\n",
      "|     2020-06|   Renovable|              Eólica|    false|  3392469.1160000004|          0.37932719745243393|1.948361021E7|               17.41|\n",
      "|     2020-06|     Demanda|     Demanda en b.c.|     true|      1.9494606386E7|                          1.0|1.948361021E7|              100.06|\n",
      "|     2020-06|   Renovable| Residuos renovables|    false|           42521.727|         0.005034668803935451|1.948361021E7|                0.22|\n",
      "|     2020-06|No-Renovable|Residuos no renov...|    false|          148534.116|         0.013890356155771645|1.948361021E7|                0.76|\n",
      "|     2020-06|No-Renovable|          Fuel + Gas|    false|                 0.0|         2.543451599178860...|1.948361021E7|                 0.0|\n",
      "|     2020-06|   Renovable|          Hidráulica|    false|         2251561.667|           0.2671084172701858|1.948361021E7|               11.56|\n",
      "|     2020-06|   Renovable|         Hidroeólica|    false|             795.853|         9.414781786307326E-5|1.948361021E7|                 0.0|\n",
      "|     2020-06|No-Renovable|     Ciclo combinado|    false|   4047074.025000001|          0.36700981282614176|1.948361021E7|               20.77|\n",
      "+------------+------------+--------------------+---------+--------------------+-----------------------------+-------------+--------------------+\n",
      "only showing top 20 rows\n",
      "\n"
     ]
    },
    {
     "data": {
      "text/plain": [
       "\u001b[36mventanaMensual\u001b[39m: \u001b[32mexpressions\u001b[39m.\u001b[32mWindowSpec\u001b[39m = org.apache.spark.sql.expressions.WindowSpec@2154e110\n",
       "\u001b[36mdatosBalanceMensuales\u001b[39m: \u001b[32mDataFrame\u001b[39m = [FechaMensual: string, Familia: string ... 6 more fields]"
      ]
     },
     "execution_count": 5,
     "metadata": {},
     "output_type": "execute_result"
    }
   ],
   "source": [
    "val ventanaMensual = Window.partitionBy(\"FechaMensual\")\n",
    "\n",
    "val datosBalanceMensuales = datosBalance\n",
    "    .withColumn(\"FechaMensual\", date_format($\"Fecha\", \"yyyy-MM\"))\n",
    "    .groupBy($\"FechaMensual\", $\"Familia\", $\"Tipo\", $\"Compuesto\")\n",
    "    .agg(\n",
    "        sum(\"Valor\").as(\"ValorMensual\"),\n",
    "        avg(\"Porcentaje\").as(\"PorcentajeMensualSobreFamilia\")\n",
    "        )\n",
    "    .withColumn(\n",
    "            \"TotalGenerado\", \n",
    "            round(sum(when(!$\"Compuesto\" && $\"Familia\" =!= \"Demanda\" ,$\"ValorMensual\").otherwise(0)).over(ventanaMensual),2)\n",
    "    )\n",
    "    .withColumn(\"PorcentajeSobreTotal\", round($\"ValorMensual\" / $\"TotalGenerado\" * 100,2))\n",
    "\n",
    "    \n",
    "datosBalanceMensuales.show()"
   ]
  },
  {
   "cell_type": "code",
   "execution_count": 4,
   "metadata": {},
   "outputs": [
    {
     "data": {
      "text/html": [
       "<div>\n",
       "  <span style=\"float: left;\">show at cmd3.sc:17</span>\n",
       "</div>\n"
      ]
     },
     "metadata": {},
     "output_type": "display_data"
    },
    {
     "data": {
      "text/html": [
       "<div class=\"progress\">\n",
       "  <div class=\"progress-bar\" role=\"progressbar\" style=\"background-color: blue; width: 100%; word-wrap: normal; white-space: nowrap; text-align: center; color: white\" aria-valuenow=\"100\" aria-valuemin=\"0\" aria-valuemax=\"100\">\n",
       "    15 / 15\n",
       "  </div>\n",
       "  <div class=\"progress-bar\" role=\"progressbar\" style=\"background-color: red; width: 0%\" aria-valuenow=\"0\" aria-valuemin=\"0\" aria-valuemax=\"100\"></div>\n",
       "</div>\n"
      ]
     },
     "metadata": {},
     "output_type": "display_data"
    },
    {
     "data": {
      "text/html": [
       "<div>\n",
       "  <span style=\"float: left;\">show at cmd3.sc:17</span>\n",
       "</div>\n"
      ]
     },
     "metadata": {},
     "output_type": "display_data"
    },
    {
     "data": {
      "text/html": [
       "<div class=\"progress\">\n",
       "  <div class=\"progress-bar\" role=\"progressbar\" style=\"background-color: blue; width: 100%; word-wrap: normal; white-space: nowrap; text-align: center; color: white\" aria-valuenow=\"100\" aria-valuemin=\"0\" aria-valuemax=\"100\">\n",
       "    200 / 200\n",
       "  </div>\n",
       "  <div class=\"progress-bar\" role=\"progressbar\" style=\"background-color: red; width: 0%\" aria-valuenow=\"0\" aria-valuemin=\"0\" aria-valuemax=\"100\"></div>\n",
       "</div>\n"
      ]
     },
     "metadata": {},
     "output_type": "display_data"
    },
    {
     "data": {
      "text/html": [
       "<div>\n",
       "  <span style=\"float: left;\">show at cmd3.sc:17</span>\n",
       "</div>\n"
      ]
     },
     "metadata": {},
     "output_type": "display_data"
    },
    {
     "data": {
      "text/html": [
       "<div class=\"progress\">\n",
       "  <div class=\"progress-bar\" role=\"progressbar\" style=\"background-color: blue; width: 100%; word-wrap: normal; white-space: nowrap; text-align: center; color: white\" aria-valuenow=\"100\" aria-valuemin=\"0\" aria-valuemax=\"100\">\n",
       "    1 / 1\n",
       "  </div>\n",
       "  <div class=\"progress-bar\" role=\"progressbar\" style=\"background-color: red; width: 0%\" aria-valuenow=\"0\" aria-valuemin=\"0\" aria-valuemax=\"100\"></div>\n",
       "</div>\n"
      ]
     },
     "metadata": {},
     "output_type": "display_data"
    },
    {
     "data": {
      "text/html": [
       "<div>\n",
       "  <span style=\"float: left;\">show at cmd3.sc:17</span>\n",
       "</div>\n"
      ]
     },
     "metadata": {},
     "output_type": "display_data"
    },
    {
     "data": {
      "text/html": [
       "<div class=\"progress\">\n",
       "  <div class=\"progress-bar\" role=\"progressbar\" style=\"background-color: blue; width: 100%; word-wrap: normal; white-space: nowrap; text-align: center; color: white\" aria-valuenow=\"100\" aria-valuemin=\"0\" aria-valuemax=\"100\">\n",
       "    4 / 4\n",
       "  </div>\n",
       "  <div class=\"progress-bar\" role=\"progressbar\" style=\"background-color: red; width: 0%\" aria-valuenow=\"0\" aria-valuemin=\"0\" aria-valuemax=\"100\"></div>\n",
       "</div>\n"
      ]
     },
     "metadata": {},
     "output_type": "display_data"
    },
    {
     "data": {
      "text/html": [
       "<div>\n",
       "  <span style=\"float: left;\">show at cmd3.sc:17</span>\n",
       "</div>\n"
      ]
     },
     "metadata": {},
     "output_type": "display_data"
    },
    {
     "data": {
      "text/html": [
       "<div class=\"progress\">\n",
       "  <div class=\"progress-bar\" role=\"progressbar\" style=\"background-color: blue; width: 100%; word-wrap: normal; white-space: nowrap; text-align: center; color: white\" aria-valuenow=\"100\" aria-valuemin=\"0\" aria-valuemax=\"100\">\n",
       "    20 / 20\n",
       "  </div>\n",
       "  <div class=\"progress-bar\" role=\"progressbar\" style=\"background-color: red; width: 0%\" aria-valuenow=\"0\" aria-valuemin=\"0\" aria-valuemax=\"100\"></div>\n",
       "</div>\n"
      ]
     },
     "metadata": {},
     "output_type": "display_data"
    },
    {
     "name": "stdout",
     "output_type": "stream",
     "text": [
      "+----+------------+--------------------+---------+--------------+--------------------+---------------------------+-------------+--------------------+\n",
      "| Año|     Familia|                Tipo|Compuesto|BajasEmisiones|          ValorAnual|PorcentajeAnualSobreFamilia|TotalGenerado|PorcentajeSobreTotal|\n",
      "+----+------------+--------------------+---------+--------------+--------------------+---------------------------+-------------+--------------------+\n",
      "|2016|No-Renovable|    Turbina de vapor|    false|         false|  2536143.0030000005|       0.016313360099966256|2.618356915E8|                0.97|\n",
      "|2016|No-Renovable|      Turbina de gas|    false|         false|   616037.3019999998|       0.003810968597323...|2.618356915E8|                0.24|\n",
      "|2016|   Renovable|       Solar térmica|    false|          true|   5071201.701999999|       0.054412720483706205|2.618356915E8|                1.94|\n",
      "|2016|No-Renovable|Generación no ren...|     true|         false|1.6074652231649998E8|                        1.0|2.618356915E8|               61.39|\n",
      "|2016|No-Renovable|  Turbinación bombeo|    false|         false|   3134329.059000001|        0.02143120829686565|2.618356915E8|                 1.2|\n",
      "|2016|   Renovable|          Hidráulica|    false|          true| 3.611488819499998E7|         0.3577566818747559|2.618356915E8|               13.79|\n",
      "|2016|No-Renovable|     Ciclo combinado|    false|         false|2.9006482094000004E7|        0.17309018182333663|2.618356915E8|               11.08|\n",
      "|2016|   Renovable|    Otras renovables|    false|          true|   3425664.827999999|        0.03899878372205218|2.618356915E8|                1.31|\n",
      "|2016|   Renovable|         Hidroeólica|    false|          true|           17891.936|       1.926674304350640...|2.618356915E8|                0.01|\n",
      "|2016|No-Renovable|             Nuclear|    false|          true|      5.6021682059E7|        0.36279973531291754|2.618356915E8|                21.4|\n",
      "|2016|   Renovable|              Eólica|    false|          true|4.7696660309000015E7|         0.4529688173690544|2.618356915E8|               18.22|\n",
      "|2016|     Demanda|     Demanda en b.c.|     true|         false|2.6466614985599998E8|                        1.0|2.618356915E8|              101.08|\n",
      "|2016|     Demanda|Saldo I. internac...|    false|         false|  7658043.6910000015|        0.04513221984107438|2.618356915E8|                2.92|\n",
      "|2016|   Renovable| Residuos renovables|    false|          true|   785395.0295000001|       0.009111794957375612|2.618356915E8|                 0.3|\n",
      "|2016|     Demanda|  Consumos en bombeo|    false|         false|  -4827585.336000003|        0.01741019956773501|2.618356915E8|               -1.84|\n",
      "|2016|No-Renovable|Residuos no renov...|    false|         false|        2606963.7645|       0.016667310259117784|2.618356915E8|                 1.0|\n",
      "|2016|No-Renovable|        Cogeneración|    false|         false|      2.5908643559E7|         0.1665122373812584|2.618356915E8|                 9.9|\n",
      "|2016|   Renovable|  Solar fotovoltaica|    false|          true|   7977467.185000004|        0.08655853416262066|2.618356915E8|                3.05|\n",
      "|2016|No-Renovable|          Fuel + Gas|    false|         false|               0.235|       1.340848823935708...|2.618356915E8|                 0.0|\n",
      "|2016|No-Renovable|              Carbón|    false|         false|      3.7313777751E7|        0.21600647823653868|2.618356915E8|               14.25|\n",
      "+----+------------+--------------------+---------+--------------+--------------------+---------------------------+-------------+--------------------+\n",
      "only showing top 20 rows\n",
      "\n"
     ]
    },
    {
     "data": {
      "text/plain": [
       "\u001b[36mventanaAnual\u001b[39m: \u001b[32mexpressions\u001b[39m.\u001b[32mWindowSpec\u001b[39m = org.apache.spark.sql.expressions.WindowSpec@1161f2cd\n",
       "\u001b[36mdatosBalanceAnuales\u001b[39m: \u001b[32mDataFrame\u001b[39m = [Año: string, Familia: string ... 7 more fields]"
      ]
     },
     "execution_count": 4,
     "metadata": {},
     "output_type": "execute_result"
    }
   ],
   "source": [
    "val ventanaAnual = Window.partitionBy(\"Año\")\n",
    "\n",
    "val datosBalanceAnuales = datosBalance\n",
    "    .withColumn(\"Año\", date_format($\"Fecha\", \"yyyy\"))\n",
    "    .groupBy($\"Año\", $\"Familia\", $\"Tipo\", $\"Compuesto\", $\"BajasEmisiones\")\n",
    "    .agg(\n",
    "        sum(\"Valor\").as(\"ValorAnual\"),\n",
    "        avg(\"Porcentaje\").as(\"PorcentajeAnualSobreFamilia\")\n",
    "        )\n",
    "    .withColumn(\n",
    "            \"TotalGenerado\", \n",
    "            round(sum(when(!$\"Compuesto\" && $\"Familia\" =!= \"Demanda\" ,$\"ValorAnual\").otherwise(0)).over(ventanaAnual),2)\n",
    "    )\n",
    "    .withColumn(\"PorcentajeSobreTotal\", round($\"ValorAnual\" / $\"TotalGenerado\" * 100,2))\n",
    "\n",
    "    \n",
    "datosBalanceAnuales.show()"
   ]
  },
  {
   "cell_type": "code",
   "execution_count": 7,
   "metadata": {},
   "outputs": [
    {
     "data": {
      "text/html": [
       "<div>\n",
       "  <span style=\"float: left;\">show at cmd6.sc:5</span>\n",
       "</div>\n"
      ]
     },
     "metadata": {},
     "output_type": "display_data"
    },
    {
     "data": {
      "text/html": [
       "<div class=\"progress\">\n",
       "  <div class=\"progress-bar\" role=\"progressbar\" style=\"background-color: blue; width: 100%; word-wrap: normal; white-space: nowrap; text-align: center; color: white\" aria-valuenow=\"100\" aria-valuemin=\"0\" aria-valuemax=\"100\">\n",
       "    15 / 15\n",
       "  </div>\n",
       "  <div class=\"progress-bar\" role=\"progressbar\" style=\"background-color: red; width: 0%\" aria-valuenow=\"0\" aria-valuemin=\"0\" aria-valuemax=\"100\"></div>\n",
       "</div>\n"
      ]
     },
     "metadata": {},
     "output_type": "display_data"
    },
    {
     "data": {
      "text/html": [
       "<div>\n",
       "  <span style=\"float: left;\">show at cmd6.sc:5</span>\n",
       "</div>\n"
      ]
     },
     "metadata": {},
     "output_type": "display_data"
    },
    {
     "data": {
      "text/html": [
       "<div class=\"progress\">\n",
       "  <div class=\"progress-bar\" role=\"progressbar\" style=\"background-color: blue; width: 100%; word-wrap: normal; white-space: nowrap; text-align: center; color: white\" aria-valuenow=\"100\" aria-valuemin=\"0\" aria-valuemax=\"100\">\n",
       "    200 / 200\n",
       "  </div>\n",
       "  <div class=\"progress-bar\" role=\"progressbar\" style=\"background-color: red; width: 0%\" aria-valuenow=\"0\" aria-valuemin=\"0\" aria-valuemax=\"100\"></div>\n",
       "</div>\n"
      ]
     },
     "metadata": {},
     "output_type": "display_data"
    },
    {
     "data": {
      "text/html": [
       "<div>\n",
       "  <span style=\"float: left;\">show at cmd6.sc:5</span>\n",
       "</div>\n"
      ]
     },
     "metadata": {},
     "output_type": "display_data"
    },
    {
     "data": {
      "text/html": [
       "<div class=\"progress\">\n",
       "  <div class=\"progress-bar\" role=\"progressbar\" style=\"background-color: blue; width: 100%; word-wrap: normal; white-space: nowrap; text-align: center; color: white\" aria-valuenow=\"100\" aria-valuemin=\"0\" aria-valuemax=\"100\">\n",
       "    200 / 200\n",
       "  </div>\n",
       "  <div class=\"progress-bar\" role=\"progressbar\" style=\"background-color: red; width: 0%\" aria-valuenow=\"0\" aria-valuemin=\"0\" aria-valuemax=\"100\"></div>\n",
       "</div>\n"
      ]
     },
     "metadata": {},
     "output_type": "display_data"
    },
    {
     "name": "stdout",
     "output_type": "stream",
     "text": [
      "+----+--------------------+--------------------+--------------+\n",
      "| Año|                Tipo|PorcentajeSobreTotal| TotalGenerado|\n",
      "+----+--------------------+--------------------+--------------+\n",
      "|2011|Generación renovable|               31.02| 2.793538222E8|\n",
      "|2011|Generación no ren...|               68.98| 2.793538222E8|\n",
      "|2012|Generación renovable|               30.14|2.8311864375E8|\n",
      "|2012|Generación no ren...|               69.86|2.8311864375E8|\n",
      "|2013|Generación no ren...|               59.84|2.7328624293E8|\n",
      "|2013|Generación renovable|               40.16|2.7328624293E8|\n",
      "|2014|Generación no ren...|               59.52|2.6651174852E8|\n",
      "|2014|Generación renovable|               40.48|2.6651174852E8|\n",
      "|2015|Generación no ren...|               64.82|2.6745384916E8|\n",
      "|2015|Generación renovable|               35.18|2.6745384916E8|\n",
      "|2016|Generación no ren...|               61.39| 2.618356915E8|\n",
      "|2016|Generación renovable|               38.61| 2.618356915E8|\n",
      "|2017|Generación no ren...|               67.74|2.6230575812E8|\n",
      "|2017|Generación renovable|               32.26|2.6230575812E8|\n",
      "|2018|Generación renovable|               38.45|2.6098190204E8|\n",
      "|2018|Generación no ren...|               61.55|2.6098190204E8|\n",
      "|2019|Generación renovable|               37.54|2.6082883656E8|\n",
      "|2019|Generación no ren...|               62.46|2.6082883656E8|\n",
      "|2020|Generación renovable|                44.0|2.5139875006E8|\n",
      "|2020|Generación no ren...|                56.0|2.5139875006E8|\n",
      "+----+--------------------+--------------------+--------------+\n",
      "only showing top 20 rows\n",
      "\n"
     ]
    },
    {
     "data": {
      "text/plain": [
       "\u001b[36mlimpiasVSsuciasAnual\u001b[39m: \u001b[32mDataset\u001b[39m[\u001b[32mRow\u001b[39m] = [Año: string, Tipo: string ... 2 more fields]"
      ]
     },
     "execution_count": 7,
     "metadata": {},
     "output_type": "execute_result"
    }
   ],
   "source": [
    "val limpiasVSsuciasAnual = datosBalanceAnuales\n",
    "    .filter($\"Tipo\".isin(\"Generación renovable\", \"Generación no renovable\"))\n",
    "    .select($\"Año\",$\"Tipo\", $\"PorcentajeSobreTotal\", $\"TotalGenerado\")\n",
    "    .orderBy($\"Año\")\n",
    "limpiasVSsuciasAnual.show()"
   ]
  },
  {
   "cell_type": "code",
   "execution_count": 5,
   "metadata": {},
   "outputs": [
    {
     "data": {
      "text/html": [
       "<div>\n",
       "  <span style=\"float: left;\">show at cmd4.sc:16</span>\n",
       "</div>\n"
      ]
     },
     "metadata": {},
     "output_type": "display_data"
    },
    {
     "data": {
      "text/html": [
       "<div class=\"progress\">\n",
       "  <div class=\"progress-bar\" role=\"progressbar\" style=\"background-color: blue; width: 100%; word-wrap: normal; white-space: nowrap; text-align: center; color: white\" aria-valuenow=\"100\" aria-valuemin=\"0\" aria-valuemax=\"100\">\n",
       "    15 / 15\n",
       "  </div>\n",
       "  <div class=\"progress-bar\" role=\"progressbar\" style=\"background-color: red; width: 0%\" aria-valuenow=\"0\" aria-valuemin=\"0\" aria-valuemax=\"100\"></div>\n",
       "</div>\n"
      ]
     },
     "metadata": {},
     "output_type": "display_data"
    },
    {
     "data": {
      "text/html": [
       "<div>\n",
       "  <span style=\"float: left;\">show at cmd4.sc:16</span>\n",
       "</div>\n"
      ]
     },
     "metadata": {},
     "output_type": "display_data"
    },
    {
     "data": {
      "text/html": [
       "<div class=\"progress\">\n",
       "  <div class=\"progress-bar\" role=\"progressbar\" style=\"background-color: blue; width: 100%; word-wrap: normal; white-space: nowrap; text-align: center; color: white\" aria-valuenow=\"100\" aria-valuemin=\"0\" aria-valuemax=\"100\">\n",
       "    200 / 200\n",
       "  </div>\n",
       "  <div class=\"progress-bar\" role=\"progressbar\" style=\"background-color: red; width: 0%\" aria-valuenow=\"0\" aria-valuemin=\"0\" aria-valuemax=\"100\"></div>\n",
       "</div>\n"
      ]
     },
     "metadata": {},
     "output_type": "display_data"
    },
    {
     "data": {
      "text/html": [
       "<div>\n",
       "  <span style=\"float: left;\">show at cmd4.sc:16</span>\n",
       "</div>\n"
      ]
     },
     "metadata": {},
     "output_type": "display_data"
    },
    {
     "data": {
      "text/html": [
       "<div class=\"progress\">\n",
       "  <div class=\"progress-bar\" role=\"progressbar\" style=\"background-color: blue; width: 100%; word-wrap: normal; white-space: nowrap; text-align: center; color: white\" aria-valuenow=\"100\" aria-valuemin=\"0\" aria-valuemax=\"100\">\n",
       "    200 / 200\n",
       "  </div>\n",
       "  <div class=\"progress-bar\" role=\"progressbar\" style=\"background-color: red; width: 0%\" aria-valuenow=\"0\" aria-valuemin=\"0\" aria-valuemax=\"100\"></div>\n",
       "</div>\n"
      ]
     },
     "metadata": {},
     "output_type": "display_data"
    },
    {
     "name": "stdout",
     "output_type": "stream",
     "text": [
      "+----+------------------------+------------------------+\n",
      "| Año|PorcentajeBajasEmisiones|PorcentajeAltasEmisiones|\n",
      "+----+------------------------+------------------------+\n",
      "|2011|                   50.71|                   49.29|\n",
      "|2012|                   50.84|                   49.16|\n",
      "|2013|                    60.0|                    40.0|\n",
      "|2014|                   61.03|                   38.97|\n",
      "|2015|                   55.62|                   44.38|\n",
      "|2016|                    60.0|                    40.0|\n",
      "|2017|                   53.43|                   46.57|\n",
      "|2018|                   58.83|                   41.17|\n",
      "|2019|                   58.94|                   41.06|\n",
      "|2020|                   66.18|                   33.82|\n",
      "|2021|                    67.5|                    32.5|\n",
      "|2022|                   62.46|                   37.54|\n",
      "|2023|                   70.71|                   29.29|\n",
      "|2024|                   75.72|                   24.28|\n",
      "+----+------------------------+------------------------+\n",
      "\n"
     ]
    },
    {
     "data": {
      "text/plain": [
       "\u001b[36mAltasVsBajasEmsiones\u001b[39m: \u001b[32mDataFrame\u001b[39m = [Año: string, Familia: string ... 9 more fields]"
      ]
     },
     "execution_count": 5,
     "metadata": {},
     "output_type": "execute_result"
    }
   ],
   "source": [
    "val AltasVsBajasEmsiones = datosBalanceAnuales\n",
    "    .withColumn(\n",
    "            \"PorcentajeBajasEmisiones\", \n",
    "            round((sum(when($\"BajasEmisiones\" && !$\"Compuesto\" && $\"Familia\" =!= \"Demanda\", $\"ValorAnual\").otherwise(0)).over(ventanaAnual) / $\"TotalGenerado\" * 100),2)\n",
    "            //.otherwise(null)\n",
    "    )\n",
    "    .withColumn(\n",
    "            \"PorcentajeAltasEmisiones\", \n",
    "             round((sum(when(!$\"BajasEmisiones\" && !$\"Compuesto\" && $\"Familia\" =!= \"Demanda\", $\"ValorAnual\").otherwise(0)).over(ventanaAnual) / $\"TotalGenerado\" * 100),2)\n",
    "            //.otherwise(null)\n",
    "    )\n",
    "\n",
    "AltasVsBajasEmsiones\n",
    "    .filter($\"Tipo\" === \"Generación renovable\")\n",
    "    .select($\"Año\", $\"PorcentajeBajasEmisiones\", $\"PorcentajeAltasEmisiones\")\n",
    "    .orderBy($\"Año\")\n",
    "    .show()"
   ]
  },
  {
   "cell_type": "code",
   "execution_count": 54,
   "metadata": {},
   "outputs": [
    {
     "data": {
      "text/html": [
       "<div>\n",
       "  <span style=\"float: left;\">collect at cmd53.sc:7</span>\n",
       "</div>\n"
      ]
     },
     "metadata": {},
     "output_type": "display_data"
    },
    {
     "data": {
      "text/html": [
       "<div class=\"progress\">\n",
       "  <div class=\"progress-bar\" role=\"progressbar\" style=\"background-color: blue; width: 100%; word-wrap: normal; white-space: nowrap; text-align: center; color: white\" aria-valuenow=\"100\" aria-valuemin=\"0\" aria-valuemax=\"100\">\n",
       "    15 / 15\n",
       "  </div>\n",
       "  <div class=\"progress-bar\" role=\"progressbar\" style=\"background-color: red; width: 0%\" aria-valuenow=\"0\" aria-valuemin=\"0\" aria-valuemax=\"100\"></div>\n",
       "</div>\n"
      ]
     },
     "metadata": {},
     "output_type": "display_data"
    },
    {
     "data": {
      "text/html": [
       "<div>\n",
       "  <span style=\"float: left;\">collect at cmd53.sc:7</span>\n",
       "</div>\n"
      ]
     },
     "metadata": {},
     "output_type": "display_data"
    },
    {
     "data": {
      "text/html": [
       "<div class=\"progress\">\n",
       "  <div class=\"progress-bar\" role=\"progressbar\" style=\"background-color: blue; width: 100%; word-wrap: normal; white-space: nowrap; text-align: center; color: white\" aria-valuenow=\"100\" aria-valuemin=\"0\" aria-valuemax=\"100\">\n",
       "    200 / 200\n",
       "  </div>\n",
       "  <div class=\"progress-bar\" role=\"progressbar\" style=\"background-color: red; width: 0%\" aria-valuenow=\"0\" aria-valuemin=\"0\" aria-valuemax=\"100\"></div>\n",
       "</div>\n"
      ]
     },
     "metadata": {},
     "output_type": "display_data"
    },
    {
     "data": {
      "text/html": [
       "<div>\n",
       "  <span style=\"float: left;\">collect at cmd53.sc:7</span>\n",
       "</div>\n"
      ]
     },
     "metadata": {},
     "output_type": "display_data"
    },
    {
     "data": {
      "text/html": [
       "<div class=\"progress\">\n",
       "  <div class=\"progress-bar\" role=\"progressbar\" style=\"background-color: blue; width: 100%; word-wrap: normal; white-space: nowrap; text-align: center; color: white\" aria-valuenow=\"100\" aria-valuemin=\"0\" aria-valuemax=\"100\">\n",
       "    200 / 200\n",
       "  </div>\n",
       "  <div class=\"progress-bar\" role=\"progressbar\" style=\"background-color: red; width: 0%\" aria-valuenow=\"0\" aria-valuemin=\"0\" aria-valuemax=\"100\"></div>\n",
       "</div>\n"
      ]
     },
     "metadata": {},
     "output_type": "display_data"
    },
    {
     "data": {
      "text/html": [
       "<div>\n",
       "  <span style=\"float: left;\">collect at cmd53.sc:7</span>\n",
       "</div>\n"
      ]
     },
     "metadata": {},
     "output_type": "display_data"
    },
    {
     "data": {
      "text/html": [
       "<div class=\"progress\">\n",
       "  <div class=\"progress-bar\" role=\"progressbar\" style=\"background-color: blue; width: 100%; word-wrap: normal; white-space: nowrap; text-align: center; color: white\" aria-valuenow=\"100\" aria-valuemin=\"0\" aria-valuemax=\"100\">\n",
       "    4 / 4\n",
       "  </div>\n",
       "  <div class=\"progress-bar\" role=\"progressbar\" style=\"background-color: red; width: 0%\" aria-valuenow=\"0\" aria-valuemin=\"0\" aria-valuemax=\"100\"></div>\n",
       "</div>\n"
      ]
     },
     "metadata": {},
     "output_type": "display_data"
    },
    {
     "data": {
      "text/html": [
       "<div>\n",
       "  <span style=\"float: left;\">collect at cmd53.sc:13</span>\n",
       "</div>\n"
      ]
     },
     "metadata": {},
     "output_type": "display_data"
    },
    {
     "data": {
      "text/html": [
       "<div class=\"progress\">\n",
       "  <div class=\"progress-bar\" role=\"progressbar\" style=\"background-color: blue; width: 100%; word-wrap: normal; white-space: nowrap; text-align: center; color: white\" aria-valuenow=\"100\" aria-valuemin=\"0\" aria-valuemax=\"100\">\n",
       "    15 / 15\n",
       "  </div>\n",
       "  <div class=\"progress-bar\" role=\"progressbar\" style=\"background-color: red; width: 0%\" aria-valuenow=\"0\" aria-valuemin=\"0\" aria-valuemax=\"100\"></div>\n",
       "</div>\n"
      ]
     },
     "metadata": {},
     "output_type": "display_data"
    },
    {
     "data": {
      "text/html": [
       "<div>\n",
       "  <span style=\"float: left;\">collect at cmd53.sc:13</span>\n",
       "</div>\n"
      ]
     },
     "metadata": {},
     "output_type": "display_data"
    },
    {
     "data": {
      "text/html": [
       "<div class=\"progress\">\n",
       "  <div class=\"progress-bar\" role=\"progressbar\" style=\"background-color: blue; width: 100%; word-wrap: normal; white-space: nowrap; text-align: center; color: white\" aria-valuenow=\"100\" aria-valuemin=\"0\" aria-valuemax=\"100\">\n",
       "    15 / 15\n",
       "  </div>\n",
       "  <div class=\"progress-bar\" role=\"progressbar\" style=\"background-color: red; width: 0%\" aria-valuenow=\"0\" aria-valuemin=\"0\" aria-valuemax=\"100\"></div>\n",
       "</div>\n"
      ]
     },
     "metadata": {},
     "output_type": "display_data"
    },
    {
     "data": {
      "text/html": [
       "<div>\n",
       "  <span style=\"float: left;\">collect at cmd53.sc:13</span>\n",
       "</div>\n"
      ]
     },
     "metadata": {},
     "output_type": "display_data"
    },
    {
     "data": {
      "text/html": [
       "<div class=\"progress\">\n",
       "  <div class=\"progress-bar\" role=\"progressbar\" style=\"background-color: blue; width: 100%; word-wrap: normal; white-space: nowrap; text-align: center; color: white\" aria-valuenow=\"100\" aria-valuemin=\"0\" aria-valuemax=\"100\">\n",
       "    4 / 4\n",
       "  </div>\n",
       "  <div class=\"progress-bar\" role=\"progressbar\" style=\"background-color: red; width: 0%\" aria-valuenow=\"0\" aria-valuemin=\"0\" aria-valuemax=\"100\"></div>\n",
       "</div>\n"
      ]
     },
     "metadata": {},
     "output_type": "display_data"
    },
    {
     "data": {
      "text/html": [
       "<div>\n",
       "  <span style=\"float: left;\">collect at cmd53.sc:21</span>\n",
       "</div>\n"
      ]
     },
     "metadata": {},
     "output_type": "display_data"
    },
    {
     "data": {
      "text/html": [
       "<div class=\"progress\">\n",
       "  <div class=\"progress-bar\" role=\"progressbar\" style=\"background-color: blue; width: 100%; word-wrap: normal; white-space: nowrap; text-align: center; color: white\" aria-valuenow=\"100\" aria-valuemin=\"0\" aria-valuemax=\"100\">\n",
       "    15 / 15\n",
       "  </div>\n",
       "  <div class=\"progress-bar\" role=\"progressbar\" style=\"background-color: red; width: 0%\" aria-valuenow=\"0\" aria-valuemin=\"0\" aria-valuemax=\"100\"></div>\n",
       "</div>\n"
      ]
     },
     "metadata": {},
     "output_type": "display_data"
    },
    {
     "data": {
      "text/html": [
       "<div>\n",
       "  <span style=\"float: left;\">collect at cmd53.sc:21</span>\n",
       "</div>\n"
      ]
     },
     "metadata": {},
     "output_type": "display_data"
    },
    {
     "data": {
      "text/html": [
       "<div class=\"progress\">\n",
       "  <div class=\"progress-bar\" role=\"progressbar\" style=\"background-color: blue; width: 100%; word-wrap: normal; white-space: nowrap; text-align: center; color: white\" aria-valuenow=\"100\" aria-valuemin=\"0\" aria-valuemax=\"100\">\n",
       "    15 / 15\n",
       "  </div>\n",
       "  <div class=\"progress-bar\" role=\"progressbar\" style=\"background-color: red; width: 0%\" aria-valuenow=\"0\" aria-valuemin=\"0\" aria-valuemax=\"100\"></div>\n",
       "</div>\n"
      ]
     },
     "metadata": {},
     "output_type": "display_data"
    },
    {
     "data": {
      "text/html": [
       "<div>\n",
       "  <span style=\"float: left;\">collect at cmd53.sc:21</span>\n",
       "</div>\n"
      ]
     },
     "metadata": {},
     "output_type": "display_data"
    },
    {
     "data": {
      "text/html": [
       "<div class=\"progress\">\n",
       "  <div class=\"progress-bar\" role=\"progressbar\" style=\"background-color: blue; width: 100%; word-wrap: normal; white-space: nowrap; text-align: center; color: white\" aria-valuenow=\"100\" aria-valuemin=\"0\" aria-valuemax=\"100\">\n",
       "    4 / 4\n",
       "  </div>\n",
       "  <div class=\"progress-bar\" role=\"progressbar\" style=\"background-color: red; width: 0%\" aria-valuenow=\"0\" aria-valuemin=\"0\" aria-valuemax=\"100\"></div>\n",
       "</div>\n"
      ]
     },
     "metadata": {},
     "output_type": "display_data"
    },
    {
     "data": {
      "text/html": [
       "<div>\n",
       "  <span style=\"float: left;\">collect at cmd53.sc:29</span>\n",
       "</div>\n"
      ]
     },
     "metadata": {},
     "output_type": "display_data"
    },
    {
     "data": {
      "text/html": [
       "<div class=\"progress\">\n",
       "  <div class=\"progress-bar\" role=\"progressbar\" style=\"background-color: blue; width: 100%; word-wrap: normal; white-space: nowrap; text-align: center; color: white\" aria-valuenow=\"100\" aria-valuemin=\"0\" aria-valuemax=\"100\">\n",
       "    15 / 15\n",
       "  </div>\n",
       "  <div class=\"progress-bar\" role=\"progressbar\" style=\"background-color: red; width: 0%\" aria-valuenow=\"0\" aria-valuemin=\"0\" aria-valuemax=\"100\"></div>\n",
       "</div>\n"
      ]
     },
     "metadata": {},
     "output_type": "display_data"
    },
    {
     "data": {
      "text/html": [
       "<div>\n",
       "  <span style=\"float: left;\">collect at cmd53.sc:29</span>\n",
       "</div>\n"
      ]
     },
     "metadata": {},
     "output_type": "display_data"
    },
    {
     "data": {
      "text/html": [
       "<div class=\"progress\">\n",
       "  <div class=\"progress-bar\" role=\"progressbar\" style=\"background-color: blue; width: 100%; word-wrap: normal; white-space: nowrap; text-align: center; color: white\" aria-valuenow=\"100\" aria-valuemin=\"0\" aria-valuemax=\"100\">\n",
       "    200 / 200\n",
       "  </div>\n",
       "  <div class=\"progress-bar\" role=\"progressbar\" style=\"background-color: red; width: 0%\" aria-valuenow=\"0\" aria-valuemin=\"0\" aria-valuemax=\"100\"></div>\n",
       "</div>\n"
      ]
     },
     "metadata": {},
     "output_type": "display_data"
    },
    {
     "data": {
      "text/html": [
       "<div>\n",
       "  <span style=\"float: left;\">collect at cmd53.sc:29</span>\n",
       "</div>\n"
      ]
     },
     "metadata": {},
     "output_type": "display_data"
    },
    {
     "data": {
      "text/html": [
       "<div class=\"progress\">\n",
       "  <div class=\"progress-bar\" role=\"progressbar\" style=\"background-color: blue; width: 100%; word-wrap: normal; white-space: nowrap; text-align: center; color: white\" aria-valuenow=\"100\" aria-valuemin=\"0\" aria-valuemax=\"100\">\n",
       "    200 / 200\n",
       "  </div>\n",
       "  <div class=\"progress-bar\" role=\"progressbar\" style=\"background-color: red; width: 0%\" aria-valuenow=\"0\" aria-valuemin=\"0\" aria-valuemax=\"100\"></div>\n",
       "</div>\n"
      ]
     },
     "metadata": {},
     "output_type": "display_data"
    },
    {
     "data": {
      "text/html": [
       "<div>\n",
       "  <span style=\"float: left;\">collect at cmd53.sc:29</span>\n",
       "</div>\n"
      ]
     },
     "metadata": {},
     "output_type": "display_data"
    },
    {
     "data": {
      "text/html": [
       "<div class=\"progress\">\n",
       "  <div class=\"progress-bar\" role=\"progressbar\" style=\"background-color: blue; width: 100%; word-wrap: normal; white-space: nowrap; text-align: center; color: white\" aria-valuenow=\"100\" aria-valuemin=\"0\" aria-valuemax=\"100\">\n",
       "    4 / 4\n",
       "  </div>\n",
       "  <div class=\"progress-bar\" role=\"progressbar\" style=\"background-color: red; width: 0%\" aria-valuenow=\"0\" aria-valuemin=\"0\" aria-valuemax=\"100\"></div>\n",
       "</div>\n"
      ]
     },
     "metadata": {},
     "output_type": "display_data"
    },
    {
     "data": {
      "application/vnd.plotly.v1+json": {
       "data": [
        {
         "marker": {
          "color": "rgba(55, 128, 191, 0.6)"
         },
         "name": "Generación Renovable",
         "type": "bar",
         "x": [
          "2024-12-10",
          "2024-12-11",
          "2024-12-12",
          "2024-12-13"
         ],
         "y": [
          397258.47599999997,
          252567.892,
          251551.50100000002,
          255294.51600000003
         ]
        },
        {
         "marker": {
          "color": "rgba(255, 153, 51, 0.6)"
         },
         "name": "Generación No Renovable",
         "type": "bar",
         "x": [
          "2024-12-10",
          "2024-12-11",
          "2024-12-12",
          "2024-12-13"
         ],
         "y": [
          426031.59300000005,
          572459.665,
          550136.361,
          526726.3500000001
         ]
        },
        {
         "name": "Producción Total",
         "type": "scatter",
         "x": [
          "2024-12-10",
          "2024-12-11",
          "2024-12-12",
          "2024-12-13"
         ],
         "y": [
          823290.07,
          825027.56,
          801687.86,
          782020.87
         ]
        }
       ],
       "layout": {
        "autosize": true,
        "barmode": "stack",
        "title": {
         "text": "Generación de Energía ultimos 3 dias"
        },
        "xaxis": {
         "autorange": true,
         "range": [
          "2024-12-09 12:00",
          "2024-12-13 12:00"
         ],
         "title": {
          "text": "Dia"
         },
         "type": "date"
        },
        "yaxis": {
         "autorange": true,
         "range": [
          0,
          881335.0789317508
         ],
         "title": {
          "text": "Energía Generada (MWh)"
         },
         "type": "linear"
        }
       }
      },
      "image/png": "[encoded data removed]",
      "text/html": [
       "<div class=\"chart\" id=\"plot-eea2c3e2-b020-4cde-9f95-8cfe43c215a2\"></div>\n",
       "<script>require(['plotly'], function(Plotly) {\n",
       "  (function () {\n",
       "  var data0 = {\"x\":[\"2024-12-10\",\"2024-12-11\",\"2024-12-12\",\"2024-12-13\"],\"name\":\"Generación Renovable\",\"y\":[397258.47599999997,252567.892,251551.50100000002,255294.51600000003],\"marker\":{\"color\":\"rgba(55, 128, 191, 0.6)\"},\"type\":\"bar\"};\n",
       "  var data1 = {\"x\":[\"2024-12-10\",\"2024-12-11\",\"2024-12-12\",\"2024-12-13\"],\"name\":\"Generación No Renovable\",\"y\":[426031.59300000005,572459.665,550136.361,526726.3500000001],\"marker\":{\"color\":\"rgba(255, 153, 51, 0.6)\"},\"type\":\"bar\"};\n",
       "  var data2 = {\"x\":[\"2024-12-10\",\"2024-12-11\",\"2024-12-12\",\"2024-12-13\"],\"name\":\"Producción Total\",\"y\":[823290.07,825027.56,801687.86,782020.87],\"type\":\"scatter\"};\n",
       "\n",
       "  var data = [data0, data1, data2];\n",
       "  var layout = {\"barmode\":\"stack\",\"title\":\"Generación de Energía ultimos 3 dias\",\"yaxis\":{\"title\":\"Energía Generada (MWh)\"},\"xaxis\":{\"title\":\"Dia\"}};\n",
       "\n",
       "  Plotly.plot('plot-eea2c3e2-b020-4cde-9f95-8cfe43c215a2', data, layout);\n",
       "})();\n",
       "});\n",
       "      </script>\n",
       "           "
      ]
     },
     "metadata": {},
     "output_type": "display_data"
    },
    {
     "data": {
      "text/plain": [
       "defined \u001b[32mfunction\u001b[39m \u001b[36manalisisUltimos3dias\u001b[39m"
      ]
     },
     "execution_count": 54,
     "metadata": {},
     "output_type": "execute_result"
    }
   ],
   "source": [
    "def analisisUltimos3dias (df: DataFrame): Unit = {\n",
    "    val ultimos3dias = df\n",
    "        .filter($\"Fecha\".isin(\"2024-12-10 00:00:00\",\"2024-12-11 00:00:00\",\"2024-12-12 00:00:00\",\"2024-12-13 00:00:00\"))\n",
    "        .withColumn(\"Dia\", to_date($\"Fecha\"))\n",
    "\n",
    "    // Crear listas para el eje X (meses) y los valores para renovables y no renovables\n",
    "    val dias = ultimos3dias.select(\"Dia\").distinct().orderBy(\"Dia\").as[String].collect.toSeq\n",
    "\n",
    "    val renovables = ultimos3dias\n",
    "      .filter($\"Tipo\" === \"Generación renovable\")\n",
    "      .orderBy(\"Dia\")\n",
    "      .select(\"Valor\")\n",
    "      .as[Double]\n",
    "      .collect\n",
    "      .toSeq\n",
    "\n",
    "    val noRenovables = ultimos3dias\n",
    "      .filter($\"Tipo\" === \"Generación no renovable\")\n",
    "      .orderBy(\"Dia\")\n",
    "      .select(\"Valor\")\n",
    "      .as[Double]\n",
    "      .collect\n",
    "      .toSeq\n",
    "\n",
    "    val totalGenerado = ultimos3dias\n",
    "        .filter($\"Tipo\" === \"Generación renovable\")\n",
    "        .orderBy(\"Dia\")\n",
    "        .select(\"TotalGenerado\")\n",
    "        .as[Double]\n",
    "        .collect\n",
    "        .toSeq\n",
    "\n",
    "    // Crear las barras para el gráfico\n",
    "    val traceRenovables = Bar(\n",
    "      x = dias,\n",
    "      y = renovables,\n",
    "      name = \"Generación Renovable\",\n",
    "      marker = Marker(\n",
    "        color = Color.RGBA(55, 128, 191, 0.6) // Color semitransparente para renovables\n",
    "      )\n",
    "    )\n",
    "\n",
    "    val traceNoRenovables = Bar(\n",
    "      x = dias,\n",
    "      y = noRenovables,\n",
    "      name = \"Generación No Renovable\",\n",
    "      marker = Marker(\n",
    "        color = Color.RGBA(255, 153, 51, 0.6) // Color semitransparente para no renovables\n",
    "      )\n",
    "    )\n",
    "\n",
    "    val traceGeneracionTotal = Scatter(dias, totalGenerado, name = \"Producción Total\")\n",
    "\n",
    "    // Configurar el diseño del gráfico\n",
    "    val layout = Layout(\n",
    "      title = \"Generación de Energía ultimos 3 dias\",\n",
    "      barmode = BarMode.Stack, // Gráfico apilado\n",
    "      xaxis = Axis(title = \"Dia\"),\n",
    "      yaxis = Axis(title = \"Energía Generada (MWh)\")\n",
    "    )\n",
    "\n",
    "    // Combinar los datos y pintar el gráfico\n",
    "    val data = Seq(traceRenovables, traceNoRenovables, traceGeneracionTotal)\n",
    "    plot(data, layout)\n",
    "}\n",
    "analisisUltimos3dias(datosBalanceDiarios)"
   ]
  },
  {
   "cell_type": "code",
   "execution_count": 6,
   "metadata": {},
   "outputs": [
    {
     "data": {
      "text/html": [
       "<div>\n",
       "  <span style=\"float: left;\">collect at cmd5.sc:5</span>\n",
       "</div>\n"
      ]
     },
     "metadata": {},
     "output_type": "display_data"
    },
    {
     "data": {
      "text/html": [
       "<div class=\"progress\">\n",
       "  <div class=\"progress-bar\" role=\"progressbar\" style=\"background-color: blue; width: 100%; word-wrap: normal; white-space: nowrap; text-align: center; color: white\" aria-valuenow=\"100\" aria-valuemin=\"0\" aria-valuemax=\"100\">\n",
       "    15 / 15\n",
       "  </div>\n",
       "  <div class=\"progress-bar\" role=\"progressbar\" style=\"background-color: red; width: 0%\" aria-valuenow=\"0\" aria-valuemin=\"0\" aria-valuemax=\"100\"></div>\n",
       "</div>\n"
      ]
     },
     "metadata": {},
     "output_type": "display_data"
    },
    {
     "data": {
      "text/html": [
       "<div>\n",
       "  <span style=\"float: left;\">collect at cmd5.sc:5</span>\n",
       "</div>\n"
      ]
     },
     "metadata": {},
     "output_type": "display_data"
    },
    {
     "data": {
      "text/html": [
       "<div class=\"progress\">\n",
       "  <div class=\"progress-bar\" role=\"progressbar\" style=\"background-color: blue; width: 100%; word-wrap: normal; white-space: nowrap; text-align: center; color: white\" aria-valuenow=\"100\" aria-valuemin=\"0\" aria-valuemax=\"100\">\n",
       "    200 / 200\n",
       "  </div>\n",
       "  <div class=\"progress-bar\" role=\"progressbar\" style=\"background-color: red; width: 0%\" aria-valuenow=\"0\" aria-valuemin=\"0\" aria-valuemax=\"100\"></div>\n",
       "</div>\n"
      ]
     },
     "metadata": {},
     "output_type": "display_data"
    },
    {
     "data": {
      "text/html": [
       "<div>\n",
       "  <span style=\"float: left;\">collect at cmd5.sc:5</span>\n",
       "</div>\n"
      ]
     },
     "metadata": {},
     "output_type": "display_data"
    },
    {
     "data": {
      "text/html": [
       "<div class=\"progress\">\n",
       "  <div class=\"progress-bar\" role=\"progressbar\" style=\"background-color: blue; width: 100%; word-wrap: normal; white-space: nowrap; text-align: center; color: white\" aria-valuenow=\"100\" aria-valuemin=\"0\" aria-valuemax=\"100\">\n",
       "    200 / 200\n",
       "  </div>\n",
       "  <div class=\"progress-bar\" role=\"progressbar\" style=\"background-color: red; width: 0%\" aria-valuenow=\"0\" aria-valuemin=\"0\" aria-valuemax=\"100\"></div>\n",
       "</div>\n"
      ]
     },
     "metadata": {},
     "output_type": "display_data"
    },
    {
     "data": {
      "text/plain": [
       "\u001b[36mrenovables\u001b[39m: \u001b[32mSeq\u001b[39m[\u001b[32mDouble\u001b[39m] = \u001b[33mWrappedArray\u001b[39m(\n",
       "  \u001b[32m8.666705284999998E7\u001b[39m,\n",
       "  \u001b[32m8.533872275199999E7\u001b[39m,\n",
       "  \u001b[32m1.0975765764349996E8\u001b[39m,\n",
       "  \u001b[32m1.078761336995E8\u001b[39m,\n",
       "  \u001b[32m9.408811295749995E7\u001b[39m,\n",
       "  \u001b[32m1.0108916918450001E8\u001b[39m,\n",
       "  \u001b[32m8.461086648700011E7\u001b[39m,\n",
       "  \u001b[32m1.0034440521300003E8\u001b[39m,\n",
       "  \u001b[32m9.791329882000001E7\u001b[39m,\n",
       "  \u001b[32m1.10605198343E8\u001b[39m,\n",
       "  \u001b[32m1.2145914631000003E8\u001b[39m,\n",
       "  \u001b[32m1.1669521076699996E8\u001b[39m,\n",
       "  \u001b[32m1.3464896426399994E8\u001b[39m,\n",
       "  \u001b[32m1.4232141927199993E8\u001b[39m\n",
       ")"
      ]
     },
     "execution_count": 6,
     "metadata": {},
     "output_type": "execute_result"
    }
   ],
   "source": [
    "    val renovables = datosBalanceAnuales\n",
    "        .filter($\"Tipo\" === \"Generación renovable\")\n",
    "        .orderBy(\"Año\")\n",
    "        .select(\"ValorAnual\")\n",
    "        .as[Double]\n",
    "        .collect\n",
    "        .toSeq"
   ]
  },
  {
   "cell_type": "code",
   "execution_count": null,
   "metadata": {},
   "outputs": [
    {
     "data": {
      "text/html": [
       "<div>\n",
       "  <span style=\"float: left;\">collect at cmd4.sc:6</span>\n",
       "</div>\n"
      ]
     },
     "metadata": {},
     "output_type": "display_data"
    },
    {
     "data": {
      "text/html": [
       "<div class=\"progress\">\n",
       "  <div class=\"progress-bar\" role=\"progressbar\" style=\"background-color: blue; width: 100%; word-wrap: normal; white-space: nowrap; text-align: center; color: white\" aria-valuenow=\"100\" aria-valuemin=\"0\" aria-valuemax=\"100\">\n",
       "    15 / 15\n",
       "  </div>\n",
       "  <div class=\"progress-bar\" role=\"progressbar\" style=\"background-color: red; width: 0%\" aria-valuenow=\"0\" aria-valuemin=\"0\" aria-valuemax=\"100\"></div>\n",
       "</div>\n"
      ]
     },
     "metadata": {},
     "output_type": "display_data"
    },
    {
     "data": {
      "text/html": [
       "<div>\n",
       "  <span style=\"float: left;\">collect at cmd4.sc:6</span>\n",
       "</div>\n"
      ]
     },
     "metadata": {},
     "output_type": "display_data"
    },
    {
     "data": {
      "text/html": [
       "<div class=\"progress\">\n",
       "  <div class=\"progress-bar\" role=\"progressbar\" style=\"background-color: blue; width: 100%; word-wrap: normal; white-space: nowrap; text-align: center; color: white\" aria-valuenow=\"100\" aria-valuemin=\"0\" aria-valuemax=\"100\">\n",
       "    200 / 200\n",
       "  </div>\n",
       "  <div class=\"progress-bar\" role=\"progressbar\" style=\"background-color: red; width: 0%\" aria-valuenow=\"0\" aria-valuemin=\"0\" aria-valuemax=\"100\"></div>\n",
       "</div>\n"
      ]
     },
     "metadata": {},
     "output_type": "display_data"
    },
    {
     "data": {
      "text/html": [
       "<div>\n",
       "  <span style=\"float: left;\">collect at cmd4.sc:6</span>\n",
       "</div>\n"
      ]
     },
     "metadata": {},
     "output_type": "display_data"
    },
    {
     "data": {
      "text/html": [
       "<div class=\"progress\">\n",
       "  <div class=\"progress-bar\" role=\"progressbar\" style=\"background-color: blue; width: 100%; word-wrap: normal; white-space: nowrap; text-align: center; color: white\" aria-valuenow=\"100\" aria-valuemin=\"0\" aria-valuemax=\"100\">\n",
       "    200 / 200\n",
       "  </div>\n",
       "  <div class=\"progress-bar\" role=\"progressbar\" style=\"background-color: red; width: 0%\" aria-valuenow=\"0\" aria-valuemin=\"0\" aria-valuemax=\"100\"></div>\n",
       "</div>\n"
      ]
     },
     "metadata": {},
     "output_type": "display_data"
    },
    {
     "data": {
      "text/html": [
       "<div>\n",
       "  <span style=\"float: left; word-wrap: normal; white-space: nowrap; text-align: center\">collect at cmd4.sc:6</span>\n",
       "  <span style=\"float: right; word-wrap: normal; white-space: nowrap; text-align: center\"><a href=\"#\" onclick=\"cancelStage(16);\">(kill)</a></span>\n",
       "</div>\n",
       "<br>\n"
      ]
     },
     "metadata": {},
     "output_type": "display_data"
    },
    {
     "data": {
      "text/html": [
       "<div class=\"progress\">\n",
       "  <div class=\"progress-bar\" role=\"progressbar\" style=\"background-color: blue; width: 13%; word-wrap: normal; white-space: nowrap; text-align: center; color: white\" aria-valuenow=\"13\" aria-valuemin=\"0\" aria-valuemax=\"100\">\n",
       "    25 + 23 / 200\n",
       "  </div>\n",
       "  <div class=\"progress-bar\" role=\"progressbar\" style=\"background-color: red; width: 12%\" aria-valuenow=\"12\" aria-valuemin=\"0\" aria-valuemax=\"100\"></div>\n",
       "</div>\n"
      ]
     },
     "metadata": {},
     "output_type": "display_data"
    }
   ],
   "source": [
    "def analisisAnual(df: DataFrame): Unit = {\n",
    "      \n",
    "    val ultimos5años = df.filter($\"Año\".isin(\"2020\", \"2021\", \"2022\", \"2023\", \"2024\"))\n",
    "\n",
    "    // Seleccionar los años presentes en el DataFrame\n",
    "    val años = ultimos5años.select(\"Año\").distinct().orderBy(\"Año\").as[String].collect.toSeq\n",
    "\n",
    "    // Extraer valores de renovables, no renovables y total generado\n",
    "    val renovables = ultimos5años\n",
    "        .filter($\"Tipo\" === \"Generación renovable\")\n",
    "        .orderBy(\"Año\")\n",
    "        .select(\"ValorAnual\")\n",
    "        .as[Double]\n",
    "        .collect\n",
    "        .toSeq\n",
    "\n",
    "    val noRenovables = ultimos5años\n",
    "        .filter($\"Tipo\" === \"Generación no renovable\")\n",
    "        .orderBy(\"Año\")\n",
    "        .select(\"ValorAnual\")\n",
    "        .as[Double]\n",
    "        .collect\n",
    "        .toSeq\n",
    "\n",
    "    \n",
    "    val totalGenerado = ultimos5años\n",
    "        .filter($\"Tipo\" === \"Generación renovable\")\n",
    "        .orderBy(\"Año\")\n",
    "        .select(\"TotalGenerado\")\n",
    "        .as[Double]\n",
    "        .collect\n",
    "        .toSeq\n",
    "\n",
    "     // Crear las barras para el gráfico\n",
    "    val traceRenovables = Bar(\n",
    "        x = años,\n",
    "        y = renovables,\n",
    "        name = \"Generación Renovable\",\n",
    "        marker = Marker(\n",
    "        color = Color.RGBA(55, 128, 191, 0.6) // Color semitransparente para renovables\n",
    "        )\n",
    "    )\n",
    "\n",
    "    val traceNoRenovables = Bar(\n",
    "        x = años,\n",
    "        y = noRenovables,\n",
    "        name = \"Generación No Renovable\",\n",
    "        marker = Marker(\n",
    "        color = Color.RGBA(255, 153, 51, 0.6) // Color semitransparente para no renovables\n",
    "        )\n",
    "    )\n",
    "\n",
    "    val traceGeneracionTotal = Scatter(\n",
    "      años,\n",
    "      totalGenerado,\n",
    "      name = \"Producción Total\",\n",
    "      //mode = ScatterMode(ScatterMode.Lines + ScatterMode.Markers)\n",
    "    )\n",
    "\n",
    "    // Configurar el diseño del gráfico\n",
    "    val layout = Layout(\n",
    "      title = \"Generación de Energía por Año\",\n",
    "      barmode = BarMode.Stack, // Gráfico apilado\n",
    "      xaxis = Axis(title = \"Año\"),\n",
    "      yaxis = Axis(title = \"Energía Generada (MWh)\")\n",
    "    )\n",
    "\n",
    "    // Combinar los datos y pintar el gráfico\n",
    "    val data = Seq(traceRenovables, traceNoRenovables, traceGeneracionTotal)\n",
    "    plot(data, layout)\n",
    "   \n",
    "}\n",
    "\n",
    "// Llamar a la función con datos anuales\n",
    "analisisAnual(datosBalanceAnuales)"
   ]
  },
  {
   "cell_type": "code",
   "execution_count": 13,
   "metadata": {},
   "outputs": [
    {
     "data": {
      "text/html": [
       "<div>\n",
       "  <span style=\"float: left;\">show at cmd12.sc:7</span>\n",
       "</div>\n"
      ]
     },
     "metadata": {},
     "output_type": "display_data"
    },
    {
     "data": {
      "text/html": [
       "<div class=\"progress\">\n",
       "  <div class=\"progress-bar\" role=\"progressbar\" style=\"background-color: blue; width: 100%; word-wrap: normal; white-space: nowrap; text-align: center; color: white\" aria-valuenow=\"100\" aria-valuemin=\"0\" aria-valuemax=\"100\">\n",
       "    15 / 15\n",
       "  </div>\n",
       "  <div class=\"progress-bar\" role=\"progressbar\" style=\"background-color: red; width: 0%\" aria-valuenow=\"0\" aria-valuemin=\"0\" aria-valuemax=\"100\"></div>\n",
       "</div>\n"
      ]
     },
     "metadata": {},
     "output_type": "display_data"
    },
    {
     "data": {
      "text/html": [
       "<div>\n",
       "  <span style=\"float: left;\">show at cmd12.sc:7</span>\n",
       "</div>\n"
      ]
     },
     "metadata": {},
     "output_type": "display_data"
    },
    {
     "data": {
      "text/html": [
       "<div class=\"progress\">\n",
       "  <div class=\"progress-bar\" role=\"progressbar\" style=\"background-color: blue; width: 100%; word-wrap: normal; white-space: nowrap; text-align: center; color: white\" aria-valuenow=\"100\" aria-valuemin=\"0\" aria-valuemax=\"100\">\n",
       "    200 / 200\n",
       "  </div>\n",
       "  <div class=\"progress-bar\" role=\"progressbar\" style=\"background-color: red; width: 0%\" aria-valuenow=\"0\" aria-valuemin=\"0\" aria-valuemax=\"100\"></div>\n",
       "</div>\n"
      ]
     },
     "metadata": {},
     "output_type": "display_data"
    },
    {
     "data": {
      "text/html": [
       "<div>\n",
       "  <span style=\"float: left;\">show at cmd12.sc:7</span>\n",
       "</div>\n"
      ]
     },
     "metadata": {},
     "output_type": "display_data"
    },
    {
     "data": {
      "text/html": [
       "<div class=\"progress\">\n",
       "  <div class=\"progress-bar\" role=\"progressbar\" style=\"background-color: blue; width: 100%; word-wrap: normal; white-space: nowrap; text-align: center; color: white\" aria-valuenow=\"100\" aria-valuemin=\"0\" aria-valuemax=\"100\">\n",
       "    200 / 200\n",
       "  </div>\n",
       "  <div class=\"progress-bar\" role=\"progressbar\" style=\"background-color: red; width: 0%\" aria-valuenow=\"0\" aria-valuemin=\"0\" aria-valuemax=\"100\"></div>\n",
       "</div>\n"
      ]
     },
     "metadata": {},
     "output_type": "display_data"
    },
    {
     "name": "stdout",
     "output_type": "stream",
     "text": [
      "+------+--------------------+--------------+--------------------+\n",
      "|AñoInt|                Tipo| TotalGenerado|Porcentajeredondeado|\n",
      "+------+--------------------+--------------+--------------------+\n",
      "|  2011|Generación renovable| 2.793538222E8|                  31|\n",
      "|  2012|Generación renovable|2.8311864375E8|                  30|\n",
      "|  2013|Generación renovable|2.7328624293E8|                  40|\n",
      "|  2014|Generación renovable|2.6651174852E8|                  40|\n",
      "|  2015|Generación renovable|2.6745384916E8|                  35|\n",
      "|  2016|Generación renovable| 2.618356915E8|                  38|\n",
      "|  2017|Generación renovable|2.6230575812E8|                  32|\n",
      "|  2018|Generación renovable|2.6098190204E8|                  38|\n",
      "|  2019|Generación renovable|2.6082883656E8|                  37|\n",
      "|  2020|Generación renovable|2.5139875006E8|                  44|\n",
      "|  2021|Generación renovable|2.6001118545E8|                  46|\n",
      "|  2022|Generación renovable|2.7636791677E8|                  42|\n",
      "|  2023|Generación renovable|2.6718413963E8|                  50|\n",
      "|  2024|Generación renovable|2.5319716827E8|                  56|\n",
      "+------+--------------------+--------------+--------------------+\n",
      "\n"
     ]
    },
    {
     "data": {
      "text/plain": [
       "\u001b[36mporcentajeLimpiasAnual\u001b[39m: \u001b[32mDataset\u001b[39m[\u001b[32mRow\u001b[39m] = [AñoInt: int, Tipo: string ... 2 more fields]"
      ]
     },
     "execution_count": 13,
     "metadata": {},
     "output_type": "execute_result"
    }
   ],
   "source": [
    "val porcentajeLimpiasAnual = datosBalanceAnuales\n",
    "    .filter($\"Tipo\" === \"Generación renovable\")\n",
    "    .withColumn(\"PorcentajeRedondeado\", round($\"PorcentajeSobreTotal\", 2).cast(\"Int\"))\n",
    "    .withColumn(\"AñoInt\", year($\"Año\")) // Extraer el año como entero\n",
    "    .select($\"AñoInt\",$\"Tipo\", $\"TotalGenerado\", $\"Porcentajeredondeado\")\n",
    "    .orderBy($\"AñoInt\")\n",
    "porcentajeLimpiasAnual.show()"
   ]
  },
  {
   "cell_type": "code",
   "execution_count": 14,
   "metadata": {},
   "outputs": [
    {
     "data": {
      "text/html": [
       "<div>\n",
       "  <span style=\"float: left;\">collect at cmd13.sc:4</span>\n",
       "</div>\n"
      ]
     },
     "metadata": {},
     "output_type": "display_data"
    },
    {
     "data": {
      "text/html": [
       "<div class=\"progress\">\n",
       "  <div class=\"progress-bar\" role=\"progressbar\" style=\"background-color: blue; width: 100%; word-wrap: normal; white-space: nowrap; text-align: center; color: white\" aria-valuenow=\"100\" aria-valuemin=\"0\" aria-valuemax=\"100\">\n",
       "    15 / 15\n",
       "  </div>\n",
       "  <div class=\"progress-bar\" role=\"progressbar\" style=\"background-color: red; width: 0%\" aria-valuenow=\"0\" aria-valuemin=\"0\" aria-valuemax=\"100\"></div>\n",
       "</div>\n"
      ]
     },
     "metadata": {},
     "output_type": "display_data"
    },
    {
     "data": {
      "text/html": [
       "<div>\n",
       "  <span style=\"float: left;\">collect at cmd13.sc:4</span>\n",
       "</div>\n"
      ]
     },
     "metadata": {},
     "output_type": "display_data"
    },
    {
     "data": {
      "text/html": [
       "<div class=\"progress\">\n",
       "  <div class=\"progress-bar\" role=\"progressbar\" style=\"background-color: blue; width: 100%; word-wrap: normal; white-space: nowrap; text-align: center; color: white\" aria-valuenow=\"100\" aria-valuemin=\"0\" aria-valuemax=\"100\">\n",
       "    200 / 200\n",
       "  </div>\n",
       "  <div class=\"progress-bar\" role=\"progressbar\" style=\"background-color: red; width: 0%\" aria-valuenow=\"0\" aria-valuemin=\"0\" aria-valuemax=\"100\"></div>\n",
       "</div>\n"
      ]
     },
     "metadata": {},
     "output_type": "display_data"
    },
    {
     "data": {
      "text/html": [
       "<div>\n",
       "  <span style=\"float: left;\">collect at cmd13.sc:4</span>\n",
       "</div>\n"
      ]
     },
     "metadata": {},
     "output_type": "display_data"
    },
    {
     "data": {
      "text/html": [
       "<div class=\"progress\">\n",
       "  <div class=\"progress-bar\" role=\"progressbar\" style=\"background-color: blue; width: 100%; word-wrap: normal; white-space: nowrap; text-align: center; color: white\" aria-valuenow=\"100\" aria-valuemin=\"0\" aria-valuemax=\"100\">\n",
       "    200 / 200\n",
       "  </div>\n",
       "  <div class=\"progress-bar\" role=\"progressbar\" style=\"background-color: red; width: 0%\" aria-valuenow=\"0\" aria-valuemin=\"0\" aria-valuemax=\"100\"></div>\n",
       "</div>\n"
      ]
     },
     "metadata": {},
     "output_type": "display_data"
    },
    {
     "data": {
      "text/html": [
       "<div>\n",
       "  <span style=\"float: left;\">collect at cmd13.sc:4</span>\n",
       "</div>\n"
      ]
     },
     "metadata": {},
     "output_type": "display_data"
    },
    {
     "data": {
      "text/html": [
       "<div class=\"progress\">\n",
       "  <div class=\"progress-bar\" role=\"progressbar\" style=\"background-color: blue; width: 100%; word-wrap: normal; white-space: nowrap; text-align: center; color: white\" aria-valuenow=\"100\" aria-valuemin=\"0\" aria-valuemax=\"100\">\n",
       "    14 / 14\n",
       "  </div>\n",
       "  <div class=\"progress-bar\" role=\"progressbar\" style=\"background-color: red; width: 0%\" aria-valuenow=\"0\" aria-valuemin=\"0\" aria-valuemax=\"100\"></div>\n",
       "</div>\n"
      ]
     },
     "metadata": {},
     "output_type": "display_data"
    },
    {
     "data": {
      "text/html": [
       "<div>\n",
       "  <span style=\"float: left;\">collect at cmd13.sc:11</span>\n",
       "</div>\n"
      ]
     },
     "metadata": {},
     "output_type": "display_data"
    },
    {
     "data": {
      "text/html": [
       "<div class=\"progress\">\n",
       "  <div class=\"progress-bar\" role=\"progressbar\" style=\"background-color: blue; width: 100%; word-wrap: normal; white-space: nowrap; text-align: center; color: white\" aria-valuenow=\"100\" aria-valuemin=\"0\" aria-valuemax=\"100\">\n",
       "    15 / 15\n",
       "  </div>\n",
       "  <div class=\"progress-bar\" role=\"progressbar\" style=\"background-color: red; width: 0%\" aria-valuenow=\"0\" aria-valuemin=\"0\" aria-valuemax=\"100\"></div>\n",
       "</div>\n"
      ]
     },
     "metadata": {},
     "output_type": "display_data"
    },
    {
     "data": {
      "text/html": [
       "<div>\n",
       "  <span style=\"float: left;\">collect at cmd13.sc:11</span>\n",
       "</div>\n"
      ]
     },
     "metadata": {},
     "output_type": "display_data"
    },
    {
     "data": {
      "text/html": [
       "<div class=\"progress\">\n",
       "  <div class=\"progress-bar\" role=\"progressbar\" style=\"background-color: blue; width: 100%; word-wrap: normal; white-space: nowrap; text-align: center; color: white\" aria-valuenow=\"100\" aria-valuemin=\"0\" aria-valuemax=\"100\">\n",
       "    200 / 200\n",
       "  </div>\n",
       "  <div class=\"progress-bar\" role=\"progressbar\" style=\"background-color: red; width: 0%\" aria-valuenow=\"0\" aria-valuemin=\"0\" aria-valuemax=\"100\"></div>\n",
       "</div>\n"
      ]
     },
     "metadata": {},
     "output_type": "display_data"
    },
    {
     "data": {
      "text/html": [
       "<div>\n",
       "  <span style=\"float: left;\">collect at cmd13.sc:11</span>\n",
       "</div>\n"
      ]
     },
     "metadata": {},
     "output_type": "display_data"
    },
    {
     "data": {
      "text/html": [
       "<div class=\"progress\">\n",
       "  <div class=\"progress-bar\" role=\"progressbar\" style=\"background-color: blue; width: 100%; word-wrap: normal; white-space: nowrap; text-align: center; color: white\" aria-valuenow=\"100\" aria-valuemin=\"0\" aria-valuemax=\"100\">\n",
       "    200 / 200\n",
       "  </div>\n",
       "  <div class=\"progress-bar\" role=\"progressbar\" style=\"background-color: red; width: 0%\" aria-valuenow=\"0\" aria-valuemin=\"0\" aria-valuemax=\"100\"></div>\n",
       "</div>\n"
      ]
     },
     "metadata": {},
     "output_type": "display_data"
    },
    {
     "data": {
      "text/html": [
       "<div>\n",
       "  <span style=\"float: left;\">collect at cmd13.sc:11</span>\n",
       "</div>\n"
      ]
     },
     "metadata": {},
     "output_type": "display_data"
    },
    {
     "data": {
      "text/html": [
       "<div class=\"progress\">\n",
       "  <div class=\"progress-bar\" role=\"progressbar\" style=\"background-color: blue; width: 100%; word-wrap: normal; white-space: nowrap; text-align: center; color: white\" aria-valuenow=\"100\" aria-valuemin=\"0\" aria-valuemax=\"100\">\n",
       "    200 / 200\n",
       "  </div>\n",
       "  <div class=\"progress-bar\" role=\"progressbar\" style=\"background-color: red; width: 0%\" aria-valuenow=\"0\" aria-valuemin=\"0\" aria-valuemax=\"100\"></div>\n",
       "</div>\n"
      ]
     },
     "metadata": {},
     "output_type": "display_data"
    },
    {
     "data": {
      "text/plain": [
       "\u001b[36maños\u001b[39m: \u001b[32mSeq\u001b[39m[\u001b[32mInt\u001b[39m] = \u001b[33mWrappedArray\u001b[39m(\n",
       "  \u001b[32m2011\u001b[39m,\n",
       "  \u001b[32m2012\u001b[39m,\n",
       "  \u001b[32m2013\u001b[39m,\n",
       "  \u001b[32m2014\u001b[39m,\n",
       "  \u001b[32m2015\u001b[39m,\n",
       "  \u001b[32m2016\u001b[39m,\n",
       "  \u001b[32m2017\u001b[39m,\n",
       "  \u001b[32m2018\u001b[39m,\n",
       "  \u001b[32m2019\u001b[39m,\n",
       "  \u001b[32m2020\u001b[39m,\n",
       "  \u001b[32m2021\u001b[39m,\n",
       "  \u001b[32m2022\u001b[39m,\n",
       "  \u001b[32m2023\u001b[39m,\n",
       "  \u001b[32m2024\u001b[39m\n",
       ")\n",
       "\u001b[36mrenovables\u001b[39m: \u001b[32mSeq\u001b[39m[\u001b[32mInt\u001b[39m] = \u001b[33mWrappedArray\u001b[39m(\n",
       "  \u001b[32m31\u001b[39m,\n",
       "  \u001b[32m30\u001b[39m,\n",
       "  \u001b[32m40\u001b[39m,\n",
       "  \u001b[32m40\u001b[39m,\n",
       "  \u001b[32m35\u001b[39m,\n",
       "  \u001b[32m38\u001b[39m,\n",
       "  \u001b[32m32\u001b[39m,\n",
       "  \u001b[32m38\u001b[39m,\n",
       "  \u001b[32m37\u001b[39m,\n",
       "  \u001b[32m44\u001b[39m,\n",
       "  \u001b[32m46\u001b[39m,\n",
       "  \u001b[32m42\u001b[39m,\n",
       "  \u001b[32m50\u001b[39m,\n",
       "  \u001b[32m56\u001b[39m\n",
       ")"
      ]
     },
     "execution_count": 14,
     "metadata": {},
     "output_type": "execute_result"
    }
   ],
   "source": [
    "// Extraer la variable años\n",
    "val años = porcentajeLimpiasAnual\n",
    "   // Filtrar solo \"Generación renovable\"\n",
    "  .select($\"AñoInt\") // Seleccionar la columna Año\n",
    "  .as[Int] // Convertir directamente a Int\n",
    "  .collect() // Recolectar los datos en el driver\n",
    "  .toSeq // Convertir a Seq\n",
    "\n",
    "// Extraer la variable renovables como Int\n",
    "val renovables = porcentajeLimpiasAnual // Filtrar solo \"Generación renovable\"\n",
    "  .select($\"Porcentajeredondeado\") // Seleccionar la columna Porcentajeredondeado\n",
    "  .as[Int] // Forzar la conversión a Int\n",
    "  .collect() // Recolectar los datos en el driver\n",
    "  .toSeq // Convertir a Seq"
   ]
  },
  {
   "cell_type": "code",
   "execution_count": 52,
   "metadata": {},
   "outputs": [
    {
     "data": {
      "application/vnd.plotly.v1+json": {
       "data": [
        {
         "name": "Porcentaje Renovable",
         "type": "scatter",
         "x": [
          2011,
          2012,
          2013,
          2014,
          2015,
          2016,
          2017,
          2018,
          2019,
          2020,
          2021,
          2022,
          2023,
          2024
         ],
         "y": [
          31,
          30,
          40,
          40,
          35,
          38,
          32,
          38,
          37,
          44,
          46,
          42,
          50,
          56
         ]
        }
       ],
       "layout": {
        "autosize": true,
        "title": {
         "text": "Porcentaje de Generación Renovable (2011-2024)"
        },
        "xaxis": {
         "autorange": true,
         "range": [
          2010.235354010025,
          2024.764645989975
         ],
         "title": {
          "text": "Año"
         },
         "type": "linear"
        },
        "yaxis": {
         "autorange": true,
         "range": [
          28.095541401273884,
          57.904458598726116
         ],
         "title": {
          "text": "Porcentaje Renovable (%)"
         },
         "type": "linear"
        }
       }
      },
      "image/png": "[encoded data removed]",
      "text/html": [
       "<div class=\"chart\" id=\"plot-1d27be1b-b85a-4608-940c-fb26232e93b0\"></div>\n",
       "<script>require(['plotly'], function(Plotly) {\n",
       "  (function () {\n",
       "  var data0 = {\"x\":[2011.0,2012.0,2013.0,2014.0,2015.0,2016.0,2017.0,2018.0,2019.0,2020.0,2021.0,2022.0,2023.0,2024.0],\"name\":\"Porcentaje Renovable\",\"y\":[31.0,30.0,40.0,40.0,35.0,38.0,32.0,38.0,37.0,44.0,46.0,42.0,50.0,56.0],\"type\":\"scatter\"};\n",
       "\n",
       "  var data = [data0];\n",
       "  var layout = {\"title\":\"Porcentaje de Generación Renovable (2011-2024)\",\"yaxis\":{\"title\":\"Porcentaje Renovable (%)\"},\"xaxis\":{\"title\":\"Año\"}};\n",
       "\n",
       "  Plotly.plot('plot-1d27be1b-b85a-4608-940c-fb26232e93b0', data, layout);\n",
       "})();\n",
       "});\n",
       "      </script>\n",
       "           "
      ]
     },
     "metadata": {},
     "output_type": "display_data"
    },
    {
     "data": {
      "text/plain": [
       "\u001b[36mtraceRenovables\u001b[39m: \u001b[32mScatter\u001b[39m = \u001b[33mScatter\u001b[39m(\n",
       "  \u001b[33mSome\u001b[39m(\n",
       "    \u001b[33mDoubles\u001b[39m(\n",
       "      \u001b[33mArrayBuffer\u001b[39m(\n",
       "        \u001b[32m2011.0\u001b[39m,\n",
       "        \u001b[32m2012.0\u001b[39m,\n",
       "        \u001b[32m2013.0\u001b[39m,\n",
       "        \u001b[32m2014.0\u001b[39m,\n",
       "        \u001b[32m2015.0\u001b[39m,\n",
       "        \u001b[32m2016.0\u001b[39m,\n",
       "        \u001b[32m2017.0\u001b[39m,\n",
       "        \u001b[32m2018.0\u001b[39m,\n",
       "        \u001b[32m2019.0\u001b[39m,\n",
       "        \u001b[32m2020.0\u001b[39m,\n",
       "        \u001b[32m2021.0\u001b[39m,\n",
       "        \u001b[32m2022.0\u001b[39m,\n",
       "        \u001b[32m2023.0\u001b[39m,\n",
       "        \u001b[32m2024.0\u001b[39m\n",
       "      )\n",
       "    )\n",
       "  ),\n",
       "  \u001b[33mSome\u001b[39m(\n",
       "    \u001b[33mDoubles\u001b[39m(\n",
       "      \u001b[33mArrayBuffer\u001b[39m(\n",
       "        \u001b[32m31.0\u001b[39m,\n",
       "        \u001b[32m30.0\u001b[39m,\n",
       "        \u001b[32m40.0\u001b[39m,\n",
       "        \u001b[32m40.0\u001b[39m,\n",
       "        \u001b[32m35.0\u001b[39m,\n",
       "        \u001b[32m38.0\u001b[39m,\n",
       "        \u001b[32m32.0\u001b[39m,\n",
       "        \u001b[32m38.0\u001b[39m,\n",
       "        \u001b[32m37.0\u001b[39m,\n",
       "        \u001b[32m44.0\u001b[39m,\n",
       "        \u001b[32m46.0\u001b[39m,\n",
       "        \u001b[32m42.0\u001b[39m,\n",
       "        \u001b[32m50.0\u001b[39m,\n",
       "        \u001b[32m56.0\u001b[39m\n",
       "      )\n",
       "...\n",
       "\u001b[36mlayout\u001b[39m: \u001b[32mLayout\u001b[39m = \u001b[33mLayout\u001b[39m(\n",
       "  \u001b[33mSome\u001b[39m(\u001b[32m\"Porcentaje de Generaci\\u00f3n Renovable (2011-2024)\"\u001b[39m),\n",
       "  \u001b[32mNone\u001b[39m,\n",
       "  \u001b[32mNone\u001b[39m,\n",
       "  \u001b[32mNone\u001b[39m,\n",
       "  \u001b[32mNone\u001b[39m,\n",
       "  \u001b[33mSome\u001b[39m(\n",
       "    \u001b[33mAxis\u001b[39m(\n",
       "      \u001b[33mSome\u001b[39m(\u001b[32m\"A\\u00f1o\"\u001b[39m),\n",
       "      \u001b[32mNone\u001b[39m,\n",
       "      \u001b[32mNone\u001b[39m,\n",
       "      \u001b[32mNone\u001b[39m,\n",
       "      \u001b[32mNone\u001b[39m,\n",
       "      \u001b[32mNone\u001b[39m,\n",
       "      \u001b[32mNone\u001b[39m,\n",
       "      \u001b[32mNone\u001b[39m,\n",
       "      \u001b[32mNone\u001b[39m,\n",
       "      \u001b[32mNone\u001b[39m,\n",
       "      \u001b[32mNone\u001b[39m,\n",
       "      \u001b[32mNone\u001b[39m,\n",
       "      \u001b[32mNone\u001b[39m,\n",
       "      \u001b[32mNone\u001b[39m,\n",
       "      \u001b[32mNone\u001b[39m,\n",
       "      \u001b[32mNone\u001b[39m,\n",
       "      \u001b[32mNone\u001b[39m,\n",
       "      \u001b[32mNone\u001b[39m,\n",
       "      \u001b[32mNone\u001b[39m,\n",
       "      \u001b[32mNone\u001b[39m,\n",
       "      \u001b[32mNone\u001b[39m,\n",
       "      \u001b[32mNone\u001b[39m,\n",
       "      \u001b[32mNone\u001b[39m,\n",
       "      \u001b[32mNone\u001b[39m,\n",
       "      \u001b[32mNone\u001b[39m,\n",
       "      \u001b[32mNone\u001b[39m,\n",
       "      \u001b[32mNone\u001b[39m,\n",
       "      \u001b[32mNone\u001b[39m,\n",
       "      \u001b[32mNone\u001b[39m,\n",
       "      \u001b[32mNone\u001b[39m,\n",
       "      \u001b[32mNone\u001b[39m,\n",
       "...\n",
       "\u001b[36mdata\u001b[39m: \u001b[32mSeq\u001b[39m[\u001b[32mScatter\u001b[39m] = \u001b[33mList\u001b[39m(\n",
       "  \u001b[33mScatter\u001b[39m(\n",
       "    \u001b[33mSome\u001b[39m(\n",
       "      \u001b[33mDoubles\u001b[39m(\n",
       "        \u001b[33mArrayBuffer\u001b[39m(\n",
       "          \u001b[32m2011.0\u001b[39m,\n",
       "          \u001b[32m2012.0\u001b[39m,\n",
       "          \u001b[32m2013.0\u001b[39m,\n",
       "          \u001b[32m2014.0\u001b[39m,\n",
       "          \u001b[32m2015.0\u001b[39m,\n",
       "          \u001b[32m2016.0\u001b[39m,\n",
       "          \u001b[32m2017.0\u001b[39m,\n",
       "          \u001b[32m2018.0\u001b[39m,\n",
       "          \u001b[32m2019.0\u001b[39m,\n",
       "          \u001b[32m2020.0\u001b[39m,\n",
       "          \u001b[32m2021.0\u001b[39m,\n",
       "          \u001b[32m2022.0\u001b[39m,\n",
       "          \u001b[32m2023.0\u001b[39m,\n",
       "          \u001b[32m2024.0\u001b[39m\n",
       "        )\n",
       "      )\n",
       "    ),\n",
       "    \u001b[33mSome\u001b[39m(\n",
       "      \u001b[33mDoubles\u001b[39m(\n",
       "        \u001b[33mArrayBuffer\u001b[39m(\n",
       "          \u001b[32m31.0\u001b[39m,\n",
       "          \u001b[32m30.0\u001b[39m,\n",
       "          \u001b[32m40.0\u001b[39m,\n",
       "          \u001b[32m40.0\u001b[39m,\n",
       "          \u001b[32m35.0\u001b[39m,\n",
       "          \u001b[32m38.0\u001b[39m,\n",
       "          \u001b[32m32.0\u001b[39m,\n",
       "          \u001b[32m38.0\u001b[39m,\n",
       "          \u001b[32m37.0\u001b[39m,\n",
       "          \u001b[32m44.0\u001b[39m,\n",
       "          \u001b[32m46.0\u001b[39m,\n",
       "          \u001b[32m42.0\u001b[39m,\n",
       "          \u001b[32m50.0\u001b[39m,\n",
       "          \u001b[32m56.0\u001b[39m\n",
       "...\n",
       "\u001b[36mres51_3\u001b[39m: \u001b[32mString\u001b[39m = \u001b[32m\"plot-1d27be1b-b85a-4608-940c-fb26232e93b0\"\u001b[39m"
      ]
     },
     "execution_count": 52,
     "metadata": {},
     "output_type": "execute_result"
    }
   ],
   "source": [
    "// Crear el Scatter para la gráfica lineal\n",
    "val traceRenovables = Scatter(\n",
    "  años, \n",
    "  renovables, \n",
    "  //mode = ScatterMode(ScatterMode.Lines + ScatterMode.Markers), // Gráfica con líneas y puntos\n",
    "  name = \"Porcentaje Renovable\"\n",
    ")\n",
    "\n",
    "// Configuración del Layout\n",
    "val layout = Layout(\n",
    "  title = \"Porcentaje de Generación Renovable (2011-2024)\",\n",
    "  xaxis = Axis(title = \"Año\"),\n",
    "  yaxis = Axis(\n",
    "      title = \"Porcentaje Renovable (%)\"\n",
    "  )\n",
    "    \n",
    "\n",
    ")\n",
    "\n",
    "// Graficar\n",
    "val data = Seq(traceRenovables)\n",
    "plot(data,layout)"
   ]
  },
  {
   "cell_type": "code",
   "execution_count": 48,
   "metadata": {},
   "outputs": [
    {
     "data": {
      "application/vnd.plotly.v1+json": {
       "data": [
        {
         "marker": {
          "color": "rgb(44, 160, 101)",
          "size": [
           51,
           50,
           60,
           60,
           55,
           58,
           52,
           58,
           57,
           64,
           66,
           62,
           70,
           76
          ]
         },
         "mode": "markers",
         "type": "scatter",
         "x": [
          2011,
          2012,
          2013,
          2014,
          2015,
          2016,
          2017,
          2018,
          2019,
          2020,
          2021,
          2022,
          2023,
          2024
         ],
         "y": [
          31,
          30,
          40,
          40,
          35,
          38,
          32,
          38,
          37,
          44,
          46,
          42,
          50,
          56
         ]
        }
       ],
       "layout": {
        "height": 400,
        "showlegend": false,
        "title": {
         "text": "Porcentaje de Generación Renovable (2011-2014)"
        },
        "width": 1500,
        "xaxis": {
         "autorange": true,
         "range": [
          2009.859092422057,
          2025.3212027072007
         ],
         "tickvals": [
          2011,
          2012,
          2013,
          2014,
          2015,
          2016,
          2017,
          2018,
          2019,
          2020,
          2021,
          2022,
          2023,
          2024
         ],
         "title": {
          "text": "Año"
         },
         "type": "linear"
        },
        "yaxis": {
         "range": [
          1,
          100
         ],
         "title": {
          "text": "Porcentaje Renovable (%)"
         },
         "type": "linear"
        }
       }
      },
      "image/png": "[encoded data removed]",
      "text/html": [
       "<div class=\"chart\" id=\"plot-5d18770b-d24e-4a90-9e8b-483dda9ba98e\"></div>\n",
       "<script>require(['plotly'], function(Plotly) {\n",
       "  (function () {\n",
       "  var data0 = {\"x\":[2011.0,2012.0,2013.0,2014.0,2015.0,2016.0,2017.0,2018.0,2019.0,2020.0,2021.0,2022.0,2023.0,2024.0],\"y\":[31.0,30.0,40.0,40.0,35.0,38.0,32.0,38.0,37.0,44.0,46.0,42.0,50.0,56.0],\"marker\":{\"size\":[51,50,60,60,55,58,52,58,57,64,66,62,70,76],\"color\":\"rgb(44, 160, 101)\"},\"mode\":\"markers\",\"type\":\"scatter\"};\n",
       "\n",
       "  var data = [data0];\n",
       "  var layout = {\"height\":400,\"title\":\"Porcentaje de Generación Renovable (2011-2014)\",\"yaxis\":{\"range\":[1.0,100.0],\"title\":\"Porcentaje Renovable (%)\"},\"xaxis\":{\"tickvals\":[2011.0,2012.0,2013.0,2014.0,2015.0,2016.0,2017.0,2018.0,2019.0,2020.0,2021.0,2022.0,2023.0,2024.0],\"title\":\"Año\"},\"width\":1500,\"showlegend\":false};\n",
       "\n",
       "  Plotly.plot('plot-5d18770b-d24e-4a90-9e8b-483dda9ba98e', data, layout);\n",
       "})();\n",
       "});\n",
       "      </script>\n",
       "           "
      ]
     },
     "metadata": {},
     "output_type": "display_data"
    },
    {
     "data": {
      "text/plain": [
       "\u001b[36mtrace1\u001b[39m: \u001b[32mScatter\u001b[39m = \u001b[33mScatter\u001b[39m(\n",
       "  \u001b[33mSome\u001b[39m(\n",
       "    \u001b[33mDoubles\u001b[39m(\n",
       "      \u001b[33mArrayBuffer\u001b[39m(\n",
       "        \u001b[32m2011.0\u001b[39m,\n",
       "        \u001b[32m2012.0\u001b[39m,\n",
       "        \u001b[32m2013.0\u001b[39m,\n",
       "        \u001b[32m2014.0\u001b[39m,\n",
       "        \u001b[32m2015.0\u001b[39m,\n",
       "        \u001b[32m2016.0\u001b[39m,\n",
       "        \u001b[32m2017.0\u001b[39m,\n",
       "        \u001b[32m2018.0\u001b[39m,\n",
       "        \u001b[32m2019.0\u001b[39m,\n",
       "        \u001b[32m2020.0\u001b[39m,\n",
       "        \u001b[32m2021.0\u001b[39m,\n",
       "        \u001b[32m2022.0\u001b[39m,\n",
       "        \u001b[32m2023.0\u001b[39m,\n",
       "        \u001b[32m2024.0\u001b[39m\n",
       "      )\n",
       "    )\n",
       "  ),\n",
       "  \u001b[33mSome\u001b[39m(\n",
       "    \u001b[33mDoubles\u001b[39m(\n",
       "      \u001b[33mArrayBuffer\u001b[39m(\n",
       "        \u001b[32m31.0\u001b[39m,\n",
       "        \u001b[32m30.0\u001b[39m,\n",
       "        \u001b[32m40.0\u001b[39m,\n",
       "        \u001b[32m40.0\u001b[39m,\n",
       "        \u001b[32m35.0\u001b[39m,\n",
       "        \u001b[32m38.0\u001b[39m,\n",
       "        \u001b[32m32.0\u001b[39m,\n",
       "        \u001b[32m38.0\u001b[39m,\n",
       "        \u001b[32m37.0\u001b[39m,\n",
       "        \u001b[32m44.0\u001b[39m,\n",
       "        \u001b[32m46.0\u001b[39m,\n",
       "        \u001b[32m42.0\u001b[39m,\n",
       "        \u001b[32m50.0\u001b[39m,\n",
       "        \u001b[32m56.0\u001b[39m\n",
       "      )\n",
       "...\n",
       "\u001b[36mdata\u001b[39m: \u001b[32mSeq\u001b[39m[\u001b[32mScatter\u001b[39m] = \u001b[33mList\u001b[39m(\n",
       "  \u001b[33mScatter\u001b[39m(\n",
       "    \u001b[33mSome\u001b[39m(\n",
       "      \u001b[33mDoubles\u001b[39m(\n",
       "        \u001b[33mArrayBuffer\u001b[39m(\n",
       "          \u001b[32m2011.0\u001b[39m,\n",
       "          \u001b[32m2012.0\u001b[39m,\n",
       "          \u001b[32m2013.0\u001b[39m,\n",
       "          \u001b[32m2014.0\u001b[39m,\n",
       "          \u001b[32m2015.0\u001b[39m,\n",
       "          \u001b[32m2016.0\u001b[39m,\n",
       "          \u001b[32m2017.0\u001b[39m,\n",
       "          \u001b[32m2018.0\u001b[39m,\n",
       "          \u001b[32m2019.0\u001b[39m,\n",
       "          \u001b[32m2020.0\u001b[39m,\n",
       "          \u001b[32m2021.0\u001b[39m,\n",
       "          \u001b[32m2022.0\u001b[39m,\n",
       "          \u001b[32m2023.0\u001b[39m,\n",
       "          \u001b[32m2024.0\u001b[39m\n",
       "        )\n",
       "      )\n",
       "    ),\n",
       "    \u001b[33mSome\u001b[39m(\n",
       "      \u001b[33mDoubles\u001b[39m(\n",
       "        \u001b[33mArrayBuffer\u001b[39m(\n",
       "          \u001b[32m31.0\u001b[39m,\n",
       "          \u001b[32m30.0\u001b[39m,\n",
       "          \u001b[32m40.0\u001b[39m,\n",
       "          \u001b[32m40.0\u001b[39m,\n",
       "          \u001b[32m35.0\u001b[39m,\n",
       "          \u001b[32m38.0\u001b[39m,\n",
       "          \u001b[32m32.0\u001b[39m,\n",
       "          \u001b[32m38.0\u001b[39m,\n",
       "          \u001b[32m37.0\u001b[39m,\n",
       "          \u001b[32m44.0\u001b[39m,\n",
       "          \u001b[32m46.0\u001b[39m,\n",
       "          \u001b[32m42.0\u001b[39m,\n",
       "          \u001b[32m50.0\u001b[39m,\n",
       "          \u001b[32m56.0\u001b[39m\n",
       "...\n",
       "\u001b[36mlayout\u001b[39m: \u001b[32mLayout\u001b[39m = \u001b[33mLayout\u001b[39m(\n",
       "  \u001b[33mSome\u001b[39m(\u001b[32m\"Porcentaje de Generaci\\u00f3n Renovable (2011-2014)\"\u001b[39m),\n",
       "  \u001b[32mNone\u001b[39m,\n",
       "  \u001b[33mSome\u001b[39m(\u001b[32m1500\u001b[39m),\n",
       "  \u001b[33mSome\u001b[39m(\u001b[32m400\u001b[39m),\n",
       "  \u001b[33mSome\u001b[39m(false),\n",
       "  \u001b[33mSome\u001b[39m(\n",
       "    \u001b[33mAxis\u001b[39m(\n",
       "      \u001b[33mSome\u001b[39m(\u001b[32m\"A\\u00f1o\"\u001b[39m),\n",
       "      \u001b[32mNone\u001b[39m,\n",
       "      \u001b[32mNone\u001b[39m,\n",
       "      \u001b[32mNone\u001b[39m,\n",
       "      \u001b[32mNone\u001b[39m,\n",
       "      \u001b[32mNone\u001b[39m,\n",
       "      \u001b[32mNone\u001b[39m,\n",
       "      \u001b[32mNone\u001b[39m,\n",
       "      \u001b[32mNone\u001b[39m,\n",
       "      \u001b[32mNone\u001b[39m,\n",
       "      \u001b[32mNone\u001b[39m,\n",
       "      \u001b[32mNone\u001b[39m,\n",
       "      \u001b[32mNone\u001b[39m,\n",
       "      \u001b[32mNone\u001b[39m,\n",
       "      \u001b[32mNone\u001b[39m,\n",
       "      \u001b[32mNone\u001b[39m,\n",
       "      \u001b[32mNone\u001b[39m,\n",
       "      \u001b[32mNone\u001b[39m,\n",
       "      \u001b[32mNone\u001b[39m,\n",
       "      \u001b[32mNone\u001b[39m,\n",
       "      \u001b[32mNone\u001b[39m,\n",
       "      \u001b[32mNone\u001b[39m,\n",
       "      \u001b[32mNone\u001b[39m,\n",
       "      \u001b[32mNone\u001b[39m,\n",
       "      \u001b[32mNone\u001b[39m,\n",
       "      \u001b[32mNone\u001b[39m,\n",
       "      \u001b[32mNone\u001b[39m,\n",
       "      \u001b[32mNone\u001b[39m,\n",
       "      \u001b[32mNone\u001b[39m,\n",
       "      \u001b[33mSome\u001b[39m(\n",
       "        \u001b[33mDoubles\u001b[39m(\n",
       "...\n",
       "\u001b[36mres47_3\u001b[39m: \u001b[32mString\u001b[39m = \u001b[32m\"plot-5d18770b-d24e-4a90-9e8b-483dda9ba98e\"\u001b[39m"
      ]
     },
     "execution_count": 48,
     "metadata": {},
     "output_type": "execute_result"
    }
   ],
   "source": [
    "val trace1 = Scatter(\n",
    "  años,\n",
    "  renovables,\n",
    "  mode = ScatterMode(ScatterMode.Markers),\n",
    "  marker = Marker(\n",
    "    color = Color.RGB(44, 160, 101),\n",
    "    size = renovables.map(_ + 20)\n",
    "  )\n",
    ")\n",
    "\n",
    "val data = Seq(trace1)\n",
    "\n",
    "val layout = Layout(\n",
    "  title = \"Porcentaje de Generación Renovable (2011-2014)\",\n",
    "  xaxis = Axis(\n",
    "    title = \"Año\",\n",
    "    tickvals = años\n",
    "  ), // Título del eje X\n",
    "  yaxis = Axis(\n",
    "    title = \"Porcentaje Renovable (%)\", // Título del eje Y\n",
    "    range = (1.0, 100.0) // Fijar el rango del eje Y de 1 a 100 como un par de Doubles\n",
    "  ),\n",
    "  showlegend = false, // Ocultar leyenda\n",
    "  height = 400, // Altura del gráfico\n",
    "  width = 1500 // Anchura del gráfico\n",
    ")\n",
    "\n",
    "\n",
    "plot(data, layout)\n"
   ]
  },
  {
   "cell_type": "code",
   "execution_count": null,
   "metadata": {},
   "outputs": [],
   "source": [
    "\n"
   ]
  },
  {
   "cell_type": "code",
   "execution_count": null,
   "metadata": {},
   "outputs": [],
   "source": []
  },
  {
   "cell_type": "code",
   "execution_count": null,
   "metadata": {},
   "outputs": [],
   "source": []
  },
  {
   "cell_type": "code",
   "execution_count": null,
   "metadata": {},
   "outputs": [],
   "source": []
  }
 ],
 "metadata": {
  "kernelspec": {
   "display_name": "Scala 2.12",
   "language": "scala",
   "name": "scala212"
  },
  "language_info": {
   "codemirror_mode": "text/x-scala",
   "file_extension": ".scala",
   "mimetype": "text/x-scala",
   "name": "scala",
   "nbconvert_exporter": "script",
   "version": "2.12.10"
  }
 },
 "nbformat": 4,
 "nbformat_minor": 4
}
