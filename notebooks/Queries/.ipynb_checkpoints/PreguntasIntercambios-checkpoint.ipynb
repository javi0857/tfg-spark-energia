{
 "cells": [
  {
   "cell_type": "code",
   "execution_count": 1,
   "metadata": {},
   "outputs": [
    {
     "name": "stdout",
     "output_type": "stream",
     "text": [
      "Loading spark-stubs\n",
      "Getting spark JARs\n",
      "Creating SparkSession\n"
     ]
    },
    {
     "name": "stderr",
     "output_type": "stream",
     "text": [
      "Using Spark's default log4j profile: org/apache/spark/log4j-defaults.properties\n"
     ]
    },
    {
     "data": {
      "text/html": [
       "<a href=\"http://613db4b2bb04:4040\">Spark UI</a>"
      ]
     },
     "metadata": {},
     "output_type": "display_data"
    },
    {
     "data": {
      "text/plain": [
       "\u001b[32mimport \u001b[39m\u001b[36m$ivy.$                                  \n",
       "\n",
       "\n",
       "\u001b[39m\n",
       "\u001b[32mimport \u001b[39m\u001b[36morg.apache.spark.sql._\n",
       "\u001b[39m\n",
       "\u001b[32mimport \u001b[39m\u001b[36morg.apache.spark.sql.functions._\n",
       "\n",
       "\n",
       "//Reducir numero logs\n",
       "\u001b[39m\n",
       "\u001b[32mimport \u001b[39m\u001b[36morg.apache.log4j.{Level, Logger}\n",
       "\u001b[39m\n",
       "\u001b[32mimport \u001b[39m\u001b[36m$ivy.$                               \n",
       "\n",
       "//Plotly\n",
       "\u001b[39m\n",
       "\u001b[32mimport \u001b[39m\u001b[36m$ivy.$                                      \n",
       "\u001b[39m\n",
       "\u001b[32mimport \u001b[39m\u001b[36mplotly._, plotly.element._, plotly.layout._, plotly.Almond._\n",
       "\n",
       "\n",
       "//Iniciamos session de Spark\n",
       "\u001b[39m\n",
       "\u001b[36mspark\u001b[39m: \u001b[32mSparkSession\u001b[39m = org.apache.spark.sql.SparkSession@1961fe59\n",
       "\u001b[32mimport \u001b[39m\u001b[36mspark.implicits._\u001b[39m"
      ]
     },
     "execution_count": 1,
     "metadata": {},
     "output_type": "execute_result"
    }
   ],
   "source": [
    "import $ivy.`org.apache.spark::spark-sql:2.4.3`\n",
    "\n",
    "\n",
    "import org.apache.spark.sql._\n",
    "import org.apache.spark.sql.functions._\n",
    "\n",
    "\n",
    "//Reducir numero logs\n",
    "import org.apache.log4j.{Level, Logger}\n",
    "Logger.getLogger(\"org\").setLevel(Level.OFF)\n",
    "\n",
    "\n",
    "//For adding extra dependenies\n",
    "import $ivy.`org.typelevel::cats-core:1.6.0`\n",
    "\n",
    "//Plotly\n",
    "import $ivy.`org.plotly-scala::plotly-almond:0.7.1`\n",
    "import plotly._, plotly.element._, plotly.layout._, plotly.Almond._\n",
    "\n",
    "\n",
    "//Iniciamos session de Spark\n",
    "val spark = {\n",
    "  NotebookSparkSession.builder()\n",
    "     .master(\"local[*]\")\n",
    "    .config(\"spark.executor.instances\", \"4\") // Número de ejecutores\n",
    "    .config(\"spark.executor.memory\", \"4g\") // Memoria por ejecutor\n",
    "    .config(\"spark.executor.cores\", \"2\") // Núcleos por ejecutor\n",
    "    .config(\"spark.driver.memory\", \"4g\") // Memoria del driver\n",
    "    .config(\"spark.sql.shuffle.partitions\", \"8\") // Número de particiones para operaciones de shuffle\n",
    "    .getOrCreate()\n",
    "}\n",
    "import spark.implicits._"
   ]
  },
  {
   "cell_type": "code",
   "execution_count": 2,
   "metadata": {},
   "outputs": [
    {
     "data": {
      "text/html": [
       "<script>\n",
       "var comm = Jupyter.notebook.kernel.comm_manager.new_comm('cancel-stage-9fd26ff3-b6c4-43a5-bc2c-cf22ea089488', {});\n",
       "\n",
       "function cancelStage(stageId) {\n",
       "  console.log('Cancelling stage ' + stageId);\n",
       "  comm.send({ 'stageId': stageId });\n",
       "}\n",
       "</script>\n",
       "          "
      ]
     },
     "metadata": {},
     "output_type": "display_data"
    },
    {
     "data": {
      "text/html": [
       "<div>\n",
       "  <span style=\"float: left;\">parquet at cmd1.sc:6</span>\n",
       "</div>\n"
      ]
     },
     "metadata": {},
     "output_type": "display_data"
    },
    {
     "data": {
      "text/html": [
       "<div class=\"progress\">\n",
       "  <div class=\"progress-bar\" role=\"progressbar\" style=\"background-color: blue; width: 100%; word-wrap: normal; white-space: nowrap; text-align: center; color: white\" aria-valuenow=\"100\" aria-valuemin=\"0\" aria-valuemax=\"100\">\n",
       "    1 / 1\n",
       "  </div>\n",
       "  <div class=\"progress-bar\" role=\"progressbar\" style=\"background-color: red; width: 0%\" aria-valuenow=\"0\" aria-valuemin=\"0\" aria-valuemax=\"100\"></div>\n",
       "</div>\n"
      ]
     },
     "metadata": {},
     "output_type": "display_data"
    },
    {
     "data": {
      "text/plain": [
       "\u001b[36mfilePath\u001b[39m: \u001b[32mString\u001b[39m = \u001b[32m\"../../data/parquet/dsItercambiosFronteras14-24.parquet\"\u001b[39m\n",
       "\u001b[36mdsIntercambios\u001b[39m: \u001b[32mDataFrame\u001b[39m = [Pais: string, TipoIntercambio: string ... 4 more fields]"
      ]
     },
     "execution_count": 2,
     "metadata": {},
     "output_type": "execute_result"
    }
   ],
   "source": [
    "val filePath = \"../../data/parquet/dsItercambiosFronteras14-24.parquet\"         \n",
    "val dsIntercambios: DataFrame = spark.read\n",
    "  //.option(\"header\", \"true\") // Si el archivo tiene un encabezado\n",
    "  //.option(\"inferSchema\", \"true\") // Para inferir automáticamente el esquema\n",
    "  //.csv(filePath)\n",
    "    .parquet(filePath)"
   ]
  },
  {
   "cell_type": "code",
   "execution_count": 3,
   "metadata": {},
   "outputs": [
    {
     "data": {
      "text/html": [
       "<div>\n",
       "  <span style=\"float: left;\">show at cmd2.sc:1</span>\n",
       "</div>\n"
      ]
     },
     "metadata": {},
     "output_type": "display_data"
    },
    {
     "data": {
      "text/html": [
       "<div class=\"progress\">\n",
       "  <div class=\"progress-bar\" role=\"progressbar\" style=\"background-color: blue; width: 100%; word-wrap: normal; white-space: nowrap; text-align: center; color: white\" aria-valuenow=\"100\" aria-valuemin=\"0\" aria-valuemax=\"100\">\n",
       "    1 / 1\n",
       "  </div>\n",
       "  <div class=\"progress-bar\" role=\"progressbar\" style=\"background-color: red; width: 0%\" aria-valuenow=\"0\" aria-valuemin=\"0\" aria-valuemax=\"100\"></div>\n",
       "</div>\n"
      ]
     },
     "metadata": {},
     "output_type": "display_data"
    },
    {
     "name": "stdout",
     "output_type": "stream",
     "text": [
      "+-------+---------------+--------------------+--------------------+--------+-------------------+\n",
      "|   Pais|TipoIntercambio|       FechaCompleta|          Porcentaje|   Valor|              Fecha|\n",
      "+-------+---------------+--------------------+--------------------+--------+-------------------+\n",
      "|francia|    Exportación|2022-01-01T00:00:...|0.040690692391790774| -2873.3|2021-12-31 23:00:00|\n",
      "|francia|    Exportación|2022-01-02T00:00:...| 0.03352963228112584| -2674.3|2022-01-01 23:00:00|\n",
      "|francia|    Exportación|2022-01-03T00:00:...|  0.0789662326013408| -6444.3|2022-01-02 23:00:00|\n",
      "|francia|    Exportación|2022-01-04T00:00:...|  0.7276761833404483|-41761.7|2022-01-03 23:00:00|\n",
      "|francia|    Exportación|2022-01-05T00:00:...|  0.8014993776168383|-42497.1|2022-01-04 23:00:00|\n",
      "|francia|    Exportación|2022-01-06T00:00:...|  0.7308582244652934|-40967.6|2022-01-05 23:00:00|\n",
      "|francia|    Exportación|2022-01-07T00:00:...|  0.5497382537741282|-33982.4|2022-01-06 23:00:00|\n",
      "|francia|    Exportación|2022-01-08T00:00:...|  0.1586140723335776|-10497.0|2022-01-07 23:00:00|\n",
      "|francia|    Exportación|2022-01-09T00:00:...|  0.9295050738441702|-64164.2|2022-01-08 23:00:00|\n",
      "|francia|    Exportación|2022-01-10T00:00:...|  0.8685587806707862|-58234.0|2022-01-09 23:00:00|\n",
      "|francia|    Exportación|2022-01-11T00:00:...|    0.89086786061188|-47967.8|2022-01-10 23:00:00|\n",
      "|francia|    Exportación|2022-01-12T00:00:...|  0.8655472957732309|-53338.4|2022-01-11 23:00:00|\n",
      "|francia|    Exportación|2022-01-13T00:00:...|  0.8687396539972086|-50853.5|2022-01-12 23:00:00|\n",
      "|francia|    Exportación|2022-01-14T00:00:...|   0.906460101811231|-54630.9|2022-01-13 23:00:00|\n",
      "|francia|    Exportación|2022-01-15T00:00:...|   0.540377417165048|-28498.1|2022-01-14 23:00:00|\n",
      "|francia|    Exportación|2022-01-16T00:00:...| 0.40432636039052433|-21833.3|2022-01-15 23:00:00|\n",
      "|francia|    Exportación|2022-01-17T00:00:...|  0.6809015913519938|-31166.5|2022-01-16 23:00:00|\n",
      "|francia|    Exportación|2022-01-18T00:00:...|  0.7110522328500185|-35102.8|2022-01-17 23:00:00|\n",
      "|francia|    Exportación|2022-01-19T00:00:...|  0.6950591957719789|-39980.5|2022-01-18 23:00:00|\n",
      "|francia|    Exportación|2022-01-20T00:00:...|  0.9233986409575385|-53540.5|2022-01-19 23:00:00|\n",
      "+-------+---------------+--------------------+--------------------+--------+-------------------+\n",
      "only showing top 20 rows\n",
      "\n"
     ]
    }
   ],
   "source": [
    "dsIntercambios.show()"
   ]
  },
  {
   "cell_type": "code",
   "execution_count": 15,
   "metadata": {},
   "outputs": [
    {
     "data": {
      "text/html": [
       "<div>\n",
       "  <span style=\"float: left;\">show at cmd14.sc:5</span>\n",
       "</div>\n"
      ]
     },
     "metadata": {},
     "output_type": "display_data"
    },
    {
     "data": {
      "text/html": [
       "<div class=\"progress\">\n",
       "  <div class=\"progress-bar\" role=\"progressbar\" style=\"background-color: blue; width: 100%; word-wrap: normal; white-space: nowrap; text-align: center; color: white\" aria-valuenow=\"100\" aria-valuemin=\"0\" aria-valuemax=\"100\">\n",
       "    12 / 12\n",
       "  </div>\n",
       "  <div class=\"progress-bar\" role=\"progressbar\" style=\"background-color: red; width: 0%\" aria-valuenow=\"0\" aria-valuemin=\"0\" aria-valuemax=\"100\"></div>\n",
       "</div>\n"
      ]
     },
     "metadata": {},
     "output_type": "display_data"
    },
    {
     "data": {
      "text/html": [
       "<div>\n",
       "  <span style=\"float: left;\">show at cmd14.sc:5</span>\n",
       "</div>\n"
      ]
     },
     "metadata": {},
     "output_type": "display_data"
    },
    {
     "data": {
      "text/html": [
       "<div class=\"progress\">\n",
       "  <div class=\"progress-bar\" role=\"progressbar\" style=\"background-color: blue; width: 100%; word-wrap: normal; white-space: nowrap; text-align: center; color: white\" aria-valuenow=\"100\" aria-valuemin=\"0\" aria-valuemax=\"100\">\n",
       "    8 / 8\n",
       "  </div>\n",
       "  <div class=\"progress-bar\" role=\"progressbar\" style=\"background-color: red; width: 0%\" aria-valuenow=\"0\" aria-valuemin=\"0\" aria-valuemax=\"100\"></div>\n",
       "</div>\n"
      ]
     },
     "metadata": {},
     "output_type": "display_data"
    },
    {
     "name": "stdout",
     "output_type": "stream",
     "text": [
      "+----+---------------+--------------------+\n",
      "| Año|TipoIntercambio|          ValorTotal|\n",
      "+----+---------------+--------------------+\n",
      "|2013|    Exportación|            -22491.0|\n",
      "|2014|    Exportación| -2884650.6999999997|\n",
      "|2015|    Exportación| -1979028.2000000002|\n",
      "|2016|    Exportación|  -5486154.499999994|\n",
      "|2017|    Exportación|  -4605353.099999999|\n",
      "|2018|    Exportación| -3867988.6000000006|\n",
      "|2019|    Exportación| -4176284.9999999986|\n",
      "|2020|    Exportación|  -7856427.899999996|\n",
      "|2021|    Exportación|  -8622824.500000002|\n",
      "|2022|    Exportación|-1.53847737580000...|\n",
      "|2023|    Exportación|-1.16264010119999...|\n",
      "|2024|    Exportación|        -1068379.434|\n",
      "|2013|    Importación|              5214.0|\n",
      "|2014|    Importación|   6486299.600000002|\n",
      "|2015|    Importación|   9301541.000000002|\n",
      "|2016|    Importación|1.3308686899999997E7|\n",
      "|2017|    Importación|        1.70447231E7|\n",
      "|2018|    Importación| 1.595512720000001E7|\n",
      "|2019|    Importación|1.3820046900000002E7|\n",
      "|2020|    Importación|1.3039702899999997E7|\n",
      "+----+---------------+--------------------+\n",
      "only showing top 20 rows\n",
      "\n"
     ]
    }
   ],
   "source": [
    "val exportacionFrancia = dsIntercambios\n",
    "    .filter($\"Pais\" === \"francia\")\n",
    "    .groupBy(date_format(col(\"FechaCompleta\"), \"yyyy\").as(\"Año\"), $\"TipoIntercambio\")\n",
    "    .agg(sum(\"Valor\").as(\"ValorTotal\"))\n",
    "    .orderBy($\"TipoIntercambio\", $\"Año\")\n",
    "    .show()"
   ]
  },
  {
   "cell_type": "code",
   "execution_count": 12,
   "metadata": {},
   "outputs": [
    {
     "data": {
      "text/html": [
       "<div>\n",
       "  <span style=\"float: left;\">collect at cmd11.sc:10</span>\n",
       "</div>\n"
      ]
     },
     "metadata": {},
     "output_type": "display_data"
    },
    {
     "data": {
      "text/html": [
       "<div class=\"progress\">\n",
       "  <div class=\"progress-bar\" role=\"progressbar\" style=\"background-color: blue; width: 100%; word-wrap: normal; white-space: nowrap; text-align: center; color: white\" aria-valuenow=\"100\" aria-valuemin=\"0\" aria-valuemax=\"100\">\n",
       "    12 / 12\n",
       "  </div>\n",
       "  <div class=\"progress-bar\" role=\"progressbar\" style=\"background-color: red; width: 0%\" aria-valuenow=\"0\" aria-valuemin=\"0\" aria-valuemax=\"100\"></div>\n",
       "</div>\n"
      ]
     },
     "metadata": {},
     "output_type": "display_data"
    },
    {
     "data": {
      "text/html": [
       "<div>\n",
       "  <span style=\"float: left;\">collect at cmd11.sc:10</span>\n",
       "</div>\n"
      ]
     },
     "metadata": {},
     "output_type": "display_data"
    },
    {
     "data": {
      "text/html": [
       "<div class=\"progress\">\n",
       "  <div class=\"progress-bar\" role=\"progressbar\" style=\"background-color: blue; width: 100%; word-wrap: normal; white-space: nowrap; text-align: center; color: white\" aria-valuenow=\"100\" aria-valuemin=\"0\" aria-valuemax=\"100\">\n",
       "    8 / 8\n",
       "  </div>\n",
       "  <div class=\"progress-bar\" role=\"progressbar\" style=\"background-color: red; width: 0%\" aria-valuenow=\"0\" aria-valuemin=\"0\" aria-valuemax=\"100\"></div>\n",
       "</div>\n"
      ]
     },
     "metadata": {},
     "output_type": "display_data"
    },
    {
     "data": {
      "text/html": [
       "<div>\n",
       "  <span style=\"float: left;\">collect at cmd11.sc:10</span>\n",
       "</div>\n"
      ]
     },
     "metadata": {},
     "output_type": "display_data"
    },
    {
     "data": {
      "text/html": [
       "<div class=\"progress\">\n",
       "  <div class=\"progress-bar\" role=\"progressbar\" style=\"background-color: blue; width: 100%; word-wrap: normal; white-space: nowrap; text-align: center; color: white\" aria-valuenow=\"100\" aria-valuemin=\"0\" aria-valuemax=\"100\">\n",
       "    8 / 8\n",
       "  </div>\n",
       "  <div class=\"progress-bar\" role=\"progressbar\" style=\"background-color: red; width: 0%\" aria-valuenow=\"0\" aria-valuemin=\"0\" aria-valuemax=\"100\"></div>\n",
       "</div>\n"
      ]
     },
     "metadata": {},
     "output_type": "display_data"
    },
    {
     "data": {
      "text/html": [
       "<div>\n",
       "  <span style=\"float: left;\">collect at cmd11.sc:10</span>\n",
       "</div>\n"
      ]
     },
     "metadata": {},
     "output_type": "display_data"
    },
    {
     "data": {
      "text/html": [
       "<div class=\"progress\">\n",
       "  <div class=\"progress-bar\" role=\"progressbar\" style=\"background-color: blue; width: 100%; word-wrap: normal; white-space: nowrap; text-align: center; color: white\" aria-valuenow=\"100\" aria-valuemin=\"0\" aria-valuemax=\"100\">\n",
       "    8 / 8\n",
       "  </div>\n",
       "  <div class=\"progress-bar\" role=\"progressbar\" style=\"background-color: red; width: 0%\" aria-valuenow=\"0\" aria-valuemin=\"0\" aria-valuemax=\"100\"></div>\n",
       "</div>\n"
      ]
     },
     "metadata": {},
     "output_type": "display_data"
    },
    {
     "data": {
      "text/html": [
       "<div>\n",
       "  <span style=\"float: left;\">collect at cmd11.sc:10</span>\n",
       "</div>\n"
      ]
     },
     "metadata": {},
     "output_type": "display_data"
    },
    {
     "data": {
      "text/html": [
       "<div class=\"progress\">\n",
       "  <div class=\"progress-bar\" role=\"progressbar\" style=\"background-color: blue; width: 100%; word-wrap: normal; white-space: nowrap; text-align: center; color: white\" aria-valuenow=\"100\" aria-valuemin=\"0\" aria-valuemax=\"100\">\n",
       "    8 / 8\n",
       "  </div>\n",
       "  <div class=\"progress-bar\" role=\"progressbar\" style=\"background-color: red; width: 0%\" aria-valuenow=\"0\" aria-valuemin=\"0\" aria-valuemax=\"100\"></div>\n",
       "</div>\n"
      ]
     },
     "metadata": {},
     "output_type": "display_data"
    },
    {
     "data": {
      "text/html": [
       "<div>\n",
       "  <span style=\"float: left;\">collect at cmd11.sc:10</span>\n",
       "</div>\n"
      ]
     },
     "metadata": {},
     "output_type": "display_data"
    },
    {
     "data": {
      "text/html": [
       "<div class=\"progress\">\n",
       "  <div class=\"progress-bar\" role=\"progressbar\" style=\"background-color: blue; width: 100%; word-wrap: normal; white-space: nowrap; text-align: center; color: white\" aria-valuenow=\"100\" aria-valuemin=\"0\" aria-valuemax=\"100\">\n",
       "    8 / 8\n",
       "  </div>\n",
       "  <div class=\"progress-bar\" role=\"progressbar\" style=\"background-color: red; width: 0%\" aria-valuenow=\"0\" aria-valuemin=\"0\" aria-valuemax=\"100\"></div>\n",
       "</div>\n"
      ]
     },
     "metadata": {},
     "output_type": "display_data"
    },
    {
     "data": {
      "text/html": [
       "<div>\n",
       "  <span style=\"float: left;\">collect at cmd11.sc:10</span>\n",
       "</div>\n"
      ]
     },
     "metadata": {},
     "output_type": "display_data"
    },
    {
     "data": {
      "text/html": [
       "<div class=\"progress\">\n",
       "  <div class=\"progress-bar\" role=\"progressbar\" style=\"background-color: blue; width: 100%; word-wrap: normal; white-space: nowrap; text-align: center; color: white\" aria-valuenow=\"100\" aria-valuemin=\"0\" aria-valuemax=\"100\">\n",
       "    8 / 8\n",
       "  </div>\n",
       "  <div class=\"progress-bar\" role=\"progressbar\" style=\"background-color: red; width: 0%\" aria-valuenow=\"0\" aria-valuemin=\"0\" aria-valuemax=\"100\"></div>\n",
       "</div>\n"
      ]
     },
     "metadata": {},
     "output_type": "display_data"
    },
    {
     "data": {
      "text/html": [
       "<div>\n",
       "  <span style=\"float: left;\">collect at cmd11.sc:11</span>\n",
       "</div>\n"
      ]
     },
     "metadata": {},
     "output_type": "display_data"
    },
    {
     "data": {
      "text/html": [
       "<div class=\"progress\">\n",
       "  <div class=\"progress-bar\" role=\"progressbar\" style=\"background-color: blue; width: 100%; word-wrap: normal; white-space: nowrap; text-align: center; color: white\" aria-valuenow=\"100\" aria-valuemin=\"0\" aria-valuemax=\"100\">\n",
       "    12 / 12\n",
       "  </div>\n",
       "  <div class=\"progress-bar\" role=\"progressbar\" style=\"background-color: red; width: 0%\" aria-valuenow=\"0\" aria-valuemin=\"0\" aria-valuemax=\"100\"></div>\n",
       "</div>\n"
      ]
     },
     "metadata": {},
     "output_type": "display_data"
    },
    {
     "data": {
      "text/html": [
       "<div>\n",
       "  <span style=\"float: left;\">collect at cmd11.sc:11</span>\n",
       "</div>\n"
      ]
     },
     "metadata": {},
     "output_type": "display_data"
    },
    {
     "data": {
      "text/html": [
       "<div class=\"progress\">\n",
       "  <div class=\"progress-bar\" role=\"progressbar\" style=\"background-color: blue; width: 100%; word-wrap: normal; white-space: nowrap; text-align: center; color: white\" aria-valuenow=\"100\" aria-valuemin=\"0\" aria-valuemax=\"100\">\n",
       "    8 / 8\n",
       "  </div>\n",
       "  <div class=\"progress-bar\" role=\"progressbar\" style=\"background-color: red; width: 0%\" aria-valuenow=\"0\" aria-valuemin=\"0\" aria-valuemax=\"100\"></div>\n",
       "</div>\n"
      ]
     },
     "metadata": {},
     "output_type": "display_data"
    },
    {
     "data": {
      "text/html": [
       "<div>\n",
       "  <span style=\"float: left;\">collect at cmd11.sc:11</span>\n",
       "</div>\n"
      ]
     },
     "metadata": {},
     "output_type": "display_data"
    },
    {
     "data": {
      "text/html": [
       "<div class=\"progress\">\n",
       "  <div class=\"progress-bar\" role=\"progressbar\" style=\"background-color: blue; width: 100%; word-wrap: normal; white-space: nowrap; text-align: center; color: white\" aria-valuenow=\"100\" aria-valuemin=\"0\" aria-valuemax=\"100\">\n",
       "    8 / 8\n",
       "  </div>\n",
       "  <div class=\"progress-bar\" role=\"progressbar\" style=\"background-color: red; width: 0%\" aria-valuenow=\"0\" aria-valuemin=\"0\" aria-valuemax=\"100\"></div>\n",
       "</div>\n"
      ]
     },
     "metadata": {},
     "output_type": "display_data"
    },
    {
     "data": {
      "text/html": [
       "<div>\n",
       "  <span style=\"float: left;\">collect at cmd11.sc:11</span>\n",
       "</div>\n"
      ]
     },
     "metadata": {},
     "output_type": "display_data"
    },
    {
     "data": {
      "text/html": [
       "<div class=\"progress\">\n",
       "  <div class=\"progress-bar\" role=\"progressbar\" style=\"background-color: blue; width: 100%; word-wrap: normal; white-space: nowrap; text-align: center; color: white\" aria-valuenow=\"100\" aria-valuemin=\"0\" aria-valuemax=\"100\">\n",
       "    8 / 8\n",
       "  </div>\n",
       "  <div class=\"progress-bar\" role=\"progressbar\" style=\"background-color: red; width: 0%\" aria-valuenow=\"0\" aria-valuemin=\"0\" aria-valuemax=\"100\"></div>\n",
       "</div>\n"
      ]
     },
     "metadata": {},
     "output_type": "display_data"
    },
    {
     "data": {
      "text/html": [
       "<div>\n",
       "  <span style=\"float: left;\">collect at cmd11.sc:12</span>\n",
       "</div>\n"
      ]
     },
     "metadata": {},
     "output_type": "display_data"
    },
    {
     "data": {
      "text/html": [
       "<div class=\"progress\">\n",
       "  <div class=\"progress-bar\" role=\"progressbar\" style=\"background-color: blue; width: 100%; word-wrap: normal; white-space: nowrap; text-align: center; color: white\" aria-valuenow=\"100\" aria-valuemin=\"0\" aria-valuemax=\"100\">\n",
       "    12 / 12\n",
       "  </div>\n",
       "  <div class=\"progress-bar\" role=\"progressbar\" style=\"background-color: red; width: 0%\" aria-valuenow=\"0\" aria-valuemin=\"0\" aria-valuemax=\"100\"></div>\n",
       "</div>\n"
      ]
     },
     "metadata": {},
     "output_type": "display_data"
    },
    {
     "data": {
      "text/html": [
       "<div>\n",
       "  <span style=\"float: left;\">collect at cmd11.sc:12</span>\n",
       "</div>\n"
      ]
     },
     "metadata": {},
     "output_type": "display_data"
    },
    {
     "data": {
      "text/html": [
       "<div class=\"progress\">\n",
       "  <div class=\"progress-bar\" role=\"progressbar\" style=\"background-color: blue; width: 100%; word-wrap: normal; white-space: nowrap; text-align: center; color: white\" aria-valuenow=\"100\" aria-valuemin=\"0\" aria-valuemax=\"100\">\n",
       "    8 / 8\n",
       "  </div>\n",
       "  <div class=\"progress-bar\" role=\"progressbar\" style=\"background-color: red; width: 0%\" aria-valuenow=\"0\" aria-valuemin=\"0\" aria-valuemax=\"100\"></div>\n",
       "</div>\n"
      ]
     },
     "metadata": {},
     "output_type": "display_data"
    },
    {
     "data": {
      "text/html": [
       "<div>\n",
       "  <span style=\"float: left;\">collect at cmd11.sc:12</span>\n",
       "</div>\n"
      ]
     },
     "metadata": {},
     "output_type": "display_data"
    },
    {
     "data": {
      "text/html": [
       "<div class=\"progress\">\n",
       "  <div class=\"progress-bar\" role=\"progressbar\" style=\"background-color: blue; width: 100%; word-wrap: normal; white-space: nowrap; text-align: center; color: white\" aria-valuenow=\"100\" aria-valuemin=\"0\" aria-valuemax=\"100\">\n",
       "    8 / 8\n",
       "  </div>\n",
       "  <div class=\"progress-bar\" role=\"progressbar\" style=\"background-color: red; width: 0%\" aria-valuenow=\"0\" aria-valuemin=\"0\" aria-valuemax=\"100\"></div>\n",
       "</div>\n"
      ]
     },
     "metadata": {},
     "output_type": "display_data"
    },
    {
     "data": {
      "text/html": [
       "<div>\n",
       "  <span style=\"float: left;\">collect at cmd11.sc:12</span>\n",
       "</div>\n"
      ]
     },
     "metadata": {},
     "output_type": "display_data"
    },
    {
     "data": {
      "text/html": [
       "<div class=\"progress\">\n",
       "  <div class=\"progress-bar\" role=\"progressbar\" style=\"background-color: blue; width: 100%; word-wrap: normal; white-space: nowrap; text-align: center; color: white\" aria-valuenow=\"100\" aria-valuemin=\"0\" aria-valuemax=\"100\">\n",
       "    8 / 8\n",
       "  </div>\n",
       "  <div class=\"progress-bar\" role=\"progressbar\" style=\"background-color: red; width: 0%\" aria-valuenow=\"0\" aria-valuemin=\"0\" aria-valuemax=\"100\"></div>\n",
       "</div>\n"
      ]
     },
     "metadata": {},
     "output_type": "display_data"
    },
    {
     "data": {
      "application/vnd.plotly.v1+json": {
       "data": [
        {
         "name": "Importación portugal",
         "type": "bar",
         "x": [
          "2013",
          "2014",
          "2015",
          "2016",
          "2017",
          "2018",
          "2019",
          "2020",
          "2021",
          "2022",
          "2023",
          "2024"
         ],
         "y": [
          15418.4,
          3170565.300000001,
          2288888.0000000014,
          7051172.8,
          5751870.599999998,
          5874562.4,
          5827800.399999997,
          7284688.0000000065,
          6379386.600000001,
          5077899.799999999,
          5427922.875,
          725801.8
         ]
        },
        {
         "name": "Exportación portugal",
         "type": "bar",
         "x": [
          "2013",
          "2014",
          "2015",
          "2016",
          "2017",
          "2018",
          "2019",
          "2020",
          "2021",
          "2022",
          "2023",
          "2024"
         ],
         "y": [
          1502.3,
          4093193.3999999976,
          4539916.999999997,
          1990438.2000000011,
          3087341.6999999997,
          3208943.999999999,
          9200071.899999995,
          8754965.099999994,
          10954836.899999991,
          14030336.942000002,
          15488320.500000006,
          903766.2999999997
         ]
        }
       ],
       "layout": {
        "autosize": true,
        "barmode": "group",
        "title": {
         "text": "Importación y Exportación de Energía de Francia por Año"
        },
        "xaxis": {
         "autorange": true,
         "range": [
          2012.5,
          2024.5
         ],
         "title": {
          "text": "Año"
         },
         "type": "linear"
        },
        "yaxis": {
         "autorange": true,
         "range": [
          0,
          16303495.2631579
         ],
         "title": {
          "text": "Total Energía (MWh)"
         },
         "type": "linear"
        }
       }
      },
      "image/png": "[encoded data removed]",
      "text/html": [
       "<div class=\"chart\" id=\"plot-7b68db3c-cf33-4cde-b56c-2488be216c7d\"></div>\n",
       "<script>require(['plotly'], function(Plotly) {\n",
       "  (function () {\n",
       "  var data0 = {\"x\":[\"2013\",\"2014\",\"2015\",\"2016\",\"2017\",\"2018\",\"2019\",\"2020\",\"2021\",\"2022\",\"2023\",\"2024\"],\"name\":\"Importación portugal\",\"y\":[15418.4,3170565.300000001,2288888.0000000014,7051172.8,5751870.599999998,5874562.4,5827800.399999997,7284688.0000000065,6379386.600000001,5077899.799999999,5427922.875,725801.8],\"type\":\"bar\"};\n",
       "  var data1 = {\"x\":[\"2013\",\"2014\",\"2015\",\"2016\",\"2017\",\"2018\",\"2019\",\"2020\",\"2021\",\"2022\",\"2023\",\"2024\"],\"name\":\"Exportación portugal\",\"y\":[1502.3,4093193.3999999976,4539916.999999997,1990438.2000000011,3087341.6999999997,3208943.999999999,9200071.899999995,8754965.099999994,1.0954836899999991E7,1.4030336942000002E7,1.5488320500000006E7,903766.2999999997],\"type\":\"bar\"};\n",
       "\n",
       "  var data = [data0, data1];\n",
       "  var layout = {\"barmode\":\"group\",\"title\":\"Importación y Exportación de Energía de Francia por Año\",\"yaxis\":{\"title\":\"Total Energía (MWh)\"},\"xaxis\":{\"title\":\"Año\"}};\n",
       "\n",
       "  Plotly.plot('plot-7b68db3c-cf33-4cde-b56c-2488be216c7d', data, layout);\n",
       "})();\n",
       "});\n",
       "      </script>\n",
       "           "
      ]
     },
     "metadata": {},
     "output_type": "display_data"
    },
    {
     "data": {
      "text/plain": [
       "defined \u001b[32mfunction\u001b[39m \u001b[36mimportaciónVSexportacion\u001b[39m"
      ]
     },
     "execution_count": 12,
     "metadata": {},
     "output_type": "execute_result"
    }
   ],
   "source": [
    "def importaciónVSexportacion(pais: String, df: DataFrame): Unit = {\n",
    "\n",
    "    // Agrupar los datos por año y tipo de intercambio (Importación/Exportación)\n",
    "    val dfAgrupado = df\n",
    "      .filter($\"Pais\" === pais)\n",
    "      .groupBy(date_format(col(\"FechaCompleta\"), \"yyyy\").as(\"Año\"), $\"TipoIntercambio\")\n",
    "      .agg(sum(\"Valor\").as(\"TotalValor\"))\n",
    "      .orderBy(\"Año\", \"TipoIntercambio\")\n",
    "\n",
    "    val años = dfAgrupado.select(\"Año\").distinct().orderBy(\"Año\").as[String].collect.toSeq\n",
    "    val importaciones = dfAgrupado.filter(col(\"TipoIntercambio\") === \"Importación\").select(\"TotalValor\").as[Double].collect.toSeq\n",
    "    val exportaciones = dfAgrupado.filter(col(\"TipoIntercambio\") === \"Exportación\").select(\"TotalValor\").as[Double].collect.toSeq\n",
    "\n",
    "    val exportacionesEnPositivo = exportaciones.map(valor => valor * -1)\n",
    "\n",
    "    // Crear las barras para importación y exportación con valores absolutos\n",
    "    val barraImportacion = Bar(x = años, y = importaciones, name = s\"Importación $pais\")\n",
    "    val barraExportacion = Bar(x = años, y = exportacionesEnPositivo, name = s\"Exportación $pais\")\n",
    "\n",
    "    // Definir los datos y el layout del gráfico\n",
    "    val data = Seq(barraImportacion, barraExportacion)\n",
    "    val layout = Layout(\n",
    "      title = \"Importación y Exportación de Energía de\" +  pais + \"por Año\",\n",
    "      xaxis = Axis(title = \"Año\"),\n",
    "      yaxis = Axis(title = \"Total Energía (MWh)\"),\n",
    "      barmode = BarMode.Group // Agrupar barras para compararlas lado a lado\n",
    "    )\n",
    "\n",
    "    // Generar el gráfico\n",
    "    plot(data, layout)\n",
    "}\n",
    "\n",
    "importaciónVSexportacion(\"portugal\", dsIntercambios )"
   ]
  },
  {
   "cell_type": "code",
   "execution_count": 13,
   "metadata": {},
   "outputs": [
    {
     "data": {
      "text/html": [
       "<div>\n",
       "  <span style=\"float: left;\">show at cmd12.sc:5</span>\n",
       "</div>\n"
      ]
     },
     "metadata": {},
     "output_type": "display_data"
    },
    {
     "data": {
      "text/html": [
       "<div class=\"progress\">\n",
       "  <div class=\"progress-bar\" role=\"progressbar\" style=\"background-color: blue; width: 100%; word-wrap: normal; white-space: nowrap; text-align: center; color: white\" aria-valuenow=\"100\" aria-valuemin=\"0\" aria-valuemax=\"100\">\n",
       "    12 / 12\n",
       "  </div>\n",
       "  <div class=\"progress-bar\" role=\"progressbar\" style=\"background-color: red; width: 0%\" aria-valuenow=\"0\" aria-valuemin=\"0\" aria-valuemax=\"100\"></div>\n",
       "</div>\n"
      ]
     },
     "metadata": {},
     "output_type": "display_data"
    },
    {
     "data": {
      "text/html": [
       "<div>\n",
       "  <span style=\"float: left;\">show at cmd12.sc:5</span>\n",
       "</div>\n"
      ]
     },
     "metadata": {},
     "output_type": "display_data"
    },
    {
     "data": {
      "text/html": [
       "<div class=\"progress\">\n",
       "  <div class=\"progress-bar\" role=\"progressbar\" style=\"background-color: blue; width: 100%; word-wrap: normal; white-space: nowrap; text-align: center; color: white\" aria-valuenow=\"100\" aria-valuemin=\"0\" aria-valuemax=\"100\">\n",
       "    8 / 8\n",
       "  </div>\n",
       "  <div class=\"progress-bar\" role=\"progressbar\" style=\"background-color: red; width: 0%\" aria-valuenow=\"0\" aria-valuemin=\"0\" aria-valuemax=\"100\"></div>\n",
       "</div>\n"
      ]
     },
     "metadata": {},
     "output_type": "display_data"
    },
    {
     "name": "stdout",
     "output_type": "stream",
     "text": [
      "+----+---------------+--------------------+\n",
      "| Año|TipoIntercambio|          TotalValor|\n",
      "+----+---------------+--------------------+\n",
      "|2013|    Exportación|            -22491.0|\n",
      "|2013|    Importación|              5214.0|\n",
      "|2013|          saldo|            -17277.0|\n",
      "|2014|    Exportación| -2884650.6999999997|\n",
      "|2014|    Importación|   6486299.600000002|\n",
      "|2014|          saldo|  3601648.9000000004|\n",
      "|2015|    Exportación| -1979028.2000000002|\n",
      "|2015|    Importación|   9301541.000000002|\n",
      "|2015|          saldo|           7322512.8|\n",
      "|2016|    Exportación|  -5486154.499999994|\n",
      "|2016|    Importación|1.3308686899999997E7|\n",
      "|2016|          saldo|   7822532.400000001|\n",
      "|2017|    Exportación|  -4605353.099999999|\n",
      "|2017|    Importación|        1.70447231E7|\n",
      "|2017|          saldo|1.2439369999999998E7|\n",
      "|2018|    Exportación| -3867988.6000000006|\n",
      "|2018|    Importación| 1.595512720000001E7|\n",
      "|2018|          saldo|1.2087138599999996E7|\n",
      "|2019|    Exportación| -4176284.9999999986|\n",
      "|2019|    Importación|1.3820046900000002E7|\n",
      "+----+---------------+--------------------+\n",
      "only showing top 20 rows\n",
      "\n"
     ]
    }
   ],
   "source": [
    "dsIntercambios\n",
    "    .filter($\"Pais\" === \"francia\")\n",
    "    .groupBy(date_format(col(\"FechaCompleta\"), \"yyyy\").as(\"Año\"), $\"TipoIntercambio\")\n",
    "    .agg(sum(\"Valor\").as(\"TotalValor\"))\n",
    "    .orderBy(\"Año\", \"TipoIntercambio\")\n",
    "    .show()"
   ]
  },
  {
   "cell_type": "code",
   "execution_count": null,
   "metadata": {},
   "outputs": [],
   "source": []
  }
 ],
 "metadata": {
  "kernelspec": {
   "display_name": "Scala 2.12",
   "language": "scala",
   "name": "scala212"
  },
  "language_info": {
   "codemirror_mode": "text/x-scala",
   "file_extension": ".scala",
   "mimetype": "text/x-scala",
   "name": "scala",
   "nbconvert_exporter": "script",
   "version": "2.12.10"
  }
 },
 "nbformat": 4,
 "nbformat_minor": 4
}
