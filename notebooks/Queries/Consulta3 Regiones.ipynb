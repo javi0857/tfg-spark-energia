{
 "cells": [
  {
   "cell_type": "markdown",
   "metadata": {},
   "source": [
    "### Inicio Spark Session\n",
    "En esta primera celda importamos y configuramos todo lo necesario e iniciamos nuestra sesión de Spark"
   ]
  },
  {
   "cell_type": "code",
   "execution_count": 1,
   "metadata": {},
   "outputs": [
    {
     "name": "stdout",
     "output_type": "stream",
     "text": [
      "Loading spark-stubs\n",
      "Getting spark JARs\n",
      "Creating SparkSession\n"
     ]
    },
    {
     "name": "stderr",
     "output_type": "stream",
     "text": [
      "Using Spark's default log4j profile: org/apache/spark/log4j-defaults.properties\n"
     ]
    },
    {
     "data": {
      "text/html": [
       "<a href=\"http://3ad521e7ae74:4040\">Spark UI</a>"
      ]
     },
     "metadata": {},
     "output_type": "display_data"
    },
    {
     "data": {
      "text/plain": [
       "\u001b[32mimport \u001b[39m\u001b[36m$ivy.$                                  \n",
       "\n",
       "\n",
       "\u001b[39m\n",
       "\u001b[32mimport \u001b[39m\u001b[36morg.apache.spark.sql._\n",
       "\u001b[39m\n",
       "\u001b[32mimport \u001b[39m\u001b[36morg.apache.spark.sql.functions._\n",
       "\n",
       "\n",
       "//Reducir numero logs\n",
       "\u001b[39m\n",
       "\u001b[32mimport \u001b[39m\u001b[36morg.apache.log4j.{Level, Logger}\n",
       "\u001b[39m\n",
       "\u001b[32mimport \u001b[39m\u001b[36m$ivy.$                                                                        \n",
       "\u001b[39m\n",
       "\u001b[32mimport \u001b[39m\u001b[36msttp.client.quick.{quickRequest, UriContext, backend}\n",
       "\u001b[39m\n",
       "\u001b[32mimport \u001b[39m\u001b[36msttp.client.asynchttpclient.monix._\n",
       "\n",
       "\n",
       "//Sttp para realizar request\n",
       "\u001b[39m\n",
       "\u001b[32mimport \u001b[39m\u001b[36m$ivy.$                                                                        \n",
       "\u001b[39m\n",
       "\u001b[32mimport \u001b[39m\u001b[36msttp.client.quick.{quickRequest, UriContext, backend}\n",
       "\u001b[39m\n",
       "\u001b[32mimport \u001b[39m\u001b[36msttp.client.asynchttpclient.monix._\n",
       "\u001b[39m\n",
       "\u001b[32mimport \u001b[39m\u001b[36msttp.client.basicRequest\n",
       "\n",
       "//For adding extra dependenies\n",
       "\u001b[39m\n",
       "\u001b[32mimport \u001b[39m\u001b[36m$ivy.$                               \n",
       "\n",
       "//Plotly\n",
       "\u001b[39m\n",
       "\u001b[32mimport \u001b[39m\u001b[36m$ivy.$                                      \n",
       "\u001b[39m\n",
       "\u001b[32mimport \u001b[39m\u001b[36mplotly._, plotly.element._, plotly.layout._, plotly.Almond._\n",
       "\n",
       "//Iniciamos session de Spark\n",
       "\u001b[39m\n",
       "\u001b[36mspark\u001b[39m: \u001b[32mSparkSession\u001b[39m = org.apache.spark.sql.SparkSession@584f813f\n",
       "\u001b[32mimport \u001b[39m\u001b[36mspark.implicits._\u001b[39m"
      ]
     },
     "execution_count": 1,
     "metadata": {},
     "output_type": "execute_result"
    }
   ],
   "source": [
    "import $ivy.`org.apache.spark::spark-sql:2.4.3`\n",
    "\n",
    "\n",
    "import org.apache.spark.sql._\n",
    "import org.apache.spark.sql.functions._\n",
    "\n",
    "\n",
    "//Reducir numero logs\n",
    "import org.apache.log4j.{Level, Logger}\n",
    "Logger.getLogger(\"org\").setLevel(Level.OFF)\n",
    "\n",
    "\n",
    "//Circe para trabajar con JSON\n",
    "import $ivy.`com.softwaremill.sttp.client::async-http-client-backend-monix:2.0.0-RC2`\n",
    "import sttp.client.quick.{quickRequest, UriContext, backend}\n",
    "import sttp.client.asynchttpclient.monix._\n",
    "\n",
    "\n",
    "//Sttp para realizar request\n",
    "import $ivy.`com.softwaremill.sttp.client::async-http-client-backend-monix:2.0.0-RC2`\n",
    "import sttp.client.quick.{quickRequest, UriContext, backend}\n",
    "import sttp.client.asynchttpclient.monix._\n",
    "import sttp.client.basicRequest\n",
    "\n",
    "//For adding extra dependenies\n",
    "import $ivy.`org.typelevel::cats-core:1.6.0`\n",
    "\n",
    "//Plotly\n",
    "import $ivy.`org.plotly-scala::plotly-almond:0.7.1`\n",
    "import plotly._, plotly.element._, plotly.layout._, plotly.Almond._\n",
    "\n",
    "//Iniciamos session de Spark\n",
    "val spark = {\n",
    "  NotebookSparkSession.builder()\n",
    "    .master(\"local[*]\")\n",
    "    .getOrCreate()\n",
    "}\n",
    "import spark.implicits._"
   ]
  },
  {
   "cell_type": "code",
   "execution_count": 2,
   "metadata": {},
   "outputs": [
    {
     "data": {
      "text/html": [
       "<script>\n",
       "var comm = Jupyter.notebook.kernel.comm_manager.new_comm('cancel-stage-62d54622-5566-478b-9afa-39475c7d4553', {});\n",
       "\n",
       "function cancelStage(stageId) {\n",
       "  console.log('Cancelling stage ' + stageId);\n",
       "  comm.send({ 'stageId': stageId });\n",
       "}\n",
       "</script>\n",
       "          "
      ]
     },
     "metadata": {},
     "output_type": "display_data"
    },
    {
     "data": {
      "text/html": [
       "<div>\n",
       "  <span style=\"float: left;\">parquet at cmd1.sc:2</span>\n",
       "</div>\n"
      ]
     },
     "metadata": {},
     "output_type": "display_data"
    },
    {
     "data": {
      "text/html": [
       "<div class=\"progress\">\n",
       "  <div class=\"progress-bar\" role=\"progressbar\" style=\"background-color: blue; width: 100%; word-wrap: normal; white-space: nowrap; text-align: center; color: white\" aria-valuenow=\"100\" aria-valuemin=\"0\" aria-valuemax=\"100\">\n",
       "    1 / 1\n",
       "  </div>\n",
       "  <div class=\"progress-bar\" role=\"progressbar\" style=\"background-color: red; width: 0%\" aria-valuenow=\"0\" aria-valuemin=\"0\" aria-valuemax=\"100\"></div>\n",
       "</div>\n"
      ]
     },
     "metadata": {},
     "output_type": "display_data"
    },
    {
     "data": {
      "text/plain": [
       "\u001b[36mdfRegiones\u001b[39m: \u001b[32mDataFrame\u001b[39m = [Familia: string, Tipo: string ... 6 more fields]"
      ]
     },
     "execution_count": 2,
     "metadata": {},
     "output_type": "execute_result"
    }
   ],
   "source": [
    "val dfRegiones = spark.read\n",
    "            .parquet(\"../../data/parquet/dsBalanceNacionalPorRegionesMensual11-24.parquet\")"
   ]
  },
  {
   "cell_type": "code",
   "execution_count": 3,
   "metadata": {},
   "outputs": [
    {
     "data": {
      "text/plain": [
       "\u001b[36mdataRegiones\u001b[39m: \u001b[32mDataset\u001b[39m[\u001b[32mRow\u001b[39m] = [Familia: string, Tipo: string ... 6 more fields]"
      ]
     },
     "execution_count": 3,
     "metadata": {},
     "output_type": "execute_result"
    }
   ],
   "source": [
    "//Quitar peninsular para quedarnos solo con comunidades\n",
    "val dataRegiones = dfRegiones\n",
    "    .filter($\"Region\" !== \"Peninsular\")\n",
    "    //.filter($\"Compuesto\" === false) //Fuente unica, no suma de energias"
   ]
  },
  {
   "cell_type": "code",
   "execution_count": 6,
   "metadata": {},
   "outputs": [
    {
     "data": {
      "text/html": [
       "<div>\n",
       "  <span style=\"float: left;\">run at ThreadPoolExecutor.java:1149</span>\n",
       "</div>\n"
      ]
     },
     "metadata": {},
     "output_type": "display_data"
    },
    {
     "data": {
      "text/html": [
       "<div class=\"progress\">\n",
       "  <div class=\"progress-bar\" role=\"progressbar\" style=\"background-color: blue; width: 100%; word-wrap: normal; white-space: nowrap; text-align: center; color: white\" aria-valuenow=\"100\" aria-valuemin=\"0\" aria-valuemax=\"100\">\n",
       "    16 / 16\n",
       "  </div>\n",
       "  <div class=\"progress-bar\" role=\"progressbar\" style=\"background-color: red; width: 0%\" aria-valuenow=\"0\" aria-valuemin=\"0\" aria-valuemax=\"100\"></div>\n",
       "</div>\n"
      ]
     },
     "metadata": {},
     "output_type": "display_data"
    },
    {
     "data": {
      "text/html": [
       "<div>\n",
       "  <span style=\"float: left;\">run at ThreadPoolExecutor.java:1149</span>\n",
       "</div>\n"
      ]
     },
     "metadata": {},
     "output_type": "display_data"
    },
    {
     "data": {
      "text/html": [
       "<div class=\"progress\">\n",
       "  <div class=\"progress-bar\" role=\"progressbar\" style=\"background-color: blue; width: 100%; word-wrap: normal; white-space: nowrap; text-align: center; color: white\" aria-valuenow=\"100\" aria-valuemin=\"0\" aria-valuemax=\"100\">\n",
       "    200 / 200\n",
       "  </div>\n",
       "  <div class=\"progress-bar\" role=\"progressbar\" style=\"background-color: red; width: 0%\" aria-valuenow=\"0\" aria-valuemin=\"0\" aria-valuemax=\"100\"></div>\n",
       "</div>\n"
      ]
     },
     "metadata": {},
     "output_type": "display_data"
    },
    {
     "data": {
      "text/html": [
       "<div>\n",
       "  <span style=\"float: left;\">show at cmd5.sc:44</span>\n",
       "</div>\n"
      ]
     },
     "metadata": {},
     "output_type": "display_data"
    },
    {
     "data": {
      "text/html": [
       "<div class=\"progress\">\n",
       "  <div class=\"progress-bar\" role=\"progressbar\" style=\"background-color: blue; width: 100%; word-wrap: normal; white-space: nowrap; text-align: center; color: white\" aria-valuenow=\"100\" aria-valuemin=\"0\" aria-valuemax=\"100\">\n",
       "    16 / 16\n",
       "  </div>\n",
       "  <div class=\"progress-bar\" role=\"progressbar\" style=\"background-color: red; width: 0%\" aria-valuenow=\"0\" aria-valuemin=\"0\" aria-valuemax=\"100\"></div>\n",
       "</div>\n"
      ]
     },
     "metadata": {},
     "output_type": "display_data"
    },
    {
     "data": {
      "text/html": [
       "<div>\n",
       "  <span style=\"float: left;\">show at cmd5.sc:44</span>\n",
       "</div>\n"
      ]
     },
     "metadata": {},
     "output_type": "display_data"
    },
    {
     "data": {
      "text/html": [
       "<div class=\"progress\">\n",
       "  <div class=\"progress-bar\" role=\"progressbar\" style=\"background-color: blue; width: 100%; word-wrap: normal; white-space: nowrap; text-align: center; color: white\" aria-valuenow=\"100\" aria-valuemin=\"0\" aria-valuemax=\"100\">\n",
       "    200 / 200\n",
       "  </div>\n",
       "  <div class=\"progress-bar\" role=\"progressbar\" style=\"background-color: red; width: 0%\" aria-valuenow=\"0\" aria-valuemin=\"0\" aria-valuemax=\"100\"></div>\n",
       "</div>\n"
      ]
     },
     "metadata": {},
     "output_type": "display_data"
    },
    {
     "data": {
      "text/html": [
       "<div>\n",
       "  <span style=\"float: left;\">show at cmd5.sc:44</span>\n",
       "</div>\n"
      ]
     },
     "metadata": {},
     "output_type": "display_data"
    },
    {
     "data": {
      "text/html": [
       "<div class=\"progress\">\n",
       "  <div class=\"progress-bar\" role=\"progressbar\" style=\"background-color: blue; width: 100%; word-wrap: normal; white-space: nowrap; text-align: center; color: white\" aria-valuenow=\"100\" aria-valuemin=\"0\" aria-valuemax=\"100\">\n",
       "    200 / 200\n",
       "  </div>\n",
       "  <div class=\"progress-bar\" role=\"progressbar\" style=\"background-color: red; width: 0%\" aria-valuenow=\"0\" aria-valuemin=\"0\" aria-valuemax=\"100\"></div>\n",
       "</div>\n"
      ]
     },
     "metadata": {},
     "output_type": "display_data"
    },
    {
     "name": "stdout",
     "output_type": "stream",
     "text": [
      "+--------------------+---------------------------------------+------------------------------+---------------------------------------------+\n",
      "|              Region|Energía Total por Región (millones MWh)|Fuente de Energía Predominante|Energía de Fuente Predominante (millones MWh)|\n",
      "+--------------------+---------------------------------------+------------------------------+---------------------------------------------+\n",
      "|            Cataluña|                                  18.76|                       Nuclear|                                        11.07|\n",
      "|         Extremadura|                                  16.29|                       Nuclear|                                         7.08|\n",
      "|  Castilla la Mancha|                                  15.45|            Solar fotovoltaica|                                         6.19|\n",
      "|           Andalucía|                                  15.36|            Solar fotovoltaica|                                         5.77|\n",
      "|     Castilla y Leon|                                   14.8|                        Eólica|                                         6.32|\n",
      "|             Galicia|                                  11.84|                    Hidráulica|                                         5.63|\n",
      "|              Aragón|                                  11.55|                        Eólica|                                         6.02|\n",
      "|Comunidad Valenciana|                                    7.8|                       Nuclear|                                         3.45|\n",
      "|      Islas Canarias|                                   7.09|               Ciclo combinado|                                         2.89|\n",
      "|              Murcia|                                   3.95|               Ciclo combinado|                                         1.55|\n",
      "|      Islas Baleares|                                   3.65|               Ciclo combinado|                                          2.3|\n",
      "|            Asturias|                                   3.28|                        Carbón|                                         1.24|\n",
      "|             Navarra|                                   2.87|                        Eólica|                                         1.76|\n",
      "|          Pais Vasco|                                   2.18|               Ciclo combinado|                                         1.04|\n",
      "|            La Rioja|                                   0.77|               Ciclo combinado|                                         0.33|\n",
      "|           Cantabria|                                   0.61|            Turbinación bombeo|                                         0.34|\n",
      "|              Madrid|                                   0.59|                  Cogeneración|                                         0.24|\n",
      "|             Melilla|                                   0.17|                Motores diésel|                                         0.16|\n",
      "|               Ceuta|                                   0.15|                Motores diésel|                                         0.15|\n",
      "+--------------------+---------------------------------------+------------------------------+---------------------------------------------+\n",
      "\n"
     ]
    },
    {
     "data": {
      "text/plain": [
       "\u001b[32mimport \u001b[39m\u001b[36morg.apache.spark.sql.expressions.Window\n",
       "\n",
       "// Agrupar por \"Region\" y \"Tipo\", y calcular la suma de \"Valor\"\n",
       "\n",
       "\u001b[39m\n",
       "\u001b[36maño\u001b[39m: \u001b[32mString\u001b[39m = \u001b[32m\"2024\"\u001b[39m\n",
       "\u001b[36msumaEnergiaPorRegionYTipo\u001b[39m: \u001b[32mDataFrame\u001b[39m = [Region: string, Tipo: string ... 2 more fields]\n",
       "\u001b[36msumaEnergiaPorRegion\u001b[39m: \u001b[32mDataFrame\u001b[39m = [Region: string, ValorTotalPorRegion: double ... 1 more field]\n",
       "\u001b[36mwindowSpec\u001b[39m: \u001b[32mexpressions\u001b[39m.\u001b[32mWindowSpec\u001b[39m = org.apache.spark.sql.expressions.WindowSpec@841812e\n",
       "\u001b[36mdfWithRank\u001b[39m: \u001b[32mDataFrame\u001b[39m = [Region: string, Tipo: string ... 3 more fields]\n",
       "\u001b[36mtopEnergiaPorRegion\u001b[39m: \u001b[32mDataFrame\u001b[39m = [Region: string, Tipo: string ... 2 more fields]\n",
       "\u001b[36menergiaTotalConTopEnergia\u001b[39m: \u001b[32mDataFrame\u001b[39m = [Region: string, Energía Total por Región (millones MWh): double ... 2 more fields]"
      ]
     },
     "execution_count": 6,
     "metadata": {},
     "output_type": "execute_result"
    }
   ],
   "source": [
    "import org.apache.spark.sql.expressions.Window\n",
    "\n",
    "// Agrupar por \"Region\" y \"Tipo\", y calcular la suma de \"Valor\"\n",
    "\n",
    "val año = \"2024\"\n",
    "\n",
    "val sumaEnergiaPorRegionYTipo = dataRegiones\n",
    "    .filter($\"Compuesto\" === false) \n",
    "    .filter($\"Familia\" =!= \"Demanda\")\n",
    "    .filter(date_format(col(\"FechaCompleta\"), \"yyyy\") === año)\n",
    "    .groupBy($\"Region\", $\"Tipo\")\n",
    "    .agg(sum(\"Valor\").as(\"ValorTotal\"))\n",
    "    .withColumn(\"Valor total por tipo (millones MWh)\", round(col(\"ValorTotal\") / 1e6, 2))\n",
    "\n",
    "val sumaEnergiaPorRegion = dataRegiones\n",
    "    .filter($\"Compuesto\" === false) \n",
    "    .filter($\"Familia\" =!= \"Demanda\")\n",
    "    .filter(date_format(col(\"FechaCompleta\"), \"yyyy\") === año) \n",
    "    .groupBy($\"Region\")\n",
    "    .agg(sum(\"Valor\").as(\"ValorTotalPorRegion\"))\n",
    "    .withColumn(\"Valor total Region (millones MWh)\", round(col(\"ValorTotalPorRegion\") / 1e6, 2))\n",
    "\n",
    "// Definir una ventana para particionar por \"Region\" y ordenar \"ValorTotal\" descendente\n",
    "val windowSpec = Window.partitionBy(\"Region\").orderBy(desc(\"ValorTotal\"))\n",
    "\n",
    "// Añadir columna de ranking para cada tipo de energía en cada región\n",
    "val dfWithRank = sumaEnergiaPorRegionYTipo.withColumn(\"rank\", row_number().over(windowSpec))\n",
    "\n",
    "// Filtrar el top 1 de cada región\n",
    "val topEnergiaPorRegion = dfWithRank.filter($\"rank\" === 1).drop(\"rank\")\n",
    "\n",
    "// Hacemos un join para juntar las dos columnas\n",
    "val energiaTotalConTopEnergia = sumaEnergiaPorRegion\n",
    "    .join(topEnergiaPorRegion, Seq(\"Region\"), \"inner\") // Unimos ambos DataFrames por la columna \"Region\"\n",
    "    .orderBy(desc(\"ValorTotalPorRegion\"))\n",
    "    .select(\n",
    "    col(\"Region\"),\n",
    "    col(\"Valor total Region (millones MWh)\").as(\"Energía Total por Región (millones MWh)\"),\n",
    "    col(\"Tipo\").as(\"Fuente de Energía Predominante\"),\n",
    "    col(\"Valor total por tipo (millones MWh)\").as(\"Energía de Fuente Predominante (millones MWh)\")\n",
    "    )\n",
    "\n",
    "\n",
    "energiaTotalConTopEnergia.show()    "
   ]
  },
  {
   "cell_type": "code",
   "execution_count": 7,
   "metadata": {},
   "outputs": [
    {
     "data": {
      "text/html": [
       "<div>\n",
       "  <span style=\"float: left;\">run at ThreadPoolExecutor.java:1149</span>\n",
       "</div>\n"
      ]
     },
     "metadata": {},
     "output_type": "display_data"
    },
    {
     "data": {
      "text/html": [
       "<div class=\"progress\">\n",
       "  <div class=\"progress-bar\" role=\"progressbar\" style=\"background-color: blue; width: 100%; word-wrap: normal; white-space: nowrap; text-align: center; color: white\" aria-valuenow=\"100\" aria-valuemin=\"0\" aria-valuemax=\"100\">\n",
       "    16 / 16\n",
       "  </div>\n",
       "  <div class=\"progress-bar\" role=\"progressbar\" style=\"background-color: red; width: 0%\" aria-valuenow=\"0\" aria-valuemin=\"0\" aria-valuemax=\"100\"></div>\n",
       "</div>\n"
      ]
     },
     "metadata": {},
     "output_type": "display_data"
    },
    {
     "data": {
      "text/html": [
       "<div>\n",
       "  <span style=\"float: left;\">run at ThreadPoolExecutor.java:1149</span>\n",
       "</div>\n"
      ]
     },
     "metadata": {},
     "output_type": "display_data"
    },
    {
     "data": {
      "text/html": [
       "<div class=\"progress\">\n",
       "  <div class=\"progress-bar\" role=\"progressbar\" style=\"background-color: blue; width: 100%; word-wrap: normal; white-space: nowrap; text-align: center; color: white\" aria-valuenow=\"100\" aria-valuemin=\"0\" aria-valuemax=\"100\">\n",
       "    200 / 200\n",
       "  </div>\n",
       "  <div class=\"progress-bar\" role=\"progressbar\" style=\"background-color: red; width: 0%\" aria-valuenow=\"0\" aria-valuemin=\"0\" aria-valuemax=\"100\"></div>\n",
       "</div>\n"
      ]
     },
     "metadata": {},
     "output_type": "display_data"
    },
    {
     "data": {
      "text/html": [
       "<div>\n",
       "  <span style=\"float: left;\">run at ThreadPoolExecutor.java:1149</span>\n",
       "</div>\n"
      ]
     },
     "metadata": {},
     "output_type": "display_data"
    },
    {
     "data": {
      "text/html": [
       "<div class=\"progress\">\n",
       "  <div class=\"progress-bar\" role=\"progressbar\" style=\"background-color: blue; width: 100%; word-wrap: normal; white-space: nowrap; text-align: center; color: white\" aria-valuenow=\"100\" aria-valuemin=\"0\" aria-valuemax=\"100\">\n",
       "    200 / 200\n",
       "  </div>\n",
       "  <div class=\"progress-bar\" role=\"progressbar\" style=\"background-color: red; width: 0%\" aria-valuenow=\"0\" aria-valuemin=\"0\" aria-valuemax=\"100\"></div>\n",
       "</div>\n"
      ]
     },
     "metadata": {},
     "output_type": "display_data"
    },
    {
     "data": {
      "text/html": [
       "<div>\n",
       "  <span style=\"float: left;\">show at cmd6.sc:45</span>\n",
       "</div>\n"
      ]
     },
     "metadata": {},
     "output_type": "display_data"
    },
    {
     "data": {
      "text/html": [
       "<div class=\"progress\">\n",
       "  <div class=\"progress-bar\" role=\"progressbar\" style=\"background-color: blue; width: 100%; word-wrap: normal; white-space: nowrap; text-align: center; color: white\" aria-valuenow=\"100\" aria-valuemin=\"0\" aria-valuemax=\"100\">\n",
       "    200 / 200\n",
       "  </div>\n",
       "  <div class=\"progress-bar\" role=\"progressbar\" style=\"background-color: red; width: 0%\" aria-valuenow=\"0\" aria-valuemin=\"0\" aria-valuemax=\"100\"></div>\n",
       "</div>\n"
      ]
     },
     "metadata": {},
     "output_type": "display_data"
    },
    {
     "data": {
      "text/html": [
       "<div>\n",
       "  <span style=\"float: left;\">show at cmd6.sc:45</span>\n",
       "</div>\n"
      ]
     },
     "metadata": {},
     "output_type": "display_data"
    },
    {
     "data": {
      "text/html": [
       "<div class=\"progress\">\n",
       "  <div class=\"progress-bar\" role=\"progressbar\" style=\"background-color: blue; width: 100%; word-wrap: normal; white-space: nowrap; text-align: center; color: white\" aria-valuenow=\"100\" aria-valuemin=\"0\" aria-valuemax=\"100\">\n",
       "    200 / 200\n",
       "  </div>\n",
       "  <div class=\"progress-bar\" role=\"progressbar\" style=\"background-color: red; width: 0%\" aria-valuenow=\"0\" aria-valuemin=\"0\" aria-valuemax=\"100\"></div>\n",
       "</div>\n"
      ]
     },
     "metadata": {},
     "output_type": "display_data"
    },
    {
     "name": "stdout",
     "output_type": "stream",
     "text": [
      "+--------------------+---------------------------------------+------------------------------+---------------------------------------------+\n",
      "|              Region|Energía Total por Región (millones MWh)|Fuente de Energía Predominante|Energía de Fuente Predominante (millones MWh)|\n",
      "+--------------------+---------------------------------------+------------------------------+---------------------------------------------+\n",
      "|            Cataluña|                                  18.76|                       Nuclear|                                        11.07|\n",
      "|         Extremadura|                                  16.29|                       Nuclear|                                         7.08|\n",
      "|  Castilla la Mancha|                                  15.45|            Solar fotovoltaica|                                         6.19|\n",
      "|           Andalucía|                                  15.36|            Solar fotovoltaica|                                         5.77|\n",
      "|     Castilla y Leon|                                   14.8|                        Eólica|                                         6.32|\n",
      "|             Galicia|                                  11.84|                    Hidráulica|                                         5.63|\n",
      "|              Aragón|                                  11.55|                        Eólica|                                         6.02|\n",
      "|Comunidad Valenciana|                                    7.8|                       Nuclear|                                         3.45|\n",
      "|      Islas Canarias|                                   7.09|               Ciclo combinado|                                         2.89|\n",
      "|              Murcia|                                   3.95|               Ciclo combinado|                                         1.55|\n",
      "|      Islas Baleares|                                   3.65|               Ciclo combinado|                                          2.3|\n",
      "|            Asturias|                                   3.28|                        Carbón|                                         1.24|\n",
      "|             Navarra|                                   2.87|                        Eólica|                                         1.76|\n",
      "|          Pais Vasco|                                   2.18|               Ciclo combinado|                                         1.04|\n",
      "|            La Rioja|                                   0.77|               Ciclo combinado|                                         0.33|\n",
      "|           Cantabria|                                   0.61|            Turbinación bombeo|                                         0.34|\n",
      "|              Madrid|                                   0.59|                  Cogeneración|                                         0.24|\n",
      "|             Melilla|                                   0.17|                Motores diésel|                                         0.16|\n",
      "|               Ceuta|                                   0.15|                Motores diésel|                                         0.15|\n",
      "+--------------------+---------------------------------------+------------------------------+---------------------------------------------+\n",
      "\n"
     ]
    },
    {
     "data": {
      "text/plain": [
       "\u001b[32mimport \u001b[39m\u001b[36morg.apache.spark.sql.expressions.Window\n",
       "\u001b[39m\n",
       "\u001b[32mimport \u001b[39m\u001b[36morg.apache.spark.sql.functions._\n",
       "\n",
       "// Definir el año a filtrar\n",
       "\u001b[39m\n",
       "\u001b[36maño\u001b[39m: \u001b[32mString\u001b[39m = \u001b[32m\"2024\"\u001b[39m\n",
       "\u001b[36mdfFiltrado\u001b[39m: \u001b[32mDataset\u001b[39m[\u001b[32mRow\u001b[39m] = [Familia: string, Tipo: string ... 6 more fields]\n",
       "\u001b[36msumaEnergiaPorRegionYTipo\u001b[39m: \u001b[32mDataFrame\u001b[39m = [Region: string, Tipo: string ... 1 more field]\n",
       "\u001b[36mwindowSpec\u001b[39m: \u001b[32mexpressions\u001b[39m.\u001b[32mWindowSpec\u001b[39m = org.apache.spark.sql.expressions.WindowSpec@1d2220ff\n",
       "\u001b[36mtopEnergiaPorRegion\u001b[39m: \u001b[32mDataFrame\u001b[39m = [Region: string, Tipo: string ... 1 more field]\n",
       "\u001b[36msumaEnergiaPorRegion\u001b[39m: \u001b[32mDataFrame\u001b[39m = [Region: string, ValorTotalPorRegion: double ... 1 more field]\n",
       "\u001b[36menergiaTotalConTopEnergia\u001b[39m: \u001b[32mDataset\u001b[39m[\u001b[32mRow\u001b[39m] = [Region: string, Energía Total por Región (millones MWh): double ... 2 more fields]"
      ]
     },
     "execution_count": 7,
     "metadata": {},
     "output_type": "execute_result"
    }
   ],
   "source": [
    "import org.apache.spark.sql.expressions.Window\n",
    "import org.apache.spark.sql.functions._\n",
    "\n",
    "// Definir el año a filtrar\n",
    "val año = \"2024\"\n",
    "\n",
    "// Aplicar los filtros iniciales\n",
    "val dfFiltrado = dataRegiones\n",
    "    .filter($\"Compuesto\" === false) \n",
    "    .filter($\"Familia\" =!= \"Demanda\")\n",
    "    .filter(date_format(col(\"FechaCompleta\"), \"yyyy\") === año)\n",
    "\n",
    "// Agrupar por \"Region\" y \"Tipo\", y calcular la suma de \"Valor\" para cada tipo de energía en cada región\n",
    "val sumaEnergiaPorRegionYTipo = dfFiltrado\n",
    "    .groupBy($\"Region\", $\"Tipo\")\n",
    "    .agg(sum(\"Valor\").as(\"ValorTotal\"))\n",
    "\n",
    "// Definir una ventana para obtener el tipo de energía con la mayor producción para cada región\n",
    "val windowSpec = Window.partitionBy(\"Region\").orderBy(desc(\"ValorTotal\"))\n",
    "\n",
    "// Añadir columna de ranking y seleccionar el top 1 por región\n",
    "val topEnergiaPorRegion = sumaEnergiaPorRegionYTipo\n",
    "    .withColumn(\"rank\", row_number().over(windowSpec))\n",
    "    .filter($\"rank\" === 1)\n",
    "    .drop(\"rank\")\n",
    "\n",
    "// Calcular la suma de la energía total por cada región\n",
    "val sumaEnergiaPorRegion = sumaEnergiaPorRegionYTipo\n",
    "    .groupBy($\"Region\")\n",
    "    .agg(sum(\"ValorTotal\").as(\"ValorTotalPorRegion\"))\n",
    "    .withColumn(\"Valor total Region (millones MWh)\", round(col(\"ValorTotalPorRegion\") / 1e6, 2))\n",
    "\n",
    "// Hacemos un join para combinar los datos de la energía total y la fuente predominante\n",
    "val energiaTotalConTopEnergia = sumaEnergiaPorRegion\n",
    "    .join(topEnergiaPorRegion, Seq(\"Region\"), \"inner\") // Unimos ambos DataFrames por la columna \"Region\"\n",
    "    .select(\n",
    "        col(\"Region\"),\n",
    "        col(\"Valor total Region (millones MWh)\").as(\"Energía Total por Región (millones MWh)\"),\n",
    "        col(\"Tipo\").as(\"Fuente de Energía Predominante\"),\n",
    "        round(col(\"ValorTotal\") / 1e6, 2).as(\"Energía de Fuente Predominante (millones MWh)\")\n",
    "    )\n",
    "    .orderBy(desc(\"Energía Total por Región (millones MWh)\"))\n",
    "\n",
    "// Mostrar el resultado\n",
    "energiaTotalConTopEnergia.show()\n"
   ]
  },
  {
   "cell_type": "code",
   "execution_count": 9,
   "metadata": {},
   "outputs": [
    {
     "data": {
      "text/html": [
       "<div>\n",
       "  <span style=\"float: left;\">show at cmd8.sc:2</span>\n",
       "</div>\n"
      ]
     },
     "metadata": {},
     "output_type": "display_data"
    },
    {
     "data": {
      "text/html": [
       "<div class=\"progress\">\n",
       "  <div class=\"progress-bar\" role=\"progressbar\" style=\"background-color: blue; width: 100%; word-wrap: normal; white-space: nowrap; text-align: center; color: white\" aria-valuenow=\"100\" aria-valuemin=\"0\" aria-valuemax=\"100\">\n",
       "    16 / 16\n",
       "  </div>\n",
       "  <div class=\"progress-bar\" role=\"progressbar\" style=\"background-color: red; width: 0%\" aria-valuenow=\"0\" aria-valuemin=\"0\" aria-valuemax=\"100\"></div>\n",
       "</div>\n"
      ]
     },
     "metadata": {},
     "output_type": "display_data"
    },
    {
     "data": {
      "text/html": [
       "<div>\n",
       "  <span style=\"float: left;\">show at cmd8.sc:2</span>\n",
       "</div>\n"
      ]
     },
     "metadata": {},
     "output_type": "display_data"
    },
    {
     "data": {
      "text/html": [
       "<div class=\"progress\">\n",
       "  <div class=\"progress-bar\" role=\"progressbar\" style=\"background-color: blue; width: 100%; word-wrap: normal; white-space: nowrap; text-align: center; color: white\" aria-valuenow=\"100\" aria-valuemin=\"0\" aria-valuemax=\"100\">\n",
       "    200 / 200\n",
       "  </div>\n",
       "  <div class=\"progress-bar\" role=\"progressbar\" style=\"background-color: red; width: 0%\" aria-valuenow=\"0\" aria-valuemin=\"0\" aria-valuemax=\"100\"></div>\n",
       "</div>\n"
      ]
     },
     "metadata": {},
     "output_type": "display_data"
    },
    {
     "data": {
      "text/html": [
       "<div>\n",
       "  <span style=\"float: left;\">show at cmd8.sc:2</span>\n",
       "</div>\n"
      ]
     },
     "metadata": {},
     "output_type": "display_data"
    },
    {
     "data": {
      "text/html": [
       "<div class=\"progress\">\n",
       "  <div class=\"progress-bar\" role=\"progressbar\" style=\"background-color: blue; width: 100%; word-wrap: normal; white-space: nowrap; text-align: center; color: white\" aria-valuenow=\"100\" aria-valuemin=\"0\" aria-valuemax=\"100\">\n",
       "    1 / 1\n",
       "  </div>\n",
       "  <div class=\"progress-bar\" role=\"progressbar\" style=\"background-color: red; width: 0%\" aria-valuenow=\"0\" aria-valuemin=\"0\" aria-valuemax=\"100\"></div>\n",
       "</div>\n"
      ]
     },
     "metadata": {},
     "output_type": "display_data"
    },
    {
     "data": {
      "text/html": [
       "<div>\n",
       "  <span style=\"float: left;\">show at cmd8.sc:2</span>\n",
       "</div>\n"
      ]
     },
     "metadata": {},
     "output_type": "display_data"
    },
    {
     "data": {
      "text/html": [
       "<div class=\"progress\">\n",
       "  <div class=\"progress-bar\" role=\"progressbar\" style=\"background-color: blue; width: 100%; word-wrap: normal; white-space: nowrap; text-align: center; color: white\" aria-valuenow=\"100\" aria-valuemin=\"0\" aria-valuemax=\"100\">\n",
       "    4 / 4\n",
       "  </div>\n",
       "  <div class=\"progress-bar\" role=\"progressbar\" style=\"background-color: red; width: 0%\" aria-valuenow=\"0\" aria-valuemin=\"0\" aria-valuemax=\"100\"></div>\n",
       "</div>\n"
      ]
     },
     "metadata": {},
     "output_type": "display_data"
    },
    {
     "data": {
      "text/html": [
       "<div>\n",
       "  <span style=\"float: left;\">show at cmd8.sc:2</span>\n",
       "</div>\n"
      ]
     },
     "metadata": {},
     "output_type": "display_data"
    },
    {
     "data": {
      "text/html": [
       "<div class=\"progress\">\n",
       "  <div class=\"progress-bar\" role=\"progressbar\" style=\"background-color: blue; width: 100%; word-wrap: normal; white-space: nowrap; text-align: center; color: white\" aria-valuenow=\"100\" aria-valuemin=\"0\" aria-valuemax=\"100\">\n",
       "    7 / 7\n",
       "  </div>\n",
       "  <div class=\"progress-bar\" role=\"progressbar\" style=\"background-color: red; width: 0%\" aria-valuenow=\"0\" aria-valuemin=\"0\" aria-valuemax=\"100\"></div>\n",
       "</div>\n"
      ]
     },
     "metadata": {},
     "output_type": "display_data"
    },
    {
     "data": {
      "text/html": [
       "<div>\n",
       "  <span style=\"float: left;\">show at cmd8.sc:2</span>\n",
       "</div>\n"
      ]
     },
     "metadata": {},
     "output_type": "display_data"
    },
    {
     "data": {
      "text/html": [
       "<div class=\"progress\">\n",
       "  <div class=\"progress-bar\" role=\"progressbar\" style=\"background-color: blue; width: 100%; word-wrap: normal; white-space: nowrap; text-align: center; color: white\" aria-valuenow=\"100\" aria-valuemin=\"0\" aria-valuemax=\"100\">\n",
       "    5 / 5\n",
       "  </div>\n",
       "  <div class=\"progress-bar\" role=\"progressbar\" style=\"background-color: red; width: 0%\" aria-valuenow=\"0\" aria-valuemin=\"0\" aria-valuemax=\"100\"></div>\n",
       "</div>\n"
      ]
     },
     "metadata": {},
     "output_type": "display_data"
    },
    {
     "name": "stdout",
     "output_type": "stream",
     "text": [
      "+--------------------+--------------------+------------------+----+\n",
      "|              Region|                Tipo|        ValorTotal|rank|\n",
      "+--------------------+--------------------+------------------+----+\n",
      "|Comunidad Valenciana|             Nuclear|       3447199.037|   1|\n",
      "|Comunidad Valenciana|  Turbinación bombeo|       1151945.338|   2|\n",
      "|Comunidad Valenciana|              Eólica|        979153.284|   3|\n",
      "|Comunidad Valenciana|     Ciclo combinado|        959049.021|   4|\n",
      "|Comunidad Valenciana|        Cogeneración|        453825.985|   5|\n",
      "|Comunidad Valenciana|  Solar fotovoltaica|        390546.888|   6|\n",
      "|Comunidad Valenciana|          Hidráulica|         338831.28|   7|\n",
      "|Comunidad Valenciana|       Solar térmica|         58696.936|   8|\n",
      "|Comunidad Valenciana|    Otras renovables|         14203.804|   9|\n",
      "|Comunidad Valenciana|Residuos no renov...|          8974.212|  10|\n",
      "|Comunidad Valenciana|          Fuel + Gas|               0.0|  11|\n",
      "|              Madrid|        Cogeneración|        236091.926|   1|\n",
      "|              Madrid|  Solar fotovoltaica|131614.84100000001|   2|\n",
      "|              Madrid|          Hidráulica| 84338.16399999999|   3|\n",
      "|              Madrid|    Otras renovables|         70985.127|   4|\n",
      "|              Madrid| Residuos renovables|32026.893000000004|   5|\n",
      "|              Madrid|Residuos no renov...|32026.893000000004|   6|\n",
      "|            Asturias|              Carbón|       1237869.432|   1|\n",
      "|            Asturias|          Hidráulica|        801325.848|   2|\n",
      "|            Asturias|              Eólica|        603328.896|   3|\n",
      "+--------------------+--------------------+------------------+----+\n",
      "only showing top 20 rows\n",
      "\n"
     ]
    }
   ],
   "source": [
    "sumaEnergiaPorRegionYTipo\n",
    "    .withColumn(\"rank\", row_number().over(windowSpec))\n",
    "    .show()"
   ]
  },
  {
   "cell_type": "code",
   "execution_count": null,
   "metadata": {},
   "outputs": [],
   "source": []
  }
 ],
 "metadata": {
  "kernelspec": {
   "display_name": "Scala 2.12",
   "language": "scala",
   "name": "scala212"
  },
  "language_info": {
   "codemirror_mode": "text/x-scala",
   "file_extension": ".scala",
   "mimetype": "text/x-scala",
   "name": "scala",
   "nbconvert_exporter": "script",
   "version": "2.12.10"
  }
 },
 "nbformat": 4,
 "nbformat_minor": 4
}
