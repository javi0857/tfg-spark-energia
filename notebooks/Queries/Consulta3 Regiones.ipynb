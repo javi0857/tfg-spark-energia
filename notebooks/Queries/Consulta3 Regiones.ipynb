{
 "cells": [
  {
   "cell_type": "markdown",
   "metadata": {},
   "source": [
    "### Inicio Spark Session\n",
    "En esta primera celda importamos y configuramos todo lo necesario e iniciamos nuestra sesión de Spark"
   ]
  },
  {
   "cell_type": "code",
   "execution_count": 1,
   "metadata": {},
   "outputs": [
    {
     "name": "stdout",
     "output_type": "stream",
     "text": [
      "Loading spark-stubs\n",
      "Getting spark JARs\n",
      "Creating SparkSession\n"
     ]
    },
    {
     "name": "stderr",
     "output_type": "stream",
     "text": [
      "Using Spark's default log4j profile: org/apache/spark/log4j-defaults.properties\n"
     ]
    },
    {
     "data": {
      "text/html": [
       "<a href=\"http://264ccb78965f:4040\">Spark UI</a>"
      ]
     },
     "metadata": {},
     "output_type": "display_data"
    },
    {
     "data": {
      "text/plain": [
       "\u001b[32mimport \u001b[39m\u001b[36m$ivy.$                                  \n",
       "\n",
       "\n",
       "\u001b[39m\n",
       "\u001b[32mimport \u001b[39m\u001b[36morg.apache.spark.sql._\n",
       "\u001b[39m\n",
       "\u001b[32mimport \u001b[39m\u001b[36morg.apache.spark.sql.functions._\n",
       "\n",
       "\n",
       "//Reducir numero logs\n",
       "\u001b[39m\n",
       "\u001b[32mimport \u001b[39m\u001b[36morg.apache.log4j.{Level, Logger}\n",
       "\u001b[39m\n",
       "\u001b[32mimport \u001b[39m\u001b[36m$ivy.$                                                                        \n",
       "\u001b[39m\n",
       "\u001b[32mimport \u001b[39m\u001b[36msttp.client.quick.{quickRequest, UriContext, backend}\n",
       "\u001b[39m\n",
       "\u001b[32mimport \u001b[39m\u001b[36msttp.client.asynchttpclient.monix._\n",
       "\n",
       "\n",
       "//Sttp para realizar request\n",
       "\u001b[39m\n",
       "\u001b[32mimport \u001b[39m\u001b[36m$ivy.$                                                                        \n",
       "\u001b[39m\n",
       "\u001b[32mimport \u001b[39m\u001b[36msttp.client.quick.{quickRequest, UriContext, backend}\n",
       "\u001b[39m\n",
       "\u001b[32mimport \u001b[39m\u001b[36msttp.client.asynchttpclient.monix._\n",
       "\u001b[39m\n",
       "\u001b[32mimport \u001b[39m\u001b[36msttp.client.basicRequest\n",
       "\n",
       "//For adding extra dependenies\n",
       "\u001b[39m\n",
       "\u001b[32mimport \u001b[39m\u001b[36m$ivy.$                               \n",
       "\n",
       "//Plotly\n",
       "\u001b[39m\n",
       "\u001b[32mimport \u001b[39m\u001b[36m$ivy.$                                      \n",
       "\u001b[39m\n",
       "\u001b[32mimport \u001b[39m\u001b[36mplotly._, plotly.element._, plotly.layout._, plotly.Almond._\n",
       "\n",
       "//Iniciamos session de Spark\n",
       "\u001b[39m\n",
       "\u001b[36mspark\u001b[39m: \u001b[32mSparkSession\u001b[39m = org.apache.spark.sql.SparkSession@68f3cda4\n",
       "\u001b[32mimport \u001b[39m\u001b[36mspark.implicits._\u001b[39m"
      ]
     },
     "execution_count": 1,
     "metadata": {},
     "output_type": "execute_result"
    }
   ],
   "source": [
    "import $ivy.`org.apache.spark::spark-sql:2.4.3`\n",
    "\n",
    "\n",
    "import org.apache.spark.sql._\n",
    "import org.apache.spark.sql.functions._\n",
    "\n",
    "\n",
    "//Reducir numero logs\n",
    "import org.apache.log4j.{Level, Logger}\n",
    "Logger.getLogger(\"org\").setLevel(Level.OFF)\n",
    "\n",
    "\n",
    "//Circe para trabajar con JSON\n",
    "import $ivy.`com.softwaremill.sttp.client::async-http-client-backend-monix:2.0.0-RC2`\n",
    "import sttp.client.quick.{quickRequest, UriContext, backend}\n",
    "import sttp.client.asynchttpclient.monix._\n",
    "\n",
    "\n",
    "//Sttp para realizar request\n",
    "import $ivy.`com.softwaremill.sttp.client::async-http-client-backend-monix:2.0.0-RC2`\n",
    "import sttp.client.quick.{quickRequest, UriContext, backend}\n",
    "import sttp.client.asynchttpclient.monix._\n",
    "import sttp.client.basicRequest\n",
    "\n",
    "//For adding extra dependenies\n",
    "import $ivy.`org.typelevel::cats-core:1.6.0`\n",
    "\n",
    "//Plotly\n",
    "import $ivy.`org.plotly-scala::plotly-almond:0.7.1`\n",
    "import plotly._, plotly.element._, plotly.layout._, plotly.Almond._\n",
    "\n",
    "//Iniciamos session de Spark\n",
    "val spark = {\n",
    "  NotebookSparkSession.builder()\n",
    "    .master(\"local[*]\")\n",
    "    .getOrCreate()\n",
    "}\n",
    "import spark.implicits._"
   ]
  },
  {
   "cell_type": "code",
   "execution_count": 11,
   "metadata": {},
   "outputs": [
    {
     "data": {
      "text/html": [
       "<div>\n",
       "  <span style=\"float: left;\">parquet at cmd10.sc:2</span>\n",
       "</div>\n"
      ]
     },
     "metadata": {},
     "output_type": "display_data"
    },
    {
     "data": {
      "text/html": [
       "<div class=\"progress\">\n",
       "  <div class=\"progress-bar\" role=\"progressbar\" style=\"background-color: blue; width: 100%; word-wrap: normal; white-space: nowrap; text-align: center; color: white\" aria-valuenow=\"100\" aria-valuemin=\"0\" aria-valuemax=\"100\">\n",
       "    1 / 1\n",
       "  </div>\n",
       "  <div class=\"progress-bar\" role=\"progressbar\" style=\"background-color: red; width: 0%\" aria-valuenow=\"0\" aria-valuemin=\"0\" aria-valuemax=\"100\"></div>\n",
       "</div>\n"
      ]
     },
     "metadata": {},
     "output_type": "display_data"
    },
    {
     "data": {
      "text/plain": [
       "\u001b[36mdfConsulta3\u001b[39m: \u001b[32mDataFrame\u001b[39m = [Region: string, Energía_Total_por_Region_millones_MWh: double ... 2 more fields]"
      ]
     },
     "execution_count": 11,
     "metadata": {},
     "output_type": "execute_result"
    }
   ],
   "source": [
    "val dfConsulta3 = spark.read\n",
    "            .parquet(\"../../data/parquet/DatosConsulta3.parquet\")"
   ]
  },
  {
   "cell_type": "code",
   "execution_count": 12,
   "metadata": {},
   "outputs": [
    {
     "data": {
      "text/plain": [
       "\u001b[36mdataRegiones\u001b[39m: \u001b[32mDataset\u001b[39m[\u001b[32mRow\u001b[39m] = [Region: string, Energía_Total_por_Region_millones_MWh: double ... 2 more fields]"
      ]
     },
     "execution_count": 12,
     "metadata": {},
     "output_type": "execute_result"
    }
   ],
   "source": [
    "//Quitar peninsular para quedarnos solo con comunidades\n",
    "val dataRegiones = dfConsulta3\n",
    "    .filter($\"Region\" !== \"Peninsular\")\n",
    "    //.filter($\"Compuesto\" === false) //Fuente unica, no suma de energias"
   ]
  },
  {
   "cell_type": "code",
   "execution_count": 13,
   "metadata": {},
   "outputs": [
    {
     "data": {
      "text/html": [
       "<div>\n",
       "  <span style=\"float: left;\">show at cmd12.sc:1</span>\n",
       "</div>\n"
      ]
     },
     "metadata": {},
     "output_type": "display_data"
    },
    {
     "data": {
      "text/html": [
       "<div class=\"progress\">\n",
       "  <div class=\"progress-bar\" role=\"progressbar\" style=\"background-color: blue; width: 100%; word-wrap: normal; white-space: nowrap; text-align: center; color: white\" aria-valuenow=\"100\" aria-valuemin=\"0\" aria-valuemax=\"100\">\n",
       "    1 / 1\n",
       "  </div>\n",
       "  <div class=\"progress-bar\" role=\"progressbar\" style=\"background-color: red; width: 0%\" aria-valuenow=\"0\" aria-valuemin=\"0\" aria-valuemax=\"100\"></div>\n",
       "</div>\n"
      ]
     },
     "metadata": {},
     "output_type": "display_data"
    },
    {
     "name": "stdout",
     "output_type": "stream",
     "text": [
      "+--------------------+-------------------------------------+------------------------------+-------------------------------------------+\n",
      "|              Region|Energía_Total_por_Region_millones_MWh|Fuente_de_Energía_Predominante|Energía_de_Fuente_Predominante_millones_MWh|\n",
      "+--------------------+-------------------------------------+------------------------------+-------------------------------------------+\n",
      "|            Cataluña|                                25.56|                       Nuclear|                                      15.46|\n",
      "|         Extremadura|                                22.08|                       Nuclear|                                      10.02|\n",
      "|           Andalucía|                                20.95|            Solar fotovoltaica|                                       7.48|\n",
      "|  Castilla la Mancha|                                 20.8|            Solar fotovoltaica|                                       7.95|\n",
      "|     Castilla y Leon|                                19.53|                        Eólica|                                       8.21|\n",
      "|             Galicia|                                15.76|                    Hidráulica|                                       7.34|\n",
      "|              Aragón|                                15.02|                        Eólica|                                       7.75|\n",
      "|Comunidad Valenciana|                                10.87|                       Nuclear|                                       4.92|\n",
      "|      Islas Canarias|                                 8.81|               Ciclo combinado|                                       3.74|\n",
      "|              Murcia|                                 5.34|               Ciclo combinado|                                        2.2|\n",
      "|            Asturias|                                 4.52|                        Carbón|                                       1.68|\n",
      "|      Islas Baleares|                                 4.45|               Ciclo combinado|                                       2.91|\n",
      "|             Navarra|                                 4.09|                        Eólica|                                       2.25|\n",
      "|          Pais Vasco|                                 3.16|               Ciclo combinado|                                       1.53|\n",
      "|            La Rioja|                                 1.15|               Ciclo combinado|                                       0.53|\n",
      "|           Cantabria|                                 0.81|            Turbinación bombeo|                                       0.43|\n",
      "|              Madrid|                                  0.8|                  Cogeneración|                                       0.34|\n",
      "|             Melilla|                                  0.2|                Motores diésel|                                       0.19|\n",
      "|               Ceuta|                                 0.19|                Motores diésel|                                       0.19|\n",
      "+--------------------+-------------------------------------+------------------------------+-------------------------------------------+\n",
      "\n"
     ]
    }
   ],
   "source": [
    "dataRegiones.show()"
   ]
  },
  {
   "cell_type": "code",
   "execution_count": null,
   "metadata": {},
   "outputs": [],
   "source": [
    "\n"
   ]
  },
  {
   "cell_type": "code",
   "execution_count": null,
   "metadata": {},
   "outputs": [],
   "source": []
  },
  {
   "cell_type": "code",
   "execution_count": 15,
   "metadata": {},
   "outputs": [
    {
     "data": {
      "text/html": [
       "<div>\n",
       "  <span style=\"float: left;\">collect at cmd14.sc:4</span>\n",
       "</div>\n"
      ]
     },
     "metadata": {},
     "output_type": "display_data"
    },
    {
     "data": {
      "text/html": [
       "<div class=\"progress\">\n",
       "  <div class=\"progress-bar\" role=\"progressbar\" style=\"background-color: blue; width: 100%; word-wrap: normal; white-space: nowrap; text-align: center; color: white\" aria-valuenow=\"100\" aria-valuemin=\"0\" aria-valuemax=\"100\">\n",
       "    1 / 1\n",
       "  </div>\n",
       "  <div class=\"progress-bar\" role=\"progressbar\" style=\"background-color: red; width: 0%\" aria-valuenow=\"0\" aria-valuemin=\"0\" aria-valuemax=\"100\"></div>\n",
       "</div>\n"
      ]
     },
     "metadata": {},
     "output_type": "display_data"
    },
    {
     "data": {
      "text/html": [
       "<div>\n",
       "  <span style=\"float: left;\">collect at cmd14.sc:5</span>\n",
       "</div>\n"
      ]
     },
     "metadata": {},
     "output_type": "display_data"
    },
    {
     "data": {
      "text/html": [
       "<div class=\"progress\">\n",
       "  <div class=\"progress-bar\" role=\"progressbar\" style=\"background-color: blue; width: 100%; word-wrap: normal; white-space: nowrap; text-align: center; color: white\" aria-valuenow=\"100\" aria-valuemin=\"0\" aria-valuemax=\"100\">\n",
       "    1 / 1\n",
       "  </div>\n",
       "  <div class=\"progress-bar\" role=\"progressbar\" style=\"background-color: red; width: 0%\" aria-valuenow=\"0\" aria-valuemin=\"0\" aria-valuemax=\"100\"></div>\n",
       "</div>\n"
      ]
     },
     "metadata": {},
     "output_type": "display_data"
    },
    {
     "data": {
      "text/html": [
       "<div>\n",
       "  <span style=\"float: left;\">collect at cmd14.sc:6</span>\n",
       "</div>\n"
      ]
     },
     "metadata": {},
     "output_type": "display_data"
    },
    {
     "data": {
      "text/html": [
       "<div class=\"progress\">\n",
       "  <div class=\"progress-bar\" role=\"progressbar\" style=\"background-color: blue; width: 100%; word-wrap: normal; white-space: nowrap; text-align: center; color: white\" aria-valuenow=\"100\" aria-valuemin=\"0\" aria-valuemax=\"100\">\n",
       "    1 / 1\n",
       "  </div>\n",
       "  <div class=\"progress-bar\" role=\"progressbar\" style=\"background-color: red; width: 0%\" aria-valuenow=\"0\" aria-valuemin=\"0\" aria-valuemax=\"100\"></div>\n",
       "</div>\n"
      ]
     },
     "metadata": {},
     "output_type": "display_data"
    },
    {
     "data": {
      "text/html": [
       "\n",
       "      <script type=\"text/javascript\">\n",
       "        require.config({\n",
       "  paths: {\n",
       "    d3: 'https://cdnjs.cloudflare.com/ajax/libs/d3/3.5.17/d3.min',\n",
       "    plotly: 'https://cdn.plot.ly/plotly-1.41.3.min',\n",
       "    jquery: 'https://code.jquery.com/jquery-3.3.1.min'\n",
       "  },\n",
       "\n",
       "  shim: {\n",
       "    plotly: {\n",
       "      deps: ['d3', 'jquery'],\n",
       "      exports: 'plotly'\n",
       "    }\n",
       "  }\n",
       "});\n",
       "        \n",
       "\n",
       "        require(['plotly'], function(Plotly) {\n",
       "          window.Plotly = Plotly;\n",
       "        });\n",
       "      </script>\n",
       "    "
      ]
     },
     "metadata": {},
     "output_type": "display_data"
    },
    {
     "data": {
      "application/vnd.plotly.v1+json": {
       "data": [
        {
         "name": "Energía Total",
         "orientation": "h",
         "type": "bar",
         "x": [
          25.56,
          22.08,
          20.95,
          20.8,
          19.53,
          15.76,
          15.02,
          10.87,
          8.81,
          5.34,
          4.52,
          4.45,
          4.09,
          3.16,
          1.15,
          0.81,
          0.8,
          0.2,
          0.19
         ],
         "y": [
          "Cataluña",
          "Extremadura",
          "Andalucía",
          "Castilla la Mancha",
          "Castilla y Leon",
          "Galicia",
          "Aragón",
          "Comunidad Valenciana",
          "Islas Canarias",
          "Murcia",
          "Asturias",
          "Islas Baleares",
          "Navarra",
          "Pais Vasco",
          "La Rioja",
          "Cantabria",
          "Madrid",
          "Melilla",
          "Ceuta"
         ]
        },
        {
         "name": "Fuente Predominante",
         "orientation": "h",
         "type": "bar",
         "x": [
          15.46,
          10.02,
          7.48,
          7.95,
          8.21,
          7.34,
          7.75,
          4.92,
          3.74,
          2.2,
          1.68,
          2.91,
          2.25,
          1.53,
          0.53,
          0.43,
          0.34,
          0.19,
          0.19
         ],
         "y": [
          "Cataluña",
          "Extremadura",
          "Andalucía",
          "Castilla la Mancha",
          "Castilla y Leon",
          "Galicia",
          "Aragón",
          "Comunidad Valenciana",
          "Islas Canarias",
          "Murcia",
          "Asturias",
          "Islas Baleares",
          "Navarra",
          "Pais Vasco",
          "La Rioja",
          "Cantabria",
          "Madrid",
          "Melilla",
          "Ceuta"
         ]
        }
       ],
       "layout": {
        "autosize": true,
        "barmode": "group",
        "title": {
         "text": "Energía Total y Predominante por Región"
        },
        "xaxis": {
         "autorange": true,
         "range": [
          0,
          26.905263157894737
         ],
         "title": {
          "text": "Energía (millones MWh)"
         },
         "type": "linear"
        },
        "yaxis": {
         "autorange": true,
         "range": [
          -0.5,
          18.5
         ],
         "title": {
          "text": "Región"
         },
         "type": "category"
        }
       }
      },
      "image/png": "[encoded data removed]",
      "text/html": [
       "<div class=\"chart\" id=\"plot-fa0f71cd-ff62-46fa-a433-f352305ac76d\"></div>\n",
       "<script>require(['plotly'], function(Plotly) {\n",
       "  (function () {\n",
       "  var data0 = {\"x\":[25.56,22.08,20.95,20.8,19.53,15.76,15.02,10.87,8.81,5.34,4.52,4.45,4.09,3.16,1.15,0.81,0.8,0.2,0.19],\"name\":\"Energía Total\",\"y\":[\"Cataluña\",\"Extremadura\",\"Andalucía\",\"Castilla la Mancha\",\"Castilla y Leon\",\"Galicia\",\"Aragón\",\"Comunidad Valenciana\",\"Islas Canarias\",\"Murcia\",\"Asturias\",\"Islas Baleares\",\"Navarra\",\"Pais Vasco\",\"La Rioja\",\"Cantabria\",\"Madrid\",\"Melilla\",\"Ceuta\"],\"orientation\":\"h\",\"type\":\"bar\"};\n",
       "  var data1 = {\"x\":[15.46,10.02,7.48,7.95,8.21,7.34,7.75,4.92,3.74,2.2,1.68,2.91,2.25,1.53,0.53,0.43,0.34,0.19,0.19],\"name\":\"Fuente Predominante\",\"y\":[\"Cataluña\",\"Extremadura\",\"Andalucía\",\"Castilla la Mancha\",\"Castilla y Leon\",\"Galicia\",\"Aragón\",\"Comunidad Valenciana\",\"Islas Canarias\",\"Murcia\",\"Asturias\",\"Islas Baleares\",\"Navarra\",\"Pais Vasco\",\"La Rioja\",\"Cantabria\",\"Madrid\",\"Melilla\",\"Ceuta\"],\"orientation\":\"h\",\"type\":\"bar\"};\n",
       "\n",
       "  var data = [data0, data1];\n",
       "  var layout = {\"barmode\":\"group\",\"title\":\"Energía Total y Predominante por Región\",\"yaxis\":{\"title\":\"Región\"},\"xaxis\":{\"title\":\"Energía (millones MWh)\"}};\n",
       "\n",
       "  Plotly.plot('plot-fa0f71cd-ff62-46fa-a433-f352305ac76d', data, layout);\n",
       "})();\n",
       "});\n",
       "      </script>\n",
       "           "
      ]
     },
     "metadata": {},
     "output_type": "display_data"
    },
    {
     "data": {
      "text/plain": [
       "defined \u001b[32mfunction\u001b[39m \u001b[36mgraficoTopRegiones\u001b[39m"
      ]
     },
     "execution_count": 15,
     "metadata": {},
     "output_type": "execute_result"
    }
   ],
   "source": [
    "def graficoTopRegiones(datosConsulta3: DataFrame): Unit = {\n",
    "    \n",
    "    // Extraer los datos del DataFrame\n",
    "    val regiones = datosConsulta3.select(\"Region\").as[String].collect.toSeq\n",
    "    val energiaTotal = datosConsulta3.select(\"Energía_Total_por_Region_millones_MWh\").as[Double].collect.toSeq\n",
    "    val energiaPredominante = datosConsulta3.select(\"Energía_de_Fuente_Predominante_millones_MWh\").as[Double].collect.toSeq\n",
    "\n",
    "    // Traza para la energía total\n",
    "    val traceTotal = Bar(\n",
    "      x = energiaTotal,\n",
    "      y = regiones,\n",
    "      name = \"Energía Total\",\n",
    "      orientation = Orientation.Horizontal\n",
    "    )\n",
    "\n",
    "    // Traza para la energía predominante\n",
    "    val tracePredominante = Bar(\n",
    "      x = energiaPredominante,\n",
    "      y = regiones,\n",
    "      name = \"Fuente Predominante\",\n",
    "      orientation = Orientation.Horizontal\n",
    "    )\n",
    "\n",
    "    // Configuración del diseño del gráfico\n",
    "    val layout = Layout(\n",
    "      title = \"Energía Total y Predominante por Región\",\n",
    "      barmode = BarMode.Group,\n",
    "      xaxis = Axis(title = \"Energía (millones MWh)\"),\n",
    "      yaxis = Axis(title = \"Región\")\n",
    "    )\n",
    "\n",
    "    // Renderizar el gráfico\n",
    "    plot(Seq(traceTotal, tracePredominante), layout)\n",
    "}\n",
    "\n",
    "graficoTopRegiones(dataRegiones)"
   ]
  },
  {
   "cell_type": "code",
   "execution_count": null,
   "metadata": {},
   "outputs": [],
   "source": []
  }
 ],
 "metadata": {
  "kernelspec": {
   "display_name": "Scala 2.12",
   "language": "scala",
   "name": "scala212"
  },
  "language_info": {
   "codemirror_mode": "text/x-scala",
   "file_extension": ".scala",
   "mimetype": "text/x-scala",
   "name": "scala",
   "nbconvert_exporter": "script",
   "version": "2.12.10"
  }
 },
 "nbformat": 4,
 "nbformat_minor": 4
}
