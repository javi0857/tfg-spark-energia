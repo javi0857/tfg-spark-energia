{
 "cells": [
  {
   "cell_type": "code",
   "execution_count": 1,
   "metadata": {},
   "outputs": [
    {
     "data": {
      "text/plain": [
       "\u001b[32mimport \u001b[39m\u001b[36m$ivy.$                                  \n",
       "\n",
       "\n",
       "\u001b[39m\n",
       "\u001b[32mimport \u001b[39m\u001b[36morg.apache.spark.sql._\n",
       "\u001b[39m\n",
       "\u001b[32mimport \u001b[39m\u001b[36morg.apache.spark.sql.functions._\n",
       "\n",
       "\n",
       "//Reducir numero logs\n",
       "\u001b[39m\n",
       "\u001b[32mimport \u001b[39m\u001b[36morg.apache.log4j.{Level, Logger}\n",
       "\u001b[39m\n",
       "\u001b[32mimport \u001b[39m\u001b[36m$ivy.$                                                                        \n",
       "\u001b[39m\n",
       "\u001b[32mimport \u001b[39m\u001b[36msttp.client.quick.{quickRequest, UriContext, backend}\n",
       "\u001b[39m\n",
       "\u001b[32mimport \u001b[39m\u001b[36msttp.client.asynchttpclient.monix._\n",
       "\n",
       "\n",
       "//Sttp para realizar request\n",
       "\u001b[39m\n",
       "\u001b[32mimport \u001b[39m\u001b[36m$ivy.$                                                                        \n",
       "\u001b[39m\n",
       "\u001b[32mimport \u001b[39m\u001b[36msttp.client.quick.{quickRequest, UriContext, backend}\n",
       "\u001b[39m\n",
       "\u001b[32mimport \u001b[39m\u001b[36msttp.client.asynchttpclient.monix._\n",
       "\u001b[39m\n",
       "\u001b[32mimport \u001b[39m\u001b[36msttp.client.basicRequest\n",
       "\n",
       "//For adding extra dependenies\n",
       "\u001b[39m\n",
       "\u001b[32mimport \u001b[39m\u001b[36m$ivy.$                               \n",
       "\n",
       "//Plotly\n",
       "\u001b[39m\n",
       "\u001b[32mimport \u001b[39m\u001b[36m$ivy.$                                      \n",
       "\u001b[39m\n",
       "\u001b[32mimport \u001b[39m\u001b[36mplotly._, plotly.element._, plotly.layout._, plotly.Almond._\u001b[39m"
      ]
     },
     "execution_count": 1,
     "metadata": {},
     "output_type": "execute_result"
    }
   ],
   "source": [
    "import $ivy.`org.apache.spark::spark-sql:2.4.3`\n",
    "\n",
    "\n",
    "import org.apache.spark.sql._\n",
    "import org.apache.spark.sql.functions._\n",
    "\n",
    "\n",
    "//Reducir numero logs\n",
    "import org.apache.log4j.{Level, Logger}\n",
    "Logger.getLogger(\"org\").setLevel(Level.OFF)\n",
    "\n",
    "\n",
    "//Circe para trabajar con JSON\n",
    "import $ivy.`com.softwaremill.sttp.client::async-http-client-backend-monix:2.0.0-RC2`\n",
    "import sttp.client.quick.{quickRequest, UriContext, backend}\n",
    "import sttp.client.asynchttpclient.monix._\n",
    "\n",
    "\n",
    "//Sttp para realizar request\n",
    "import $ivy.`com.softwaremill.sttp.client::async-http-client-backend-monix:2.0.0-RC2`\n",
    "import sttp.client.quick.{quickRequest, UriContext, backend}\n",
    "import sttp.client.asynchttpclient.monix._\n",
    "import sttp.client.basicRequest\n",
    "\n",
    "//For adding extra dependenies\n",
    "import $ivy.`org.typelevel::cats-core:1.6.0`\n",
    "\n",
    "//Plotly\n",
    "import $ivy.`org.plotly-scala::plotly-almond:0.7.1`\n",
    "import plotly._, plotly.element._, plotly.layout._, plotly.Almond._"
   ]
  },
  {
   "cell_type": "code",
   "execution_count": 2,
   "metadata": {},
   "outputs": [
    {
     "name": "stdout",
     "output_type": "stream",
     "text": [
      "Loading spark-stubs\n",
      "Getting spark JARs\n",
      "Creating SparkSession\n"
     ]
    },
    {
     "name": "stderr",
     "output_type": "stream",
     "text": [
      "Using Spark's default log4j profile: org/apache/spark/log4j-defaults.properties\n"
     ]
    },
    {
     "data": {
      "text/html": [
       "<a href=\"http://1b362bbb2ad2:4040\">Spark UI</a>"
      ]
     },
     "metadata": {},
     "output_type": "display_data"
    },
    {
     "data": {
      "text/plain": [
       "\u001b[36mspark\u001b[39m: \u001b[32mSparkSession\u001b[39m = org.apache.spark.sql.SparkSession@62db4ed9\n",
       "\u001b[32mimport \u001b[39m\u001b[36mspark.implicits._\u001b[39m"
      ]
     },
     "execution_count": 2,
     "metadata": {},
     "output_type": "execute_result"
    }
   ],
   "source": [
    "//Iniciamos session de Spark\n",
    "val spark = {\n",
    "  NotebookSparkSession.builder()\n",
    "    .master(\"local[*]\")\n",
    "    .getOrCreate()\n",
    "}\n",
    "import spark.implicits._"
   ]
  },
  {
   "cell_type": "markdown",
   "metadata": {},
   "source": [
    "## Creación de metodos para analisis"
   ]
  },
  {
   "cell_type": "code",
   "execution_count": 3,
   "metadata": {},
   "outputs": [
    {
     "data": {
      "text/plain": [
       "defined \u001b[32mfunction\u001b[39m \u001b[36mcreateUri\u001b[39m\n",
       "defined \u001b[32mfunction\u001b[39m \u001b[36mgetDataApi\u001b[39m\n",
       "defined \u001b[32mfunction\u001b[39m \u001b[36mresponseToDF\u001b[39m"
      ]
     },
     "execution_count": 3,
     "metadata": {},
     "output_type": "execute_result"
    }
   ],
   "source": [
    "//Crear URL\n",
    "def createUri(category: String, widget: String, start_date: String, end_date: String, time_trunc: String, lang: String, \n",
    "              geo_trunc: String = \"\", geo_limit: String = \"\", geo_ids: String = \"\"): String = {\n",
    "  val baseUrl = s\"https://apidatos.ree.es/$lang/datos/$category/$widget\"\n",
    "  \n",
    "  // Crear un mapa con los parámetros obligatorios y opcionales\n",
    "  val params = Map(\n",
    "    \"start_date\" -> start_date,\n",
    "    \"end_date\" -> end_date,\n",
    "    \"time_trunc\" -> time_trunc,\n",
    "    \"geo_trunc\" -> geo_trunc,\n",
    "    \"geo_limit\" -> geo_limit,\n",
    "    \"geo_ids\" -> geo_ids\n",
    "  ).filter { case (_, v) => v.nonEmpty } // Filtrar los parámetros que no están vacíos\n",
    "\n",
    "  //Especifico el orden concreto de los paramtros ya que, Scala map no te garantiza el orden\n",
    "  val orderedKeys = Seq(\"start_date\", \"end_date\", \"time_trunc\", \"geo_trunc\", \"geo_limit\", \"geo_ids\")\n",
    "\n",
    "  // Unir los parámetros en una cadena\n",
    "  val queryString = orderedKeys.flatMap(key => params.get(key).map(value => s\"$key=$value\")).mkString(\"&\")\n",
    "  \n",
    "  s\"$baseUrl?$queryString\"\n",
    "}\n",
    "\n",
    "\n",
    "//Lanzar llamada y obtener guardar datos\n",
    "def getDataApi(apiUrl: String): Either[String, String] = {\n",
    " \n",
    "    val newRequest = basicRequest.get(uri\"$apiUrl\")\n",
    "    val response = newRequest.send()\n",
    "  \n",
    "  response.body match {\n",
    "    case Right(body) => \n",
    "      Right(body)\n",
    "      \n",
    "    case Left(error) => \n",
    "      Left(s\"Error fetching data: $error\")\n",
    "  }\n",
    "}\n",
    "\n",
    "// Transformar response a DataFrame\n",
    "def responseToDF(response: Either[String, String]): DataFrame = {\n",
    "    response match {\n",
    "    case Right(body) => \n",
    "        val rdd = spark.sparkContext.parallelize(Seq(body))\n",
    "        spark.read.json(rdd)\n",
    "    case Left(error) => \n",
    "        println(error)\n",
    "        spark.emptyDataFrame\n",
    "    }\n",
    "}\n",
    "\n"
   ]
  },
  {
   "cell_type": "markdown",
   "metadata": {},
   "source": [
    "### Creamos Uris"
   ]
  },
  {
   "cell_type": "code",
   "execution_count": 4,
   "metadata": {},
   "outputs": [
    {
     "data": {
      "text/plain": [
       "\u001b[36mcategory\u001b[39m: \u001b[32mString\u001b[39m = \u001b[32m\"generacion\"\u001b[39m\n",
       "\u001b[36mcategory2\u001b[39m: \u001b[32mString\u001b[39m = \u001b[32m\"demanda\"\u001b[39m\n",
       "\u001b[36mwidget\u001b[39m: \u001b[32mString\u001b[39m = \u001b[32m\"estructura-generacion\"\u001b[39m\n",
       "\u001b[36mstart_date\u001b[39m: \u001b[32mString\u001b[39m = \u001b[32m\"2023-01-01T00:00\"\u001b[39m\n",
       "\u001b[36mend_date\u001b[39m: \u001b[32mString\u001b[39m = \u001b[32m\"2023-12-31T23:59\"\u001b[39m\n",
       "\u001b[36mtime_trunc\u001b[39m: \u001b[32mString\u001b[39m = \u001b[32m\"month\"\u001b[39m\n",
       "\u001b[36mlang\u001b[39m: \u001b[32mString\u001b[39m = \u001b[32m\"es\"\u001b[39m\n",
       "\u001b[36mgeo_trunc\u001b[39m: \u001b[32mString\u001b[39m = \u001b[32m\"electric_system\"\u001b[39m\n",
       "\u001b[36mgeo_limit\u001b[39m: \u001b[32mString\u001b[39m = \u001b[32m\"ccaa\"\u001b[39m\n",
       "\u001b[36mgeo_ids\u001b[39m: \u001b[32mString\u001b[39m = \u001b[32m\"13\"\u001b[39m\n",
       "\u001b[36muriGeneracionNacional23\u001b[39m: \u001b[32mString\u001b[39m = \u001b[32m\"https://apidatos.ree.es/es/datos/generacion/estructura-generacion?start_date=2023-01-01T00:00&end_date=2023-12-31T23:59&time_trunc=month\"\u001b[39m\n",
       "\u001b[36muriGeneracionMadrid23\u001b[39m: \u001b[32mString\u001b[39m = \u001b[32m\"https://apidatos.ree.es/es/datos/generacion/estructura-generacion?start_date=2023-01-01T00:00&end_date=2023-12-31T23:59&time_trunc=month&geo_trunc=electric_system&geo_limit=ccaa&geo_ids=13\"\u001b[39m\n",
       "\u001b[36muriDemandaMadrid23\u001b[39m: \u001b[32mString\u001b[39m = \u001b[32m\"https://apidatos.ree.es/es/datos/demanda/evolucion?start_date=2023-01-01T00:00&end_date=2023-12-31T23:59&time_trunc=month&geo_trunc=electric_system&geo_limit=ccaa&geo_ids=13\"\u001b[39m"
      ]
     },
     "execution_count": 4,
     "metadata": {},
     "output_type": "execute_result"
    }
   ],
   "source": [
    "val category = \"generacion\"\n",
    "val category2 = \"demanda\"\n",
    "val widget = \"estructura-generacion\"\n",
    "val start_date = \"2023-01-01T00:00\"\n",
    "val end_date = \"2023-12-31T23:59\"\n",
    "val time_trunc = \"month\"\n",
    "val lang = \"es\"\n",
    "val geo_trunc = \"electric_system\"\n",
    "val geo_limit = \"ccaa\"\n",
    "val geo_ids = \"13\"\n",
    "val uriGeneracionNacional23 = createUri(category, widget, start_date, end_date, time_trunc, lang) //Generacion Nacional\n",
    "val uriGeneracionMadrid23 = createUri(category,widget,start_date, end_date, time_trunc, lang, geo_trunc, geo_limit, geo_ids) //Generacion en comunidad de Madrid\n",
    "val uriDemandaMadrid23 = createUri(\"demanda\",\"evolucion\",start_date, end_date, time_trunc, lang, geo_trunc, geo_limit, geo_ids) //Demanda en comunidad de Madrid"
   ]
  },
  {
   "cell_type": "markdown",
   "metadata": {},
   "source": [
    "### Hacemos llamada a la api"
   ]
  },
  {
   "cell_type": "code",
   "execution_count": 5,
   "metadata": {},
   "outputs": [
    {
     "data": {
      "text/plain": [
       "\u001b[36mjsonGeneracionNacional23\u001b[39m: \u001b[32mEither\u001b[39m[\u001b[32mString\u001b[39m, \u001b[32mString\u001b[39m] = \u001b[33mRight\u001b[39m(\n",
       "  \u001b[32m\"{\\\"data\\\":{\\\"type\\\":\\\"Generaci\\\\u00f3n por tecnolog\\\\u00eda\\\",\\\"id\\\":\\\"gen1\\\",\\\"attributes\\\":{\\\"title\\\":\\\"Generaci\\\\u00f3n por tecnolog\\\\u00eda\\\",\\\"last-update\\\":\\\"2024-05-27T14:20:05.000+02:00\\\",\\\"description\\\":null},\\\"meta\\\":{\\\"cache-control\\\":{\\\"cache\\\":\\\"HIT\\\",\\\"expireAt\\\":\\\"2024-07-26T15:46:13\\\"}}},\\\"included\\\":[{\\\"type\\\":\\\"Hidr\\\\u00e1ulica\\\",\\\"id\\\":\\\"10288\\\",\\\"groupId\\\":\\\"1\\\",\\\"attributes\\\":{\\\"title\\\":\\\"Hidr\\\\u00e1ulica\\\",\\\"description\\\":null,\\\"color\\\":\\\"#0090d1\\\",\\\"type\\\":\\\"Renovable\\\",\\\"magnitude\\\":null,\\\"composite\\\":false,\\\"last-update\\\":\\\"2024-05-27T14:20:01.000+02:00\\\",\\\"values\\\":[{\\\"value\\\":3859362.995,\\\"percentage\\\":0.16176383781768447,\\\"datetime\\\":\\\"2023-01-01T00:00:00.000+01:00\\\"},{\\\"value\\\":2462733.917,\\\"percentage\\\":0.11326987124718617,\\\"datetime\\\":\\\"2023-02-01T00:00:00.000+01:00\\\"},{\\\"value\\\":2044472.686,\\\"percentage\\\":0.08516580607060466,\\\"datetime\\\":\\\"2023-03-01T00:00:00.000+01:00\\\"},{\\\"value\\\":1533648.466,\\\"percentage\\\":0.07142808117444269,\\\"datetime\\\":\\\"2023-04-01T00:00:00.000+02:00\\\"},{\\\"value\\\":1392479.121,\\\"percentage\\\":0.06470708770750101,\\\"datetime\\\":\\\"2023-05-01T00:00:00.000+02:00\\\"},{\\\"value\\\":1920006.486,\\\"percentage\\\":0.0900699721456395,\\\"datetime\\\":\\\"2023-06-01T00:00:00.000+02:00\\\"},{\\\"value\\\":1308841.169,\\\"percentage\\\":0.055285156537423524,\\\"datetime\\\":\\\"2023-07-01T00:00:00.000+02:00\\\"},{\\\"value\\\":981141.097,\\\"percentage\\\":0.04166439159677246,\\\"datetime\\\":\\\"2023-08-01T00:00:00.000+02:00\\\"},{\\\"value\\\":932569.994,\\\"percentage\\\":0.044884780043324725,\\\"datetime\\\":\\\"2023-09-01T00:00:00.000+02:00\\\"},{\\\"value\\\":1456377.369,\\\"percentage\\\":0.06945106397798752,\\\"datetime\\\":\\\"2023-10-01T00:00:00.000+02:00\\\"},{\\\"value\\\":3453969.43,\\\"percentage\\\":0.1596011764189467,\\\"datetime\\\":\\\"2023-11-01T00:00:00.000+01:00\\\"},{\\\"value\\\":3984079.747,\\\"percentage\\\":0.1763242617765349,\\\"datetime\\\":\\\"2023-12-01T00:00:00.000+01:00\\\"}]}},{\\\"type\\\":\\\"Turbinaci\\\\u00f3n bombeo\\\",\\\"id\\\":\\\"1445\\\",\\\"groupId\\\":\\\"1\\\",\\\"attributes\\\":{\\\"title\\\":\\\"Turbinaci\\\\u00f3n bombeo\\\",\\\"description\\\":null,\\\"color\\\":\\\"#007cf9\\\",\\\"type\\\":\\\"No-Renovable\\\",\\\"magnitude\\\":null,\\\"composite\\\":false,\\\"last-update\\\":\\\"2024-06-06T10:15:59.000+02:00\\\",\\\"values\\\":[{\\\"value\\\":542797.45,\\\"percentage\\\":0.022751163542638644,\\\"datetime\\\":\\\"2023-01-01T00:00:00.000+01:00\\\"},{\\\"value\\\":260871.229,\\\"percentage\\\":0.011998393458973595,\\\"datetime\\\":\\\"2023-02-01T00:00:00.000+01:00\\\"},{\\\"value\\\":540079.804,\\\"percentage\\\":0.02249789501473153,\\\"datetime\\\":\\\"2023-03-01T00:00:00.000+01:00\\\"},{\\\"value\\\":611590.252,\\\"percentage\\\":0.028484179480380258,\\\"datetime\\\":\\\"2023-04-01T00:00:00.000+02:00\\\"},{\\\"value\\\":482569.639,\\\"percentage\\\":0.022424520041151915,\\\"datetime\\\":\\\"2023-05-01T00:00:00.000+02:00\\\"},{\\\"value\\\":288840.65,\\\"percentage\\\":0.013549886153888966,\\\"datetime\\\":\\\"2023-06-01T00:00:00.000+02:00\\\"},{\\\"value\\\":317617.375,\\\"percentage\\\":0.013416086467769527,\\\"datetime\\\":\\\"2023-07-01T00:00:00.000+02:00\\\"},{\\\"value\\\":417216.079,\\\"percentage\\\":0.017717180687953544,\\\"datetime\\\":\\\"2023-08-01T00:00:00.000+02:00\\\"},{\\\"value\\\":351919.43,\\\"p\u001b[39m...\n",
       "\u001b[36mjsonGeneracionMadrid23\u001b[39m: \u001b[32mEither\u001b[39m[\u001b[32mString\u001b[39m, \u001b[32mString\u001b[39m] = \u001b[33mRight\u001b[39m(\n",
       "  \u001b[32m\"{\\\"data\\\":{\\\"type\\\":\\\"Generaci\\\\u00f3n por tecnolog\\\\u00eda\\\",\\\"id\\\":\\\"gen1\\\",\\\"attributes\\\":{\\\"title\\\":\\\"Generaci\\\\u00f3n por tecnolog\\\\u00eda\\\",\\\"last-update\\\":\\\"2024-05-27T14:20:05.000+02:00\\\",\\\"description\\\":null},\\\"meta\\\":{\\\"cache-control\\\":{\\\"cache\\\":\\\"HIT\\\",\\\"expireAt\\\":\\\"2024-07-26T17:20:24\\\"}}},\\\"included\\\":[{\\\"type\\\":\\\"Hidr\\\\u00e1ulica\\\",\\\"id\\\":\\\"10330\\\",\\\"groupId\\\":\\\"1\\\",\\\"attributes\\\":{\\\"title\\\":\\\"Hidr\\\\u00e1ulica\\\",\\\"description\\\":null,\\\"color\\\":\\\"#0090d1\\\",\\\"type\\\":\\\"Renovable\\\",\\\"magnitude\\\":null,\\\"composite\\\":false,\\\"last-update\\\":\\\"2024-05-21T16:48:59.000+02:00\\\",\\\"values\\\":[{\\\"value\\\":12431.437,\\\"percentage\\\":0.16735471839913546,\\\"datetime\\\":\\\"2023-01-01T00:00:00.000+01:00\\\"},{\\\"value\\\":8575.886,\\\"percentage\\\":0.10323562145281584,\\\"datetime\\\":\\\"2023-02-01T00:00:00.000+01:00\\\"},{\\\"value\\\":6620.715,\\\"percentage\\\":0.08038810439422044,\\\"datetime\\\":\\\"2023-03-01T00:00:00.000+01:00\\\"},{\\\"value\\\":6372.79,\\\"percentage\\\":0.08393761716157118,\\\"datetime\\\":\\\"2023-04-01T00:00:00.000+02:00\\\"},{\\\"value\\\":5715.233,\\\"percentage\\\":0.06378713835185465,\\\"datetime\\\":\\\"2023-05-01T00:00:00.000+02:00\\\"},{\\\"value\\\":6891.109,\\\"percentage\\\":0.07703910285823073,\\\"datetime\\\":\\\"2023-06-01T00:00:00.000+02:00\\\"},{\\\"value\\\":10575.969,\\\"percentage\\\":0.1232040303865645,\\\"datetime\\\":\\\"2023-07-01T00:00:00.000+02:00\\\"},{\\\"value\\\":9392.096,\\\"percentage\\\":0.12774391589095763,\\\"datetime\\\":\\\"2023-08-01T00:00:00.000+02:00\\\"},{\\\"value\\\":2662.358,\\\"percentage\\\":0.03735339448785455,\\\"datetime\\\":\\\"2023-09-01T00:00:00.000+02:00\\\"},{\\\"value\\\":3152.3,\\\"percentage\\\":0.043605963494187924,\\\"datetime\\\":\\\"2023-10-01T00:00:00.000+02:00\\\"},{\\\"value\\\":8417.765,\\\"percentage\\\":0.12025007857614904,\\\"datetime\\\":\\\"2023-11-01T00:00:00.000+01:00\\\"},{\\\"value\\\":10434.955,\\\"percentage\\\":0.14454163751407867,\\\"datetime\\\":\\\"2023-12-01T00:00:00.000+01:00\\\"}]}},{\\\"type\\\":\\\"Solar fotovoltaica\\\",\\\"id\\\":\\\"1707\\\",\\\"groupId\\\":\\\"1\\\",\\\"attributes\\\":{\\\"title\\\":\\\"Solar fotovoltaica\\\",\\\"description\\\":null,\\\"color\\\":\\\"#e48500\\\",\\\"type\\\":\\\"Renovable\\\",\\\"magnitude\\\":null,\\\"composite\\\":false,\\\"last-update\\\":\\\"2024-05-21T16:59:14.000+02:00\\\",\\\"values\\\":[{\\\"value\\\":4464.463,\\\"percentage\\\":0.06010157539859305,\\\"datetime\\\":\\\"2023-01-01T00:00:00.000+01:00\\\"},{\\\"value\\\":5546.973,\\\"percentage\\\":0.06677388258624126,\\\"datetime\\\":\\\"2023-02-01T00:00:00.000+01:00\\\"},{\\\"value\\\":7966.96,\\\"percentage\\\":0.09673408569687389,\\\"datetime\\\":\\\"2023-03-01T00:00:00.000+01:00\\\"},{\\\"value\\\":9196.066,\\\"percentage\\\":0.12112369422192497,\\\"datetime\\\":\\\"2023-04-01T00:00:00.000+02:00\\\"},{\\\"value\\\":8855.46,\\\"percentage\\\":0.09883489477844817,\\\"datetime\\\":\\\"2023-05-01T00:00:00.000+02:00\\\"},{\\\"value\\\":8578.033,\\\"percentage\\\":0.09589805742563315,\\\"datetime\\\":\\\"2023-06-01T00:00:00.000+02:00\\\"},{\\\"value\\\":21335.082,\\\"percentage\\\":0.24854158432459902,\\\"datetime\\\":\\\"2023-07-01T00:00:00.000+02:00\\\"},{\\\"value\\\":23493.133,\\\"percentage\\\":0.31953515019087125,\\\"datetime\\\":\\\"2023-08-01T00:00:00.000+02:00\\\"},{\\\"value\\\":18944.862,\\\"percentage\\\":0.2658000553659445,\\\"datetime\\\":\\\"2023-09-01T00:00:00.00\u001b[39m...\n",
       "\u001b[36mjsonDemandaMadrid23\u001b[39m: \u001b[32mEither\u001b[39m[\u001b[32mString\u001b[39m, \u001b[32mString\u001b[39m] = \u001b[33mRight\u001b[39m(\n",
       "  \u001b[32m\"{\\\"data\\\":{\\\"type\\\":\\\"Evoluci\\\\u00f3n de la demanda\\\",\\\"id\\\":\\\"dem1\\\",\\\"attributes\\\":{\\\"title\\\":\\\"Evoluci\\\\u00f3n de la demanda\\\",\\\"last-update\\\":\\\"2024-05-27T14:20:05.000+02:00\\\",\\\"description\\\":null},\\\"meta\\\":{\\\"cache-control\\\":{\\\"cache\\\":\\\"HIT\\\",\\\"expireAt\\\":\\\"2024-07-26T17:20:44\\\"}}},\\\"included\\\":[{\\\"type\\\":\\\"Demanda\\\",\\\"id\\\":\\\"10339\\\",\\\"groupId\\\":null,\\\"attributes\\\":{\\\"title\\\":\\\"Demanda\\\",\\\"description\\\":null,\\\"color\\\":\\\"#ffea00\\\",\\\"type\\\":null,\\\"magnitude\\\":null,\\\"composite\\\":false,\\\"last-update\\\":\\\"2024-05-21T16:48:59.000+02:00\\\",\\\"values\\\":[{\\\"value\\\":2582358.518,\\\"percentage\\\":1,\\\"datetime\\\":\\\"2023-01-01T00:00:00.000+01:00\\\"},{\\\"value\\\":2327725.935,\\\"percentage\\\":1,\\\"datetime\\\":\\\"2023-02-01T00:00:00.000+01:00\\\"},{\\\"value\\\":2265854.374,\\\"percentage\\\":1,\\\"datetime\\\":\\\"2023-03-01T00:00:00.000+01:00\\\"},{\\\"value\\\":1897999.269,\\\"percentage\\\":1,\\\"datetime\\\":\\\"2023-04-01T00:00:00.000+02:00\\\"},{\\\"value\\\":2000961.266,\\\"percentage\\\":1,\\\"datetime\\\":\\\"2023-05-01T00:00:00.000+02:00\\\"},{\\\"value\\\":2155463.039,\\\"percentage\\\":1,\\\"datetime\\\":\\\"2023-06-01T00:00:00.000+02:00\\\"},{\\\"value\\\":2476210.644,\\\"percentage\\\":1,\\\"datetime\\\":\\\"2023-07-01T00:00:00.000+02:00\\\"},{\\\"value\\\":2330887.581,\\\"percentage\\\":1,\\\"datetime\\\":\\\"2023-08-01T00:00:00.000+02:00\\\"},{\\\"value\\\":2034557.114,\\\"percentage\\\":1,\\\"datetime\\\":\\\"2023-09-01T00:00:00.000+02:00\\\"},{\\\"value\\\":2141799.435,\\\"percentage\\\":1,\\\"datetime\\\":\\\"2023-10-01T00:00:00.000+02:00\\\"},{\\\"value\\\":2320371.574,\\\"percentage\\\":1,\\\"datetime\\\":\\\"2023-11-01T00:00:00.000+01:00\\\"},{\\\"value\\\":2537655.306,\\\"percentage\\\":1,\\\"datetime\\\":\\\"2023-12-01T00:00:00.000+01:00\\\"}]}}]}\"\u001b[39m\n",
       ")"
      ]
     },
     "execution_count": 5,
     "metadata": {},
     "output_type": "execute_result"
    }
   ],
   "source": [
    "val jsonGeneracionNacional23 = getDataApi(uriGeneracionNacional23)\n",
    "val jsonGeneracionMadrid23 = getDataApi(uriGeneracionMadrid23)\n",
    "val jsonDemandaMadrid23 = getDataApi(uriDemandaMadrid23)"
   ]
  },
  {
   "cell_type": "markdown",
   "metadata": {},
   "source": [
    "### Crear Dataframes"
   ]
  },
  {
   "cell_type": "code",
   "execution_count": 6,
   "metadata": {},
   "outputs": [
    {
     "data": {
      "text/html": [
       "<script>\n",
       "var comm = Jupyter.notebook.kernel.comm_manager.new_comm('cancel-stage-9ecccb06-5f47-44df-9f93-ac89aa0d8968', {});\n",
       "\n",
       "function cancelStage(stageId) {\n",
       "  console.log('Cancelling stage ' + stageId);\n",
       "  comm.send({ 'stageId': stageId });\n",
       "}\n",
       "</script>\n",
       "          "
      ]
     },
     "metadata": {},
     "output_type": "display_data"
    },
    {
     "data": {
      "text/html": [
       "<div>\n",
       "  <span style=\"float: left;\">json at cmd2.sc:45</span>\n",
       "</div>\n"
      ]
     },
     "metadata": {},
     "output_type": "display_data"
    },
    {
     "data": {
      "text/html": [
       "<div class=\"progress\">\n",
       "  <div class=\"progress-bar\" role=\"progressbar\" style=\"background-color: blue; width: 100%; word-wrap: normal; white-space: nowrap; text-align: center; color: white\" aria-valuenow=\"100\" aria-valuemin=\"0\" aria-valuemax=\"100\">\n",
       "    8 / 8\n",
       "  </div>\n",
       "  <div class=\"progress-bar\" role=\"progressbar\" style=\"background-color: red; width: 0%\" aria-valuenow=\"0\" aria-valuemin=\"0\" aria-valuemax=\"100\"></div>\n",
       "</div>\n"
      ]
     },
     "metadata": {},
     "output_type": "display_data"
    },
    {
     "data": {
      "text/html": [
       "<div>\n",
       "  <span style=\"float: left;\">json at cmd2.sc:45</span>\n",
       "</div>\n"
      ]
     },
     "metadata": {},
     "output_type": "display_data"
    },
    {
     "data": {
      "text/html": [
       "<div class=\"progress\">\n",
       "  <div class=\"progress-bar\" role=\"progressbar\" style=\"background-color: blue; width: 100%; word-wrap: normal; white-space: nowrap; text-align: center; color: white\" aria-valuenow=\"100\" aria-valuemin=\"0\" aria-valuemax=\"100\">\n",
       "    8 / 8\n",
       "  </div>\n",
       "  <div class=\"progress-bar\" role=\"progressbar\" style=\"background-color: red; width: 0%\" aria-valuenow=\"0\" aria-valuemin=\"0\" aria-valuemax=\"100\"></div>\n",
       "</div>\n"
      ]
     },
     "metadata": {},
     "output_type": "display_data"
    },
    {
     "data": {
      "text/html": [
       "<div>\n",
       "  <span style=\"float: left;\">json at cmd2.sc:45</span>\n",
       "</div>\n"
      ]
     },
     "metadata": {},
     "output_type": "display_data"
    },
    {
     "data": {
      "text/html": [
       "<div class=\"progress\">\n",
       "  <div class=\"progress-bar\" role=\"progressbar\" style=\"background-color: blue; width: 100%; word-wrap: normal; white-space: nowrap; text-align: center; color: white\" aria-valuenow=\"100\" aria-valuemin=\"0\" aria-valuemax=\"100\">\n",
       "    8 / 8\n",
       "  </div>\n",
       "  <div class=\"progress-bar\" role=\"progressbar\" style=\"background-color: red; width: 0%\" aria-valuenow=\"0\" aria-valuemin=\"0\" aria-valuemax=\"100\"></div>\n",
       "</div>\n"
      ]
     },
     "metadata": {},
     "output_type": "display_data"
    },
    {
     "data": {
      "text/plain": [
       "\u001b[36mdfGeneracionNacional23\u001b[39m: \u001b[32mDataFrame\u001b[39m = [data: struct<attributes: struct<description: string, last-update: string ... 1 more field>, id: string ... 2 more fields>, included: array<struct<attributes:struct<color:string,composite:boolean,description:string,last-update:string,magnitude:string,title:string,type:string,values:array<struct<datetime:string,percentage:double,value:double>>>,groupId:string,id:string,type:string>>]\n",
       "\u001b[36mdfGeneracionMadrid23\u001b[39m: \u001b[32mDataFrame\u001b[39m = [data: struct<attributes: struct<description: string, last-update: string ... 1 more field>, id: string ... 2 more fields>, included: array<struct<attributes:struct<color:string,composite:boolean,description:string,last-update:string,magnitude:string,title:string,type:string,values:array<struct<datetime:string,percentage:double,value:double>>>,groupId:string,id:string,type:string>>]\n",
       "\u001b[36mdfDemandaMadrid23\u001b[39m: \u001b[32mDataFrame\u001b[39m = [data: struct<attributes: struct<description: string, last-update: string ... 1 more field>, id: string ... 2 more fields>, included: array<struct<attributes:struct<color:string,composite:boolean,description:string,last-update:string,magnitude:string,title:string,type:string,values:array<struct<datetime:string,percentage:bigint,value:double>>>,groupId:string,id:string,type:string>>]"
      ]
     },
     "execution_count": 6,
     "metadata": {},
     "output_type": "execute_result"
    }
   ],
   "source": [
    "val dfGeneracionNacional23 = responseToDF(jsonGeneracionNacional23)\n",
    "val dfGeneracionMadrid23 = responseToDF(jsonGeneracionMadrid23)\n",
    "val dfDemandaMadrid23 = responseToDF(jsonDemandaMadrid23)"
   ]
  },
  {
   "cell_type": "code",
   "execution_count": 23,
   "metadata": {},
   "outputs": [
    {
     "data": {
      "text/html": [
       "<div>\n",
       "  <span style=\"float: left;\">collect at cmd22.sc:25</span>\n",
       "</div>\n"
      ]
     },
     "metadata": {},
     "output_type": "display_data"
    },
    {
     "data": {
      "text/html": [
       "<div class=\"progress\">\n",
       "  <div class=\"progress-bar\" role=\"progressbar\" style=\"background-color: blue; width: 100%; word-wrap: normal; white-space: nowrap; text-align: center; color: white\" aria-valuenow=\"100\" aria-valuemin=\"0\" aria-valuemax=\"100\">\n",
       "    8 / 8\n",
       "  </div>\n",
       "  <div class=\"progress-bar\" role=\"progressbar\" style=\"background-color: red; width: 0%\" aria-valuenow=\"0\" aria-valuemin=\"0\" aria-valuemax=\"100\"></div>\n",
       "</div>\n"
      ]
     },
     "metadata": {},
     "output_type": "display_data"
    },
    {
     "data": {
      "text/html": [
       "<div>\n",
       "  <span style=\"float: left;\">collect at cmd22.sc:29</span>\n",
       "</div>\n"
      ]
     },
     "metadata": {},
     "output_type": "display_data"
    },
    {
     "data": {
      "text/html": [
       "<div class=\"progress\">\n",
       "  <div class=\"progress-bar\" role=\"progressbar\" style=\"background-color: blue; width: 100%; word-wrap: normal; white-space: nowrap; text-align: center; color: white\" aria-valuenow=\"100\" aria-valuemin=\"0\" aria-valuemax=\"100\">\n",
       "    8 / 8\n",
       "  </div>\n",
       "  <div class=\"progress-bar\" role=\"progressbar\" style=\"background-color: red; width: 0%\" aria-valuenow=\"0\" aria-valuemin=\"0\" aria-valuemax=\"100\"></div>\n",
       "</div>\n"
      ]
     },
     "metadata": {},
     "output_type": "display_data"
    },
    {
     "data": {
      "text/html": [
       "<div>\n",
       "  <span style=\"float: left;\">collect at cmd22.sc:33</span>\n",
       "</div>\n"
      ]
     },
     "metadata": {},
     "output_type": "display_data"
    },
    {
     "data": {
      "text/html": [
       "<div class=\"progress\">\n",
       "  <div class=\"progress-bar\" role=\"progressbar\" style=\"background-color: blue; width: 100%; word-wrap: normal; white-space: nowrap; text-align: center; color: white\" aria-valuenow=\"100\" aria-valuemin=\"0\" aria-valuemax=\"100\">\n",
       "    8 / 8\n",
       "  </div>\n",
       "  <div class=\"progress-bar\" role=\"progressbar\" style=\"background-color: red; width: 0%\" aria-valuenow=\"0\" aria-valuemin=\"0\" aria-valuemax=\"100\"></div>\n",
       "</div>\n"
      ]
     },
     "metadata": {},
     "output_type": "display_data"
    },
    {
     "data": {
      "text/html": [
       "<div>\n",
       "  <span style=\"float: left;\">collect at cmd22.sc:36</span>\n",
       "</div>\n"
      ]
     },
     "metadata": {},
     "output_type": "display_data"
    },
    {
     "data": {
      "text/html": [
       "<div class=\"progress\">\n",
       "  <div class=\"progress-bar\" role=\"progressbar\" style=\"background-color: blue; width: 100%; word-wrap: normal; white-space: nowrap; text-align: center; color: white\" aria-valuenow=\"100\" aria-valuemin=\"0\" aria-valuemax=\"100\">\n",
       "    8 / 8\n",
       "  </div>\n",
       "  <div class=\"progress-bar\" role=\"progressbar\" style=\"background-color: red; width: 0%\" aria-valuenow=\"0\" aria-valuemin=\"0\" aria-valuemax=\"100\"></div>\n",
       "</div>\n"
      ]
     },
     "metadata": {},
     "output_type": "display_data"
    },
    {
     "data": {
      "text/plain": [
       "\u001b[36mdfFinalGeneracion23Nacional\u001b[39m: \u001b[32mDataFrame\u001b[39m = [TipoEnergia: string, FamiliaEnergia: string ... 3 more fields]\n",
       "\u001b[36mdfFinalGeneracion23Madrid\u001b[39m: \u001b[32mDataFrame\u001b[39m = [TipoEnergia: string, FamiliaEnergia: string ... 3 more fields]\n",
       "\u001b[36mdfFinalDemanda23Madrid\u001b[39m: \u001b[32mDataFrame\u001b[39m = [datetime: string, percentage: bigint ... 1 more field]\n",
       "\u001b[36mfecha\u001b[39m: \u001b[32mSeq\u001b[39m[\u001b[32mString\u001b[39m] = \u001b[33mWrappedArray\u001b[39m(\n",
       "  \u001b[32m\"2023-01-01T00:00:00.000+01:00\"\u001b[39m,\n",
       "  \u001b[32m\"2023-02-01T00:00:00.000+01:00\"\u001b[39m,\n",
       "  \u001b[32m\"2023-03-01T00:00:00.000+01:00\"\u001b[39m,\n",
       "  \u001b[32m\"2023-04-01T00:00:00.000+02:00\"\u001b[39m,\n",
       "  \u001b[32m\"2023-05-01T00:00:00.000+02:00\"\u001b[39m,\n",
       "  \u001b[32m\"2023-06-01T00:00:00.000+02:00\"\u001b[39m,\n",
       "  \u001b[32m\"2023-07-01T00:00:00.000+02:00\"\u001b[39m,\n",
       "  \u001b[32m\"2023-08-01T00:00:00.000+02:00\"\u001b[39m,\n",
       "  \u001b[32m\"2023-09-01T00:00:00.000+02:00\"\u001b[39m,\n",
       "  \u001b[32m\"2023-10-01T00:00:00.000+02:00\"\u001b[39m,\n",
       "  \u001b[32m\"2023-11-01T00:00:00.000+01:00\"\u001b[39m,\n",
       "  \u001b[32m\"2023-12-01T00:00:00.000+01:00\"\u001b[39m\n",
       ")\n",
       "\u001b[36mgeneracionNacional\u001b[39m: \u001b[32mSeq\u001b[39m[\u001b[32mDouble\u001b[39m] = \u001b[33mWrappedArray\u001b[39m(\n",
       "  \u001b[32m2.385800836E7\u001b[39m,\n",
       "  \u001b[32m2.1742179891999997E7\u001b[39m,\n",
       "  \u001b[32m2.4005792701999996E7\u001b[39m,\n",
       "  \u001b[32m2.1471225893000003E7\u001b[39m,\n",
       "  \u001b[32m2.1519730996E7\u001b[39m,\n",
       "  \u001b[32m2.1316832239E7\u001b[39m,\n",
       "  \u001b[32m2.3674368509999998E7\u001b[39m,\n",
       "  \u001b[32m2.3548672123000003E7\u001b[39m,\n",
       "  \u001b[32m2.0776975917E7\u001b[39m,\n",
       "  \u001b[32m2.096983524000001E7\u001b[39m,\n",
       "  \u001b[32m2.164125295E7\u001b[39m,\n",
       "  \u001b[32m2.2595187450999998E7\u001b[39m\n",
       ")\n",
       "\u001b[36mgeneracionMadrid\u001b[39m: \u001b[32mSeq\u001b[39m[\u001b[32mDouble\u001b[39m] = \u001b[33mWrappedArray\u001b[39m(\n",
       "  \u001b[32m74281.963\u001b[39m,\n",
       "  \u001b[32m83070.997\u001b[39m,\n",
       "  \u001b[32m82359.38699999999\u001b[39m,\n",
       "  \u001b[32m75922.93199999999\u001b[39m,\n",
       "  \u001b[32m89598.51699999999\u001b[39m,\n",
       "  \u001b[32m89449.49699999999\u001b[39m,\n",
       "  \u001b[32m85841.09599999999\u001b[39m,\n",
       "  \u001b[32m73522.84400000001\u001b[39m,\n",
       "  \u001b[32m71274.86100000002\u001b[39m,\n",
       "  \u001b[32m72290.571\u001b[39m,\n",
       "  \u001b[32m70002.158\u001b[39m,\n",
       "  \u001b[32m72193.419\u001b[39m\n",
       ")\n",
       "\u001b[36mdemandaMadrid\u001b[39m: \u001b[32mSeq\u001b[39m[\u001b[32mDouble\u001b[39m] = \u001b[33mWrappedArray\u001b[39m(\n",
       "  \u001b[32m2582358.518\u001b[39m,\n",
       "  \u001b[32m2327725.935\u001b[39m,\n",
       "  \u001b[32m2265854.374\u001b[39m,\n",
       "  \u001b[32m1897999.269\u001b[39m,\n",
       "  \u001b[32m2000961.266\u001b[39m,\n",
       "  \u001b[32m2155463.039\u001b[39m,\n",
       "  \u001b[32m2476210.644\u001b[39m,\n",
       "  \u001b[32m2330887.581\u001b[39m,\n",
       "  \u001b[32m2034557.114\u001b[39m,\n",
       "  \u001b[32m2141799.435\u001b[39m,\n",
       "  \u001b[32m2320371.574\u001b[39m,\n",
       "  \u001b[32m2537655.306\u001b[39m\n",
       ")"
      ]
     },
     "execution_count": 23,
     "metadata": {},
     "output_type": "execute_result"
    }
   ],
   "source": [
    "val dfFinalGeneracion23Nacional = dfGeneracionNacional23\n",
    "                    .withColumn(\"included\", explode($\"included\"))\n",
    "                    .withColumn(\"valores\", explode($\"included.attributes.values\"))\n",
    "                    .select(\n",
    "                        $\"included.type\".as(\"TipoEnergia\"),\n",
    "                        $\"included.attributes.type\" .as(\"FamiliaEnergia\"),\n",
    "                        $\"valores.*\"\n",
    "                    )\n",
    "\n",
    "val dfFinalGeneracion23Madrid = dfGeneracionMadrid23\n",
    "                    .withColumn(\"included\", explode($\"included\"))\n",
    "                    .withColumn(\"valores\", explode($\"included.attributes.values\"))\n",
    "                    .select(\n",
    "                        $\"included.type\".as(\"TipoEnergia\"),\n",
    "                        $\"included.attributes.type\" .as(\"FamiliaEnergia\"),\n",
    "                        $\"valores.*\"\n",
    "                    )\n",
    "val dfFinalDemanda23Madrid = dfDemandaMadrid23\n",
    "                    .withColumn(\"included\", explode($\"included\"))\n",
    "                    .withColumn(\"valores\", explode($\"included.attributes.values\"))\n",
    "                    .select(\"valores.*\")\n",
    "    \n",
    "val fecha = dfFinalGeneracion23Madrid\n",
    "                .filter($\"TipoEnergia\" === \"Generación total\")\n",
    "                .select($\"datetime\").as[String].collect.toSeq  \n",
    "\n",
    "val generacionNacional = dfFinalGeneracion23Nacional\n",
    "                .filter($\"TipoEnergia\" === \"Generación total\")\n",
    "                .select($\"value\").as[Double].collect.toSeq\n",
    "\n",
    "val generacionMadrid = dfFinalGeneracion23Madrid\n",
    "                .filter($\"TipoEnergia\" === \"Generación total\")\n",
    "                .select($\"value\").as[Double].collect.toSeq\n",
    "\n",
    "val demandaMadrid = dfFinalDemanda23Madrid\n",
    "                .select($\"value\").as[Double].collect.toSeq"
   ]
  },
  {
   "cell_type": "code",
   "execution_count": 8,
   "metadata": {},
   "outputs": [
    {
     "data": {
      "text/html": [
       "\n",
       "      <script type=\"text/javascript\">\n",
       "        require.config({\n",
       "  paths: {\n",
       "    d3: 'https://cdnjs.cloudflare.com/ajax/libs/d3/3.5.17/d3.min',\n",
       "    plotly: 'https://cdn.plot.ly/plotly-1.41.3.min',\n",
       "    jquery: 'https://code.jquery.com/jquery-3.3.1.min'\n",
       "  },\n",
       "\n",
       "  shim: {\n",
       "    plotly: {\n",
       "      deps: ['d3', 'jquery'],\n",
       "      exports: 'plotly'\n",
       "    }\n",
       "  }\n",
       "});\n",
       "        \n",
       "\n",
       "        require(['plotly'], function(Plotly) {\n",
       "          window.Plotly = Plotly;\n",
       "        });\n",
       "      </script>\n",
       "    "
      ]
     },
     "metadata": {},
     "output_type": "display_data"
    },
    {
     "data": {
      "application/vnd.plotly.v1+json": {
       "data": [
        {
         "name": "Generacion Madrid",
         "type": "bar",
         "x": [
          "2023-01-01T00:00:00.000+01:00",
          "2023-02-01T00:00:00.000+01:00",
          "2023-03-01T00:00:00.000+01:00",
          "2023-04-01T00:00:00.000+02:00",
          "2023-05-01T00:00:00.000+02:00",
          "2023-06-01T00:00:00.000+02:00",
          "2023-07-01T00:00:00.000+02:00",
          "2023-08-01T00:00:00.000+02:00",
          "2023-09-01T00:00:00.000+02:00",
          "2023-10-01T00:00:00.000+02:00",
          "2023-11-01T00:00:00.000+01:00",
          "2023-12-01T00:00:00.000+01:00"
         ],
         "y": [
          74281.963,
          83070.997,
          82359.38699999999,
          75922.93199999999,
          89598.51699999999,
          89449.49699999999,
          85841.09599999999,
          73522.84400000001,
          71274.86100000002,
          72290.571,
          70002.158,
          72193.419
         ]
        },
        {
         "name": "Demanda",
         "type": "bar",
         "x": [
          "2023-01-01T00:00:00.000+01:00",
          "2023-02-01T00:00:00.000+01:00",
          "2023-03-01T00:00:00.000+01:00",
          "2023-04-01T00:00:00.000+02:00",
          "2023-05-01T00:00:00.000+02:00",
          "2023-06-01T00:00:00.000+02:00",
          "2023-07-01T00:00:00.000+02:00",
          "2023-08-01T00:00:00.000+02:00",
          "2023-09-01T00:00:00.000+02:00",
          "2023-10-01T00:00:00.000+02:00",
          "2023-11-01T00:00:00.000+01:00",
          "2023-12-01T00:00:00.000+01:00"
         ],
         "y": [
          2582358.518,
          2327725.935,
          2265854.374,
          1897999.269,
          2000961.266,
          2155463.039,
          2476210.644,
          2330887.581,
          2034557.114,
          2141799.435,
          2320371.574,
          2537655.306
         ]
        }
       ],
       "layout": {
        "autosize": true,
        "barmode": "group",
        "xaxis": {
         "autorange": true,
         "range": [
          "2022-12-18",
          "2023-12-15"
         ],
         "type": "date"
        },
        "yaxis": {
         "autorange": true,
         "range": [
          0,
          2718272.1242105262
         ],
         "type": "linear"
        }
       }
      },
      "image/png": "[encoded data removed]",
      "text/html": [
       "<div class=\"chart\" id=\"plot-53fa3e3d-4fd8-4e91-9d62-69faf0da9591\"></div>\n",
       "<script>require(['plotly'], function(Plotly) {\n",
       "  (function () {\n",
       "  var data0 = {\"x\":[\"2023-01-01T00:00:00.000+01:00\",\"2023-02-01T00:00:00.000+01:00\",\"2023-03-01T00:00:00.000+01:00\",\"2023-04-01T00:00:00.000+02:00\",\"2023-05-01T00:00:00.000+02:00\",\"2023-06-01T00:00:00.000+02:00\",\"2023-07-01T00:00:00.000+02:00\",\"2023-08-01T00:00:00.000+02:00\",\"2023-09-01T00:00:00.000+02:00\",\"2023-10-01T00:00:00.000+02:00\",\"2023-11-01T00:00:00.000+01:00\",\"2023-12-01T00:00:00.000+01:00\"],\"name\":\"Generacion Madrid\",\"y\":[74281.963,83070.997,82359.38699999999,75922.93199999999,89598.51699999999,89449.49699999999,85841.09599999999,73522.84400000001,71274.86100000002,72290.571,70002.158,72193.419],\"type\":\"bar\"};\n",
       "  var data1 = {\"x\":[\"2023-01-01T00:00:00.000+01:00\",\"2023-02-01T00:00:00.000+01:00\",\"2023-03-01T00:00:00.000+01:00\",\"2023-04-01T00:00:00.000+02:00\",\"2023-05-01T00:00:00.000+02:00\",\"2023-06-01T00:00:00.000+02:00\",\"2023-07-01T00:00:00.000+02:00\",\"2023-08-01T00:00:00.000+02:00\",\"2023-09-01T00:00:00.000+02:00\",\"2023-10-01T00:00:00.000+02:00\",\"2023-11-01T00:00:00.000+01:00\",\"2023-12-01T00:00:00.000+01:00\"],\"name\":\"Demanda\",\"y\":[2582358.518,2327725.935,2265854.374,1897999.269,2000961.266,2155463.039,2476210.644,2330887.581,2034557.114,2141799.435,2320371.574,2537655.306],\"type\":\"bar\"};\n",
       "\n",
       "  var data = [data0, data1];\n",
       "  var layout = {\"barmode\":\"group\"};\n",
       "\n",
       "  Plotly.plot('plot-53fa3e3d-4fd8-4e91-9d62-69faf0da9591', data, layout);\n",
       "})();\n",
       "});\n",
       "      </script>\n",
       "           "
      ]
     },
     "metadata": {},
     "output_type": "display_data"
    },
    {
     "data": {
      "text/plain": [
       "\u001b[36mGeneracionNacional\u001b[39m: \u001b[32mBar\u001b[39m = \u001b[33mBar\u001b[39m(\n",
       "  \u001b[33mStrings\u001b[39m(\n",
       "    \u001b[33mWrappedArray\u001b[39m(\n",
       "      \u001b[32m\"2023-01-01T00:00:00.000+01:00\"\u001b[39m,\n",
       "      \u001b[32m\"2023-02-01T00:00:00.000+01:00\"\u001b[39m,\n",
       "      \u001b[32m\"2023-03-01T00:00:00.000+01:00\"\u001b[39m,\n",
       "      \u001b[32m\"2023-04-01T00:00:00.000+02:00\"\u001b[39m,\n",
       "      \u001b[32m\"2023-05-01T00:00:00.000+02:00\"\u001b[39m,\n",
       "      \u001b[32m\"2023-06-01T00:00:00.000+02:00\"\u001b[39m,\n",
       "      \u001b[32m\"2023-07-01T00:00:00.000+02:00\"\u001b[39m,\n",
       "      \u001b[32m\"2023-08-01T00:00:00.000+02:00\"\u001b[39m,\n",
       "      \u001b[32m\"2023-09-01T00:00:00.000+02:00\"\u001b[39m,\n",
       "      \u001b[32m\"2023-10-01T00:00:00.000+02:00\"\u001b[39m,\n",
       "      \u001b[32m\"2023-11-01T00:00:00.000+01:00\"\u001b[39m,\n",
       "      \u001b[32m\"2023-12-01T00:00:00.000+01:00\"\u001b[39m\n",
       "    )\n",
       "  ),\n",
       "  \u001b[33mDoubles\u001b[39m(\n",
       "    \u001b[33mWrappedArray\u001b[39m(\n",
       "      \u001b[32m2.385800836E7\u001b[39m,\n",
       "      \u001b[32m2.1742179891999997E7\u001b[39m,\n",
       "      \u001b[32m2.4005792701999996E7\u001b[39m,\n",
       "      \u001b[32m2.1471225893000003E7\u001b[39m,\n",
       "      \u001b[32m2.1519730996E7\u001b[39m,\n",
       "      \u001b[32m2.1316832239E7\u001b[39m,\n",
       "      \u001b[32m2.3674368509999998E7\u001b[39m,\n",
       "      \u001b[32m2.3548672123000003E7\u001b[39m,\n",
       "      \u001b[32m2.0776975917E7\u001b[39m,\n",
       "      \u001b[32m2.096983524000001E7\u001b[39m,\n",
       "      \u001b[32m2.164125295E7\u001b[39m,\n",
       "      \u001b[32m2.2595187450999998E7\u001b[39m\n",
       "    )\n",
       "  ),\n",
       "  \u001b[33mSome\u001b[39m(\u001b[32m\"Generacion Espa\\u00f1a\"\u001b[39m),\n",
       "  \u001b[32mNone\u001b[39m,\n",
       "  \u001b[32mNone\u001b[39m,\n",
       "  \u001b[32mNone\u001b[39m,\n",
       "  \u001b[32mNone\u001b[39m,\n",
       "  \u001b[32mNone\u001b[39m,\n",
       "...\n",
       "\u001b[36mGeneracionMadrid\u001b[39m: \u001b[32mBar\u001b[39m = \u001b[33mBar\u001b[39m(\n",
       "  \u001b[33mStrings\u001b[39m(\n",
       "    \u001b[33mWrappedArray\u001b[39m(\n",
       "      \u001b[32m\"2023-01-01T00:00:00.000+01:00\"\u001b[39m,\n",
       "      \u001b[32m\"2023-02-01T00:00:00.000+01:00\"\u001b[39m,\n",
       "      \u001b[32m\"2023-03-01T00:00:00.000+01:00\"\u001b[39m,\n",
       "      \u001b[32m\"2023-04-01T00:00:00.000+02:00\"\u001b[39m,\n",
       "      \u001b[32m\"2023-05-01T00:00:00.000+02:00\"\u001b[39m,\n",
       "      \u001b[32m\"2023-06-01T00:00:00.000+02:00\"\u001b[39m,\n",
       "      \u001b[32m\"2023-07-01T00:00:00.000+02:00\"\u001b[39m,\n",
       "      \u001b[32m\"2023-08-01T00:00:00.000+02:00\"\u001b[39m,\n",
       "      \u001b[32m\"2023-09-01T00:00:00.000+02:00\"\u001b[39m,\n",
       "      \u001b[32m\"2023-10-01T00:00:00.000+02:00\"\u001b[39m,\n",
       "      \u001b[32m\"2023-11-01T00:00:00.000+01:00\"\u001b[39m,\n",
       "      \u001b[32m\"2023-12-01T00:00:00.000+01:00\"\u001b[39m\n",
       "    )\n",
       "  ),\n",
       "  \u001b[33mDoubles\u001b[39m(\n",
       "    \u001b[33mWrappedArray\u001b[39m(\n",
       "      \u001b[32m74281.963\u001b[39m,\n",
       "      \u001b[32m83070.997\u001b[39m,\n",
       "      \u001b[32m82359.38699999999\u001b[39m,\n",
       "      \u001b[32m75922.93199999999\u001b[39m,\n",
       "      \u001b[32m89598.51699999999\u001b[39m,\n",
       "      \u001b[32m89449.49699999999\u001b[39m,\n",
       "      \u001b[32m85841.09599999999\u001b[39m,\n",
       "      \u001b[32m73522.84400000001\u001b[39m,\n",
       "      \u001b[32m71274.86100000002\u001b[39m,\n",
       "      \u001b[32m72290.571\u001b[39m,\n",
       "      \u001b[32m70002.158\u001b[39m,\n",
       "      \u001b[32m72193.419\u001b[39m\n",
       "    )\n",
       "  ),\n",
       "  \u001b[33mSome\u001b[39m(\u001b[32m\"Generacion Madrid\"\u001b[39m),\n",
       "  \u001b[32mNone\u001b[39m,\n",
       "  \u001b[32mNone\u001b[39m,\n",
       "  \u001b[32mNone\u001b[39m,\n",
       "  \u001b[32mNone\u001b[39m,\n",
       "  \u001b[32mNone\u001b[39m,\n",
       "...\n",
       "\u001b[36mDemanda\u001b[39m: \u001b[32mBar\u001b[39m = \u001b[33mBar\u001b[39m(\n",
       "  \u001b[33mStrings\u001b[39m(\n",
       "    \u001b[33mWrappedArray\u001b[39m(\n",
       "      \u001b[32m\"2023-01-01T00:00:00.000+01:00\"\u001b[39m,\n",
       "      \u001b[32m\"2023-02-01T00:00:00.000+01:00\"\u001b[39m,\n",
       "      \u001b[32m\"2023-03-01T00:00:00.000+01:00\"\u001b[39m,\n",
       "      \u001b[32m\"2023-04-01T00:00:00.000+02:00\"\u001b[39m,\n",
       "      \u001b[32m\"2023-05-01T00:00:00.000+02:00\"\u001b[39m,\n",
       "      \u001b[32m\"2023-06-01T00:00:00.000+02:00\"\u001b[39m,\n",
       "      \u001b[32m\"2023-07-01T00:00:00.000+02:00\"\u001b[39m,\n",
       "      \u001b[32m\"2023-08-01T00:00:00.000+02:00\"\u001b[39m,\n",
       "      \u001b[32m\"2023-09-01T00:00:00.000+02:00\"\u001b[39m,\n",
       "      \u001b[32m\"2023-10-01T00:00:00.000+02:00\"\u001b[39m,\n",
       "      \u001b[32m\"2023-11-01T00:00:00.000+01:00\"\u001b[39m,\n",
       "      \u001b[32m\"2023-12-01T00:00:00.000+01:00\"\u001b[39m\n",
       "    )\n",
       "  ),\n",
       "  \u001b[33mDoubles\u001b[39m(\n",
       "    \u001b[33mWrappedArray\u001b[39m(\n",
       "      \u001b[32m2582358.518\u001b[39m,\n",
       "      \u001b[32m2327725.935\u001b[39m,\n",
       "      \u001b[32m2265854.374\u001b[39m,\n",
       "      \u001b[32m1897999.269\u001b[39m,\n",
       "      \u001b[32m2000961.266\u001b[39m,\n",
       "      \u001b[32m2155463.039\u001b[39m,\n",
       "      \u001b[32m2476210.644\u001b[39m,\n",
       "      \u001b[32m2330887.581\u001b[39m,\n",
       "      \u001b[32m2034557.114\u001b[39m,\n",
       "      \u001b[32m2141799.435\u001b[39m,\n",
       "      \u001b[32m2320371.574\u001b[39m,\n",
       "      \u001b[32m2537655.306\u001b[39m\n",
       "    )\n",
       "  ),\n",
       "  \u001b[33mSome\u001b[39m(\u001b[32m\"Demanda\"\u001b[39m),\n",
       "  \u001b[32mNone\u001b[39m,\n",
       "  \u001b[32mNone\u001b[39m,\n",
       "  \u001b[32mNone\u001b[39m,\n",
       "  \u001b[32mNone\u001b[39m,\n",
       "  \u001b[32mNone\u001b[39m,\n",
       "...\n",
       "\u001b[36mdata\u001b[39m: \u001b[32mSeq\u001b[39m[\u001b[32mBar\u001b[39m] = \u001b[33mList\u001b[39m(\n",
       "  \u001b[33mBar\u001b[39m(\n",
       "    \u001b[33mStrings\u001b[39m(\n",
       "      \u001b[33mWrappedArray\u001b[39m(\n",
       "        \u001b[32m\"2023-01-01T00:00:00.000+01:00\"\u001b[39m,\n",
       "        \u001b[32m\"2023-02-01T00:00:00.000+01:00\"\u001b[39m,\n",
       "        \u001b[32m\"2023-03-01T00:00:00.000+01:00\"\u001b[39m,\n",
       "        \u001b[32m\"2023-04-01T00:00:00.000+02:00\"\u001b[39m,\n",
       "        \u001b[32m\"2023-05-01T00:00:00.000+02:00\"\u001b[39m,\n",
       "        \u001b[32m\"2023-06-01T00:00:00.000+02:00\"\u001b[39m,\n",
       "        \u001b[32m\"2023-07-01T00:00:00.000+02:00\"\u001b[39m,\n",
       "        \u001b[32m\"2023-08-01T00:00:00.000+02:00\"\u001b[39m,\n",
       "        \u001b[32m\"2023-09-01T00:00:00.000+02:00\"\u001b[39m,\n",
       "        \u001b[32m\"2023-10-01T00:00:00.000+02:00\"\u001b[39m,\n",
       "        \u001b[32m\"2023-11-01T00:00:00.000+01:00\"\u001b[39m,\n",
       "        \u001b[32m\"2023-12-01T00:00:00.000+01:00\"\u001b[39m\n",
       "      )\n",
       "    ),\n",
       "    \u001b[33mDoubles\u001b[39m(\n",
       "      \u001b[33mWrappedArray\u001b[39m(\n",
       "        \u001b[32m74281.963\u001b[39m,\n",
       "        \u001b[32m83070.997\u001b[39m,\n",
       "        \u001b[32m82359.38699999999\u001b[39m,\n",
       "        \u001b[32m75922.93199999999\u001b[39m,\n",
       "        \u001b[32m89598.51699999999\u001b[39m,\n",
       "        \u001b[32m89449.49699999999\u001b[39m,\n",
       "        \u001b[32m85841.09599999999\u001b[39m,\n",
       "        \u001b[32m73522.84400000001\u001b[39m,\n",
       "        \u001b[32m71274.86100000002\u001b[39m,\n",
       "        \u001b[32m72290.571\u001b[39m,\n",
       "        \u001b[32m70002.158\u001b[39m,\n",
       "        \u001b[32m72193.419\u001b[39m\n",
       "      )\n",
       "    ),\n",
       "    \u001b[33mSome\u001b[39m(\u001b[32m\"Generacion Madrid\"\u001b[39m),\n",
       "    \u001b[32mNone\u001b[39m,\n",
       "    \u001b[32mNone\u001b[39m,\n",
       "    \u001b[32mNone\u001b[39m,\n",
       "    \u001b[32mNone\u001b[39m,\n",
       "...\n",
       "\u001b[36mlayout\u001b[39m: \u001b[32mLayout\u001b[39m = \u001b[33mLayout\u001b[39m(\n",
       "  \u001b[32mNone\u001b[39m,\n",
       "  \u001b[32mNone\u001b[39m,\n",
       "  \u001b[32mNone\u001b[39m,\n",
       "  \u001b[32mNone\u001b[39m,\n",
       "  \u001b[32mNone\u001b[39m,\n",
       "  \u001b[32mNone\u001b[39m,\n",
       "  \u001b[32mNone\u001b[39m,\n",
       "  \u001b[32mNone\u001b[39m,\n",
       "  \u001b[32mNone\u001b[39m,\n",
       "  \u001b[32mNone\u001b[39m,\n",
       "  \u001b[32mNone\u001b[39m,\n",
       "  \u001b[32mNone\u001b[39m,\n",
       "  \u001b[32mNone\u001b[39m,\n",
       "  \u001b[32mNone\u001b[39m,\n",
       "  \u001b[32mNone\u001b[39m,\n",
       "  \u001b[33mSome\u001b[39m(Group),\n",
       "  \u001b[32mNone\u001b[39m,\n",
       "  \u001b[32mNone\u001b[39m,\n",
       "  \u001b[32mNone\u001b[39m,\n",
       "  \u001b[32mNone\u001b[39m,\n",
       "  \u001b[32mNone\u001b[39m,\n",
       "  \u001b[32mNone\u001b[39m,\n",
       "  \u001b[32mNone\u001b[39m,\n",
       "  \u001b[32mNone\u001b[39m,\n",
       "  \u001b[32mNone\u001b[39m,\n",
       "  \u001b[32mNone\u001b[39m\n",
       ")\n",
       "\u001b[36mres7_5\u001b[39m: \u001b[32mString\u001b[39m = \u001b[32m\"plot-53fa3e3d-4fd8-4e91-9d62-69faf0da9591\"\u001b[39m"
      ]
     },
     "execution_count": 8,
     "metadata": {},
     "output_type": "execute_result"
    }
   ],
   "source": [
    "val GeneracionNacional = Bar(\n",
    "  fecha,\n",
    "  generacionNacional,\n",
    "  name = \"Generacion España\"\n",
    ")\n",
    "val GeneracionMadrid = Bar(\n",
    "  fecha,\n",
    "  generacionMadrid,\n",
    "  name = \"Generacion Madrid\"\n",
    ")\n",
    "\n",
    "val Demanda = Bar(\n",
    "  fecha,\n",
    "  demandaMadrid,\n",
    "  name = \"Demanda\"\n",
    ")\n",
    "\n",
    "val data = Seq(GeneracionMadrid, Demanda)\n",
    "\n",
    "val layout = Layout( \n",
    "  barmode = BarMode.Group\n",
    ")\n",
    "\n",
    "plot(data, layout)"
   ]
  },
  {
   "cell_type": "code",
   "execution_count": 9,
   "metadata": {},
   "outputs": [
    {
     "data": {
      "text/html": [
       "<div>\n",
       "  <span style=\"float: left;\">collect at cmd8.sc:3</span>\n",
       "</div>\n"
      ]
     },
     "metadata": {},
     "output_type": "display_data"
    },
    {
     "data": {
      "text/html": [
       "<div class=\"progress\">\n",
       "  <div class=\"progress-bar\" role=\"progressbar\" style=\"background-color: blue; width: 100%; word-wrap: normal; white-space: nowrap; text-align: center; color: white\" aria-valuenow=\"100\" aria-valuemin=\"0\" aria-valuemax=\"100\">\n",
       "    8 / 8\n",
       "  </div>\n",
       "  <div class=\"progress-bar\" role=\"progressbar\" style=\"background-color: red; width: 0%\" aria-valuenow=\"0\" aria-valuemin=\"0\" aria-valuemax=\"100\"></div>\n",
       "</div>\n"
      ]
     },
     "metadata": {},
     "output_type": "display_data"
    },
    {
     "data": {
      "text/plain": [
       "\u001b[36mfecha\u001b[39m: \u001b[32mSeq\u001b[39m[\u001b[32mString\u001b[39m] = \u001b[33mWrappedArray\u001b[39m(\n",
       "  \u001b[32m\"74281.963\"\u001b[39m,\n",
       "  \u001b[32m\"83070.997\"\u001b[39m,\n",
       "  \u001b[32m\"82359.38699999999\"\u001b[39m,\n",
       "  \u001b[32m\"75922.93199999999\"\u001b[39m,\n",
       "  \u001b[32m\"89598.51699999999\"\u001b[39m,\n",
       "  \u001b[32m\"89449.49699999999\"\u001b[39m,\n",
       "  \u001b[32m\"85841.09599999999\"\u001b[39m,\n",
       "  \u001b[32m\"73522.84400000001\"\u001b[39m,\n",
       "  \u001b[32m\"71274.86100000002\"\u001b[39m,\n",
       "  \u001b[32m\"72290.571\"\u001b[39m,\n",
       "  \u001b[32m\"70002.158\"\u001b[39m,\n",
       "  \u001b[32m\"72193.419\"\u001b[39m\n",
       ")"
      ]
     },
     "execution_count": 9,
     "metadata": {},
     "output_type": "execute_result"
    }
   ],
   "source": [
    "    \n",
    "val fecha = dfFinalGeneracion23Madrid\n",
    "                .filter($\"TipoEnergia\" === \"Generación total\")\n",
    "                .select($\"value\").as[String].collect.toSeq  "
   ]
  },
  {
   "cell_type": "code",
   "execution_count": 10,
   "metadata": {},
   "outputs": [
    {
     "data": {
      "text/html": [
       "<div>\n",
       "  <span style=\"float: left;\">json at cmd2.sc:45</span>\n",
       "</div>\n"
      ]
     },
     "metadata": {},
     "output_type": "display_data"
    },
    {
     "data": {
      "text/html": [
       "<div class=\"progress\">\n",
       "  <div class=\"progress-bar\" role=\"progressbar\" style=\"background-color: blue; width: 100%; word-wrap: normal; white-space: nowrap; text-align: center; color: white\" aria-valuenow=\"100\" aria-valuemin=\"0\" aria-valuemax=\"100\">\n",
       "    8 / 8\n",
       "  </div>\n",
       "  <div class=\"progress-bar\" role=\"progressbar\" style=\"background-color: red; width: 0%\" aria-valuenow=\"0\" aria-valuemin=\"0\" aria-valuemax=\"100\"></div>\n",
       "</div>\n"
      ]
     },
     "metadata": {},
     "output_type": "display_data"
    },
    {
     "data": {
      "text/html": [
       "<div>\n",
       "  <span style=\"float: left;\">json at cmd2.sc:45</span>\n",
       "</div>\n"
      ]
     },
     "metadata": {},
     "output_type": "display_data"
    },
    {
     "data": {
      "text/html": [
       "<div class=\"progress\">\n",
       "  <div class=\"progress-bar\" role=\"progressbar\" style=\"background-color: blue; width: 100%; word-wrap: normal; white-space: nowrap; text-align: center; color: white\" aria-valuenow=\"100\" aria-valuemin=\"0\" aria-valuemax=\"100\">\n",
       "    8 / 8\n",
       "  </div>\n",
       "  <div class=\"progress-bar\" role=\"progressbar\" style=\"background-color: red; width: 0%\" aria-valuenow=\"0\" aria-valuemin=\"0\" aria-valuemax=\"100\"></div>\n",
       "</div>\n"
      ]
     },
     "metadata": {},
     "output_type": "display_data"
    },
    {
     "data": {
      "text/plain": [
       "\u001b[36mgeo_ids\u001b[39m: \u001b[32mString\u001b[39m = \u001b[32m\"16\"\u001b[39m\n",
       "\u001b[36muriGeneracionAsturias23\u001b[39m: \u001b[32mString\u001b[39m = \u001b[32m\"https://apidatos.ree.es/es/datos/generacion/estructura-generacion?start_date=2023-01-01T00:00&end_date=2023-12-31T23:59&time_trunc=month&geo_trunc=electric_system&geo_limit=ccaa&geo_ids=16\"\u001b[39m\n",
       "\u001b[36muriDemandaAsturias23\u001b[39m: \u001b[32mString\u001b[39m = \u001b[32m\"https://apidatos.ree.es/es/datos/demanda/evolucion?start_date=2023-01-01T00:00&end_date=2023-12-31T23:59&time_trunc=month&geo_trunc=electric_system&geo_limit=ccaa&geo_ids=16\"\u001b[39m\n",
       "\u001b[36mjsonGeneracionAsturias23\u001b[39m: \u001b[32mEither\u001b[39m[\u001b[32mString\u001b[39m, \u001b[32mString\u001b[39m] = \u001b[33mRight\u001b[39m(\n",
       "  \u001b[32m\"{\\\"data\\\":{\\\"type\\\":\\\"Generaci\\\\u00f3n por tecnolog\\\\u00eda\\\",\\\"id\\\":\\\"gen1\\\",\\\"attributes\\\":{\\\"title\\\":\\\"Generaci\\\\u00f3n por tecnolog\\\\u00eda\\\",\\\"last-update\\\":\\\"2024-05-27T14:20:05.000+02:00\\\",\\\"description\\\":null},\\\"meta\\\":{\\\"cache-control\\\":{\\\"cache\\\":\\\"HIT\\\",\\\"expireAt\\\":\\\"2024-07-26T17:36:20\\\"}}},\\\"included\\\":[{\\\"type\\\":\\\"Hidr\\\\u00e1ulica\\\",\\\"id\\\":\\\"10330\\\",\\\"groupId\\\":\\\"1\\\",\\\"attributes\\\":{\\\"title\\\":\\\"Hidr\\\\u00e1ulica\\\",\\\"description\\\":null,\\\"color\\\":\\\"#0090d1\\\",\\\"type\\\":\\\"Renovable\\\",\\\"magnitude\\\":null,\\\"composite\\\":false,\\\"last-update\\\":\\\"2024-05-21T16:48:59.000+02:00\\\",\\\"values\\\":[{\\\"value\\\":381357.609,\\\"percentage\\\":0.1636996811997401,\\\"datetime\\\":\\\"2023-01-01T00:00:00.000+01:00\\\"},{\\\"value\\\":275224.359,\\\"percentage\\\":0.11612492640369192,\\\"datetime\\\":\\\"2023-02-01T00:00:00.000+01:00\\\"},{\\\"value\\\":120920.749,\\\"percentage\\\":0.046908499132550185,\\\"datetime\\\":\\\"2023-03-01T00:00:00.000+01:00\\\"},{\\\"value\\\":108591.044,\\\"percentage\\\":0.04365431400484969,\\\"datetime\\\":\\\"2023-04-01T00:00:00.000+02:00\\\"},{\\\"value\\\":75911.142,\\\"percentage\\\":0.03336716451819469,\\\"datetime\\\":\\\"2023-05-01T00:00:00.000+02:00\\\"},{\\\"value\\\":187658.913,\\\"percentage\\\":0.06746847373313784,\\\"datetime\\\":\\\"2023-06-01T00:00:00.000+02:00\\\"},{\\\"value\\\":182031.842,\\\"percentage\\\":0.06085408222249465,\\\"datetime\\\":\\\"2023-07-01T00:00:00.000+02:00\\\"},{\\\"value\\\":76635.385,\\\"percentage\\\":0.026244601247922248,\\\"datetime\\\":\\\"2023-08-01T00:00:00.000+02:00\\\"},{\\\"value\\\":60054.357,\\\"percentage\\\":0.02444650617411357,\\\"datetime\\\":\\\"2023-09-01T00:00:00.000+02:00\\\"},{\\\"value\\\":96299.974,\\\"percentage\\\":0.04362175845328767,\\\"datetime\\\":\\\"2023-10-01T00:00:00.000+02:00\\\"},{\\\"value\\\":184175.044,\\\"percentage\\\":0.09134408373778051,\\\"datetime\\\":\\\"2023-11-01T00:00:00.000+01:00\\\"},{\\\"value\\\":359643.233,\\\"percentage\\\":0.1539320857135233,\\\"datetime\\\":\\\"2023-12-01T00:00:00.000+01:00\\\"}]}},{\\\"type\\\":\\\"Turbinaci\\\\u00f3n bombeo\\\",\\\"id\\\":\\\"1694\\\",\\\"groupId\\\":\\\"1\\\",\\\"attributes\\\":{\\\"title\\\":\\\"Turbinaci\\\\u00f3n bombeo\\\",\\\"description\\\":null,\\\"color\\\":\\\"#007cf9\\\",\\\"type\\\":\\\"No-Renovable\\\",\\\"magnitude\\\":null,\\\"composite\\\":false,\\\"last-update\\\":\\\"2024-05-21T16:59:14.000+02:00\\\",\\\"values\\\":[{\\\"value\\\":5715.189,\\\"percentage\\\":0.002453273765140114,\\\"datetime\\\":\\\"2023-01-01T00:00:00.000+01:00\\\"},{\\\"value\\\":2114.821,\\\"percentage\\\":0.0008923026794368231,\\\"datetime\\\":\\\"2023-02-01T00:00:00.000+01:00\\\"},{\\\"value\\\":2217.422,\\\"percentage\\\":0.0008601992530123817,\\\"datetime\\\":\\\"2023-03-01T00:00:00.000+01:00\\\"},{\\\"value\\\":977.707,\\\"percentage\\\":0.00039304464540132407,\\\"datetime\\\":\\\"2023-04-01T00:00:00.000+02:00\\\"},{\\\"value\\\":3163.202,\\\"percentage\\\":0.0013904030259257922,\\\"datetime\\\":\\\"2023-05-01T00:00:00.000+02:00\\\"},{\\\"value\\\":3165.103,\\\"percentage\\\":0.0011379404537964887,\\\"datetime\\\":\\\"2023-06-01T00:00:00.000+02:00\\\"},{\\\"value\\\":976.151,\\\"percentage\\\":0.00032633177010630025,\\\"datetime\\\":\\\"2023-07-01T00:00:00.000+02:00\\\"},{\\\"value\\\":469.519,\\\"percentage\\\":0.00016079176653608783,\\\"datetime\\\":\\\"2023-08-01T00:00:00.000+02:00\\\"},{\\\"value\\\":2428.05,\\\"percentage\\\":0.000988\u001b[39m...\n",
       "\u001b[36mjsonDemandaAsturias23\u001b[39m: \u001b[32mEither\u001b[39m[\u001b[32mString\u001b[39m, \u001b[32mString\u001b[39m] = \u001b[33mRight\u001b[39m(\n",
       "  \u001b[32m\"{\\\"data\\\":{\\\"type\\\":\\\"Evoluci\\\\u00f3n de la demanda\\\",\\\"id\\\":\\\"dem1\\\",\\\"attributes\\\":{\\\"title\\\":\\\"Evoluci\\\\u00f3n de la demanda\\\",\\\"last-update\\\":\\\"2024-05-27T14:20:05.000+02:00\\\",\\\"description\\\":null},\\\"meta\\\":{\\\"cache-control\\\":{\\\"cache\\\":\\\"HIT\\\",\\\"expireAt\\\":\\\"2024-07-26T17:36:40\\\"}}},\\\"included\\\":[{\\\"type\\\":\\\"Demanda\\\",\\\"id\\\":\\\"10339\\\",\\\"groupId\\\":null,\\\"attributes\\\":{\\\"title\\\":\\\"Demanda\\\",\\\"description\\\":null,\\\"color\\\":\\\"#ffea00\\\",\\\"type\\\":null,\\\"magnitude\\\":null,\\\"composite\\\":false,\\\"last-update\\\":\\\"2024-05-21T16:48:59.000+02:00\\\",\\\"values\\\":[{\\\"value\\\":442676.722,\\\"percentage\\\":1,\\\"datetime\\\":\\\"2023-01-01T00:00:00.000+01:00\\\"},{\\\"value\\\":404495.391,\\\"percentage\\\":1,\\\"datetime\\\":\\\"2023-02-01T00:00:00.000+01:00\\\"},{\\\"value\\\":399112.191,\\\"percentage\\\":1,\\\"datetime\\\":\\\"2023-03-01T00:00:00.000+01:00\\\"},{\\\"value\\\":341414.443,\\\"percentage\\\":1,\\\"datetime\\\":\\\"2023-04-01T00:00:00.000+02:00\\\"},{\\\"value\\\":341659.083,\\\"percentage\\\":1,\\\"datetime\\\":\\\"2023-05-01T00:00:00.000+02:00\\\"},{\\\"value\\\":381372.379,\\\"percentage\\\":1,\\\"datetime\\\":\\\"2023-06-01T00:00:00.000+02:00\\\"},{\\\"value\\\":416035.901,\\\"percentage\\\":1,\\\"datetime\\\":\\\"2023-07-01T00:00:00.000+02:00\\\"},{\\\"value\\\":484804.526,\\\"percentage\\\":1,\\\"datetime\\\":\\\"2023-08-01T00:00:00.000+02:00\\\"},{\\\"value\\\":370020.846,\\\"percentage\\\":1,\\\"datetime\\\":\\\"2023-09-01T00:00:00.000+02:00\\\"},{\\\"value\\\":375786.632,\\\"percentage\\\":1,\\\"datetime\\\":\\\"2023-10-01T00:00:00.000+02:00\\\"},{\\\"value\\\":391953.037,\\\"percentage\\\":1,\\\"datetime\\\":\\\"2023-11-01T00:00:00.000+01:00\\\"},{\\\"value\\\":429643.512,\\\"percentage\\\":1,\\\"datetime\\\":\\\"2023-12-01T00:00:00.000+01:00\\\"}]}}]}\"\u001b[39m\n",
       ")\n",
       "\u001b[36mdfGeneracionAsturias23\u001b[39m: \u001b[32mDataFrame\u001b[39m = [data: struct<attributes: struct<description: string, last-update: string ... 1 more field>, id: string ... 2 more fields>, included: array<struct<attributes:struct<color:string,composite:boolean,description:string,last-update:string,magnitude:string,title:string,type:string,values:array<struct<datetime:string,percentage:double,value:double>>>,groupId:string,id:string,type:string>>]\n",
       "\u001b[36mdfDemandaAsturias23\u001b[39m: \u001b[32mDataFrame\u001b[39m = [data: struct<attributes: struct<description: string, last-update: string ... 1 more field>, id: string ... 2 more fields>, included: array<struct<attributes:struct<color:string,composite:boolean,description:string,last-update:string,magnitude:string,title:string,type:string,values:array<struct<datetime:string,percentage:bigint,value:double>>>,groupId:string,id:string,type:string>>]\n",
       "\u001b[36mdfFinalGeneracion23Asturias\u001b[39m: \u001b[32mDataFrame\u001b[39m = [TipoEnergia: string, FamiliaEnergia: string ... 3 more fields]\n",
       "\u001b[36mdfFinalDemanda23Asturias\u001b[39m: \u001b[32mDataFrame\u001b[39m = [datetime: string, percentage: bigint ... 1 more field]"
      ]
     },
     "execution_count": 10,
     "metadata": {},
     "output_type": "execute_result"
    }
   ],
   "source": [
    "val geo_ids = \"16\"\n",
    "val uriGeneracionAsturias23 = createUri(category,widget,start_date, end_date, time_trunc, lang, geo_trunc, geo_limit, geo_ids) //Generacion en comunidad de Madrid\n",
    "val uriDemandaAsturias23 = createUri(\"demanda\",\"evolucion\",start_date, end_date, time_trunc, lang, geo_trunc, geo_limit, geo_ids) //Demanda en comunidad de Madrid\n",
    "\n",
    "\n",
    "val jsonGeneracionAsturias23 = getDataApi(uriGeneracionAsturias23)\n",
    "val jsonDemandaAsturias23 = getDataApi(uriDemandaAsturias23)\n",
    "\n",
    "\n",
    "val dfGeneracionAsturias23 = responseToDF(jsonGeneracionAsturias23)\n",
    "val dfDemandaAsturias23 = responseToDF(jsonDemandaAsturias23)\n",
    "\n",
    "val dfFinalGeneracion23Asturias = dfGeneracionAsturias23\n",
    "                    .withColumn(\"included\", explode($\"included\"))\n",
    "                    .withColumn(\"valores\", explode($\"included.attributes.values\"))\n",
    "                    .select(\n",
    "                        $\"included.type\".as(\"TipoEnergia\"),\n",
    "                        $\"included.attributes.type\" .as(\"FamiliaEnergia\"),\n",
    "                        $\"valores.*\"\n",
    "                    )\n",
    "val dfFinalDemanda23Asturias = dfDemandaAsturias23\n",
    "                    .withColumn(\"included\", explode($\"included\"))\n",
    "                    .withColumn(\"valores\", explode($\"included.attributes.values\"))\n",
    "                    .select(\"valores.*\")"
   ]
  },
  {
   "cell_type": "code",
   "execution_count": 12,
   "metadata": {},
   "outputs": [
    {
     "data": {
      "text/html": [
       "<div>\n",
       "  <span style=\"float: left;\">collect at cmd11.sc:3</span>\n",
       "</div>\n"
      ]
     },
     "metadata": {},
     "output_type": "display_data"
    },
    {
     "data": {
      "text/html": [
       "<div class=\"progress\">\n",
       "  <div class=\"progress-bar\" role=\"progressbar\" style=\"background-color: blue; width: 100%; word-wrap: normal; white-space: nowrap; text-align: center; color: white\" aria-valuenow=\"100\" aria-valuemin=\"0\" aria-valuemax=\"100\">\n",
       "    8 / 8\n",
       "  </div>\n",
       "  <div class=\"progress-bar\" role=\"progressbar\" style=\"background-color: red; width: 0%\" aria-valuenow=\"0\" aria-valuemin=\"0\" aria-valuemax=\"100\"></div>\n",
       "</div>\n"
      ]
     },
     "metadata": {},
     "output_type": "display_data"
    },
    {
     "data": {
      "text/html": [
       "<div>\n",
       "  <span style=\"float: left;\">collect at cmd11.sc:6</span>\n",
       "</div>\n"
      ]
     },
     "metadata": {},
     "output_type": "display_data"
    },
    {
     "data": {
      "text/html": [
       "<div class=\"progress\">\n",
       "  <div class=\"progress-bar\" role=\"progressbar\" style=\"background-color: blue; width: 100%; word-wrap: normal; white-space: nowrap; text-align: center; color: white\" aria-valuenow=\"100\" aria-valuemin=\"0\" aria-valuemax=\"100\">\n",
       "    8 / 8\n",
       "  </div>\n",
       "  <div class=\"progress-bar\" role=\"progressbar\" style=\"background-color: red; width: 0%\" aria-valuenow=\"0\" aria-valuemin=\"0\" aria-valuemax=\"100\"></div>\n",
       "</div>\n"
      ]
     },
     "metadata": {},
     "output_type": "display_data"
    },
    {
     "data": {
      "application/vnd.plotly.v1+json": {
       "data": [
        {
         "name": "Generacion",
         "type": "bar",
         "x": [
          "74281.963",
          "83070.997",
          "82359.38699999999",
          "75922.93199999999",
          "89598.51699999999",
          "89449.49699999999",
          "85841.09599999999",
          "73522.84400000001",
          "71274.86100000002",
          "72290.571",
          "70002.158",
          "72193.419"
         ],
         "y": [
          2329617.2980000004,
          2370071.3319999995,
          2577800.425,
          2487521.485,
          2275025.256,
          2781431.1280000005,
          2991283.9919999996,
          2920043.7939999993,
          2456561.955,
          2207613.297,
          2016277.7539999997,
          2336376.015
         ]
        },
        {
         "name": "Demanda",
         "type": "bar",
         "x": [
          "74281.963",
          "83070.997",
          "82359.38699999999",
          "75922.93199999999",
          "89598.51699999999",
          "89449.49699999999",
          "85841.09599999999",
          "73522.84400000001",
          "71274.86100000002",
          "72290.571",
          "70002.158",
          "72193.419"
         ],
         "y": [
          442676.722,
          404495.391,
          399112.191,
          341414.443,
          341659.083,
          381372.379,
          416035.901,
          484804.526,
          370020.846,
          375786.632,
          391953.037,
          429643.512
         ]
        }
       ],
       "layout": {
        "autosize": true,
        "barmode": "group",
        "xaxis": {
         "autorange": true,
         "range": [
          69953.582,
          89647.093
         ],
         "type": "linear"
        },
        "yaxis": {
         "autorange": true,
         "range": [
          0,
          3148719.991578947
         ],
         "type": "linear"
        }
       }
      },
      "image/png": "[encoded data removed]",
      "text/html": [
       "<div class=\"chart\" id=\"plot-03716279-a340-4bc1-b0a8-d98982de7eef\"></div>\n",
       "<script>require(['plotly'], function(Plotly) {\n",
       "  (function () {\n",
       "  var data0 = {\"x\":[\"74281.963\",\"83070.997\",\"82359.38699999999\",\"75922.93199999999\",\"89598.51699999999\",\"89449.49699999999\",\"85841.09599999999\",\"73522.84400000001\",\"71274.86100000002\",\"72290.571\",\"70002.158\",\"72193.419\"],\"name\":\"Generacion\",\"y\":[2329617.2980000004,2370071.3319999995,2577800.425,2487521.485,2275025.256,2781431.1280000005,2991283.9919999996,2920043.7939999993,2456561.955,2207613.297,2016277.7539999997,2336376.015],\"type\":\"bar\"};\n",
       "  var data1 = {\"x\":[\"74281.963\",\"83070.997\",\"82359.38699999999\",\"75922.93199999999\",\"89598.51699999999\",\"89449.49699999999\",\"85841.09599999999\",\"73522.84400000001\",\"71274.86100000002\",\"72290.571\",\"70002.158\",\"72193.419\"],\"name\":\"Demanda\",\"y\":[442676.722,404495.391,399112.191,341414.443,341659.083,381372.379,416035.901,484804.526,370020.846,375786.632,391953.037,429643.512],\"type\":\"bar\"};\n",
       "\n",
       "  var data = [data0, data1];\n",
       "  var layout = {\"barmode\":\"group\"};\n",
       "\n",
       "  Plotly.plot('plot-03716279-a340-4bc1-b0a8-d98982de7eef', data, layout);\n",
       "})();\n",
       "});\n",
       "      </script>\n",
       "           "
      ]
     },
     "metadata": {},
     "output_type": "display_data"
    },
    {
     "data": {
      "text/plain": [
       "\u001b[36mgeneracionAsturias\u001b[39m: \u001b[32mSeq\u001b[39m[\u001b[32mDouble\u001b[39m] = \u001b[33mWrappedArray\u001b[39m(\n",
       "  \u001b[32m2329617.2980000004\u001b[39m,\n",
       "  \u001b[32m2370071.3319999995\u001b[39m,\n",
       "  \u001b[32m2577800.425\u001b[39m,\n",
       "  \u001b[32m2487521.485\u001b[39m,\n",
       "  \u001b[32m2275025.256\u001b[39m,\n",
       "  \u001b[32m2781431.1280000005\u001b[39m,\n",
       "  \u001b[32m2991283.9919999996\u001b[39m,\n",
       "  \u001b[32m2920043.7939999993\u001b[39m,\n",
       "  \u001b[32m2456561.955\u001b[39m,\n",
       "  \u001b[32m2207613.297\u001b[39m,\n",
       "  \u001b[32m2016277.7539999997\u001b[39m,\n",
       "  \u001b[32m2336376.015\u001b[39m\n",
       ")\n",
       "\u001b[36mdemandaAsturias\u001b[39m: \u001b[32mSeq\u001b[39m[\u001b[32mDouble\u001b[39m] = \u001b[33mWrappedArray\u001b[39m(\n",
       "  \u001b[32m442676.722\u001b[39m,\n",
       "  \u001b[32m404495.391\u001b[39m,\n",
       "  \u001b[32m399112.191\u001b[39m,\n",
       "  \u001b[32m341414.443\u001b[39m,\n",
       "  \u001b[32m341659.083\u001b[39m,\n",
       "  \u001b[32m381372.379\u001b[39m,\n",
       "  \u001b[32m416035.901\u001b[39m,\n",
       "  \u001b[32m484804.526\u001b[39m,\n",
       "  \u001b[32m370020.846\u001b[39m,\n",
       "  \u001b[32m375786.632\u001b[39m,\n",
       "  \u001b[32m391953.037\u001b[39m,\n",
       "  \u001b[32m429643.512\u001b[39m\n",
       ")\n",
       "\u001b[36mGeneracionAsturias\u001b[39m: \u001b[32mBar\u001b[39m = \u001b[33mBar\u001b[39m(\n",
       "  \u001b[33mStrings\u001b[39m(\n",
       "    \u001b[33mWrappedArray\u001b[39m(\n",
       "      \u001b[32m\"74281.963\"\u001b[39m,\n",
       "      \u001b[32m\"83070.997\"\u001b[39m,\n",
       "      \u001b[32m\"82359.38699999999\"\u001b[39m,\n",
       "      \u001b[32m\"75922.93199999999\"\u001b[39m,\n",
       "      \u001b[32m\"89598.51699999999\"\u001b[39m,\n",
       "      \u001b[32m\"89449.49699999999\"\u001b[39m,\n",
       "      \u001b[32m\"85841.09599999999\"\u001b[39m,\n",
       "      \u001b[32m\"73522.84400000001\"\u001b[39m,\n",
       "      \u001b[32m\"71274.86100000002\"\u001b[39m,\n",
       "      \u001b[32m\"72290.571\"\u001b[39m,\n",
       "      \u001b[32m\"70002.158\"\u001b[39m,\n",
       "      \u001b[32m\"72193.419\"\u001b[39m\n",
       "    )\n",
       "  ),\n",
       "  \u001b[33mDoubles\u001b[39m(\n",
       "    \u001b[33mWrappedArray\u001b[39m(\n",
       "      \u001b[32m2329617.2980000004\u001b[39m,\n",
       "      \u001b[32m2370071.3319999995\u001b[39m,\n",
       "      \u001b[32m2577800.425\u001b[39m,\n",
       "      \u001b[32m2487521.485\u001b[39m,\n",
       "      \u001b[32m2275025.256\u001b[39m,\n",
       "      \u001b[32m2781431.1280000005\u001b[39m,\n",
       "      \u001b[32m2991283.9919999996\u001b[39m,\n",
       "      \u001b[32m2920043.7939999993\u001b[39m,\n",
       "      \u001b[32m2456561.955\u001b[39m,\n",
       "      \u001b[32m2207613.297\u001b[39m,\n",
       "      \u001b[32m2016277.7539999997\u001b[39m,\n",
       "      \u001b[32m2336376.015\u001b[39m\n",
       "    )\n",
       "  ),\n",
       "  \u001b[33mSome\u001b[39m(\u001b[32m\"Generacion\"\u001b[39m),\n",
       "  \u001b[32mNone\u001b[39m,\n",
       "  \u001b[32mNone\u001b[39m,\n",
       "  \u001b[32mNone\u001b[39m,\n",
       "  \u001b[32mNone\u001b[39m,\n",
       "  \u001b[32mNone\u001b[39m,\n",
       "...\n",
       "\u001b[36mDemandaAsturias\u001b[39m: \u001b[32mBar\u001b[39m = \u001b[33mBar\u001b[39m(\n",
       "  \u001b[33mStrings\u001b[39m(\n",
       "    \u001b[33mWrappedArray\u001b[39m(\n",
       "      \u001b[32m\"74281.963\"\u001b[39m,\n",
       "      \u001b[32m\"83070.997\"\u001b[39m,\n",
       "      \u001b[32m\"82359.38699999999\"\u001b[39m,\n",
       "      \u001b[32m\"75922.93199999999\"\u001b[39m,\n",
       "      \u001b[32m\"89598.51699999999\"\u001b[39m,\n",
       "      \u001b[32m\"89449.49699999999\"\u001b[39m,\n",
       "      \u001b[32m\"85841.09599999999\"\u001b[39m,\n",
       "      \u001b[32m\"73522.84400000001\"\u001b[39m,\n",
       "      \u001b[32m\"71274.86100000002\"\u001b[39m,\n",
       "      \u001b[32m\"72290.571\"\u001b[39m,\n",
       "      \u001b[32m\"70002.158\"\u001b[39m,\n",
       "      \u001b[32m\"72193.419\"\u001b[39m\n",
       "    )\n",
       "  ),\n",
       "  \u001b[33mDoubles\u001b[39m(\n",
       "    \u001b[33mWrappedArray\u001b[39m(\n",
       "      \u001b[32m442676.722\u001b[39m,\n",
       "      \u001b[32m404495.391\u001b[39m,\n",
       "      \u001b[32m399112.191\u001b[39m,\n",
       "      \u001b[32m341414.443\u001b[39m,\n",
       "      \u001b[32m341659.083\u001b[39m,\n",
       "      \u001b[32m381372.379\u001b[39m,\n",
       "      \u001b[32m416035.901\u001b[39m,\n",
       "      \u001b[32m484804.526\u001b[39m,\n",
       "      \u001b[32m370020.846\u001b[39m,\n",
       "      \u001b[32m375786.632\u001b[39m,\n",
       "      \u001b[32m391953.037\u001b[39m,\n",
       "      \u001b[32m429643.512\u001b[39m\n",
       "    )\n",
       "  ),\n",
       "  \u001b[33mSome\u001b[39m(\u001b[32m\"Demanda\"\u001b[39m),\n",
       "  \u001b[32mNone\u001b[39m,\n",
       "  \u001b[32mNone\u001b[39m,\n",
       "  \u001b[32mNone\u001b[39m,\n",
       "  \u001b[32mNone\u001b[39m,\n",
       "  \u001b[32mNone\u001b[39m,\n",
       "...\n",
       "\u001b[36mdata\u001b[39m: \u001b[32mSeq\u001b[39m[\u001b[32mBar\u001b[39m] = \u001b[33mList\u001b[39m(\n",
       "  \u001b[33mBar\u001b[39m(\n",
       "    \u001b[33mStrings\u001b[39m(\n",
       "      \u001b[33mWrappedArray\u001b[39m(\n",
       "        \u001b[32m\"74281.963\"\u001b[39m,\n",
       "        \u001b[32m\"83070.997\"\u001b[39m,\n",
       "        \u001b[32m\"82359.38699999999\"\u001b[39m,\n",
       "        \u001b[32m\"75922.93199999999\"\u001b[39m,\n",
       "        \u001b[32m\"89598.51699999999\"\u001b[39m,\n",
       "        \u001b[32m\"89449.49699999999\"\u001b[39m,\n",
       "        \u001b[32m\"85841.09599999999\"\u001b[39m,\n",
       "        \u001b[32m\"73522.84400000001\"\u001b[39m,\n",
       "        \u001b[32m\"71274.86100000002\"\u001b[39m,\n",
       "        \u001b[32m\"72290.571\"\u001b[39m,\n",
       "        \u001b[32m\"70002.158\"\u001b[39m,\n",
       "        \u001b[32m\"72193.419\"\u001b[39m\n",
       "      )\n",
       "    ),\n",
       "    \u001b[33mDoubles\u001b[39m(\n",
       "      \u001b[33mWrappedArray\u001b[39m(\n",
       "        \u001b[32m2329617.2980000004\u001b[39m,\n",
       "        \u001b[32m2370071.3319999995\u001b[39m,\n",
       "        \u001b[32m2577800.425\u001b[39m,\n",
       "        \u001b[32m2487521.485\u001b[39m,\n",
       "        \u001b[32m2275025.256\u001b[39m,\n",
       "        \u001b[32m2781431.1280000005\u001b[39m,\n",
       "        \u001b[32m2991283.9919999996\u001b[39m,\n",
       "        \u001b[32m2920043.7939999993\u001b[39m,\n",
       "        \u001b[32m2456561.955\u001b[39m,\n",
       "        \u001b[32m2207613.297\u001b[39m,\n",
       "        \u001b[32m2016277.7539999997\u001b[39m,\n",
       "        \u001b[32m2336376.015\u001b[39m\n",
       "      )\n",
       "    ),\n",
       "    \u001b[33mSome\u001b[39m(\u001b[32m\"Generacion\"\u001b[39m),\n",
       "    \u001b[32mNone\u001b[39m,\n",
       "    \u001b[32mNone\u001b[39m,\n",
       "    \u001b[32mNone\u001b[39m,\n",
       "    \u001b[32mNone\u001b[39m,\n",
       "...\n",
       "\u001b[36mlayout\u001b[39m: \u001b[32mLayout\u001b[39m = \u001b[33mLayout\u001b[39m(\n",
       "  \u001b[32mNone\u001b[39m,\n",
       "  \u001b[32mNone\u001b[39m,\n",
       "  \u001b[32mNone\u001b[39m,\n",
       "  \u001b[32mNone\u001b[39m,\n",
       "  \u001b[32mNone\u001b[39m,\n",
       "  \u001b[32mNone\u001b[39m,\n",
       "  \u001b[32mNone\u001b[39m,\n",
       "  \u001b[32mNone\u001b[39m,\n",
       "  \u001b[32mNone\u001b[39m,\n",
       "  \u001b[32mNone\u001b[39m,\n",
       "  \u001b[32mNone\u001b[39m,\n",
       "  \u001b[32mNone\u001b[39m,\n",
       "  \u001b[32mNone\u001b[39m,\n",
       "  \u001b[32mNone\u001b[39m,\n",
       "  \u001b[32mNone\u001b[39m,\n",
       "  \u001b[33mSome\u001b[39m(Group),\n",
       "  \u001b[32mNone\u001b[39m,\n",
       "  \u001b[32mNone\u001b[39m,\n",
       "  \u001b[32mNone\u001b[39m,\n",
       "  \u001b[32mNone\u001b[39m,\n",
       "  \u001b[32mNone\u001b[39m,\n",
       "  \u001b[32mNone\u001b[39m,\n",
       "  \u001b[32mNone\u001b[39m,\n",
       "  \u001b[32mNone\u001b[39m,\n",
       "  \u001b[32mNone\u001b[39m,\n",
       "  \u001b[32mNone\u001b[39m\n",
       ")\n",
       "\u001b[36mres11_6\u001b[39m: \u001b[32mString\u001b[39m = \u001b[32m\"plot-03716279-a340-4bc1-b0a8-d98982de7eef\"\u001b[39m"
      ]
     },
     "execution_count": 12,
     "metadata": {},
     "output_type": "execute_result"
    }
   ],
   "source": [
    "val generacionAsturias = dfFinalGeneracion23Asturias\n",
    "                .filter($\"TipoEnergia\" === \"Generación total\")\n",
    "                .select($\"value\").as[Double].collect.toSeq\n",
    "\n",
    "val demandaAsturias = dfFinalDemanda23Asturias\n",
    "                .select($\"value\").as[Double].collect.toSeq\n",
    "val GeneracionAsturias = Bar(\n",
    "  fecha,\n",
    "  generacionAsturias,\n",
    "  name = \"Generacion\"\n",
    ")\n",
    "\n",
    "val DemandaAsturias = Bar(\n",
    "  fecha,\n",
    "  demandaAsturias,\n",
    "  name = \"Demanda\"\n",
    ")\n",
    "\n",
    "val data = Seq(GeneracionAsturias, DemandaAsturias)\n",
    "\n",
    "val layout = Layout( \n",
    "  barmode = BarMode.Group\n",
    ")\n",
    "\n",
    "plot(data, layout)"
   ]
  },
  {
   "cell_type": "code",
   "execution_count": 28,
   "metadata": {},
   "outputs": [
    {
     "data": {
      "text/html": [
       "<div>\n",
       "  <span style=\"float: left;\">collect at cmd27.sc:8</span>\n",
       "</div>\n"
      ]
     },
     "metadata": {},
     "output_type": "display_data"
    },
    {
     "data": {
      "text/html": [
       "<div class=\"progress\">\n",
       "  <div class=\"progress-bar\" role=\"progressbar\" style=\"background-color: blue; width: 100%; word-wrap: normal; white-space: nowrap; text-align: center; color: white\" aria-valuenow=\"100\" aria-valuemin=\"0\" aria-valuemax=\"100\">\n",
       "    8 / 8\n",
       "  </div>\n",
       "  <div class=\"progress-bar\" role=\"progressbar\" style=\"background-color: red; width: 0%\" aria-valuenow=\"0\" aria-valuemin=\"0\" aria-valuemax=\"100\"></div>\n",
       "</div>\n"
      ]
     },
     "metadata": {},
     "output_type": "display_data"
    },
    {
     "data": {
      "text/html": [
       "<div>\n",
       "  <span style=\"float: left;\">collect at cmd27.sc:8</span>\n",
       "</div>\n"
      ]
     },
     "metadata": {},
     "output_type": "display_data"
    },
    {
     "data": {
      "text/html": [
       "<div class=\"progress\">\n",
       "  <div class=\"progress-bar\" role=\"progressbar\" style=\"background-color: blue; width: 100%; word-wrap: normal; white-space: nowrap; text-align: center; color: white\" aria-valuenow=\"100\" aria-valuemin=\"0\" aria-valuemax=\"100\">\n",
       "    200 / 200\n",
       "  </div>\n",
       "  <div class=\"progress-bar\" role=\"progressbar\" style=\"background-color: red; width: 0%\" aria-valuenow=\"0\" aria-valuemin=\"0\" aria-valuemax=\"100\"></div>\n",
       "</div>\n"
      ]
     },
     "metadata": {},
     "output_type": "display_data"
    },
    {
     "data": {
      "text/html": [
       "<div>\n",
       "  <span style=\"float: left;\">collect at cmd27.sc:11</span>\n",
       "</div>\n"
      ]
     },
     "metadata": {},
     "output_type": "display_data"
    },
    {
     "data": {
      "text/html": [
       "<div class=\"progress\">\n",
       "  <div class=\"progress-bar\" role=\"progressbar\" style=\"background-color: blue; width: 100%; word-wrap: normal; white-space: nowrap; text-align: center; color: white\" aria-valuenow=\"100\" aria-valuemin=\"0\" aria-valuemax=\"100\">\n",
       "    8 / 8\n",
       "  </div>\n",
       "  <div class=\"progress-bar\" role=\"progressbar\" style=\"background-color: red; width: 0%\" aria-valuenow=\"0\" aria-valuemin=\"0\" aria-valuemax=\"100\"></div>\n",
       "</div>\n"
      ]
     },
     "metadata": {},
     "output_type": "display_data"
    },
    {
     "data": {
      "text/html": [
       "<div>\n",
       "  <span style=\"float: left;\">collect at cmd27.sc:11</span>\n",
       "</div>\n"
      ]
     },
     "metadata": {},
     "output_type": "display_data"
    },
    {
     "data": {
      "text/html": [
       "<div class=\"progress\">\n",
       "  <div class=\"progress-bar\" role=\"progressbar\" style=\"background-color: blue; width: 100%; word-wrap: normal; white-space: nowrap; text-align: center; color: white\" aria-valuenow=\"100\" aria-valuemin=\"0\" aria-valuemax=\"100\">\n",
       "    200 / 200\n",
       "  </div>\n",
       "  <div class=\"progress-bar\" role=\"progressbar\" style=\"background-color: red; width: 0%\" aria-valuenow=\"0\" aria-valuemin=\"0\" aria-valuemax=\"100\"></div>\n",
       "</div>\n"
      ]
     },
     "metadata": {},
     "output_type": "display_data"
    },
    {
     "name": "stdout",
     "output_type": "stream",
     "text": [
      "67694.9875\n",
      "939808.2420000001\n",
      "145259.892\n",
      "146688.78999999998\n",
      "67694.9875\n",
      "421226.97199999995\n",
      "91242.613\n"
     ]
    },
    {
     "data": {
      "application/vnd.plotly.v1+json": {
       "data": [
        {
         "type": "bar",
         "x": [
          "Residuos renovables",
          "Generación total",
          "Solar fotovoltaica",
          "Otras renovables",
          "Residuos no renovables",
          "Cogeneración",
          "Hidráulica"
         ],
         "y": [
          67694.9875,
          939808.2420000001,
          145259.892,
          146688.78999999998,
          67694.9875,
          421226.97199999995,
          91242.613
         ]
        }
       ],
       "layout": {
        "autosize": true,
        "xaxis": {
         "autorange": true,
         "range": [
          -0.5,
          6.5
         ],
         "type": "category"
        },
        "yaxis": {
         "autorange": true,
         "range": [
          0,
          989271.8336842107
         ],
         "type": "linear"
        }
       }
      },
      "image/png": "[encoded data removed]",
      "text/html": [
       "<div class=\"chart\" id=\"plot-a9f8543b-8ccc-4a8f-914f-2ec5fbe5b05b\"></div>\n",
       "<script>require(['plotly'], function(Plotly) {\n",
       "  (function () {\n",
       "  var data0 = {\"x\":[\"Residuos renovables\",\"Generación total\",\"Solar fotovoltaica\",\"Otras renovables\",\"Residuos no renovables\",\"Cogeneración\",\"Hidráulica\"],\"y\":[67694.9875,939808.2420000001,145259.892,146688.78999999998,67694.9875,421226.97199999995,91242.613],\"type\":\"bar\"};\n",
       "\n",
       "  var data = [data0];\n",
       "  var layout = {};\n",
       "\n",
       "  Plotly.plot('plot-a9f8543b-8ccc-4a8f-914f-2ec5fbe5b05b', data, layout);\n",
       "})();\n",
       "});\n",
       "      </script>\n",
       "           "
      ]
     },
     "metadata": {},
     "output_type": "display_data"
    },
    {
     "data": {
      "text/plain": [
       "\u001b[36mdfGrouped\u001b[39m: \u001b[32mDataFrame\u001b[39m = [TipoEnergia: string, total_value: double]\n",
       "\u001b[36mtotalValues\u001b[39m: \u001b[32mSeq\u001b[39m[\u001b[32mDouble\u001b[39m] = \u001b[33mWrappedArray\u001b[39m(\n",
       "  \u001b[32m67694.9875\u001b[39m,\n",
       "  \u001b[32m939808.2420000001\u001b[39m,\n",
       "  \u001b[32m145259.892\u001b[39m,\n",
       "  \u001b[32m146688.78999999998\u001b[39m,\n",
       "  \u001b[32m67694.9875\u001b[39m,\n",
       "  \u001b[32m421226.97199999995\u001b[39m,\n",
       "  \u001b[32m91242.613\u001b[39m\n",
       ")\n",
       "\u001b[36mtipos\u001b[39m: \u001b[32mSeq\u001b[39m[\u001b[32mString\u001b[39m] = \u001b[33mWrappedArray\u001b[39m(\n",
       "  \u001b[32m\"Residuos renovables\"\u001b[39m,\n",
       "  \u001b[32m\"Generaci\\u00f3n total\"\u001b[39m,\n",
       "  \u001b[32m\"Solar fotovoltaica\"\u001b[39m,\n",
       "  \u001b[32m\"Otras renovables\"\u001b[39m,\n",
       "  \u001b[32m\"Residuos no renovables\"\u001b[39m,\n",
       "  \u001b[32m\"Cogeneraci\\u00f3n\"\u001b[39m,\n",
       "  \u001b[32m\"Hidr\\u00e1ulica\"\u001b[39m\n",
       ")\n",
       "\u001b[36mdata\u001b[39m: \u001b[32mSeq\u001b[39m[\u001b[32mBar\u001b[39m] = \u001b[33mList\u001b[39m(\n",
       "  \u001b[33mBar\u001b[39m(\n",
       "    \u001b[33mStrings\u001b[39m(\n",
       "      \u001b[33mWrappedArray\u001b[39m(\n",
       "        \u001b[32m\"Residuos renovables\"\u001b[39m,\n",
       "        \u001b[32m\"Generaci\\u00f3n total\"\u001b[39m,\n",
       "        \u001b[32m\"Solar fotovoltaica\"\u001b[39m,\n",
       "        \u001b[32m\"Otras renovables\"\u001b[39m,\n",
       "        \u001b[32m\"Residuos no renovables\"\u001b[39m,\n",
       "        \u001b[32m\"Cogeneraci\\u00f3n\"\u001b[39m,\n",
       "        \u001b[32m\"Hidr\\u00e1ulica\"\u001b[39m\n",
       "      )\n",
       "    ),\n",
       "    \u001b[33mDoubles\u001b[39m(\n",
       "      \u001b[33mWrappedArray\u001b[39m(\n",
       "        \u001b[32m67694.9875\u001b[39m,\n",
       "        \u001b[32m939808.2420000001\u001b[39m,\n",
       "        \u001b[32m145259.892\u001b[39m,\n",
       "        \u001b[32m146688.78999999998\u001b[39m,\n",
       "        \u001b[32m67694.9875\u001b[39m,\n",
       "        \u001b[32m421226.97199999995\u001b[39m,\n",
       "        \u001b[32m91242.613\u001b[39m\n",
       "      )\n",
       "    ),\n",
       "    \u001b[32mNone\u001b[39m,\n",
       "    \u001b[32mNone\u001b[39m,\n",
       "    \u001b[32mNone\u001b[39m,\n",
       "    \u001b[32mNone\u001b[39m,\n",
       "    \u001b[32mNone\u001b[39m,\n",
       "    \u001b[32mNone\u001b[39m,\n",
       "    \u001b[32mNone\u001b[39m,\n",
       "    \u001b[32mNone\u001b[39m,\n",
       "    \u001b[32mNone\u001b[39m,\n",
       "    \u001b[32mNone\u001b[39m,\n",
       "    \u001b[32mNone\u001b[39m,\n",
       "    \u001b[32mNone\u001b[39m,\n",
       "    \u001b[32mNone\u001b[39m\n",
       "  )\n",
       ")\n",
       "\u001b[36mres27_5\u001b[39m: \u001b[32mString\u001b[39m = \u001b[32m\"plot-a9f8543b-8ccc-4a8f-914f-2ec5fbe5b05b\"\u001b[39m"
      ]
     },
     "execution_count": 28,
     "metadata": {},
     "output_type": "execute_result"
    }
   ],
   "source": [
    "// Realizar el groupBy y sumar la columna \"value\"\n",
    "val dfGrouped = dfFinalGeneracion23Madrid\n",
    "  .groupBy($\"TipoEnergia\")\n",
    "  .agg(sum($\"value\").alias(\"total_value\"))\n",
    "\n",
    "// Seleccionar la columna \"total_value\" y convertirla a Seq[Double]\n",
    "val totalValues = dfGrouped\n",
    "  .select($\"total_value\")\n",
    "  .as[Double]\n",
    "  .collect()\n",
    "  .toSeq\n",
    "val tipos = dfFinalGeneracion23Madrid.select($\"TipoEnergia\").distinct().as[String].collect.toSeq\n",
    "// Mostrar los resultados\n",
    "totalValues.foreach(println)\n",
    "val data = Seq(\n",
    "  Bar(\n",
    "    tipos,\n",
    "    totalValues\n",
    "  )\n",
    ")\n",
    "\n",
    "plot(data)"
   ]
  },
  {
   "cell_type": "code",
   "execution_count": 27,
   "metadata": {},
   "outputs": [
    {
     "data": {
      "text/html": [
       "<div>\n",
       "  <span style=\"float: left;\">collect at cmd26.sc:1</span>\n",
       "</div>\n"
      ]
     },
     "metadata": {},
     "output_type": "display_data"
    },
    {
     "data": {
      "text/html": [
       "<div class=\"progress\">\n",
       "  <div class=\"progress-bar\" role=\"progressbar\" style=\"background-color: blue; width: 100%; word-wrap: normal; white-space: nowrap; text-align: center; color: white\" aria-valuenow=\"100\" aria-valuemin=\"0\" aria-valuemax=\"100\">\n",
       "    8 / 8\n",
       "  </div>\n",
       "  <div class=\"progress-bar\" role=\"progressbar\" style=\"background-color: red; width: 0%\" aria-valuenow=\"0\" aria-valuemin=\"0\" aria-valuemax=\"100\"></div>\n",
       "</div>\n"
      ]
     },
     "metadata": {},
     "output_type": "display_data"
    },
    {
     "data": {
      "text/html": [
       "<div>\n",
       "  <span style=\"float: left;\">collect at cmd26.sc:1</span>\n",
       "</div>\n"
      ]
     },
     "metadata": {},
     "output_type": "display_data"
    },
    {
     "data": {
      "text/html": [
       "<div class=\"progress\">\n",
       "  <div class=\"progress-bar\" role=\"progressbar\" style=\"background-color: blue; width: 100%; word-wrap: normal; white-space: nowrap; text-align: center; color: white\" aria-valuenow=\"100\" aria-valuemin=\"0\" aria-valuemax=\"100\">\n",
       "    200 / 200\n",
       "  </div>\n",
       "  <div class=\"progress-bar\" role=\"progressbar\" style=\"background-color: red; width: 0%\" aria-valuenow=\"0\" aria-valuemin=\"0\" aria-valuemax=\"100\"></div>\n",
       "</div>\n"
      ]
     },
     "metadata": {},
     "output_type": "display_data"
    },
    {
     "data": {
      "text/plain": [
       "\u001b[36mfechas\u001b[39m: \u001b[32mSeq\u001b[39m[\u001b[32mString\u001b[39m] = \u001b[33mWrappedArray\u001b[39m(\n",
       "  \u001b[32m\"Residuos renovables\"\u001b[39m,\n",
       "  \u001b[32m\"Generaci\\u00f3n total\"\u001b[39m,\n",
       "  \u001b[32m\"Solar fotovoltaica\"\u001b[39m,\n",
       "  \u001b[32m\"Otras renovables\"\u001b[39m,\n",
       "  \u001b[32m\"Residuos no renovables\"\u001b[39m,\n",
       "  \u001b[32m\"Cogeneraci\\u00f3n\"\u001b[39m,\n",
       "  \u001b[32m\"Hidr\\u00e1ulica\"\u001b[39m\n",
       ")"
      ]
     },
     "execution_count": 27,
     "metadata": {},
     "output_type": "execute_result"
    }
   ],
   "source": [
    "val fechas = dfFinalGeneracion23Madrid.select($\"TipoEnergia\").distinct().as[String].collect.toSeq"
   ]
  },
  {
   "cell_type": "code",
   "execution_count": 24,
   "metadata": {},
   "outputs": [
    {
     "data": {
      "text/html": [
       "<div>\n",
       "  <span style=\"float: left;\">show at cmd23.sc:1</span>\n",
       "</div>\n"
      ]
     },
     "metadata": {},
     "output_type": "display_data"
    },
    {
     "data": {
      "text/html": [
       "<div class=\"progress\">\n",
       "  <div class=\"progress-bar\" role=\"progressbar\" style=\"background-color: blue; width: 100%; word-wrap: normal; white-space: nowrap; text-align: center; color: white\" aria-valuenow=\"100\" aria-valuemin=\"0\" aria-valuemax=\"100\">\n",
       "    1 / 1\n",
       "  </div>\n",
       "  <div class=\"progress-bar\" role=\"progressbar\" style=\"background-color: red; width: 0%\" aria-valuenow=\"0\" aria-valuemin=\"0\" aria-valuemax=\"100\"></div>\n",
       "</div>\n"
      ]
     },
     "metadata": {},
     "output_type": "display_data"
    },
    {
     "data": {
      "text/html": [
       "<div>\n",
       "  <span style=\"float: left;\">show at cmd23.sc:1</span>\n",
       "</div>\n"
      ]
     },
     "metadata": {},
     "output_type": "display_data"
    },
    {
     "data": {
      "text/html": [
       "<div class=\"progress\">\n",
       "  <div class=\"progress-bar\" role=\"progressbar\" style=\"background-color: blue; width: 100%; word-wrap: normal; white-space: nowrap; text-align: center; color: white\" aria-valuenow=\"100\" aria-valuemin=\"0\" aria-valuemax=\"100\">\n",
       "    4 / 4\n",
       "  </div>\n",
       "  <div class=\"progress-bar\" role=\"progressbar\" style=\"background-color: red; width: 0%\" aria-valuenow=\"0\" aria-valuemin=\"0\" aria-valuemax=\"100\"></div>\n",
       "</div>\n"
      ]
     },
     "metadata": {},
     "output_type": "display_data"
    },
    {
     "data": {
      "text/html": [
       "<div>\n",
       "  <span style=\"float: left;\">show at cmd23.sc:1</span>\n",
       "</div>\n"
      ]
     },
     "metadata": {},
     "output_type": "display_data"
    },
    {
     "data": {
      "text/html": [
       "<div class=\"progress\">\n",
       "  <div class=\"progress-bar\" role=\"progressbar\" style=\"background-color: blue; width: 100%; word-wrap: normal; white-space: nowrap; text-align: center; color: white\" aria-valuenow=\"100\" aria-valuemin=\"0\" aria-valuemax=\"100\">\n",
       "    3 / 3\n",
       "  </div>\n",
       "  <div class=\"progress-bar\" role=\"progressbar\" style=\"background-color: red; width: 0%\" aria-valuenow=\"0\" aria-valuemin=\"0\" aria-valuemax=\"100\"></div>\n",
       "</div>\n"
      ]
     },
     "metadata": {},
     "output_type": "display_data"
    },
    {
     "name": "stdout",
     "output_type": "stream",
     "text": [
      "+------------------+--------------+--------------------+--------------------+---------+\n",
      "|       TipoEnergia|FamiliaEnergia|            datetime|          percentage|    value|\n",
      "+------------------+--------------+--------------------+--------------------+---------+\n",
      "|        Hidráulica|     Renovable|2023-01-01T00:00:...| 0.16735471839913546|12431.437|\n",
      "|        Hidráulica|     Renovable|2023-02-01T00:00:...| 0.10323562145281584| 8575.886|\n",
      "|        Hidráulica|     Renovable|2023-03-01T00:00:...| 0.08038810439422044| 6620.715|\n",
      "|        Hidráulica|     Renovable|2023-04-01T00:00:...| 0.08393761716157118|  6372.79|\n",
      "|        Hidráulica|     Renovable|2023-05-01T00:00:...| 0.06378713835185465| 5715.233|\n",
      "|        Hidráulica|     Renovable|2023-06-01T00:00:...| 0.07703910285823073| 6891.109|\n",
      "|        Hidráulica|     Renovable|2023-07-01T00:00:...|  0.1232040303865645|10575.969|\n",
      "|        Hidráulica|     Renovable|2023-08-01T00:00:...| 0.12774391589095763| 9392.096|\n",
      "|        Hidráulica|     Renovable|2023-09-01T00:00:...| 0.03735339448785455| 2662.358|\n",
      "|        Hidráulica|     Renovable|2023-10-01T00:00:...|0.043605963494187924|   3152.3|\n",
      "|        Hidráulica|     Renovable|2023-11-01T00:00:...| 0.12025007857614904| 8417.765|\n",
      "|        Hidráulica|     Renovable|2023-12-01T00:00:...| 0.14454163751407867|10434.955|\n",
      "|Solar fotovoltaica|     Renovable|2023-01-01T00:00:...| 0.06010157539859305| 4464.463|\n",
      "|Solar fotovoltaica|     Renovable|2023-02-01T00:00:...| 0.06677388258624126| 5546.973|\n",
      "|Solar fotovoltaica|     Renovable|2023-03-01T00:00:...| 0.09673408569687389|  7966.96|\n",
      "|Solar fotovoltaica|     Renovable|2023-04-01T00:00:...| 0.12112369422192497| 9196.066|\n",
      "|Solar fotovoltaica|     Renovable|2023-05-01T00:00:...| 0.09883489477844817|  8855.46|\n",
      "|Solar fotovoltaica|     Renovable|2023-06-01T00:00:...| 0.09589805742563315| 8578.033|\n",
      "|Solar fotovoltaica|     Renovable|2023-07-01T00:00:...| 0.24854158432459902|21335.082|\n",
      "|Solar fotovoltaica|     Renovable|2023-08-01T00:00:...| 0.31953515019087125|23493.133|\n",
      "+------------------+--------------+--------------------+--------------------+---------+\n",
      "only showing top 20 rows\n",
      "\n"
     ]
    }
   ],
   "source": [
    "dfFinalGeneracion23Madrid.show()"
   ]
  },
  {
   "cell_type": "code",
   "execution_count": null,
   "metadata": {},
   "outputs": [],
   "source": []
  }
 ],
 "metadata": {
  "kernelspec": {
   "display_name": "Scala 2.12",
   "language": "scala",
   "name": "scala212"
  },
  "language_info": {
   "codemirror_mode": "text/x-scala",
   "file_extension": ".scala",
   "mimetype": "text/x-scala",
   "name": "scala",
   "nbconvert_exporter": "script",
   "version": "2.12.10"
  }
 },
 "nbformat": 4,
 "nbformat_minor": 4
}
