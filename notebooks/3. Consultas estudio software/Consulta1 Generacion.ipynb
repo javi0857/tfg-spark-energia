{
 "cells": [
  {
   "cell_type": "code",
   "execution_count": 2,
   "metadata": {},
   "outputs": [
    {
     "data": {
      "text/html": [
       "Creating SparkSession\r\n"
      ]
     },
     "metadata": {},
     "output_type": "display_data"
    },
    {
     "data": {
      "text/html": [
       "<a target=\"_blank\" href=\"http://host.docker.internal:4040\">Spark UI</a>"
      ]
     },
     "metadata": {},
     "output_type": "display_data"
    },
    {
     "data": {
      "text/plain": [
       "\u001b[32mimport \u001b[39m\u001b[36m$ivy.$\u001b[39m\r\n",
       "\u001b[32mimport \u001b[39m\u001b[36morg.apache.spark.sql._\u001b[39m\r\n",
       "\u001b[32mimport \u001b[39m\u001b[36morg.apache.spark.sql.functions._\u001b[39m\r\n",
       "\u001b[32mimport \u001b[39m\u001b[36morg.apache.spark.sql.expressions.Window\u001b[39m\r\n",
       "\u001b[32mimport \u001b[39m\u001b[36morg.apache.log4j.{Level, Logger}\u001b[39m\r\n",
       "\u001b[32mimport \u001b[39m\u001b[36m$ivy.$\u001b[39m\r\n",
       "\u001b[32mimport \u001b[39m\u001b[36m$ivy.$\u001b[39m\r\n",
       "\u001b[32mimport \u001b[39m\u001b[36mplotly._, plotly.element._, plotly.layout._, plotly.Almond._\n",
       "\n",
       "\n",
       "//Iniciamos session de Spark\n",
       "\u001b[39m\r\n",
       "\u001b[36mspark\u001b[39m: \u001b[32mSparkSession\u001b[39m = org.apache.spark.sql.SparkSession@3830f81a\r\n",
       "\u001b[32mimport \u001b[39m\u001b[36mspark.implicits._\u001b[39m"
      ]
     },
     "execution_count": 2,
     "metadata": {},
     "output_type": "execute_result"
    }
   ],
   "source": [
    "import $ivy.`org.apache.spark::spark-sql:2.4.3`\n",
    "\n",
    "\n",
    "import org.apache.spark.sql._\n",
    "import org.apache.spark.sql.functions._\n",
    "import org.apache.spark.sql.expressions.Window\n",
    "\n",
    "\n",
    "\n",
    "//Reducir numero logs\n",
    "import org.apache.log4j.{Level, Logger}\n",
    "Logger.getLogger(\"org\").setLevel(Level.OFF)\n",
    "\n",
    "\n",
    "//For adding extra dependenies\n",
    "import $ivy.`org.typelevel::cats-core:1.6.0`\n",
    "\n",
    "//Plotly\n",
    "import $ivy.`org.plotly-scala::plotly-almond:0.8.3`\n",
    "import plotly._, plotly.element._, plotly.layout._, plotly.Almond._\n",
    "\n",
    "\n",
    "//Iniciamos session de Spark\n",
    "val spark = {\n",
    "  NotebookSparkSession.builder()\n",
    "     .master(\"local[*]\")\n",
    "    //.config(\"spark.executor.instances\", \"4\") // Número de ejecutores\n",
    "    //.config(\"spark.executor.memory\", \"4g\") // Memoria por ejecutor\n",
    "    //.config(\"spark.executor.cores\", \"2\") // Núcleos por ejecutor\n",
    "    //.config(\"spark.driver.memory\", \"4g\") // Memoria del driver\n",
    "    //.config(\"spark.sql.shuffle.partitions\", \"8\") // Número de particiones para operaciones de shuffle\n",
    "    .getOrCreate()\n",
    "}\n",
    "import spark.implicits._"
   ]
  },
  {
   "cell_type": "code",
   "execution_count": 7,
   "metadata": {},
   "outputs": [
    {
     "data": {
      "text/html": []
     },
     "metadata": {},
     "output_type": "display_data"
    },
    {
     "data": {
      "text/html": []
     },
     "metadata": {},
     "output_type": "display_data"
    },
    {
     "data": {
      "text/plain": [
       "\u001b[36mpathDatosConsulta1\u001b[39m: \u001b[32mString\u001b[39m = \u001b[32m\"../../data/parquet/dsDatosBalanceAnuales.parquet\"\u001b[39m\r\n",
       "\u001b[36mdatosConsulta1\u001b[39m: \u001b[32mDataFrame\u001b[39m = [Año: string, Familia: string ... 8 more fields]"
      ]
     },
     "execution_count": 7,
     "metadata": {},
     "output_type": "execute_result"
    }
   ],
   "source": [
    "val pathDatosConsulta1 = \"../../data/parquet/dsDatosBalanceAnuales.parquet\"\n",
    "\n",
    "\n",
    "val datosConsulta1: DataFrame = spark.read\n",
    "  //.option(\"header\", \"true\") // Si el archivo tiene un encabezado\n",
    "  //.option(\"inferSchema\", \"true\") // Para inferir automáticamente el esquema\n",
    "  //.csv(filePath)\n",
    "    .option(\"encoding\", \"UTF-8\")\n",
    "    .parquet(pathDatosConsulta1)"
   ]
  },
  {
   "cell_type": "code",
   "execution_count": 4,
   "metadata": {},
   "outputs": [
    {
     "data": {
      "text/html": []
     },
     "metadata": {},
     "output_type": "display_data"
    },
    {
     "data": {
      "text/html": []
     },
     "metadata": {},
     "output_type": "display_data"
    },
    {
     "name": "stdout",
     "output_type": "stream",
     "text": [
      "+----+------------+--------------------+---------+--------------+--------------------+---------------------------+-------------+--------------------+------------------------+\n",
      "| Año|     Familia|                Tipo|Compuesto|BajasEmisiones|          ValorAnual|PorcentajeAnualSobreFamilia|TotalGenerado|PorcentajeSobreTotal|PorcentajeBajasEmisiones|\n",
      "+----+------------+--------------------+---------+--------------+--------------------+---------------------------+-------------+--------------------+------------------------+\n",
      "|2011|   Renovable| Residuos renovables|    false|          true|   736055.7439999997|       0.009459560379872512|2.793538222E8|                0.26|                   50.71|\n",
      "|2011|No-Renovable|    Turbina de vapor|    false|         false|   2634295.117000001|       0.013977839024369875|2.793538222E8|                0.94|                   50.71|\n",
      "|2011|     Demanda|Saldo I. internac...|    false|         false|  -6090126.334000002|       0.023054055458754885|2.793538222E8|               -2.18|                   50.71|\n",
      "|2011|   Renovable|          Hidráulica|    false|          true|3.0437318139999997E7|          0.353651712693427|2.793538222E8|                10.9|                   50.71|\n",
      "|2011|No-Renovable|              Carbón|    false|         false| 4.317746437699999E7|          0.219277997213377|2.793538222E8|               15.46|                   50.71|\n",
      "|2011|No-Renovable|      Turbina de gas|    false|         false|   880242.2230000003|       0.004501197760453...|2.793538222E8|                0.32|                   50.71|\n",
      "|2011|No-Renovable|      Motores diésel|    false|         false|         3503397.878|       0.018612822588035986|2.793538222E8|                1.25|                   50.71|\n",
      "|2011|No-Renovable|  Turbinación bombeo|    false|         false|  2183536.2849999997|        0.01196169941128517|2.793538222E8|                0.78|                   50.71|\n",
      "|2011|   Renovable|              Eólica|    false|          true| 4.247725076900001E7|        0.46729178803185756|2.793538222E8|               15.21|                   50.71|\n",
      "|2011|No-Renovable|        Cogeneración|    false|         false| 3.059325172399998E7|        0.16220478545910286|2.793538222E8|               10.95|                   50.71|\n",
      "|2011|No-Renovable|Residuos no renov...|    false|         false|          1287770.48|       0.006858985122765094|2.793538222E8|                0.46|                   50.71|\n",
      "|2011|   Renovable|  Solar fotovoltaica|    false|          true|   7440752.380000002|        0.09726274943806447|2.793538222E8|                2.66|                   50.71|\n",
      "|2011|   Renovable|Generación renovable|     true|          true| 8.666705284999998E7|                        1.0|2.793538222E8|               31.02|                   50.71|\n",
      "|2011|   Renovable|       Solar térmica|    false|          true|  1861641.5490000006|       0.025228195392872164|2.793538222E8|                0.67|                   50.71|\n",
      "|2011|No-Renovable|     Ciclo combinado|    false|         false|5.3430948742000036E7|         0.2707201587685818|2.793538222E8|               19.13|                   50.71|\n",
      "|2011|     Demanda|     Demanda en b.c.|     true|         false|2.7002220096600026E8|                        1.0|2.793538222E8|               96.66|                   50.71|\n",
      "|2011|     Demanda|  Consumos en bombeo|    false|         false|  -3241494.899999998|       0.011438524787113028|2.793538222E8|               -1.16|                   50.71|\n",
      "|2011|   Renovable|    Otras renovables|    false|          true|         3714034.268|        0.04710599406390584|2.793538222E8|                1.33|                   50.71|\n",
      "|2011|No-Renovable|Generación no ren...|     true|         false| 1.926867693499999E8|                        1.0|2.793538222E8|               68.98|                   50.71|\n",
      "|2011|No-Renovable|             Nuclear|    false|          true| 5.500587486700001E7|        0.29182774181341176|2.793538222E8|               19.69|                   50.71|\n",
      "+----+------------+--------------------+---------+--------------+--------------------+---------------------------+-------------+--------------------+------------------------+\n",
      "only showing top 20 rows\n",
      "\n"
     ]
    }
   ],
   "source": [
    "datosConsulta1.show()"
   ]
  },
  {
   "cell_type": "markdown",
   "metadata": {},
   "source": [
    "### Datos anuales"
   ]
  },
  {
   "cell_type": "code",
   "execution_count": 5,
   "metadata": {},
   "outputs": [
    {
     "data": {
      "text/html": []
     },
     "metadata": {},
     "output_type": "display_data"
    },
    {
     "data": {
      "text/html": []
     },
     "metadata": {},
     "output_type": "display_data"
    },
    {
     "name": "stdout",
     "output_type": "stream",
     "text": [
      "+----+--------------------+--------------------+------------------------+--------------+\n",
      "| Año|                Tipo|PorcentajeSobreTotal|PorcentajeBajasEmisiones| TotalGenerado|\n",
      "+----+--------------------+--------------------+------------------------+--------------+\n",
      "|2011|Generación renovable|               31.02|                   50.71| 2.793538222E8|\n",
      "|2012|Generación renovable|               30.14|                   50.84|2.8311864375E8|\n",
      "|2013|Generación renovable|               40.16|                    60.0|2.7328624293E8|\n",
      "|2014|Generación renovable|               40.48|                   61.03|2.6651174852E8|\n",
      "|2015|Generación renovable|               35.18|                   55.62|2.6745384916E8|\n",
      "|2016|Generación renovable|               38.61|                    60.0| 2.618356915E8|\n",
      "|2017|Generación renovable|               32.26|                   53.43|2.6230575812E8|\n",
      "|2018|Generación renovable|               38.45|                   58.83|2.6098190204E8|\n",
      "|2019|Generación renovable|               37.54|                   58.94|2.6082883656E8|\n",
      "|2020|Generación renovable|                44.0|                   66.18|2.5139875006E8|\n",
      "|2021|Generación renovable|               46.71|                    67.5|2.6001118545E8|\n",
      "|2022|Generación renovable|               42.22|                   62.46|2.7636791677E8|\n",
      "|2023|Generación renovable|                50.4|                   70.71|2.6718413963E8|\n",
      "|2024|Generación renovable|               55.82|                   75.39|2.6598643173E8|\n",
      "|2011|Saldo I. internac...|               -2.18|                   50.71| 2.793538222E8|\n",
      "|2012|Saldo I. internac...|               -3.96|                   50.84|2.8311864375E8|\n",
      "|2013|Saldo I. internac...|               -2.46|                    60.0|2.7328624293E8|\n",
      "|2014|Saldo I. internac...|               -1.28|                   61.03|2.6651174852E8|\n",
      "|2015|Saldo I. internac...|               -0.05|                   55.62|2.6745384916E8|\n",
      "|2016|Saldo I. internac...|                2.92|                    60.0| 2.618356915E8|\n",
      "+----+--------------------+--------------------+------------------------+--------------+\n",
      "only showing top 20 rows\n",
      "\n"
     ]
    },
    {
     "data": {
      "text/plain": [
       "\u001b[36mevoluciónRenovablesAnual\u001b[39m: \u001b[32mDataset\u001b[39m[\u001b[32mRow\u001b[39m] = [Año: string, Tipo: string ... 3 more fields]"
      ]
     },
     "execution_count": 5,
     "metadata": {},
     "output_type": "execute_result"
    }
   ],
   "source": [
    "val evoluciónRenovablesAnual = datosConsulta1\n",
    "    .filter($\"Tipo\".isin(\"Generación renovable\", \"Saldo I. internacionales\"))\n",
    "    .select($\"Año\",$\"Tipo\", $\"PorcentajeSobreTotal\", $\"PorcentajeBajasEmisiones\", $\"TotalGenerado\")\n",
    "    .orderBy($\"Tipo\", $\"Año\")\n",
    "\n",
    "evoluciónRenovablesAnual.show()"
   ]
  },
  {
   "cell_type": "code",
   "execution_count": 6,
   "metadata": {},
   "outputs": [
    {
     "name": "stderr",
     "output_type": "stream",
     "text": [
      "cmd6.sc:52: method apply in object Marker is deprecated (since 0.8.0): Use Marker() and chain-call .with* methods on it instead\n",
      "        marker = Marker(color = Color.RGBA(50, 205, 50, 0.6)),\n",
      "                 ^\n",
      "cmd6.sc:48: method apply in object Bar is deprecated (since 0.8.0): Use Bar() and chain-call .with* methods on it instead\n",
      "    val traceRenovables = Bar(\n",
      "                          ^\n",
      "cmd6.sc:61: method apply in object Marker is deprecated (since 0.8.0): Use Marker() and chain-call .with* methods on it instead\n",
      "        marker = Marker(color = Color.RGBA(118, 116, 115, 0.6)),\n",
      "                 ^\n",
      "cmd6.sc:57: method apply in object Bar is deprecated (since 0.8.0): Use Bar() and chain-call .with* methods on it instead\n",
      "    val traceNoRenovables = Bar(\n",
      "                            ^\n",
      "cmd6.sc:66: method apply in object Scatter is deprecated (since 0.8.0): Use Scatter() and chain-call .with* methods on it instead\n",
      "    val traceGeneracionTotal = Scatter(\n",
      "                               ^\n",
      "cmd6.sc:75: method apply in object Axis is deprecated (since 0.8.0): Use Axis() and chain-call .with* methods on it instead\n",
      "      xaxis = Axis(title = \"Año\"),\n",
      "              ^\n",
      "cmd6.sc:76: method apply in object Axis is deprecated (since 0.8.0): Use Axis() and chain-call .with* methods on it instead\n",
      "      yaxis = Axis(title = \"Energía Generada (MWh)\")\n",
      "              ^\n",
      "cmd6.sc:72: method apply in object Layout is deprecated (since 0.8.0): Use Layout() and chain-call .with* methods on it instead\n",
      "    val layout = Layout(\n",
      "                 ^\n"
     ]
    },
    {
     "data": {
      "text/html": []
     },
     "metadata": {},
     "output_type": "display_data"
    },
    {
     "data": {
      "text/html": []
     },
     "metadata": {},
     "output_type": "display_data"
    },
    {
     "data": {
      "text/html": []
     },
     "metadata": {},
     "output_type": "display_data"
    },
    {
     "data": {
      "text/html": []
     },
     "metadata": {},
     "output_type": "display_data"
    },
    {
     "data": {
      "text/html": []
     },
     "metadata": {},
     "output_type": "display_data"
    },
    {
     "data": {
      "text/html": []
     },
     "metadata": {},
     "output_type": "display_data"
    },
    {
     "data": {
      "text/html": []
     },
     "metadata": {},
     "output_type": "display_data"
    },
    {
     "data": {
      "text/html": []
     },
     "metadata": {},
     "output_type": "display_data"
    },
    {
     "data": {
      "text/html": []
     },
     "metadata": {},
     "output_type": "display_data"
    },
    {
     "data": {
      "text/html": []
     },
     "metadata": {},
     "output_type": "display_data"
    },
    {
     "data": {
      "text/html": []
     },
     "metadata": {},
     "output_type": "display_data"
    },
    {
     "data": {
      "text/html": []
     },
     "metadata": {},
     "output_type": "display_data"
    },
    {
     "data": {
      "text/html": []
     },
     "metadata": {},
     "output_type": "display_data"
    },
    {
     "data": {
      "text/html": []
     },
     "metadata": {},
     "output_type": "display_data"
    },
    {
     "data": {
      "text/html": []
     },
     "metadata": {},
     "output_type": "display_data"
    },
    {
     "data": {
      "text/html": []
     },
     "metadata": {},
     "output_type": "display_data"
    },
    {
     "data": {
      "text/html": []
     },
     "metadata": {},
     "output_type": "display_data"
    },
    {
     "data": {
      "text/html": []
     },
     "metadata": {},
     "output_type": "display_data"
    },
    {
     "data": {
      "text/html": []
     },
     "metadata": {},
     "output_type": "display_data"
    },
    {
     "data": {
      "text/html": []
     },
     "metadata": {},
     "output_type": "display_data"
    },
    {
     "data": {
      "text/html": []
     },
     "metadata": {},
     "output_type": "display_data"
    },
    {
     "data": {
      "text/html": []
     },
     "metadata": {},
     "output_type": "display_data"
    },
    {
     "data": {
      "text/html": []
     },
     "metadata": {},
     "output_type": "display_data"
    },
    {
     "data": {
      "text/html": []
     },
     "metadata": {},
     "output_type": "display_data"
    },
    {
     "data": {
      "text/html": []
     },
     "metadata": {},
     "output_type": "display_data"
    },
    {
     "data": {
      "text/html": []
     },
     "metadata": {},
     "output_type": "display_data"
    },
    {
     "data": {
      "text/html": []
     },
     "metadata": {},
     "output_type": "display_data"
    },
    {
     "data": {
      "text/html": []
     },
     "metadata": {},
     "output_type": "display_data"
    },
    {
     "data": {
      "text/html": []
     },
     "metadata": {},
     "output_type": "display_data"
    },
    {
     "data": {
      "text/html": []
     },
     "metadata": {},
     "output_type": "display_data"
    },
    {
     "data": {
      "text/html": []
     },
     "metadata": {},
     "output_type": "display_data"
    },
    {
     "data": {
      "text/html": []
     },
     "metadata": {},
     "output_type": "display_data"
    },
    {
     "data": {
      "text/html": []
     },
     "metadata": {},
     "output_type": "display_data"
    },
    {
     "data": {
      "text/html": []
     },
     "metadata": {},
     "output_type": "display_data"
    },
    {
     "data": {
      "text/html": []
     },
     "metadata": {},
     "output_type": "display_data"
    },
    {
     "data": {
      "text/html": []
     },
     "metadata": {},
     "output_type": "display_data"
    },
    {
     "data": {
      "text/html": []
     },
     "metadata": {},
     "output_type": "display_data"
    },
    {
     "data": {
      "text/html": []
     },
     "metadata": {},
     "output_type": "display_data"
    },
    {
     "data": {
      "text/html": [
       "\n",
       "      <script type=\"text/javascript\">\n",
       "        require.config({\n",
       "  paths: {\n",
       "    d3: 'https://cdnjs.cloudflare.com/ajax/libs/d3/3.5.17/d3.min',\n",
       "    plotly: 'https://cdn.plot.ly/plotly-1.54.1.min',\n",
       "    jquery: 'https://code.jquery.com/jquery-3.3.1.min'\n",
       "  },\n",
       "\n",
       "  shim: {\n",
       "    plotly: {\n",
       "      deps: ['d3', 'jquery'],\n",
       "      exports: 'plotly'\n",
       "    }\n",
       "  }\n",
       "});\n",
       "        \n",
       "\n",
       "        require(['plotly'], function(Plotly) {\n",
       "          window.Plotly = Plotly;\n",
       "        });\n",
       "      </script>\n",
       "    "
      ]
     },
     "metadata": {},
     "output_type": "display_data"
    },
    {
     "data": {
      "application/vnd.plotly.v1+json": {
       "config": {},
       "data": [
        {
         "hoverinfo": "text",
         "marker": {
          "color": "rgba(50, 205, 50, 0.6)"
         },
         "name": "Generación Renovable",
         "text": [
          "31,02%",
          "30,14%",
          "40,16%",
          "40,48%",
          "35,18%",
          "38,61%",
          "32,26%",
          "38,45%",
          "37,54%",
          "44,00%",
          "46,71%",
          "42,22%",
          "50,40%",
          "55,82%"
         ],
         "type": "bar",
         "x": [
          "2011",
          "2012",
          "2013",
          "2014",
          "2015",
          "2016",
          "2017",
          "2018",
          "2019",
          "2020",
          "2021",
          "2022",
          "2023",
          "2024"
         ],
         "y": [
          86667052.84999998,
          85338722.75199999,
          109757657.64349996,
          107876133.6995,
          94088112.95749995,
          101089169.18450001,
          84610866.48700011,
          100344405.21300003,
          97913298.82000001,
          110605198.343,
          121459146.31000003,
          116695210.76699996,
          134648964.26399994,
          148478294.94799998
         ]
        },
        {
         "hoverinfo": "text",
         "marker": {
          "color": "rgba(118, 116, 115, 0.6)"
         },
         "name": "Generación No Renovable",
         "text": [
          "68,98%",
          "69,86%",
          "59,84%",
          "59,52%",
          "64,82%",
          "61,39%",
          "67,74%",
          "61,55%",
          "62,46%",
          "56,00%",
          "53,29%",
          "57,78%",
          "49,60%",
          "44,18%"
         ],
         "type": "bar",
         "x": [
          "2011",
          "2012",
          "2013",
          "2014",
          "2015",
          "2016",
          "2017",
          "2018",
          "2019",
          "2020",
          "2021",
          "2022",
          "2023",
          "2024"
         ],
         "y": [
          192686769.3499999,
          197779920.99999997,
          163528585.28650007,
          158635614.8234999,
          173365736.20050007,
          160746522.31649998,
          177694891.63200006,
          160637496.82499987,
          162915537.73900014,
          140793551.715,
          138552039.13699993,
          159672706.00099993,
          132535175.36899999,
          117508136.78600003
         ]
        },
        {
         "name": "Producción Total",
         "type": "scatter",
         "x": [
          "2011",
          "2012",
          "2013",
          "2014",
          "2015",
          "2016",
          "2017",
          "2018",
          "2019",
          "2020",
          "2021",
          "2022",
          "2023",
          "2024"
         ],
         "y": [
          279353822.2,
          283118643.75,
          273286242.93,
          266511748.52,
          267453849.16,
          261835691.5,
          262305758.12,
          260981902.04,
          260828836.56,
          251398750.06,
          260011185.45,
          276367916.77,
          267184139.63,
          265986431.73
         ]
        }
       ],
       "layout": {
        "autosize": true,
        "barmode": "stack",
        "title": {
         "text": "Generación de Energía por Año"
        },
        "xaxis": {
         "autorange": true,
         "range": [
          2010.2076046119964,
          2024.7923953880036
         ],
         "title": {
          "text": "Año"
         },
         "type": "linear"
        },
        "yaxis": {
         "autorange": true,
         "range": [
          0,
          304701679.37219733
         ],
         "title": {
          "text": "Energía Generada (MWh)"
         },
         "type": "linear"
        }
       }
      },
      "image/png": "[encoded data removed]",
      "text/html": [
       "<div class=\"chart\" id=\"plot-cfd5ac19-4214-4508-8a0f-ed7c8ebb5d98\"></div>\n",
       "<script>require(['plotly'], function(Plotly) {\n",
       "  (function () {\n",
       "  var data0 = {\"x\":[\"2011\",\"2012\",\"2013\",\"2014\",\"2015\",\"2016\",\"2017\",\"2018\",\"2019\",\"2020\",\"2021\",\"2022\",\"2023\",\"2024\"],\"name\":\"Generación Renovable\",\"hoverinfo\":\"text\",\"y\":[8.666705284999998E7,8.533872275199999E7,1.0975765764349996E8,1.078761336995E8,9.408811295749995E7,1.0108916918450001E8,8.461086648700011E7,1.0034440521300003E8,9.791329882000001E7,1.10605198343E8,1.2145914631000003E8,1.1669521076699996E8,1.3464896426399994E8,1.4847829494799998E8],\"marker\":{\"color\":\"rgba(50, 205, 50, 0.6)\"},\"text\":[\"31,02%\",\"30,14%\",\"40,16%\",\"40,48%\",\"35,18%\",\"38,61%\",\"32,26%\",\"38,45%\",\"37,54%\",\"44,00%\",\"46,71%\",\"42,22%\",\"50,40%\",\"55,82%\"],\"type\":\"bar\"};\n",
       "  var data1 = {\"x\":[\"2011\",\"2012\",\"2013\",\"2014\",\"2015\",\"2016\",\"2017\",\"2018\",\"2019\",\"2020\",\"2021\",\"2022\",\"2023\",\"2024\"],\"name\":\"Generación No Renovable\",\"hoverinfo\":\"text\",\"y\":[1.926867693499999E8,1.9777992099999997E8,1.6352858528650007E8,1.586356148234999E8,1.7336573620050007E8,1.6074652231649998E8,1.7769489163200006E8,1.6063749682499987E8,1.6291553773900014E8,1.40793551715E8,1.3855203913699993E8,1.5967270600099993E8,1.3253517536899999E8,1.1750813678600003E8],\"marker\":{\"color\":\"rgba(118, 116, 115, 0.6)\"},\"text\":[\"68,98%\",\"69,86%\",\"59,84%\",\"59,52%\",\"64,82%\",\"61,39%\",\"67,74%\",\"61,55%\",\"62,46%\",\"56,00%\",\"53,29%\",\"57,78%\",\"49,60%\",\"44,18%\"],\"type\":\"bar\"};\n",
       "  var data2 = {\"x\":[\"2011\",\"2012\",\"2013\",\"2014\",\"2015\",\"2016\",\"2017\",\"2018\",\"2019\",\"2020\",\"2021\",\"2022\",\"2023\",\"2024\"],\"name\":\"Producción Total\",\"y\":[2.793538222E8,2.8311864375E8,2.7328624293E8,2.6651174852E8,2.6745384916E8,2.618356915E8,2.6230575812E8,2.6098190204E8,2.6082883656E8,2.5139875006E8,2.6001118545E8,2.7636791677E8,2.6718413963E8,2.6598643173E8],\"type\":\"scatter\"};\n",
       "\n",
       "  var data = [data0, data1, data2];\n",
       "  var layout = {\"barmode\":\"stack\",\"title\":\"Generación de Energía por Año\",\"yaxis\":{\"title\":\"Energía Generada (MWh)\"},\"xaxis\":{\"title\":\"Año\"}};\n",
       " var config = {};\n",
       "\n",
       "  Plotly.plot('plot-cfd5ac19-4214-4508-8a0f-ed7c8ebb5d98', data, layout, config);\n",
       "})();\n",
       "});\n",
       "      </script>\n",
       "           "
      ]
     },
     "metadata": {},
     "output_type": "display_data"
    },
    {
     "data": {
      "text/plain": [
       "defined \u001b[32mfunction\u001b[39m \u001b[36manalisisAnual\u001b[39m"
      ]
     },
     "execution_count": 6,
     "metadata": {},
     "output_type": "execute_result"
    }
   ],
   "source": [
    "def analisisAnual(df: DataFrame): Unit = {\n",
    "\n",
    "    val años = df.select(\"Año\").distinct().orderBy(\"Año\").as[String].collect.toSeq\n",
    "\n",
    "    val renovables = df\n",
    "        .filter($\"Tipo\" === \"Generación renovable\")\n",
    "        .orderBy(\"Año\")\n",
    "        .select(\"ValorAnual\")\n",
    "        .as[Double]\n",
    "        .collect\n",
    "        .toSeq\n",
    "\n",
    "    val noRenovables = df\n",
    "        .filter($\"Tipo\" === \"Generación no renovable\")\n",
    "        .orderBy(\"Año\")\n",
    "        .select(\"ValorAnual\")\n",
    "        .as[Double]\n",
    "        .collect\n",
    "        .toSeq\n",
    "\n",
    "    val totalGenerado = df\n",
    "        .filter($\"Tipo\" === \"Generación renovable\")\n",
    "        .orderBy(\"Año\")\n",
    "        .select(\"TotalGenerado\")\n",
    "        .as[Double]\n",
    "        .collect\n",
    "        .toSeq\n",
    "    \n",
    "    val porcentajeRenovables = df\n",
    "        .filter($\"Tipo\" === \"Generación renovable\")\n",
    "        .orderBy(\"Año\")\n",
    "        .select(\"PorcentajeSobreTotal\")\n",
    "        .as[Double]\n",
    "        .collect\n",
    "        .toSeq\n",
    "        .map(p => f\"$p%.2f%%\") \n",
    "\n",
    "    val porcentajeNoRenovables = df\n",
    "        .filter($\"Tipo\" === \"Generación no renovable\")\n",
    "        .orderBy(\"Año\")\n",
    "        .select(\"PorcentajeSobreTotal\")\n",
    "        .as[Double]\n",
    "        .collect\n",
    "        .toSeq\n",
    "        .map(p => f\"$p%.2f%%\") \n",
    "\n",
    "\n",
    "    val traceRenovables = Bar(\n",
    "        x = años,\n",
    "        y = renovables,\n",
    "        name = \"Generación Renovable\",\n",
    "        marker = Marker(color = Color.RGBA(50, 205, 50, 0.6)),\n",
    "        text = porcentajeRenovables,\n",
    "        hoverinfo = HoverInfo.Text\n",
    "    )\n",
    "\n",
    "    val traceNoRenovables = Bar(\n",
    "        x = años,\n",
    "        y = noRenovables,\n",
    "        name = \"Generación No Renovable\",\n",
    "        marker = Marker(color = Color.RGBA(118, 116, 115, 0.6)),\n",
    "        text = porcentajeNoRenovables,\n",
    "        hoverinfo = HoverInfo.Text\n",
    "    )\n",
    "\n",
    "    val traceGeneracionTotal = Scatter(\n",
    "            años, \n",
    "            totalGenerado, \n",
    "            name = \"Producción Total\"\n",
    "    )\n",
    "\n",
    "    val layout = Layout(\n",
    "      title = \"Generación de Energía por Año\",\n",
    "      barmode = BarMode.Stack,\n",
    "      xaxis = Axis(title = \"Año\"),\n",
    "      yaxis = Axis(title = \"Energía Generada (MWh)\")\n",
    "    )\n",
    "\n",
    "    val data = Seq(traceRenovables, traceNoRenovables, traceGeneracionTotal)\n",
    "    plot(data, layout)\n",
    "}\n",
    "analisisAnual(datosConsulta1)"
   ]
  },
  {
   "cell_type": "code",
   "execution_count": 10,
   "metadata": {},
   "outputs": [
    {
     "name": "stderr",
     "output_type": "stream",
     "text": [
      "cmd10.sc:26: method apply in object Scatter is deprecated (since 0.8.0): Use Scatter() and chain-call .with* methods on it instead\n",
      "val traceRenovables = Scatter(\n",
      "                      ^\n",
      "cmd10.sc:36: method apply in object Axis is deprecated (since 0.8.0): Use Axis() and chain-call .with* methods on it instead\n",
      "  xaxis = Axis(title = \"Año\"),\n",
      "          ^\n",
      "cmd10.sc:37: method apply in object Axis is deprecated (since 0.8.0): Use Axis() and chain-call .with* methods on it instead\n",
      "  yaxis = Axis(\n",
      "          ^\n",
      "cmd10.sc:34: method apply in object Layout is deprecated (since 0.8.0): Use Layout() and chain-call .with* methods on it instead\n",
      "val layout = Layout(\n",
      "             ^\n"
     ]
    },
    {
     "data": {
      "text/html": []
     },
     "metadata": {},
     "output_type": "display_data"
    },
    {
     "data": {
      "text/html": []
     },
     "metadata": {},
     "output_type": "display_data"
    },
    {
     "data": {
      "text/html": []
     },
     "metadata": {},
     "output_type": "display_data"
    },
    {
     "data": {
      "text/html": []
     },
     "metadata": {},
     "output_type": "display_data"
    },
    {
     "data": {
      "text/html": []
     },
     "metadata": {},
     "output_type": "display_data"
    },
    {
     "data": {
      "text/html": []
     },
     "metadata": {},
     "output_type": "display_data"
    },
    {
     "data": {
      "text/html": []
     },
     "metadata": {},
     "output_type": "display_data"
    },
    {
     "data": {
      "text/html": []
     },
     "metadata": {},
     "output_type": "display_data"
    },
    {
     "data": {
      "text/html": []
     },
     "metadata": {},
     "output_type": "display_data"
    },
    {
     "data": {
      "text/html": []
     },
     "metadata": {},
     "output_type": "display_data"
    },
    {
     "data": {
      "text/html": []
     },
     "metadata": {},
     "output_type": "display_data"
    },
    {
     "data": {
      "text/html": []
     },
     "metadata": {},
     "output_type": "display_data"
    },
    {
     "data": {
      "application/vnd.plotly.v1+json": {
       "config": {},
       "data": [
        {
         "name": "Porcentaje Renovable",
         "type": "scatter",
         "x": [
          2011,
          2012,
          2013,
          2014,
          2015,
          2016,
          2017,
          2018,
          2019,
          2020,
          2021,
          2022,
          2023,
          2024
         ],
         "y": [
          31,
          30,
          40,
          40,
          35,
          38,
          32,
          38,
          37,
          44,
          46,
          42,
          50,
          55
         ]
        }
       ],
       "layout": {
        "autosize": true,
        "title": {
         "text": "Porcentaje de Generación Renovable (2011-2024)"
        },
        "xaxis": {
         "autorange": true,
         "range": [
          2010.217991169978,
          2024.782008830022
         ],
         "title": {
          "text": "Año"
         },
         "type": "linear"
        },
        "yaxis": {
         "autorange": true,
         "range": [
          27.936893203883496,
          57.06310679611651
         ],
         "title": {
          "text": "Porcentaje Renovable (%)"
         },
         "type": "linear"
        }
       }
      },
      "image/png": "[encoded data removed]",
      "text/html": [
       "<div class=\"chart\" id=\"plot-637ca3a1-97a0-4aaf-8989-234326f8536e\"></div>\n",
       "<script>require(['plotly'], function(Plotly) {\n",
       "  (function () {\n",
       "  var data0 = {\"x\":[2011.0,2012.0,2013.0,2014.0,2015.0,2016.0,2017.0,2018.0,2019.0,2020.0,2021.0,2022.0,2023.0,2024.0],\"name\":\"Porcentaje Renovable\",\"y\":[31.0,30.0,40.0,40.0,35.0,38.0,32.0,38.0,37.0,44.0,46.0,42.0,50.0,55.0],\"type\":\"scatter\"};\n",
       "\n",
       "  var data = [data0];\n",
       "  var layout = {\"title\":\"Porcentaje de Generación Renovable (2011-2024)\",\"yaxis\":{\"title\":\"Porcentaje Renovable (%)\"},\"xaxis\":{\"title\":\"Año\"}};\n",
       " var config = {};\n",
       "\n",
       "  Plotly.plot('plot-637ca3a1-97a0-4aaf-8989-234326f8536e', data, layout, config);\n",
       "})();\n",
       "});\n",
       "      </script>\n",
       "           "
      ]
     },
     "metadata": {},
     "output_type": "display_data"
    },
    {
     "data": {
      "text/plain": [
       "defined \u001b[32mfunction\u001b[39m \u001b[36mgraficaAnual\u001b[39m"
      ]
     },
     "execution_count": 10,
     "metadata": {},
     "output_type": "execute_result"
    }
   ],
   "source": [
    "def graficaAnual: Unit = {\n",
    "val porcentajeLimpiasAnual = datosConsulta1\n",
    "    .filter($\"Tipo\" === \"Generación renovable\")\n",
    "    .withColumn(\"PorcentajeRedondeado\", round($\"PorcentajeSobreTotal\", 2).cast(\"Int\"))\n",
    "    .withColumn(\"AñoInt\", year($\"Año\")) // Extraer el año como entero\n",
    "    .select($\"AñoInt\",$\"Tipo\", $\"TotalGenerado\", $\"Porcentajeredondeado\")\n",
    "    .orderBy($\"AñoInt\")\n",
    "\n",
    "\n",
    "// Extraer la variable años\n",
    "val años = porcentajeLimpiasAnual\n",
    "   // Filtrar solo \"Generación renovable\"\n",
    "  .select($\"AñoInt\") // Seleccionar la columna Año\n",
    "  .as[Int] // Convertir directamente a Int\n",
    "  .collect() // Recolectar los datos en el driver\n",
    "  .toSeq // Convertir a Seq\n",
    "\n",
    "// Extraer la variable renovables como Int\n",
    "val renovables = porcentajeLimpiasAnual // Filtrar solo \"Generación renovable\"\n",
    "  .select($\"Porcentajeredondeado\") // Seleccionar la columna Porcentajeredondeado\n",
    "  .as[Int] // Forzar la conversión a Int\n",
    "  .collect() // Recolectar los datos en el driver\n",
    "  .toSeq // Convertir a Seq\n",
    "\n",
    "// Crear el Scatter para la gráfica lineal\n",
    "val traceRenovables = Scatter(\n",
    "  años, \n",
    "  renovables, \n",
    "  //mode = ScatterMode(ScatterMode.Lines + ScatterMode.Markers), // Gráfica con líneas y puntos\n",
    "  name = \"Porcentaje Renovable\"\n",
    ")\n",
    "\n",
    "// Configuración del Layout\n",
    "val layout = Layout(\n",
    "  title = \"Porcentaje de Generación Renovable (2011-2024)\",\n",
    "  xaxis = Axis(title = \"Año\"),\n",
    "  yaxis = Axis(\n",
    "      title = \"Porcentaje Renovable (%)\"\n",
    "  )\n",
    ")\n",
    "\n",
    "// Graficar\n",
    "val data = Seq(traceRenovables)\n",
    "plot(data,layout)\n",
    "    \n",
    "}\n",
    "graficaAnual"
   ]
  },
  {
   "cell_type": "code",
   "execution_count": null,
   "metadata": {},
   "outputs": [],
   "source": []
  }
 ],
 "metadata": {
  "kernelspec": {
   "display_name": "Scala (2.12)",
   "language": "scala",
   "name": "scala212"
  },
  "language_info": {
   "codemirror_mode": "text/x-scala",
   "file_extension": ".sc",
   "mimetype": "text/x-scala",
   "name": "scala",
   "nbconvert_exporter": "script",
   "version": "2.12.19"
  }
 },
 "nbformat": 4,
 "nbformat_minor": 4
}
